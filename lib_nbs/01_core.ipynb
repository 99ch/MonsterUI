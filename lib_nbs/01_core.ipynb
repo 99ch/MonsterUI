{
 "cells": [
  {
   "cell_type": "markdown",
   "metadata": {},
   "source": [
    "# Core\n",
    "\n",
    "> The building blocks to the UI"
   ]
  },
  {
   "cell_type": "markdown",
   "metadata": {},
   "source": [
    "## Imports"
   ]
  },
  {
   "cell_type": "markdown",
   "metadata": {},
   "source": [
    "\n"
   ]
  },
  {
   "cell_type": "code",
   "execution_count": 55,
   "metadata": {},
   "outputs": [],
   "source": [
    "#| default_exp core"
   ]
  },
  {
   "cell_type": "code",
   "execution_count": 56,
   "metadata": {},
   "outputs": [],
   "source": [
    "#| hide\n",
    "#| export\n",
    "import fasthtml.common as fh\n",
    "from fasthtml.common import is_listy, Div, P, Span, Script, FastHTML, FT, to_xml\n",
    "from fasthtml.svg import Svg\n",
    "from enum import Enum\n",
    "from fasthtml.components import Uk_select,Uk_input_tag\n",
    "from functools import partial\n",
    "from itertools import zip_longest\n",
    "from typing import Union, Tuple, Optional\n",
    "from fastcore.all import *\n",
    "import copy"
   ]
  },
  {
   "cell_type": "code",
   "execution_count": 57,
   "metadata": {},
   "outputs": [
    {
     "data": {
      "text/html": [
       "<script src=\"https://cdn.tailwindcss.com\"></script>\n",
       "<script src=\"https://cdn.jsdelivr.net/npm/uikit@3.21.6/dist/js/uikit.min.js\"></script>\n",
       "<script src=\"https://cdn.jsdelivr.net/npm/uikit@3.21.6/dist/js/uikit-icons.min.js\"></script>\n",
       "<script type=\"module\" src=\"https://unpkg.com/franken-wc@0.0.6/dist/js/wc.iife.js\"></script>\n",
       "<link rel=\"stylesheet\" href=\"https://unpkg.com/franken-wc@0.0.6/dist/css/blue.min.css\">\n",
       "\n",
       "<style>\n",
       "#notebook-container { max-width: none; }\n",
       ".output_html * { list-style-type: none !important; }\n",
       "</style>\n"
      ],
      "text/plain": [
       "<IPython.core.display.HTML object>"
      ]
     },
     "metadata": {},
     "output_type": "display_data"
    }
   ],
   "source": [
    "%%html\n",
    "<script src=\"https://cdn.tailwindcss.com\"></script>\n",
    "<script src=\"https://cdn.jsdelivr.net/npm/uikit@3.21.6/dist/js/uikit.min.js\"></script>\n",
    "<script src=\"https://cdn.jsdelivr.net/npm/uikit@3.21.6/dist/js/uikit-icons.min.js\"></script>\n",
    "<script type=\"module\" src=\"https://unpkg.com/franken-wc@0.0.6/dist/js/wc.iife.js\"></script>\n",
    "<link rel=\"stylesheet\" href=\"https://unpkg.com/franken-wc@0.0.6/dist/css/blue.min.css\">\n",
    "\n",
    "<style>\n",
    "#notebook-container { max-width: none; }\n",
    ".output_html * { list-style-type: none !important; }\n",
    "</style>"
   ]
  },
  {
   "cell_type": "code",
   "execution_count": 58,
   "metadata": {},
   "outputs": [],
   "source": [
    "from nbdev.showdoc import show_doc\n",
    "from IPython.display import HTML"
   ]
  },
  {
   "cell_type": "markdown",
   "metadata": {},
   "source": [
    "## Utils"
   ]
  },
  {
   "cell_type": "markdown",
   "metadata": {},
   "source": [
    "### Tests"
   ]
  },
  {
   "cell_type": "code",
   "execution_count": 59,
   "metadata": {},
   "outputs": [],
   "source": [
    "from fastcore.test import *"
   ]
  },
  {
   "cell_type": "code",
   "execution_count": 60,
   "metadata": {},
   "outputs": [],
   "source": [
    "def test_xml_eq(a, b):\n",
    "    \"Tests if if 2 FT components generate the same xml\"\n",
    "    test_eq(*map(lambda x: x if isinstance(x,str) else to_xml(x), (a, b)))"
   ]
  },
  {
   "cell_type": "markdown",
   "metadata": {},
   "source": [
    "### Other"
   ]
  },
  {
   "cell_type": "code",
   "execution_count": 61,
   "metadata": {},
   "outputs": [],
   "source": [
    "#| export\n",
    "# need a better name, stringify might be too general for what it does \n",
    "def stringify(o # String, Tuple, or Enum options we want stringified\n",
    "             ): # String that can be passed FT comp args (such as `cls=`)\n",
    "    \"Converts input types into strings that can be passed to FT components\"  \n",
    "    if is_listy(o): return ' '.join(map(str,o)) if o else \"\"\n",
    "    return o.__str__()"
   ]
  },
  {
   "cell_type": "code",
   "execution_count": 62,
   "metadata": {},
   "outputs": [],
   "source": [
    "assert stringify('abc') == 'abc'\n",
    "assert stringify(('abc','def')) == 'abc def'\n",
    "assert 'uk-input ' + stringify(()) == 'uk-input '\n",
    "assert 'uk-input ' + stringify(\"\") == 'uk-input '"
   ]
  },
  {
   "cell_type": "code",
   "execution_count": 63,
   "metadata": {},
   "outputs": [],
   "source": [
    "#| export\n",
    "def str2ukcls(base, txt): \n",
    "    return f\"uk-{base}-{txt.replace('_', '-')}\".strip('-')\n",
    "\n",
    "class VEnum(Enum): \n",
    "    def __add__(self, other):   return stringify((self, other))\n",
    "    def __radd__(self, other):  return stringify((other, self)) \n",
    "    def __str__(self): return self.value"
   ]
  },
  {
   "cell_type": "code",
   "execution_count": 64,
   "metadata": {},
   "outputs": [],
   "source": [
    "#| export\n",
    "def create_uk_enum(name, options, custom={}):\n",
    "    def getval(a): return custom[a] if a in custom.keys() else a\n",
    "    opts = [(a,str2ukcls(name.rstrip('T').lower(),getval(a))) for a in options]\n",
    "    return VEnum(name,opts, type=str)"
   ]
  },
  {
   "cell_type": "markdown",
   "metadata": {},
   "source": [
    "## Basic Components"
   ]
  },
  {
   "cell_type": "code",
   "execution_count": 65,
   "metadata": {},
   "outputs": [],
   "source": [
    "#| export\n",
    "def UkGenericComponent(component_fn, *c, cls=(), **kwargs):\n",
    "    res = component_fn(cls=cls, **kwargs)(*c)\n",
    "    return res"
   ]
  },
  {
   "cell_type": "code",
   "execution_count": 66,
   "metadata": {},
   "outputs": [],
   "source": [
    "#| export\n",
    "ButtonT = create_uk_enum('ButtonT',('default','primary','secondary','danger','ghost','text','link'))"
   ]
  },
  {
   "cell_type": "code",
   "execution_count": 67,
   "metadata": {},
   "outputs": [],
   "source": [
    "#| export\n",
    "def Button(*c, cls=ButtonT.default,  **kwargs):\n",
    "    return UkGenericComponent(fh.Button,*c, cls=('uk-button',stringify(cls)), type='button', **kwargs)"
   ]
  },
  {
   "cell_type": "code",
   "execution_count": 68,
   "metadata": {},
   "outputs": [
    {
     "data": {
      "text/markdown": [
       "```html\n",
       "<button type=\"button\" class=\"uk-button uk-button-default\"></button>\n",
       "```"
      ],
      "text/plain": [
       "button((),{'type': 'button', 'class': 'uk-button uk-button-default'})"
      ]
     },
     "execution_count": 68,
     "metadata": {},
     "output_type": "execute_result"
    }
   ],
   "source": [
    "Button()"
   ]
  },
  {
   "cell_type": "code",
   "execution_count": 69,
   "metadata": {},
   "outputs": [],
   "source": [
    "#| export\n",
    "def H1(*c, cls=(), **kwargs): return UkGenericComponent(fh.H1, *c, cls=('uk-h1',stringify(cls)), **kwargs)\n",
    "def H2(*c, cls=(), **kwargs): return UkGenericComponent(fh.H2, *c, cls=('uk-h2',stringify(cls)), **kwargs)\n",
    "def H3(*c, cls=(), **kwargs): return UkGenericComponent(fh.H3, *c, cls=('uk-h3',stringify(cls)), **kwargs)\n",
    "def H4(*c, cls=(), **kwargs): return UkGenericComponent(fh.H4, *c, cls=('uk-h4',stringify(cls)), **kwargs)"
   ]
  },
  {
   "cell_type": "code",
   "execution_count": 70,
   "metadata": {},
   "outputs": [
    {
     "data": {
      "text/markdown": [
       "```html\n",
       "<h1 class=\"uk-h1 another-class\">My Uk styled header</h1>\n",
       "\n",
       "```"
      ],
      "text/plain": [
       "h1(('My Uk styled header',),{'class': 'uk-h1 another-class'})"
      ]
     },
     "execution_count": 70,
     "metadata": {},
     "output_type": "execute_result"
    }
   ],
   "source": [
    "H1('My Uk styled header',cls='another-class')"
   ]
  },
  {
   "cell_type": "code",
   "execution_count": 71,
   "metadata": {},
   "outputs": [],
   "source": [
    "#| export\n",
    "def Alert(*c, cls=(), **kwargs): \n",
    "    return UkGenericComponent(Div, *c, cls=('uk-alert',stringify(cls)), uk_alert=True, **kwargs)"
   ]
  },
  {
   "cell_type": "code",
   "execution_count": 72,
   "metadata": {},
   "outputs": [
    {
     "data": {
      "text/markdown": [
       "```html\n",
       "<div class=\"uk-alert \" uk-alert></div>\n",
       "\n",
       "```"
      ],
      "text/plain": [
       "div((),{'class': 'uk-alert ', 'uk-alert': True})"
      ]
     },
     "execution_count": 72,
     "metadata": {},
     "output_type": "execute_result"
    }
   ],
   "source": [
    "Alert()"
   ]
  },
  {
   "cell_type": "code",
   "execution_count": 73,
   "metadata": {},
   "outputs": [],
   "source": [
    "#| export\n",
    "def Article(*c, cls=(), **kwargs):\n",
    "    return UkGenericComponent(fh.Article, *c, cls=('uk-article',stringify(cls)), **kwargs)\n",
    "\n",
    "def ArticleTitle(*c, cls=(), **kwargs):\n",
    "    return UkGenericComponent(H1, *c, cls=('uk-article-title',stringify(cls)), **kwargs)\n",
    "\n",
    "def ArticleMeta(*c, cls=(), **kwargs):\n",
    "    return UkGenericComponent(P, *c, cls=('uk-article-meta',stringify(cls)), **kwargs)"
   ]
  },
  {
   "cell_type": "code",
   "execution_count": 74,
   "metadata": {},
   "outputs": [
    {
     "data": {
      "text/plain": [
       "(article((),{'class': 'uk-article '}),\n",
       " h1((),{'class': 'uk-h1 uk-article-title '}),\n",
       " p((),{'class': 'uk-article-meta '}))"
      ]
     },
     "execution_count": 74,
     "metadata": {},
     "output_type": "execute_result"
    }
   ],
   "source": [
    "Article(), ArticleTitle(), ArticleMeta()"
   ]
  },
  {
   "cell_type": "code",
   "execution_count": 75,
   "metadata": {},
   "outputs": [],
   "source": [
    "#| export\n",
    "ContainerT = create_uk_enum('ContainerT',('xsmall','small','large','xlarge','expand'))"
   ]
  },
  {
   "cell_type": "code",
   "execution_count": 76,
   "metadata": {},
   "outputs": [],
   "source": [
    "#| export\n",
    "def Container(*c, cls=(), **kwargs): \n",
    "    return UkGenericComponent(Div, *c, cls=('uk-container',stringify(cls)), **kwargs)"
   ]
  },
  {
   "cell_type": "code",
   "execution_count": 157,
   "metadata": {},
   "outputs": [],
   "source": [
    "#| export\n",
    "def Input(*c, cls=(), **kwargs): \n",
    "    return UkGenericComponent(fh.Input, *c, cls=('uk-input',stringify(cls)), **kwargs)\n",
    "def Select(*c, cls=(), **kwargs):\n",
    "    return UkGenericComponent(fh.Select, *c, cls=('uk-select',stringify(cls)), **kwargs)\n",
    "def Radio(*c, cls=(), **kwargs): \n",
    "    return UkGenericComponent(fh.Input, *c, cls=('uk-radio',stringify(cls)), type='radio', **kwargs)\n",
    "def CheckboxX(*c, cls=(), **kwargs): \n",
    "    return UkGenericComponent(fh.Input, *c, cls=('uk-checkbox',stringify(cls)), type='checkbox', **kwargs)\n",
    "def Range(*c, cls=(), **kwargs): \n",
    "    return UkGenericComponent(fh.Input, *c, cls=('uk-range',stringify(cls)), type='range', **kwargs)\n",
    "def Toggle_switch(*c, cls=(), **kwargs): \n",
    "    return UkGenericComponent(fh.Input, *c, cls=('uk-toggle-switch',stringify(cls)), type='checkbox', **kwargs)\n",
    "def TextArea(*c, cls=(), **kwargs): \n",
    "    return UkGenericComponent(fh.Textarea, *c, cls=('uk-textarea',stringify(cls)), **kwargs)\n",
    "def Button(*c, cls=ButtonT.default,  **kwargs):\n",
    "    return UkGenericComponent(fh.Button,*c, cls=('uk-button',stringify(cls)), type='button', **kwargs)\n",
    "def Switch(*c, cls=(), **kwargs):\n",
    "    return UkGenericComponent(fh.Input, *c, cls=('uk-toggle-switch',stringify(cls)), type='checkbox', **kwargs)"
   ]
  },
  {
   "cell_type": "code",
   "execution_count": null,
   "metadata": {},
   "outputs": [],
   "source": []
  },
  {
   "cell_type": "code",
   "execution_count": 158,
   "metadata": {},
   "outputs": [
    {
     "data": {
      "text/html": [
       "<input type=\"checkbox\" class=\"uk-toggle-switch \">\n"
      ],
      "text/plain": [
       "<IPython.core.display.HTML object>"
      ]
     },
     "execution_count": 158,
     "metadata": {},
     "output_type": "execute_result"
    }
   ],
   "source": [
    "fh.show(Switch())"
   ]
  },
  {
   "cell_type": "code",
   "execution_count": 79,
   "metadata": {},
   "outputs": [
    {
     "data": {
      "text/markdown": [
       "```html\n",
       "<button type=\"button\" class=\"uk-button uk-button-default\"></button>\n",
       "```"
      ],
      "text/plain": [
       "button((),{'type': 'button', 'class': 'uk-button uk-button-default'})"
      ]
     },
     "execution_count": 79,
     "metadata": {},
     "output_type": "execute_result"
    }
   ],
   "source": [
    "Input()\n",
    "Select()\n",
    "Radio()\n",
    "CheckboxX()\n",
    "Range()\n",
    "Toggle_switch()\n",
    "TextArea()\n",
    "Button()"
   ]
  },
  {
   "cell_type": "code",
   "execution_count": 80,
   "metadata": {},
   "outputs": [],
   "source": [
    "#| export\n",
    "LabelT = create_uk_enum('LabelT', ('primary', 'secondary', 'danger'))"
   ]
  },
  {
   "cell_type": "code",
   "execution_count": 81,
   "metadata": {},
   "outputs": [],
   "source": [
    "#| export\n",
    "def Label(*c, cls=(), **kwargs):\n",
    "    return UkGenericComponent(fh.Label, *c, cls=('uk-label',stringify(cls)), **kwargs)"
   ]
  },
  {
   "cell_type": "code",
   "execution_count": 82,
   "metadata": {},
   "outputs": [
    {
     "data": {
      "text/markdown": [
       "```html\n",
       "<label class=\"uk-label \"></label>\n",
       "```"
      ],
      "text/plain": [
       "label((),{'class': 'uk-label '})"
      ]
     },
     "execution_count": 82,
     "metadata": {},
     "output_type": "execute_result"
    }
   ],
   "source": [
    "Label()"
   ]
  },
  {
   "cell_type": "code",
   "execution_count": 83,
   "metadata": {},
   "outputs": [],
   "source": [
    "#|export\n",
    "def FormLabel(*c, cls=(), **kwargs):\n",
    "    return UkGenericComponent(fh.Label, *c, cls=('uk-form-label',stringify(cls)), **kwargs)"
   ]
  },
  {
   "cell_type": "code",
   "execution_count": 84,
   "metadata": {},
   "outputs": [
    {
     "data": {
      "text/markdown": [
       "```html\n",
       "<label class=\"uk-form-label \"></label>\n",
       "```"
      ],
      "text/plain": [
       "label((),{'class': 'uk-form-label '})"
      ]
     },
     "execution_count": 84,
     "metadata": {},
     "output_type": "execute_result"
    }
   ],
   "source": [
    "FormLabel()"
   ]
  },
  {
   "cell_type": "code",
   "execution_count": 85,
   "metadata": {},
   "outputs": [],
   "source": [
    "#| export\n",
    "LinkT = create_uk_enum('LinkT', ('muted', 'text', 'reset'))"
   ]
  },
  {
   "cell_type": "code",
   "execution_count": 86,
   "metadata": {},
   "outputs": [],
   "source": [
    "#| export\n",
    "def Link(*c, cls=(), **kwargs):  \n",
    "    return UkGenericComponent(fh.A, *c, cls=('uk-link',stringify(cls)), **kwargs)"
   ]
  },
  {
   "cell_type": "code",
   "execution_count": 87,
   "metadata": {},
   "outputs": [],
   "source": [
    "#| export\n",
    "def Link(*c, cls=(), **kwargs):\n",
    "    cls = stringify(cls)\n",
    "    if 'uk-link' not in cls: cls = (cls, 'uk-link')\n",
    "    return UkGenericComponent(fh.A, *c, cls=cls, **kwargs)"
   ]
  },
  {
   "cell_type": "code",
   "execution_count": 88,
   "metadata": {},
   "outputs": [],
   "source": [
    "ListT = create_uk_enum('ListT', (\n",
    "    'disc', 'circle', 'square', 'decimal', 'hyphen', # Style\n",
    "    'muted', 'primary', 'secondary', # Color\n",
    "    'bullet', 'divider', 'striped' # Other\n",
    "))"
   ]
  },
  {
   "cell_type": "code",
   "execution_count": 89,
   "metadata": {},
   "outputs": [],
   "source": [
    "#| export\n",
    "def List(*c, cls=(), **kwargs):\n",
    "    return UkGenericComponent(fh.Ul, *c, cls=('uk-list',stringify(cls)), **kwargs)"
   ]
  },
  {
   "cell_type": "code",
   "execution_count": 90,
   "metadata": {},
   "outputs": [],
   "source": [
    "#| export\n",
    "def ModalContainer(*c, cls=(), **kwargs):\n",
    "    return UkGenericComponent(fh.Div, *c, cls=('uk-modal-container',stringify(cls)), uk_modal=True, **kwargs)\n",
    "\n",
    "def ModalDialog(*c, cls=(), **kwargs):\n",
    "    return UkGenericComponent(fh.Div, *c, cls=('uk-modal-dialog',stringify(cls)), **kwargs)\n",
    "\n",
    "def ModalHeader(*c, cls=(), **kwargs):\n",
    "    return UkGenericComponent(fh.Div, *c, cls=('uk-modal-header',stringify(cls)), **kwargs)\n",
    "\n",
    "def ModalBody(*c, cls=(), **kwargs):\n",
    "    return UkGenericComponent(fh.Div, *c, cls=('uk-modal-body',stringify(cls)), **kwargs)\n",
    "\n",
    "def ModalFooter(*c, cls=(), **kwargs):\n",
    "    return UkGenericComponent(fh.Div, *c, cls=('uk-modal-footer',stringify(cls)), **kwargs)\n",
    "\n",
    "def ModalTitle(*c, cls=(), **kwargs):\n",
    "    return UkGenericComponent(fh.H2, *c, cls=('uk-modal-title',stringify(cls)), **kwargs)\n",
    "\n",
    "def ModalCloseButton(*c, cls=(), **kwargs):\n",
    "    return UkGenericComponent(Button, *c, cls=('uk-modal-close',stringify(cls)), **kwargs)"
   ]
  },
  {
   "cell_type": "code",
   "execution_count": 91,
   "metadata": {
    "scrolled": true
   },
   "outputs": [
    {
     "data": {
      "text/markdown": [
       "```html\n",
       "<button type=\"button\" class=\"uk-button uk-modal-close uk-button-ghost\">test</button>\n",
       "```"
      ],
      "text/plain": [
       "button(('test',),{'type': 'button', 'class': 'uk-button uk-modal-close uk-button-ghost'})"
      ]
     },
     "execution_count": 91,
     "metadata": {},
     "output_type": "execute_result"
    }
   ],
   "source": [
    "ModalCloseButton('test', cls=ButtonT.ghost)"
   ]
  },
  {
   "cell_type": "code",
   "execution_count": 92,
   "metadata": {},
   "outputs": [],
   "source": [
    "#| export\n",
    "def Modal(*c,\n",
    "        header=None,          # Components that go in the header\n",
    "        footer=None,          # Components that go in the footer\n",
    "        cls=(),               # class for outermost container\n",
    "        dialog_cls=(),        # classes for the dialog\n",
    "        header_cls='p-6',     # classes for the header\n",
    "        body_cls='space-y-6', # classes for the body\n",
    "        footer_cls=(),        # classes for the footer\n",
    "        id='',                # id for the outermost container\n",
    "        **kwargs              # classes for the outermost container\n",
    "        ):\n",
    "    cls, dialog_cls, header_cls, body_cls, footer_cls = map(stringify, (cls, dialog_cls, header_cls, body_cls, footer_cls))\n",
    "    res = []\n",
    "    if header: res.append(ModalHeader(cls=header_cls)(header))\n",
    "    res.append(ModalBody(cls=body_cls)(*c))\n",
    "    if footer: res.append(ModalFooter(cls=footer_cls)(footer))\n",
    "    return ModalContainer(ModalDialog(*res, cls=dialog_cls), cls=cls, id=id, **kwargs)"
   ]
  },
  {
   "cell_type": "code",
   "execution_count": null,
   "metadata": {},
   "outputs": [],
   "source": []
  },
  {
   "cell_type": "code",
   "execution_count": 93,
   "metadata": {},
   "outputs": [],
   "source": [
    "#| export\n",
    "def Nav(*c, cls=(), **kwargs):\n",
    "    return UkGenericComponent(fh.Ul, *c, cls=('uk-nav',stringify(cls)), **kwargs)"
   ]
  },
  {
   "cell_type": "code",
   "execution_count": 94,
   "metadata": {},
   "outputs": [],
   "source": [
    "#| export\n",
    "def NavBarContainer(*c, cls=(), **kwargs):\n",
    "    return UkGenericComponent(fh.Div, *c, cls=('uk-navbar-container',stringify(cls)), uk_navbar=True, **kwargs)\n",
    "\n",
    "def NavBarNav(*c, cls=(), **kwargs):\n",
    "    return UkGenericComponent(fh.Nav, *c, cls=('uk-navbar-nav',stringify(cls)), **kwargs)"
   ]
  },
  {
   "cell_type": "code",
   "execution_count": 95,
   "metadata": {},
   "outputs": [],
   "source": [
    "#| export\n",
    "PaddingT = create_uk_enum('PaddingT', (\n",
    "    'xsmall', 'small', 'default', 'medium', 'large', 'xlarge',\n",
    "    'remove', 'remove_top', 'remove_bottom', 'remove_left', 'remove_right', 'remove_vertical', 'remove_horizontal'\n",
    "), {'default':''})"
   ]
  },
  {
   "cell_type": "code",
   "execution_count": 96,
   "metadata": {},
   "outputs": [
    {
     "data": {
      "text/plain": [
       "<PaddingT.default: 'uk-padding'>"
      ]
     },
     "execution_count": 96,
     "metadata": {},
     "output_type": "execute_result"
    }
   ],
   "source": [
    "PaddingT.default"
   ]
  },
  {
   "cell_type": "code",
   "execution_count": 97,
   "metadata": {},
   "outputs": [],
   "source": [
    "#| export\n",
    "PositionT = create_uk_enum('PositionT', (\n",
    "    'top', 'bottom', 'left', 'right','top_left', 'top_center', 'top_right','center', 'center_left', 'center_right',\n",
    "    'bottom_left', 'bottom_center', 'bottom_right','center_horizontal', 'center_vertical'))"
   ]
  },
  {
   "cell_type": "code",
   "execution_count": 98,
   "metadata": {},
   "outputs": [],
   "source": [
    "#| export\n",
    "def Placeholder(*c, cls=(), **kwargs):\n",
    "    return UkGenericComponent(fh.Div, *c, cls=('uk-placeholder',stringify(cls)), **kwargs)"
   ]
  },
  {
   "cell_type": "code",
   "execution_count": 99,
   "metadata": {},
   "outputs": [],
   "source": [
    "#| export\n",
    "def Progress(*c, cls=(), value=\"\", max=\"\", **kwargs):\n",
    "    return UkGenericComponent(fh.Progress, *c, value=value, max=max, cls=('uk-progress',stringify(cls)), **kwargs)"
   ]
  },
  {
   "cell_type": "code",
   "execution_count": 100,
   "metadata": {},
   "outputs": [],
   "source": [
    "#| export\n",
    "SectionT = create_uk_enum('SectionT', (\n",
    "    'default', 'muted', 'primary', 'secondary',\n",
    "    'xsmall', 'small', 'large', 'xlarge', 'remove_vertical'\n",
    "))"
   ]
  },
  {
   "cell_type": "code",
   "execution_count": 101,
   "metadata": {},
   "outputs": [],
   "source": [
    "#| export\n",
    "def Section(*c, cls=(), **kwargs):\n",
    "    return UkGenericComponent(fh.Div, *c, cls=('uk-section',stringify(cls)), **kwargs)"
   ]
  },
  {
   "cell_type": "code",
   "execution_count": 102,
   "metadata": {},
   "outputs": [],
   "source": [
    "#| export\n",
    "def Sticky(*c, cls=(), **kwargs):\n",
    "    return UkGenericComponent(fh.Div, *c, cls=stringify(cls), uk_sticky=True, **kwargs)"
   ]
  },
  {
   "cell_type": "markdown",
   "metadata": {},
   "source": [
    "## Theme"
   ]
  },
  {
   "cell_type": "markdown",
   "metadata": {},
   "source": [
    "You can select a theme color to and get all the headers.  This brings in the most standard grouping:\n",
    "+ Tailwind: Optional, but typically FrankenUI is used in conjunction with tailwind\n",
    "+ Uikit: Many things are styled with uikit\n",
    "+ UIkit icons: Gives many icons OOTB, and is nice to have handy.\n",
    "+ Franken WC: Neccesary for some of the (minimal) interactivity components have"
   ]
  },
  {
   "cell_type": "code",
   "execution_count": 103,
   "metadata": {},
   "outputs": [],
   "source": [
    "#| export\n",
    "class Theme(Enum):\n",
    "    slate = \"slate\"\n",
    "    stone = \"stone\"\n",
    "    gray = \"gray\"\n",
    "    neutral = \"neutral\"\n",
    "    red = \"red\"\n",
    "    rose = \"rose\"\n",
    "    orange = \"orange\"\n",
    "    green = \"green\"\n",
    "    blue = \"blue\"\n",
    "    yellow = \"yellow\"\n",
    "    violet = \"violet\"\n",
    "    zinc = \"zinc\"\n",
    "\n",
    "    def headers(self):\n",
    "        js = (Script(src=\"https://cdn.tailwindcss.com\"),\n",
    "              Script(src=\"https://cdn.jsdelivr.net/npm/uikit@3.21.6/dist/js/uikit.min.js\"),\n",
    "              Script(src=\"https://cdn.jsdelivr.net/npm/uikit@3.21.6/dist/js/uikit-icons.min.js\"),\n",
    "              Script(type=\"module\", src=\"https://unpkg.com/franken-wc@0.0.6/dist/js/wc.iife.js\")\n",
    "              )\n",
    "        _url = f\"https://unpkg.com/franken-wc@0.0.6/dist/css/{self.value}.min.css\"\n",
    "        return (*js, Link(rel=\"stylesheet\", href=_url))"
   ]
  },
  {
   "cell_type": "code",
   "execution_count": 104,
   "metadata": {},
   "outputs": [],
   "source": [
    "hdrs = Theme.blue.headers()\n",
    "app = FastHTML(hdrs=hdrs)"
   ]
  },
  {
   "cell_type": "markdown",
   "metadata": {},
   "source": [
    "## Text Style"
   ]
  },
  {
   "cell_type": "code",
   "execution_count": 105,
   "metadata": {},
   "outputs": [],
   "source": [
    "#| export\n",
    "TextT = create_uk_enum('TextT', (\n",
    "    'lead', 'meta', 'italic', # Style\n",
    "    'small', 'default', 'large', #Font Size\n",
    "    'light', 'normal', 'bold', 'lighter', 'bolder', # Font Weight\n",
    "    'capitalize', 'uppercase', 'lowercase', #Text transform\n",
    "    'decoration_none', # Text decoration\n",
    "    'muted', 'primary', 'secondary', 'success', 'warning', 'danger', # Color\n",
    "    'left', 'right', 'center', 'justify', # Alignment\n",
    "    'top', 'middle', 'bottom', 'baseline', # Vertical alignment\n",
    "    'truncate', 'break_', 'nowrap' # Wrapping\n",
    "))"
   ]
  },
  {
   "cell_type": "code",
   "execution_count": 106,
   "metadata": {},
   "outputs": [],
   "source": [
    "#| export\n",
    "class TextFont(VEnum):\n",
    "    muted_sm = stringify((TextT.muted, TextT.small))\n",
    "    bold_sm = stringify((TextT.bold, TextT.small))"
   ]
  },
  {
   "cell_type": "code",
   "execution_count": null,
   "metadata": {},
   "outputs": [],
   "source": []
  },
  {
   "cell_type": "markdown",
   "metadata": {},
   "source": [
    "## Icons and Avatars"
   ]
  },
  {
   "cell_type": "code",
   "execution_count": 107,
   "metadata": {},
   "outputs": [],
   "source": [
    "#| export\n",
    "def UkIcon(icon,    # Icon name from https://getuikit.com/docs/icon\n",
    "           ratio=1, # Icon ratio/size \n",
    "           cls=()   # Span classes\n",
    "          ):        # Span with Icon\n",
    "    \"Creates a Span with the given icon\"\n",
    "    return Span(uk_icon=f\"icon: {icon}; ratio: {ratio}\",cls=stringify(cls))"
   ]
  },
  {
   "cell_type": "code",
   "execution_count": 108,
   "metadata": {},
   "outputs": [
    {
     "data": {
      "text/markdown": [
       "```html\n",
       "<span uk-icon=\"icon: heart; ratio: 0.5\"></span>\n",
       "```"
      ],
      "text/plain": [
       "span((),{'uk-icon': 'icon: heart; ratio: 0.5', 'class': ''})"
      ]
     },
     "execution_count": 108,
     "metadata": {},
     "output_type": "execute_result"
    }
   ],
   "source": [
    "UkIcon('heart', 0.5)"
   ]
  },
  {
   "cell_type": "code",
   "execution_count": 109,
   "metadata": {},
   "outputs": [],
   "source": [
    "#| export\n",
    "def Img(*args, data_src=\"\", cls=(), **kwargs):\n",
    "    return UkGenericComponent(fh.Div, *args, data_src=data_src, uk_img=True, cls=stringify(cls), **kwargs)"
   ]
  },
  {
   "cell_type": "code",
   "execution_count": 161,
   "metadata": {},
   "outputs": [],
   "source": [
    "#| export\n",
    "def DiceBearAvatar(seed_name, # Seed name (ie 'Isaac Flath')\n",
    "                   h,         # Height \n",
    "                   w          # Width\n",
    "                  ):          # Span with Avatar\n",
    "    url = 'https://api.dicebear.com/8.x/lorelei/svg?seed='\n",
    "    return Span(cls=f\"relative flex h-{h} w-{w} shrink-0 overflow-hidden rounded-full bg-accent\")(\n",
    "            fh.Img(cls=\"aspect-square h-full w-full\", alt=\"Avatar\", src=f\"{url}{seed_name}\"))"
   ]
  },
  {
   "cell_type": "code",
   "execution_count": null,
   "metadata": {},
   "outputs": [],
   "source": []
  },
  {
   "cell_type": "markdown",
   "metadata": {},
   "source": [
    "## Spacing | Flexbox | Grid"
   ]
  },
  {
   "cell_type": "markdown",
   "metadata": {},
   "source": [
    "The most common pattern for spacing it to organize the general high level page layout with a `Grid`, and smaller components with `Flex`.\n",
    "\n",
    ":::{.callout-tip}\n",
    "Play [Flex Box Froggy](https://flexboxfroggy.com/) to get an understanding of flex box.\n",
    ":::"
   ]
  },
  {
   "cell_type": "code",
   "execution_count": 111,
   "metadata": {},
   "outputs": [],
   "source": [
    "#| export\n",
    "FlexT = create_uk_enum('FlexT', (\n",
    "    'block', 'inline',\n",
    "    'left', 'center', 'right', 'between', 'around', # horizontal\n",
    "    'stretch', 'top', 'middle', 'botton', # Vertical\n",
    "    'row', 'row_reverse', 'col', 'col_reverse', # Direction\n",
    "    'nowrap', 'wrap', 'wrap_reverse' # Wrap\n",
    "), {'block':''})"
   ]
  },
  {
   "cell_type": "code",
   "execution_count": 112,
   "metadata": {},
   "outputs": [
    {
     "data": {
      "text/markdown": [
       "```html\n",
       "<div class=\"uk-flex uk-flex-left uk-flex-middle some_cls\"></div>\n",
       "\n",
       "```"
      ],
      "text/plain": [
       "div((),{'class': 'uk-flex uk-flex-left uk-flex-middle some_cls'})"
      ]
     },
     "execution_count": 112,
     "metadata": {},
     "output_type": "execute_result"
    }
   ],
   "source": [
    "Div(cls=(FlexT.block,FlexT.left,FlexT.middle,'some_cls'))"
   ]
  },
  {
   "cell_type": "code",
   "execution_count": 113,
   "metadata": {},
   "outputs": [],
   "source": [
    "#| export\n",
    "GridT = create_uk_enum('GridT', ('small', 'medium', 'large', 'collapse'))"
   ]
  },
  {
   "cell_type": "code",
   "execution_count": 114,
   "metadata": {},
   "outputs": [],
   "source": [
    "#|export\n",
    "def Grid(*c,      # Divs/Containers that should be divided into a grid\n",
    "         cols=3,  # Number of columns\n",
    "         cls=GridT.small,  # Additional classes for Grid Div\n",
    "         **kwargs # Additional args for Grid Div\n",
    "        ):\n",
    "    \"\"\"Creates a grid with the given number of columns, often used for a grid of cards\"\"\"\n",
    "    cls = stringify(cls)\n",
    "    return Div(cls=(f'grid grid-cols-{cols}',cls), **kwargs)(*c)"
   ]
  },
  {
   "cell_type": "code",
   "execution_count": 115,
   "metadata": {},
   "outputs": [
    {
     "data": {
      "text/markdown": [
       "```html\n",
       "<div class=\"grid grid-cols-3 uk-grid-small\">\n",
       "  <div>0</div>\n",
       "  <div>1</div>\n",
       "  <div>2</div>\n",
       "  <div>3</div>\n",
       "  <div>4</div>\n",
       "  <div>5</div>\n",
       "</div>\n",
       "\n",
       "```"
      ],
      "text/plain": [
       "div((div((0,),{}), div((1,),{}), div((2,),{}), div((3,),{}), div((4,),{}), div((5,),{})),{'class': 'grid grid-cols-3 uk-grid-small'})"
      ]
     },
     "execution_count": 115,
     "metadata": {},
     "output_type": "execute_result"
    }
   ],
   "source": [
    "Grid(*map(Div, range(6)),cols=3, cls=GridT.small)"
   ]
  },
  {
   "cell_type": "code",
   "execution_count": 116,
   "metadata": {},
   "outputs": [],
   "source": [
    "#| export\n",
    "def ResponsiveGrid(*c, sm=1, md=2, lg=3, xl=4, gap=2, cls='', **kwargs):\n",
    "    \"Creates a responsive grid with the given number of columns for different screen sizes\"\n",
    "    return Div(cls=f'grid grid-cols-{sm} md:grid-cols-{md} lg:grid-cols-{lg} xl:grid-cols-{xl} gap-{gap} ' + stringify(cls), **kwargs)(*c)"
   ]
  },
  {
   "cell_type": "markdown",
   "metadata": {},
   "source": [
    "We can use the `FlexT` enum above to create `Div`s that arrange components in a flex box in different ways.  \n",
    "\n",
    "For example, `FullySpacedDiv` applies a very common pattern so we've made a function that helps to this for you.  But if you look at the code, it's really just using the enum to apply the right combonation of flex classes."
   ]
  },
  {
   "cell_type": "code",
   "execution_count": 117,
   "metadata": {},
   "outputs": [],
   "source": [
    "#| exports\n",
    "def FullySpacedDiv(*c,                # Components\n",
    "                   cls='uk-width-1-1',# Classes for outer div\n",
    "                   **kwargs           # Additional args for outer div\n",
    "                  ):                  # Div with spaced components via flex classes\n",
    "    \"Creates a flex div with it's components having as much space between them as possible\"\n",
    "    cls = stringify(cls)\n",
    "    return Div(cls=(FlexT.block,FlexT.between,FlexT.middle,cls), **kwargs)(*c)"
   ]
  },
  {
   "cell_type": "code",
   "execution_count": 118,
   "metadata": {},
   "outputs": [
    {
     "data": {
      "text/markdown": [
       "```html\n",
       "<div class=\"uk-flex uk-flex-between uk-flex-middle uk-width-1-1\">\n",
       "  <p>0</p>\n",
       "  <p>1</p>\n",
       "  <p>2</p>\n",
       "</div>\n",
       "\n",
       "```"
      ],
      "text/plain": [
       "div((p((0,),{}), p((1,),{}), p((2,),{})),{'class': 'uk-flex uk-flex-between uk-flex-middle uk-width-1-1'})"
      ]
     },
     "execution_count": 118,
     "metadata": {},
     "output_type": "execute_result"
    }
   ],
   "source": [
    "FullySpacedDiv(*map(P, range(3)))"
   ]
  },
  {
   "cell_type": "code",
   "execution_count": 119,
   "metadata": {},
   "outputs": [],
   "source": [
    "#| export\n",
    "def CenteredDiv(*c,      # Components\n",
    "                cls=(),  # Classes for outer div\n",
    "                **kwargs # Additional args for outer div\n",
    "               ): # Div with components centered in it\n",
    "    \"Creates a flex div with it's components centered in it\"\n",
    "    cls=stringify(cls)\n",
    "    return Div(cls=(FlexT.block,FlexT.col,FlexT.middle,FlexT.center,cls),**kwargs)(*c)"
   ]
  },
  {
   "cell_type": "code",
   "execution_count": 120,
   "metadata": {},
   "outputs": [
    {
     "data": {
      "text/markdown": [
       "```html\n",
       "<div class=\"uk-flex uk-flex-col uk-flex-middle uk-flex-center \">\n",
       "  <p>0</p>\n",
       "  <p>1</p>\n",
       "  <p>2</p>\n",
       "</div>\n",
       "\n",
       "```"
      ],
      "text/plain": [
       "div((p((0,),{}), p((1,),{}), p((2,),{})),{'class': 'uk-flex uk-flex-col uk-flex-middle uk-flex-center '})"
      ]
     },
     "execution_count": 120,
     "metadata": {},
     "output_type": "execute_result"
    }
   ],
   "source": [
    "CenteredDiv(*map(P, range(3)))"
   ]
  },
  {
   "cell_type": "code",
   "execution_count": 121,
   "metadata": {},
   "outputs": [],
   "source": [
    "#| export\n",
    "def LAlignedDiv(*c,      # Components\n",
    "                cls=(),  # Classes for outer div\n",
    "                **kwargs # Additional args for outer div\n",
    "               ): # Div with components aligned to the left\n",
    "    \"Creates a flex div with it's components aligned to the left\"\n",
    "    cls=stringify(cls)\n",
    "    return Div(cls=(FlexT.block,FlexT.left,FlexT.middle,cls), **kwargs)(*c)"
   ]
  },
  {
   "cell_type": "code",
   "execution_count": 122,
   "metadata": {},
   "outputs": [
    {
     "data": {
      "text/markdown": [
       "```html\n",
       "<div class=\"uk-flex uk-flex-left uk-flex-middle \">\n",
       "  <p>0</p>\n",
       "  <p>1</p>\n",
       "  <p>2</p>\n",
       "</div>\n",
       "\n",
       "```"
      ],
      "text/plain": [
       "div((p((0,),{}), p((1,),{}), p((2,),{})),{'class': 'uk-flex uk-flex-left uk-flex-middle '})"
      ]
     },
     "execution_count": 122,
     "metadata": {},
     "output_type": "execute_result"
    }
   ],
   "source": [
    "LAlignedDiv(*map(P, range(3)))"
   ]
  },
  {
   "cell_type": "code",
   "execution_count": 123,
   "metadata": {},
   "outputs": [],
   "source": [
    "#| export\n",
    "def RAlignedDiv(*c,      # Components\n",
    "                cls=(),  # Classes for outer div\n",
    "                **kwargs # Additional args for outer div\n",
    "               ): # Div with components aligned to the right\n",
    "    \"Creates a flex div with it's components aligned to the right\"\n",
    "    cls=stringify(cls)\n",
    "    return Div(cls=(FlexT.block,FlexT.right,FlexT.middle,cls), **kwargs)(*c)"
   ]
  },
  {
   "cell_type": "code",
   "execution_count": 124,
   "metadata": {},
   "outputs": [
    {
     "data": {
      "text/markdown": [
       "```html\n",
       "<div class=\"uk-flex uk-flex-right uk-flex-middle \">\n",
       "  <p>0</p>\n",
       "  <p>1</p>\n",
       "  <p>2</p>\n",
       "</div>\n",
       "\n",
       "```"
      ],
      "text/plain": [
       "div((p((0,),{}), p((1,),{}), p((2,),{})),{'class': 'uk-flex uk-flex-right uk-flex-middle '})"
      ]
     },
     "execution_count": 124,
     "metadata": {},
     "output_type": "execute_result"
    }
   ],
   "source": [
    "RAlignedDiv(*map(P, range(3)))"
   ]
  },
  {
   "cell_type": "code",
   "execution_count": 125,
   "metadata": {},
   "outputs": [],
   "source": [
    "#| export\n",
    "def VStackedDiv(*c, cls='', **kwargs):\n",
    "    cls=stringify(cls)\n",
    "    return Div(cls=(FlexT.block,FlexT.col,FlexT.middle,cls), **kwargs)(*c)"
   ]
  },
  {
   "cell_type": "code",
   "execution_count": 126,
   "metadata": {},
   "outputs": [],
   "source": [
    "#| export\n",
    "def HStackedDiv(*c, cls='', **kwargs):\n",
    "    cls=stringify(cls)\n",
    "    return Div(cls=(FlexT.block,FlexT.row,FlexT.middle,cls), **kwargs)(*c)"
   ]
  },
  {
   "cell_type": "code",
   "execution_count": 127,
   "metadata": {},
   "outputs": [],
   "source": [
    "#| export\n",
    "def SpaceBetweenDiv(*c, cls='', **kwargs):\n",
    "    cls = stringify(cls)\n",
    "    return Div(cls=(FlexT.block,FlexT.between,FlexT.middle,cls), **kwargs)(*c)"
   ]
  },
  {
   "cell_type": "markdown",
   "metadata": {},
   "source": [
    "## Basic Inputs"
   ]
  },
  {
   "cell_type": "markdown",
   "metadata": {},
   "source": [
    "Inputs of various types often go with a label.  Because of this we created functions to do this for you along with properly linking the `for` attribute from the lable to the input.  We also have some nice defaults, such as putting a little spacing between the label and the input"
   ]
  },
  {
   "cell_type": "code",
   "execution_count": null,
   "metadata": {},
   "outputs": [],
   "source": []
  },
  {
   "cell_type": "code",
   "execution_count": 128,
   "metadata": {},
   "outputs": [],
   "source": [
    "#| export\n",
    "def GenericLabelInput(\n",
    "               label:str|FT,\n",
    "               input_fn, \n",
    "               lbl_cls='',\n",
    "               input_cls='',\n",
    "               container=Div, \n",
    "               container_cls='',\n",
    "               id='',\n",
    "                **kwargs\n",
    "                ):\n",
    "    \"`Div(Label,Input)` component with Uk styling injected appropriately. Generally you should higher level API, such as `UkTextArea` which is created for you in this library\"\n",
    "    if isinstance(label, str) or label.tag != 'label': \n",
    "        label = FormLabel(lbl_cls=stringify(lbl_cls), fr=id)(label)\n",
    "    inp = input_fn(id=id, cls=stringify(input_cls), **kwargs)        \n",
    "    if container: return container(label, inp, cls=stringify(container_cls))\n",
    "    return label, inp"
   ]
  },
  {
   "cell_type": "code",
   "execution_count": 129,
   "metadata": {},
   "outputs": [],
   "source": [
    "#| export\n",
    "@delegates(GenericLabelInput, but=['input_fn'])\n",
    "def LabelInput(*args, **kwargs): return GenericLabelInput(*args, input_fn=Input, **kwargs)"
   ]
  },
  {
   "cell_type": "code",
   "execution_count": 130,
   "metadata": {},
   "outputs": [
    {
     "data": {
      "text/html": [
       "<form><label class=\"uk-form-label \">mylabel</label>  <input class=\"uk-input \">\n",
       "</form>"
      ],
      "text/plain": [
       "<IPython.core.display.HTML object>"
      ]
     },
     "execution_count": 130,
     "metadata": {},
     "output_type": "execute_result"
    }
   ],
   "source": [
    "fh.show(LabelInput('mylabel',container=Form))"
   ]
  },
  {
   "cell_type": "code",
   "execution_count": 131,
   "metadata": {},
   "outputs": [],
   "source": [
    "#| export\n",
    "@delegates(GenericLabelInput, but=['input_fn'])\n",
    "def LabelRadio(*args, **kwargs): return GenericLabelInput(*args, input_fn=Radio, **kwargs)"
   ]
  },
  {
   "cell_type": "code",
   "execution_count": 132,
   "metadata": {},
   "outputs": [
    {
     "data": {
      "text/html": [
       "<form><label class=\"uk-form-label \">mylabel</label>  <input type=\"radio\" class=\"uk-radio \">\n",
       "</form>"
      ],
      "text/plain": [
       "<IPython.core.display.HTML object>"
      ]
     },
     "execution_count": 132,
     "metadata": {},
     "output_type": "execute_result"
    }
   ],
   "source": [
    "fh.show(LabelRadio('mylabel',container=Form))"
   ]
  },
  {
   "cell_type": "code",
   "execution_count": 133,
   "metadata": {},
   "outputs": [],
   "source": [
    "#| export\n",
    "@delegates(GenericLabelInput, but=['input_fn'])\n",
    "def LabelCheckboxX(*args, **kwargs): return GenericLabelInput(*args, input_fn=CheckboxX, **kwargs)"
   ]
  },
  {
   "cell_type": "code",
   "execution_count": 134,
   "metadata": {},
   "outputs": [
    {
     "data": {
      "text/html": [
       "<form><label class=\"uk-form-label \">mylabel</label>  <input type=\"checkbox\" class=\"uk-checkbox \">\n",
       "</form>"
      ],
      "text/plain": [
       "<IPython.core.display.HTML object>"
      ]
     },
     "execution_count": 134,
     "metadata": {},
     "output_type": "execute_result"
    }
   ],
   "source": [
    "fh.show(LabelCheckboxX('mylabel',container=Form))"
   ]
  },
  {
   "cell_type": "code",
   "execution_count": 135,
   "metadata": {},
   "outputs": [],
   "source": [
    "#| export\n",
    "@delegates(GenericLabelInput, but=['input_fn'])\n",
    "def LabelRange(*args, **kwargs): return GenericLabelInput(*args, input_fn=Range, **kwargs)"
   ]
  },
  {
   "cell_type": "code",
   "execution_count": 136,
   "metadata": {},
   "outputs": [
    {
     "data": {
      "text/html": [
       "<form><label class=\"uk-form-label \">mylabel</label>  <input type=\"range\" class=\"uk-range \">\n",
       "</form>"
      ],
      "text/plain": [
       "<IPython.core.display.HTML object>"
      ]
     },
     "execution_count": 136,
     "metadata": {},
     "output_type": "execute_result"
    }
   ],
   "source": [
    "fh.show(LabelRange('mylabel',container=Form))"
   ]
  },
  {
   "cell_type": "code",
   "execution_count": 137,
   "metadata": {},
   "outputs": [],
   "source": [
    "#| export\n",
    "@delegates(GenericLabelInput, but=['input_fn'])\n",
    "def LabelToggle_switch(*args, **kwargs): return GenericLabelInput(*args, input_fn=Toggle_switch, **kwargs)"
   ]
  },
  {
   "cell_type": "code",
   "execution_count": 138,
   "metadata": {},
   "outputs": [
    {
     "data": {
      "text/html": [
       "<input type=\"checkbox\" container=\"functools.partial(<function ft at 0x1073e1ee0>, 'form', void_=False)\" class=\"uk-toggle-switch \">mylabel\n"
      ],
      "text/plain": [
       "<IPython.core.display.HTML object>"
      ]
     },
     "execution_count": 138,
     "metadata": {},
     "output_type": "execute_result"
    }
   ],
   "source": [
    "fh.show(Toggle_switch('mylabel',container=Form))"
   ]
  },
  {
   "cell_type": "code",
   "execution_count": 139,
   "metadata": {},
   "outputs": [],
   "source": [
    "#| export\n",
    "@delegates(GenericLabelInput, but=['input_fn'])\n",
    "def LabelTextArea(*args, **kwargs): return GenericLabelInput(*args, input_fn=TextArea, **kwargs)"
   ]
  },
  {
   "cell_type": "code",
   "execution_count": 140,
   "metadata": {
    "scrolled": true
   },
   "outputs": [
    {
     "data": {
      "text/html": [
       "<form><label class=\"uk-form-label \">mylabel</label><textarea class=\"uk-textarea \"></textarea></form>"
      ],
      "text/plain": [
       "<IPython.core.display.HTML object>"
      ]
     },
     "execution_count": 140,
     "metadata": {},
     "output_type": "execute_result"
    }
   ],
   "source": [
    "fh.show(LabelTextArea('mylabel',container=Form))"
   ]
  },
  {
   "cell_type": "code",
   "execution_count": 141,
   "metadata": {},
   "outputs": [],
   "source": [
    "#| export\n",
    "@delegates(GenericLabelInput, but=['input_fn'])\n",
    "def LabelSwitch(*args, **kwargs): return GenericLabelInput(*args, input_fn=Switch, **kwargs)"
   ]
  },
  {
   "cell_type": "code",
   "execution_count": 142,
   "metadata": {
    "scrolled": true
   },
   "outputs": [
    {
     "data": {
      "text/html": [
       "<form><label class=\"uk-form-label \">mylabel</label>  <input type=\"checkbox\" class=\"uk-checkbox uk-toggle-switch uk-form-switch \">\n",
       "</form>"
      ],
      "text/plain": [
       "<IPython.core.display.HTML object>"
      ]
     },
     "execution_count": 142,
     "metadata": {},
     "output_type": "execute_result"
    }
   ],
   "source": [
    "fh.show(LabelSwitch('mylabel',container=Form))"
   ]
  },
  {
   "cell_type": "code",
   "execution_count": 143,
   "metadata": {},
   "outputs": [],
   "source": [
    "#| export\n",
    "def LabelSelect(*option,\n",
    "               label:str|FT,\n",
    "               lbl_cls='',\n",
    "               input_cls='',\n",
    "               container=Div, \n",
    "               container_cls='',\n",
    "               id='',\n",
    "                **kwargs\n",
    "                ):\n",
    "    \"`Div(Label,Input)` component with Uk styling injected appropriately. Generally you should higher level API, such as `UkTextArea` which is created for you in this library\"\n",
    "    if isinstance(label, str) or label.tag != 'label': \n",
    "        label = FormLabel(lbl_cls=stringify(lbl_cls), fr=id)(label)\n",
    "    inp = Select(*option, id=id, cls=stringify(input_cls), **kwargs)        \n",
    "    if container: return container(label, inp, cls=stringify(container_cls))\n",
    "    return label, inp"
   ]
  },
  {
   "cell_type": "code",
   "execution_count": 144,
   "metadata": {},
   "outputs": [
    {
     "data": {
      "text/html": [
       "<form><label class=\"uk-form-label \">mylabel</label><select class=\"uk-select \"><option>1</option><option>2</option></select></form>"
      ],
      "text/plain": [
       "<IPython.core.display.HTML object>"
      ]
     },
     "execution_count": 144,
     "metadata": {},
     "output_type": "execute_result"
    }
   ],
   "source": [
    "fh.show(LabelSelect(Option(1),Option(2),label='mylabel',container=Form))"
   ]
  },
  {
   "cell_type": "code",
   "execution_count": null,
   "metadata": {},
   "outputs": [],
   "source": []
  },
  {
   "cell_type": "markdown",
   "metadata": {},
   "source": [
    "## Buttons"
   ]
  },
  {
   "cell_type": "code",
   "execution_count": 100,
   "metadata": {},
   "outputs": [
    {
     "data": {
      "text/markdown": [
       "```html\n",
       "<button type=\"button\" class=\"uk-button uk-button-primary\">MyButton</button>\n",
       "```"
      ],
      "text/plain": [
       "button(('MyButton',),{'type': 'button', 'class': 'uk-button uk-button-primary'})"
      ]
     },
     "execution_count": 100,
     "metadata": {},
     "output_type": "execute_result"
    }
   ],
   "source": [
    "Button('MyButton', cls=ButtonT.primary)"
   ]
  },
  {
   "cell_type": "code",
   "execution_count": 101,
   "metadata": {},
   "outputs": [],
   "source": [
    "#| export\n",
    "def UkIconButton(*c, sz='small', cls=(), **kwargs):\n",
    "    \"Creates an `IconButton` with uk styling\"\n",
    "    if sz not in ('small','medium','large'): raise ValueError(f\"Invalid size '{sz}'. Must be 'small', 'medium', or 'large'.\")\n",
    "    return Button(cls=f'uk-icon-button uk-icon-button-{sz} ' + stringify(cls), **kwargs)(*c)"
   ]
  },
  {
   "cell_type": "code",
   "execution_count": 102,
   "metadata": {},
   "outputs": [
    {
     "data": {
      "text/markdown": [
       "```html\n",
       "<button type=\"button\" class=\"uk-button uk-icon-button uk-icon-button-small \"><span uk-icon=\"icon: home; ratio: 1\"></span></button>\n",
       "```"
      ],
      "text/plain": [
       "button((span((),{'uk-icon': 'icon: home; ratio: 1', 'class': ''}),),{'type': 'button', 'class': 'uk-button uk-icon-button uk-icon-button-small '})"
      ]
     },
     "execution_count": 102,
     "metadata": {},
     "output_type": "execute_result"
    }
   ],
   "source": [
    "UkIconButton(UkIcon('home'))"
   ]
  },
  {
   "cell_type": "markdown",
   "metadata": {},
   "source": [
    "## Drop Downs"
   ]
  },
  {
   "cell_type": "code",
   "execution_count": 103,
   "metadata": {},
   "outputs": [],
   "source": [
    "#| export\n",
    "def Options(*c,                    # Content for an `Option`\n",
    "            selected_idx:int=None, # Index location of selected `Option`\n",
    "            disabled_idxs:set=None # Idex locations of disabled `Options`\n",
    "           ):\n",
    "    \"Helper function to wrap things into `Option`s for use in `UkSelect`\"\n",
    "    return [fh.Option(o,selected=i==selected_idx, disabled=disabled_idxs and i in disabled_idxs) for i,o in enumerate(c)]"
   ]
  },
  {
   "cell_type": "code",
   "execution_count": 104,
   "metadata": {
    "scrolled": true
   },
   "outputs": [
    {
     "data": {
      "text/plain": [
       "['<option disabled>option1</option>',\n",
       " '<option selected>option2</option>',\n",
       " '<option disabled>option3</option>']"
      ]
     },
     "execution_count": 104,
     "metadata": {},
     "output_type": "execute_result"
    }
   ],
   "source": [
    "list(map(to_xml,Options('option1','option2','option3', selected_idx=1, disabled_idxs={0,2})))"
   ]
  },
  {
   "cell_type": "code",
   "execution_count": 105,
   "metadata": {},
   "outputs": [],
   "source": [
    "#| export\n",
    "def UkSelect(*option,            # Options for the select dropdown (can use `Options` helper function to create)\n",
    "             label=(),           # String or FT component for the label\n",
    "             lbl_cls=(),         # Additional classes for the label\n",
    "             inp_cls=(),         # Additional classes for the select input\n",
    "             cls=('space-y-2',), # Classes for the outer div\n",
    "             id=\"\",              # ID for the select input\n",
    "             name=\"\",            # Name attribute for the select input\n",
    "             placeholder=\"\",     # Placeholder text for the select input\n",
    "             searchable=False,   # Whether the select should be searchable\n",
    "             **kwargs):          # Additional arguments passed to Uk_select\n",
    "    \"Creates a select dropdown with uk styling\"\n",
    "    lbl_cls, inp_cls, cls = map(stringify, (lbl_cls, inp_cls, cls))\n",
    "    if label: \n",
    "        lbl = FormLabel(cls=f'{lbl_cls}', fr=id)(label) \n",
    "    select = Uk_select(*option, cls=inp_cls, uk_cloak=True, id=id, \n",
    "                       name=name, placeholder=placeholder, searchable=searchable, **kwargs)\n",
    "    return Div(cls=cls)(lbl, select) if label else Div(cls=cls)(select)"
   ]
  },
  {
   "cell_type": "code",
   "execution_count": 106,
   "metadata": {},
   "outputs": [
    {
     "data": {
      "text/html": [
       "<div class=\"space-y-2\">\n",
       "<label class=\"uk-label uk-form-label \">MyLabel</label><uk-select uk-cloak placeholder=\"MyPlaceholder\"><option>a</option><option>b</option></uk-select></div>\n"
      ],
      "text/plain": [
       "<IPython.core.display.HTML object>"
      ]
     },
     "execution_count": 106,
     "metadata": {},
     "output_type": "execute_result"
    }
   ],
   "source": [
    "fh.show(UkSelect(*Options('a', 'b'), label='MyLabel', placeholder='MyPlaceholder'))"
   ]
  },
  {
   "cell_type": "code",
   "execution_count": 107,
   "metadata": {},
   "outputs": [
    {
     "data": {
      "text/html": [
       "<div class=\"space-y-2\">\n",
       "<label class=\"uk-label \">MyLabel</label><select placeholder=\"MyPlaceholder\" class=\"uk-select \"><option>a</option><option>b</option></select></div>\n"
      ],
      "text/plain": [
       "<IPython.core.display.HTML object>"
      ]
     },
     "execution_count": 107,
     "metadata": {},
     "output_type": "execute_result"
    }
   ],
   "source": [
    "fh.show(Div(cls='space-y-2')(LabelSelect(*Options('a', 'b'), label='MyLabel', placeholder='MyPlaceholder')))"
   ]
  },
  {
   "cell_type": "code",
   "execution_count": 108,
   "metadata": {},
   "outputs": [],
   "source": [
    "#| export\n",
    "def _UkDropdownButtonOptions(opt_grps, opt_hdrs=None):\n",
    "    res = []\n",
    "    for g,h in zip_longest(opt_grps, tuplify(opt_hdrs)):\n",
    "        if h: res.append(Li(cls=\"uk-nav-header\")(h if isinstance(h,FT) else Div(h)))\n",
    "        if isinstance(g,(list,tuple)): res += list(map(Li, g))\n",
    "        else: res.append(Li(g))\n",
    "    return res"
   ]
  },
  {
   "cell_type": "code",
   "execution_count": 109,
   "metadata": {},
   "outputs": [],
   "source": [
    "#| export\n",
    "def UkDropdownButton(\n",
    "    *opt_grp,        # List of options to be displayed in the dropdown\n",
    "    opt_hdrs=None,  # List of headers for each option group, or None\n",
    "    label=None,     # String, FT component, or None for the `Button`\n",
    "    btn_cls=ButtonT.default,  # Button class(es)\n",
    "    cls=(),         # Parent div class\n",
    "    dd_cls=(),      # Class that goes on the dropdown container\n",
    "    icon='triangle-down',  # Icon to use for the dropdown\n",
    "    icon_cls='',    # Additional classes for the icon\n",
    "    icon_position='right'  # Position of the icon: 'left' or 'right'\n",
    "    ):\n",
    "    dd_cls, btn_cls, cls, icon_cls = map(stringify, (dd_cls, btn_cls, cls, icon_cls))\n",
    "    icon_component = UkIcon(icon, cls=icon_cls) if icon else None\n",
    "    btn_content = [] if label is None else [label]\n",
    "    if icon_component: btn_content.insert(0 if icon_position == 'left' else len(btn_content), icon_component)\n",
    "    btn = Button(cls=btn_cls)(*btn_content)\n",
    "    dd = Div(uk_dropdown='mode: click; pos: bottom-right', cls='uk-dropdown uk-drop ' + dd_cls)(\n",
    "        Ul(cls='uk-dropdown-nav')(*_UkDropdownButtonOptions(opt_grp, opt_hdrs)))\n",
    "    return Div(cls=cls)(Div(cls='flex items-center space-x-4')(btn, dd))"
   ]
  },
  {
   "cell_type": "code",
   "execution_count": 110,
   "metadata": {},
   "outputs": [
    {
     "data": {
      "text/html": [
       "<div>\n",
       "  <div class=\"flex items-center space-x-4\">\n",
       "<button type=\"button\" class=\"uk-button uk-button-default\"><span uk-icon=\"icon: triangle-down; ratio: 1\"></span></button>    <div uk-dropdown=\"mode: click; pos: bottom-right\" class=\"uk-dropdown uk-drop \">\n",
       "      <ul class=\"uk-dropdown-nav\">\n",
       "        <li class=\"uk-nav-header\">\n",
       "          <div>Header 1</div>\n",
       "        </li>\n",
       "        <li>\n",
       "<a href=\"#\">Option 1.1</a>        </li>\n",
       "        <li>\n",
       "<a href=\"#\">Option 1.2</a>        </li>\n",
       "        <li class=\"uk-nav-header\">\n",
       "          <div>Header 2</div>\n",
       "        </li>\n",
       "        <li>\n",
       "<a href=\"#\">Option 2.1</a>        </li>\n",
       "        <li>\n",
       "<a href=\"#\">Option 2.2</a>        </li>\n",
       "      </ul>\n",
       "    </div>\n",
       "  </div>\n",
       "</div>\n"
      ],
      "text/plain": [
       "<IPython.core.display.HTML object>"
      ]
     },
     "execution_count": 110,
     "metadata": {},
     "output_type": "execute_result"
    }
   ],
   "source": [
    "fh.show(UkDropdownButton((A('Option 1.1', _href='#'), A('Option 1.2', _href='#')), \n",
    "                 (A('Option 2.1', _href='#'), A('Option 2.2', _href='#')),\n",
    "                 opt_hdrs=('Header 1', 'Header 2')))"
   ]
  },
  {
   "cell_type": "code",
   "execution_count": 111,
   "metadata": {},
   "outputs": [
    {
     "data": {
      "text/markdown": [
       "```html\n",
       "<span uk-icon=\"icon: home; ratio: 1\"></span>\n",
       "```"
      ],
      "text/plain": [
       "span((),{'uk-icon': 'icon: home; ratio: 1', 'class': ''})"
      ]
     },
     "execution_count": 111,
     "metadata": {},
     "output_type": "execute_result"
    }
   ],
   "source": [
    "UkIcon('home')"
   ]
  },
  {
   "cell_type": "markdown",
   "metadata": {},
   "source": [
    "## Dividers"
   ]
  },
  {
   "cell_type": "code",
   "execution_count": 112,
   "metadata": {},
   "outputs": [],
   "source": [
    "#| export\n",
    "def UkHSplit(*c, cls=(), line_cls=(), text_cls=()):\n",
    "    # Divider FrankenUI stuff\n",
    "    cls, line_cls, text_cls = map(stringify,(cls, line_cls, text_cls))\n",
    "    return Div(cls='relative ' + cls)(\n",
    "        Div(cls=\"absolute inset-0 flex items-center \" + line_cls)(Span(cls=\"w-full border-t border-border\")),\n",
    "        Div(cls=\"relative flex justify-center \" + text_cls)(Span(cls=\"bg-background px-2 \")(*c)))"
   ]
  },
  {
   "cell_type": "code",
   "execution_count": 113,
   "metadata": {},
   "outputs": [
    {
     "data": {
      "text/markdown": [
       "```html\n",
       "<div class=\"relative \">\n",
       "  <div class=\"absolute inset-0 flex items-center \">\n",
       "<span class=\"w-full border-t border-border\"></span>  </div>\n",
       "  <div class=\"relative flex justify-center \">\n",
       "<span class=\"bg-background px-2 \"></span>  </div>\n",
       "</div>\n",
       "\n",
       "```"
      ],
      "text/plain": [
       "div((div((span((),{'class': 'w-full border-t border-border'}),),{'class': 'absolute inset-0 flex items-center '}), div((span((),{'class': 'bg-background px-2 '}),),{'class': 'relative flex justify-center '})),{'class': 'relative '})"
      ]
     },
     "execution_count": 113,
     "metadata": {},
     "output_type": "execute_result"
    }
   ],
   "source": [
    "UkHSplit()"
   ]
  },
  {
   "cell_type": "code",
   "execution_count": 114,
   "metadata": {},
   "outputs": [],
   "source": [
    "#| export\n",
    "def UkHLine(lwidth=2, y_space=4): return Div(cls=f\"my-{y_space} h-[{lwidth}px] w-full bg-secondary\")"
   ]
  },
  {
   "cell_type": "code",
   "execution_count": 115,
   "metadata": {},
   "outputs": [
    {
     "data": {
      "text/markdown": [
       "```html\n",
       "<div class=\"my-4 h-[2px] w-full bg-secondary\"></div>\n",
       "\n",
       "```"
      ],
      "text/plain": [
       "div((),{'class': 'my-4 h-[2px] w-full bg-secondary'})"
      ]
     },
     "execution_count": 115,
     "metadata": {},
     "output_type": "execute_result"
    }
   ],
   "source": [
    "UkHLine()"
   ]
  },
  {
   "cell_type": "code",
   "execution_count": 116,
   "metadata": {},
   "outputs": [],
   "source": [
    "#| export\n",
    "def UkNavDivider(): return fh.Li(cls=\"uk-nav-divider\")"
   ]
  },
  {
   "cell_type": "code",
   "execution_count": 117,
   "metadata": {},
   "outputs": [
    {
     "data": {
      "text/markdown": [
       "```html\n",
       "<li class=\"uk-nav-divider\"></li>\n",
       "\n",
       "```"
      ],
      "text/plain": [
       "li((),{'class': 'uk-nav-divider'})"
      ]
     },
     "execution_count": 117,
     "metadata": {},
     "output_type": "execute_result"
    }
   ],
   "source": [
    "UkNavDivider()"
   ]
  },
  {
   "cell_type": "markdown",
   "metadata": {},
   "source": [
    "## NavBar"
   ]
  },
  {
   "cell_type": "code",
   "execution_count": 118,
   "metadata": {},
   "outputs": [],
   "source": [
    "#| export\n",
    "def UkNavbarDropdown(*c, label, href='#', cls='', has_header=False, **kwargs):\n",
    "    fn = lambda x: Li(item, cls='uk-drop-close', href='#demo', uk_toggle=True)\n",
    "    flattened = []\n",
    "    for i, item in enumerate(c):\n",
    "        if i > 0: flattened.append(Li(cls=\"uk-nav-divider\"))\n",
    "        if isinstance(item, (list,tuple)): flattened.extend(map(Li, item))\n",
    "        else: flattened.append(Li(item, cls=\"uk-nav-header\" if i == 0 and has_header else None, uk_toggle=True))\n",
    "    return (fh.Li(cls=cls, **kwargs)(\n",
    "                fh.A(label, cls='uk-drop-close', href='#', uk_toggle=True), \n",
    "                Div(cls='uk-navbar-dropdown', uk_dropdown=\"mode: click; pos: bottom-left\")(fh.Ul(cls='uk-nav uk-dropdown-nav')(*flattened))))"
   ]
  },
  {
   "cell_type": "code",
   "execution_count": 119,
   "metadata": {},
   "outputs": [
    {
     "data": {
      "text/markdown": [
       "```html\n",
       "<li>\n",
       "<a href=\"#\" uk-toggle class=\"uk-drop-close\">abc</a>  <div class=\"uk-navbar-dropdown\" uk-dropdown=\"mode: click; pos: bottom-left\">\n",
       "    <ul class=\"uk-nav uk-dropdown-nav\"></ul>\n",
       "  </div>\n",
       "</li>\n",
       "\n",
       "```"
      ],
      "text/plain": [
       "li((a(('abc',),{'href': '#', 'uk-toggle': True, 'class': 'uk-drop-close'}), div((ul((),{'class': 'uk-nav uk-dropdown-nav'}),),{'class': 'uk-navbar-dropdown', 'uk-dropdown': 'mode: click; pos: bottom-left'})),{'class': ''})"
      ]
     },
     "execution_count": 119,
     "metadata": {},
     "output_type": "execute_result"
    }
   ],
   "source": [
    "UkNavbarDropdown(label='abc')"
   ]
  },
  {
   "cell_type": "code",
   "execution_count": 120,
   "metadata": {},
   "outputs": [],
   "source": [
    "#| export\n",
    "def _NavBarSide(n, s):\n",
    "    def add_class(item):\n",
    "        if isinstance(item, str): return Li(cls='uk-navbar-item')(item)\n",
    "        else: item.attrs['class'] = f\"{item.attrs.get('class', '')} uk-navbar-item\".strip()\n",
    "        return item\n",
    "    return Div(cls=f'uk-navbar-{s}')(Ul(cls='uk-navbar-nav')(*map(add_class, tuplify(n))))"
   ]
  },
  {
   "cell_type": "code",
   "execution_count": 121,
   "metadata": {},
   "outputs": [],
   "source": [
    "#| export\n",
    "def UkNavbar(lnav: fh.Sequence[Union[str, FT]]=None, \n",
    "             rnav: fh.Sequence[Union[str, FT]]=None, \n",
    "             cls='',\n",
    "             **kwargs\n",
    "            ) -> FT:\n",
    "    return Div(cls='uk-navbar-container uk-width-1-1 relative z-10 '+ stringify(cls), uk_navbar=True, **kwargs)(\n",
    "             _NavBarSide(lnav,'left') if lnav else '',\n",
    "             _NavBarSide(rnav,'right') if rnav else '')"
   ]
  },
  {
   "cell_type": "code",
   "execution_count": 122,
   "metadata": {},
   "outputs": [
    {
     "data": {
      "text/markdown": [
       "```html\n",
       "<div class=\"uk-navbar-container uk-width-1-1 relative z-10 \" uk-navbar>\n",
       "</div>\n",
       "\n",
       "```"
      ],
      "text/plain": [
       "div(('', ''),{'class': 'uk-navbar-container uk-width-1-1 relative z-10 ', 'uk-navbar': True})"
      ]
     },
     "execution_count": 122,
     "metadata": {},
     "output_type": "execute_result"
    }
   ],
   "source": [
    "UkNavbar()"
   ]
  },
  {
   "cell_type": "markdown",
   "metadata": {},
   "source": [
    "## Sidebar"
   ]
  },
  {
   "cell_type": "code",
   "execution_count": 123,
   "metadata": {},
   "outputs": [],
   "source": [
    "sidebar_items = [\"Profile\", \"Account\", \"Appearance\", \"Notifications\", \"Display\"]\n",
    "tst = fh.Ul(cls='uk-nav-primary', uk_switcher=\"connect: #component-nav; animation: uk-animation-fade\")(\n",
    "                            *map(lambda x: fh.Li(fh.A(x)),sidebar_items))"
   ]
  },
  {
   "cell_type": "code",
   "execution_count": 124,
   "metadata": {},
   "outputs": [],
   "source": [
    "#| export\n",
    "def UkSidebar(*ul,                 # Each Ul can be it's own section.  Use A for links!\n",
    "              cls='space-y-4 p-4', # Classes for outer container\n",
    "              **kwargs             # Kwargs for outer container\n",
    "             ):\n",
    "    \"Creates a styled sidebar component\"\n",
    "    styles = ('uk-nav-default', 'uk-nav-primary','uk-nav-secondary')\n",
    "    sidebar = []\n",
    "    for section in tuplify(ul):\n",
    "        section = copy.deepcopy(section)\n",
    "        _sattrs = section.attrs\n",
    "        if 'class' not in _sattrs: _sattrs['class'] = ''\n",
    "        if 'uk-nav' not in _sattrs: _sattrs['class'] += ' uk-nav '\n",
    "        if not any(x in styles for x in _sattrs['class'].split()): _sattrs['class'] += ' uk-nav-default '\n",
    "        sidebar.append(section)  \n",
    "    return Div(cls=cls, **kwargs)(*sidebar)"
   ]
  },
  {
   "cell_type": "code",
   "execution_count": 125,
   "metadata": {},
   "outputs": [
    {
     "data": {
      "text/markdown": [
       "```html\n",
       "<div class=\"space-y-4 p-4\">\n",
       "  <ul class=\"uk-nav-primary uk-nav \">\n",
       "    <li>\n",
       "<a href=\"#\">Profile</a>    </li>\n",
       "    <li>\n",
       "<a href=\"#\">Account</a>    </li>\n",
       "  </ul>\n",
       "</div>\n",
       "\n",
       "```"
      ],
      "text/plain": [
       "div((ul((li((a(('Profile',),{'href': '#'}),),{}), li((a(('Account',),{'href': '#'}),),{})),{'class': 'uk-nav-primary uk-nav '}),),{'class': 'space-y-4 p-4'})"
      ]
     },
     "execution_count": 125,
     "metadata": {},
     "output_type": "execute_result"
    }
   ],
   "source": [
    "sidebar_items = [\"Profile\", \"Account\"]\n",
    "tst = fh.Ul(cls='uk-nav-primary')(*map(lambda x: fh.Li(fh.A(x)),sidebar_items))\n",
    "UkSidebar(tst)"
   ]
  },
  {
   "cell_type": "markdown",
   "metadata": {},
   "source": [
    "## Navtab"
   ]
  },
  {
   "cell_type": "code",
   "execution_count": 126,
   "metadata": {},
   "outputs": [],
   "source": [
    "#| export\n",
    "def NavTab(text, active=False):\n",
    "    return Li(cls=\"uk-active\" if active else \" \")(A(text, href=\"#demo\", uk_toggle=True))\n",
    "\n",
    "def UkTab(*items, maxw=96, cls='', **kwargs):\n",
    "    cls = stringify(cls)\n",
    "    return Ul(cls=f\"uk-tab-alt max-w-{maxw} \"+cls,**kwargs)(*[NavTab(item, active=i==0) for i, item in enumerate(items)])"
   ]
  },
  {
   "cell_type": "markdown",
   "metadata": {},
   "source": [
    "## Cards"
   ]
  },
  {
   "cell_type": "code",
   "execution_count": 234,
   "metadata": {},
   "outputs": [],
   "source": [
    "#| export\n",
    "CardT = create_uk_enum('CardT',('default', 'primary', 'secondary', 'danger'))"
   ]
  },
  {
   "cell_type": "code",
   "execution_count": 237,
   "metadata": {},
   "outputs": [],
   "source": [
    "#| export\n",
    "def CardTitle(*c, cls=(), **kwargs):\n",
    "    return UKGenericComponent(fh.Div, *c, cls=('uk-card-title',stringify(cls)), **kwargs)\n",
    "\n",
    "def CardHeader(*c, cls=(), **kwargs):\n",
    "    return UkGenericComponent(fh.Div, *c, cls=('uk-card-header',stringify(cls)), **kwargs)\n",
    "\n",
    "def CardBody(*c, cls=(), **kwargs):\n",
    "    return UkGenericComponent(fh.Div, *c, cls=('uk-card-body',stringify(cls)), **kwargs)\n",
    "\n",
    "def CardFooter(*c, cls=(), **kwargs):\n",
    "    return UkGenericComponent(fh.Div, *c, cls=('uk-card-footer',stringify(cls)), **kwargs)\n",
    "\n",
    "def CardContainer(*c, cls=CardT.default, **kwargs):\n",
    "    return UkGenericComponent(fh.Div, *c, cls=('uk-card',stringify(cls)), **kwargs)"
   ]
  },
  {
   "cell_type": "code",
   "execution_count": 238,
   "metadata": {},
   "outputs": [],
   "source": [
    "#|export\n",
    "def Card(*c, # Components that go in the body\n",
    "        header=None, # Components that go in the header\n",
    "        footer=None,  # Components that go in the footer\n",
    "        body_cls='space-y-6', # classes for the body\n",
    "        header_cls=(), # classes for the header\n",
    "        footer_cls=(), # classes for the footer\n",
    "        cls=(), #class for outermost component\n",
    "        **kwargs # classes that for the card itself\n",
    "        ):\n",
    "    header_cls, footer_cls, body_cls, cls = map(stringify, (header_cls, footer_cls, body_cls, cls))\n",
    "    res = []\n",
    "    if header: res.append(CardHeader(cls=header_cls)(header))\n",
    "    res.append(CardBody(cls=body_cls)(*c))\n",
    "    if footer: res.append(CardFooter(cls=footer_cls)(footer))\n",
    "    return CardContainer(cls=cls, **kwargs)(*res)"
   ]
  },
  {
   "cell_type": "markdown",
   "metadata": {},
   "source": [
    "## Tables"
   ]
  },
  {
   "cell_type": "code",
   "execution_count": 144,
   "metadata": {},
   "outputs": [],
   "source": [
    "#| export\n",
    "TableT = create_uk_enum(\"TableT\", ('divider', 'striped', 'hover', 'small', 'large', \n",
    "                                    'justify', 'middle','responsive',))"
   ]
  },
  {
   "cell_type": "code",
   "execution_count": 143,
   "metadata": {},
   "outputs": [],
   "source": [
    "#| export\n",
    "def Table(*args, cls=(TableT.middle, TableT.divider, TableT.hover, TableT.small), **kwargs): \n",
    "    return fh.Table(cls=('uk-table', stringify(cls)), *args, **kwargs)"
   ]
  },
  {
   "cell_type": "code",
   "execution_count": 216,
   "metadata": {},
   "outputs": [],
   "source": [
    "#| export\n",
    "def _TableCell(Component, *args, cls=(), shrink=False, expand=False, small=False, **kwargs):\n",
    "    cls = stringify(cls)\n",
    "    if shrink: cls += ' uk-table-shrink'\n",
    "    if expand: cls += ' uk-table-expand'\n",
    "    if small: cls += ' uk-table-small'\n",
    "    return Component(*args,cls=cls, **kwargs)\n",
    "\n",
    "@delegates(_TableCell, but=['Component'])\n",
    "def Td(*args,**kwargs):  return _TableCell(fh.Td, *args, **kwargs)\n",
    "@delegates(_TableCell, but=['Component'])\n",
    "def Th(*args,**kwargs): return _TableCell(fh.Th, *args, **kwargs)\n",
    "\n",
    "def Tr(*cells, cls=(), **kwargs):  return fh.Tr(*cells, cls=stringify(cls), **kwargs)\n",
    "def Thead(*rows, cls=(), **kwargs): return fh.Thead(*rows, cls=stringify(cls), **kwargs)\n",
    "def Tbody(*rows, cls=(), **kwargs): return fh.Tbody(*rows, cls=stringify(cls), **kwargs)"
   ]
  },
  {
   "cell_type": "code",
   "execution_count": 307,
   "metadata": {},
   "outputs": [],
   "source": [
    "#|export\n",
    "def TableFromLists(header_data, body_data, footer_data=None, \n",
    "                   header_cell_render=Th,body_cell_render=Td, footer_cell_render=Td,\n",
    "                   cls=(TableT.middle, TableT.divider, TableT.hover, TableT.small), **kwargs):\n",
    "    \n",
    "    return Table(\n",
    "                Thead(Tr(*map(header_cell_render, header_data))),\n",
    "                Tbody(*[Tr(*map(body_cell_render, r)) for r in body_data]),\n",
    "                Tfoot(Tr(*map(footer_cell_render, footer_data))) if footer_data else '',\n",
    "                cls=stringify(cls),    \n",
    "                **kwargs)"
   ]
  },
  {
   "cell_type": "code",
   "execution_count": 308,
   "metadata": {},
   "outputs": [
    {
     "data": {
      "text/html": [
       "<table class=\"uk-table uk-table-middle uk-table-divider uk-table-hover uk-table-small\">\n",
       "  <thead>\n",
       "    <tr>\n",
       "      <th>Name</th>\n",
       "      <th>Age</th>\n",
       "      <th>City</th>\n",
       "    </tr>\n",
       "  </thead>\n",
       "  <tbody>\n",
       "    <tr>\n",
       "      <td>Alice</td>\n",
       "      <td>25</td>\n",
       "      <td>New York</td>\n",
       "    </tr>\n",
       "    <tr>\n",
       "      <td>Bob</td>\n",
       "      <td>30</td>\n",
       "      <td>San Francisco</td>\n",
       "    </tr>\n",
       "    <tr>\n",
       "      <td>Charlie</td>\n",
       "      <td>35</td>\n",
       "      <td>London</td>\n",
       "    </tr>\n",
       "  </tbody>\n",
       "  <tfoot>\n",
       "    <tr>\n",
       "      <td>Total</td>\n",
       "      <td>90</td>\n",
       "      <td></td>\n",
       "    </tr>\n",
       "  </tfoot>\n",
       "</table>\n"
      ],
      "text/plain": [
       "<IPython.core.display.HTML object>"
      ]
     },
     "execution_count": 308,
     "metadata": {},
     "output_type": "execute_result"
    }
   ],
   "source": [
    "# Test the function\n",
    "header = ['Name', 'Age', 'City']\n",
    "body = [\n",
    "    ['Alice', '25', 'New York'],\n",
    "    ['Bob', '30', 'San Francisco'],\n",
    "    ['Charlie', '35', 'London']\n",
    "]\n",
    "footer = ['Total', '90', '']\n",
    "\n",
    "fh.show(TableFromLists(header, body, footer))"
   ]
  },
  {
   "cell_type": "code",
   "execution_count": 326,
   "metadata": {},
   "outputs": [],
   "source": [
    "#| export\n",
    "def TableFromDicts(header_data:Sequence, body_data:Sequence[dict], footer_data=None, \n",
    "                   header_cell_render=Th, body_cell_render=lambda k,v : Td(v), footer_cell_render=lambda k,v : Td(v),\n",
    "                   cls=(TableT.middle, TableT.divider, TableT.hover, TableT.small), **kwargs):\n",
    "    \n",
    "    return Table(\n",
    "        Thead(Tr(*[header_cell_render(h) for h in header_data])),\n",
    "        Tbody(*[Tr(*[body_cell_render(k, r) for k in header_data]) for r in body_data]),\n",
    "        Tfoot(Tr(*[footer_cell_render(k, footer_data.get(k.lower(), '')) for k in header_data])) if footer_data else '',\n",
    "        cls=stringify(cls),    \n",
    "        **kwargs\n",
    "    )"
   ]
  },
  {
   "cell_type": "code",
   "execution_count": 327,
   "metadata": {},
   "outputs": [
    {
     "data": {
      "text/html": [
       "<table class=\"uk-table uk-table-middle uk-table-divider uk-table-hover uk-table-small\">\n",
       "  <thead>\n",
       "    <tr>\n",
       "      <th>NAME</th>\n",
       "      <th>AGE</th>\n",
       "      <th>CITY</th>\n",
       "    </tr>\n",
       "  </thead>\n",
       "  <tbody>\n",
       "    <tr>\n",
       "      <td class=\"font-bold\">Alice</td>\n",
       "      <td>30 years</td>\n",
       "      <td>New York</td>\n",
       "    </tr>\n",
       "    <tr>\n",
       "      <td class=\"font-bold\">Bob</td>\n",
       "      <td>25 years</td>\n",
       "      <td>London</td>\n",
       "    </tr>\n",
       "  </tbody>\n",
       "</table>\n"
      ],
      "text/plain": [
       "<IPython.core.display.HTML object>"
      ]
     },
     "execution_count": 327,
     "metadata": {},
     "output_type": "execute_result"
    }
   ],
   "source": [
    "# Example usage:\n",
    "def header_render(v): return Th(v.upper())\n",
    "def body_render(k, v):\n",
    "    match k.lower():\n",
    "        case 'name': return Td(v['name'], cls='font-bold')\n",
    "        case 'age': return Td(f\"{v['age']} years\")\n",
    "        case _: return Td(v[k.lower()])\n",
    "\n",
    "header_data = ['Name', 'Age', 'City']\n",
    "body_data = [\n",
    "    {'name': 'Alice', 'age': 30, 'city': 'New York'},\n",
    "    {'name': 'Bob', 'age': 25, 'city': 'London'}\n",
    "]\n",
    "\n",
    "fh.show(TableFromDicts(header_data, body_data, header_cell_render=header_render, body_cell_render=body_render))"
   ]
  },
  {
   "cell_type": "markdown",
   "metadata": {},
   "source": [
    "## Forms"
   ]
  },
  {
   "cell_type": "code",
   "execution_count": 124,
   "metadata": {},
   "outputs": [],
   "source": [
    "#| export\n",
    "def UkFormSection(title, description, *c, button_txt='Update', outer_margin=6, inner_margin=6):\n",
    "    return Div(cls=f'space-y-{inner_margin} py-{outer_margin}')(\n",
    "        Div(UkH3(title), P(description, cls=TextT.medium_sm)),\n",
    "        UkHSplit(), *c,\n",
    "        Div(UkButton(button_txt, cls=ButtonT.primary)) if button_txt else None)"
   ]
  },
  {
   "cell_type": "code",
   "execution_count": 125,
   "metadata": {},
   "outputs": [],
   "source": [
    "#| hide\n",
    "import nbdev; nbdev.nbdev_export()"
   ]
  },
  {
   "cell_type": "code",
   "execution_count": null,
   "metadata": {},
   "outputs": [],
   "source": []
  }
 ],
 "metadata": {
  "kernelspec": {
   "display_name": "Python 3 (ipykernel)",
   "language": "python",
   "name": "python3"
  },
  "language_info": {
   "codemirror_mode": {
    "name": "ipython",
    "version": 3
   },
   "file_extension": ".py",
   "mimetype": "text/x-python",
   "name": "python",
   "nbconvert_exporter": "python",
   "pygments_lexer": "ipython3",
   "version": "3.12.4"
  }
 },
 "nbformat": 4,
 "nbformat_minor": 4
}
