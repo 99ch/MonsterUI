{
 "cells": [
  {
   "cell_type": "markdown",
   "metadata": {},
   "source": [
    "# Core\n",
    "\n",
    "> The building blocks to the UI"
   ]
  },
  {
   "cell_type": "markdown",
   "metadata": {},
   "source": [
    "## Imports"
   ]
  },
  {
   "cell_type": "markdown",
   "metadata": {},
   "source": [
    "\n"
   ]
  },
  {
   "cell_type": "code",
   "execution_count": null,
   "metadata": {},
   "outputs": [],
   "source": [
    "#| default_exp core"
   ]
  },
  {
   "cell_type": "code",
   "execution_count": null,
   "metadata": {},
   "outputs": [],
   "source": [
    "#| hide\n",
    "#| export\n",
    "import fasthtml.common as fh\n",
    "from fasthtml.common import is_listy, Div, P, Span, Script, FastHTML, FT, to_xml, show\n",
    "from fasthtml.svg import Svg\n",
    "from enum import Enum\n",
    "from fasthtml.components import Uk_select,Uk_input_tag\n",
    "from functools import partial\n",
    "from itertools import zip_longest\n",
    "from typing import Union, Tuple, Optional\n",
    "from fastcore.all import *\n",
    "import copy\n",
    "# from aenum import Enum"
   ]
  },
  {
   "cell_type": "code",
   "execution_count": null,
   "metadata": {},
   "outputs": [
    {
     "data": {
      "text/html": [
       "<script src=\"https://cdn.tailwindcss.com\"></script>\n",
       "<script src=\"https://cdn.jsdelivr.net/npm/uikit@3.21.6/dist/js/uikit.min.js\"></script>\n",
       "<script src=\"https://cdn.jsdelivr.net/npm/uikit@3.21.6/dist/js/uikit-icons.min.js\"></script>\n",
       "<script type=\"module\" src=\"https://unpkg.com/franken-wc@0.0.6/dist/js/wc.iife.js\"></script>\n",
       "<link rel=\"stylesheet\" href=\"https://unpkg.com/franken-wc@0.0.6/dist/css/blue.min.css\">\n",
       "\n",
       "\n",
       "<style>\n",
       "#notebook-container { max-width: none; }\n",
       ".output_html * { list-style-type: none !important; }\n",
       "</style>\n"
      ],
      "text/plain": [
       "<IPython.core.display.HTML object>"
      ]
     },
     "metadata": {},
     "output_type": "display_data"
    }
   ],
   "source": [
    "%%html\n",
    "<script src=\"https://cdn.tailwindcss.com\"></script>\n",
    "<script src=\"https://cdn.jsdelivr.net/npm/uikit@3.21.6/dist/js/uikit.min.js\"></script>\n",
    "<script src=\"https://cdn.jsdelivr.net/npm/uikit@3.21.6/dist/js/uikit-icons.min.js\"></script>\n",
    "<script type=\"module\" src=\"https://unpkg.com/franken-wc@0.0.6/dist/js/wc.iife.js\"></script>\n",
    "<link rel=\"stylesheet\" href=\"https://unpkg.com/franken-wc@0.0.6/dist/css/blue.min.css\">\n",
    "\n",
    "\n",
    "<style>\n",
    "#notebook-container { max-width: none; }\n",
    ".output_html * { list-style-type: none !important; }\n",
    "</style>"
   ]
  },
  {
   "cell_type": "code",
   "execution_count": null,
   "metadata": {},
   "outputs": [],
   "source": [
    "#| hide\n",
    "from functools import partial\n",
    "from IPython.display import HTML"
   ]
  },
  {
   "cell_type": "markdown",
   "metadata": {},
   "source": [
    "## Utils"
   ]
  },
  {
   "cell_type": "markdown",
   "metadata": {},
   "source": [
    "### Docs"
   ]
  },
  {
   "cell_type": "code",
   "execution_count": null,
   "metadata": {},
   "outputs": [],
   "source": [
    "#| hide\n",
    "import pandas as pd"
   ]
  },
  {
   "cell_type": "code",
   "execution_count": null,
   "metadata": {},
   "outputs": [],
   "source": [
    "#| hide\n",
    "def show_enum_options(enum):\n",
    "    df = pd.DataFrame([\n",
    "        {'name': k,\n",
    "         'value': v.value,\n",
    "         'description': '' if v.__doc__ in [None, 'An enumeration.', enum.__doc__] else v.__doc__}\n",
    "        for k, v in enum.__members__.items()\n",
    "    ])\n",
    "    if df['description'].str.strip().eq('').all():\n",
    "        df = df.drop(columns=['description'])\n",
    "    return df.style.hide(axis='index')"
   ]
  },
  {
   "cell_type": "code",
   "execution_count": null,
   "metadata": {},
   "outputs": [],
   "source": [
    "#| hide\n",
    "from nbdev.showdoc import show_doc"
   ]
  },
  {
   "cell_type": "code",
   "execution_count": null,
   "metadata": {},
   "outputs": [],
   "source": [
    "#| hide\n",
    "show_doc = partial(show_doc, title_level=4)"
   ]
  },
  {
   "cell_type": "markdown",
   "metadata": {},
   "source": [
    "### Tests"
   ]
  },
  {
   "cell_type": "code",
   "execution_count": null,
   "metadata": {},
   "outputs": [],
   "source": [
    "#| hide\n",
    "from fastcore.test import *"
   ]
  },
  {
   "cell_type": "code",
   "execution_count": null,
   "metadata": {},
   "outputs": [],
   "source": [
    "#| hide\n",
    "def test_xml_eq(a, b):\n",
    "    \"Tests if if 2 FT components generate the same xml\"\n",
    "    test_eq(*map(lambda x: x if isinstance(x,str) else to_xml(x), (a, b)))"
   ]
  },
  {
   "cell_type": "markdown",
   "metadata": {},
   "source": [
    "### Stringification"
   ]
  },
  {
   "cell_type": "code",
   "execution_count": null,
   "metadata": {},
   "outputs": [],
   "source": [
    "#| export\n",
    "# need a better name, stringify might be too general for what it does \n",
    "def stringify(o # String, Tuple, or Enum options we want stringified\n",
    "             ): # String that can be passed FT comp args (such as `cls=`)\n",
    "    \"Converts input types into strings that can be passed to FT components\"  \n",
    "    if is_listy(o): return ' '.join(map(str,o)) if o else \"\"\n",
    "    return o.__str__()"
   ]
  },
  {
   "cell_type": "code",
   "execution_count": null,
   "metadata": {},
   "outputs": [],
   "source": [
    "assert stringify('abc') == 'abc'\n",
    "assert stringify(('abc','def')) == 'abc def'\n",
    "assert 'uk-input ' + stringify(()) == 'uk-input '\n",
    "assert 'uk-input ' + stringify(\"\") == 'uk-input '"
   ]
  },
  {
   "cell_type": "markdown",
   "metadata": {},
   "source": [
    "### Enum Helper"
   ]
  },
  {
   "cell_type": "code",
   "execution_count": null,
   "metadata": {},
   "outputs": [],
   "source": [
    "#| export\n",
    "#| hide\n",
    "def str2ukcls(base, txt): \n",
    "    return f\"uk-{base}-{txt.replace('_', '-')}\".strip('-')"
   ]
  },
  {
   "cell_type": "code",
   "execution_count": null,
   "metadata": {},
   "outputs": [],
   "source": [
    "#| export\n",
    "#| hide\n",
    "class VEnum(Enum): \n",
    "    def __add__(self, other):   return stringify((self, other))\n",
    "    def __radd__(self, other):  return stringify((other, self)) \n",
    "    def __str__(self): return self.value\n",
    "    \n",
    "    def __new__(cls, value, doc=None):\n",
    "        member = str.__new__(cls) \n",
    "        member._value_ = value\n",
    "        if doc is not None:\n",
    "            member.__doc__ = doc\n",
    "        return member"
   ]
  },
  {
   "cell_type": "code",
   "execution_count": null,
   "metadata": {},
   "outputs": [],
   "source": [
    "#| export\n",
    "#| hide\n",
    "def create_uk_enum(name, options, custom={}, enum_doc=None):\n",
    "    def getval(a): return custom[a] if a in custom.keys() else a\n",
    "    opts = {}\n",
    "    for option in options:\n",
    "        if isinstance(option, tuple): key, doc = option\n",
    "        else: key, doc = option, None\n",
    "        opts[key] = (str2ukcls(name.rstrip('T').lower(), getval(key)), doc)\n",
    "    \n",
    "    enum_class = VEnum(name, opts, type=str)\n",
    "    if enum_doc:\n",
    "        enum_class.__doc__ = enum_doc\n",
    "    return enum_class\n"
   ]
  },
  {
   "cell_type": "code",
   "execution_count": null,
   "metadata": {},
   "outputs": [
    {
     "data": {
      "text/plain": [
       "'uk-test-foo uk-test-bar'"
      ]
     },
     "execution_count": null,
     "metadata": {},
     "output_type": "execute_result"
    }
   ],
   "source": [
    "#| hide\n",
    "TestT = create_uk_enum('TestT',('foo','bar'))\n",
    "stringify((TestT.foo,TestT.bar))"
   ]
  },
  {
   "cell_type": "code",
   "execution_count": null,
   "metadata": {},
   "outputs": [
    {
     "name": "stdout",
     "output_type": "stream",
     "text": [
      "uk-test-foo uk-test-bar\n",
      "foo docs bar docs\n"
     ]
    }
   ],
   "source": [
    "#| hide\n",
    "# Test the fix\n",
    "TestT = create_uk_enum('TestT', (('foo', 'foo docs'), ('bar', 'bar docs')))\n",
    "print(stringify((TestT.foo, TestT.bar)))\n",
    "print(TestT.foo.__doc__, TestT.bar.__doc__)"
   ]
  },
  {
   "cell_type": "markdown",
   "metadata": {},
   "source": [
    "## Basic Components"
   ]
  },
  {
   "cell_type": "code",
   "execution_count": null,
   "metadata": {},
   "outputs": [],
   "source": [
    "#| export\n",
    "def UkGenericComponent(component_fn, *c, cls=(), **kwargs):\n",
    "    \" Create a new component based on a basic HTML component for use with FrankenUI\"\n",
    "    return component_fn(cls=cls, **kwargs)(*c)"
   ]
  },
  {
   "cell_type": "markdown",
   "metadata": {},
   "source": [
    "### Button"
   ]
  },
  {
   "cell_type": "code",
   "execution_count": null,
   "metadata": {},
   "outputs": [],
   "source": [
    "#| export\n",
    "ButtonT = create_uk_enum('ButtonT',('default', \n",
    "                                    ('primary', 'primary color from theme'),\n",
    "                                    ('secondary', 'Uses secondary color from theme'),\n",
    "                                    ('danger', 'Red danger button'),\n",
    "                                    'text',\n",
    "                                    'link',\n",
    "                                    ('ghost', 'Transparent style')),\n",
    "                        enum_doc=\"Style Options for Button from https://franken-ui.dev/docs/button\")"
   ]
  },
  {
   "cell_type": "code",
   "execution_count": null,
   "metadata": {},
   "outputs": [
    {
     "data": {
      "text/markdown": [
       "---\n",
       "\n",
       "#### ButtonT\n",
       "\n",
       ">      ButtonT (*values)\n",
       "\n",
       "*Style Options for Button from https://franken-ui.dev/docs/button*"
      ],
      "text/plain": [
       "---\n",
       "\n",
       "#### ButtonT\n",
       "\n",
       ">      ButtonT (*values)\n",
       "\n",
       "*Style Options for Button from https://franken-ui.dev/docs/button*"
      ]
     },
     "execution_count": null,
     "metadata": {},
     "output_type": "execute_result"
    }
   ],
   "source": [
    "show_doc(ButtonT)"
   ]
  },
  {
   "cell_type": "code",
   "execution_count": null,
   "metadata": {},
   "outputs": [
    {
     "data": {
      "text/html": [
       "<style type=\"text/css\">\n",
       "</style>\n",
       "<table id=\"T_d4074\">\n",
       "  <thead>\n",
       "    <tr>\n",
       "      <th id=\"T_d4074_level0_col0\" class=\"col_heading level0 col0\" >name</th>\n",
       "      <th id=\"T_d4074_level0_col1\" class=\"col_heading level0 col1\" >value</th>\n",
       "      <th id=\"T_d4074_level0_col2\" class=\"col_heading level0 col2\" >description</th>\n",
       "    </tr>\n",
       "  </thead>\n",
       "  <tbody>\n",
       "    <tr>\n",
       "      <td id=\"T_d4074_row0_col0\" class=\"data row0 col0\" >default</td>\n",
       "      <td id=\"T_d4074_row0_col1\" class=\"data row0 col1\" >uk-button-default</td>\n",
       "      <td id=\"T_d4074_row0_col2\" class=\"data row0 col2\" ></td>\n",
       "    </tr>\n",
       "    <tr>\n",
       "      <td id=\"T_d4074_row1_col0\" class=\"data row1 col0\" >primary</td>\n",
       "      <td id=\"T_d4074_row1_col1\" class=\"data row1 col1\" >uk-button-primary</td>\n",
       "      <td id=\"T_d4074_row1_col2\" class=\"data row1 col2\" >primary color from theme</td>\n",
       "    </tr>\n",
       "    <tr>\n",
       "      <td id=\"T_d4074_row2_col0\" class=\"data row2 col0\" >secondary</td>\n",
       "      <td id=\"T_d4074_row2_col1\" class=\"data row2 col1\" >uk-button-secondary</td>\n",
       "      <td id=\"T_d4074_row2_col2\" class=\"data row2 col2\" >Uses secondary color from theme</td>\n",
       "    </tr>\n",
       "    <tr>\n",
       "      <td id=\"T_d4074_row3_col0\" class=\"data row3 col0\" >danger</td>\n",
       "      <td id=\"T_d4074_row3_col1\" class=\"data row3 col1\" >uk-button-danger</td>\n",
       "      <td id=\"T_d4074_row3_col2\" class=\"data row3 col2\" >Red danger button</td>\n",
       "    </tr>\n",
       "    <tr>\n",
       "      <td id=\"T_d4074_row4_col0\" class=\"data row4 col0\" >text</td>\n",
       "      <td id=\"T_d4074_row4_col1\" class=\"data row4 col1\" >uk-button-text</td>\n",
       "      <td id=\"T_d4074_row4_col2\" class=\"data row4 col2\" ></td>\n",
       "    </tr>\n",
       "    <tr>\n",
       "      <td id=\"T_d4074_row5_col0\" class=\"data row5 col0\" >link</td>\n",
       "      <td id=\"T_d4074_row5_col1\" class=\"data row5 col1\" >uk-button-link</td>\n",
       "      <td id=\"T_d4074_row5_col2\" class=\"data row5 col2\" ></td>\n",
       "    </tr>\n",
       "    <tr>\n",
       "      <td id=\"T_d4074_row6_col0\" class=\"data row6 col0\" >ghost</td>\n",
       "      <td id=\"T_d4074_row6_col1\" class=\"data row6 col1\" >uk-button-ghost</td>\n",
       "      <td id=\"T_d4074_row6_col2\" class=\"data row6 col2\" >Transparent style</td>\n",
       "    </tr>\n",
       "  </tbody>\n",
       "</table>\n"
      ],
      "text/plain": [
       "<pandas.io.formats.style.Styler>"
      ]
     },
     "execution_count": null,
     "metadata": {},
     "output_type": "execute_result"
    }
   ],
   "source": [
    "show_enum_options(ButtonT)"
   ]
  },
  {
   "cell_type": "code",
   "execution_count": null,
   "metadata": {},
   "outputs": [],
   "source": [
    "#| export\n",
    "def Button(\n",
    "           *c:str|FT,                     # Components to go inside the Button\n",
    "           cls:str|Enum=ButtonT.default,  # cls for the Button (see ButtonT for style options)\n",
    "           **kwargs                       # any other kwargs will be passed to the button \n",
    "          )-> FT:                         # Button w/ `type=button` and `uk-button` cls\n",
    "    \"A Button with Uk Styling\"\n",
    "    return UkGenericComponent(fh.Button,*c, cls=('uk-button',stringify(cls)), type='button', **kwargs)"
   ]
  },
  {
   "cell_type": "code",
   "execution_count": null,
   "metadata": {},
   "outputs": [
    {
     "data": {
      "text/markdown": [
       "---\n",
       "\n",
       "[source](https://github.com/Isaac-Flath/fh-frankenui/blob/main/fh_frankenui/core.py#L165){target=\"_blank\" style=\"float:right; font-size:smaller\"}\n",
       "\n",
       "#### Button\n",
       "\n",
       ">      Button (*c:str|fastcore.xml.FT, cls:str|enum.Enum=<ButtonT.default: 'uk-\n",
       ">              button-default'>, **kwargs)\n",
       "\n",
       "*A Button with Uk Styling*\n",
       "\n",
       "|    | **Type** | **Default** | **Details** |\n",
       "| -- | -------- | ----------- | ----------- |\n",
       "| c | str \\| fastcore.xml.FT |  |  |\n",
       "| cls | str \\| enum.Enum | uk-button-default |  |\n",
       "| kwargs |  |  |  |\n",
       "| **Returns** | **FT** |  | **Button w/ `type=button` and `uk-button` cls** |"
      ],
      "text/plain": [
       "---\n",
       "\n",
       "[source](https://github.com/Isaac-Flath/fh-frankenui/blob/main/fh_frankenui/core.py#L165){target=\"_blank\" style=\"float:right; font-size:smaller\"}\n",
       "\n",
       "#### Button\n",
       "\n",
       ">      Button (*c:str|fastcore.xml.FT, cls:str|enum.Enum=<ButtonT.default: 'uk-\n",
       ">              button-default'>, **kwargs)\n",
       "\n",
       "*A Button with Uk Styling*\n",
       "\n",
       "|    | **Type** | **Default** | **Details** |\n",
       "| -- | -------- | ----------- | ----------- |\n",
       "| c | str \\| fastcore.xml.FT |  |  |\n",
       "| cls | str \\| enum.Enum | uk-button-default |  |\n",
       "| kwargs |  |  |  |\n",
       "| **Returns** | **FT** |  | **Button w/ `type=button` and `uk-button` cls** |"
      ]
     },
     "execution_count": null,
     "metadata": {},
     "output_type": "execute_result"
    }
   ],
   "source": [
    "show_doc(Button)"
   ]
  },
  {
   "cell_type": "code",
   "execution_count": null,
   "metadata": {},
   "outputs": [
    {
     "data": {
      "text/markdown": [
       "```html\n",
       "<button type=\"button\" class=\"uk-button uk-button-default\">Click Me</button>\n",
       "```"
      ],
      "text/plain": [
       "button(('Click Me',),{'type': 'button', 'class': 'uk-button uk-button-default'})"
      ]
     },
     "execution_count": null,
     "metadata": {},
     "output_type": "execute_result"
    }
   ],
   "source": [
    "Button(\"Click Me\")"
   ]
  },
  {
   "cell_type": "code",
   "execution_count": null,
   "metadata": {},
   "outputs": [
    {
     "data": {
      "text/html": [
       "<div>\n",
       "<button type=\"button\" class=\"uk-button uk-button-default\">Default Class</button><button type=\"button\" class=\"uk-button uk-button-primary\">Primary Class</button><button type=\"button\" class=\"uk-button uk-button-secondary\">Secondary Class</button><button type=\"button\" class=\"uk-button uk-button-danger\">Danger Class</button><button type=\"button\" class=\"uk-button uk-button-ghost\">Ghost Class</button><button type=\"button\" class=\"uk-button uk-button-link\">Link Class</button><button type=\"button\" class=\"uk-button uk-button-text\">Text Class</button></div>\n"
      ],
      "text/plain": [
       "<IPython.core.display.HTML object>"
      ]
     },
     "execution_count": null,
     "metadata": {},
     "output_type": "execute_result"
    }
   ],
   "source": [
    "show(Div(Button(\"Default Class\"),\n",
    "        Button(\"Primary Class\", cls=ButtonT.primary),\n",
    "        Button(\"Secondary Class\", cls=ButtonT.secondary),\n",
    "        Button(\"Danger Class\", cls=ButtonT.danger),\n",
    "        Button(\"Ghost Class\", cls=ButtonT.ghost),\n",
    "        Button(\"Link Class\", cls=ButtonT.link),\n",
    "        Button(\"Text Class\", cls=ButtonT.text),))"
   ]
  },
  {
   "cell_type": "markdown",
   "metadata": {},
   "source": [
    "### Headings"
   ]
  },
  {
   "cell_type": "code",
   "execution_count": null,
   "metadata": {},
   "outputs": [],
   "source": [
    "#| export\n",
    "def H1(*c:FT|str,       # Components to go inside the Heading\n",
    "       cls:Enum|str|tuple=(),   # cls for the Heading\n",
    "       **kwargs  # any other kwargs will be passed to the Heading\n",
    "      )->FT: # Heading with `class=uk-h1` cls\n",
    "    \"A H1 with Uk Styling\"\n",
    "    return UkGenericComponent(fh.H1, *c, cls=('uk-h1',stringify(cls)), **kwargs)"
   ]
  },
  {
   "cell_type": "code",
   "execution_count": null,
   "metadata": {},
   "outputs": [
    {
     "data": {
      "text/markdown": [
       "---\n",
       "\n",
       "[source](https://github.com/Isaac-Flath/fh-frankenui/blob/main/fh_frankenui/core.py#L98){target=\"_blank\" style=\"float:right; font-size:smaller\"}\n",
       "\n",
       "#### H1\n",
       "\n",
       ">      H1 (*c:fastcore.xml.FT|str, cls:enum.Enum|str|tuple=(), **kwargs)\n",
       "\n",
       "*A H1 with Uk Styling*\n",
       "\n",
       "|    | **Type** | **Default** | **Details** |\n",
       "| -- | -------- | ----------- | ----------- |\n",
       "| c | fastcore.xml.FT \\| str |  |  |\n",
       "| cls | enum.Enum \\| str \\| tuple | () |  |\n",
       "| kwargs |  |  |  |\n",
       "| **Returns** | **FT** |  | **Heading with `class=uk-h1` cls** |"
      ],
      "text/plain": [
       "---\n",
       "\n",
       "[source](https://github.com/Isaac-Flath/fh-frankenui/blob/main/fh_frankenui/core.py#L98){target=\"_blank\" style=\"float:right; font-size:smaller\"}\n",
       "\n",
       "#### H1\n",
       "\n",
       ">      H1 (*c:fastcore.xml.FT|str, cls:enum.Enum|str|tuple=(), **kwargs)\n",
       "\n",
       "*A H1 with Uk Styling*\n",
       "\n",
       "|    | **Type** | **Default** | **Details** |\n",
       "| -- | -------- | ----------- | ----------- |\n",
       "| c | fastcore.xml.FT \\| str |  |  |\n",
       "| cls | enum.Enum \\| str \\| tuple | () |  |\n",
       "| kwargs |  |  |  |\n",
       "| **Returns** | **FT** |  | **Heading with `class=uk-h1` cls** |"
      ]
     },
     "execution_count": null,
     "metadata": {},
     "output_type": "execute_result"
    }
   ],
   "source": [
    "show_doc(H1)"
   ]
  },
  {
   "cell_type": "code",
   "execution_count": null,
   "metadata": {},
   "outputs": [],
   "source": [
    "#| export\n",
    "def H2(*c:FT|str,       # Components to go inside the Heading\n",
    "       cls:Enum|str|tuple=(),   # cls for the Heading\n",
    "       **kwargs  # any other kwargs will be passed to the Heading\n",
    "      )->FT: # Heading with `class=uk-h2` cls\n",
    "    \"A H2 with Uk Styling\"\n",
    "    return UkGenericComponent(fh.H2, *c, cls=('uk-h2',stringify(cls)), **kwargs)"
   ]
  },
  {
   "cell_type": "code",
   "execution_count": null,
   "metadata": {},
   "outputs": [
    {
     "data": {
      "text/markdown": [
       "---\n",
       "\n",
       "[source](https://github.com/Isaac-Flath/fh-frankenui/blob/main/fh_frankenui/core.py#L106){target=\"_blank\" style=\"float:right; font-size:smaller\"}\n",
       "\n",
       "#### H2\n",
       "\n",
       ">      H2 (*c:fastcore.xml.FT|str, cls:enum.Enum|str|tuple=(), **kwargs)\n",
       "\n",
       "*A H2 with Uk Styling*\n",
       "\n",
       "|    | **Type** | **Default** | **Details** |\n",
       "| -- | -------- | ----------- | ----------- |\n",
       "| c | fastcore.xml.FT \\| str |  |  |\n",
       "| cls | enum.Enum \\| str \\| tuple | () |  |\n",
       "| kwargs |  |  |  |\n",
       "| **Returns** | **FT** |  | **Heading with `class=uk-h2` cls** |"
      ],
      "text/plain": [
       "---\n",
       "\n",
       "[source](https://github.com/Isaac-Flath/fh-frankenui/blob/main/fh_frankenui/core.py#L106){target=\"_blank\" style=\"float:right; font-size:smaller\"}\n",
       "\n",
       "#### H2\n",
       "\n",
       ">      H2 (*c:fastcore.xml.FT|str, cls:enum.Enum|str|tuple=(), **kwargs)\n",
       "\n",
       "*A H2 with Uk Styling*\n",
       "\n",
       "|    | **Type** | **Default** | **Details** |\n",
       "| -- | -------- | ----------- | ----------- |\n",
       "| c | fastcore.xml.FT \\| str |  |  |\n",
       "| cls | enum.Enum \\| str \\| tuple | () |  |\n",
       "| kwargs |  |  |  |\n",
       "| **Returns** | **FT** |  | **Heading with `class=uk-h2` cls** |"
      ]
     },
     "execution_count": null,
     "metadata": {},
     "output_type": "execute_result"
    }
   ],
   "source": [
    "show_doc(H2)"
   ]
  },
  {
   "cell_type": "code",
   "execution_count": null,
   "metadata": {},
   "outputs": [],
   "source": [
    "#| export\n",
    "def H3(*c:FT|str,       # Components to go inside the Heading\n",
    "       cls:Enum|str|tuple=(),   # cls for the Heading\n",
    "       **kwargs  # any other kwargs will be passed to the Heading\n",
    "      )->FT: # Heading with `class=uk-h3` cls\n",
    "    \"A H1 with Uk Styling\"\n",
    "    return UkGenericComponent(fh.H1, *c, cls=('uk-h1',stringify(cls)), **kwargs)"
   ]
  },
  {
   "cell_type": "code",
   "execution_count": null,
   "metadata": {},
   "outputs": [
    {
     "data": {
      "text/markdown": [
       "---\n",
       "\n",
       "[source](https://github.com/Isaac-Flath/fh-frankenui/blob/main/fh_frankenui/core.py#L114){target=\"_blank\" style=\"float:right; font-size:smaller\"}\n",
       "\n",
       "#### H3\n",
       "\n",
       ">      H3 (*c:fastcore.xml.FT|str, cls:enum.Enum|str|tuple=(), **kwargs)\n",
       "\n",
       "*A H1 with Uk Styling*\n",
       "\n",
       "|    | **Type** | **Default** | **Details** |\n",
       "| -- | -------- | ----------- | ----------- |\n",
       "| c | fastcore.xml.FT \\| str |  |  |\n",
       "| cls | enum.Enum \\| str \\| tuple | () |  |\n",
       "| kwargs |  |  |  |\n",
       "| **Returns** | **FT** |  | **Heading with `class=uk-h3` cls** |"
      ],
      "text/plain": [
       "---\n",
       "\n",
       "[source](https://github.com/Isaac-Flath/fh-frankenui/blob/main/fh_frankenui/core.py#L114){target=\"_blank\" style=\"float:right; font-size:smaller\"}\n",
       "\n",
       "#### H3\n",
       "\n",
       ">      H3 (*c:fastcore.xml.FT|str, cls:enum.Enum|str|tuple=(), **kwargs)\n",
       "\n",
       "*A H1 with Uk Styling*\n",
       "\n",
       "|    | **Type** | **Default** | **Details** |\n",
       "| -- | -------- | ----------- | ----------- |\n",
       "| c | fastcore.xml.FT \\| str |  |  |\n",
       "| cls | enum.Enum \\| str \\| tuple | () |  |\n",
       "| kwargs |  |  |  |\n",
       "| **Returns** | **FT** |  | **Heading with `class=uk-h3` cls** |"
      ]
     },
     "execution_count": null,
     "metadata": {},
     "output_type": "execute_result"
    }
   ],
   "source": [
    "show_doc(H3)"
   ]
  },
  {
   "cell_type": "code",
   "execution_count": null,
   "metadata": {},
   "outputs": [],
   "source": [
    "#| export\n",
    "def H4(*c:FT|str,       # Components to go inside the Heading\n",
    "       cls:Enum|str|tuple=(),   # cls for the Heading\n",
    "       **kwargs  # any other kwargs will be passed to the Heading\n",
    "      )->FT: # Heading with `class=uk-h4` cls\n",
    "    \"A H4 with Uk Styling\"\n",
    "    return UkGenericComponent(fh.H4, *c, cls=('uk-H4',stringify(cls)), **kwargs)"
   ]
  },
  {
   "cell_type": "code",
   "execution_count": null,
   "metadata": {},
   "outputs": [
    {
     "data": {
      "text/markdown": [
       "---\n",
       "\n",
       "[source](https://github.com/Isaac-Flath/fh-frankenui/blob/main/fh_frankenui/core.py#L122){target=\"_blank\" style=\"float:right; font-size:smaller\"}\n",
       "\n",
       "#### H4\n",
       "\n",
       ">      H4 (*c:fastcore.xml.FT|str, cls:enum.Enum|str|tuple=(), **kwargs)\n",
       "\n",
       "*A H4 with Uk Styling*\n",
       "\n",
       "|    | **Type** | **Default** | **Details** |\n",
       "| -- | -------- | ----------- | ----------- |\n",
       "| c | fastcore.xml.FT \\| str |  |  |\n",
       "| cls | enum.Enum \\| str \\| tuple | () |  |\n",
       "| kwargs |  |  |  |\n",
       "| **Returns** | **FT** |  | **Heading with `class=uk-h4` cls** |"
      ],
      "text/plain": [
       "---\n",
       "\n",
       "[source](https://github.com/Isaac-Flath/fh-frankenui/blob/main/fh_frankenui/core.py#L122){target=\"_blank\" style=\"float:right; font-size:smaller\"}\n",
       "\n",
       "#### H4\n",
       "\n",
       ">      H4 (*c:fastcore.xml.FT|str, cls:enum.Enum|str|tuple=(), **kwargs)\n",
       "\n",
       "*A H4 with Uk Styling*\n",
       "\n",
       "|    | **Type** | **Default** | **Details** |\n",
       "| -- | -------- | ----------- | ----------- |\n",
       "| c | fastcore.xml.FT \\| str |  |  |\n",
       "| cls | enum.Enum \\| str \\| tuple | () |  |\n",
       "| kwargs |  |  |  |\n",
       "| **Returns** | **FT** |  | **Heading with `class=uk-h4` cls** |"
      ]
     },
     "execution_count": null,
     "metadata": {},
     "output_type": "execute_result"
    }
   ],
   "source": [
    "show_doc(H4)"
   ]
  },
  {
   "cell_type": "code",
   "execution_count": null,
   "metadata": {},
   "outputs": [
    {
     "data": {
      "text/html": [
       "<div>\n",
       "  <h1 class=\"uk-h1 \">Heading 1 (H1)</h1>\n",
       "  <h2 class=\"uk-h2 \">Heading 2 (H2)</h2>\n",
       "  <h1 class=\"uk-h1 \">Heading 3 (H3)</h1>\n",
       "  <h4 class=\"uk-H4 \">Heading 4 (H4)</h4>\n",
       "</div>\n"
      ],
      "text/plain": [
       "<IPython.core.display.HTML object>"
      ]
     },
     "execution_count": null,
     "metadata": {},
     "output_type": "execute_result"
    }
   ],
   "source": [
    "show(Div(\n",
    "    H1(\"Heading 1 (H1)\"),\n",
    "    H2(\"Heading 2 (H2)\"),\n",
    "    H3(\"Heading 3 (H3)\"),\n",
    "    H4(\"Heading 4 (H4)\")))"
   ]
  },
  {
   "cell_type": "markdown",
   "metadata": {},
   "source": [
    "### Articles & Containers"
   ]
  },
  {
   "cell_type": "code",
   "execution_count": null,
   "metadata": {},
   "outputs": [],
   "source": [
    "#| export\n",
    "def Alert(*c, cls=(), **kwargs): \n",
    "    return UkGenericComponent(Div, *c, cls=('uk-alert',stringify(cls)), uk_alert=True, **kwargs)"
   ]
  },
  {
   "cell_type": "code",
   "execution_count": null,
   "metadata": {},
   "outputs": [
    {
     "data": {
      "text/markdown": [
       "```html\n",
       "<div class=\"uk-alert \" uk-alert></div>\n",
       "\n",
       "```"
      ],
      "text/plain": [
       "div((),{'class': 'uk-alert ', 'uk-alert': True})"
      ]
     },
     "execution_count": null,
     "metadata": {},
     "output_type": "execute_result"
    }
   ],
   "source": [
    "Alert()"
   ]
  },
  {
   "cell_type": "code",
   "execution_count": null,
   "metadata": {},
   "outputs": [],
   "source": [
    "#| export\n",
    "def Article(*c, cls=(), **kwargs):\n",
    "    return UkGenericComponent(fh.Article, *c, cls=('uk-article',stringify(cls)), **kwargs)\n",
    "\n",
    "def ArticleTitle(*c, cls=(), **kwargs):\n",
    "    return UkGenericComponent(H1, *c, cls=('uk-article-title',stringify(cls)), **kwargs)\n",
    "\n",
    "def ArticleMeta(*c, cls=(), **kwargs):\n",
    "    return UkGenericComponent(P, *c, cls=('uk-article-meta',stringify(cls)), **kwargs)"
   ]
  },
  {
   "cell_type": "code",
   "execution_count": null,
   "metadata": {},
   "outputs": [
    {
     "data": {
      "text/markdown": [
       "```html\n",
       "<article class=\"uk-article \">\n",
       "  <h1 class=\"uk-h1 uk-article-title \">Article Title</h1>\n",
       "  <p class=\"uk-article-meta \">By: John Doe</p>\n",
       "</article>\n",
       "\n",
       "```"
      ],
      "text/plain": [
       "article((h1(('Article Title',),{'class': 'uk-h1 uk-article-title '}), p(('By: John Doe',),{'class': 'uk-article-meta '})),{'class': 'uk-article '})"
      ]
     },
     "execution_count": null,
     "metadata": {},
     "output_type": "execute_result"
    }
   ],
   "source": [
    "Article(ArticleTitle(\"Article Title\"), ArticleMeta(\"By: John Doe\"))"
   ]
  },
  {
   "cell_type": "code",
   "execution_count": null,
   "metadata": {},
   "outputs": [
    {
     "data": {
      "text/html": [
       "<article class=\"uk-article \">\n",
       "  <h1 class=\"uk-h1 uk-article-title \">Article Title</h1>\n",
       "  <p class=\"uk-article-meta \">By: John Doe</p>\n",
       "</article>\n"
      ],
      "text/plain": [
       "<IPython.core.display.HTML object>"
      ]
     },
     "execution_count": null,
     "metadata": {},
     "output_type": "execute_result"
    }
   ],
   "source": [
    "show(Article(ArticleTitle(\"Article Title\"), ArticleMeta(\"By: John Doe\")))"
   ]
  },
  {
   "cell_type": "code",
   "execution_count": null,
   "metadata": {},
   "outputs": [],
   "source": [
    "#| export\n",
    "ContainerT = create_uk_enum('ContainerT',('xsmall','small','large','xlarge','expand'), enum_doc='Max width container sizes from https://franken-ui.dev/docs/container')"
   ]
  },
  {
   "cell_type": "code",
   "execution_count": null,
   "metadata": {},
   "outputs": [
    {
     "data": {
      "text/markdown": [
       "---\n",
       "\n",
       "#### ContainerT\n",
       "\n",
       ">      ContainerT (*values)\n",
       "\n",
       "*Max width container sizes from https://franken-ui.dev/docs/container*"
      ],
      "text/plain": [
       "---\n",
       "\n",
       "#### ContainerT\n",
       "\n",
       ">      ContainerT (*values)\n",
       "\n",
       "*Max width container sizes from https://franken-ui.dev/docs/container*"
      ]
     },
     "execution_count": null,
     "metadata": {},
     "output_type": "execute_result"
    }
   ],
   "source": [
    "show_doc(ContainerT)"
   ]
  },
  {
   "cell_type": "code",
   "execution_count": null,
   "metadata": {},
   "outputs": [
    {
     "data": {
      "text/html": [
       "<style type=\"text/css\">\n",
       "</style>\n",
       "<table id=\"T_27d6a\">\n",
       "  <thead>\n",
       "    <tr>\n",
       "      <th id=\"T_27d6a_level0_col0\" class=\"col_heading level0 col0\" >name</th>\n",
       "      <th id=\"T_27d6a_level0_col1\" class=\"col_heading level0 col1\" >value</th>\n",
       "    </tr>\n",
       "  </thead>\n",
       "  <tbody>\n",
       "    <tr>\n",
       "      <td id=\"T_27d6a_row0_col0\" class=\"data row0 col0\" >xsmall</td>\n",
       "      <td id=\"T_27d6a_row0_col1\" class=\"data row0 col1\" >uk-container-xsmall</td>\n",
       "    </tr>\n",
       "    <tr>\n",
       "      <td id=\"T_27d6a_row1_col0\" class=\"data row1 col0\" >small</td>\n",
       "      <td id=\"T_27d6a_row1_col1\" class=\"data row1 col1\" >uk-container-small</td>\n",
       "    </tr>\n",
       "    <tr>\n",
       "      <td id=\"T_27d6a_row2_col0\" class=\"data row2 col0\" >large</td>\n",
       "      <td id=\"T_27d6a_row2_col1\" class=\"data row2 col1\" >uk-container-large</td>\n",
       "    </tr>\n",
       "    <tr>\n",
       "      <td id=\"T_27d6a_row3_col0\" class=\"data row3 col0\" >xlarge</td>\n",
       "      <td id=\"T_27d6a_row3_col1\" class=\"data row3 col1\" >uk-container-xlarge</td>\n",
       "    </tr>\n",
       "    <tr>\n",
       "      <td id=\"T_27d6a_row4_col0\" class=\"data row4 col0\" >expand</td>\n",
       "      <td id=\"T_27d6a_row4_col1\" class=\"data row4 col1\" >uk-container-expand</td>\n",
       "    </tr>\n",
       "  </tbody>\n",
       "</table>\n"
      ],
      "text/plain": [
       "<pandas.io.formats.style.Styler>"
      ]
     },
     "execution_count": null,
     "metadata": {},
     "output_type": "execute_result"
    }
   ],
   "source": [
    "show_enum_options(ContainerT)"
   ]
  },
  {
   "cell_type": "code",
   "execution_count": null,
   "metadata": {},
   "outputs": [],
   "source": [
    "#| export\n",
    "def Container(*c, cls=(), **kwargs): \n",
    "    return UkGenericComponent(Div, *c, cls=('uk-container',stringify(cls)), **kwargs)"
   ]
  },
  {
   "cell_type": "code",
   "execution_count": null,
   "metadata": {},
   "outputs": [
    {
     "data": {
      "text/html": [
       "<div>\n",
       "  <div class=\"uk-container uk-container-xsmall bg-blue-200\">XSmall container</div>\n",
       "  <div class=\"uk-container uk-container-small bg-red-200\">Small container</div>\n",
       "  <div class=\"uk-container uk-container-large bg-yellow-200\">Large container</div>\n",
       "</div>\n"
      ],
      "text/plain": [
       "<IPython.core.display.HTML object>"
      ]
     },
     "execution_count": null,
     "metadata": {},
     "output_type": "execute_result"
    }
   ],
   "source": [
    "# Add background colors to the containers\n",
    "show(Div(Container(cls=(ContainerT.xsmall, \"bg-blue-200\"))(\"XSmall container\"),\n",
    "         Container(cls=(ContainerT.small, \"bg-red-200\"))(\"Small container\"),\n",
    "         Container(cls=(ContainerT.large, \"bg-yellow-200\"))(\"Large container\")))"
   ]
  },
  {
   "cell_type": "markdown",
   "metadata": {},
   "source": [
    "### Forms & Inputs"
   ]
  },
  {
   "cell_type": "code",
   "execution_count": null,
   "metadata": {},
   "outputs": [],
   "source": [
    "#| export\n",
    "def Input(*c, cls=(), **kwargs): \n",
    "    return UkGenericComponent(fh.Input, *c, cls=('uk-input',stringify(cls)), **kwargs)\n",
    "def Select(*c, cls=(), **kwargs):\n",
    "    return UkGenericComponent(fh.Select, *c, cls=('uk-select',stringify(cls)), **kwargs)\n",
    "def Radio(*c, cls=(), **kwargs): \n",
    "    return UkGenericComponent(fh.Input, *c, cls=('uk-radio',stringify(cls)), type='radio', **kwargs)\n",
    "def CheckboxX(*c, cls=(), **kwargs): \n",
    "    return UkGenericComponent(fh.Input, *c, cls=('uk-checkbox',stringify(cls)), type='checkbox', **kwargs)\n",
    "def Range(*c, cls=(), **kwargs): \n",
    "    return UkGenericComponent(fh.Input, *c, cls=('uk-range',stringify(cls)), type='range', **kwargs)\n",
    "def Toggle_switch(*c, cls=(), **kwargs): \n",
    "    return UkGenericComponent(fh.Input, *c, cls=('uk-toggle-switch',stringify(cls)), type='checkbox', **kwargs)\n",
    "def TextArea(*c, cls=(), **kwargs): \n",
    "    return UkGenericComponent(fh.Textarea, *c, cls=('uk-textarea',stringify(cls)), **kwargs)\n",
    "def Button(*c, cls=ButtonT.default,  **kwargs):\n",
    "    return UkGenericComponent(fh.Button,*c, cls=('uk-button',stringify(cls)), type='button', **kwargs)\n",
    "def Switch(*c, cls=(), **kwargs):\n",
    "    return UkGenericComponent(fh.Input, *c, cls=('uk-toggle-switch',stringify(cls)), type='checkbox', **kwargs)"
   ]
  },
  {
   "cell_type": "code",
   "execution_count": null,
   "metadata": {},
   "outputs": [
    {
     "data": {
      "text/html": [
       "<div class=\"space-y-4\">\n",
       "  <p>\n",
       "Input:     <input class=\"uk-input \">\n",
       "  </p>\n",
       "  <p>\n",
       "Select: <select class=\"uk-select \"><option>Option 1</option><option>Option 2</option></select>  </p>\n",
       "  <p>\n",
       "Radio:     <input type=\"radio\" class=\"uk-radio \">\n",
       "  </p>\n",
       "  <p>\n",
       "Checkbox:     <input type=\"checkbox\" class=\"uk-checkbox \">\n",
       "  </p>\n",
       "  <p>\n",
       "Range:     <input type=\"range\" class=\"uk-range \">\n",
       "  </p>\n",
       "  <p>\n",
       "Toggle switch:     <input type=\"checkbox\" class=\"uk-toggle-switch \">\n",
       "  </p>\n",
       "  <p>\n",
       "TextArea: <textarea class=\"uk-textarea \"></textarea>  </p>\n",
       "  <p>\n",
       "Button: <button type=\"button\" class=\"uk-button uk-button-default\">Click me</button>  </p>\n",
       "  <p>\n",
       "Switch:     <input type=\"checkbox\" class=\"uk-toggle-switch \">\n",
       "  </p>\n",
       "</div>\n"
      ],
      "text/plain": [
       "<IPython.core.display.HTML object>"
      ]
     },
     "execution_count": null,
     "metadata": {},
     "output_type": "execute_result"
    }
   ],
   "source": [
    "show(Div(\n",
    "    P(\"Input: \", Input()),\n",
    "    P(\"Select: \", Select(fh.Option(\"Option 1\"), fh.Option(\"Option 2\"))),\n",
    "    P(\"Radio: \", Radio()),\n",
    "    P(\"Checkbox: \", CheckboxX()),\n",
    "    P(\"Range: \", Range()),\n",
    "    P(\"Toggle switch: \", Toggle_switch()),\n",
    "    P(\"TextArea: \", TextArea()),\n",
    "    P(\"Button: \", Button(\"Click me\")),\n",
    "    P(\"Switch: \", Switch()),\n",
    "    cls=\"space-y-4\"\n",
    "))"
   ]
  },
  {
   "cell_type": "code",
   "execution_count": null,
   "metadata": {},
   "outputs": [],
   "source": [
    "#| export\n",
    "LabelT = create_uk_enum('LabelT', ('primary', 'secondary', 'danger'))"
   ]
  },
  {
   "cell_type": "code",
   "execution_count": null,
   "metadata": {},
   "outputs": [],
   "source": [
    "#| export\n",
    "def Label(*c, cls=(), **kwargs):\n",
    "    return UkGenericComponent(fh.Label, *c, cls=('uk-label',stringify(cls)), **kwargs)"
   ]
  },
  {
   "cell_type": "code",
   "execution_count": null,
   "metadata": {},
   "outputs": [
    {
     "data": {
      "text/markdown": [
       "```html\n",
       "<label class=\"uk-label \">My Label</label>\n",
       "```"
      ],
      "text/plain": [
       "label(('My Label',),{'class': 'uk-label '})"
      ]
     },
     "execution_count": null,
     "metadata": {},
     "output_type": "execute_result"
    }
   ],
   "source": [
    "Label(\"My Label\")"
   ]
  },
  {
   "cell_type": "code",
   "execution_count": null,
   "metadata": {},
   "outputs": [
    {
     "data": {
      "text/html": [
       "<label class=\"uk-label \">My Label</label>"
      ],
      "text/plain": [
       "<IPython.core.display.HTML object>"
      ]
     },
     "execution_count": null,
     "metadata": {},
     "output_type": "execute_result"
    }
   ],
   "source": [
    "show(Label(\"My Label\"))"
   ]
  },
  {
   "cell_type": "code",
   "execution_count": null,
   "metadata": {},
   "outputs": [],
   "source": [
    "#|export\n",
    "def FormLabel(*c, cls=(), **kwargs):\n",
    "    return UkGenericComponent(fh.Label, *c, cls=('uk-form-label',stringify(cls)), **kwargs)"
   ]
  },
  {
   "cell_type": "code",
   "execution_count": null,
   "metadata": {},
   "outputs": [
    {
     "data": {
      "text/markdown": [
       "```html\n",
       "<label class=\"uk-form-label \">My Form Label</label>\n",
       "```"
      ],
      "text/plain": [
       "label(('My Form Label',),{'class': 'uk-form-label '})"
      ]
     },
     "execution_count": null,
     "metadata": {},
     "output_type": "execute_result"
    }
   ],
   "source": [
    "FormLabel('My Form Label')"
   ]
  },
  {
   "cell_type": "code",
   "execution_count": null,
   "metadata": {},
   "outputs": [
    {
     "data": {
      "text/html": [
       "<label class=\"uk-form-label \">My Form Label</label>"
      ],
      "text/plain": [
       "<IPython.core.display.HTML object>"
      ]
     },
     "execution_count": null,
     "metadata": {},
     "output_type": "execute_result"
    }
   ],
   "source": [
    "show(FormLabel('My Form Label'))"
   ]
  },
  {
   "cell_type": "markdown",
   "metadata": {},
   "source": [
    "### Links"
   ]
  },
  {
   "cell_type": "code",
   "execution_count": null,
   "metadata": {},
   "outputs": [],
   "source": [
    "#| export\n",
    "LinkT = create_uk_enum('LinkT', ('muted', 'text', 'reset'), enum_doc='Link styles from https://franken-ui.dev/docs/link')"
   ]
  },
  {
   "cell_type": "code",
   "execution_count": null,
   "metadata": {},
   "outputs": [
    {
     "data": {
      "text/markdown": [
       "---\n",
       "\n",
       "#### LinkT\n",
       "\n",
       ">      LinkT (*values)\n",
       "\n",
       "*Link styles from https://franken-ui.dev/docs/link*"
      ],
      "text/plain": [
       "---\n",
       "\n",
       "#### LinkT\n",
       "\n",
       ">      LinkT (*values)\n",
       "\n",
       "*Link styles from https://franken-ui.dev/docs/link*"
      ]
     },
     "execution_count": null,
     "metadata": {},
     "output_type": "execute_result"
    }
   ],
   "source": [
    "show_doc(LinkT)"
   ]
  },
  {
   "cell_type": "code",
   "execution_count": null,
   "metadata": {},
   "outputs": [
    {
     "data": {
      "text/html": [
       "<style type=\"text/css\">\n",
       "</style>\n",
       "<table id=\"T_5f665\">\n",
       "  <thead>\n",
       "    <tr>\n",
       "      <th id=\"T_5f665_level0_col0\" class=\"col_heading level0 col0\" >name</th>\n",
       "      <th id=\"T_5f665_level0_col1\" class=\"col_heading level0 col1\" >value</th>\n",
       "    </tr>\n",
       "  </thead>\n",
       "  <tbody>\n",
       "    <tr>\n",
       "      <td id=\"T_5f665_row0_col0\" class=\"data row0 col0\" >muted</td>\n",
       "      <td id=\"T_5f665_row0_col1\" class=\"data row0 col1\" >uk-link-muted</td>\n",
       "    </tr>\n",
       "    <tr>\n",
       "      <td id=\"T_5f665_row1_col0\" class=\"data row1 col0\" >text</td>\n",
       "      <td id=\"T_5f665_row1_col1\" class=\"data row1 col1\" >uk-link-text</td>\n",
       "    </tr>\n",
       "    <tr>\n",
       "      <td id=\"T_5f665_row2_col0\" class=\"data row2 col0\" >reset</td>\n",
       "      <td id=\"T_5f665_row2_col1\" class=\"data row2 col1\" >uk-link-reset</td>\n",
       "    </tr>\n",
       "  </tbody>\n",
       "</table>\n"
      ],
      "text/plain": [
       "<pandas.io.formats.style.Styler>"
      ]
     },
     "execution_count": null,
     "metadata": {},
     "output_type": "execute_result"
    }
   ],
   "source": [
    "show_enum_options(LinkT)"
   ]
  },
  {
   "cell_type": "code",
   "execution_count": null,
   "metadata": {},
   "outputs": [],
   "source": [
    "#| export\n",
    "def Link(*c, cls=(), **kwargs):  \n",
    "    return UkGenericComponent(fh.A, *c, cls=('uk-link',stringify(cls)), **kwargs)"
   ]
  },
  {
   "cell_type": "code",
   "execution_count": null,
   "metadata": {},
   "outputs": [
    {
     "data": {
      "text/markdown": [
       "```html\n",
       "<a href=\"#\" class=\"uk-link \">Default Link</a>\n",
       "```"
      ],
      "text/plain": [
       "a(('Default Link',),{'href': '#', 'class': 'uk-link '})"
      ]
     },
     "execution_count": null,
     "metadata": {},
     "output_type": "execute_result"
    }
   ],
   "source": [
    "Link('Default Link')"
   ]
  },
  {
   "cell_type": "code",
   "execution_count": null,
   "metadata": {},
   "outputs": [
    {
     "data": {
      "text/html": [
       "<div class=\"space-x-4\">\n",
       "<a href=\"#\" class=\"uk-link \">Default Link</a><a href=\"#\" class=\"uk-link uk-link-muted\">Muted Link</a><a href=\"#\" class=\"uk-link uk-link-text\">Text Link</a><a href=\"#\" class=\"uk-link uk-link-reset\">Reset Link</a></div>\n"
      ],
      "text/plain": [
       "<IPython.core.display.HTML object>"
      ]
     },
     "execution_count": null,
     "metadata": {},
     "output_type": "execute_result"
    }
   ],
   "source": [
    "show(Div(cls='space-x-4')(Link('Default Link'),\n",
    "                     Link('Muted Link', cls=LinkT.muted),\n",
    "                     Link('Text Link', cls=LinkT.text),\n",
    "                     Link('Reset Link', cls=LinkT.reset)))"
   ]
  },
  {
   "cell_type": "markdown",
   "metadata": {},
   "source": [
    "### Lists"
   ]
  },
  {
   "cell_type": "code",
   "execution_count": null,
   "metadata": {},
   "outputs": [],
   "source": [
    "ListT = create_uk_enum('ListT', (\n",
    "    *map(lambda x: (x, \"Style Modifier\"),('disc', 'circle', 'square', 'decimal', 'hyphen')), \n",
    "    *map(lambda x: (x, \"Color Modifier\"),('muted', 'primary', 'secondary')),\n",
    "    *map(lambda x: (x, \"Other Modifier\"),('bullet', 'divider', 'striped')),\n",
    "), enum_doc='List styles from https://franken-ui.dev/docs/list')"
   ]
  },
  {
   "cell_type": "code",
   "execution_count": null,
   "metadata": {},
   "outputs": [
    {
     "data": {
      "text/markdown": [
       "---\n",
       "\n",
       "#### ListT\n",
       "\n",
       ">      ListT (*values)\n",
       "\n",
       "*List styles from https://franken-ui.dev/docs/list*"
      ],
      "text/plain": [
       "---\n",
       "\n",
       "#### ListT\n",
       "\n",
       ">      ListT (*values)\n",
       "\n",
       "*List styles from https://franken-ui.dev/docs/list*"
      ]
     },
     "execution_count": null,
     "metadata": {},
     "output_type": "execute_result"
    }
   ],
   "source": [
    "show_doc(ListT)"
   ]
  },
  {
   "cell_type": "code",
   "execution_count": null,
   "metadata": {},
   "outputs": [
    {
     "data": {
      "text/html": [
       "<style type=\"text/css\">\n",
       "</style>\n",
       "<table id=\"T_99b44\">\n",
       "  <thead>\n",
       "    <tr>\n",
       "      <th id=\"T_99b44_level0_col0\" class=\"col_heading level0 col0\" >name</th>\n",
       "      <th id=\"T_99b44_level0_col1\" class=\"col_heading level0 col1\" >value</th>\n",
       "      <th id=\"T_99b44_level0_col2\" class=\"col_heading level0 col2\" >description</th>\n",
       "    </tr>\n",
       "  </thead>\n",
       "  <tbody>\n",
       "    <tr>\n",
       "      <td id=\"T_99b44_row0_col0\" class=\"data row0 col0\" >disc</td>\n",
       "      <td id=\"T_99b44_row0_col1\" class=\"data row0 col1\" >uk-list-disc</td>\n",
       "      <td id=\"T_99b44_row0_col2\" class=\"data row0 col2\" >Style Modifier</td>\n",
       "    </tr>\n",
       "    <tr>\n",
       "      <td id=\"T_99b44_row1_col0\" class=\"data row1 col0\" >circle</td>\n",
       "      <td id=\"T_99b44_row1_col1\" class=\"data row1 col1\" >uk-list-circle</td>\n",
       "      <td id=\"T_99b44_row1_col2\" class=\"data row1 col2\" >Style Modifier</td>\n",
       "    </tr>\n",
       "    <tr>\n",
       "      <td id=\"T_99b44_row2_col0\" class=\"data row2 col0\" >square</td>\n",
       "      <td id=\"T_99b44_row2_col1\" class=\"data row2 col1\" >uk-list-square</td>\n",
       "      <td id=\"T_99b44_row2_col2\" class=\"data row2 col2\" >Style Modifier</td>\n",
       "    </tr>\n",
       "    <tr>\n",
       "      <td id=\"T_99b44_row3_col0\" class=\"data row3 col0\" >decimal</td>\n",
       "      <td id=\"T_99b44_row3_col1\" class=\"data row3 col1\" >uk-list-decimal</td>\n",
       "      <td id=\"T_99b44_row3_col2\" class=\"data row3 col2\" >Style Modifier</td>\n",
       "    </tr>\n",
       "    <tr>\n",
       "      <td id=\"T_99b44_row4_col0\" class=\"data row4 col0\" >hyphen</td>\n",
       "      <td id=\"T_99b44_row4_col1\" class=\"data row4 col1\" >uk-list-hyphen</td>\n",
       "      <td id=\"T_99b44_row4_col2\" class=\"data row4 col2\" >Style Modifier</td>\n",
       "    </tr>\n",
       "    <tr>\n",
       "      <td id=\"T_99b44_row5_col0\" class=\"data row5 col0\" >muted</td>\n",
       "      <td id=\"T_99b44_row5_col1\" class=\"data row5 col1\" >uk-list-muted</td>\n",
       "      <td id=\"T_99b44_row5_col2\" class=\"data row5 col2\" >Color Modifier</td>\n",
       "    </tr>\n",
       "    <tr>\n",
       "      <td id=\"T_99b44_row6_col0\" class=\"data row6 col0\" >primary</td>\n",
       "      <td id=\"T_99b44_row6_col1\" class=\"data row6 col1\" >uk-list-primary</td>\n",
       "      <td id=\"T_99b44_row6_col2\" class=\"data row6 col2\" >Color Modifier</td>\n",
       "    </tr>\n",
       "    <tr>\n",
       "      <td id=\"T_99b44_row7_col0\" class=\"data row7 col0\" >secondary</td>\n",
       "      <td id=\"T_99b44_row7_col1\" class=\"data row7 col1\" >uk-list-secondary</td>\n",
       "      <td id=\"T_99b44_row7_col2\" class=\"data row7 col2\" >Color Modifier</td>\n",
       "    </tr>\n",
       "    <tr>\n",
       "      <td id=\"T_99b44_row8_col0\" class=\"data row8 col0\" >bullet</td>\n",
       "      <td id=\"T_99b44_row8_col1\" class=\"data row8 col1\" >uk-list-bullet</td>\n",
       "      <td id=\"T_99b44_row8_col2\" class=\"data row8 col2\" >Other Modifier</td>\n",
       "    </tr>\n",
       "    <tr>\n",
       "      <td id=\"T_99b44_row9_col0\" class=\"data row9 col0\" >divider</td>\n",
       "      <td id=\"T_99b44_row9_col1\" class=\"data row9 col1\" >uk-list-divider</td>\n",
       "      <td id=\"T_99b44_row9_col2\" class=\"data row9 col2\" >Other Modifier</td>\n",
       "    </tr>\n",
       "    <tr>\n",
       "      <td id=\"T_99b44_row10_col0\" class=\"data row10 col0\" >striped</td>\n",
       "      <td id=\"T_99b44_row10_col1\" class=\"data row10 col1\" >uk-list-striped</td>\n",
       "      <td id=\"T_99b44_row10_col2\" class=\"data row10 col2\" >Other Modifier</td>\n",
       "    </tr>\n",
       "  </tbody>\n",
       "</table>\n"
      ],
      "text/plain": [
       "<pandas.io.formats.style.Styler>"
      ]
     },
     "execution_count": null,
     "metadata": {},
     "output_type": "execute_result"
    }
   ],
   "source": [
    "show_enum_options(ListT)"
   ]
  },
  {
   "cell_type": "code",
   "execution_count": null,
   "metadata": {},
   "outputs": [],
   "source": [
    "#| export\n",
    "def List(*c, cls=(), **kwargs):\n",
    "    return UkGenericComponent(fh.Ul, *c, cls=('uk-list',stringify(cls)), **kwargs)"
   ]
  },
  {
   "cell_type": "code",
   "execution_count": null,
   "metadata": {},
   "outputs": [
    {
     "data": {
      "text/html": [
       "<div class=\"grid grid-cols-6\">\n",
       "  <div>\n",
       "    <h4 class=\"uk-H4 \">disc List:</h4>\n",
       "    <ul class=\"uk-list uk-list-disc\">\n",
       "      <li>Item 1</li>\n",
       "      <li>Item 2</li>\n",
       "    </ul>\n",
       "  </div>\n",
       "  <div>\n",
       "    <h4 class=\"uk-H4 \">circle List:</h4>\n",
       "    <ul class=\"uk-list uk-list-circle\">\n",
       "      <li>Item 1</li>\n",
       "      <li>Item 2</li>\n",
       "    </ul>\n",
       "  </div>\n",
       "  <div>\n",
       "    <h4 class=\"uk-H4 \">square List:</h4>\n",
       "    <ul class=\"uk-list uk-list-square\">\n",
       "      <li>Item 1</li>\n",
       "      <li>Item 2</li>\n",
       "    </ul>\n",
       "  </div>\n",
       "  <div>\n",
       "    <h4 class=\"uk-H4 \">decimal List:</h4>\n",
       "    <ul class=\"uk-list uk-list-decimal\">\n",
       "      <li>Item 1</li>\n",
       "      <li>Item 2</li>\n",
       "    </ul>\n",
       "  </div>\n",
       "  <div>\n",
       "    <h4 class=\"uk-H4 \">hyphen List:</h4>\n",
       "    <ul class=\"uk-list uk-list-hyphen\">\n",
       "      <li>Item 1</li>\n",
       "      <li>Item 2</li>\n",
       "    </ul>\n",
       "  </div>\n",
       "  <div>\n",
       "    <h4 class=\"uk-H4 \">muted List:</h4>\n",
       "    <ul class=\"uk-list uk-list-muted\">\n",
       "      <li>Item 1</li>\n",
       "      <li>Item 2</li>\n",
       "    </ul>\n",
       "  </div>\n",
       "  <div>\n",
       "    <h4 class=\"uk-H4 \">primary List:</h4>\n",
       "    <ul class=\"uk-list uk-list-primary\">\n",
       "      <li>Item 1</li>\n",
       "      <li>Item 2</li>\n",
       "    </ul>\n",
       "  </div>\n",
       "  <div>\n",
       "    <h4 class=\"uk-H4 \">secondary List:</h4>\n",
       "    <ul class=\"uk-list uk-list-secondary\">\n",
       "      <li>Item 1</li>\n",
       "      <li>Item 2</li>\n",
       "    </ul>\n",
       "  </div>\n",
       "  <div>\n",
       "    <h4 class=\"uk-H4 \">bullet List:</h4>\n",
       "    <ul class=\"uk-list uk-list-bullet\">\n",
       "      <li>Item 1</li>\n",
       "      <li>Item 2</li>\n",
       "    </ul>\n",
       "  </div>\n",
       "  <div>\n",
       "    <h4 class=\"uk-H4 \">divider List:</h4>\n",
       "    <ul class=\"uk-list uk-list-divider\">\n",
       "      <li>Item 1</li>\n",
       "      <li>Item 2</li>\n",
       "    </ul>\n",
       "  </div>\n",
       "  <div>\n",
       "    <h4 class=\"uk-H4 \">striped List:</h4>\n",
       "    <ul class=\"uk-list uk-list-striped\">\n",
       "      <li>Item 1</li>\n",
       "      <li>Item 2</li>\n",
       "    </ul>\n",
       "  </div>\n",
       "</div>\n"
      ],
      "text/plain": [
       "<IPython.core.display.HTML object>"
      ]
     },
     "execution_count": null,
     "metadata": {},
     "output_type": "execute_result"
    }
   ],
   "source": [
    "list_options = [(style,str(cls)) for style,cls in ListT.__members__.items()]\n",
    "\n",
    "def create_list(style, cls):\n",
    "    return List(fh.Li(\"Item 1\"), fh.Li(\"Item 2\"), cls=cls)\n",
    "\n",
    "lists = [Div(H4(f\"{style} List:\"), create_list(style, cls)) for style, cls in list_options]\n",
    "show(Div(*lists, cls=\"grid grid-cols-6\"))"
   ]
  },
  {
   "cell_type": "markdown",
   "metadata": {},
   "source": [
    "### Modal"
   ]
  },
  {
   "cell_type": "code",
   "execution_count": null,
   "metadata": {},
   "outputs": [],
   "source": [
    "#| export\n",
    "def ModalContainer(*c, cls=(), **kwargs):\n",
    "    return UkGenericComponent(fh.Div, *c, cls=('uk-modal-container',stringify(cls)), uk_modal=True, **kwargs)\n",
    "\n",
    "def ModalDialog(*c, cls=(), **kwargs):\n",
    "    return UkGenericComponent(fh.Div, *c, cls=('uk-modal-dialog',stringify(cls)), **kwargs)\n",
    "\n",
    "def ModalHeader(*c, cls=(), **kwargs):\n",
    "    return UkGenericComponent(fh.Div, *c, cls=('uk-modal-header',stringify(cls)), **kwargs)\n",
    "\n",
    "def ModalBody(*c, cls=(), **kwargs):\n",
    "    return UkGenericComponent(fh.Div, *c, cls=('uk-modal-body',stringify(cls)), **kwargs)\n",
    "\n",
    "def ModalFooter(*c, cls=(), **kwargs):\n",
    "    return UkGenericComponent(fh.Div, *c, cls=('uk-modal-footer',stringify(cls)), **kwargs)\n",
    "\n",
    "def ModalTitle(*c, cls=(), **kwargs):\n",
    "    return UkGenericComponent(fh.H2, *c, cls=('uk-modal-title',stringify(cls)), **kwargs)\n",
    "\n",
    "def ModalCloseButton(*c, cls=(), **kwargs):\n",
    "    return UkGenericComponent(Button, *c, cls=('uk-modal-close',stringify(cls)), **kwargs)"
   ]
  },
  {
   "cell_type": "code",
   "execution_count": null,
   "metadata": {},
   "outputs": [
    {
     "data": {
      "text/markdown": [
       "```html\n",
       "<button type=\"button\" class=\"uk-button uk-modal-close uk-button-ghost\">test</button>\n",
       "```"
      ],
      "text/plain": [
       "button(('test',),{'type': 'button', 'class': 'uk-button uk-modal-close uk-button-ghost'})"
      ]
     },
     "execution_count": null,
     "metadata": {},
     "output_type": "execute_result"
    }
   ],
   "source": [
    "ModalCloseButton('test', cls=ButtonT.ghost)"
   ]
  },
  {
   "cell_type": "code",
   "execution_count": null,
   "metadata": {},
   "outputs": [],
   "source": [
    "#| export\n",
    "def Modal(*c,\n",
    "        header=None,          # Components that go in the header\n",
    "        footer=None,          # Components that go in the footer\n",
    "        cls=(),               # class for outermost container\n",
    "        dialog_cls=(),        # classes for the dialog\n",
    "        header_cls='p-6',     # classes for the header\n",
    "        body_cls='space-y-6', # classes for the body\n",
    "        footer_cls=(),        # classes for the footer\n",
    "        id='',                # id for the outermost container\n",
    "        **kwargs              # classes for the outermost container\n",
    "        ):\n",
    "    cls, dialog_cls, header_cls, body_cls, footer_cls = map(stringify, (cls, dialog_cls, header_cls, body_cls, footer_cls))\n",
    "    res = []\n",
    "    if header: res.append(ModalHeader(cls=header_cls)(header))\n",
    "    res.append(ModalBody(cls=body_cls)(*c))\n",
    "    if footer: res.append(ModalFooter(cls=footer_cls)(footer))\n",
    "    return ModalContainer(ModalDialog(*res, cls=dialog_cls), cls=cls, id=id, **kwargs)"
   ]
  },
  {
   "cell_type": "markdown",
   "metadata": {},
   "source": [
    "### Navs"
   ]
  },
  {
   "cell_type": "code",
   "execution_count": null,
   "metadata": {},
   "outputs": [],
   "source": [
    "#| export\n",
    "def Nav(*c, cls=(), **kwargs):\n",
    "    return UkGenericComponent(fh.Ul, *c, cls=('uk-nav',stringify(cls)), **kwargs)"
   ]
  },
  {
   "cell_type": "code",
   "execution_count": null,
   "metadata": {},
   "outputs": [],
   "source": [
    "#| export\n",
    "def NavBarContainer(*c, cls=(), **kwargs):\n",
    "    return UkGenericComponent(fh.Div, *c, cls=('uk-navbar-container',stringify(cls)), uk_navbar=True, **kwargs)\n",
    "\n",
    "def NavBarNav(*c, cls=(), **kwargs):\n",
    "    return UkGenericComponent(fh.Nav, *c, cls=('uk-navbar-nav',stringify(cls)), **kwargs)"
   ]
  },
  {
   "cell_type": "code",
   "execution_count": null,
   "metadata": {},
   "outputs": [],
   "source": [
    "#| export\n",
    "PaddingT = create_uk_enum('PaddingT', (\n",
    "    *map(lambda x: (x, \"Size Modifier\"),('xsmall', 'small', 'default', 'medium', 'large', 'xlarge')),\n",
    "    *map(lambda x: (x, \"Remove Side Mofiers\"),('remove', 'remove_top', 'remove_bottom', 'remove_left', 'remove_right', 'remove_vertical', 'remove_horizontal'))\n",
    "), enum_doc=\"Padding Modifiers from https://franken-ui.dev/docs/padding\", custom={'default':''})"
   ]
  },
  {
   "cell_type": "code",
   "execution_count": null,
   "metadata": {},
   "outputs": [
    {
     "data": {
      "text/markdown": [
       "---\n",
       "\n",
       "#### PaddingT\n",
       "\n",
       ">      PaddingT (*values)\n",
       "\n",
       "*Padding Modifiers from https://franken-ui.dev/docs/padding*"
      ],
      "text/plain": [
       "---\n",
       "\n",
       "#### PaddingT\n",
       "\n",
       ">      PaddingT (*values)\n",
       "\n",
       "*Padding Modifiers from https://franken-ui.dev/docs/padding*"
      ]
     },
     "execution_count": null,
     "metadata": {},
     "output_type": "execute_result"
    }
   ],
   "source": [
    "show_doc(PaddingT)"
   ]
  },
  {
   "cell_type": "code",
   "execution_count": null,
   "metadata": {},
   "outputs": [
    {
     "data": {
      "text/html": [
       "<style type=\"text/css\">\n",
       "</style>\n",
       "<table id=\"T_9441c\">\n",
       "  <thead>\n",
       "    <tr>\n",
       "      <th id=\"T_9441c_level0_col0\" class=\"col_heading level0 col0\" >name</th>\n",
       "      <th id=\"T_9441c_level0_col1\" class=\"col_heading level0 col1\" >value</th>\n",
       "      <th id=\"T_9441c_level0_col2\" class=\"col_heading level0 col2\" >description</th>\n",
       "    </tr>\n",
       "  </thead>\n",
       "  <tbody>\n",
       "    <tr>\n",
       "      <td id=\"T_9441c_row0_col0\" class=\"data row0 col0\" >xsmall</td>\n",
       "      <td id=\"T_9441c_row0_col1\" class=\"data row0 col1\" >uk-padding-xsmall</td>\n",
       "      <td id=\"T_9441c_row0_col2\" class=\"data row0 col2\" >Size Modifier</td>\n",
       "    </tr>\n",
       "    <tr>\n",
       "      <td id=\"T_9441c_row1_col0\" class=\"data row1 col0\" >small</td>\n",
       "      <td id=\"T_9441c_row1_col1\" class=\"data row1 col1\" >uk-padding-small</td>\n",
       "      <td id=\"T_9441c_row1_col2\" class=\"data row1 col2\" >Size Modifier</td>\n",
       "    </tr>\n",
       "    <tr>\n",
       "      <td id=\"T_9441c_row2_col0\" class=\"data row2 col0\" >default</td>\n",
       "      <td id=\"T_9441c_row2_col1\" class=\"data row2 col1\" >uk-padding</td>\n",
       "      <td id=\"T_9441c_row2_col2\" class=\"data row2 col2\" >Size Modifier</td>\n",
       "    </tr>\n",
       "    <tr>\n",
       "      <td id=\"T_9441c_row3_col0\" class=\"data row3 col0\" >medium</td>\n",
       "      <td id=\"T_9441c_row3_col1\" class=\"data row3 col1\" >uk-padding-medium</td>\n",
       "      <td id=\"T_9441c_row3_col2\" class=\"data row3 col2\" >Size Modifier</td>\n",
       "    </tr>\n",
       "    <tr>\n",
       "      <td id=\"T_9441c_row4_col0\" class=\"data row4 col0\" >large</td>\n",
       "      <td id=\"T_9441c_row4_col1\" class=\"data row4 col1\" >uk-padding-large</td>\n",
       "      <td id=\"T_9441c_row4_col2\" class=\"data row4 col2\" >Size Modifier</td>\n",
       "    </tr>\n",
       "    <tr>\n",
       "      <td id=\"T_9441c_row5_col0\" class=\"data row5 col0\" >xlarge</td>\n",
       "      <td id=\"T_9441c_row5_col1\" class=\"data row5 col1\" >uk-padding-xlarge</td>\n",
       "      <td id=\"T_9441c_row5_col2\" class=\"data row5 col2\" >Size Modifier</td>\n",
       "    </tr>\n",
       "    <tr>\n",
       "      <td id=\"T_9441c_row6_col0\" class=\"data row6 col0\" >remove</td>\n",
       "      <td id=\"T_9441c_row6_col1\" class=\"data row6 col1\" >uk-padding-remove</td>\n",
       "      <td id=\"T_9441c_row6_col2\" class=\"data row6 col2\" >Remove Side Mofiers</td>\n",
       "    </tr>\n",
       "    <tr>\n",
       "      <td id=\"T_9441c_row7_col0\" class=\"data row7 col0\" >remove_top</td>\n",
       "      <td id=\"T_9441c_row7_col1\" class=\"data row7 col1\" >uk-padding-remove-top</td>\n",
       "      <td id=\"T_9441c_row7_col2\" class=\"data row7 col2\" >Remove Side Mofiers</td>\n",
       "    </tr>\n",
       "    <tr>\n",
       "      <td id=\"T_9441c_row8_col0\" class=\"data row8 col0\" >remove_bottom</td>\n",
       "      <td id=\"T_9441c_row8_col1\" class=\"data row8 col1\" >uk-padding-remove-bottom</td>\n",
       "      <td id=\"T_9441c_row8_col2\" class=\"data row8 col2\" >Remove Side Mofiers</td>\n",
       "    </tr>\n",
       "    <tr>\n",
       "      <td id=\"T_9441c_row9_col0\" class=\"data row9 col0\" >remove_left</td>\n",
       "      <td id=\"T_9441c_row9_col1\" class=\"data row9 col1\" >uk-padding-remove-left</td>\n",
       "      <td id=\"T_9441c_row9_col2\" class=\"data row9 col2\" >Remove Side Mofiers</td>\n",
       "    </tr>\n",
       "    <tr>\n",
       "      <td id=\"T_9441c_row10_col0\" class=\"data row10 col0\" >remove_right</td>\n",
       "      <td id=\"T_9441c_row10_col1\" class=\"data row10 col1\" >uk-padding-remove-right</td>\n",
       "      <td id=\"T_9441c_row10_col2\" class=\"data row10 col2\" >Remove Side Mofiers</td>\n",
       "    </tr>\n",
       "    <tr>\n",
       "      <td id=\"T_9441c_row11_col0\" class=\"data row11 col0\" >remove_vertical</td>\n",
       "      <td id=\"T_9441c_row11_col1\" class=\"data row11 col1\" >uk-padding-remove-vertical</td>\n",
       "      <td id=\"T_9441c_row11_col2\" class=\"data row11 col2\" >Remove Side Mofiers</td>\n",
       "    </tr>\n",
       "    <tr>\n",
       "      <td id=\"T_9441c_row12_col0\" class=\"data row12 col0\" >remove_horizontal</td>\n",
       "      <td id=\"T_9441c_row12_col1\" class=\"data row12 col1\" >uk-padding-remove-horizontal</td>\n",
       "      <td id=\"T_9441c_row12_col2\" class=\"data row12 col2\" >Remove Side Mofiers</td>\n",
       "    </tr>\n",
       "  </tbody>\n",
       "</table>\n"
      ],
      "text/plain": [
       "<pandas.io.formats.style.Styler>"
      ]
     },
     "execution_count": null,
     "metadata": {},
     "output_type": "execute_result"
    }
   ],
   "source": [
    "show_enum_options(PaddingT)"
   ]
  },
  {
   "cell_type": "code",
   "execution_count": null,
   "metadata": {},
   "outputs": [],
   "source": [
    "#| export\n",
    "PositionT = create_uk_enum('PositionT', (\n",
    "    'top', 'bottom', 'left', 'right','top_left', 'top_center', 'top_right','center', 'center_left', 'center_right',\n",
    "    'bottom_left', 'bottom_center', 'bottom_right','center_horizontal', 'center_vertical'))"
   ]
  },
  {
   "cell_type": "code",
   "execution_count": null,
   "metadata": {},
   "outputs": [],
   "source": [
    "#| export\n",
    "def Placeholder(*c, cls=(), **kwargs):\n",
    "    return UkGenericComponent(fh.Div, *c, cls=('uk-placeholder',stringify(cls)), **kwargs)"
   ]
  },
  {
   "cell_type": "code",
   "execution_count": null,
   "metadata": {},
   "outputs": [],
   "source": [
    "#| export\n",
    "def Progress(*c, cls=(), value=\"\", max=\"\", **kwargs):\n",
    "    return UkGenericComponent(fh.Progress, *c, value=value, max=max, cls=('uk-progress',stringify(cls)), **kwargs)"
   ]
  },
  {
   "cell_type": "code",
   "execution_count": null,
   "metadata": {},
   "outputs": [],
   "source": [
    "#| export\n",
    "SectionT = create_uk_enum('SectionT', (\n",
    "    'default', 'muted', 'primary', 'secondary',\n",
    "    'xsmall', 'small', 'large', 'xlarge', 'remove_vertical'\n",
    "))"
   ]
  },
  {
   "cell_type": "code",
   "execution_count": null,
   "metadata": {},
   "outputs": [],
   "source": [
    "#| export\n",
    "def Section(*c, cls=(), **kwargs):\n",
    "    return UkGenericComponent(fh.Div, *c, cls=('uk-section',stringify(cls)), **kwargs)"
   ]
  },
  {
   "cell_type": "code",
   "execution_count": null,
   "metadata": {},
   "outputs": [],
   "source": [
    "#| export\n",
    "def Sticky(*c, cls=(), **kwargs):\n",
    "    return UkGenericComponent(fh.Div, *c, cls=stringify(cls), uk_sticky=True, **kwargs)"
   ]
  },
  {
   "cell_type": "markdown",
   "metadata": {},
   "source": [
    "## Theme"
   ]
  },
  {
   "cell_type": "markdown",
   "metadata": {},
   "source": [
    "You can select a theme color to and get all the headers.  This brings in the most standard grouping:\n",
    "+ Tailwind: Optional, but typically FrankenUI is used in conjunction with tailwind\n",
    "+ Uikit: Many things are styled with uikit\n",
    "+ UIkit icons: Gives many icons OOTB, and is nice to have handy.\n",
    "+ Franken WC: Neccesary for some of the (minimal) interactivity components have"
   ]
  },
  {
   "cell_type": "code",
   "execution_count": null,
   "metadata": {},
   "outputs": [],
   "source": [
    "#| export\n",
    "class Theme(Enum):\n",
    "    slate = \"slate\"\n",
    "    stone = \"stone\"\n",
    "    gray = \"gray\"\n",
    "    neutral = \"neutral\"\n",
    "    red = \"red\"\n",
    "    rose = \"rose\"\n",
    "    orange = \"orange\"\n",
    "    green = \"green\"\n",
    "    blue = \"blue\"\n",
    "    yellow = \"yellow\"\n",
    "    violet = \"violet\"\n",
    "    zinc = \"zinc\"\n",
    "\n",
    "    def headers(self):\n",
    "        js = (Script(src=\"https://cdn.tailwindcss.com\"),\n",
    "              Script(src=\"https://cdn.jsdelivr.net/npm/uikit@3.21.6/dist/js/uikit.min.js\"),\n",
    "              Script(src=\"https://cdn.jsdelivr.net/npm/uikit@3.21.6/dist/js/uikit-icons.min.js\"),\n",
    "              Script(type=\"module\", src=\"https://unpkg.com/franken-wc@0.0.6/dist/js/wc.iife.js\")\n",
    "              )\n",
    "        _url = f\"https://unpkg.com/franken-wc@0.0.6/dist/css/{self.value}.min.css\"\n",
    "        return (*js, Link(rel=\"stylesheet\", href=_url))"
   ]
  },
  {
   "cell_type": "code",
   "execution_count": null,
   "metadata": {},
   "outputs": [],
   "source": [
    "hdrs = Theme.blue.headers()\n",
    "app = FastHTML(hdrs=hdrs)"
   ]
  },
  {
   "cell_type": "markdown",
   "metadata": {},
   "source": [
    "## Text Style"
   ]
  },
  {
   "cell_type": "code",
   "execution_count": null,
   "metadata": {},
   "outputs": [],
   "source": [
    "#| export\n",
    "TextT = create_uk_enum('TextT', (\n",
    "    'lead', 'meta', 'italic', # Style\n",
    "    'small', 'default', 'large', #Font Size\n",
    "    'light', 'normal', 'bold', 'lighter', 'bolder', # Font Weight\n",
    "    'capitalize', 'uppercase', 'lowercase', #Text transform\n",
    "    'decoration_none', # Text decoration\n",
    "    'muted', 'primary', 'secondary', 'success', 'warning', 'danger', # Color\n",
    "    'left', 'right', 'center', 'justify', # Alignment\n",
    "    'top', 'middle', 'bottom', 'baseline', # Vertical alignment\n",
    "    'truncate', 'break_', 'nowrap' # Wrapping\n",
    "))"
   ]
  },
  {
   "cell_type": "code",
   "execution_count": null,
   "metadata": {},
   "outputs": [],
   "source": [
    "#| export\n",
    "class TextFont(Enum):\n",
    "    def __add__(self, other):   return stringify((self, other))\n",
    "    def __radd__(self, other):  return stringify((other, self)) \n",
    "    def __str__(self): return self.value\n",
    "    muted_sm = stringify((TextT.muted, TextT.small))\n",
    "    bold_sm = stringify((TextT.bold, TextT.small))"
   ]
  },
  {
   "cell_type": "code",
   "execution_count": null,
   "metadata": {},
   "outputs": [
    {
     "data": {
      "text/html": [
       "<style type=\"text/css\">\n",
       "</style>\n",
       "<table id=\"T_3c517\">\n",
       "  <thead>\n",
       "    <tr>\n",
       "      <th id=\"T_3c517_level0_col0\" class=\"col_heading level0 col0\" >name</th>\n",
       "      <th id=\"T_3c517_level0_col1\" class=\"col_heading level0 col1\" >value</th>\n",
       "    </tr>\n",
       "  </thead>\n",
       "  <tbody>\n",
       "    <tr>\n",
       "      <td id=\"T_3c517_row0_col0\" class=\"data row0 col0\" >muted_sm</td>\n",
       "      <td id=\"T_3c517_row0_col1\" class=\"data row0 col1\" >uk-text-muted uk-text-small</td>\n",
       "    </tr>\n",
       "    <tr>\n",
       "      <td id=\"T_3c517_row1_col0\" class=\"data row1 col0\" >bold_sm</td>\n",
       "      <td id=\"T_3c517_row1_col1\" class=\"data row1 col1\" >uk-text-bold uk-text-small</td>\n",
       "    </tr>\n",
       "  </tbody>\n",
       "</table>\n"
      ],
      "text/plain": [
       "<pandas.io.formats.style.Styler>"
      ]
     },
     "execution_count": null,
     "metadata": {},
     "output_type": "execute_result"
    }
   ],
   "source": [
    "show_enum_options(TextFont)"
   ]
  },
  {
   "cell_type": "markdown",
   "metadata": {},
   "source": [
    "## Icons and Avatars"
   ]
  },
  {
   "cell_type": "code",
   "execution_count": null,
   "metadata": {},
   "outputs": [],
   "source": [
    "#| export\n",
    "def UkIcon(icon,    # Icon name from https://getuikit.com/docs/icon\n",
    "           ratio=1, # Icon ratio/size \n",
    "           cls=()   # Span classes\n",
    "          ):        # Span with Icon\n",
    "    \"Creates a Span with the given icon\"\n",
    "    return Span(uk_icon=f\"icon: {icon}; ratio: {ratio}\",cls=stringify(cls))"
   ]
  },
  {
   "cell_type": "code",
   "execution_count": null,
   "metadata": {},
   "outputs": [
    {
     "data": {
      "text/markdown": [
       "```html\n",
       "<span uk-icon=\"icon: heart; ratio: 0.5\"></span>\n",
       "```"
      ],
      "text/plain": [
       "span((),{'uk-icon': 'icon: heart; ratio: 0.5', 'class': ''})"
      ]
     },
     "execution_count": null,
     "metadata": {},
     "output_type": "execute_result"
    }
   ],
   "source": [
    "UkIcon('heart', 0.5)"
   ]
  },
  {
   "cell_type": "code",
   "execution_count": null,
   "metadata": {},
   "outputs": [],
   "source": [
    "#| export\n",
    "# def Img(*args, data_src=\"\", cls=(), **kwargs):\n",
    "#     return UkGenericComponent(fh.Div, *args, data_src=data_src, uk_img=True, cls=stringify(cls), **kwargs)"
   ]
  },
  {
   "cell_type": "code",
   "execution_count": null,
   "metadata": {},
   "outputs": [],
   "source": [
    "#| export\n",
    "def DiceBearAvatar(seed_name, # Seed name (ie 'Isaac Flath')\n",
    "                   h,         # Height \n",
    "                   w          # Width\n",
    "                  ):          # Span with Avatar\n",
    "    url = 'https://api.dicebear.com/8.x/lorelei/svg?seed='\n",
    "    return Span(cls=f\"relative flex h-{h} w-{w} shrink-0 overflow-hidden rounded-full bg-accent\")(\n",
    "            fh.Img(cls=\"aspect-square h-full w-full\", alt=\"Avatar\", src=f\"{url}{seed_name}\"))"
   ]
  },
  {
   "cell_type": "code",
   "execution_count": null,
   "metadata": {},
   "outputs": [],
   "source": []
  },
  {
   "cell_type": "markdown",
   "metadata": {},
   "source": [
    "## Spacing | Flexbox | Grid"
   ]
  },
  {
   "cell_type": "markdown",
   "metadata": {},
   "source": [
    "The most common pattern for spacing it to organize the general high level page layout with a `Grid`, and smaller components with `Flex`.\n",
    "\n",
    ":::{.callout-tip}\n",
    "Play [Flex Box Froggy](https://flexboxfroggy.com/) to get an understanding of flex box.\n",
    ":::"
   ]
  },
  {
   "cell_type": "code",
   "execution_count": null,
   "metadata": {},
   "outputs": [],
   "source": [
    "#| export\n",
    "FlexT = create_uk_enum('FlexT', (\n",
    "    'block', 'inline',\n",
    "    'left', 'center', 'right', 'between', 'around', # horizontal\n",
    "    'stretch', 'top', 'middle', 'botton', # Vertical\n",
    "    'row', 'row_reverse', 'col', 'col_reverse', # Direction\n",
    "    'nowrap', 'wrap', 'wrap_reverse' # Wrap\n",
    "), {'block':''})"
   ]
  },
  {
   "cell_type": "code",
   "execution_count": null,
   "metadata": {},
   "outputs": [
    {
     "data": {
      "text/markdown": [
       "```html\n",
       "<div class=\"uk-flex uk-flex-left uk-flex-middle some_cls\"></div>\n",
       "\n",
       "```"
      ],
      "text/plain": [
       "div((),{'class': 'uk-flex uk-flex-left uk-flex-middle some_cls'})"
      ]
     },
     "execution_count": null,
     "metadata": {},
     "output_type": "execute_result"
    }
   ],
   "source": [
    "Div(cls=(FlexT.block,FlexT.left,FlexT.middle,'some_cls'))"
   ]
  },
  {
   "cell_type": "code",
   "execution_count": null,
   "metadata": {},
   "outputs": [],
   "source": [
    "#| export\n",
    "GridT = create_uk_enum('GridT', ('small', 'medium', 'large', 'collapse'))"
   ]
  },
  {
   "cell_type": "code",
   "execution_count": null,
   "metadata": {},
   "outputs": [],
   "source": [
    "#|export\n",
    "def Grid(*c,      # Divs/Containers that should be divided into a grid\n",
    "         cols=3,  # Number of columns\n",
    "         cls=GridT.small,  # Additional classes for Grid Div\n",
    "         **kwargs # Additional args for Grid Div\n",
    "        ):\n",
    "    \"\"\"Creates a grid with the given number of columns, often used for a grid of cards\"\"\"\n",
    "    cls = stringify(cls)\n",
    "    return Div(cls=(f'grid grid-cols-{cols}',cls), **kwargs)(*c)"
   ]
  },
  {
   "cell_type": "code",
   "execution_count": null,
   "metadata": {},
   "outputs": [
    {
     "data": {
      "text/markdown": [
       "```html\n",
       "<div class=\"grid grid-cols-3 uk-grid-small\">\n",
       "  <div>0</div>\n",
       "  <div>1</div>\n",
       "  <div>2</div>\n",
       "  <div>3</div>\n",
       "  <div>4</div>\n",
       "  <div>5</div>\n",
       "</div>\n",
       "\n",
       "```"
      ],
      "text/plain": [
       "div((div((0,),{}), div((1,),{}), div((2,),{}), div((3,),{}), div((4,),{}), div((5,),{})),{'class': 'grid grid-cols-3 uk-grid-small'})"
      ]
     },
     "execution_count": null,
     "metadata": {},
     "output_type": "execute_result"
    }
   ],
   "source": [
    "Grid(*map(Div, range(6)),cols=3, cls=GridT.small)"
   ]
  },
  {
   "cell_type": "code",
   "execution_count": null,
   "metadata": {},
   "outputs": [],
   "source": [
    "#| export\n",
    "def ResponsiveGrid(*c, sm=1, md=2, lg=3, xl=4, gap=2, cls='', **kwargs):\n",
    "    \"Creates a responsive grid with the given number of columns for different screen sizes\"\n",
    "    return Div(cls=f'grid grid-cols-{sm} md:grid-cols-{md} lg:grid-cols-{lg} xl:grid-cols-{xl} gap-{gap} ' + stringify(cls), **kwargs)(*c)"
   ]
  },
  {
   "cell_type": "markdown",
   "metadata": {},
   "source": [
    "We can use the `FlexT` enum above to create `Div`s that arrange components in a flex box in different ways.  \n",
    "\n",
    "For example, `FullySpacedDiv` applies a very common pattern so we've made a function that helps to this for you.  But if you look at the code, it's really just using the enum to apply the right combonation of flex classes."
   ]
  },
  {
   "cell_type": "code",
   "execution_count": null,
   "metadata": {},
   "outputs": [],
   "source": [
    "#| exports\n",
    "def FullySpacedDiv(*c,                # Components\n",
    "                   cls='uk-width-1-1',# Classes for outer div\n",
    "                   **kwargs           # Additional args for outer div\n",
    "                  ):                  # Div with spaced components via flex classes\n",
    "    \"Creates a flex div with it's components having as much space between them as possible\"\n",
    "    cls = stringify(cls)\n",
    "    return Div(cls=(FlexT.block,FlexT.between,FlexT.middle,cls), **kwargs)(*c)"
   ]
  },
  {
   "cell_type": "code",
   "execution_count": null,
   "metadata": {},
   "outputs": [
    {
     "data": {
      "text/markdown": [
       "```html\n",
       "<div class=\"uk-flex uk-flex-between uk-flex-middle uk-width-1-1\">\n",
       "  <p>0</p>\n",
       "  <p>1</p>\n",
       "  <p>2</p>\n",
       "</div>\n",
       "\n",
       "```"
      ],
      "text/plain": [
       "div((p((0,),{}), p((1,),{}), p((2,),{})),{'class': 'uk-flex uk-flex-between uk-flex-middle uk-width-1-1'})"
      ]
     },
     "execution_count": null,
     "metadata": {},
     "output_type": "execute_result"
    }
   ],
   "source": [
    "FullySpacedDiv(*map(P, range(3)))"
   ]
  },
  {
   "cell_type": "code",
   "execution_count": null,
   "metadata": {},
   "outputs": [],
   "source": [
    "#| export\n",
    "def CenteredDiv(*c,      # Components\n",
    "                cls=(),  # Classes for outer div\n",
    "                **kwargs # Additional args for outer div\n",
    "               ): # Div with components centered in it\n",
    "    \"Creates a flex div with it's components centered in it\"\n",
    "    cls=stringify(cls)\n",
    "    return Div(cls=(FlexT.block,FlexT.col,FlexT.middle,FlexT.center,cls),**kwargs)(*c)"
   ]
  },
  {
   "cell_type": "code",
   "execution_count": null,
   "metadata": {},
   "outputs": [
    {
     "data": {
      "text/markdown": [
       "```html\n",
       "<div class=\"uk-flex uk-flex-col uk-flex-middle uk-flex-center \">\n",
       "  <p>0</p>\n",
       "  <p>1</p>\n",
       "  <p>2</p>\n",
       "</div>\n",
       "\n",
       "```"
      ],
      "text/plain": [
       "div((p((0,),{}), p((1,),{}), p((2,),{})),{'class': 'uk-flex uk-flex-col uk-flex-middle uk-flex-center '})"
      ]
     },
     "execution_count": null,
     "metadata": {},
     "output_type": "execute_result"
    }
   ],
   "source": [
    "CenteredDiv(*map(P, range(3)))"
   ]
  },
  {
   "cell_type": "code",
   "execution_count": null,
   "metadata": {},
   "outputs": [],
   "source": [
    "#| export\n",
    "def LAlignedDiv(*c,      # Components\n",
    "                cls=(),  # Classes for outer div\n",
    "                **kwargs # Additional args for outer div\n",
    "               ): # Div with components aligned to the left\n",
    "    \"Creates a flex div with it's components aligned to the left\"\n",
    "    cls=stringify(cls)\n",
    "    return Div(cls=(FlexT.block,FlexT.left,FlexT.middle,cls), **kwargs)(*c)"
   ]
  },
  {
   "cell_type": "code",
   "execution_count": null,
   "metadata": {},
   "outputs": [
    {
     "data": {
      "text/markdown": [
       "```html\n",
       "<div class=\"uk-flex uk-flex-left uk-flex-middle \">\n",
       "  <p>0</p>\n",
       "  <p>1</p>\n",
       "  <p>2</p>\n",
       "</div>\n",
       "\n",
       "```"
      ],
      "text/plain": [
       "div((p((0,),{}), p((1,),{}), p((2,),{})),{'class': 'uk-flex uk-flex-left uk-flex-middle '})"
      ]
     },
     "execution_count": null,
     "metadata": {},
     "output_type": "execute_result"
    }
   ],
   "source": [
    "LAlignedDiv(*map(P, range(3)))"
   ]
  },
  {
   "cell_type": "code",
   "execution_count": null,
   "metadata": {},
   "outputs": [],
   "source": [
    "#| export\n",
    "def RAlignedDiv(*c,      # Components\n",
    "                cls=(),  # Classes for outer div\n",
    "                **kwargs # Additional args for outer div\n",
    "               ): # Div with components aligned to the right\n",
    "    \"Creates a flex div with it's components aligned to the right\"\n",
    "    cls=stringify(cls)\n",
    "    return Div(cls=(FlexT.block,FlexT.right,FlexT.middle,cls), **kwargs)(*c)"
   ]
  },
  {
   "cell_type": "code",
   "execution_count": null,
   "metadata": {},
   "outputs": [
    {
     "data": {
      "text/markdown": [
       "```html\n",
       "<div class=\"uk-flex uk-flex-right uk-flex-middle \">\n",
       "  <p>0</p>\n",
       "  <p>1</p>\n",
       "  <p>2</p>\n",
       "</div>\n",
       "\n",
       "```"
      ],
      "text/plain": [
       "div((p((0,),{}), p((1,),{}), p((2,),{})),{'class': 'uk-flex uk-flex-right uk-flex-middle '})"
      ]
     },
     "execution_count": null,
     "metadata": {},
     "output_type": "execute_result"
    }
   ],
   "source": [
    "RAlignedDiv(*map(P, range(3)))"
   ]
  },
  {
   "cell_type": "code",
   "execution_count": null,
   "metadata": {},
   "outputs": [],
   "source": [
    "#| export\n",
    "def VStackedDiv(*c, cls='', **kwargs):\n",
    "    cls=stringify(cls)\n",
    "    return Div(cls=(FlexT.block,FlexT.col,FlexT.middle,cls), **kwargs)(*c)"
   ]
  },
  {
   "cell_type": "code",
   "execution_count": null,
   "metadata": {},
   "outputs": [],
   "source": [
    "#| export\n",
    "def HStackedDiv(*c, cls='', **kwargs):\n",
    "    cls=stringify(cls)\n",
    "    return Div(cls=(FlexT.block,FlexT.row,FlexT.middle,cls), **kwargs)(*c)"
   ]
  },
  {
   "cell_type": "code",
   "execution_count": null,
   "metadata": {},
   "outputs": [],
   "source": [
    "#| export\n",
    "def SpaceBetweenDiv(*c, cls='', **kwargs):\n",
    "    cls = stringify(cls)\n",
    "    return Div(cls=(FlexT.block,FlexT.between,FlexT.middle,cls), **kwargs)(*c)"
   ]
  },
  {
   "cell_type": "markdown",
   "metadata": {},
   "source": [
    "## Basic Inputs"
   ]
  },
  {
   "cell_type": "markdown",
   "metadata": {},
   "source": [
    "Inputs of various types often go with a label.  Because of this we created functions to do this for you along with properly linking the `for` attribute from the lable to the input.  We also have some nice defaults, such as putting a little spacing between the label and the input"
   ]
  },
  {
   "cell_type": "code",
   "execution_count": null,
   "metadata": {},
   "outputs": [],
   "source": []
  },
  {
   "cell_type": "code",
   "execution_count": null,
   "metadata": {},
   "outputs": [],
   "source": [
    "#| export\n",
    "def GenericLabelInput(\n",
    "               label:str|FT,\n",
    "               input_fn, \n",
    "               lbl_cls='',\n",
    "               input_cls='',\n",
    "               container=Div, \n",
    "               container_cls='',\n",
    "               id='',\n",
    "                **kwargs\n",
    "                ):\n",
    "    \"`Div(Label,Input)` component with Uk styling injected appropriately. Generally you should higher level API, such as `UkTextArea` which is created for you in this library\"\n",
    "    if isinstance(label, str) or label.tag != 'label': \n",
    "        label = FormLabel(cls=stringify(lbl_cls), fr=id)(label)\n",
    "    inp = input_fn(id=id, cls=stringify(input_cls), **kwargs)        \n",
    "    if container: return container(label, inp, cls=stringify(container_cls))\n",
    "    return label, inp"
   ]
  },
  {
   "cell_type": "code",
   "execution_count": null,
   "metadata": {},
   "outputs": [],
   "source": [
    "#| export\n",
    "@delegates(GenericLabelInput, but=['input_fn'])\n",
    "def LabelInput(*args, **kwargs): return GenericLabelInput(*args, input_fn=Input, **kwargs)"
   ]
  },
  {
   "cell_type": "code",
   "execution_count": null,
   "metadata": {},
   "outputs": [
    {
     "data": {
      "text/html": [
       "<form><label class=\"uk-form-label \">mylabel</label>  <input class=\"uk-input \">\n",
       "</form>"
      ],
      "text/plain": [
       "<IPython.core.display.HTML object>"
      ]
     },
     "execution_count": null,
     "metadata": {},
     "output_type": "execute_result"
    }
   ],
   "source": [
    "fh.show(LabelInput('mylabel',container=Form))"
   ]
  },
  {
   "cell_type": "code",
   "execution_count": null,
   "metadata": {},
   "outputs": [],
   "source": [
    "#| export\n",
    "@delegates(GenericLabelInput, but=['input_fn'])\n",
    "def LabelRadio(*args, **kwargs): return GenericLabelInput(*args, input_fn=Radio, **kwargs)"
   ]
  },
  {
   "cell_type": "code",
   "execution_count": null,
   "metadata": {},
   "outputs": [
    {
     "data": {
      "text/html": [
       "<form><label class=\"uk-form-label \">mylabel</label>  <input type=\"radio\" class=\"uk-radio \">\n",
       "</form>"
      ],
      "text/plain": [
       "<IPython.core.display.HTML object>"
      ]
     },
     "execution_count": null,
     "metadata": {},
     "output_type": "execute_result"
    }
   ],
   "source": [
    "fh.show(LabelRadio('mylabel',container=Form))"
   ]
  },
  {
   "cell_type": "code",
   "execution_count": null,
   "metadata": {},
   "outputs": [],
   "source": [
    "#| export\n",
    "@delegates(GenericLabelInput, but=['input_fn'])\n",
    "def LabelCheckboxX(*args, **kwargs): return GenericLabelInput(*args, input_fn=CheckboxX, **kwargs)"
   ]
  },
  {
   "cell_type": "code",
   "execution_count": null,
   "metadata": {},
   "outputs": [
    {
     "data": {
      "text/html": [
       "<form><label class=\"uk-form-label \">mylabel</label>  <input type=\"checkbox\" class=\"uk-checkbox \">\n",
       "</form>"
      ],
      "text/plain": [
       "<IPython.core.display.HTML object>"
      ]
     },
     "execution_count": null,
     "metadata": {},
     "output_type": "execute_result"
    }
   ],
   "source": [
    "fh.show(LabelCheckboxX('mylabel',container=Form))"
   ]
  },
  {
   "cell_type": "code",
   "execution_count": null,
   "metadata": {},
   "outputs": [],
   "source": [
    "#| export\n",
    "@delegates(GenericLabelInput, but=['input_fn'])\n",
    "def LabelRange(*args, **kwargs): return GenericLabelInput(*args, input_fn=Range, **kwargs)"
   ]
  },
  {
   "cell_type": "code",
   "execution_count": null,
   "metadata": {},
   "outputs": [
    {
     "data": {
      "text/html": [
       "<form><label class=\"uk-form-label \">mylabel</label>  <input type=\"range\" class=\"uk-range \">\n",
       "</form>"
      ],
      "text/plain": [
       "<IPython.core.display.HTML object>"
      ]
     },
     "execution_count": null,
     "metadata": {},
     "output_type": "execute_result"
    }
   ],
   "source": [
    "fh.show(LabelRange('mylabel',container=Form))"
   ]
  },
  {
   "cell_type": "code",
   "execution_count": null,
   "metadata": {},
   "outputs": [],
   "source": [
    "#| export\n",
    "@delegates(GenericLabelInput, but=['input_fn'])\n",
    "def LabelToggle_switch(*args, **kwargs): return GenericLabelInput(*args, input_fn=Toggle_switch, **kwargs)"
   ]
  },
  {
   "cell_type": "code",
   "execution_count": null,
   "metadata": {},
   "outputs": [
    {
     "data": {
      "text/html": [
       "<input type=\"checkbox\" container=\"functools.partial(<function ft>, 'form', void_=False)\" class=\"uk-toggle-switch \">mylabel\n"
      ],
      "text/plain": [
       "<IPython.core.display.HTML object>"
      ]
     },
     "execution_count": null,
     "metadata": {},
     "output_type": "execute_result"
    }
   ],
   "source": [
    "fh.show(Toggle_switch('mylabel',container=Form))"
   ]
  },
  {
   "cell_type": "code",
   "execution_count": null,
   "metadata": {},
   "outputs": [],
   "source": [
    "#| export\n",
    "@delegates(GenericLabelInput, but=['input_fn'])\n",
    "def LabelTextArea(*args, **kwargs): return GenericLabelInput(*args, input_fn=TextArea, **kwargs)"
   ]
  },
  {
   "cell_type": "code",
   "execution_count": null,
   "metadata": {},
   "outputs": [
    {
     "data": {
      "text/html": [
       "<form><label class=\"uk-form-label \">mylabel</label><textarea class=\"uk-textarea \"></textarea></form>"
      ],
      "text/plain": [
       "<IPython.core.display.HTML object>"
      ]
     },
     "execution_count": null,
     "metadata": {},
     "output_type": "execute_result"
    }
   ],
   "source": [
    "fh.show(LabelTextArea('mylabel',container=Form))"
   ]
  },
  {
   "cell_type": "code",
   "execution_count": null,
   "metadata": {},
   "outputs": [],
   "source": [
    "#| export\n",
    "@delegates(GenericLabelInput, but=['input_fn'])\n",
    "def LabelSwitch(*args, **kwargs): return GenericLabelInput(*args, input_fn=Switch, **kwargs)"
   ]
  },
  {
   "cell_type": "code",
   "execution_count": null,
   "metadata": {},
   "outputs": [
    {
     "data": {
      "text/html": [
       "<form><label class=\"uk-form-label \">mylabel</label>  <input type=\"checkbox\" class=\"uk-toggle-switch \">\n",
       "</form>"
      ],
      "text/plain": [
       "<IPython.core.display.HTML object>"
      ]
     },
     "execution_count": null,
     "metadata": {},
     "output_type": "execute_result"
    }
   ],
   "source": [
    "fh.show(LabelSwitch('mylabel',container=Form))"
   ]
  },
  {
   "cell_type": "code",
   "execution_count": null,
   "metadata": {},
   "outputs": [],
   "source": [
    "#| export\n",
    "def LabelSelect(*option,\n",
    "               label:str|FT,\n",
    "               lbl_cls='',\n",
    "               input_cls='',\n",
    "               container=Div, \n",
    "               container_cls='',\n",
    "               id='',\n",
    "                **kwargs\n",
    "                ):\n",
    "    \"`Div(Label,Input)` component with Uk styling injected appropriately. Generally you should higher level API, such as `UkTextArea` which is created for you in this library\"\n",
    "    if isinstance(label, str) or label.tag != 'label': \n",
    "        label = FormLabel(lbl_cls=stringify(lbl_cls), fr=id)(label)\n",
    "    inp = Select(*option, id=id, cls=stringify(input_cls), **kwargs)        \n",
    "    if container: return container(label, inp, cls=stringify(container_cls))\n",
    "    return label, inp"
   ]
  },
  {
   "cell_type": "code",
   "execution_count": null,
   "metadata": {},
   "outputs": [
    {
     "data": {
      "text/html": [
       "<form><label class=\"uk-form-label \">mylabel</label><select class=\"uk-select \"><option>1</option><option>2</option></select></form>"
      ],
      "text/plain": [
       "<IPython.core.display.HTML object>"
      ]
     },
     "execution_count": null,
     "metadata": {},
     "output_type": "execute_result"
    }
   ],
   "source": [
    "fh.show(LabelSelect(Option(1),Option(2),label='mylabel',container=Form))"
   ]
  },
  {
   "cell_type": "code",
   "execution_count": null,
   "metadata": {},
   "outputs": [],
   "source": []
  },
  {
   "cell_type": "markdown",
   "metadata": {},
   "source": [
    "## Buttons"
   ]
  },
  {
   "cell_type": "code",
   "execution_count": null,
   "metadata": {},
   "outputs": [
    {
     "data": {
      "text/markdown": [
       "```html\n",
       "<button type=\"button\" class=\"uk-button uk-button-primary\">MyButton</button>\n",
       "```"
      ],
      "text/plain": [
       "button(('MyButton',),{'type': 'button', 'class': 'uk-button uk-button-primary'})"
      ]
     },
     "execution_count": null,
     "metadata": {},
     "output_type": "execute_result"
    }
   ],
   "source": [
    "Button('MyButton', cls=ButtonT.primary)"
   ]
  },
  {
   "cell_type": "code",
   "execution_count": null,
   "metadata": {},
   "outputs": [],
   "source": [
    "#| export\n",
    "def UkIconButton(*c, sz='small', cls=(), **kwargs):\n",
    "    \"Creates an `IconButton` with uk styling\"\n",
    "    if sz not in ('small','medium','large'): raise ValueError(f\"Invalid size '{sz}'. Must be 'small', 'medium', or 'large'.\")\n",
    "    return Button(cls=f'uk-icon-button uk-icon-button-{sz} ' + stringify(cls), **kwargs)(*c)"
   ]
  },
  {
   "cell_type": "code",
   "execution_count": null,
   "metadata": {},
   "outputs": [
    {
     "data": {
      "text/markdown": [
       "```html\n",
       "<button type=\"button\" class=\"uk-button uk-icon-button uk-icon-button-small \"><span uk-icon=\"icon: home; ratio: 1\"></span></button>\n",
       "```"
      ],
      "text/plain": [
       "button((span((),{'uk-icon': 'icon: home; ratio: 1', 'class': ''}),),{'type': 'button', 'class': 'uk-button uk-icon-button uk-icon-button-small '})"
      ]
     },
     "execution_count": null,
     "metadata": {},
     "output_type": "execute_result"
    }
   ],
   "source": [
    "UkIconButton(UkIcon('home'))"
   ]
  },
  {
   "cell_type": "markdown",
   "metadata": {},
   "source": [
    "## Drop Downs"
   ]
  },
  {
   "cell_type": "code",
   "execution_count": null,
   "metadata": {},
   "outputs": [],
   "source": [
    "#| export\n",
    "def Options(*c,                    # Content for an `Option`\n",
    "            selected_idx:int=None, # Index location of selected `Option`\n",
    "            disabled_idxs:set=None # Idex locations of disabled `Options`\n",
    "           ):\n",
    "    \"Helper function to wrap things into `Option`s for use in `UkSelect`\"\n",
    "    return [fh.Option(o,selected=i==selected_idx, disabled=disabled_idxs and i in disabled_idxs) for i,o in enumerate(c)]"
   ]
  },
  {
   "cell_type": "code",
   "execution_count": null,
   "metadata": {},
   "outputs": [
    {
     "data": {
      "text/plain": [
       "['<option disabled>option1</option>',\n",
       " '<option selected>option2</option>',\n",
       " '<option disabled>option3</option>']"
      ]
     },
     "execution_count": null,
     "metadata": {},
     "output_type": "execute_result"
    }
   ],
   "source": [
    "list(map(to_xml,Options('option1','option2','option3', selected_idx=1, disabled_idxs={0,2})))"
   ]
  },
  {
   "cell_type": "code",
   "execution_count": null,
   "metadata": {},
   "outputs": [],
   "source": [
    "#| export\n",
    "def UkSelect(*option,            # Options for the select dropdown (can use `Options` helper function to create)\n",
    "             label=(),           # String or FT component for the label\n",
    "             lbl_cls=(),         # Additional classes for the label\n",
    "             inp_cls=(),         # Additional classes for the select input\n",
    "             cls=('space-y-2',), # Classes for the outer div\n",
    "             id=\"\",              # ID for the select input\n",
    "             name=\"\",            # Name attribute for the select input\n",
    "             placeholder=\"\",     # Placeholder text for the select input\n",
    "             searchable=False,   # Whether the select should be searchable\n",
    "             **kwargs):          # Additional arguments passed to Uk_select\n",
    "    \"Creates a select dropdown with uk styling\"\n",
    "    lbl_cls, inp_cls, cls = map(stringify, (lbl_cls, inp_cls, cls))\n",
    "    if label: \n",
    "        lbl = FormLabel(cls=f'{lbl_cls}', fr=id)(label) \n",
    "    select = Uk_select(*option, cls=inp_cls, uk_cloak=True, id=id, \n",
    "                       name=name, placeholder=placeholder, searchable=searchable, **kwargs)\n",
    "    return Div(cls=cls)(lbl, select) if label else Div(cls=cls)(select)"
   ]
  },
  {
   "cell_type": "code",
   "execution_count": null,
   "metadata": {},
   "outputs": [
    {
     "data": {
      "text/html": [
       "<div class=\"space-y-2\">\n",
       "<label class=\"uk-form-label \">MyLabel</label><uk-select uk-cloak placeholder=\"MyPlaceholder\"><option>a</option><option>b</option></uk-select></div>\n"
      ],
      "text/plain": [
       "<IPython.core.display.HTML object>"
      ]
     },
     "execution_count": null,
     "metadata": {},
     "output_type": "execute_result"
    }
   ],
   "source": [
    "fh.show(UkSelect(*Options('a', 'b'), label='MyLabel', placeholder='MyPlaceholder'))"
   ]
  },
  {
   "cell_type": "code",
   "execution_count": null,
   "metadata": {},
   "outputs": [
    {
     "data": {
      "text/html": [
       "<div class=\"space-y-2\">\n",
       "  <div>\n",
       "<label class=\"uk-form-label \">MyLabel</label><select placeholder=\"MyPlaceholder\" class=\"uk-select \"><option>a</option><option>b</option></select>  </div>\n",
       "</div>\n"
      ],
      "text/plain": [
       "<IPython.core.display.HTML object>"
      ]
     },
     "execution_count": null,
     "metadata": {},
     "output_type": "execute_result"
    }
   ],
   "source": [
    "fh.show(Div(cls='space-y-2')(LabelSelect(*Options('a', 'b'), label='MyLabel', placeholder='MyPlaceholder')))"
   ]
  },
  {
   "cell_type": "code",
   "execution_count": null,
   "metadata": {},
   "outputs": [],
   "source": [
    "#| export\n",
    "def _UkDropdownButtonOptions(opt_grps, opt_hdrs=None):\n",
    "    res = []\n",
    "    for g,h in zip_longest(opt_grps, tuplify(opt_hdrs)):\n",
    "        if h: res.append(Li(cls=\"uk-nav-header\")(h if isinstance(h,FT) else Div(h)))\n",
    "        if isinstance(g,(list,tuple)): res += list(map(Li, g))\n",
    "        else: res.append(Li(g))\n",
    "    return res"
   ]
  },
  {
   "cell_type": "code",
   "execution_count": null,
   "metadata": {},
   "outputs": [],
   "source": [
    "#| export\n",
    "def UkDropdownButton(\n",
    "    *opt_grp,        # List of options to be displayed in the dropdown\n",
    "    opt_hdrs=None,  # List of headers for each option group, or None\n",
    "    label=None,     # String, FT component, or None for the `Button`\n",
    "    btn_cls=ButtonT.default,  # Button class(es)\n",
    "    cls=(),         # Parent div class\n",
    "    dd_cls=(),      # Class that goes on the dropdown container\n",
    "    icon='triangle-down',  # Icon to use for the dropdown\n",
    "    icon_cls='',    # Additional classes for the icon\n",
    "    icon_position='right'  # Position of the icon: 'left' or 'right'\n",
    "    ):\n",
    "    dd_cls, btn_cls, cls, icon_cls = map(stringify, (dd_cls, btn_cls, cls, icon_cls))\n",
    "    icon_component = UkIcon(icon, cls=icon_cls) if icon else None\n",
    "    btn_content = [] if label is None else [label]\n",
    "    if icon_component: btn_content.insert(0 if icon_position == 'left' else len(btn_content), icon_component)\n",
    "    btn = Button(cls=btn_cls)(*btn_content)\n",
    "    dd = Div(uk_dropdown='mode: click; pos: bottom-right', cls='uk-dropdown uk-drop ' + dd_cls)(\n",
    "        Ul(cls='uk-dropdown-nav')(*_UkDropdownButtonOptions(opt_grp, opt_hdrs)))\n",
    "    return Div(cls=cls)(Div(cls='flex items-center space-x-4')(btn, dd))"
   ]
  },
  {
   "cell_type": "code",
   "execution_count": null,
   "metadata": {},
   "outputs": [
    {
     "data": {
      "text/html": [
       "<div>\n",
       "  <div class=\"flex items-center space-x-4\">\n",
       "<button type=\"button\" class=\"uk-button uk-button-default\"><span uk-icon=\"icon: triangle-down; ratio: 1\"></span></button>    <div uk-dropdown=\"mode: click; pos: bottom-right\" class=\"uk-dropdown uk-drop \">\n",
       "      <ul class=\"uk-dropdown-nav\">\n",
       "        <li class=\"uk-nav-header\">\n",
       "          <div>Header 1</div>\n",
       "        </li>\n",
       "        <li>\n",
       "<a href=\"#\">Option 1.1</a>        </li>\n",
       "        <li>\n",
       "<a href=\"#\">Option 1.2</a>        </li>\n",
       "        <li class=\"uk-nav-header\">\n",
       "          <div>Header 2</div>\n",
       "        </li>\n",
       "        <li>\n",
       "<a href=\"#\">Option 2.1</a>        </li>\n",
       "        <li>\n",
       "<a href=\"#\">Option 2.2</a>        </li>\n",
       "      </ul>\n",
       "    </div>\n",
       "  </div>\n",
       "</div>\n"
      ],
      "text/plain": [
       "<IPython.core.display.HTML object>"
      ]
     },
     "execution_count": null,
     "metadata": {},
     "output_type": "execute_result"
    }
   ],
   "source": [
    "fh.show(UkDropdownButton((A('Option 1.1', _href='#'), A('Option 1.2', _href='#')), \n",
    "                 (A('Option 2.1', _href='#'), A('Option 2.2', _href='#')),\n",
    "                 opt_hdrs=('Header 1', 'Header 2')))"
   ]
  },
  {
   "cell_type": "code",
   "execution_count": null,
   "metadata": {},
   "outputs": [
    {
     "data": {
      "text/markdown": [
       "```html\n",
       "<span uk-icon=\"icon: home; ratio: 1\"></span>\n",
       "```"
      ],
      "text/plain": [
       "span((),{'uk-icon': 'icon: home; ratio: 1', 'class': ''})"
      ]
     },
     "execution_count": null,
     "metadata": {},
     "output_type": "execute_result"
    }
   ],
   "source": [
    "UkIcon('home')"
   ]
  },
  {
   "cell_type": "markdown",
   "metadata": {},
   "source": [
    "## Dividers"
   ]
  },
  {
   "cell_type": "code",
   "execution_count": null,
   "metadata": {},
   "outputs": [],
   "source": [
    "#| export\n",
    "def UkHSplit(*c, cls=(), line_cls=(), text_cls=()):\n",
    "    # Divider FrankenUI stuff\n",
    "    cls, line_cls, text_cls = map(stringify,(cls, line_cls, text_cls))\n",
    "    return Div(cls='relative ' + cls)(\n",
    "        Div(cls=\"absolute inset-0 flex items-center \" + line_cls)(Span(cls=\"w-full border-t border-border\")),\n",
    "        Div(cls=\"relative flex justify-center \" + text_cls)(Span(cls=\"bg-background px-2 \")(*c)))"
   ]
  },
  {
   "cell_type": "code",
   "execution_count": null,
   "metadata": {},
   "outputs": [
    {
     "data": {
      "text/markdown": [
       "```html\n",
       "<div class=\"relative \">\n",
       "  <div class=\"absolute inset-0 flex items-center \">\n",
       "<span class=\"w-full border-t border-border\"></span>  </div>\n",
       "  <div class=\"relative flex justify-center \">\n",
       "<span class=\"bg-background px-2 \"></span>  </div>\n",
       "</div>\n",
       "\n",
       "```"
      ],
      "text/plain": [
       "div((div((span((),{'class': 'w-full border-t border-border'}),),{'class': 'absolute inset-0 flex items-center '}), div((span((),{'class': 'bg-background px-2 '}),),{'class': 'relative flex justify-center '})),{'class': 'relative '})"
      ]
     },
     "execution_count": null,
     "metadata": {},
     "output_type": "execute_result"
    }
   ],
   "source": [
    "UkHSplit()"
   ]
  },
  {
   "cell_type": "code",
   "execution_count": null,
   "metadata": {},
   "outputs": [],
   "source": [
    "#| export\n",
    "def UkHLine(lwidth=2, y_space=4): return Div(cls=f\"my-{y_space} h-[{lwidth}px] w-full bg-secondary\")"
   ]
  },
  {
   "cell_type": "code",
   "execution_count": null,
   "metadata": {},
   "outputs": [
    {
     "data": {
      "text/markdown": [
       "```html\n",
       "<div class=\"my-4 h-[2px] w-full bg-secondary\"></div>\n",
       "\n",
       "```"
      ],
      "text/plain": [
       "div((),{'class': 'my-4 h-[2px] w-full bg-secondary'})"
      ]
     },
     "execution_count": null,
     "metadata": {},
     "output_type": "execute_result"
    }
   ],
   "source": [
    "UkHLine()"
   ]
  },
  {
   "cell_type": "code",
   "execution_count": null,
   "metadata": {},
   "outputs": [],
   "source": [
    "#| export\n",
    "def UkNavDivider(): return fh.Li(cls=\"uk-nav-divider\")"
   ]
  },
  {
   "cell_type": "code",
   "execution_count": null,
   "metadata": {},
   "outputs": [
    {
     "data": {
      "text/markdown": [
       "```html\n",
       "<li class=\"uk-nav-divider\"></li>\n",
       "\n",
       "```"
      ],
      "text/plain": [
       "li((),{'class': 'uk-nav-divider'})"
      ]
     },
     "execution_count": null,
     "metadata": {},
     "output_type": "execute_result"
    }
   ],
   "source": [
    "UkNavDivider()"
   ]
  },
  {
   "cell_type": "markdown",
   "metadata": {},
   "source": [
    "## NavBar"
   ]
  },
  {
   "cell_type": "code",
   "execution_count": null,
   "metadata": {},
   "outputs": [],
   "source": [
    "#| export\n",
    "def UkNavbarDropdown(*c, label, href='#', cls='', has_header=False, **kwargs):\n",
    "    fn = lambda x: Li(item, cls='uk-drop-close', href='#demo', uk_toggle=True)\n",
    "    flattened = []\n",
    "    for i, item in enumerate(c):\n",
    "        if i > 0: flattened.append(Li(cls=\"uk-nav-divider\"))\n",
    "        if isinstance(item, (list,tuple)): flattened.extend(map(Li, item))\n",
    "        else: flattened.append(Li(item, cls=\"uk-nav-header\" if i == 0 and has_header else None, uk_toggle=True))\n",
    "    return (fh.Li(cls=cls, **kwargs)(\n",
    "                fh.A(label, cls='uk-drop-close', href='#', uk_toggle=True), \n",
    "                Div(cls='uk-navbar-dropdown', uk_dropdown=\"mode: click; pos: bottom-left\")(fh.Ul(cls='uk-nav uk-dropdown-nav')(*flattened))))"
   ]
  },
  {
   "cell_type": "code",
   "execution_count": null,
   "metadata": {},
   "outputs": [
    {
     "data": {
      "text/markdown": [
       "```html\n",
       "<li>\n",
       "<a href=\"#\" uk-toggle class=\"uk-drop-close\">abc</a>  <div class=\"uk-navbar-dropdown\" uk-dropdown=\"mode: click; pos: bottom-left\">\n",
       "    <ul class=\"uk-nav uk-dropdown-nav\"></ul>\n",
       "  </div>\n",
       "</li>\n",
       "\n",
       "```"
      ],
      "text/plain": [
       "li((a(('abc',),{'href': '#', 'uk-toggle': True, 'class': 'uk-drop-close'}), div((ul((),{'class': 'uk-nav uk-dropdown-nav'}),),{'class': 'uk-navbar-dropdown', 'uk-dropdown': 'mode: click; pos: bottom-left'})),{'class': ''})"
      ]
     },
     "execution_count": null,
     "metadata": {},
     "output_type": "execute_result"
    }
   ],
   "source": [
    "UkNavbarDropdown(label='abc')"
   ]
  },
  {
   "cell_type": "code",
   "execution_count": null,
   "metadata": {},
   "outputs": [],
   "source": [
    "#| export\n",
    "def _NavBarSide(n, s):\n",
    "    def add_class(item):\n",
    "        if isinstance(item, str): return Li(cls='uk-navbar-item')(item)\n",
    "        else: item.attrs['class'] = f\"{item.attrs.get('class', '')} uk-navbar-item\".strip()\n",
    "        return item\n",
    "    return Div(cls=f'uk-navbar-{s}')(Ul(cls='uk-navbar-nav')(*map(add_class, tuplify(n))))"
   ]
  },
  {
   "cell_type": "code",
   "execution_count": null,
   "metadata": {},
   "outputs": [],
   "source": [
    "#| export\n",
    "def UkNavbar(lnav: fh.Sequence[Union[str, FT]]=None, \n",
    "             rnav: fh.Sequence[Union[str, FT]]=None, \n",
    "             cls='',\n",
    "             **kwargs\n",
    "            ) -> FT:\n",
    "    return Div(cls='uk-navbar-container uk-width-1-1 relative z-10 '+ stringify(cls), uk_navbar=True, **kwargs)(\n",
    "             _NavBarSide(lnav,'left') if lnav else '',\n",
    "             _NavBarSide(rnav,'right') if rnav else '')"
   ]
  },
  {
   "cell_type": "code",
   "execution_count": null,
   "metadata": {},
   "outputs": [
    {
     "data": {
      "text/markdown": [
       "```html\n",
       "<div class=\"uk-navbar-container uk-width-1-1 relative z-10 \" uk-navbar>\n",
       "</div>\n",
       "\n",
       "```"
      ],
      "text/plain": [
       "div(('', ''),{'class': 'uk-navbar-container uk-width-1-1 relative z-10 ', 'uk-navbar': True})"
      ]
     },
     "execution_count": null,
     "metadata": {},
     "output_type": "execute_result"
    }
   ],
   "source": [
    "UkNavbar()"
   ]
  },
  {
   "cell_type": "markdown",
   "metadata": {},
   "source": [
    "## Sidebar"
   ]
  },
  {
   "cell_type": "code",
   "execution_count": null,
   "metadata": {},
   "outputs": [],
   "source": [
    "sidebar_items = [\"Profile\", \"Account\", \"Appearance\", \"Notifications\", \"Display\"]\n",
    "tst = fh.Ul(cls='uk-nav-primary', uk_switcher=\"connect: #component-nav; animation: uk-animation-fade\")(\n",
    "                            *map(lambda x: fh.Li(fh.A(x)),sidebar_items))"
   ]
  },
  {
   "cell_type": "code",
   "execution_count": null,
   "metadata": {},
   "outputs": [],
   "source": [
    "#| export\n",
    "def UkSidebar(*ul,                 # Each Ul can be it's own section.  Use A for links!\n",
    "              cls='space-y-4 p-4', # Classes for outer container\n",
    "              **kwargs             # Kwargs for outer container\n",
    "             ):\n",
    "    \"Creates a styled sidebar component\"\n",
    "    styles = ('uk-nav-default', 'uk-nav-primary','uk-nav-secondary')\n",
    "    sidebar = []\n",
    "    for section in tuplify(ul):\n",
    "        section = copy.deepcopy(section)\n",
    "        _sattrs = section.attrs\n",
    "        if 'class' not in _sattrs: _sattrs['class'] = ''\n",
    "        if 'uk-nav' not in _sattrs: _sattrs['class'] += ' uk-nav '\n",
    "        if not any(x in styles for x in _sattrs['class'].split()): _sattrs['class'] += ' uk-nav-default '\n",
    "        sidebar.append(section)  \n",
    "    return Div(cls=cls, **kwargs)(*sidebar)"
   ]
  },
  {
   "cell_type": "code",
   "execution_count": null,
   "metadata": {},
   "outputs": [
    {
     "data": {
      "text/markdown": [
       "```html\n",
       "<div class=\"space-y-4 p-4\">\n",
       "  <ul class=\"uk-nav-primary uk-nav \">\n",
       "    <li>\n",
       "<a href=\"#\">Profile</a>    </li>\n",
       "    <li>\n",
       "<a href=\"#\">Account</a>    </li>\n",
       "  </ul>\n",
       "</div>\n",
       "\n",
       "```"
      ],
      "text/plain": [
       "div((ul((li((a(('Profile',),{'href': '#'}),),{}), li((a(('Account',),{'href': '#'}),),{})),{'class': 'uk-nav-primary uk-nav '}),),{'class': 'space-y-4 p-4'})"
      ]
     },
     "execution_count": null,
     "metadata": {},
     "output_type": "execute_result"
    }
   ],
   "source": [
    "sidebar_items = [\"Profile\", \"Account\"]\n",
    "tst = fh.Ul(cls='uk-nav-primary')(*map(lambda x: fh.Li(fh.A(x)),sidebar_items))\n",
    "UkSidebar(tst)"
   ]
  },
  {
   "cell_type": "markdown",
   "metadata": {},
   "source": [
    "## Navtab"
   ]
  },
  {
   "cell_type": "code",
   "execution_count": null,
   "metadata": {},
   "outputs": [],
   "source": [
    "#| export\n",
    "def NavTab(text, active=False):\n",
    "    return Li(cls=\"uk-active\" if active else \" \")(A(text, href=\"#demo\", uk_toggle=True))\n",
    "\n",
    "def UkTab(*items, maxw=96, cls='', **kwargs):\n",
    "    cls = stringify(cls)\n",
    "    return Ul(cls=f\"uk-tab-alt max-w-{maxw} \"+cls,**kwargs)(*[NavTab(item, active=i==0) for i, item in enumerate(items)])"
   ]
  },
  {
   "cell_type": "markdown",
   "metadata": {},
   "source": [
    "## Cards"
   ]
  },
  {
   "cell_type": "code",
   "execution_count": null,
   "metadata": {},
   "outputs": [],
   "source": [
    "#| export\n",
    "CardT = create_uk_enum('CardT',('default', 'primary', 'secondary', 'danger'))"
   ]
  },
  {
   "cell_type": "code",
   "execution_count": null,
   "metadata": {},
   "outputs": [],
   "source": [
    "#| export\n",
    "def CardTitle(*c, cls=(), **kwargs):\n",
    "    return UKGenericComponent(fh.Div, *c, cls=('uk-card-title',stringify(cls)), **kwargs)\n",
    "\n",
    "def CardHeader(*c, cls=(), **kwargs):\n",
    "    return UkGenericComponent(fh.Div, *c, cls=('uk-card-header',stringify(cls)), **kwargs)\n",
    "\n",
    "def CardBody(*c, cls=(), **kwargs):\n",
    "    return UkGenericComponent(fh.Div, *c, cls=('uk-card-body',stringify(cls)), **kwargs)\n",
    "\n",
    "def CardFooter(*c, cls=(), **kwargs):\n",
    "    return UkGenericComponent(fh.Div, *c, cls=('uk-card-footer',stringify(cls)), **kwargs)\n",
    "\n",
    "def CardContainer(*c, cls=CardT.default, **kwargs):\n",
    "    return UkGenericComponent(fh.Div, *c, cls=('uk-card',stringify(cls)), **kwargs)"
   ]
  },
  {
   "cell_type": "code",
   "execution_count": null,
   "metadata": {},
   "outputs": [],
   "source": [
    "#|export\n",
    "def Card(*c, # Components that go in the body\n",
    "        header=None, # Components that go in the header\n",
    "        footer=None,  # Components that go in the footer\n",
    "        body_cls='space-y-6', # classes for the body\n",
    "        header_cls=(), # classes for the header\n",
    "        footer_cls=(), # classes for the footer\n",
    "        cls=(), #class for outermost component\n",
    "        **kwargs # classes that for the card itself\n",
    "        ):\n",
    "    header_cls, footer_cls, body_cls, cls = map(stringify, (header_cls, footer_cls, body_cls, cls))\n",
    "    res = []\n",
    "    if header: res.append(CardHeader(cls=header_cls)(header))\n",
    "    res.append(CardBody(cls=body_cls)(*c))\n",
    "    if footer: res.append(CardFooter(cls=footer_cls)(footer))\n",
    "    return CardContainer(cls=cls, **kwargs)(*res)"
   ]
  },
  {
   "cell_type": "markdown",
   "metadata": {},
   "source": [
    "## Tables"
   ]
  },
  {
   "cell_type": "code",
   "execution_count": null,
   "metadata": {},
   "outputs": [],
   "source": [
    "#| export\n",
    "TableT = create_uk_enum(\"TableT\", ('divider', 'striped', 'hover', 'small', 'large', \n",
    "                                    'justify', 'middle','responsive',))"
   ]
  },
  {
   "cell_type": "code",
   "execution_count": null,
   "metadata": {},
   "outputs": [],
   "source": [
    "#| export\n",
    "def Table(*args, cls=(TableT.middle, TableT.divider, TableT.hover, TableT.small), **kwargs): \n",
    "    return fh.Table(cls=('uk-table', stringify(cls)), *args, **kwargs)"
   ]
  },
  {
   "cell_type": "code",
   "execution_count": null,
   "metadata": {},
   "outputs": [],
   "source": [
    "#| export\n",
    "def _TableCell(Component, *args, cls=(), shrink=False, expand=False, small=False, **kwargs):\n",
    "    cls = stringify(cls)\n",
    "    if shrink: cls += ' uk-table-shrink'\n",
    "    if expand: cls += ' uk-table-expand'\n",
    "    if small: cls += ' uk-table-small'\n",
    "    return Component(*args,cls=cls, **kwargs)\n",
    "\n",
    "@delegates(_TableCell, but=['Component'])\n",
    "def Td(*args,**kwargs):  return _TableCell(fh.Td, *args, **kwargs)\n",
    "@delegates(_TableCell, but=['Component'])\n",
    "def Th(*args,**kwargs): return _TableCell(fh.Th, *args, **kwargs)\n",
    "\n",
    "def Tr(*cells, cls=(), **kwargs):  return fh.Tr(*cells, cls=stringify(cls), **kwargs)\n",
    "def Thead(*rows, cls=(), **kwargs): return fh.Thead(*rows, cls=stringify(cls), **kwargs)\n",
    "def Tbody(*rows, cls=(), **kwargs): return fh.Tbody(*rows, cls=stringify(cls), **kwargs)"
   ]
  },
  {
   "cell_type": "code",
   "execution_count": null,
   "metadata": {},
   "outputs": [],
   "source": [
    "#|export\n",
    "def TableFromLists(header_data, body_data, footer_data=None, \n",
    "                   header_cell_render=Th,body_cell_render=Td, footer_cell_render=Td,\n",
    "                   cls=(TableT.middle, TableT.divider, TableT.hover, TableT.small), **kwargs):\n",
    "    \n",
    "    return Table(\n",
    "                Thead(Tr(*map(header_cell_render, header_data))),\n",
    "                Tbody(*[Tr(*map(body_cell_render, r)) for r in body_data]),\n",
    "                Tfoot(Tr(*map(footer_cell_render, footer_data))) if footer_data else '',\n",
    "                cls=stringify(cls),    \n",
    "                **kwargs)"
   ]
  },
  {
   "cell_type": "code",
   "execution_count": null,
   "metadata": {},
   "outputs": [
    {
     "data": {
      "text/html": [
       "<table class=\"uk-table uk-table-middle uk-table-divider uk-table-hover uk-table-small\">\n",
       "  <thead>\n",
       "    <tr>\n",
       "      <th>Name</th>\n",
       "      <th>Age</th>\n",
       "      <th>City</th>\n",
       "    </tr>\n",
       "  </thead>\n",
       "  <tbody>\n",
       "    <tr>\n",
       "      <td>Alice</td>\n",
       "      <td>25</td>\n",
       "      <td>New York</td>\n",
       "    </tr>\n",
       "    <tr>\n",
       "      <td>Bob</td>\n",
       "      <td>30</td>\n",
       "      <td>San Francisco</td>\n",
       "    </tr>\n",
       "    <tr>\n",
       "      <td>Charlie</td>\n",
       "      <td>35</td>\n",
       "      <td>London</td>\n",
       "    </tr>\n",
       "  </tbody>\n",
       "  <tfoot>\n",
       "    <tr>\n",
       "      <td>Total</td>\n",
       "      <td>90</td>\n",
       "      <td></td>\n",
       "    </tr>\n",
       "  </tfoot>\n",
       "</table>\n"
      ],
      "text/plain": [
       "<IPython.core.display.HTML object>"
      ]
     },
     "execution_count": null,
     "metadata": {},
     "output_type": "execute_result"
    }
   ],
   "source": [
    "# Test the function\n",
    "header = ['Name', 'Age', 'City']\n",
    "body = [\n",
    "    ['Alice', '25', 'New York'],\n",
    "    ['Bob', '30', 'San Francisco'],\n",
    "    ['Charlie', '35', 'London']\n",
    "]\n",
    "footer = ['Total', '90', '']\n",
    "\n",
    "fh.show(TableFromLists(header, body, footer))"
   ]
  },
  {
   "cell_type": "code",
   "execution_count": null,
   "metadata": {},
   "outputs": [],
   "source": [
    "#| export\n",
    "def TableFromDicts(header_data:Sequence, body_data:Sequence[dict], footer_data=None, \n",
    "                   header_cell_render=Th, body_cell_render=lambda k,v : Td(v), footer_cell_render=lambda k,v : Td(v),\n",
    "                   cls=(TableT.middle, TableT.divider, TableT.hover, TableT.small), **kwargs):\n",
    "    \n",
    "    return Table(\n",
    "        Thead(Tr(*[header_cell_render(h) for h in header_data])),\n",
    "        Tbody(*[Tr(*[body_cell_render(k, r) for k in header_data]) for r in body_data]),\n",
    "        Tfoot(Tr(*[footer_cell_render(k, footer_data.get(k.lower(), '')) for k in header_data])) if footer_data else '',\n",
    "        cls=stringify(cls),    \n",
    "        **kwargs\n",
    "    )"
   ]
  },
  {
   "cell_type": "code",
   "execution_count": null,
   "metadata": {},
   "outputs": [
    {
     "data": {
      "text/html": [
       "<table class=\"uk-table uk-table-middle uk-table-divider uk-table-hover uk-table-small\">\n",
       "  <thead>\n",
       "    <tr>\n",
       "      <th>NAME</th>\n",
       "      <th>AGE</th>\n",
       "      <th>CITY</th>\n",
       "    </tr>\n",
       "  </thead>\n",
       "  <tbody>\n",
       "    <tr>\n",
       "      <td class=\"font-bold\">Alice</td>\n",
       "      <td>30 years</td>\n",
       "      <td>New York</td>\n",
       "    </tr>\n",
       "    <tr>\n",
       "      <td class=\"font-bold\">Bob</td>\n",
       "      <td>25 years</td>\n",
       "      <td>London</td>\n",
       "    </tr>\n",
       "  </tbody>\n",
       "</table>\n"
      ],
      "text/plain": [
       "<IPython.core.display.HTML object>"
      ]
     },
     "execution_count": null,
     "metadata": {},
     "output_type": "execute_result"
    }
   ],
   "source": [
    "# Example usage:\n",
    "def header_render(v): return Th(v.upper())\n",
    "def body_render(k, v):\n",
    "    match k.lower():\n",
    "        case 'name': return Td(v['name'], cls='font-bold')\n",
    "        case 'age': return Td(f\"{v['age']} years\")\n",
    "        case _: return Td(v[k.lower()])\n",
    "\n",
    "header_data = ['Name', 'Age', 'City']\n",
    "body_data = [\n",
    "    {'name': 'Alice', 'age': 30, 'city': 'New York'},\n",
    "    {'name': 'Bob', 'age': 25, 'city': 'London'}\n",
    "]\n",
    "\n",
    "fh.show(TableFromDicts(header_data, body_data, header_cell_render=header_render, body_cell_render=body_render))"
   ]
  },
  {
   "cell_type": "markdown",
   "metadata": {},
   "source": [
    "## Forms"
   ]
  },
  {
   "cell_type": "code",
   "execution_count": null,
   "metadata": {},
   "outputs": [],
   "source": [
    "#| export\n",
    "def UkFormSection(title, description, *c, button_txt='Update', outer_margin=6, inner_margin=6):\n",
    "    return Div(cls=f'space-y-{inner_margin} py-{outer_margin}')(\n",
    "        Div(H3(title), P(description, cls=TextFont.bold_sm)),\n",
    "        UkHSplit(), *c,\n",
    "        Div(Button(button_txt, cls=ButtonT.primary)) if button_txt else None)"
   ]
  },
  {
   "cell_type": "code",
   "execution_count": null,
   "metadata": {},
   "outputs": [],
   "source": [
    "#| hide\n",
    "import nbdev; nbdev.nbdev_export()"
   ]
  },
  {
   "cell_type": "code",
   "execution_count": null,
   "metadata": {},
   "outputs": [
    {
     "data": {
      "text/html": [
       "<script>\n",
       "window.addEventListener('load', function() {\n",
       "    for (let i = 1; i <= 6; i++) {\n",
       "        document.querySelectorAll(`h${i}`).forEach(el => {\n",
       "            el.classList.add(`uk-h${i}`);\n",
       "        });\n",
       "    }\n",
       "});\n",
       "</script>\n"
      ],
      "text/plain": [
       "<IPython.core.display.HTML object>"
      ]
     },
     "metadata": {},
     "output_type": "display_data"
    }
   ],
   "source": [
    "%%html\n",
    "<script>\n",
    "window.addEventListener('load', function() {\n",
    "    for (let i = 1; i <= 6; i++) {\n",
    "        document.querySelectorAll(`h${i}`).forEach(el => {\n",
    "            el.classList.add(`uk-h${i}`);\n",
    "        });\n",
    "    }\n",
    "});\n",
    "</script>"
   ]
  },
  {
   "cell_type": "code",
   "execution_count": null,
   "metadata": {},
   "outputs": [],
   "source": []
  }
 ],
 "metadata": {
  "kernelspec": {
   "display_name": "python3",
   "language": "python",
   "name": "python3"
  }
 },
 "nbformat": 4,
 "nbformat_minor": 4
}
