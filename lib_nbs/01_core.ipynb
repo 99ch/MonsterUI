{
 "cells": [
  {
   "cell_type": "markdown",
   "metadata": {},
   "source": [
    "# Core\n",
    "\n",
    "> The building blocks to the UI"
   ]
  },
  {
   "cell_type": "markdown",
   "metadata": {},
   "source": [
    "## Imports"
   ]
  },
  {
   "cell_type": "markdown",
   "metadata": {},
   "source": [
    "\n"
   ]
  },
  {
   "cell_type": "code",
   "execution_count": null,
   "metadata": {},
   "outputs": [],
   "source": [
    "#| default_exp core"
   ]
  },
  {
   "cell_type": "code",
   "execution_count": null,
   "metadata": {},
   "outputs": [],
   "source": [
    "#| hide\n",
    "#| export\n",
    "import fasthtml.common as fh\n",
    "from fh_frankenui.foundations import *\n",
    "from fasthtml.common import is_listy, Div, P, Span, Script, FastHTML, FT, to_xml, show\n",
    "from fasthtml.svg import Svg\n",
    "from enum import Enum, auto\n",
    "from fasthtml.components import Uk_select,Uk_input_tag\n",
    "from functools import partial\n",
    "from itertools import zip_longest\n",
    "from typing import Union, Tuple, Optional\n",
    "from fastcore.all import *\n",
    "import copy"
   ]
  },
  {
   "cell_type": "code",
   "execution_count": null,
   "metadata": {},
   "outputs": [
    {
     "data": {
      "text/html": [
       "<script src=\"https://cdn.tailwindcss.com\"></script>\n",
       "<script src=\"https://cdn.jsdelivr.net/npm/uikit@3.21.6/dist/js/uikit.min.js\"></script>\n",
       "<script src=\"https://cdn.jsdelivr.net/npm/uikit@3.21.6/dist/js/uikit-icons.min.js\"></script>\n",
       "<script type=\"module\" src=\"https://unpkg.com/franken-wc@0.0.6/dist/js/wc.iife.js\"></script>\n",
       "<link rel=\"stylesheet\" href=\"https://unpkg.com/franken-wc@0.0.6/dist/css/blue.min.css\">\n",
       "\n",
       "\n",
       "<style>\n",
       "#notebook-container { max-width: none; }\n",
       ".output_html * { list-style-type: none !important; }\n",
       "</style>\n"
      ],
      "text/plain": [
       "<IPython.core.display.HTML object>"
      ]
     },
     "metadata": {},
     "output_type": "display_data"
    }
   ],
   "source": [
    "%%html\n",
    "<script src=\"https://cdn.tailwindcss.com\"></script>\n",
    "<script src=\"https://cdn.jsdelivr.net/npm/uikit@3.21.6/dist/js/uikit.min.js\"></script>\n",
    "<script src=\"https://cdn.jsdelivr.net/npm/uikit@3.21.6/dist/js/uikit-icons.min.js\"></script>\n",
    "<script type=\"module\" src=\"https://unpkg.com/franken-wc@0.0.6/dist/js/wc.iife.js\"></script>\n",
    "<link rel=\"stylesheet\" href=\"https://unpkg.com/franken-wc@0.0.6/dist/css/blue.min.css\">\n",
    "\n",
    "\n",
    "<style>\n",
    "#notebook-container { max-width: none; }\n",
    ".output_html * { list-style-type: none !important; }\n",
    "</style>"
   ]
  },
  {
   "cell_type": "code",
   "execution_count": null,
   "metadata": {},
   "outputs": [],
   "source": [
    "#| hide\n",
    "from functools import partial\n",
    "from IPython.display import HTML, display, Markdown"
   ]
  },
  {
   "cell_type": "code",
   "execution_count": null,
   "metadata": {},
   "outputs": [],
   "source": [
    "#| hide\n",
    "from nbdev.showdoc import *"
   ]
  },
  {
   "cell_type": "code",
   "execution_count": null,
   "metadata": {},
   "outputs": [],
   "source": [
    "#| hide\n",
    "def enum_to_markdown_table(enum_class):\n",
    "    headers = [\"Option\", \"Value\"]\n",
    "    rows = [[name, value.value] for name, value in enum_class.__members__.items()]\n",
    "    \n",
    "    max_name_len = max(len(row[0]) for row in rows)\n",
    "    max_value_len = max(len(row[1]) for row in rows)\n",
    "    \n",
    "    header = f\"| {'Option':<{max_name_len}} | {'Value':<{max_value_len}} |\"\n",
    "    separator = f\"|{'-'*(max_name_len+2)}|{'-'*(max_value_len+2)}|\"\n",
    "    body = \"\\n\".join(f\"| {row[0]:<{max_name_len}} | {row[1]:<{max_value_len}} |\" for row in rows)\n",
    "    \n",
    "    return f\"{header}\\n{separator}\\n{body}\""
   ]
  },
  {
   "cell_type": "markdown",
   "metadata": {},
   "source": [
    "## Theme / Headers"
   ]
  },
  {
   "cell_type": "markdown",
   "metadata": {},
   "source": [
    "You can select a theme color to and get all the headers.  This brings in the most standard grouping:\n",
    "+ Tailwind: Optional, but typically FrankenUI is used in conjunction with tailwind\n",
    "+ Uikit: Many things are styled with uikit\n",
    "+ UIkit icons: Gives many icons OOTB, and is nice to have handy.\n",
    "+ Franken WC: Neccesary for some of the (minimal) interactivity components have"
   ]
  },
  {
   "cell_type": "code",
   "execution_count": null,
   "metadata": {},
   "outputs": [],
   "source": [
    "#| export\n",
    "class Theme(Enum):\n",
    "    slate = \"slate\"\n",
    "    stone = \"stone\"\n",
    "    gray = \"gray\"\n",
    "    neutral = \"neutral\"\n",
    "    red = \"red\"\n",
    "    rose = \"rose\"\n",
    "    orange = \"orange\"\n",
    "    green = \"green\"\n",
    "    blue = \"blue\"\n",
    "    yellow = \"yellow\"\n",
    "    violet = \"violet\"\n",
    "    zinc = \"zinc\"\n",
    "\n",
    "    def headers(self):\n",
    "        js = (fh.Script(src=\"https://cdn.tailwindcss.com\"),\n",
    "              fh.Script(src=\"https://cdn.jsdelivr.net/npm/uikit@3.21.6/dist/js/uikit.min.js\"),\n",
    "              fh.Script(src=\"https://cdn.jsdelivr.net/npm/uikit@3.21.6/dist/js/uikit-icons.min.js\"),\n",
    "              fh.Script(type=\"module\", src=\"https://unpkg.com/franken-wc@0.0.6/dist/js/wc.iife.js\")\n",
    "              )\n",
    "        _url = f\"https://unpkg.com/franken-wc@0.0.6/dist/css/{self.value}.min.css\"\n",
    "        return (*js, fh.Link(rel=\"stylesheet\", href=_url))"
   ]
  },
  {
   "cell_type": "code",
   "execution_count": null,
   "metadata": {},
   "outputs": [],
   "source": [
    "hdrs = Theme.blue.headers()\n",
    "app = FastHTML(hdrs=hdrs)"
   ]
  },
  {
   "cell_type": "code",
   "execution_count": null,
   "metadata": {},
   "outputs": [],
   "source": [
    "#| hide\n",
    "#| eval: false\n",
    "\n",
    "from fasthtml.jupyter import *\n",
    "from uuid import uuid4\n",
    "\n",
    "if is_port_free(8000):\n",
    "    app, rt = fh.fast_app(pico=False, hdrs=Theme.blue.headers())\n",
    "    server = JupyUvi(app)\n",
    "        \n",
    "def HShow(comp, app):\n",
    "    @app.get('/')\n",
    "    def get(): return comp\n",
    "\n",
    "    display(HTML(f'<a href=\"http://localhost:8000/\" target=\"_blank\">Open in new tab</a>'))\n",
    "    return HTMX(\"/\")\n",
    "\n",
    "Show = partial(HShow, app=app)"
   ]
  },
  {
   "cell_type": "markdown",
   "metadata": {},
   "source": [
    "## Text Style"
   ]
  },
  {
   "cell_type": "code",
   "execution_count": null,
   "metadata": {},
   "outputs": [],
   "source": [
    "#| export\n",
    "class TextT(VEnum):\n",
    "    'Text Styles from https://franken-ui.dev/docs/text'\n",
    "    def _generate_next_value_(name, start, count, last_values):\n",
    "        return str2ukcls('text', name)\n",
    "    \n",
    "    # Text Style\n",
    "    lead,meta, italic = auto(), auto(), auto()\n",
    "    # Text Size\n",
    "    small, default, large = auto(), 'uk-text', auto()\n",
    "    # Text Weight\n",
    "    light, normal, bold, lighter, bolder = auto(),auto(),auto(),auto(),auto()\n",
    "    # Text Transform\n",
    "    capitalize,uppercase, lowercase = auto(),auto(),auto()\n",
    "    # Text Decoration\n",
    "    decoration_none = auto()\n",
    "    # Text Color\n",
    "    muted,primary,secondary, success,warning, danger = auto(),auto(),auto(),auto(),auto(),auto()\n",
    "    # Text Alignment\n",
    "    left, right,center,justify = auto(), auto(), auto(), auto()\n",
    "    # Vertical Alignment\n",
    "    top,middle,bottom, baseline = auto(),auto(),auto(),auto()\n",
    "    \n",
    "    # Text Wrapping\n",
    "    truncate,break_,nowrap = auto(),auto(),auto()"
   ]
  },
  {
   "cell_type": "code",
   "execution_count": null,
   "metadata": {},
   "outputs": [
    {
     "name": "stdout",
     "output_type": "stream",
     "text": [
      "| Option          | Value                   |\n",
      "|-----------------|-------------------------|\n",
      "| lead            | uk-text-lead            |\n",
      "| meta            | uk-text-meta            |\n",
      "| italic          | uk-text-italic          |\n",
      "| small           | uk-text-small           |\n",
      "| default         | uk-text                 |\n",
      "| large           | uk-text-large           |\n",
      "| light           | uk-text-light           |\n",
      "| normal          | uk-text-normal          |\n",
      "| bold            | uk-text-bold            |\n",
      "| lighter         | uk-text-lighter         |\n",
      "| bolder          | uk-text-bolder          |\n",
      "| capitalize      | uk-text-capitalize      |\n",
      "| uppercase       | uk-text-uppercase       |\n",
      "| lowercase       | uk-text-lowercase       |\n",
      "| decoration_none | uk-text-decoration-none |\n",
      "| muted           | uk-text-muted           |\n",
      "| primary         | uk-text-primary         |\n",
      "| secondary       | uk-text-secondary       |\n",
      "| success         | uk-text-success         |\n",
      "| warning         | uk-text-warning         |\n",
      "| danger          | uk-text-danger          |\n",
      "| left            | uk-text-left            |\n",
      "| right           | uk-text-right           |\n",
      "| center          | uk-text-center          |\n",
      "| justify         | uk-text-justify         |\n",
      "| top             | uk-text-top             |\n",
      "| middle          | uk-text-middle          |\n",
      "| bottom          | uk-text-bottom          |\n",
      "| baseline        | uk-text-baseline        |\n",
      "| truncate        | uk-text-truncate        |\n",
      "| break_          | uk-text-break           |\n",
      "| nowrap          | uk-text-nowrap          |\n"
     ]
    }
   ],
   "source": [
    "print(enum_to_markdown_table(TextT))"
   ]
  },
  {
   "cell_type": "code",
   "execution_count": null,
   "metadata": {},
   "outputs": [],
   "source": [
    "#| export\n",
    "class TextFont(Enum):\n",
    "    \"Combinations of TextT that are particularly useful\"\n",
    "    def __add__(self, other):   return stringify((self, other))\n",
    "    def __radd__(self, other):  return stringify((other, self)) \n",
    "    def __str__(self): return self.value\n",
    "    muted_sm = stringify((TextT.muted, TextT.small))\n",
    "    muted_lg = stringify((TextT.muted, TextT.large))\n",
    "    bold_sm = stringify((TextT.bold, TextT.small))\n",
    "    "
   ]
  },
  {
   "cell_type": "markdown",
   "metadata": {},
   "source": [
    "## Basic Components"
   ]
  },
  {
   "cell_type": "code",
   "execution_count": null,
   "metadata": {},
   "outputs": [],
   "source": [
    "#| export\n",
    "def Alert(*c, cls=(), **kwargs):\n",
    "    return Div(*c, cls=('uk-alert', stringify(cls)), uk_alert=True, **kwargs)"
   ]
  },
  {
   "cell_type": "code",
   "execution_count": null,
   "metadata": {},
   "outputs": [
    {
     "data": {
      "text/markdown": [
       "```html\n",
       "<div class=\"uk-alert \" uk-alert></div>\n",
       "\n",
       "```"
      ],
      "text/plain": [
       "div((),{'class': 'uk-alert ', 'uk-alert': True})"
      ]
     },
     "execution_count": null,
     "metadata": {},
     "output_type": "execute_result"
    }
   ],
   "source": [
    "Alert()"
   ]
  },
  {
   "cell_type": "markdown",
   "metadata": {},
   "source": [
    "## Button"
   ]
  },
  {
   "cell_type": "code",
   "execution_count": null,
   "metadata": {},
   "outputs": [],
   "source": [
    "#| export\n",
    "class ButtonT(VEnum):\n",
    "    def _generate_next_value_(name, start, count, last_values): return str2ukcls('button', name)\n",
    "    default = auto()\n",
    "    primary = auto()\n",
    "    secondary = auto()\n",
    "    danger = auto()\n",
    "    text = auto()\n",
    "    link = auto()\n",
    "    ghost = auto()"
   ]
  },
  {
   "cell_type": "code",
   "execution_count": null,
   "metadata": {},
   "outputs": [
    {
     "data": {
      "text/markdown": [
       "| Option    | Value               |\n",
       "|-----------|---------------------|\n",
       "| default   | uk-button-default   |\n",
       "| primary   | uk-button-primary   |\n",
       "| secondary | uk-button-secondary |\n",
       "| danger    | uk-button-danger    |\n",
       "| text      | uk-button-text      |\n",
       "| link      | uk-button-link      |\n",
       "| ghost     | uk-button-ghost     |"
      ],
      "text/plain": [
       "<IPython.core.display.Markdown object>"
      ]
     },
     "execution_count": null,
     "metadata": {},
     "output_type": "execute_result"
    }
   ],
   "source": [
    "Markdown(enum_to_markdown_table(ButtonT))"
   ]
  },
  {
   "cell_type": "code",
   "execution_count": null,
   "metadata": {},
   "outputs": [],
   "source": [
    "#| export\n",
    "def Button(*c:str|FT,                     # Components to go inside the Button\n",
    "           cls:str|Enum=ButtonT.default,  # cls for the Button (see ButtonT for style options)\n",
    "           **kwargs                       # any other kwargs will be passed to the button \n",
    "          )-> FT:                         # Button w/ `type=button` and `uk-button` cls\n",
    "    \"A Button with Uk Styling\"\n",
    "    return fh.Button(*c, cls=('uk-button',stringify(cls)), type='button', **kwargs)"
   ]
  },
  {
   "cell_type": "code",
   "execution_count": null,
   "metadata": {},
   "outputs": [
    {
     "data": {
      "text/markdown": [
       "```html\n",
       "<button type=\"button\" class=\"uk-button uk-button-default\">Click Me</button>\n",
       "```"
      ],
      "text/plain": [
       "button(('Click Me',),{'type': 'button', 'class': 'uk-button uk-button-default'})"
      ]
     },
     "execution_count": null,
     "metadata": {},
     "output_type": "execute_result"
    }
   ],
   "source": [
    "Button(\"Click Me\")"
   ]
  },
  {
   "cell_type": "code",
   "execution_count": null,
   "metadata": {},
   "outputs": [
    {
     "data": {
      "text/html": [
       "<div>\n",
       "<button type=\"button\" class=\"uk-button uk-button-default\">Default Class</button><button type=\"button\" class=\"uk-button uk-button-primary\">Primary Class</button><button type=\"button\" class=\"uk-button uk-button-secondary\">Secondary Class</button><button type=\"button\" class=\"uk-button uk-button-danger\">Danger Class</button><button type=\"button\" class=\"uk-button uk-button-ghost\">Ghost Class</button><button type=\"button\" class=\"uk-button uk-button-link\">Link Class</button><button type=\"button\" class=\"uk-button uk-button-text\">Text Class</button></div>\n"
      ],
      "text/plain": [
       "<IPython.core.display.HTML object>"
      ]
     },
     "execution_count": null,
     "metadata": {},
     "output_type": "execute_result"
    }
   ],
   "source": [
    "show(Div(Button(\"Default Class\"),\n",
    "        Button(\"Primary Class\", cls=ButtonT.primary),\n",
    "        Button(\"Secondary Class\", cls=ButtonT.secondary),\n",
    "        Button(\"Danger Class\", cls=ButtonT.danger),\n",
    "        Button(\"Ghost Class\", cls=ButtonT.ghost),\n",
    "        Button(\"Link Class\", cls=ButtonT.link),\n",
    "        Button(\"Text Class\", cls=ButtonT.text),))"
   ]
  },
  {
   "cell_type": "markdown",
   "metadata": {},
   "source": [
    "## Headings"
   ]
  },
  {
   "cell_type": "code",
   "execution_count": null,
   "metadata": {},
   "outputs": [],
   "source": [
    "#| export\n",
    "def H1(*c:FT|str,       # Components to go inside the Heading\n",
    "       cls:Enum|str|tuple=(),   # cls for the Heading\n",
    "       **kwargs  # any other kwargs will be passed to the Heading\n",
    "      )->FT: # Heading with `class=uk-h1` cls\n",
    "    \"A H1 with Uk Styling\"\n",
    "    return fh.H1(*c, cls=('uk-h1',stringify(cls)), **kwargs)"
   ]
  },
  {
   "cell_type": "code",
   "execution_count": null,
   "metadata": {},
   "outputs": [],
   "source": [
    "#| export\n",
    "def H2(*c:FT|str,       # Components to go inside the Heading\n",
    "       cls:Enum|str|tuple=(),   # cls for the Heading\n",
    "       **kwargs  # any other kwargs will be passed to the Heading\n",
    "      )->FT: # Heading with `class=uk-h2` cls\n",
    "    \"A H2 with Uk Styling\"\n",
    "    return fh.H2(*c, cls=('uk-h2',stringify(cls)), **kwargs)"
   ]
  },
  {
   "cell_type": "code",
   "execution_count": null,
   "metadata": {},
   "outputs": [],
   "source": [
    "#| export\n",
    "def H3(*c:FT|str,       # Components to go inside the Heading\n",
    "       cls:Enum|str|tuple=(),   # cls for the Heading\n",
    "       **kwargs  # any other kwargs will be passed to the Heading\n",
    "      )->FT: # Heading with `class=uk-h3` cls\n",
    "    \"A H3 with Uk Styling\"\n",
    "    return fh.H3(*c, cls=('uk-h3',stringify(cls)), **kwargs)\n",
    "\n"
   ]
  },
  {
   "cell_type": "code",
   "execution_count": null,
   "metadata": {},
   "outputs": [],
   "source": [
    "#| export\n",
    "def H4(*c:FT|str,       # Components to go inside the Heading\n",
    "       cls:Enum|str|tuple=(),   # cls for the Heading\n",
    "       **kwargs  # any other kwargs will be passed to the Heading\n",
    "      )->FT: # Heading with `class=uk-h4` cls\n",
    "    \"A H4 with Uk Styling\"\n",
    "    return fh.H4(*c, cls=('uk-h4',stringify(cls)), **kwargs)\n"
   ]
  },
  {
   "cell_type": "code",
   "execution_count": null,
   "metadata": {},
   "outputs": [
    {
     "data": {
      "text/html": [
       "<div>\n",
       "  <h1 class=\"uk-h1 \">Heading 1 (H1)</h1>\n",
       "  <h2 class=\"uk-h2 \">Heading 2 (H2)</h2>\n",
       "  <h3 class=\"uk-h3 \">Heading 3 (H3)</h3>\n",
       "  <h4 class=\"uk-h4 \">Heading 4 (H4)</h4>\n",
       "</div>\n"
      ],
      "text/plain": [
       "<IPython.core.display.HTML object>"
      ]
     },
     "execution_count": null,
     "metadata": {},
     "output_type": "execute_result"
    }
   ],
   "source": [
    "show(Div(\n",
    "    H1(\"Heading 1 (H1)\"),\n",
    "    H2(\"Heading 2 (H2)\"),\n",
    "    H3(\"Heading 3 (H3)\"),\n",
    "    H4(\"Heading 4 (H4)\")))"
   ]
  },
  {
   "cell_type": "markdown",
   "metadata": {},
   "source": [
    "## Dividers"
   ]
  },
  {
   "cell_type": "code",
   "execution_count": null,
   "metadata": {},
   "outputs": [],
   "source": [
    "#| export\n",
    "def UkHSplit(*c, cls=(), line_cls=(), text_cls=()):\n",
    "    # Divider FrankenUI stuff\n",
    "    cls, line_cls, text_cls = map(stringify,(cls, line_cls, text_cls))\n",
    "    return Div(cls='relative ' + cls)(\n",
    "        Div(cls=\"absolute inset-0 flex items-center \" + line_cls)(Span(cls=\"w-full border-t border-border\")),\n",
    "        Div(cls=\"relative flex justify-center \" + text_cls)(Span(cls=\"bg-background px-2 \")(*c)))"
   ]
  },
  {
   "cell_type": "code",
   "execution_count": null,
   "metadata": {},
   "outputs": [
    {
     "data": {
      "text/markdown": [
       "```html\n",
       "<div class=\"relative \">\n",
       "  <div class=\"absolute inset-0 flex items-center \">\n",
       "<span class=\"w-full border-t border-border\"></span>  </div>\n",
       "  <div class=\"relative flex justify-center \">\n",
       "<span class=\"bg-background px-2 \"></span>  </div>\n",
       "</div>\n",
       "\n",
       "```"
      ],
      "text/plain": [
       "div((div((span((),{'class': 'w-full border-t border-border'}),),{'class': 'absolute inset-0 flex items-center '}), div((span((),{'class': 'bg-background px-2 '}),),{'class': 'relative flex justify-center '})),{'class': 'relative '})"
      ]
     },
     "execution_count": null,
     "metadata": {},
     "output_type": "execute_result"
    }
   ],
   "source": [
    "UkHSplit()"
   ]
  },
  {
   "cell_type": "code",
   "execution_count": null,
   "metadata": {},
   "outputs": [],
   "source": [
    "#| export\n",
    "def UkHLine(lwidth=2, y_space=4): return Div(cls=f\"my-{y_space} h-[{lwidth}px] w-full bg-secondary\")"
   ]
  },
  {
   "cell_type": "code",
   "execution_count": null,
   "metadata": {},
   "outputs": [
    {
     "data": {
      "text/markdown": [
       "```html\n",
       "<div class=\"my-4 h-[2px] w-full bg-secondary\"></div>\n",
       "\n",
       "```"
      ],
      "text/plain": [
       "div((),{'class': 'my-4 h-[2px] w-full bg-secondary'})"
      ]
     },
     "execution_count": null,
     "metadata": {},
     "output_type": "execute_result"
    }
   ],
   "source": [
    "UkHLine()"
   ]
  },
  {
   "cell_type": "code",
   "execution_count": null,
   "metadata": {},
   "outputs": [],
   "source": [
    "#| export\n",
    "def UkNavDivider(): return fh.Li(cls=\"uk-nav-divider\")"
   ]
  },
  {
   "cell_type": "code",
   "execution_count": null,
   "metadata": {},
   "outputs": [
    {
     "data": {
      "text/markdown": [
       "```html\n",
       "<li class=\"uk-nav-divider\"></li>\n",
       "\n",
       "```"
      ],
      "text/plain": [
       "li((),{'class': 'uk-nav-divider'})"
      ]
     },
     "execution_count": null,
     "metadata": {},
     "output_type": "execute_result"
    }
   ],
   "source": [
    "UkNavDivider()"
   ]
  },
  {
   "cell_type": "markdown",
   "metadata": {},
   "source": [
    "## Articles & Containers & Sections"
   ]
  },
  {
   "cell_type": "code",
   "execution_count": null,
   "metadata": {},
   "outputs": [],
   "source": [
    "#| export\n",
    "def Article(*c, cls=(), **kwargs):\n",
    "    return fh.Article(*c, cls=('uk-article',stringify(cls)), **kwargs)\n",
    "\n",
    "def ArticleTitle(*c, cls=(), **kwargs):\n",
    "    return H1(*c, cls=('uk-article-title',stringify(cls)), **kwargs)\n",
    "\n",
    "def ArticleMeta(*c, cls=(), **kwargs):\n",
    "    return P(*c, cls=('uk-article-meta',stringify(cls)), **kwargs)"
   ]
  },
  {
   "cell_type": "code",
   "execution_count": null,
   "metadata": {},
   "outputs": [
    {
     "data": {
      "text/html": [
       "<article class=\"uk-article \">\n",
       "  <h1 class=\"uk-h1 uk-article-title \">Article Title</h1>\n",
       "  <p class=\"uk-article-meta \">By: John Doe</p>\n",
       "</article>\n"
      ],
      "text/plain": [
       "<IPython.core.display.HTML object>"
      ]
     },
     "execution_count": null,
     "metadata": {},
     "output_type": "execute_result"
    }
   ],
   "source": [
    "show(Article(ArticleTitle(\"Article Title\"), ArticleMeta(\"By: John Doe\")))"
   ]
  },
  {
   "cell_type": "code",
   "execution_count": null,
   "metadata": {},
   "outputs": [],
   "source": [
    "#| export\n",
    "class ContainerT(VEnum):\n",
    "    'Max width container sizes from https://franken-ui.dev/docs/container'\n",
    "    def _generate_next_value_(name, start, count, last_values): return str2ukcls('container', name)\n",
    "    xsmall = auto()\n",
    "    small = auto()\n",
    "    large = auto()\n",
    "    xlarge = auto()\n",
    "    expand = auto()"
   ]
  },
  {
   "cell_type": "code",
   "execution_count": null,
   "metadata": {},
   "outputs": [],
   "source": [
    "#| export\n",
    "def Container(*c, cls=(), **kwargs): \n",
    "    return Div(*c, cls=('uk-container',stringify(cls)), **kwargs)"
   ]
  },
  {
   "cell_type": "code",
   "execution_count": null,
   "metadata": {},
   "outputs": [
    {
     "data": {
      "text/markdown": [
       "```html\n",
       "<div class=\"uk-container uk-container-xsmall\"></div>\n",
       "\n",
       "```"
      ],
      "text/plain": [
       "div((),{'class': 'uk-container uk-container-xsmall'})"
      ]
     },
     "execution_count": null,
     "metadata": {},
     "output_type": "execute_result"
    }
   ],
   "source": [
    "Container(cls=ContainerT.xsmall)"
   ]
  },
  {
   "cell_type": "code",
   "execution_count": null,
   "metadata": {},
   "outputs": [],
   "source": [
    "# Add background colors to the containers\n",
    "# show(Div(Container(cls=(ContainerT.xsmall, \"bg-blue-200\"))(\"XSmall container\"),\n",
    "#          Container(cls=(ContainerT.small, \"bg-red-200\"))(\"Small container\"),\n",
    "#          Container(cls=(ContainerT.large, \"bg-yellow-200\"))(\"Large container\")))"
   ]
  },
  {
   "cell_type": "code",
   "execution_count": null,
   "metadata": {},
   "outputs": [],
   "source": [
    "#| export\n",
    "class SectionT(VEnum):\n",
    "    'Section styles from UIkit'\n",
    "    def _generate_next_value_(name, start, count, last_values): return str2ukcls('section', name)\n",
    "    default = auto()\n",
    "    muted = auto()\n",
    "    primary = auto()\n",
    "    secondary = auto()\n",
    "    xsmall = auto()\n",
    "    small = auto()\n",
    "    large = auto()\n",
    "    xlarge = auto()\n",
    "    remove_vertical = auto()"
   ]
  },
  {
   "cell_type": "code",
   "execution_count": null,
   "metadata": {},
   "outputs": [
    {
     "name": "stdout",
     "output_type": "stream",
     "text": [
      "| Option          | Value                      |\n",
      "|-----------------|----------------------------|\n",
      "| default         | uk-section-default         |\n",
      "| muted           | uk-section-muted           |\n",
      "| primary         | uk-section-primary         |\n",
      "| secondary       | uk-section-secondary       |\n",
      "| xsmall          | uk-section-xsmall          |\n",
      "| small           | uk-section-small           |\n",
      "| large           | uk-section-large           |\n",
      "| xlarge          | uk-section-xlarge          |\n",
      "| remove_vertical | uk-section-remove-vertical |\n"
     ]
    }
   ],
   "source": [
    "print(enum_to_markdown_table(SectionT))"
   ]
  },
  {
   "cell_type": "code",
   "execution_count": null,
   "metadata": {},
   "outputs": [],
   "source": [
    "#| export\n",
    "def Section(*c, cls=(), **kwargs):\n",
    "    return fh.Div(*c, cls=('uk-section',stringify(cls)), **kwargs)"
   ]
  },
  {
   "cell_type": "markdown",
   "metadata": {},
   "source": [
    "## Forms & Inputs"
   ]
  },
  {
   "cell_type": "code",
   "execution_count": null,
   "metadata": {},
   "outputs": [],
   "source": [
    "#|export\n",
    "def Fieldset(*c, cls=(), **kwargs): \n",
    "    return fh.Fieldset(*c, cls=('uk-fieldset',stringify(cls)), **kwargs)\n",
    "\n",
    "def Legend(*c, cls=(), **kwargs): \n",
    "    return fh.Legend(*c, cls=('uk-legend',stringify(cls)), **kwargs)"
   ]
  },
  {
   "cell_type": "code",
   "execution_count": null,
   "metadata": {},
   "outputs": [],
   "source": [
    "#| export\n",
    "def Input(*c, cls=(), **kwargs):               return fh.Input(*c, cls=('uk-input',stringify(cls)), **kwargs)\n",
    "def Select(*c, cls=(), **kwargs):              return fh.Select(*c, cls=('uk-select',stringify(cls)), **kwargs)\n",
    "def Radio(*c, cls=(), **kwargs):               return fh.Input(*c, cls=('uk-radio',stringify(cls)), type='radio', **kwargs)\n",
    "def CheckboxX(*c, cls=(), **kwargs):           return fh.Input(*c, cls=('uk-checkbox',stringify(cls)), type='checkbox', **kwargs)\n",
    "def Range(*c, cls=(), **kwargs):               return fh.Input(*c, cls=('uk-range',stringify(cls)), type='range', **kwargs)\n",
    "def Toggle_switch(*c, cls=(), **kwargs):       return fh.Input(*c, cls=('uk-toggle-switch',stringify(cls)), type='checkbox', **kwargs)\n",
    "def TextArea(*c, cls=(), **kwargs):            return fh.Textarea(*c, cls=('uk-textarea',stringify(cls)), **kwargs)\n",
    "def Button(*c, cls=ButtonT.default,  **kwargs):return fh.Button(*c, cls=('uk-button',stringify(cls)), type='button', **kwargs)\n",
    "def Switch(*c, cls=(), **kwargs):              return fh.Input(*c, cls=('uk-toggle-switch',stringify(cls)), type='checkbox', **kwargs)"
   ]
  },
  {
   "cell_type": "code",
   "execution_count": null,
   "metadata": {},
   "outputs": [
    {
     "data": {
      "text/html": [
       "<div class=\"space-y-4\">\n",
       "  <p>\n",
       "Input:     <input class=\"uk-input \">\n",
       "  </p>\n",
       "  <p>\n",
       "Select: <select class=\"uk-select \"><option>Option 1</option><option>Option 2</option></select>  </p>\n",
       "  <p>\n",
       "Radio:     <input type=\"radio\" class=\"uk-radio \">\n",
       "  </p>\n",
       "  <p>\n",
       "Checkbox:     <input type=\"checkbox\" class=\"uk-checkbox \">\n",
       "  </p>\n",
       "  <p>\n",
       "Range:     <input type=\"range\" class=\"uk-range \">\n",
       "  </p>\n",
       "  <p>\n",
       "Toggle switch:     <input type=\"checkbox\" class=\"uk-toggle-switch \">\n",
       "  </p>\n",
       "  <p>\n",
       "TextArea: <textarea class=\"uk-textarea \"></textarea>  </p>\n",
       "  <p>\n",
       "Button: <button type=\"button\" class=\"uk-button uk-button-default\">Click me</button>  </p>\n",
       "  <p>\n",
       "Switch:     <input type=\"checkbox\" class=\"uk-toggle-switch \">\n",
       "  </p>\n",
       "</div>\n"
      ],
      "text/plain": [
       "<IPython.core.display.HTML object>"
      ]
     },
     "execution_count": null,
     "metadata": {},
     "output_type": "execute_result"
    }
   ],
   "source": [
    "show(Div(\n",
    "    P(\"Input: \", Input()),\n",
    "    P(\"Select: \", Select(fh.Option(\"Option 1\"), fh.Option(\"Option 2\"))),\n",
    "    P(\"Radio: \", Radio()),\n",
    "    P(\"Checkbox: \", CheckboxX()),\n",
    "    P(\"Range: \", Range()),\n",
    "    P(\"Toggle switch: \", Toggle_switch()),\n",
    "    P(\"TextArea: \", TextArea()),\n",
    "    P(\"Button: \", Button(\"Click me\")),\n",
    "    P(\"Switch: \", Switch()),\n",
    "    cls=\"space-y-4\"\n",
    "))"
   ]
  },
  {
   "cell_type": "code",
   "execution_count": null,
   "metadata": {},
   "outputs": [],
   "source": [
    "#| export\n",
    "class LabelT(VEnum):\n",
    "    def _generate_next_value_(name, start, count, last_values): return str2ukcls('label', name)\n",
    "    primary = auto()\n",
    "    secondary = auto()\n",
    "    danger = auto()"
   ]
  },
  {
   "cell_type": "code",
   "execution_count": null,
   "metadata": {},
   "outputs": [],
   "source": [
    "#| export\n",
    "def Label(*c, cls=(), **kwargs):\n",
    "    return fh.Label(*c, cls=('uk-label',stringify(cls)), **kwargs)"
   ]
  },
  {
   "cell_type": "code",
   "execution_count": null,
   "metadata": {},
   "outputs": [
    {
     "data": {
      "text/html": [
       "<label class=\"uk-label \">My Label</label>"
      ],
      "text/plain": [
       "<IPython.core.display.HTML object>"
      ]
     },
     "execution_count": null,
     "metadata": {},
     "output_type": "execute_result"
    }
   ],
   "source": [
    "show(Label(\"My Label\"))"
   ]
  },
  {
   "cell_type": "code",
   "execution_count": null,
   "metadata": {},
   "outputs": [],
   "source": [
    "#|export\n",
    "def FormLabel(*c, cls=(), **kwargs):\n",
    "    return fh.Label(*c, cls=('uk-form-label',stringify(cls)), **kwargs)"
   ]
  },
  {
   "cell_type": "code",
   "execution_count": null,
   "metadata": {},
   "outputs": [
    {
     "data": {
      "text/html": [
       "<label class=\"uk-form-label \">My Form Label</label>"
      ],
      "text/plain": [
       "<IPython.core.display.HTML object>"
      ]
     },
     "execution_count": null,
     "metadata": {},
     "output_type": "execute_result"
    }
   ],
   "source": [
    "show(FormLabel('My Form Label'))"
   ]
  },
  {
   "cell_type": "code",
   "execution_count": null,
   "metadata": {},
   "outputs": [],
   "source": [
    "#| export\n",
    "def UkFormSection(title, description, *c, button_txt='Update', outer_margin=6, inner_margin=6):\n",
    "    return Div(cls=f'space-y-{inner_margin} py-{outer_margin}')(\n",
    "        Div(H3(title), P(description, cls=TextFont.muted_sm)),\n",
    "        UkHSplit(), *c,\n",
    "        Div(Button(button_txt, cls=ButtonT.primary)) if button_txt else None)"
   ]
  },
  {
   "cell_type": "code",
   "execution_count": null,
   "metadata": {},
   "outputs": [
    {
     "data": {
      "text/markdown": [
       "```html\n",
       "<div class=\"space-y-6 py-6\">\n",
       "  <div>\n",
       "    <h3 class=\"uk-h3 \">a</h3>\n",
       "    <p class=\"uk-text-muted uk-text-small\">b</p>\n",
       "  </div>\n",
       "  <div class=\"relative \">\n",
       "    <div class=\"absolute inset-0 flex items-center \">\n",
       "<span class=\"w-full border-t border-border\"></span>    </div>\n",
       "    <div class=\"relative flex justify-center \">\n",
       "<span class=\"bg-background px-2 \"></span>    </div>\n",
       "  </div>\n",
       "c  <div>\n",
       "<button type=\"button\" class=\"uk-button uk-button-primary\">Update</button>  </div>\n",
       "</div>\n",
       "\n",
       "```"
      ],
      "text/plain": [
       "div((div((h3(('a',),{'class': 'uk-h3 '}), p(('b',),{'class': <TextFont.muted_sm: 'uk-text-muted uk-text-small'>})),{}), div((div((span((),{'class': 'w-full border-t border-border'}),),{'class': 'absolute inset-0 flex items-center '}), div((span((),{'class': 'bg-background px-2 '}),),{'class': 'relative flex justify-center '})),{'class': 'relative '}), 'c', div((button(('Update',),{'type': 'button', 'class': 'uk-button uk-button-primary'}),),{})),{'class': 'space-y-6 py-6'})"
      ]
     },
     "execution_count": null,
     "metadata": {},
     "output_type": "execute_result"
    }
   ],
   "source": [
    "UkFormSection('a','b','c')"
   ]
  },
  {
   "cell_type": "markdown",
   "metadata": {},
   "source": [
    "## Links"
   ]
  },
  {
   "cell_type": "code",
   "execution_count": null,
   "metadata": {},
   "outputs": [],
   "source": [
    "#| export\n",
    "class LinkT(VEnum):\n",
    "    'Link styles from https://franken-ui.dev/docs/link'\n",
    "    def _generate_next_value_(name, start, count, last_values): return str2ukcls('link', name)\n",
    "    muted = auto()\n",
    "    text = auto()\n",
    "    reset = auto()"
   ]
  },
  {
   "cell_type": "code",
   "execution_count": null,
   "metadata": {},
   "outputs": [],
   "source": [
    "#| export\n",
    "def Link(*c, cls=(), **kwargs):  \n",
    "    return fh.A(*c, cls=('uk-link',stringify(cls)), **kwargs)"
   ]
  },
  {
   "cell_type": "code",
   "execution_count": null,
   "metadata": {},
   "outputs": [
    {
     "data": {
      "text/html": [
       "<div class=\"space-x-4\">\n",
       "<a href=\"#\" class=\"uk-link \">Default Link</a><a href=\"#\" class=\"uk-link uk-link-muted\">Muted Link</a><a href=\"#\" class=\"uk-link uk-link-text\">Text Link</a><a href=\"#\" class=\"uk-link uk-link-reset\">Reset Link</a></div>\n"
      ],
      "text/plain": [
       "<IPython.core.display.HTML object>"
      ]
     },
     "execution_count": null,
     "metadata": {},
     "output_type": "execute_result"
    }
   ],
   "source": [
    "show(Div(cls='space-x-4')(Link('Default Link'),\n",
    "                     Link('Muted Link', cls=LinkT.muted),\n",
    "                     Link('Text Link', cls=LinkT.text),\n",
    "                     Link('Reset Link', cls=LinkT.reset)))"
   ]
  },
  {
   "cell_type": "markdown",
   "metadata": {},
   "source": [
    "## Lists"
   ]
  },
  {
   "cell_type": "code",
   "execution_count": null,
   "metadata": {},
   "outputs": [],
   "source": [
    "#| export\n",
    "class ListT(VEnum):\n",
    "    'List styles from https://franken-ui.dev/docs/list'\n",
    "    def _generate_next_value_(name, start, count, last_values): return str2ukcls('list', name)\n",
    "    disc = auto()\n",
    "    circle = auto()\n",
    "    square = auto()\n",
    "    decimal = auto()\n",
    "    hyphen = auto()\n",
    "    muted = auto()\n",
    "    primary = auto()\n",
    "    secondary = auto()\n",
    "    bullet = auto()\n",
    "    divider = auto()\n",
    "    striped = auto()"
   ]
  },
  {
   "cell_type": "code",
   "execution_count": null,
   "metadata": {},
   "outputs": [],
   "source": [
    "#| export\n",
    "def List(*c, cls=(), **kwargs): return fh.Ul(*c, cls=('uk-list',stringify(cls)), **kwargs)"
   ]
  },
  {
   "cell_type": "code",
   "execution_count": null,
   "metadata": {},
   "outputs": [
    {
     "data": {
      "text/html": [
       "<div class=\"grid grid-cols-4\">\n",
       "  <div>\n",
       "    <h4 class=\"uk-h4 \">disc List:</h4>\n",
       "    <ul class=\"uk-list uk-list-disc\">\n",
       "      <li>Item 1</li>\n",
       "      <li>Item 2</li>\n",
       "    </ul>\n",
       "  </div>\n",
       "  <div>\n",
       "    <h4 class=\"uk-h4 \">circle List:</h4>\n",
       "    <ul class=\"uk-list uk-list-circle\">\n",
       "      <li>Item 1</li>\n",
       "      <li>Item 2</li>\n",
       "    </ul>\n",
       "  </div>\n",
       "  <div>\n",
       "    <h4 class=\"uk-h4 \">square List:</h4>\n",
       "    <ul class=\"uk-list uk-list-square\">\n",
       "      <li>Item 1</li>\n",
       "      <li>Item 2</li>\n",
       "    </ul>\n",
       "  </div>\n",
       "  <div>\n",
       "    <h4 class=\"uk-h4 \">decimal List:</h4>\n",
       "    <ul class=\"uk-list uk-list-decimal\">\n",
       "      <li>Item 1</li>\n",
       "      <li>Item 2</li>\n",
       "    </ul>\n",
       "  </div>\n",
       "  <div>\n",
       "    <h4 class=\"uk-h4 \">hyphen List:</h4>\n",
       "    <ul class=\"uk-list uk-list-hyphen\">\n",
       "      <li>Item 1</li>\n",
       "      <li>Item 2</li>\n",
       "    </ul>\n",
       "  </div>\n",
       "  <div>\n",
       "    <h4 class=\"uk-h4 \">muted List:</h4>\n",
       "    <ul class=\"uk-list uk-list-muted\">\n",
       "      <li>Item 1</li>\n",
       "      <li>Item 2</li>\n",
       "    </ul>\n",
       "  </div>\n",
       "  <div>\n",
       "    <h4 class=\"uk-h4 \">primary List:</h4>\n",
       "    <ul class=\"uk-list uk-list-primary\">\n",
       "      <li>Item 1</li>\n",
       "      <li>Item 2</li>\n",
       "    </ul>\n",
       "  </div>\n",
       "  <div>\n",
       "    <h4 class=\"uk-h4 \">secondary List:</h4>\n",
       "    <ul class=\"uk-list uk-list-secondary\">\n",
       "      <li>Item 1</li>\n",
       "      <li>Item 2</li>\n",
       "    </ul>\n",
       "  </div>\n",
       "  <div>\n",
       "    <h4 class=\"uk-h4 \">bullet List:</h4>\n",
       "    <ul class=\"uk-list uk-list-bullet\">\n",
       "      <li>Item 1</li>\n",
       "      <li>Item 2</li>\n",
       "    </ul>\n",
       "  </div>\n",
       "  <div>\n",
       "    <h4 class=\"uk-h4 \">divider List:</h4>\n",
       "    <ul class=\"uk-list uk-list-divider\">\n",
       "      <li>Item 1</li>\n",
       "      <li>Item 2</li>\n",
       "    </ul>\n",
       "  </div>\n",
       "  <div>\n",
       "    <h4 class=\"uk-h4 \">striped List:</h4>\n",
       "    <ul class=\"uk-list uk-list-striped\">\n",
       "      <li>Item 1</li>\n",
       "      <li>Item 2</li>\n",
       "    </ul>\n",
       "  </div>\n",
       "</div>\n"
      ],
      "text/plain": [
       "<IPython.core.display.HTML object>"
      ]
     },
     "execution_count": null,
     "metadata": {},
     "output_type": "execute_result"
    }
   ],
   "source": [
    "list_options = [(style,str(cls)) for style,cls in ListT.__members__.items()]\n",
    "def create_list(style, cls): return List(fh.Li(\"Item 1\"), fh.Li(\"Item 2\"), cls=cls)\n",
    "\n",
    "lists = [Div(H4(f\"{style} List:\"), create_list(style, cls)) for style, cls in list_options]\n",
    "show(Div(*lists, cls=\"grid grid-cols-4\"))"
   ]
  },
  {
   "cell_type": "markdown",
   "metadata": {},
   "source": [
    "## Modal"
   ]
  },
  {
   "cell_type": "code",
   "execution_count": null,
   "metadata": {},
   "outputs": [],
   "source": [
    "#| export\n",
    "def ModalContainer(*c, cls=(), **kwargs):   return fh.Div(*c, cls=('uk-modal-container',stringify(cls)), uk_modal=True, **kwargs)\n",
    "def ModalDialog(*c, cls=(), **kwargs):      return fh.Div(*c, cls=('uk-modal-dialog',   stringify(cls)),                **kwargs)\n",
    "def ModalHeader(*c, cls=(), **kwargs):      return fh.Div(*c, cls=('uk-modal-header',   stringify(cls)),                **kwargs)\n",
    "def ModalBody(*c, cls=(), **kwargs):        return fh.Div(*c, cls=('uk-modal-body',     stringify(cls)),                **kwargs)\n",
    "def ModalFooter(*c, cls=(), **kwargs):      return fh.Div(*c, cls=('uk-modal-footer',   stringify(cls)),                **kwargs)\n",
    "def ModalTitle(*c, cls=(), **kwargs):       return fh.H2(*c,  cls=('uk-modal-title',    stringify(cls)),                **kwargs)\n",
    "def ModalCloseButton(*c, cls=(), **kwargs): return Button(*c, cls=('uk-modal-close',    stringify(cls)),                **kwargs)"
   ]
  },
  {
   "cell_type": "code",
   "execution_count": null,
   "metadata": {},
   "outputs": [
    {
     "data": {
      "text/html": [
       "<button type=\"button\" class=\"uk-button uk-modal-close uk-button-primary\">Modal Close Button</button>"
      ],
      "text/plain": [
       "<IPython.core.display.HTML object>"
      ]
     },
     "execution_count": null,
     "metadata": {},
     "output_type": "execute_result"
    }
   ],
   "source": [
    "show(ModalCloseButton('Modal Close Button', cls=ButtonT.primary))"
   ]
  },
  {
   "cell_type": "code",
   "execution_count": null,
   "metadata": {},
   "outputs": [],
   "source": [
    "#| export\n",
    "def Modal(*c,\n",
    "        header=None,          # Components that go in the header\n",
    "        footer=None,          # Components that go in the footer\n",
    "        cls=(),               # class for outermost container\n",
    "        dialog_cls=(),        # classes for the dialog\n",
    "        header_cls='p-6',     # classes for the header\n",
    "        body_cls='space-y-6', # classes for the body\n",
    "        footer_cls=(),        # classes for the footer\n",
    "        id='',                # id for the outermost container\n",
    "        **kwargs              # classes for the outermost container\n",
    "        ): # Modal\n",
    "    \"Create a Modal using the appropriate Modal* classes to put the boilerplate in the appropriate places for you\"\n",
    "    cls, dialog_cls, header_cls, body_cls, footer_cls = map(stringify, (cls, dialog_cls, header_cls, body_cls, footer_cls))\n",
    "    res = []\n",
    "    if header: res.append(ModalHeader(cls=header_cls)(header))\n",
    "    res.append(ModalBody(cls=body_cls)(*c))\n",
    "    if footer: res.append(ModalFooter(cls=footer_cls)(footer))\n",
    "    return ModalContainer(ModalDialog(*res, cls=dialog_cls), cls=cls, id=id, **kwargs)"
   ]
  },
  {
   "cell_type": "markdown",
   "metadata": {},
   "source": [
    "## Navs"
   ]
  },
  {
   "cell_type": "markdown",
   "metadata": {},
   "source": [
    "## Padding | Positioning"
   ]
  },
  {
   "cell_type": "code",
   "execution_count": null,
   "metadata": {},
   "outputs": [],
   "source": [
    "#| export\n",
    "class PaddingT(VEnum):\n",
    "    'Padding Modifiers from https://franken-ui.dev/docs/padding'\n",
    "    def _generate_next_value_(name, start, count, last_values): return str2ukcls('padding', name)\n",
    "    xsmall = auto()\n",
    "    small = auto()\n",
    "    default = ''\n",
    "    medium = auto()\n",
    "    large = auto()\n",
    "    xlarge = auto()\n",
    "    remove = auto()\n",
    "    remove_top = auto()\n",
    "    remove_bottom = auto()\n",
    "    remove_left = auto()\n",
    "    remove_right = auto()\n",
    "    remove_vertical = auto()\n",
    "    remove_horizontal = auto()"
   ]
  },
  {
   "cell_type": "code",
   "execution_count": null,
   "metadata": {},
   "outputs": [
    {
     "name": "stdout",
     "output_type": "stream",
     "text": [
      "| Option            | Value                        |\n",
      "|-------------------|------------------------------|\n",
      "| xsmall            | uk-padding-xsmall            |\n",
      "| small             | uk-padding-small             |\n",
      "| default           |                              |\n",
      "| medium            | uk-padding-medium            |\n",
      "| large             | uk-padding-large             |\n",
      "| xlarge            | uk-padding-xlarge            |\n",
      "| remove            | uk-padding-remove            |\n",
      "| remove_top        | uk-padding-remove-top        |\n",
      "| remove_bottom     | uk-padding-remove-bottom     |\n",
      "| remove_left       | uk-padding-remove-left       |\n",
      "| remove_right      | uk-padding-remove-right      |\n",
      "| remove_vertical   | uk-padding-remove-vertical   |\n",
      "| remove_horizontal | uk-padding-remove-horizontal |\n"
     ]
    }
   ],
   "source": [
    "print(enum_to_markdown_table(PaddingT))"
   ]
  },
  {
   "cell_type": "code",
   "execution_count": null,
   "metadata": {},
   "outputs": [],
   "source": [
    "#| export\n",
    "class PositionT(VEnum):\n",
    "    'Position modifiers from https://franken-ui.dev/docs/position'\n",
    "    def _generate_next_value_(name, start, count, last_values): return str2ukcls('position', name)\n",
    "    top = auto()\n",
    "    bottom = auto()\n",
    "    left = auto()\n",
    "    right = auto()\n",
    "    top_left = auto()\n",
    "    top_center = auto()\n",
    "    top_right = auto()\n",
    "    center = auto()\n",
    "    center_left = auto()\n",
    "    center_right = auto()\n",
    "    bottom_left = auto()\n",
    "    bottom_center = auto()\n",
    "    bottom_right = auto()\n",
    "    center_horizontal = auto()\n",
    "    center_vertical = auto()"
   ]
  },
  {
   "cell_type": "code",
   "execution_count": null,
   "metadata": {},
   "outputs": [
    {
     "name": "stdout",
     "output_type": "stream",
     "text": [
      "| Option            | Value                         |\n",
      "|-------------------|-------------------------------|\n",
      "| top               | uk-position-top               |\n",
      "| bottom            | uk-position-bottom            |\n",
      "| left              | uk-position-left              |\n",
      "| right             | uk-position-right             |\n",
      "| top_left          | uk-position-top-left          |\n",
      "| top_center        | uk-position-top-center        |\n",
      "| top_right         | uk-position-top-right         |\n",
      "| center            | uk-position-center            |\n",
      "| center_left       | uk-position-center-left       |\n",
      "| center_right      | uk-position-center-right      |\n",
      "| bottom_left       | uk-position-bottom-left       |\n",
      "| bottom_center     | uk-position-bottom-center     |\n",
      "| bottom_right      | uk-position-bottom-right      |\n",
      "| center_horizontal | uk-position-center-horizontal |\n",
      "| center_vertical   | uk-position-center-vertical   |\n"
     ]
    }
   ],
   "source": [
    "print(enum_to_markdown_table(PositionT))"
   ]
  },
  {
   "cell_type": "markdown",
   "metadata": {},
   "source": [
    "## Other"
   ]
  },
  {
   "cell_type": "code",
   "execution_count": null,
   "metadata": {},
   "outputs": [],
   "source": [
    "#| export\n",
    "def Placeholder(*c, cls=(), **kwargs):\n",
    "    return fh.Div(*c, cls=('uk-placeholder',stringify(cls)), **kwargs)"
   ]
  },
  {
   "cell_type": "code",
   "execution_count": null,
   "metadata": {},
   "outputs": [],
   "source": [
    "#| export\n",
    "def Progress(*c, cls=(), value=\"\", max=\"\", **kwargs):\n",
    "    return fh.Progress(*c, value=value, max=max, cls=('uk-progress',stringify(cls)), **kwargs)"
   ]
  },
  {
   "cell_type": "code",
   "execution_count": null,
   "metadata": {},
   "outputs": [],
   "source": [
    "#| export\n",
    "def Sticky(*c, cls=(), **kwargs):\n",
    "    return fh.Div(*c, cls=stringify(cls), uk_sticky=True, **kwargs)"
   ]
  },
  {
   "cell_type": "markdown",
   "metadata": {},
   "source": [
    "## Icons and Avatars"
   ]
  },
  {
   "cell_type": "code",
   "execution_count": null,
   "metadata": {},
   "outputs": [],
   "source": [
    "#| export\n",
    "def UkIcon(icon,    # Icon name from https://getuikit.com/docs/icon\n",
    "           ratio=1, # Icon ratio/size \n",
    "           cls=()   # Span classes\n",
    "          ):        # Span with Icon\n",
    "    \"Creates a Span with the given icon\"\n",
    "    return Span(uk_icon=f\"icon: {icon}; ratio: {ratio}\",cls=stringify(cls))"
   ]
  },
  {
   "cell_type": "code",
   "execution_count": null,
   "metadata": {},
   "outputs": [
    {
     "data": {
      "text/markdown": [
       "```html\n",
       "<span uk-icon=\"icon: heart; ratio: 0.5\"></span>\n",
       "```"
      ],
      "text/plain": [
       "span((),{'uk-icon': 'icon: heart; ratio: 0.5', 'class': ''})"
      ]
     },
     "execution_count": null,
     "metadata": {},
     "output_type": "execute_result"
    }
   ],
   "source": [
    "UkIcon('heart', 0.5)"
   ]
  },
  {
   "cell_type": "code",
   "execution_count": null,
   "metadata": {},
   "outputs": [],
   "source": [
    "#| export\n",
    "# def Img(*args, data_src=\"\", cls=(), **kwargs):\n",
    "#     return fh.Div, *args, data_src=data_src, uk_img=True, cls=stringify(cls), **kwargs)"
   ]
  },
  {
   "cell_type": "code",
   "execution_count": null,
   "metadata": {},
   "outputs": [],
   "source": [
    "#| export\n",
    "def DiceBearAvatar(seed_name, # Seed name (ie 'Isaac Flath')\n",
    "                   h,         # Height \n",
    "                   w          # Width\n",
    "                  ):          # Span with Avatar\n",
    "    url = 'https://api.dicebear.com/8.x/lorelei/svg?seed='\n",
    "    return Span(cls=f\"relative flex h-{h} w-{w} shrink-0 overflow-hidden rounded-full bg-accent\")(\n",
    "            fh.Img(cls=f\"aspect-square h-{h} w-{w}\", alt=\"Avatar\", src=f\"{url}{seed_name}\"))"
   ]
  },
  {
   "cell_type": "code",
   "execution_count": null,
   "metadata": {},
   "outputs": [
    {
     "data": {
      "text/html": [
       "<span class=\"relative flex h-14 w-14 shrink-0 overflow-hidden rounded-full bg-accent\"><img alt=\"Avatar\" src=\"https://api.dicebear.com/8.x/lorelei/svg?seed=Isaac Flath\" class=\"aspect-square h-14 w-14\"></span>"
      ],
      "text/plain": [
       "<IPython.core.display.HTML object>"
      ]
     },
     "execution_count": null,
     "metadata": {},
     "output_type": "execute_result"
    }
   ],
   "source": [
    "show(DiceBearAvatar('Isaac Flath', 14, 14))"
   ]
  },
  {
   "cell_type": "code",
   "execution_count": null,
   "metadata": {},
   "outputs": [],
   "source": [
    "#| export\n",
    "def UkIconButton(*c, sz='small', cls=(), **kwargs):\n",
    "    \"Creates an `IconButton` with uk styling\"\n",
    "    if sz not in ('small','medium','large'): raise ValueError(f\"Invalid size '{sz}'. Must be 'small', 'medium', or 'large'.\")\n",
    "    return Button(cls=f'uk-icon-button uk-icon-button-{sz} ' + stringify(cls), **kwargs)(*c)"
   ]
  },
  {
   "cell_type": "code",
   "execution_count": null,
   "metadata": {},
   "outputs": [
    {
     "data": {
      "text/markdown": [
       "```html\n",
       "<button type=\"button\" class=\"uk-button uk-icon-button uk-icon-button-small \"><span uk-icon=\"icon: home; ratio: 1\"></span></button>\n",
       "```"
      ],
      "text/plain": [
       "button((span((),{'uk-icon': 'icon: home; ratio: 1', 'class': ''}),),{'type': 'button', 'class': 'uk-button uk-icon-button uk-icon-button-small '})"
      ]
     },
     "execution_count": null,
     "metadata": {},
     "output_type": "execute_result"
    }
   ],
   "source": [
    "UkIconButton(UkIcon('home'))"
   ]
  },
  {
   "cell_type": "markdown",
   "metadata": {},
   "source": [
    "## Flexbox | Grid"
   ]
  },
  {
   "cell_type": "markdown",
   "metadata": {},
   "source": [
    "The most common pattern for spacing it to organize the general high level page layout with a `Grid`, and smaller components with `Flex`.\n",
    "\n",
    ":::{.callout-tip}\n",
    "Play [Flex Box Froggy](https://flexboxfroggy.com/) to get an understanding of flex box.\n",
    ":::"
   ]
  },
  {
   "cell_type": "code",
   "execution_count": null,
   "metadata": {},
   "outputs": [],
   "source": [
    "#| export\n",
    "class FlexT(VEnum):\n",
    "    'Flexbox modifiers from UIkit'\n",
    "    def _generate_next_value_(name, start, count, last_values): return str2ukcls('flex', name)\n",
    "    \n",
    "    # Display\n",
    "    block, inline = 'uk-flex', auto()\n",
    "    # Horizontal Alignment\n",
    "    left, center, right, between, around = auto(), auto(), auto(), auto(), auto()\n",
    "    # Vertical Alignment\n",
    "    stretch, top, middle, bottom = auto(), auto(), auto(), auto()\n",
    "    # Direction\n",
    "    row, row_reverse, column, column_reverse = auto(), auto(), auto(), auto()\n",
    "    # Wrap\n",
    "    nowrap, wrap, wrap_reverse = auto(), auto(), auto()"
   ]
  },
  {
   "cell_type": "code",
   "execution_count": null,
   "metadata": {},
   "outputs": [
    {
     "name": "stdout",
     "output_type": "stream",
     "text": [
      "| Option         | Value                  |\n",
      "|----------------|------------------------|\n",
      "| block          | uk-flex                |\n",
      "| inline         | uk-flex-inline         |\n",
      "| left           | uk-flex-left           |\n",
      "| center         | uk-flex-center         |\n",
      "| right          | uk-flex-right          |\n",
      "| between        | uk-flex-between        |\n",
      "| around         | uk-flex-around         |\n",
      "| stretch        | uk-flex-stretch        |\n",
      "| top            | uk-flex-top            |\n",
      "| middle         | uk-flex-middle         |\n",
      "| bottom         | uk-flex-bottom         |\n",
      "| row            | uk-flex-row            |\n",
      "| row_reverse    | uk-flex-row-reverse    |\n",
      "| column         | uk-flex-column         |\n",
      "| column_reverse | uk-flex-column-reverse |\n",
      "| nowrap         | uk-flex-nowrap         |\n",
      "| wrap           | uk-flex-wrap           |\n",
      "| wrap_reverse   | uk-flex-wrap-reverse   |\n"
     ]
    }
   ],
   "source": [
    "print(enum_to_markdown_table(FlexT))"
   ]
  },
  {
   "cell_type": "code",
   "execution_count": null,
   "metadata": {},
   "outputs": [
    {
     "data": {
      "text/markdown": [
       "```html\n",
       "<div class=\"uk-flex uk-flex-left uk-flex-middle some_cls\"></div>\n",
       "\n",
       "```"
      ],
      "text/plain": [
       "div((),{'class': 'uk-flex uk-flex-left uk-flex-middle some_cls'})"
      ]
     },
     "execution_count": null,
     "metadata": {},
     "output_type": "execute_result"
    }
   ],
   "source": [
    "Div(cls=(FlexT.block,FlexT.left,FlexT.middle,'some_cls'))"
   ]
  },
  {
   "cell_type": "code",
   "execution_count": null,
   "metadata": {},
   "outputs": [],
   "source": [
    "#| export\n",
    "class GridT(VEnum):\n",
    "    'Grid modifiers from UIkit'\n",
    "    def _generate_next_value_(name, start, count, last_values):\n",
    "        return str2ukcls('grid', name)\n",
    "    \n",
    "    small, medium, large, collapse = auto(), auto(), auto(), auto()"
   ]
  },
  {
   "cell_type": "code",
   "execution_count": null,
   "metadata": {},
   "outputs": [
    {
     "name": "stdout",
     "output_type": "stream",
     "text": [
      "| Option   | Value            |\n",
      "|----------|------------------|\n",
      "| small    | uk-grid-small    |\n",
      "| medium   | uk-grid-medium   |\n",
      "| large    | uk-grid-large    |\n",
      "| collapse | uk-grid-collapse |\n"
     ]
    }
   ],
   "source": [
    "print(enum_to_markdown_table(GridT))"
   ]
  },
  {
   "cell_type": "code",
   "execution_count": null,
   "metadata": {},
   "outputs": [],
   "source": [
    "#|export\n",
    "def Grid(*div,      # Divs/Containers that should be divided into a grid\n",
    "         cols=None,  # Number of columns (defaults to min(len(div),5))\n",
    "         cls=GridT.small,  # Additional classes for Grid Div\n",
    "         **kwargs # Additional args for Grid Div\n",
    "        ):\n",
    "    \"\"\"Creates a grid with the given number of columns, often used for a grid of cards\"\"\"\n",
    "    cols = cols if cols else min(len(div),5)\n",
    "    cls = stringify(cls)\n",
    "    return Div(cls=(f'grid grid-cols-{cols}',cls), **kwargs)(*div)"
   ]
  },
  {
   "cell_type": "code",
   "execution_count": null,
   "metadata": {},
   "outputs": [
    {
     "data": {
      "text/markdown": [
       "```html\n",
       "<div class=\"grid grid-cols-3 uk-grid-small\">\n",
       "  <div>0</div>\n",
       "  <div>1</div>\n",
       "  <div>2</div>\n",
       "  <div>3</div>\n",
       "  <div>4</div>\n",
       "  <div>5</div>\n",
       "</div>\n",
       "\n",
       "```"
      ],
      "text/plain": [
       "div((div((0,),{}), div((1,),{}), div((2,),{}), div((3,),{}), div((4,),{}), div((5,),{})),{'class': 'grid grid-cols-3 uk-grid-small'})"
      ]
     },
     "execution_count": null,
     "metadata": {},
     "output_type": "execute_result"
    }
   ],
   "source": [
    "Grid(*map(Div, range(6)),cols=3, cls=GridT.small)"
   ]
  },
  {
   "cell_type": "code",
   "execution_count": null,
   "metadata": {},
   "outputs": [],
   "source": [
    "#| export\n",
    "def ResponsiveGrid(*c, sm=1, md=2, lg=3, xl=4, gap=2, cls='', **kwargs):\n",
    "    \"Creates a responsive grid with the given number of columns for different screen sizes\"\n",
    "    return Div(cls=f'grid grid-cols-{sm} md:grid-cols-{md} lg:grid-cols-{lg} xl:grid-cols-{xl} gap-{gap} ' + stringify(cls), **kwargs)(*c)"
   ]
  },
  {
   "cell_type": "markdown",
   "metadata": {},
   "source": [
    "We can use the `FlexT` enum above to create `Div`s that arrange components in a flex box in different ways.  \n",
    "\n",
    "For example, `FullySpacedDiv` applies a very common pattern so we've made a function that helps to this for you.  But if you look at the code, it's really just using the enum to apply the right combonation of flex classes."
   ]
  },
  {
   "cell_type": "code",
   "execution_count": null,
   "metadata": {},
   "outputs": [],
   "source": [
    "#| exports\n",
    "def FullySpacedDiv(*c,                # Components\n",
    "                   cls='uk-width-1-1',# Classes for outer div\n",
    "                   **kwargs           # Additional args for outer div\n",
    "                  ):                  # Div with spaced components via flex classes\n",
    "    \"Creates a flex div with it's components having as much space between them as possible\"\n",
    "    cls = stringify(cls)\n",
    "    return Div(cls=(FlexT.block,FlexT.between,FlexT.middle,cls), **kwargs)(*c)"
   ]
  },
  {
   "cell_type": "code",
   "execution_count": null,
   "metadata": {},
   "outputs": [
    {
     "data": {
      "text/markdown": [
       "```html\n",
       "<div class=\"uk-flex uk-flex-between uk-flex-middle uk-width-1-1\">\n",
       "  <p>0</p>\n",
       "  <p>1</p>\n",
       "  <p>2</p>\n",
       "</div>\n",
       "\n",
       "```"
      ],
      "text/plain": [
       "div((p((0,),{}), p((1,),{}), p((2,),{})),{'class': 'uk-flex uk-flex-between uk-flex-middle uk-width-1-1'})"
      ]
     },
     "execution_count": null,
     "metadata": {},
     "output_type": "execute_result"
    }
   ],
   "source": [
    "FullySpacedDiv(*map(P, range(3)))"
   ]
  },
  {
   "cell_type": "code",
   "execution_count": null,
   "metadata": {},
   "outputs": [],
   "source": [
    "#| export\n",
    "def CenteredDiv(*c,      # Components\n",
    "                cls=(),  # Classes for outer div\n",
    "                **kwargs # Additional args for outer div\n",
    "               ): # Div with components centered in it\n",
    "    \"Creates a flex div with it's components centered in it\"\n",
    "    cls=stringify(cls)\n",
    "    return Div(cls=(FlexT.block,FlexT.column,FlexT.middle,FlexT.center,cls),**kwargs)(*c)"
   ]
  },
  {
   "cell_type": "code",
   "execution_count": null,
   "metadata": {},
   "outputs": [
    {
     "data": {
      "text/markdown": [
       "```html\n",
       "<div class=\"uk-flex uk-flex-column uk-flex-middle uk-flex-center \">\n",
       "  <p>0</p>\n",
       "  <p>1</p>\n",
       "  <p>2</p>\n",
       "</div>\n",
       "\n",
       "```"
      ],
      "text/plain": [
       "div((p((0,),{}), p((1,),{}), p((2,),{})),{'class': 'uk-flex uk-flex-column uk-flex-middle uk-flex-center '})"
      ]
     },
     "execution_count": null,
     "metadata": {},
     "output_type": "execute_result"
    }
   ],
   "source": [
    "CenteredDiv(*map(P, range(3)))"
   ]
  },
  {
   "cell_type": "code",
   "execution_count": null,
   "metadata": {},
   "outputs": [],
   "source": [
    "#| export\n",
    "def LAlignedDiv(*c,      # Components\n",
    "                cls=(),  # Classes for outer div\n",
    "                **kwargs # Additional args for outer div\n",
    "               ): # Div with components aligned to the left\n",
    "    \"Creates a flex div with it's components aligned to the left\"\n",
    "    cls=stringify(cls)\n",
    "    return Div(cls=(FlexT.block,FlexT.left,FlexT.middle,cls), **kwargs)(*c)"
   ]
  },
  {
   "cell_type": "code",
   "execution_count": null,
   "metadata": {},
   "outputs": [
    {
     "data": {
      "text/markdown": [
       "```html\n",
       "<div class=\"uk-flex uk-flex-left uk-flex-middle \">\n",
       "  <p>0</p>\n",
       "  <p>1</p>\n",
       "  <p>2</p>\n",
       "</div>\n",
       "\n",
       "```"
      ],
      "text/plain": [
       "div((p((0,),{}), p((1,),{}), p((2,),{})),{'class': 'uk-flex uk-flex-left uk-flex-middle '})"
      ]
     },
     "execution_count": null,
     "metadata": {},
     "output_type": "execute_result"
    }
   ],
   "source": [
    "LAlignedDiv(*map(P, range(3)))"
   ]
  },
  {
   "cell_type": "code",
   "execution_count": null,
   "metadata": {},
   "outputs": [],
   "source": [
    "#| export\n",
    "def RAlignedDiv(*c,      # Components\n",
    "                cls=(),  # Classes for outer div\n",
    "                **kwargs # Additional args for outer div\n",
    "               ): # Div with components aligned to the right\n",
    "    \"Creates a flex div with it's components aligned to the right\"\n",
    "    cls=stringify(cls)\n",
    "    return Div(cls=(FlexT.block,FlexT.right,FlexT.middle,cls), **kwargs)(*c)"
   ]
  },
  {
   "cell_type": "code",
   "execution_count": null,
   "metadata": {},
   "outputs": [
    {
     "data": {
      "text/markdown": [
       "```html\n",
       "<div class=\"uk-flex uk-flex-right uk-flex-middle \">\n",
       "  <p>0</p>\n",
       "  <p>1</p>\n",
       "  <p>2</p>\n",
       "</div>\n",
       "\n",
       "```"
      ],
      "text/plain": [
       "div((p((0,),{}), p((1,),{}), p((2,),{})),{'class': 'uk-flex uk-flex-right uk-flex-middle '})"
      ]
     },
     "execution_count": null,
     "metadata": {},
     "output_type": "execute_result"
    }
   ],
   "source": [
    "RAlignedDiv(*map(P, range(3)))"
   ]
  },
  {
   "cell_type": "code",
   "execution_count": null,
   "metadata": {},
   "outputs": [],
   "source": [
    "#| export\n",
    "def VStackedDiv(*c, cls='', **kwargs):\n",
    "    cls=stringify(cls)\n",
    "    return Div(cls=(FlexT.block,FlexT.col,FlexT.middle,cls), **kwargs)(*c)"
   ]
  },
  {
   "cell_type": "code",
   "execution_count": null,
   "metadata": {},
   "outputs": [],
   "source": [
    "#| export\n",
    "def HStackedDiv(*c, cls='', **kwargs):\n",
    "    cls=stringify(cls)\n",
    "    return Div(cls=(FlexT.block,FlexT.row,FlexT.middle,cls), **kwargs)(*c)"
   ]
  },
  {
   "cell_type": "code",
   "execution_count": null,
   "metadata": {},
   "outputs": [],
   "source": [
    "#| export\n",
    "def SpaceBetweenDiv(*c, cls='', **kwargs):\n",
    "    cls = stringify(cls)\n",
    "    return Div(cls=(FlexT.block,FlexT.between,FlexT.middle,cls), **kwargs)(*c)"
   ]
  },
  {
   "cell_type": "markdown",
   "metadata": {},
   "source": [
    "## Labeled Inputs"
   ]
  },
  {
   "cell_type": "markdown",
   "metadata": {},
   "source": [
    "Inputs of various types often go with a label.  Because of this we created functions to do this for you along with properly linking the `for` attribute from the lable to the input.  We also have some nice defaults, such as putting a little spacing between the label and the input"
   ]
  },
  {
   "cell_type": "code",
   "execution_count": null,
   "metadata": {},
   "outputs": [],
   "source": [
    "#| export\n",
    "def GenericLabelInput(\n",
    "               label:str|FT,\n",
    "               lbl_cls='',\n",
    "               input_cls='',\n",
    "               container=Div, \n",
    "               container_cls='',\n",
    "               id='',\n",
    "               input_fn=noop, \n",
    "                **kwargs\n",
    "                ):\n",
    "    \"`Div(Label,Input)` component with Uk styling injected appropriately. Generally you should higher level API, such as `UkTextArea` which is created for you in this library\"\n",
    "    if isinstance(label, str) or label.tag != 'label': \n",
    "        label = FormLabel(cls=stringify(lbl_cls), fr=id)(label)\n",
    "    inp = input_fn(id=id, cls=stringify(input_cls), **kwargs)        \n",
    "    if container: return container(label, inp, cls=stringify(container_cls))\n",
    "    return label, inp"
   ]
  },
  {
   "cell_type": "code",
   "execution_count": null,
   "metadata": {},
   "outputs": [],
   "source": [
    "#| export\n",
    "@delegates(GenericLabelInput, but=['input_fn'])\n",
    "def LabelInput(*args, **kwargs): return GenericLabelInput(*args, input_fn=Input, **kwargs)"
   ]
  },
  {
   "cell_type": "code",
   "execution_count": null,
   "metadata": {},
   "outputs": [],
   "source": [
    "#| export\n",
    "def LabelRadio(label:str|FT,\n",
    "               lbl_cls='',\n",
    "               input_cls='',\n",
    "               container=Div, \n",
    "               container_cls='',\n",
    "               id='',\n",
    "                **kwargs\n",
    "                ):\n",
    "    \"`Div(Label,Input)` component with Uk styling injected appropriately. Generally you should higher level API, such as `UkTextArea` which is created for you in this library\"\n",
    "    if isinstance(label, str) or label.tag != 'label': \n",
    "        label = FormLabel(cls=stringify(lbl_cls), fr=id)(label)\n",
    "    inp = Radio(id=id, cls=stringify(input_cls), **kwargs)        \n",
    "    if container: return container(inp, label, cls=stringify(container_cls))\n",
    "    return inp, label"
   ]
  },
  {
   "cell_type": "code",
   "execution_count": null,
   "metadata": {},
   "outputs": [
    {
     "data": {
      "text/html": [
       "<form>  <input type=\"radio\" class=\"uk-radio \">\n",
       "<label class=\"uk-form-label \">mylabel</label></form>"
      ],
      "text/plain": [
       "<IPython.core.display.HTML object>"
      ]
     },
     "execution_count": null,
     "metadata": {},
     "output_type": "execute_result"
    }
   ],
   "source": [
    "fh.show(LabelRadio('mylabel',container=Form))"
   ]
  },
  {
   "cell_type": "code",
   "execution_count": null,
   "metadata": {},
   "outputs": [],
   "source": [
    "#| export\n",
    "@delegates(GenericLabelInput, but=['input_fn'])\n",
    "def LabelCheckboxX(*args, **kwargs): return GenericLabelInput(*args, input_fn=CheckboxX, **kwargs)"
   ]
  },
  {
   "cell_type": "code",
   "execution_count": null,
   "metadata": {},
   "outputs": [
    {
     "data": {
      "text/html": [
       "<form><label class=\"uk-form-label \">mylabel</label>  <input type=\"checkbox\" class=\"uk-checkbox \">\n",
       "</form>"
      ],
      "text/plain": [
       "<IPython.core.display.HTML object>"
      ]
     },
     "execution_count": null,
     "metadata": {},
     "output_type": "execute_result"
    }
   ],
   "source": [
    "fh.show(LabelCheckboxX('mylabel',container=Form))"
   ]
  },
  {
   "cell_type": "code",
   "execution_count": null,
   "metadata": {},
   "outputs": [],
   "source": [
    "#| export\n",
    "@delegates(GenericLabelInput, but=['input_fn'])\n",
    "def LabelRange(*args, **kwargs): return GenericLabelInput(*args, input_fn=Range, **kwargs)"
   ]
  },
  {
   "cell_type": "code",
   "execution_count": null,
   "metadata": {},
   "outputs": [
    {
     "data": {
      "text/html": [
       "<form><label class=\"uk-form-label \">mylabel</label>  <input type=\"range\" class=\"uk-range \">\n",
       "</form>"
      ],
      "text/plain": [
       "<IPython.core.display.HTML object>"
      ]
     },
     "execution_count": null,
     "metadata": {},
     "output_type": "execute_result"
    }
   ],
   "source": [
    "fh.show(LabelRange('mylabel',container=Form))"
   ]
  },
  {
   "cell_type": "code",
   "execution_count": null,
   "metadata": {},
   "outputs": [],
   "source": [
    "#| export\n",
    "@delegates(GenericLabelInput, but=['input_fn'])\n",
    "def LabelToggle_switch(*args, **kwargs): return GenericLabelInput(*args, input_fn=Toggle_switch, **kwargs)"
   ]
  },
  {
   "cell_type": "code",
   "execution_count": null,
   "metadata": {},
   "outputs": [
    {
     "data": {
      "text/html": [
       "<input type=\"checkbox\" container=\"functools.partial(<function ft>, 'form', void_=False)\" class=\"uk-toggle-switch \">mylabel\n"
      ],
      "text/plain": [
       "<IPython.core.display.HTML object>"
      ]
     },
     "execution_count": null,
     "metadata": {},
     "output_type": "execute_result"
    }
   ],
   "source": [
    "fh.show(Toggle_switch('mylabel',container=Form))"
   ]
  },
  {
   "cell_type": "code",
   "execution_count": null,
   "metadata": {},
   "outputs": [],
   "source": [
    "#| export\n",
    "@delegates(GenericLabelInput, but=['input_fn'])\n",
    "def LabelTextArea(*args, **kwargs): return GenericLabelInput(*args, input_fn=TextArea, **kwargs)"
   ]
  },
  {
   "cell_type": "code",
   "execution_count": null,
   "metadata": {},
   "outputs": [
    {
     "data": {
      "text/html": [
       "<form><label class=\"uk-form-label \">mylabel</label><textarea class=\"uk-textarea \"></textarea></form>"
      ],
      "text/plain": [
       "<IPython.core.display.HTML object>"
      ]
     },
     "execution_count": null,
     "metadata": {},
     "output_type": "execute_result"
    }
   ],
   "source": [
    "fh.show(LabelTextArea('mylabel',container=Form))"
   ]
  },
  {
   "cell_type": "code",
   "execution_count": null,
   "metadata": {},
   "outputs": [],
   "source": [
    "#| export\n",
    "@delegates(GenericLabelInput, but=['input_fn'])\n",
    "def LabelSwitch(*args, **kwargs): return GenericLabelInput(*args, input_fn=Switch, **kwargs)"
   ]
  },
  {
   "cell_type": "code",
   "execution_count": null,
   "metadata": {},
   "outputs": [
    {
     "data": {
      "text/html": [
       "<form><label class=\"uk-form-label \">mylabel</label>  <input type=\"checkbox\" class=\"uk-toggle-switch \">\n",
       "</form>"
      ],
      "text/plain": [
       "<IPython.core.display.HTML object>"
      ]
     },
     "execution_count": null,
     "metadata": {},
     "output_type": "execute_result"
    }
   ],
   "source": [
    "fh.show(LabelSwitch('mylabel',container=Form))"
   ]
  },
  {
   "cell_type": "code",
   "execution_count": null,
   "metadata": {},
   "outputs": [],
   "source": [
    "#| export\n",
    "def LabelSelect(*option,\n",
    "               label:str|FT,\n",
    "               lbl_cls='',\n",
    "               input_cls='',\n",
    "               container=Div, \n",
    "               container_cls='',\n",
    "               id='',\n",
    "                **kwargs\n",
    "                ):\n",
    "    \"`Div(Label,Input)` component with Uk styling injected appropriately. Generally you should higher level API, such as `UkTextArea` which is created for you in this library\"\n",
    "    if isinstance(label, str) or label.tag != 'label': \n",
    "        label = FormLabel(lbl_cls=stringify(lbl_cls), fr=id)(label)\n",
    "    inp = Select(*option, id=id, cls=stringify(input_cls), **kwargs)        \n",
    "    if container: return container(label, inp, cls=stringify(container_cls))\n",
    "    return label, inp"
   ]
  },
  {
   "cell_type": "code",
   "execution_count": null,
   "metadata": {},
   "outputs": [
    {
     "data": {
      "text/html": [
       "<form><label class=\"uk-form-label \">mylabel</label><select class=\"uk-select \"><option>1</option><option>2</option></select></form>"
      ],
      "text/plain": [
       "<IPython.core.display.HTML object>"
      ]
     },
     "execution_count": null,
     "metadata": {},
     "output_type": "execute_result"
    }
   ],
   "source": [
    "fh.show(LabelSelect(Option(1),Option(2),label='mylabel',container=Form))"
   ]
  },
  {
   "cell_type": "code",
   "execution_count": null,
   "metadata": {},
   "outputs": [],
   "source": []
  },
  {
   "cell_type": "markdown",
   "metadata": {},
   "source": [
    "## Select"
   ]
  },
  {
   "cell_type": "code",
   "execution_count": null,
   "metadata": {},
   "outputs": [],
   "source": [
    "#| export\n",
    "def Options(*c,                    # Content for an `Option`\n",
    "            selected_idx:int=None, # Index location of selected `Option`\n",
    "            disabled_idxs:set=None # Idex locations of disabled `Options`\n",
    "           ):\n",
    "    \"Helper function to wrap things into `Option`s for use in `UkSelect`\"\n",
    "    return [fh.Option(o,selected=i==selected_idx, disabled=disabled_idxs and i in disabled_idxs) for i,o in enumerate(c)]"
   ]
  },
  {
   "cell_type": "code",
   "execution_count": null,
   "metadata": {},
   "outputs": [
    {
     "data": {
      "text/plain": [
       "['<option disabled>option1</option>',\n",
       " '<option selected>option2</option>',\n",
       " '<option disabled>option3</option>']"
      ]
     },
     "execution_count": null,
     "metadata": {},
     "output_type": "execute_result"
    }
   ],
   "source": [
    "list(map(to_xml,Options('option1','option2','option3', selected_idx=1, disabled_idxs={0,2})))"
   ]
  },
  {
   "cell_type": "code",
   "execution_count": null,
   "metadata": {},
   "outputs": [],
   "source": [
    "#| export\n",
    "def UkSelect(*option,            # Options for the select dropdown (can use `Options` helper function to create)\n",
    "             label=(),           # String or FT component for the label\n",
    "             lbl_cls=(),         # Additional classes for the label\n",
    "             inp_cls=(),         # Additional classes for the select input\n",
    "             cls=('space-y-2',), # Classes for the outer div\n",
    "             id=\"\",              # ID for the select input\n",
    "             name=\"\",            # Name attribute for the select input\n",
    "             placeholder=\"\",     # Placeholder text for the select input\n",
    "             searchable=False,   # Whether the select should be searchable\n",
    "             **kwargs):          # Additional arguments passed to Uk_select\n",
    "    \"Creates a select dropdown with uk styling\"\n",
    "    lbl_cls, inp_cls, cls = map(stringify, (lbl_cls, inp_cls, cls))\n",
    "    if label: \n",
    "        lbl = FormLabel(cls=f'{lbl_cls}', fr=id)(label) \n",
    "    select = Uk_select(*option, cls=inp_cls, uk_cloak=True, id=id, \n",
    "                       name=name, placeholder=placeholder, searchable=searchable, **kwargs)\n",
    "    return Div(cls=cls)(lbl, select) if label else Div(cls=cls)(select)"
   ]
  },
  {
   "cell_type": "code",
   "execution_count": null,
   "metadata": {},
   "outputs": [
    {
     "data": {
      "text/html": [
       "<div class=\"space-y-2\">\n",
       "  <div>\n",
       "<label class=\"uk-form-label \">MyLabel</label><select placeholder=\"MyPlaceholder\" class=\"uk-select \"><option>a</option><option>b</option></select>  </div>\n",
       "</div>\n"
      ],
      "text/plain": [
       "<IPython.core.display.HTML object>"
      ]
     },
     "execution_count": null,
     "metadata": {},
     "output_type": "execute_result"
    }
   ],
   "source": [
    "fh.show(Div(cls='space-y-2')(LabelSelect(*Options('a', 'b'), label='MyLabel', placeholder='MyPlaceholder')))"
   ]
  },
  {
   "cell_type": "markdown",
   "metadata": {},
   "source": [
    "## Nav"
   ]
  },
  {
   "cell_type": "markdown",
   "metadata": {},
   "source": [
    "A `Nav` is something highly versatile that is the foundation for many things.  Three common places to use a Nav:\n",
    "\n",
    "    + On its own as a sidebar navigation\n",
    "    + In a button to give it a drop-down like behavior\n",
    "    + In a Navbar to give drop down options in the navbar"
   ]
  },
  {
   "cell_type": "code",
   "execution_count": null,
   "metadata": {},
   "outputs": [],
   "source": [
    "#| export\n",
    "class NavT(VEnum):\n",
    "    def _generate_next_value_(name, start, count, last_values): return str2ukcls('nav', name)\n",
    "    default = auto()\n",
    "    primary = auto()\n",
    "    secondary = auto()"
   ]
  },
  {
   "cell_type": "code",
   "execution_count": null,
   "metadata": {},
   "outputs": [],
   "source": [
    "#| export\n",
    "def NavContainer(*li, \n",
    "                 cls=NavT.primary,\n",
    "                 parent=True, \n",
    "                 uk_nav=False, #True for default collapsible behavior, see https://franken-ui.dev/docs/nav#component-options for more advanced options\n",
    "                 **kwargs):\n",
    "    return fh.Ul(*li, uk_nav=uk_nav, cls=(f\"uk-nav{'' if parent else '-sub'}\", stringify(cls)),**kwargs)"
   ]
  },
  {
   "cell_type": "code",
   "execution_count": null,
   "metadata": {},
   "outputs": [],
   "source": [
    "mbrs1 = [Li(A('Option 1'), cls='uk-active'), \n",
    "         Li(A('Option 2')),\n",
    "         Li(A('Option 3'))]"
   ]
  },
  {
   "cell_type": "code",
   "execution_count": null,
   "metadata": {},
   "outputs": [
    {
     "data": {
      "text/html": [
       "<ul class=\"uk-nav uk-nav-primary\">\n",
       "  <li class=\"uk-active\">\n",
       "<a>Option 1</a>  </li>\n",
       "  <li>\n",
       "<a>Option 2</a>  </li>\n",
       "  <li>\n",
       "<a>Option 3</a>  </li>\n",
       "</ul>\n"
      ],
      "text/plain": [
       "<IPython.core.display.HTML object>"
      ]
     },
     "execution_count": null,
     "metadata": {},
     "output_type": "execute_result"
    }
   ],
   "source": [
    "show(NavContainer(*mbrs1))"
   ]
  },
  {
   "cell_type": "code",
   "execution_count": null,
   "metadata": {},
   "outputs": [],
   "source": [
    "#| export\n",
    "def NavParentLi(*nav_container, cls=(), **kwargs): return fh.Li(*nav_container,  cls=('uk-parent',  stringify(cls)),**kwargs)\n",
    "def NavDividerLi(*c,cls=(), **kwargs): return fh.Li(*c, cls=('uk-nav-divider', stringify(cls)),**kwargs)\n",
    "def NavHeaderLi(*c,cls=(), **kwargs): return fh.Li(*c, cls=('uk-nav-header', stringify(cls)),**kwargs)\n",
    "def NavSubtitle(*c,cls=TextFont.muted_sm, **kwargs): return fh.Div(*c, cls=('uk-nav-subtitle', stringify(cls)),**kwargs)\n",
    "def NavCloseLi(*c,cls=(), **kwargs): return fh.Li(*c, cls=('uk-drop-close', stringify(cls)),**kwargs)"
   ]
  },
  {
   "cell_type": "code",
   "execution_count": null,
   "metadata": {},
   "outputs": [
    {
     "data": {
      "text/markdown": [
       "```html\n",
       "<li class=\"uk-nav-divider \"></li>\n",
       "\n",
       "```"
      ],
      "text/plain": [
       "li((),{'class': 'uk-nav-divider '})"
      ]
     },
     "execution_count": null,
     "metadata": {},
     "output_type": "execute_result"
    }
   ],
   "source": [
    "NavDividerLi()"
   ]
  },
  {
   "cell_type": "code",
   "execution_count": null,
   "metadata": {},
   "outputs": [
    {
     "data": {
      "text/html": [
       "<ul class=\"uk-nav uk-nav-primary\">\n",
       "  <li class=\"uk-nav-header \">NavHeaderLi</li>\n",
       "  <li class=\"uk-active\">\n",
       "<a>Option 1</a>  </li>\n",
       "  <li>\n",
       "<a>Option 2</a>  </li>\n",
       "  <li>\n",
       "<a>Option 3</a>  </li>\n",
       "  <li>\n",
       "<a>      <div>\n",
       "Subtitle Ex        <div class=\"uk-nav-subtitle uk-text-muted uk-text-small\">NavSubtitle text to be shown</div>\n",
       "      </div>\n",
       "</a>  </li>\n",
       "  <li class=\"uk-nav-divider \"></li>\n",
       "  <li class=\"uk-parent \">\n",
       "<a>Parent Name</a>    <ul class=\"uk-nav-sub uk-nav-primary\">\n",
       "      <li>\n",
       "<a>Child 1</a>      </li>\n",
       "      <li>\n",
       "<a>Child 2</a>      </li>\n",
       "      <li>\n",
       "<a>Child 3</a>      </li>\n",
       "    </ul>\n",
       "  </li>\n",
       "</ul>\n"
      ],
      "text/plain": [
       "<IPython.core.display.HTML object>"
      ]
     },
     "execution_count": null,
     "metadata": {},
     "output_type": "execute_result"
    }
   ],
   "source": [
    "mbrs2 = [Li(A('Child 1')), Li(A('Child 2')),Li(A('Child 3'))]\n",
    "\n",
    "show(\n",
    "    NavContainer(\n",
    "        NavHeaderLi(\"NavHeaderLi\"),\n",
    "        *mbrs1,\n",
    "        Li(A(href='')(Div(\"Subtitle Ex\",NavSubtitle(\"NavSubtitle text to be shown\")))),\n",
    "        NavDividerLi(),\n",
    "        NavParentLi(\n",
    "            A('Parent Name'),\n",
    "            NavContainer(*mbrs2,parent=False)),\n",
    "    )\n",
    ")"
   ]
  },
  {
   "cell_type": "code",
   "execution_count": null,
   "metadata": {},
   "outputs": [],
   "source": [
    "def NavParentIcon(): return Span(uk_nav_parent_icon=True)"
   ]
  },
  {
   "cell_type": "markdown",
   "metadata": {},
   "source": [
    "## NavBar"
   ]
  },
  {
   "cell_type": "code",
   "execution_count": null,
   "metadata": {},
   "outputs": [],
   "source": [
    "#| export\n",
    "def NavBarContainer(*c, \n",
    "                    cls=(),\n",
    "                    container_cls=ContainerT.expand,\n",
    "                    uk_navbar=True,\n",
    "                    **kwargs): \n",
    "    return fh.Div(Container(Div(*c, uk_navbar=uk_navbar),cls=stringify(container_cls)), cls=('uk-navbar-container',stringify(cls)), **kwargs)\n",
    "def NavBarLSide(*c,  cls=(), **kwargs): return fh.Div(*c, cls=('uk-navbar-left',  stringify(cls)), **kwargs)\n",
    "def NavBarRSide(*c,  cls=(), **kwargs): return fh.Div(*c, cls=('uk-navbar-right', stringify(cls)), **kwargs)\n",
    "def NavBarCenter(*c, cls=(), **kwargs): return fh.Div(*c, cls=('uk-navbar-center',stringify(cls)), **kwargs)"
   ]
  },
  {
   "cell_type": "code",
   "execution_count": null,
   "metadata": {},
   "outputs": [],
   "source": [
    "#| export\n",
    "def NavBarNav(*li, cls=(), **kwargs): return fh.Nav(*li, cls=('uk-navbar-nav',      stringify(cls)),                 **kwargs)"
   ]
  },
  {
   "cell_type": "code",
   "execution_count": null,
   "metadata": {},
   "outputs": [],
   "source": [
    "#| export\n",
    "def NavBarSubtitle(title, subtitle, cls=(), subtitle_cls=TextFont.muted_sm, **kwargs): \n",
    "    return fh.Div(title,fh.Div(subtitle, cls=('uk-navbar-subtitle', stringify(subtitle_cls))), cls=stringify(cls), **kwargs)"
   ]
  },
  {
   "cell_type": "code",
   "execution_count": null,
   "metadata": {},
   "outputs": [],
   "source": [
    "#| export\n",
    "def NavBarNavContainer(*li, \n",
    "                       cls=NavT.primary,\n",
    "                         parent=True, \n",
    "                         uk_nav=False, #True for default collapsible behavior, see https://franken-ui.dev/docs/nav#component-options for more advanced options\n",
    "                         **kwargs):\n",
    "    return Div(cls=\"uk-navbar-dropdown\")(NavContainer(*li, cls=('uk-navbar-dropdown-nav z-2147483647',stringify(cls)), uk_nav=uk_nav, parent=parent, **kwargs))"
   ]
  },
  {
   "cell_type": "code",
   "execution_count": null,
   "metadata": {},
   "outputs": [],
   "source": [
    "#|export\n",
    "def NavBarParentIcon(): return Span(uk_navbar_parent_icon=True)"
   ]
  },
  {
   "cell_type": "code",
   "execution_count": null,
   "metadata": {},
   "outputs": [],
   "source": [
    "l = NavBarNav(\n",
    "            Li(cls='uk-active')(A(\"Active\",href='')),\n",
    "            Li(A(\"Parent\",href=''),\n",
    "                NavBarNavContainer(\n",
    "                    Li(cls='uk-active')(A(\"Active\",href='')),\n",
    "                    Li(A(\"Item\",href='')),\n",
    "                    Li(A(\"Item\",href='')))),\n",
    "            Li(A(\"Item\",href='')))\n",
    "\n",
    "r = NavBarNav(\n",
    "            Li(cls='uk-active')(A(NavBarSubtitle(\"Title\",\"Subtitle\"),href='')),\n",
    "            Li(\n",
    "                A(\"DropDown\",NavBarParentIcon(),href=''),\n",
    "                NavBarNavContainer(\n",
    "                    NavHeaderLi(\"NavHeaderLi\"),\n",
    "                    *mbrs1,\n",
    "                    Li(A(href='')(Div(\"Subtitle Ex\",NavSubtitle(\"NavSubtitle text to be shown\")))),\n",
    "                    NavDividerLi(),\n",
    "                    NavParentLi(\n",
    "                        A('Parent Name'),\n",
    "                        NavContainer(*mbrs2,parent=False))\n",
    "                )),\n",
    "            \n",
    "    Li(A(NavBarSubtitle(\"Title\",\"Subtitle\"),href='')))"
   ]
  },
  {
   "cell_type": "code",
   "execution_count": null,
   "metadata": {},
   "outputs": [],
   "source": [
    "# Show(\n",
    "# NavBarContainer(\n",
    "#     NavBarLSide(l),\n",
    "#     NavBarRSide(r)\n",
    "# )\n",
    "# )"
   ]
  },
  {
   "cell_type": "markdown",
   "metadata": {},
   "source": [
    "## DropDown"
   ]
  },
  {
   "cell_type": "code",
   "execution_count": null,
   "metadata": {},
   "outputs": [],
   "source": [
    "#| export\n",
    "def DropDownNavContainer(*li, \n",
    "                         cls=NavT.primary,\n",
    "                         parent=True, \n",
    "                         uk_nav=False, #True for default collapsible behavior, see https://franken-ui.dev/docs/nav#component-options for more advanced options\n",
    "                         **kwargs):\n",
    "    return Div(cls = 'uk-drop uk-dropdown',uk_dropdown=True)(NavContainer(*li, cls=('uk-dropdown-nav',stringify(cls)), uk_nav=uk_nav, parent=parent, **kwargs))"
   ]
  },
  {
   "cell_type": "code",
   "execution_count": null,
   "metadata": {},
   "outputs": [],
   "source": [
    "# Show(\n",
    "# Div(Button('test'),\n",
    "#     DropDownNavContainer(\n",
    "#         NavHeaderLi(\"NavHeaderLi\"),\n",
    "#         *mbrs1,\n",
    "#         Li(A(href='')(Div(\"Subtitle Ex\",NavSubtitle(\"NavSubtitle text to be shown\")))),\n",
    "#         NavDividerLi(),\n",
    "#         NavParentLi(\n",
    "#             A('Parent Name'),\n",
    "#             NavContainer(*mbrs2,parent=False)),\n",
    "# ))\n",
    "# )"
   ]
  },
  {
   "cell_type": "markdown",
   "metadata": {},
   "source": [
    "## Tabs"
   ]
  },
  {
   "cell_type": "code",
   "execution_count": null,
   "metadata": {},
   "outputs": [],
   "source": [
    "#| export\n",
    "def TabContainer(*li,cls='', alt=False, **kwargs):\n",
    "    cls = stringify(cls)\n",
    "    return Ul(cls=(f\"uk-tab{'-alt' if alt else ''}\",stringify(cls)),**kwargs)(*li)"
   ]
  },
  {
   "cell_type": "code",
   "execution_count": null,
   "metadata": {},
   "outputs": [],
   "source": [
    "# Show(Container(TabContainer(\n",
    "#     Li(A(\"Active\",href='#', cls='uk-active')),\n",
    "#     Li(A(\"Item\",href='#')),\n",
    "#     Li(A(\"Item\",href='#')),\n",
    "#     Li(A(\"Disabled\",href='#', cls='uk-disabled')),\n",
    "#     alt=True)))"
   ]
  },
  {
   "cell_type": "code",
   "execution_count": null,
   "metadata": {},
   "outputs": [],
   "source": [
    "# Show(Container(TabContainer(\n",
    "#     Li(A(\"Active\",href='#', cls='uk-active')),\n",
    "#     Li(A(\"Item\",href='#')),\n",
    "#     Li(A(\"Item\",href='#')),\n",
    "#     Li(A(\"Disabled\",href='#', cls='uk-disabled')),\n",
    "#     )))"
   ]
  },
  {
   "cell_type": "markdown",
   "metadata": {},
   "source": [
    "## Cards"
   ]
  },
  {
   "cell_type": "code",
   "execution_count": null,
   "metadata": {},
   "outputs": [],
   "source": [
    "#| export\n",
    "class CardT(VEnum):\n",
    "    'Card styles from UIkit'\n",
    "    def _generate_next_value_(name, start, count, last_values):\n",
    "        return str2ukcls('card', name)\n",
    "    \n",
    "    default = auto()\n",
    "    primary = auto()\n",
    "    secondary = auto()\n",
    "    danger = auto()"
   ]
  },
  {
   "cell_type": "code",
   "execution_count": null,
   "metadata": {},
   "outputs": [
    {
     "name": "stdout",
     "output_type": "stream",
     "text": [
      "| Option    | Value             |\n",
      "|-----------|-------------------|\n",
      "| default   | uk-card-default   |\n",
      "| primary   | uk-card-primary   |\n",
      "| secondary | uk-card-secondary |\n",
      "| danger    | uk-card-danger    |\n"
     ]
    }
   ],
   "source": [
    "print(enum_to_markdown_table(CardT))"
   ]
  },
  {
   "cell_type": "code",
   "execution_count": null,
   "metadata": {},
   "outputs": [],
   "source": [
    "#| export\n",
    "def CardTitle(*c, cls=(), **kwargs):\n",
    "    return fh.Div(*c, cls=('uk-card-title',stringify(cls)), **kwargs)\n",
    "\n",
    "def CardTitle(*c, cls=(), **kwargs):\n",
    "    return fh.Div(*c, cls=('uk-card-title',stringify(cls)), **kwargs)\n",
    "\n",
    "def CardHeader(*c, cls=(), **kwargs):\n",
    "    return fh.Div(*c, cls=('uk-card-header',stringify(cls)), **kwargs)\n",
    "\n",
    "def CardBody(*c, cls=(), **kwargs):\n",
    "    return fh.Div(*c, cls=('uk-card-body',stringify(cls)), **kwargs)\n",
    "\n",
    "def CardFooter(*c, cls=(), **kwargs):\n",
    "    return fh.Div(*c, cls=('uk-card-footer',stringify(cls)), **kwargs)\n",
    "\n",
    "def CardContainer(*c, cls=CardT.default, **kwargs):\n",
    "    return fh.Div(*c, cls=('uk-card',stringify(cls)), **kwargs)"
   ]
  },
  {
   "cell_type": "code",
   "execution_count": null,
   "metadata": {},
   "outputs": [],
   "source": [
    "#|export\n",
    "def Card(*c, # Components that go in the body\n",
    "        header=None, # Components that go in the header\n",
    "        footer=None,  # Components that go in the footer\n",
    "        body_cls='space-y-6', # classes for the body\n",
    "        header_cls=(), # classes for the header\n",
    "        footer_cls=(), # classes for the footer\n",
    "        cls=(), #class for outermost component\n",
    "        **kwargs # classes that for the card itself\n",
    "        ):\n",
    "    header_cls, footer_cls, body_cls, cls = map(stringify, (header_cls, footer_cls, body_cls, cls))\n",
    "    res = []\n",
    "    if header: res.append(CardHeader(cls=header_cls)(header))\n",
    "    res.append(CardBody(cls=body_cls)(*c))\n",
    "    if footer: res.append(CardFooter(cls=footer_cls)(footer))\n",
    "    return CardContainer(cls=cls, **kwargs)(*res)"
   ]
  },
  {
   "cell_type": "markdown",
   "metadata": {},
   "source": [
    "## Tables"
   ]
  },
  {
   "cell_type": "code",
   "execution_count": null,
   "metadata": {},
   "outputs": [],
   "source": [
    "#| export\n",
    "class TableT(VEnum):\n",
    "    def _generate_next_value_(name, start, count, last_values): return str2ukcls('table', name)\n",
    "    divider = auto()\n",
    "    striped = auto()\n",
    "    hover = auto()\n",
    "    small = auto()\n",
    "    large = auto()\n",
    "    justify = auto()\n",
    "    middle = auto()\n",
    "    responsive = auto()"
   ]
  },
  {
   "cell_type": "code",
   "execution_count": null,
   "metadata": {},
   "outputs": [],
   "source": [
    "#| export\n",
    "def Table(*args, cls=(TableT.middle, TableT.divider, TableT.hover, TableT.small), **kwargs): \n",
    "    return fh.Table(cls=('uk-table', stringify(cls)), *args, **kwargs)"
   ]
  },
  {
   "cell_type": "code",
   "execution_count": null,
   "metadata": {},
   "outputs": [],
   "source": [
    "#| export\n",
    "def _TableCell(Component, *args, cls=(), shrink=False, expand=False, small=False, **kwargs):\n",
    "    cls = stringify(cls)\n",
    "    if shrink: cls += ' uk-table-shrink'\n",
    "    if expand: cls += ' uk-table-expand'\n",
    "    if small: cls += ' uk-table-small'\n",
    "    return Component(*args,cls=cls, **kwargs)\n",
    "\n",
    "@delegates(_TableCell, but=['Component'])\n",
    "def Td(*args,**kwargs):  return _TableCell(fh.Td, *args, **kwargs)\n",
    "@delegates(_TableCell, but=['Component'])\n",
    "def Th(*args,**kwargs): return _TableCell(fh.Th, *args, **kwargs)\n",
    "\n",
    "def Tr(*cells, cls=(), **kwargs):  return fh.Tr(*cells, cls=stringify(cls), **kwargs)\n",
    "def Thead(*rows, cls=(), **kwargs): return fh.Thead(*rows, cls=stringify(cls), **kwargs)\n",
    "def Tbody(*rows, cls=(), **kwargs): return fh.Tbody(*rows, cls=stringify(cls), **kwargs)"
   ]
  },
  {
   "cell_type": "code",
   "execution_count": null,
   "metadata": {},
   "outputs": [],
   "source": [
    "#|export\n",
    "def TableFromLists(header_data, body_data, footer_data=None, \n",
    "                   header_cell_render=Th,body_cell_render=Td, footer_cell_render=Td,\n",
    "                   cls=(TableT.middle, TableT.divider, TableT.hover, TableT.small), **kwargs):\n",
    "    \n",
    "    return Table(\n",
    "                Thead(Tr(*map(header_cell_render, header_data))),\n",
    "                Tbody(*[Tr(*map(body_cell_render, r)) for r in body_data]),\n",
    "                Tfoot(Tr(*map(footer_cell_render, footer_data))) if footer_data else '',\n",
    "                cls=stringify(cls),    \n",
    "                **kwargs)"
   ]
  },
  {
   "cell_type": "code",
   "execution_count": null,
   "metadata": {},
   "outputs": [
    {
     "data": {
      "text/html": [
       "<table class=\"uk-table uk-table-middle uk-table-divider uk-table-hover uk-table-small\">\n",
       "  <thead>\n",
       "    <tr>\n",
       "      <th>Name</th>\n",
       "      <th>Age</th>\n",
       "      <th>City</th>\n",
       "    </tr>\n",
       "  </thead>\n",
       "  <tbody>\n",
       "    <tr>\n",
       "      <td>Alice</td>\n",
       "      <td>25</td>\n",
       "      <td>New York</td>\n",
       "    </tr>\n",
       "    <tr>\n",
       "      <td>Bob</td>\n",
       "      <td>30</td>\n",
       "      <td>San Francisco</td>\n",
       "    </tr>\n",
       "    <tr>\n",
       "      <td>Charlie</td>\n",
       "      <td>35</td>\n",
       "      <td>London</td>\n",
       "    </tr>\n",
       "  </tbody>\n",
       "  <tfoot>\n",
       "    <tr>\n",
       "      <td>Total</td>\n",
       "      <td>90</td>\n",
       "      <td></td>\n",
       "    </tr>\n",
       "  </tfoot>\n",
       "</table>\n"
      ],
      "text/plain": [
       "<IPython.core.display.HTML object>"
      ]
     },
     "execution_count": null,
     "metadata": {},
     "output_type": "execute_result"
    }
   ],
   "source": [
    "# Test the function\n",
    "header = ['Name', 'Age', 'City']\n",
    "body = [\n",
    "    ['Alice', '25', 'New York'],\n",
    "    ['Bob', '30', 'San Francisco'],\n",
    "    ['Charlie', '35', 'London']\n",
    "]\n",
    "footer = ['Total', '90', '']\n",
    "\n",
    "fh.show(TableFromLists(header, body, footer))"
   ]
  },
  {
   "cell_type": "code",
   "execution_count": null,
   "metadata": {},
   "outputs": [],
   "source": [
    "#| export\n",
    "def TableFromDicts(header_data:Sequence, body_data:Sequence[dict], footer_data=None, \n",
    "                   header_cell_render=Th, body_cell_render=lambda k,v : Td(v), footer_cell_render=lambda k,v : Td(v),\n",
    "                   cls=(TableT.middle, TableT.divider, TableT.hover, TableT.small), **kwargs):\n",
    "    \n",
    "    return Table(\n",
    "        Thead(Tr(*[header_cell_render(h) for h in header_data])),\n",
    "        Tbody(*[Tr(*[body_cell_render(k, r) for k in header_data]) for r in body_data]),\n",
    "        Tfoot(Tr(*[footer_cell_render(k, footer_data.get(k.lower(), '')) for k in header_data])) if footer_data else '',\n",
    "        cls=stringify(cls),    \n",
    "        **kwargs\n",
    "    )"
   ]
  },
  {
   "cell_type": "code",
   "execution_count": null,
   "metadata": {},
   "outputs": [
    {
     "data": {
      "text/html": [
       "<table class=\"uk-table uk-table-middle uk-table-divider uk-table-hover uk-table-small\">\n",
       "  <thead>\n",
       "    <tr>\n",
       "      <th>NAME</th>\n",
       "      <th>AGE</th>\n",
       "      <th>CITY</th>\n",
       "    </tr>\n",
       "  </thead>\n",
       "  <tbody>\n",
       "    <tr>\n",
       "      <td class=\"font-bold\">Alice</td>\n",
       "      <td>30 years</td>\n",
       "      <td>New York</td>\n",
       "    </tr>\n",
       "    <tr>\n",
       "      <td class=\"font-bold\">Bob</td>\n",
       "      <td>25 years</td>\n",
       "      <td>London</td>\n",
       "    </tr>\n",
       "  </tbody>\n",
       "</table>\n"
      ],
      "text/plain": [
       "<IPython.core.display.HTML object>"
      ]
     },
     "execution_count": null,
     "metadata": {},
     "output_type": "execute_result"
    }
   ],
   "source": [
    "# Example usage:\n",
    "def header_render(v): return Th(v.upper())\n",
    "def body_render(k, v):\n",
    "    match k.lower():\n",
    "        case 'name': return Td(v['name'], cls='font-bold')\n",
    "        case 'age': return Td(f\"{v['age']} years\")\n",
    "        case _: return Td(v[k.lower()])\n",
    "\n",
    "header_data = ['Name', 'Age', 'City']\n",
    "body_data = [\n",
    "    {'name': 'Alice', 'age': 30, 'city': 'New York'},\n",
    "    {'name': 'Bob', 'age': 25, 'city': 'London'}\n",
    "]\n",
    "\n",
    "fh.show(TableFromDicts(header_data, body_data, header_cell_render=header_render, body_cell_render=body_render))"
   ]
  },
  {
   "cell_type": "code",
   "execution_count": null,
   "metadata": {},
   "outputs": [],
   "source": [
    "#| hide\n",
    "import nbdev; nbdev.nbdev_export()"
   ]
  },
  {
   "cell_type": "code",
   "execution_count": null,
   "metadata": {},
   "outputs": [
    {
     "data": {
      "text/html": [
       "<script>\n",
       "window.addEventListener('load', function() {\n",
       "    for (let i = 1; i <= 6; i++) {\n",
       "        document.querySelectorAll(`h${i}`).forEach(el => {\n",
       "            el.classList.add(`uk-h${i}`);\n",
       "        });\n",
       "    }\n",
       "});\n",
       "\n",
       "document.querySelectorAll('.sidebar-item-text').forEach(el => {\n",
       "  el.style.visibility = 'visible';\n",
       "})\n",
       "\n",
       "</script>\n"
      ],
      "text/plain": [
       "<IPython.core.display.HTML object>"
      ]
     },
     "metadata": {},
     "output_type": "display_data"
    }
   ],
   "source": [
    "%%html\n",
    "<script>\n",
    "window.addEventListener('load', function() {\n",
    "    for (let i = 1; i <= 6; i++) {\n",
    "        document.querySelectorAll(`h${i}`).forEach(el => {\n",
    "            el.classList.add(`uk-h${i}`);\n",
    "        });\n",
    "    }\n",
    "});\n",
    "\n",
    "document.querySelectorAll('.sidebar-item-text').forEach(el => {\n",
    "  el.style.visibility = 'visible';\n",
    "})\n",
    "\n",
    "</script>"
   ]
  }
 ],
 "metadata": {
  "kernelspec": {
   "display_name": "python3",
   "language": "python",
   "name": "python3"
  }
 },
 "nbformat": 4,
 "nbformat_minor": 4
}
