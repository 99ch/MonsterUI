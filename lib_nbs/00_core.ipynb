{
 "cells": [
  {
   "cell_type": "markdown",
   "metadata": {},
   "source": [
    "# Core\n",
    "\n",
    "> The building blocks to the UI"
   ]
  },
  {
   "cell_type": "markdown",
   "metadata": {},
   "source": [
    "## Imports"
   ]
  },
  {
   "cell_type": "markdown",
   "metadata": {},
   "source": [
    "\n"
   ]
  },
  {
   "cell_type": "code",
   "execution_count": null,
   "metadata": {},
   "outputs": [],
   "source": [
    "#| default_exp core"
   ]
  },
  {
   "cell_type": "code",
   "execution_count": null,
   "metadata": {},
   "outputs": [],
   "source": [
    "#| hide\n",
    "#| export\n",
    "from fasthtml.common import *\n",
    "from fasthtml.svg import Svg\n",
    "from enum import Enum\n",
    "from fasthtml.components import Uk_select,Uk_input_tag\n",
    "from functools import partial\n",
    "from itertools import zip_longest\n",
    "from typing import Union, Tuple, Optional\n",
    "from fastcore.all import L"
   ]
  },
  {
   "cell_type": "code",
   "execution_count": null,
   "metadata": {},
   "outputs": [],
   "source": [
    "from nbdev.showdoc import show_doc\n",
    "from IPython.display import HTML"
   ]
  },
  {
   "cell_type": "markdown",
   "metadata": {},
   "source": [
    "## Utils"
   ]
  },
  {
   "cell_type": "markdown",
   "metadata": {},
   "source": [
    "### Tests"
   ]
  },
  {
   "cell_type": "code",
   "execution_count": null,
   "metadata": {},
   "outputs": [],
   "source": [
    "from fastcore.test import *"
   ]
  },
  {
   "cell_type": "code",
   "execution_count": null,
   "metadata": {},
   "outputs": [],
   "source": [
    "def test_xml_eq(a, b):\n",
    "    \"Tests if if 2 FT components generate the same xml\"\n",
    "    test_eq(*map(lambda x: x if isinstance(x,str) else to_xml(x), (a, b)))"
   ]
  },
  {
   "cell_type": "markdown",
   "metadata": {},
   "source": [
    "### Other"
   ]
  },
  {
   "cell_type": "code",
   "execution_count": null,
   "metadata": {},
   "outputs": [],
   "source": [
    "#| export\n",
    "# need a better name, stringify might be too general for what it does \n",
    "def stringify(o # String, Tuple, or Enum options we want stringified\n",
    "             ): # String that can be passed FT comp args (such as `cls=`)\n",
    "    \"Converts input types into strings that can be passed to FT components\"  \n",
    "    if is_listy(o): return ' '.join(map(str,o)) if o else \"\"\n",
    "    return o.__str__()"
   ]
  },
  {
   "cell_type": "code",
   "execution_count": null,
   "metadata": {},
   "outputs": [
    {
     "data": {
      "text/markdown": [
       "---\n",
       "\n",
       "[source](https://github.com/Isaac-Flath/fh-frankenui/blob/main/fh_frankenui/core.py#L26){target=\"_blank\" style=\"float:right; font-size:smaller\"}\n",
       "\n",
       "### stringify\n",
       "\n",
       ">      stringify (o)\n",
       "\n",
       "*Converts input types into strings that can be passed to FT components*\n",
       "\n",
       "|    | **Details** |\n",
       "| -- | ----------- |\n",
       "| o | String, Tuple, or Enum options we want stringified |"
      ],
      "text/plain": [
       "---\n",
       "\n",
       "[source](https://github.com/Isaac-Flath/fh-frankenui/blob/main/fh_frankenui/core.py#L26){target=\"_blank\" style=\"float:right; font-size:smaller\"}\n",
       "\n",
       "### stringify\n",
       "\n",
       ">      stringify (o)\n",
       "\n",
       "*Converts input types into strings that can be passed to FT components*\n",
       "\n",
       "|    | **Details** |\n",
       "| -- | ----------- |\n",
       "| o | String, Tuple, or Enum options we want stringified |"
      ]
     },
     "execution_count": null,
     "metadata": {},
     "output_type": "execute_result"
    }
   ],
   "source": [
    "show_doc(stringify)"
   ]
  },
  {
   "cell_type": "code",
   "execution_count": null,
   "metadata": {},
   "outputs": [],
   "source": [
    "assert stringify('abc') == 'abc'\n",
    "assert stringify(('abc','def')) == 'abc def'\n",
    "assert 'uk-input ' + stringify(()) == 'uk-input '\n",
    "assert 'uk-input ' + stringify(\"\") == 'uk-input '"
   ]
  },
  {
   "cell_type": "code",
   "execution_count": null,
   "metadata": {},
   "outputs": [],
   "source": [
    "#| export\n",
    "class VEnum(Enum):\n",
    "    def __add__(self, other):\n",
    "        \"Add other enums, listy, or strings\"\n",
    "        return stringify((self, other))\n",
    "\n",
    "    def __radd__(self, other):\n",
    "        \"Add other enums, listy, or strings\"\n",
    "        return stringify((other, self))    \n",
    "    \n",
    "    def __str__(self):\n",
    "        base = self.__class__.__name__.lstrip('Uk').rstrip('T')\n",
    "        return f\"uk-{base.lower()}-{self.value}\".strip('-')"
   ]
  },
  {
   "cell_type": "markdown",
   "metadata": {},
   "source": [
    "## Enums"
   ]
  },
  {
   "cell_type": "markdown",
   "metadata": {},
   "source": [
    "### Theme"
   ]
  },
  {
   "cell_type": "markdown",
   "metadata": {},
   "source": [
    "You can select a theme color to and get all the headers.  This brings in the most standard grouping:\n",
    "+ Tailwind: Optional, but typically FrankenUI is used in conjunction with tailwind\n",
    "+ Uikit: Many things are styled with uikit\n",
    "+ UIkit icons: Gives many icons OOTB, and is nice to have handy.\n",
    "+ Franken WC: Neccesarry for some of the (minimal) interactivity components have"
   ]
  },
  {
   "cell_type": "code",
   "execution_count": null,
   "metadata": {},
   "outputs": [],
   "source": [
    "#| export\n",
    "class Theme(Enum):\n",
    "    slate = \"slate\"\n",
    "    stone = \"stone\"\n",
    "    gray = \"gray\"\n",
    "    neutral = \"neutral\"\n",
    "    red = \"red\"\n",
    "    rose = \"rose\"\n",
    "    orange = \"orange\"\n",
    "    green = \"green\"\n",
    "    blue = \"blue\"\n",
    "    yellow = \"yellow\"\n",
    "    violet = \"violet\"\n",
    "    zinc = \"zinc\"\n",
    "\n",
    "    def headers(self):\n",
    "        js = (Script(src=\"https://cdn.tailwindcss.com\"),\n",
    "              Script(src=\"https://cdn.jsdelivr.net/npm/uikit@3.21.6/dist/js/uikit.min.js\"),\n",
    "              Script(src=\"https://cdn.jsdelivr.net/npm/uikit@3.21.6/dist/js/uikit-icons.min.js\"),\n",
    "              Script(type=\"module\", src=\"https://unpkg.com/franken-wc@0.0.6/dist/js/wc.iife.js\")\n",
    "              )\n",
    "        _url = f\"https://unpkg.com/franken-wc@0.0.6/dist/css/{self.value}.min.css\"\n",
    "        return (*js, Link(rel=\"stylesheet\", href=_url))"
   ]
  },
  {
   "cell_type": "code",
   "execution_count": null,
   "metadata": {},
   "outputs": [
    {
     "data": {
      "text/plain": [
       "(script(('',),{'src': 'https://cdn.tailwindcss.com'}),\n",
       " script(('',),{'src': 'https://cdn.jsdelivr.net/npm/uikit@3.21.6/dist/js/uikit.min.js'}),\n",
       " script(('',),{'src': 'https://cdn.jsdelivr.net/npm/uikit@3.21.6/dist/js/uikit-icons.min.js'}),\n",
       " script(('',),{'type': 'module', 'src': 'https://unpkg.com/franken-wc@0.0.6/dist/js/wc.iife.js'}),\n",
       " link((),{'rel': 'stylesheet', 'href': 'https://unpkg.com/franken-wc@0.0.6/dist/css/blue.min.css'}))"
      ]
     },
     "execution_count": null,
     "metadata": {},
     "output_type": "execute_result"
    }
   ],
   "source": [
    "hdrs = Theme.blue.headers()\n",
    "app = FastHTML(hdrs=hdrs)\n",
    "hdrs"
   ]
  },
  {
   "cell_type": "markdown",
   "metadata": {},
   "source": [
    "### Style"
   ]
  },
  {
   "cell_type": "markdown",
   "metadata": {},
   "source": [
    "#### `B` (Base)"
   ]
  },
  {
   "cell_type": "markdown",
   "metadata": {},
   "source": [
    "Base enums all will end with `B`.  These are designed to make classes discoverable in python.  These should be generally a 1:1 mapping to a class.\n",
    "\n",
    "These are the lowest level class selection options without dropping into strings.  We don't need to cover everything, but we want most useful things in here."
   ]
  },
  {
   "cell_type": "code",
   "execution_count": null,
   "metadata": {},
   "outputs": [],
   "source": [
    "#| export\n",
    "class TextB(Enum):\n",
    "    sz_xsmall = 'text-xs'\n",
    "    sz_small = 'text-sm'\n",
    "    sz_medium = 'text-base'\n",
    "    sz_large = 'text-lg'\n",
    "    cl_muted = 'uk-text-muted'\n",
    "    \n",
    "    wt_light = 'font-light'\n",
    "    wt_normal = 'font-normal'\n",
    "    wt_medium = 'font-medium'\n",
    "    wt_bold = 'font-bold'\n",
    "# font-thin\tfont-weight: 100;\n",
    "# font-extralight\tfont-weight: 200;\n",
    "# font-light\tfont-weight: 300;\n",
    "# font-normal\tfont-weight: 400;\n",
    "# \n",
    "# font-semibold\tfont-weight: 600;\n",
    "# font-bold\tfont-weight: 700;\n",
    "# font-extrabold\tfont-weight: 800;\n",
    "# font-black    \n",
    "    \n",
    "    \n",
    "# font-medium text-sm\n",
    "    def __str__(self):\n",
    "        return self.value"
   ]
  },
  {
   "cell_type": "markdown",
   "metadata": {},
   "source": [
    "### `T` (Transform)"
   ]
  },
  {
   "cell_type": "markdown",
   "metadata": {},
   "source": [
    "Transform enums all will end with `T`.  These are designed to make useful class groups discoverable in python.\n",
    "\n",
    "Each option should be a group of enums that are useful in many cases.  For example `muted_sm` is very commonly used as a subheader below a card title and looks great.  These should be high level things that users can generally just pick from to have a decent default without much thought."
   ]
  },
  {
   "cell_type": "code",
   "execution_count": null,
   "metadata": {},
   "outputs": [],
   "source": [
    "#| export\n",
    "class TextT(Enum):\n",
    "    muted_xs = TextB.sz_xsmall, TextB.cl_muted \n",
    "    muted_sm = TextB.sz_small, TextB.cl_muted # Text below card headings\n",
    "    muted_med = TextB.sz_medium, TextB.cl_muted \n",
    "    muted_lg = TextB.sz_large, TextB.cl_muted \n",
    "    medium_sm = TextB.sz_small, TextB.wt_medium\n",
    "    medium_xs = TextB.sz_xsmall, TextB.wt_medium\n",
    "\n",
    "    def __str__(self):\n",
    "        if is_listy(self.value): return ' '.join(map(str,self.value))\n",
    "        return self.value"
   ]
  },
  {
   "cell_type": "code",
   "execution_count": null,
   "metadata": {},
   "outputs": [
    {
     "data": {
      "text/plain": [
       "<enum 'TextT'>"
      ]
     },
     "execution_count": null,
     "metadata": {},
     "output_type": "execute_result"
    }
   ],
   "source": [
    "type(TextT.muted_sm)"
   ]
  },
  {
   "cell_type": "markdown",
   "metadata": {},
   "source": [
    "## Base Components"
   ]
  },
  {
   "cell_type": "markdown",
   "metadata": {},
   "source": [
    "### Icons and Avatars"
   ]
  },
  {
   "cell_type": "code",
   "execution_count": null,
   "metadata": {},
   "outputs": [],
   "source": [
    "#| export\n",
    "def UkIcon(icon, ratio=1,cls=()):\n",
    "    return Span(uk_icon=f\"icon: {icon}; ratio: {ratio}\",cls=stringify(cls))"
   ]
  },
  {
   "cell_type": "code",
   "execution_count": null,
   "metadata": {},
   "outputs": [],
   "source": [
    "#| export\n",
    "def DiceBearAvatar(seed_name, h, w):\n",
    "    url = 'https://api.dicebear.com/8.x/lorelei/svg?seed='\n",
    "    return Span(cls=f\"relative flex h-{h} w-{w} shrink-0 overflow-hidden rounded-full bg-accent\")(\n",
    "            Img(cls=\"aspect-square h-full w-full\", alt=\"Avatar\", src=f\"{url}{seed_name}\"))"
   ]
  },
  {
   "cell_type": "markdown",
   "metadata": {},
   "source": [
    "### Spacing "
   ]
  },
  {
   "cell_type": "code",
   "execution_count": null,
   "metadata": {},
   "outputs": [],
   "source": [
    "#|export\n",
    "class FlexT(VEnum):\n",
    "    block       = ''\n",
    "    inline      = 'inline'\n",
    "    #horizontal\n",
    "    left        = 'left'\n",
    "    center      = 'center'\n",
    "    right       = 'right'\n",
    "    between     = 'between'\n",
    "    around      = 'around'\n",
    "    #vertical\n",
    "    stretch     = 'stretch'\n",
    "    top         = 'top'\n",
    "    middle      = 'middle'\n",
    "    botton      = 'bottom'\n",
    "    #direction\n",
    "    row         = 'row'\n",
    "    row_reverse = 'row-reverse'\n",
    "    col         = 'col'\n",
    "    col_reverse = 'col-reverse'\n",
    "    #wrap\n",
    "    nowrap       = 'nowrap'\n",
    "    wrap         = 'wrap'\n",
    "    wrap_reverse = 'wrap-reverse'"
   ]
  },
  {
   "cell_type": "code",
   "execution_count": null,
   "metadata": {},
   "outputs": [
    {
     "ename": "NameError",
     "evalue": "name 'EnumType' is not defined",
     "output_type": "error",
     "traceback": [
      "\u001b[0;31m---------------------------------------------------------------------------\u001b[0m",
      "\u001b[0;31mNameError\u001b[0m                                 Traceback (most recent call last)",
      "Cell \u001b[0;32mIn[18], line 1\u001b[0m\n\u001b[0;32m----> 1\u001b[0m Div(\u001b[38;5;28mcls\u001b[39m\u001b[38;5;241m=\u001b[39m\u001b[43mFlexT\u001b[49m\u001b[38;5;241;43m.\u001b[39;49m\u001b[43mblock\u001b[49m\u001b[38;5;241;43m+\u001b[39;49m\u001b[43mFlexT\u001b[49m\u001b[38;5;241;43m.\u001b[39;49m\u001b[43mleft\u001b[49m\u001b[38;5;241m+\u001b[39mFlexT\u001b[38;5;241m.\u001b[39mmiddle\u001b[38;5;241m+\u001b[39m\u001b[38;5;124m'\u001b[39m\u001b[38;5;124m some_cls\u001b[39m\u001b[38;5;124m'\u001b[39m)\n",
      "Cell \u001b[0;32mIn[9], line 5\u001b[0m, in \u001b[0;36mVEnum.__add__\u001b[0;34m(self, other)\u001b[0m\n\u001b[1;32m      3\u001b[0m \u001b[38;5;28;01mdef\u001b[39;00m \u001b[38;5;21m__add__\u001b[39m(\u001b[38;5;28mself\u001b[39m, other):\n\u001b[1;32m      4\u001b[0m     \u001b[38;5;124m\"\u001b[39m\u001b[38;5;124mAdd other enums, listy, or strings\u001b[39m\u001b[38;5;124m\"\u001b[39m\n\u001b[0;32m----> 5\u001b[0m     \u001b[38;5;28;01mreturn\u001b[39;00m \u001b[43mstringify\u001b[49m\u001b[43m(\u001b[49m\u001b[43m(\u001b[49m\u001b[38;5;28;43mself\u001b[39;49m\u001b[43m,\u001b[49m\u001b[43m \u001b[49m\u001b[43mother\u001b[49m\u001b[43m)\u001b[49m\u001b[43m)\u001b[49m\n",
      "Cell \u001b[0;32mIn[6], line 6\u001b[0m, in \u001b[0;36mstringify\u001b[0;34m(o)\u001b[0m\n\u001b[1;32m      3\u001b[0m \u001b[38;5;28;01mdef\u001b[39;00m \u001b[38;5;21mstringify\u001b[39m(o \u001b[38;5;66;03m# String, Tuple, or Enum options we want stringified\u001b[39;00m\n\u001b[1;32m      4\u001b[0m              ): \u001b[38;5;66;03m# String that can be passed FT comp args (such as `cls=`)\u001b[39;00m\n\u001b[1;32m      5\u001b[0m     \u001b[38;5;124m\"\u001b[39m\u001b[38;5;124mConverts input types into strings that can be passed to FT components\u001b[39m\u001b[38;5;124m\"\u001b[39m  \n\u001b[0;32m----> 6\u001b[0m     \u001b[38;5;28;01mif\u001b[39;00m is_listy(o): \u001b[38;5;28;01mreturn\u001b[39;00m \u001b[38;5;124;43m'\u001b[39;49m\u001b[38;5;124;43m \u001b[39;49m\u001b[38;5;124;43m'\u001b[39;49m\u001b[38;5;241;43m.\u001b[39;49m\u001b[43mjoin\u001b[49m\u001b[43m(\u001b[49m\u001b[38;5;28;43mmap\u001b[39;49m\u001b[43m(\u001b[49m\u001b[38;5;28;43mstr\u001b[39;49m\u001b[43m,\u001b[49m\u001b[43mo\u001b[49m\u001b[43m)\u001b[49m\u001b[43m)\u001b[49m \u001b[38;5;28;01mif\u001b[39;00m o \u001b[38;5;28;01melse\u001b[39;00m \u001b[38;5;124m\"\u001b[39m\u001b[38;5;124m\"\u001b[39m\n\u001b[1;32m      7\u001b[0m     \u001b[38;5;28;01mreturn\u001b[39;00m o\u001b[38;5;241m.\u001b[39m\u001b[38;5;21m__str__\u001b[39m()\n",
      "Cell \u001b[0;32mIn[9], line 14\u001b[0m, in \u001b[0;36mVEnum.__str__\u001b[0;34m(self)\u001b[0m\n\u001b[1;32m     12\u001b[0m \u001b[38;5;124m\"\u001b[39m\u001b[38;5;124mStringifies with uk-\u001b[39m\u001b[38;5;132;01m{attr}\u001b[39;00m\u001b[38;5;124m-\u001b[39m\u001b[38;5;132;01m{value}\u001b[39;00m\u001b[38;5;124m format\u001b[39m\u001b[38;5;124m\"\u001b[39m\n\u001b[1;32m     13\u001b[0m base \u001b[38;5;241m=\u001b[39m \u001b[38;5;28mself\u001b[39m\u001b[38;5;241m.\u001b[39m\u001b[38;5;18m__class__\u001b[39m\u001b[38;5;241m.\u001b[39m\u001b[38;5;18m__name__\u001b[39m       \n\u001b[0;32m---> 14\u001b[0m \u001b[38;5;28;01mif\u001b[39;00m \u001b[38;5;28misinstance\u001b[39m(\u001b[38;5;28mself\u001b[39m\u001b[38;5;241m.\u001b[39m\u001b[38;5;18m__class__\u001b[39m, \u001b[43mEnumType\u001b[49m):\n\u001b[1;32m     15\u001b[0m     base \u001b[38;5;241m=\u001b[39m base\u001b[38;5;241m.\u001b[39mlstrip(\u001b[38;5;124m'\u001b[39m\u001b[38;5;124mUk\u001b[39m\u001b[38;5;124m'\u001b[39m)\u001b[38;5;241m.\u001b[39mrstrip(\u001b[38;5;124m'\u001b[39m\u001b[38;5;124mT\u001b[39m\u001b[38;5;124m'\u001b[39m)\n\u001b[1;32m     16\u001b[0m \u001b[38;5;28;01mreturn\u001b[39;00m \u001b[38;5;124mf\u001b[39m\u001b[38;5;124m\"\u001b[39m\u001b[38;5;124muk-\u001b[39m\u001b[38;5;132;01m{\u001b[39;00mbase\u001b[38;5;241m.\u001b[39mlower()\u001b[38;5;132;01m}\u001b[39;00m\u001b[38;5;124m-\u001b[39m\u001b[38;5;132;01m{\u001b[39;00m\u001b[38;5;28mself\u001b[39m\u001b[38;5;241m.\u001b[39mvalue\u001b[38;5;132;01m}\u001b[39;00m\u001b[38;5;124m\"\u001b[39m\u001b[38;5;241m.\u001b[39mstrip(\u001b[38;5;124m'\u001b[39m\u001b[38;5;124m-\u001b[39m\u001b[38;5;124m'\u001b[39m)\n",
      "\u001b[0;31mNameError\u001b[0m: name 'EnumType' is not defined"
     ]
    }
   ],
   "source": [
    "Div(cls=FlexT.block+FlexT.left+FlexT.middle+' some_cls')"
   ]
  },
  {
   "cell_type": "code",
   "execution_count": null,
   "metadata": {},
   "outputs": [],
   "source": [
    "#|export   \n",
    "class GridT(VEnum):\n",
    "    small = 'small'\n",
    "    medium   = 'medium'\n",
    "    large   = 'large'\n",
    "    none  = 'collapse'"
   ]
  },
  {
   "cell_type": "code",
   "execution_count": null,
   "metadata": {},
   "outputs": [],
   "source": [
    "#|export\n",
    "def Grid(*c, cols=3, cls=(), **kwargs):\n",
    "    cls = stringify(cls)\n",
    "    return Div(cls=f'grid grid-cols-{cols} '+cls, **kwargs)(*c)"
   ]
  },
  {
   "cell_type": "code",
   "execution_count": null,
   "metadata": {},
   "outputs": [],
   "source": [
    "#| export\n",
    "def ResponsiveGrid(*c, sm=1, md=2, lg=3, xl=4, gap=2, cls='', **kwargs):\n",
    "    return Div(cls=f'grid grid-cols-{sm} md:grid-cols-{md} lg:grid-cols-{lg} xl:grid-cols-{xl} gap-{gap} ' + stringify(cls), **kwargs)(*c)"
   ]
  },
  {
   "cell_type": "code",
   "execution_count": null,
   "metadata": {},
   "outputs": [],
   "source": [
    "#| export\n",
    "def FullySpacedDiv(*c,wrap_tag=None, cls='', **kwargs):\n",
    "    wrap_fn = ifnone(wrap_tag, noop)\n",
    "    cls = stringify(cls)\n",
    "    return Div(cls=(FlexT.block,FlexT.between,FlexT.middle,'uk-width-1-1',cls), **kwargs)(*(map(wrap_fn,c)))"
   ]
  },
  {
   "cell_type": "code",
   "execution_count": null,
   "metadata": {},
   "outputs": [],
   "source": [
    "#| export\n",
    "def CenteredDiv(*c,cls=(), **kwargs):\n",
    "    cls=stringify(cls)\n",
    "    return Div(cls=(FlexT.block,FlexT.col,FlexT.middle,FlexT.center,cls),**kwargs)(*c)"
   ]
  },
  {
   "cell_type": "code",
   "execution_count": null,
   "metadata": {},
   "outputs": [],
   "source": [
    "#| export\n",
    "def LAlignedDiv(*c, cls='', **kwargs):\n",
    "    cls=stringify(cls)\n",
    "    return Div(cls=(FlexT.block,FlexT.left,FlexT.middle,cls), **kwargs)(*c)\n",
    "#     return Div(cls=f'flex items-center space-x-{gap} '+stringify(cls), **kwargs)(*c)"
   ]
  },
  {
   "cell_type": "code",
   "execution_count": null,
   "metadata": {},
   "outputs": [],
   "source": [
    "#| export\n",
    "def RAlignedDiv(*c, cls='', **kwargs):\n",
    "    cls=stringify(cls)\n",
    "    return Div(cls=(FlexT.block,FlexT.right,FlexT.middle,cls), **kwargs)(*c)\n",
    "#     return Div(cls=f'flex items-center justify-end space-x-{gap} '+stringify(cls), **kwargs)(*c)"
   ]
  },
  {
   "cell_type": "code",
   "execution_count": null,
   "metadata": {},
   "outputs": [],
   "source": [
    "#| export\n",
    "def VStackedDiv(*c, cls='', **kwargs):\n",
    "    cls=stringify(cls)\n",
    "    return Div(cls=(FlexT.block,FlexT.col,FlexT.middle,cls), **kwargs)(*c)\n",
    "#     return Div(cls=f'flex flex-col space-y-{gap} ' + stringify(cls), **kwargs)(*c)"
   ]
  },
  {
   "cell_type": "code",
   "execution_count": null,
   "metadata": {},
   "outputs": [],
   "source": [
    "#| export\n",
    "def HStackedDiv(*c, cls='', **kwargs):\n",
    "    cls=stringify(cls)\n",
    "    return Div(cls=(FlexT.block,FlexT.row,FlexT.middle,cls), **kwargs)(*c)\n",
    "#     return Div(cls=f'flex flex-row space-x-{gap} ' + stringify(cls), **kwargs)(*c)"
   ]
  },
  {
   "cell_type": "code",
   "execution_count": null,
   "metadata": {},
   "outputs": [],
   "source": [
    "#| export\n",
    "def SpaceBetweenDiv(*c, cls='', **kwargs):\n",
    "    cls = stringify(cls)\n",
    "    return Div(cls=(FlexT.block,FlexT.between,FlexT.middle,cls), **kwargs)(*c)\n",
    "#     return Div(cls='flex items-center justify-between ' + cls, **kwargs)(*c)"
   ]
  },
  {
   "cell_type": "markdown",
   "metadata": {},
   "source": [
    "### Inputs"
   ]
  },
  {
   "cell_type": "code",
   "execution_count": null,
   "metadata": {},
   "outputs": [],
   "source": [
    "#| export\n",
    "def UkGenericInput(input_fn: FT, # FT Components that generates a user input (e.g. `TextArea`)\n",
    "                    label:str|FT=(), # String or FT component that goes in `Label`\n",
    "                    lbl_cls:str|Enum=(), # Additional classes that goes in `Label`\n",
    "                    inp_cls:str|Enum=(), # Additional classes that go in user input (e.g. `TextArea`)\n",
    "                    cls:str|Enum=('space-y-2',), # Div cls\n",
    "#                     id: str=\"\", # ID of the user input (e.g. `TextArea`)\n",
    "                   **kwargs # Passed to `input_fn` (e.g. ` TextArea`)\n",
    "                  ) -> FT: # FT component in structure `(Div(label,input))`\n",
    "    \"`Div(Label,Input)` component with Uk styling injected appropriately. Generally you should higher level API, such as `UKTextArea` which is created for you in this library\"\n",
    "    lbl_cls, inp_cls, cls = map(stringify,(lbl_cls, inp_cls, cls))\n",
    "    if label:  label = Label(cls='uk-form-label '+lbl_cls)(label)\n",
    "    if label and id: label.attrs['for'] = id\n",
    "    res = input_fn(**kwargs)\n",
    "    if inp_cls: res.attrs['class'] += inp_cls\n",
    "    return Div(cls=cls)(label, res)"
   ]
  },
  {
   "cell_type": "code",
   "execution_count": null,
   "metadata": {},
   "outputs": [],
   "source": [
    "#| export\n",
    "UkInput =     partial(UkGenericInput, partial(Input, cls='uk-input'))\n",
    "UkSwitch =    partial(UkGenericInput, partial(CheckboxX,    cls='uk-toggle-switch uk-toggle-switch-primary')) \n",
    "UkTextArea =  partial(UkGenericInput, partial(Textarea,     cls='uk-textarea'))\n",
    "UkFormLabel = partial(UkGenericInput, partial(Uk_input_tag, cls='uk-form-label'))\n"
   ]
  },
  {
   "cell_type": "code",
   "execution_count": null,
   "metadata": {},
   "outputs": [],
   "source": [
    "UkInput(\"MyLabel\",lbl_cls=TextT.muted_sm, inp_cls='font-bold',  id='myid')"
   ]
  },
  {
   "cell_type": "code",
   "execution_count": null,
   "metadata": {},
   "outputs": [],
   "source": [
    "#| export\n",
    "def Options(*c, # Content for an `Option`\n",
    "            selected_idx:int=None, # Index location of selected `Option`\n",
    "            disabled_idxs:set=None\n",
    "           ):\n",
    "    \"Generates list of `Option`s with the proper `selected_idx`\"\n",
    "    return [Option(o,selected=i==selected_idx, disabled=disabled_idxs and i in disabled_idxs) for i,o in enumerate(c)]"
   ]
  },
  {
   "cell_type": "code",
   "execution_count": null,
   "metadata": {},
   "outputs": [],
   "source": [
    "#| export\n",
    "def UkSelect(*options,\n",
    "             label=(),\n",
    "             lbl_cls=(),\n",
    "             inp_cls=(),\n",
    "             cls=('space-y-2',),\n",
    "             id=\"\",\n",
    "             name=\"\",\n",
    "             placeholder=\"\",\n",
    "             searchable=False,\n",
    "             **kwargs):\n",
    "    lbl_cls, inp_cls, cls = map(stringify, (lbl_cls, inp_cls, cls))\n",
    "    if label:\n",
    "        lbl = Label(cls=f'uk-form-label {lbl_cls}', fr=id)(label) if id else Label(cls=f'uk-form-label {lbl_cls}')(label)\n",
    "    select = Uk_select(cls=inp_cls, uk_cloak=True, id=id, name=name, placeholder=placeholder, searchable=searchable, **kwargs)\n",
    "    select = select(*options)\n",
    "    return Div(cls=cls)(lbl, select) if label else Div(cls=cls)(select)"
   ]
  },
  {
   "cell_type": "code",
   "execution_count": null,
   "metadata": {},
   "outputs": [],
   "source": [
    "#| export\n",
    "class UkButtonT(VEnum):\n",
    "    default = 'default'\n",
    "    primary = 'primary'\n",
    "    secondary = 'secondary'\n",
    "    danger = 'danger'\n",
    "    ghost = 'ghost'\n",
    "    text = 'text'\n",
    "    link = 'link'"
   ]
  },
  {
   "cell_type": "code",
   "execution_count": null,
   "metadata": {},
   "outputs": [],
   "source": [
    "#| export\n",
    "def _UkDropdownButtonOptions(opt_grps, opt_hdrs=None):\n",
    "    res = []\n",
    "    for g,h in zip_longest(opt_grps, tuplify(opt_hdrs)):\n",
    "        if h: res.append(Li(cls=\"uk-nav-header\")(h if isinstance(h,FT) else Div(h)))\n",
    "        if isinstance(g,(list,tuple)): res += list(map(Li, g))\n",
    "        else: res.append(Li(g))\n",
    "    return res\n",
    "\n",
    "def UkDropdownButton(\n",
    "    *opt_grp,        # List of options to be displayed in the dropdown\n",
    "    opt_hdrs=None,  # List of headers for each option group, or None\n",
    "    label=None,     # String, FT component, or None for the `Button`\n",
    "    btn_cls=UkButtonT.default,  # Button class(es)\n",
    "    cls=(),         # Parent div class\n",
    "    dd_cls=(),      # Class that goes on the dropdown container\n",
    "    icon='triangle-down',  # Icon to use for the dropdown\n",
    "    icon_cls='',    # Additional classes for the icon\n",
    "    icon_position='right'  # Position of the icon: 'left' or 'right'\n",
    "    ):\n",
    "    dd_cls, btn_cls, cls, icon_cls = map(stringify, (dd_cls, btn_cls, cls, icon_cls))\n",
    "    icon_component = UkIcon(icon, cls=icon_cls) if icon else None\n",
    "    btn_content = [] if label is None else [label]\n",
    "    if icon_component: btn_content.insert(0 if icon_position == 'left' else len(btn_content), icon_component)\n",
    "    btn = Button(type='button', cls='uk-button ' + btn_cls)(*btn_content)\n",
    "    dd = Div(uk_dropdown='mode: click; pos: bottom-right', cls='uk-dropdown uk-drop ' + dd_cls)(\n",
    "        Ul(cls='uk-dropdown-nav')(*_UkDropdownButtonOptions(opt_grp, opt_hdrs)))\n",
    "    return Div(cls=cls)(Div(cls='flex items-center space-x-4')(btn, dd))"
   ]
  },
  {
   "cell_type": "markdown",
   "metadata": {},
   "source": [
    "### Other"
   ]
  },
  {
   "cell_type": "code",
   "execution_count": null,
   "metadata": {},
   "outputs": [],
   "source": [
    "#| export\n",
    "def UkButton(*c, \n",
    "            cls=UkButtonT.default, # Use UkButtonT or styles \n",
    "            **kwargs):    \n",
    "    return Button(type='button', cls='uk-button ' + stringify(cls), **kwargs)(*c)"
   ]
  },
  {
   "cell_type": "code",
   "execution_count": null,
   "metadata": {},
   "outputs": [],
   "source": [
    "#| export\n",
    "def UkGenericComponent(component_fn, *c, cls=(), **kwargs):\n",
    "    res = component_fn(cls=cls, **kwargs)(*c)\n",
    "    return res\n",
    "\n",
    "def UkH1(*c, cls=(), **kwargs): return UkGenericComponent(H1, *c, cls='uk-h1 '+stringify(cls), **kwargs)\n",
    "def UkH2(*c, cls=(), **kwargs): return UkGenericComponent(H2, *c, cls='uk-h2 '+stringify(cls), **kwargs)\n",
    "def UkH3(*c, cls=(), **kwargs): return UkGenericComponent(H3, *c, cls='uk-h3 '+stringify(cls), **kwargs)\n",
    "def UkH4(*c, cls=(), **kwargs): return UkGenericComponent(H4, *c, cls='uk-h4 '+stringify(cls), **kwargs)\n",
    "def UkH5(*c, cls=(), **kwargs): return UkGenericComponent(H5, *c, cls='uk-h5 '+stringify(cls), **kwargs)\n",
    "def UkH6(*c, cls=(), **kwargs): return UkGenericComponent(H6, *c, cls='uk-h6 '+stringify(cls), **kwargs)\n"
   ]
  },
  {
   "cell_type": "code",
   "execution_count": null,
   "metadata": {},
   "outputs": [],
   "source": [
    "UkH1(\"My Uk styled header\"), UkH1('My Uk styled header',cls='another-class')"
   ]
  },
  {
   "cell_type": "code",
   "execution_count": null,
   "metadata": {},
   "outputs": [],
   "source": [
    "#| export\n",
    "def UkHSplit(*c, cls=(), line_cls=(), text_cls=()):\n",
    "    cls, line_cls, text_cls = map(stringify,(cls, line_cls, text_cls))\n",
    "    return Div(cls='relative ' + cls)(\n",
    "        Div(cls=\"absolute inset-0 flex items-center \" + line_cls)(Span(cls=\"w-full border-t border-border\")),\n",
    "        Div(cls=\"relative flex justify-center \" + text_cls)(Span(cls=\"bg-background px-2 \")(*c)))\n",
    "\n",
    "def UkHLine(lwidth=2, y_space=4): return Div(cls=f\"my-{y_space} h-[{lwidth}px] w-full bg-secondary\")"
   ]
  },
  {
   "cell_type": "code",
   "execution_count": null,
   "metadata": {},
   "outputs": [],
   "source": [
    "#| export\n",
    "def UkNavDivider(): return Li(cls=\"uk-nav-divider\")"
   ]
  },
  {
   "cell_type": "markdown",
   "metadata": {},
   "source": [
    "## Higher order components"
   ]
  },
  {
   "cell_type": "markdown",
   "metadata": {},
   "source": [
    "### Navigation"
   ]
  },
  {
   "cell_type": "markdown",
   "metadata": {},
   "source": [
    "#### Navbar"
   ]
  },
  {
   "cell_type": "code",
   "execution_count": null,
   "metadata": {},
   "outputs": [],
   "source": [
    "#| export\n",
    "def UkNavbarDropdown(*c, label, href='#', cls='', has_header=False, **kwargs):\n",
    "    fn = lambda x: Li(item, cls='uk-drop-close', href='#demo', uk_toggle=True)\n",
    "    flattened = []\n",
    "    for i, item in enumerate(c):\n",
    "        if i > 0: flattened.append(Li(cls=\"uk-nav-divider\"))\n",
    "        if isinstance(item, (list,tuple)): flattened.extend(map(Li, item))\n",
    "        else: flattened.append(Li(item, cls=\"uk-nav-header\" if i == 0 and has_header else None, uk_toggle=True))\n",
    "    return (Li(cls=cls, **kwargs)(\n",
    "                A(label, cls='uk-drop-close', href='#', uk_toggle=True), \n",
    "                Div(cls='uk-navbar-dropdown', uk_dropdown=\"mode: click; pos: bottom-left\")(Ul(cls='uk-nav uk-dropdown-nav')(*flattened))))"
   ]
  },
  {
   "cell_type": "code",
   "execution_count": null,
   "metadata": {},
   "outputs": [],
   "source": [
    "#| export\n",
    "def _NavBarSide(n, s):\n",
    "    def add_class(item):\n",
    "        if isinstance(item, str): return Li(cls='uk-navbar-item')(item)\n",
    "        else: item.attrs['class'] = f\"{item.attrs.get('class', '')} uk-navbar-item\".strip()\n",
    "        return item\n",
    "    return Div(cls=f'uk-navbar-{s}')(Ul(cls='uk-navbar-nav')(*map(add_class, tuplify(n))))"
   ]
  },
  {
   "cell_type": "code",
   "execution_count": null,
   "metadata": {},
   "outputs": [],
   "source": [
    "#| export\n",
    "def UkNavbar(lnav: Sequence[Union[str, FT]]=None, \n",
    "             rnav: Sequence[Union[str, FT]]=None, \n",
    "             cls='',\n",
    "             **kwargs\n",
    "            ) -> FT:\n",
    "    return Div(cls='uk-navbar-container uk-width-1-1 relative z-10 '+ stringify(cls), uk_navbar=True, **kwargs)(\n",
    "             _NavBarSide(lnav,'left') if lnav else '',\n",
    "             _NavBarSide(rnav,'right') if rnav else '')"
   ]
  },
  {
   "cell_type": "markdown",
   "metadata": {},
   "source": [
    "#### Navtab"
   ]
  },
  {
   "cell_type": "code",
   "execution_count": null,
   "metadata": {},
   "outputs": [],
   "source": [
    "#| export\n",
    "def NavTab(text, active=False):\n",
    "    return Li(cls=\"uk-active\" if active else \" \")(A(text, href=\"#demo\", uk_toggle=True))\n",
    "\n",
    "def UkTab(*items, maxw=96, cls='', **kwargs):\n",
    "    cls = stringify(cls)\n",
    "    return Ul(cls=f\"uk-tab-alt max-w-{maxw} \"+cls,**kwargs)(*[NavTab(item, active=i==0) for i, item in enumerate(items)])"
   ]
  },
  {
   "cell_type": "markdown",
   "metadata": {},
   "source": [
    "#### Sidebar"
   ]
  },
  {
   "cell_type": "code",
   "execution_count": null,
   "metadata": {},
   "outputs": [],
   "source": [
    "#| export\n",
    "\n",
    "def UkSidebarItem(item, is_header=False): \n",
    "    return item if is_header else A(role='button')(item)\n",
    "\n",
    "def UkSidebarUl(*lis, cls='space-y-2', **kwargs): \n",
    "    return Ul(cls=f\"uk-nav uk-nav-secondary \" + stringify(cls), **kwargs)(*map(Li,lis))\n",
    "\n",
    "def UkSidebarSection(items, header=None, cls='', **kwargs):\n",
    "    section = []\n",
    "    if header: section.append(header)\n",
    "    section += [UkSidebarItem(item) for item in items]\n",
    "    return UkSidebarUl(*section, cls=stringify(cls), **kwargs)\n",
    "\n",
    "def UkSidebar(sections, headers=None, outer_margin=4, inner_margin=4, cls=(), **kwargs):\n",
    "    assert headers is None or len(headers)==len(sections)\n",
    "    sidebar_content = map(lambda s_h: UkSidebarSection(*s_h, **kwargs), zip_longest(sections, tuplify(headers)))\n",
    "    return Div(cls=f\"space-y-{inner_margin} p-{outer_margin} \" + stringify(cls))(*sidebar_content)"
   ]
  },
  {
   "cell_type": "markdown",
   "metadata": {},
   "source": [
    "### Cards"
   ]
  },
  {
   "cell_type": "code",
   "execution_count": null,
   "metadata": {},
   "outputs": [],
   "source": [
    "#|export\n",
    "def Card(*c, # Components that go in the body\n",
    "        header=None, # Components that go in the header\n",
    "        footer=None,  # Components that go in the footer\n",
    "        body_cls='space-y-6', # classes for the body\n",
    "        header_cls=(), # classes for the header\n",
    "        footer_cls=(), # classes for the footer\n",
    "        cls=(), #class for outermost component\n",
    "        **kwargs # classes that for the card itself\n",
    "        ):\n",
    "    header_cls, footer_cls, body_cls, cls = map(stringify, (header_cls, footer_cls, body_cls, cls))\n",
    "    res = []\n",
    "    if header: res += [Div(cls='uk-card-header ' + header_cls)(header),]\n",
    "    res += [Div(cls='uk-card-body ' + body_cls)(*c),]\n",
    "    if footer: res += [Div(cls='uk-card-footer ' + footer_cls)(footer),]\n",
    "    return Div(cls='uk-card '+cls, **kwargs)(*res)"
   ]
  },
  {
   "cell_type": "markdown",
   "metadata": {},
   "source": [
    "### Modals"
   ]
  },
  {
   "cell_type": "code",
   "execution_count": null,
   "metadata": {},
   "outputs": [],
   "source": [
    "#| export\n",
    "def UkModalTitle(*c, cls=()): return Div(cls='uk-modal-title ' + stringify(cls))(*c)\n",
    "\n",
    "def Modal(*c,\n",
    "        header=None, # Components that go in the header\n",
    "        footer=None,  # Components that go in the footer\n",
    "        body_cls='space-y-6', # classes for the body\n",
    "        header_cls='p-6', # classes for the header\n",
    "        footer_cls=(), # classes for the footer\n",
    "        cls=(), #class for outermost component\n",
    "        **kwargs # classes that for the card itself\n",
    "        ):\n",
    "    header_cls, footer_cls, body_cls, cls = map(stringify, (header_cls, footer_cls, body_cls, cls))\n",
    "    res = []\n",
    "    if header: res += [Div(cls='uk-modal-header ' + header_cls)(header),]\n",
    "    res += [Div(cls='uk-modal-body uk-modal-dialog ' + body_cls)(*c),]\n",
    "    if footer: res += [Div(cls='uk-modal-footer ' + footer_cls)(footer),]\n",
    "    return Div(cls='uk-modal uk-modal-container' + cls, uk_modal=True, **kwargs)(*res)\n"
   ]
  },
  {
   "cell_type": "markdown",
   "metadata": {},
   "source": [
    "### Tables"
   ]
  },
  {
   "cell_type": "code",
   "execution_count": null,
   "metadata": {},
   "outputs": [],
   "source": [
    "#| export\n",
    "def _default_cell(col, row): return Td(row[col], cls='p-2')"
   ]
  },
  {
   "cell_type": "code",
   "execution_count": null,
   "metadata": {},
   "outputs": [],
   "source": [
    "#| export\n",
    "def TableHeader(columns, header_render=None):\n",
    "    rndr = header_render or Th(cls='p-2')\n",
    "    return Tr(*map(rndr, columns))"
   ]
  },
  {
   "cell_type": "code",
   "execution_count": null,
   "metadata": {},
   "outputs": [],
   "source": [
    "#| export\n",
    "def TableRow(row, columns, cell_render=None):\n",
    "    rndr = cell_render or _default_cell\n",
    "    return Tr(*[rndr(col, row) for col in columns])"
   ]
  },
  {
   "cell_type": "code",
   "execution_count": null,
   "metadata": {},
   "outputs": [],
   "source": [
    "#| export\n",
    "def UkTable(columns, data, *args, cls=(), footer=None, cell_render=None, header_render=None, **kwargs):\n",
    "    table_cls = 'uk-table uk-table-middle uk-table-divider uk-table-hover uk-table-small ' + stringify(cls)\n",
    "    head = Thead(TableHeader(columns, header_render))\n",
    "    body = Tbody(*[TableRow(d, columns, cell_render) for d in data])\n",
    "    if footer: table_content.append(Tfoot(footer))\n",
    "    return Table(cls=table_cls, *args, **kwargs)(*[head,body])"
   ]
  },
  {
   "cell_type": "markdown",
   "metadata": {},
   "source": [
    "### Forms"
   ]
  },
  {
   "cell_type": "code",
   "execution_count": null,
   "metadata": {},
   "outputs": [],
   "source": [
    "#| export\n",
    "\n",
    "def UkFormSection(title, description, *c, button_txt='Update', outer_margin=6, inner_margin=6):\n",
    "    return Div(cls=f'space-y-{inner_margin} py-{outer_margin}')(\n",
    "        Div(UkH3(title), P(description, cls=TextT.medium_sm)),\n",
    "        UkHSplit(), *c,\n",
    "        Div(UkButton(button_txt, cls=UkButtonT.primary)) if button_txt else None\n",
    "    )"
   ]
  },
  {
   "cell_type": "code",
   "execution_count": null,
   "metadata": {},
   "outputs": [],
   "source": [
    "#| hide\n",
    "\n",
    "import nbdev; nbdev.nbdev_export()"
   ]
  }
 ],
 "metadata": {
  "kernelspec": {
   "display_name": "python3",
   "language": "python",
   "name": "python3"
  }
 },
 "nbformat": 4,
 "nbformat_minor": 4
}
