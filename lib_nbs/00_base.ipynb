{
 "cells": [
  {
   "cell_type": "markdown",
   "metadata": {},
   "source": [
    "# Core\n",
    "\n",
    "> The building blocks to the UI"
   ]
  },
  {
   "cell_type": "markdown",
   "metadata": {},
   "source": [
    "## Imports"
   ]
  },
  {
   "cell_type": "markdown",
   "metadata": {},
   "source": [
    "\n"
   ]
  },
  {
   "cell_type": "code",
   "execution_count": null,
   "metadata": {},
   "outputs": [],
   "source": [
    "#| default_exp core"
   ]
  },
  {
   "cell_type": "code",
   "execution_count": null,
   "metadata": {},
   "outputs": [],
   "source": [
    "#| hide\n",
    "#| export\n",
    "from fasthtml.common import *\n",
    "from fasthtml.svg import Svg"
   ]
  },
  {
   "cell_type": "code",
   "execution_count": null,
   "metadata": {},
   "outputs": [],
   "source": [
    "from nbdev.showdoc import show_doc\n",
    "from IPython.display import HTML"
   ]
  },
  {
   "cell_type": "markdown",
   "metadata": {},
   "source": [
    "## Utils"
   ]
  },
  {
   "cell_type": "code",
   "execution_count": null,
   "metadata": {},
   "outputs": [],
   "source": [
    "#| export\n",
    "# need a better name, stringify might be too general for what it does \n",
    "def stringify(o # String, Tuple, or Enum options we want stringified\n",
    "             ): # String that can be passed FT comp args (such as `cls=`)\n",
    "    \"Converts input types into strings that can be passed to FT components\"  \n",
    "    if is_listy(o): return ' '.join(map(str,o)) if o else \"\"\n",
    "    return o.__str__()"
   ]
  },
  {
   "cell_type": "code",
   "execution_count": null,
   "metadata": {},
   "outputs": [],
   "source": [
    "assert stringify('abc') == 'abc'\n",
    "assert stringify(('abc','def')) == 'abc def'\n",
    "assert 'uk-input ' + stringify(()) == 'uk-input '\n",
    "assert 'uk-input ' + stringify(\"\") == 'uk-input '"
   ]
  },
  {
   "cell_type": "markdown",
   "metadata": {},
   "source": [
    "### Components"
   ]
  },
  {
   "cell_type": "code",
   "execution_count": null,
   "metadata": {},
   "outputs": [],
   "source": [
    "#| export\n",
    "def UkGenericComponent(component_fn, *c, cls=(), **kwargs): return component_fn(cls=cls, **kwargs)(*c)"
   ]
  },
  {
   "cell_type": "code",
   "execution_count": null,
   "metadata": {},
   "outputs": [],
   "source": [
    "#| export\n",
    "def H1(*c, cls=(), **kwargs): return UkGenericComponent(H1, *c, cls=('uk-h1',stringify(cls)), **kwargs)\n",
    "def H2(*c, cls=(), **kwargs): return UkGenericComponent(H2, *c, cls=('uk-h2',stringify(cls)), **kwargs)\n",
    "def H3(*c, cls=(), **kwargs): return UkGenericComponent(H3, *c, cls=('uk-h3',stringify(cls)), **kwargs)\n",
    "def H4(*c, cls=(), **kwargs): return UkGenericComponent(H4, *c, cls=('uk-h4',stringify(cls)), **kwargs)\n",
    "def H5(*c, cls=(), **kwargs): return UkGenericComponent(H5, *c, cls=('uk-h5',stringify(cls)), **kwargs)\n",
    "def H6(*c, cls=(), **kwargs): return UkGenericComponent(H6, *c, cls=('uk-h6',stringify(cls)), **kwargs)"
   ]
  },
  {
   "cell_type": "code",
   "execution_count": null,
   "metadata": {},
   "outputs": [
    {
     "ename": "NameError",
     "evalue": "name 'VEnum' is not defined",
     "output_type": "error",
     "traceback": [
      "\u001b[0;31m---------------------------------------------------------------------------\u001b[0m",
      "\u001b[0;31mNameError\u001b[0m                                 Traceback (most recent call last)",
      "Cell \u001b[0;32mIn[11], line 2\u001b[0m\n\u001b[1;32m      1\u001b[0m \u001b[38;5;66;03m#| export\u001b[39;00m\n\u001b[0;32m----> 2\u001b[0m \u001b[38;5;28;01mclass\u001b[39;00m \u001b[38;5;21;01mButtonT\u001b[39;00m(\u001b[43mVEnum\u001b[49m):\n\u001b[1;32m      3\u001b[0m     default   \u001b[38;5;241m=\u001b[39m \u001b[38;5;124m'\u001b[39m\u001b[38;5;124mdefault\u001b[39m\u001b[38;5;124m'\u001b[39m\n\u001b[1;32m      4\u001b[0m     primary   \u001b[38;5;241m=\u001b[39m \u001b[38;5;124m'\u001b[39m\u001b[38;5;124mprimary\u001b[39m\u001b[38;5;124m'\u001b[39m\n",
      "\u001b[0;31mNameError\u001b[0m: name 'VEnum' is not defined"
     ]
    }
   ],
   "source": [
    "#| export\n",
    "class ButtonT(VEnum):\n",
    "    default   = 'default'\n",
    "    primary   = 'primary'\n",
    "    secondary = 'secondary'\n",
    "    danger    = 'danger'\n",
    "    ghost     = 'ghost'\n",
    "    text      = 'text'\n",
    "    link      = 'link'"
   ]
  },
  {
   "cell_type": "code",
   "execution_count": null,
   "metadata": {},
   "outputs": [
    {
     "ename": "NameError",
     "evalue": "name 'ButtonT' is not defined",
     "output_type": "error",
     "traceback": [
      "\u001b[0;31m---------------------------------------------------------------------------\u001b[0m",
      "\u001b[0;31mNameError\u001b[0m                                 Traceback (most recent call last)",
      "Cell \u001b[0;32mIn[12], line 3\u001b[0m\n\u001b[1;32m      1\u001b[0m \u001b[38;5;66;03m#| export\u001b[39;00m\n\u001b[1;32m      2\u001b[0m \u001b[38;5;28;01mdef\u001b[39;00m \u001b[38;5;21mButton\u001b[39m(\u001b[38;5;241m*\u001b[39mc, \u001b[38;5;66;03m# Content for the button\u001b[39;00m\n\u001b[0;32m----> 3\u001b[0m             \u001b[38;5;28mcls\u001b[39m\u001b[38;5;241m=\u001b[39m\u001b[43mButtonT\u001b[49m\u001b[38;5;241m.\u001b[39mdefault, \u001b[38;5;66;03m# Classes for the button\u001b[39;00m\n\u001b[1;32m      4\u001b[0m             \u001b[38;5;241m*\u001b[39m\u001b[38;5;241m*\u001b[39mkwargs \u001b[38;5;66;03m# Additional args for the button\u001b[39;00m\n\u001b[1;32m      5\u001b[0m             ):\n\u001b[1;32m      6\u001b[0m     \u001b[38;5;124m\"\u001b[39m\u001b[38;5;124mCreates a button with uk styling\u001b[39m\u001b[38;5;124m\"\u001b[39m\n\u001b[1;32m      7\u001b[0m     \u001b[38;5;28mcls\u001b[39m \u001b[38;5;241m=\u001b[39m stringify(\u001b[38;5;28mcls\u001b[39m)    \n",
      "\u001b[0;31mNameError\u001b[0m: name 'ButtonT' is not defined"
     ]
    }
   ],
   "source": [
    "#| export\n",
    "def Button(*c, # Content for the button\n",
    "            cls=ButtonT.default, # Classes for the button\n",
    "            **kwargs # Additional args for the button\n",
    "            ):\n",
    "    \"Creates a button with uk styling\"\n",
    "    cls = stringify(cls)    \n",
    "    return Button(type='button', cls=('uk-button',cls), **kwargs)(*c)"
   ]
  },
  {
   "cell_type": "code",
   "execution_count": null,
   "metadata": {},
   "outputs": [
    {
     "data": {
      "text/markdown": [
       "```html\n",
       "<button type=\"button\" class=\"uk-button uk-button-primary\">MyButton</button>\n",
       "```"
      ],
      "text/plain": [
       "button(('MyButton',),{'type': 'button', 'class': 'uk-button uk-button-primary'})"
      ]
     },
     "execution_count": null,
     "metadata": {},
     "output_type": "execute_result"
    }
   ],
   "source": [
    "UkButton('MyButton', cls=UkButtonT.primary)"
   ]
  },
  {
   "cell_type": "code",
   "execution_count": null,
   "metadata": {},
   "outputs": [],
   "source": [
    "#| export\n",
    "def UkIconButton(*c, sz='small', cls=(), **kwargs):\n",
    "    \"Creates an `IconButton` with uk styling\"\n",
    "    if sz not in ('small','medium','large'): raise ValueError(f\"Invalid size '{sz}'. Must be 'small', 'medium', or 'large'.\")\n",
    "    return Button(cls=f'uk-icon-button uk-icon-button-{sz} ' + stringify(cls), **kwargs)(*c)"
   ]
  },
  {
   "cell_type": "code",
   "execution_count": null,
   "metadata": {},
   "outputs": [
    {
     "data": {
      "text/markdown": [
       "```html\n",
       "<button class=\"uk-icon-button uk-icon-button-small \"><span uk-icon=\"icon: home; ratio: 1\"></span></button>\n",
       "```"
      ],
      "text/plain": [
       "button((span((),{'uk-icon': 'icon: home; ratio: 1', 'class': ''}),),{'class': 'uk-icon-button uk-icon-button-small '})"
      ]
     },
     "execution_count": null,
     "metadata": {},
     "output_type": "execute_result"
    }
   ],
   "source": [
    "UkIconButton(UkIcon('home'))"
   ]
  },
  {
   "cell_type": "markdown",
   "metadata": {},
   "source": [
    "## Drop Downs"
   ]
  },
  {
   "cell_type": "code",
   "execution_count": null,
   "metadata": {},
   "outputs": [],
   "source": [
    "#| export\n",
    "def Options(*c,                    # Content for an `Option`\n",
    "            selected_idx:int=None, # Index location of selected `Option`\n",
    "            disabled_idxs:set=None # Idex locations of disabled `Options`\n",
    "           ):\n",
    "    \"Helper function to wrap things into `Option`s for use in `UKSelect`\"\n",
    "    return [Option(o,selected=i==selected_idx, disabled=disabled_idxs and i in disabled_idxs) for i,o in enumerate(c)]"
   ]
  },
  {
   "cell_type": "code",
   "execution_count": null,
   "metadata": {},
   "outputs": [
    {
     "data": {
      "text/plain": [
       "['<option disabled>option1</option>',\n",
       " '<option selected>option2</option>',\n",
       " '<option disabled>option3</option>']"
      ]
     },
     "execution_count": null,
     "metadata": {},
     "output_type": "execute_result"
    }
   ],
   "source": [
    "list(map(to_xml,Options('option1','option2','option3', selected_idx=1, disabled_idxs={0,2})))"
   ]
  },
  {
   "cell_type": "code",
   "execution_count": null,
   "metadata": {},
   "outputs": [],
   "source": [
    "#| export\n",
    "def UkSelect(*option,            # Options for the select dropdown (can use `Options` helper function to create)\n",
    "             label=(),           # String or FT component for the label\n",
    "             lbl_cls=(),         # Additional classes for the label\n",
    "             inp_cls=(),         # Additional classes for the select input\n",
    "             cls=('space-y-2',), # Classes for the outer div\n",
    "             id=\"\",              # ID for the select input\n",
    "             name=\"\",            # Name attribute for the select input\n",
    "             placeholder=\"\",     # Placeholder text for the select input\n",
    "             searchable=False,   # Whether the select should be searchable\n",
    "             **kwargs):          # Additional arguments passed to Uk_select\n",
    "    \"Creates a select dropdown with uk styling\"\n",
    "    lbl_cls, inp_cls, cls = map(stringify, (lbl_cls, inp_cls, cls))\n",
    "    if label: \n",
    "        lbl = Label(cls=f'uk-form-label {lbl_cls}', fr=id)(label) \n",
    "    select = Uk_select(*option, cls=inp_cls, uk_cloak=True, id=id, \n",
    "                       name=name, placeholder=placeholder, searchable=searchable, **kwargs)\n",
    "    return Div(cls=cls)(lbl, select) if label else Div(cls=cls)(select)"
   ]
  },
  {
   "cell_type": "code",
   "execution_count": null,
   "metadata": {},
   "outputs": [
    {
     "data": {
      "text/markdown": [
       "```html\n",
       "<div class=\"space-y-2\">\n",
       "<label class=\"uk-form-label \">MyLabel</label><uk-select uk-cloak placeholder=\"MyPlaceholder\"><option>a</option><option>b</option></uk-select></div>\n",
       "\n",
       "```"
      ],
      "text/plain": [
       "div((label(('MyLabel',),{'for': '', 'class': 'uk-form-label '}), uk-select((option(('a',),{'selected': False}), option(('b',),{'selected': False})),{'uk-cloak': True, 'name': '', 'placeholder': 'MyPlaceholder', 'searchable': False, 'id': '', 'class': ''})),{'class': 'space-y-2'})"
      ]
     },
     "execution_count": null,
     "metadata": {},
     "output_type": "execute_result"
    }
   ],
   "source": [
    "UkSelect(*Options('a', 'b'), label='MyLabel', placeholder='MyPlaceholder')"
   ]
  },
  {
   "cell_type": "code",
   "execution_count": null,
   "metadata": {},
   "outputs": [],
   "source": [
    "#| exporti\n",
    "def _UkDropdownButtonOptions(opt_grps, opt_hdrs=None):\n",
    "    res = []\n",
    "    for g,h in zip_longest(opt_grps, tuplify(opt_hdrs)):\n",
    "        if h: res.append(Li(cls=\"uk-nav-header\")(h if isinstance(h,FT) else Div(h)))\n",
    "        if isinstance(g,(list,tuple)): res += list(map(Li, g))\n",
    "        else: res.append(Li(g))\n",
    "    return res"
   ]
  },
  {
   "cell_type": "code",
   "execution_count": null,
   "metadata": {},
   "outputs": [],
   "source": [
    "#| export\n",
    "def UkDropdownButton(\n",
    "    *opt_grp,        # List of options to be displayed in the dropdown\n",
    "    opt_hdrs=None,  # List of headers for each option group, or None\n",
    "    label=None,     # String, FT component, or None for the `Button`\n",
    "    btn_cls=UkButtonT.default,  # Button class(es)\n",
    "    cls=(),         # Parent div class\n",
    "    dd_cls=(),      # Class that goes on the dropdown container\n",
    "    icon='triangle-down',  # Icon to use for the dropdown\n",
    "    icon_cls='',    # Additional classes for the icon\n",
    "    icon_position='right'  # Position of the icon: 'left' or 'right'\n",
    "    ):\n",
    "    dd_cls, btn_cls, cls, icon_cls = map(stringify, (dd_cls, btn_cls, cls, icon_cls))\n",
    "    icon_component = UkIcon(icon, cls=icon_cls) if icon else None\n",
    "    btn_content = [] if label is None else [label]\n",
    "    if icon_component: btn_content.insert(0 if icon_position == 'left' else len(btn_content), icon_component)\n",
    "    btn = Button(type='button', cls='uk-button ' + btn_cls)(*btn_content)\n",
    "    dd = Div(uk_dropdown='mode: click; pos: bottom-right', cls='uk-dropdown uk-drop ' + dd_cls)(\n",
    "        Ul(cls='uk-dropdown-nav')(*_UkDropdownButtonOptions(opt_grp, opt_hdrs)))\n",
    "    return Div(cls=cls)(Div(cls='flex items-center space-x-4')(btn, dd))"
   ]
  },
  {
   "cell_type": "code",
   "execution_count": null,
   "metadata": {},
   "outputs": [],
   "source": [
    "# UkDropdownButton((A('Option 1.1', _href='#'), A('Option 1.2', _href='#')), \n",
    "#                  (A('Option 2.1', _href='#'), A('Option 2.2', _href='#')),\n",
    "#                  opt_hdrs=('Header 1', 'Header 2'))"
   ]
  },
  {
   "cell_type": "markdown",
   "metadata": {},
   "source": [
    "## Headings"
   ]
  },
  {
   "cell_type": "code",
   "execution_count": null,
   "metadata": {},
   "outputs": [],
   "source": [
    "#| export\n",
    "def UkGenericComponent(component_fn, *c, cls=(), **kwargs):\n",
    "    res = component_fn(cls=cls, **kwargs)(*c)\n",
    "    return res"
   ]
  },
  {
   "cell_type": "code",
   "execution_count": null,
   "metadata": {},
   "outputs": [],
   "source": [
    "#| export\n",
    "def UkH1(*c, cls=(), **kwargs): return UkGenericComponent(H1, *c, cls=('uk-h1',stringify(cls)), **kwargs)\n",
    "def UkH2(*c, cls=(), **kwargs): return UkGenericComponent(H2, *c, cls=('uk-h2',stringify(cls)), **kwargs)\n",
    "def UkH3(*c, cls=(), **kwargs): return UkGenericComponent(H3, *c, cls=('uk-h3',stringify(cls)), **kwargs)\n",
    "def UkH4(*c, cls=(), **kwargs): return UkGenericComponent(H4, *c, cls=('uk-h4',stringify(cls)), **kwargs)\n",
    "def UkH5(*c, cls=(), **kwargs): return UkGenericComponent(H5, *c, cls=('uk-h5',stringify(cls)), **kwargs)\n",
    "def UkH6(*c, cls=(), **kwargs): return UkGenericComponent(H6, *c, cls=('uk-h6',stringify(cls)), **kwargs)"
   ]
  },
  {
   "cell_type": "code",
   "execution_count": null,
   "metadata": {},
   "outputs": [
    {
     "data": {
      "text/markdown": [
       "```html\n",
       "<h1 class=\"uk-h1 another-class\">My Uk styled header</h1>\n",
       "\n",
       "```"
      ],
      "text/plain": [
       "h1(('My Uk styled header',),{'class': 'uk-h1 another-class'})"
      ]
     },
     "execution_count": null,
     "metadata": {},
     "output_type": "execute_result"
    }
   ],
   "source": [
    "UkH1('My Uk styled header',cls='another-class')"
   ]
  },
  {
   "cell_type": "markdown",
   "metadata": {},
   "source": [
    "## Dividers"
   ]
  },
  {
   "cell_type": "code",
   "execution_count": null,
   "metadata": {},
   "outputs": [],
   "source": [
    "#| export\n",
    "def UkHSplit(*c, cls=(), line_cls=(), text_cls=()):\n",
    "    cls, line_cls, text_cls = map(stringify,(cls, line_cls, text_cls))\n",
    "    return Div(cls='relative ' + cls)(\n",
    "        Div(cls=\"absolute inset-0 flex items-center \" + line_cls)(Span(cls=\"w-full border-t border-border\")),\n",
    "        Div(cls=\"relative flex justify-center \" + text_cls)(Span(cls=\"bg-background px-2 \")(*c)))"
   ]
  },
  {
   "cell_type": "code",
   "execution_count": null,
   "metadata": {},
   "outputs": [],
   "source": [
    "#| export\n",
    "def UkHLine(lwidth=2, y_space=4): return Div(cls=f\"my-{y_space} h-[{lwidth}px] w-full bg-secondary\")"
   ]
  },
  {
   "cell_type": "code",
   "execution_count": null,
   "metadata": {},
   "outputs": [],
   "source": [
    "#| export\n",
    "def UkNavDivider(): return Li(cls=\"uk-nav-divider\")"
   ]
  },
  {
   "cell_type": "markdown",
   "metadata": {},
   "source": [
    "## NavBar"
   ]
  },
  {
   "cell_type": "code",
   "execution_count": null,
   "metadata": {},
   "outputs": [],
   "source": [
    "#| export\n",
    "def UkNavbarDropdown(*c, label, href='#', cls='', has_header=False, **kwargs):\n",
    "    fn = lambda x: Li(item, cls='uk-drop-close', href='#demo', uk_toggle=True)\n",
    "    flattened = []\n",
    "    for i, item in enumerate(c):\n",
    "        if i > 0: flattened.append(Li(cls=\"uk-nav-divider\"))\n",
    "        if isinstance(item, (list,tuple)): flattened.extend(map(Li, item))\n",
    "        else: flattened.append(Li(item, cls=\"uk-nav-header\" if i == 0 and has_header else None, uk_toggle=True))\n",
    "    return (Li(cls=cls, **kwargs)(\n",
    "                A(label, cls='uk-drop-close', href='#', uk_toggle=True), \n",
    "                Div(cls='uk-navbar-dropdown', uk_dropdown=\"mode: click; pos: bottom-left\")(Ul(cls='uk-nav uk-dropdown-nav')(*flattened))))"
   ]
  },
  {
   "cell_type": "code",
   "execution_count": null,
   "metadata": {},
   "outputs": [],
   "source": [
    "#| export\n",
    "def _NavBarSide(n, s):\n",
    "    def add_class(item):\n",
    "        if isinstance(item, str): return Li(cls='uk-navbar-item')(item)\n",
    "        else: item.attrs['class'] = f\"{item.attrs.get('class', '')} uk-navbar-item\".strip()\n",
    "        return item\n",
    "    return Div(cls=f'uk-navbar-{s}')(Ul(cls='uk-navbar-nav')(*map(add_class, tuplify(n))))"
   ]
  },
  {
   "cell_type": "code",
   "execution_count": null,
   "metadata": {},
   "outputs": [],
   "source": [
    "#| export\n",
    "def UkNavbar(lnav: Sequence[Union[str, FT]]=None, \n",
    "             rnav: Sequence[Union[str, FT]]=None, \n",
    "             cls='',\n",
    "             **kwargs\n",
    "            ) -> FT:\n",
    "    return Div(cls='uk-navbar-container uk-width-1-1 relative z-10 '+ stringify(cls), uk_navbar=True, **kwargs)(\n",
    "             _NavBarSide(lnav,'left') if lnav else '',\n",
    "             _NavBarSide(rnav,'right') if rnav else '')"
   ]
  },
  {
   "cell_type": "markdown",
   "metadata": {},
   "source": [
    "## Sidebar"
   ]
  },
  {
   "cell_type": "code",
   "execution_count": null,
   "metadata": {},
   "outputs": [],
   "source": [
    "sidebar_items = [\"Profile\", \"Account\", \"Appearance\", \"Notifications\", \"Display\"]\n",
    "tst = Ul(cls='uk-nav-primary', uk_switcher=\"connect: #component-nav; animation: uk-animation-fade\")(\n",
    "                            *map(lambda x: Li(A(x)),sidebar_items))"
   ]
  },
  {
   "cell_type": "code",
   "execution_count": null,
   "metadata": {},
   "outputs": [],
   "source": [
    "#| export\n",
    "def UkSidebar(*ul,                 # Each Ul can be it's own section.  Use A for links!\n",
    "              cls='space-y-4 p-4', # Classes for outer container\n",
    "              **kwargs             # Kwargs for outer container\n",
    "             ):\n",
    "    \"Creates a styled sidebar component\"\n",
    "    styles = ('uk-nav-default', 'uk-nav-primary','uk-nav-secondary')\n",
    "    sidebar = []\n",
    "    for section in tuplify(ul):\n",
    "        section = copy.deepcopy(section)\n",
    "        _sattrs = section.attrs\n",
    "        if 'class' not in _sattrs: _sattrs['class'] = ''\n",
    "        if 'uk-nav' not in _sattrs: _sattrs['class'] += ' uk-nav '\n",
    "        if not any(x in styles for x in _sattrs['class'].split()): _sattrs['class'] += ' uk-nav-default '\n",
    "        sidebar.append(section)  \n",
    "    return Div(cls=cls, **kwargs)(*sidebar)"
   ]
  },
  {
   "cell_type": "code",
   "execution_count": null,
   "metadata": {},
   "outputs": [
    {
     "data": {
      "text/markdown": [
       "```html\n",
       "<div class=\"space-y-4 p-4\">\n",
       "  <ul class=\"uk-nav-primary uk-nav \">\n",
       "    <li>\n",
       "<a href=\"#\">Profile</a>    </li>\n",
       "    <li>\n",
       "<a href=\"#\">Account</a>    </li>\n",
       "  </ul>\n",
       "</div>\n",
       "\n",
       "```"
      ],
      "text/plain": [
       "div((ul((li((a(('Profile',),{'href': '#'}),),{}), li((a(('Account',),{'href': '#'}),),{})),{'class': 'uk-nav-primary uk-nav '}),),{'class': 'space-y-4 p-4'})"
      ]
     },
     "execution_count": null,
     "metadata": {},
     "output_type": "execute_result"
    }
   ],
   "source": [
    "sidebar_items = [\"Profile\", \"Account\"]\n",
    "tst = Ul(cls='uk-nav-primary')(*map(lambda x: Li(A(x)),sidebar_items))\n",
    "UkSidebar(tst)"
   ]
  },
  {
   "cell_type": "markdown",
   "metadata": {},
   "source": [
    "## Navtab"
   ]
  },
  {
   "cell_type": "code",
   "execution_count": null,
   "metadata": {},
   "outputs": [],
   "source": [
    "#| export\n",
    "def NavTab(text, active=False):\n",
    "    return Li(cls=\"uk-active\" if active else \" \")(A(text, href=\"#demo\", uk_toggle=True))\n",
    "\n",
    "def UkTab(*items, maxw=96, cls='', **kwargs):\n",
    "    cls = stringify(cls)\n",
    "    return Ul(cls=f\"uk-tab-alt max-w-{maxw} \"+cls,**kwargs)(*[NavTab(item, active=i==0) for i, item in enumerate(items)])"
   ]
  },
  {
   "cell_type": "markdown",
   "metadata": {},
   "source": [
    "## Cards"
   ]
  },
  {
   "cell_type": "code",
   "execution_count": null,
   "metadata": {},
   "outputs": [],
   "source": [
    "#|export\n",
    "def Card(*c, # Components that go in the body\n",
    "        header=None, # Components that go in the header\n",
    "        footer=None,  # Components that go in the footer\n",
    "        body_cls='space-y-6', # classes for the body\n",
    "        header_cls=(), # classes for the header\n",
    "        footer_cls=(), # classes for the footer\n",
    "        cls=(), #class for outermost component\n",
    "        **kwargs # classes that for the card itself\n",
    "        ):\n",
    "    header_cls, footer_cls, body_cls, cls = map(stringify, (header_cls, footer_cls, body_cls, cls))\n",
    "    res = []\n",
    "    if header: res += [Div(cls='uk-card-header ' + header_cls)(header),]\n",
    "    res += [Div(cls='uk-card-body ' + body_cls)(*c),]\n",
    "    if footer: res += [Div(cls='uk-card-footer ' + footer_cls)(footer),]\n",
    "    return Div(cls='uk-card '+cls, **kwargs)(*res)"
   ]
  },
  {
   "cell_type": "markdown",
   "metadata": {},
   "source": [
    "## Modals"
   ]
  },
  {
   "cell_type": "code",
   "execution_count": null,
   "metadata": {},
   "outputs": [],
   "source": [
    "#| export\n",
    "def UkModalTitle(*c, cls=()): return Div(cls='uk-modal-title ' + stringify(cls))(*c)\n",
    "\n",
    "def Modal(*c,\n",
    "        header=None, # Components that go in the header\n",
    "        footer=None,  # Components that go in the footer\n",
    "        body_cls='space-y-6', # classes for the body\n",
    "        header_cls='p-6', # classes for the header\n",
    "        footer_cls=(), # classes for the footer\n",
    "        cls=(), #class for outermost component\n",
    "        **kwargs # classes that for the card itself\n",
    "        ):\n",
    "    header_cls, footer_cls, body_cls, cls = map(stringify, (header_cls, footer_cls, body_cls, cls))\n",
    "    res = []\n",
    "    if header: res += [Div(cls='uk-modal-header ' + header_cls)(header),]\n",
    "    res += [Div(cls='uk-modal-body uk-modal-dialog ' + body_cls)(*c),]\n",
    "    if footer: res += [Div(cls='uk-modal-footer ' + footer_cls)(footer),]\n",
    "    return Div(cls='uk-modal uk-modal-container' + cls, uk_modal=True, **kwargs)(*res)\n"
   ]
  },
  {
   "cell_type": "markdown",
   "metadata": {},
   "source": [
    "## Tables"
   ]
  },
  {
   "cell_type": "code",
   "execution_count": null,
   "metadata": {},
   "outputs": [],
   "source": [
    "#| export\n",
    "def _default_cell(col, row): return Td(row[col], cls='p-2')"
   ]
  },
  {
   "cell_type": "code",
   "execution_count": null,
   "metadata": {},
   "outputs": [],
   "source": [
    "def render_header(col):\n",
    "    cls = 'p-2 ' + 'uk-table-shrink' if col in ('Done','Actions') else ''\n",
    "    return Th(col, cls=cls)\n",
    "\n",
    "def render_cell(col, row):\n",
    "    match col:\n",
    "        case \"ColA\":  return Td(row[col], cls=TextT.muted_sm)\n",
    "        case \"ColB\":  return Td(row[col], cls=TextT.medium_sm)\n",
    "        case 'ColC':  return Td(row[col])\n",
    "        case 'ColD':  return Td(row[col], cls='p-2')\n",
    "        \n",
    "cols = ('ColA', 'ColB', 'ColC', 'ColD')\n",
    "data = [{'ColA':1, 'ColB':2, 'ColC':3, 'ColD':4},]\n",
    "# UkTable(cols, data, cell_render=render_cell, header_render=render_header)"
   ]
  },
  {
   "cell_type": "code",
   "execution_count": null,
   "metadata": {},
   "outputs": [],
   "source": [
    "#| export\n",
    "def TableHeader(columns, header_render=None):\n",
    "    rndr = header_render or Th(cls='p-2')\n",
    "    return Tr(*map(rndr, columns))"
   ]
  },
  {
   "cell_type": "code",
   "execution_count": null,
   "metadata": {},
   "outputs": [],
   "source": [
    "#| export\n",
    "def TableRow(row, columns, cell_render=None):\n",
    "    rndr = cell_render or _default_cell\n",
    "    return Tr(*[rndr(col, row) for col in columns])"
   ]
  },
  {
   "cell_type": "code",
   "execution_count": null,
   "metadata": {},
   "outputs": [],
   "source": [
    "#| export\n",
    "def UkTable(columns, data, *args, cls=(), footer=None, cell_render=None, header_render=None, **kwargs):\n",
    "    # table middle, small : Should these be parameterized?\n",
    "    # Document, especially cell and header render\n",
    "    table_cls = 'uk-table uk-table-middle uk-table-divider uk-table-hover uk-table-small ' + stringify(cls)\n",
    "    cell_render   = ifnone(cell_render,   lambda c,r: Td(cls='p-2')(r[c]))\n",
    "    header_render = ifnone(header_render, lambda c:   Th(cls='p-2')(c))\n",
    "    \n",
    "    head = Thead(Th(*map(header_render, columns)))\n",
    "    \n",
    "    table_content = []\n",
    "    for row in data: table_content.append(Tr(*[cell_render(col, row) for col in columns]))\n",
    "        \n",
    "    body = Tbody(*table_content)\n",
    "    if footer: table_content.append(Tfoot(footer))\n",
    "    return Table(cls=table_cls, *args, **kwargs)(*[head,body])"
   ]
  },
  {
   "cell_type": "code",
   "execution_count": null,
   "metadata": {},
   "outputs": [
    {
     "data": {
      "text/markdown": [
       "```html\n",
       "<table class=\"uk-table uk-table-middle uk-table-divider uk-table-hover uk-table-small \">\n",
       "  <thead>\n",
       "    <th>\n",
       "      <th class=\"p-2\">ColA</th>\n",
       "      <th class=\"p-2\">ColB</th>\n",
       "      <th class=\"p-2\">ColC</th>\n",
       "      <th class=\"p-2\">ColD</th>\n",
       "    </th>\n",
       "  </thead>\n",
       "  <tbody>\n",
       "    <tr>\n",
       "      <td class=\"p-2\">1</td>\n",
       "      <td class=\"p-2\">2</td>\n",
       "      <td class=\"p-2\">3</td>\n",
       "      <td class=\"p-2\">4</td>\n",
       "    </tr>\n",
       "  </tbody>\n",
       "</table>\n",
       "\n",
       "```"
      ],
      "text/plain": [
       "table((thead((th((th(('ColA',),{'class': 'p-2'}), th(('ColB',),{'class': 'p-2'}), th(('ColC',),{'class': 'p-2'}), th(('ColD',),{'class': 'p-2'})),{}),),{}), tbody((tr((td((1,),{'class': 'p-2'}), td((2,),{'class': 'p-2'}), td((3,),{'class': 'p-2'}), td((4,),{'class': 'p-2'})),{}),),{})),{'class': 'uk-table uk-table-middle uk-table-divider uk-table-hover uk-table-small '})"
      ]
     },
     "execution_count": null,
     "metadata": {},
     "output_type": "execute_result"
    }
   ],
   "source": [
    "UkTable(cols,data)"
   ]
  },
  {
   "cell_type": "code",
   "execution_count": null,
   "metadata": {},
   "outputs": [],
   "source": [
    "%%aip\n",
    "\n",
    "How do I fix that error?"
   ]
  },
  {
   "cell_type": "code",
   "execution_count": null,
   "metadata": {},
   "outputs": [],
   "source": [
    "# Let's inspect the data structure to understand why we're getting this error\n",
    "print(\"Columns:\", cols)\n",
    "print(\"\\nData:\")\n",
    "for item in data:\n",
    "    print(item)\n",
    "\n",
    "# Let's also check the type of each item in data\n",
    "print(\"\\nTypes in data:\")\n",
    "for item in data:\n",
    "    print(type(item))\n",
    "\n",
    "# If data contains dictionaries as expected, let's try to access a key\n",
    "if data and isinstance(data[0], dict):\n",
    "    print(\"\\nFirst item keys:\", list(data[0].keys()))\n",
    "    print(\"First item values:\", list(data[0].values()))\n",
    "else:\n",
    "    print(\"\\nData is not in the expected format (list of dictionaries)\")\n",
    "\n",
    "# Let's modify the UkTable function to handle both dictionary and non-dictionary data\n",
    "def UkTable(columns, data, *args, cls=(), footer=None, cell_render=None, header_render=None, **kwargs):\n",
    "    table_cls = 'uk-table uk-table-middle uk-table-divider uk-table-hover uk-table-small ' + stringify(cls)\n",
    "    \n",
    "    if data and isinstance(data[0], dict):\n",
    "        cell_render = ifnone(cell_render, lambda c, r: Td(cls='p-2')(r[c]))\n",
    "    else:\n",
    "        cell_render = ifnone(cell_render, lambda c, r: Td(cls='p-2')(r))\n",
    "    \n",
    "    header_render = ifnone(header_render, lambda c: Th(cls='p-2')(c))\n",
    "    \n",
    "    head = Thead(Tr(*map(header_render, columns)))\n",
    "    \n",
    "    if data and isinstance(data[0], dict):\n",
    "        body = Tbody(*[Tr(*map(lambda c: cell_render(c, row), columns)) for row in data])\n",
    "    else:\n",
    "        body = Tbody(*[Tr(*map(lambda val: cell_render(None, val), row)) for row in data])\n",
    "    \n",
    "    if footer:\n",
    "        table_content.append(Tfoot(footer))\n",
    "    \n",
    "    return Table(cls=table_cls, *args, **kwargs)(head, body)\n",
    "\n",
    "# Try the modified UkTable function\n",
    "print(\"\\nModified UkTable output:\")\n",
    "print(UkTable(cols, data))"
   ]
  },
  {
   "cell_type": "markdown",
   "metadata": {},
   "source": [
    "## Forms"
   ]
  },
  {
   "cell_type": "code",
   "execution_count": null,
   "metadata": {},
   "outputs": [],
   "source": [
    "#| export\n",
    "def UkFormSection(title, description, *c, button_txt='Update', outer_margin=6, inner_margin=6):\n",
    "    return Div(cls=f'space-y-{inner_margin} py-{outer_margin}')(\n",
    "        Div(UkH3(title), P(description, cls=TextT.medium_sm)),\n",
    "        UkHSplit(), *c,\n",
    "        Div(UkButton(button_txt, cls=UkButtonT.primary)) if button_txt else None)"
   ]
  },
  {
   "cell_type": "code",
   "execution_count": null,
   "metadata": {},
   "outputs": [],
   "source": [
    "#| hide\n",
    "\n",
    "import nbdev; nbdev.nbdev_export()"
   ]
  }
 ],
 "metadata": {
  "kernelspec": {
   "display_name": "python3",
   "language": "python",
   "name": "python3"
  }
 },
 "nbformat": 4,
 "nbformat_minor": 4
}
