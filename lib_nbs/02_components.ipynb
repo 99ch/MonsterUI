{
 "cells": [
  {
   "cell_type": "markdown",
   "metadata": {},
   "source": [
    "# Components\n",
    "\n",
    "> Components that are the building blocks to the UI"
   ]
  },
  {
   "cell_type": "markdown",
   "metadata": {},
   "source": [
    "## Imports"
   ]
  },
  {
   "cell_type": "markdown",
   "metadata": {},
   "source": [
    "\n"
   ]
  },
  {
   "cell_type": "code",
   "execution_count": null,
   "metadata": {},
   "outputs": [],
   "source": [
    "#| default_exp components"
   ]
  },
  {
   "cell_type": "code",
   "execution_count": null,
   "metadata": {},
   "outputs": [],
   "source": [
    "#| hide\n",
    "#| export\n",
    "from fasthtml.common import *\n",
    "from fasthtml.svg import Svg\n",
    "from enum import Enum\n",
    "from fasthtml.components import Uk_select,Uk_input_tag\n",
    "from functools import partial\n",
    "from itertools import zip_longest\n",
    "from fh_frankenui.core import *"
   ]
  },
  {
   "cell_type": "code",
   "execution_count": null,
   "metadata": {},
   "outputs": [],
   "source": [
    "from nbdev.showdoc import show_doc\n",
    "from IPython.display import HTML"
   ]
  },
  {
   "cell_type": "code",
   "execution_count": null,
   "metadata": {},
   "outputs": [],
   "source": [
    "#| export\n",
    "def NavP(*c, cls=TextFont.muted_sm): return P(cls=cls)(*c)"
   ]
  },
  {
   "cell_type": "code",
   "execution_count": null,
   "metadata": {},
   "outputs": [],
   "source": [
    "#| export\n",
    "def SpacedPP(left, right=None): return DivFullySpaced(NavP(left),NavP(right) if right else '')"
   ]
  },
  {
   "cell_type": "code",
   "execution_count": null,
   "metadata": {},
   "outputs": [],
   "source": [
    "#|export\n",
    "def SpacedPPs(*c): return [SpacedPP(*tuplify(o)) for o in c]"
   ]
  },
  {
   "cell_type": "code",
   "execution_count": null,
   "metadata": {},
   "outputs": [],
   "source": [
    "UkIcon?"
   ]
  },
  {
   "cell_type": "code",
   "execution_count": null,
   "metadata": {},
   "outputs": [],
   "source": [
    "#| export\n",
    "\n",
    "def SpacedTxtIcon(txt, icon, width=None, height=None, stroke_width=None, icon_right=True):\n",
    "    c = (NavP(txt),UkIcon(icon=icon, height=height, width=width, stroke_width=stroke_width))\n",
    "    if not icon_right: c = reversed(c)\n",
    "    return DivFullySpaced(*c)  "
   ]
  },
  {
   "cell_type": "code",
   "execution_count": null,
   "metadata": {},
   "outputs": [],
   "source": [
    "#| export\n",
    "def LAlignedTxtIcon(txt, icon, width=None, height=None, stroke_width=None, cls='space-x-2', icon_right=True, txt_cls=None):\n",
    "    # Good for navbards\n",
    "    c = (txt if isinstance(txt, FT) else NavP(txt,cls=ifnone(txt_cls,TextFont.muted_sm)),UkIcon(icon=icon, height=height, width=width, stroke_width=stroke_width))\n",
    "    if not icon_right: c = reversed(c)\n",
    "    return LAlignedDiv(*c, cls=cls)"
   ]
  },
  {
   "cell_type": "code",
   "execution_count": null,
   "metadata": {},
   "outputs": [],
   "source": [
    "#|export\n",
    "def LAlignedIconTxt(txt, icon, width=None, height=None, stroke_width=None, cls='space-x-2', txt_cls=None):\n",
    "    # Good for navbars\n",
    "    return LAlignedTxtIcon(txt=txt, icon=icon,  width=width, stroke_width=stroke_width, cls=cls, icon_right=False, txt_cls=txt_cls)"
   ]
  },
  {
   "cell_type": "markdown",
   "metadata": {},
   "source": [
    "## Fonts"
   ]
  },
  {
   "cell_type": "code",
   "execution_count": null,
   "metadata": {},
   "outputs": [],
   "source": [
    "#| export\n",
    "def HelpText(c):\n",
    "    # Rename to MinorInfoText, AuxiliaryText, SecondaryDetailText, SmallMutedText?\n",
    "    return P(c,cls=TextFont.muted_sm)"
   ]
  },
  {
   "cell_type": "code",
   "execution_count": null,
   "metadata": {},
   "outputs": [],
   "source": [
    "#| hide\n",
    "\n",
    "import nbdev; nbdev.nbdev_export()"
   ]
  }
 ],
 "metadata": {
  "kernelspec": {
   "display_name": "python3",
   "language": "python",
   "name": "python3"
  }
 },
 "nbformat": 4,
 "nbformat_minor": 4
}
