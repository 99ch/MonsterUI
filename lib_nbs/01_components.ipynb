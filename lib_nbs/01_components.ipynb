{
 "cells": [
  {
   "cell_type": "markdown",
   "metadata": {},
   "source": [
    "# Components\n",
    "\n",
    "> Components that are the building blocks to the UI"
   ]
  },
  {
   "cell_type": "markdown",
   "metadata": {},
   "source": [
    "Based on the usage you described, here are some better, more searchable names for the `HelpText` function:\n",
    "\n",
    "1. `SecondaryDetailText`: Emphasizes its role in providing additional, less prominent information.\n",
    "\n",
    "2. `AuxiliaryInfoText`: Highlights its use for supplementary information.\n",
    "\n",
    "3. `SmallMutedText`: Directly describes its appearance and style.\n",
    "\n",
    "4. `SubtleGuideText`: Suggests its use for subtle guidance or explanations.\n",
    "\n",
    "5. `MinorContextText`: Indicates its role in providing minor contextual information.\n",
    "\n",
    "6. `NavDropdownText`: Specific to its use in navigation dropdowns.\n",
    "\n",
    "7. `FormHelpText`: Tailored for its application in form help text.\n",
    "\n",
    "8. `DescriptiveSubtext`: Emphasizes its use in describing or elaborating on main content.\n",
    "\n",
    "9. `LowEmphasisText`: Focuses on its reduced visual prominence.\n",
    "\n",
    "10. `SupportingDetailText`: Highlights its role in providing supporting information.\n",
    "\n",
    "These names are more descriptive and searchable, aligning with the function's various use cases. Choose the one that best fits your most common use case or coding style preferences."
   ]
  },
  {
   "cell_type": "markdown",
   "metadata": {},
   "source": [
    "## Imports"
   ]
  },
  {
   "cell_type": "markdown",
   "metadata": {},
   "source": [
    "\n"
   ]
  },
  {
   "cell_type": "code",
   "execution_count": null,
   "metadata": {},
   "outputs": [],
   "source": [
    "#| default_exp components"
   ]
  },
  {
   "cell_type": "code",
   "execution_count": null,
   "metadata": {},
   "outputs": [],
   "source": [
    "#| hide\n",
    "#| export\n",
    "from fasthtml.common import *\n",
    "from fasthtml.svg import Svg\n",
    "from enum import Enum, EnumType\n",
    "from fasthtml.components import Uk_select,Uk_input_tag\n",
    "from functools import partial\n",
    "from itertools import zip_longest\n",
    "from fh_frankenui.core import *"
   ]
  },
  {
   "cell_type": "code",
   "execution_count": null,
   "metadata": {},
   "outputs": [],
   "source": [
    "from nbdev.showdoc import show_doc\n",
    "from IPython.display import HTML"
   ]
  },
  {
   "cell_type": "code",
   "execution_count": null,
   "metadata": {},
   "outputs": [],
   "source": [
    "#| export\n",
    "def NavP(*c, cls=TextT.muted_sm): return P(cls=cls)(*c)"
   ]
  },
  {
   "cell_type": "code",
   "execution_count": null,
   "metadata": {},
   "outputs": [],
   "source": [
    "#| export\n",
    "def SpacedPP(left, right=None): return FullySpacedDiv(NavP(left),NavP(right) if right else '')"
   ]
  },
  {
   "cell_type": "code",
   "execution_count": null,
   "metadata": {},
   "outputs": [],
   "source": [
    "#|export\n",
    "def SpacedPPs(*c): return [SpacedPP(*tuplify(o)) for o in c]"
   ]
  },
  {
   "cell_type": "code",
   "execution_count": null,
   "metadata": {},
   "outputs": [],
   "source": [
    "#| export\n",
    "def SpacedTxtIcon(txt, icon, ratio, icon_right=True):\n",
    "    c = (NavP(txt),UkIcon(icon,ratio))\n",
    "    if not icon_right: c = reversed(c)\n",
    "    return FullySpacedDiv(*c)  "
   ]
  },
  {
   "cell_type": "code",
   "execution_count": null,
   "metadata": {},
   "outputs": [],
   "source": [
    "#| export\n",
    "def LAlignedTxtIcon(txt, icon='play-circle', cls='space-x-2', ratio=1, icon_right=True, txt_cls=None):\n",
    "    # Good for navbards\n",
    "    c = (txt if isinstance(txt, FT) else NavP(txt,cls=ifnone(txt_cls,TextT.muted_sm)),UkIcon(icon,ratio))\n",
    "    if not icon_right: c = reversed(c)\n",
    "    return LAlignedDiv(*c, cls=cls)"
   ]
  },
  {
   "cell_type": "code",
   "execution_count": null,
   "metadata": {},
   "outputs": [],
   "source": [
    "#|export\n",
    "def LAlignedIconTxt(txt, icon, cls='space-x-2', ratio=1, txt_cls=None):\n",
    "    # Good for navbars\n",
    "    return LAlignedTxtIcon(txt, icon, ratio=ratio, txt_cls=txt_cls, icon_right=False)"
   ]
  },
  {
   "cell_type": "markdown",
   "metadata": {},
   "source": [
    "## Fonts"
   ]
  },
  {
   "cell_type": "code",
   "execution_count": null,
   "metadata": {},
   "outputs": [],
   "source": [
    "#| export\n",
    "def HelpText(c):\n",
    "    # Rename to MinorInfoText, AuxiliaryText, SecondaryDetailText, SmallMutedText?\n",
    "    return P(c,cls=TextT.muted_sm)"
   ]
  },
  {
   "cell_type": "code",
   "execution_count": null,
   "metadata": {},
   "outputs": [],
   "source": [
    "#| hide\n",
    "\n",
    "import nbdev; nbdev.nbdev_export()"
   ]
  }
 ],
 "metadata": {
  "kernelspec": {
   "display_name": "python3",
   "language": "python",
   "name": "python3"
  }
 },
 "nbformat": 4,
 "nbformat_minor": 4
}
