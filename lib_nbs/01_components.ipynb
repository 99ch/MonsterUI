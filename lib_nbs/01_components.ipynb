{
 "cells": [
  {
   "cell_type": "markdown",
   "metadata": {},
   "source": [
    "# Components\n",
    "\n",
    "> Components that are the building blocks to the UI"
   ]
  },
  {
   "cell_type": "markdown",
   "metadata": {},
   "source": [
    "## Imports"
   ]
  },
  {
   "cell_type": "markdown",
   "metadata": {},
   "source": [
    "\n"
   ]
  },
  {
   "cell_type": "code",
   "execution_count": null,
   "metadata": {},
   "outputs": [],
   "source": [
    "#| default_exp components"
   ]
  },
  {
   "cell_type": "code",
   "execution_count": null,
   "metadata": {},
   "outputs": [],
   "source": [
    "#| hide\n",
    "#| export\n",
    "from fasthtml.common import *\n",
    "from fasthtml.svg import Svg\n",
    "from enum import Enum, EnumType\n",
    "from fasthtml.components import Uk_select,Uk_input_tag\n",
    "from functools import partial\n",
    "from itertools import zip_longest"
   ]
  },
  {
   "cell_type": "code",
   "execution_count": null,
   "metadata": {},
   "outputs": [],
   "source": [
    "from nbdev.showdoc import show_doc\n",
    "from IPython.display import HTML"
   ]
  },
  {
   "cell_type": "markdown",
   "metadata": {},
   "source": [
    "## Utils"
   ]
  },
  {
   "cell_type": "markdown",
   "metadata": {},
   "source": [
    "### Tests"
   ]
  },
  {
   "cell_type": "code",
   "execution_count": null,
   "metadata": {},
   "outputs": [],
   "source": [
    "from fastcore.test import *"
   ]
  },
  {
   "cell_type": "code",
   "execution_count": null,
   "metadata": {},
   "outputs": [],
   "source": [
    "def test_xml_eq(a, b):\n",
    "    \"Tests if if 2 FT components generate the same xml\"\n",
    "    test_eq(*map(lambda x: x if isinstance(x,str) else to_xml(x), (a, b)))"
   ]
  },
  {
   "cell_type": "markdown",
   "metadata": {},
   "source": [
    "### Other"
   ]
  },
  {
   "cell_type": "code",
   "execution_count": null,
   "metadata": {},
   "outputs": [],
   "source": [
    "#| export\n",
    "# need a better name, stringify might be too general for what it does \n",
    "def stringify(o # String, Tuple, or Enum options we want stringified\n",
    "             ): # String that can be passed FT comp args (such as `cls=`)\n",
    "    \"Converts input types into strings that can be passed to FT components\"  \n",
    "    if is_listy(o): return ' '.join(map(str,o)) if o else \"\"\n",
    "    return o.__str__()"
   ]
  },
  {
   "cell_type": "code",
   "execution_count": null,
   "metadata": {},
   "outputs": [
    {
     "data": {
      "text/markdown": [
       "---\n",
       "\n",
       "[source](https://github.com/Isaac-Flath/fh-frankenui/blob/main/fh_frankenui/components.py#L24){target=\"_blank\" style=\"float:right; font-size:smaller\"}\n",
       "\n",
       "### stringify\n",
       "\n",
       ">      stringify (o)\n",
       "\n",
       "*Converts input types into strings that can be passed to FT components*\n",
       "\n",
       "|    | **Details** |\n",
       "| -- | ----------- |\n",
       "| o | String, Tuple, or Enum options we want stringified |"
      ],
      "text/plain": [
       "---\n",
       "\n",
       "[source](https://github.com/Isaac-Flath/fh-frankenui/blob/main/fh_frankenui/components.py#L24){target=\"_blank\" style=\"float:right; font-size:smaller\"}\n",
       "\n",
       "### stringify\n",
       "\n",
       ">      stringify (o)\n",
       "\n",
       "*Converts input types into strings that can be passed to FT components*\n",
       "\n",
       "|    | **Details** |\n",
       "| -- | ----------- |\n",
       "| o | String, Tuple, or Enum options we want stringified |"
      ]
     },
     "execution_count": null,
     "metadata": {},
     "output_type": "execute_result"
    }
   ],
   "source": [
    "show_doc(stringify)"
   ]
  },
  {
   "cell_type": "code",
   "execution_count": null,
   "metadata": {},
   "outputs": [],
   "source": [
    "assert stringify('abc') == 'abc'\n",
    "assert stringify(('abc','def')) == 'abc def'\n",
    "assert 'uk-input ' + stringify(()) == 'uk-input '\n",
    "assert 'uk-input ' + stringify(\"\") == 'uk-input '"
   ]
  },
  {
   "cell_type": "code",
   "execution_count": null,
   "metadata": {},
   "outputs": [],
   "source": [
    "#| export\n",
    "class VEnum(Enum):\n",
    "    def __add__(self, other):\n",
    "        \"Add other enums, listy, or strings\"\n",
    "        return stringify((self, other))\n",
    "\n",
    "    def __radd__(self, other):\n",
    "        \"Add other enums, listy, or strings\"\n",
    "        return stringify((other, self))\n",
    "    \n",
    "    def __str__(self):\n",
    "        \"Stringifies with uk-{attr}-{value} format\"\n",
    "        base = self.__class__.__name__       \n",
    "        if isinstance(self.__class__, EnumType):\n",
    "            base = base.lstrip('Uk').rstrip('T')\n",
    "        return f\"uk-{base.lower()}-{self.value}\".strip('-')"
   ]
  },
  {
   "cell_type": "markdown",
   "metadata": {},
   "source": [
    "## Enums"
   ]
  },
  {
   "cell_type": "markdown",
   "metadata": {},
   "source": [
    "### Theme"
   ]
  },
  {
   "cell_type": "markdown",
   "metadata": {},
   "source": [
    "You can select a theme color to and get all the headers.  This brings in the most standard grouping:\n",
    "+ Tailwind: Optional, but typically FrankenUI is used in conjunction with tailwind\n",
    "+ Uikit: Many things are styled with uikit\n",
    "+ UIkit icons: Gives many icons OOTB, and is nice to have handy.\n",
    "+ Franken WC: Neccesarry for some of the (minimal) interactivity components have"
   ]
  },
  {
   "cell_type": "code",
   "execution_count": null,
   "metadata": {},
   "outputs": [],
   "source": [
    "#| export\n",
    "class Theme(Enum):\n",
    "    slate = \"slate\"\n",
    "    stone = \"stone\"\n",
    "    gray = \"gray\"\n",
    "    neutral = \"neutral\"\n",
    "    red = \"red\"\n",
    "    rose = \"rose\"\n",
    "    orange = \"orange\"\n",
    "    green = \"green\"\n",
    "    blue = \"blue\"\n",
    "    yellow = \"yellow\"\n",
    "    violet = \"violet\"\n",
    "    zinc = \"zinc\"\n",
    "\n",
    "    def headers(self):\n",
    "        js = (Script(src=\"https://cdn.tailwindcss.com\"),\n",
    "              Script(src=\"https://cdn.jsdelivr.net/npm/uikit@3.21.6/dist/js/uikit.min.js\"),\n",
    "              Script(src=\"https://cdn.jsdelivr.net/npm/uikit@3.21.6/dist/js/uikit-icons.min.js\"),\n",
    "              Script(type=\"module\", src=\"https://unpkg.com/franken-wc@0.0.6/dist/js/wc.iife.js\")\n",
    "              )\n",
    "        _url = f\"https://unpkg.com/franken-wc@0.0.6/dist/css/{self.value}.min.css\"\n",
    "        return (*js, Link(rel=\"stylesheet\", href=_url))"
   ]
  },
  {
   "cell_type": "code",
   "execution_count": null,
   "metadata": {},
   "outputs": [
    {
     "data": {
      "text/plain": [
       "(script(('',),{'src': 'https://cdn.tailwindcss.com'}),\n",
       " script(('',),{'src': 'https://cdn.jsdelivr.net/npm/uikit@3.21.6/dist/js/uikit.min.js'}),\n",
       " script(('',),{'src': 'https://cdn.jsdelivr.net/npm/uikit@3.21.6/dist/js/uikit-icons.min.js'}),\n",
       " script(('',),{'type': 'module', 'src': 'https://unpkg.com/franken-wc@0.0.6/dist/js/wc.iife.js'}),\n",
       " link((),{'rel': 'stylesheet', 'href': 'https://unpkg.com/franken-wc@0.0.6/dist/css/blue.min.css'}))"
      ]
     },
     "execution_count": null,
     "metadata": {},
     "output_type": "execute_result"
    }
   ],
   "source": [
    "hdrs = Theme.blue.headers()\n",
    "app = FastHTML(hdrs=hdrs)\n",
    "hdrs"
   ]
  },
  {
   "cell_type": "markdown",
   "metadata": {},
   "source": [
    "### Style"
   ]
  },
  {
   "cell_type": "markdown",
   "metadata": {},
   "source": [
    "#### `B` (Base)"
   ]
  },
  {
   "cell_type": "markdown",
   "metadata": {},
   "source": [
    "Base enums all will end with `B`.  These are designed to make classes discoverable in python.  These should be generally a 1:1 mapping to a class.\n",
    "\n",
    "These are the lowest level class selection options without dropping into strings.  We don't need to cover everything, but we want most useful things in here."
   ]
  },
  {
   "cell_type": "code",
   "execution_count": null,
   "metadata": {},
   "outputs": [],
   "source": [
    "#| export\n",
    "class TextB(Enum):\n",
    "    sz_xsmall = 'text-xs'\n",
    "    sz_small = 'text-sm'\n",
    "    sz_medium = 'text-base'\n",
    "    sz_large = 'text-lg'\n",
    "    cl_muted = 'uk-text-muted'\n",
    "    \n",
    "    wt_light = 'font-light'\n",
    "    wt_normal = 'font-normal'\n",
    "    wt_medium = 'font-medium'\n",
    "    wt_bold = 'font-bold'\n",
    "# font-thin\tfont-weight: 100;\n",
    "# font-extralight\tfont-weight: 200;\n",
    "# font-light\tfont-weight: 300;\n",
    "# font-normal\tfont-weight: 400;\n",
    "# \n",
    "# font-semibold\tfont-weight: 600;\n",
    "# font-bold\tfont-weight: 700;\n",
    "# font-extrabold\tfont-weight: 800;\n",
    "# font-black    \n",
    "    \n",
    "    \n",
    "# font-medium text-sm\n",
    "    def __str__(self):\n",
    "        return self.value"
   ]
  },
  {
   "cell_type": "markdown",
   "metadata": {},
   "source": [
    "### `T` (Transform)"
   ]
  },
  {
   "cell_type": "markdown",
   "metadata": {},
   "source": [
    "Transform enums all will end with `T`.  These are designed to make useful class groups discoverable in python.\n",
    "\n",
    "Each option should be a group of enums that are useful in many cases.  For example `muted_sm` is very commonly used as a subheader below a card title and looks great.  These should be high level things that users can generally just pick from to have a decent default without much thought."
   ]
  },
  {
   "cell_type": "code",
   "execution_count": null,
   "metadata": {},
   "outputs": [],
   "source": [
    "#| export\n",
    "class TextT(Enum):\n",
    "    muted_xs = TextB.sz_xsmall, TextB.cl_muted \n",
    "    muted_sm = TextB.sz_small, TextB.cl_muted # Text below card headings\n",
    "    muted_med = TextB.sz_medium, TextB.cl_muted \n",
    "    muted_lg = TextB.sz_large, TextB.cl_muted \n",
    "    medium_sm = TextB.sz_small, TextB.wt_medium\n",
    "    medium_xs = TextB.sz_xsmall, TextB.wt_medium\n",
    "\n",
    "    def __str__(self):\n",
    "        if is_listy(self.value): return ' '.join(map(str,self.value))\n",
    "        return self.value"
   ]
  },
  {
   "cell_type": "code",
   "execution_count": null,
   "metadata": {},
   "outputs": [
    {
     "data": {
      "text/plain": [
       "<enum 'TextT'>"
      ]
     },
     "execution_count": null,
     "metadata": {},
     "output_type": "execute_result"
    }
   ],
   "source": [
    "type(TextT.muted_sm)"
   ]
  },
  {
   "cell_type": "markdown",
   "metadata": {},
   "source": [
    "## Base Components"
   ]
  },
  {
   "cell_type": "markdown",
   "metadata": {},
   "source": [
    "### Icons and Avatars"
   ]
  },
  {
   "cell_type": "code",
   "execution_count": null,
   "metadata": {},
   "outputs": [],
   "source": [
    "#| export\n",
    "def UkIcon(icon, ratio=1,cls=()):\n",
    "    return Span(uk_icon=f\"icon: {icon}; ratio: {ratio}\",cls=cls)"
   ]
  },
  {
   "cell_type": "code",
   "execution_count": null,
   "metadata": {},
   "outputs": [],
   "source": [
    "#| export\n",
    "def DiceBearAvatar(seed_name, h, w):\n",
    "    url = 'https://api.dicebear.com/8.x/lorelei/svg?seed='\n",
    "    return Span(cls=f\"relative flex h-{h} w-{w} shrink-0 overflow-hidden rounded-full bg-accent\")(\n",
    "            Img(cls=\"aspect-square h-full w-full\", alt=\"Avatar\", src=f\"{url}{seed_name}\"))\n",
    "    "
   ]
  },
  {
   "cell_type": "code",
   "execution_count": null,
   "metadata": {},
   "outputs": [],
   "source": [
    "#| export\n",
    "def NavP(*c, cls=TextT.muted_sm): return P(cls=cls)(*c)\n",
    "\n",
    "def SpacedPP(left, right=None):\n",
    "    return FullySpacedContainer(NavP(left),NavP(right) if right else '')\n",
    "\n",
    "def SpacedPPs(*c):\n",
    "    return [SpacedPP(*tuplify(o)) for o in c]\n",
    "\n",
    "def SpacedTxtIcon(txt, icon, ratio, icon_right=True):\n",
    "    c = (NavP(txt),UkIcon(icon,ratio))\n",
    "    if not icon_right: c = reversed(c)\n",
    "    return FullySpacedContainer(*c)  \n",
    "\n",
    "def LAlignedTxtIcon(txt, icon='play-circle', gap=2, ratio=1, icon_right=True, txt_cls=None):\n",
    "    # TODO: Test and make sure this works\n",
    "    # TODO: How do you pass text with a color? Should txt be a string?  Or should you pass a P?  \n",
    "    c = (txt if isinstance(txt, FT) else NavP(txt,cls=ifnone(txt_cls,TextT.muted_sm)),UkIcon(icon,ratio))\n",
    "    if not icon_right: c = reversed(c)\n",
    "    return Div(cls=f'flex items-center space-x-{gap}')(*c)\n",
    "\n",
    "def RAlignedTxtIcon(txt, icon, gap=2, ratio=1, txt_cls=None):\n",
    "    return LAlignedTxtIcon(txt, icon, gap=gap, ratio=ratio, txt_cls=txt_cls, icon_right=False)"
   ]
  },
  {
   "cell_type": "markdown",
   "metadata": {},
   "source": [
    "### Spacing "
   ]
  },
  {
   "cell_type": "code",
   "execution_count": null,
   "metadata": {},
   "outputs": [],
   "source": [
    "#|export\n",
    "def Grid(*c, cols=3, gap=2, cls=(), **kwargs):\n",
    "    cls = stringify(cls)\n",
    "    return Div(cls=f'grid grid-cols-{cols} gap-{gap} '+cls, **kwargs)(*c)"
   ]
  },
  {
   "cell_type": "code",
   "execution_count": null,
   "metadata": {},
   "outputs": [],
   "source": [
    "#| export\n",
    "def FullySpacedContainer(*c,wrap_tag=None):\n",
    "    return Div(cls='uk-flex uk-flex-between uk-flex-middle uk-width-1-1')(*(map(ifnone(wrap_tag,noop),c)))"
   ]
  },
  {
   "cell_type": "code",
   "execution_count": null,
   "metadata": {},
   "outputs": [],
   "source": [
    "#| export\n",
    "def CenteredContainer(*c,cls=()):\n",
    "    return Div(cls='flex flex-col items-center justify-center ' + stringify(cls))(*c)"
   ]
  },
  {
   "cell_type": "markdown",
   "metadata": {},
   "source": [
    "### Inputs"
   ]
  },
  {
   "cell_type": "code",
   "execution_count": null,
   "metadata": {},
   "outputs": [],
   "source": [
    "#| export\n",
    "from typing import Union, Tuple, Optional\n",
    "from fastcore.all import L\n",
    "\n",
    "def UkGenericInput(input_fn: FT, # FT Components that generates a user input (e.g. `TextArea`)\n",
    "                    label:str|FT=(), # String or FT component that goes in `Label`\n",
    "                    lbl_cls:str|Enum=(), # Additional classes that goes in `Label`\n",
    "                    inp_cls:str|Enum=(), # Additional classes that go in user input (e.g. `TextArea`)\n",
    "                    cls:str|Enum=('space-y-2',), # Div cls\n",
    "#                     id: str=\"\", # ID of the user input (e.g. `TextArea`)\n",
    "                   **kwargs # Passed to `input_fn` (e.g. ` TextArea`)\n",
    "                  ) -> FT: # FT component in structure `(Div(label,input))`\n",
    "    \"`Div(Label,Input)` component with Uk styling injected appropriately. Generally you should higher level API, such as `UKTextArea` which is created for you in this library\"\n",
    "    lbl_cls, inp_cls, cls = map(stringify,(lbl_cls, inp_cls, cls))\n",
    "    if label:  label = Label(cls='uk-form-label '+lbl_cls)(label)\n",
    "    if label and id: label.attrs['for'] = id\n",
    "    res = input_fn(**kwargs)\n",
    "    if inp_cls: res.attrs['class'] += inp_cls\n",
    "    return Div(cls=cls)(label, res)"
   ]
  },
  {
   "cell_type": "code",
   "execution_count": null,
   "metadata": {},
   "outputs": [
    {
     "data": {
      "text/markdown": [
       "---\n",
       "\n",
       "[source](https://github.com/Isaac-Flath/fh-frankenui/blob/main/fh_frankenui/components.py#L160){target=\"_blank\" style=\"float:right; font-size:smaller\"}\n",
       "\n",
       "### UkGenericInput\n",
       "\n",
       ">      UkGenericInput (input_fn:fastcore.xml.FT, label:str|fastcore.xml.FT=(),\n",
       ">                      lbl_cls:str|enum.Enum=(), inp_cls:str|enum.Enum=(),\n",
       ">                      cls:str|enum.Enum=('space-y-2',), **kwargs)\n",
       "\n",
       "*`Div(Label,Input)` component with Uk styling injected appropriately. Generally you should higher level API, such as `UKTextArea` which is created for you in this library*\n",
       "\n",
       "|    | **Type** | **Default** | **Details** |\n",
       "| -- | -------- | ----------- | ----------- |\n",
       "| input_fn | FT |  | FT Components that generates a user input (e.g. `TextArea`) |\n",
       "| label | str \\| fastcore.xml.FT | () | String or FT component that goes in `Label` |\n",
       "| lbl_cls | str \\| enum.Enum | () | Additional classes that goes in `Label` |\n",
       "| inp_cls | str \\| enum.Enum | () | Additional classes that go in user input (e.g. `TextArea`) |\n",
       "| cls | str \\| enum.Enum | ('space-y-2',) | Div cls |\n",
       "| kwargs |  |  |  |\n",
       "| **Returns** | **FT** |  | **FT component in structure `(Div(label,input))`** |"
      ],
      "text/plain": [
       "---\n",
       "\n",
       "[source](https://github.com/Isaac-Flath/fh-frankenui/blob/main/fh_frankenui/components.py#L160){target=\"_blank\" style=\"float:right; font-size:smaller\"}\n",
       "\n",
       "### UkGenericInput\n",
       "\n",
       ">      UkGenericInput (input_fn:fastcore.xml.FT, label:str|fastcore.xml.FT=(),\n",
       ">                      lbl_cls:str|enum.Enum=(), inp_cls:str|enum.Enum=(),\n",
       ">                      cls:str|enum.Enum=('space-y-2',), **kwargs)\n",
       "\n",
       "*`Div(Label,Input)` component with Uk styling injected appropriately. Generally you should higher level API, such as `UKTextArea` which is created for you in this library*\n",
       "\n",
       "|    | **Type** | **Default** | **Details** |\n",
       "| -- | -------- | ----------- | ----------- |\n",
       "| input_fn | FT |  | FT Components that generates a user input (e.g. `TextArea`) |\n",
       "| label | str \\| fastcore.xml.FT | () | String or FT component that goes in `Label` |\n",
       "| lbl_cls | str \\| enum.Enum | () | Additional classes that goes in `Label` |\n",
       "| inp_cls | str \\| enum.Enum | () | Additional classes that go in user input (e.g. `TextArea`) |\n",
       "| cls | str \\| enum.Enum | ('space-y-2',) | Div cls |\n",
       "| kwargs |  |  |  |\n",
       "| **Returns** | **FT** |  | **FT component in structure `(Div(label,input))`** |"
      ]
     },
     "execution_count": null,
     "metadata": {},
     "output_type": "execute_result"
    }
   ],
   "source": [
    "show_doc(UkGenericInput)"
   ]
  },
  {
   "cell_type": "code",
   "execution_count": null,
   "metadata": {},
   "outputs": [],
   "source": [
    "#| export\n",
    "UkInput =     partial(UkGenericInput, partial(Input, cls='uk-input'))\n",
    "UkSwitch =    partial(UkGenericInput, partial(CheckboxX,    cls='uk-toggle-switch uk-toggle-switch-primary')) \n",
    "UkTextArea =  partial(UkGenericInput, partial(Textarea,     cls='uk-textarea'))\n",
    "UkFormLabel = partial(UkGenericInput, partial(Uk_input_tag, cls='uk-form-label'))\n"
   ]
  },
  {
   "cell_type": "code",
   "execution_count": null,
   "metadata": {},
   "outputs": [
    {
     "data": {
      "text/markdown": [
       "---\n",
       "\n",
       "#### partial(<function ft_hx>, 'input', cls='uk-input'))\n",
       "\n",
       ">      partial(<function ft_hx>, 'input', cls='uk-input'))\n",
       ">              (label:str|fastcore.xml.FT=(), lbl_cls:str|enum.Enum=(),\n",
       ">              inp_cls:str|enum.Enum=(), cls:str|enum.Enum=('space-y-2',),\n",
       ">              **kwargs)\n",
       "\n",
       "*partial(func, *args, **keywords) - new function with partial application\n",
       "of the given arguments and keywords.*"
      ],
      "text/plain": [
       "---\n",
       "\n",
       "#### partial(<function ft_hx>, 'input', cls='uk-input'))\n",
       "\n",
       ">      partial(<function ft_hx>, 'input', cls='uk-input'))\n",
       ">              (label:str|fastcore.xml.FT=(), lbl_cls:str|enum.Enum=(),\n",
       ">              inp_cls:str|enum.Enum=(), cls:str|enum.Enum=('space-y-2',),\n",
       ">              **kwargs)\n",
       "\n",
       "*partial(func, *args, **keywords) - new function with partial application\n",
       "of the given arguments and keywords.*"
      ]
     },
     "execution_count": null,
     "metadata": {},
     "output_type": "execute_result"
    }
   ],
   "source": [
    "show_doc(UkInput,title_level=4)"
   ]
  },
  {
   "cell_type": "code",
   "execution_count": null,
   "metadata": {},
   "outputs": [
    {
     "data": {
      "text/markdown": [
       "```html\n",
       "<div class=\"space-y-2\">\n",
       "<label class=\"uk-form-label text-sm uk-text-muted\" for=\"<built-in function id>\">MyLabel</label>  <input id=\"myid\" class=\"uk-inputfont-bold\" name=\"myid\">\n",
       "</div>\n",
       "\n",
       "```"
      ],
      "text/plain": [
       "div((label(('MyLabel',),{'class': 'uk-form-label text-sm uk-text-muted', 'for': <built-in function id>}), input((),{'id': 'myid', 'class': 'uk-inputfont-bold', 'name': 'myid'})),{'class': 'space-y-2'})"
      ]
     },
     "execution_count": null,
     "metadata": {},
     "output_type": "execute_result"
    }
   ],
   "source": [
    "UkInput(\"MyLabel\",lbl_cls=TextT.muted_sm, inp_cls='font-bold',  id='myid')"
   ]
  },
  {
   "cell_type": "code",
   "execution_count": null,
   "metadata": {},
   "outputs": [
    {
     "data": {
      "text/markdown": [
       "---\n",
       "\n",
       "#### partial(<function CheckboxX>, cls='uk-toggle-switch uk-toggle-switch-primary'))\n",
       "\n",
       ">      partial(<function CheckboxX>, cls='uk-toggle-switch uk-\n",
       ">              toggle-switch-primary')) (label:str|fastcore.xml.FT=(),\n",
       ">              lbl_cls:str|enum.Enum=(), inp_cls:str|enum.Enum=(),\n",
       ">              cls:str|enum.Enum=('space-y-2',), **kwargs)\n",
       "\n",
       "*partial(func, *args, **keywords) - new function with partial application\n",
       "of the given arguments and keywords.*"
      ],
      "text/plain": [
       "---\n",
       "\n",
       "#### partial(<function CheckboxX>, cls='uk-toggle-switch uk-toggle-switch-primary'))\n",
       "\n",
       ">      partial(<function CheckboxX>, cls='uk-toggle-switch uk-\n",
       ">              toggle-switch-primary')) (label:str|fastcore.xml.FT=(),\n",
       ">              lbl_cls:str|enum.Enum=(), inp_cls:str|enum.Enum=(),\n",
       ">              cls:str|enum.Enum=('space-y-2',), **kwargs)\n",
       "\n",
       "*partial(func, *args, **keywords) - new function with partial application\n",
       "of the given arguments and keywords.*"
      ]
     },
     "execution_count": null,
     "metadata": {},
     "output_type": "execute_result"
    }
   ],
   "source": [
    "show_doc(UkSwitch,title_level=4)"
   ]
  },
  {
   "cell_type": "code",
   "execution_count": null,
   "metadata": {},
   "outputs": [
    {
     "data": {
      "text/markdown": [
       "---\n",
       "\n",
       "#### partial(<function ft_hx>, 'textarea', cls='uk-textarea'))\n",
       "\n",
       ">      partial(<function ft_hx>, 'textarea', cls='uk-textarea'))\n",
       ">              (label:str|fastcore.xml.FT=(), lbl_cls:str|enum.Enum=(),\n",
       ">              inp_cls:str|enum.Enum=(), cls:str|enum.Enum=('space-y-2',),\n",
       ">              **kwargs)\n",
       "\n",
       "*partial(func, *args, **keywords) - new function with partial application\n",
       "of the given arguments and keywords.*"
      ],
      "text/plain": [
       "---\n",
       "\n",
       "#### partial(<function ft_hx>, 'textarea', cls='uk-textarea'))\n",
       "\n",
       ">      partial(<function ft_hx>, 'textarea', cls='uk-textarea'))\n",
       ">              (label:str|fastcore.xml.FT=(), lbl_cls:str|enum.Enum=(),\n",
       ">              inp_cls:str|enum.Enum=(), cls:str|enum.Enum=('space-y-2',),\n",
       ">              **kwargs)\n",
       "\n",
       "*partial(func, *args, **keywords) - new function with partial application\n",
       "of the given arguments and keywords.*"
      ]
     },
     "execution_count": null,
     "metadata": {},
     "output_type": "execute_result"
    }
   ],
   "source": [
    "show_doc(UkTextArea,title_level=4)"
   ]
  },
  {
   "cell_type": "code",
   "execution_count": null,
   "metadata": {},
   "outputs": [
    {
     "data": {
      "text/markdown": [
       "---\n",
       "\n",
       "#### _f at 0x112e88a40>, cls='uk-form-label'))\n",
       "\n",
       ">      _f at 0x112e88a40>, cls='uk-form-label')) (label:str|fastcore.xml.FT=(),\n",
       ">                                                 lbl_cls:str|enum.Enum=(),\n",
       ">                                                 inp_cls:str|enum.Enum=(), cls:\n",
       ">                                                 str|enum.Enum=('space-y-2',),\n",
       ">                                                 **kwargs)\n",
       "\n",
       "*partial(func, *args, **keywords) - new function with partial application\n",
       "of the given arguments and keywords.*"
      ],
      "text/plain": [
       "---\n",
       "\n",
       "#### _f at 0x112e88a40>, cls='uk-form-label'))\n",
       "\n",
       ">      _f at 0x112e88a40>, cls='uk-form-label')) (label:str|fastcore.xml.FT=(),\n",
       ">                                                 lbl_cls:str|enum.Enum=(),\n",
       ">                                                 inp_cls:str|enum.Enum=(), cls:\n",
       ">                                                 str|enum.Enum=('space-y-2',),\n",
       ">                                                 **kwargs)\n",
       "\n",
       "*partial(func, *args, **keywords) - new function with partial application\n",
       "of the given arguments and keywords.*"
      ]
     },
     "execution_count": null,
     "metadata": {},
     "output_type": "execute_result"
    }
   ],
   "source": [
    "show_doc(UkFormLabel,title_level=4)"
   ]
  },
  {
   "cell_type": "code",
   "execution_count": null,
   "metadata": {},
   "outputs": [],
   "source": [
    "#| export\n",
    "def Options(*c, # Content for an `Option`\n",
    "            selected_idx=None # Index location of selected `Option`\n",
    "           ):\n",
    "    \"Generates list of `Option`s with the proper `selected_idx`\"\n",
    "    return [Option(o,selected=i==selected_idx) for i,o in enumerate(c)]"
   ]
  },
  {
   "cell_type": "code",
   "execution_count": null,
   "metadata": {},
   "outputs": [],
   "source": [
    "#| export\n",
    "def UkSelect(*options,\n",
    "             label=(),\n",
    "             lbl_cls=(),\n",
    "             inp_cls=(),\n",
    "             cls=('space-y-2',),\n",
    "             id=\"\",\n",
    "             name=\"\",\n",
    "             placeholder=\"\",\n",
    "             searchable=False,\n",
    "             **kwargs):\n",
    "    lbl_cls, inp_cls, cls = map(stringify, (lbl_cls, inp_cls, cls))\n",
    "    if label:\n",
    "        lbl = Label(cls=f'uk-form-label {lbl_cls}', fr=id)(label) if id else Label(cls=f'uk-form-label {lbl_cls}')(label)\n",
    "    select = Uk_select(cls=inp_cls, uk_cloak=True, id=id, name=name, placeholder=placeholder, searchable=searchable, **kwargs)\n",
    "    select = select(*options)\n",
    "    return Div(cls=cls)(lbl, select) if label else Div(cls=cls)(select)"
   ]
  },
  {
   "cell_type": "code",
   "execution_count": null,
   "metadata": {},
   "outputs": [
    {
     "data": {
      "text/markdown": [
       "---\n",
       "\n",
       "[source](https://github.com/Isaac-Flath/fh-frankenui/blob/main/fh_frankenui/components.py#L191){target=\"_blank\" style=\"float:right; font-size:smaller\"}\n",
       "\n",
       "### UkSelect\n",
       "\n",
       ">      UkSelect (*options, label=(), lbl_cls=(), inp_cls=(), cls=('space-y-2',),\n",
       ">                id='', name='', placeholder='', searchable=False, **kwargs)"
      ],
      "text/plain": [
       "---\n",
       "\n",
       "[source](https://github.com/Isaac-Flath/fh-frankenui/blob/main/fh_frankenui/components.py#L191){target=\"_blank\" style=\"float:right; font-size:smaller\"}\n",
       "\n",
       "### UkSelect\n",
       "\n",
       ">      UkSelect (*options, label=(), lbl_cls=(), inp_cls=(), cls=('space-y-2',),\n",
       ">                id='', name='', placeholder='', searchable=False, **kwargs)"
      ]
     },
     "execution_count": null,
     "metadata": {},
     "output_type": "execute_result"
    }
   ],
   "source": [
    "show_doc(UkSelect)"
   ]
  },
  {
   "cell_type": "code",
   "execution_count": null,
   "metadata": {},
   "outputs": [],
   "source": [
    "# UkSelect(*_opts, \"MyLabel\",lbl_cls=TextT.muted_sm, inp_cls='font-bold',  id='myid')"
   ]
  },
  {
   "cell_type": "code",
   "execution_count": null,
   "metadata": {},
   "outputs": [],
   "source": [
    "#| export\n",
    "class UkButtonT(VEnum):\n",
    "    default = 'default'\n",
    "    primary = 'primary'\n",
    "    secondary = 'secondary'\n",
    "    danger = 'danger'\n",
    "    ghost = 'ghost'\n",
    "    text = 'text'\n",
    "    link = 'link'"
   ]
  },
  {
   "cell_type": "code",
   "execution_count": null,
   "metadata": {},
   "outputs": [],
   "source": [
    "#| export\n",
    "\n",
    "def process_options(opts, hdrs):\n",
    "    for i, (opt, hdr) in enumerate(zip_longest(opts, hdrs or [])):\n",
    "        if hdr and len(hdr) > 0: yield Li(cls=\"uk-nav-header\")(hdr if isinstance(hdr, FT) else Div(hdr))\n",
    "        if isinstance(opt, (list, tuple)): yield from list(map(Li, opt))\n",
    "        else: yield Li(opt)\n",
    "        if i < len(opts) - 1:\n",
    "            next_hdr = hdrs[i+1] if hdrs and i+1 < len(hdrs) else None\n",
    "            if not next_hdr or len(next_hdr) == 0: yield Li(cls='uk-nav-divider')\n",
    "\n",
    "def UkDropdownButton(\n",
    "    options,        # List of options to be displayed in the dropdown\n",
    "    option_hdrs=None,  # List of headers for each option group, or None\n",
    "    label=None,     # String, FT component, or None for the `Button`\n",
    "    btn_cls=UkButtonT.default,  # Button class(es)\n",
    "    cls=(),         # Parent div class\n",
    "    dd_cls=(),      # Class that goes on the dropdown container\n",
    "    icon='triangle-down',  # Icon to use for the dropdown\n",
    "    icon_cls='',    # Additional classes for the icon\n",
    "    icon_position='right'  # Position of the icon: 'left' or 'right'\n",
    "):\n",
    "    dd_cls, btn_cls, cls, icon_cls = map(stringify, (dd_cls, btn_cls, cls, icon_cls))\n",
    "    icon_component = UkIcon(icon, cls=icon_cls) if icon else None\n",
    "    btn_content = [] if label is None else [label]\n",
    "    if icon_component: btn_content.insert(0 if icon_position == 'left' else len(btn_content), icon_component)\n",
    "    btn = Button(type='button', cls='uk-button ' + btn_cls)(*btn_content)\n",
    "    dd = Div(uk_drop='mode: click; pos: bottom-right', cls='uk-dropdown uk-drop ' + dd_cls)(\n",
    "        Ul(cls='uk-dropdown-nav')(*process_options(options, option_hdrs))\n",
    "    )\n",
    "    return Div(cls=cls)(Div(cls='flex items-center space-x-4')(btn, dd))"
   ]
  },
  {
   "cell_type": "code",
   "execution_count": null,
   "metadata": {},
   "outputs": [
    {
     "data": {
      "text/markdown": [
       "---\n",
       "\n",
       "[source](https://github.com/Isaac-Flath/fh-frankenui/blob/main/fh_frankenui/components.py#L228){target=\"_blank\" style=\"float:right; font-size:smaller\"}\n",
       "\n",
       "### UkDropdownButton\n",
       "\n",
       ">      UkDropdownButton (options, option_hdrs=None, label=None,\n",
       ">                        btn_cls=<UkButtonT.default: 'default'>, cls=(),\n",
       ">                        dd_cls=(), icon='triangle-down', icon_cls='',\n",
       ">                        icon_position='right')\n",
       "\n",
       "|    | **Type** | **Default** | **Details** |\n",
       "| -- | -------- | ----------- | ----------- |\n",
       "| options |  |  | List of options to be displayed in the dropdown |\n",
       "| option_hdrs | NoneType | None | List of headers for each option group, or None |\n",
       "| label | NoneType | None | String, FT component, or None for the `Button` |\n",
       "| btn_cls | UkButtonT | uk-button-default | Button class(es) |\n",
       "| cls | tuple | () | Parent div class |\n",
       "| dd_cls | tuple | () | Class that goes on the dropdown container |\n",
       "| icon | str | triangle-down | Icon to use for the dropdown |\n",
       "| icon_cls | str |  | Additional classes for the icon |\n",
       "| icon_position | str | right | Position of the icon: 'left' or 'right' |"
      ],
      "text/plain": [
       "---\n",
       "\n",
       "[source](https://github.com/Isaac-Flath/fh-frankenui/blob/main/fh_frankenui/components.py#L228){target=\"_blank\" style=\"float:right; font-size:smaller\"}\n",
       "\n",
       "### UkDropdownButton\n",
       "\n",
       ">      UkDropdownButton (options, option_hdrs=None, label=None,\n",
       ">                        btn_cls=<UkButtonT.default: 'default'>, cls=(),\n",
       ">                        dd_cls=(), icon='triangle-down', icon_cls='',\n",
       ">                        icon_position='right')\n",
       "\n",
       "|    | **Type** | **Default** | **Details** |\n",
       "| -- | -------- | ----------- | ----------- |\n",
       "| options |  |  | List of options to be displayed in the dropdown |\n",
       "| option_hdrs | NoneType | None | List of headers for each option group, or None |\n",
       "| label | NoneType | None | String, FT component, or None for the `Button` |\n",
       "| btn_cls | UkButtonT | uk-button-default | Button class(es) |\n",
       "| cls | tuple | () | Parent div class |\n",
       "| dd_cls | tuple | () | Class that goes on the dropdown container |\n",
       "| icon | str | triangle-down | Icon to use for the dropdown |\n",
       "| icon_cls | str |  | Additional classes for the icon |\n",
       "| icon_position | str | right | Position of the icon: 'left' or 'right' |"
      ]
     },
     "execution_count": null,
     "metadata": {},
     "output_type": "execute_result"
    }
   ],
   "source": [
    "show_doc(UkDropdownButton)"
   ]
  },
  {
   "cell_type": "markdown",
   "metadata": {},
   "source": [
    "### Other"
   ]
  },
  {
   "cell_type": "code",
   "execution_count": null,
   "metadata": {},
   "outputs": [],
   "source": [
    "#| export\n",
    "def UkButton(*c, \n",
    "            cls=UkButtonT.default, # Use UkButtonT or styles \n",
    "            **kwargs):    \n",
    "    return Button(type='button', cls='uk-button ' + stringify(cls), **kwargs)(*c)"
   ]
  },
  {
   "cell_type": "code",
   "execution_count": null,
   "metadata": {},
   "outputs": [],
   "source": [
    "#| export\n",
    "def UkGenericComponent(component_fn, *c, cls=(), **kwargs):\n",
    "    res = component_fn(**kwargs)(*c)\n",
    "    if cls: res.attrs['class'] += ' ' + cls\n",
    "    return res\n",
    "\n",
    "UkH1 = partial(UkGenericComponent, partial(H1,cls='uk-h1'))\n",
    "UkH2 = partial(UkGenericComponent, partial(H2,cls='uk-h2'))\n",
    "UkH3 = partial(UkGenericComponent, partial(H3,cls='uk-h3'))\n",
    "UkH4 = partial(UkGenericComponent, partial(H4,cls='uk-h4'))\n",
    "UkH5 = partial(UkGenericComponent, partial(H5,cls='uk-h5'))\n",
    "UkH6 = partial(UkGenericComponent, partial(H6,cls='uk-h6'))\n"
   ]
  },
  {
   "cell_type": "code",
   "execution_count": null,
   "metadata": {},
   "outputs": [
    {
     "data": {
      "text/plain": [
       "(h1(('My Uk styled header',),{'class': 'uk-h1'}),\n",
       " h1(('My Uk styled header',),{'class': 'uk-h1 another-class'}))"
      ]
     },
     "execution_count": null,
     "metadata": {},
     "output_type": "execute_result"
    }
   ],
   "source": [
    "UkH1(\"My Uk styled header\"), UkH1('My Uk styled header',cls='another-class')"
   ]
  },
  {
   "cell_type": "code",
   "execution_count": null,
   "metadata": {},
   "outputs": [],
   "source": [
    "#| export\n",
    "def UkHSplit(*c, cls=(), line_cls=(), text_cls=()):\n",
    "    cls, line_cls, text_cls = map(stringify,(cls, line_cls, text_cls))\n",
    "    return Div(cls='relative ' + cls)(\n",
    "        Div(cls=\"absolute inset-0 flex items-center \" + line_cls)(Span(cls=\"w-full border-t border-border\")),\n",
    "        Div(cls=\"relative flex justify-center \" + text_cls)(Span(cls=\"bg-background px-2 \")(*c)))\n",
    "\n",
    "def UkHLine(lwidth=2, y_space=4): return Div(cls=f\"my-{y_space} h-[{lwidth}px] w-full bg-secondary\")"
   ]
  },
  {
   "cell_type": "code",
   "execution_count": null,
   "metadata": {},
   "outputs": [],
   "source": [
    "#| export\n",
    "def UkNavDivider(): return Li(cls=\"uk-nav-divider\")"
   ]
  },
  {
   "cell_type": "markdown",
   "metadata": {},
   "source": [
    "## Higher order components"
   ]
  },
  {
   "cell_type": "markdown",
   "metadata": {},
   "source": [
    "### Navigation"
   ]
  },
  {
   "cell_type": "markdown",
   "metadata": {},
   "source": [
    "#### Navbar"
   ]
  },
  {
   "cell_type": "code",
   "execution_count": null,
   "metadata": {},
   "outputs": [],
   "source": [
    "#| export\n",
    "def UkNavbarDropdown(*c, label, has_header=False):\n",
    "    flattened = []\n",
    "    for i, item in enumerate(c):\n",
    "        if i > 0: flattened.append(Li(cls=\"uk-nav-divider\"))\n",
    "        if isinstance(item, (list,tuple)): flattened.extend(map(Li, item))\n",
    "        else: flattened.append(Li(item, cls=\"uk-nav-header\" if i == 0 and has_header else None))\n",
    "    return Li(A(label, href='#'), Div(cls='uk-navbar-dropdown')(\n",
    "        Ul(cls='uk-nav uk-navbar-dropdown-nav')(*flattened)))"
   ]
  },
  {
   "cell_type": "code",
   "execution_count": null,
   "metadata": {},
   "outputs": [],
   "source": [
    "#| export\n",
    "\n",
    "def _NavBarSide(n, s):\n",
    "    def add_class(item):\n",
    "        if isinstance(item, str): return Li(cls='uk-navbar-item')(item)\n",
    "        else: item.attrs['class'] = f\"{item.attrs.get('class', '')} uk-navbar-item\".strip()\n",
    "        return item\n",
    "    return Div(cls=f'uk-navbar-{s}')(Ul(cls='uk-navbar-nav')(*map(add_class, tuplify(n))))\n",
    "\n",
    "def UkNavbar(lnav: Sequence[Union[str, FT]]=None, \n",
    "             rnav: Sequence[Union[str, FT]]=None, \n",
    "             cls='z-10') -> FT:\n",
    "    return Div(cls='uk-navbar-container uk-width-1-1 relative z-50 '+ cls, uk_navbar=True)(\n",
    "             _NavBarSide(lnav,'left') if lnav else '',\n",
    "             _NavBarSide(rnav,'right') if rnav else '')"
   ]
  },
  {
   "cell_type": "markdown",
   "metadata": {},
   "source": [
    "#### Navtab"
   ]
  },
  {
   "cell_type": "code",
   "execution_count": null,
   "metadata": {},
   "outputs": [],
   "source": [
    "#| export\n",
    "\n",
    "def NavTab(text, active=False):\n",
    "    return Li(cls=\"uk-active\" if active else \" \")(A(text, href=\"#demo\", uk_toggle=True))\n",
    "\n",
    "def UkTab(*items):\n",
    "    return Ul(cls=\"uk-tab-alt max-w-96\")(*[NavTab(item, active=i==0) for i, item in enumerate(items)])"
   ]
  },
  {
   "cell_type": "markdown",
   "metadata": {},
   "source": [
    "#### Sidebar"
   ]
  },
  {
   "cell_type": "code",
   "execution_count": null,
   "metadata": {},
   "outputs": [],
   "source": [
    "#| export\n",
    "\n",
    "def UkSidebarItem(item, is_header=False): return UkH4(item) if is_header else A(role='button')(item)\n",
    "\n",
    "def UkSidebarUl(*lis, cls='', **kwargs): \n",
    "    return Ul(cls=f\"uk-nav uk-nav-secondary space-y-2 {cls}\", **kwargs)(*map(Li,lis))\n",
    "\n",
    "def UkSidebarSection(items, header=None, cls='', **kwargs):\n",
    "    section = [UkSidebarItem(item) for item in items]\n",
    "    if header: section.insert(0, UkSidebarItem(header, is_header=True))\n",
    "    return UkSidebarUl(*section, cls=cls, **kwargs)\n",
    "\n",
    "def UkSidebar(sections, headers=None, outer_margin=4, inner_margin=4, cls=(), **kwargs):\n",
    "    headers = headers or [None] * len(sections)\n",
    "    sidebar_content = map(lambda s_h: UkSidebarSection(*s_h, **kwargs), zip(sections, headers))\n",
    "    return Div(cls=f\"space-y-{inner_margin} p-{outer_margin} {cls}\")(*sidebar_content)"
   ]
  },
  {
   "cell_type": "markdown",
   "metadata": {},
   "source": [
    "### Cards"
   ]
  },
  {
   "cell_type": "code",
   "execution_count": null,
   "metadata": {},
   "outputs": [],
   "source": [
    "#|export\n",
    "def Card(*c, # Components that go in the body\n",
    "        header=None, # Components that go in the header\n",
    "        footer=None,  # Components that go in the footer\n",
    "        body_cls='space-y-6', # classes for the body\n",
    "        header_cls=(), # classes for the header\n",
    "        footer_cls=(), # classes for the footer\n",
    "        cls=(), #class for outermost component\n",
    "        **kwargs # classes that for the card itself\n",
    "        ):\n",
    "    header_cls, footer_cls, body_cls, cls = map(stringify, (header_cls, footer_cls, body_cls, cls))\n",
    "    res = []\n",
    "    if header: res += [Div(cls='uk-card-header ' + header_cls)(header),]\n",
    "    res += [Div(cls='uk-card-body ' + body_cls)(*c),]\n",
    "    if footer: res += [Div(cls='uk-card-footer ' + footer_cls)(footer),]\n",
    "    return Div(cls='uk-card '+cls, **kwargs)(*res)"
   ]
  },
  {
   "cell_type": "markdown",
   "metadata": {},
   "source": [
    "### Modals"
   ]
  },
  {
   "cell_type": "code",
   "execution_count": null,
   "metadata": {},
   "outputs": [],
   "source": [
    "#| export\n",
    "def UkModalTitle(*c, cls=()): return Div(cls='uk-modal-title ' + stringify(cls))(*c)\n",
    "\n",
    "def Modal(*c,\n",
    "        header=None, # Components that go in the header\n",
    "        footer=None,  # Components that go in the footer\n",
    "        body_cls='space-y-6', # classes for the body\n",
    "        header_cls='p-6', # classes for the header\n",
    "        footer_cls=(), # classes for the footer\n",
    "        cls=(), #class for outermost component\n",
    "        **kwargs # classes that for the card itself\n",
    "        ):\n",
    "    header_cls, footer_cls, body_cls, cls = map(stringify, (header_cls, footer_cls, body_cls, cls))\n",
    "    res = []\n",
    "    if header: res += [Div(cls='uk-modal-header ' + header_cls)(header),]\n",
    "    res += [Div(cls='uk-modal-body uk-modal-dialog ' + body_cls)(*c),]\n",
    "    if footer: res += [Div(cls='uk-modal-footer ' + footer_cls)(footer),]\n",
    "    return Div(cls='uk-modal uk-modal-container' + cls, uk_modal=True, **kwargs)(*res)\n"
   ]
  },
  {
   "cell_type": "markdown",
   "metadata": {},
   "source": [
    "### Tables"
   ]
  },
  {
   "cell_type": "code",
   "execution_count": null,
   "metadata": {},
   "outputs": [],
   "source": [
    "#| export\n",
    "def default_header(col): return Th(cls='p-2')(col)\n",
    "def default_cell(col, row): return Td(row[col], cls='p-2')\n",
    "\n",
    "def header_row(columns, header_render):\n",
    "    rndr = header_render or default_header\n",
    "    return Tr(*map(rndr, columns))\n",
    "\n",
    "def data_row(row, columns, cell_render):\n",
    "    rndr = cell_render or default_cell\n",
    "    return Tr(*[rndr(col, row) for col in columns])\n",
    "\n",
    "def UkTable(columns, data, *args, cls=(), footer=None, cell_render=None, header_render=None, **kwargs):\n",
    "    table_cls = 'uk-table uk-table-middle uk-table-divider uk-table-hover uk-table-small ' + stringify(cls)\n",
    "    table_content = [\n",
    "        Thead(header_row(columns, header_render)),\n",
    "        Tbody(*map(lambda d: data_row(d, columns, cell_render), data))\n",
    "    ]\n",
    "    if footer: table_content.append(Tfoot(footer))\n",
    "    return Table(cls=table_cls, *args, **kwargs)(*table_content)"
   ]
  },
  {
   "cell_type": "code",
   "execution_count": null,
   "metadata": {},
   "outputs": [],
   "source": [
    "#| hide\n",
    "\n",
    "import nbdev; nbdev.nbdev_export()"
   ]
  },
  {
   "cell_type": "code",
   "execution_count": null,
   "metadata": {},
   "outputs": [],
   "source": []
  }
 ],
 "metadata": {
  "kernelspec": {
   "display_name": "python3",
   "language": "python",
   "name": "python3"
  }
 },
 "nbformat": 4,
 "nbformat_minor": 4
}
