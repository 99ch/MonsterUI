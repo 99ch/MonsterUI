{
 "cells": [
  {
   "cell_type": "markdown",
   "id": "bd49724c",
   "metadata": {},
   "source": [
    "# Cards\n",
    "\n",
    "> FrankenUI Cards Example"
   ]
  },
  {
   "cell_type": "code",
   "execution_count": 25,
   "id": "4878c4e1",
   "metadata": {},
   "outputs": [],
   "source": [
    "#| default_exp cards"
   ]
  },
  {
   "cell_type": "code",
   "execution_count": 26,
   "id": "db96459b",
   "metadata": {},
   "outputs": [],
   "source": [
    "#| export\n",
    "from fasthtml.common import *\n",
    "\n",
    "from fasthtml.components import Uk_input_tag\n",
    "from fasthtml.svg import *\n",
    "from fh_frankenui import *\n",
    "from fh_frankenui.core import *\n",
    "from fh_frankenui.components import *\n",
    "import calendar"
   ]
  },
  {
   "cell_type": "code",
   "execution_count": 27,
   "id": "583fc023",
   "metadata": {},
   "outputs": [],
   "source": [
    "#| hide\n",
    "#| eval: false\n",
    "\n",
    "from fasthtml.jupyter import *\n",
    "from IPython.display import display, HTML\n",
    "\n",
    "\n",
    "if is_port_free(8000) and IN_NOTEBOOK::\n",
    "    app, rt = fh.fast_app(pico=False, hdrs=Theme.blue.headers())\n",
    "    server = JupyUvi(app)\n",
    "def HShow(comp, app):\n",
    "    @app.get('/')\n",
    "    def get(): return comp\n",
    "\n",
    "    display(HTML(f'<a href=\"http://localhost:8000/\" target=\"_blank\">Open in new tab</a>'))\n",
    "    return HTMX(\"/\")\n",
    "\n",
    "Show = partial(HShow, app=app)"
   ]
  },
  {
   "cell_type": "code",
   "execution_count": 28,
   "id": "c8c2cc08",
   "metadata": {},
   "outputs": [],
   "source": [
    "#| hide\n",
    "from nbdev.showdoc import *"
   ]
  },
  {
   "cell_type": "code",
   "execution_count": 29,
   "id": "7f8fd12f",
   "metadata": {},
   "outputs": [
    {
     "data": {
      "text/html": [
       "<script src=\"https://cdn.tailwindcss.com\"></script>\n",
       "<script src=\"https://cdn.jsdelivr.net/npm/uikit@3.21.6/dist/js/uikit.min.js\"></script>\n",
       "<script src=\"https://cdn.jsdelivr.net/npm/uikit@3.21.6/dist/js/uikit-icons.min.js\"></script>\n",
       "<script type=\"module\" src=\"https://unpkg.com/franken-wc@0.0.6/dist/js/wc.iife.js\"></script>\n",
       "<link rel=\"stylesheet\" href=\"https://unpkg.com/franken-wc@0.0.6/dist/css/blue.min.css\">\n",
       "\n",
       "<style>\n",
       "#notebook-container { max-width: none; }\n",
       ".output_html * { list-style-type: none !important; }\n",
       "</style>\n"
      ],
      "text/plain": [
       "<IPython.core.display.HTML object>"
      ]
     },
     "metadata": {},
     "output_type": "display_data"
    }
   ],
   "source": [
    "%%html\n",
    "<script src=\"https://cdn.tailwindcss.com\"></script>\n",
    "<script src=\"https://cdn.jsdelivr.net/npm/uikit@3.21.6/dist/js/uikit.min.js\"></script>\n",
    "<script src=\"https://cdn.jsdelivr.net/npm/uikit@3.21.6/dist/js/uikit-icons.min.js\"></script>\n",
    "<script type=\"module\" src=\"https://unpkg.com/franken-wc@0.0.6/dist/js/wc.iife.js\"></script>\n",
    "<link rel=\"stylesheet\" href=\"https://unpkg.com/franken-wc@0.0.6/dist/css/blue.min.css\">\n",
    "\n",
    "<style>\n",
    "#notebook-container { max-width: none; }\n",
    ".output_html * { list-style-type: none !important; }\n",
    "</style>"
   ]
  },
  {
   "cell_type": "markdown",
   "id": "9c614ae3",
   "metadata": {},
   "source": [
    "## Cards"
   ]
  },
  {
   "cell_type": "markdown",
   "id": "56c63ad5",
   "metadata": {},
   "source": [
    "### C1, R1"
   ]
  },
  {
   "cell_type": "code",
   "execution_count": 30,
   "id": "576c1ec3",
   "metadata": {},
   "outputs": [],
   "source": [
    "#| export\n",
    "Left1 = Card(Grid(Button(UkIcon('github',cls='uk-margin-small-right'),'Github'),\n",
    "                  Button(UkIcon('google',cls='uk-margin-small-right'),'Google'),\n",
    "                  cols=2,cls='gap-6'),\n",
    "            UkHSplit(\"OR CONTINUE WITH\", text_cls = (TextT.small, TextT.muted)),\n",
    "            LabelInput('Email',    id='email',   placeholder='m@example.com'),\n",
    "            LabelInput('Password', id='password',placeholder='Password', type='Password'),\n",
    "            header=(H3('Create an account'),P(cls=TextFont.muted_sm)('Enter your email below to create your account')),\n",
    "            footer=Button(cls=(ButtonT.primary,'w-full'))('Create Account'),\n",
    "            body_cls='space-y-4 py-0')"
   ]
  },
  {
   "cell_type": "code",
   "execution_count": 31,
   "id": "94f8c4b4",
   "metadata": {
    "scrolled": true
   },
   "outputs": [
    {
     "data": {
      "text/html": [
       "<a href=\"http://localhost:8000/\" target=\"_blank\">Open in new tab</a>"
      ],
      "text/plain": [
       "<IPython.core.display.HTML object>"
      ]
     },
     "metadata": {},
     "output_type": "display_data"
    },
    {
     "data": {
      "text/html": [
       "<iframe src=\"http://localhost:8000/\" style=\"width: 100%; height: auto; border: none;\" onload=\"{\n",
       "        let frame = this;\n",
       "        window.addEventListener('message', function(e) {\n",
       "            if (e.data.height) frame.style.height = (e.data.height+1) + 'px';\n",
       "        }, false);\n",
       "    }\" allow=\"accelerometer; autoplay; camera; clipboard-read; clipboard-write; display-capture; encrypted-media; fullscreen; gamepad; geolocation; gyroscope; hid; identity-credentials-get; idle-detection; magnetometer; microphone; midi; payment; picture-in-picture; publickey-credentials-get; screen-wake-lock; serial; usb; web-share; xr-spatial-tracking\"></iframe> "
      ],
      "text/plain": [
       "<IPython.core.display.HTML object>"
      ]
     },
     "execution_count": 31,
     "metadata": {},
     "output_type": "execute_result"
    }
   ],
   "source": [
    "Show(Left1)"
   ]
  },
  {
   "cell_type": "markdown",
   "id": "c1d80f69",
   "metadata": {},
   "source": [
    "## C1, R2"
   ]
  },
  {
   "cell_type": "code",
   "execution_count": 32,
   "id": "71067a4e",
   "metadata": {},
   "outputs": [],
   "source": [
    "#| export\n",
    "Card1Svg = Svg(viewBox=\"0 0 24 24\", fill=\"none\", stroke=\"currentColor\", stroke_linecap=\"round\", stroke_linejoin=\"round\", stroke_width=\"2\", cls=\"h-6 w-6 mr-1\")(Rect(width=\"20\", height=\"14\", x=\"2\", y=\"5\", rx=\"2\"),Path(d=\"M2 10h20\"))\n",
    "Card2Svg = Svg(role=\"img\", viewBox=\"0 0 24 24\", cls=\"h-6 w-6 mr-1\")(Path(d=\"M7.076 21.337H2.47a.641.641 0 0 1-.633-.74L4.944.901C5.026.382 5.474 0 5.998 0h7.46c2.57 0 4.578.543 5.69 1.81 1.01 1.15 1.304 2.42 1.012 4.287-.023.143-.047.288-.077.437-.983 5.05-4.349 6.797-8.647 6.797h-2.19c-.524 0-.968.382-1.05.9l-1.12 7.106zm14.146-14.42a3.35 3.35 0 0 0-.607-.541c-.013.076-.026.175-.041.254-.93 4.778-4.005 7.201-9.138 7.201h-2.19a.563.563 0 0 0-.556.479l-1.187 7.527h-.506l-.24 1.516a.56.56 0 0 0 .554.647h3.882c.46 0 .85-.334.922-.788.06-.26.76-4.852.816-5.09a.932.932 0 0 1 .923-.788h.58c3.76 0 6.705-1.528 7.565-5.946.36-1.847.174-3.388-.777-4.471z\", fill=\"currentColor\")),\n",
    "AppleSvg = Svg(role=\"img\", viewBox=\"0 0 24 24\", cls=\"h-6 w-6 mr-1\")(Path(d=\"M12.152 6.896c-.948 0-2.415-1.078-3.96-1.04-2.04.027-3.91 1.183-4.961 3.014-2.117 3.675-.546 9.103 1.519 12.09 1.013 1.454 2.208 3.09 3.792 3.039 1.52-.065 2.09-.987 3.935-.987 1.831 0 2.35.987 3.96.948 1.637-.026 2.676-1.48 3.676-2.948 1.156-1.688 1.636-3.325 1.662-3.415-.039-.013-3.182-1.221-3.22-4.857-.026-3.04 2.48-4.494 2.597-4.559-1.429-2.09-3.623-2.324-4.39-2.376-2-.156-3.675 1.09-4.61 1.09zM15.53 3.83c.843-1.012 1.4-2.427 1.245-3.83-1.207.052-2.662.805-3.532 1.818-.78.896-1.454 2.338-1.273 3.714 1.338.104 2.715-.688 3.559-1.701\", fill=\"currentColor\"))"
   ]
  },
  {
   "cell_type": "code",
   "execution_count": 33,
   "id": "d30e1e29",
   "metadata": {},
   "outputs": [],
   "source": [
    "#| export\n",
    "Left2 = Card(\n",
    "    Grid(\n",
    "        Button(CenteredDiv(Card1Svg, \"Card\"),  cls='h-20 w-full border-2 border-primary'),\n",
    "        Button(CenteredDiv(Card2Svg, \"Card\"),  cls='h-20 w-full'),\n",
    "        Button(CenteredDiv(AppleSvg, \"Apple\"), cls='h-20 w-full'),\n",
    "        cols=3,cls='gap-6'),\n",
    "    Div(cls='space-y-4')(\n",
    "        LabelInput('Name',        id='name',        placeholder='John Doe'),\n",
    "        LabelInput('Card Number', id='card_number', placeholder='m@example.com'),\n",
    "        Grid(LabelSelect(*Options(*calendar.month_name[1:],selected_idx=0),label='Expires',id='expire_month'),\n",
    "             LabelSelect(*Options(*range(2024,2030),selected_idx=0),       label='Year',   id='expire_year'),\n",
    "             LabelInput('CVV', id='cvv',placeholder='CVV'),\n",
    "             cols=3,cls='gap-4')),\n",
    "    header=(H3('Payment Method'),P(cls=TextFont.muted_sm)('Add a new payment method to your account.')))"
   ]
  },
  {
   "cell_type": "code",
   "execution_count": 34,
   "id": "9e6b8529",
   "metadata": {},
   "outputs": [
    {
     "data": {
      "text/html": [
       "<a href=\"http://localhost:8000/\" target=\"_blank\">Open in new tab</a>"
      ],
      "text/plain": [
       "<IPython.core.display.HTML object>"
      ]
     },
     "metadata": {},
     "output_type": "display_data"
    },
    {
     "data": {
      "text/html": [
       "<iframe src=\"http://localhost:8000/\" style=\"width: 100%; height: auto; border: none;\" onload=\"{\n",
       "        let frame = this;\n",
       "        window.addEventListener('message', function(e) {\n",
       "            if (e.data.height) frame.style.height = (e.data.height+1) + 'px';\n",
       "        }, false);\n",
       "    }\" allow=\"accelerometer; autoplay; camera; clipboard-read; clipboard-write; display-capture; encrypted-media; fullscreen; gamepad; geolocation; gyroscope; hid; identity-credentials-get; idle-detection; magnetometer; microphone; midi; payment; picture-in-picture; publickey-credentials-get; screen-wake-lock; serial; usb; web-share; xr-spatial-tracking\"></iframe> "
      ],
      "text/plain": [
       "<IPython.core.display.HTML object>"
      ]
     },
     "execution_count": 34,
     "metadata": {},
     "output_type": "execute_result"
    }
   ],
   "source": [
    "Show(Left2)"
   ]
  },
  {
   "cell_type": "markdown",
   "id": "ce3da98e",
   "metadata": {},
   "source": [
    "### C3, R1"
   ]
  },
  {
   "cell_type": "code",
   "execution_count": 35,
   "id": "8c238a7f",
   "metadata": {},
   "outputs": [],
   "source": [
    "#| export\n",
    "area_opts = ('Team','Billing','Account','Deployment','Support')\n",
    "severity_opts = ('Severity 1 (Highest)', 'Severity 2', 'Severity 3', 'Severity 4 (Lowest)')\n",
    "Right1 = Card(\n",
    "    Grid(Div(LabelSelect(*Options(*area_opts),    label='Area',    id='area')),\n",
    "         Div(LabelSelect(*Options(*severity_opts),label='Severity',id='area')),\n",
    "         cls=GridT.small,\n",
    "         cols=2),\n",
    "    LabelInput(    label='Subject',    placeholder='I need help with', id='subject'),\n",
    "    LabelTextArea( label='Description',placeholder='Please include all information relevant to your issue', id='description'),\n",
    "    Div(FormLabel('Tags', fr='#tags'),\n",
    "        Uk_input_tag(name=\"Tags\",state=\"danger\", value=\"Spam,Invalid\", uk_cloak=True, id='tags')),\n",
    "    header=(H3('Report an issue'),P(cls=TextFont.muted_sm)('What area are you having problems with')),\n",
    "    footer = FullySpacedDiv(Button(cls=ButtonT.ghost  )('Cancel'),\n",
    "                            Button(cls=ButtonT.primary)('Submit')))\n"
   ]
  },
  {
   "cell_type": "code",
   "execution_count": 36,
   "id": "42d3111e",
   "metadata": {},
   "outputs": [
    {
     "data": {
      "text/html": [
       "<a href=\"http://localhost:8000/\" target=\"_blank\">Open in new tab</a>"
      ],
      "text/plain": [
       "<IPython.core.display.HTML object>"
      ]
     },
     "metadata": {},
     "output_type": "display_data"
    },
    {
     "data": {
      "text/html": [
       "<iframe src=\"http://localhost:8000/\" style=\"width: 100%; height: auto; border: none;\" onload=\"{\n",
       "        let frame = this;\n",
       "        window.addEventListener('message', function(e) {\n",
       "            if (e.data.height) frame.style.height = (e.data.height+1) + 'px';\n",
       "        }, false);\n",
       "    }\" allow=\"accelerometer; autoplay; camera; clipboard-read; clipboard-write; display-capture; encrypted-media; fullscreen; gamepad; geolocation; gyroscope; hid; identity-credentials-get; idle-detection; magnetometer; microphone; midi; payment; picture-in-picture; publickey-credentials-get; screen-wake-lock; serial; usb; web-share; xr-spatial-tracking\"></iframe> "
      ],
      "text/plain": [
       "<IPython.core.display.HTML object>"
      ]
     },
     "execution_count": 36,
     "metadata": {},
     "output_type": "execute_result"
    }
   ],
   "source": [
    "Show(Right1)"
   ]
  },
  {
   "cell_type": "markdown",
   "id": "43338ac8",
   "metadata": {},
   "source": [
    "### C3, R2"
   ]
  },
  {
   "cell_type": "code",
   "execution_count": 37,
   "id": "7253706b",
   "metadata": {},
   "outputs": [],
   "source": [
    "#| export\n",
    "FlexBlockCentered = (FlexT.block,FlexT.center)"
   ]
  },
  {
   "cell_type": "code",
   "execution_count": 38,
   "id": "aa8a07f7",
   "metadata": {},
   "outputs": [],
   "source": [
    "#| export\n",
    "franken_desc =\"HTML-first, framework-agnostic, beautifully designed components that you can truly copy and paste into your site. Accessible. Customizable. Open Source.\"\n",
    "Right2 = Card(H4(\"franken/ui\"),\n",
    "              P(cls=TextFont.muted_sm)(franken_desc),\n",
    "              Div(cls=('flex','gap-x-4',TextFont.muted_sm))(\n",
    "                Div(cls=FlexBlockCentered)(\"TypeScript\"),\n",
    "                Div(cls=FlexBlockCentered)(UkIcon('star'),\"20k\"),\"Updated April 2023\"))"
   ]
  },
  {
   "cell_type": "markdown",
   "id": "6e1b3eac",
   "metadata": {},
   "source": [
    "### C3, R3"
   ]
  },
  {
   "cell_type": "code",
   "execution_count": 39,
   "id": "bfee421c",
   "metadata": {},
   "outputs": [],
   "source": [
    "#| export\n",
    "Right3 = Card(\n",
    "    Div(H5('Strictly Necessary'),\n",
    "        P(cls=(TextFont.muted_sm,TextT.normal))('These cookies are essential in order to use the website and use its features.'),\n",
    "        Switch(),\n",
    "        cls=(*FlexBlockCentered, FlexT.between, 'gap-2')),\n",
    "    Div(H5('Functional Cookies'),\n",
    "        P(cls=(TextFont.muted_sm,TextT.normal))('These cookies allow the website to provide personalized functionality.'),\n",
    "        Switch(),\n",
    "        cls=(*FlexBlockCentered, FlexT.between, 'gap-2')),\n",
    "    Div(H5('Performance Cookies'),\n",
    "        P(cls=(TextFont.muted_sm,TextT.normal))('These cookies help to improve the performance of the website.'),\n",
    "        Switch(),\n",
    "        cls=(*FlexBlockCentered, FlexT.between, 'gap-2')),\n",
    "    header=(H4('Cookie Settings'),P(cls=(TextFont.muted_sm, 'mt-1.5'))('Manage your cookie settings here.')),\n",
    "    footer=Button(cls=(ButtonT.primary, 'w-full'))('Save Preferences'),)"
   ]
  },
  {
   "cell_type": "markdown",
   "id": "1d5439a0",
   "metadata": {},
   "source": [
    "### C2, R1"
   ]
  },
  {
   "cell_type": "code",
   "execution_count": 91,
   "id": "1b354a91",
   "metadata": {},
   "outputs": [],
   "source": [
    "#| export\n",
    "team_members = [(\"Sofia Davis\", \"m@example.com\", \"Owner\"),(\"Jackson Lee\", \"p@example.com\", \"Member\"),]\n",
    "\n",
    "body = [Div(cls=(*FlexBlockCentered, 'space-x-4'))(\n",
    "        DiceBearAvatar(n, 10,10),\n",
    "        Div(cls='flex-1')(\n",
    "            P(n, cls='text-sm font-medium leading-none'),\n",
    "            P(e, cls=TextFont.muted_sm)),\n",
    "        Button(r),\n",
    "        DropDownNavContainer(map(NavCloseLi, [\n",
    "            A(Div('Viewer',    NavSubtitle('Can view and comment.'))),\n",
    "            A(Div('Developer', NavSubtitle('Can view, comment and edit.'))),\n",
    "            A(Div('Billing',   NavSubtitle('Can view, comment and manage billing.'))),\n",
    "            A(Div('Owner',     NavSubtitle('Admin-level access to all resources.')))]\n",
    "                 )),\n",
    "    ) for n,e,r in team_members]\n",
    "\n",
    "Middle1 = Card(*body,\n",
    "        header = (H4('Team Members'),Div('Invite your team members to collaborate.', cls=('mt-1.5', TextFont.muted_sm))),)"
   ]
  },
  {
   "cell_type": "code",
   "execution_count": 92,
   "id": "8545ec11",
   "metadata": {},
   "outputs": [
    {
     "data": {
      "text/html": [
       "<a href=\"http://localhost:8000/\" target=\"_blank\">Open in new tab</a>"
      ],
      "text/plain": [
       "<IPython.core.display.HTML object>"
      ]
     },
     "metadata": {},
     "output_type": "display_data"
    },
    {
     "data": {
      "text/html": [
       "<iframe src=\"http://localhost:8000/\" style=\"width: 100%; height: auto; border: none;\" onload=\"{\n",
       "        let frame = this;\n",
       "        window.addEventListener('message', function(e) {\n",
       "            if (e.data.height) frame.style.height = (e.data.height+1) + 'px';\n",
       "        }, false);\n",
       "    }\" allow=\"accelerometer; autoplay; camera; clipboard-read; clipboard-write; display-capture; encrypted-media; fullscreen; gamepad; geolocation; gyroscope; hid; identity-credentials-get; idle-detection; magnetometer; microphone; midi; payment; picture-in-picture; publickey-credentials-get; screen-wake-lock; serial; usb; web-share; xr-spatial-tracking\"></iframe> "
      ],
      "text/plain": [
       "<IPython.core.display.HTML object>"
      ]
     },
     "execution_count": 92,
     "metadata": {},
     "output_type": "execute_result"
    }
   ],
   "source": [
    "Show(Middle1)"
   ]
  },
  {
   "cell_type": "markdown",
   "id": "fcda74bf",
   "metadata": {},
   "source": [
    "### C2, R2"
   ]
  },
  {
   "cell_type": "code",
   "execution_count": 16,
   "id": "68dfdd14",
   "metadata": {},
   "outputs": [],
   "source": [
    "#| export\n",
    "access_roles = (\"Read and write access\", \"Read-only access\")\n",
    "team_members = [(\"Olivia Martin\", \"m@example.com\", \"Read and write access\"),\n",
    "                (\"Isabella Nguyen\", \"b@example.com\", \"Read-only access\"),\n",
    "                (\"Sofia Davis\", \"p@example.com\", \"Read-only access\")]"
   ]
  },
  {
   "cell_type": "code",
   "execution_count": 21,
   "id": "26a5cbf0",
   "metadata": {},
   "outputs": [],
   "source": [
    "#| export\n",
    "Middle2 = Card(\n",
    "    Div(cls='flex gap-x-2')(\n",
    "        Input(value='http://example.com/link/to/document',cls='flex-1'),\n",
    "        Button('Copy link')),\n",
    "    Div(cls='uk-divider-icon my-4'),\n",
    "    H4(cls=TextFont.bold_sm)('People with access'),\n",
    "    *[LAlignedDiv(\n",
    "        DiceBearAvatar(n, 10,10),\n",
    "        Div(cls='flex-1')(\n",
    "            P(n, cls='text-sm font-medium leading-none'),\n",
    "            P(e, cls=TextFont.muted_sm)),\n",
    "        Select(*Options(*access_roles, selected_idx=access_roles.index(r))), cls='gap-4') for n,e,r in team_members],\n",
    "    header = (H4('Share this document'),Div('Anyone with the link can view this document.', cls=('mt-1.5',TextFont.muted_sm))))"
   ]
  },
  {
   "cell_type": "code",
   "execution_count": 22,
   "id": "2845f15c",
   "metadata": {},
   "outputs": [
    {
     "data": {
      "text/html": [
       "<div class=\"uk-card \">\n",
       "  <div class=\"uk-card-header \">\n",
       "    <h4 class=\"uk-h4 \">Share this document</h4>\n",
       "    <div class=\"mt-1.5 uk-text-muted uk-text-small\">Anyone with the link can view this document.</div>\n",
       "  </div>\n",
       "  <div class=\"uk-card-body space-y-6\">\n",
       "    <div class=\"flex gap-x-2\">\n",
       "      <input value=\"http://example.com/link/to/document\" class=\"uk-input flex-1\">\n",
       "<button type=\"button\" class=\"uk-button uk-button-default\">Copy link</button>    </div>\n",
       "    <div class=\"uk-divider-icon my-4\"></div>\n",
       "    <h4 class=\"uk-h4 uk-text-bold uk-text-small\">People with access</h4>\n",
       "    <div class=\"uk-flex uk-flex-left uk-flex-middle gap-4\">\n",
       "<span class=\"relative flex h-10 w-10 shrink-0 overflow-hidden rounded-full bg-accent\"><img alt=\"Avatar\" src=\"https://api.dicebear.com/8.x/lorelei/svg?seed=Olivia Martin\" class=\"aspect-square h-full w-full\"></span>      <div class=\"flex-1\">\n",
       "        <p class=\"text-sm font-medium leading-none\">Olivia Martin</p>\n",
       "        <p class=\"uk-text-muted uk-text-small\">m@example.com</p>\n",
       "      </div>\n",
       "<select class=\"uk-select \"><option selected>Read and write access</option><option>Read-only access</option></select>    </div>\n",
       "    <div class=\"uk-flex uk-flex-left uk-flex-middle gap-4\">\n",
       "<span class=\"relative flex h-10 w-10 shrink-0 overflow-hidden rounded-full bg-accent\"><img alt=\"Avatar\" src=\"https://api.dicebear.com/8.x/lorelei/svg?seed=Isabella Nguyen\" class=\"aspect-square h-full w-full\"></span>      <div class=\"flex-1\">\n",
       "        <p class=\"text-sm font-medium leading-none\">Isabella Nguyen</p>\n",
       "        <p class=\"uk-text-muted uk-text-small\">b@example.com</p>\n",
       "      </div>\n",
       "<select class=\"uk-select \"><option>Read and write access</option><option selected>Read-only access</option></select>    </div>\n",
       "    <div class=\"uk-flex uk-flex-left uk-flex-middle gap-4\">\n",
       "<span class=\"relative flex h-10 w-10 shrink-0 overflow-hidden rounded-full bg-accent\"><img alt=\"Avatar\" src=\"https://api.dicebear.com/8.x/lorelei/svg?seed=Sofia Davis\" class=\"aspect-square h-full w-full\"></span>      <div class=\"flex-1\">\n",
       "        <p class=\"text-sm font-medium leading-none\">Sofia Davis</p>\n",
       "        <p class=\"uk-text-muted uk-text-small\">p@example.com</p>\n",
       "      </div>\n",
       "<select class=\"uk-select \"><option>Read and write access</option><option selected>Read-only access</option></select>    </div>\n",
       "  </div>\n",
       "</div>\n"
      ],
      "text/plain": [
       "<IPython.core.display.HTML object>"
      ]
     },
     "execution_count": 22,
     "metadata": {},
     "output_type": "execute_result"
    }
   ],
   "source": [
    "show(Middle2)"
   ]
  },
  {
   "cell_type": "markdown",
   "id": "e90cf43c",
   "metadata": {},
   "source": [
    "### C2, R3"
   ]
  },
  {
   "cell_type": "code",
   "execution_count": 14,
   "id": "93ddf953",
   "metadata": {},
   "outputs": [],
   "source": [
    "#| export\n",
    "Middle3 = Card(Button('Jan 20, 2024 - Feb 09, 2024'))"
   ]
  },
  {
   "cell_type": "markdown",
   "id": "0478f7df",
   "metadata": {},
   "source": [
    "### C2, R4"
   ]
  },
  {
   "cell_type": "code",
   "execution_count": 48,
   "id": "a77f02ee",
   "metadata": {},
   "outputs": [],
   "source": [
    "#| export\n",
    "section_content =(('bell','Everything',\"Email digest, mentions & all activity.\"),\n",
    "                  ('user',\"Available\",\"Only mentions and comments\"),\n",
    "                  ('ban',\"Ignoring\",\"Turn of all notifications\"))"
   ]
  },
  {
   "cell_type": "code",
   "execution_count": 56,
   "id": "75dc8fdd",
   "metadata": {},
   "outputs": [],
   "source": [
    "?UkIcon"
   ]
  },
  {
   "cell_type": "code",
   "execution_count": 65,
   "id": "aecb3bce",
   "metadata": {},
   "outputs": [],
   "source": [
    "#| export\n",
    "Middle4 = Card(\n",
    "    NavContainer(\n",
    "    *[Li(cls='-mx-1')(A(Div(cls=\"flex gap-x-4\")(UkIcon(icon),Div(cls='flex-1')(P(name),P(cls=TextFont.muted_sm)(desc)))))\n",
    "            for icon, name, desc in section_content],\n",
    "        cls=NavT.secondary),\n",
    "    header = (H4('Notification'),Div('Choose what you want to be notified about.', cls=('mt-1.5', TextFont.muted_sm))),\n",
    "    body_cls='pt-0')"
   ]
  },
  {
   "cell_type": "code",
   "execution_count": 66,
   "id": "5fe3c394",
   "metadata": {},
   "outputs": [
    {
     "data": {
      "text/html": [
       "<a href=\"http://localhost:8000/\" target=\"_blank\">Open in new tab</a>"
      ],
      "text/plain": [
       "<IPython.core.display.HTML object>"
      ]
     },
     "metadata": {},
     "output_type": "display_data"
    },
    {
     "data": {
      "text/html": [
       "<iframe src=\"http://localhost:8000/\" style=\"width: 100%; height: auto; border: none;\" onload=\"{\n",
       "        let frame = this;\n",
       "        window.addEventListener('message', function(e) {\n",
       "            if (e.data.height) frame.style.height = (e.data.height+1) + 'px';\n",
       "        }, false);\n",
       "    }\" allow=\"accelerometer; autoplay; camera; clipboard-read; clipboard-write; display-capture; encrypted-media; fullscreen; gamepad; geolocation; gyroscope; hid; identity-credentials-get; idle-detection; magnetometer; microphone; midi; payment; picture-in-picture; publickey-credentials-get; screen-wake-lock; serial; usb; web-share; xr-spatial-tracking\"></iframe> "
      ],
      "text/plain": [
       "<IPython.core.display.HTML object>"
      ]
     },
     "execution_count": 66,
     "metadata": {},
     "output_type": "execute_result"
    }
   ],
   "source": [
    "Show(Middle4)"
   ]
  },
  {
   "cell_type": "markdown",
   "id": "779fa6fb",
   "metadata": {},
   "source": [
    "## Route Data"
   ]
  },
  {
   "cell_type": "code",
   "execution_count": 79,
   "id": "a1987227",
   "metadata": {},
   "outputs": [],
   "source": [
    "#| export\n",
    "def page():\n",
    "    return Title(\"Custom\"),Grid(\n",
    "            *map(Div,(Left1,Left2,Middle1,Middle2,Middle3,Middle4,Right1,Right2, Right3)),\n",
    "            cols=1, cls=(GridT.small,'md:grid-cols-3', 'sm:grid-cols-2'), uk_grid=\"masonry: pack\")"
   ]
  },
  {
   "cell_type": "code",
   "execution_count": null,
   "id": "3eaa3ce6",
   "metadata": {},
   "outputs": [],
   "source": [
    "Grid()"
   ]
  },
  {
   "cell_type": "code",
   "execution_count": 80,
   "id": "0954254d",
   "metadata": {},
   "outputs": [],
   "source": [
    "#| export\n",
    "cards_homepage = page()"
   ]
  },
  {
   "cell_type": "code",
   "execution_count": 81,
   "id": "3c32b2aa",
   "metadata": {},
   "outputs": [],
   "source": [
    "#| hide\n",
    "import nbdev; nbdev.nbdev_export()"
   ]
  }
 ],
 "metadata": {
  "kernelspec": {
   "display_name": "Python 3 (ipykernel)",
   "language": "python",
   "name": "python3"
  },
  "language_info": {
   "codemirror_mode": {
    "name": "ipython",
    "version": 3
   },
   "file_extension": ".py",
   "mimetype": "text/x-python",
   "name": "python",
   "nbconvert_exporter": "python",
   "pygments_lexer": "ipython3",
   "version": "3.12.4"
  },
  "toc": {
   "base_numbering": 1,
   "nav_menu": {},
   "number_sections": true,
   "sideBar": true,
   "skip_h1_title": false,
   "title_cell": "Table of Contents",
   "title_sidebar": "Contents",
   "toc_cell": false,
   "toc_position": {},
   "toc_section_display": true,
   "toc_window_display": false
  }
 },
 "nbformat": 4,
 "nbformat_minor": 5
}
