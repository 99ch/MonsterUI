{
 "cells": [
  {
   "cell_type": "markdown",
   "id": "e43d0955",
   "metadata": {},
   "source": [
    "# Main\n",
    "\n",
    "> FrankenUI Tasks Example"
   ]
  },
  {
   "cell_type": "code",
   "execution_count": 1,
   "id": "0cc276d0",
   "metadata": {},
   "outputs": [],
   "source": [
    "#| default_exp main"
   ]
  },
  {
   "cell_type": "code",
   "execution_count": 2,
   "id": "d5abdcb0",
   "metadata": {},
   "outputs": [],
   "source": [
    "#| export\n",
    "from fasthtml.common import *\n",
    "import fasthtml.common as fh\n",
    "from fh_frankenui.components import *\n",
    "from fh_frankenui.core import *\n",
    "from fasthtml.components import Uk_theme_switcher"
   ]
  },
  {
   "cell_type": "code",
   "execution_count": 3,
   "id": "8dac5fdd",
   "metadata": {},
   "outputs": [],
   "source": [
    "#| export\n",
    "from tasks import tasks_homepage\n",
    "from cards import cards_homepage\n",
    "from dashboard import dashboard_homepage\n",
    "from forms import forms_homepage\n",
    "from music import music_homepage\n",
    "from auth import auth_homepage\n",
    "from playground import playground_homepage\n",
    "from mail import mail_homepage"
   ]
  },
  {
   "cell_type": "code",
   "execution_count": 4,
   "id": "9238fa2a",
   "metadata": {},
   "outputs": [
    {
     "name": "stdout",
     "output_type": "stream",
     "text": [
      "Starter server on port 8006\n"
     ]
    }
   ],
   "source": [
    "#| hide\n",
    "#| eval: false\n",
    "from IPython.display import HTML, display, Markdown\n",
    "from fasthtml.jupyter import *\n",
    "from functools import partial\n",
    "\n",
    "\n",
    "def create_server(app,rt):\n",
    "    if 'server' in globals(): globals()['server'].stop()\n",
    "    if IN_NOTEBOOK:\n",
    "        for port in range(8000,8030):   \n",
    "            if is_port_free(port):\n",
    "                server = JupyUvi(app, port=port)\n",
    "\n",
    "                def HShow(comp, app):\n",
    "                    @app.get('/')\n",
    "                    def get(): return comp\n",
    "                    display(HTML(f'<a href=\"http://localhost:{port}/\" target=\"_blank\">Open in new tab</a>'))\n",
    "                    return HTMX(\"/\",port=port)\n",
    "                print(f\"Starter server on port {port}\")\n",
    "                Show = partial(HShow, app=app)\n",
    "                return app, rt, server, HShow, Show\n",
    "app, rt = fast_app(pico=False, hdrs=Theme.blue.headers())\n",
    "app, rt, server, HShow, Show = create_server(app, rt)"
   ]
  },
  {
   "cell_type": "code",
   "execution_count": 5,
   "id": "adf34700",
   "metadata": {},
   "outputs": [],
   "source": [
    "#| export\n",
    "Iconnavfix = fh.Script('''\n",
    "window.setEmptyATagSize = function() {\n",
    "    const emptyATags = document.querySelectorAll('a:empty');\n",
    "    emptyATags.forEach(tag => {\n",
    "        tag.style.height = '0';\n",
    "        tag.style.width = '0';\n",
    "        tag.style.display = 'inline-block';\n",
    "    });\n",
    "}\n",
    "\n",
    "// Run on load and after any dynamic content changes\n",
    "window.addEventListener('load', setEmptyATagSize);\n",
    "document.addEventListener('htmx:afterSettle', setEmptyATagSize);\n",
    "''')"
   ]
  },
  {
   "cell_type": "code",
   "execution_count": 6,
   "id": "d53a9e4d",
   "metadata": {},
   "outputs": [],
   "source": [
    "#| export\n",
    "app = FastHTML(hdrs=(Iconnavfix,*Theme.blue.headers()),debug=True,default_hdrs=False)"
   ]
  },
  {
   "cell_type": "code",
   "execution_count": 7,
   "id": "77bc464f",
   "metadata": {},
   "outputs": [],
   "source": [
    "#| export\n",
    "@app.route('/tasks')\n",
    "def tasks(): return tasks_homepage\n",
    "\n",
    "@app.route('/cards')\n",
    "def cards(): return cards_homepage\n",
    "\n",
    "@app.route('/dashboard')\n",
    "def dashboard(): return dashboard_homepage\n",
    "\n",
    "@app.route('/forms')\n",
    "def forms(): return forms_homepage\n",
    "\n",
    "@app.route('/music')\n",
    "def music(): return music_homepage\n",
    "\n",
    "@app.route('/auth')\n",
    "def auth(): return auth_homepage\n",
    "\n",
    "@app.route('/playground')\n",
    "def playground(): return playground_homepage\n",
    "\n",
    "@app.route('/mail')\n",
    "def mail(): return mail_homepage"
   ]
  },
  {
   "cell_type": "code",
   "execution_count": 8,
   "id": "8b654c52",
   "metadata": {},
   "outputs": [],
   "source": [
    "#| export\n",
    "@app.route('/')\n",
    "def home():\n",
    "    sidebar_items = [\"Tasks\", \"Cards\", \"Dashboard\", \"Form\", \"Music\", \"Auth\", \"Playground\", \"Mail\", \"Theme\"]\n",
    "\n",
    "    sidebar = NavContainer(map(lambda x: Li(A(x)),sidebar_items),\n",
    "                uk_switcher=\"connect: #main-nav; animation: uk-animation-fade\",\n",
    "                cls=(NavT.primary,\"space-y-4 p-4 w-1/10\"))\n",
    "\n",
    "    content = Div(cls=\"flex-1\")(\n",
    "        Ul(id=\"main-nav\", cls=\"uk-switcher w-full\")(\n",
    "            Li(tasks_homepage),\n",
    "            Li(cards_homepage),\n",
    "            Li(dashboard_homepage),\n",
    "            Li(forms_homepage),\n",
    "            Li(music_homepage),\n",
    "            Li(auth_homepage),\n",
    "            Li(playground_homepage),\n",
    "            Li(mail_homepage),   \n",
    "            Li(Uk_theme_switcher())\n",
    "        ))\n",
    "    return Body(cls=\"bg-background text-foreground\")(Div(cls=\"flex w-full\")(sidebar,content))          \n"
   ]
  },
  {
   "cell_type": "code",
   "execution_count": 9,
   "id": "106a8d55",
   "metadata": {},
   "outputs": [],
   "source": [
    "#| export\n",
    "serve()"
   ]
  },
  {
   "cell_type": "code",
   "execution_count": 10,
   "id": "e792288a",
   "metadata": {},
   "outputs": [],
   "source": [
    "#| hide\n",
    "import nbdev; nbdev.nbdev_export()"
   ]
  },
  {
   "cell_type": "code",
   "execution_count": null,
   "id": "ec1a7f9d",
   "metadata": {},
   "outputs": [],
   "source": []
  }
 ],
 "metadata": {
  "kernelspec": {
   "display_name": "Python 3 (ipykernel)",
   "language": "python",
   "name": "python3"
  },
  "language_info": {
   "codemirror_mode": {
    "name": "ipython",
    "version": 3
   },
   "file_extension": ".py",
   "mimetype": "text/x-python",
   "name": "python",
   "nbconvert_exporter": "python",
   "pygments_lexer": "ipython3",
   "version": "3.12.4"
  },
  "toc": {
   "base_numbering": 1,
   "nav_menu": {},
   "number_sections": true,
   "sideBar": true,
   "skip_h1_title": false,
   "title_cell": "Table of Contents",
   "title_sidebar": "Contents",
   "toc_cell": false,
   "toc_position": {},
   "toc_section_display": true,
   "toc_window_display": false
  }
 },
 "nbformat": 4,
 "nbformat_minor": 5
}
