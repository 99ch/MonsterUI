{
 "cells": [
  {
   "cell_type": "markdown",
   "id": "e43d0955",
   "metadata": {},
   "source": [
    "# Main\n",
    "\n",
    "> FrankenUI Tasks Example"
   ]
  },
  {
   "cell_type": "code",
   "execution_count": 1,
   "id": "0cc276d0",
   "metadata": {},
   "outputs": [],
   "source": [
    "#| default_exp main"
   ]
  },
  {
   "cell_type": "markdown",
   "id": "7cf0bc28",
   "metadata": {},
   "source": [
    "## Imports"
   ]
  },
  {
   "cell_type": "code",
   "execution_count": 2,
   "id": "d5abdcb0",
   "metadata": {},
   "outputs": [],
   "source": [
    "#| export\n",
    "from fasthtml.common import *\n",
    "import fasthtml.common as fh\n",
    "from fh_frankenui.components import *\n",
    "from fh_frankenui.core import *\n",
    "import re\n",
    "from fasthtml.components import Uk_theme_switcher"
   ]
  },
  {
   "cell_type": "code",
   "execution_count": 3,
   "id": "9238fa2a",
   "metadata": {},
   "outputs": [],
   "source": [
    "#| hide\n",
    "#| eval: false\n",
    "from isaac_research.core import create_server"
   ]
  },
  {
   "cell_type": "code",
   "execution_count": 4,
   "id": "9b2ce5c5",
   "metadata": {},
   "outputs": [],
   "source": [
    "#| export\n",
    "app,rt = fast_app(hdrs=Theme.blue.headers(), pico=False)"
   ]
  },
  {
   "cell_type": "code",
   "execution_count": 5,
   "id": "d53a9e4d",
   "metadata": {},
   "outputs": [],
   "source": [
    "#| hide\n",
    "#| eval: false\n",
    "server, Show = create_server(app)"
   ]
  },
  {
   "cell_type": "markdown",
   "id": "4819b3b5",
   "metadata": {
    "heading_collapsed": true
   },
   "source": [
    "## Examples"
   ]
  },
  {
   "cell_type": "code",
   "execution_count": 6,
   "id": "25ddcd89",
   "metadata": {
    "hidden": true
   },
   "outputs": [],
   "source": [
    "#| export\n",
    "from tasks import tasks_homepage\n",
    "from cards import cards_homepage\n",
    "from dashboard import dashboard_homepage\n",
    "from forms import forms_homepage\n",
    "from music import music_homepage\n",
    "from auth import auth_homepage\n",
    "from playground import playground_homepage\n",
    "from mail import mail_homepage"
   ]
  },
  {
   "cell_type": "code",
   "execution_count": 7,
   "id": "77bc464f",
   "metadata": {
    "hidden": true
   },
   "outputs": [],
   "source": [
    "#| export\n",
    "@rt\n",
    "def tasks():      return tasks_homepage\n",
    "@rt\n",
    "def cards():      return cards_homepage\n",
    "@rt\n",
    "def dashboard():  return dashboard_homepage\n",
    "@rt \n",
    "def forms():      return forms_homepage\n",
    "@rt\n",
    "def music():      return music_homepage\n",
    "@rt\n",
    "def auth():       return auth_homepage\n",
    "@rt\n",
    "def playground(): return playground_homepage\n",
    "@rt\n",
    "def mail():       return mail_homepage"
   ]
  },
  {
   "cell_type": "markdown",
   "id": "d25174b5",
   "metadata": {
    "heading_collapsed": true
   },
   "source": [
    "## Getting Started"
   ]
  },
  {
   "cell_type": "code",
   "execution_count": 8,
   "id": "7f0694dd",
   "metadata": {
    "hidden": true
   },
   "outputs": [],
   "source": [
    "#| export\n",
    "@rt\n",
    "def getting_started():\n",
    "    return render_md(open('GettingStarted.md').read())"
   ]
  },
  {
   "cell_type": "markdown",
   "id": "60db03e7",
   "metadata": {},
   "source": [
    "## API Reference"
   ]
  },
  {
   "cell_type": "code",
   "execution_count": null,
   "id": "4e9c3978",
   "metadata": {},
   "outputs": [],
   "source": [
    "#| export\n",
    "from api_reference import docs_button, docs_heading"
   ]
  },
  {
   "cell_type": "code",
   "execution_count": 22,
   "id": "57d52b36",
   "metadata": {},
   "outputs": [],
   "source": [
    "#| export\n",
    "@rt\n",
    "def buttons(): return Container(docs_button)\n",
    "@rt\n",
    "def headings(): return Container(docs_heading)"
   ]
  },
  {
   "cell_type": "markdown",
   "id": "e44a3dc4",
   "metadata": {
    "heading_collapsed": true
   },
   "source": [
    "## Tutorials"
   ]
  },
  {
   "cell_type": "markdown",
   "id": "25c2fb51",
   "metadata": {
    "heading_collapsed": true
   },
   "source": [
    "## Theme"
   ]
  },
  {
   "cell_type": "code",
   "execution_count": 10,
   "id": "ad65f276",
   "metadata": {
    "hidden": true
   },
   "outputs": [],
   "source": [
    "#| export\n",
    "@rt\n",
    "def themeswitcher(): return Div(Uk_theme_switcher(),cls=\"p-12\")"
   ]
  },
  {
   "cell_type": "markdown",
   "id": "cb19d7b7",
   "metadata": {},
   "source": [
    "## Main Page"
   ]
  },
  {
   "cell_type": "code",
   "execution_count": 23,
   "id": "d463e684",
   "metadata": {},
   "outputs": [],
   "source": [
    "#| export\n",
    "@rt\n",
    "def index():\n",
    "    return Body(cls=\"bg-background text-foreground\")(Div(cls=\"flex w-full\")(\n",
    "    NavContainer(\n",
    "         Li(A(\"Getting Started\", hx_get=getting_started, hx_target='#content')),\n",
    "         NavParentLi(\n",
    "             A(\"API Reference\"),\n",
    "             NavContainer(\n",
    "                 Li(A('Buttons',hx_get=buttons, hx_target='#content')),\n",
    "                 Li(A('Heading',hx_get=headings, hx_target='#content')),\n",
    "                 parent=False\n",
    "             )),\n",
    "         NavParentLi(\n",
    "            A('Examples'),\n",
    "            NavContainer(\n",
    "                Li(A('Tasks',     hx_get=tasks,      hx_target='#content')),\n",
    "                Li(A('Cards',     hx_get=cards,      hx_target='#content')),\n",
    "                Li(A('Dashboard', hx_get=dashboard,  hx_target='#content')),\n",
    "                Li(A('Form',      hx_get=forms,      hx_target='#content')),\n",
    "                Li(A('Music',     hx_get=music,      hx_target='#content')),\n",
    "                Li(A('Auth',      hx_get=auth,       hx_target='#content')),\n",
    "                Li(A('Playground',hx_get=playground, hx_target='#content')),\n",
    "                Li(A('Mail',      hx_get=mail,       hx_target='#content')),\n",
    "                parent=False)),\n",
    "          Li(A(\"Theme\",hx_get=themeswitcher, hx_target='#content')),\n",
    "\n",
    "        uk_nav=True, cls=(NavT.primary,\"space-y-4 p-4 w-1/7\")),\n",
    "    Div(getting_started(), id='content',cls='w-full')))"
   ]
  },
  {
   "cell_type": "code",
   "execution_count": null,
   "id": "94e3c1e4",
   "metadata": {},
   "outputs": [],
   "source": [
    "#| export\n",
    "serve()"
   ]
  },
  {
   "cell_type": "code",
   "execution_count": 24,
   "id": "4b0c1895",
   "metadata": {
    "scrolled": false
   },
   "outputs": [
    {
     "data": {
      "text/html": [
       "<a href=\"http://localhost:8001/c244a9e7-e9d1-425c-a306-91e174647bee\" target=\"_blank\">Open in new tab</a>"
      ],
      "text/plain": [
       "<IPython.core.display.HTML object>"
      ]
     },
     "metadata": {},
     "output_type": "display_data"
    },
    {
     "data": {
      "text/html": [
       "<iframe src=\"http://localhost:8001/c244a9e7-e9d1-425c-a306-91e174647bee\" style=\"width: 100%; height: 750px; border: none;\" onload=\"{\n",
       "        let frame = this;\n",
       "        window.addEventListener('message', function(e) {\n",
       "            if (e.source !== frame.contentWindow) return; // Only proceed if the message is from this iframe\n",
       "            if (e.data.height) frame.style.height = (e.data.height+1) + 'px';\n",
       "        }, false);\n",
       "    }\" allow=\"accelerometer; autoplay; camera; clipboard-read; clipboard-write; display-capture; encrypted-media; fullscreen; gamepad; geolocation; gyroscope; hid; identity-credentials-get; idle-detection; magnetometer; microphone; midi; payment; picture-in-picture; publickey-credentials-get; screen-wake-lock; serial; usb; web-share; xr-spatial-tracking\"></iframe> "
      ],
      "text/plain": [
       "<IPython.core.display.HTML object>"
      ]
     },
     "execution_count": 24,
     "metadata": {},
     "output_type": "execute_result"
    }
   ],
   "source": [
    "#| hide\n",
    "#| eval: false\n",
    "Show(index(), iframe_height='750px')"
   ]
  },
  {
   "cell_type": "code",
   "execution_count": null,
   "id": "6644c3cb",
   "metadata": {},
   "outputs": [],
   "source": []
  }
 ],
 "metadata": {
  "kernelspec": {
   "display_name": "Python 3 (ipykernel)",
   "language": "python",
   "name": "python3"
  },
  "language_info": {
   "codemirror_mode": {
    "name": "ipython",
    "version": 3
   },
   "file_extension": ".py",
   "mimetype": "text/x-python",
   "name": "python",
   "nbconvert_exporter": "python",
   "pygments_lexer": "ipython3",
   "version": "3.12.4"
  },
  "toc": {
   "base_numbering": 1,
   "nav_menu": {},
   "number_sections": true,
   "sideBar": true,
   "skip_h1_title": false,
   "title_cell": "Table of Contents",
   "title_sidebar": "Contents",
   "toc_cell": false,
   "toc_position": {},
   "toc_section_display": true,
   "toc_window_display": false
  }
 },
 "nbformat": 4,
 "nbformat_minor": 5
}
