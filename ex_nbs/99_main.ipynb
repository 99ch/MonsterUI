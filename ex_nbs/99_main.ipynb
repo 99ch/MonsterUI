{
 "cells": [
  {
   "cell_type": "markdown",
   "id": "e43d0955",
   "metadata": {},
   "source": [
    "# Main\n",
    "\n",
    "> FrankenUI Tasks Example"
   ]
  },
  {
   "cell_type": "code",
   "execution_count": 48,
   "id": "0cc276d0",
   "metadata": {},
   "outputs": [],
   "source": [
    "#| default_exp main"
   ]
  },
  {
   "cell_type": "code",
   "execution_count": 49,
   "id": "d5abdcb0",
   "metadata": {},
   "outputs": [],
   "source": [
    "#| export\n",
    "from fasthtml.common import *\n",
    "import fasthtml.common as fh\n",
    "from fh_frankenui.components import *\n",
    "from fh_frankenui.core import *"
   ]
  },
  {
   "cell_type": "code",
   "execution_count": 50,
   "id": "8dac5fdd",
   "metadata": {},
   "outputs": [],
   "source": [
    "#| export\n",
    "from tasks import tasks_homepage\n",
    "from cards import cards_homepage\n",
    "from dashboard import dashboard_homepage\n",
    "from forms import forms_homepage\n",
    "from music import music_homepage\n",
    "from auth import auth_homepage\n",
    "from playground import playground_homepage\n",
    "from mail import mail_homepage"
   ]
  },
  {
   "cell_type": "code",
   "execution_count": 51,
   "id": "9238fa2a",
   "metadata": {},
   "outputs": [],
   "source": [
    "#| hide\n",
    "#| eval: false\n",
    "\n",
    "from fasthtml.jupyter import *\n",
    "from IPython.display import display, HTML\n",
    "\n",
    "\n",
    "if is_port_free(8000):\n",
    "    app, rt = fh.fast_app(pico=False, hdrs=Theme.blue.headers())\n",
    "    server = JupyUvi(app)\n",
    "app        \n",
    "def HShow(comp, app):\n",
    "    @app.get('/')\n",
    "    def get(): return comp\n",
    "\n",
    "    display(HTML(f'<a href=\"http://localhost:8000/\" target=\"_blank\">Open in new tab</a>'))\n",
    "    return HTMX(\"/\")\n",
    "\n",
    "Show = partial(HShow, app=app)"
   ]
  },
  {
   "cell_type": "code",
   "execution_count": 52,
   "id": "ccd98c59",
   "metadata": {},
   "outputs": [],
   "source": [
    "#| export\n",
    "hdrs = (fh.Script(src=\"https://cdn.tailwindcss.com\"),\n",
    "        fh.Script(src=\"https://cdn.jsdelivr.net/npm/uikit@3.21.6/dist/js/uikit.min.js\"),\n",
    "        fh.Script(src=\"https://cdn.jsdelivr.net/npm/uikit@3.21.6/dist/js/uikit-icons.min.js\"),\n",
    "        fh.Script(type=\"module\", src=\"https://unpkg.com/franken-wc@0.0.6/dist/js/wc.iife.js\"),\n",
    "        fh.Link(rel=\"stylesheet\", href=\"https://unpkg.com/franken-wc@0.0.6/dist/css/blue.min.css\"),)"
   ]
  },
  {
   "cell_type": "code",
   "execution_count": 53,
   "id": "d53a9e4d",
   "metadata": {},
   "outputs": [],
   "source": [
    "#| export\n",
    "app = FastHTML(hdrs=hdrs,debug=True,default_hdrs=False)"
   ]
  },
  {
   "cell_type": "code",
   "execution_count": 54,
   "id": "77bc464f",
   "metadata": {},
   "outputs": [],
   "source": [
    "#| export\n",
    "@app.route('/tasks')\n",
    "def tasks(): return tasks_homepage\n",
    "\n",
    "@app.route('/cards')\n",
    "def cards(): return cards_homepage\n",
    "\n",
    "@app.route('/dashboard')\n",
    "def dashboard(): return dashboard_homepage\n",
    "\n",
    "@app.route('/forms')\n",
    "def forms(): return forms_homepage\n",
    "\n",
    "@app.route('/music')\n",
    "def music(): return music_homepage\n",
    "\n",
    "@app.route('/auth')\n",
    "def auth(): return auth_homepage\n",
    "\n",
    "@app.route('/playground')\n",
    "def playground(): return playground_homepage\n",
    "\n",
    "@app.route('/mail')\n",
    "def mail(): return mail_homepage"
   ]
  },
  {
   "cell_type": "code",
   "execution_count": 55,
   "id": "86973461",
   "metadata": {},
   "outputs": [],
   "source": [
    "#| export\n",
    "def Navbar(*c, left=(), center=(), right=(), container=True, transparent=False, sticky=False, cls=(), **kwargs):\n",
    "    nav_cls = f\"uk-navbar-container{'uk-navbar-transparent' if transparent else ''}\"\n",
    "    nav = Nav(cls=nav_cls, uk_navbar=True, **kwargs)(\n",
    "        Div(cls='uk-navbar-left')(*left) if left else None,\n",
    "        Div(cls='uk-navbar-center')(*center) if center else None,\n",
    "        Div(cls='uk-navbar-right')(*right) if right else None,\n",
    "        *c\n",
    "    )\n",
    "    sticky_attrs = {'uk-sticky': 'sel-target: .uk-navbar-container; cls-active: uk-navbar-sticky'} if sticky else {}\n",
    "    return Div(cls=f\"uk-container {stringify(cls)}\" if container else stringify(cls), **sticky_attrs)(nav)\n",
    "\n",
    "def NavItem(label, href='#', active=False, parent=False, cls=()):\n",
    "    item_cls = f\"{'uk-active' if active else ''} {'uk-parent' if parent else ''} {stringify(cls)}\".strip()\n",
    "    return Li(cls=item_cls)(A(href=href)(label))\n",
    "\n",
    "def NavDropdown(label, items, cls=()):\n",
    "    return Li(cls=f\"uk-parent {stringify(cls)}\".strip())(\n",
    "        A(href='#')(label),\n",
    "        Div(cls='uk-navbar-dropdown')(Ul(cls='uk-nav uk-navbar-dropdown-nav')(*items)))"
   ]
  },
  {
   "cell_type": "code",
   "execution_count": 56,
   "id": "88f6dc1e",
   "metadata": {},
   "outputs": [],
   "source": [
    "#| export\n",
    "def UkNavBar(*lis):\n",
    "    return Nav(cls='uk-navbar-left')(\n",
    "        Ul(cls='uk-navbar-nav')(\n",
    "        *lis\n",
    "        ))"
   ]
  },
  {
   "cell_type": "code",
   "execution_count": 57,
   "id": "8b654c52",
   "metadata": {},
   "outputs": [],
   "source": [
    "#| export\n",
    "@app.route('/')\n",
    "def home():\n",
    "    sidebar_items = [\"Tasks\", \"Cards\", \"Dashboard\", \"Form\", \"Music\", \"Auth\", \"Playground\", \"Mail\"]\n",
    "\n",
    "    sidebar = NavContainer(map(lambda x: Li(A(x)),sidebar_items),\n",
    "                uk_switcher=\"connect: #main-nav; animation: uk-animation-fade\",\n",
    "                cls=(NavT.secondary,\"space-y-4 p-4 w-1/10\"))\n",
    "\n",
    "    content = Div(cls=\"flex-1\")(\n",
    "        Ul(id=\"main-nav\", cls=\"uk-switcher w-full\")(\n",
    "            Li(tasks_homepage),\n",
    "            Li(cards_homepage),\n",
    "            Li(dashboard_homepage),\n",
    "            Li(forms_homepage),\n",
    "            Li(music_homepage),\n",
    "            Li(auth_homepage),\n",
    "            Li(playground_homepage),\n",
    "            Li(mail_homepage),\n",
    "\n",
    "        ))\n",
    "\n",
    "    return Div(cls=\"flex w-full\")(sidebar,content)           \n"
   ]
  },
  {
   "cell_type": "code",
   "execution_count": 15,
   "id": "106a8d55",
   "metadata": {},
   "outputs": [],
   "source": [
    "#| export\n",
    "serve()"
   ]
  },
  {
   "cell_type": "code",
   "execution_count": null,
   "id": "e792288a",
   "metadata": {},
   "outputs": [],
   "source": [
    "#| hide\n",
    "import nbdev; nbdev.nbdev_export()"
   ]
  },
  {
   "cell_type": "code",
   "execution_count": null,
   "id": "ec1a7f9d",
   "metadata": {},
   "outputs": [],
   "source": []
  }
 ],
 "metadata": {
  "kernelspec": {
   "display_name": "Python 3 (ipykernel)",
   "language": "python",
   "name": "python3"
  },
  "language_info": {
   "codemirror_mode": {
    "name": "ipython",
    "version": 3
   },
   "file_extension": ".py",
   "mimetype": "text/x-python",
   "name": "python",
   "nbconvert_exporter": "python",
   "pygments_lexer": "ipython3",
   "version": "3.12.4"
  },
  "toc": {
   "base_numbering": 1,
   "nav_menu": {},
   "number_sections": true,
   "sideBar": true,
   "skip_h1_title": false,
   "title_cell": "Table of Contents",
   "title_sidebar": "Contents",
   "toc_cell": false,
   "toc_position": {},
   "toc_section_display": true,
   "toc_window_display": false
  }
 },
 "nbformat": 4,
 "nbformat_minor": 5
}
