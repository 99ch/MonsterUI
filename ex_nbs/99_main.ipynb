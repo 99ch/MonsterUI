{
 "cells": [
  {
   "cell_type": "markdown",
   "id": "e43d0955",
   "metadata": {},
   "source": [
    "# Main\n",
    "\n",
    "> FrankenUI Tasks Example"
   ]
  },
  {
   "cell_type": "code",
   "execution_count": null,
   "id": "0cc276d0",
   "metadata": {},
   "outputs": [],
   "source": [
    "#| default_exp main"
   ]
  },
  {
   "cell_type": "code",
   "execution_count": 3,
   "id": "d5abdcb0",
   "metadata": {},
   "outputs": [],
   "source": [
    "#| export\n",
    "from fasthtml.common import *\n",
    "from fh_frankenui.components import *"
   ]
  },
  {
   "cell_type": "code",
   "execution_count": 4,
   "id": "8dac5fdd",
   "metadata": {},
   "outputs": [
    {
     "ename": "ModuleNotFoundError",
     "evalue": "No module named 'tasks'",
     "output_type": "error",
     "traceback": [
      "\u001b[0;31m---------------------------------------------------------------------------\u001b[0m",
      "\u001b[0;31mModuleNotFoundError\u001b[0m                       Traceback (most recent call last)",
      "Cell \u001b[0;32mIn[4], line 2\u001b[0m\n\u001b[1;32m      1\u001b[0m \u001b[38;5;66;03m#| export\u001b[39;00m\n\u001b[0;32m----> 2\u001b[0m \u001b[38;5;28;01mfrom\u001b[39;00m \u001b[38;5;21;01mtasks\u001b[39;00m \u001b[38;5;28;01mimport\u001b[39;00m tasks_homepage\n\u001b[1;32m      3\u001b[0m \u001b[38;5;28;01mfrom\u001b[39;00m \u001b[38;5;21;01mcards\u001b[39;00m \u001b[38;5;28;01mimport\u001b[39;00m cards_homepage\n\u001b[1;32m      4\u001b[0m \u001b[38;5;66;03m# from dashboard import dashboard_homepage\u001b[39;00m\n\u001b[1;32m      5\u001b[0m \u001b[38;5;66;03m# from forms import forms_homepage\u001b[39;00m\n\u001b[1;32m      6\u001b[0m \u001b[38;5;66;03m# from music import music_homepage\u001b[39;00m\n\u001b[1;32m      7\u001b[0m \u001b[38;5;66;03m# from auth import auth_homepage\u001b[39;00m\n\u001b[1;32m      8\u001b[0m \u001b[38;5;66;03m# from playground import playground_homepage\u001b[39;00m\n\u001b[1;32m      9\u001b[0m \u001b[38;5;66;03m# from mail import mail_homepage\u001b[39;00m\n",
      "\u001b[0;31mModuleNotFoundError\u001b[0m: No module named 'tasks'"
     ]
    }
   ],
   "source": [
    "#| export\n",
    "from tasks import tasks_homepage\n",
    "from cards import cards_homepage\n",
    "from dashboard import dashboard_homepage\n",
    "# from forms import forms_homepage\n",
    "# from music import music_homepage\n",
    "# from auth import auth_homepage\n",
    "# from playground import playground_homepage\n",
    "# from mail import mail_homepage"
   ]
  },
  {
   "cell_type": "code",
   "execution_count": 2,
   "id": "ccd98c59",
   "metadata": {},
   "outputs": [
    {
     "ename": "NameError",
     "evalue": "name 'Script' is not defined",
     "output_type": "error",
     "traceback": [
      "\u001b[0;31m---------------------------------------------------------------------------\u001b[0m",
      "\u001b[0;31mNameError\u001b[0m                                 Traceback (most recent call last)",
      "Cell \u001b[0;32mIn[2], line 2\u001b[0m\n\u001b[1;32m      1\u001b[0m \u001b[38;5;66;03m#| export\u001b[39;00m\n\u001b[0;32m----> 2\u001b[0m hdrs \u001b[38;5;241m=\u001b[39m (\u001b[43mScript\u001b[49m(src\u001b[38;5;241m=\u001b[39m\u001b[38;5;124m\"\u001b[39m\u001b[38;5;124mhttps://cdn.tailwindcss.com\u001b[39m\u001b[38;5;124m\"\u001b[39m),\n\u001b[1;32m      3\u001b[0m         Script(src\u001b[38;5;241m=\u001b[39m\u001b[38;5;124m\"\u001b[39m\u001b[38;5;124mhttps://cdn.jsdelivr.net/npm/uikit@3.21.6/dist/js/uikit.min.js\u001b[39m\u001b[38;5;124m\"\u001b[39m),\n\u001b[1;32m      4\u001b[0m         Script(src\u001b[38;5;241m=\u001b[39m\u001b[38;5;124m\"\u001b[39m\u001b[38;5;124mhttps://cdn.jsdelivr.net/npm/uikit@3.21.6/dist/js/uikit-icons.min.js\u001b[39m\u001b[38;5;124m\"\u001b[39m),\n\u001b[1;32m      5\u001b[0m         Script(\u001b[38;5;28mtype\u001b[39m\u001b[38;5;241m=\u001b[39m\u001b[38;5;124m\"\u001b[39m\u001b[38;5;124mmodule\u001b[39m\u001b[38;5;124m\"\u001b[39m, src\u001b[38;5;241m=\u001b[39m\u001b[38;5;124m\"\u001b[39m\u001b[38;5;124mhttps://unpkg.com/franken-wc@0.0.6/dist/js/wc.iife.js\u001b[39m\u001b[38;5;124m\"\u001b[39m),\n\u001b[1;32m      6\u001b[0m         Link(rel\u001b[38;5;241m=\u001b[39m\u001b[38;5;124m\"\u001b[39m\u001b[38;5;124mstylesheet\u001b[39m\u001b[38;5;124m\"\u001b[39m, href\u001b[38;5;241m=\u001b[39m\u001b[38;5;124m\"\u001b[39m\u001b[38;5;124mhttps://unpkg.com/franken-wc@0.0.6/dist/css/blue.min.css\u001b[39m\u001b[38;5;124m\"\u001b[39m),)\n",
      "\u001b[0;31mNameError\u001b[0m: name 'Script' is not defined"
     ]
    }
   ],
   "source": [
    "#| export\n",
    "hdrs = (Script(src=\"https://cdn.tailwindcss.com\"),\n",
    "        Script(src=\"https://cdn.jsdelivr.net/npm/uikit@3.21.6/dist/js/uikit.min.js\"),\n",
    "        Script(src=\"https://cdn.jsdelivr.net/npm/uikit@3.21.6/dist/js/uikit-icons.min.js\"),\n",
    "        Script(type=\"module\", src=\"https://unpkg.com/franken-wc@0.0.6/dist/js/wc.iife.js\"),\n",
    "        Link(rel=\"stylesheet\", href=\"https://unpkg.com/franken-wc@0.0.6/dist/css/blue.min.css\"),)"
   ]
  },
  {
   "cell_type": "code",
   "execution_count": null,
   "id": "d53a9e4d",
   "metadata": {},
   "outputs": [],
   "source": [
    "#| export\n",
    "app = FastHTML(hdrs=hdrs,debug=True,default_hdrs=False)"
   ]
  },
  {
   "cell_type": "code",
   "execution_count": null,
   "id": "77bc464f",
   "metadata": {},
   "outputs": [],
   "source": [
    "#| export\n",
    "@app.route('/tasks')\n",
    "def tasks(): return tasks_homepage\n",
    "\n",
    "@app.route('/cards')\n",
    "def cards(): return cards_homepage\n",
    "\n",
    "# @app.route('/forms')\n",
    "# def forms(): return forms_homepage\n",
    "\n",
    "@app.route('/dashboard')\n",
    "def dashboard(): return dashboard_homepage\n",
    "\n",
    "# @app.route('/music')\n",
    "# def music(): return music_homepage\n",
    "\n",
    "# @app.route('/auth')\n",
    "# def auth(): return auth_homepage\n",
    "\n",
    "# @app.route('/playground')\n",
    "# def playground(): return playground_homepage\n",
    "\n",
    "# @app.route('/mail')\n",
    "# def mail(): return mail_homepage"
   ]
  },
  {
   "cell_type": "code",
   "execution_count": null,
   "id": "b932b2ec",
   "metadata": {},
   "outputs": [],
   "source": [
    "navbar_docs_url = 'https://gist.githubusercontent.com/Isaac-Flath/a3e6817b9041593493b9d411efb4040b/raw/cfbbb1cd2b99604cc9d308d7305d997dba4a490b/navbar.md'\n",
    "navbar_docs = get(navbar_docs_url).text"
   ]
  },
  {
   "cell_type": "code",
   "execution_count": null,
   "id": "86973461",
   "metadata": {},
   "outputs": [],
   "source": [
    "#| export\n",
    "def Navbar(*c, left=(), center=(), right=(), container=True, transparent=False, sticky=False, cls=(), **kwargs):\n",
    "    nav_cls = f\"uk-navbar-container{'uk-navbar-transparent' if transparent else ''}\"\n",
    "    nav = Nav(cls=nav_cls, uk_navbar=True, **kwargs)(\n",
    "        Div(cls='uk-navbar-left')(*left) if left else None,\n",
    "        Div(cls='uk-navbar-center')(*center) if center else None,\n",
    "        Div(cls='uk-navbar-right')(*right) if right else None,\n",
    "        *c\n",
    "    )\n",
    "    sticky_attrs = {'uk-sticky': 'sel-target: .uk-navbar-container; cls-active: uk-navbar-sticky'} if sticky else {}\n",
    "    return Div(cls=f\"uk-container {stringify(cls)}\" if container else stringify(cls), **sticky_attrs)(nav)\n",
    "\n",
    "def NavItem(label, href='#', active=False, parent=False, cls=()):\n",
    "    item_cls = f\"{'uk-active' if active else ''} {'uk-parent' if parent else ''} {stringify(cls)}\".strip()\n",
    "    return Li(cls=item_cls)(A(href=href)(label))\n",
    "\n",
    "def NavDropdown(label, items, cls=()):\n",
    "    return Li(cls=f\"uk-parent {stringify(cls)}\".strip())(\n",
    "        A(href='#')(label),\n",
    "        Div(cls='uk-navbar-dropdown')(Ul(cls='uk-nav uk-navbar-dropdown-nav')(*items))\n",
    "    )"
   ]
  },
  {
   "cell_type": "code",
   "execution_count": null,
   "id": "88f6dc1e",
   "metadata": {},
   "outputs": [],
   "source": [
    "#| export\n",
    "def UkNavBar(*lis):\n",
    "    return Nav(cls='uk-navbar-left')(\n",
    "        Ul(cls='uk-navbar-nav')(\n",
    "        *lis\n",
    "        ))"
   ]
  },
  {
   "cell_type": "code",
   "execution_count": null,
   "id": "8b654c52",
   "metadata": {},
   "outputs": [],
   "source": [
    "#| export\n",
    "@app.route('/')\n",
    "def home():\n",
    "    nav_items = (('Home', '/'), ('Tasks', '/tasks'), \n",
    "                 ('Cards', '/cards'), ('Dashboard', '/dashboard'),\n",
    "                ('Forms', '/forms'), ('Music', '/music'), ('Authentication', '/auth'),\n",
    "                ('Playground', '/playground'),('Mail', '/mail')\n",
    "                )\n",
    "    nav_items = [Li()(A(href=r)(n)) for (n,r) in nav_items]\n",
    "    \n",
    "    navbar = UkNavBar(*nav_items)\n",
    "    content = Div(cls='uk-container uk-margin-top')(\n",
    "        H1('FrankenUI Examples in FastHTML'),\n",
    "        P('This site showcases the FrankenUI components rebuilt using FastHTML, demonstrating the power and flexibility of our Python wrapper.'),\n",
    "        P('Explore the Tasks and Cards pages to see examples of FrankenUI components implemented with FastHTML.')\n",
    "    )\n",
    "    return navbar, content"
   ]
  },
  {
   "cell_type": "code",
   "execution_count": null,
   "id": "106a8d55",
   "metadata": {},
   "outputs": [],
   "source": [
    "#| export\n",
    "serve()"
   ]
  },
  {
   "cell_type": "code",
   "execution_count": null,
   "id": "e792288a",
   "metadata": {},
   "outputs": [],
   "source": [
    "#| hide\n",
    "import nbdev; nbdev.nbdev_export()"
   ]
  }
 ],
 "metadata": {
  "kernelspec": {
   "display_name": "Python 3 (ipykernel)",
   "language": "python",
   "name": "python3"
  },
  "language_info": {
   "codemirror_mode": {
    "name": "ipython",
    "version": 3
   },
   "file_extension": ".py",
   "mimetype": "text/x-python",
   "name": "python",
   "nbconvert_exporter": "python",
   "pygments_lexer": "ipython3",
   "version": "3.12.4"
  },
  "toc": {
   "base_numbering": 1,
   "nav_menu": {},
   "number_sections": true,
   "sideBar": true,
   "skip_h1_title": false,
   "title_cell": "Table of Contents",
   "title_sidebar": "Contents",
   "toc_cell": false,
   "toc_position": {},
   "toc_section_display": true,
   "toc_window_display": false
  }
 },
 "nbformat": 4,
 "nbformat_minor": 5
}
