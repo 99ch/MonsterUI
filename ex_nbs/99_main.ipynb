{
 "cells": [
  {
   "cell_type": "markdown",
   "id": "e43d0955",
   "metadata": {},
   "source": [
    "# Main\n",
    "\n",
    "> FrankenUI Tasks Example"
   ]
  },
  {
   "cell_type": "code",
   "execution_count": 36,
   "id": "0cc276d0",
   "metadata": {},
   "outputs": [],
   "source": [
    "#| default_exp main"
   ]
  },
  {
   "cell_type": "code",
   "execution_count": 37,
   "id": "d5abdcb0",
   "metadata": {},
   "outputs": [],
   "source": [
    "#| export\n",
    "from fasthtml.common import *\n",
    "from fh_frankenui.components import *"
   ]
  },
  {
   "cell_type": "code",
   "execution_count": 38,
   "id": "8dac5fdd",
   "metadata": {},
   "outputs": [],
   "source": [
    "#| export\n",
    "from tasks import tasks_homepage\n",
    "from cards import cards_homepage\n",
    "from dashboard import dashboard_homepage\n",
    "from forms import forms_homepage\n",
    "from music import music_homepage\n",
    "from auth import auth_homepage\n",
    "from playground import playground_homepage"
   ]
  },
  {
   "cell_type": "code",
   "execution_count": 39,
   "id": "1a8dcd20",
   "metadata": {},
   "outputs": [],
   "source": [
    "from httpx import get"
   ]
  },
  {
   "cell_type": "code",
   "execution_count": 40,
   "id": "7c434328",
   "metadata": {},
   "outputs": [],
   "source": [
    "# url = 'https://raw.githubusercontent.com/AnswerDotAI/fh-frankenui/main/fh_frankenui/components.py?token=###'\n",
    "# frankenui_components = get(url).text"
   ]
  },
  {
   "cell_type": "code",
   "execution_count": 41,
   "id": "8f800166",
   "metadata": {},
   "outputs": [],
   "source": [
    "# %%ai 0\n",
    "# Use the library shown in $`frankenui_components` as much as possible.  Not everything is there yet, so if there is something that should be there please create the function to use to fit the style of that library."
   ]
  },
  {
   "cell_type": "markdown",
   "id": "b408a0bf",
   "metadata": {},
   "source": [
    "Certainly. I'll use the components from the `frankenui_components` library as much as possible. If there's anything missing that should be there, I'll create a function in a similar style. What specific UI component or layout would you like me to create using this library?"
   ]
  },
  {
   "cell_type": "code",
   "execution_count": 42,
   "id": "24a63c0d",
   "metadata": {},
   "outputs": [],
   "source": [
    "from httpx import get"
   ]
  },
  {
   "cell_type": "code",
   "execution_count": 43,
   "id": "ccd98c59",
   "metadata": {},
   "outputs": [],
   "source": [
    "#| export\n",
    "hdrs = (Script(src=\"https://cdn.tailwindcss.com\"),\n",
    "        Script(src=\"https://cdn.jsdelivr.net/npm/uikit@3.21.6/dist/js/uikit.min.js\"),\n",
    "        Script(src=\"https://cdn.jsdelivr.net/npm/uikit@3.21.6/dist/js/uikit-icons.min.js\"),\n",
    "        Script(type=\"module\", src=\"https://unpkg.com/franken-wc@0.0.6/dist/js/wc.iife.js\"),\n",
    "        Link(rel=\"stylesheet\", href=\"https://unpkg.com/franken-wc@0.0.6/dist/css/blue.min.css\"),)"
   ]
  },
  {
   "cell_type": "code",
   "execution_count": 44,
   "id": "d53a9e4d",
   "metadata": {},
   "outputs": [],
   "source": [
    "#| export\n",
    "app = FastHTML(hdrs=hdrs,debug=True,default_hdrs=False)"
   ]
  },
  {
   "cell_type": "code",
   "execution_count": 45,
   "id": "4aca6ce6",
   "metadata": {},
   "outputs": [],
   "source": [
    "%%aip 0\n",
    "Create routes for both the tasks_homepage and cards_homepage at `/tasks` and `/cards` respectively"
   ]
  },
  {
   "cell_type": "code",
   "execution_count": 46,
   "id": "77bc464f",
   "metadata": {},
   "outputs": [],
   "source": [
    "#| export\n",
    "@app.route('/tasks')\n",
    "def tasks(): return tasks_homepage\n",
    "\n",
    "@app.route('/cards')\n",
    "def cards(): return cards_homepage\n",
    "\n",
    "@app.route('/forms')\n",
    "def cards(): return forms_homepage\n",
    "\n",
    "@app.route('/dashboard')\n",
    "def cards(): return dashboard_homepage\n",
    "\n",
    "@app.route('/music')\n",
    "def cards(): return music_homepage\n",
    "\n",
    "@app.route('/auth')\n",
    "def auth(): return auth_homepage\n",
    "\n",
    "@app.route('/playground')\n",
    "def playground(): return playground_homepage"
   ]
  },
  {
   "cell_type": "code",
   "execution_count": 47,
   "id": "b932b2ec",
   "metadata": {},
   "outputs": [],
   "source": [
    "navbar_docs_url = 'https://gist.githubusercontent.com/Isaac-Flath/a3e6817b9041593493b9d411efb4040b/raw/cfbbb1cd2b99604cc9d308d7305d997dba4a490b/navbar.md'\n",
    "navbar_docs = get(navbar_docs_url).text"
   ]
  },
  {
   "cell_type": "code",
   "execution_count": 48,
   "id": "e1f690cd",
   "metadata": {},
   "outputs": [],
   "source": [
    "%%aip 0\n",
    "Create a flexible python navbar function for FastHTML in the same style as `frankenui_components` functions (like `Card`).  \n",
    "\n",
    "Here is the documentation for FrankenUI css library for reference $`navbar_docs`"
   ]
  },
  {
   "cell_type": "code",
   "execution_count": 49,
   "id": "86973461",
   "metadata": {},
   "outputs": [],
   "source": [
    "#| export\n",
    "def Navbar(*c, left=(), center=(), right=(), container=True, transparent=False, sticky=False, cls=(), **kwargs):\n",
    "    nav_cls = f\"uk-navbar-container{'uk-navbar-transparent' if transparent else ''}\"\n",
    "    nav = Nav(cls=nav_cls, uk_navbar=True, **kwargs)(\n",
    "        Div(cls='uk-navbar-left')(*left) if left else None,\n",
    "        Div(cls='uk-navbar-center')(*center) if center else None,\n",
    "        Div(cls='uk-navbar-right')(*right) if right else None,\n",
    "        *c\n",
    "    )\n",
    "    sticky_attrs = {'uk-sticky': 'sel-target: .uk-navbar-container; cls-active: uk-navbar-sticky'} if sticky else {}\n",
    "    return Div(cls=f\"uk-container {stringify(cls)}\" if container else stringify(cls), **sticky_attrs)(nav)\n",
    "\n",
    "def NavItem(label, href='#', active=False, parent=False, cls=()):\n",
    "    item_cls = f\"{'uk-active' if active else ''} {'uk-parent' if parent else ''} {stringify(cls)}\".strip()\n",
    "    return Li(cls=item_cls)(A(href=href)(label))\n",
    "\n",
    "def NavDropdown(label, items, cls=()):\n",
    "    return Li(cls=f\"uk-parent {stringify(cls)}\".strip())(\n",
    "        A(href='#')(label),\n",
    "        Div(cls='uk-navbar-dropdown')(Ul(cls='uk-nav uk-navbar-dropdown-nav')(*items))\n",
    "    )"
   ]
  },
  {
   "cell_type": "code",
   "execution_count": 50,
   "id": "88f6dc1e",
   "metadata": {},
   "outputs": [],
   "source": [
    "#| export\n",
    "def UkNavBar(*lis):\n",
    "    return Nav(cls='uk-navbar-left')(\n",
    "        Ul(cls='uk-navbar-nav')(\n",
    "        *lis\n",
    "        ))"
   ]
  },
  {
   "cell_type": "code",
   "execution_count": 51,
   "id": "bf3fc44b",
   "metadata": {},
   "outputs": [],
   "source": [
    "%%aip 0 \n",
    "Now create a `/` route that has a navbar to each of the routes above.  Also include a description in the body content of the site.\n",
    "\n",
    "This site's purpose is to rebuild the FrankenUI examples from their website in FastHTML and showing off the python wrapper that is being developed."
   ]
  },
  {
   "cell_type": "code",
   "execution_count": 52,
   "id": "8b654c52",
   "metadata": {},
   "outputs": [],
   "source": [
    "#| export\n",
    "@app.route('/')\n",
    "def home():\n",
    "    nav_items = (('Home', '/'), ('Tasks', '/tasks'), \n",
    "                 ('Cards', '/cards'), ('Dashboard', '/dashboard'),\n",
    "                ('Forms', '/forms'), ('Music', '/music'), ('Authentication', '/auth'),\n",
    "                ('Playground', '/playground')\n",
    "                )\n",
    "    nav_items = [Li()(A(href=r)(n)) for (n,r) in nav_items]\n",
    "    \n",
    "    navbar = UkNavBar(*nav_items)\n",
    "    content = Div(cls='uk-container uk-margin-top')(\n",
    "        H1('FrankenUI Examples in FastHTML'),\n",
    "        P('This site showcases the FrankenUI components rebuilt using FastHTML, demonstrating the power and flexibility of our Python wrapper.'),\n",
    "        P('Explore the Tasks and Cards pages to see examples of FrankenUI components implemented with FastHTML.')\n",
    "    )\n",
    "    return navbar, content"
   ]
  },
  {
   "cell_type": "code",
   "execution_count": 53,
   "id": "106a8d55",
   "metadata": {},
   "outputs": [],
   "source": [
    "#| export\n",
    "serve()"
   ]
  },
  {
   "cell_type": "code",
   "execution_count": 54,
   "id": "e792288a",
   "metadata": {},
   "outputs": [],
   "source": [
    "#| hide\n",
    "import nbdev; nbdev.nbdev_export()"
   ]
  }
 ],
 "metadata": {
  "kernelspec": {
   "display_name": "Python 3 (ipykernel)",
   "language": "python",
   "name": "python3"
  },
  "language_info": {
   "codemirror_mode": {
    "name": "ipython",
    "version": 3
   },
   "file_extension": ".py",
   "mimetype": "text/x-python",
   "name": "python",
   "nbconvert_exporter": "python",
   "pygments_lexer": "ipython3",
   "version": "3.12.4"
  },
  "toc": {
   "base_numbering": 1,
   "nav_menu": {},
   "number_sections": true,
   "sideBar": true,
   "skip_h1_title": false,
   "title_cell": "Table of Contents",
   "title_sidebar": "Contents",
   "toc_cell": false,
   "toc_position": {},
   "toc_section_display": true,
   "toc_window_display": false
  }
 },
 "nbformat": 4,
 "nbformat_minor": 5
}
