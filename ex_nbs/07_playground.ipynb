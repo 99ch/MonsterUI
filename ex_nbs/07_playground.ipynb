{
 "cells": [
  {
   "cell_type": "code",
   "execution_count": 1,
   "id": "ab1bae9f",
   "metadata": {},
   "outputs": [],
   "source": [
    "#| default_exp playground"
   ]
  },
  {
   "cell_type": "markdown",
   "id": "6eedb764",
   "metadata": {},
   "source": [
    "I've reviewed the provided information and variables. All the variables appear to be valid and contain content. Now, let me summarize your request in my own words:\n",
    "\n",
    "You're developing a library called `fh_frankenui` to implement FrankenUI components for FastHTML. Your approach is to recreate FrankenUI examples from their documentation in Python, building and expanding the `fh_frankenui` library as you go.\n",
    "\n",
    "Currently, you're focusing on implementing the \"playground\" example from FrankenUI. You want to use the existing components and functions from `fh_frankenui` as much as possible while creating this implementation. Additionally, you're looking for suggestions on how to improve or expand `fh_frankenui` to better support this and future implementations.\n",
    "\n",
    "You've provided an idiomatic FastHTML application example to give context on how FastHTML is typically used, and you want the implementation to follow similar patterns and best practices.\n",
    "\n",
    "The overall goal is to develop a comprehensive Python library that allows FastHTML users to easily create UIs with FrankenUI components, mirroring the functionality and appearance of the original FrankenUI examples.\n",
    "\n",
    "Is this understanding correct? Would you like me to proceed with implementing the playground example using and expanding `fh_frankenui`?"
   ]
  },
  {
   "cell_type": "code",
   "execution_count": 2,
   "id": "9dc35963",
   "metadata": {},
   "outputs": [],
   "source": [
    "#| export\n",
    "from fasthtml.common import *\n",
    "from fasthtml.components import Uk\n",
    "from fh_frankenui.components import *\n",
    "from fasthtml.components import Uk_icon\n",
    "from fasthtml.svg import *\n",
    "from fh_matplotlib import matplotlib2fasthtml\n",
    "import numpy as np\n",
    "from pathlib import Path\n",
    "import matplotlib.pylab as plt"
   ]
  },
  {
   "cell_type": "code",
   "execution_count": 3,
   "id": "417b3820",
   "metadata": {},
   "outputs": [],
   "source": [
    "#| hide\n",
    "from nbdev.showdoc import *"
   ]
  },
  {
   "cell_type": "code",
   "execution_count": 4,
   "id": "108c7b98",
   "metadata": {},
   "outputs": [
    {
     "data": {
      "text/html": [
       "<script src=\"https://cdn.tailwindcss.com\"></script>\n",
       "<script src=\"https://cdn.jsdelivr.net/npm/uikit@3.21.6/dist/js/uikit.min.js\"></script>\n",
       "<script src=\"https://cdn.jsdelivr.net/npm/uikit@3.21.6/dist/js/uikit-icons.min.js\"></script>\n",
       "<script type=\"module\" src=\"https://unpkg.com/franken-wc@0.0.6/dist/js/wc.iife.js\"></script>\n",
       "<link rel=\"stylesheet\" href=\"https://unpkg.com/franken-wc@0.0.6/dist/css/blue.min.css\">\n",
       "\n",
       "<style>\n",
       "#notebook-container { max-width: none; }\n",
       ".output_html * { list-style-type: none !important; }\n",
       "</style>\n"
      ],
      "text/plain": [
       "<IPython.core.display.HTML object>"
      ]
     },
     "metadata": {},
     "output_type": "display_data"
    }
   ],
   "source": [
    "%%html\n",
    "<script src=\"https://cdn.tailwindcss.com\"></script>\n",
    "<script src=\"https://cdn.jsdelivr.net/npm/uikit@3.21.6/dist/js/uikit.min.js\"></script>\n",
    "<script src=\"https://cdn.jsdelivr.net/npm/uikit@3.21.6/dist/js/uikit-icons.min.js\"></script>\n",
    "<script type=\"module\" src=\"https://unpkg.com/franken-wc@0.0.6/dist/js/wc.iife.js\"></script>\n",
    "<link rel=\"stylesheet\" href=\"https://unpkg.com/franken-wc@0.0.6/dist/css/blue.min.css\">\n",
    "\n",
    "<style>\n",
    "#notebook-container { max-width: none; }\n",
    ".output_html * { list-style-type: none !important; }\n",
    "</style>"
   ]
  },
  {
   "cell_type": "code",
   "execution_count": 5,
   "id": "d2840ee3",
   "metadata": {},
   "outputs": [],
   "source": [
    "from httpx import get\n",
    "fh_fui = Path('..')\n",
    "\n",
    "fh_frankenui = (fh_fui / \"fh_frankenui/components.py\").read_text()\n",
    "\n",
    "url = 'https://raw.githubusercontent.com/franken-ui/examples/master/src/pages/examples/playground.astro'\n",
    "playground = get(url).text\n",
    "\n",
    "url = 'https://raw.githubusercontent.com/franken-ui/examples/master/src/pages/examples/cards.astro'\n",
    "cards = get(url).text\n",
    "\n",
    "url = 'https://raw.githubusercontent.com/AnswerDotAI/fasthtml/main/examples/adv_app.py'\n",
    "idiomatic_fasthtml_app = get(url).text"
   ]
  },
  {
   "cell_type": "markdown",
   "id": "df2f83ea",
   "metadata": {},
   "source": [
    "I've reviewed the provided information and variables. All the variables appear to be valid and populated. Now, let me summarize your request in my own words:\n",
    "\n",
    "You're developing a Python library called `fh_frankenui` to implement FrankenUI components for FastHTML. Your approach is to reimplement FrankenUI examples from their documentation into Python, building up the library as you go. You've already worked on some components and now want to focus on the 'playground' example.\n",
    "\n",
    "Your goals are:\n",
    "\n",
    "1. To recreate the 'playground' example from FrankenUI using FastHTML and your `fh_frankenui` library.\n",
    "2. To use existing components from `fh_frankenui` as much as possible.\n",
    "3. To identify areas where `fh_frankenui` can be improved or expanded, and recommend new functions or enhancements.\n",
    "4. To follow the idiomatic FastHTML style, as demonstrated in the `idiomatic_fasthtml_app` example.\n",
    "\n",
    "You want me to help you implement this example, suggesting improvements to `fh_frankenui` where appropriate, and ensuring that the resulting code aligns with both FrankenUI's design and FastHTML's conventions.\n",
    "\n",
    "Is this understanding correct? If so, I'm ready to assist you with implementing the 'playground' example using your `fh_frankenui` library and FastHTML."
   ]
  },
  {
   "cell_type": "code",
   "execution_count": 6,
   "id": "7e5489b4",
   "metadata": {
    "scrolled": true
   },
   "outputs": [],
   "source": [
    "%%aip 0\n",
    "\n",
    "please replicate the playground navbar and re-use $`fh_frankenui` where possible"
   ]
  },
  {
   "cell_type": "code",
   "execution_count": 7,
   "id": "a4e37a2c",
   "metadata": {},
   "outputs": [],
   "source": [
    "#| export\n",
    "from fasthtml.common import *\n",
    "from fh_frankenui.components import *"
   ]
  },
  {
   "cell_type": "code",
   "execution_count": 8,
   "id": "37b395ce",
   "metadata": {},
   "outputs": [],
   "source": [
    "#|export\n",
    "preset_options = [\"Grammatical Standard English\"]\n",
    "\n",
    "# , \"Summarize for a 2nd grader\",\n",
    "#         \"Text to command\",\"Q&A\",\"English to other languages\",\"Parse unstructured data\",\n",
    "#         \"Classification\",\"Natural language to Python\",\"Explain code\",\"Chat\",\"More examples\"]"
   ]
  },
  {
   "cell_type": "code",
   "execution_count": 10,
   "id": "c1899608",
   "metadata": {},
   "outputs": [],
   "source": [
    "#| export\n",
    "# def playground_navbar():\n",
    "#     rnav = Div(cls='space-x-6 mr-10')(\n",
    "# #         preset_select,#UkSelect(*Options(*preset_options),name='preset',placeholder='Load a preset',searchable=True),\n",
    "#         UkDropdownButton(P(\"Load a preset\",cls=TextT.muted_sm),\n",
    "#             btn_cls=UkButtonT.default,\n",
    "#             options=(P('Content filter preferences',cls=TextT.muted_sm), UkHSplit(),\n",
    "#                      P('Delete preset',cls=(TextT.muted_sm,'uk-text-danger'))\n",
    "#                     )),\n",
    "        \n",
    "#         UkButton(\"Save\", cls=UkButtonT.secondary),\n",
    "#         UkButton(\"View Code\", cls=UkButtonT.secondary),\n",
    "#         UkButton(\"Share\", cls=UkButtonT.secondary),\n",
    "#         UkDropdownButton(UkIcon('more',0.5), \n",
    "#             btn_cls=UkButtonT.secondary,\n",
    "#             options=(P('Content filter preferences',cls=TextT.muted_sm), UkHSplit(),\n",
    "#                      P('Delete preset',cls=(TextT.muted_sm,'uk-text-danger'))\n",
    "#                     ))\n",
    "#     )\n",
    "#     return UkNavbar(lnav=UkH3('Playground'), \n",
    "                    \n",
    "#                     rnav=rnav)"
   ]
  },
  {
   "cell_type": "code",
   "execution_count": 11,
   "id": "5b3b72cd",
   "metadata": {},
   "outputs": [],
   "source": [
    "%%aip 0\n",
    "\n",
    "Can you re-write `playground_navbar` to work with `fh_frankenui` `UkSelect` function?"
   ]
  },
  {
   "cell_type": "code",
   "execution_count": 14,
   "id": "6e050f17",
   "metadata": {},
   "outputs": [],
   "source": [
    "#| export\n",
    "def playground_navbar():\n",
    "    rnav = Div(cls='flex items-center space-x-2')(\n",
    "        UkSelect(*[\"Grammatical Standard English\", \"Hi\"],\n",
    "                 name='preset',\n",
    "                 optgroup_label=\"Examples\",\n",
    "                 placeholder='Load a preset', \n",
    "                 searchable=True, \n",
    "                 cls='h-9 w-[200px] lg:w-[300px]'),\n",
    "        UkButton(\"Save\", cls=UkButtonT.secondary),\n",
    "        UkButton(\"View Code\", cls=UkButtonT.secondary),\n",
    "        UkButton(\"Share\", cls=UkButtonT.secondary),\n",
    "        UkDropdownButton(UkIcon('ellipsis'), \n",
    "            btn_cls=UkButtonT.secondary,\n",
    "            options=(\n",
    "                A(\"Content filter preferences\", href=\"#demo\"),\n",
    "                None, # divider\n",
    "                A(\"Delete preset\", cls=\"text-destructive\", href=\"#demo\")\n",
    "            )\n",
    "        )\n",
    "    )\n",
    "    return Div(cls=\"flex h-16 items-center justify-between border-b border-border px-8 py-4\")(\n",
    "        UkH2(\"Playground\", cls=\"text-lg font-semibold\"),\n",
    "        Div(cls=\"flex w-full flex-1 items-center justify-end\")(rnav)\n",
    "    )\n",
    "\n",
    "# Comment: This implementation assumes that the Modal components for \"Save\" and \"View Code\" \n",
    "# are defined elsewhere and can be toggled using the uk-toggle attribute."
   ]
  },
  {
   "cell_type": "code",
   "execution_count": 10,
   "id": "d149fa78",
   "metadata": {},
   "outputs": [],
   "source": [
    "# def playground_navbar():\n",
    "#     preset_select = UkSelect(\n",
    "#         *Options(preset_options),\n",
    "#         cls=\"h-9 w-[200px] lg:w-[300px]\",\n",
    "#         name=\"preset\",\n",
    "#         placeholder=\"Load a preset\",\n",
    "#         searchable=True\n",
    "#     )\n",
    "    \n",
    "#     save_modal = Modal(\n",
    "#         UkInput(label=\"Name\", id=\"name\"),\n",
    "#         UkInput(label=\"Description\", id=\"description\"),\n",
    "#         header=UkModalTitle(\"Save preset\",\n",
    "#             P(\"This will save the current playground state as a preset which you can access later or share with others.\",\n",
    "#               cls=(\"mt-1.5\", TextT.muted_sm))),\n",
    "#         footer=UkButton(\"Save\", cls=(UkButtonT.primary, \"uk-modal-close\")),\n",
    "#         id=\"save\"\n",
    "#     )\n",
    "    \n",
    "#     save_button = UkButton(\"Save\", cls=UkButtonT.secondary, uk_toggle=\"#save\")\n",
    "#     view_code_button = UkButton(\"View Code\", cls=UkButtonT.secondary, uk_toggle=\"#demo\")\n",
    "    \n",
    "#     share_dropdown = Div(\n",
    "#         H3(\"Share preset\", cls=\"text-lg font-semibold\"),\n",
    "#         P(\"Anyone who has this link and an OpenAI account will be able to view this.\", cls=(\"mt-1.5\", TextT.muted_sm)),\n",
    "#         Div(\n",
    "#             UkInput(value=\"https://platform.openai.com/playground/p/7bbKYQvsVkNmVb8NGcdUOLae?model=text-davinci-003\", readonly=True, cls=\"flex-1\"),\n",
    "#             UkButton(Span(uk_icon=\"icon: copy\"), cls=(UkButtonT.primary, \"uk-drop-close\"), uk_toggle=\"#demo\"),\n",
    "#             cls=\"flex items-center space-x-2 pt-4\"\n",
    "#         ),\n",
    "#         cls=\"uk-drop uk-dropdown w-[520px] p-4\",\n",
    "#         uk_drop=\"mode: click; pos: bottom-right;\"\n",
    "#     )\n",
    "    \n",
    "#     share_button = UkButton(\"Share\", cls=UkButtonT.secondary)\n",
    "    \n",
    "#     more_options_dropdown = Div(\n",
    "#         Ul(cls=\"uk-dropdown-nav\")(\n",
    "#             Li(A(\"Content filter preferences\", cls=\"uk-drop-close\", href=\"#demo\", uk_toggle=True)),\n",
    "#             Li(cls=\"uk-nav-divider\"),\n",
    "#             Li(A(\"Delete preset\", cls=\"uk-drop-close text-destructive\", href=\"#demo\", uk_toggle=True))\n",
    "#         ),\n",
    "#         cls=\"uk-drop uk-dropdown\",\n",
    "#         uk_drop=\"mode: click; pos: bottom-right\"\n",
    "#     )\n",
    "    \n",
    "#     more_options_button = UkButton(Span(uk_icon=\"icon: more\"), cls=UkButtonT.secondary)\n",
    "    \n",
    "#     navbar = Div(\n",
    "#         H2(\"Playground\", cls=\"text-lg font-semibold\"),\n",
    "#         Div(\n",
    "#             preset_select,\n",
    "#             save_button,\n",
    "#             save_modal,\n",
    "#             view_code_button,\n",
    "#             share_button,\n",
    "#             share_dropdown,\n",
    "#             more_options_button,\n",
    "#             more_options_dropdown,\n",
    "#             cls=\"flex w-full flex-1 items-center justify-end space-x-2\"\n",
    "#         ),\n",
    "#         cls=\"flex h-16 items-center justify-between border-b border-border px-8 py-4\"\n",
    "#     )\n",
    "    \n",
    "#     return navbar\n",
    "\n",
    "# # Example usage:\n",
    "# playground_navbar()"
   ]
  },
  {
   "cell_type": "code",
   "execution_count": 11,
   "id": "b71beacd",
   "metadata": {},
   "outputs": [],
   "source": [
    "#| export\n",
    "from fasthtml.common import *\n",
    "from fh_frankenui.components import *\n",
    "\n",
    "def page():\n",
    "    navbar = playground_navbar()\n",
    "    \n",
    "    main_content = Div(\n",
    "        Div(\n",
    "            Textarea(\n",
    "                cls=\"uk-textarea h-full p-4\",\n",
    "                placeholder=\"Write a tagline for an ice cream shop\",\n",
    "                readonly=True\n",
    "            ),\n",
    "            cls=\"flex-1\"\n",
    "        ),\n",
    "        Div(cls=\"w-[200px] flex-none\"),\n",
    "        cls=\"flex h-[700px] gap-x-6 px-8 py-6\"\n",
    "    )\n",
    "    \n",
    "    bottom_buttons = Div(\n",
    "        UkButton(\"Submit\", cls=UkButtonT.primary, uk_toggle=\"#demo\"),\n",
    "        UkButton(Uk_icon(icon=\"history\"), cls=UkButtonT.secondary, uk_toggle=\"#demo\"),\n",
    "        cls=\"flex gap-x-2 px-8 py-6 pt-0\"\n",
    "    )\n",
    "    \n",
    "    return Div(\n",
    "        navbar,\n",
    "        main_content,\n",
    "        bottom_buttons\n",
    "    )"
   ]
  },
  {
   "cell_type": "code",
   "execution_count": 12,
   "id": "20aefea1",
   "metadata": {},
   "outputs": [],
   "source": [
    "#| export\n",
    "\n",
    "playground_homepage = page()"
   ]
  },
  {
   "cell_type": "code",
   "execution_count": 13,
   "id": "2c302358",
   "metadata": {},
   "outputs": [],
   "source": [
    "#| hide\n",
    "import nbdev; nbdev.nbdev_export()"
   ]
  }
 ],
 "metadata": {
  "kernelspec": {
   "display_name": "Python 3 (ipykernel)",
   "language": "python",
   "name": "python3"
  },
  "language_info": {
   "codemirror_mode": {
    "name": "ipython",
    "version": 3
   },
   "file_extension": ".py",
   "mimetype": "text/x-python",
   "name": "python",
   "nbconvert_exporter": "python",
   "pygments_lexer": "ipython3",
   "version": "3.11.9"
  },
  "toc": {
   "base_numbering": 1,
   "nav_menu": {},
   "number_sections": true,
   "sideBar": true,
   "skip_h1_title": false,
   "title_cell": "Table of Contents",
   "title_sidebar": "Contents",
   "toc_cell": false,
   "toc_position": {},
   "toc_section_display": true,
   "toc_window_display": false
  }
 },
 "nbformat": 4,
 "nbformat_minor": 5
}
