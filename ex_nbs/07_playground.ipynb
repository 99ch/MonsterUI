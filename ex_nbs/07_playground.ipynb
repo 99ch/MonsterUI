{
 "cells": [
  {
   "cell_type": "markdown",
   "id": "9486f727",
   "metadata": {},
   "source": [
    "# Playground\n",
    "\n",
    "> FrankenUI Playground Example"
   ]
  },
  {
   "cell_type": "code",
   "execution_count": 1,
   "id": "ab1bae9f",
   "metadata": {},
   "outputs": [],
   "source": [
    "#| default_exp playground"
   ]
  },
  {
   "cell_type": "code",
   "execution_count": 1,
   "id": "9dc35963",
   "metadata": {},
   "outputs": [],
   "source": [
    "#| export\n",
    "from fasthtml.common import *\n",
    "import fasthtml.common as fh\n",
    "from fh_frankenui import *\n",
    "from fh_frankenui.core import *\n",
    "from fh_frankenui.components import *\n",
    "\n",
    "from fasthtml.svg import *\n"
   ]
  },
  {
   "cell_type": "code",
   "execution_count": 2,
   "id": "5b0a2a21",
   "metadata": {},
   "outputs": [],
   "source": [
    "#| hide\n",
    "#| eval: false\n",
    "\n",
    "from fasthtml.jupyter import *\n",
    "from IPython.display import display, HTML\n",
    "\n",
    "\n",
    "if is_port_free(8000):\n",
    "    app, rt = fh.fast_app(pico=False, hdrs=Theme.blue.headers())\n",
    "    server = JupyUvi(app)\n",
    "app        \n",
    "def HShow(comp, app):\n",
    "    @app.get('/')\n",
    "    def get(): return comp\n",
    "\n",
    "    display(HTML(f'<a href=\"http://localhost:8000/\" target=\"_blank\">Open in new tab</a>'))\n",
    "    return HTMX(\"/\")\n",
    "\n",
    "Show = partial(HShow, app=app)"
   ]
  },
  {
   "cell_type": "code",
   "execution_count": 3,
   "id": "417b3820",
   "metadata": {},
   "outputs": [],
   "source": [
    "#| hide\n",
    "from nbdev.showdoc import *"
   ]
  },
  {
   "cell_type": "code",
   "execution_count": 4,
   "id": "108c7b98",
   "metadata": {},
   "outputs": [
    {
     "data": {
      "text/html": [
       "<script src=\"https://cdn.tailwindcss.com\"></script>\n",
       "<script src=\"https://cdn.jsdelivr.net/npm/uikit@3.21.6/dist/js/uikit.min.js\"></script>\n",
       "<script src=\"https://cdn.jsdelivr.net/npm/uikit@3.21.6/dist/js/uikit-icons.min.js\"></script>\n",
       "<script type=\"module\" src=\"https://unpkg.com/franken-wc@0.0.6/dist/js/wc.iife.js\"></script>\n",
       "<link rel=\"stylesheet\" href=\"https://unpkg.com/franken-wc@0.0.6/dist/css/blue.min.css\">\n",
       "\n",
       "<style>\n",
       "#notebook-container { max-width: none; }\n",
       ".output_html * { list-style-type: none !important; }\n",
       "</style>\n"
      ],
      "text/plain": [
       "<IPython.core.display.HTML object>"
      ]
     },
     "metadata": {},
     "output_type": "display_data"
    }
   ],
   "source": [
    "%%html\n",
    "<script src=\"https://cdn.tailwindcss.com\"></script>\n",
    "<script src=\"https://cdn.jsdelivr.net/npm/uikit@3.21.6/dist/js/uikit.min.js\"></script>\n",
    "<script src=\"https://cdn.jsdelivr.net/npm/uikit@3.21.6/dist/js/uikit-icons.min.js\"></script>\n",
    "<script type=\"module\" src=\"https://unpkg.com/franken-wc@0.0.6/dist/js/wc.iife.js\"></script>\n",
    "<link rel=\"stylesheet\" href=\"https://unpkg.com/franken-wc@0.0.6/dist/css/blue.min.css\">\n",
    "\n",
    "<style>\n",
    "#notebook-container { max-width: none; }\n",
    ".output_html * { list-style-type: none !important; }\n",
    "</style>"
   ]
  },
  {
   "cell_type": "code",
   "execution_count": null,
   "id": "a4e37a2c",
   "metadata": {},
   "outputs": [],
   "source": []
  },
  {
   "cell_type": "code",
   "execution_count": 5,
   "id": "37b395ce",
   "metadata": {},
   "outputs": [],
   "source": [
    "#|export\n",
    "preset_options = [\"Grammatical Standard English\", \"Summarize for a 2nd grader\",\n",
    "        \"Text to command\",\"Q&A\",\"English to other languages\",\"Parse unstructured data\",\n",
    "        \"Classification\",\"Natural language to Python\",\"Explain code\",\"Chat\",\"More examples\"]"
   ]
  },
  {
   "cell_type": "code",
   "execution_count": 6,
   "id": "6e050f17",
   "metadata": {},
   "outputs": [],
   "source": [
    "#| export\n",
    "def playground_navbar():\n",
    "    save_modal = Modal(\n",
    "        ModalTitle(\"Save preset\"),\n",
    "        P(\"This will save the current playground state as a preset which you can access later or share with others.\",cls=(\"mt-1.5\", TextFont.muted_sm)),\n",
    "        LabelInput(\"Name\",        id=\"name\"), \n",
    "        LabelInput(\"Description\", id=\"description\"),\n",
    "        ModalCloseButton(\"Save\", cls=(ButtonT.primary)),\n",
    "        id=\"save\")\n",
    "    \n",
    "    share_dd = Div(cls=\"space-y-6 p-4\")(\n",
    "        H3(\"Share preset\"),\n",
    "        P(\"Anyone who has this link and an OpenAI account will be able to view this.\", cls=TextFont.muted_sm),\n",
    "        Div(Input(value=\"https://platform.openai.com/playground/p/7bbKYQvsVkNmVb8NGcdUOLae?model=text-davinci-003\", readonly=True, cls=\"flex-1\"),\n",
    "            Button(UkIcon('copy'), cls=(ButtonT.primary, \"uk-drop-close\"))))\n",
    "\n",
    "    rnav = Div(cls='flex items-center space-x-2')(\n",
    "        Select(*Options(*preset_options), name='preset', optgroup_label=\"Examples\",\n",
    "                 placeholder='Load a preset', searchable=True, cls='h-9 w-[200px] lg:w-[300px]'),\n",
    "        Button(\"Save\",         cls=ButtonT.secondary, uk_toggle=\"#save\"),save_modal,\n",
    "        Button(\"View Code\",    cls=ButtonT.secondary),\n",
    "        Button(\"Share\",        cls=ButtonT.secondary),DropDownNavContainer(share_dd),\n",
    "        Button(UkIcon(\"more\"), cls=ButtonT.secondary),DropDownNavContainer(\n",
    "            Li(A(\"Content filter preferences\")),\n",
    "            NavDividerLi(),\n",
    "            Li(A(\"Delete preset\", cls=\"text-destructive\"))))\n",
    "    \n",
    "    return NavBarContainer(\n",
    "                NavBarLSide(NavBarNav(H4('Playground'))),\n",
    "                NavBarRSide(NavBarNav(rnav)))"
   ]
  },
  {
   "cell_type": "code",
   "execution_count": 35,
   "id": "998b2390",
   "metadata": {},
   "outputs": [],
   "source": [
    "#| export\n",
    "def playground_navbar():\n",
    "    save_modal = Modal(\n",
    "        ModalTitle(\"Save preset\"),\n",
    "        P(\"This will save the current playground state as a preset which you can access later or share with others.\",cls=(\"mt-1.5\", TextFont.muted_sm)),\n",
    "        LabelInput(\"Name\",        id=\"name\"), \n",
    "        LabelInput(\"Description\", id=\"description\"),\n",
    "        ModalCloseButton(\"Save\", cls=(ButtonT.primary)),\n",
    "        id=\"save\")\n",
    "    \n",
    "    share_dd = Div(cls=\"space-y-6 p-4\")(\n",
    "        H3(\"Share preset\"),\n",
    "        P(\"Anyone who has this link and an OpenAI account will be able to view this.\", cls=TextFont.muted_sm),\n",
    "        Div(Input(value=\"https://platform.openai.com/playground/p/7bbKYQvsVkNmVb8NGcdUOLae?model=text-davinci-003\", readonly=True, cls=\"flex-1\"),\n",
    "            Button(UkIcon('copy'), cls=(ButtonT.primary, \"uk-drop-close\"))))\n",
    "\n",
    "    rnav = NavBarNav(\n",
    "        Li(Select(*Options(*preset_options), name='preset', optgroup_label=\"Examples\",\n",
    "                 placeholder='Load a preset', searchable=True, cls='h-9 w-[200px] lg:w-[300px]')),\n",
    "        Li(Button(\"Save\",         cls=ButtonT.secondary, uk_toggle=\"#save\"),save_modal),\n",
    "        Li(Button(\"View Code\",    cls=ButtonT.secondary)),\n",
    "        Li(Button(\"Share\",        cls=ButtonT.secondary),DropDownNavContainer(share_dd)),\n",
    "        Li(Button(UkIcon(\"more\"), cls=ButtonT.secondary),DropDownNavContainer(\n",
    "            Li(A(\"Content filter preferences\")),\n",
    "            NavDividerLi(),\n",
    "            Li(A(\"Delete preset\", cls=\"text-destructive\")))))\n",
    "    \n",
    "    return NavBarContainer(\n",
    "                NavBarLSide(NavBarNav(Li(H4('Playground')))),\n",
    "                NavBarRSide(rnav),\n",
    "                cls='mt-2')"
   ]
  },
  {
   "cell_type": "code",
   "execution_count": 39,
   "id": "1d594f9c",
   "metadata": {},
   "outputs": [],
   "source": [
    "# Show(playground_navbar())"
   ]
  },
  {
   "cell_type": "code",
   "execution_count": 64,
   "id": "b71beacd",
   "metadata": {},
   "outputs": [],
   "source": [
    "#| export\n",
    "def page():\n",
    "    navbar = playground_navbar()\n",
    "    \n",
    "    main_content = Div(\n",
    "        Div(cls=\"flex-1\")(Textarea(cls=\"uk-textarea h-full p-4\", placeholder=\"Write a tagline for an ice cream shop\",readonly=True),),\n",
    "        Div(cls=\"w-[200px] flex-none\"),\n",
    "        cls=\"flex h-[700px] gap-x-6 px-8 py-6\")\n",
    "    \n",
    "    bottom_buttons = Div(\n",
    "        Button(\"Submit\", cls=ButtonT.primary),\n",
    "        Button(UkIcon(icon=\"history\"), cls=ButtonT.secondary),\n",
    "        cls=\"flex gap-x-2 px-8 py-6 pt-0\")\n",
    "    \n",
    "    return Div(navbar, main_content, bottom_buttons)"
   ]
  },
  {
   "cell_type": "code",
   "execution_count": 65,
   "id": "20aefea1",
   "metadata": {},
   "outputs": [],
   "source": [
    "#| export\n",
    "\n",
    "playground_homepage = page()"
   ]
  },
  {
   "cell_type": "code",
   "execution_count": 66,
   "id": "2c302358",
   "metadata": {},
   "outputs": [],
   "source": [
    "#| hide\n",
    "import nbdev; nbdev.nbdev_export()"
   ]
  },
  {
   "cell_type": "code",
   "execution_count": null,
   "id": "aa778f1c",
   "metadata": {},
   "outputs": [],
   "source": []
  }
 ],
 "metadata": {
  "kernelspec": {
   "display_name": "Python 3 (ipykernel)",
   "language": "python",
   "name": "python3"
  },
  "language_info": {
   "codemirror_mode": {
    "name": "ipython",
    "version": 3
   },
   "file_extension": ".py",
   "mimetype": "text/x-python",
   "name": "python",
   "nbconvert_exporter": "python",
   "pygments_lexer": "ipython3",
   "version": "3.12.4"
  },
  "toc": {
   "base_numbering": 1,
   "nav_menu": {},
   "number_sections": true,
   "sideBar": true,
   "skip_h1_title": false,
   "title_cell": "Table of Contents",
   "title_sidebar": "Contents",
   "toc_cell": false,
   "toc_position": {},
   "toc_section_display": true,
   "toc_window_display": false
  }
 },
 "nbformat": 4,
 "nbformat_minor": 5
}
