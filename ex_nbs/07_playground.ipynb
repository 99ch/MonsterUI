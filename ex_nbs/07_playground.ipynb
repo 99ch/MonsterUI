{
 "cells": [
  {
   "cell_type": "code",
   "execution_count": 1,
   "id": "ab1bae9f",
   "metadata": {},
   "outputs": [],
   "source": [
    "#| default_exp playground"
   ]
  },
  {
   "cell_type": "code",
   "execution_count": 2,
   "id": "9dc35963",
   "metadata": {},
   "outputs": [],
   "source": [
    "#| export\n",
    "from fasthtml.common import *\n",
    "from fasthtml.components import Uk\n",
    "from fh_frankenui.components import *\n",
    "from fasthtml.components import Uk_icon\n",
    "from fasthtml.svg import *\n",
    "from fh_matplotlib import matplotlib2fasthtml\n",
    "import numpy as np\n",
    "from pathlib import Path\n",
    "import matplotlib.pylab as plt"
   ]
  },
  {
   "cell_type": "code",
   "execution_count": 3,
   "id": "417b3820",
   "metadata": {},
   "outputs": [],
   "source": [
    "#| hide\n",
    "from nbdev.showdoc import *"
   ]
  },
  {
   "cell_type": "code",
   "execution_count": 4,
   "id": "108c7b98",
   "metadata": {},
   "outputs": [
    {
     "data": {
      "text/html": [
       "<script src=\"https://cdn.tailwindcss.com\"></script>\n",
       "<script src=\"https://cdn.jsdelivr.net/npm/uikit@3.21.6/dist/js/uikit.min.js\"></script>\n",
       "<script src=\"https://cdn.jsdelivr.net/npm/uikit@3.21.6/dist/js/uikit-icons.min.js\"></script>\n",
       "<script type=\"module\" src=\"https://unpkg.com/franken-wc@0.0.6/dist/js/wc.iife.js\"></script>\n",
       "<link rel=\"stylesheet\" href=\"https://unpkg.com/franken-wc@0.0.6/dist/css/blue.min.css\">\n",
       "\n",
       "<style>\n",
       "#notebook-container { max-width: none; }\n",
       ".output_html * { list-style-type: none !important; }\n",
       "</style>\n"
      ],
      "text/plain": [
       "<IPython.core.display.HTML object>"
      ]
     },
     "metadata": {},
     "output_type": "display_data"
    }
   ],
   "source": [
    "%%html\n",
    "<script src=\"https://cdn.tailwindcss.com\"></script>\n",
    "<script src=\"https://cdn.jsdelivr.net/npm/uikit@3.21.6/dist/js/uikit.min.js\"></script>\n",
    "<script src=\"https://cdn.jsdelivr.net/npm/uikit@3.21.6/dist/js/uikit-icons.min.js\"></script>\n",
    "<script type=\"module\" src=\"https://unpkg.com/franken-wc@0.0.6/dist/js/wc.iife.js\"></script>\n",
    "<link rel=\"stylesheet\" href=\"https://unpkg.com/franken-wc@0.0.6/dist/css/blue.min.css\">\n",
    "\n",
    "<style>\n",
    "#notebook-container { max-width: none; }\n",
    ".output_html * { list-style-type: none !important; }\n",
    "</style>"
   ]
  },
  {
   "cell_type": "code",
   "execution_count": 5,
   "id": "d2840ee3",
   "metadata": {},
   "outputs": [],
   "source": [
    "from httpx import get\n",
    "fh_fui = Path(os.path.expanduser('~/fh-frankenui/fh_frankenui'))\n",
    "fh_fui_ex = Path(os.path.expanduser('~/fh-frankenui-examples/fh_frankenui_examples'))\n",
    "\n",
    "fh_frankenui = (fh_fui / \"components.py\").read_text()\n",
    "\n",
    "url = 'https://raw.githubusercontent.com/franken-ui/examples/master/src/pages/examples/playground.astro'\n",
    "playground = get(url).text\n",
    "\n",
    "url = 'https://raw.githubusercontent.com/franken-ui/examples/master/src/pages/examples/cards.astro'\n",
    "cards = get(url).text\n",
    "\n",
    "cards_in_python = (fh_fui_ex / 'cards.py').read_text()\n",
    "\n",
    "url = 'https://raw.githubusercontent.com/AnswerDotAI/fasthtml/main/examples/adv_app.py'\n",
    "idiomatic_fasthtml_app = get(url).text"
   ]
  },
  {
   "cell_type": "code",
   "execution_count": 6,
   "id": "8cf78b3d",
   "metadata": {},
   "outputs": [],
   "source": [
    "%%ai -c\n",
    "\n",
    "I am implementing FrankenUI for FastHTML by reimplementing the FrankenUI examples from their docs in a python library.\n",
    "\n",
    "I am doing this by building a library as I go, $`fh_frankenui`.  You should use this library as much as possible\n",
    "\n",
    "Reference the $`idiomatic_fasthtml_app` to get a feel for fasthtml.\n",
    "\n",
    "I previously implemented the $`cards` example, and the python implementation looked like $`cards_in_python`.\n",
    "\n",
    "Now, I am looking to do the same with the $`playground` example.\n",
    "\n",
    "The goal is to develop the work-in-progress `fh_frankenui` library, so please use `fh_frankenui` as much as makes sense and recommend functions or improvements to `fh_frankenui` when it fits.\n",
    "\n",
    "Please read all this information and confirm that you understand what I want to do by giving me a brief overview in your own words.\n",
    "\n",
    "Before answering, let me know if any of the variables I supplied are invalid or empty."
   ]
  },
  {
   "cell_type": "markdown",
   "id": "1ff6975b",
   "metadata": {},
   "source": [
    "All the variables you supplied appear to be valid and contain content. I understand your request and will provide a brief overview.\n",
    "\n",
    "You're developing a Python library called `fh_frankenui` to implement FrankenUI components for FastHTML. Your approach involves reimplementing FrankenUI examples from their documentation in Python, building up the library as you go. You've already implemented the 'cards' example and now want to do the same for the 'playground' example.\n",
    "\n",
    "Your goals are:\n",
    "1. To create a Python implementation of the 'playground' example using FastHTML and your `fh_frankenui` library.\n",
    "2. To use and expand the `fh_frankenui` library as much as possible during this process.\n",
    "3. To recommend improvements or additional functions for `fh_frankenui` where appropriate.\n",
    "\n",
    "You want me to reference the `idiomatic_fasthtml_app` to understand FastHTML's style and conventions, and to use the `cards_in_python` implementation as a guide for how you've approached previous examples.\n",
    "\n",
    "The task involves translating the HTML and JavaScript in the `playground` variable into equivalent Python code using FastHTML and `fh_frankenui`, while also identifying opportunities to enhance the `fh_frankenui` library.\n",
    "\n",
    "Is this understanding correct? Would you like me to proceed with implementing the playground example?"
   ]
  },
  {
   "cell_type": "code",
   "execution_count": 8,
   "id": "7e5489b4",
   "metadata": {
    "scrolled": true
   },
   "outputs": [],
   "source": [
    "%%aip\n",
    "\n",
    "please replicate the playground navbar and re-use $`fh_frankenui` where possible"
   ]
  },
  {
   "cell_type": "code",
   "execution_count": 35,
   "id": "d149fa78",
   "metadata": {},
   "outputs": [],
   "source": [
    "#| export\n",
    "from fasthtml.common import *\n",
    "from fh_frankenui.components import *\n",
    "\n",
    "def playground_navbar():\n",
    "    preset_options = [\n",
    "        \"Grammatical Standard English\",\n",
    "        \"Summarize for a 2nd grader\",\n",
    "        \"Text to command\",\n",
    "        \"Q&A\",\n",
    "        \"English to other languages\",\n",
    "        \"Parse unstructured data\",\n",
    "        \"Classification\",\n",
    "        \"Natural language to Python\",\n",
    "        \"Explain code\",\n",
    "        \"Chat\",\n",
    "        \"More examples\"\n",
    "    ]\n",
    "    \n",
    "    preset_select = UkSelect(\n",
    "        *Options(preset_options),\n",
    "        cls=\"h-9 w-[200px] lg:w-[300px]\",\n",
    "        name=\"preset\",\n",
    "        placeholder=\"Load a preset\",\n",
    "        searchable=True\n",
    "    )\n",
    "    \n",
    "    save_modal = Modal(\n",
    "        UkInput(label=\"Name\", id=\"name\"),\n",
    "        UkInput(label=\"Description\", id=\"description\"),\n",
    "        header=UkModalTitle(\"Save preset\",\n",
    "            P(\"This will save the current playground state as a preset which you can access later or share with others.\",\n",
    "              cls=(\"mt-1.5\", TextT.muted_sm))),\n",
    "        footer=UkButton(\"Save\", cls=(UkButtonT.primary, \"uk-modal-close\")),\n",
    "        id=\"save\"\n",
    "    )\n",
    "    \n",
    "    save_button = UkButton(\"Save\", cls=UkButtonT.secondary, uk_toggle=\"#save\")\n",
    "    view_code_button = UkButton(\"View Code\", cls=UkButtonT.secondary, uk_toggle=\"#demo\")\n",
    "    \n",
    "    share_dropdown = Div(\n",
    "        H3(\"Share preset\", cls=\"text-lg font-semibold\"),\n",
    "        P(\"Anyone who has this link and an OpenAI account will be able to view this.\", cls=(\"mt-1.5\", TextT.muted_sm)),\n",
    "        Div(\n",
    "            UkInput(value=\"https://platform.openai.com/playground/p/7bbKYQvsVkNmVb8NGcdUOLae?model=text-davinci-003\", readonly=True, cls=\"flex-1\"),\n",
    "            UkButton(Span(uk_icon=\"icon: copy\"), cls=(UkButtonT.primary, \"uk-drop-close\"), uk_toggle=\"#demo\"),\n",
    "            cls=\"flex items-center space-x-2 pt-4\"\n",
    "        ),\n",
    "        cls=\"uk-drop uk-dropdown w-[520px] p-4\",\n",
    "        uk_drop=\"mode: click; pos: bottom-right;\"\n",
    "    )\n",
    "    \n",
    "    share_button = UkButton(\"Share\", cls=UkButtonT.secondary)\n",
    "    \n",
    "    more_options_dropdown = Div(\n",
    "        Ul(cls=\"uk-dropdown-nav\")(\n",
    "            Li(A(\"Content filter preferences\", cls=\"uk-drop-close\", href=\"#demo\", uk_toggle=True)),\n",
    "            Li(cls=\"uk-nav-divider\"),\n",
    "            Li(A(\"Delete preset\", cls=\"uk-drop-close text-destructive\", href=\"#demo\", uk_toggle=True))\n",
    "        ),\n",
    "        cls=\"uk-drop uk-dropdown\",\n",
    "        uk_drop=\"mode: click; pos: bottom-right\"\n",
    "    )\n",
    "    \n",
    "    more_options_button = UkButton(Span(uk_icon=\"icon: more\"), cls=UkButtonT.secondary)\n",
    "    \n",
    "    navbar = Div(\n",
    "        H2(\"Playground\", cls=\"text-lg font-semibold\"),\n",
    "        Div(\n",
    "            preset_select,\n",
    "            save_button,\n",
    "            save_modal,\n",
    "            view_code_button,\n",
    "            share_button,\n",
    "            share_dropdown,\n",
    "            more_options_button,\n",
    "            more_options_dropdown,\n",
    "            cls=\"flex w-full flex-1 items-center justify-end space-x-2\"\n",
    "        ),\n",
    "        cls=\"flex h-16 items-center justify-between border-b border-border px-8 py-4\"\n",
    "    )\n",
    "    \n",
    "    return navbar\n",
    "\n",
    "# Example usage:\n",
    "# playground_navbar()"
   ]
  },
  {
   "cell_type": "code",
   "execution_count": 36,
   "id": "10e70c8f",
   "metadata": {
    "scrolled": true
   },
   "outputs": [],
   "source": [
    "%%aip 0\n",
    "\n",
    "create a `def page():` function which for now adds the navbar and leaves room for the other components"
   ]
  },
  {
   "cell_type": "code",
   "execution_count": 37,
   "id": "b71beacd",
   "metadata": {},
   "outputs": [],
   "source": [
    "#| export\n",
    "from fasthtml.common import *\n",
    "from fh_frankenui.components import *\n",
    "\n",
    "def page():\n",
    "    navbar = playground_navbar()\n",
    "    \n",
    "    main_content = Div(\n",
    "        Div(\n",
    "            Textarea(\n",
    "                cls=\"uk-textarea h-full p-4\",\n",
    "                placeholder=\"Write a tagline for an ice cream shop\",\n",
    "                readonly=True\n",
    "            ),\n",
    "            cls=\"flex-1\"\n",
    "        ),\n",
    "        Div(cls=\"w-[200px] flex-none\"),\n",
    "        cls=\"flex h-[700px] gap-x-6 px-8 py-6\"\n",
    "    )\n",
    "    \n",
    "    bottom_buttons = Div(\n",
    "        UkButton(\"Submit\", cls=UkButtonT.primary, uk_toggle=\"#demo\"),\n",
    "        UkButton(Uk_icon(icon=\"history\"), cls=UkButtonT.secondary, uk_toggle=\"#demo\"),\n",
    "        cls=\"flex gap-x-2 px-8 py-6 pt-0\"\n",
    "    )\n",
    "    \n",
    "    return Div(\n",
    "        navbar,\n",
    "        main_content,\n",
    "        bottom_buttons\n",
    "    )"
   ]
  },
  {
   "cell_type": "code",
   "execution_count": 38,
   "id": "20aefea1",
   "metadata": {},
   "outputs": [],
   "source": [
    "#| export\n",
    "\n",
    "playground_homepage = page()"
   ]
  },
  {
   "cell_type": "code",
   "execution_count": 39,
   "id": "2c302358",
   "metadata": {},
   "outputs": [],
   "source": [
    "#| hide\n",
    "import nbdev; nbdev.nbdev_export()"
   ]
  },
  {
   "cell_type": "code",
   "execution_count": null,
   "id": "be57f81d",
   "metadata": {},
   "outputs": [],
   "source": []
  },
  {
   "cell_type": "code",
   "execution_count": null,
   "id": "78a49822",
   "metadata": {},
   "outputs": [],
   "source": []
  }
 ],
 "metadata": {
  "kernelspec": {
   "display_name": "Python 3 (ipykernel)",
   "language": "python",
   "name": "python3"
  },
  "language_info": {
   "codemirror_mode": {
    "name": "ipython",
    "version": 3
   },
   "file_extension": ".py",
   "mimetype": "text/x-python",
   "name": "python",
   "nbconvert_exporter": "python",
   "pygments_lexer": "ipython3",
   "version": "3.12.4"
  },
  "toc": {
   "base_numbering": 1,
   "nav_menu": {},
   "number_sections": true,
   "sideBar": true,
   "skip_h1_title": false,
   "title_cell": "Table of Contents",
   "title_sidebar": "Contents",
   "toc_cell": false,
   "toc_position": {},
   "toc_section_display": true,
   "toc_window_display": false
  }
 },
 "nbformat": 4,
 "nbformat_minor": 5
}
