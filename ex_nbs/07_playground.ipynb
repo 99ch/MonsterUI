{
 "cells": [
  {
   "cell_type": "code",
   "execution_count": 4,
   "id": "ab1bae9f",
   "metadata": {},
   "outputs": [],
   "source": [
    "#| default_exp playground"
   ]
  },
  {
   "cell_type": "markdown",
   "id": "6eedb764",
   "metadata": {},
   "source": [
    "I've reviewed the provided information and variables. All the variables appear to be valid and contain content. Now, let me summarize your request in my own words:\n",
    "\n",
    "You're developing a library called `fh_frankenui` to implement FrankenUI components for FastHTML. Your approach is to recreate FrankenUI examples from their documentation in Python, building and expanding the `fh_frankenui` library as you go.\n",
    "\n",
    "Currently, you're focusing on implementing the \"playground\" example from FrankenUI. You want to use the existing components and functions from `fh_frankenui` as much as possible while creating this implementation. Additionally, you're looking for suggestions on how to improve or expand `fh_frankenui` to better support this and future implementations.\n",
    "\n",
    "You've provided an idiomatic FastHTML application example to give context on how FastHTML is typically used, and you want the implementation to follow similar patterns and best practices.\n",
    "\n",
    "The overall goal is to develop a comprehensive Python library that allows FastHTML users to easily create UIs with FrankenUI components, mirroring the functionality and appearance of the original FrankenUI examples.\n",
    "\n",
    "Is this understanding correct? Would you like me to proceed with implementing the playground example using and expanding `fh_frankenui`?"
   ]
  },
  {
   "cell_type": "code",
   "execution_count": 5,
   "id": "9dc35963",
   "metadata": {},
   "outputs": [],
   "source": [
    "#| export\n",
    "from fasthtml.common import *\n",
    "from fasthtml.components import Uk\n",
    "from fh_frankenui import *\n",
    "from fasthtml.components import Uk_icon\n",
    "from fasthtml.svg import *\n",
    "from fh_matplotlib import matplotlib2fasthtml\n",
    "import numpy as np\n",
    "from pathlib import Path\n",
    "import matplotlib.pylab as plt"
   ]
  },
  {
   "cell_type": "code",
   "execution_count": 6,
   "id": "417b3820",
   "metadata": {},
   "outputs": [],
   "source": [
    "#| hide\n",
    "# from nbdev.showdoc import *"
   ]
  },
  {
   "cell_type": "code",
   "execution_count": 7,
   "id": "108c7b98",
   "metadata": {},
   "outputs": [
    {
     "data": {
      "text/html": [
       "<script src=\"https://cdn.tailwindcss.com\"></script>\n",
       "<script src=\"https://cdn.jsdelivr.net/npm/uikit@3.21.6/dist/js/uikit.min.js\"></script>\n",
       "<script src=\"https://cdn.jsdelivr.net/npm/uikit@3.21.6/dist/js/uikit-icons.min.js\"></script>\n",
       "<script type=\"module\" src=\"https://unpkg.com/franken-wc@0.0.6/dist/js/wc.iife.js\"></script>\n",
       "<link rel=\"stylesheet\" href=\"https://unpkg.com/franken-wc@0.0.6/dist/css/blue.min.css\">\n",
       "\n",
       "<style>\n",
       "#notebook-container { max-width: none; }\n",
       ".output_html * { list-style-type: none !important; }\n",
       "</style>\n"
      ],
      "text/plain": [
       "<IPython.core.display.HTML object>"
      ]
     },
     "metadata": {},
     "output_type": "display_data"
    }
   ],
   "source": [
    "%%html\n",
    "<script src=\"https://cdn.tailwindcss.com\"></script>\n",
    "<script src=\"https://cdn.jsdelivr.net/npm/uikit@3.21.6/dist/js/uikit.min.js\"></script>\n",
    "<script src=\"https://cdn.jsdelivr.net/npm/uikit@3.21.6/dist/js/uikit-icons.min.js\"></script>\n",
    "<script type=\"module\" src=\"https://unpkg.com/franken-wc@0.0.6/dist/js/wc.iife.js\"></script>\n",
    "<link rel=\"stylesheet\" href=\"https://unpkg.com/franken-wc@0.0.6/dist/css/blue.min.css\">\n",
    "\n",
    "<style>\n",
    "#notebook-container { max-width: none; }\n",
    ".output_html * { list-style-type: none !important; }\n",
    "</style>"
   ]
  },
  {
   "cell_type": "code",
   "execution_count": 8,
   "id": "d2840ee3",
   "metadata": {},
   "outputs": [],
   "source": [
    "from httpx import get\n",
    "fh_fui = Path('..')\n",
    "\n",
    "fh_frankenui = (fh_fui / \"fh_frankenui/components.py\").read_text()\n",
    "\n",
    "url = 'https://raw.githubusercontent.com/franken-ui/examples/master/src/pages/examples/playground.astro'\n",
    "playground = get(url).text\n",
    "\n",
    "url = 'https://raw.githubusercontent.com/franken-ui/examples/master/src/pages/examples/cards.astro'\n",
    "cards = get(url).text\n",
    "\n",
    "url = 'https://raw.githubusercontent.com/AnswerDotAI/fasthtml/main/examples/adv_app.py'\n",
    "idiomatic_fasthtml_app = get(url).text"
   ]
  },
  {
   "cell_type": "markdown",
   "id": "df2f83ea",
   "metadata": {},
   "source": [
    "I've reviewed the provided information and variables. All the variables appear to be valid and populated. Now, let me summarize your request in my own words:\n",
    "\n",
    "You're developing a Python library called `fh_frankenui` to implement FrankenUI components for FastHTML. Your approach is to reimplement FrankenUI examples from their documentation into Python, building up the library as you go. You've already worked on some components and now want to focus on the 'playground' example.\n",
    "\n",
    "Your goals are:\n",
    "\n",
    "1. To recreate the 'playground' example from FrankenUI using FastHTML and your `fh_frankenui` library.\n",
    "2. To use existing components from `fh_frankenui` as much as possible.\n",
    "3. To identify areas where `fh_frankenui` can be improved or expanded, and recommend new functions or enhancements.\n",
    "4. To follow the idiomatic FastHTML style, as demonstrated in the `idiomatic_fasthtml_app` example.\n",
    "\n",
    "You want me to help you implement this example, suggesting improvements to `fh_frankenui` where appropriate, and ensuring that the resulting code aligns with both FrankenUI's design and FastHTML's conventions.\n",
    "\n",
    "Is this understanding correct? If so, I'm ready to assist you with implementing the 'playground' example using your `fh_frankenui` library and FastHTML."
   ]
  },
  {
   "cell_type": "code",
   "execution_count": 9,
   "id": "7e5489b4",
   "metadata": {
    "scrolled": true
   },
   "outputs": [],
   "source": [
    "%%aip 0\n",
    "\n",
    "please replicate the playground navbar and re-use $`fh_frankenui` where possible"
   ]
  },
  {
   "cell_type": "code",
   "execution_count": 10,
   "id": "a4e37a2c",
   "metadata": {},
   "outputs": [],
   "source": [
    "#| export\n",
    "from fasthtml.common import *\n",
    "from fh_frankenui.components import *"
   ]
  },
  {
   "cell_type": "code",
   "execution_count": 39,
   "id": "37b395ce",
   "metadata": {},
   "outputs": [],
   "source": [
    "#|export\n",
    "preset_options = [\"Grammatical Standard English\", \"Summarize for a 2nd grader\",\n",
    "        \"Text to command\",\"Q&A\",\"English to other languages\",\"Parse unstructured data\",\n",
    "        \"Classification\",\"Natural language to Python\",\"Explain code\",\"Chat\",\"More examples\"]"
   ]
  },
  {
   "cell_type": "code",
   "execution_count": 15,
   "id": "6e050f17",
   "metadata": {},
   "outputs": [],
   "source": [
    "#| export\n",
    "def playground_navbar():\n",
    "    save_modal = Modal(\n",
    "        UkModalTitle(\"Save preset\"),\n",
    "        P(\"This will save the current playground state as a preset which you can access later or share with others.\",cls=(\"mt-1.5\", TextT.muted_sm)),\n",
    "        UkInput(label=\"Name\", id=\"name\"), \n",
    "        UkInput(label=\"Description\", id=\"description\"),\n",
    "        UkButton(\"Save\", cls=(UkButtonT.primary, \"uk-modal-close\")),\n",
    "        id=\"save\")\n",
    "    \n",
    "    share_dd = Div(cls=\"space-y-6\")(\n",
    "        UkH3(\"Share preset\"),\n",
    "        P(\"Anyone who has this link and an OpenAI account will be able to view this.\", cls=TextT.muted_sm),\n",
    "        Div(cls='flex space-x-2')(\n",
    "            UkInput(value=\"https://platform.openai.com/playground/p/7bbKYQvsVkNmVb8NGcdUOLae?model=text-davinci-003\", readonly=True, cls=\"flex-1\"),\n",
    "            UkButton(UkIcon('copy'), cls=(UkButtonT.primary, \"uk-drop-close\"))))#flex items-center space-x-2 pt-4 bbmx-6 my-6\n",
    "\n",
    "    rnav = Div(cls='flex items-center space-x-2')(\n",
    "        UkSelect(*Options(*preset_options), name='preset', optgroup_label=\"Examples\",\n",
    "                 placeholder='Load a preset', searchable=True, cls='h-9 w-[200px] lg:w-[300px]'),\n",
    "        UkButton(\"Save\", cls=UkButtonT.secondary, uk_toggle=\"#save\"),\n",
    "        save_modal,\n",
    "        UkButton(\"View Code\", cls=UkButtonT.secondary),\n",
    "        UkDropdownButton(label=\"Share\",options=(share_dd,), btn_cls=UkButtonT.secondary,dd_cls='p-6'),\n",
    "        UkDropdownButton(label=UkIcon('ellipsis'), btn_cls=UkButtonT.secondary,\n",
    "            options=(A(\"Content filter preferences\", href=\"#demo\"), None, # divider\n",
    "                     A(\"Delete preset\", cls=\"text-destructive\", href=\"#demo\"))))\n",
    "    \n",
    "    return UkNavbar(lnav=UkH4('Playground'),rnav=rnav,cls='p-2')"
   ]
  },
  {
   "cell_type": "code",
   "execution_count": 16,
   "id": "b71beacd",
   "metadata": {},
   "outputs": [],
   "source": [
    "#| export\n",
    "def page():\n",
    "    navbar = playground_navbar()\n",
    "    \n",
    "    main_content = Div(\n",
    "        Div(\n",
    "            Textarea(\n",
    "                cls=\"uk-textarea h-full p-4\",\n",
    "                placeholder=\"Write a tagline for an ice cream shop\",\n",
    "                readonly=True\n",
    "            ),\n",
    "            cls=\"flex-1\"\n",
    "        ),\n",
    "        Div(cls=\"w-[200px] flex-none\"),\n",
    "        cls=\"flex h-[700px] gap-x-6 px-8 py-6\"\n",
    "    )\n",
    "    \n",
    "    bottom_buttons = Div(\n",
    "        UkButton(\"Submit\", cls=UkButtonT.primary, uk_toggle=\"#demo\"),\n",
    "        UkButton(Uk_icon(icon=\"history\"), cls=UkButtonT.secondary, uk_toggle=\"#demo\"),\n",
    "        cls=\"flex gap-x-2 px-8 py-6 pt-0\"\n",
    "    )\n",
    "    \n",
    "    return Div(\n",
    "        navbar,\n",
    "        main_content,\n",
    "        bottom_buttons\n",
    "    )"
   ]
  },
  {
   "cell_type": "code",
   "execution_count": 17,
   "id": "20aefea1",
   "metadata": {},
   "outputs": [],
   "source": [
    "#| export\n",
    "\n",
    "playground_homepage = page()"
   ]
  },
  {
   "cell_type": "code",
   "execution_count": 18,
   "id": "2c302358",
   "metadata": {},
   "outputs": [],
   "source": [
    "#| hide\n",
    "import nbdev; nbdev.nbdev_export()"
   ]
  }
 ],
 "metadata": {
  "kernelspec": {
   "display_name": "Python 3 (ipykernel)",
   "language": "python",
   "name": "python3"
  },
  "language_info": {
   "codemirror_mode": {
    "name": "ipython",
    "version": 3
   },
   "file_extension": ".py",
   "mimetype": "text/x-python",
   "name": "python",
   "nbconvert_exporter": "python",
   "pygments_lexer": "ipython3",
   "version": "3.12.4"
  },
  "toc": {
   "base_numbering": 1,
   "nav_menu": {},
   "number_sections": true,
   "sideBar": true,
   "skip_h1_title": false,
   "title_cell": "Table of Contents",
   "title_sidebar": "Contents",
   "toc_cell": false,
   "toc_position": {},
   "toc_section_display": true,
   "toc_window_display": false
  }
 },
 "nbformat": 4,
 "nbformat_minor": 5
}
