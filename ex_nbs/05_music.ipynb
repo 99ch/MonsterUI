{
 "cells": [
  {
   "cell_type": "code",
   "execution_count": 1,
   "id": "31eb2fb8",
   "metadata": {},
   "outputs": [],
   "source": [
    "#| default_exp music"
   ]
  },
  {
   "cell_type": "code",
   "execution_count": 2,
   "id": "a9c34a3a",
   "metadata": {},
   "outputs": [],
   "source": [
    "#| export\n",
    "from fasthtml.common import *\n",
    "from fasthtml.components import Uk\n",
    "from fh_frankenui.components import *\n",
    "from fasthtml.components import Uk_icon\n",
    "from fasthtml.svg import *\n",
    "from fh_matplotlib import matplotlib2fasthtml\n",
    "import numpy as np\n",
    "from pathlib import Path\n",
    "import matplotlib.pylab as plt"
   ]
  },
  {
   "cell_type": "code",
   "execution_count": 3,
   "id": "19bfe783",
   "metadata": {},
   "outputs": [],
   "source": [
    "#| hide\n",
    "from nbdev.showdoc import *"
   ]
  },
  {
   "cell_type": "code",
   "execution_count": 4,
   "id": "e4ba6bc0",
   "metadata": {},
   "outputs": [
    {
     "data": {
      "text/html": [
       "<script src=\"https://cdn.tailwindcss.com\"></script>\n",
       "<script src=\"https://cdn.jsdelivr.net/npm/uikit@3.21.6/dist/js/uikit.min.js\"></script>\n",
       "<script src=\"https://cdn.jsdelivr.net/npm/uikit@3.21.6/dist/js/uikit-icons.min.js\"></script>\n",
       "<script type=\"module\" src=\"https://unpkg.com/franken-wc@0.0.6/dist/js/wc.iife.js\"></script>\n",
       "<link rel=\"stylesheet\" href=\"https://unpkg.com/franken-wc@0.0.6/dist/css/blue.min.css\">\n",
       "<style>\n",
       "#notebook-container { max-width: none; }\n",
       ".output_html * { list-style-type: none !important; }\n",
       ".disabled {opacity: 0.5; pointer-events: none; cursor: default; text-decoration: none;}\n",
       "</style>\n"
      ],
      "text/plain": [
       "<IPython.core.display.HTML object>"
      ]
     },
     "metadata": {},
     "output_type": "display_data"
    }
   ],
   "source": [
    "%%html\n",
    "<script src=\"https://cdn.tailwindcss.com\"></script>\n",
    "<script src=\"https://cdn.jsdelivr.net/npm/uikit@3.21.6/dist/js/uikit.min.js\"></script>\n",
    "<script src=\"https://cdn.jsdelivr.net/npm/uikit@3.21.6/dist/js/uikit-icons.min.js\"></script>\n",
    "<script type=\"module\" src=\"https://unpkg.com/franken-wc@0.0.6/dist/js/wc.iife.js\"></script>\n",
    "<link rel=\"stylesheet\" href=\"https://unpkg.com/franken-wc@0.0.6/dist/css/blue.min.css\">\n",
    "<style>\n",
    "#notebook-container { max-width: none; }\n",
    ".output_html * { list-style-type: none !important; }\n",
    ".disabled {opacity: 0.5; pointer-events: none; cursor: default; text-decoration: none;}\n",
    "</style>"
   ]
  },
  {
   "cell_type": "code",
   "execution_count": 5,
   "id": "30db9932",
   "metadata": {},
   "outputs": [],
   "source": [
    "from httpx import get\n",
    "fh_fui = Path('../fh_frankenui')\n",
    "fh_fui_ex = Path('../ex_app')\n",
    "\n",
    "fh_frankenui = (fh_fui / \"components.py\").read_text()\n",
    "\n",
    "url = 'https://raw.githubusercontent.com/franken-ui/examples/master/src/pages/examples/music.astro'\n",
    "music = get(url).text\n",
    "\n",
    "url = 'https://raw.githubusercontent.com/franken-ui/examples/master/src/pages/examples/cards.astro'\n",
    "cards = get(url).text\n",
    "\n",
    "cards_in_python = (fh_fui_ex / 'cards.py').read_text()\n",
    "\n",
    "url = 'https://raw.githubusercontent.com/AnswerDotAI/fasthtml/main/examples/adv_app.py'\n",
    "idiomatic_fasthtml_app = get(url).text"
   ]
  },
  {
   "cell_type": "code",
   "execution_count": 6,
   "id": "e7b91541",
   "metadata": {},
   "outputs": [],
   "source": [
    "%%ai 0 -c\n",
    "\n",
    "I am implementing FrankenUI for FastHTML by reimplementing the FrankenUI examples from their docs in a python library.\n",
    "\n",
    "I am doing this by building a library as I go, $`fh_frankenui`.  You should use this library as much as possible\n",
    "\n",
    "Reference the $`idiomatic_fasthtml_app` to get a feel for fasthtml.\n",
    "\n",
    "I previously implemented the $`cards` example, and the python implementation looked like $`cards_in_python`.\n",
    "\n",
    "Now, I am looking to do the same with the $`music` example.\n",
    "\n",
    "The goal is to develop the work-in-progress `fh_frankenui` library, so please use `fh_frankenui` as much as makes sense and recommend functions or improvements to `fh_frankenui` when it fits.\n",
    "\n",
    "Please read all this information and confirm that you understand what I want to do by giving me a brief overview in your own words.\n",
    "\n",
    "Before answering, let me know if any of the variables I supplied are invalid or empty."
   ]
  },
  {
   "cell_type": "markdown",
   "id": "296bc667",
   "metadata": {},
   "source": [
    "I've reviewed the provided information and variables. All the variables appear to be valid and contain the expected content. Now, I'll provide a brief overview of your task as I understand it:\n",
    "\n",
    "You're developing a Python library called `fh_frankenui` to implement FrankenUI components for FastHTML. Your approach is to recreate the FrankenUI examples from their documentation in Python, building up the library as you go. You've already implemented the 'cards' example, and now you're moving on to the 'music' example.\n",
    "\n",
    "Your goals are:\n",
    "\n",
    "1. Implement the 'music' example from FrankenUI in Python using FastHTML.\n",
    "2. Utilize the existing `fh_frankenui` library as much as possible.\n",
    "3. Suggest improvements or additional functions for `fh_frankenui` where appropriate.\n",
    "4. Follow the idiomatic FastHTML style, referencing the `idiomatic_fasthtml_app` as a guide.\n",
    "\n",
    "The process involves translating the HTML and JavaScript components from the FrankenUI examples into equivalent Python code using FastHTML's syntax and components. As you work through this, you're aiming to create reusable components and functions that can be added to the `fh_frankenui` library for future use.\n",
    "\n",
    "Is this understanding correct? Would you like me to proceed with implementing the 'music' example or do you need any clarification?"
   ]
  },
  {
   "cell_type": "code",
   "execution_count": 7,
   "id": "ba2e7552",
   "metadata": {},
   "outputs": [],
   "source": [
    "#| export\n",
    "def NavP(*c, cls=TextT.muted_sm): return P(cls=cls)(*c)\n",
    "\n",
    "def SpacedPP(left, right=None):\n",
    "    return FullySpacedContainer(NavP(left),NavP(right) if right else '')\n",
    "\n",
    "def SpacedPPs(*c):\n",
    "    return [SpacedPP(*tuplify(o)) for o in c]\n",
    "\n",
    "def SpacedTxtIcon(txt, icon, ratio, icon_right=True):\n",
    "    c = (NavP(txt),UkIcon(icon,ratio))\n",
    "    if not icon_right: c = reversed(c)\n",
    "    return FullySpacedContainer(*c)  \n",
    "\n",
    "def LAlignedTxtIcon(txt, icon='play-circle', ratio=1, icon_right=True, txt_cls=None):\n",
    "    # TODO: Test and make sure this works\n",
    "    # TODO: How do you pass text with a color? Should txt be a string?  Or should you pass a P?  \n",
    "    c = (txt if isinstance(txt, FT) else NavP(txt,cls=ifnone(txt_cls,TextT.muted_sm)),UkIcon(icon,ratio))\n",
    "    if not icon_right: c = reversed(c)\n",
    "    return Div(cls='flex items-center space-x-6')(*c)"
   ]
  },
  {
   "cell_type": "code",
   "execution_count": 56,
   "id": "59d0df80",
   "metadata": {},
   "outputs": [],
   "source": [
    "#| export\n",
    "\n",
    "# .disabled {opacity: 0.5; pointer-events: none; cursor: default; text-decoration: none;}\n",
    "music_dd_data = [SpacedPPs(\"About Music\",(\"Preferences\", \"⌘\")),\n",
    "                 SpacedPPs((\"Hide Music\", \"⌘H\"),(\"Hide Others\", \"⇧⌘H\"),(\"Quit Music\", \"⌘Q\"))]\n",
    "\n",
    "# disabled = Burn Playlist to Disc | Print\n",
    "file_dd_data = [SpacedPPs(\"New\" ,(\"Open Stream URL\", \"⌘U\"),(\"Close Window\", \"⌘W\")),\n",
    "                SpacedPPs(\"Library\",(\"Import\", \"⌘O\"),(\"Burn Playlist to Disc\", )),\n",
    "                SpacedPPs((\"Show in Finder\", \"⇧⌘R\"),\"Convert\"),\n",
    "                SpacedPPs(\"Page Setup\",\"Print\")]\n",
    "\n",
    "# disabled = Undo, Redo, Cut, Copy, Paste, Deselect All\n",
    "edit_dd_data = [SpacedPPs((\"Undo\", \"⌘Z\"),(\"Redo\", \"⇧⌘Z\")), SpacedPPs((\"Cut\", \"⌘X\"),(\"Copy\", \"⌘C\"),(\"Paste\", \"⌘V\")),\n",
    "                SpacedPPs((\"Select All\", \"⌘A\"),(\"Deselect All\", \"⇧⌘A\")),\n",
    "                SpacedTxtIcon('Smart Dictation','microphone',0.5), SpacedTxtIcon(\"Emojis & Symbols\",'world',0.5)]\n",
    "\n",
    "#disabled = Show Status Bar | Enter Full Screen\n",
    "view_dd_data = [SpacedPPs(\"Show Playing Next\", \"Show Lyrics\", \"Show Status Bar\", \"Hide Sidebar\", \"Enter Full Screen\")]\n",
    "\n",
    "# header: Switch account\n",
    "account_dd_data = [Span(\"Switch Account\", cls=\"ml-6\"), [SpacedPP(\"Andy\"), LAlignedTxtIcon(\"Benoit\", 'plus-circle', 0.5, icon_right=False), SpacedPP(\"Luis\")],\n",
    "                   SpacedPPs(\"Manage Family\"), SpacedPPs(\"Add Account\")]"
   ]
  },
  {
   "cell_type": "code",
   "execution_count": 57,
   "id": "51fc767a",
   "metadata": {},
   "outputs": [],
   "source": [
    "#| export\n",
    "\n",
    "def wrap_in_a(item, has_header=False):\n",
    "    if isinstance(item, (list, tuple)): return [s if i == 0 and has_header else wrap_in_a(s) for i, s in enumerate(item)]\n",
    "    else: return item if has_header else A(item, href='#')\n",
    "\n",
    "music_headers = UkNavbar(\n",
    "    lnav=(\n",
    "        UkNavbarDropdown(*wrap_in_a(music_dd_data), label='Music'),\n",
    "        UkNavbarDropdown(*wrap_in_a(file_dd_data), label='File'),\n",
    "        UkNavbarDropdown(*wrap_in_a(edit_dd_data), label='Edit'),\n",
    "        UkNavbarDropdown(*wrap_in_a(view_dd_data), label='View'),\n",
    "        UkNavbarDropdown(*wrap_in_a(account_dd_data, has_header=True), label='Account', has_header=True)\n",
    "    ),\n",
    "    cls='p-2'\n",
    ")"
   ]
  },
  {
   "cell_type": "code",
   "execution_count": 58,
   "id": "622a065c",
   "metadata": {},
   "outputs": [],
   "source": [
    "#| export\n",
    "_fn = lambda x: A(role='button', uk_toggle=True)(LAlignedTxtIcon(*x,icon_right=False,txt_cls=''))\n",
    "discover = (UkH4(\"Discover\"), *map(_fn, ((\"Listen Now\", \"play-circle\"), (\"Browse\", 'thumbnails'), (\"Radio\", \"rss\"))))\n",
    "library = (UkH4(\"Library\"), *map(_fn, ((\"Playlists\", \"play-circle\"), (\"Songs\", \"bell\"), (\"Made for You\", \"user\"),(\"Artists\", \"users\"),(\"Albums\", \"bookmark\"))))\n",
    "_fn = lambda x: A(role='button', uk_toggle=True)(LAlignedTxtIcon(x,icon_right=False,txt_cls=''))\n",
    "playlist = (UkH4(\"Playlist\"), *map(_fn, (\"Recently Added\", \"Recently Played\", \"Top Songs\", \"Top Albums\", \"Top Artists\", \n",
    "                                         \"Logic Discography\",\"Bedtime Beats\", \"I miss Y2K Pop\")))"
   ]
  },
  {
   "cell_type": "code",
   "execution_count": 59,
   "id": "57199749",
   "metadata": {},
   "outputs": [],
   "source": [
    "#| export\n",
    "def UkNav(*lis,cls='space-y-2'): return Ul(cls=\"uk-nav uk-nav-secondary \"+cls)(*map(Li,lis))"
   ]
  },
  {
   "cell_type": "code",
   "execution_count": 60,
   "id": "923060ec",
   "metadata": {},
   "outputs": [],
   "source": [
    "#| export\n",
    "def UkGrid(*c, cols, cls=''):\n",
    "    gap_class = 'gap-x-4'  # This matches the gap in correct_grid\n",
    "    grid_class = f\"grid grid-cols-{cols}\"\n",
    "    full_class = ' '.join(filter(None, [grid_class, gap_class, cls]))\n",
    "    return Div(cls=full_class)(*c)"
   ]
  },
  {
   "cell_type": "code",
   "execution_count": 61,
   "id": "dc5763e7",
   "metadata": {},
   "outputs": [],
   "source": [
    "#| export\n",
    "def AlbumImg(url):\n",
    "    return Div(cls=\"overflow-hidden rounded-md\")(Img(cls=\"transition-transform duration-200 hover:scale-105\", src=url))\n",
    "\n",
    "def AlbumFooter(title, artist):\n",
    "    return Div(cls='space-y-1')(P(title,cls=TextB.wt_bold),P(artist,cls=TextB.cl_muted))\n",
    "\n",
    "def Album(url,title,artist):\n",
    "    return Div(AlbumImg(url),AlbumFooter(title,artist))"
   ]
  },
  {
   "cell_type": "code",
   "execution_count": 62,
   "id": "1570e21b",
   "metadata": {},
   "outputs": [],
   "source": [
    "#| export\n",
    "listen_now_albums = ((\"Roar\", \"Catty Perry\"), (\"Feline on a Prayer\", \"Cat Jovi\"),(\"Fur Elise\", \"Ludwig van Beethovpurr\"),(\"Purrple Rain\", \"Prince's Cat\"))\n",
    "\n",
    "made_for_you_albums = [(\"Like a Feline\", \"Catdonna\"),(\"Livin' La Vida Purrda\", \"Ricky Catin\"),(\"Meow Meow Rocket\", \"Elton Cat\"),\n",
    "        (\"Rolling in the Purr\", \"Catdelle\",),(\"Purrs of Silence\", \"Cat Garfunkel\"),(\"Meow Me Maybe\", \"Carly Rae Purrsen\"),]\n",
    "    "
   ]
  },
  {
   "cell_type": "code",
   "execution_count": 63,
   "id": "4fdb2c4b",
   "metadata": {},
   "outputs": [],
   "source": [
    "#| export\n",
    "def create_album_grid(albums, cols=4):    \n",
    "    return Div(cls=f\"grid grid-cols-{cols} gap-x-4\")(\n",
    "        *[Div(cls=\"space-y-3\")(\n",
    "            Div(cls=\"overflow-hidden rounded-md\")(\n",
    "                Img(cls=\"transition-transform duration-200 hover:scale-105\", src=img_url, alt=\"\")\n",
    "            ),\n",
    "            Div(cls=\"space-y-1 text-sm\")(\n",
    "                H3(album['title'], cls=\"font-medium leading-none\"),\n",
    "                P(album['artist'], cls=\"text-xs text-muted-foreground\")\n",
    "            )\n",
    "        ) for album in albums]\n",
    "    )\n"
   ]
  },
  {
   "cell_type": "code",
   "execution_count": 64,
   "id": "23ba41e3",
   "metadata": {},
   "outputs": [],
   "source": [
    "#| export\n",
    "_album = lambda t,a: Album('https://ucarecdn.com/e5607eaf-2b2a-43b9-ada9-330824b6afd7/music1.webp',t,a)\n",
    "\n",
    "music_content = (Div(UkH3(\"Listen Now\"), cls=\"mt-6 space-y-1\"),\n",
    "                    P(\"Top picks for you. Updated daily.\",cls=TextT.muted_sm),\n",
    "                    UkHLine(),\n",
    "                    UkGrid(*[_album(t,a) for t,a in listen_now_albums], cols=4),\n",
    "                    Div(UkH3(\"Made for You\"), cls=\"mt-6 space-y-1\"),\n",
    "                    P(\"Your personal playlists. Updated daily.\", cls=TextT.muted_sm),\n",
    "                    UkHLine(),\n",
    "                    UkGrid(*[_album(t,a) for t,a in made_for_you_albums], cols=6))"
   ]
  },
  {
   "cell_type": "code",
   "execution_count": 65,
   "id": "08a08c33",
   "metadata": {},
   "outputs": [],
   "source": [
    "#| export\n",
    "tabs = Ul(Li(A('Music', href='#'),cls='uk-active'),\n",
    "    Li(A('Podcasts', href='#')),\n",
    "    Li(A('Live', cls='opacity-50'), cls='uk-disabled'),\n",
    "    uk_switcher='connect: #component-nav; animation: uk-animation-fade',\n",
    "    cls='uk-tab-alt')"
   ]
  },
  {
   "cell_type": "code",
   "execution_count": 66,
   "id": "ce4b85a8",
   "metadata": {},
   "outputs": [],
   "source": [
    "#| export\n",
    "def podcast_tab():\n",
    "    return Div(\n",
    "        Div(cls=\"space-y-3\")(\n",
    "            UkH3(\"New Episodes\"),\n",
    "            P(\"Your favorite podcasts. Updated daily.\", cls=TextT.muted_sm)),\n",
    "        Div(cls=\"my-4 h-[1px] w-full bg-border\"),\n",
    "        Div(cls=\"uk-placeholder flex h-[450px] items-center justify-center rounded-md\",uk_placeholder=True)(\n",
    "            Div(cls=\"text-center space-y-6\")(\n",
    "                UkIcon(\" microphone\", 3),\n",
    "                UkH4(\"No episodes added\"),\n",
    "                P(\"You have not added any podcasts. Add one below.\", cls=TextT.muted_sm),\n",
    "                UkButton(\"Add Podcast\", cls=UkButtonT.primary))))"
   ]
  },
  {
   "cell_type": "code",
   "execution_count": 67,
   "id": "35f15d01",
   "metadata": {},
   "outputs": [],
   "source": [
    "#| export\n",
    "def page():\n",
    "    return Div(music_headers,UkHSplit(),\n",
    "        Div(cls=\"grid grid-cols-5\")(\n",
    "            Div(cls=\"hidden space-y-10 py-4 lg:block p-2\")(\n",
    "                UkNav(*discover),\n",
    "                UkNav(*library),\n",
    "                UkNav(*playlist)),\n",
    "            Div(cls=\"col-span-5 border-l border-border lg:col-span-4\")(\n",
    "                Div(cls=\"px-8 py-6\")(\n",
    "                    Div(cls=\"flex items-center justify-between\")(\n",
    "                        Div(cls=\"max-w-80\")(tabs),\n",
    "                        UkButton(cls=UkButtonT.primary)(Span(cls=\"mr-2 size-4\")(UkIcon('plus-circle', 0.8)),\"Add music\")),\n",
    "                    Ul(id=\"component-nav\", cls=\"uk-switcher\")(\n",
    "                        Li(*music_content),\n",
    "                        Li(podcast_tab()))))))"
   ]
  },
  {
   "cell_type": "code",
   "execution_count": 68,
   "id": "93953501",
   "metadata": {},
   "outputs": [],
   "source": [
    "#| export\n",
    "music_homepage = page()"
   ]
  },
  {
   "cell_type": "code",
   "execution_count": 69,
   "id": "8e811e32",
   "metadata": {},
   "outputs": [],
   "source": [
    "#| hide\n",
    "import nbdev; nbdev.nbdev_export()"
   ]
  },
  {
   "cell_type": "code",
   "execution_count": null,
   "id": "2fb32598",
   "metadata": {},
   "outputs": [],
   "source": []
  }
 ],
 "metadata": {
  "kernelspec": {
   "display_name": "Python 3 (ipykernel)",
   "language": "python",
   "name": "python3"
  },
  "language_info": {
   "codemirror_mode": {
    "name": "ipython",
    "version": 3
   },
   "file_extension": ".py",
   "mimetype": "text/x-python",
   "name": "python",
   "nbconvert_exporter": "python",
   "pygments_lexer": "ipython3",
   "version": "3.11.9"
  },
  "toc": {
   "base_numbering": 1,
   "nav_menu": {},
   "number_sections": true,
   "sideBar": true,
   "skip_h1_title": false,
   "title_cell": "Table of Contents",
   "title_sidebar": "Contents",
   "toc_cell": false,
   "toc_position": {},
   "toc_section_display": true,
   "toc_window_display": false
  }
 },
 "nbformat": 4,
 "nbformat_minor": 5
}
