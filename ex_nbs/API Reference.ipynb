{
 "cells": [
  {
   "cell_type": "markdown",
   "id": "d658774c",
   "metadata": {},
   "source": [
    "# API Reference\n",
    "\n",
    "> Reference to all FrankenUI Components"
   ]
  },
  {
   "cell_type": "code",
   "execution_count": 77,
   "id": "51edf9a5",
   "metadata": {},
   "outputs": [],
   "source": [
    "#| default_exp api_reference"
   ]
  },
  {
   "cell_type": "code",
   "execution_count": 78,
   "id": "46a13904",
   "metadata": {},
   "outputs": [],
   "source": [
    "#| export\n",
    "from fasthtml.common import *\n",
    "from fh_frankenui.core import *\n",
    "from nbdev.showdoc import *\n",
    "\n",
    "from enum import EnumType\n",
    "from collections.abc import Callable"
   ]
  },
  {
   "cell_type": "code",
   "execution_count": 79,
   "id": "a74595d2",
   "metadata": {},
   "outputs": [],
   "source": [
    "#| hide\n",
    "#| eval: false\n",
    "from isaac_research.core import create_server"
   ]
  },
  {
   "cell_type": "code",
   "execution_count": 80,
   "id": "60b096aa",
   "metadata": {},
   "outputs": [],
   "source": [
    "#| hide\n",
    "#| eval: false\n",
    "app, rt = fast_app(pico=False, hdrs=Theme.blue.headers())\n",
    "server, Show = create_server(app)"
   ]
  },
  {
   "cell_type": "code",
   "execution_count": 81,
   "id": "2cf43a87",
   "metadata": {},
   "outputs": [],
   "source": [
    "#| export\n",
    "def enum_to_html_table(enum_class):\n",
    "    headers = [\"Option\", \"Value\"]\n",
    "    rows = [[name, value.value] for name, value in enum_class.__members__.items()]\n",
    "    return Div(\n",
    "        Hr(cls='uk-divider-icon my-4'),\n",
    "        H3(enum_class.__name__,cls='my-4'),\n",
    "        P(I(enum_class.__doc__)),\n",
    "        TableFromLists(headers, rows, cls=(TableT.hover, 'uk-table-small')),)"
   ]
  },
  {
   "cell_type": "code",
   "execution_count": 86,
   "id": "84a3b655",
   "metadata": {},
   "outputs": [],
   "source": [
    "#| export\n",
    "def create_doc_section(*content, title, md_content=None):\n",
    "    res = []\n",
    "    for c in content:\n",
    "        if isinstance(c, str):        res.append(render_md(c))\n",
    "        elif isinstance(c, EnumType): res.append(enum_to_html_table(c))\n",
    "        elif isinstance(c, FT):       res.append(c)\n",
    "        elif isinstance(c, Callable): \n",
    "            _html = str(show_doc(c, renderer=AdvHtmlRenderer))\n",
    "            res.append(NotStr(apply_classes(_html, class_map_mods={\"table\":'uk-table uk-table-hover uk-table-small'})))\n",
    "        else: res.append(c)\n",
    "    return Section(H1(title,cls='mb-10'), *res)"
   ]
  },
  {
   "cell_type": "code",
   "execution_count": 84,
   "id": "9b56ffc1",
   "metadata": {},
   "outputs": [],
   "source": [
    "#| export\n",
    "docs_button = create_doc_section(Button, \n",
    "                       ButtonT, \n",
    "                       enum_to_html_table(ButtonT),\n",
    "                       title=\"Buttons\")\n",
    "\n",
    "docs_heading = create_doc_section(H1, H2, H3, H4, \n",
    "                       Card(H1(\"Level 1 Heading (H1)\"), \n",
    "                            H2(\"Level 2 Heading (H2)\"), \n",
    "                            H3(\"Level 3 Heading (H3)\"), \n",
    "                            H4(\"Level 4 Heading (H4)\"),\n",
    "                           cls='mt-8'),\n",
    "                        title=\"Headings\")"
   ]
  },
  {
   "cell_type": "code",
   "execution_count": 85,
   "id": "508f3b7e",
   "metadata": {},
   "outputs": [
    {
     "data": {
      "text/html": [
       "<a href=\"http://localhost:8005/b0ebda7e-8fba-41da-83d7-5144f84002d0\" target=\"_blank\">Open in new tab</a>"
      ],
      "text/plain": [
       "<IPython.core.display.HTML object>"
      ]
     },
     "metadata": {},
     "output_type": "display_data"
    },
    {
     "data": {
      "text/html": [
       "<iframe src=\"http://localhost:8005/b0ebda7e-8fba-41da-83d7-5144f84002d0\" style=\"width: 100%; height: 1000px; border: none;\" onload=\"{\n",
       "        let frame = this;\n",
       "        window.addEventListener('message', function(e) {\n",
       "            if (e.source !== frame.contentWindow) return; // Only proceed if the message is from this iframe\n",
       "            if (e.data.height) frame.style.height = (e.data.height+1) + 'px';\n",
       "        }, false);\n",
       "    }\" allow=\"accelerometer; autoplay; camera; clipboard-read; clipboard-write; display-capture; encrypted-media; fullscreen; gamepad; geolocation; gyroscope; hid; identity-credentials-get; idle-detection; magnetometer; microphone; midi; payment; picture-in-picture; publickey-credentials-get; screen-wake-lock; serial; usb; web-share; xr-spatial-tracking\"></iframe> "
      ],
      "text/plain": [
       "<IPython.core.display.HTML object>"
      ]
     },
     "execution_count": 85,
     "metadata": {},
     "output_type": "execute_result"
    }
   ],
   "source": [
    "Show(\n",
    "Container(docs_button,docs_headings\n",
    "    )\n",
    ",iframe_height='1000px')"
   ]
  },
  {
   "cell_type": "code",
   "execution_count": null,
   "id": "150556e5",
   "metadata": {},
   "outputs": [],
   "source": []
  },
  {
   "cell_type": "code",
   "execution_count": null,
   "id": "c8de06f7",
   "metadata": {},
   "outputs": [],
   "source": []
  }
 ],
 "metadata": {
  "kernelspec": {
   "display_name": "Python 3 (ipykernel)",
   "language": "python",
   "name": "python3"
  },
  "language_info": {
   "codemirror_mode": {
    "name": "ipython",
    "version": 3
   },
   "file_extension": ".py",
   "mimetype": "text/x-python",
   "name": "python",
   "nbconvert_exporter": "python",
   "pygments_lexer": "ipython3",
   "version": "3.12.4"
  }
 },
 "nbformat": 4,
 "nbformat_minor": 5
}
