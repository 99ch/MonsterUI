{
 "cells": [
  {
   "cell_type": "markdown",
   "id": "bd49724c",
   "metadata": {},
   "source": [
    "# Dashboard\n",
    "\n",
    "> FrankenUI Dashboard Example"
   ]
  },
  {
   "cell_type": "code",
   "execution_count": 1,
   "id": "04abc944",
   "metadata": {},
   "outputs": [],
   "source": [
    "#| default_exp dashboard"
   ]
  },
  {
   "cell_type": "code",
   "execution_count": 2,
   "id": "cef92ebb",
   "metadata": {},
   "outputs": [],
   "source": [
    "#| export\n",
    "from fasthtml.common import *\n",
    "from fh_frankenui import *\n",
    "from fasthtml.svg import *\n",
    "from fh_matplotlib import matplotlib2fasthtml\n",
    "import numpy as np\n",
    "import matplotlib.pylab as plt"
   ]
  },
  {
   "cell_type": "code",
   "execution_count": 3,
   "id": "02ad7e62",
   "metadata": {},
   "outputs": [],
   "source": [
    "#| hide\n",
    "from nbdev.showdoc import *"
   ]
  },
  {
   "cell_type": "code",
   "execution_count": 4,
   "id": "f0f5477a",
   "metadata": {},
   "outputs": [
    {
     "data": {
      "text/html": [
       "<script src=\"https://cdn.tailwindcss.com\"></script>\n",
       "<script src=\"https://cdn.jsdelivr.net/npm/uikit@3.21.6/dist/js/uikit.min.js\"></script>\n",
       "<script src=\"https://cdn.jsdelivr.net/npm/uikit@3.21.6/dist/js/uikit-icons.min.js\"></script>\n",
       "<script type=\"module\" src=\"https://unpkg.com/franken-wc@0.0.6/dist/js/wc.iife.js\"></script>\n",
       "<link rel=\"stylesheet\" href=\"https://unpkg.com/franken-wc@0.0.6/dist/css/blue.min.css\">\n",
       "\n",
       "<style>\n",
       "#notebook-container { max-width: none; }\n",
       ".output_html * { list-style-type: none !important; }\n",
       "</style>\n"
      ],
      "text/plain": [
       "<IPython.core.display.HTML object>"
      ]
     },
     "metadata": {},
     "output_type": "display_data"
    }
   ],
   "source": [
    "%%html\n",
    "<script src=\"https://cdn.tailwindcss.com\"></script>\n",
    "<script src=\"https://cdn.jsdelivr.net/npm/uikit@3.21.6/dist/js/uikit.min.js\"></script>\n",
    "<script src=\"https://cdn.jsdelivr.net/npm/uikit@3.21.6/dist/js/uikit-icons.min.js\"></script>\n",
    "<script type=\"module\" src=\"https://unpkg.com/franken-wc@0.0.6/dist/js/wc.iife.js\"></script>\n",
    "<link rel=\"stylesheet\" href=\"https://unpkg.com/franken-wc@0.0.6/dist/css/blue.min.css\">\n",
    "\n",
    "<style>\n",
    "#notebook-container { max-width: none; }\n",
    ".output_html * { list-style-type: none !important; }\n",
    "</style>"
   ]
  },
  {
   "cell_type": "code",
   "execution_count": 5,
   "id": "19ba6675",
   "metadata": {},
   "outputs": [],
   "source": [
    "from httpx import get\n",
    "fh_frankenui = open(\"../fh_frankenui/components.py\").read().strip()\n",
    "\n",
    "url = 'https://raw.githubusercontent.com/franken-ui/examples/master/src/pages/dashboard.astro'\n",
    "dashboard = get(url).text\n",
    "\n",
    "url = 'https://raw.githubusercontent.com/franken-ui/examples/master/src/pages/cards.astro'\n",
    "cards = get(url).text\n",
    "\n",
    "url = 'https://github.com/AnswerDotAI/fh-frankenui-examples/blob/main/fh_frankenui_examples/cards.py'\n",
    "cards_in_python = get(url).text\n",
    "\n",
    "url = 'https://github.com/AnswerDotAI/fh-frankenui-examples/blob/main/fh_frankenui_examples/tasks.py'\n",
    "tasks_in_python = get(url).text\n",
    "\n",
    "url = 'https://raw.githubusercontent.com/AnswerDotAI/fasthtml/main/examples/adv_app.py'\n",
    "idiomatic_fasthtml_app = get(url).text\n"
   ]
  },
  {
   "cell_type": "code",
   "execution_count": 6,
   "id": "d382f5d5",
   "metadata": {},
   "outputs": [],
   "source": [
    "%%ai 0 -c\n",
    "\n",
    "I am implementing FrankenUI for FastHTML by reimplementing the FrankenUI examples from their docs in a python library.  I am doing this by building a library as I go, `fh_frankenui`.\n",
    "\n",
    "Reference the `idiomatic_fasthtml_app` to get a feel for fasthtml.\n",
    "\n",
    "I previously did their `cards` example, and the python implementation looked like `cards_in_python`.\n",
    "\n",
    "Now, I am looking to do the same with their `dashboard` example.\n",
    "\n",
    "The goal is to develop the work-in-progress `fh_frankenui` library, so please use `fh_frankenui` as much as makes sense and recommend functions or improvements to `fh_frankenui` when it fits.\n",
    "\n",
    "Please read all this information and confirm that you understand what I want to do by giving me a brief overview in your own words.  \n"
   ]
  },
  {
   "cell_type": "markdown",
   "id": "8a31fe0f",
   "metadata": {},
   "source": [
    "You're developing a Python library called `fh_frankenui` to implement FrankenUI components for FastHTML. Your approach involves recreating FrankenUI examples from their documentation in Python.\n",
    "\n",
    "You've already completed the 'cards' example and are now focusing on the 'dashboard' example. Your goal is to create a Python equivalent of the FrankenUI dashboard, utilizing and expanding the `fh_frankenui` library as needed.\n",
    "\n",
    "You want me to analyze the provided context, including the FastHTML idiomatic app, the existing `fh_frankenui` code, and the FrankenUI dashboard example. Based on this analysis, you're looking for guidance on implementing the dashboard in Python, with suggestions for new functions or improvements to `fh_frankenui` where appropriate."
   ]
  },
  {
   "cell_type": "code",
   "execution_count": 7,
   "id": "b8ed7a67",
   "metadata": {},
   "outputs": [],
   "source": [
    "%%aip 0\n",
    "\n",
    "I want a flexible function that can generate the top row of cards that all share the same general format"
   ]
  },
  {
   "cell_type": "code",
   "execution_count": 20,
   "id": "275f3643",
   "metadata": {},
   "outputs": [],
   "source": [
    "#| exports\n",
    "def InfoCard(title, value, change):\n",
    "    return Div(Card(\n",
    "             Div(UkH3(value),\n",
    "                P(change, cls=TextT.muted_sm)),\n",
    "             header = UkH4(title),))"
   ]
  },
  {
   "cell_type": "code",
   "execution_count": 21,
   "id": "45c602c4",
   "metadata": {},
   "outputs": [],
   "source": [
    "%%aip 0\n",
    "Use the `InfoCard` function to create the top row of cards - each one in a variable (rev,sub,sal,act)."
   ]
  },
  {
   "cell_type": "code",
   "execution_count": 22,
   "id": "745555dc",
   "metadata": {},
   "outputs": [],
   "source": [
    "#| exports\n",
    "rev = InfoCard(\"Total Revenue\", \"$45,231.89\", \"+20.1% from last month\")\n",
    "sub = InfoCard(\"Subscriptions\", \"+2350\", \"+180.1% from last month\")\n",
    "sal = InfoCard(\"Sales\", \"+12,234\", \"+19% from last month\")\n",
    "act = InfoCard(\"Active Now\", \"+573\", \"+201 since last hour\")"
   ]
  },
  {
   "cell_type": "code",
   "execution_count": 23,
   "id": "96867f4f",
   "metadata": {},
   "outputs": [],
   "source": [
    "#| exports\n",
    "top_info_row = Grid(rev,sub,sal,act,cols=4, cls=GridT.small)"
   ]
  },
  {
   "cell_type": "code",
   "execution_count": 24,
   "id": "76a4a138",
   "metadata": {},
   "outputs": [
    {
     "data": {
      "text/markdown": [
       "```html\n",
       "<div class=\"grid grid-cols-4 uk-grid-small\">\n",
       "  <div>\n",
       "    <div class=\"uk-card \">\n",
       "      <div class=\"uk-card-header \">\n",
       "        <h4>Total Revenue</h4>\n",
       "      </div>\n",
       "      <div class=\"uk-card-body space-y-6\">\n",
       "        <div>\n",
       "          <h3>$45,231.89</h3>\n",
       "          <p class=\"text-sm uk-text-muted\">+20.1% from last month</p>\n",
       "        </div>\n",
       "      </div>\n",
       "    </div>\n",
       "  </div>\n",
       "  <div>\n",
       "    <div class=\"uk-card \">\n",
       "      <div class=\"uk-card-header \">\n",
       "        <h4>Subscriptions</h4>\n",
       "      </div>\n",
       "      <div class=\"uk-card-body space-y-6\">\n",
       "        <div>\n",
       "          <h3>+2350</h3>\n",
       "          <p class=\"text-sm uk-text-muted\">+180.1% from last month</p>\n",
       "        </div>\n",
       "      </div>\n",
       "    </div>\n",
       "  </div>\n",
       "  <div>\n",
       "    <div class=\"uk-card \">\n",
       "      <div class=\"uk-card-header \">\n",
       "        <h4>Sales</h4>\n",
       "      </div>\n",
       "      <div class=\"uk-card-body space-y-6\">\n",
       "        <div>\n",
       "          <h3>+12,234</h3>\n",
       "          <p class=\"text-sm uk-text-muted\">+19% from last month</p>\n",
       "        </div>\n",
       "      </div>\n",
       "    </div>\n",
       "  </div>\n",
       "  <div>\n",
       "    <div class=\"uk-card \">\n",
       "      <div class=\"uk-card-header \">\n",
       "        <h4>Active Now</h4>\n",
       "      </div>\n",
       "      <div class=\"uk-card-body space-y-6\">\n",
       "        <div>\n",
       "          <h3>+573</h3>\n",
       "          <p class=\"text-sm uk-text-muted\">+201 since last hour</p>\n",
       "        </div>\n",
       "      </div>\n",
       "    </div>\n",
       "  </div>\n",
       "</div>\n",
       "\n",
       "```"
      ],
      "text/plain": [
       "div((div((div((div((h4(('Total Revenue',),{'class': None}),),{'class': 'uk-card-header '}), div((div((h3(('$45,231.89',),{'class': None}), p(('+20.1% from last month',),{'class': <TextT.muted_sm: (<TextB.sz_small: 'text-sm'>, <TextB.cl_muted: 'uk-text-muted'>)>})),{}),),{'class': 'uk-card-body space-y-6'})),{'class': 'uk-card '}),),{}), div((div((div((h4(('Subscriptions',),{'class': None}),),{'class': 'uk-card-header '}), div((div((h3(('+2350',),{'class': None}), p(('+180.1% from last month',),{'class': <TextT.muted_sm: (<TextB.sz_small: 'text-sm'>, <TextB.cl_muted: 'uk-text-muted'>)>})),{}),),{'class': 'uk-card-body space-y-6'})),{'class': 'uk-card '}),),{}), div((div((div((h4(('Sales',),{'class': None}),),{'class': 'uk-card-header '}), div((div((h3(('+12,234',),{'class': None}), p(('+19% from last month',),{'class': <TextT.muted_sm: (<TextB.sz_small: 'text-sm'>, <TextB.cl_muted: 'uk-text-muted'>)>})),{}),),{'class': 'uk-card-body space-y-6'})),{'class': 'uk-card '}),),{}), div((div((div((h4(('Active Now',),{'class': None}),),{'class': 'uk-card-header '}), div((div((h3(('+573',),{'class': None}), p(('+201 since last hour',),{'class': <TextT.muted_sm: (<TextB.sz_small: 'text-sm'>, <TextB.cl_muted: 'uk-text-muted'>)>})),{}),),{'class': 'uk-card-body space-y-6'})),{'class': 'uk-card '}),),{})),{'class': 'grid grid-cols-4 uk-grid-small'})"
      ]
     },
     "execution_count": 24,
     "metadata": {},
     "output_type": "execute_result"
    }
   ],
   "source": [
    "top_info_row"
   ]
  },
  {
   "cell_type": "code",
   "execution_count": 13,
   "id": "ee500a1b",
   "metadata": {},
   "outputs": [],
   "source": [
    "%%aip 0\n",
    "\n",
    "Let's create the card with the avatars next.  Be sure to reference similar examples from `cards_in_python` to make it as simple as possible.\n",
    "\n",
    "I don't need an exact recreation so if UkH3 or UkH4 is close enough (like I did previously) then that's fine"
   ]
  },
  {
   "cell_type": "code",
   "execution_count": 14,
   "id": "98b733c2",
   "metadata": {},
   "outputs": [],
   "source": [
    "#| exports\n",
    "def AvatarItem(name, email, amount):\n",
    "    return Div(cls=\"flex items-center\")(\n",
    "        DiceBearAvatar(name, 9,9),\n",
    "        Div(cls=\"ml-4 space-y-1\")(\n",
    "            P(name, cls=TextT.medium_sm),\n",
    "            P(email, cls=TextT.muted_sm)),\n",
    "        Div(amount, cls=\"ml-auto font-medium\"))\n",
    "\n",
    "recent_sales = Card(\n",
    "    Div(cls=\"space-y-8\")(\n",
    "        *[AvatarItem(n,e,d) for (n,e,d) in (\n",
    "            (\"Olivia Martin\",   \"olivia.martin@email.com\",   \"+$1,999.00\"),\n",
    "            (\"Jackson Lee\",     \"jackson.lee@email.com\",     \"+$39.00\"),\n",
    "            (\"Isabella Nguyen\", \"isabella.nguyen@email.com\", \"+$299.00\"),\n",
    "            (\"William Kim\",     \"will@email.com\",            \"+$99.00\"),\n",
    "            (\"Sofia Davis\",     \"sofia.davis@email.com\",     \"+$39.00\"))]),\n",
    "    header=Div(\n",
    "        UkH3(\"Recent Sales\"),\n",
    "        P(\"You made 265 sales this month.\", cls=TextT.muted_sm)),\n",
    "\n",
    "cls='lg:col-span-3')"
   ]
  },
  {
   "cell_type": "code",
   "execution_count": 15,
   "id": "3767a677",
   "metadata": {},
   "outputs": [],
   "source": [
    "#| exports\n",
    "@matplotlib2fasthtml\n",
    "def generate_chart(num_points):\n",
    "    plotdata = [np.random.exponential(1) for _ in range(num_points)]\n",
    "    plt.plot(range(len(plotdata)), plotdata)"
   ]
  },
  {
   "cell_type": "code",
   "execution_count": 16,
   "id": "d7a93876",
   "metadata": {},
   "outputs": [
    {
     "data": {
      "text/html": [
       "<img src=\"data:image/jpg;base64, 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\">"
      ],
      "text/plain": [
       "<IPython.core.display.HTML object>"
      ]
     },
     "execution_count": 16,
     "metadata": {},
     "output_type": "execute_result"
    }
   ],
   "source": [
    "show(generate_chart(10))"
   ]
  },
  {
   "cell_type": "code",
   "execution_count": 17,
   "id": "7fc67843",
   "metadata": {},
   "outputs": [],
   "source": [
    "%%aip 0\n",
    "Now let's make the top navigation section with \"Overview\", \"Customers\", \"products\", \"Settings\" tabs that use their own functions, with the name/teams dropdown too\n",
    "\n",
    "For the dropdown use either `UkDropdownButton` or `UkSelect` - remember it doesn't need to perfectly match - just look pretty decent and be very simple code."
   ]
  },
  {
   "cell_type": "code",
   "execution_count": 24,
   "id": "c9f74172",
   "metadata": {},
   "outputs": [],
   "source": [
    "#| exports\n",
    "teams = [\n",
    "    [\"Alicia Koch\"],\n",
    "    ['Acme Inc', 'Monster Inc.'],\n",
    "    ['Create a Team']\n",
    "]\n",
    "\n",
    "opt_hdrs = [\"Personal\", \"Team\", \"\"]\n",
    "\n",
    "team_dropdown = UkDropdownButton(*map(lambda t: map(A, t), teams),\n",
    "    opt_hdrs=opt_hdrs,\n",
    "    label=teams[0][0])"
   ]
  },
  {
   "cell_type": "code",
   "execution_count": 20,
   "id": "7651de4e",
   "metadata": {},
   "outputs": [
    {
     "data": {
      "text/plain": [
       "[<map at 0x1323f1a20>, <map at 0x1323f1c90>, <map at 0x1323f06d0>]"
      ]
     },
     "execution_count": 20,
     "metadata": {},
     "output_type": "execute_result"
    }
   ],
   "source": [
    "list(map(lambda t: map(A, t), teams))"
   ]
  },
  {
   "cell_type": "code",
   "execution_count": 22,
   "id": "de92bb9b",
   "metadata": {},
   "outputs": [
    {
     "data": {
      "text/plain": [
       "[a(('Alicia Koch', 'Acme Inc', 'Create a Team'),{'href': '#'})]"
      ]
     },
     "execution_count": 22,
     "metadata": {},
     "output_type": "execute_result"
    }
   ],
   "source": [
    "list(map(A,*teams))"
   ]
  },
  {
   "cell_type": "code",
   "execution_count": 19,
   "id": "6ca923da",
   "metadata": {},
   "outputs": [
    {
     "data": {
      "text/html": [
       "<div>\n",
       "  <div class=\"flex items-center space-x-4\">\n",
       "<button type=\"button\" class=\"uk-button uk-button-default\"><span class=\"relative flex h-8 w-8 shrink-0 overflow-hidden rounded-full bg-accent\"><img alt=\"Avatar\" src=\"https://api.dicebear.com/8.x/lorelei/svg?seed=Alicia Koch\" class=\"aspect-square h-full w-full\"></span><span uk-icon=\"icon: triangle-down; ratio: 1\"></span></button>    <div uk-drop=\"mode: click; pos: bottom-right\" class=\"uk-dropdown uk-drop \">\n",
       "      <ul class=\"uk-dropdown-nav\">\n",
       "        <li>\n",
       "          <li class=\"px-2 py-1.5 text-sm\">\n",
       "            <div class=\"flex flex-col space-y-1\">\n",
       "              <p class=\"text-sm font-medium leading-none\">sveltecult</p>\n",
       "              <p class=\"text-xs leading-none text-muted-foreground\">leader@sveltecult.com</p>\n",
       "            </div>\n",
       "          </li>\n",
       "        </li>\n",
       "        <li class=\"uk-nav-divider\"></li>\n",
       "        <li>\n",
       "<a href=\"#\">            <div class=\"uk-flex uk-flex-between uk-flex-middle uk-width-1-1\">\n",
       "              <p>Profile</p>\n",
       "              <p>⇧⌘P</p>\n",
       "            </div>\n",
       "</a>        </li>\n",
       "        <li>\n",
       "<a href=\"#\">            <div class=\"uk-flex uk-flex-between uk-flex-middle uk-width-1-1\">\n",
       "              <p>Billing</p>\n",
       "              <p>⌘B</p>\n",
       "            </div>\n",
       "</a>        </li>\n",
       "        <li>\n",
       "<a href=\"#\">            <div class=\"uk-flex uk-flex-between uk-flex-middle uk-width-1-1\">\n",
       "              <p>Settings</p>\n",
       "              <p>⌘S</p>\n",
       "            </div>\n",
       "</a>        </li>\n",
       "        <li>\n",
       "<a href=\"#\">            <div class=\"uk-flex uk-flex-between uk-flex-middle uk-width-1-1\">\n",
       "              <p>New Team</p>\n",
       "              <p></p>\n",
       "            </div>\n",
       "</a>        </li>\n",
       "        <li class=\"uk-nav-divider\"></li>\n",
       "        <li>\n",
       "<a href=\"#\">            <div class=\"uk-flex uk-flex-between uk-flex-middle uk-width-1-1\">\n",
       "              <p>Logout</p>\n",
       "              <p></p>\n",
       "            </div>\n",
       "</a>        </li>\n",
       "      </ul>\n",
       "    </div>\n",
       "  </div>\n",
       "</div>\n"
      ],
      "text/plain": [
       "<IPython.core.display.HTML object>"
      ]
     },
     "execution_count": 19,
     "metadata": {},
     "output_type": "execute_result"
    }
   ],
   "source": [
    "#| exports\n",
    "\n",
    "hotkeys = [('Profile','⇧⌘P'),('Billing','⌘B'),('Settings','⌘S'),('New Team', '')]\n",
    "\n",
    "def space(*c): return A(FullySpacedDiv(*c, wrap_tag=P))\n",
    "\n",
    "hotkeys = tuple(map(lambda x: space(*x), hotkeys))\n",
    "logout = space('Logout' ,''),\n",
    "user = Li(cls='px-2 py-1.5 text-sm')(\n",
    "        Div(cls='flex flex-col space-y-1')(\n",
    "            P('sveltecult', cls='text-sm font-medium leading-none'),\n",
    "            P('leader@sveltecult.com', cls='text-xs leading-none text-muted-foreground'))),\n",
    "avatar = DiceBearAvatar('Alicia Koch',8,8)\n",
    "avatar_dropdown = UkDropdownButton(user,hotkeys,logout,\n",
    "    label=avatar)\n",
    "\n",
    "show(avatar_dropdown)"
   ]
  },
  {
   "cell_type": "code",
   "execution_count": 20,
   "id": "51137d79",
   "metadata": {},
   "outputs": [],
   "source": [
    "#| exports\n",
    "top_nav = UkNavbar(\n",
    "    lnav=[team_dropdown, Li(A(\"Overview\")), Li(A(\"Customers\")), Li(A(\"Products\")), Li(A(\"Settings\"))],\n",
    "    rnav=[UkInput(placeholder='Search'), avatar_dropdown],\n",
    ")"
   ]
  },
  {
   "cell_type": "code",
   "execution_count": 21,
   "id": "a7002b4e",
   "metadata": {},
   "outputs": [],
   "source": [
    "#| exports\n",
    "def page():\n",
    "    return Div(cls=\"space-y-4\")(\n",
    "        Div(cls=\"border-b border-border px-4\")(top_nav),\n",
    "        UkH2('Dashboard'),\n",
    "        UkTab(\"Overview\", \"Analytics\", \"Reports\", \"Notifications\"), \n",
    "        top_info_row,\n",
    "        Grid(Card(generate_chart(10),cls='lg:col-span-4'),\n",
    "            recent_sales,\n",
    "            gap=4,cls='lg:grid-cols-7'))"
   ]
  },
  {
   "cell_type": "code",
   "execution_count": 22,
   "id": "000b2c9e",
   "metadata": {},
   "outputs": [
    {
     "data": {
      "text/html": [
       "<div class=\"space-y-4\">\n",
       "  <div class=\"border-b border-border px-4\">\n",
       "    <div uk-navbar class=\"uk-navbar-container uk-width-1-1 relative z-50 z-10\">\n",
       "      <div class=\"uk-navbar-left\">\n",
       "        <ul class=\"uk-navbar-nav\">\n",
       "          <div class=\"uk-navbar-item\">\n",
       "            <div class=\"flex items-center space-x-4\">\n",
       "<button type=\"button\" class=\"uk-button uk-button-default\">Alicia Koch<span uk-icon=\"icon: triangle-down; ratio: 1\"></span></button>              <div uk-drop=\"mode: click; pos: bottom-right\" class=\"uk-dropdown uk-drop \">\n",
       "                <ul class=\"uk-dropdown-nav\">\n",
       "                  <li class=\"uk-nav-header\">\n",
       "                    <div>Personal</div>\n",
       "                  </li>\n",
       "                  <li>\n",
       "<a href=\"#\">Alicia Koch</a>                  </li>\n",
       "                  <li class=\"uk-nav-header\">\n",
       "                    <div>Team</div>\n",
       "                  </li>\n",
       "                  <li>\n",
       "<a href=\"#\">Acme Inc</a><a href=\"#\">Monster Inc.</a>                  </li>\n",
       "                  <li class=\"uk-nav-divider\"></li>\n",
       "                  <li>\n",
       "<a href=\"#\">Create a Team</a>                  </li>\n",
       "                </ul>\n",
       "              </div>\n",
       "            </div>\n",
       "          </div>\n",
       "          <li class=\"uk-navbar-item\">\n",
       "<a href=\"#\">Overview</a>          </li>\n",
       "          <li class=\"uk-navbar-item\">\n",
       "<a href=\"#\">Customers</a>          </li>\n",
       "          <li class=\"uk-navbar-item\">\n",
       "<a href=\"#\">Products</a>          </li>\n",
       "          <li class=\"uk-navbar-item\">\n",
       "<a href=\"#\">Settings</a>          </li>\n",
       "        </ul>\n",
       "      </div>\n",
       "      <div class=\"uk-navbar-right\">\n",
       "        <ul class=\"uk-navbar-nav\">\n",
       "          <div class=\"space-y-2 uk-navbar-item\">\n",
       "            <input placeholder=\"Search\" class=\"uk-input\">\n",
       "          </div>\n",
       "          <div class=\"uk-navbar-item\">\n",
       "            <div class=\"flex items-center space-x-4\">\n",
       "<button type=\"button\" class=\"uk-button uk-button-default\"><span class=\"relative flex h-8 w-8 shrink-0 overflow-hidden rounded-full bg-accent\"><img alt=\"Avatar\" src=\"https://api.dicebear.com/8.x/lorelei/svg?seed=Alicia Koch\" class=\"aspect-square h-full w-full\"></span><span uk-icon=\"icon: triangle-down; ratio: 1\"></span></button>              <div uk-drop=\"mode: click; pos: bottom-right\" class=\"uk-dropdown uk-drop \">\n",
       "                <ul class=\"uk-dropdown-nav\">\n",
       "                  <li>\n",
       "                    <li class=\"px-2 py-1.5 text-sm\">\n",
       "                      <div class=\"flex flex-col space-y-1\">\n",
       "                        <p class=\"text-sm font-medium leading-none\">sveltecult</p>\n",
       "                        <p class=\"text-xs leading-none text-muted-foreground\">leader@sveltecult.com</p>\n",
       "                      </div>\n",
       "                    </li>\n",
       "                  </li>\n",
       "                  <li class=\"uk-nav-divider\"></li>\n",
       "                  <li>\n",
       "<a href=\"#\">                      <div class=\"uk-flex uk-flex-between uk-flex-middle uk-width-1-1\">\n",
       "                        <p>Profile</p>\n",
       "                        <p>⇧⌘P</p>\n",
       "                      </div>\n",
       "</a>                  </li>\n",
       "                  <li>\n",
       "<a href=\"#\">                      <div class=\"uk-flex uk-flex-between uk-flex-middle uk-width-1-1\">\n",
       "                        <p>Billing</p>\n",
       "                        <p>⌘B</p>\n",
       "                      </div>\n",
       "</a>                  </li>\n",
       "                  <li>\n",
       "<a href=\"#\">                      <div class=\"uk-flex uk-flex-between uk-flex-middle uk-width-1-1\">\n",
       "                        <p>Settings</p>\n",
       "                        <p>⌘S</p>\n",
       "                      </div>\n",
       "</a>                  </li>\n",
       "                  <li>\n",
       "<a href=\"#\">                      <div class=\"uk-flex uk-flex-between uk-flex-middle uk-width-1-1\">\n",
       "                        <p>New Team</p>\n",
       "                        <p></p>\n",
       "                      </div>\n",
       "</a>                  </li>\n",
       "                  <li class=\"uk-nav-divider\"></li>\n",
       "                  <li>\n",
       "<a href=\"#\">                      <div class=\"uk-flex uk-flex-between uk-flex-middle uk-width-1-1\">\n",
       "                        <p>Logout</p>\n",
       "                        <p></p>\n",
       "                      </div>\n",
       "</a>                  </li>\n",
       "                </ul>\n",
       "              </div>\n",
       "            </div>\n",
       "          </div>\n",
       "        </ul>\n",
       "      </div>\n",
       "    </div>\n",
       "  </div>\n",
       "  <h2 class=\"uk-h2\">Dashboard</h2>\n",
       "  <ul class=\"uk-tab-alt max-w-96\">\n",
       "    <li class=\"uk-active\">\n",
       "<a href=\"#demo\" uk-toggle>Overview</a>    </li>\n",
       "    <li class=\" \">\n",
       "<a href=\"#demo\" uk-toggle>Analytics</a>    </li>\n",
       "    <li class=\" \">\n",
       "<a href=\"#demo\" uk-toggle>Reports</a>    </li>\n",
       "    <li class=\" \">\n",
       "<a href=\"#demo\" uk-toggle>Notifications</a>    </li>\n",
       "  </ul>\n",
       "  <div class=\"grid grid-cols-2 gap-4 lg:grid-cols-4\">\n",
       "    <div class=\"uk-card \">\n",
       "      <div class=\"uk-card-header \">\n",
       "        <h4 class=\"uk-h4\">Total Revenue</h4>\n",
       "      </div>\n",
       "      <div class=\"uk-card-body space-y-6\">\n",
       "        <div>\n",
       "          <h3 class=\"uk-h3\">$45,231.89</h3>\n",
       "          <p class=\"text-sm uk-text-muted\">+20.1% from last month</p>\n",
       "        </div>\n",
       "      </div>\n",
       "    </div>\n",
       "    <div class=\"uk-card \">\n",
       "      <div class=\"uk-card-header \">\n",
       "        <h4 class=\"uk-h4\">Subscriptions</h4>\n",
       "      </div>\n",
       "      <div class=\"uk-card-body space-y-6\">\n",
       "        <div>\n",
       "          <h3 class=\"uk-h3\">+2350</h3>\n",
       "          <p class=\"text-sm uk-text-muted\">+180.1% from last month</p>\n",
       "        </div>\n",
       "      </div>\n",
       "    </div>\n",
       "    <div class=\"uk-card \">\n",
       "      <div class=\"uk-card-header \">\n",
       "        <h4 class=\"uk-h4\">Sales</h4>\n",
       "      </div>\n",
       "      <div class=\"uk-card-body space-y-6\">\n",
       "        <div>\n",
       "          <h3 class=\"uk-h3\">+12,234</h3>\n",
       "          <p class=\"text-sm uk-text-muted\">+19% from last month</p>\n",
       "        </div>\n",
       "      </div>\n",
       "    </div>\n",
       "    <div class=\"uk-card \">\n",
       "      <div class=\"uk-card-header \">\n",
       "        <h4 class=\"uk-h4\">Active Now</h4>\n",
       "      </div>\n",
       "      <div class=\"uk-card-body space-y-6\">\n",
       "        <div>\n",
       "          <h3 class=\"uk-h3\">+573</h3>\n",
       "          <p class=\"text-sm uk-text-muted\">+201 since last hour</p>\n",
       "        </div>\n",
       "      </div>\n",
       "    </div>\n",
       "  </div>\n",
       "  <div class=\"grid grid-cols-3 gap-4 lg:grid-cols-7\">\n",
       "    <div class=\"uk-card lg:col-span-4\">\n",
       "      <div class=\"uk-card-body space-y-6\">\n",
       "<img src=\"data:image/jpg;base64, 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\">      </div>\n",
       "    </div>\n",
       "    <div class=\"uk-card lg:col-span-3\">\n",
       "      <div class=\"uk-card-header \">\n",
       "        <div>\n",
       "          <h3 class=\"uk-h3\">Recent Sales</h3>\n",
       "          <p class=\"text-sm uk-text-muted\">You made 265 sales this month.</p>\n",
       "        </div>\n",
       "      </div>\n",
       "      <div class=\"uk-card-body space-y-6\">\n",
       "        <div class=\"space-y-8\">\n",
       "          <div class=\"flex items-center\">\n",
       "<span class=\"relative flex h-9 w-9 shrink-0 overflow-hidden rounded-full bg-accent\"><img alt=\"Avatar\" src=\"https://api.dicebear.com/8.x/lorelei/svg?seed=Olivia Martin\" class=\"aspect-square h-full w-full\"></span>            <div class=\"ml-4 space-y-1\">\n",
       "              <p class=\"text-sm font-medium\">Olivia Martin</p>\n",
       "              <p class=\"text-sm uk-text-muted\">olivia.martin@email.com</p>\n",
       "            </div>\n",
       "            <div class=\"ml-auto font-medium\">+$1,999.00</div>\n",
       "          </div>\n",
       "          <div class=\"flex items-center\">\n",
       "<span class=\"relative flex h-9 w-9 shrink-0 overflow-hidden rounded-full bg-accent\"><img alt=\"Avatar\" src=\"https://api.dicebear.com/8.x/lorelei/svg?seed=Jackson Lee\" class=\"aspect-square h-full w-full\"></span>            <div class=\"ml-4 space-y-1\">\n",
       "              <p class=\"text-sm font-medium\">Jackson Lee</p>\n",
       "              <p class=\"text-sm uk-text-muted\">jackson.lee@email.com</p>\n",
       "            </div>\n",
       "            <div class=\"ml-auto font-medium\">+$39.00</div>\n",
       "          </div>\n",
       "          <div class=\"flex items-center\">\n",
       "<span class=\"relative flex h-9 w-9 shrink-0 overflow-hidden rounded-full bg-accent\"><img alt=\"Avatar\" src=\"https://api.dicebear.com/8.x/lorelei/svg?seed=Isabella Nguyen\" class=\"aspect-square h-full w-full\"></span>            <div class=\"ml-4 space-y-1\">\n",
       "              <p class=\"text-sm font-medium\">Isabella Nguyen</p>\n",
       "              <p class=\"text-sm uk-text-muted\">isabella.nguyen@email.com</p>\n",
       "            </div>\n",
       "            <div class=\"ml-auto font-medium\">+$299.00</div>\n",
       "          </div>\n",
       "          <div class=\"flex items-center\">\n",
       "<span class=\"relative flex h-9 w-9 shrink-0 overflow-hidden rounded-full bg-accent\"><img alt=\"Avatar\" src=\"https://api.dicebear.com/8.x/lorelei/svg?seed=William Kim\" class=\"aspect-square h-full w-full\"></span>            <div class=\"ml-4 space-y-1\">\n",
       "              <p class=\"text-sm font-medium\">William Kim</p>\n",
       "              <p class=\"text-sm uk-text-muted\">will@email.com</p>\n",
       "            </div>\n",
       "            <div class=\"ml-auto font-medium\">+$99.00</div>\n",
       "          </div>\n",
       "          <div class=\"flex items-center\">\n",
       "<span class=\"relative flex h-9 w-9 shrink-0 overflow-hidden rounded-full bg-accent\"><img alt=\"Avatar\" src=\"https://api.dicebear.com/8.x/lorelei/svg?seed=Sofia Davis\" class=\"aspect-square h-full w-full\"></span>            <div class=\"ml-4 space-y-1\">\n",
       "              <p class=\"text-sm font-medium\">Sofia Davis</p>\n",
       "              <p class=\"text-sm uk-text-muted\">sofia.davis@email.com</p>\n",
       "            </div>\n",
       "            <div class=\"ml-auto font-medium\">+$39.00</div>\n",
       "          </div>\n",
       "        </div>\n",
       "      </div>\n",
       "    </div>\n",
       "  </div>\n",
       "</div>\n"
      ],
      "text/plain": [
       "<IPython.core.display.HTML object>"
      ]
     },
     "execution_count": 22,
     "metadata": {},
     "output_type": "execute_result"
    }
   ],
   "source": [
    "show(page())"
   ]
  },
  {
   "cell_type": "code",
   "execution_count": 23,
   "id": "22a8233b",
   "metadata": {},
   "outputs": [],
   "source": [
    "#| exports\n",
    "dashboard_homepage = page()"
   ]
  },
  {
   "cell_type": "code",
   "execution_count": 24,
   "id": "1992630d",
   "metadata": {},
   "outputs": [],
   "source": [
    "#| hide\n",
    "import nbdev; nbdev.nbdev_export()"
   ]
  }
 ],
 "metadata": {
  "kernelspec": {
   "display_name": "Python 3 (ipykernel)",
   "language": "python",
   "name": "python3"
  },
  "language_info": {
   "codemirror_mode": {
    "name": "ipython",
    "version": 3
   },
   "file_extension": ".py",
   "mimetype": "text/x-python",
   "name": "python",
   "nbconvert_exporter": "python",
   "pygments_lexer": "ipython3",
   "version": "3.12.4"
  },
  "toc": {
   "base_numbering": 1,
   "nav_menu": {},
   "number_sections": true,
   "sideBar": true,
   "skip_h1_title": false,
   "title_cell": "Table of Contents",
   "title_sidebar": "Contents",
   "toc_cell": false,
   "toc_position": {},
   "toc_section_display": true,
   "toc_window_display": false
  }
 },
 "nbformat": 4,
 "nbformat_minor": 5
}
