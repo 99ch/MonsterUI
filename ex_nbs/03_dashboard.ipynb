{
 "cells": [
  {
   "cell_type": "markdown",
   "id": "bd49724c",
   "metadata": {},
   "source": [
    "# Dashboard\n",
    "\n",
    "> FrankenUI Dashboard Example"
   ]
  },
  {
   "cell_type": "code",
   "execution_count": 1,
   "id": "04abc944",
   "metadata": {},
   "outputs": [],
   "source": [
    "#| default_exp dashboard"
   ]
  },
  {
   "cell_type": "code",
   "execution_count": 2,
   "id": "cef92ebb",
   "metadata": {},
   "outputs": [],
   "source": [
    "#| export\n",
    "from fasthtml.common import *\n",
    "from fh_frankenui.components import *\n",
    "from fasthtml.svg import *\n",
    "from fh_matplotlib import matplotlib2fasthtml\n",
    "import numpy as np\n",
    "import matplotlib.pylab as plt"
   ]
  },
  {
   "cell_type": "code",
   "execution_count": 3,
   "id": "02ad7e62",
   "metadata": {},
   "outputs": [],
   "source": [
    "#| hide\n",
    "from nbdev.showdoc import *"
   ]
  },
  {
   "cell_type": "code",
   "execution_count": 4,
   "id": "f0f5477a",
   "metadata": {},
   "outputs": [
    {
     "data": {
      "text/html": [
       "<script src=\"https://cdn.tailwindcss.com\"></script>\n",
       "<script src=\"https://cdn.jsdelivr.net/npm/uikit@3.21.6/dist/js/uikit.min.js\"></script>\n",
       "<script src=\"https://cdn.jsdelivr.net/npm/uikit@3.21.6/dist/js/uikit-icons.min.js\"></script>\n",
       "<script type=\"module\" src=\"https://unpkg.com/franken-wc@0.0.6/dist/js/wc.iife.js\"></script>\n",
       "<link rel=\"stylesheet\" href=\"https://unpkg.com/franken-wc@0.0.6/dist/css/blue.min.css\">\n",
       "\n",
       "<style>\n",
       "#notebook-container { max-width: none; }\n",
       ".output_html * { list-style-type: none !important; }\n",
       "</style>\n"
      ],
      "text/plain": [
       "<IPython.core.display.HTML object>"
      ]
     },
     "metadata": {},
     "output_type": "display_data"
    }
   ],
   "source": [
    "%%html\n",
    "<script src=\"https://cdn.tailwindcss.com\"></script>\n",
    "<script src=\"https://cdn.jsdelivr.net/npm/uikit@3.21.6/dist/js/uikit.min.js\"></script>\n",
    "<script src=\"https://cdn.jsdelivr.net/npm/uikit@3.21.6/dist/js/uikit-icons.min.js\"></script>\n",
    "<script type=\"module\" src=\"https://unpkg.com/franken-wc@0.0.6/dist/js/wc.iife.js\"></script>\n",
    "<link rel=\"stylesheet\" href=\"https://unpkg.com/franken-wc@0.0.6/dist/css/blue.min.css\">\n",
    "\n",
    "<style>\n",
    "#notebook-container { max-width: none; }\n",
    ".output_html * { list-style-type: none !important; }\n",
    "</style>"
   ]
  },
  {
   "cell_type": "code",
   "execution_count": 5,
   "id": "19ba6675",
   "metadata": {},
   "outputs": [],
   "source": [
    "from httpx import get\n",
    "fh_frankenui = open(\"../fh_frankenui/components.py\").read().strip()\n",
    "\n",
    "url = 'https://raw.githubusercontent.com/franken-ui/examples/master/src/pages/dashboard.astro'\n",
    "dashboard = get(url).text\n",
    "\n",
    "url = 'https://raw.githubusercontent.com/franken-ui/examples/master/src/pages/cards.astro'\n",
    "cards = get(url).text\n",
    "\n",
    "url = 'https://github.com/AnswerDotAI/fh-frankenui-examples/blob/main/fh_frankenui_examples/cards.py'\n",
    "cards_in_python = get(url).text\n",
    "\n",
    "url = 'https://github.com/AnswerDotAI/fh-frankenui-examples/blob/main/fh_frankenui_examples/tasks.py'\n",
    "tasks_in_python = get(url).text\n",
    "\n",
    "url = 'https://raw.githubusercontent.com/AnswerDotAI/fasthtml/main/examples/adv_app.py'\n",
    "idiomatic_fasthtml_app = get(url).text\n"
   ]
  },
  {
   "cell_type": "code",
   "execution_count": 6,
   "id": "d382f5d5",
   "metadata": {},
   "outputs": [],
   "source": [
    "%%ai 0 -c\n",
    "\n",
    "I am implementing FrankenUI for FastHTML by reimplementing the FrankenUI examples from their docs in a python library.  I am doing this by building a library as I go, `fh_frankenui`.\n",
    "\n",
    "Reference the `idiomatic_fasthtml_app` to get a feel for fasthtml.\n",
    "\n",
    "I previously did their `cards` example, and the python implementation looked like `cards_in_python`.\n",
    "\n",
    "Now, I am looking to do the same with their `dashboard` example.\n",
    "\n",
    "The goal is to develop the work-in-progress `fh_frankenui` library, so please use `fh_frankenui` as much as makes sense and recommend functions or improvements to `fh_frankenui` when it fits.\n",
    "\n",
    "Please read all this information and confirm that you understand what I want to do by giving me a brief overview in your own words.  \n"
   ]
  },
  {
   "cell_type": "markdown",
   "id": "8a31fe0f",
   "metadata": {},
   "source": [
    "You're developing a Python library called `fh_frankenui` to implement FrankenUI components for FastHTML. Your approach involves recreating FrankenUI examples from their documentation in Python.\n",
    "\n",
    "You've already completed the 'cards' example and are now focusing on the 'dashboard' example. Your goal is to create a Python equivalent of the FrankenUI dashboard, utilizing and expanding the `fh_frankenui` library as needed.\n",
    "\n",
    "You want me to analyze the provided context, including the FastHTML idiomatic app, the existing `fh_frankenui` code, and the FrankenUI dashboard example. Based on this analysis, you're looking for guidance on implementing the dashboard in Python, with suggestions for new functions or improvements to `fh_frankenui` where appropriate."
   ]
  },
  {
   "cell_type": "code",
   "execution_count": 7,
   "id": "b8ed7a67",
   "metadata": {},
   "outputs": [],
   "source": [
    "%%aip 0\n",
    "\n",
    "I want a flexible function that can generate the top row of cards that all share the same general format"
   ]
  },
  {
   "cell_type": "code",
   "execution_count": 8,
   "id": "275f3643",
   "metadata": {},
   "outputs": [],
   "source": [
    "#| exports\n",
    "def InfoCard(title, value, change):\n",
    "    return Card(\n",
    "             Div(UkH3(value),\n",
    "                P(change, cls=TextT.muted_sm)),\n",
    "             header = UkH4(title),)"
   ]
  },
  {
   "cell_type": "code",
   "execution_count": 9,
   "id": "45c602c4",
   "metadata": {},
   "outputs": [],
   "source": [
    "%%aip 0\n",
    "Use the `InfoCard` function to create the top row of cards - each one in a variable (rev,sub,sal,act)."
   ]
  },
  {
   "cell_type": "code",
   "execution_count": 10,
   "id": "745555dc",
   "metadata": {},
   "outputs": [],
   "source": [
    "#| exports\n",
    "rev = InfoCard(\"Total Revenue\", \"$45,231.89\", \"+20.1% from last month\")\n",
    "sub = InfoCard(\"Subscriptions\", \"+2350\", \"+180.1% from last month\")\n",
    "sal = InfoCard(\"Sales\", \"+12,234\", \"+19% from last month\")\n",
    "act = InfoCard(\"Active Now\", \"+573\", \"+201 since last hour\")"
   ]
  },
  {
   "cell_type": "code",
   "execution_count": 11,
   "id": "96867f4f",
   "metadata": {},
   "outputs": [],
   "source": [
    "#| exports\n",
    "top_info_row = Grid(rev,sub,sal,act,cols=2, gap=4, cls='lg:grid-cols-4')"
   ]
  },
  {
   "cell_type": "code",
   "execution_count": 12,
   "id": "76a4a138",
   "metadata": {},
   "outputs": [
    {
     "data": {
      "text/html": [
       "<div class=\"grid grid-cols-2 gap-4 lg:grid-cols-4\">\n",
       "  <div class=\"uk-card \">\n",
       "    <div class=\"uk-card-header \">\n",
       "      <h4 class=\"uk-h4\">Total Revenue</h4>\n",
       "    </div>\n",
       "    <div class=\"uk-card-body space-y-6\">\n",
       "      <div>\n",
       "        <h3 class=\"uk-h3\">$45,231.89</h3>\n",
       "        <p class=\"text-sm uk-text-muted\">+20.1% from last month</p>\n",
       "      </div>\n",
       "    </div>\n",
       "  </div>\n",
       "  <div class=\"uk-card \">\n",
       "    <div class=\"uk-card-header \">\n",
       "      <h4 class=\"uk-h4\">Subscriptions</h4>\n",
       "    </div>\n",
       "    <div class=\"uk-card-body space-y-6\">\n",
       "      <div>\n",
       "        <h3 class=\"uk-h3\">+2350</h3>\n",
       "        <p class=\"text-sm uk-text-muted\">+180.1% from last month</p>\n",
       "      </div>\n",
       "    </div>\n",
       "  </div>\n",
       "  <div class=\"uk-card \">\n",
       "    <div class=\"uk-card-header \">\n",
       "      <h4 class=\"uk-h4\">Sales</h4>\n",
       "    </div>\n",
       "    <div class=\"uk-card-body space-y-6\">\n",
       "      <div>\n",
       "        <h3 class=\"uk-h3\">+12,234</h3>\n",
       "        <p class=\"text-sm uk-text-muted\">+19% from last month</p>\n",
       "      </div>\n",
       "    </div>\n",
       "  </div>\n",
       "  <div class=\"uk-card \">\n",
       "    <div class=\"uk-card-header \">\n",
       "      <h4 class=\"uk-h4\">Active Now</h4>\n",
       "    </div>\n",
       "    <div class=\"uk-card-body space-y-6\">\n",
       "      <div>\n",
       "        <h3 class=\"uk-h3\">+573</h3>\n",
       "        <p class=\"text-sm uk-text-muted\">+201 since last hour</p>\n",
       "      </div>\n",
       "    </div>\n",
       "  </div>\n",
       "</div>\n"
      ],
      "text/plain": [
       "<IPython.core.display.HTML object>"
      ]
     },
     "execution_count": 12,
     "metadata": {},
     "output_type": "execute_result"
    }
   ],
   "source": [
    "show(top_info_row)"
   ]
  },
  {
   "cell_type": "code",
   "execution_count": 13,
   "id": "ee500a1b",
   "metadata": {},
   "outputs": [],
   "source": [
    "%%aip 0\n",
    "\n",
    "Let's create the card with the avatars next.  Be sure to reference similar examples from `cards_in_python` to make it as simple as possible.\n",
    "\n",
    "I don't need an exact recreation so if UkH3 or UkH4 is close enough (like I did previously) then that's fine"
   ]
  },
  {
   "cell_type": "code",
   "execution_count": 14,
   "id": "98b733c2",
   "metadata": {},
   "outputs": [],
   "source": [
    "#| exports\n",
    "def AvatarItem(name, email, amount):\n",
    "    return Div(cls=\"flex items-center\")(\n",
    "        DiceBearAvatar(name, 9,9),\n",
    "        Div(cls=\"ml-4 space-y-1\")(\n",
    "            P(name, cls=TextT.medium_sm),\n",
    "            P(email, cls=TextT.muted_sm)),\n",
    "        Div(amount, cls=\"ml-auto font-medium\"))\n",
    "\n",
    "recent_sales = Card(\n",
    "    Div(cls=\"space-y-8\")(\n",
    "        *[AvatarItem(n,e,d) for (n,e,d) in (\n",
    "            (\"Olivia Martin\",   \"olivia.martin@email.com\",   \"+$1,999.00\"),\n",
    "            (\"Jackson Lee\",     \"jackson.lee@email.com\",     \"+$39.00\"),\n",
    "            (\"Isabella Nguyen\", \"isabella.nguyen@email.com\", \"+$299.00\"),\n",
    "            (\"William Kim\",     \"will@email.com\",            \"+$99.00\"),\n",
    "            (\"Sofia Davis\",     \"sofia.davis@email.com\",     \"+$39.00\"))]),\n",
    "    header=Div(\n",
    "        UkH3(\"Recent Sales\"),\n",
    "        P(\"You made 265 sales this month.\", cls=TextT.muted_sm)))"
   ]
  },
  {
   "cell_type": "code",
   "execution_count": 15,
   "id": "3767a677",
   "metadata": {},
   "outputs": [],
   "source": [
    "#| exports\n",
    "@matplotlib2fasthtml\n",
    "def generate_chart(num_points):\n",
    "    plotdata = [np.random.exponential(1) for _ in range(num_points)]\n",
    "    plt.plot(range(len(plotdata)), plotdata)"
   ]
  },
  {
   "cell_type": "code",
   "execution_count": 16,
   "id": "d7a93876",
   "metadata": {},
   "outputs": [
    {
     "data": {
      "text/html": [
       "<img src=\"data:image/jpg;base64, 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\">"
      ],
      "text/plain": [
       "<IPython.core.display.HTML object>"
      ]
     },
     "execution_count": 16,
     "metadata": {},
     "output_type": "execute_result"
    }
   ],
   "source": [
    "show(generate_chart(10))"
   ]
  },
  {
   "cell_type": "code",
   "execution_count": 17,
   "id": "12f0df9e",
   "metadata": {},
   "outputs": [],
   "source": [
    "%%aip 0\n",
    "Now let's make the top navigation section with \"Overview\", \"Analytics\", \"Reports\", \"Notifications\" tables that use their own functions"
   ]
  },
  {
   "cell_type": "code",
   "execution_count": 18,
   "id": "a9290026",
   "metadata": {},
   "outputs": [
    {
     "data": {
      "text/html": [
       "<ul class=\"uk-tab-alt max-w-96\">\n",
       "  <li class=\" \">\n",
       "<a href=\"#demo\" uk-toggle>Overview</a>  </li>\n",
       "  <li class=\" \">\n",
       "<a href=\"#demo\" uk-toggle>Analytics</a>  </li>\n",
       "  <li class=\" \">\n",
       "<a href=\"#demo\" uk-toggle>Reports</a>  </li>\n",
       "  <li class=\" \">\n",
       "<a href=\"#demo\" uk-toggle>Notifications</a>  </li>\n",
       "</ul>\n"
      ],
      "text/plain": [
       "<IPython.core.display.HTML object>"
      ]
     },
     "execution_count": 18,
     "metadata": {},
     "output_type": "execute_result"
    }
   ],
   "source": [
    "#| exports\n",
    "def NavTab(text, active=False):\n",
    "    return Li(cls=\"uk-active\" if active else \" \")(\n",
    "        A(text, href=\"#demo\", uk_toggle=True))\n",
    "\n",
    "def UkTab(*items):\n",
    "    return Ul(cls=\"uk-tab-alt max-w-96\")(\n",
    "        *[NavTab(item) for i, item in enumerate(items)])\n",
    "\n",
    "db_nav = UkTab(\"Overview\", \"Analytics\", \"Reports\", \"Notifications\")\n",
    "show(db_nav)"
   ]
  },
  {
   "cell_type": "code",
   "execution_count": 19,
   "id": "7fc67843",
   "metadata": {},
   "outputs": [],
   "source": [
    "%%aip 0\n",
    "Now let's make the top navigation section with \"Overview\", \"Customers\", \"products\", \"Settings\" tabs that use their own functions, with the name/teams dropdown too\n",
    "\n",
    "For the dropdown use either `UkDropdownButton` or `UkSelect` - remember it doesn't need to perfectly match - just look pretty decent and be very simple code."
   ]
  },
  {
   "cell_type": "code",
   "execution_count": 20,
   "id": "c9f74172",
   "metadata": {},
   "outputs": [],
   "source": [
    "#| exports\n",
    "def UkNavBar(*items):\n",
    "    return Ul(cls=\"uk-navbar-nav gap-x-4 lg:gap-x-6\")(\n",
    "        *[NavTab(item) for i, item in enumerate(items)])\n",
    "\n",
    "team_dropdown = UkDropdownButton((\"Alicia Koch\",\"Acme Inc\",\"Monster Inc.\",\"Create a Team\"))"
   ]
  },
  {
   "cell_type": "code",
   "execution_count": 21,
   "id": "25e198f8",
   "metadata": {},
   "outputs": [],
   "source": [
    "top_nav = Div(cls=\"uk-navbar-left gap-x-4 lg:gap-x-6\")(\n",
    "    team_dropdown,\n",
    "    UkNavBar(\"Overview\", \"Customers\", \"Products\", \"Settings\"),\n",
    "    UkInput(placeholder='Search'),)"
   ]
  },
  {
   "cell_type": "code",
   "execution_count": 22,
   "id": "84495599",
   "metadata": {},
   "outputs": [
    {
     "data": {
      "text/html": [
       "<div class=\"uk-navbar-left gap-x-4 lg:gap-x-6\">\n",
       "  <div>\n",
       "    <div class=\"flex items-center space-x-4\">\n",
       "<button type=\"button\" class=\"uk-button uk-button-default\"><span uk-icon=\"icon: triangle-down; ratio: 1\"></span></button>      <div uk-drop=\"mode: click; pos: bottom-right\" class=\"uk-dropdown uk-drop \">\n",
       "        <ul class=\"uk-dropdown-nav\">\n",
       "          <li>Alicia Koch</li>\n",
       "          <li class=\"uk-nav-divider\"></li>\n",
       "          <li>Acme Inc</li>\n",
       "          <li class=\"uk-nav-divider\"></li>\n",
       "          <li>Monster Inc.</li>\n",
       "          <li class=\"uk-nav-divider\"></li>\n",
       "          <li>Create a Team</li>\n",
       "        </ul>\n",
       "      </div>\n",
       "    </div>\n",
       "  </div>\n",
       "  <ul class=\"uk-navbar-nav gap-x-4 lg:gap-x-6\">\n",
       "    <li class=\" \">\n",
       "<a href=\"#demo\" uk-toggle>Overview</a>    </li>\n",
       "    <li class=\" \">\n",
       "<a href=\"#demo\" uk-toggle>Customers</a>    </li>\n",
       "    <li class=\" \">\n",
       "<a href=\"#demo\" uk-toggle>Products</a>    </li>\n",
       "    <li class=\" \">\n",
       "<a href=\"#demo\" uk-toggle>Settings</a>    </li>\n",
       "  </ul>\n",
       "  <div class=\"space-y-2\">\n",
       "    <input placeholder=\"Search\" class=\"uk-input\">\n",
       "  </div>\n",
       "</div>\n"
      ],
      "text/plain": [
       "<IPython.core.display.HTML object>"
      ]
     },
     "execution_count": 22,
     "metadata": {},
     "output_type": "execute_result"
    }
   ],
   "source": [
    "show(top_nav)"
   ]
  },
  {
   "cell_type": "code",
   "execution_count": 23,
   "id": "70ad5ccd",
   "metadata": {},
   "outputs": [],
   "source": [
    "%%aip 0\n",
    "\n",
    "Can you write the top navbar to use $`UkNavbar`\n",
    "\n",
    "Just do the \"Alicia Koch\" dropdown for now"
   ]
  },
  {
   "cell_type": "code",
   "execution_count": 24,
   "id": "814183ac",
   "metadata": {},
   "outputs": [
    {
     "data": {
      "text/html": [
       "<div uk-navbar class=\"uk-navbar-container uk-width-1-1 relative z-50 z-10\">\n",
       "  <div class=\"uk-navbar-left\">\n",
       "    <ul class=\"uk-navbar-nav\">\n",
       "      <li>\n",
       "<a href=\"#\">header</a>        <div class=\"uk-navbar-dropdown\">\n",
       "          <ul class=\"uk-nav uk-navbar-dropdown-nav\">\n",
       "            <li>\n",
       "<a href=\"#\">Alicia Koch</a>            </li>\n",
       "          </ul>\n",
       "        </div>\n",
       "      </li>\n",
       "    </ul>\n",
       "  </div>\n",
       "</div>\n"
      ],
      "text/plain": [
       "<IPython.core.display.HTML object>"
      ]
     },
     "execution_count": 24,
     "metadata": {},
     "output_type": "execute_result"
    }
   ],
   "source": [
    "#| exports\n",
    "headers = UkNavbar(lnav=(\n",
    "    UkNavbarDropdown(*map(lambda x: A(x,href='#'), [\"Alicia Koch\"]), label=\"header\")\n",
    "))\n",
    "show(headers)"
   ]
  },
  {
   "cell_type": "code",
   "execution_count": 25,
   "id": "6ca923da",
   "metadata": {},
   "outputs": [
    {
     "data": {
      "text/html": [
       "<div>\n",
       "  <div class=\"flex items-center space-x-4\">\n",
       "<button type=\"button\" class=\"uk-button uk-button-default\"><span class=\"relative flex h-8 w-8 shrink-0 overflow-hidden rounded-full bg-accent\"><img alt=\"Avatar\" src=\"https://api.dicebear.com/8.x/lorelei/svg?seed=Alicia Koch\" class=\"aspect-square h-full w-full\"></span><span uk-icon=\"icon: triangle-down; ratio: 1\"></span></button>    <div uk-drop=\"mode: click; pos: bottom-right\" class=\"uk-dropdown uk-drop \">\n",
       "      <ul class=\"uk-dropdown-nav\">\n",
       "        <li>\n",
       "          <div class=\"flex flex-col space-y-1\">\n",
       "            <p>Alicia Koch</p>\n",
       "            <p class=\"text-sm uk-text-muted\">alicia@example.com</p>\n",
       "          </div>\n",
       "        </li>\n",
       "        <li class=\"uk-nav-divider\"></li>\n",
       "        <li>Profile</li>\n",
       "        <li>⇧⌘P</li>\n",
       "        <li class=\"uk-nav-divider\"></li>\n",
       "        <li>Billing</li>\n",
       "        <li>⌘B</li>\n",
       "        <li class=\"uk-nav-divider\"></li>\n",
       "        <li>Settings</li>\n",
       "        <li>⌘S</li>\n",
       "        <li class=\"uk-nav-divider\"></li>\n",
       "        <li>New Team</li>\n",
       "        <li></li>\n",
       "        <li class=\"uk-nav-divider\"></li>\n",
       "        <li>Logout</li>\n",
       "        <li></li>\n",
       "      </ul>\n",
       "    </div>\n",
       "  </div>\n",
       "</div>\n"
      ],
      "text/plain": [
       "<IPython.core.display.HTML object>"
      ]
     },
     "execution_count": 25,
     "metadata": {},
     "output_type": "execute_result"
    }
   ],
   "source": [
    "#| exports\n",
    "hotkeys = (('Profile','⇧⌘P'), ('Billing','⌘B'), ('Settings','⌘S'), ('New Team',''), ('Logout',''))\n",
    "user = (Div(cls='flex flex-col space-y-1')(P('Alicia Koch'),P('alicia@example.com',cls=TextT.muted_sm)),)\n",
    "avatar = DiceBearAvatar('Alicia Koch',8,8)\n",
    "avatar_dropdown = UkDropdownButton(\n",
    "    options=user+hotkeys,\n",
    "    label=avatar)\n",
    "\n",
    "show(avatar_dropdown)"
   ]
  },
  {
   "cell_type": "code",
   "execution_count": 26,
   "id": "51137d79",
   "metadata": {},
   "outputs": [
    {
     "data": {
      "text/html": [
       "<div class=\"flex items-center justify-between w-full\">\n",
       "  <div class=\"flex items-center gap-x-4 lg:gap-x-6\">\n",
       "    <div>\n",
       "      <div class=\"flex items-center space-x-4\">\n",
       "<button type=\"button\" class=\"uk-button uk-button-default\"><span uk-icon=\"icon: triangle-down; ratio: 1\"></span></button>        <div uk-drop=\"mode: click; pos: bottom-right\" class=\"uk-dropdown uk-drop \">\n",
       "          <ul class=\"uk-dropdown-nav\">\n",
       "            <li>Alicia Koch</li>\n",
       "            <li class=\"uk-nav-divider\"></li>\n",
       "            <li>Acme Inc</li>\n",
       "            <li class=\"uk-nav-divider\"></li>\n",
       "            <li>Monster Inc.</li>\n",
       "            <li class=\"uk-nav-divider\"></li>\n",
       "            <li>Create a Team</li>\n",
       "          </ul>\n",
       "        </div>\n",
       "      </div>\n",
       "    </div>\n",
       "    <ul class=\"uk-navbar-nav gap-x-4 lg:gap-x-6\">\n",
       "      <li class=\" \">\n",
       "<a href=\"#demo\" uk-toggle>Overview</a>      </li>\n",
       "      <li class=\" \">\n",
       "<a href=\"#demo\" uk-toggle>Customers</a>      </li>\n",
       "      <li class=\" \">\n",
       "<a href=\"#demo\" uk-toggle>Products</a>      </li>\n",
       "      <li class=\" \">\n",
       "<a href=\"#demo\" uk-toggle>Settings</a>      </li>\n",
       "    </ul>\n",
       "  </div>\n",
       "  <div class=\"flex items-center gap-x-4\">\n",
       "    <div class=\"w-64\">\n",
       "      <div class=\"space-y-2\">\n",
       "        <input placeholder=\"Search\" class=\"uk-input\">\n",
       "      </div>\n",
       "    </div>\n",
       "    <div>\n",
       "      <div class=\"flex items-center space-x-4\">\n",
       "<button type=\"button\" class=\"uk-button uk-button-default\"><span class=\"relative flex h-8 w-8 shrink-0 overflow-hidden rounded-full bg-accent\"><img alt=\"Avatar\" src=\"https://api.dicebear.com/8.x/lorelei/svg?seed=Alicia Koch\" class=\"aspect-square h-full w-full\"></span><span uk-icon=\"icon: triangle-down; ratio: 1\"></span></button>        <div uk-drop=\"mode: click; pos: bottom-right\" class=\"uk-dropdown uk-drop \">\n",
       "          <ul class=\"uk-dropdown-nav\">\n",
       "            <li>\n",
       "              <div class=\"flex flex-col space-y-1\">\n",
       "                <p>Alicia Koch</p>\n",
       "                <p class=\"text-sm uk-text-muted\">alicia@example.com</p>\n",
       "              </div>\n",
       "            </li>\n",
       "            <li class=\"uk-nav-divider\"></li>\n",
       "            <li>Profile</li>\n",
       "            <li>⇧⌘P</li>\n",
       "            <li class=\"uk-nav-divider\"></li>\n",
       "            <li>Billing</li>\n",
       "            <li>⌘B</li>\n",
       "            <li class=\"uk-nav-divider\"></li>\n",
       "            <li>Settings</li>\n",
       "            <li>⌘S</li>\n",
       "            <li class=\"uk-nav-divider\"></li>\n",
       "            <li>New Team</li>\n",
       "            <li></li>\n",
       "            <li class=\"uk-nav-divider\"></li>\n",
       "            <li>Logout</li>\n",
       "            <li></li>\n",
       "          </ul>\n",
       "        </div>\n",
       "      </div>\n",
       "    </div>\n",
       "  </div>\n",
       "</div>\n"
      ],
      "text/plain": [
       "<IPython.core.display.HTML object>"
      ]
     },
     "execution_count": 26,
     "metadata": {},
     "output_type": "execute_result"
    }
   ],
   "source": [
    "#| exports\n",
    "top_nav = Div(cls=\"flex items-center justify-between w-full\")(\n",
    "    Div(cls=\"flex items-center gap-x-4 lg:gap-x-6\")(\n",
    "        team_dropdown,\n",
    "        UkNavBar(\"Overview\", \"Customers\", \"Products\", \"Settings\")),\n",
    "    Div(cls=\"flex items-center gap-x-4\")(\n",
    "        Div(cls=\"w-64\")(UkInput(placeholder='Search')),\n",
    "        avatar_dropdown))\n",
    "\n",
    "show(top_nav)"
   ]
  },
  {
   "cell_type": "code",
   "execution_count": 27,
   "id": "76b8d8f5",
   "metadata": {},
   "outputs": [],
   "source": [
    "%%aip 0\n",
    "\n",
    "Make $`top_nav` be all in 1 row instead of new rows.  `team_dropdown` and `UkNavBar(\"Overview\", \"Customers\", \"Products\", \"Settings\")` should be left aligned so you can see them all.\n",
    "\n",
    "Then in the same row, `UkInput(placeholder='Search')` and `avatar_dropdown` should be right aligned somehow.\n"
   ]
  },
  {
   "cell_type": "code",
   "execution_count": 28,
   "id": "a7002b4e",
   "metadata": {},
   "outputs": [],
   "source": [
    "#| exports\n",
    "def page():\n",
    "    return Div(cls=\"space-y-4\")(\n",
    "        top_nav,\n",
    "        UkHSplit(),\n",
    "        UkH2('Dashboard'),\n",
    "        db_nav, \n",
    "        top_info_row,\n",
    "        Grid(Card(generate_chart(10),cls='lg:col-span-4'),\n",
    "            Card(recent_sales,cls='lg:col-span-3'),\n",
    "            gap=4,cls='lg:grid-cols-7'))"
   ]
  },
  {
   "cell_type": "code",
   "execution_count": 29,
   "id": "000b2c9e",
   "metadata": {},
   "outputs": [
    {
     "data": {
      "text/html": [
       "<div class=\"space-y-4\">\n",
       "  <div class=\"flex items-center justify-between w-full\">\n",
       "    <div class=\"flex items-center gap-x-4 lg:gap-x-6\">\n",
       "      <div>\n",
       "        <div class=\"flex items-center space-x-4\">\n",
       "<button type=\"button\" class=\"uk-button uk-button-default\"><span uk-icon=\"icon: triangle-down; ratio: 1\"></span></button>          <div uk-drop=\"mode: click; pos: bottom-right\" class=\"uk-dropdown uk-drop \">\n",
       "            <ul class=\"uk-dropdown-nav\">\n",
       "              <li>Alicia Koch</li>\n",
       "              <li class=\"uk-nav-divider\"></li>\n",
       "              <li>Acme Inc</li>\n",
       "              <li class=\"uk-nav-divider\"></li>\n",
       "              <li>Monster Inc.</li>\n",
       "              <li class=\"uk-nav-divider\"></li>\n",
       "              <li>Create a Team</li>\n",
       "            </ul>\n",
       "          </div>\n",
       "        </div>\n",
       "      </div>\n",
       "      <ul class=\"uk-navbar-nav gap-x-4 lg:gap-x-6\">\n",
       "        <li class=\" \">\n",
       "<a href=\"#demo\" uk-toggle>Overview</a>        </li>\n",
       "        <li class=\" \">\n",
       "<a href=\"#demo\" uk-toggle>Customers</a>        </li>\n",
       "        <li class=\" \">\n",
       "<a href=\"#demo\" uk-toggle>Products</a>        </li>\n",
       "        <li class=\" \">\n",
       "<a href=\"#demo\" uk-toggle>Settings</a>        </li>\n",
       "      </ul>\n",
       "    </div>\n",
       "    <div class=\"flex items-center gap-x-4\">\n",
       "      <div class=\"w-64\">\n",
       "        <div class=\"space-y-2\">\n",
       "          <input placeholder=\"Search\" class=\"uk-input\">\n",
       "        </div>\n",
       "      </div>\n",
       "      <div>\n",
       "        <div class=\"flex items-center space-x-4\">\n",
       "<button type=\"button\" class=\"uk-button uk-button-default\"><span class=\"relative flex h-8 w-8 shrink-0 overflow-hidden rounded-full bg-accent\"><img alt=\"Avatar\" src=\"https://api.dicebear.com/8.x/lorelei/svg?seed=Alicia Koch\" class=\"aspect-square h-full w-full\"></span><span uk-icon=\"icon: triangle-down; ratio: 1\"></span></button>          <div uk-drop=\"mode: click; pos: bottom-right\" class=\"uk-dropdown uk-drop \">\n",
       "            <ul class=\"uk-dropdown-nav\">\n",
       "              <li>\n",
       "                <div class=\"flex flex-col space-y-1\">\n",
       "                  <p>Alicia Koch</p>\n",
       "                  <p class=\"text-sm uk-text-muted\">alicia@example.com</p>\n",
       "                </div>\n",
       "              </li>\n",
       "              <li class=\"uk-nav-divider\"></li>\n",
       "              <li>Profile</li>\n",
       "              <li>⇧⌘P</li>\n",
       "              <li class=\"uk-nav-divider\"></li>\n",
       "              <li>Billing</li>\n",
       "              <li>⌘B</li>\n",
       "              <li class=\"uk-nav-divider\"></li>\n",
       "              <li>Settings</li>\n",
       "              <li>⌘S</li>\n",
       "              <li class=\"uk-nav-divider\"></li>\n",
       "              <li>New Team</li>\n",
       "              <li></li>\n",
       "              <li class=\"uk-nav-divider\"></li>\n",
       "              <li>Logout</li>\n",
       "              <li></li>\n",
       "            </ul>\n",
       "          </div>\n",
       "        </div>\n",
       "      </div>\n",
       "    </div>\n",
       "  </div>\n",
       "  <div class=\"relative \">\n",
       "    <div class=\"absolute inset-0 flex items-center \">\n",
       "<span class=\"w-full border-t border-border\"></span>    </div>\n",
       "    <div class=\"relative flex justify-center \">\n",
       "<span class=\"bg-background px-2 \"></span>    </div>\n",
       "  </div>\n",
       "  <h2 class=\"uk-h2\">Dashboard</h2>\n",
       "  <ul class=\"uk-tab-alt max-w-96\">\n",
       "    <li class=\" \">\n",
       "<a href=\"#demo\" uk-toggle>Overview</a>    </li>\n",
       "    <li class=\" \">\n",
       "<a href=\"#demo\" uk-toggle>Analytics</a>    </li>\n",
       "    <li class=\" \">\n",
       "<a href=\"#demo\" uk-toggle>Reports</a>    </li>\n",
       "    <li class=\" \">\n",
       "<a href=\"#demo\" uk-toggle>Notifications</a>    </li>\n",
       "  </ul>\n",
       "  <div class=\"grid grid-cols-2 gap-4 lg:grid-cols-4\">\n",
       "    <div class=\"uk-card \">\n",
       "      <div class=\"uk-card-header \">\n",
       "        <h4 class=\"uk-h4\">Total Revenue</h4>\n",
       "      </div>\n",
       "      <div class=\"uk-card-body space-y-6\">\n",
       "        <div>\n",
       "          <h3 class=\"uk-h3\">$45,231.89</h3>\n",
       "          <p class=\"text-sm uk-text-muted\">+20.1% from last month</p>\n",
       "        </div>\n",
       "      </div>\n",
       "    </div>\n",
       "    <div class=\"uk-card \">\n",
       "      <div class=\"uk-card-header \">\n",
       "        <h4 class=\"uk-h4\">Subscriptions</h4>\n",
       "      </div>\n",
       "      <div class=\"uk-card-body space-y-6\">\n",
       "        <div>\n",
       "          <h3 class=\"uk-h3\">+2350</h3>\n",
       "          <p class=\"text-sm uk-text-muted\">+180.1% from last month</p>\n",
       "        </div>\n",
       "      </div>\n",
       "    </div>\n",
       "    <div class=\"uk-card \">\n",
       "      <div class=\"uk-card-header \">\n",
       "        <h4 class=\"uk-h4\">Sales</h4>\n",
       "      </div>\n",
       "      <div class=\"uk-card-body space-y-6\">\n",
       "        <div>\n",
       "          <h3 class=\"uk-h3\">+12,234</h3>\n",
       "          <p class=\"text-sm uk-text-muted\">+19% from last month</p>\n",
       "        </div>\n",
       "      </div>\n",
       "    </div>\n",
       "    <div class=\"uk-card \">\n",
       "      <div class=\"uk-card-header \">\n",
       "        <h4 class=\"uk-h4\">Active Now</h4>\n",
       "      </div>\n",
       "      <div class=\"uk-card-body space-y-6\">\n",
       "        <div>\n",
       "          <h3 class=\"uk-h3\">+573</h3>\n",
       "          <p class=\"text-sm uk-text-muted\">+201 since last hour</p>\n",
       "        </div>\n",
       "      </div>\n",
       "    </div>\n",
       "  </div>\n",
       "  <div class=\"grid grid-cols-3 gap-4 lg:grid-cols-7\">\n",
       "    <div class=\"uk-card lg:col-span-4\">\n",
       "      <div class=\"uk-card-body space-y-6\">\n",
       "<img src=\"data:image/jpg;base64, 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\">      </div>\n",
       "    </div>\n",
       "    <div class=\"uk-card lg:col-span-3\">\n",
       "      <div class=\"uk-card-body space-y-6\">\n",
       "        <div class=\"uk-card \">\n",
       "          <div class=\"uk-card-header \">\n",
       "            <div>\n",
       "              <h3 class=\"uk-h3\">Recent Sales</h3>\n",
       "              <p class=\"text-sm uk-text-muted\">You made 265 sales this month.</p>\n",
       "            </div>\n",
       "          </div>\n",
       "          <div class=\"uk-card-body space-y-6\">\n",
       "            <div class=\"space-y-8\">\n",
       "              <div class=\"flex items-center\">\n",
       "<span class=\"relative flex h-9 w-9 shrink-0 overflow-hidden rounded-full bg-accent\"><img alt=\"Avatar\" src=\"https://api.dicebear.com/8.x/lorelei/svg?seed=Olivia Martin\" class=\"aspect-square h-full w-full\"></span>                <div class=\"ml-4 space-y-1\">\n",
       "                  <p class=\"text-sm font-medium\">Olivia Martin</p>\n",
       "                  <p class=\"text-sm uk-text-muted\">olivia.martin@email.com</p>\n",
       "                </div>\n",
       "                <div class=\"ml-auto font-medium\">+$1,999.00</div>\n",
       "              </div>\n",
       "              <div class=\"flex items-center\">\n",
       "<span class=\"relative flex h-9 w-9 shrink-0 overflow-hidden rounded-full bg-accent\"><img alt=\"Avatar\" src=\"https://api.dicebear.com/8.x/lorelei/svg?seed=Jackson Lee\" class=\"aspect-square h-full w-full\"></span>                <div class=\"ml-4 space-y-1\">\n",
       "                  <p class=\"text-sm font-medium\">Jackson Lee</p>\n",
       "                  <p class=\"text-sm uk-text-muted\">jackson.lee@email.com</p>\n",
       "                </div>\n",
       "                <div class=\"ml-auto font-medium\">+$39.00</div>\n",
       "              </div>\n",
       "              <div class=\"flex items-center\">\n",
       "<span class=\"relative flex h-9 w-9 shrink-0 overflow-hidden rounded-full bg-accent\"><img alt=\"Avatar\" src=\"https://api.dicebear.com/8.x/lorelei/svg?seed=Isabella Nguyen\" class=\"aspect-square h-full w-full\"></span>                <div class=\"ml-4 space-y-1\">\n",
       "                  <p class=\"text-sm font-medium\">Isabella Nguyen</p>\n",
       "                  <p class=\"text-sm uk-text-muted\">isabella.nguyen@email.com</p>\n",
       "                </div>\n",
       "                <div class=\"ml-auto font-medium\">+$299.00</div>\n",
       "              </div>\n",
       "              <div class=\"flex items-center\">\n",
       "<span class=\"relative flex h-9 w-9 shrink-0 overflow-hidden rounded-full bg-accent\"><img alt=\"Avatar\" src=\"https://api.dicebear.com/8.x/lorelei/svg?seed=William Kim\" class=\"aspect-square h-full w-full\"></span>                <div class=\"ml-4 space-y-1\">\n",
       "                  <p class=\"text-sm font-medium\">William Kim</p>\n",
       "                  <p class=\"text-sm uk-text-muted\">will@email.com</p>\n",
       "                </div>\n",
       "                <div class=\"ml-auto font-medium\">+$99.00</div>\n",
       "              </div>\n",
       "              <div class=\"flex items-center\">\n",
       "<span class=\"relative flex h-9 w-9 shrink-0 overflow-hidden rounded-full bg-accent\"><img alt=\"Avatar\" src=\"https://api.dicebear.com/8.x/lorelei/svg?seed=Sofia Davis\" class=\"aspect-square h-full w-full\"></span>                <div class=\"ml-4 space-y-1\">\n",
       "                  <p class=\"text-sm font-medium\">Sofia Davis</p>\n",
       "                  <p class=\"text-sm uk-text-muted\">sofia.davis@email.com</p>\n",
       "                </div>\n",
       "                <div class=\"ml-auto font-medium\">+$39.00</div>\n",
       "              </div>\n",
       "            </div>\n",
       "          </div>\n",
       "        </div>\n",
       "      </div>\n",
       "    </div>\n",
       "  </div>\n",
       "</div>\n"
      ],
      "text/plain": [
       "<IPython.core.display.HTML object>"
      ]
     },
     "execution_count": 29,
     "metadata": {},
     "output_type": "execute_result"
    }
   ],
   "source": [
    "show(page())"
   ]
  },
  {
   "cell_type": "code",
   "execution_count": 30,
   "id": "22a8233b",
   "metadata": {},
   "outputs": [],
   "source": [
    "#| exports\n",
    "dashboard_homepage = page()"
   ]
  },
  {
   "cell_type": "code",
   "execution_count": 31,
   "id": "1992630d",
   "metadata": {},
   "outputs": [],
   "source": [
    "#| hide\n",
    "import nbdev; nbdev.nbdev_export()"
   ]
  }
 ],
 "metadata": {
  "kernelspec": {
   "display_name": "Python 3 (ipykernel)",
   "language": "python",
   "name": "python3"
  },
  "language_info": {
   "codemirror_mode": {
    "name": "ipython",
    "version": 3
   },
   "file_extension": ".py",
   "mimetype": "text/x-python",
   "name": "python",
   "nbconvert_exporter": "python",
   "pygments_lexer": "ipython3",
   "version": "3.11.9"
  },
  "toc": {
   "base_numbering": 1,
   "nav_menu": {},
   "number_sections": true,
   "sideBar": true,
   "skip_h1_title": false,
   "title_cell": "Table of Contents",
   "title_sidebar": "Contents",
   "toc_cell": false,
   "toc_position": {},
   "toc_section_display": true,
   "toc_window_display": false
  }
 },
 "nbformat": 4,
 "nbformat_minor": 5
}
