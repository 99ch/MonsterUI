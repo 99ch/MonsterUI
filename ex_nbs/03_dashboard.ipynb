{
 "cells": [
  {
   "cell_type": "markdown",
   "id": "bd49724c",
   "metadata": {},
   "source": [
    "# Dashboard\n",
    "\n",
    "> FrankenUI Dashboard Example"
   ]
  },
  {
   "cell_type": "code",
   "execution_count": 2,
   "id": "04abc944",
   "metadata": {},
   "outputs": [],
   "source": [
    "#| default_exp dashboard"
   ]
  },
  {
   "cell_type": "code",
   "execution_count": 3,
   "id": "cef92ebb",
   "metadata": {},
   "outputs": [],
   "source": [
    "#| export\n",
    "from fasthtml.common import *\n",
    "from fh_frankenui import *\n",
    "from fh_frankenui.core import *\n",
    "from fh_frankenui.components import *\n",
    "from fasthtml.svg import *\n",
    "from fh_matplotlib import matplotlib2fasthtml\n",
    "import numpy as np\n",
    "import matplotlib.pylab as plt"
   ]
  },
  {
   "cell_type": "code",
   "execution_count": 4,
   "id": "02ad7e62",
   "metadata": {},
   "outputs": [],
   "source": [
    "#| hide\n",
    "from nbdev.showdoc import *"
   ]
  },
  {
   "cell_type": "code",
   "execution_count": 5,
   "id": "f0f5477a",
   "metadata": {},
   "outputs": [
    {
     "data": {
      "text/html": [
       "<script src=\"https://cdn.tailwindcss.com\"></script>\n",
       "<script src=\"https://cdn.jsdelivr.net/npm/uikit@3.21.6/dist/js/uikit.min.js\"></script>\n",
       "<script src=\"https://cdn.jsdelivr.net/npm/uikit@3.21.6/dist/js/uikit-icons.min.js\"></script>\n",
       "<script type=\"module\" src=\"https://unpkg.com/franken-wc@0.0.6/dist/js/wc.iife.js\"></script>\n",
       "<link rel=\"stylesheet\" href=\"https://unpkg.com/franken-wc@0.0.6/dist/css/blue.min.css\">\n",
       "\n",
       "<style>\n",
       "#notebook-container { max-width: none; }\n",
       ".output_html * { list-style-type: none !important; }\n",
       "</style>\n"
      ],
      "text/plain": [
       "<IPython.core.display.HTML object>"
      ]
     },
     "metadata": {},
     "output_type": "display_data"
    }
   ],
   "source": [
    "%%html\n",
    "<script src=\"https://cdn.tailwindcss.com\"></script>\n",
    "<script src=\"https://cdn.jsdelivr.net/npm/uikit@3.21.6/dist/js/uikit.min.js\"></script>\n",
    "<script src=\"https://cdn.jsdelivr.net/npm/uikit@3.21.6/dist/js/uikit-icons.min.js\"></script>\n",
    "<script type=\"module\" src=\"https://unpkg.com/franken-wc@0.0.6/dist/js/wc.iife.js\"></script>\n",
    "<link rel=\"stylesheet\" href=\"https://unpkg.com/franken-wc@0.0.6/dist/css/blue.min.css\">\n",
    "\n",
    "<style>\n",
    "#notebook-container { max-width: none; }\n",
    ".output_html * { list-style-type: none !important; }\n",
    "</style>"
   ]
  },
  {
   "cell_type": "code",
   "execution_count": 6,
   "id": "90bd6d6a",
   "metadata": {},
   "outputs": [],
   "source": [
    "#| hide\n",
    "from fasthtml.jupyter import *\n",
    "from IPython.display import display, HTML\n",
    "\n",
    "\n",
    "if is_port_free(8000):\n",
    "    app, rt = fh.fast_app(pico=False, hdrs=Theme.blue.headers())\n",
    "    server = JupyUvi(app)\n",
    "app        \n",
    "def HShow(comp, app):\n",
    "    @app.get('/')\n",
    "    def get(): return comp\n",
    "\n",
    "    display(HTML(f'<a href=\"http://localhost:8000/\" target=\"_blank\">Open in new tab</a>'))\n",
    "    return HTMX(\"/\")\n",
    "\n",
    "Show = partial(HShow, app=app)"
   ]
  },
  {
   "cell_type": "code",
   "execution_count": 7,
   "id": "275f3643",
   "metadata": {},
   "outputs": [],
   "source": [
    "#| exports\n",
    "def InfoCard(title, value, change):\n",
    "    return Div(Card(\n",
    "             Div(H3(value),\n",
    "                P(change, cls=TextFont.muted_sm)),\n",
    "             header = H4(title)))"
   ]
  },
  {
   "cell_type": "code",
   "execution_count": 8,
   "id": "745555dc",
   "metadata": {},
   "outputs": [],
   "source": [
    "#| exports\n",
    "rev = InfoCard(\"Total Revenue\", \"$45,231.89\", \"+20.1% from last month\")\n",
    "sub = InfoCard(\"Subscriptions\", \"+2350\", \"+180.1% from last month\")\n",
    "sal = InfoCard(\"Sales\", \"+12,234\", \"+19% from last month\")\n",
    "act = InfoCard(\"Active Now\", \"+573\", \"+201 since last hour\")"
   ]
  },
  {
   "cell_type": "code",
   "execution_count": 9,
   "id": "96867f4f",
   "metadata": {},
   "outputs": [],
   "source": [
    "#| exports\n",
    "top_info_row = Grid(rev,sub,sal,act,cols=4, cls=GridT.small)"
   ]
  },
  {
   "cell_type": "code",
   "execution_count": 10,
   "id": "12f5bfdd",
   "metadata": {},
   "outputs": [
    {
     "data": {
      "text/html": [
       "<div class=\"grid grid-cols-4 uk-grid-small\">\n",
       "  <div>\n",
       "    <div class=\"uk-card \">\n",
       "      <div class=\"uk-card-header \">\n",
       "        <h4 class=\"uk-h4 \">Total Revenue</h4>\n",
       "      </div>\n",
       "      <div class=\"uk-card-body space-y-6\">\n",
       "        <div>\n",
       "          <h3 class=\"uk-h3 \">$45,231.89</h3>\n",
       "          <p class=\"uk-text-muted uk-text-small\">+20.1% from last month</p>\n",
       "        </div>\n",
       "      </div>\n",
       "    </div>\n",
       "  </div>\n",
       "  <div>\n",
       "    <div class=\"uk-card \">\n",
       "      <div class=\"uk-card-header \">\n",
       "        <h4 class=\"uk-h4 \">Subscriptions</h4>\n",
       "      </div>\n",
       "      <div class=\"uk-card-body space-y-6\">\n",
       "        <div>\n",
       "          <h3 class=\"uk-h3 \">+2350</h3>\n",
       "          <p class=\"uk-text-muted uk-text-small\">+180.1% from last month</p>\n",
       "        </div>\n",
       "      </div>\n",
       "    </div>\n",
       "  </div>\n",
       "  <div>\n",
       "    <div class=\"uk-card \">\n",
       "      <div class=\"uk-card-header \">\n",
       "        <h4 class=\"uk-h4 \">Sales</h4>\n",
       "      </div>\n",
       "      <div class=\"uk-card-body space-y-6\">\n",
       "        <div>\n",
       "          <h3 class=\"uk-h3 \">+12,234</h3>\n",
       "          <p class=\"uk-text-muted uk-text-small\">+19% from last month</p>\n",
       "        </div>\n",
       "      </div>\n",
       "    </div>\n",
       "  </div>\n",
       "  <div>\n",
       "    <div class=\"uk-card \">\n",
       "      <div class=\"uk-card-header \">\n",
       "        <h4 class=\"uk-h4 \">Active Now</h4>\n",
       "      </div>\n",
       "      <div class=\"uk-card-body space-y-6\">\n",
       "        <div>\n",
       "          <h3 class=\"uk-h3 \">+573</h3>\n",
       "          <p class=\"uk-text-muted uk-text-small\">+201 since last hour</p>\n",
       "        </div>\n",
       "      </div>\n",
       "    </div>\n",
       "  </div>\n",
       "</div>\n"
      ],
      "text/plain": [
       "<IPython.core.display.HTML object>"
      ]
     },
     "execution_count": 10,
     "metadata": {},
     "output_type": "execute_result"
    }
   ],
   "source": [
    "show(top_info_row)"
   ]
  },
  {
   "cell_type": "code",
   "execution_count": 11,
   "id": "98b733c2",
   "metadata": {},
   "outputs": [],
   "source": [
    "#| exports\n",
    "def AvatarItem(name, email, amount):\n",
    "    return Div(cls=\"flex items-center\")(\n",
    "        DiceBearAvatar(name, 9,9),\n",
    "        Div(cls=\"ml-4 space-y-1\")(\n",
    "            P(name, cls=TextFont.bold_sm),\n",
    "            P(email, cls=TextFont.muted_sm)),\n",
    "        Div(amount, cls=\"ml-auto font-medium\"))\n",
    "\n",
    "recent_sales = Card(\n",
    "    Div(cls=\"space-y-8\")(\n",
    "        *[AvatarItem(n,e,d) for (n,e,d) in (\n",
    "            (\"Olivia Martin\",   \"olivia.martin@email.com\",   \"+$1,999.00\"),\n",
    "            (\"Jackson Lee\",     \"jackson.lee@email.com\",     \"+$39.00\"),\n",
    "            (\"Isabella Nguyen\", \"isabella.nguyen@email.com\", \"+$299.00\"),\n",
    "            (\"William Kim\",     \"will@email.com\",            \"+$99.00\"),\n",
    "            (\"Sofia Davis\",     \"sofia.davis@email.com\",     \"+$39.00\"))]),\n",
    "    header=Div(\n",
    "        H3(\"Recent Sales\"),\n",
    "        P(\"You made 265 sales this month.\", cls=TextFont.muted_sm)),\n",
    "\n",
    "cls='lg:col-span-3')"
   ]
  },
  {
   "cell_type": "code",
   "execution_count": 12,
   "id": "3767a677",
   "metadata": {},
   "outputs": [],
   "source": [
    "#| exports\n",
    "@matplotlib2fasthtml\n",
    "def generate_chart(num_points):\n",
    "    plotdata = [np.random.exponential(1) for _ in range(num_points)]\n",
    "    plt.plot(range(len(plotdata)), plotdata)"
   ]
  },
  {
   "cell_type": "code",
   "execution_count": 13,
   "id": "d7a93876",
   "metadata": {
    "scrolled": true
   },
   "outputs": [
    {
     "data": {
      "text/html": [
       "<img src=\"data:image/jpg;base64, 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\">"
      ],
      "text/plain": [
       "<IPython.core.display.HTML object>"
      ]
     },
     "execution_count": 13,
     "metadata": {},
     "output_type": "execute_result"
    }
   ],
   "source": [
    "show(generate_chart(10))"
   ]
  },
  {
   "cell_type": "code",
   "execution_count": 14,
   "id": "c9f74172",
   "metadata": {},
   "outputs": [],
   "source": [
    "#| exports\n",
    "teams = [[\"Alicia Koch\"],['Acme Inc', 'Monster Inc.'],['Create a Team']]\n",
    "\n",
    "opt_hdrs = [\"Personal\", \"Team\", \"\"]\n",
    "\n",
    "team_dropdown = Select(\n",
    "    Optgroup(label=\"Personal Account\")(\n",
    "        Option(A(\"Alicia Koch\"))),\n",
    "    Optgroup(label=\"Teams\")(\n",
    "        Option(A(\"Acme Inc\")),\n",
    "        Option(A(\"Monster Inc.\"))),\n",
    "    Option(A(\"Create a Team\")))"
   ]
  },
  {
   "cell_type": "code",
   "execution_count": 15,
   "id": "845bc166",
   "metadata": {
    "scrolled": true
   },
   "outputs": [
    {
     "data": {
      "text/html": [
       "<a href=\"http://localhost:8000/\" target=\"_blank\">Open in new tab</a>"
      ],
      "text/plain": [
       "<IPython.core.display.HTML object>"
      ]
     },
     "metadata": {},
     "output_type": "display_data"
    },
    {
     "data": {
      "text/html": [
       "<iframe src=\"http://localhost:8000/\" style=\"width: 100%; height: auto; border: none;\" onload=\"{\n",
       "        let frame = this;\n",
       "        window.addEventListener('message', function(e) {\n",
       "            if (e.data.height) frame.style.height = (e.data.height+1) + 'px';\n",
       "        }, false);\n",
       "    }\" allow=\"accelerometer; autoplay; camera; clipboard-read; clipboard-write; display-capture; encrypted-media; fullscreen; gamepad; geolocation; gyroscope; hid; identity-credentials-get; idle-detection; magnetometer; microphone; midi; payment; picture-in-picture; publickey-credentials-get; screen-wake-lock; serial; usb; web-share; xr-spatial-tracking\"></iframe> "
      ],
      "text/plain": [
       "<IPython.core.display.HTML object>"
      ]
     },
     "execution_count": 15,
     "metadata": {},
     "output_type": "execute_result"
    }
   ],
   "source": [
    "Show(team_dropdown)"
   ]
  },
  {
   "cell_type": "code",
   "execution_count": 23,
   "id": "b91ef344",
   "metadata": {},
   "outputs": [],
   "source": [
    "#| exports\n",
    "hotkeys = [('Profile','⇧⌘P'),('Billing','⌘B'),('Settings','⌘S'),('New Team', ''), ('Logout', '')]\n",
    "\n",
    "def NavSpacedLi(t,s): return NavCloseLi(A(FullySpacedDiv(P(t),P(s,cls=TextFont.muted_sm))))\n",
    "\n",
    "avatar_dropdown = Div(\n",
    "      DiceBearAvatar('Alicia Koch',8,8),\n",
    "      DropDownNavContainer(\n",
    "          NavHeaderLi('sveltecult',NavSubtitle(\"leader@sveltecult.com\")),\n",
    "          *[NavSpacedLi(*hk) for hk in hotkeys],))"
   ]
  },
  {
   "cell_type": "code",
   "execution_count": 24,
   "id": "6ca923da",
   "metadata": {
    "scrolled": false
   },
   "outputs": [
    {
     "data": {
      "text/html": [
       "<a href=\"http://localhost:8000/\" target=\"_blank\">Open in new tab</a>"
      ],
      "text/plain": [
       "<IPython.core.display.HTML object>"
      ]
     },
     "metadata": {},
     "output_type": "display_data"
    },
    {
     "data": {
      "text/html": [
       "<iframe src=\"http://localhost:8000/\" style=\"width: 100%; height: auto; border: none;\" onload=\"{\n",
       "        let frame = this;\n",
       "        window.addEventListener('message', function(e) {\n",
       "            if (e.data.height) frame.style.height = (e.data.height+1) + 'px';\n",
       "        }, false);\n",
       "    }\" allow=\"accelerometer; autoplay; camera; clipboard-read; clipboard-write; display-capture; encrypted-media; fullscreen; gamepad; geolocation; gyroscope; hid; identity-credentials-get; idle-detection; magnetometer; microphone; midi; payment; picture-in-picture; publickey-credentials-get; screen-wake-lock; serial; usb; web-share; xr-spatial-tracking\"></iframe> "
      ],
      "text/plain": [
       "<IPython.core.display.HTML object>"
      ]
     },
     "execution_count": 24,
     "metadata": {},
     "output_type": "execute_result"
    }
   ],
   "source": [
    "Show(avatar_dropdown)"
   ]
  },
  {
   "cell_type": "code",
   "execution_count": 41,
   "id": "6ab9708c",
   "metadata": {},
   "outputs": [],
   "source": [
    "#| exports\n",
    "top_nav = NavBarContainer(\n",
    "            NavBarLSide(\n",
    "                NavBarNav(\n",
    "                   team_dropdown, \n",
    "                   Li(A(\"Overview\")), \n",
    "                   Li(A(\"Customers\")), \n",
    "                   Li(A(\"Products\")), \n",
    "                   Li(A(\"Settings\")),\n",
    "                cls='flex items-center'\n",
    "                )),\n",
    "            NavBarRSide(\n",
    "                NavBarNav(\n",
    "                   Input(placeholder='Search'), \n",
    "                   avatar_dropdown,\n",
    "                   cls='flex items-center')))"
   ]
  },
  {
   "cell_type": "code",
   "execution_count": 42,
   "id": "5d4b0feb",
   "metadata": {
    "scrolled": true
   },
   "outputs": [
    {
     "data": {
      "text/html": [
       "<a href=\"http://localhost:8000/\" target=\"_blank\">Open in new tab</a>"
      ],
      "text/plain": [
       "<IPython.core.display.HTML object>"
      ]
     },
     "metadata": {},
     "output_type": "display_data"
    },
    {
     "data": {
      "text/html": [
       "<iframe src=\"http://localhost:8000/\" style=\"width: 100%; height: auto; border: none;\" onload=\"{\n",
       "        let frame = this;\n",
       "        window.addEventListener('message', function(e) {\n",
       "            if (e.data.height) frame.style.height = (e.data.height+1) + 'px';\n",
       "        }, false);\n",
       "    }\" allow=\"accelerometer; autoplay; camera; clipboard-read; clipboard-write; display-capture; encrypted-media; fullscreen; gamepad; geolocation; gyroscope; hid; identity-credentials-get; idle-detection; magnetometer; microphone; midi; payment; picture-in-picture; publickey-credentials-get; screen-wake-lock; serial; usb; web-share; xr-spatial-tracking\"></iframe> "
      ],
      "text/plain": [
       "<IPython.core.display.HTML object>"
      ]
     },
     "execution_count": 42,
     "metadata": {},
     "output_type": "execute_result"
    }
   ],
   "source": [
    "Show(top_nav)"
   ]
  },
  {
   "cell_type": "code",
   "execution_count": 62,
   "id": "a7002b4e",
   "metadata": {},
   "outputs": [],
   "source": [
    "#| exports\n",
    "def page():\n",
    "    return Div(cls=\"space-y-4\")(\n",
    "        Div(cls=\"border-b border-border px-4\")(top_nav),\n",
    "        H2('Dashboard'),\n",
    "        TabContainer(\n",
    "            Li(A(\"Overview\")),\n",
    "            Li(A(\"Analytics\")),\n",
    "            Li(A(\"Reports\")),\n",
    "            Li(A(\"Notifications\")),\n",
    "            alt=True),\n",
    "\n",
    "        top_info_row,\n",
    "        Grid(Card(generate_chart(10),cls='lg:col-span-4'),\n",
    "            recent_sales,\n",
    "            gap=4,cls='lg:grid-cols-7'))"
   ]
  },
  {
   "cell_type": "code",
   "execution_count": 63,
   "id": "22a8233b",
   "metadata": {},
   "outputs": [],
   "source": [
    "#| exports\n",
    "dashboard_homepage = page()"
   ]
  },
  {
   "cell_type": "code",
   "execution_count": 65,
   "id": "4d313db9",
   "metadata": {},
   "outputs": [],
   "source": [
    "# Show(dashboard_homepage)"
   ]
  },
  {
   "cell_type": "code",
   "execution_count": 19,
   "id": "1992630d",
   "metadata": {},
   "outputs": [],
   "source": [
    "#| hide\n",
    "import nbdev; nbdev.nbdev_export()"
   ]
  },
  {
   "cell_type": "code",
   "execution_count": null,
   "id": "17de0e5f",
   "metadata": {},
   "outputs": [],
   "source": []
  }
 ],
 "metadata": {
  "kernelspec": {
   "display_name": "Python 3 (ipykernel)",
   "language": "python",
   "name": "python3"
  },
  "language_info": {
   "codemirror_mode": {
    "name": "ipython",
    "version": 3
   },
   "file_extension": ".py",
   "mimetype": "text/x-python",
   "name": "python",
   "nbconvert_exporter": "python",
   "pygments_lexer": "ipython3",
   "version": "3.12.4"
  },
  "toc": {
   "base_numbering": 1,
   "nav_menu": {},
   "number_sections": true,
   "sideBar": true,
   "skip_h1_title": false,
   "title_cell": "Table of Contents",
   "title_sidebar": "Contents",
   "toc_cell": false,
   "toc_position": {},
   "toc_section_display": true,
   "toc_window_display": false
  }
 },
 "nbformat": 4,
 "nbformat_minor": 5
}
