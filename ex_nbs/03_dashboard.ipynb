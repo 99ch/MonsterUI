{
 "cells": [
  {
   "cell_type": "markdown",
   "id": "bd49724c",
   "metadata": {},
   "source": [
    "# Dashboard\n",
    "\n",
    "> FrankenUI Dashboard Example"
   ]
  },
  {
   "cell_type": "code",
   "execution_count": 91,
   "id": "04abc944",
   "metadata": {},
   "outputs": [],
   "source": [
    "#| default_exp dashboard"
   ]
  },
  {
   "cell_type": "code",
   "execution_count": 92,
   "id": "cef92ebb",
   "metadata": {},
   "outputs": [],
   "source": [
    "#| export\n",
    "from fasthtml.common import *\n",
    "from fh_frankenui.components import *\n",
    "from fasthtml.svg import *\n",
    "from fh_matplotlib import matplotlib2fasthtml\n",
    "import numpy as np\n",
    "import matplotlib.pylab as plt"
   ]
  },
  {
   "cell_type": "code",
   "execution_count": 93,
   "id": "02ad7e62",
   "metadata": {},
   "outputs": [],
   "source": [
    "#| hide\n",
    "from nbdev.showdoc import *"
   ]
  },
  {
   "cell_type": "code",
   "execution_count": null,
   "id": "cfa8905d",
   "metadata": {},
   "outputs": [],
   "source": []
  },
  {
   "cell_type": "code",
   "execution_count": 94,
   "id": "f0f5477a",
   "metadata": {},
   "outputs": [
    {
     "data": {
      "text/html": [
       "<script src=\"https://cdn.tailwindcss.com\"></script>\n",
       "<script src=\"https://cdn.jsdelivr.net/npm/uikit@3.21.6/dist/js/uikit.min.js\"></script>\n",
       "<script src=\"https://cdn.jsdelivr.net/npm/uikit@3.21.6/dist/js/uikit-icons.min.js\"></script>\n",
       "<script type=\"module\" src=\"https://unpkg.com/franken-wc@0.0.6/dist/js/wc.iife.js\"></script>\n",
       "<link rel=\"stylesheet\" href=\"https://unpkg.com/franken-wc@0.0.6/dist/css/blue.min.css\">\n",
       "\n",
       "<style>\n",
       "#notebook-container { max-width: none; }\n",
       ".output_html * { list-style-type: none !important; }\n",
       "</style>\n"
      ],
      "text/plain": [
       "<IPython.core.display.HTML object>"
      ]
     },
     "metadata": {},
     "output_type": "display_data"
    }
   ],
   "source": [
    "%%html\n",
    "<script src=\"https://cdn.tailwindcss.com\"></script>\n",
    "<script src=\"https://cdn.jsdelivr.net/npm/uikit@3.21.6/dist/js/uikit.min.js\"></script>\n",
    "<script src=\"https://cdn.jsdelivr.net/npm/uikit@3.21.6/dist/js/uikit-icons.min.js\"></script>\n",
    "<script type=\"module\" src=\"https://unpkg.com/franken-wc@0.0.6/dist/js/wc.iife.js\"></script>\n",
    "<link rel=\"stylesheet\" href=\"https://unpkg.com/franken-wc@0.0.6/dist/css/blue.min.css\">\n",
    "\n",
    "<style>\n",
    "#notebook-container { max-width: none; }\n",
    ".output_html * { list-style-type: none !important; }\n",
    "</style>"
   ]
  },
  {
   "cell_type": "code",
   "execution_count": 95,
   "id": "19ba6675",
   "metadata": {},
   "outputs": [],
   "source": [
    "from httpx import get\n",
    "url = 'https://raw.githubusercontent.com/AnswerDotAI/fh-frankenui/main/fh_frankenui/components.py?token=###'\n",
    "fh_frankenui = get(url).text\n",
    "\n",
    "url = 'https://raw.githubusercontent.com/franken-ui/examples/master/src/pages/dashboard.astro'\n",
    "dashboard = get(url).text\n",
    "\n",
    "url = 'https://raw.githubusercontent.com/franken-ui/examples/master/src/pages/cards.astro'\n",
    "cards = get(url).text\n",
    "\n",
    "url = 'https://github.com/AnswerDotAI/fh-frankenui-examples/blob/main/fh_frankenui_examples/cards.py'\n",
    "cards_in_python = get(url).text\n",
    "\n",
    "url = 'https://github.com/AnswerDotAI/fh-frankenui-examples/blob/main/fh_frankenui_examples/tasks.py'\n",
    "tasks_in_python = get(url).text\n",
    "\n",
    "url = 'https://raw.githubusercontent.com/AnswerDotAI/fasthtml/main/examples/adv_app.py'\n",
    "idiomatic_fasthtml_app = get(url).text\n"
   ]
  },
  {
   "cell_type": "code",
   "execution_count": 96,
   "id": "d382f5d5",
   "metadata": {},
   "outputs": [],
   "source": [
    "%%ai 0 -c\n",
    "\n",
    "I am implementing FrankenUI for FastHTML by reimplementing the FrankenUI examples from their docs in a python library.  I am doing this by building a library as I go, `fh_frankenui`.\n",
    "\n",
    "Reference the `idiomatic_fasthtml_app` to get a feel for fasthtml.\n",
    "\n",
    "I previously did their `cards` example, and the python implementation looked like `cards_in_python`.\n",
    "\n",
    "Now, I am looking to do the same with their `dashboard` example.\n",
    "\n",
    "The goal is to develop the work-in-progress `fh_frankenui` library, so please use `fh_frankenui` as much as makes sense and recommend functions or improvements to `fh_frankenui` when it fits.\n",
    "\n",
    "Please read all this information and confirm that you understand what I want to do by giving me a brief overview in your own words.  \n"
   ]
  },
  {
   "cell_type": "markdown",
   "id": "66a588e6",
   "metadata": {},
   "source": [
    "I understand that you're developing a Python library called `fh_frankenui` to implement FrankenUI components for FastHTML. You've already completed the 'cards' example and are now working on the 'dashboard' example. Your goal is to translate the FrankenUI dashboard example from Astro/HTML to Python using FastHTML and your `fh_frankenui` library.\n",
    "\n",
    "You want me to help you implement the dashboard example in Python, utilizing and expanding the `fh_frankenui` library as needed. You're looking for suggestions on new functions or improvements to the library that might be useful for this implementation. The process should be similar to how you translated the 'cards' example previously.\n",
    "\n",
    "You've provided references to an idiomatic FastHTML app, the original FrankenUI dashboard example, and your previous work on the cards example to guide this process.\n",
    "\n",
    "<task>Okay great.  Let's start by implementing the header section of the dashboard.  This includes the navbar with the dropdown, links, search bar, and user menu.  Please implement this section in Python using FastHTML and fh_frankenui.</task>"
   ]
  },
  {
   "cell_type": "code",
   "execution_count": 97,
   "id": "b8ed7a67",
   "metadata": {},
   "outputs": [],
   "source": [
    "%%aip 0\n",
    "\n",
    "I want a flexible function that can generate the top row of cards that all share the same general format"
   ]
  },
  {
   "cell_type": "code",
   "execution_count": 98,
   "id": "275f3643",
   "metadata": {},
   "outputs": [],
   "source": [
    "#| exports\n",
    "def InfoCard(title, value, change):\n",
    "    return Card(\n",
    "             Div(UkH3(value),\n",
    "                P(change, cls=TextT.muted_sm)),\n",
    "             header = UkH4(title),)"
   ]
  },
  {
   "cell_type": "code",
   "execution_count": 99,
   "id": "45c602c4",
   "metadata": {},
   "outputs": [],
   "source": [
    "%%aip 0\n",
    "Use the `InfoCard` function to create the top row of cards - each one in a variable (rev,sub,sal,act)."
   ]
  },
  {
   "cell_type": "code",
   "execution_count": 100,
   "id": "745555dc",
   "metadata": {},
   "outputs": [],
   "source": [
    "#| exports\n",
    "rev = InfoCard(\"Total Revenue\", \"$45,231.89\", \"+20.1% from last month\")\n",
    "sub = InfoCard(\"Subscriptions\", \"+2350\", \"+180.1% from last month\")\n",
    "sal = InfoCard(\"Sales\", \"+12,234\", \"+19% from last month\")\n",
    "act = InfoCard(\"Active Now\", \"+573\", \"+201 since last hour\")"
   ]
  },
  {
   "cell_type": "code",
   "execution_count": 101,
   "id": "96867f4f",
   "metadata": {},
   "outputs": [],
   "source": [
    "#| exports\n",
    "top_info_row = Div(cls='grid grid-cols-2 gap-4 lg:grid-cols-4')(rev,sub,sal,act)"
   ]
  },
  {
   "cell_type": "code",
   "execution_count": 102,
   "id": "76a4a138",
   "metadata": {},
   "outputs": [
    {
     "data": {
      "text/html": [
       "<div class=\"grid grid-cols-2 gap-4 lg:grid-cols-4\">\n",
       "  <div class=\"uk-card \">\n",
       "    <div class=\"uk-card-header \">\n",
       "      <h4 class=\"uk-h4\">Total Revenue</h4>\n",
       "    </div>\n",
       "    <div class=\"uk-card-body space-y-6\">\n",
       "      <div>\n",
       "        <h3 class=\"uk-h3\">$45,231.89</h3>\n",
       "        <p class=\"text-sm uk-text-muted\">+20.1% from last month</p>\n",
       "      </div>\n",
       "    </div>\n",
       "  </div>\n",
       "  <div class=\"uk-card \">\n",
       "    <div class=\"uk-card-header \">\n",
       "      <h4 class=\"uk-h4\">Subscriptions</h4>\n",
       "    </div>\n",
       "    <div class=\"uk-card-body space-y-6\">\n",
       "      <div>\n",
       "        <h3 class=\"uk-h3\">+2350</h3>\n",
       "        <p class=\"text-sm uk-text-muted\">+180.1% from last month</p>\n",
       "      </div>\n",
       "    </div>\n",
       "  </div>\n",
       "  <div class=\"uk-card \">\n",
       "    <div class=\"uk-card-header \">\n",
       "      <h4 class=\"uk-h4\">Sales</h4>\n",
       "    </div>\n",
       "    <div class=\"uk-card-body space-y-6\">\n",
       "      <div>\n",
       "        <h3 class=\"uk-h3\">+12,234</h3>\n",
       "        <p class=\"text-sm uk-text-muted\">+19% from last month</p>\n",
       "      </div>\n",
       "    </div>\n",
       "  </div>\n",
       "  <div class=\"uk-card \">\n",
       "    <div class=\"uk-card-header \">\n",
       "      <h4 class=\"uk-h4\">Active Now</h4>\n",
       "    </div>\n",
       "    <div class=\"uk-card-body space-y-6\">\n",
       "      <div>\n",
       "        <h3 class=\"uk-h3\">+573</h3>\n",
       "        <p class=\"text-sm uk-text-muted\">+201 since last hour</p>\n",
       "      </div>\n",
       "    </div>\n",
       "  </div>\n",
       "</div>\n"
      ],
      "text/plain": [
       "<IPython.core.display.HTML object>"
      ]
     },
     "execution_count": 102,
     "metadata": {},
     "output_type": "execute_result"
    }
   ],
   "source": [
    "show(top_info_row)"
   ]
  },
  {
   "cell_type": "code",
   "execution_count": 103,
   "id": "ee500a1b",
   "metadata": {},
   "outputs": [],
   "source": [
    "%%aip 0\n",
    "\n",
    "Let's create the card with the avatars next.  Be sure to reference similar examples from `cards_in_python` to make it as simple as possible.\n",
    "\n",
    "I don't need an exact recreation so if UkH3 or UkH4 is close enough (like I did previously) then that's fine"
   ]
  },
  {
   "cell_type": "code",
   "execution_count": 104,
   "id": "d518a3e0",
   "metadata": {},
   "outputs": [
    {
     "data": {
      "text/html": [
       "<span class=\"relative flex h-12 w-12 shrink-0 overflow-hidden rounded-full bg-accent\"><img alt=\"Avatar\" src=\"https://api.dicebear.com/8.x/lorelei/svg?seed=Isaac Flath\" class=\"aspect-square h-full w-full\"></span>"
      ],
      "text/plain": [
       "<IPython.core.display.HTML object>"
      ]
     },
     "execution_count": 104,
     "metadata": {},
     "output_type": "execute_result"
    }
   ],
   "source": [
    "#| export\n",
    "def DiceBearAvatar(seed_name, h, w):\n",
    "    # Number that work can be found here (not all numbers work): https://tailwindcss.com/docs/height\n",
    "    return Span(cls=f\"relative flex h-{h} w-{w} shrink-0 overflow-hidden rounded-full bg-accent\")(\n",
    "            Img(cls=\"aspect-square h-full w-full\", alt=\"Avatar\", src=f\"https://api.dicebear.com/8.x/lorelei/svg?seed={seed_name}\"))\n",
    "    \n",
    "show(DiceBearAvatar('Isaac Flath', 12,12))"
   ]
  },
  {
   "cell_type": "code",
   "execution_count": 105,
   "id": "98b733c2",
   "metadata": {},
   "outputs": [],
   "source": [
    "#| exports\n",
    "def AvatarItem(name, email, amount):\n",
    "    return Div(cls=\"flex items-center\")(\n",
    "        DiceBearAvatar(name, 9,9),\n",
    "        Div(cls=\"ml-4 space-y-1\")(\n",
    "            P(name, cls=TextT.medium_sm),\n",
    "            P(email, cls=TextT.muted_sm)),\n",
    "        Div(amount, cls=\"ml-auto font-medium\"))\n",
    "\n",
    "\n",
    "\n",
    "recent_sales = Card(\n",
    "    Div(cls=\"space-y-8\")(\n",
    "        *[AvatarItem(n,e,d) for (n,e,d) in (\n",
    "            (\"Olivia Martin\",   \"olivia.martin@email.com\",   \"+$1,999.00\"),\n",
    "            (\"Jackson Lee\",     \"jackson.lee@email.com\",     \"+$39.00\"),\n",
    "            (\"Isabella Nguyen\", \"isabella.nguyen@email.com\", \"+$299.00\"),\n",
    "            (\"William Kim\",     \"will@email.com\",            \"+$99.00\"),\n",
    "            (\"Sofia Davis\",     \"sofia.davis@email.com\",     \"+$39.00\"))]),\n",
    "    header=Div(\n",
    "        UkH3(\"Recent Sales\"),\n",
    "        P(\"You made 265 sales this month.\", cls=TextT.muted_sm)))"
   ]
  },
  {
   "cell_type": "code",
   "execution_count": 106,
   "id": "1e9fff9f",
   "metadata": {},
   "outputs": [
    {
     "data": {
      "text/html": [
       "<div class=\"uk-card \">\n",
       "  <div class=\"uk-card-header \">\n",
       "    <div>\n",
       "      <h3 class=\"uk-h3\">Recent Sales</h3>\n",
       "      <p class=\"text-sm uk-text-muted\">You made 265 sales this month.</p>\n",
       "    </div>\n",
       "  </div>\n",
       "  <div class=\"uk-card-body space-y-6\">\n",
       "    <div class=\"space-y-8\">\n",
       "      <div class=\"flex items-center\">\n",
       "<span class=\"relative flex h-9 w-9 shrink-0 overflow-hidden rounded-full bg-accent\"><img alt=\"Avatar\" src=\"https://api.dicebear.com/8.x/lorelei/svg?seed=Olivia Martin\" class=\"aspect-square h-full w-full\"></span>        <div class=\"ml-4 space-y-1\">\n",
       "          <p class=\"text-sm font-medium\">Olivia Martin</p>\n",
       "          <p class=\"text-sm uk-text-muted\">olivia.martin@email.com</p>\n",
       "        </div>\n",
       "        <div class=\"ml-auto font-medium\">+$1,999.00</div>\n",
       "      </div>\n",
       "      <div class=\"flex items-center\">\n",
       "<span class=\"relative flex h-9 w-9 shrink-0 overflow-hidden rounded-full bg-accent\"><img alt=\"Avatar\" src=\"https://api.dicebear.com/8.x/lorelei/svg?seed=Jackson Lee\" class=\"aspect-square h-full w-full\"></span>        <div class=\"ml-4 space-y-1\">\n",
       "          <p class=\"text-sm font-medium\">Jackson Lee</p>\n",
       "          <p class=\"text-sm uk-text-muted\">jackson.lee@email.com</p>\n",
       "        </div>\n",
       "        <div class=\"ml-auto font-medium\">+$39.00</div>\n",
       "      </div>\n",
       "      <div class=\"flex items-center\">\n",
       "<span class=\"relative flex h-9 w-9 shrink-0 overflow-hidden rounded-full bg-accent\"><img alt=\"Avatar\" src=\"https://api.dicebear.com/8.x/lorelei/svg?seed=Isabella Nguyen\" class=\"aspect-square h-full w-full\"></span>        <div class=\"ml-4 space-y-1\">\n",
       "          <p class=\"text-sm font-medium\">Isabella Nguyen</p>\n",
       "          <p class=\"text-sm uk-text-muted\">isabella.nguyen@email.com</p>\n",
       "        </div>\n",
       "        <div class=\"ml-auto font-medium\">+$299.00</div>\n",
       "      </div>\n",
       "      <div class=\"flex items-center\">\n",
       "<span class=\"relative flex h-9 w-9 shrink-0 overflow-hidden rounded-full bg-accent\"><img alt=\"Avatar\" src=\"https://api.dicebear.com/8.x/lorelei/svg?seed=William Kim\" class=\"aspect-square h-full w-full\"></span>        <div class=\"ml-4 space-y-1\">\n",
       "          <p class=\"text-sm font-medium\">William Kim</p>\n",
       "          <p class=\"text-sm uk-text-muted\">will@email.com</p>\n",
       "        </div>\n",
       "        <div class=\"ml-auto font-medium\">+$99.00</div>\n",
       "      </div>\n",
       "      <div class=\"flex items-center\">\n",
       "<span class=\"relative flex h-9 w-9 shrink-0 overflow-hidden rounded-full bg-accent\"><img alt=\"Avatar\" src=\"https://api.dicebear.com/8.x/lorelei/svg?seed=Sofia Davis\" class=\"aspect-square h-full w-full\"></span>        <div class=\"ml-4 space-y-1\">\n",
       "          <p class=\"text-sm font-medium\">Sofia Davis</p>\n",
       "          <p class=\"text-sm uk-text-muted\">sofia.davis@email.com</p>\n",
       "        </div>\n",
       "        <div class=\"ml-auto font-medium\">+$39.00</div>\n",
       "      </div>\n",
       "    </div>\n",
       "  </div>\n",
       "</div>\n"
      ],
      "text/plain": [
       "<IPython.core.display.HTML object>"
      ]
     },
     "execution_count": 106,
     "metadata": {},
     "output_type": "execute_result"
    }
   ],
   "source": [
    "show(recent_sales)"
   ]
  },
  {
   "cell_type": "code",
   "execution_count": 107,
   "id": "3767a677",
   "metadata": {},
   "outputs": [],
   "source": [
    "#| exports\n",
    "@matplotlib2fasthtml\n",
    "def generate_chart(num_points):\n",
    "    plotdata = [np.random.exponential(1) for _ in range(num_points)]\n",
    "    plt.plot(range(len(plotdata)), plotdata)"
   ]
  },
  {
   "cell_type": "code",
   "execution_count": 108,
   "id": "d7a93876",
   "metadata": {},
   "outputs": [
    {
     "data": {
      "text/html": [
       "<img src=\"data:image/jpg;base64, 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\">"
      ],
      "text/plain": [
       "<IPython.core.display.HTML object>"
      ]
     },
     "execution_count": 108,
     "metadata": {},
     "output_type": "execute_result"
    }
   ],
   "source": [
    "show(generate_chart(10))"
   ]
  },
  {
   "cell_type": "code",
   "execution_count": 109,
   "id": "12f0df9e",
   "metadata": {},
   "outputs": [],
   "source": [
    "%%aip 0\n",
    "Now let's make the top navigation section with \"Overview\", \"Analytics\", \"Reports\", \"Notifications\" tables that use their own functions"
   ]
  },
  {
   "cell_type": "code",
   "execution_count": 110,
   "id": "a9290026",
   "metadata": {},
   "outputs": [
    {
     "data": {
      "text/html": [
       "<ul class=\"uk-tab-alt max-w-96\">\n",
       "  <li class=\" \">\n",
       "<a href=\"#demo\" uk-toggle>Overview</a>  </li>\n",
       "  <li class=\" \">\n",
       "<a href=\"#demo\" uk-toggle>Analytics</a>  </li>\n",
       "  <li class=\" \">\n",
       "<a href=\"#demo\" uk-toggle>Reports</a>  </li>\n",
       "  <li class=\" \">\n",
       "<a href=\"#demo\" uk-toggle>Notifications</a>  </li>\n",
       "</ul>\n"
      ],
      "text/plain": [
       "<IPython.core.display.HTML object>"
      ]
     },
     "execution_count": 110,
     "metadata": {},
     "output_type": "execute_result"
    }
   ],
   "source": [
    "#| exports\n",
    "def NavTab(text, active=False):\n",
    "    return Li(cls=\"uk-active\" if active else \" \")(\n",
    "        A(text, href=\"#demo\", uk_toggle=True))\n",
    "\n",
    "def UkTab(*items):\n",
    "    return Ul(cls=\"uk-tab-alt max-w-96\")(\n",
    "        *[NavTab(item) for i, item in enumerate(items)])\n",
    "\n",
    "db_nav = UkTab(\"Overview\", \"Analytics\", \"Reports\", \"Notifications\")\n",
    "show(db_nav)"
   ]
  },
  {
   "cell_type": "code",
   "execution_count": 111,
   "id": "7fc67843",
   "metadata": {},
   "outputs": [],
   "source": [
    "%%aip 0\n",
    "Now let's make the top navigation section with \"Overview\", \"Customers\", \"products\", \"Settings\" tabs that use their own functions, with the name/teams dropdown too\n",
    "\n",
    "For the dropdown use either `UkDropdownButton` or `UkSelect` - remember it doesn't need to perfectly match - just look pretty decent and be very simple code."
   ]
  },
  {
   "cell_type": "code",
   "execution_count": 112,
   "id": "c9f74172",
   "metadata": {},
   "outputs": [],
   "source": [
    "#| exports\n",
    "def UkNavBar(*items):\n",
    "    return Ul(cls=\"uk-navbar-nav gap-x-4 lg:gap-x-6\")(\n",
    "        *[NavTab(item) for i, item in enumerate(items)])\n",
    "\n",
    "team_dropdown = UkDropdownButton(\"Alicia Koch\", options = (\"Alicia Koch\",\"Acme Inc\",\"Monster Inc.\",\"Create a Team\"))"
   ]
  },
  {
   "cell_type": "code",
   "execution_count": 113,
   "id": "25e198f8",
   "metadata": {},
   "outputs": [],
   "source": [
    "top_nav = Div(cls=\"uk-navbar-left gap-x-4 lg:gap-x-6\")(\n",
    "    team_dropdown,\n",
    "    UkNavBar(\"Overview\", \"Customers\", \"Products\", \"Settings\"),\n",
    "    UkInput(placeholder='Search'),)"
   ]
  },
  {
   "cell_type": "code",
   "execution_count": 114,
   "id": "84495599",
   "metadata": {},
   "outputs": [
    {
     "data": {
      "text/html": [
       "<div class=\"uk-navbar-left gap-x-4 lg:gap-x-6\">\n",
       "  <divdiv>\n",
       "    <div class=\"flex items-center space-x-4\">\n",
       "<button type=\"button\" class=\"uk-button uk-button-default\">Alicia Koch<span uk-icon=\"icon: triangle-down\"></span></button>      <div uk-drop=\"mode: click; pos: bottom-right\" class=\"uk-dropdown uk-drop\">\n",
       "        <ul class=\"uk-dropdown-nav\">\n",
       "          <li class=\"uk-nav-divider\"></li>\n",
       "          <li>\n",
       "<a href=\"#demo\" uk-toggle role=\"button\" class=\"uk-drop-close w-full \">Alicia Koch</a><a href=\"#demo\" uk-toggle role=\"button\" class=\"uk-drop-close w-full \">Acme Inc</a><a href=\"#demo\" uk-toggle role=\"button\" class=\"uk-drop-close w-full \">Monster Inc.</a><a href=\"#demo\" uk-toggle role=\"button\" class=\"uk-drop-close w-full \">Create a Team</a>          </li>\n",
       "        </ul>\n",
       "      </div>\n",
       "    </div>\n",
       "  </div>\n",
       "  <ul class=\"uk-navbar-nav gap-x-4 lg:gap-x-6\">\n",
       "    <li class=\" \">\n",
       "<a href=\"#demo\" uk-toggle>Overview</a>    </li>\n",
       "    <li class=\" \">\n",
       "<a href=\"#demo\" uk-toggle>Customers</a>    </li>\n",
       "    <li class=\" \">\n",
       "<a href=\"#demo\" uk-toggle>Products</a>    </li>\n",
       "    <li class=\" \">\n",
       "<a href=\"#demo\" uk-toggle>Settings</a>    </li>\n",
       "  </ul>\n",
       "  <div class=\"space-y-2\">\n",
       "    <input placeholder=\"Search\" class=\"uk-input\">\n",
       "  </div>\n",
       "</div>\n"
      ],
      "text/plain": [
       "<IPython.core.display.HTML object>"
      ]
     },
     "execution_count": 114,
     "metadata": {},
     "output_type": "execute_result"
    }
   ],
   "source": [
    "show(top_nav)"
   ]
  },
  {
   "cell_type": "code",
   "execution_count": 115,
   "id": "6ca923da",
   "metadata": {},
   "outputs": [
    {
     "data": {
      "text/html": [
       "<divdiv>\n",
       "  <div class=\"flex items-center space-x-4\">\n",
       "<button type=\"button\" class=\"uk-button uk-button-default\"><a href=\"#\" class=\"h-8 w-8 inline-flex rounded-full bg-accent ring-ring\"><img src=\"https://api.dicebear.com/8.x/lorelei/svg?seed=Alicia Koch\"></a><span uk-icon=\"icon: triangle-down\"></span></button>    <div uk-drop=\"mode: click; pos: bottom-right\" class=\"uk-dropdown uk-drop\">\n",
       "      <ul class=\"uk-dropdown-nav\">\n",
       "        <li class=\"uk-nav-divider\"></li>\n",
       "        <li>\n",
       "<a href=\"#demo\" uk-toggle role=\"button\" class=\"uk-drop-close w-full \">            <div class=\"flex flex-col space-y-1\">\n",
       "              <p>Alicia Koch</p>\n",
       "              <p class=\"text-sm uk-text-muted\">alicia@example.com</p>\n",
       "            </div>\n",
       "</a><a href=\"#demo\" uk-toggle role=\"button\" class=\"uk-drop-close w-full \">Profile⇧⌘P</a><a href=\"#demo\" uk-toggle role=\"button\" class=\"uk-drop-close w-full \">Billing⌘B</a><a href=\"#demo\" uk-toggle role=\"button\" class=\"uk-drop-close w-full \">Settings⌘S</a><a href=\"#demo\" uk-toggle role=\"button\" class=\"uk-drop-close w-full \">New Team</a><a href=\"#demo\" uk-toggle role=\"button\" class=\"uk-drop-close w-full \">Logout</a>        </li>\n",
       "      </ul>\n",
       "    </div>\n",
       "  </div>\n",
       "</div>\n"
      ],
      "text/plain": [
       "<IPython.core.display.HTML object>"
      ]
     },
     "execution_count": 115,
     "metadata": {},
     "output_type": "execute_result"
    }
   ],
   "source": [
    "#| exports\n",
    "hotkeys = (('Profile','⇧⌘P'), ('Billing','⌘B'), ('Settings','⌘S'), ('New Team',''), ('Logout',''))\n",
    "user = (Div(cls='flex flex-col space-y-1')(P('Alicia Koch'),P('alicia@example.com',cls=TextT.muted_sm)),)\n",
    "avatar = A(href='#', cls='h-8 w-8 inline-flex rounded-full bg-accent ring-ring')(Img(src='https://api.dicebear.com/8.x/lorelei/svg?seed=Alicia Koch'))\n",
    "avatar_dropdown = UkDropdownButton(\n",
    "    avatar,\n",
    "    user+hotkeys)\n",
    "\n",
    "show(avatar_dropdown)"
   ]
  },
  {
   "cell_type": "code",
   "execution_count": 129,
   "id": "51137d79",
   "metadata": {},
   "outputs": [
    {
     "data": {
      "text/html": [
       "<div class=\"flex items-center justify-between w-full\">\n",
       "  <div class=\"flex items-center gap-x-4 lg:gap-x-6\">\n",
       "    <divdiv>\n",
       "      <div class=\"flex items-center space-x-4\">\n",
       "<button type=\"button\" class=\"uk-button uk-button-default\">Alicia Koch<span uk-icon=\"icon: triangle-down\"></span></button>        <div uk-drop=\"mode: click; pos: bottom-right\" class=\"uk-dropdown uk-drop\">\n",
       "          <ul class=\"uk-dropdown-nav\">\n",
       "            <li class=\"uk-nav-divider\"></li>\n",
       "            <li>\n",
       "<a href=\"#demo\" uk-toggle role=\"button\" class=\"uk-drop-close w-full \">Alicia Koch</a><a href=\"#demo\" uk-toggle role=\"button\" class=\"uk-drop-close w-full \">Acme Inc</a><a href=\"#demo\" uk-toggle role=\"button\" class=\"uk-drop-close w-full \">Monster Inc.</a><a href=\"#demo\" uk-toggle role=\"button\" class=\"uk-drop-close w-full \">Create a Team</a>            </li>\n",
       "          </ul>\n",
       "        </div>\n",
       "      </div>\n",
       "    </div>\n",
       "    <ul class=\"uk-navbar-nav gap-x-4 lg:gap-x-6\">\n",
       "      <li class=\" \">\n",
       "<a href=\"#demo\" uk-toggle>Overview</a>      </li>\n",
       "      <li class=\" \">\n",
       "<a href=\"#demo\" uk-toggle>Customers</a>      </li>\n",
       "      <li class=\" \">\n",
       "<a href=\"#demo\" uk-toggle>Products</a>      </li>\n",
       "      <li class=\" \">\n",
       "<a href=\"#demo\" uk-toggle>Settings</a>      </li>\n",
       "    </ul>\n",
       "  </div>\n",
       "  <div class=\"flex items-center gap-x-4\">\n",
       "    <div class=\"w-64\">\n",
       "      <div class=\"space-y-2\">\n",
       "        <input placeholder=\"Search\" class=\"uk-input\">\n",
       "      </div>\n",
       "    </div>\n",
       "    <divdiv>\n",
       "      <div class=\"flex items-center space-x-4\">\n",
       "<button type=\"button\" class=\"uk-button uk-button-default\"><a href=\"#\" class=\"h-8 w-8 inline-flex rounded-full bg-accent ring-ring\"><img src=\"https://api.dicebear.com/8.x/lorelei/svg?seed=Alicia Koch\"></a><span uk-icon=\"icon: triangle-down\"></span></button>        <div uk-drop=\"mode: click; pos: bottom-right\" class=\"uk-dropdown uk-drop\">\n",
       "          <ul class=\"uk-dropdown-nav\">\n",
       "            <li class=\"uk-nav-divider\"></li>\n",
       "            <li>\n",
       "<a href=\"#demo\" uk-toggle role=\"button\" class=\"uk-drop-close w-full \">                <div class=\"flex flex-col space-y-1\">\n",
       "                  <p>Alicia Koch</p>\n",
       "                  <p class=\"text-sm uk-text-muted\">alicia@example.com</p>\n",
       "                </div>\n",
       "</a><a href=\"#demo\" uk-toggle role=\"button\" class=\"uk-drop-close w-full \">Profile⇧⌘P</a><a href=\"#demo\" uk-toggle role=\"button\" class=\"uk-drop-close w-full \">Billing⌘B</a><a href=\"#demo\" uk-toggle role=\"button\" class=\"uk-drop-close w-full \">Settings⌘S</a><a href=\"#demo\" uk-toggle role=\"button\" class=\"uk-drop-close w-full \">New Team</a><a href=\"#demo\" uk-toggle role=\"button\" class=\"uk-drop-close w-full \">Logout</a>            </li>\n",
       "          </ul>\n",
       "        </div>\n",
       "      </div>\n",
       "    </div>\n",
       "  </div>\n",
       "</div>\n"
      ],
      "text/plain": [
       "<IPython.core.display.HTML object>"
      ]
     },
     "execution_count": 129,
     "metadata": {},
     "output_type": "execute_result"
    }
   ],
   "source": [
    "#| exports\n",
    "top_nav = Div(cls=\"flex items-center justify-between w-full\")(\n",
    "    Div(cls=\"flex items-center gap-x-4 lg:gap-x-6\")(\n",
    "        team_dropdown,\n",
    "        UkNavBar(\"Overview\", \"Customers\", \"Products\", \"Settings\")),\n",
    "    Div(cls=\"flex items-center gap-x-4\")(\n",
    "        Div(cls=\"w-64\")(UkInput(placeholder='Search')),\n",
    "        avatar_dropdown))\n",
    "\n",
    "show(top_nav)"
   ]
  },
  {
   "cell_type": "code",
   "execution_count": 123,
   "id": "76b8d8f5",
   "metadata": {},
   "outputs": [],
   "source": [
    "%%aip\n",
    "\n",
    "Make $`top_nav` be all in 1 row instead of new rows.  `team_dropdown` and `UkNavBar(\"Overview\", \"Customers\", \"Products\", \"Settings\")` should be left aligned so you can see them all.\n",
    "\n",
    "Then in the same row, `UkInput(placeholder='Search')` and `avatar_dropdown` should be right aligned somehow.\n"
   ]
  },
  {
   "cell_type": "code",
   "execution_count": null,
   "id": "a7002b4e",
   "metadata": {},
   "outputs": [],
   "source": [
    "#| exports\n",
    "def page():\n",
    "    return Div(cls=\"space-y-4\")(\n",
    "        top_nav,\n",
    "        UkHSplit(),\n",
    "        UkH2('Dashboard'),\n",
    "        db_nav, \n",
    "        top_info_row,\n",
    "        Div(cls=\"grid gap-4 lg:grid-cols-7\")(\n",
    "            Card(generate_chart(10),cls='lg:col-span-4'),\n",
    "            Card(recent_sales,cls='lg:col-span-3')))"
   ]
  },
  {
   "cell_type": "code",
   "execution_count": null,
   "id": "000b2c9e",
   "metadata": {},
   "outputs": [
    {
     "data": {
      "text/html": [
       "<div class=\"space-y-4\">\n",
       "  <div class=\"uk-navbar-left gap-x-4 lg:gap-x-6\">\n",
       "    <divdiv>\n",
       "      <div class=\"flex items-center space-x-4\">\n",
       "<button type=\"button\" class=\"uk-button uk-button-default\">Alicia Koch<span uk-icon=\"icon: triangle-down\"></span></button>        <div uk-drop=\"mode: click; pos: bottom-right\" class=\"uk-dropdown uk-drop\">\n",
       "          <ul class=\"uk-dropdown-nav\">\n",
       "            <li class=\"uk-nav-divider\"></li>\n",
       "            <li>\n",
       "<a href=\"#demo\" uk-toggle role=\"button\" class=\"uk-drop-close w-full \">Alicia Koch</a>            </li>\n",
       "            <li>\n",
       "<a href=\"#demo\" uk-toggle role=\"button\" class=\"uk-drop-close w-full \">Acme Inc</a>            </li>\n",
       "            <li>\n",
       "<a href=\"#demo\" uk-toggle role=\"button\" class=\"uk-drop-close w-full \">Monster Inc.</a>            </li>\n",
       "            <li>\n",
       "<a href=\"#demo\" uk-toggle role=\"button\" class=\"uk-drop-close w-full \">Create a Team</a>            </li>\n",
       "          </ul>\n",
       "        </div>\n",
       "      </div>\n",
       "    </div>\n",
       "    <ul class=\"uk-navbar-nav gap-x-4 lg:gap-x-6\">\n",
       "      <li class=\"uk-active\">\n",
       "<a href=\"#demo\" uk-toggle>Overview</a>      </li>\n",
       "      <li>\n",
       "<a href=\"#demo\" uk-toggle>Customers</a>      </li>\n",
       "      <li>\n",
       "<a href=\"#demo\" uk-toggle>Products</a>      </li>\n",
       "      <li>\n",
       "<a href=\"#demo\" uk-toggle>Settings</a>      </li>\n",
       "    </ul>\n",
       "    <div class=\"space-y-2\">\n",
       "      <input placeholder=\"Search\" class=\"uk-input\">\n",
       "    </div>\n",
       "    <divdiv>\n",
       "      <div class=\"flex items-center space-x-4\">\n",
       "<button type=\"button\" class=\"uk-button uk-button-default\"><a href=\"#\" class=\"h-8 w-8 inline-flex rounded-full bg-accent ring-ring\"><img src=\"https://api.dicebear.com/8.x/lorelei/svg?seed=Alicia Koch\"></a><span uk-icon=\"icon: triangle-down\"></span></button>        <div uk-drop=\"mode: click; pos: bottom-right\" class=\"uk-dropdown uk-drop\">\n",
       "          <ul class=\"uk-dropdown-nav\">\n",
       "            <li class=\"uk-nav-divider\"></li>\n",
       "            <li>\n",
       "<a href=\"#demo\" uk-toggle role=\"button\" class=\"uk-drop-close w-full \">                <div class=\"flex flex-col space-y-1\">\n",
       "                  <p>Alicia Koch</p>\n",
       "                  <p class=\"text-sm uk-text-muted\">alicia@example.com</p>\n",
       "                </div>\n",
       "</a>            </li>\n",
       "            <li>\n",
       "<a href=\"#demo\" uk-toggle role=\"button\" class=\"uk-drop-close w-full \">Profile⇧⌘P</a>            </li>\n",
       "            <li>\n",
       "<a href=\"#demo\" uk-toggle role=\"button\" class=\"uk-drop-close w-full \">Billing⌘B</a>            </li>\n",
       "            <li>\n",
       "<a href=\"#demo\" uk-toggle role=\"button\" class=\"uk-drop-close w-full \">Settings⌘S</a>            </li>\n",
       "            <li>\n",
       "<a href=\"#demo\" uk-toggle role=\"button\" class=\"uk-drop-close w-full \">New Team</a>            </li>\n",
       "            <li>\n",
       "<a href=\"#demo\" uk-toggle role=\"button\" class=\"uk-drop-close w-full \">Logout</a>            </li>\n",
       "          </ul>\n",
       "        </div>\n",
       "      </div>\n",
       "    </div>\n",
       "  </div>\n",
       "  <div class=\"relative \">\n",
       "    <div class=\"absolute inset-0 flex items-center \">\n",
       "<span class=\"w-full border-t border-border\"></span>    </div>\n",
       "    <div class=\"relative flex justify-center \">\n",
       "<span class=\"bg-background px-2 \"></span>    </div>\n",
       "  </div>\n",
       "  <h2 class=\"uk-h2\">Dashboard</h2>\n",
       "  <ul class=\"uk-tab-alt max-w-96\">\n",
       "    <li class=\"uk-active\">\n",
       "<a href=\"#demo\" uk-toggle>Overview</a>    </li>\n",
       "    <li>\n",
       "<a href=\"#demo\" uk-toggle>Analytics</a>    </li>\n",
       "    <li>\n",
       "<a href=\"#demo\" uk-toggle>Reports</a>    </li>\n",
       "    <li>\n",
       "<a href=\"#demo\" uk-toggle>Notifications</a>    </li>\n",
       "  </ul>\n",
       "  <div class=\"grid grid-cols-2 gap-4 lg:grid-cols-4\">\n",
       "    <div class=\"uk-card \">\n",
       "      <div class=\"uk-card-header \">\n",
       "        <h4 class=\"uk-h4\">Total Revenue</h4>\n",
       "      </div>\n",
       "      <div class=\"uk-card-body space-y-6\">\n",
       "        <div>\n",
       "          <h3 class=\"uk-h3\">$45,231.89</h3>\n",
       "          <p class=\"text-sm uk-text-muted\">+20.1% from last month</p>\n",
       "        </div>\n",
       "      </div>\n",
       "    </div>\n",
       "    <div class=\"uk-card \">\n",
       "      <div class=\"uk-card-header \">\n",
       "        <h4 class=\"uk-h4\">Subscriptions</h4>\n",
       "      </div>\n",
       "      <div class=\"uk-card-body space-y-6\">\n",
       "        <div>\n",
       "          <h3 class=\"uk-h3\">+2350</h3>\n",
       "          <p class=\"text-sm uk-text-muted\">+180.1% from last month</p>\n",
       "        </div>\n",
       "      </div>\n",
       "    </div>\n",
       "    <div class=\"uk-card \">\n",
       "      <div class=\"uk-card-header \">\n",
       "        <h4 class=\"uk-h4\">Sales</h4>\n",
       "      </div>\n",
       "      <div class=\"uk-card-body space-y-6\">\n",
       "        <div>\n",
       "          <h3 class=\"uk-h3\">+12,234</h3>\n",
       "          <p class=\"text-sm uk-text-muted\">+19% from last month</p>\n",
       "        </div>\n",
       "      </div>\n",
       "    </div>\n",
       "    <div class=\"uk-card \">\n",
       "      <div class=\"uk-card-header \">\n",
       "        <h4 class=\"uk-h4\">Active Now</h4>\n",
       "      </div>\n",
       "      <div class=\"uk-card-body space-y-6\">\n",
       "        <div>\n",
       "          <h3 class=\"uk-h3\">+573</h3>\n",
       "          <p class=\"text-sm uk-text-muted\">+201 since last hour</p>\n",
       "        </div>\n",
       "      </div>\n",
       "    </div>\n",
       "  </div>\n",
       "  <div class=\"grid gap-4 lg:grid-cols-7\">\n",
       "    <div class=\"uk-card lg:col-span-4\">\n",
       "      <div class=\"uk-card-body space-y-6\">\n",
       "<img src=\"data:image/jpg;base64, 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\">      </div>\n",
       "    </div>\n",
       "    <div class=\"uk-card lg:col-span-3\">\n",
       "      <div class=\"uk-card-body space-y-6\">\n",
       "        <div class=\"uk-card \">\n",
       "          <div class=\"uk-card-header \">\n",
       "            <div>\n",
       "              <h3 class=\"uk-h3\">Recent Sales</h3>\n",
       "              <p class=\"text-sm uk-text-muted\">You made 265 sales this month.</p>\n",
       "            </div>\n",
       "          </div>\n",
       "          <div class=\"uk-card-body space-y-6\">\n",
       "            <div class=\"space-y-8\">\n",
       "              <div class=\"flex items-center\">\n",
       "<span class=\"relative flex h-9 w-9 shrink-0 overflow-hidden rounded-full bg-accent\"><img alt=\"Avatar\" src=\"https://api.dicebear.com/8.x/lorelei/svg?seed=Olivia Martin\" class=\"aspect-square h-full w-full\"></span>                <div class=\"ml-4 space-y-1\">\n",
       "                  <p class=\"text-sm font-medium\">Olivia Martin</p>\n",
       "                  <p class=\"text-sm uk-text-muted\">olivia.martin@email.com</p>\n",
       "                </div>\n",
       "                <div class=\"ml-auto font-medium\">+$1,999.00</div>\n",
       "              </div>\n",
       "              <div class=\"flex items-center\">\n",
       "<span class=\"relative flex h-9 w-9 shrink-0 overflow-hidden rounded-full bg-accent\"><img alt=\"Avatar\" src=\"https://api.dicebear.com/8.x/lorelei/svg?seed=Jackson Lee\" class=\"aspect-square h-full w-full\"></span>                <div class=\"ml-4 space-y-1\">\n",
       "                  <p class=\"text-sm font-medium\">Jackson Lee</p>\n",
       "                  <p class=\"text-sm uk-text-muted\">jackson.lee@email.com</p>\n",
       "                </div>\n",
       "                <div class=\"ml-auto font-medium\">+$39.00</div>\n",
       "              </div>\n",
       "              <div class=\"flex items-center\">\n",
       "<span class=\"relative flex h-9 w-9 shrink-0 overflow-hidden rounded-full bg-accent\"><img alt=\"Avatar\" src=\"https://api.dicebear.com/8.x/lorelei/svg?seed=Isabella Nguyen\" class=\"aspect-square h-full w-full\"></span>                <div class=\"ml-4 space-y-1\">\n",
       "                  <p class=\"text-sm font-medium\">Isabella Nguyen</p>\n",
       "                  <p class=\"text-sm uk-text-muted\">isabella.nguyen@email.com</p>\n",
       "                </div>\n",
       "                <div class=\"ml-auto font-medium\">+$299.00</div>\n",
       "              </div>\n",
       "              <div class=\"flex items-center\">\n",
       "<span class=\"relative flex h-9 w-9 shrink-0 overflow-hidden rounded-full bg-accent\"><img alt=\"Avatar\" src=\"https://api.dicebear.com/8.x/lorelei/svg?seed=William Kim\" class=\"aspect-square h-full w-full\"></span>                <div class=\"ml-4 space-y-1\">\n",
       "                  <p class=\"text-sm font-medium\">William Kim</p>\n",
       "                  <p class=\"text-sm uk-text-muted\">will@email.com</p>\n",
       "                </div>\n",
       "                <div class=\"ml-auto font-medium\">+$99.00</div>\n",
       "              </div>\n",
       "              <div class=\"flex items-center\">\n",
       "<span class=\"relative flex h-9 w-9 shrink-0 overflow-hidden rounded-full bg-accent\"><img alt=\"Avatar\" src=\"https://api.dicebear.com/8.x/lorelei/svg?seed=Sofia Davis\" class=\"aspect-square h-full w-full\"></span>                <div class=\"ml-4 space-y-1\">\n",
       "                  <p class=\"text-sm font-medium\">Sofia Davis</p>\n",
       "                  <p class=\"text-sm uk-text-muted\">sofia.davis@email.com</p>\n",
       "                </div>\n",
       "                <div class=\"ml-auto font-medium\">+$39.00</div>\n",
       "              </div>\n",
       "            </div>\n",
       "          </div>\n",
       "        </div>\n",
       "      </div>\n",
       "    </div>\n",
       "  </div>\n",
       "</div>\n"
      ],
      "text/plain": [
       "<IPython.core.display.HTML object>"
      ]
     },
     "execution_count": null,
     "metadata": {},
     "output_type": "execute_result"
    },
    {
     "data": {
      "image/png": "[encoded data removed]",
      "text/plain": [
       "<Figure size 640x480 with 1 Axes>"
      ]
     },
     "metadata": {},
     "output_type": "display_data"
    }
   ],
   "source": [
    "show(page())"
   ]
  },
  {
   "cell_type": "code",
   "execution_count": 81,
   "id": "22a8233b",
   "metadata": {},
   "outputs": [
    {
     "ename": "NameError",
     "evalue": "name 'page' is not defined",
     "output_type": "error",
     "traceback": [
      "\u001b[0;31m---------------------------------------------------------------------------\u001b[0m",
      "\u001b[0;31mNameError\u001b[0m                                 Traceback (most recent call last)",
      "Cell \u001b[0;32mIn[81], line 2\u001b[0m\n\u001b[1;32m      1\u001b[0m \u001b[38;5;66;03m#| exports\u001b[39;00m\n\u001b[0;32m----> 2\u001b[0m dashboard_homepage \u001b[38;5;241m=\u001b[39m \u001b[43mpage\u001b[49m()\n",
      "\u001b[0;31mNameError\u001b[0m: name 'page' is not defined"
     ]
    }
   ],
   "source": [
    "#| exports\n",
    "dashboard_homepage = page()"
   ]
  },
  {
   "cell_type": "code",
   "execution_count": 122,
   "id": "1992630d",
   "metadata": {},
   "outputs": [],
   "source": [
    "#| hide\n",
    "import nbdev; nbdev.nbdev_export()"
   ]
  },
  {
   "cell_type": "code",
   "execution_count": null,
   "id": "a5110781",
   "metadata": {},
   "outputs": [],
   "source": []
  }
 ],
 "metadata": {
  "kernelspec": {
   "display_name": "Python 3 (ipykernel)",
   "language": "python",
   "name": "python3"
  },
  "language_info": {
   "codemirror_mode": {
    "name": "ipython",
    "version": 3
   },
   "file_extension": ".py",
   "mimetype": "text/x-python",
   "name": "python",
   "nbconvert_exporter": "python",
   "pygments_lexer": "ipython3",
   "version": "3.12.4"
  },
  "toc": {
   "base_numbering": 1,
   "nav_menu": {},
   "number_sections": true,
   "sideBar": true,
   "skip_h1_title": false,
   "title_cell": "Table of Contents",
   "title_sidebar": "Contents",
   "toc_cell": false,
   "toc_position": {},
   "toc_section_display": true,
   "toc_window_display": false
  }
 },
 "nbformat": 4,
 "nbformat_minor": 5
}
