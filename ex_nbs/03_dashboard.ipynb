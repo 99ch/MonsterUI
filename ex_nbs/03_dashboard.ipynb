{
 "cells": [
  {
   "cell_type": "markdown",
   "id": "bd49724c",
   "metadata": {},
   "source": [
    "# Dashboard\n",
    "\n",
    "> FrankenUI Dashboard Example"
   ]
  },
  {
   "cell_type": "code",
   "execution_count": 1,
   "id": "04abc944",
   "metadata": {},
   "outputs": [],
   "source": [
    "#| default_exp dashboard"
   ]
  },
  {
   "cell_type": "code",
   "execution_count": 2,
   "id": "cef92ebb",
   "metadata": {},
   "outputs": [],
   "source": [
    "#| export\n",
    "from fasthtml.common import *\n",
    "from fh_frankenui import *\n",
    "from fasthtml.svg import *\n",
    "from fh_matplotlib import matplotlib2fasthtml\n",
    "import numpy as np\n",
    "import matplotlib.pylab as plt"
   ]
  },
  {
   "cell_type": "code",
   "execution_count": 3,
   "id": "02ad7e62",
   "metadata": {},
   "outputs": [],
   "source": [
    "#| hide\n",
    "from nbdev.showdoc import *"
   ]
  },
  {
   "cell_type": "code",
   "execution_count": 4,
   "id": "f0f5477a",
   "metadata": {},
   "outputs": [
    {
     "data": {
      "text/html": [
       "<script src=\"https://cdn.tailwindcss.com\"></script>\n",
       "<script src=\"https://cdn.jsdelivr.net/npm/uikit@3.21.6/dist/js/uikit.min.js\"></script>\n",
       "<script src=\"https://cdn.jsdelivr.net/npm/uikit@3.21.6/dist/js/uikit-icons.min.js\"></script>\n",
       "<script type=\"module\" src=\"https://unpkg.com/franken-wc@0.0.6/dist/js/wc.iife.js\"></script>\n",
       "<link rel=\"stylesheet\" href=\"https://unpkg.com/franken-wc@0.0.6/dist/css/blue.min.css\">\n",
       "\n",
       "<style>\n",
       "#notebook-container { max-width: none; }\n",
       ".output_html * { list-style-type: none !important; }\n",
       "</style>\n"
      ],
      "text/plain": [
       "<IPython.core.display.HTML object>"
      ]
     },
     "metadata": {},
     "output_type": "display_data"
    }
   ],
   "source": [
    "%%html\n",
    "<script src=\"https://cdn.tailwindcss.com\"></script>\n",
    "<script src=\"https://cdn.jsdelivr.net/npm/uikit@3.21.6/dist/js/uikit.min.js\"></script>\n",
    "<script src=\"https://cdn.jsdelivr.net/npm/uikit@3.21.6/dist/js/uikit-icons.min.js\"></script>\n",
    "<script type=\"module\" src=\"https://unpkg.com/franken-wc@0.0.6/dist/js/wc.iife.js\"></script>\n",
    "<link rel=\"stylesheet\" href=\"https://unpkg.com/franken-wc@0.0.6/dist/css/blue.min.css\">\n",
    "\n",
    "<style>\n",
    "#notebook-container { max-width: none; }\n",
    ".output_html * { list-style-type: none !important; }\n",
    "</style>"
   ]
  },
  {
   "cell_type": "code",
   "execution_count": 5,
   "id": "275f3643",
   "metadata": {},
   "outputs": [],
   "source": [
    "#| exports\n",
    "def InfoCard(title, value, change):\n",
    "    return Div(Card(\n",
    "             Div(H3(value),\n",
    "                P(change, cls=TextFont.muted_sm)),\n",
    "             header = H4(title)))"
   ]
  },
  {
   "cell_type": "code",
   "execution_count": 6,
   "id": "745555dc",
   "metadata": {},
   "outputs": [],
   "source": [
    "#| exports\n",
    "rev = InfoCard(\"Total Revenue\", \"$45,231.89\", \"+20.1% from last month\")\n",
    "sub = InfoCard(\"Subscriptions\", \"+2350\", \"+180.1% from last month\")\n",
    "sal = InfoCard(\"Sales\", \"+12,234\", \"+19% from last month\")\n",
    "act = InfoCard(\"Active Now\", \"+573\", \"+201 since last hour\")"
   ]
  },
  {
   "cell_type": "code",
   "execution_count": 7,
   "id": "96867f4f",
   "metadata": {},
   "outputs": [],
   "source": [
    "#| exports\n",
    "top_info_row = Grid(rev,sub,sal,act,cols=4, cls=GridT.small)"
   ]
  },
  {
   "cell_type": "code",
   "execution_count": 8,
   "id": "12f5bfdd",
   "metadata": {},
   "outputs": [
    {
     "data": {
      "text/html": [
       "<div class=\"grid grid-cols-4 uk-grid-small\">\n",
       "  <div>\n",
       "    <div class=\"uk-card \">\n",
       "      <div class=\"uk-card-header \">\n",
       "        <h4 class=\"uk-h4 \">Total Revenue</h4>\n",
       "      </div>\n",
       "      <div class=\"uk-card-body space-y-6\">\n",
       "        <div>\n",
       "          <h3 class=\"uk-h3 \">$45,231.89</h3>\n",
       "          <p class=\"uk-text-muted uk-text-small\">+20.1% from last month</p>\n",
       "        </div>\n",
       "      </div>\n",
       "    </div>\n",
       "  </div>\n",
       "  <div>\n",
       "    <div class=\"uk-card \">\n",
       "      <div class=\"uk-card-header \">\n",
       "        <h4 class=\"uk-h4 \">Subscriptions</h4>\n",
       "      </div>\n",
       "      <div class=\"uk-card-body space-y-6\">\n",
       "        <div>\n",
       "          <h3 class=\"uk-h3 \">+2350</h3>\n",
       "          <p class=\"uk-text-muted uk-text-small\">+180.1% from last month</p>\n",
       "        </div>\n",
       "      </div>\n",
       "    </div>\n",
       "  </div>\n",
       "  <div>\n",
       "    <div class=\"uk-card \">\n",
       "      <div class=\"uk-card-header \">\n",
       "        <h4 class=\"uk-h4 \">Sales</h4>\n",
       "      </div>\n",
       "      <div class=\"uk-card-body space-y-6\">\n",
       "        <div>\n",
       "          <h3 class=\"uk-h3 \">+12,234</h3>\n",
       "          <p class=\"uk-text-muted uk-text-small\">+19% from last month</p>\n",
       "        </div>\n",
       "      </div>\n",
       "    </div>\n",
       "  </div>\n",
       "  <div>\n",
       "    <div class=\"uk-card \">\n",
       "      <div class=\"uk-card-header \">\n",
       "        <h4 class=\"uk-h4 \">Active Now</h4>\n",
       "      </div>\n",
       "      <div class=\"uk-card-body space-y-6\">\n",
       "        <div>\n",
       "          <h3 class=\"uk-h3 \">+573</h3>\n",
       "          <p class=\"uk-text-muted uk-text-small\">+201 since last hour</p>\n",
       "        </div>\n",
       "      </div>\n",
       "    </div>\n",
       "  </div>\n",
       "</div>\n"
      ],
      "text/plain": [
       "<IPython.core.display.HTML object>"
      ]
     },
     "execution_count": 8,
     "metadata": {},
     "output_type": "execute_result"
    }
   ],
   "source": [
    "show(top_info_row)"
   ]
  },
  {
   "cell_type": "code",
   "execution_count": 9,
   "id": "98b733c2",
   "metadata": {},
   "outputs": [],
   "source": [
    "#| exports\n",
    "def AvatarItem(name, email, amount):\n",
    "    return Div(cls=\"flex items-center\")(\n",
    "        DiceBearAvatar(name, 9,9),\n",
    "        Div(cls=\"ml-4 space-y-1\")(\n",
    "            P(name, cls=TextFont.bold_sm),\n",
    "            P(email, cls=TextFont.muted_sm)),\n",
    "        Div(amount, cls=\"ml-auto font-medium\"))\n",
    "\n",
    "recent_sales = Card(\n",
    "    Div(cls=\"space-y-8\")(\n",
    "        *[AvatarItem(n,e,d) for (n,e,d) in (\n",
    "            (\"Olivia Martin\",   \"olivia.martin@email.com\",   \"+$1,999.00\"),\n",
    "            (\"Jackson Lee\",     \"jackson.lee@email.com\",     \"+$39.00\"),\n",
    "            (\"Isabella Nguyen\", \"isabella.nguyen@email.com\", \"+$299.00\"),\n",
    "            (\"William Kim\",     \"will@email.com\",            \"+$99.00\"),\n",
    "            (\"Sofia Davis\",     \"sofia.davis@email.com\",     \"+$39.00\"))]),\n",
    "    header=Div(\n",
    "        H3(\"Recent Sales\"),\n",
    "        P(\"You made 265 sales this month.\", cls=TextFont.muted_sm)),\n",
    "\n",
    "cls='lg:col-span-3')"
   ]
  },
  {
   "cell_type": "code",
   "execution_count": 10,
   "id": "3767a677",
   "metadata": {},
   "outputs": [],
   "source": [
    "#| exports\n",
    "@matplotlib2fasthtml\n",
    "def generate_chart(num_points):\n",
    "    plotdata = [np.random.exponential(1) for _ in range(num_points)]\n",
    "    plt.plot(range(len(plotdata)), plotdata)"
   ]
  },
  {
   "cell_type": "code",
   "execution_count": 11,
   "id": "d7a93876",
   "metadata": {},
   "outputs": [
    {
     "data": {
      "text/html": [
       "<img src=\"data:image/jpg;base64, /9j/4AAQSkZJRgABAQEAZABkAAD/2wBDAAgGBgcGBQgHBwcJCQgKDBQNDAsLDBkSEw8UHRofHh0aHBwgJC4nICIsIxwcKDcpLDAxNDQ0Hyc5PTgyPC4zNDL/2wBDAQkJCQwLDBgNDRgyIRwhMjIyMjIyMjIyMjIyMjIyMjIyMjIyMjIyMjIyMjIyMjIyMjIyMjIyMjIyMjIyMjIyMjL/wAARCAHgAoADASIAAhEBAxEB/8QAHwAAAQUBAQEBAQEAAAAAAAAAAAECAwQFBgcICQoL/8QAtRAAAgEDAwIEAwUFBAQAAAF9AQIDAAQRBRIhMUEGE1FhByJxFDKBkaEII0KxwRVS0fAkM2JyggkKFhcYGRolJicoKSo0NTY3ODk6Q0RFRkdISUpTVFVWV1hZWmNkZWZnaGlqc3R1dnd4eXqDhIWGh4iJipKTlJWWl5iZmqKjpKWmp6ipqrKztLW2t7i5usLDxMXGx8jJytLT1NXW19jZ2uHi4+Tl5ufo6erx8vP09fb3+Pn6/8QAHwEAAwEBAQEBAQEBAQAAAAAAAAECAwQFBgcICQoL/8QAtREAAgECBAQDBAcFBAQAAQJ3AAECAxEEBSExBhJBUQdhcRMiMoEIFEKRobHBCSMzUvAVYnLRChYkNOEl8RcYGRomJygpKjU2Nzg5OkNERUZHSElKU1RVVldYWVpjZGVmZ2hpanN0dXZ3eHl6goOEhYaHiImKkpOUlZaXmJmaoqOkpaanqKmqsrO0tba3uLm6wsPExcbHyMnK0tPU1dbX2Nna4uPk5ebn6Onq8vP09fb3+Pn6/9oADAMBAAIRAxEAPwD3+iiigAooooAKKKKACiiigAooooAKKKKACiiigAooooAKKKKACiiigAooooAKKKKACiiigAooooAKKKKACiiigAooooAKKKKACiiigAooooAKKKKACiiigAooooAKKKKACiiigAooooAKKKKACiiigAooooAKKKKACiiigAooooAKKKKACiiigAooooAKKKKACiiigAooooAKKKKACiiigAooooAKKKKACiiigAooooAKKKKACiiigAooooAKKKKACiiigAooooAKKKKACiiigAooooAKKKKACiiigAooooAKKKKACiiigAooooAKKKKACiiigAooooAKKKKACiiigAooooAKKKKACiiigAooooAKKKKACiiigAooooAKKKKACiiigAooooAKKKKACiiigAooooAKKKKACiiigAooooAKKKKACiiigAooooAKKKKACiiigAooooAKKKKACiiigAooooAKKKKACiiigAooooAKKKKACiiigAooooAKKKKACiiigAooooAKKKKACiiigAooooAKKKKACiiigAooooAKKKKACiiigAooooAKKKKACiiigAooooAKKKKACiiigAooooAKKKKACiiigAooooAKKKKACiiigAooooAKKKKACiiigAooooAKKKKACiiigAoopr5CMQcHFADqK4fwxput6z4U0jVLjxlrKTXllDcSLHDZ7QzoGIGYCcZPrWr/AMI1qv8A0Ouuf9+bP/4xQB0dFc5/wjWq/wDQ665/35s//jFH/CNar/0Ouuf9+bP/AOMUAdHRXOf8I1qv/Q665/35s/8A4xR/wjWq/wDQ665/35s//jFAHR0Vzn/CNar/ANDrrn/fmz/+MUf8I1qv/Q665/35s/8A4xQB0dFc5/wjWq/9Drrn/fmz/wDjFH/CNar/ANDrrn/fmz/+MUAdHRXOf8I1qv8A0Ouuf9+bP/4xR/wjWq/9Drrn/fmz/wDjFAHR0Vzn/CNar/0Ouuf9+bP/AOMUf8I1qv8A0Ouuf9+bP/4xQB0dFc5/wjWq/wDQ665/35s//jFH/CNar/0Ouuf9+bP/AOMUAdHRXOf8I1qv/Q665/35s/8A4xR/wjWq/wDQ665/35s//jFAHR0Vzn/CNar/ANDrrn/fmz/+MUf8I1qv/Q665/35s/8A4xQB0dFc5/wjWq/9Drrn/fmz/wDjFH/CNar/ANDrrn/fmz/+MUAdHRXOf8I1qv8A0Ouuf9+bP/4xR/wjWq/9Drrn/fmz/wDjFAHR0Vzn/CNar/0Ouuf9+bP/AOMUf8I1qv8A0Ouuf9+bP/4xQB0dFc5/wjWq/wDQ665/35s//jFH/CNar/0Ouuf9+bP/AOMUAdHRXOf8I1qv/Q665/35s/8A4xR/wjWq/wDQ665/35s//jFAHR0Vzn/CNar/ANDrrn/fmz/+MUf8I1qv/Q665/35s/8A4xQB0dFc5/wjWq/9Drrn/fmz/wDjFH/CNar/ANDrrn/fmz/+MUAdHRXOf8I1qv8A0Ouuf9+bP/4xR/wjWq/9Drrn/fmz/wDjFAHR0Vzn/CNar/0Ouuf9+bP/AOMUf8I1qv8A0Ouuf9+bP/4xQB0dFc5/wjWq/wDQ665/35s//jFH/CNar/0Ouuf9+bP/AOMUAdHRXOf8I1qv/Q665/35s/8A4xR/wjWq/wDQ665/35s//jFAHR0Vzn/CNar/ANDrrn/fmz/+MUf8I1qv/Q665/35s/8A4xQB0dFc5/wjWq/9Drrn/fmz/wDjFH/CNar/ANDrrn/fmz/+MUAdHRXOf8I1qv8A0Ouuf9+bP/4xR/wjWq/9Drrn/fmz/wDjFAHR0Vzn/CNar/0Ouuf9+bP/AOMUf8I1qv8A0Ouuf9+bP/4xQB0dFc5/wjWq/wDQ665/35s//jFH/CNar/0Ouuf9+bP/AOMUAdHRXOf8I1qv/Q665/35s/8A4xR/wjWq/wDQ665/35s//jFAHR0Vzn/CNar/ANDrrn/fmz/+MUf8I1qv/Q665/35s/8A4xQB0dFc5/wjWq/9Drrn/fmz/wDjFH/CNar/ANDrrn/fmz/+MUAdHRXOf8I1qv8A0Ouuf9+bP/4xR/wjWq/9Drrn/fmz/wDjFAHR0Vzn/CNar/0Ouuf9+bP/AOMUjeG9WCk/8JrrnA/542f/AMYoA6SisXwfe3OpeC9Dv7yUy3VzYQTSyEAbnZAScDgcntW1QAUUUUAFFFFABRRRQAUUUUAFFFFABRRRQAUUUUAFNf8A1bfQ06mv/q2+hoA5/wAA/wDJO/DX/YLtv/RS10Vc74B/5J34a/7Bdt/6KWuioAKKKKACiiigAooooAKKKKACiiigAooooAKKKKACiiigAooooAKKKKACiiigAooooAKKKKACiiigAooooAKKKKACiiigAooooAKKKKACiiigAooooAKKKKACiiigAooooAKKKKACiiigAooooAKKKKACimu6xxs7HCqCSfasHwVc3d94YgvLyZ5ZZ3kcFzkhdxAH6VSjeLkS5WkonQU1/wDVt9DTqa/+rb6GpKOf8A/8k78Nf9gu2/8ARS10Vc74B/5J34a/7Bdt/wCilroqACiiigAooooAKKKKACiiigAooooAKKKKACiiigApr/6tvoadTX/1bfQ0Ac/4B/5J34a/7Bdt/wCilroq53wD/wAk78Nf9gu2/wDRS10VABRRRQAUUUUAFFFFABRRRQAUUUUAFFFFABRRRQAUUUUAFFFFABRRRQAUUUUAFFFFABRRRQAUUUUAFFFFABRRRQAUUUUAFFFFABRRRQAUUUUAFFFFABRRRQAUUUUAFFFFABRRRQAUUUUAFFFFABRRRQBk+J7n7H4X1ObOCLZwp9yMD9TTvDlt9j8NabBjBW2TcPcgE/qTWX4/Yv4Z+xqcNeXMVuPxYH/2WunVQihVGABgCtXpSXmzFa1X5JC01/8AVt9DTqa/+rb6GsjY5/wD/wAk78Nf9gu2/wDRS10Vc74B/wCSd+Gv+wXbf+ilroqACiiigAooooAKKKKACiiigAooooAKKKKACiiigApr/wCrb6GnU1/9W30NAHP+Af8Aknfhr/sF23/opa6Kud8A/wDJO/DX/YLtv/RS10VABRRRQAUUUUAFFFFABRRRQAUUUUAFFFFABRRRQAUUUUAFFFFABRRRQAUUUUAFFFFABRRRQAUUUUAFFFFABRRRQAUUUUAFFFFABRRRQAUUUUAFFFFABRRRQAUUUUAFFFFABRRRQAUUUUAFFFFABRRRQBy3ij/SfEPhmw67rtrgj/rmuf611NctL/pXxMt06rZ6c0n0Z2x/KuprWppGK8v1MaWspPz/ACQU1/8AVt9DTqa/+rb6GsjY5/wD/wAk78Nf9gu2/wDRS10Vc74B/wCSd+Gv+wXbf+ilroqACiiigAooooAKKKKACiiigAooooAKKKKACorq6gsrSa6upVit4UMkkjnAVQMkn8KlqG7tLe/tJbS7gjnt5lKSRSKGV1PUEHqKAOR8P63rV/42nhvmMNhcaat5a2TRqGhUyFVLnG7cQMkZwM46jJ39X1+z0crHcw6g7SISDa6fPcAfUxowH41k6d8PtB0nxamu6fp9jamO18iOGG1VdjknMgYdyrbenTvXUv8A6tvoaAOf8A/8k78Nf9gu2/8ARS10Vc74B/5J34a/7Bdt/wCilroqACiiigAooooAKKKKACiiigAooooAKKKKACiiigAooooAKKKKACiiigAooooAKKKKACiiigAooooAKKKKACiiigAooooAKKKKACiiigAooooAKKKKACiiigAooooAKKKKACiiigAooooAKKKKACiiigDltB/0rxn4kvOqo0NsnttX5v1rqa5bwJ++0y/v+v22/mmB9s4H8jXU1rX+O3bT7jGh8Cfe7+9hTX/1bfQ06mv/AKtvoayNjn/AP/JO/DX/AGC7b/0UtdFXO+Af+Sd+Gv8AsF23/opa6KgAooooAKKKKACiiigAooooAKKKKACiiigAooooAKa/+rb6GnU1/wDVt9DQBz/gH/knfhr/ALBdt/6KWuirnfAP/JO/DX/YLtv/AEUtdFQAUUUUAFFFFABRRRQAUUUUAFFFFABRRRQAUUUUAFFFFABRRRQAUUUUAFFFFABRRRQAUUUUAFFFFABRRRQAUUUUAFFFFABRRRQAUUUUAFFFFABRRRQAUUUUAFFFFABRRRQAUUUUAFFFFABRRRQAVT1e5+xaNfXWcGG3dx9QpNXK5vx5OYPB18E+/LsiUeu5gP5Zq6ceaaXmRVlywcuyJ/Btt9k8H6XHjGYRJ/30S39a3ahtYBa2cFuv3Yo1QfgMVNSnLmk5dxwjyxUewU1/9W30NOpr/wCrb6GpKOf8A/8AJO/DX/YLtv8A0UtdFXO+Af8Aknfhr/sF23/opa6KgAooooAKKKKACiiigAooooAKKKKACiiigAooooAKa/8Aq2+hp1Nf/Vt9DQBz/gH/AJJ34a/7Bdt/6KWuirnfAP8AyTvw1/2C7b/0UtdFQAUUUUAFFFFABRRRQAUUUUAFFFFABRRRQAUUUUAFFFFABRRRQAUUUUAFFFFABRRRQAUUUUAFFFFABRRRQAUUUUAFFFFABRRRQAUUUUAFFFFABRRRQAUUUUAFFFFABRRRQAUUUUAFFFFABRRRQAVy3jL/AEiXQrD/AJ+NSjZh6ouSf5iuprltT/0r4h6Jb9Ra201yR/vfIP1Fa0fiv2v+RjX+C3dr8zqaKKKyNgpr/wCrb6GnU1/9W30NAHP+Af8Aknfhr/sF23/opa6Kud8A/wDJO/DX/YLtv/RS10VABRRRQAUUUUAFFFFABRRRQAUUUUAFFFFABRRRQAU1/wDVt9DTqa/+rb6GgDn/AAD/AMk78Nf9gu2/9FLXRVzvgH/knfhr/sF23/opa6KgAooooAKKKKACiiigAooooAKKKKACiiigAooooAKKKKACiiigAooooAKKKKACiiigAooooAKKKKACiiigAooooAKKKKACiiigAooooAKKKKACiiigAooooAKKKKACiiigAooooAKKKKACiiigArltO/0r4i6zP1Fpaw24P+98/wDSuprlvB3+kXOv3/8Az31F0U+qoAB/OtaekZPy/UxqazivP9DqaKKKyNgpr/6tvoadTX/1bfQ0Ac/4B/5J34a/7Bdt/wCilroq53wD/wAk78Nf9gu2/wDRS10VABRRRQAUUUUAFFFFABRRRQAUUUUAFFFFABRRTJZUgheWQ4RFLMcZwByelAD6a/8Aq2+hrJ0zxRpGr3ps7WeUXIjMoiuLaWBmQEAsokVdwyRyM9RWs/8Aq2+hoA5/wD/yTvw1/wBgu2/9FLXRVzvgH/knfhr/ALBdt/6KWuioAKKKKACiiigAooooAKKKKACiiigAooooAKKKKACiiigAooooAKKKKACiiigAooooAKKKKACiiigAooooAKKKKACiiigAooooAKKKKACiiigAooooAKKKKACiiigAooooAKKKKACiiigAooooAiuZ1trWadvuxIzn6AZrA8BwND4Osnf/AFk2+Zj6lmJ/lirHjG5+yeENUlzjMBj/AO+vl/rV7Rrb7FolhbYwYreND9QozWu1L1f5f8OY71vRfm/+AXqKKKyNgpr/AOrb6GnU1/8AVt9DQBz/AIB/5J34a/7Bdt/6KWuirnfAP/JO/DX/AGC7b/0UtdFQAUUUUAFFFFABRRRQAUUUUAFFFFABRRRQAVFcXEVpay3M77IYUMjtjOFAyT+VS0UAed6XfW+pfEizubDWz4gg+zXAZwEKacCUIAaMBTuwFw2W+Xr1z1+r6XeagVe213UNOVEIKWqQMH9z5kbH8iK1aa/+rb6GgDn/AAD/AMk78Nf9gu2/9FLXRVzvgH/knfhr/sF23/opa6KgAooooAKKKKACiiigAooooAKKKKACiiigAooooAKKKKACiiigAooooAKKKKACiiigAooooAKKKKACiiigAooooAKKKKACiiigAooooAKKKKACiiigAooooAKKKKACiiigAooooAKKKKACiiigDlvHn77SLKw6/bb+GAj1BOf6V1Nct4g/0nxj4as+oV5bh/bavy/rmuprWekIr1f9fcYw1qSfovw/4IUUUVkbBTX/ANW30NOpr/6tvoaAOf8AAP8AyTvw1/2C7b/0UtdFXO+Af+Sd+Gv+wXbf+ilroqACiiigAooooAKKKKACiiigAooooAKKKKACiiigApr/AOrb6GnU1/8AVt9DQBz/AIB/5J34a/7Bdt/6KWuirnfAP/JO/DX/AGC7b/0UtdFQAUUUUAFFFFABRRRQAUUUUAFFFFABRRRQAUUUUAFFFFABRRRQAUUUUAFFFFABRRRQAUUUUAFFFFABRRRQAUUUUAFFFFABRRRQAUUUUAFFFFABRRRQAUUUUAFFFFABRRRQAUUUUAFFFFABRRRQBy0f+lfE2Vuq2enBPozvn+VdTXLeGf8ASfEnia+6g3SW4P8A1zXB/nXU1rW3S7JGNHWLfdv8wooorI2Cmv8A6tvoadTX/wBW30NAHP8AgH/knfhr/sF23/opa6Kud8A/8k78Nf8AYLtv/RS10VABRRRQAUUUUAFFFFABRRRQAUUUUAFFFFABRRRQAU1/9W30NOpr/wCrb6GgDn/AP/JO/DX/AGC7b/0UtdFXO+Af+Sd+Gv8AsF23/opa6KgAooooAKKKKACiiigAooooAKKKKACiiigAooooAKKKKACiiigAooooAKKKKACiiigAooooAKKKKACiiigAooooAKKKKACiiigAooooAKKKKACiiigAooooAKKKKACiiigAooooAKKKKACkYhVLE4AGSaWs3xDc/Y/DmpXGcFLaQr9dpx+uKcVdpCk+VNmT4BBfw216ww17dTXB/Fsf+y11FZHha2+yeFtLhxgi2RiPcjJ/U1r1dZ3qN+ZFFWpxXkFFFFZmgU1/9W30NOpr/wCrb6GgDn/AP/JO/DX/AGC7b/0UtdFXO+Af+Sd+Gv8AsF23/opa6KgAooooAKKKKACiiigAooooAKKKKACiiigAooooAKa/+rb6GnU1/wDVt9DQBz/gH/knfhr/ALBdt/6KWuirnfAP/JO/DX/YLtv/AEUtdFQAUUUUAFFFFABRRRQAUUUUAFFFFABRRRQAUUUUAFFFFABRRRQAUUUUAFFFFABRRRQAUUUUAFFFFABRRRQAUUUUAFFFFABRRRQAUUUUAFFFFABRRRQAUUUUAFFFFABRRRQAUUUUAFFFFABXMePpG/4RSa3Q4kupYoF+pcH+QNdPXLeLP9I1jw3YdfMvvPI9RGM/1rWh/ET7a/dqY1/4bXfT79Dp441iiSNBhUUKB7CnUUVkbBRRRQAU1/8AVt9DTqa/+rb6GgDn/AP/ACTvw1/2C7b/ANFLXRVzvgH/AJJ34a/7Bdt/6KWuioAKKKKACiiigAooooAKKKKACiiigAooooAKKKiuUlktZkt5hDMyMI5Sm4I2OGx3wecUAS01/wDVt9DXJ6XdaraeNf7Fl1iTV4BZNPdNLBGjWsm5RGMxqow4LnaQT8mc4rZ1fX7PRysdzDqDtIhINrp89wB9TGjAfjQBS8A/8k78Nf8AYLtv/RS10Vc74B/5J34a/wCwXbf+ilroqACiiigAooooAKKKKACiiigAooooAKKKKACiiigAooooAKKKKACiiigAooooAKKKKACiiigAooooAKKKKACiiigAooooAKKKKACiiigAooooAKKKKACiiigAooooAKKKKACiiigAooooAK5a6/0r4l2EXUWdhJN9C7bP5V1Nctov+leOvEN1/DCsNsh/4Dlv1rWlopPy/PQxq6uK7v8ALX9DqaKKKyNgooooAKa/+rb6GnU1/wDVt9DQBz/gH/knfhr/ALBdt/6KWuirnfAP/JO/DX/YLtv/AEUtdFQAUUUUAFFFFABRRRQAUUUUAFFFFABRRRQAVDeRzy2U8drOLe4eNlimaPeI3I4YrkbsHBxkZqaigDl/CnhvVvDqmG51axvYXLSTOtg8c88p6yPIZmyf+A+gGAMV0z/6tvoadTX/ANW30NAHP+Af+Sd+Gv8AsF23/opa6Kud8A/8k78Nf9gu2/8ARS10VABRRRQAUUUUAFFFFABRRRQAUUUUAFFFFABRRRQAUUUUAFFFFABRRRQAUUUUAFFFFABRRRQAUUUUAFFFFABRRRQAUUUUAFFFFABRRRQAUUUUAFFFFABRRRQAUUUUAFFFFABRRRQAUUUUAFct4H/f2uq6gefteozOp/2QQB/Wug1G5+x6Xd3WceTC8n5KTWR4Itvsvg3TUI5aMyH33Et/WtY6Um+7RjLWrFdk/wBDoKKKKyNgooooAKa/+rb6GnU1/wDVt9DQBz/gH/knfhr/ALBdt/6KWuirnfAP/JO/DX/YLtv/AEUtdFQAUUUUAFFFFABRRRQAUUUUAFFFFABRRRQAUUUUAFNf/Vt9DTqa/wDq2+hoA5/wD/yTvw1/2C7b/wBFLXRVzvgH/knfhr/sF23/AKKWuioAKKKKACiiigAooooAKKKKACiiigAooooAKKKKACiiigAooooAKKKKACiiigAooooAKKKKACiiigAooooAKKKKACiiigAooooAKKKKACiiigAooooAKKKKACiiigAooooAKKKKACiiigDnvHNwbbwbqLD7zoIgPXcwX+RNbNhbiz062th0hiSP8gBXPeNv38ej2A/5etSiVh/sDJP9K6mtZaU4r1MY61ZPskvzCiiisjYKKKKACmv/AKtvoadTX/1bfQ0Ac/4B/wCSd+Gv+wXbf+ilroq53wD/AMk78Nf9gu2/9FLXRUAFFFFABRRRQAUUUUAFFFFABRRRQAUUUUAFFFFABTX/ANW30NOpr/6tvoaAOf8AAP8AyTvw1/2C7b/0UtdFXO+Af+Sd+Gv+wXbf+ilroqACiiigAooooAKKKKACiiigAooooAKKKKACiiigAooooAKKKKACiiigAooooAKKKKACiiigAooooAKKKKACiiigAooooAKKKKACiiigAooooAKKKKACiiigAooooAKKKKACiiigAooooA5bWP8ASvH2gW3VbeKa5YfUbR+orqa5ay/0r4k6nN1FnYxW/wBC5311Na1dOVeX56/qY0teZ93+Wn6BRRRWRsFFFFABTX/1bfQ06mv/AKtvoaAOf8A/8k78Nf8AYLtv/RS10Vc74B/5J34a/wCwXbf+ilroqACiiigAooooAKKKKACiiigAooooAKKKKACiiigApr/6tvoadTX/ANW30NAHP+Af+Sd+Gv8AsF23/opa6Kud8A/8k78Nf9gu2/8ARS10VABRRRQAUUUUAFFFFABRRRQAUUUUAFFFFABRRRQAUUUUAFFFFABXF6v4wubPX2W2g83SbBlj1CUDJVn4GP8Ad/8ArVt+J9ZbRtIaSFd97OwhtYxyWkbgce3Wm6L4dg0/w7/ZlyBM06s12x58x2+8c/p+Fb01GK55q99P8zCo5SlyQdra/wCSNpHWRFdGDKwyCDkEUtcr4UuZtNurnwxeuWmsxvtZG/5awHp+I6f/AKq6qs5w5JWNKc+eNwoooqCwooooAKKKKACiiigAooooAKKKKACiiigAooooAKKKKACiiigAooooAKKKKACiiigAooooAKKKZNKsMMkr/dRSx+gGaAOZ8I/6RqfiO/8A+euoGEH1EYwP511Ncz4BiZfCNtM/+suZJJm+pc/0Arpq1r/xGu2n3aGND+Gn31+/UKKKKyNgooooAKa/+rb6GnU1/wDVt9DQBz/gH/knfhr/ALBdt/6KWuirnfAP/JO/DX/YLtv/AEUtdFQAUUUUAFFFFABRRRQAUUUUAFFFFABRRRQAU2R/LjZ9rNtBO1Rkn2FOpGYKpYgkAZwBk0AY+geI4dfkv4ksb2ymsZVimivEVWyyK4ICseNrDrg1rv8A6tvoa4jwlqouPGHiRjpurwR6hcxTW8lzps8KMqW0aHLOoAO5WGD1rpNX0u81Aq9truoacqIQUtUgYP7nzI2P5EUAUvAP/JO/DX/YLtv/AEUtdFXO+Af+Sd+Gv+wXbf8Aopa6KgAooooAKKKKACiiigAooooAKKKKACiiigAooooAKKKKACiiua8XX85ht9D09sX+pMYwR/yzj/jc/h/X0qoQc5WInNQjzMq6V/xU3iiXWn+bTtPJgsQejv8Axyf0H4eldfVXTrCDS9OgsbZdsMKBV9/c+5PNWqqpNSemy2FTg4rXd7nN+LdOnaCDWdPX/iY6axkQD/lpH/Gh+o/zzWzpmowatptvfWzZimTcPUHuD7g8VbrkLD/ilvFT6Y3y6XqjGW1PaKb+JPYHt+HvVR9+HL1W3p/Wv3kS/dz5uj39ej/T7jr6KKKxNwooooAKKKKACiiigAooooAKKKKACiiigAooooAKKKKACiiqGpa3pmkJuv76GDjIVm+Y/RRyfyppNuyE2oq7L9Fcp/wll9qfy6Bodzcqelzc/uYvqM8t+lH/AAj+varzrWutDEettpw8tfoXPJrX2Vvjdvz+4y9tf4Ff8vvOgk1TT4r2OzkvbdbqQ4WEyDcT9Kt1zT+BNAOnSWsNmInbkXIJMqsOjBjz17dKZoutXdlfjQNeYC9A/wBGuui3S/8AxXqP8kdOLV4O9gVSUXaorX/qx1FFFFYmwUUUUAFY/iu5+yeE9Ulzg/Z2QH3YbR/OtiuW8fEy+H4bEdb28ht8euWz/wCy1pRV6kV5mVZ2pyfkbGg232Pw9p1vjBjtowfrtGf1rRoAAAA4AoqJO7uaRVkkFFFFIYUUUUAFNf8A1bfQ06mv/q2+hoA5/wAA/wDJO/DX/YLtv/RS10Vc74B/5J34a/7Bdt/6KWuioAKKKKACiiigAooooAKKKKACiiigAooooAKKKKACmv8A6tvoadTX/wBW30NAHP8AgH/knfhr/sF23/opa6Kud8A/8k78Nf8AYLtv/RS10VABRVHVzqa6e7aSsDXakELPnawB5HsTVHRfE9tqsrWc8b2Wpx/6y0m4b6qf4hVqDceZEOpFS5WblFFFQWFFFFABRRRQAUUUUAFFFFABRRRQAUUUUARXFxFaW0txO4SKJS7sewHJrmvClvLqV1deJ7xCst58lqjf8soAePz6/wD66Z4kd9d1i28MW7EQnFxqDqfuxg8J9ScfpXVoiRRrHGoVFAVVAwAB2rb4Ieb/AC/4Jh/EqeUfz/4A6iiisTcKyvEWjLrmjyWu7ZOpEkEveOQfdP8AT8a1aKcZOLuiZRUk4sxfDGstrGlBrhfLvrdjDdRngrIvXj36/wD6q2q5DWgfDXiKHxBGMWN2Vt9QUdFPRJPw6H/69dcCGAIIIPIIrSrFfFHZ/wBWIpSesZbr+ri0UUVkahRRRQAUUUUAFFFFABRRRQAUUUUAFFMlljhiaWV1jjUZZmOAB6k1ys3iS/1yZ7TwvAGjB2yalOuIk/3R/Ef89OauFNy22InUjDfc6K/1Sw0yLzL67ht17eY4BP0HU/hWAfGT35KeH9Iu9RPQTMPKh/76b+XFWNO8G6bayfab5TqV+xy9zdfMSfZTwB6V0IAUAAAAcACrvTjsr/giLVZbu34v/I5X+x/E2rc6prKWEJ62+nLhse8h5H6ir+m+EdE0x/Nisllnzkz3B8xyfXJ6H6YrcopOtJqy0XkNUYJ3er89QooorI1Cs7WtFtNdsDa3SkEHdHKvDRN2ZTWjRTjJxd0KUVJWZy+ia1d2d+NA14gXoH+jXXRbpf8A4r1FdRWbrWi2mu2BtboEEHdFKvDRN2ZTWTomtXdnfjQdeIF8B/o9z0W6X1/3vUVrJKouaO/VfqjGMnTfLLbo/wBGdRRRRWJuFct4k/0nxT4Zseo+0SXLD08tcj+tdTXLH/S/iao6pZabn6O7/wCFa0dG32TMa2qS7tHU0UUVkbBRRRQAUUUUAFNf/Vt9DTqa/wDq2+hoA5/wD/yTvw1/2C7b/wBFLXRVzvgH/knfhr/sF23/AKKWuioAKKKKACiiigAooooAKKKKACiiigAooooAKKKKACmv/q2+hp1Nf/Vt9DQBz/gH/knfhr/sF23/AKKWuirnfAP/ACTvw1/2C7b/ANFLXRUAFZWteHrHXYl+0KyXEfMNzEdskZ9Qf6Vq0U4ycXdEyipKzOQi1vU/DMq2viMG4sidsWpxLx7CQdj7/wA+tdZFNHPEksMiyRuMq6HII9QaJYo54milRZI3GGRhkEehFcnLoWpeG5nu/DbedaE7pdLlb5T6mM9j7fz6Vr7tTyf4P/L8jL36fmvxX+f5+p19FZOieIrHXI2EDNFcx8TW0o2yRn3H9a1qylFxdmaxkpK6CiiikUFFFFABRRRQAUUUUAFUNa1WHRdJuL+flYlyF7u3ZR9TV+uQn/4qjxetsPm0vR2Dy+ktx2X32/4+taU4qTu9luZ1ZOKtHd7F/wAJ6VNZWEl7f86lqD+fcE9Vz91PoB2+tdBRRUzk5ScmVCChFRQUUUVJQUUUUAQXtnBqFlNaXKb4ZkKOPY1z3hK8ntXufDl++670/wD1Tn/lrAfusPpwPyrqK5jxbYzwi38Qaemb3TiWZR/y1h/iU/hk/nW1N837t9fzMaqcbVF0/I6eiq9hfQalYQXts+6GZA6n+h96sVk1Z2ZqmmroKKKKQwooooAKKKKACiioLy9ttPtXubudIYU+87nAoSvogbtqyesTWvE9lpEi2qq93qEn+rs4Budj7+g+tZR1XWfFJMeiI2n6YeG1CZfnkH/TNf6/yNbei+HtP0ONvs0Zad+ZbiU7pJD7n+lbckYfHv2/zMOeVT+Ht3/yMaLw9qXiCVbrxNNtgB3R6ZA2EX03kfeP+faurhhit4UhhjSOJBhUQYAHsKfRUTqOW+xpCnGG2/cKKKKgsKKKKACiiigAooooAKzdb0S012wNtcghgd0Uq8PE3ZlNaVFOMnF3QpRUlZnL6Jrd3aX40HXiBfAf6Pc9Eul9R/teorqKzdb0S112wNtcgqwO6KVOHibsymsrRNburW/Gg68Qt+o/0e56JdJ6j/a9RWsoqouaO/VfqjGMnTfLLbo/0Z09ct4d/wBJ8W+Jb3qBNFbL7bFwf1xXU9K5bwF+90O5vz1vr2a4z65bH9KUNISfov6+4c9akV6v9P1OpooorI2CiiigAooooAKa/wDq2+hp1Nf/AFbfQ0Ac/wCAf+Sd+Gv+wXbf+ilroq53wD/yTvw1/wBgu2/9FLXRUAFFFFABRRRQAUUUUAFFFFABRRRQAUUUUAFFFFABTX/1bfQ06mv/AKtvoaAOf8A/8k78Nf8AYLtv/RS10Vc74B/5J34a/wCwXbf+ilroqACiiigAooooAw9b8M2urSLdxSPZ6lH/AKq8h4Yex/vD2qhaeJbvSblNO8URLBIx2w36D9zN9f7p/wA8V1dQXdnb39s9tdwpNC4wyOMg1rGppyz1X5GUqevNDR/g/UmBDAEEEHkEUtccbDV/CBMml+ZqWjjlrJzmWEf9Mz3Ht/8ArrSsvGvh++wq6jHDJ3juMxkH0+bj8jQ6T3hqv63Eqyvaej/rY36KbHJHMgeJ1dD0ZTkGnVkbBRRRQAUUUEgAknAHU0AYninWH0nSsWo3390wgtYx1Ltxn8Ov5VP4f0dND0aGyU75B880nd5D94/57AVi6KD4k8Rz+IJBmxtN1vp4PRj/AByfj0H/ANauurap7kfZ/f8A15GFP35e06dP8/mFFFFYm4UUUUAFFFFABQRkYPSiigDkNJJ8MeJZdDfjTr4tPYE9Ef8Ajj/qP/r119Y/iXRjrWktFE3l3kLCa1lHBSReRz79KXw3rI1vSEndfLuoyYrmI8FJF6jH6/jW0/fjz9ev+ZhT9yXs+nT/AC+Rr0UUVibhRTZJY4YzJK6oi8lmOAPxrn7vxvolvL5ME731x2iskMpP0I4/WqjCUvhVyJVIw+J2Oiorlf7U8V6nxYaNDp8R6TX8mW/74XkH60f8Ijeahzrmv3l0D1ggxDF9CB1/StPZJfFJL8SPat/BFv8AD8/8ixqniuKC7Om6TA2pamePKiPyR+7t0H+elQWfhWa+uk1DxLcC+uV5jtl4gh+i/wAR9z+vWtzTNIsNGtvs+n2qQR9Tt5LH1JPJ/GrtDqKOlPTz6/8AABU3J3qa+XT/AIIgAAAAAA6AUtFFYmwUUUUAFFFFABRRRQAUUUUAFFFFABRRRQAVm63olrrtgba5BVlO6KZOHibsymtKinGTi7oUoqSszif+Eku9J0+/0rXWCahDbSPbXPRbpQpwR/teorc8I232TwlpcWME26uR7t839asa1oVhr9j9lvoyyg5V1OGQ+oNX4YkghjhjGEjUKo9ABgVtOpFwslZ31MYU5Rndu6S0H0UUVgbhRRRQAUUUUAFNf/Vt9DTqa/8Aq2+hoA5/wD/yTvw1/wBgu2/9FLXRVzvgH/knfhr/ALBdt/6KWuioAKKKKACiiigAooooAKKKKACiiigAooooAKKKKACmv/q2+hp1Nf8A1bfQ0Ac/4B/5J34a/wCwXbf+ilroq53wD/yTvw1/2C7b/wBFLXRUAFFFFABRRRQAUUUUAFVLzS9P1FcXllb3H/XSMMR+Jq3RTTa1Qmk9GcxJ4D0hXMlg95psp53Wlwy/oc0z+yPFdh/x46/DeIOkd/Bj/wAeXk11VFae2n119dTL2EOmnpocr/b3iOx41Hw00yDrLYSh8/RDzUsHjvQpJBFczTWM3/PO7hZCPx6frXS1FPbQXUfl3EMcyH+GRQw/I0c8HvH7v+DcOSovhl96/wArDbW+tL1N9pdQzp/eikDD9K5/xdezzLb+H7B8XupHazD/AJZQ/wAbH8Mj86luvA3h+4fzEsvssvaS1cxkfQDj9Km0Xwxb6Nez3n2u7vLiVBGJbp97Ig/hB/z0FVF04vmT26WJkqslytb9bmpY2UGnWMFnbJthhQIo9h/WrFFFYt31ZukkrIKKKKQwooooAKKKKACiiigArj9UP/CK+Jk1lfl0zUCIb0DpHJ/DJ/Q/j612FRzQRXETRTxJLG3VHUMD+Bq6c+V67MzqQ5lputjmn8cWty5j0awvtUkHG6GIrGD7sen5Um3xnqn3nstGhPZR58o/9lrqERY0CIoVRwABgCnVftIr4Y/fr/wPwJ9nJ/FL7tP+D+Jy8fgawmkEurXV5qso5/0mY7AfZR0+ldBaWFpYReVZ2sNun92JAo/SrFFRKpOW7LjThD4UFFFFQWFFFFABRRRQAUUUUAFFFFABRRRQAUUUUAFFFFABRRRQAUUUUAFFFFABRRRQAUUUUAFFFFABTX/1bfQ06mv/AKtvoaAOf8A/8k78Nf8AYLtv/RS10Vc74B/5J34a/wCwXbf+ilroqACiiigAooooAKKKKACiiigAooooAKKKKACsrxPqU2j+FNY1O3UNNaWU08YIyNyoSM+2RWrUdxbw3dtLbXEayQzIY5EboykYIP4UAcRp8N3oHiPw5CNWv75NWt5lu1u7hpVMixiQSID9z+IYXC4YccV02r6/Z6OVjuYdQdpEJBtdPnuAPqY0YD8ap6P4PtNIvoLs32oXr2sBt7QXkquLaM4yqYUZztUbmy2BjNdAw3KQDjIxQBz3gH/knfhr/sF23/opa6KuP0jQPFujaLY6Xb+INGaCzt0t4zJpEhYqihRki4HOB6Crv2Lxn/0HtD/8E8v/AMk0AdHRXF69P4z0Pw7qWrf2xoc32K1kuPK/smVd+xS2M/aDjOOuK0Fs/GZUH+3tD5H/AEB5f/kmgDpKK5z7F4z/AOg9of8A4J5f/kmj7F4z/wCg9of/AIJ5f/kmgDo6K5z7F4z/AOg9of8A4J5f/kmj7F4z/wCg9of/AIJ5f/kmgDo6K5z7F4z/AOg9of8A4J5f/kmj7F4z/wCg9of/AIJ5f/kmgDo6K5z7F4z/AOg9of8A4J5f/kmj7F4z/wCg9of/AIJ5f/kmgDo6K5z7F4z/AOg9of8A4J5f/kmj7F4z/wCg9of/AIJ5f/kmgDo6K5z7F4z/AOg9of8A4J5f/kms2G48ZzeI73SP7Y0MfZrWC583+yZfm8xpV24+0cY8rrnnd7cgHa0Vzn2Lxn/0HtD/APBPL/8AJNH2Lxn/ANB7Q/8AwTy//JNAHR0Vzn2Lxn/0HtD/APBPL/8AJNH2Lxn/ANB7Q/8AwTy//JNAHR0Vzn2Lxn/0HtD/APBPL/8AJNH2Lxn/ANB7Q/8AwTy//JNAHR0Vzn2Lxn/0HtD/APBPL/8AJNH2Lxn/ANB7Q/8AwTy//JNAHR0Vzn2Lxn/0HtD/APBPL/8AJNH2Lxn/ANB7Q/8AwTy//JNAHR0Vzn2Lxn/0HtD/APBPL/8AJNZ2vT+M9D8O6lq39saHN9itZLjyv7JlXfsUtjP2g4zjrigDtKK5tbPxmVB/t7Q+R/0B5f8A5JpfsXjP/oPaH/4J5f8A5JoA6Oiuc+xeM/8AoPaH/wCCeX/5Jo+xeM/+g9of/gnl/wDkmgDo6K5z7F4z/wCg9of/AIJ5f/kmj7F4z/6D2h/+CeX/AOSaAOjornPsXjP/AKD2h/8Agnl/+SaPsXjP/oPaH/4J5f8A5JoA6Oiuc+xeM/8AoPaH/wCCeX/5Jo+xeM/+g9of/gnl/wDkmgDo6K5z7F4z/wCg9of/AIJ5f/kmj7F4z/6D2h/+CeX/AOSaAOjoriobjxnN4jvdI/tjQx9mtYLnzf7Jl+bzGlXbj7Rxjyuued3tzpfYvGf/AEHtD/8ABPL/APJNAHR0Vzn2Lxn/ANB7Q/8AwTy//JNH2Lxn/wBB7Q//AATy/wDyTQB0dFc59i8Z/wDQe0P/AME8v/yTR9i8Z/8AQe0P/wAE8v8A8k0AdHRXOfYvGf8A0HtD/wDBPL/8k0fYvGf/AEHtD/8ABPL/APJNAHR0Vzn2Lxn/ANB7Q/8AwTy//JNH2Lxn/wBB7Q//AATy/wDyTQB0dFc59i8Z/wDQe0P/AME8v/yTR9i8Z/8AQe0P/wAE8v8A8k0AdHRXF69P4z0Pw7qWrf2xoc32K1kuPK/smVd+xS2M/aDjOOuK0Fs/GZUH+3tD5H/QHl/+SaAOkornPsXjP/oPaH/4J5f/AJJo+xeM/wDoPaH/AOCeX/5JoA6Oiuc+xeM/+g9of/gnl/8Akmj7F4z/AOg9of8A4J5f/kmgDo6K5z7F4z/6D2h/+CeX/wCSaPsXjP8A6D2h/wDgnl/+SaAOjpr/AOrb6Gue+xeM/wDoPaH/AOCeX/5JpDY+MyCP7e0Pn/qDy/8AyTQA7wD/AMk78Nf9gu2/9FLXRVm+H9LOh+HNM0kzCY2VrFb+aF279ihc4ycZx61pUAFFFFABRRRQAUUUUAFFFFABRRRQAUUUUAFFFFABRRRQAUUUUAZmtaxpekWqf2pJiO4bykiELTNKSCSoRQWbgHOAeKsabqVnq+nxX1hOs9tLnY65HQ4IIPIIIIIPIIrmvFF1BpHjLw7rGoyLDpkUN3bvcScJDK/llCx6LkI4yfXHepfAYMun6rfIjLa32q3Fza7lK7oiQA4B7MQzD1DZ70AdXRRRQAUUUUAFFFFABRRRQAUUUUARXNxFaWs1zcOI4YUaSRz0VQMk/lWVpXiPRdYv5IbKVvtgiDsk1tJBI0YOAwEiqWUE9Rkc+9al5dwWFlPeXUoit7eNpZZG6IijJJ+gBrhvCviDS/GHiga2NUsTLHbSQ6fp0dwjTJCzKXllAOQzbE+X+EDnknAB39FFFABRRRQAUUUUAFFFFABRRRQAVXv57S20+4nv2jW0jjZpmkGVCAc59sVYrmPFVjrl9e6aLCys73T4HM09vcXbQeZIpBjyRG+VBy2OOQvpggG3pWqWetaZBqOnymW0nXdG5RkyM46MAR07irlcb8LJLuT4e6b9qt4odu8R+XKZN6bjycqMHORjnoDnnA7KgAooooAKKKKACiiigAooooAKKKKAMWHxJos2tPY28ry3m7yXkitZGjDLk7GlC7ARzwW4Oa2q8a8IvNpNpoGnwavfyeJI9Q8jUdNeViiw728xjF91V2/OJOrEjk5xXstABRRRQAUUUUAFFFFABRRRQAUUUUAZmtaxpek26Lqcny3JMSQrC0zzHBJAjUFm4znA6VPpeq2Os2K3mnziaAsUyAVKsDgqykAqQeoIBrk/HsyQax4dlmv20iFJJy2rgA/ZzsAEZ3AoN+Ty4I+Tjkg1Z+HTFtCvWDGeM6jO0d8VKm9BIPnEHjkkjjC/LwAMCgDr6KKKACiiigAooooAKKKKACiiigAooooAKKKKACiiigAooooAKKKKACiiigAooooAKKKKACiiigAooooAKKKKACiiigAooooAKKKKACiiigAooooAKKKKACiiigAooooAKKKKACiiigAooooAKKKKACiiigAooooAKKKKACiiigAooooAKKKKACiiigAooooAKKKKACiiigAooooAKKKKACiiigAooooAKKKKACiiigAooooAKKKKACiiigAooooAKKKKACiiigAooooAKKKKACiiigAooooAKKKKACiiigAooooAKKKKACiiigAooooAKKKKACiiigAooooAKKKKACiiigAooooAKKKKACiiigAooooAKKKKACiiigAooooAKKKKACiiigAooooAKKKKACiiigAooooAKKKKACiiigAooooAKKKKACiiigAooooAKKKKACiiigAooooAKKKKAP/Z\">"
      ],
      "text/plain": [
       "<IPython.core.display.HTML object>"
      ]
     },
     "execution_count": 11,
     "metadata": {},
     "output_type": "execute_result"
    }
   ],
   "source": [
    "show(generate_chart(10))"
   ]
  },
  {
   "cell_type": "code",
   "execution_count": 12,
   "id": "c9f74172",
   "metadata": {},
   "outputs": [],
   "source": [
    "#| exports\n",
    "teams = [[\"Alicia Koch\"],['Acme Inc', 'Monster Inc.'],['Create a Team']]\n",
    "\n",
    "opt_hdrs = [\"Personal\", \"Team\", \"\"]\n",
    "\n",
    "team_dropdown = UkDropdownButton(*[list(map(A, team)) for team in teams],\n",
    "    opt_hdrs=opt_hdrs,\n",
    "    label=teams[0][0])"
   ]
  },
  {
   "cell_type": "code",
   "execution_count": 13,
   "id": "b91ef344",
   "metadata": {},
   "outputs": [],
   "source": [
    "#| exports\n",
    "hotkeys = [('Profile','⇧⌘P'),('Billing','⌘B'),('Settings','⌘S'),('New Team', '')]\n",
    "\n",
    "def space(*c): return A(FullySpacedDiv(*(map(P,c))))\n",
    "\n",
    "hotkeys = tuple(map(lambda x: space(*x), hotkeys))\n",
    "logout = space('Logout' ,''),\n",
    "user = Li(cls='px-2 py-1.5 text-sm')(\n",
    "        Div(cls='flex flex-col space-y-1')(\n",
    "            P('sveltecult', cls=TextFont.bold_sm),\n",
    "            P('leader@sveltecult.com', cls=TextFont.muted_sm))),\n",
    "avatar = DiceBearAvatar('Alicia Koch',8,8)\n",
    "avatar_dropdown = UkDropdownButton(user,hotkeys,logout, label=avatar)"
   ]
  },
  {
   "cell_type": "code",
   "execution_count": 14,
   "id": "6ca923da",
   "metadata": {
    "scrolled": true
   },
   "outputs": [],
   "source": [
    "# show(avatar_dropdown)"
   ]
  },
  {
   "cell_type": "code",
   "execution_count": 15,
   "id": "51137d79",
   "metadata": {},
   "outputs": [],
   "source": [
    "#| exports\n",
    "top_nav = UkNavbar(\n",
    "    lnav=[team_dropdown, Li(A(\"Overview\")), Li(A(\"Customers\")), Li(A(\"Products\")), Li(A(\"Settings\"))],\n",
    "    rnav=[Input(placeholder='Search'), avatar_dropdown],)"
   ]
  },
  {
   "cell_type": "code",
   "execution_count": null,
   "id": "5d4b0feb",
   "metadata": {},
   "outputs": [],
   "source": []
  },
  {
   "cell_type": "code",
   "execution_count": 17,
   "id": "a7002b4e",
   "metadata": {},
   "outputs": [],
   "source": [
    "#| exports\n",
    "def page():\n",
    "    return Div(cls=\"space-y-4\")(\n",
    "        Div(cls=\"border-b border-border px-4\")(top_nav),\n",
    "        H2('Dashboard'),\n",
    "        UkTab(\"Overview\", \"Analytics\", \"Reports\", \"Notifications\"), \n",
    "        top_info_row,\n",
    "        Grid(Card(generate_chart(10),cls='lg:col-span-4'),\n",
    "            recent_sales,\n",
    "            gap=4,cls='lg:grid-cols-7'))"
   ]
  },
  {
   "cell_type": "code",
   "execution_count": 18,
   "id": "22a8233b",
   "metadata": {},
   "outputs": [],
   "source": [
    "#| exports\n",
    "dashboard_homepage = page()"
   ]
  },
  {
   "cell_type": "code",
   "execution_count": 19,
   "id": "1992630d",
   "metadata": {},
   "outputs": [],
   "source": [
    "#| hide\n",
    "import nbdev; nbdev.nbdev_export()"
   ]
  },
  {
   "cell_type": "code",
   "execution_count": null,
   "id": "17de0e5f",
   "metadata": {},
   "outputs": [],
   "source": []
  }
 ],
 "metadata": {
  "kernelspec": {
   "display_name": "Python 3 (ipykernel)",
   "language": "python",
   "name": "python3"
  },
  "language_info": {
   "codemirror_mode": {
    "name": "ipython",
    "version": 3
   },
   "file_extension": ".py",
   "mimetype": "text/x-python",
   "name": "python",
   "nbconvert_exporter": "python",
   "pygments_lexer": "ipython3",
   "version": "3.12.4"
  },
  "toc": {
   "base_numbering": 1,
   "nav_menu": {},
   "number_sections": true,
   "sideBar": true,
   "skip_h1_title": false,
   "title_cell": "Table of Contents",
   "title_sidebar": "Contents",
   "toc_cell": false,
   "toc_position": {},
   "toc_section_display": true,
   "toc_window_display": false
  }
 },
 "nbformat": 4,
 "nbformat_minor": 5
}
