{
 "cells": [
  {
   "cell_type": "markdown",
   "id": "bd49724c",
   "metadata": {},
   "source": [
    "# Dashboard\n",
    "\n",
    "> FrankenUI Dashboard Example"
   ]
  },
  {
   "cell_type": "code",
   "execution_count": 1,
   "id": "04abc944",
   "metadata": {},
   "outputs": [],
   "source": [
    "#| default_exp dashboard"
   ]
  },
  {
   "cell_type": "code",
   "execution_count": 1,
   "id": "cef92ebb",
   "metadata": {},
   "outputs": [],
   "source": [
    "#| export\n",
    "from fasthtml.common import *\n",
    "from fh_frankenui.components import *\n",
    "from fasthtml.svg import *\n",
    "from fh_matplotlib import matplotlib2fasthtml\n",
    "import numpy as np\n",
    "import matplotlib.pylab as plt"
   ]
  },
  {
   "cell_type": "code",
   "execution_count": 2,
   "id": "02ad7e62",
   "metadata": {},
   "outputs": [],
   "source": [
    "#| hide\n",
    "from nbdev.showdoc import *"
   ]
  },
  {
   "cell_type": "code",
   "execution_count": 3,
   "id": "f0f5477a",
   "metadata": {},
   "outputs": [
    {
     "data": {
      "text/html": [
       "<script src=\"https://cdn.tailwindcss.com\"></script>\n",
       "<script src=\"https://cdn.jsdelivr.net/npm/uikit@3.21.6/dist/js/uikit.min.js\"></script>\n",
       "<script src=\"https://cdn.jsdelivr.net/npm/uikit@3.21.6/dist/js/uikit-icons.min.js\"></script>\n",
       "<script type=\"module\" src=\"https://unpkg.com/franken-wc@0.0.6/dist/js/wc.iife.js\"></script>\n",
       "<link rel=\"stylesheet\" href=\"https://unpkg.com/franken-wc@0.0.6/dist/css/blue.min.css\">\n",
       "\n",
       "<style>\n",
       "#notebook-container { max-width: none; }\n",
       ".output_html * { list-style-type: none !important; }\n",
       "</style>\n"
      ],
      "text/plain": [
       "<IPython.core.display.HTML object>"
      ]
     },
     "metadata": {},
     "output_type": "display_data"
    }
   ],
   "source": [
    "%%html\n",
    "<script src=\"https://cdn.tailwindcss.com\"></script>\n",
    "<script src=\"https://cdn.jsdelivr.net/npm/uikit@3.21.6/dist/js/uikit.min.js\"></script>\n",
    "<script src=\"https://cdn.jsdelivr.net/npm/uikit@3.21.6/dist/js/uikit-icons.min.js\"></script>\n",
    "<script type=\"module\" src=\"https://unpkg.com/franken-wc@0.0.6/dist/js/wc.iife.js\"></script>\n",
    "<link rel=\"stylesheet\" href=\"https://unpkg.com/franken-wc@0.0.6/dist/css/blue.min.css\">\n",
    "\n",
    "<style>\n",
    "#notebook-container { max-width: none; }\n",
    ".output_html * { list-style-type: none !important; }\n",
    "</style>"
   ]
  },
  {
   "cell_type": "code",
   "execution_count": 4,
   "id": "19ba6675",
   "metadata": {},
   "outputs": [],
   "source": [
    "from httpx import get\n",
    "fh_frankenui = open(\"../fh_frankenui/components.py\").read().strip()\n",
    "\n",
    "url = 'https://raw.githubusercontent.com/franken-ui/examples/master/src/pages/dashboard.astro'\n",
    "dashboard = get(url).text\n",
    "\n",
    "url = 'https://raw.githubusercontent.com/franken-ui/examples/master/src/pages/cards.astro'\n",
    "cards = get(url).text\n",
    "\n",
    "url = 'https://github.com/AnswerDotAI/fh-frankenui-examples/blob/main/fh_frankenui_examples/cards.py'\n",
    "cards_in_python = get(url).text\n",
    "\n",
    "url = 'https://github.com/AnswerDotAI/fh-frankenui-examples/blob/main/fh_frankenui_examples/tasks.py'\n",
    "tasks_in_python = get(url).text\n",
    "\n",
    "url = 'https://raw.githubusercontent.com/AnswerDotAI/fasthtml/main/examples/adv_app.py'\n",
    "idiomatic_fasthtml_app = get(url).text\n"
   ]
  },
  {
   "cell_type": "code",
   "execution_count": 9,
   "id": "d382f5d5",
   "metadata": {},
   "outputs": [],
   "source": [
    "%%ai 0 -c\n",
    "\n",
    "I am implementing FrankenUI for FastHTML by reimplementing the FrankenUI examples from their docs in a python library.  I am doing this by building a library as I go, `fh_frankenui`.\n",
    "\n",
    "Reference the `idiomatic_fasthtml_app` to get a feel for fasthtml.\n",
    "\n",
    "I previously did their `cards` example, and the python implementation looked like `cards_in_python`.\n",
    "\n",
    "Now, I am looking to do the same with their `dashboard` example.\n",
    "\n",
    "The goal is to develop the work-in-progress `fh_frankenui` library, so please use `fh_frankenui` as much as makes sense and recommend functions or improvements to `fh_frankenui` when it fits.\n",
    "\n",
    "Please read all this information and confirm that you understand what I want to do by giving me a brief overview in your own words.  \n"
   ]
  },
  {
   "cell_type": "markdown",
   "id": "8a31fe0f",
   "metadata": {},
   "source": [
    "You're developing a Python library called `fh_frankenui` to implement FrankenUI components for FastHTML. Your approach involves recreating FrankenUI examples from their documentation in Python.\n",
    "\n",
    "You've already completed the 'cards' example and are now focusing on the 'dashboard' example. Your goal is to create a Python equivalent of the FrankenUI dashboard, utilizing and expanding the `fh_frankenui` library as needed.\n",
    "\n",
    "You want me to analyze the provided context, including the FastHTML idiomatic app, the existing `fh_frankenui` code, and the FrankenUI dashboard example. Based on this analysis, you're looking for guidance on implementing the dashboard in Python, with suggestions for new functions or improvements to `fh_frankenui` where appropriate."
   ]
  },
  {
   "cell_type": "code",
   "execution_count": 10,
   "id": "b8ed7a67",
   "metadata": {},
   "outputs": [],
   "source": [
    "%%aip 0\n",
    "\n",
    "I want a flexible function that can generate the top row of cards that all share the same general format"
   ]
  },
  {
   "cell_type": "code",
   "execution_count": 11,
   "id": "275f3643",
   "metadata": {},
   "outputs": [],
   "source": [
    "#| exports\n",
    "def InfoCard(title, value, change):\n",
    "    return Card(\n",
    "             Div(UkH3(value),\n",
    "                P(change, cls=TextT.muted_sm)),\n",
    "             header = UkH4(title),)"
   ]
  },
  {
   "cell_type": "code",
   "execution_count": 12,
   "id": "45c602c4",
   "metadata": {},
   "outputs": [],
   "source": [
    "%%aip 0\n",
    "Use the `InfoCard` function to create the top row of cards - each one in a variable (rev,sub,sal,act)."
   ]
  },
  {
   "cell_type": "code",
   "execution_count": 13,
   "id": "745555dc",
   "metadata": {},
   "outputs": [],
   "source": [
    "#| exports\n",
    "rev = InfoCard(\"Total Revenue\", \"$45,231.89\", \"+20.1% from last month\")\n",
    "sub = InfoCard(\"Subscriptions\", \"+2350\", \"+180.1% from last month\")\n",
    "sal = InfoCard(\"Sales\", \"+12,234\", \"+19% from last month\")\n",
    "act = InfoCard(\"Active Now\", \"+573\", \"+201 since last hour\")"
   ]
  },
  {
   "cell_type": "code",
   "execution_count": 14,
   "id": "96867f4f",
   "metadata": {},
   "outputs": [],
   "source": [
    "#| exports\n",
    "top_info_row = Div(cls='grid grid-cols-2 gap-4 lg:grid-cols-4')(rev,sub,sal,act)"
   ]
  },
  {
   "cell_type": "code",
   "execution_count": 15,
   "id": "76a4a138",
   "metadata": {},
   "outputs": [
    {
     "data": {
      "text/html": [
       "<div class=\"grid grid-cols-2 gap-4 lg:grid-cols-4\">\n",
       "  <div class=\"uk-card \">\n",
       "    <div class=\"uk-card-header \">\n",
       "      <h4 class=\"uk-h4\">Total Revenue</h4>\n",
       "    </div>\n",
       "    <div class=\"uk-card-body space-y-6\">\n",
       "      <div>\n",
       "        <h3 class=\"uk-h3\">$45,231.89</h3>\n",
       "        <p class=\"text-sm uk-text-muted\">+20.1% from last month</p>\n",
       "      </div>\n",
       "    </div>\n",
       "  </div>\n",
       "  <div class=\"uk-card \">\n",
       "    <div class=\"uk-card-header \">\n",
       "      <h4 class=\"uk-h4\">Subscriptions</h4>\n",
       "    </div>\n",
       "    <div class=\"uk-card-body space-y-6\">\n",
       "      <div>\n",
       "        <h3 class=\"uk-h3\">+2350</h3>\n",
       "        <p class=\"text-sm uk-text-muted\">+180.1% from last month</p>\n",
       "      </div>\n",
       "    </div>\n",
       "  </div>\n",
       "  <div class=\"uk-card \">\n",
       "    <div class=\"uk-card-header \">\n",
       "      <h4 class=\"uk-h4\">Sales</h4>\n",
       "    </div>\n",
       "    <div class=\"uk-card-body space-y-6\">\n",
       "      <div>\n",
       "        <h3 class=\"uk-h3\">+12,234</h3>\n",
       "        <p class=\"text-sm uk-text-muted\">+19% from last month</p>\n",
       "      </div>\n",
       "    </div>\n",
       "  </div>\n",
       "  <div class=\"uk-card \">\n",
       "    <div class=\"uk-card-header \">\n",
       "      <h4 class=\"uk-h4\">Active Now</h4>\n",
       "    </div>\n",
       "    <div class=\"uk-card-body space-y-6\">\n",
       "      <div>\n",
       "        <h3 class=\"uk-h3\">+573</h3>\n",
       "        <p class=\"text-sm uk-text-muted\">+201 since last hour</p>\n",
       "      </div>\n",
       "    </div>\n",
       "  </div>\n",
       "</div>\n"
      ],
      "text/plain": [
       "<IPython.core.display.HTML object>"
      ]
     },
     "execution_count": 15,
     "metadata": {},
     "output_type": "execute_result"
    }
   ],
   "source": [
    "show(top_info_row)"
   ]
  },
  {
   "cell_type": "code",
   "execution_count": 16,
   "id": "ee500a1b",
   "metadata": {},
   "outputs": [],
   "source": [
    "%%aip 0\n",
    "\n",
    "Let's create the card with the avatars next.  Be sure to reference similar examples from `cards_in_python` to make it as simple as possible.\n",
    "\n",
    "I don't need an exact recreation so if UkH3 or UkH4 is close enough (like I did previously) then that's fine"
   ]
  },
  {
   "cell_type": "code",
   "execution_count": 17,
   "id": "d518a3e0",
   "metadata": {},
   "outputs": [
    {
     "data": {
      "text/html": [
       "<span class=\"relative flex h-12 w-12 shrink-0 overflow-hidden rounded-full bg-accent\"><img alt=\"Avatar\" src=\"https://api.dicebear.com/8.x/lorelei/svg?seed=Isaac Flath\" class=\"aspect-square h-full w-full\"></span>"
      ],
      "text/plain": [
       "<IPython.core.display.HTML object>"
      ]
     },
     "execution_count": 17,
     "metadata": {},
     "output_type": "execute_result"
    }
   ],
   "source": [
    "#| export\n",
    "def DiceBearAvatar(seed_name, h, w):\n",
    "    # Number that work can be found here (not all numbers work): https://tailwindcss.com/docs/height\n",
    "    return Span(cls=f\"relative flex h-{h} w-{w} shrink-0 overflow-hidden rounded-full bg-accent\")(\n",
    "            Img(cls=\"aspect-square h-full w-full\", alt=\"Avatar\", src=f\"https://api.dicebear.com/8.x/lorelei/svg?seed={seed_name}\"))\n",
    "    \n",
    "show(DiceBearAvatar('Isaac Flath', 12,12))"
   ]
  },
  {
   "cell_type": "code",
   "execution_count": 18,
   "id": "98b733c2",
   "metadata": {},
   "outputs": [],
   "source": [
    "#| exports\n",
    "def AvatarItem(name, email, amount):\n",
    "    return Div(cls=\"flex items-center\")(\n",
    "        DiceBearAvatar(name, 9,9),\n",
    "        Div(cls=\"ml-4 space-y-1\")(\n",
    "            P(name, cls=TextT.medium_sm),\n",
    "            P(email, cls=TextT.muted_sm)),\n",
    "        Div(amount, cls=\"ml-auto font-medium\"))\n",
    "\n",
    "recent_sales = Card(\n",
    "    Div(cls=\"space-y-8\")(\n",
    "        *[AvatarItem(n,e,d) for (n,e,d) in (\n",
    "            (\"Olivia Martin\",   \"olivia.martin@email.com\",   \"+$1,999.00\"),\n",
    "            (\"Jackson Lee\",     \"jackson.lee@email.com\",     \"+$39.00\"),\n",
    "            (\"Isabella Nguyen\", \"isabella.nguyen@email.com\", \"+$299.00\"),\n",
    "            (\"William Kim\",     \"will@email.com\",            \"+$99.00\"),\n",
    "            (\"Sofia Davis\",     \"sofia.davis@email.com\",     \"+$39.00\"))]),\n",
    "    header=Div(\n",
    "        UkH3(\"Recent Sales\"),\n",
    "        P(\"You made 265 sales this month.\", cls=TextT.muted_sm)))"
   ]
  },
  {
   "cell_type": "code",
   "execution_count": 19,
   "id": "1e9fff9f",
   "metadata": {},
   "outputs": [
    {
     "data": {
      "text/html": [
       "<div class=\"uk-card \">\n",
       "  <div class=\"uk-card-header \">\n",
       "    <div>\n",
       "      <h3 class=\"uk-h3\">Recent Sales</h3>\n",
       "      <p class=\"text-sm uk-text-muted\">You made 265 sales this month.</p>\n",
       "    </div>\n",
       "  </div>\n",
       "  <div class=\"uk-card-body space-y-6\">\n",
       "    <div class=\"space-y-8\">\n",
       "      <div class=\"flex items-center\">\n",
       "<span class=\"relative flex h-9 w-9 shrink-0 overflow-hidden rounded-full bg-accent\"><img alt=\"Avatar\" src=\"https://api.dicebear.com/8.x/lorelei/svg?seed=Olivia Martin\" class=\"aspect-square h-full w-full\"></span>        <div class=\"ml-4 space-y-1\">\n",
       "          <p class=\"text-sm font-medium\">Olivia Martin</p>\n",
       "          <p class=\"text-sm uk-text-muted\">olivia.martin@email.com</p>\n",
       "        </div>\n",
       "        <div class=\"ml-auto font-medium\">+$1,999.00</div>\n",
       "      </div>\n",
       "      <div class=\"flex items-center\">\n",
       "<span class=\"relative flex h-9 w-9 shrink-0 overflow-hidden rounded-full bg-accent\"><img alt=\"Avatar\" src=\"https://api.dicebear.com/8.x/lorelei/svg?seed=Jackson Lee\" class=\"aspect-square h-full w-full\"></span>        <div class=\"ml-4 space-y-1\">\n",
       "          <p class=\"text-sm font-medium\">Jackson Lee</p>\n",
       "          <p class=\"text-sm uk-text-muted\">jackson.lee@email.com</p>\n",
       "        </div>\n",
       "        <div class=\"ml-auto font-medium\">+$39.00</div>\n",
       "      </div>\n",
       "      <div class=\"flex items-center\">\n",
       "<span class=\"relative flex h-9 w-9 shrink-0 overflow-hidden rounded-full bg-accent\"><img alt=\"Avatar\" src=\"https://api.dicebear.com/8.x/lorelei/svg?seed=Isabella Nguyen\" class=\"aspect-square h-full w-full\"></span>        <div class=\"ml-4 space-y-1\">\n",
       "          <p class=\"text-sm font-medium\">Isabella Nguyen</p>\n",
       "          <p class=\"text-sm uk-text-muted\">isabella.nguyen@email.com</p>\n",
       "        </div>\n",
       "        <div class=\"ml-auto font-medium\">+$299.00</div>\n",
       "      </div>\n",
       "      <div class=\"flex items-center\">\n",
       "<span class=\"relative flex h-9 w-9 shrink-0 overflow-hidden rounded-full bg-accent\"><img alt=\"Avatar\" src=\"https://api.dicebear.com/8.x/lorelei/svg?seed=William Kim\" class=\"aspect-square h-full w-full\"></span>        <div class=\"ml-4 space-y-1\">\n",
       "          <p class=\"text-sm font-medium\">William Kim</p>\n",
       "          <p class=\"text-sm uk-text-muted\">will@email.com</p>\n",
       "        </div>\n",
       "        <div class=\"ml-auto font-medium\">+$99.00</div>\n",
       "      </div>\n",
       "      <div class=\"flex items-center\">\n",
       "<span class=\"relative flex h-9 w-9 shrink-0 overflow-hidden rounded-full bg-accent\"><img alt=\"Avatar\" src=\"https://api.dicebear.com/8.x/lorelei/svg?seed=Sofia Davis\" class=\"aspect-square h-full w-full\"></span>        <div class=\"ml-4 space-y-1\">\n",
       "          <p class=\"text-sm font-medium\">Sofia Davis</p>\n",
       "          <p class=\"text-sm uk-text-muted\">sofia.davis@email.com</p>\n",
       "        </div>\n",
       "        <div class=\"ml-auto font-medium\">+$39.00</div>\n",
       "      </div>\n",
       "    </div>\n",
       "  </div>\n",
       "</div>\n"
      ],
      "text/plain": [
       "<IPython.core.display.HTML object>"
      ]
     },
     "execution_count": 19,
     "metadata": {},
     "output_type": "execute_result"
    }
   ],
   "source": [
    "show(recent_sales)"
   ]
  },
  {
   "cell_type": "code",
   "execution_count": 20,
   "id": "3767a677",
   "metadata": {},
   "outputs": [],
   "source": [
    "#| exports\n",
    "@matplotlib2fasthtml\n",
    "def generate_chart(num_points):\n",
    "    plotdata = [np.random.exponential(1) for _ in range(num_points)]\n",
    "    plt.plot(range(len(plotdata)), plotdata)"
   ]
  },
  {
   "cell_type": "code",
   "execution_count": 21,
   "id": "d7a93876",
   "metadata": {},
   "outputs": [
    {
     "data": {
      "text/html": [
       "<img src=\"data:image/jpg;base64, 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\">"
      ],
      "text/plain": [
       "<IPython.core.display.HTML object>"
      ]
     },
     "execution_count": 21,
     "metadata": {},
     "output_type": "execute_result"
    }
   ],
   "source": [
    "show(generate_chart(10))"
   ]
  },
  {
   "cell_type": "code",
   "execution_count": 22,
   "id": "12f0df9e",
   "metadata": {},
   "outputs": [],
   "source": [
    "%%aip 0\n",
    "Now let's make the top navigation section with \"Overview\", \"Analytics\", \"Reports\", \"Notifications\" tables that use their own functions"
   ]
  },
  {
   "cell_type": "code",
   "execution_count": 23,
   "id": "a9290026",
   "metadata": {},
   "outputs": [
    {
     "data": {
      "text/html": [
       "<ul class=\"uk-tab-alt max-w-96\">\n",
       "  <li class=\" \">\n",
       "<a href=\"#demo\" uk-toggle>Overview</a>  </li>\n",
       "  <li class=\" \">\n",
       "<a href=\"#demo\" uk-toggle>Analytics</a>  </li>\n",
       "  <li class=\" \">\n",
       "<a href=\"#demo\" uk-toggle>Reports</a>  </li>\n",
       "  <li class=\" \">\n",
       "<a href=\"#demo\" uk-toggle>Notifications</a>  </li>\n",
       "</ul>\n"
      ],
      "text/plain": [
       "<IPython.core.display.HTML object>"
      ]
     },
     "execution_count": 23,
     "metadata": {},
     "output_type": "execute_result"
    }
   ],
   "source": [
    "#| exports\n",
    "def NavTab(text, active=False):\n",
    "    return Li(cls=\"uk-active\" if active else \" \")(\n",
    "        A(text, href=\"#demo\", uk_toggle=True))\n",
    "\n",
    "def UkTab(*items):\n",
    "    return Ul(cls=\"uk-tab-alt max-w-96\")(\n",
    "        *[NavTab(item) for i, item in enumerate(items)])\n",
    "\n",
    "db_nav = UkTab(\"Overview\", \"Analytics\", \"Reports\", \"Notifications\")\n",
    "show(db_nav)"
   ]
  },
  {
   "cell_type": "code",
   "execution_count": 24,
   "id": "7fc67843",
   "metadata": {},
   "outputs": [],
   "source": [
    "%%aip 0\n",
    "Now let's make the top navigation section with \"Overview\", \"Customers\", \"products\", \"Settings\" tabs that use their own functions, with the name/teams dropdown too\n",
    "\n",
    "For the dropdown use either `UkDropdownButton` or `UkSelect` - remember it doesn't need to perfectly match - just look pretty decent and be very simple code."
   ]
  },
  {
   "cell_type": "code",
   "execution_count": 25,
   "id": "c9f74172",
   "metadata": {},
   "outputs": [],
   "source": [
    "#| exports\n",
    "def UkNavBar(*items):\n",
    "    return Ul(cls=\"uk-navbar-nav gap-x-4 lg:gap-x-6\")(\n",
    "        *[NavTab(item) for i, item in enumerate(items)])\n",
    "\n",
    "team_dropdown = UkDropdownButton(\"Alicia Koch\", options = (\"Alicia Koch\",\"Acme Inc\",\"Monster Inc.\",\"Create a Team\"))"
   ]
  },
  {
   "cell_type": "code",
   "execution_count": 26,
   "id": "25e198f8",
   "metadata": {},
   "outputs": [],
   "source": [
    "top_nav = Div(cls=\"uk-navbar-left gap-x-4 lg:gap-x-6\")(\n",
    "    team_dropdown,\n",
    "    UkNavBar(\"Overview\", \"Customers\", \"Products\", \"Settings\"),\n",
    "    UkInput(placeholder='Search'),)"
   ]
  },
  {
   "cell_type": "code",
   "execution_count": 27,
   "id": "84495599",
   "metadata": {},
   "outputs": [
    {
     "data": {
      "text/html": [
       "<div class=\"uk-navbar-left gap-x-4 lg:gap-x-6\">\n",
       "  <div>\n",
       "    <div class=\"flex items-center space-x-4\">\n",
       "<button type=\"button\" class=\"uk-button uk-button-default\">Alicia Koch<span uk-icon=\"icon: triangle-down\"></span></button>      <div uk-drop=\"mode: click; pos: bottom-right\" class=\"uk-dropdown uk-drop \">\n",
       "        <ul class=\"uk-dropdown-nav\">\n",
       "          <li class=\"uk-nav-divider\"></li>\n",
       "          <li>Alicia Koch</li>\n",
       "          <li>Acme Inc</li>\n",
       "          <li>Monster Inc.</li>\n",
       "          <li>Create a Team</li>\n",
       "        </ul>\n",
       "      </div>\n",
       "    </div>\n",
       "  </div>\n",
       "  <ul class=\"uk-navbar-nav gap-x-4 lg:gap-x-6\">\n",
       "    <li class=\" \">\n",
       "<a href=\"#demo\" uk-toggle>Overview</a>    </li>\n",
       "    <li class=\" \">\n",
       "<a href=\"#demo\" uk-toggle>Customers</a>    </li>\n",
       "    <li class=\" \">\n",
       "<a href=\"#demo\" uk-toggle>Products</a>    </li>\n",
       "    <li class=\" \">\n",
       "<a href=\"#demo\" uk-toggle>Settings</a>    </li>\n",
       "  </ul>\n",
       "  <div class=\"space-y-2\">\n",
       "    <input placeholder=\"Search\" class=\"uk-input\">\n",
       "  </div>\n",
       "</div>\n"
      ],
      "text/plain": [
       "<IPython.core.display.HTML object>"
      ]
     },
     "execution_count": 27,
     "metadata": {},
     "output_type": "execute_result"
    }
   ],
   "source": [
    "show(top_nav)"
   ]
  },
  {
   "cell_type": "code",
   "execution_count": 29,
   "id": "70ad5ccd",
   "metadata": {},
   "outputs": [],
   "source": [
    "%%aip 0\n",
    "\n",
    "Can you write the top navbar to use $`UkNavbar`\n",
    "\n",
    "Just do the \"Alicia Koch\" dropdown for now"
   ]
  },
  {
   "cell_type": "code",
   "execution_count": 30,
   "id": "814183ac",
   "metadata": {},
   "outputs": [
    {
     "data": {
      "text/html": [
       "<div uk-navbar class=\"uk-navbar-container uk-width-1-1 z-10\">\n",
       "  <div class=\"uk-navbar-left\">\n",
       "    <ul class=\"uk-navbar-nav\">\n",
       "      <li>\n",
       "<a href=\"#\">header</a>        <div class=\"uk-navbar-dropdown\">\n",
       "          <ul class=\"uk-nav uk-navbar-dropdown-nav\">\n",
       "            <li>\n",
       "<a href=\"#\">Alicia Koch</a>            </li>\n",
       "          </ul>\n",
       "        </div>\n",
       "      </li>\n",
       "    </ul>\n",
       "  </div>\n",
       "</div>\n"
      ],
      "text/plain": [
       "<IPython.core.display.HTML object>"
      ]
     },
     "execution_count": 30,
     "metadata": {},
     "output_type": "execute_result"
    }
   ],
   "source": [
    "#| exports\n",
    "headers = UkNavbar(lnav=(\n",
    "    UkNavbarDropdown(*map(lambda x: A(x,href='#'), [\"Alicia Koch\"]), label=\"header\")\n",
    "))\n",
    "show(headers)"
   ]
  },
  {
   "cell_type": "code",
   "execution_count": 31,
   "id": "6ca923da",
   "metadata": {},
   "outputs": [
    {
     "data": {
      "text/html": [
       "<div>\n",
       "  <div class=\"flex items-center space-x-4\">\n",
       "<button type=\"button\" class=\"uk-button uk-button-default\"><a href=\"#\" class=\"h-8 w-8 inline-flex rounded-full bg-accent ring-ring\"><img src=\"https://api.dicebear.com/8.x/lorelei/svg?seed=Alicia Koch\"></a><span uk-icon=\"icon: triangle-down\"></span></button>    <div uk-drop=\"mode: click; pos: bottom-right\" class=\"uk-dropdown uk-drop \">\n",
       "      <ul class=\"uk-dropdown-nav\">\n",
       "        <li class=\"uk-nav-divider\"></li>\n",
       "        <li>\n",
       "          <div class=\"flex flex-col space-y-1\">\n",
       "            <p>Alicia Koch</p>\n",
       "            <p class=\"text-sm uk-text-muted\">alicia@example.com</p>\n",
       "          </div>\n",
       "        </li>\n",
       "        <li>\n",
       "Profile⇧⌘P        </li>\n",
       "        <li>\n",
       "Billing⌘B        </li>\n",
       "        <li>\n",
       "Settings⌘S        </li>\n",
       "        <li>\n",
       "New Team        </li>\n",
       "        <li>\n",
       "Logout        </li>\n",
       "      </ul>\n",
       "    </div>\n",
       "  </div>\n",
       "</div>\n"
      ],
      "text/plain": [
       "<IPython.core.display.HTML object>"
      ]
     },
     "execution_count": 31,
     "metadata": {},
     "output_type": "execute_result"
    }
   ],
   "source": [
    "#| exports\n",
    "hotkeys = (('Profile','⇧⌘P'), ('Billing','⌘B'), ('Settings','⌘S'), ('New Team',''), ('Logout',''))\n",
    "user = (Div(cls='flex flex-col space-y-1')(P('Alicia Koch'),P('alicia@example.com',cls=TextT.muted_sm)),)\n",
    "avatar = A(href='#', cls='h-8 w-8 inline-flex rounded-full bg-accent ring-ring')(Img(src='https://api.dicebear.com/8.x/lorelei/svg?seed=Alicia Koch'))\n",
    "avatar_dropdown = UkDropdownButton(\n",
    "    avatar,\n",
    "    user+hotkeys)\n",
    "\n",
    "show(avatar_dropdown)"
   ]
  },
  {
   "cell_type": "code",
   "execution_count": 32,
   "id": "51137d79",
   "metadata": {},
   "outputs": [
    {
     "data": {
      "text/html": [
       "<div class=\"flex items-center justify-between w-full\">\n",
       "  <div class=\"flex items-center gap-x-4 lg:gap-x-6\">\n",
       "    <div>\n",
       "      <div class=\"flex items-center space-x-4\">\n",
       "<button type=\"button\" class=\"uk-button uk-button-default\">Alicia Koch<span uk-icon=\"icon: triangle-down\"></span></button>        <div uk-drop=\"mode: click; pos: bottom-right\" class=\"uk-dropdown uk-drop \">\n",
       "          <ul class=\"uk-dropdown-nav\">\n",
       "            <li class=\"uk-nav-divider\"></li>\n",
       "            <li>Alicia Koch</li>\n",
       "            <li>Acme Inc</li>\n",
       "            <li>Monster Inc.</li>\n",
       "            <li>Create a Team</li>\n",
       "          </ul>\n",
       "        </div>\n",
       "      </div>\n",
       "    </div>\n",
       "    <ul class=\"uk-navbar-nav gap-x-4 lg:gap-x-6\">\n",
       "      <li class=\" \">\n",
       "<a href=\"#demo\" uk-toggle>Overview</a>      </li>\n",
       "      <li class=\" \">\n",
       "<a href=\"#demo\" uk-toggle>Customers</a>      </li>\n",
       "      <li class=\" \">\n",
       "<a href=\"#demo\" uk-toggle>Products</a>      </li>\n",
       "      <li class=\" \">\n",
       "<a href=\"#demo\" uk-toggle>Settings</a>      </li>\n",
       "    </ul>\n",
       "  </div>\n",
       "  <div class=\"flex items-center gap-x-4\">\n",
       "    <div class=\"w-64\">\n",
       "      <div class=\"space-y-2\">\n",
       "        <input placeholder=\"Search\" class=\"uk-input\">\n",
       "      </div>\n",
       "    </div>\n",
       "    <div>\n",
       "      <div class=\"flex items-center space-x-4\">\n",
       "<button type=\"button\" class=\"uk-button uk-button-default\"><a href=\"#\" class=\"h-8 w-8 inline-flex rounded-full bg-accent ring-ring\"><img src=\"https://api.dicebear.com/8.x/lorelei/svg?seed=Alicia Koch\"></a><span uk-icon=\"icon: triangle-down\"></span></button>        <div uk-drop=\"mode: click; pos: bottom-right\" class=\"uk-dropdown uk-drop \">\n",
       "          <ul class=\"uk-dropdown-nav\">\n",
       "            <li class=\"uk-nav-divider\"></li>\n",
       "            <li>\n",
       "              <div class=\"flex flex-col space-y-1\">\n",
       "                <p>Alicia Koch</p>\n",
       "                <p class=\"text-sm uk-text-muted\">alicia@example.com</p>\n",
       "              </div>\n",
       "            </li>\n",
       "            <li>\n",
       "Profile⇧⌘P            </li>\n",
       "            <li>\n",
       "Billing⌘B            </li>\n",
       "            <li>\n",
       "Settings⌘S            </li>\n",
       "            <li>\n",
       "New Team            </li>\n",
       "            <li>\n",
       "Logout            </li>\n",
       "          </ul>\n",
       "        </div>\n",
       "      </div>\n",
       "    </div>\n",
       "  </div>\n",
       "</div>\n"
      ],
      "text/plain": [
       "<IPython.core.display.HTML object>"
      ]
     },
     "execution_count": 32,
     "metadata": {},
     "output_type": "execute_result"
    }
   ],
   "source": [
    "#| exports\n",
    "top_nav = Div(cls=\"flex items-center justify-between w-full\")(\n",
    "    Div(cls=\"flex items-center gap-x-4 lg:gap-x-6\")(\n",
    "        team_dropdown,\n",
    "        UkNavBar(\"Overview\", \"Customers\", \"Products\", \"Settings\")),\n",
    "    Div(cls=\"flex items-center gap-x-4\")(\n",
    "        Div(cls=\"w-64\")(UkInput(placeholder='Search')),\n",
    "        avatar_dropdown))\n",
    "\n",
    "show(top_nav)"
   ]
  },
  {
   "cell_type": "code",
   "execution_count": 33,
   "id": "76b8d8f5",
   "metadata": {},
   "outputs": [],
   "source": [
    "%%aip 0\n",
    "\n",
    "Make $`top_nav` be all in 1 row instead of new rows.  `team_dropdown` and `UkNavBar(\"Overview\", \"Customers\", \"Products\", \"Settings\")` should be left aligned so you can see them all.\n",
    "\n",
    "Then in the same row, `UkInput(placeholder='Search')` and `avatar_dropdown` should be right aligned somehow.\n"
   ]
  },
  {
   "cell_type": "code",
   "execution_count": 37,
   "id": "a7002b4e",
   "metadata": {},
   "outputs": [],
   "source": [
    "#| exports\n",
    "def page():\n",
    "    return Div(cls=\"space-y-4\")(\n",
    "        top_nav,\n",
    "    \n",
    "        UkHSplit(),\n",
    "        UkH2('Dashboard'),\n",
    "        db_nav, \n",
    "        top_info_row,\n",
    "        Div(cls=\"grid gap-4 lg:grid-cols-7\")(\n",
    "            Card(generate_chart(10),cls='lg:col-span-4'),\n",
    "            Card(recent_sales,cls='lg:col-span-3')))"
   ]
  },
  {
   "cell_type": "code",
   "execution_count": 38,
   "id": "000b2c9e",
   "metadata": {},
   "outputs": [
    {
     "data": {
      "text/html": [
       "<div class=\"space-y-4\">\n",
       "  <div class=\"flex items-center justify-between w-full\">\n",
       "    <div class=\"flex items-center gap-x-4 lg:gap-x-6\">\n",
       "      <div>\n",
       "        <div class=\"flex items-center space-x-4\">\n",
       "<button type=\"button\" class=\"uk-button uk-button-default\">Alicia Koch<span uk-icon=\"icon: triangle-down\"></span></button>          <div uk-drop=\"mode: click; pos: bottom-right\" class=\"uk-dropdown uk-drop \">\n",
       "            <ul class=\"uk-dropdown-nav\">\n",
       "              <li class=\"uk-nav-divider\"></li>\n",
       "              <li>Alicia Koch</li>\n",
       "              <li>Acme Inc</li>\n",
       "              <li>Monster Inc.</li>\n",
       "              <li>Create a Team</li>\n",
       "            </ul>\n",
       "          </div>\n",
       "        </div>\n",
       "      </div>\n",
       "      <ul class=\"uk-navbar-nav gap-x-4 lg:gap-x-6\">\n",
       "        <li class=\" \">\n",
       "<a href=\"#demo\" uk-toggle>Overview</a>        </li>\n",
       "        <li class=\" \">\n",
       "<a href=\"#demo\" uk-toggle>Customers</a>        </li>\n",
       "        <li class=\" \">\n",
       "<a href=\"#demo\" uk-toggle>Products</a>        </li>\n",
       "        <li class=\" \">\n",
       "<a href=\"#demo\" uk-toggle>Settings</a>        </li>\n",
       "      </ul>\n",
       "    </div>\n",
       "    <div class=\"flex items-center gap-x-4\">\n",
       "      <div class=\"w-64\">\n",
       "        <div class=\"space-y-2\">\n",
       "          <input placeholder=\"Search\" class=\"uk-input\">\n",
       "        </div>\n",
       "      </div>\n",
       "      <div>\n",
       "        <div class=\"flex items-center space-x-4\">\n",
       "<button type=\"button\" class=\"uk-button uk-button-default\"><a href=\"#\" class=\"h-8 w-8 inline-flex rounded-full bg-accent ring-ring\"><img src=\"https://api.dicebear.com/8.x/lorelei/svg?seed=Alicia Koch\"></a><span uk-icon=\"icon: triangle-down\"></span></button>          <div uk-drop=\"mode: click; pos: bottom-right\" class=\"uk-dropdown uk-drop \">\n",
       "            <ul class=\"uk-dropdown-nav\">\n",
       "              <li class=\"uk-nav-divider\"></li>\n",
       "              <li>\n",
       "                <div class=\"flex flex-col space-y-1\">\n",
       "                  <p>Alicia Koch</p>\n",
       "                  <p class=\"text-sm uk-text-muted\">alicia@example.com</p>\n",
       "                </div>\n",
       "              </li>\n",
       "              <li>\n",
       "Profile⇧⌘P              </li>\n",
       "              <li>\n",
       "Billing⌘B              </li>\n",
       "              <li>\n",
       "Settings⌘S              </li>\n",
       "              <li>\n",
       "New Team              </li>\n",
       "              <li>\n",
       "Logout              </li>\n",
       "            </ul>\n",
       "          </div>\n",
       "        </div>\n",
       "      </div>\n",
       "    </div>\n",
       "  </div>\n",
       "  <div class=\"relative \">\n",
       "    <div class=\"absolute inset-0 flex items-center \">\n",
       "<span class=\"w-full border-t border-border\"></span>    </div>\n",
       "    <div class=\"relative flex justify-center \">\n",
       "<span class=\"bg-background px-2 \"></span>    </div>\n",
       "  </div>\n",
       "  <h2 class=\"uk-h2\">Dashboard</h2>\n",
       "  <ul class=\"uk-tab-alt max-w-96\">\n",
       "    <li class=\" \">\n",
       "<a href=\"#demo\" uk-toggle>Overview</a>    </li>\n",
       "    <li class=\" \">\n",
       "<a href=\"#demo\" uk-toggle>Analytics</a>    </li>\n",
       "    <li class=\" \">\n",
       "<a href=\"#demo\" uk-toggle>Reports</a>    </li>\n",
       "    <li class=\" \">\n",
       "<a href=\"#demo\" uk-toggle>Notifications</a>    </li>\n",
       "  </ul>\n",
       "  <div class=\"grid grid-cols-2 gap-4 lg:grid-cols-4\">\n",
       "    <div class=\"uk-card \">\n",
       "      <div class=\"uk-card-header \">\n",
       "        <h4 class=\"uk-h4\">Total Revenue</h4>\n",
       "      </div>\n",
       "      <div class=\"uk-card-body space-y-6\">\n",
       "        <div>\n",
       "          <h3 class=\"uk-h3\">$45,231.89</h3>\n",
       "          <p class=\"text-sm uk-text-muted\">+20.1% from last month</p>\n",
       "        </div>\n",
       "      </div>\n",
       "    </div>\n",
       "    <div class=\"uk-card \">\n",
       "      <div class=\"uk-card-header \">\n",
       "        <h4 class=\"uk-h4\">Subscriptions</h4>\n",
       "      </div>\n",
       "      <div class=\"uk-card-body space-y-6\">\n",
       "        <div>\n",
       "          <h3 class=\"uk-h3\">+2350</h3>\n",
       "          <p class=\"text-sm uk-text-muted\">+180.1% from last month</p>\n",
       "        </div>\n",
       "      </div>\n",
       "    </div>\n",
       "    <div class=\"uk-card \">\n",
       "      <div class=\"uk-card-header \">\n",
       "        <h4 class=\"uk-h4\">Sales</h4>\n",
       "      </div>\n",
       "      <div class=\"uk-card-body space-y-6\">\n",
       "        <div>\n",
       "          <h3 class=\"uk-h3\">+12,234</h3>\n",
       "          <p class=\"text-sm uk-text-muted\">+19% from last month</p>\n",
       "        </div>\n",
       "      </div>\n",
       "    </div>\n",
       "    <div class=\"uk-card \">\n",
       "      <div class=\"uk-card-header \">\n",
       "        <h4 class=\"uk-h4\">Active Now</h4>\n",
       "      </div>\n",
       "      <div class=\"uk-card-body space-y-6\">\n",
       "        <div>\n",
       "          <h3 class=\"uk-h3\">+573</h3>\n",
       "          <p class=\"text-sm uk-text-muted\">+201 since last hour</p>\n",
       "        </div>\n",
       "      </div>\n",
       "    </div>\n",
       "  </div>\n",
       "  <div class=\"grid gap-4 lg:grid-cols-7\">\n",
       "    <div class=\"uk-card lg:col-span-4\">\n",
       "      <div class=\"uk-card-body space-y-6\">\n",
       "<img src=\"data:image/jpg;base64, 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\">      </div>\n",
       "    </div>\n",
       "    <div class=\"uk-card lg:col-span-3\">\n",
       "      <div class=\"uk-card-body space-y-6\">\n",
       "        <div class=\"uk-card \">\n",
       "          <div class=\"uk-card-header \">\n",
       "            <div>\n",
       "              <h3 class=\"uk-h3\">Recent Sales</h3>\n",
       "              <p class=\"text-sm uk-text-muted\">You made 265 sales this month.</p>\n",
       "            </div>\n",
       "          </div>\n",
       "          <div class=\"uk-card-body space-y-6\">\n",
       "            <div class=\"space-y-8\">\n",
       "              <div class=\"flex items-center\">\n",
       "<span class=\"relative flex h-9 w-9 shrink-0 overflow-hidden rounded-full bg-accent\"><img alt=\"Avatar\" src=\"https://api.dicebear.com/8.x/lorelei/svg?seed=Olivia Martin\" class=\"aspect-square h-full w-full\"></span>                <div class=\"ml-4 space-y-1\">\n",
       "                  <p class=\"text-sm font-medium\">Olivia Martin</p>\n",
       "                  <p class=\"text-sm uk-text-muted\">olivia.martin@email.com</p>\n",
       "                </div>\n",
       "                <div class=\"ml-auto font-medium\">+$1,999.00</div>\n",
       "              </div>\n",
       "              <div class=\"flex items-center\">\n",
       "<span class=\"relative flex h-9 w-9 shrink-0 overflow-hidden rounded-full bg-accent\"><img alt=\"Avatar\" src=\"https://api.dicebear.com/8.x/lorelei/svg?seed=Jackson Lee\" class=\"aspect-square h-full w-full\"></span>                <div class=\"ml-4 space-y-1\">\n",
       "                  <p class=\"text-sm font-medium\">Jackson Lee</p>\n",
       "                  <p class=\"text-sm uk-text-muted\">jackson.lee@email.com</p>\n",
       "                </div>\n",
       "                <div class=\"ml-auto font-medium\">+$39.00</div>\n",
       "              </div>\n",
       "              <div class=\"flex items-center\">\n",
       "<span class=\"relative flex h-9 w-9 shrink-0 overflow-hidden rounded-full bg-accent\"><img alt=\"Avatar\" src=\"https://api.dicebear.com/8.x/lorelei/svg?seed=Isabella Nguyen\" class=\"aspect-square h-full w-full\"></span>                <div class=\"ml-4 space-y-1\">\n",
       "                  <p class=\"text-sm font-medium\">Isabella Nguyen</p>\n",
       "                  <p class=\"text-sm uk-text-muted\">isabella.nguyen@email.com</p>\n",
       "                </div>\n",
       "                <div class=\"ml-auto font-medium\">+$299.00</div>\n",
       "              </div>\n",
       "              <div class=\"flex items-center\">\n",
       "<span class=\"relative flex h-9 w-9 shrink-0 overflow-hidden rounded-full bg-accent\"><img alt=\"Avatar\" src=\"https://api.dicebear.com/8.x/lorelei/svg?seed=William Kim\" class=\"aspect-square h-full w-full\"></span>                <div class=\"ml-4 space-y-1\">\n",
       "                  <p class=\"text-sm font-medium\">William Kim</p>\n",
       "                  <p class=\"text-sm uk-text-muted\">will@email.com</p>\n",
       "                </div>\n",
       "                <div class=\"ml-auto font-medium\">+$99.00</div>\n",
       "              </div>\n",
       "              <div class=\"flex items-center\">\n",
       "<span class=\"relative flex h-9 w-9 shrink-0 overflow-hidden rounded-full bg-accent\"><img alt=\"Avatar\" src=\"https://api.dicebear.com/8.x/lorelei/svg?seed=Sofia Davis\" class=\"aspect-square h-full w-full\"></span>                <div class=\"ml-4 space-y-1\">\n",
       "                  <p class=\"text-sm font-medium\">Sofia Davis</p>\n",
       "                  <p class=\"text-sm uk-text-muted\">sofia.davis@email.com</p>\n",
       "                </div>\n",
       "                <div class=\"ml-auto font-medium\">+$39.00</div>\n",
       "              </div>\n",
       "            </div>\n",
       "          </div>\n",
       "        </div>\n",
       "      </div>\n",
       "    </div>\n",
       "  </div>\n",
       "</div>\n"
      ],
      "text/plain": [
       "<IPython.core.display.HTML object>"
      ]
     },
     "execution_count": 38,
     "metadata": {},
     "output_type": "execute_result"
    }
   ],
   "source": [
    "show(page())"
   ]
  },
  {
   "cell_type": "code",
   "execution_count": 39,
   "id": "22a8233b",
   "metadata": {},
   "outputs": [],
   "source": [
    "#| exports\n",
    "dashboard_homepage = page()"
   ]
  },
  {
   "cell_type": "code",
   "execution_count": 53,
   "id": "1992630d",
   "metadata": {},
   "outputs": [],
   "source": [
    "#| hide\n",
    "import nbdev; nbdev.nbdev_export()"
   ]
  },
  {
   "cell_type": "code",
   "execution_count": null,
   "id": "a5110781",
   "metadata": {},
   "outputs": [],
   "source": []
  },
  {
   "cell_type": "code",
   "execution_count": null,
   "id": "fd080e09",
   "metadata": {},
   "outputs": [],
   "source": []
  }
 ],
 "metadata": {
  "kernelspec": {
   "display_name": "Python 3 (ipykernel)",
   "language": "python",
   "name": "python3"
  },
  "language_info": {
   "codemirror_mode": {
    "name": "ipython",
    "version": 3
   },
   "file_extension": ".py",
   "mimetype": "text/x-python",
   "name": "python",
   "nbconvert_exporter": "python",
   "pygments_lexer": "ipython3",
   "version": "3.12.4"
  },
  "toc": {
   "base_numbering": 1,
   "nav_menu": {},
   "number_sections": true,
   "sideBar": true,
   "skip_h1_title": false,
   "title_cell": "Table of Contents",
   "title_sidebar": "Contents",
   "toc_cell": false,
   "toc_position": {},
   "toc_section_display": true,
   "toc_window_display": false
  }
 },
 "nbformat": 4,
 "nbformat_minor": 5
}
