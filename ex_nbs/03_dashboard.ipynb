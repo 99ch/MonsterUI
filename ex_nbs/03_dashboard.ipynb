{
 "cells": [
  {
   "cell_type": "markdown",
   "id": "bd49724c",
   "metadata": {},
   "source": [
    "# Dashboard\n",
    "\n",
    "> FrankenUI Dashboard Example"
   ]
  },
  {
   "cell_type": "code",
   "execution_count": 1,
   "id": "04abc944",
   "metadata": {},
   "outputs": [],
   "source": [
    "#| default_exp dashboard"
   ]
  },
  {
   "cell_type": "code",
   "execution_count": 2,
   "id": "cef92ebb",
   "metadata": {},
   "outputs": [],
   "source": [
    "#| export\n",
    "from fasthtml.common import *\n",
    "from fh_frankenui import *\n",
    "from fasthtml.svg import *\n",
    "from fh_matplotlib import matplotlib2fasthtml\n",
    "import numpy as np\n",
    "import matplotlib.pylab as plt"
   ]
  },
  {
   "cell_type": "code",
   "execution_count": 3,
   "id": "02ad7e62",
   "metadata": {},
   "outputs": [],
   "source": [
    "#| hide\n",
    "from nbdev.showdoc import *"
   ]
  },
  {
   "cell_type": "code",
   "execution_count": 4,
   "id": "f0f5477a",
   "metadata": {},
   "outputs": [
    {
     "data": {
      "text/html": [
       "<script src=\"https://cdn.tailwindcss.com\"></script>\n",
       "<script src=\"https://cdn.jsdelivr.net/npm/uikit@3.21.6/dist/js/uikit.min.js\"></script>\n",
       "<script src=\"https://cdn.jsdelivr.net/npm/uikit@3.21.6/dist/js/uikit-icons.min.js\"></script>\n",
       "<script type=\"module\" src=\"https://unpkg.com/franken-wc@0.0.6/dist/js/wc.iife.js\"></script>\n",
       "<link rel=\"stylesheet\" href=\"https://unpkg.com/franken-wc@0.0.6/dist/css/blue.min.css\">\n",
       "\n",
       "<style>\n",
       "#notebook-container { max-width: none; }\n",
       ".output_html * { list-style-type: none !important; }\n",
       "</style>\n"
      ],
      "text/plain": [
       "<IPython.core.display.HTML object>"
      ]
     },
     "metadata": {},
     "output_type": "display_data"
    }
   ],
   "source": [
    "%%html\n",
    "<script src=\"https://cdn.tailwindcss.com\"></script>\n",
    "<script src=\"https://cdn.jsdelivr.net/npm/uikit@3.21.6/dist/js/uikit.min.js\"></script>\n",
    "<script src=\"https://cdn.jsdelivr.net/npm/uikit@3.21.6/dist/js/uikit-icons.min.js\"></script>\n",
    "<script type=\"module\" src=\"https://unpkg.com/franken-wc@0.0.6/dist/js/wc.iife.js\"></script>\n",
    "<link rel=\"stylesheet\" href=\"https://unpkg.com/franken-wc@0.0.6/dist/css/blue.min.css\">\n",
    "\n",
    "<style>\n",
    "#notebook-container { max-width: none; }\n",
    ".output_html * { list-style-type: none !important; }\n",
    "</style>"
   ]
  },
  {
   "cell_type": "code",
   "execution_count": 6,
   "id": "275f3643",
   "metadata": {},
   "outputs": [],
   "source": [
    "#| exports\n",
    "def InfoCard(title, value, change):\n",
    "    return Div(Card(\n",
    "             Div(H3(value),\n",
    "                P(change, cls=TextFont.muted_sm)),\n",
    "             header = H4(title)))"
   ]
  },
  {
   "cell_type": "code",
   "execution_count": 7,
   "id": "745555dc",
   "metadata": {},
   "outputs": [],
   "source": [
    "#| exports\n",
    "rev = InfoCard(\"Total Revenue\", \"$45,231.89\", \"+20.1% from last month\")\n",
    "sub = InfoCard(\"Subscriptions\", \"+2350\", \"+180.1% from last month\")\n",
    "sal = InfoCard(\"Sales\", \"+12,234\", \"+19% from last month\")\n",
    "act = InfoCard(\"Active Now\", \"+573\", \"+201 since last hour\")"
   ]
  },
  {
   "cell_type": "code",
   "execution_count": 8,
   "id": "96867f4f",
   "metadata": {},
   "outputs": [],
   "source": [
    "#| exports\n",
    "top_info_row = Grid(rev,sub,sal,act,cols=4, cls=GridT.small)"
   ]
  },
  {
   "cell_type": "code",
   "execution_count": 9,
   "id": "12f5bfdd",
   "metadata": {},
   "outputs": [
    {
     "data": {
      "text/html": [
       "<div class=\"grid grid-cols-4 uk-grid-small\">\n",
       "  <div>\n",
       "    <div class=\"uk-card \">\n",
       "      <div class=\"uk-card-header \">\n",
       "        <h4 class=\"uk-h4 \">Total Revenue</h4>\n",
       "      </div>\n",
       "      <div class=\"uk-card-body space-y-6\">\n",
       "        <div>\n",
       "          <h3 class=\"uk-h3 \">$45,231.89</h3>\n",
       "          <p class=\"uk-text-muted uk-text-small\">+20.1% from last month</p>\n",
       "        </div>\n",
       "      </div>\n",
       "    </div>\n",
       "  </div>\n",
       "  <div>\n",
       "    <div class=\"uk-card \">\n",
       "      <div class=\"uk-card-header \">\n",
       "        <h4 class=\"uk-h4 \">Subscriptions</h4>\n",
       "      </div>\n",
       "      <div class=\"uk-card-body space-y-6\">\n",
       "        <div>\n",
       "          <h3 class=\"uk-h3 \">+2350</h3>\n",
       "          <p class=\"uk-text-muted uk-text-small\">+180.1% from last month</p>\n",
       "        </div>\n",
       "      </div>\n",
       "    </div>\n",
       "  </div>\n",
       "  <div>\n",
       "    <div class=\"uk-card \">\n",
       "      <div class=\"uk-card-header \">\n",
       "        <h4 class=\"uk-h4 \">Sales</h4>\n",
       "      </div>\n",
       "      <div class=\"uk-card-body space-y-6\">\n",
       "        <div>\n",
       "          <h3 class=\"uk-h3 \">+12,234</h3>\n",
       "          <p class=\"uk-text-muted uk-text-small\">+19% from last month</p>\n",
       "        </div>\n",
       "      </div>\n",
       "    </div>\n",
       "  </div>\n",
       "  <div>\n",
       "    <div class=\"uk-card \">\n",
       "      <div class=\"uk-card-header \">\n",
       "        <h4 class=\"uk-h4 \">Active Now</h4>\n",
       "      </div>\n",
       "      <div class=\"uk-card-body space-y-6\">\n",
       "        <div>\n",
       "          <h3 class=\"uk-h3 \">+573</h3>\n",
       "          <p class=\"uk-text-muted uk-text-small\">+201 since last hour</p>\n",
       "        </div>\n",
       "      </div>\n",
       "    </div>\n",
       "  </div>\n",
       "</div>\n"
      ],
      "text/plain": [
       "<IPython.core.display.HTML object>"
      ]
     },
     "execution_count": 9,
     "metadata": {},
     "output_type": "execute_result"
    }
   ],
   "source": [
    "show(top_info_row)"
   ]
  },
  {
   "cell_type": "code",
   "execution_count": 12,
   "id": "98b733c2",
   "metadata": {},
   "outputs": [],
   "source": [
    "#| exports\n",
    "def AvatarItem(name, email, amount):\n",
    "    return Div(cls=\"flex items-center\")(\n",
    "        DiceBearAvatar(name, 9,9),\n",
    "        Div(cls=\"ml-4 space-y-1\")(\n",
    "            P(name, cls=TextFont.bold_sm),\n",
    "            P(email, cls=TextFont.muted_sm)),\n",
    "        Div(amount, cls=\"ml-auto font-medium\"))\n",
    "\n",
    "recent_sales = Card(\n",
    "    Div(cls=\"space-y-8\")(\n",
    "        *[AvatarItem(n,e,d) for (n,e,d) in (\n",
    "            (\"Olivia Martin\",   \"olivia.martin@email.com\",   \"+$1,999.00\"),\n",
    "            (\"Jackson Lee\",     \"jackson.lee@email.com\",     \"+$39.00\"),\n",
    "            (\"Isabella Nguyen\", \"isabella.nguyen@email.com\", \"+$299.00\"),\n",
    "            (\"William Kim\",     \"will@email.com\",            \"+$99.00\"),\n",
    "            (\"Sofia Davis\",     \"sofia.davis@email.com\",     \"+$39.00\"))]),\n",
    "    header=Div(\n",
    "        H3(\"Recent Sales\"),\n",
    "        P(\"You made 265 sales this month.\", cls=TextFont.muted_sm)),\n",
    "\n",
    "cls='lg:col-span-3')"
   ]
  },
  {
   "cell_type": "code",
   "execution_count": 13,
   "id": "3767a677",
   "metadata": {},
   "outputs": [],
   "source": [
    "#| exports\n",
    "@matplotlib2fasthtml\n",
    "def generate_chart(num_points):\n",
    "    plotdata = [np.random.exponential(1) for _ in range(num_points)]\n",
    "    plt.plot(range(len(plotdata)), plotdata)"
   ]
  },
  {
   "cell_type": "code",
   "execution_count": 14,
   "id": "d7a93876",
   "metadata": {},
   "outputs": [
    {
     "data": {
      "text/html": [
       "<img src=\"data:image/jpg;base64, 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\">"
      ],
      "text/plain": [
       "<IPython.core.display.HTML object>"
      ]
     },
     "execution_count": 14,
     "metadata": {},
     "output_type": "execute_result"
    }
   ],
   "source": [
    "show(generate_chart(10))"
   ]
  },
  {
   "cell_type": "code",
   "execution_count": 15,
   "id": "c9f74172",
   "metadata": {},
   "outputs": [],
   "source": [
    "#| exports\n",
    "teams = [[\"Alicia Koch\"],['Acme Inc', 'Monster Inc.'],['Create a Team']]\n",
    "\n",
    "opt_hdrs = [\"Personal\", \"Team\", \"\"]\n",
    "\n",
    "team_dropdown = UkDropdownButton(*[list(map(A, team)) for team in teams],\n",
    "    opt_hdrs=opt_hdrs,\n",
    "    label=teams[0][0])"
   ]
  },
  {
   "cell_type": "code",
   "execution_count": 17,
   "id": "b91ef344",
   "metadata": {},
   "outputs": [],
   "source": [
    "#| exports\n",
    "hotkeys = [('Profile','⇧⌘P'),('Billing','⌘B'),('Settings','⌘S'),('New Team', '')]\n",
    "\n",
    "def space(*c): return A(FullySpacedDiv(*(map(P,c))))\n",
    "\n",
    "hotkeys = tuple(map(lambda x: space(*x), hotkeys))\n",
    "logout = space('Logout' ,''),\n",
    "user = Li(cls='px-2 py-1.5 text-sm')(\n",
    "        Div(cls='flex flex-col space-y-1')(\n",
    "            P('sveltecult', cls=TextFont.bold_sm),\n",
    "            P('leader@sveltecult.com', cls=TextFont.muted_sm))),\n",
    "avatar = DiceBearAvatar('Alicia Koch',8,8)\n",
    "avatar_dropdown = UkDropdownButton(user,hotkeys,logout, label=avatar)"
   ]
  },
  {
   "cell_type": "code",
   "execution_count": 18,
   "id": "6ca923da",
   "metadata": {
    "scrolled": true
   },
   "outputs": [],
   "source": [
    "# show(avatar_dropdown)"
   ]
  },
  {
   "cell_type": "code",
   "execution_count": 20,
   "id": "51137d79",
   "metadata": {},
   "outputs": [],
   "source": [
    "#| exports\n",
    "top_nav = UkNavbar(\n",
    "    lnav=[team_dropdown, Li(A(\"Overview\")), Li(A(\"Customers\")), Li(A(\"Products\")), Li(A(\"Settings\"))],\n",
    "    rnav=[Input(placeholder='Search'), avatar_dropdown],)"
   ]
  },
  {
   "cell_type": "code",
   "execution_count": null,
   "id": "5d4b0feb",
   "metadata": {},
   "outputs": [],
   "source": []
  },
  {
   "cell_type": "code",
   "execution_count": 21,
   "id": "a7002b4e",
   "metadata": {},
   "outputs": [],
   "source": [
    "#| exports\n",
    "def page():\n",
    "    return Div(cls=\"space-y-4\")(\n",
    "        Div(cls=\"border-b border-border px-4\")(top_nav),\n",
    "        H2('Dashboard'),\n",
    "        UkTab(\"Overview\", \"Analytics\", \"Reports\", \"Notifications\"), \n",
    "        top_info_row,\n",
    "        Grid(Card(generate_chart(10),cls='lg:col-span-4'),\n",
    "            recent_sales,\n",
    "            gap=4,cls='lg:grid-cols-7'))"
   ]
  },
  {
   "cell_type": "code",
   "execution_count": 22,
   "id": "22a8233b",
   "metadata": {},
   "outputs": [],
   "source": [
    "#| exports\n",
    "dashboard_homepage = page()"
   ]
  },
  {
   "cell_type": "code",
   "execution_count": 24,
   "id": "1992630d",
   "metadata": {},
   "outputs": [],
   "source": [
    "#| hide\n",
    "import nbdev; nbdev.nbdev_export()"
   ]
  }
 ],
 "metadata": {
  "kernelspec": {
   "display_name": "Python 3 (ipykernel)",
   "language": "python",
   "name": "python3"
  },
  "language_info": {
   "codemirror_mode": {
    "name": "ipython",
    "version": 3
   },
   "file_extension": ".py",
   "mimetype": "text/x-python",
   "name": "python",
   "nbconvert_exporter": "python",
   "pygments_lexer": "ipython3",
   "version": "3.12.4"
  },
  "toc": {
   "base_numbering": 1,
   "nav_menu": {},
   "number_sections": true,
   "sideBar": true,
   "skip_h1_title": false,
   "title_cell": "Table of Contents",
   "title_sidebar": "Contents",
   "toc_cell": false,
   "toc_position": {},
   "toc_section_display": true,
   "toc_window_display": false
  }
 },
 "nbformat": 4,
 "nbformat_minor": 5
}
