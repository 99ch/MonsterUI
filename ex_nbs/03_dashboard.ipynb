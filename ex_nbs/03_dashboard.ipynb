{
 "cells": [
  {
   "cell_type": "markdown",
   "id": "bd49724c",
   "metadata": {},
   "source": [
    "# Dashboard\n",
    "\n",
    "> FrankenUI Dashboard Example"
   ]
  },
  {
   "cell_type": "code",
   "execution_count": 1,
   "id": "04abc944",
   "metadata": {},
   "outputs": [],
   "source": [
    "#| default_exp dashboard"
   ]
  },
  {
   "cell_type": "code",
   "execution_count": 2,
   "id": "cef92ebb",
   "metadata": {},
   "outputs": [],
   "source": [
    "#| export\n",
    "from fasthtml.common import *\n",
    "from fh_frankenui import *\n",
    "from fasthtml.svg import *\n",
    "from fh_matplotlib import matplotlib2fasthtml\n",
    "import numpy as np\n",
    "import matplotlib.pylab as plt"
   ]
  },
  {
   "cell_type": "code",
   "execution_count": 3,
   "id": "02ad7e62",
   "metadata": {},
   "outputs": [],
   "source": [
    "#| hide\n",
    "from nbdev.showdoc import *"
   ]
  },
  {
   "cell_type": "code",
   "execution_count": 4,
   "id": "f0f5477a",
   "metadata": {},
   "outputs": [
    {
     "data": {
      "text/html": [
       "<script src=\"https://cdn.tailwindcss.com\"></script>\n",
       "<script src=\"https://cdn.jsdelivr.net/npm/uikit@3.21.6/dist/js/uikit.min.js\"></script>\n",
       "<script src=\"https://cdn.jsdelivr.net/npm/uikit@3.21.6/dist/js/uikit-icons.min.js\"></script>\n",
       "<script type=\"module\" src=\"https://unpkg.com/franken-wc@0.0.6/dist/js/wc.iife.js\"></script>\n",
       "<link rel=\"stylesheet\" href=\"https://unpkg.com/franken-wc@0.0.6/dist/css/blue.min.css\">\n",
       "\n",
       "<style>\n",
       "#notebook-container { max-width: none; }\n",
       ".output_html * { list-style-type: none !important; }\n",
       "</style>\n"
      ],
      "text/plain": [
       "<IPython.core.display.HTML object>"
      ]
     },
     "metadata": {},
     "output_type": "display_data"
    }
   ],
   "source": [
    "%%html\n",
    "<script src=\"https://cdn.tailwindcss.com\"></script>\n",
    "<script src=\"https://cdn.jsdelivr.net/npm/uikit@3.21.6/dist/js/uikit.min.js\"></script>\n",
    "<script src=\"https://cdn.jsdelivr.net/npm/uikit@3.21.6/dist/js/uikit-icons.min.js\"></script>\n",
    "<script type=\"module\" src=\"https://unpkg.com/franken-wc@0.0.6/dist/js/wc.iife.js\"></script>\n",
    "<link rel=\"stylesheet\" href=\"https://unpkg.com/franken-wc@0.0.6/dist/css/blue.min.css\">\n",
    "\n",
    "<style>\n",
    "#notebook-container { max-width: none; }\n",
    ".output_html * { list-style-type: none !important; }\n",
    "</style>"
   ]
  },
  {
   "cell_type": "code",
   "execution_count": 5,
   "id": "19ba6675",
   "metadata": {},
   "outputs": [],
   "source": [
    "from httpx import get\n",
    "fh_frankenui = open(\"../fh_frankenui/components.py\").read().strip()\n",
    "\n",
    "url = 'https://raw.githubusercontent.com/franken-ui/examples/master/src/pages/dashboard.astro'\n",
    "dashboard = get(url).text\n",
    "\n",
    "url = 'https://raw.githubusercontent.com/franken-ui/examples/master/src/pages/cards.astro'\n",
    "cards = get(url).text\n",
    "\n",
    "url = 'https://github.com/AnswerDotAI/fh-frankenui-examples/blob/main/fh_frankenui_examples/cards.py'\n",
    "cards_in_python = get(url).text\n",
    "\n",
    "url = 'https://github.com/AnswerDotAI/fh-frankenui-examples/blob/main/fh_frankenui_examples/tasks.py'\n",
    "tasks_in_python = get(url).text\n",
    "\n",
    "url = 'https://raw.githubusercontent.com/AnswerDotAI/fasthtml/main/examples/adv_app.py'\n",
    "idiomatic_fasthtml_app = get(url).text\n"
   ]
  },
  {
   "cell_type": "code",
   "execution_count": 20,
   "id": "275f3643",
   "metadata": {},
   "outputs": [],
   "source": [
    "#| exports\n",
    "def InfoCard(title, value, change):\n",
    "    return Div(Card(\n",
    "             Div(UkH3(value),\n",
    "                P(change, cls=TextT.muted_sm)),\n",
    "             header = UkH4(title)))"
   ]
  },
  {
   "cell_type": "code",
   "execution_count": 22,
   "id": "745555dc",
   "metadata": {},
   "outputs": [],
   "source": [
    "#| exports\n",
    "rev = InfoCard(\"Total Revenue\", \"$45,231.89\", \"+20.1% from last month\")\n",
    "sub = InfoCard(\"Subscriptions\", \"+2350\", \"+180.1% from last month\")\n",
    "sal = InfoCard(\"Sales\", \"+12,234\", \"+19% from last month\")\n",
    "act = InfoCard(\"Active Now\", \"+573\", \"+201 since last hour\")"
   ]
  },
  {
   "cell_type": "code",
   "execution_count": 23,
   "id": "96867f4f",
   "metadata": {},
   "outputs": [],
   "source": [
    "#| exports\n",
    "top_info_row = Grid(rev,sub,sal,act,cols=4, cls=GridT.small)"
   ]
  },
  {
   "cell_type": "code",
   "execution_count": 14,
   "id": "98b733c2",
   "metadata": {},
   "outputs": [],
   "source": [
    "#| exports\n",
    "def AvatarItem(name, email, amount):\n",
    "    return Div(cls=\"flex items-center\")(\n",
    "        DiceBearAvatar(name, 9,9),\n",
    "        Div(cls=\"ml-4 space-y-1\")(\n",
    "            P(name, cls=TextT.medium_sm),\n",
    "            P(email, cls=TextT.muted_sm)),\n",
    "        Div(amount, cls=\"ml-auto font-medium\"))\n",
    "\n",
    "recent_sales = Card(\n",
    "    Div(cls=\"space-y-8\")(\n",
    "        *[AvatarItem(n,e,d) for (n,e,d) in (\n",
    "            (\"Olivia Martin\",   \"olivia.martin@email.com\",   \"+$1,999.00\"),\n",
    "            (\"Jackson Lee\",     \"jackson.lee@email.com\",     \"+$39.00\"),\n",
    "            (\"Isabella Nguyen\", \"isabella.nguyen@email.com\", \"+$299.00\"),\n",
    "            (\"William Kim\",     \"will@email.com\",            \"+$99.00\"),\n",
    "            (\"Sofia Davis\",     \"sofia.davis@email.com\",     \"+$39.00\"))]),\n",
    "    header=Div(\n",
    "        UkH3(\"Recent Sales\"),\n",
    "        P(\"You made 265 sales this month.\", cls=TextT.muted_sm)),\n",
    "\n",
    "cls='lg:col-span-3')"
   ]
  },
  {
   "cell_type": "code",
   "execution_count": 15,
   "id": "3767a677",
   "metadata": {},
   "outputs": [],
   "source": [
    "#| exports\n",
    "@matplotlib2fasthtml\n",
    "def generate_chart(num_points):\n",
    "    plotdata = [np.random.exponential(1) for _ in range(num_points)]\n",
    "    plt.plot(range(len(plotdata)), plotdata)"
   ]
  },
  {
   "cell_type": "code",
   "execution_count": 16,
   "id": "d7a93876",
   "metadata": {},
   "outputs": [
    {
     "data": {
      "text/html": [
       "<img src=\"data:image/jpg;base64, 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\">"
      ],
      "text/plain": [
       "<IPython.core.display.HTML object>"
      ]
     },
     "execution_count": 16,
     "metadata": {},
     "output_type": "execute_result"
    }
   ],
   "source": [
    "show(generate_chart(10))"
   ]
  },
  {
   "cell_type": "code",
   "execution_count": 24,
   "id": "c9f74172",
   "metadata": {},
   "outputs": [],
   "source": [
    "#| exports\n",
    "teams = [\n",
    "    [\"Alicia Koch\"],\n",
    "    ['Acme Inc', 'Monster Inc.'],\n",
    "    ['Create a Team']\n",
    "]\n",
    "\n",
    "opt_hdrs = [\"Personal\", \"Team\", \"\"]\n",
    "\n",
    "team_dropdown = UkDropdownButton(*map(lambda t: map(A, t), teams),\n",
    "    opt_hdrs=opt_hdrs,\n",
    "    label=teams[0][0])"
   ]
  },
  {
   "cell_type": "code",
   "execution_count": 20,
   "id": "7651de4e",
   "metadata": {},
   "outputs": [
    {
     "data": {
      "text/plain": [
       "[<map at 0x1323f1a20>, <map at 0x1323f1c90>, <map at 0x1323f06d0>]"
      ]
     },
     "execution_count": 20,
     "metadata": {},
     "output_type": "execute_result"
    }
   ],
   "source": [
    "list(map(lambda t: map(A, t), teams))"
   ]
  },
  {
   "cell_type": "code",
   "execution_count": 22,
   "id": "de92bb9b",
   "metadata": {},
   "outputs": [
    {
     "data": {
      "text/plain": [
       "[a(('Alicia Koch', 'Acme Inc', 'Create a Team'),{'href': '#'})]"
      ]
     },
     "execution_count": 22,
     "metadata": {},
     "output_type": "execute_result"
    }
   ],
   "source": [
    "list(map(A,*teams))"
   ]
  },
  {
   "cell_type": "code",
   "execution_count": null,
   "id": "b91ef344",
   "metadata": {},
   "outputs": [],
   "source": [
    "#| exports\n",
    "\n",
    "hotkeys = [('Profile','⇧⌘P'),('Billing','⌘B'),('Settings','⌘S'),('New Team', '')]\n",
    "\n",
    "def space(*c): return A(FullySpacedDiv(*c, wrap_tag=P))\n",
    "\n",
    "hotkeys = tuple(map(lambda x: space(*x), hotkeys))\n",
    "logout = space('Logout' ,''),\n",
    "user = Li(cls='px-2 py-1.5 text-sm')(\n",
    "        Div(cls='flex flex-col space-y-1')(\n",
    "            P('sveltecult', cls='text-sm font-medium leading-none'),\n",
    "            P('leader@sveltecult.com', cls='text-xs leading-none text-muted-foreground'))),\n",
    "avatar = DiceBearAvatar('Alicia Koch',8,8)\n",
    "avatar_dropdown = UkDropdownButton(user,hotkeys,logout,\n",
    "    label=avatar)"
   ]
  },
  {
   "cell_type": "code",
   "execution_count": 28,
   "id": "6ca923da",
   "metadata": {
    "scrolled": true
   },
   "outputs": [],
   "source": [
    "# show(avatar_dropdown)"
   ]
  },
  {
   "cell_type": "code",
   "execution_count": 20,
   "id": "51137d79",
   "metadata": {},
   "outputs": [],
   "source": [
    "#| exports\n",
    "top_nav = UkNavbar(\n",
    "    lnav=[team_dropdown, Li(A(\"Overview\")), Li(A(\"Customers\")), Li(A(\"Products\")), Li(A(\"Settings\"))],\n",
    "    rnav=[UkInput(placeholder='Search'), avatar_dropdown],)"
   ]
  },
  {
   "cell_type": "code",
   "execution_count": 21,
   "id": "a7002b4e",
   "metadata": {},
   "outputs": [],
   "source": [
    "#| exports\n",
    "def page():\n",
    "    return Div(cls=\"space-y-4\")(\n",
    "        Div(cls=\"border-b border-border px-4\")(top_nav),\n",
    "        UkH2('Dashboard'),\n",
    "        UkTab(\"Overview\", \"Analytics\", \"Reports\", \"Notifications\"), \n",
    "        top_info_row,\n",
    "        Grid(Card(generate_chart(10),cls='lg:col-span-4'),\n",
    "            recent_sales,\n",
    "            gap=4,cls='lg:grid-cols-7'))"
   ]
  },
  {
   "cell_type": "code",
   "execution_count": 23,
   "id": "22a8233b",
   "metadata": {},
   "outputs": [],
   "source": [
    "#| exports\n",
    "dashboard_homepage = page()"
   ]
  },
  {
   "cell_type": "code",
   "execution_count": 24,
   "id": "1992630d",
   "metadata": {},
   "outputs": [],
   "source": [
    "#| hide\n",
    "import nbdev; nbdev.nbdev_export()"
   ]
  }
 ],
 "metadata": {
  "kernelspec": {
   "display_name": "Python 3 (ipykernel)",
   "language": "python",
   "name": "python3"
  },
  "language_info": {
   "codemirror_mode": {
    "name": "ipython",
    "version": 3
   },
   "file_extension": ".py",
   "mimetype": "text/x-python",
   "name": "python",
   "nbconvert_exporter": "python",
   "pygments_lexer": "ipython3",
   "version": "3.12.4"
  },
  "toc": {
   "base_numbering": 1,
   "nav_menu": {},
   "number_sections": true,
   "sideBar": true,
   "skip_h1_title": false,
   "title_cell": "Table of Contents",
   "title_sidebar": "Contents",
   "toc_cell": false,
   "toc_position": {},
   "toc_section_display": true,
   "toc_window_display": false
  }
 },
 "nbformat": 4,
 "nbformat_minor": 5
}
