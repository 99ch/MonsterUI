{
 "cells": [
  {
   "cell_type": "markdown",
   "id": "bd49724c",
   "metadata": {},
   "source": [
    "# Dashboard\n",
    "\n",
    "> FrankenUI Dashboard Example"
   ]
  },
  {
   "cell_type": "code",
   "execution_count": 1,
   "id": "04abc944",
   "metadata": {},
   "outputs": [],
   "source": [
    "#| default_exp dashboard"
   ]
  },
  {
   "cell_type": "code",
   "execution_count": 2,
   "id": "cef92ebb",
   "metadata": {},
   "outputs": [],
   "source": [
    "#| export\n",
    "from fasthtml.common import *\n",
    "from fh_frankenui.components import *\n",
    "from fasthtml.svg import *\n",
    "from fh_matplotlib import matplotlib2fasthtml\n",
    "import numpy as np\n",
    "import matplotlib.pylab as plt"
   ]
  },
  {
   "cell_type": "code",
   "execution_count": 3,
   "id": "02ad7e62",
   "metadata": {},
   "outputs": [],
   "source": [
    "#| hide\n",
    "from nbdev.showdoc import *"
   ]
  },
  {
   "cell_type": "code",
   "execution_count": 4,
   "id": "f0f5477a",
   "metadata": {},
   "outputs": [
    {
     "data": {
      "text/html": [
       "<script src=\"https://cdn.tailwindcss.com\"></script>\n",
       "<script src=\"https://cdn.jsdelivr.net/npm/uikit@3.21.6/dist/js/uikit.min.js\"></script>\n",
       "<script src=\"https://cdn.jsdelivr.net/npm/uikit@3.21.6/dist/js/uikit-icons.min.js\"></script>\n",
       "<script type=\"module\" src=\"https://unpkg.com/franken-wc@0.0.6/dist/js/wc.iife.js\"></script>\n",
       "<link rel=\"stylesheet\" href=\"https://unpkg.com/franken-wc@0.0.6/dist/css/blue.min.css\">\n",
       "\n",
       "<style>\n",
       "#notebook-container { max-width: none; }\n",
       ".output_html * { list-style-type: none !important; }\n",
       "</style>\n"
      ],
      "text/plain": [
       "<IPython.core.display.HTML object>"
      ]
     },
     "metadata": {},
     "output_type": "display_data"
    }
   ],
   "source": [
    "%%html\n",
    "<script src=\"https://cdn.tailwindcss.com\"></script>\n",
    "<script src=\"https://cdn.jsdelivr.net/npm/uikit@3.21.6/dist/js/uikit.min.js\"></script>\n",
    "<script src=\"https://cdn.jsdelivr.net/npm/uikit@3.21.6/dist/js/uikit-icons.min.js\"></script>\n",
    "<script type=\"module\" src=\"https://unpkg.com/franken-wc@0.0.6/dist/js/wc.iife.js\"></script>\n",
    "<link rel=\"stylesheet\" href=\"https://unpkg.com/franken-wc@0.0.6/dist/css/blue.min.css\">\n",
    "\n",
    "<style>\n",
    "#notebook-container { max-width: none; }\n",
    ".output_html * { list-style-type: none !important; }\n",
    "</style>"
   ]
  },
  {
   "cell_type": "code",
   "execution_count": 5,
   "id": "19ba6675",
   "metadata": {},
   "outputs": [],
   "source": [
    "from httpx import get\n",
    "fh_frankenui = open(\"../fh_frankenui/components.py\").read().strip()\n",
    "\n",
    "url = 'https://raw.githubusercontent.com/franken-ui/examples/master/src/pages/dashboard.astro'\n",
    "dashboard = get(url).text\n",
    "\n",
    "url = 'https://raw.githubusercontent.com/franken-ui/examples/master/src/pages/cards.astro'\n",
    "cards = get(url).text\n",
    "\n",
    "url = 'https://github.com/AnswerDotAI/fh-frankenui-examples/blob/main/fh_frankenui_examples/cards.py'\n",
    "cards_in_python = get(url).text\n",
    "\n",
    "url = 'https://github.com/AnswerDotAI/fh-frankenui-examples/blob/main/fh_frankenui_examples/tasks.py'\n",
    "tasks_in_python = get(url).text\n",
    "\n",
    "url = 'https://raw.githubusercontent.com/AnswerDotAI/fasthtml/main/examples/adv_app.py'\n",
    "idiomatic_fasthtml_app = get(url).text\n"
   ]
  },
  {
   "cell_type": "code",
   "execution_count": 6,
   "id": "d382f5d5",
   "metadata": {},
   "outputs": [],
   "source": [
    "%%ai 0 -c\n",
    "\n",
    "I am implementing FrankenUI for FastHTML by reimplementing the FrankenUI examples from their docs in a python library.  I am doing this by building a library as I go, `fh_frankenui`.\n",
    "\n",
    "Reference the `idiomatic_fasthtml_app` to get a feel for fasthtml.\n",
    "\n",
    "I previously did their `cards` example, and the python implementation looked like `cards_in_python`.\n",
    "\n",
    "Now, I am looking to do the same with their `dashboard` example.\n",
    "\n",
    "The goal is to develop the work-in-progress `fh_frankenui` library, so please use `fh_frankenui` as much as makes sense and recommend functions or improvements to `fh_frankenui` when it fits.\n",
    "\n",
    "Please read all this information and confirm that you understand what I want to do by giving me a brief overview in your own words.  \n"
   ]
  },
  {
   "cell_type": "markdown",
   "id": "8a31fe0f",
   "metadata": {},
   "source": [
    "You're developing a Python library called `fh_frankenui` to implement FrankenUI components for FastHTML. Your approach involves recreating FrankenUI examples from their documentation in Python.\n",
    "\n",
    "You've already completed the 'cards' example and are now focusing on the 'dashboard' example. Your goal is to create a Python equivalent of the FrankenUI dashboard, utilizing and expanding the `fh_frankenui` library as needed.\n",
    "\n",
    "You want me to analyze the provided context, including the FastHTML idiomatic app, the existing `fh_frankenui` code, and the FrankenUI dashboard example. Based on this analysis, you're looking for guidance on implementing the dashboard in Python, with suggestions for new functions or improvements to `fh_frankenui` where appropriate."
   ]
  },
  {
   "cell_type": "code",
   "execution_count": 7,
   "id": "b8ed7a67",
   "metadata": {},
   "outputs": [],
   "source": [
    "%%aip 0\n",
    "\n",
    "I want a flexible function that can generate the top row of cards that all share the same general format"
   ]
  },
  {
   "cell_type": "code",
   "execution_count": 8,
   "id": "275f3643",
   "metadata": {},
   "outputs": [],
   "source": [
    "#| exports\n",
    "def InfoCard(title, value, change):\n",
    "    return Card(\n",
    "             Div(UkH3(value),\n",
    "                P(change, cls=TextT.muted_sm)),\n",
    "             header = UkH4(title),)"
   ]
  },
  {
   "cell_type": "code",
   "execution_count": 9,
   "id": "45c602c4",
   "metadata": {},
   "outputs": [],
   "source": [
    "%%aip 0\n",
    "Use the `InfoCard` function to create the top row of cards - each one in a variable (rev,sub,sal,act)."
   ]
  },
  {
   "cell_type": "code",
   "execution_count": 10,
   "id": "745555dc",
   "metadata": {},
   "outputs": [],
   "source": [
    "#| exports\n",
    "rev = InfoCard(\"Total Revenue\", \"$45,231.89\", \"+20.1% from last month\")\n",
    "sub = InfoCard(\"Subscriptions\", \"+2350\", \"+180.1% from last month\")\n",
    "sal = InfoCard(\"Sales\", \"+12,234\", \"+19% from last month\")\n",
    "act = InfoCard(\"Active Now\", \"+573\", \"+201 since last hour\")"
   ]
  },
  {
   "cell_type": "code",
   "execution_count": 11,
   "id": "96867f4f",
   "metadata": {},
   "outputs": [],
   "source": [
    "#| exports\n",
    "top_info_row = Grid(rev,sub,sal,act,cols=2, gap=4, cls='lg:grid-cols-4')"
   ]
  },
  {
   "cell_type": "code",
   "execution_count": 12,
   "id": "76a4a138",
   "metadata": {},
   "outputs": [
    {
     "data": {
      "text/html": [
       "<div class=\"grid grid-cols-2 gap-4 lg:grid-cols-4\">\n",
       "  <div class=\"uk-card \">\n",
       "    <div class=\"uk-card-header \">\n",
       "      <h4 class=\"uk-h4\">Total Revenue</h4>\n",
       "    </div>\n",
       "    <div class=\"uk-card-body space-y-6\">\n",
       "      <div>\n",
       "        <h3 class=\"uk-h3\">$45,231.89</h3>\n",
       "        <p class=\"text-sm uk-text-muted\">+20.1% from last month</p>\n",
       "      </div>\n",
       "    </div>\n",
       "  </div>\n",
       "  <div class=\"uk-card \">\n",
       "    <div class=\"uk-card-header \">\n",
       "      <h4 class=\"uk-h4\">Subscriptions</h4>\n",
       "    </div>\n",
       "    <div class=\"uk-card-body space-y-6\">\n",
       "      <div>\n",
       "        <h3 class=\"uk-h3\">+2350</h3>\n",
       "        <p class=\"text-sm uk-text-muted\">+180.1% from last month</p>\n",
       "      </div>\n",
       "    </div>\n",
       "  </div>\n",
       "  <div class=\"uk-card \">\n",
       "    <div class=\"uk-card-header \">\n",
       "      <h4 class=\"uk-h4\">Sales</h4>\n",
       "    </div>\n",
       "    <div class=\"uk-card-body space-y-6\">\n",
       "      <div>\n",
       "        <h3 class=\"uk-h3\">+12,234</h3>\n",
       "        <p class=\"text-sm uk-text-muted\">+19% from last month</p>\n",
       "      </div>\n",
       "    </div>\n",
       "  </div>\n",
       "  <div class=\"uk-card \">\n",
       "    <div class=\"uk-card-header \">\n",
       "      <h4 class=\"uk-h4\">Active Now</h4>\n",
       "    </div>\n",
       "    <div class=\"uk-card-body space-y-6\">\n",
       "      <div>\n",
       "        <h3 class=\"uk-h3\">+573</h3>\n",
       "        <p class=\"text-sm uk-text-muted\">+201 since last hour</p>\n",
       "      </div>\n",
       "    </div>\n",
       "  </div>\n",
       "</div>\n"
      ],
      "text/plain": [
       "<IPython.core.display.HTML object>"
      ]
     },
     "execution_count": 12,
     "metadata": {},
     "output_type": "execute_result"
    }
   ],
   "source": [
    "show(top_info_row)"
   ]
  },
  {
   "cell_type": "code",
   "execution_count": 13,
   "id": "ee500a1b",
   "metadata": {},
   "outputs": [],
   "source": [
    "%%aip 0\n",
    "\n",
    "Let's create the card with the avatars next.  Be sure to reference similar examples from `cards_in_python` to make it as simple as possible.\n",
    "\n",
    "I don't need an exact recreation so if UkH3 or UkH4 is close enough (like I did previously) then that's fine"
   ]
  },
  {
   "cell_type": "code",
   "execution_count": 14,
   "id": "98b733c2",
   "metadata": {},
   "outputs": [],
   "source": [
    "#| exports\n",
    "def AvatarItem(name, email, amount):\n",
    "    return Div(cls=\"flex items-center\")(\n",
    "        DiceBearAvatar(name, 9,9),\n",
    "        Div(cls=\"ml-4 space-y-1\")(\n",
    "            P(name, cls=TextT.medium_sm),\n",
    "            P(email, cls=TextT.muted_sm)),\n",
    "        Div(amount, cls=\"ml-auto font-medium\"))\n",
    "\n",
    "recent_sales = Card(\n",
    "    Div(cls=\"space-y-8\")(\n",
    "        *[AvatarItem(n,e,d) for (n,e,d) in (\n",
    "            (\"Olivia Martin\",   \"olivia.martin@email.com\",   \"+$1,999.00\"),\n",
    "            (\"Jackson Lee\",     \"jackson.lee@email.com\",     \"+$39.00\"),\n",
    "            (\"Isabella Nguyen\", \"isabella.nguyen@email.com\", \"+$299.00\"),\n",
    "            (\"William Kim\",     \"will@email.com\",            \"+$99.00\"),\n",
    "            (\"Sofia Davis\",     \"sofia.davis@email.com\",     \"+$39.00\"))]),\n",
    "    header=Div(\n",
    "        UkH3(\"Recent Sales\"),\n",
    "        P(\"You made 265 sales this month.\", cls=TextT.muted_sm)))"
   ]
  },
  {
   "cell_type": "code",
   "execution_count": 15,
   "id": "3767a677",
   "metadata": {},
   "outputs": [],
   "source": [
    "#| exports\n",
    "@matplotlib2fasthtml\n",
    "def generate_chart(num_points):\n",
    "    plotdata = [np.random.exponential(1) for _ in range(num_points)]\n",
    "    plt.plot(range(len(plotdata)), plotdata)"
   ]
  },
  {
   "cell_type": "code",
   "execution_count": 16,
   "id": "d7a93876",
   "metadata": {},
   "outputs": [
    {
     "data": {
      "text/html": [
       "<img src=\"data:image/jpg;base64, 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\">"
      ],
      "text/plain": [
       "<IPython.core.display.HTML object>"
      ]
     },
     "execution_count": 16,
     "metadata": {},
     "output_type": "execute_result"
    }
   ],
   "source": [
    "show(generate_chart(10))"
   ]
  },
  {
   "cell_type": "code",
   "execution_count": 17,
   "id": "12f0df9e",
   "metadata": {},
   "outputs": [],
   "source": [
    "%%aip 0\n",
    "Now let's make the top navigation section with \"Overview\", \"Analytics\", \"Reports\", \"Notifications\" tables that use their own functions"
   ]
  },
  {
   "cell_type": "code",
   "execution_count": 18,
   "id": "a9290026",
   "metadata": {},
   "outputs": [
    {
     "data": {
      "text/html": [
       "<ul class=\"uk-tab-alt max-w-96\">\n",
       "  <li class=\" \">\n",
       "<a href=\"#demo\" uk-toggle>Overview</a>  </li>\n",
       "  <li class=\" \">\n",
       "<a href=\"#demo\" uk-toggle>Analytics</a>  </li>\n",
       "  <li class=\" \">\n",
       "<a href=\"#demo\" uk-toggle>Reports</a>  </li>\n",
       "  <li class=\" \">\n",
       "<a href=\"#demo\" uk-toggle>Notifications</a>  </li>\n",
       "</ul>\n"
      ],
      "text/plain": [
       "<IPython.core.display.HTML object>"
      ]
     },
     "execution_count": 18,
     "metadata": {},
     "output_type": "execute_result"
    }
   ],
   "source": [
    "#| exports\n",
    "def NavTab(text, active=False):\n",
    "    return Li(cls=\"uk-active\" if active else \" \")(\n",
    "        A(text, href=\"#demo\", uk_toggle=True))\n",
    "\n",
    "def UkTab(*items):\n",
    "    return Ul(cls=\"uk-tab-alt max-w-96\")(*[NavTab(item) for i, item in enumerate(items)])\n",
    "\n",
    "db_nav = UkTab(\"Overview\", \"Analytics\", \"Reports\", \"Notifications\")\n",
    "show(db_nav)"
   ]
  },
  {
   "cell_type": "code",
   "execution_count": 19,
   "id": "7fc67843",
   "metadata": {},
   "outputs": [],
   "source": [
    "%%aip 0\n",
    "Now let's make the top navigation section with \"Overview\", \"Customers\", \"products\", \"Settings\" tabs that use their own functions, with the name/teams dropdown too\n",
    "\n",
    "For the dropdown use either `UkDropdownButton` or `UkSelect` - remember it doesn't need to perfectly match - just look pretty decent and be very simple code."
   ]
  },
  {
   "cell_type": "code",
   "execution_count": 20,
   "id": "c9f74172",
   "metadata": {},
   "outputs": [],
   "source": [
    "#| exports\n",
    "teams = [\n",
    "    [\"Alicia Koch\"],\n",
    "    ['Acme Inc', 'Monster Inc.'],\n",
    "    ['Create a Team']\n",
    "]\n",
    "\n",
    "opt_hdrs = [\"Personal\", \"Team\", \"\"]\n",
    "\n",
    "team_dropdown = UkDropdownButton(\n",
    "    options=list(map(lambda t: map(A, t), teams)),\n",
    "    option_hdrs=opt_hdrs,\n",
    "    label=teams[0][0]\n",
    ")"
   ]
  },
  {
   "cell_type": "code",
   "execution_count": 59,
   "id": "6ca923da",
   "metadata": {},
   "outputs": [
    {
     "data": {
      "text/html": [
       "<div>\n",
       "  <div class=\"flex items-center space-x-4\">\n",
       "<button type=\"button\" class=\"uk-button uk-button-default\"><span class=\"relative flex h-8 w-8 shrink-0 overflow-hidden rounded-full bg-accent\"><img alt=\"Avatar\" src=\"https://api.dicebear.com/8.x/lorelei/svg?seed=Alicia Koch\" class=\"aspect-square h-full w-full\"></span><span uk-icon=\"icon: triangle-down; ratio: 1\"></span></button>    <div uk-drop=\"mode: click; pos: bottom-right\" class=\"uk-dropdown uk-drop \">\n",
       "      <ul class=\"uk-dropdown-nav\">\n",
       "        <li>\n",
       "          <li class=\"px-2 py-1.5 text-sm\">\n",
       "            <div class=\"flex flex-col space-y-1\">\n",
       "              <p class=\"text-sm font-medium leading-none\">sveltecult</p>\n",
       "              <p class=\"text-xs leading-none text-muted-foreground\">leader@sveltecult.com</p>\n",
       "            </div>\n",
       "          </li>\n",
       "        </li>\n",
       "        <li class=\"uk-nav-divider\"></li>\n",
       "        <li>\n",
       "<a href=\"#\">            <div class=\"uk-flex uk-flex-between uk-flex-middle uk-width-1-1\">\n",
       "              <p>Profile</p>\n",
       "              <p>⇧⌘P</p>\n",
       "            </div>\n",
       "</a>        </li>\n",
       "        <li>\n",
       "<a href=\"#\">            <div class=\"uk-flex uk-flex-between uk-flex-middle uk-width-1-1\">\n",
       "              <p>Billing</p>\n",
       "              <p>⌘B</p>\n",
       "            </div>\n",
       "</a>        </li>\n",
       "        <li>\n",
       "<a href=\"#\">            <div class=\"uk-flex uk-flex-between uk-flex-middle uk-width-1-1\">\n",
       "              <p>Settings</p>\n",
       "              <p>⌘S</p>\n",
       "            </div>\n",
       "</a>        </li>\n",
       "        <li>\n",
       "<a href=\"#\">            <div class=\"uk-flex uk-flex-between uk-flex-middle uk-width-1-1\">\n",
       "              <p>New Team</p>\n",
       "              <p></p>\n",
       "            </div>\n",
       "</a>        </li>\n",
       "        <li class=\"uk-nav-divider\"></li>\n",
       "        <li>\n",
       "<a href=\"#\">            <div class=\"uk-flex uk-flex-between uk-flex-middle uk-width-1-1\">\n",
       "              <p>Logout</p>\n",
       "              <p></p>\n",
       "            </div>\n",
       "</a>        </li>\n",
       "      </ul>\n",
       "    </div>\n",
       "  </div>\n",
       "</div>\n"
      ],
      "text/plain": [
       "<IPython.core.display.HTML object>"
      ]
     },
     "execution_count": 59,
     "metadata": {},
     "output_type": "execute_result"
    }
   ],
   "source": [
    "#| exports\n",
    "\n",
    "hotkeys = [\n",
    "    ('Profile','⇧⌘P'),\n",
    "    ('Billing','⌘B'),\n",
    "    ('Settings','⌘S'),\n",
    "    ('New Team', '')\n",
    "]\n",
    "\n",
    "def space(*c): return A(FullySpacedContainer(*c, wrap_tag=P))\n",
    "\n",
    "hotkeys = tuple(map(lambda x: space(*x), hotkeys))\n",
    "logout = space('Logout' ,''),\n",
    "user = Li(cls='px-2 py-1.5 text-sm')(\n",
    "        Div(cls='flex flex-col space-y-1')(\n",
    "            P('sveltecult', cls='text-sm font-medium leading-none'),\n",
    "            P('leader@sveltecult.com', cls='text-xs leading-none text-muted-foreground')\n",
    "        )\n",
    "),\n",
    "avatar = DiceBearAvatar('Alicia Koch',8,8)\n",
    "avatar_dropdown = UkDropdownButton(\n",
    "    options=[user]+[hotkeys]+[logout],\n",
    "    label=avatar)\n",
    "\n",
    "show(avatar_dropdown)"
   ]
  },
  {
   "cell_type": "code",
   "execution_count": 60,
   "id": "51137d79",
   "metadata": {},
   "outputs": [],
   "source": [
    "#| exports\n",
    "top_nav = UkNavbar(\n",
    "    lnav=[team_dropdown, Li(A(\"Overview\")), Li(A(\"Customers\")), Li(A(\"Products\")), Li(A(\"Settings\"))],\n",
    "    rnav=[UkInput(placeholder='Search'), avatar_dropdown],\n",
    ")"
   ]
  },
  {
   "cell_type": "code",
   "execution_count": 61,
   "id": "a7002b4e",
   "metadata": {},
   "outputs": [],
   "source": [
    "#| exports\n",
    "def page():\n",
    "    return Div(cls=\"space-y-4\")(\n",
    "        Div(cls=\"border-b border-border px-4\")(top_nav),\n",
    "        UkH2('Dashboard'),\n",
    "        db_nav, \n",
    "        top_info_row,\n",
    "        Grid(Card(generate_chart(10),cls='lg:col-span-4'),\n",
    "            Card(recent_sales,cls='lg:col-span-3'),\n",
    "            gap=4,cls='lg:grid-cols-7'))"
   ]
  },
  {
   "cell_type": "code",
   "execution_count": 62,
   "id": "000b2c9e",
   "metadata": {},
   "outputs": [
    {
     "data": {
      "text/html": [
       "<div class=\"space-y-4\">\n",
       "  <div class=\"border-b border-border px-4\">\n",
       "    <div uk-navbar class=\"uk-navbar-container uk-width-1-1 relative z-50 z-10\">\n",
       "      <div class=\"uk-navbar-left\">\n",
       "        <ul class=\"uk-navbar-nav\">\n",
       "          <div class=\"uk-navbar-item uk-navbar-item uk-navbar-item uk-navbar-item uk-navbar-item uk-navbar-item\">\n",
       "            <div class=\"flex items-center space-x-4\">\n",
       "<button type=\"button\" class=\"uk-button uk-button-default\">Alicia Koch<span uk-icon=\"icon: triangle-down; ratio: 1\"></span></button>              <div uk-drop=\"mode: click; pos: bottom-right\" class=\"uk-dropdown uk-drop \">\n",
       "                <ul class=\"uk-dropdown-nav\">\n",
       "                  <li class=\"uk-nav-header\">\n",
       "                    <div>Personal</div>\n",
       "                  </li>\n",
       "                  <li>\n",
       "<a href=\"#\">Alicia Koch</a>                  </li>\n",
       "                  <li class=\"uk-nav-header\">\n",
       "                    <div>Team</div>\n",
       "                  </li>\n",
       "                  <li>\n",
       "<a href=\"#\">Acme Inc</a><a href=\"#\">Monster Inc.</a>                  </li>\n",
       "                  <li class=\"uk-nav-divider\"></li>\n",
       "                  <li>\n",
       "<a href=\"#\">Create a Team</a>                  </li>\n",
       "                </ul>\n",
       "              </div>\n",
       "            </div>\n",
       "          </div>\n",
       "          <li class=\"uk-navbar-item\">\n",
       "<a href=\"#\">Overview</a>          </li>\n",
       "          <li class=\"uk-navbar-item\">\n",
       "<a href=\"#\">Customers</a>          </li>\n",
       "          <li class=\"uk-navbar-item\">\n",
       "<a href=\"#\">Products</a>          </li>\n",
       "          <li class=\"uk-navbar-item\">\n",
       "<a href=\"#\">Settings</a>          </li>\n",
       "        </ul>\n",
       "      </div>\n",
       "      <div class=\"uk-navbar-right\">\n",
       "        <ul class=\"uk-navbar-nav\">\n",
       "          <div class=\"space-y-2 uk-navbar-item\">\n",
       "            <input placeholder=\"Search\" class=\"uk-input\">\n",
       "          </div>\n",
       "          <div class=\"uk-navbar-item\">\n",
       "            <div class=\"flex items-center space-x-4\">\n",
       "<button type=\"button\" class=\"uk-button uk-button-default\"><span class=\"relative flex h-8 w-8 shrink-0 overflow-hidden rounded-full bg-accent\"><img alt=\"Avatar\" src=\"https://api.dicebear.com/8.x/lorelei/svg?seed=Alicia Koch\" class=\"aspect-square h-full w-full\"></span><span uk-icon=\"icon: triangle-down; ratio: 1\"></span></button>              <div uk-drop=\"mode: click; pos: bottom-right\" class=\"uk-dropdown uk-drop \">\n",
       "                <ul class=\"uk-dropdown-nav\">\n",
       "                  <li>\n",
       "                    <li class=\"px-2 py-1.5 text-sm\">\n",
       "                      <div class=\"flex flex-col space-y-1\">\n",
       "                        <p class=\"text-sm font-medium leading-none\">sveltecult</p>\n",
       "                        <p class=\"text-xs leading-none text-muted-foreground\">leader@sveltecult.com</p>\n",
       "                      </div>\n",
       "                    </li>\n",
       "                  </li>\n",
       "                  <li class=\"uk-nav-divider\"></li>\n",
       "                  <li>\n",
       "<a href=\"#\">                      <div class=\"uk-flex uk-flex-between uk-flex-middle uk-width-1-1\">\n",
       "                        <p>Profile</p>\n",
       "                        <p>⇧⌘P</p>\n",
       "                      </div>\n",
       "</a>                  </li>\n",
       "                  <li>\n",
       "<a href=\"#\">                      <div class=\"uk-flex uk-flex-between uk-flex-middle uk-width-1-1\">\n",
       "                        <p>Billing</p>\n",
       "                        <p>⌘B</p>\n",
       "                      </div>\n",
       "</a>                  </li>\n",
       "                  <li>\n",
       "<a href=\"#\">                      <div class=\"uk-flex uk-flex-between uk-flex-middle uk-width-1-1\">\n",
       "                        <p>Settings</p>\n",
       "                        <p>⌘S</p>\n",
       "                      </div>\n",
       "</a>                  </li>\n",
       "                  <li>\n",
       "<a href=\"#\">                      <div class=\"uk-flex uk-flex-between uk-flex-middle uk-width-1-1\">\n",
       "                        <p>New Team</p>\n",
       "                        <p></p>\n",
       "                      </div>\n",
       "</a>                  </li>\n",
       "                  <li class=\"uk-nav-divider\"></li>\n",
       "                  <li>\n",
       "<a href=\"#\">                      <div class=\"uk-flex uk-flex-between uk-flex-middle uk-width-1-1\">\n",
       "                        <p>Logout</p>\n",
       "                        <p></p>\n",
       "                      </div>\n",
       "</a>                  </li>\n",
       "                </ul>\n",
       "              </div>\n",
       "            </div>\n",
       "          </div>\n",
       "        </ul>\n",
       "      </div>\n",
       "    </div>\n",
       "  </div>\n",
       "  <h2 class=\"uk-h2\">Dashboard</h2>\n",
       "  <ul class=\"uk-tab-alt max-w-96\">\n",
       "    <li class=\" \">\n",
       "<a href=\"#demo\" uk-toggle>Overview</a>    </li>\n",
       "    <li class=\" \">\n",
       "<a href=\"#demo\" uk-toggle>Analytics</a>    </li>\n",
       "    <li class=\" \">\n",
       "<a href=\"#demo\" uk-toggle>Reports</a>    </li>\n",
       "    <li class=\" \">\n",
       "<a href=\"#demo\" uk-toggle>Notifications</a>    </li>\n",
       "  </ul>\n",
       "  <div class=\"grid grid-cols-2 gap-4 lg:grid-cols-4\">\n",
       "    <div class=\"uk-card \">\n",
       "      <div class=\"uk-card-header \">\n",
       "        <h4 class=\"uk-h4\">Total Revenue</h4>\n",
       "      </div>\n",
       "      <div class=\"uk-card-body space-y-6\">\n",
       "        <div>\n",
       "          <h3 class=\"uk-h3\">$45,231.89</h3>\n",
       "          <p class=\"text-sm uk-text-muted\">+20.1% from last month</p>\n",
       "        </div>\n",
       "      </div>\n",
       "    </div>\n",
       "    <div class=\"uk-card \">\n",
       "      <div class=\"uk-card-header \">\n",
       "        <h4 class=\"uk-h4\">Subscriptions</h4>\n",
       "      </div>\n",
       "      <div class=\"uk-card-body space-y-6\">\n",
       "        <div>\n",
       "          <h3 class=\"uk-h3\">+2350</h3>\n",
       "          <p class=\"text-sm uk-text-muted\">+180.1% from last month</p>\n",
       "        </div>\n",
       "      </div>\n",
       "    </div>\n",
       "    <div class=\"uk-card \">\n",
       "      <div class=\"uk-card-header \">\n",
       "        <h4 class=\"uk-h4\">Sales</h4>\n",
       "      </div>\n",
       "      <div class=\"uk-card-body space-y-6\">\n",
       "        <div>\n",
       "          <h3 class=\"uk-h3\">+12,234</h3>\n",
       "          <p class=\"text-sm uk-text-muted\">+19% from last month</p>\n",
       "        </div>\n",
       "      </div>\n",
       "    </div>\n",
       "    <div class=\"uk-card \">\n",
       "      <div class=\"uk-card-header \">\n",
       "        <h4 class=\"uk-h4\">Active Now</h4>\n",
       "      </div>\n",
       "      <div class=\"uk-card-body space-y-6\">\n",
       "        <div>\n",
       "          <h3 class=\"uk-h3\">+573</h3>\n",
       "          <p class=\"text-sm uk-text-muted\">+201 since last hour</p>\n",
       "        </div>\n",
       "      </div>\n",
       "    </div>\n",
       "  </div>\n",
       "  <div class=\"grid grid-cols-3 gap-4 lg:grid-cols-7\">\n",
       "    <div class=\"uk-card lg:col-span-4\">\n",
       "      <div class=\"uk-card-body space-y-6\">\n",
       "<img src=\"data:image/jpg;base64, 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\">      </div>\n",
       "    </div>\n",
       "    <div class=\"uk-card lg:col-span-3\">\n",
       "      <div class=\"uk-card-body space-y-6\">\n",
       "        <div class=\"uk-card \">\n",
       "          <div class=\"uk-card-header \">\n",
       "            <div>\n",
       "              <h3 class=\"uk-h3\">Recent Sales</h3>\n",
       "              <p class=\"text-sm uk-text-muted\">You made 265 sales this month.</p>\n",
       "            </div>\n",
       "          </div>\n",
       "          <div class=\"uk-card-body space-y-6\">\n",
       "            <div class=\"space-y-8\">\n",
       "              <div class=\"flex items-center\">\n",
       "<span class=\"relative flex h-9 w-9 shrink-0 overflow-hidden rounded-full bg-accent\"><img alt=\"Avatar\" src=\"https://api.dicebear.com/8.x/lorelei/svg?seed=Olivia Martin\" class=\"aspect-square h-full w-full\"></span>                <div class=\"ml-4 space-y-1\">\n",
       "                  <p class=\"text-sm font-medium\">Olivia Martin</p>\n",
       "                  <p class=\"text-sm uk-text-muted\">olivia.martin@email.com</p>\n",
       "                </div>\n",
       "                <div class=\"ml-auto font-medium\">+$1,999.00</div>\n",
       "              </div>\n",
       "              <div class=\"flex items-center\">\n",
       "<span class=\"relative flex h-9 w-9 shrink-0 overflow-hidden rounded-full bg-accent\"><img alt=\"Avatar\" src=\"https://api.dicebear.com/8.x/lorelei/svg?seed=Jackson Lee\" class=\"aspect-square h-full w-full\"></span>                <div class=\"ml-4 space-y-1\">\n",
       "                  <p class=\"text-sm font-medium\">Jackson Lee</p>\n",
       "                  <p class=\"text-sm uk-text-muted\">jackson.lee@email.com</p>\n",
       "                </div>\n",
       "                <div class=\"ml-auto font-medium\">+$39.00</div>\n",
       "              </div>\n",
       "              <div class=\"flex items-center\">\n",
       "<span class=\"relative flex h-9 w-9 shrink-0 overflow-hidden rounded-full bg-accent\"><img alt=\"Avatar\" src=\"https://api.dicebear.com/8.x/lorelei/svg?seed=Isabella Nguyen\" class=\"aspect-square h-full w-full\"></span>                <div class=\"ml-4 space-y-1\">\n",
       "                  <p class=\"text-sm font-medium\">Isabella Nguyen</p>\n",
       "                  <p class=\"text-sm uk-text-muted\">isabella.nguyen@email.com</p>\n",
       "                </div>\n",
       "                <div class=\"ml-auto font-medium\">+$299.00</div>\n",
       "              </div>\n",
       "              <div class=\"flex items-center\">\n",
       "<span class=\"relative flex h-9 w-9 shrink-0 overflow-hidden rounded-full bg-accent\"><img alt=\"Avatar\" src=\"https://api.dicebear.com/8.x/lorelei/svg?seed=William Kim\" class=\"aspect-square h-full w-full\"></span>                <div class=\"ml-4 space-y-1\">\n",
       "                  <p class=\"text-sm font-medium\">William Kim</p>\n",
       "                  <p class=\"text-sm uk-text-muted\">will@email.com</p>\n",
       "                </div>\n",
       "                <div class=\"ml-auto font-medium\">+$99.00</div>\n",
       "              </div>\n",
       "              <div class=\"flex items-center\">\n",
       "<span class=\"relative flex h-9 w-9 shrink-0 overflow-hidden rounded-full bg-accent\"><img alt=\"Avatar\" src=\"https://api.dicebear.com/8.x/lorelei/svg?seed=Sofia Davis\" class=\"aspect-square h-full w-full\"></span>                <div class=\"ml-4 space-y-1\">\n",
       "                  <p class=\"text-sm font-medium\">Sofia Davis</p>\n",
       "                  <p class=\"text-sm uk-text-muted\">sofia.davis@email.com</p>\n",
       "                </div>\n",
       "                <div class=\"ml-auto font-medium\">+$39.00</div>\n",
       "              </div>\n",
       "            </div>\n",
       "          </div>\n",
       "        </div>\n",
       "      </div>\n",
       "    </div>\n",
       "  </div>\n",
       "</div>\n"
      ],
      "text/plain": [
       "<IPython.core.display.HTML object>"
      ]
     },
     "execution_count": 62,
     "metadata": {},
     "output_type": "execute_result"
    }
   ],
   "source": [
    "show(page())"
   ]
  },
  {
   "cell_type": "code",
   "execution_count": 63,
   "id": "22a8233b",
   "metadata": {},
   "outputs": [],
   "source": [
    "#| exports\n",
    "dashboard_homepage = page()"
   ]
  },
  {
   "cell_type": "code",
   "execution_count": 64,
   "id": "1992630d",
   "metadata": {},
   "outputs": [],
   "source": [
    "#| hide\n",
    "import nbdev; nbdev.nbdev_export()"
   ]
  }
 ],
 "metadata": {
  "kernelspec": {
   "display_name": "Python 3 (ipykernel)",
   "language": "python",
   "name": "python3"
  },
  "language_info": {
   "codemirror_mode": {
    "name": "ipython",
    "version": 3
   },
   "file_extension": ".py",
   "mimetype": "text/x-python",
   "name": "python",
   "nbconvert_exporter": "python",
   "pygments_lexer": "ipython3",
   "version": "3.11.9"
  },
  "toc": {
   "base_numbering": 1,
   "nav_menu": {},
   "number_sections": true,
   "sideBar": true,
   "skip_h1_title": false,
   "title_cell": "Table of Contents",
   "title_sidebar": "Contents",
   "toc_cell": false,
   "toc_position": {},
   "toc_section_display": true,
   "toc_window_display": false
  }
 },
 "nbformat": 4,
 "nbformat_minor": 5
}
