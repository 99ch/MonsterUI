{
 "cells": [
  {
   "cell_type": "markdown",
   "id": "bd49724c",
   "metadata": {},
   "source": [
    "# Dashboard\n",
    "\n",
    "> FrankenUI Dashboard Example"
   ]
  },
  {
   "cell_type": "code",
   "execution_count": 1,
   "id": "04abc944",
   "metadata": {},
   "outputs": [],
   "source": [
    "#| default_exp dashboard"
   ]
  },
  {
   "cell_type": "code",
   "execution_count": 2,
   "id": "cef92ebb",
   "metadata": {},
   "outputs": [],
   "source": [
    "#| export\n",
    "from fasthtml.common import *\n",
    "from fh_frankenui.components import *\n",
    "from fasthtml.svg import *\n",
    "from fh_matplotlib import matplotlib2fasthtml\n",
    "import numpy as np\n",
    "import matplotlib.pylab as plt"
   ]
  },
  {
   "cell_type": "code",
   "execution_count": 3,
   "id": "02ad7e62",
   "metadata": {},
   "outputs": [],
   "source": [
    "#| hide\n",
    "from nbdev.showdoc import *"
   ]
  },
  {
   "cell_type": "code",
   "execution_count": 4,
   "id": "f0f5477a",
   "metadata": {},
   "outputs": [
    {
     "data": {
      "text/html": [
       "<script src=\"https://cdn.tailwindcss.com\"></script>\n",
       "<script src=\"https://cdn.jsdelivr.net/npm/uikit@3.21.6/dist/js/uikit.min.js\"></script>\n",
       "<script src=\"https://cdn.jsdelivr.net/npm/uikit@3.21.6/dist/js/uikit-icons.min.js\"></script>\n",
       "<script type=\"module\" src=\"https://unpkg.com/franken-wc@0.0.6/dist/js/wc.iife.js\"></script>\n",
       "<link rel=\"stylesheet\" href=\"https://unpkg.com/franken-wc@0.0.6/dist/css/blue.min.css\">\n",
       "\n",
       "<style>\n",
       "#notebook-container { max-width: none; }\n",
       ".output_html * { list-style-type: none !important; }\n",
       "</style>\n"
      ],
      "text/plain": [
       "<IPython.core.display.HTML object>"
      ]
     },
     "metadata": {},
     "output_type": "display_data"
    }
   ],
   "source": [
    "%%html\n",
    "<script src=\"https://cdn.tailwindcss.com\"></script>\n",
    "<script src=\"https://cdn.jsdelivr.net/npm/uikit@3.21.6/dist/js/uikit.min.js\"></script>\n",
    "<script src=\"https://cdn.jsdelivr.net/npm/uikit@3.21.6/dist/js/uikit-icons.min.js\"></script>\n",
    "<script type=\"module\" src=\"https://unpkg.com/franken-wc@0.0.6/dist/js/wc.iife.js\"></script>\n",
    "<link rel=\"stylesheet\" href=\"https://unpkg.com/franken-wc@0.0.6/dist/css/blue.min.css\">\n",
    "\n",
    "<style>\n",
    "#notebook-container { max-width: none; }\n",
    ".output_html * { list-style-type: none !important; }\n",
    "</style>"
   ]
  },
  {
   "cell_type": "code",
   "execution_count": 5,
   "id": "19ba6675",
   "metadata": {},
   "outputs": [],
   "source": [
    "from httpx import get\n",
    "fh_frankenui = open(\"../fh_frankenui/components.py\").read().strip()\n",
    "\n",
    "url = 'https://raw.githubusercontent.com/franken-ui/examples/master/src/pages/dashboard.astro'\n",
    "dashboard = get(url).text\n",
    "\n",
    "url = 'https://raw.githubusercontent.com/franken-ui/examples/master/src/pages/cards.astro'\n",
    "cards = get(url).text\n",
    "\n",
    "url = 'https://github.com/AnswerDotAI/fh-frankenui-examples/blob/main/fh_frankenui_examples/cards.py'\n",
    "cards_in_python = get(url).text\n",
    "\n",
    "url = 'https://github.com/AnswerDotAI/fh-frankenui-examples/blob/main/fh_frankenui_examples/tasks.py'\n",
    "tasks_in_python = get(url).text\n",
    "\n",
    "url = 'https://raw.githubusercontent.com/AnswerDotAI/fasthtml/main/examples/adv_app.py'\n",
    "idiomatic_fasthtml_app = get(url).text\n"
   ]
  },
  {
   "cell_type": "code",
   "execution_count": 6,
   "id": "d382f5d5",
   "metadata": {},
   "outputs": [],
   "source": [
    "%%ai 0 -c\n",
    "\n",
    "I am implementing FrankenUI for FastHTML by reimplementing the FrankenUI examples from their docs in a python library.  I am doing this by building a library as I go, `fh_frankenui`.\n",
    "\n",
    "Reference the `idiomatic_fasthtml_app` to get a feel for fasthtml.\n",
    "\n",
    "I previously did their `cards` example, and the python implementation looked like `cards_in_python`.\n",
    "\n",
    "Now, I am looking to do the same with their `dashboard` example.\n",
    "\n",
    "The goal is to develop the work-in-progress `fh_frankenui` library, so please use `fh_frankenui` as much as makes sense and recommend functions or improvements to `fh_frankenui` when it fits.\n",
    "\n",
    "Please read all this information and confirm that you understand what I want to do by giving me a brief overview in your own words.  \n"
   ]
  },
  {
   "cell_type": "markdown",
   "id": "8a31fe0f",
   "metadata": {},
   "source": [
    "You're developing a Python library called `fh_frankenui` to implement FrankenUI components for FastHTML. Your approach involves recreating FrankenUI examples from their documentation in Python.\n",
    "\n",
    "You've already completed the 'cards' example and are now focusing on the 'dashboard' example. Your goal is to create a Python equivalent of the FrankenUI dashboard, utilizing and expanding the `fh_frankenui` library as needed.\n",
    "\n",
    "You want me to analyze the provided context, including the FastHTML idiomatic app, the existing `fh_frankenui` code, and the FrankenUI dashboard example. Based on this analysis, you're looking for guidance on implementing the dashboard in Python, with suggestions for new functions or improvements to `fh_frankenui` where appropriate."
   ]
  },
  {
   "cell_type": "code",
   "execution_count": 7,
   "id": "b8ed7a67",
   "metadata": {},
   "outputs": [],
   "source": [
    "%%aip 0\n",
    "\n",
    "I want a flexible function that can generate the top row of cards that all share the same general format"
   ]
  },
  {
   "cell_type": "code",
   "execution_count": 8,
   "id": "275f3643",
   "metadata": {},
   "outputs": [],
   "source": [
    "#| exports\n",
    "def InfoCard(title, value, change):\n",
    "    return Card(\n",
    "             Div(UkH3(value),\n",
    "                P(change, cls=TextT.muted_sm)),\n",
    "             header = UkH4(title),)"
   ]
  },
  {
   "cell_type": "code",
   "execution_count": 9,
   "id": "45c602c4",
   "metadata": {},
   "outputs": [],
   "source": [
    "%%aip 0\n",
    "Use the `InfoCard` function to create the top row of cards - each one in a variable (rev,sub,sal,act)."
   ]
  },
  {
   "cell_type": "code",
   "execution_count": 10,
   "id": "745555dc",
   "metadata": {},
   "outputs": [],
   "source": [
    "#| exports\n",
    "rev = InfoCard(\"Total Revenue\", \"$45,231.89\", \"+20.1% from last month\")\n",
    "sub = InfoCard(\"Subscriptions\", \"+2350\", \"+180.1% from last month\")\n",
    "sal = InfoCard(\"Sales\", \"+12,234\", \"+19% from last month\")\n",
    "act = InfoCard(\"Active Now\", \"+573\", \"+201 since last hour\")"
   ]
  },
  {
   "cell_type": "code",
   "execution_count": 11,
   "id": "96867f4f",
   "metadata": {},
   "outputs": [],
   "source": [
    "#| exports\n",
    "top_info_row = Grid(rev,sub,sal,act,cols=2, gap=4, cls='lg:grid-cols-4')"
   ]
  },
  {
   "cell_type": "code",
   "execution_count": 12,
   "id": "76a4a138",
   "metadata": {},
   "outputs": [
    {
     "data": {
      "text/html": [
       "<div class=\"grid grid-cols-2 gap-4 lg:grid-cols-4\">\n",
       "  <div class=\"uk-card \">\n",
       "    <div class=\"uk-card-header \">\n",
       "      <h4 class=\"uk-h4\">Total Revenue</h4>\n",
       "    </div>\n",
       "    <div class=\"uk-card-body space-y-6\">\n",
       "      <div>\n",
       "        <h3 class=\"uk-h3\">$45,231.89</h3>\n",
       "        <p class=\"text-sm uk-text-muted\">+20.1% from last month</p>\n",
       "      </div>\n",
       "    </div>\n",
       "  </div>\n",
       "  <div class=\"uk-card \">\n",
       "    <div class=\"uk-card-header \">\n",
       "      <h4 class=\"uk-h4\">Subscriptions</h4>\n",
       "    </div>\n",
       "    <div class=\"uk-card-body space-y-6\">\n",
       "      <div>\n",
       "        <h3 class=\"uk-h3\">+2350</h3>\n",
       "        <p class=\"text-sm uk-text-muted\">+180.1% from last month</p>\n",
       "      </div>\n",
       "    </div>\n",
       "  </div>\n",
       "  <div class=\"uk-card \">\n",
       "    <div class=\"uk-card-header \">\n",
       "      <h4 class=\"uk-h4\">Sales</h4>\n",
       "    </div>\n",
       "    <div class=\"uk-card-body space-y-6\">\n",
       "      <div>\n",
       "        <h3 class=\"uk-h3\">+12,234</h3>\n",
       "        <p class=\"text-sm uk-text-muted\">+19% from last month</p>\n",
       "      </div>\n",
       "    </div>\n",
       "  </div>\n",
       "  <div class=\"uk-card \">\n",
       "    <div class=\"uk-card-header \">\n",
       "      <h4 class=\"uk-h4\">Active Now</h4>\n",
       "    </div>\n",
       "    <div class=\"uk-card-body space-y-6\">\n",
       "      <div>\n",
       "        <h3 class=\"uk-h3\">+573</h3>\n",
       "        <p class=\"text-sm uk-text-muted\">+201 since last hour</p>\n",
       "      </div>\n",
       "    </div>\n",
       "  </div>\n",
       "</div>\n"
      ],
      "text/plain": [
       "<IPython.core.display.HTML object>"
      ]
     },
     "execution_count": 12,
     "metadata": {},
     "output_type": "execute_result"
    }
   ],
   "source": [
    "show(top_info_row)"
   ]
  },
  {
   "cell_type": "code",
   "execution_count": 13,
   "id": "ee500a1b",
   "metadata": {},
   "outputs": [],
   "source": [
    "%%aip 0\n",
    "\n",
    "Let's create the card with the avatars next.  Be sure to reference similar examples from `cards_in_python` to make it as simple as possible.\n",
    "\n",
    "I don't need an exact recreation so if UkH3 or UkH4 is close enough (like I did previously) then that's fine"
   ]
  },
  {
   "cell_type": "code",
   "execution_count": 14,
   "id": "98b733c2",
   "metadata": {},
   "outputs": [],
   "source": [
    "#| exports\n",
    "def AvatarItem(name, email, amount):\n",
    "    return Div(cls=\"flex items-center\")(\n",
    "        DiceBearAvatar(name, 9,9),\n",
    "        Div(cls=\"ml-4 space-y-1\")(\n",
    "            P(name, cls=TextT.medium_sm),\n",
    "            P(email, cls=TextT.muted_sm)),\n",
    "        Div(amount, cls=\"ml-auto font-medium\"))\n",
    "\n",
    "recent_sales = Card(\n",
    "    Div(cls=\"space-y-8\")(\n",
    "        *[AvatarItem(n,e,d) for (n,e,d) in (\n",
    "            (\"Olivia Martin\",   \"olivia.martin@email.com\",   \"+$1,999.00\"),\n",
    "            (\"Jackson Lee\",     \"jackson.lee@email.com\",     \"+$39.00\"),\n",
    "            (\"Isabella Nguyen\", \"isabella.nguyen@email.com\", \"+$299.00\"),\n",
    "            (\"William Kim\",     \"will@email.com\",            \"+$99.00\"),\n",
    "            (\"Sofia Davis\",     \"sofia.davis@email.com\",     \"+$39.00\"))]),\n",
    "    header=Div(\n",
    "        UkH3(\"Recent Sales\"),\n",
    "        P(\"You made 265 sales this month.\", cls=TextT.muted_sm)))"
   ]
  },
  {
   "cell_type": "code",
   "execution_count": 15,
   "id": "3767a677",
   "metadata": {},
   "outputs": [],
   "source": [
    "#| exports\n",
    "@matplotlib2fasthtml\n",
    "def generate_chart(num_points):\n",
    "    plotdata = [np.random.exponential(1) for _ in range(num_points)]\n",
    "    plt.plot(range(len(plotdata)), plotdata)"
   ]
  },
  {
   "cell_type": "code",
   "execution_count": 16,
   "id": "d7a93876",
   "metadata": {},
   "outputs": [
    {
     "data": {
      "text/html": [
       "<img src=\"data:image/jpg;base64, /9j/4AAQSkZJRgABAQEAZABkAAD/2wBDAAgGBgcGBQgHBwcJCQgKDBQNDAsLDBkSEw8UHRofHh0aHBwgJC4nICIsIxwcKDcpLDAxNDQ0Hyc5PTgyPC4zNDL/2wBDAQkJCQwLDBgNDRgyIRwhMjIyMjIyMjIyMjIyMjIyMjIyMjIyMjIyMjIyMjIyMjIyMjIyMjIyMjIyMjIyMjIyMjL/wAARCAHgAoADASIAAhEBAxEB/8QAHwAAAQUBAQEBAQEAAAAAAAAAAAECAwQFBgcICQoL/8QAtRAAAgEDAwIEAwUFBAQAAAF9AQIDAAQRBRIhMUEGE1FhByJxFDKBkaEII0KxwRVS0fAkM2JyggkKFhcYGRolJicoKSo0NTY3ODk6Q0RFRkdISUpTVFVWV1hZWmNkZWZnaGlqc3R1dnd4eXqDhIWGh4iJipKTlJWWl5iZmqKjpKWmp6ipqrKztLW2t7i5usLDxMXGx8jJytLT1NXW19jZ2uHi4+Tl5ufo6erx8vP09fb3+Pn6/8QAHwEAAwEBAQEBAQEBAQAAAAAAAAECAwQFBgcICQoL/8QAtREAAgECBAQDBAcFBAQAAQJ3AAECAxEEBSExBhJBUQdhcRMiMoEIFEKRobHBCSMzUvAVYnLRChYkNOEl8RcYGRomJygpKjU2Nzg5OkNERUZHSElKU1RVVldYWVpjZGVmZ2hpanN0dXZ3eHl6goOEhYaHiImKkpOUlZaXmJmaoqOkpaanqKmqsrO0tba3uLm6wsPExcbHyMnK0tPU1dbX2Nna4uPk5ebn6Onq8vP09fb3+Pn6/9oADAMBAAIRAxEAPwD3+iiigAooooAKKKKACiiigAooooAKKKKACiiigAooooAKKKKACiiigAooooAKKKKACiiigAooooAKKKKACiiigAooooAKKKKACiiigAooooAKKKKACiiigAooooAKKKKACiiigAooooAKKKKACiiigAooooAKKKKACiiigAooooAKKKKACiiigAooooAKKKKACiiigAooooAKKKKACiiigAooooAKKKKACiiigAooooAKKKKACiiigAooooAKKKKACiiigAooooAKKKKACiiigAooooAKKKKACiiigAooooAKKKKACiiigAooooAKKKKACiiigAooooAKKKKACiiigAooooAKKKKACiiigAooooAKKKKACiiigAooooAKKKKACiiigAooooAKKKKACiiigAooooAKKKKACiiigAooooAKKKKACiiigAooooAKKKKACiiigAooooAKKKKACiiigAooooAKKKKACiiigAooooAKKKKACiiigAooooAKKKKACiiigAooooAKKKKACiiigAooooAKKKKACiiigAooooAKKKKACiiigAooooAKKKKACiiigAooooAKKKKACiiigAooooAKKKKACiiigAooooAKKKKACiiigAooooAKKKKACiiigAooooAKKKKACiiigAoopr5CMQcHFADqK4fwxput6z4U0jVLjxlrKTXllDcSLHDZ7QzoGIGYCcZPrWr/AMI1qv8A0Ouuf9+bP/4xQB0dFc5/wjWq/wDQ665/35s//jFH/CNar/0Ouuf9+bP/AOMUAdHRXOf8I1qv/Q665/35s/8A4xR/wjWq/wDQ665/35s//jFAHR0Vzn/CNar/ANDrrn/fmz/+MUf8I1qv/Q665/35s/8A4xQB0dFc5/wjWq/9Drrn/fmz/wDjFH/CNar/ANDrrn/fmz/+MUAdHRXOf8I1qv8A0Ouuf9+bP/4xR/wjWq/9Drrn/fmz/wDjFAHR0Vzn/CNar/0Ouuf9+bP/AOMUf8I1qv8A0Ouuf9+bP/4xQB0dFc5/wjWq/wDQ665/35s//jFH/CNar/0Ouuf9+bP/AOMUAdHRXOf8I1qv/Q665/35s/8A4xR/wjWq/wDQ665/35s//jFAHR0Vzn/CNar/ANDrrn/fmz/+MUf8I1qv/Q665/35s/8A4xQB0dFc5/wjWq/9Drrn/fmz/wDjFH/CNar/ANDrrn/fmz/+MUAdHRXOf8I1qv8A0Ouuf9+bP/4xR/wjWq/9Drrn/fmz/wDjFAHR0Vzn/CNar/0Ouuf9+bP/AOMUf8I1qv8A0Ouuf9+bP/4xQB0dFc5/wjWq/wDQ665/35s//jFH/CNar/0Ouuf9+bP/AOMUAdHRXOf8I1qv/Q665/35s/8A4xR/wjWq/wDQ665/35s//jFAHR0Vzn/CNar/ANDrrn/fmz/+MUf8I1qv/Q665/35s/8A4xQB0dFc5/wjWq/9Drrn/fmz/wDjFH/CNar/ANDrrn/fmz/+MUAdHRXOf8I1qv8A0Ouuf9+bP/4xR/wjWq/9Drrn/fmz/wDjFAHR0Vzn/CNar/0Ouuf9+bP/AOMUf8I1qv8A0Ouuf9+bP/4xQB0dFc5/wjWq/wDQ665/35s//jFH/CNar/0Ouuf9+bP/AOMUAdHRXOf8I1qv/Q665/35s/8A4xR/wjWq/wDQ665/35s//jFAHR0Vzn/CNar/ANDrrn/fmz/+MUf8I1qv/Q665/35s/8A4xQB0dFc5/wjWq/9Drrn/fmz/wDjFH/CNar/ANDrrn/fmz/+MUAdHRXOf8I1qv8A0Ouuf9+bP/4xR/wjWq/9Drrn/fmz/wDjFAHR0Vzn/CNar/0Ouuf9+bP/AOMUf8I1qv8A0Ouuf9+bP/4xQB0dFc5/wjWq/wDQ665/35s//jFH/CNar/0Ouuf9+bP/AOMUAdHRXOf8I1qv/Q665/35s/8A4xR/wjWq/wDQ665/35s//jFAHR0Vzn/CNar/ANDrrn/fmz/+MUf8I1qv/Q665/35s/8A4xQB0dFc5/wjWq/9Drrn/fmz/wDjFH/CNar/ANDrrn/fmz/+MUAdHRXOf8I1qv8A0Ouuf9+bP/4xR/wjWq/9Drrn/fmz/wDjFAHR0Vzn/CNar/0Ouuf9+bP/AOMUjeG9WCk/8JrrnA/542f/AMYoA6SisXwfe3OpeC9Dv7yUy3VzYQTSyEAbnZAScDgcntW1QAUUUUAFFFFABRRRQAUUUUAFFFFABRRRQAUUUUAFNf8A1bfQ06mv/q2+hoA5/wAA/wDJO/DX/YLtv/RS10Vc74B/5J34a/7Bdt/6KWuioAKKKKACiiigAooooAKKx/E+rnRdDmuIhuupCIbdAMlpG4HHf1/CoPBmoXGpeGLeW8kL3SM8UrN13KxHP4YrT2b5OfpsZ+0j7T2fW1zfooorM0CiiigAooooAKKKKACiiigAooooAKKKKACiiigAooooAKKKKACiiigAooooAKKKKACiiigAooooAKKKKACiiigAooooAKKKKACiiigAooooAKKKKACiiigAooooAKKKKACmv/q2+hp1Nf8A1bfQ0Ac/4B/5J34a/wCwXbf+ilroq53wD/yTvw1/2C7b/wBFLXRUAFFFFABRRRQAUUUUAFFFFABRRRQAVnprujvqZ01NVsWvwSDai4Qygjr8mc/pWhXD6vHZeIdai0TSre3RLK/ivNQvkQDypEcSeWhHWViPmP8ACpOeSBQB27MqIzuwVVGSScACqmn6tpurRPLpuoWt7GjbWe2mWQKfQlScGud+IlzDL4J1aBJkfyWg+2RowLJCZUMm4DkAx7zz2zXO+Kcf2v4i/wCEe8vf/wAIrL532TGN+4+T93+Lb5uO+KAPQ7HWNM1R5k0/UrO7eE7ZVt51kMZ9GwTj8atv/q2+hrg7b+y/+Ex8If2D9n8v+zLjzPs+P+PbbHs3Y7b8Yz3z711Orz67CVGk6dp91GUPmNdXrwFT7BYnz+YoApeAf+Sd+Gv+wXbf+ilroq53wD/yTvw1/wBgu2/9FLXRUAFFFFABRRRQAUUVk+JdX/sTQ57tRunP7uBMZLSNwox39fwpxi5NJEykopyZkL/xUXjgt96w0Xgej3Df/Ej8iPepPCP+jaj4i07/AJ435mUeiyDI/lWl4Z0j+xdDgtXO64bMtw+clpG5Y57+n4Vm2v8AonxKv4ugvbCOf6lDs/lXS5KSlBbJafJ/8Ocyi4uM5bt6/Nf8MdTRRRXKdYUUUUAFFFFABRRRQAUUUUAFFFFABRRRQAUUUUAFFFFABRRRQAUUUUAFFFFABRRRQAUUUUAFFFFABRRRQAUUUUAFFFFABRRRQAUUUUAFFFFABRRRQAUUUUAFFFFABRRRQAU1/wDVt9DTqa/+rb6GgDn/AAD/AMk78Nf9gu2/9FLXRVzvgH/knfhr/sF23/opa6KgAooooAKKKKACiiigAooooAKKKKACsZ/CHhmS+a9fw7pDXbSec07WUZkL5zuLbc7s8565rZooAgWytVluJVtoRJcgCdxGMy4GBuP8WBxz2qLT9J03SIni03T7WyjdtzJbQrGGPqQoGTVyigClY6PpelvM+n6bZ2jzHdK1vAsZkPq2AM/jVt/9W30NOpr/AOrb6GgDn/AP/JO/DX/YLtv/AEUtdFXO+Af+Sd+Gv+wXbf8Aopa6KgAooooAKKKKACuSf/iovHCx/esNF+ZvR7g9P++R+RHvWz4i1ddE0O4vcbpQNsKf3pDwo/P9BUXhfSG0bQ4oZjuupSZrlz1aRuTn6dPwraHuQc/kv1/rzMZ+/NQ6bv8AT+vI2a5bXf8ARPGvh286LL51s5+q5UfnXU1y3jz9zpFnqA4NjfQzk+2cH+YpUPjt30+8K/wN9tfuOpooorI2CiiigAooooAKKKKACiiigAooooAKKKKACiiigAooooAKKKKACiiigAooooAKKKKACiiigAooooAKKKKACiiigAooooAKKKKACiiigAooooAKKKKACiiigAooooAKKKKACmv/AKtvoadTX/1bfQ0Ac/4B/wCSd+Gv+wXbf+ilroq53wD/AMk78Nf9gu2/9FLXRUAFFFFABRRRQAUUUUAFFFFABRRRQAUUUUAFFFFABTX/ANW30NOpr/6tvoaAOf8AAP8AyTvw1/2C7b/0UtdFXO+Af+Sd+Gv+wXbf+ilroqACiiigAoorN1/Vk0TRLm/YAsi4jX+854UfnTjFydkKUlFNsxLj/iovG8VsPmsNGxLL6POfuj8Bz+ddbWJ4V0l9J0SNbglr24Yz3LnqZG5Ofp0/CtutKslflWyM6UWlzPd6hWN4ttftnhLVIcZP2dnA91+YfyrZpksazQvE4yrqVI9jUQlyyT7FzjzRce5S0K6+26Bp9znJlt0Y/XaM/rWhXM+AZGPhSG3kOZLWWSB/qGP9CK6aqqx5ZteZNKXNTT8gooorM0CiiigAooooAKKKKACiiigAooooAKKKKACiiigAooooAKKKKACiiigAooooAKKKKACiiigAooooAKKKKACiiigAooooAKKKKACiiigAooooAKKKKACiiigAooooAKa/+rb6GnU1/wDVt9DQBz/gH/knfhr/ALBdt/6KWuirnfAP/JO/DX/YLtv/AEUtdFQAUUUUAFFFFABRRRQAUUUUAFFFFABWTF4m0mbXzoaXLnUQrP5RgkAIXG7DldpxuXgHvWtXAa94n0K0+KOgRXGr2UUlta3sU6vMoMbubcorc8E4OB3xQB2mpalb6Vafablbho9wXFvbSTtk/wCzGrNj3xWTF430CWx1K8+03EcOmBTeedZTxNFuGV+VkDHIweAeo9avnXtNFhqV6LkGDTWkS6bBHltGu5hz1wK5TTNNsT8Oby68UObZNac32oMXK+X5rLsUkcjavlp7baAOs0rW7PWRKbRLxRFjd9psprfrnp5iLu6ds4q+/wDq2+hri/CF8s/iTU7fSdUutU0BLaJ0uJ5mnVLgswZElbJcbQpIycH0ziuh1eDXZip0nUdPtYwh8xbqyecsfYrKmPyNAFLwD/yTvw1/2C7b/wBFLXRVzvgH/knfhr/sF23/AKKWuioAKKKKACuSvf8AiofGsFgPmsdIxcXHo0x+4v4Dn8xW7rmqx6Jo1zqEmD5SfKv95jwo/E4ql4T0qTTNFVrrJvrtjcXLHqXbnH4dPzraHuxc/kjGp78lD5v9DdooorE2CiiigDlvC3+ja74l0/psvBcAe0q5/pXU1y0f+ifEyZeiX2nK/wBXRsfyrqa1rayT7pGNHSLj2bCiiisjYKKKKACiiigAooooAKKKKACiiigAooooAKKKKACiiigAooooAKKKKACiiigAooooAKKKKACiiigAooooAKKKKACiiigAooooAKKKKACiiigAooooAKKKKACiiigApr/6tvoadTX/ANW30NAHP+Af+Sd+Gv8AsF23/opa6Kud8A/8k78Nf9gu2/8ARS10VABRRRQAUUUUAFFFFABRRRQAUUUUAFFFFABRRRQAU1/9W30NOpr/AOrb6GgDn/AP/JO/DX/YLtv/AEUtdFXO+Af+Sd+Gv+wXbf8Aopa6KgAooqjrOqRaNpFzqE33YUyF/vN0A/E4FNJt2Qm0ldmBqX/FQ+MrbSx81lpeLq69GlP3FP8AP8662sDwjpcun6P593zf3rm5uWPXc3IH4Dt65rfrSq1flWyM6KduZ7v+kFFFFZGoUUUUAct4i/0XxZ4avhwDNJbP771wv65rqa5fx8DH4ejvlHzWN3DcDHs2P/Zq6dSGUMDkEZBrWesIv1X6/qYw0qSXo/0/QWiiisjYKKKKACiiigAooooAKKKKACiiigAooooAKKKKACiiigAooooAKKKKACiiigAooooAKKKKACiiigAooooAKKKKACiqV3qtnZX1nZTy7Z7xmWFcE5IGT9Ku02mtxJp6IKKKKQwooooAKKKKACiiigAooooAKKKKACmv/q2+hp1Nf/Vt9DQBz/gH/knfhr/sF23/AKKWuirnfAP/ACTvw1/2C7b/ANFLXRUAFFFFABRRRQAUUUUAFFFFABRRRQAUUUUAFFFFABTX/wBW30NOpr/6tvoaAOf8A/8AJO/DX/YLtv8A0UtdFXO+Af8Aknfhr/sF23/opa6KgArktX/4qDxdaaMvzWen4u7z0Z/4EP8APHofaug1bUodI0q5v5/uQIWx/ePYficD8ay/B+mzWekteXnN/qDm5uCeoLdF/Advc1tT92Ln8l/XkY1Pfkqfzfp/wToaKKKxNgooooAKKKKAMrxNa/bfDGpwYyWt3Kj3AyP1ApfDd19t8NabcZyXt03H3Awf1BrTZQ6FWGVYYIrmPALFPDZsmOXsrmW3bPs2f/Zq1WtJ+T/MxelVea/I6iiiisjYKKKKACiiigAooooAKKKKACiiigAooooAKKKKACiiigAooooAKKKKACiiigAooooAKKKKACiiigAooooAKKKp6rfppelXV9JjbBEz49SBwPxPFNJt2Qm0ldnnfiaeW78R3OuI5+y6HcW8Ix0Y7sv+RIH5V6h1GRXE2eiOfhldQzAtdXkEl3IT1aRvnGffhRXR+HLz7f4b065Jyz26bj/tAYP6g1012nFW+y7f1+Jy0E1J3+0r/wBfgadFFFcp1hRRRQAUUUUAFFFFABRRRQAUUUUAFNf/AFbfQ06mv/q2+hoA5/wD/wAk78Nf9gu2/wDRS10Vc74B/wCSd+Gv+wXbf+ilroqACiiigAooooAKKKKACiiigAooooAKw18TQ/8ACUpoEmn38U0sckkVxJGohlEe3dtO7ccb17Yrcrhdb1YRfEfRZRpusSw2VtdwTTQ6ZPJGGlMBTDKhBHyNkg4GOaAOm1/XIfD+mreTW1xc754rdIbcKXd5HCKBuZR1YdSKhbxGlroV1q2q6de6XDbfejufLaR+mNoidwck4AznPaq+s3emajpNzHq2h391ZxXfkvC1i0pcrhhIqLksmcYIHXtXIf2JfXHh7xCukaXd2+mC8tLvTdPnUxs/kukkoSNuUVinCnHOTgZoA7jR/EkGr3lxYvZXun30EaytbXqKrmNshXG1mBGQR1yCOQK13/1bfQ1yWkPNrXjibXEsb20sYdNFmpvLdoHlkaTe2EYA4UADOMEscZxW1q+gWesFZLmbUEaNCALXUJ7cH6iN1B/GgCl4B/5J34a/7Bdt/wCilroq53wD/wAk78Nf9gu2/wDRS10VAFW/0601O3FvewiaIOH2knGQcjpVqiind2sKyvcKKKKQwooooAKKKKACuW8N/wCi+KPEth0H2hLlR6+YuT/Suprlm/0T4mIeiX2nEfV0bP8A6DWtPVSXl+RjV0cZef56HU0UUVkbBRRRQAUUUUAFFFFABRRRQAUUUUAFFFFABRRRQAUUUUAFFFFABRRRQAUUUUAFFFFABRRRQAUUUUAFFFFABXK+Mib+TStAQnN/chpgP+eSfM39Pyrqq5TSf+Jt441XUjzDYILGA9t3Vz9QePxrWjo3Pt/SMa2qUO/5dTqti7Nm0bcYx2xXL+AyYdEudOY/Np95Nb4PoGyP511Ncto3+h+Otfsui3CRXcY/Dax/M0Q1hJfP+vvCek4v1X9fcdTRRRWRsFFFFABRRRQAUUUUAFFFFABRRRQAU1/9W30NOpr/AOrb6GgDn/AP/JO/DX/YLtv/AEUtdFXO+Af+Sd+Gv+wXbf8Aopa6KgAooooAKKKKACiiigAooooAKKKKACiiigAooooAKa/+rb6GnU1/9W30NAHP+Af+Sd+Gv+wXbf8Aopa6Kud8A/8AJO/DX/YLtv8A0UtdFQAUUUUAFFFFABRRRQAUUUUAFct4n/0XxD4a1DoFu2tif+ui4H8jXU1zHj5G/wCEWe6QZks54rhfqGA/kTWtD+Il30+/Qxr/AMNvtr92p09FNjdZY1kQ5VgGB9jTqyNgooooAKKKKACiiigAooooAKKKKACiiigAooooAKKKKACiiigAooooAKKKKACiiigAooooAKKKKACiiigCjrGoLpOjXd++MQRFgD3PYficCqHg/T307wzarLn7RODcTE9S788++MD8Ko+L/wDiY3mkaAvIvLjzZx/0yj5IP1/pXV9K2fu00u+v9fiYr3qrfbT7/wCkFctqn+hfEHRbvot3by2jn6fOv6muprlvHX+j6dYamODYX0UzH/Zzgj9RSo6zt30CvpDm7Wf3HU0UUVkbBRRRQAUUUUAFFFFABRRRQAUUUUAFNf8A1bfQ06mv/q2+hoA5/wAA/wDJO/DX/YLtv/RS10Vc74B/5J34a/7Bdt/6KWuioAKKKKACiiigAooooAKKKKACiiigAooooAKKKKACmv8A6tvoadTX/wBW30NAHP8AgH/knfhr/sF23/opa6Kud8A/8k78Nf8AYLtv/RS10VABRRRQAUUUUAFFFFABRRRQAVneILX7b4d1G2xkyW7hfrtOP1xWjQRkYPSnF2aYpK6aMfwrdfbPCumTZyTbqpPqVG0/qK2K5bwEfJ0S5089bG9mt8ewbP8AWupq6ytUaRnRd6cW+wUUUVmahRRRQAUUUUAFFFFABRRRQAUUUUAFFFFABRRRQAUUUUAFFFFABRRRQAUUUUAFFFFABRRRQAUUVn67qS6Rod5fkjMMRK57t0UfmRTSbdkKTUVdmJon/E28Z6xqx5htALC3PuOX/X+ddXWJ4S01tL8M2cMmfPdfOmJ6l25OfpnH4Vt1pWac7LZaGdFNQu93r94VkeKbP7f4W1O3xkm3ZlHqy/MP1ArXpGUMpVhkEYIqIy5ZJlyjzRcX1M7w9efb/DunXROWkt0LH/axg/qDWlXL+A2MWhz6cx+bT7ya3OfQNn+tdRVVY8s2kTRlzU02FFFFZmgUUUUAFFFFABRRRQAUUUUAFNf/AFbfQ06mv/q2+hoA5/wD/wAk78Nf9gu2/wDRS10Vc74B/wCSd+Gv+wXbf+ilroqACiiigAooooAKKKKACiiigAooooAK5mTVtZtfHllpVx9gbTb63uJYvLR/OXyjF95i23nzDwB26101cfq2m+KLjxrp+rWdro7WdjFPCgmvZVkkWXyiSQIiAR5fAyc56igDo9UGptahdJe0S5LjL3asyKvc7VIJPTjI+tcnN4r1u38PeJm+z2dzqmjSrEklvE7QzsVRsbN24MN+CoY8961tah8WXOi3sGmSaZDfSXJWCUyOuy245zsbEvXsVHB5ximaNYa1pHh2SyttM0m1niIMCLfSzJKScu0jmJW3Hk5w2ScmgB3hTW5tXF4txqtjeSwMoMUGnzWckOQT86Suzc9jgdD17dDIwCNkgcHqa5/RtH1T/hI7zXtYNnFcTWsdpHbWbs6IiszZZ2VSzEt/dAAHfNX9W8O6JrRWXVdHsL6SNSqNc26SFR6AsDigCj4B/wCSd+Gv+wXbf+ilroq53wD/AMk78Nf9gu2/9FLXRUAFFFFABRRRQAUUUUAFFFFABRRRQBy2gf6L4y8SWXRXeK5T33L8364rqa5a4/0T4l2knRb7T3i+rI27+VdTWtbVp90v8jGjonHs3/n+oUUUVkbBRRRQAUUUUAFFFFABRRRQAUUUUAFFFFABRRRQAUUUUAFFFFABRRRQAUUUUAFFFFABRRRQAVyniz/iZ6po2gLytxP9ouB/0yj5wfqf5V1dcpoH/E18WazrJ5igIsLc+y8v+uPzralpefb8zGtraHf8up1dFFFYmwUUUUActon+h+OPEFl0WdYruMfUYY/nXU1y2p/6F8QtGuui3ltLasf935x+prqa1q62l3X/AAP0MaOnNHs3+Ov6hRRRWRsFFFFABRRRQAUUUUAFFFFABTX/ANW30NOpr/6tvoaAOf8AAP8AyTvw1/2C7b/0UtdFXO+Af+Sd+Gv+wXbf+ilroqACiiigAooooAKKKKACiiigAooooAKKKKACiiigApr/AOrb6GnU1/8AVt9DQBz/AIB/5J34a/7Bdt/6KWuirnfAP/JO/DX/AGC7b/0UtdFQAUUUUAFFFFABRRRQAUUUUAFFFFAHLeLP9G1bw5qPTyr7yCfQSDB/lXU1zXj2FpPCNzNH/rLZ4509irD+ma6GCZbi3imT7siBx9CM1rLWnF+q/X9TGGlSS9H+n6ElFFFZGwUUUUAFFFFABRRRQAUUUUAFFFFABRRRQAUUUUAFFFFABRRRQAUUUUAFFFFABRRRQAUUUUAZniHUxo+gXt9kBoojs/3zwv6kVF4W0w6T4bsrVxiXZvlz13tyc/icfhWZ4o/4meu6LoQ5R5ftdyP+madAfYnI/CurraXu00u+v+X6mMfeqN9tP1f6BRRRWJsFFFFAHLeOf9HsNO1McfYb+KVj/sE4I/UV1NY/iqz+3eFdTt8ZJgZlHqV+YfqBU3h+8+3+HtPuictJboWP+1jB/XNavWkn2f8AX6mK0qtd0v6/I0qKKKyNgooooAKKKKACiiigAooooAKa/wDq2+hp1Nf/AFbfQ0Ac/wCAf+Sd+Gv+wXbf+ilroq53wD/yTvw1/wBgu2/9FLXRUAFFFFABRRRQAUUUUAFFFFABRRRQAUUUUAFFFFABTX/1bfQ06mv/AKtvoaAOf8A/8k78Nf8AYLtv/RS10Vc74B/5J34a/wCwXbf+ilroqACiiigAooooAKKKKACiiigAooooApaza/btEvrXGTNbug+pU4qh4OuvtnhDS5c5IgEZ/wCA/L/StyuW8DfuNP1HTjx9i1CaJR/s5yP5mtY60muzRjLSqn3TOpooorI2CiiigAooooAKKKKACiiigAooooAKKKKACiiigAooooAKKKKACiiigAooooAKKKKACiisrxLqf9j+Hb29BxIkZEf++eF/UinGLk0kTKSinJ9DJ8N/8TTxLrWtnmNXFlbH/ZT7xHsTg11dZPhrTP7H8O2VkRiRIw0n++eW/UmtarqyTm7bEUYtQV93r94UUUVmahRRRQAjKHUqwypGCPWuY8BMY9Bm09zl7C7ltjnrw2f611Fctof+h+NvEFj0WYRXcY+owx/OtYawkvR/195jPScX6r+vuOpooorI2CiiigAooooAKKKKACiiigApr/6tvoadTX/1bfQ0Ac/4B/5J34a/7Bdt/wCilroq53wD/wAk78Nf9gu2/wDRS10VABRRRQAUUUUAFFFFABRRRQAUUUUAFcpNc6tZfEXTbR9VebTr+1upfshgjURGMw7cMBuP+sbqfwrq65TU/Deu3viu01q312ygjs0ligt301nISTZvDN5wyf3YwcDGehoAt+LdTvbCysLfT5Vhu9RvorJJ2QP5IbLM4U8EhVbAPGcZrnbzxJrWhQ+INMkvFvr20ayFldzQqpIupPKXzFQBTtYMeAMjFdFqfh261awlhuNVIuI74XlhOkCj7KVIKKVz84HzA5xkMelUj4JN5p+sLquptcahqhiL3UMIiEPlHMWxCWxtb5uSckmgCTR7vVNP8WzaBqOpNqUcliL2C4khSORCH2OhCAKRypHGeoOa1dW8RaJopWLVdYsLGSRSyLc3CRlh6gMRmqmj+H7u01e41fVdTXUNQkgW2Ro7fyI44lJbAXc3JJyST2GAMVuSKCjZAPB6igDA8A/8k78Nf9gu2/8ARS10Vc74B/5J34a/7Bdt/wCilroqACiiigAooooAKKKKACiiigAooooAK5bRf9E8deILTos6Q3KD8MN+tdTXLX3+ifEjS5ugvbKW3PuUO/8AwrWlrzLuvy1MaunLLs/z0/U6miiisjYKKKKACiiigAooooAKKKKACiiigAooooAKKKKACiiigAooooAKKKKACiiigAooooAK5TxJ/wATTxJouiDmNXN7cj/YT7oPsTkV1dcp4X/4meu61rp5R5fslsf+madSPYnB/CtqWl59vzZjW1tDv+SOrooorE2CiiigAooooAK5bUv9C+Iej3PRb22ltWP+784/WuprlvHH+jWem6mOPsN/FIx/2CcH+YrWjrO3fQxr6Q5u1mdTRRRWRsFFFFABRRRQAUUUUAFFFFABTX/1bfQ06mv/AKtvoaAOf8A/8k78Nf8AYLtv/RS10Vc74B/5J34a/wCwXbf+ilroqACiiigAooooAKKKKACiiigAooooAKKKKACiiigApr/6tvoadTX/ANW30NAHP+Af+Sd+Gv8AsF23/opa6Kud8A/8k78Nf9gu2/8ARS10VABRRRQAUUUUAFFFFABRRRQAUUUUAFct4x/0a60DUf8AnhqCIx9EcYP8q6muc8d25uPB18U+/EFmU+m1gT+ma1ov94v63Mq6/dv7/u1OjoqGzuBd2Vvcr92aNZB+IzU1ZNWNU76hRRRQAUUUUAFFFFABRRRQAUUUUAFFFFABRRRQAUUUUAFFFFABRRRQAUUUUAFFFFAGP4p1M6T4bvbpDiXZsix13twMfic/hUvh7TBo/h+yscANFEN/++eW/UmsfxB/xNfFmi6MOYoSb+4HsvCZ/HP511dbS92mo99f8jGPvVHLtp+r/QKKKKxNgooooAKKKKACsbxZZ/bvCmpwYyTAzqPUr8w/UVs0jqroyMMqwwR6iqjLlkn2JlHmi49zP0G8+3+H9PuictLboW/3sc/rmtGuX8BM0fh+Swc5ewupbY568Nn/ANmrqKqrHlm0iaUuammwooorM0CiiigAooooAKKKKACmv/q2+hp1Nf8A1bfQ0Ac/4B/5J34a/wCwXbf+ilroq53wD/yTvw1/2C7b/wBFLXRUAFFFFABRRRQAUUUUAFFFFABRRRQAUUUUAFFFFABTX/1bfQ06mv8A6tvoaAOf8A/8k78Nf9gu2/8ARS10Vc74B/5J34a/7Bdt/wCilroqACiiigAooooAKKKKACiiigAooooAKq6la/bdLu7XGfOheP8ANSKtUU07O4mrqxgeCbr7X4O01yeUi8o+2wlf6Vv1y3gn/R49Y04/8umoyhR/sHBH9a6mtKytUdjOg701cKKKKyNQooooAKKKKACiiigAooooAKKKKACiiigAooooAKKKKACiisjVPFGjaQSl3fRibp5MfzuT6bRyPxqoxcnaKuTKUYq8nY16QkKCSQAOSTXK/wBueItX40fRfskJ6XOpHb+IQc/zpR4Ol1Eh/EOr3Wod/s8Z8qEf8BXr9eK09ko/G7fizP2rl8Cv+C/r5Fq/8aaNZy/Z4pnvro8CCzTzWJ/Dj9aqfavF2sf8e1pb6Nbn/lpcnzZseoUcD6GugsNMsdMi8qxtIbdO4jQDP1Pf8at0c8I/Cvv/AMv+HDknL4pfd/nv+Ri6J4dXSbme8nvbi+vrhQsk8xHQdlHYe1bVFFZyk5O7NIxUVZBRRRUlBRRRQAUUUUAFFFFAHLaF/ofjXxDY9Fm8q7jH1GGP54rqa5bUf9C+IukXPRb21ltWPuvziuprWrraXdL/AC/Qxo6Xj2b/AM/1CiiisjYKKKKACiiigAooooAKa/8Aq2+hp1Nf/Vt9DQBz/gH/AJJ34a/7Bdt/6KWuirnfAP8AyTvw1/2C7b/0UtdFQAUUUUAFFFFABRRRQAUUUUAFFFFABXnuqC+1e/8AF9wur39k2iqsdiltOY0VxAsxd1HEmS+MNkYWvQq5vV/Bdjq97dXDXuoWq3saxX0FrKFS6RRgB8qSODtypUkcZoAvWTDxF4Ws5bkzQ/bbWKV/s8zwupZQ2A6kMOfQ1ymhafdXF94tl0vUNTa1ijOm2S3OozTDz1UmSQGRmwQ7KgI6bDXaWmmrZ3FzLHc3BSYIqQM4McAVdoEa4+XPU9earab4ft9J8OLotpcXKRiN1+0bx5xZyS0m7GN5Zic469qAOZ8Ii60XWLbSdagv01G5si8c8msTXsM/llRJhZD8j5ZTwOhODXT6vql5p5VLbQtQ1FXQkvavAoT2PmSKfyBqvpvhiGx1Uanc6jf6nepEYYpb10PlIxBYKqKqjJVcnGTgc1tv/q2+hoA5/wAA/wDJO/DX/YLtv/RS10Vc74B/5J34a/7Bdt/6KWuioAKKKKACiiigAooooAKKKKACiiigAooooA5bS/8ARPiFrdt0F1bw3Kj/AHflP6muprltT/0T4h6Jc9Bd281sx/3fnH6muprWrryvuvy0/Qxo6c0ezf46/qFFFFZGwUUUUAFFFFABRRRQAUUUUAFFFFABRRRQAUUVFcXMNpbvPcSpFCgyzucAD60BsS1gaz4oh0+4Gn2MLX+qv9y1h/h93P8ACP8APvWc+q6t4rdoNC32OmZxJqMi4aT1Ea/1/lW7o2g2GhW5is4vnfmSZzukkPqxrbkjT+Pft/mYc8qmkNu/+X+ZjDw7rerqG13W5Io25NpYDy1HsW6mtjS/DukaMB9hsYo3/wCehG5z/wACPNalFTKrKSt0LjShF33fdhRRRWZoFFFFABRRRQAUUUUAFFFFABRRRQAUUUUAct44/wBGtdL1QcfYr+J3P+wThv6V1NY3i2z+3eE9Tgxk+QzgepX5h+oqzoV5/aGg2F3nJlt0Zv8Aexz+ua1etJPs3/X5mMdKrXdL+vyNCiiisjYKKKKACiiigAooooAKa/8Aq2+hp1Nf/Vt9DQBz/gH/AJJ34a/7Bdt/6KWuirnfAP8AyTvw1/2C7b/0UtdFQAUUUUAFFFFABRRRQAUUUUAFFFFABRRRQAUUUUAFNf8A1bfQ06mv/q2+hoA5/wAA/wDJO/DX/YLtv/RS10Vc74B/5J34a/7Bdt/6KWuioAKKKKACiiigAooooAKKKKACiiigAooooA5bxr/o66NqI/5ddRiLH0Rsg/0rqa5/xva/a/B2pIB8yRiUH02kN/IVr6dc/bdLtLoHPnQpJ+YBrWWtOL7XMY6VZLukyzRRRWRsFFFFABRRRQAUUUUAFFFFABRRRQAUU13SKNpJGVEUZZmOAB6muUn8QX+vzvZeGEAhU7ZtTlX92nqEH8R/z71cKbltsROoob7mprfiWz0UpAQ9zfy8Q2kI3SOf6D3/AJ1l2/h2+124S+8TurIp3Q6bEf3Uf+//AHj/AJ9q1dE8N2WiB5U33F7LzNdzHdI5+vYe1bFXzqGlP7/8uxn7Nz1qfd/n3/IREWNFRFCqowFAwAKWiisTcKKKKACiiigAooooAKKKKACiiigAooooAKKKKACiiigBrosiMjDKsCCPUVzPgJ2Tw69i5y9hdS2zZ9mz/wCzV1FctoP+h+M/EVh0WVo7uMeu4YY/nitYawkvR/195jPSpF+q/X9DqaKKKyNgooooAKKKKACiiigApr/6tvoadTX/ANW30NAHP+Af+Sd+Gv8AsF23/opa6Kud8A/8k78Nf9gu2/8ARS10VABRRRQAUUUUAFFFFABRRRQAUUUUAFFFFABRRRQAU1/9W30NOpr/AOrb6GgDn/AP/JO/DX/YLtv/AEUtdFXO+Af+Sd+Gv+wXbf8Aopa6KgAooooAKKKKACiiigAooooAKKKKACiiigCC8txd2NxbN92aNoz+IxWH4FuDceDrDf8AfiDQsPTaxH8sV0dch4Su7awv9a0eWeKOVNQkkhjZwGKNgjA7/wD162gr05LtZmM3apF97o6+iiisTYKKKKACiiigAooooAKKKyNY8TaXouEuZ99w33LaEb5GPbCj+uKcYuTskTKSiryZr1kax4l0zRBsuZ99y33LaIbpHPYADp+NZOPFHiLr/wASLT2/4FcuP/ZP5j3rW0jw1peiZe1g3XDffuJTvkY98sf6YrXkhD43d9l/mZ885/ArLu/8jGTR9V8UyLca+Ws9OB3R6bE2C3oZW/p/KusgghtYEgt4kiiQYVEGAB7CpKKidRy06dioU1HXd9woooqDQKKKKACiiigAooooAKKKKACiiigAooooAKKKKACiiigAooooAK5a/wD9C+I2lXHRb60ltmPup3j+ldTXLeN/9Gg0rVBx9iv43c/7B4b+la0dZW73RjX0hzdrM6miiisjYKKKKACiiigAooooAKa/+rb6GnU1/wDVt9DQBz/gH/knfhr/ALBdt/6KWuirnfAP/JO/DX/YLtv/AEUtdFQAUUUUAFFFFABRRRQAUUUUAFFFFABXmmr6bZa1f+ObvVATcaVGqWMpchrNRbLKJIz/AAkuzHI67cdq9LrE1TwloetXv2u/sfNmKqj4ldFlUHIWRVIEgBJ4YEc0AUr3T7vxb8NBYyyrDd6lp0Ykd1yFdkBJIHvniuWmlm8IaZ4r0200vR7LUY9GbUIbrSLbyA4AdRvTJIZTkjkg5PTmu+n8PaZcfbzJA+b/AMv7QUmdS2wAJggjbjA+7im6Z4b0nSBc/ZbUlroBZ5J5XneUAYAZ5CzEDJ4JxyaAOVsdJ0/w34w8NRaIgij1CyuBd7GJ+0BFRllf1YMfvdfnNdVq8+uwlRpOnafdRlD5jXV68BU+wWJ8/mKj0fwpoug3DXGnWZilMflBnmeTZHnOxN7HYucfKuBwOK13/wBW30NAHP8AgH/knfhr/sF23/opa6Kud8A/8k78Nf8AYLtv/RS10VABRRRQAUUUUAFFFFABRRRQAUUUUAFFFFABWZqfh3SNYyb+whlcjHmY2v8A99DmtOinGTi7pilFSVmrnKf8IrqWm86Hr9zCg6W92POj+gzyoo/t3xHpfGraD9qiHW401t//AI4ea6uitfa3+NJmXsUvgbX5fczD0/xfoepP5cd8kU2cGG4/duD6YPU/StzqMiqOoaLpmqptvrGCfjG50+YfQ9RWH/whstgd2g61eWGOkLnzov8Avlv/AK9Fqctnb1/r9AvVjur+mn5/5nVUVyn9p+K9K4v9Ih1KEf8ALawfD490PJP0p3/CwNEERDi8S6BwLNrdhKT6AdP1pewm/h19A9vBfFp66HU1kav4m0vRSI7mffct9y2hG+Rj2+UdPxxWTt8UeI/vH+wtPbsvzXLj6/wfzHvWvpHhvS9EBa0t8zt9+4lO+RvXLH+lPkhD43d9l/mHPOfwKy7v/IyMeKPEX3j/AGFp7dh81y4/9k/mPetfSPDWl6JlrW3zO337iU75GPfLH+mK1qKmVVtWWiHGkk+Z6vzCiiiszUKKKKACiiigAooooAKKKKACiiigAooooAKKKKACiiigAooooAKKKKACiiigArF8XWf27wlqcGMnyDIB7r8w/lW1TZEWWNo3GVYFSPUGqhLlkpdiZx5ouPcpaJef2hoVhd5yZYEZvrgZ/XNX65fwE7L4cNk5zJY3Mts2fUNn+tdRVVY8s2iaUuaCbCiiiszQKKK5fUvElxe3r6T4bjW5vBxNdN/qbb6nufb+fSrhBzehE5qC1L+ueI7XRQkOx7m/m4gtIeXc/wBB71a0dtSfTkfVo4I7tiSUhJIUE8A+4qpofhu30cvcySNd6jNzNdy8s3sPQe1bVObglyx+8mCm3zS+4Ka/+rb6GnU1/wDVt9DWZqc/4B/5J34a/wCwXbf+ilroq53wD/yTvw1/2C7b/wBFLXRUAFFFFABRRRQAUUUUAFFFFABRRRQAUUUUAFFFFABTX/1bfQ06mv8A6tvoaAOf8A/8k78Nf9gu2/8ARS10Vc74B/5J34a/7Bdt/wCilroqACiiigAooooAKKKKACiiigAooooAKKKKACiiigAooooAKKKKACmmNGkWQopdeAxHI/GnUUAFFFFABRRRQAUUUUAFFFFABRRRQAUUUUAFFFFABRRRQAUUUUAFFFFABRRRQAUUUUAFFFFABRRRQAUUUUActoH+h+MfEVgeFkeO7jHruHzH88V1Nctff6F8R9LuOi31nJbH0yh3j+ldTWtbVqXdL/L9DGjonHs3/n+oVFdXUFlbSXFzKkUMYyzucACqGt6/ZaFbq9yxeaQ4ht4xmSVvQD+tYtroV/4huU1DxKAkCndb6Yp+RPQyf3j7f/qojT05paL+thzqa8sdX+XqRtc6n40Yx2TS6foWcPckYluR6IOy+/8A9cV0+m6ZZ6TZJaWMCwwr2HUn1J7n3q0qhVCqAFAwABwKWlOpdcq0Q4U+V8z1YUUUVmaBTX/1bfQ06mv/AKtvoaAOf8A/8k78Nf8AYLtv/RS10Vc74B/5J34a/wCwXbf+ilroqACiiigAooooAKKKKACiiigAooooAKKKxNU8XaHot79kv77ypgqu+IndYlJwGkZQRGCQeWIHFAG3RVa/1C10yxkvbuXy7eMAswUt1IAwACTkkDiqFl4p0fULe9ngunAsk8y5SWCSKSJcE7ijqGwQDg45xxQBsU1/9W30NZWjeJdN14/8S/7ay+WJA81hPAjKehVpEUHr2Nar/wCrb6GgDn/AP/JO/DX/AGC7b/0UtdFXO+Af+Sd+Gv8AsF23/opa6KgAooooAKKKKACiiigAooooAKKKKACiiigAooooAKKKKACiiigAooooAKKKKACiiigAooooAKKKKACiiigAooooAKKKKACiiigAooooAKKKKACiiigAooooAKKKKACiiigAooooA5bxt/o0WkaoOPsd/Gzn/Ybhv6VLq/iZ47w6TokAvtVP3gD+7gHq5/pWrrOlQ63pM+nXDMscwGWXqCCCCPxFJpGi2Oh2YtrGLYp5dzy0h9WPc1upw5FzatHO4T53yuyZQ0TwylhcNqWozm+1aQfPcOOE/wBlB2H+eOlb9FFZSm5O7NoQUFZBRRRUlBRRRQAU1/8AVt9DTqa/+rb6GgDn/AP/ACTvw1/2C7b/ANFLXRVzvgH/AJJ34a/7Bdt/6KWuioAKKKKACiiigAooooAKKKKACiiigArzTV9SstFv/HNpqhxcarGr2MRQlrxTbLEI4x/EQ6sMDpuz3r0uigDlrTxFp3hzwm41W82zaJZW66h8pJRzGuB7knpj1rG8P6jo/iFdc1y/1ewkmurERTWtncrKbKzXeQGKE5c72LHpngdMn0KigDz7wxc2UXiu1sPC+r3Op6KLGT7WHuWuYrZ1KCLbI2drEFxsB6DOBius1eDXZip0nUdPtYwh8xbqyecsfYrKmPyNatIw3KQDjIxQBz3gH/knfhr/ALBdt/6KWuirj9I0Dxbo2i2Ol2/iDRmgs7dLeMyaRIWKooUZIuBzgegq79i8Z/8AQe0P/wAE8v8A8k0AdHRXF69P4z0Pw7qWrf2xoc32K1kuPK/smVd+xS2M/aDjOOuK0Fs/GZUH+3tD5H/QHl/+SaAOkornPsXjP/oPaH/4J5f/AJJo+xeM/wDoPaH/AOCeX/5JoA6Oiuc+xeM/+g9of/gnl/8Akmj7F4z/AOg9of8A4J5f/kmgDo6K5z7F4z/6D2h/+CeX/wCSaPsXjP8A6D2h/wDgnl/+SaAOjornPsXjP/oPaH/4J5f/AJJo+xeM/wDoPaH/AOCeX/5JoA6Oiuc+xeM/+g9of/gnl/8Akmj7F4z/AOg9of8A4J5f/kmgDo6K5z7F4z/6D2h/+CeX/wCSazYbjxnN4jvdI/tjQx9mtYLnzf7Jl+bzGlXbj7Rxjyuued3tyAdrRXOfYvGf/Qe0P/wTy/8AyTR9i8Z/9B7Q/wDwTy//ACTQB0dFc59i8Z/9B7Q//BPL/wDJNH2Lxn/0HtD/APBPL/8AJNAHR0Vzn2Lxn/0HtD/8E8v/AMk0fYvGf/Qe0P8A8E8v/wAk0AdHRXOfYvGf/Qe0P/wTy/8AyTR9i8Z/9B7Q/wDwTy//ACTQB0dFc59i8Z/9B7Q//BPL/wDJNH2Lxn/0HtD/APBPL/8AJNAHR0Vzn2Lxn/0HtD/8E8v/AMk1na9P4z0Pw7qWrf2xoc32K1kuPK/smVd+xS2M/aDjOOuKAO0orm1s/GZUH+3tD5H/AEB5f/kml+xeM/8AoPaH/wCCeX/5JoA6Oiuc+xeM/wDoPaH/AOCeX/5Jo+xeM/8AoPaH/wCCeX/5JoA6Oiuc+xeM/wDoPaH/AOCeX/5Jo+xeM/8AoPaH/wCCeX/5JoA6Oiuc+xeM/wDoPaH/AOCeX/5Jo+xeM/8AoPaH/wCCeX/5JoA6Oiuc+xeM/wDoPaH/AOCeX/5Jo+xeM/8AoPaH/wCCeX/5JoA6Oiuc+xeM/wDoPaH/AOCeX/5Jo+xeM/8AoPaH/wCCeX/5JoA6OiuKhuPGc3iO90j+2NDH2a1gufN/smX5vMaVduPtHGPK6553e3Ol9i8Z/wDQe0P/AME8v/yTQB0dFc59i8Z/9B7Q/wDwTy//ACTR9i8Z/wDQe0P/AME8v/yTQB0dFc59i8Z/9B7Q/wDwTy//ACTR9i8Z/wDQe0P/AME8v/yTQB0dFc59i8Z/9B7Q/wDwTy//ACTR9i8Z/wDQe0P/AME8v/yTQB0dFc59i8Z/9B7Q/wDwTy//ACTR9i8Z/wDQe0P/AME8v/yTQB0dFc59i8Z/9B7Q/wDwTy//ACTR9i8Z/wDQe0P/AME8v/yTQB0dFcXr0/jPQ/Dupat/bGhzfYrWS48r+yZV37FLYz9oOM464rQWz8ZlQf7e0Pkf9AeX/wCSaAOkornPsXjP/oPaH/4J5f8A5Jo+xeM/+g9of/gnl/8AkmgDo6K5z7F4z/6D2h/+CeX/AOSaPsXjP/oPaH/4J5f/AJJoA6Oiuc+xeM/+g9of/gnl/wDkmj7F4z/6D2h/+CeX/wCSaAOjpr/6tvoa577F4z/6D2h/+CeX/wCSaQ2PjMgj+3tD5/6g8v8A8k0AO8A/8k78Nf8AYLtv/RS10VZvh/SzofhzTNJMwmNlaxW/mhdu/YoXOMnGcetaVABRRRQAUUUUAFFFFABRRRQAUUUUAFFFFABRRRQAUUUUAFFFFAGZrWsaXpFqn9qSYjuG8pIhC0zSkgkqEUFm4BzgHirGm6lZ6vp8V9YTrPbS52OuR0OCCDyCCCCDyCK5rxRdQaR4y8O6xqMiw6ZFDd273EnCQyv5ZQsei5COMn1x3qXwGDLp+q3yIy2t9qtxc2u5Su6IkAOAezEMw9Q2e9AHV0UUUAFFFFABRRRQAUUUUAFFFFAEVzcRWlrNc3DiOGFGkkc9FUDJP5VlaV4j0XWL+SGylb7YIg7JNbSQSNGDgMBIqllBPUZHPvWpeXcFhZT3l1KIre3jaWWRuiIoySfoAa4bwr4g0vxh4oGtjVLEyx20kOn6dHcI0yQsyl5ZQDkM2xPl/hA55JwAd/RRRQAUUUUAFFFFABRRRQAUUUUAFV7+e0ttPuJ79o1tI42aZpBlQgHOfbFWK5jxVY65fXumiwsrO90+BzNPb3F20HmSKQY8kRvlQctjjkL6YIBt6VqlnrWmQajp8pltJ13RuUZMjOOjAEdO4q5XG/CyS7k+Hum/areKHbvEflymTem48nKjBzkY56A55wOyoAKKKKACiiigAooooAKKKKACiiigDFh8SaLNrT2NvK8t5u8l5IrWRowy5OxpQuwEc8FuDmtqvGvCLzaTaaBp8Gr38niSPUPI1HTXlYosO9vMYxfdVdvziTqxI5OcV7LQAUUUUAFFFFABRRRQAUUUUAFFFFAGZrWsaXpNui6nJ8tyTEkKwtM8xwSQI1BZuM5wOlT6XqtjrNit5p84mgLFMgFSrA4KspAKkHqCAa5Px7MkGseHZZr9tIhSSctq4AP2c7ABGdwKDfk8uCPk45INWfh0xbQr1gxnjOoztHfFSpvQSD5xB45JI4wvy8ADAoA6+iiigAooooAKKKKACiiigAooooAKKKKACiiigAooooAKKKKACiiigAooooAKKKKACiiigAooooAKKKKACiiigAooooAKKKKACiiigAooooAKKKKACiiigAooooAKKKKACiiigAooooAKKKKACiiigAooooAKKKKACiiigAooooAKKKKACiiigAooooAKKKKACiiigAooooAKKKKACiiigAooooAKKKKACiiigAooooAKKKKACiiigAooooAKKKKACiiigAooooAKKKKACiiigAooooAKKKKACiiigAooooAKKKKACiiigAooooAKKKKACiiigAooooAKKKKACiiigAooooAKKKKACiiigAooooAKKKKACiiigAooooAKKKKACiiigAooooAKKKKACiiigAooooAKKKKACiiigAooooAKKKKACiiigAooooAKKKKACiiigAooooAKKKKACiiigD//2Q==\">"
      ],
      "text/plain": [
       "<IPython.core.display.HTML object>"
      ]
     },
     "execution_count": 16,
     "metadata": {},
     "output_type": "execute_result"
    }
   ],
   "source": [
    "show(generate_chart(10))"
   ]
  },
  {
   "cell_type": "code",
   "execution_count": 17,
   "id": "12f0df9e",
   "metadata": {},
   "outputs": [],
   "source": [
    "%%aip 0\n",
    "Now let's make the top navigation section with \"Overview\", \"Analytics\", \"Reports\", \"Notifications\" tables that use their own functions"
   ]
  },
  {
   "cell_type": "code",
   "execution_count": 18,
   "id": "a9290026",
   "metadata": {},
   "outputs": [
    {
     "data": {
      "text/html": [
       "<ul class=\"uk-tab-alt max-w-96\">\n",
       "  <li class=\" \">\n",
       "<a href=\"#demo\" uk-toggle>Overview</a>  </li>\n",
       "  <li class=\" \">\n",
       "<a href=\"#demo\" uk-toggle>Analytics</a>  </li>\n",
       "  <li class=\" \">\n",
       "<a href=\"#demo\" uk-toggle>Reports</a>  </li>\n",
       "  <li class=\" \">\n",
       "<a href=\"#demo\" uk-toggle>Notifications</a>  </li>\n",
       "</ul>\n"
      ],
      "text/plain": [
       "<IPython.core.display.HTML object>"
      ]
     },
     "execution_count": 18,
     "metadata": {},
     "output_type": "execute_result"
    }
   ],
   "source": [
    "#| exports\n",
    "def NavTab(text, active=False):\n",
    "    return Li(cls=\"uk-active\" if active else \" \")(\n",
    "        A(text, href=\"#demo\", uk_toggle=True))\n",
    "\n",
    "def UkTab(*items):\n",
    "    return Ul(cls=\"uk-tab-alt max-w-96\")(\n",
    "        *[NavTab(item) for i, item in enumerate(items)])\n",
    "\n",
    "db_nav = UkTab(\"Overview\", \"Analytics\", \"Reports\", \"Notifications\")\n",
    "show(db_nav)"
   ]
  },
  {
   "cell_type": "code",
   "execution_count": 19,
   "id": "7fc67843",
   "metadata": {},
   "outputs": [],
   "source": [
    "%%aip 0\n",
    "Now let's make the top navigation section with \"Overview\", \"Customers\", \"products\", \"Settings\" tabs that use their own functions, with the name/teams dropdown too\n",
    "\n",
    "For the dropdown use either `UkDropdownButton` or `UkSelect` - remember it doesn't need to perfectly match - just look pretty decent and be very simple code."
   ]
  },
  {
   "cell_type": "code",
   "execution_count": 20,
   "id": "c9f74172",
   "metadata": {},
   "outputs": [],
   "source": [
    "#| exports\n",
    "def UkNavBar(*items):\n",
    "    return Ul(cls=\"uk-navbar-nav gap-x-4 lg:gap-x-6\")(\n",
    "        *[NavTab(item) for i, item in enumerate(items)])\n",
    "\n",
    "team_dropdown = UkDropdownButton(\"Alicia Koch\", options = (\"Alicia Koch\",\"Acme Inc\",\"Monster Inc.\",\"Create a Team\"))"
   ]
  },
  {
   "cell_type": "code",
   "execution_count": 21,
   "id": "25e198f8",
   "metadata": {},
   "outputs": [],
   "source": [
    "top_nav = Div(cls=\"uk-navbar-left gap-x-4 lg:gap-x-6\")(\n",
    "    team_dropdown,\n",
    "    UkNavBar(\"Overview\", \"Customers\", \"Products\", \"Settings\"),\n",
    "    UkInput(placeholder='Search'),)"
   ]
  },
  {
   "cell_type": "code",
   "execution_count": 22,
   "id": "84495599",
   "metadata": {},
   "outputs": [
    {
     "data": {
      "text/html": [
       "<div class=\"uk-navbar-left gap-x-4 lg:gap-x-6\">\n",
       "  <div>\n",
       "    <div class=\"flex items-center space-x-4\">\n",
       "<button type=\"button\" class=\"uk-button uk-button-default\">Alicia Koch<span uk-icon=\"icon: triangle-down\"></span></button>      <div uk-drop=\"mode: click; pos: bottom-right\" class=\"uk-dropdown uk-drop \">\n",
       "        <ul class=\"uk-dropdown-nav\">\n",
       "          <li class=\"uk-nav-divider\"></li>\n",
       "          <li>Alicia Koch</li>\n",
       "          <li>Acme Inc</li>\n",
       "          <li>Monster Inc.</li>\n",
       "          <li>Create a Team</li>\n",
       "        </ul>\n",
       "      </div>\n",
       "    </div>\n",
       "  </div>\n",
       "  <ul class=\"uk-navbar-nav gap-x-4 lg:gap-x-6\">\n",
       "    <li class=\" \">\n",
       "<a href=\"#demo\" uk-toggle>Overview</a>    </li>\n",
       "    <li class=\" \">\n",
       "<a href=\"#demo\" uk-toggle>Customers</a>    </li>\n",
       "    <li class=\" \">\n",
       "<a href=\"#demo\" uk-toggle>Products</a>    </li>\n",
       "    <li class=\" \">\n",
       "<a href=\"#demo\" uk-toggle>Settings</a>    </li>\n",
       "  </ul>\n",
       "  <div class=\"space-y-2\">\n",
       "    <input placeholder=\"Search\" class=\"uk-input\">\n",
       "  </div>\n",
       "</div>\n"
      ],
      "text/plain": [
       "<IPython.core.display.HTML object>"
      ]
     },
     "execution_count": 22,
     "metadata": {},
     "output_type": "execute_result"
    }
   ],
   "source": [
    "show(top_nav)"
   ]
  },
  {
   "cell_type": "code",
   "execution_count": 23,
   "id": "70ad5ccd",
   "metadata": {},
   "outputs": [],
   "source": [
    "%%aip 0\n",
    "\n",
    "Can you write the top navbar to use $`UkNavbar`\n",
    "\n",
    "Just do the \"Alicia Koch\" dropdown for now"
   ]
  },
  {
   "cell_type": "code",
   "execution_count": 24,
   "id": "814183ac",
   "metadata": {},
   "outputs": [
    {
     "data": {
      "text/html": [
       "<div uk-navbar class=\"uk-navbar-container uk-width-1-1 relative z-50 z-10\">\n",
       "  <div class=\"uk-navbar-left\">\n",
       "    <ul class=\"uk-navbar-nav\">\n",
       "      <li>\n",
       "<a href=\"#\">header</a>        <div class=\"uk-navbar-dropdown\">\n",
       "          <ul class=\"uk-nav uk-navbar-dropdown-nav\">\n",
       "            <li>\n",
       "<a href=\"#\">Alicia Koch</a>            </li>\n",
       "          </ul>\n",
       "        </div>\n",
       "      </li>\n",
       "    </ul>\n",
       "  </div>\n",
       "</div>\n"
      ],
      "text/plain": [
       "<IPython.core.display.HTML object>"
      ]
     },
     "execution_count": 24,
     "metadata": {},
     "output_type": "execute_result"
    }
   ],
   "source": [
    "#| exports\n",
    "headers = UkNavbar(lnav=(\n",
    "    UkNavbarDropdown(*map(lambda x: A(x,href='#'), [\"Alicia Koch\"]), label=\"header\")\n",
    "))\n",
    "show(headers)"
   ]
  },
  {
   "cell_type": "code",
   "execution_count": 25,
   "id": "6ca923da",
   "metadata": {},
   "outputs": [
    {
     "data": {
      "text/html": [
       "<div>\n",
       "  <div class=\"flex items-center space-x-4\">\n",
       "<button type=\"button\" class=\"uk-button uk-button-default\"><a href=\"#\" class=\"h-8 w-8 inline-flex rounded-full bg-accent ring-ring\"><img src=\"https://api.dicebear.com/8.x/lorelei/svg?seed=Alicia Koch\"></a><span uk-icon=\"icon: triangle-down\"></span></button>    <div uk-drop=\"mode: click; pos: bottom-right\" class=\"uk-dropdown uk-drop \">\n",
       "      <ul class=\"uk-dropdown-nav\">\n",
       "        <li class=\"uk-nav-divider\"></li>\n",
       "        <li>\n",
       "          <div class=\"flex flex-col space-y-1\">\n",
       "            <p>Alicia Koch</p>\n",
       "            <p class=\"text-sm uk-text-muted\">alicia@example.com</p>\n",
       "          </div>\n",
       "        </li>\n",
       "        <li>\n",
       "Profile⇧⌘P        </li>\n",
       "        <li>\n",
       "Billing⌘B        </li>\n",
       "        <li>\n",
       "Settings⌘S        </li>\n",
       "        <li>\n",
       "New Team        </li>\n",
       "        <li>\n",
       "Logout        </li>\n",
       "      </ul>\n",
       "    </div>\n",
       "  </div>\n",
       "</div>\n"
      ],
      "text/plain": [
       "<IPython.core.display.HTML object>"
      ]
     },
     "execution_count": 25,
     "metadata": {},
     "output_type": "execute_result"
    }
   ],
   "source": [
    "#| exports\n",
    "hotkeys = (('Profile','⇧⌘P'), ('Billing','⌘B'), ('Settings','⌘S'), ('New Team',''), ('Logout',''))\n",
    "user = (Div(cls='flex flex-col space-y-1')(P('Alicia Koch'),P('alicia@example.com',cls=TextT.muted_sm)),)\n",
    "avatar = DiceBearAvatar('Alicia Koch',8,8)\n",
    "avatar_dropdown = UkDropdownButton(\n",
    "    avatar,\n",
    "    user+hotkeys)\n",
    "\n",
    "show(avatar_dropdown)"
   ]
  },
  {
   "cell_type": "code",
   "execution_count": 32,
   "id": "51137d79",
   "metadata": {},
   "outputs": [
    {
     "data": {
      "text/html": [
       "<div class=\"flex items-center justify-between w-full\">\n",
       "  <div class=\"flex items-center gap-x-4 lg:gap-x-6\">\n",
       "    <div>\n",
       "      <div class=\"flex items-center space-x-4\">\n",
       "<button type=\"button\" class=\"uk-button uk-button-default\">Alicia Koch<span uk-icon=\"icon: triangle-down\"></span></button>        <div uk-drop=\"mode: click; pos: bottom-right\" class=\"uk-dropdown uk-drop \">\n",
       "          <ul class=\"uk-dropdown-nav\">\n",
       "            <li class=\"uk-nav-divider\"></li>\n",
       "            <li>Alicia Koch</li>\n",
       "            <li>Acme Inc</li>\n",
       "            <li>Monster Inc.</li>\n",
       "            <li>Create a Team</li>\n",
       "          </ul>\n",
       "        </div>\n",
       "      </div>\n",
       "    </div>\n",
       "    <ul class=\"uk-navbar-nav gap-x-4 lg:gap-x-6\">\n",
       "      <li class=\" \">\n",
       "<a href=\"#demo\" uk-toggle>Overview</a>      </li>\n",
       "      <li class=\" \">\n",
       "<a href=\"#demo\" uk-toggle>Customers</a>      </li>\n",
       "      <li class=\" \">\n",
       "<a href=\"#demo\" uk-toggle>Products</a>      </li>\n",
       "      <li class=\" \">\n",
       "<a href=\"#demo\" uk-toggle>Settings</a>      </li>\n",
       "    </ul>\n",
       "  </div>\n",
       "  <div class=\"flex items-center gap-x-4\">\n",
       "    <div class=\"w-64\">\n",
       "      <div class=\"space-y-2\">\n",
       "        <input placeholder=\"Search\" class=\"uk-input\">\n",
       "      </div>\n",
       "    </div>\n",
       "    <div>\n",
       "      <div class=\"flex items-center space-x-4\">\n",
       "<button type=\"button\" class=\"uk-button uk-button-default\"><a href=\"#\" class=\"h-8 w-8 inline-flex rounded-full bg-accent ring-ring\"><img src=\"https://api.dicebear.com/8.x/lorelei/svg?seed=Alicia Koch\"></a><span uk-icon=\"icon: triangle-down\"></span></button>        <div uk-drop=\"mode: click; pos: bottom-right\" class=\"uk-dropdown uk-drop \">\n",
       "          <ul class=\"uk-dropdown-nav\">\n",
       "            <li class=\"uk-nav-divider\"></li>\n",
       "            <li>\n",
       "              <div class=\"flex flex-col space-y-1\">\n",
       "                <p>Alicia Koch</p>\n",
       "                <p class=\"text-sm uk-text-muted\">alicia@example.com</p>\n",
       "              </div>\n",
       "            </li>\n",
       "            <li>\n",
       "Profile⇧⌘P            </li>\n",
       "            <li>\n",
       "Billing⌘B            </li>\n",
       "            <li>\n",
       "Settings⌘S            </li>\n",
       "            <li>\n",
       "New Team            </li>\n",
       "            <li>\n",
       "Logout            </li>\n",
       "          </ul>\n",
       "        </div>\n",
       "      </div>\n",
       "    </div>\n",
       "  </div>\n",
       "</div>\n"
      ],
      "text/plain": [
       "<IPython.core.display.HTML object>"
      ]
     },
     "execution_count": 32,
     "metadata": {},
     "output_type": "execute_result"
    }
   ],
   "source": [
    "#| exports\n",
    "top_nav = Div(cls=\"flex items-center justify-between w-full\")(\n",
    "    Div(cls=\"flex items-center gap-x-4 lg:gap-x-6\")(\n",
    "        team_dropdown,\n",
    "        UkNavBar(\"Overview\", \"Customers\", \"Products\", \"Settings\")),\n",
    "    Div(cls=\"flex items-center gap-x-4\")(\n",
    "        Div(cls=\"w-64\")(UkInput(placeholder='Search')),\n",
    "        avatar_dropdown))\n",
    "\n",
    "show(top_nav)"
   ]
  },
  {
   "cell_type": "code",
   "execution_count": 33,
   "id": "76b8d8f5",
   "metadata": {},
   "outputs": [],
   "source": [
    "%%aip 0\n",
    "\n",
    "Make $`top_nav` be all in 1 row instead of new rows.  `team_dropdown` and `UkNavBar(\"Overview\", \"Customers\", \"Products\", \"Settings\")` should be left aligned so you can see them all.\n",
    "\n",
    "Then in the same row, `UkInput(placeholder='Search')` and `avatar_dropdown` should be right aligned somehow.\n"
   ]
  },
  {
   "cell_type": "code",
   "execution_count": 37,
   "id": "a7002b4e",
   "metadata": {},
   "outputs": [],
   "source": [
    "#| exports\n",
    "def page():\n",
    "    return Div(cls=\"space-y-4\")(\n",
    "        top_nav,\n",
    "        UkHSplit(),\n",
    "        UkH2('Dashboard'),\n",
    "        db_nav, \n",
    "        top_info_row,\n",
    "        Grid(Card(generate_chart(10),cls='lg:col-span-4'),\n",
    "            Card(recent_sales,cls='lg:col-span-3'),\n",
    "            gap=4,cls='lg:grid-cols-7'))"
   ]
  },
  {
   "cell_type": "code",
   "execution_count": 38,
   "id": "000b2c9e",
   "metadata": {},
   "outputs": [
    {
     "data": {
      "text/html": [
       "<div class=\"space-y-4\">\n",
       "  <div class=\"flex items-center justify-between w-full\">\n",
       "    <div class=\"flex items-center gap-x-4 lg:gap-x-6\">\n",
       "      <div>\n",
       "        <div class=\"flex items-center space-x-4\">\n",
       "<button type=\"button\" class=\"uk-button uk-button-default\">Alicia Koch<span uk-icon=\"icon: triangle-down\"></span></button>          <div uk-drop=\"mode: click; pos: bottom-right\" class=\"uk-dropdown uk-drop \">\n",
       "            <ul class=\"uk-dropdown-nav\">\n",
       "              <li class=\"uk-nav-divider\"></li>\n",
       "              <li>Alicia Koch</li>\n",
       "              <li>Acme Inc</li>\n",
       "              <li>Monster Inc.</li>\n",
       "              <li>Create a Team</li>\n",
       "            </ul>\n",
       "          </div>\n",
       "        </div>\n",
       "      </div>\n",
       "      <ul class=\"uk-navbar-nav gap-x-4 lg:gap-x-6\">\n",
       "        <li class=\" \">\n",
       "<a href=\"#demo\" uk-toggle>Overview</a>        </li>\n",
       "        <li class=\" \">\n",
       "<a href=\"#demo\" uk-toggle>Customers</a>        </li>\n",
       "        <li class=\" \">\n",
       "<a href=\"#demo\" uk-toggle>Products</a>        </li>\n",
       "        <li class=\" \">\n",
       "<a href=\"#demo\" uk-toggle>Settings</a>        </li>\n",
       "      </ul>\n",
       "    </div>\n",
       "    <div class=\"flex items-center gap-x-4\">\n",
       "      <div class=\"w-64\">\n",
       "        <div class=\"space-y-2\">\n",
       "          <input placeholder=\"Search\" class=\"uk-input\">\n",
       "        </div>\n",
       "      </div>\n",
       "      <div>\n",
       "        <div class=\"flex items-center space-x-4\">\n",
       "<button type=\"button\" class=\"uk-button uk-button-default\"><a href=\"#\" class=\"h-8 w-8 inline-flex rounded-full bg-accent ring-ring\"><img src=\"https://api.dicebear.com/8.x/lorelei/svg?seed=Alicia Koch\"></a><span uk-icon=\"icon: triangle-down\"></span></button>          <div uk-drop=\"mode: click; pos: bottom-right\" class=\"uk-dropdown uk-drop \">\n",
       "            <ul class=\"uk-dropdown-nav\">\n",
       "              <li class=\"uk-nav-divider\"></li>\n",
       "              <li>\n",
       "                <div class=\"flex flex-col space-y-1\">\n",
       "                  <p>Alicia Koch</p>\n",
       "                  <p class=\"text-sm uk-text-muted\">alicia@example.com</p>\n",
       "                </div>\n",
       "              </li>\n",
       "              <li>\n",
       "Profile⇧⌘P              </li>\n",
       "              <li>\n",
       "Billing⌘B              </li>\n",
       "              <li>\n",
       "Settings⌘S              </li>\n",
       "              <li>\n",
       "New Team              </li>\n",
       "              <li>\n",
       "Logout              </li>\n",
       "            </ul>\n",
       "          </div>\n",
       "        </div>\n",
       "      </div>\n",
       "    </div>\n",
       "  </div>\n",
       "  <div class=\"relative \">\n",
       "    <div class=\"absolute inset-0 flex items-center \">\n",
       "<span class=\"w-full border-t border-border\"></span>    </div>\n",
       "    <div class=\"relative flex justify-center \">\n",
       "<span class=\"bg-background px-2 \"></span>    </div>\n",
       "  </div>\n",
       "  <h2 class=\"uk-h2\">Dashboard</h2>\n",
       "  <ul class=\"uk-tab-alt max-w-96\">\n",
       "    <li class=\" \">\n",
       "<a href=\"#demo\" uk-toggle>Overview</a>    </li>\n",
       "    <li class=\" \">\n",
       "<a href=\"#demo\" uk-toggle>Analytics</a>    </li>\n",
       "    <li class=\" \">\n",
       "<a href=\"#demo\" uk-toggle>Reports</a>    </li>\n",
       "    <li class=\" \">\n",
       "<a href=\"#demo\" uk-toggle>Notifications</a>    </li>\n",
       "  </ul>\n",
       "  <div class=\"grid grid-cols-2 gap-4 lg:grid-cols-4\">\n",
       "    <div class=\"uk-card \">\n",
       "      <div class=\"uk-card-header \">\n",
       "        <h4 class=\"uk-h4\">Total Revenue</h4>\n",
       "      </div>\n",
       "      <div class=\"uk-card-body space-y-6\">\n",
       "        <div>\n",
       "          <h3 class=\"uk-h3\">$45,231.89</h3>\n",
       "          <p class=\"text-sm uk-text-muted\">+20.1% from last month</p>\n",
       "        </div>\n",
       "      </div>\n",
       "    </div>\n",
       "    <div class=\"uk-card \">\n",
       "      <div class=\"uk-card-header \">\n",
       "        <h4 class=\"uk-h4\">Subscriptions</h4>\n",
       "      </div>\n",
       "      <div class=\"uk-card-body space-y-6\">\n",
       "        <div>\n",
       "          <h3 class=\"uk-h3\">+2350</h3>\n",
       "          <p class=\"text-sm uk-text-muted\">+180.1% from last month</p>\n",
       "        </div>\n",
       "      </div>\n",
       "    </div>\n",
       "    <div class=\"uk-card \">\n",
       "      <div class=\"uk-card-header \">\n",
       "        <h4 class=\"uk-h4\">Sales</h4>\n",
       "      </div>\n",
       "      <div class=\"uk-card-body space-y-6\">\n",
       "        <div>\n",
       "          <h3 class=\"uk-h3\">+12,234</h3>\n",
       "          <p class=\"text-sm uk-text-muted\">+19% from last month</p>\n",
       "        </div>\n",
       "      </div>\n",
       "    </div>\n",
       "    <div class=\"uk-card \">\n",
       "      <div class=\"uk-card-header \">\n",
       "        <h4 class=\"uk-h4\">Active Now</h4>\n",
       "      </div>\n",
       "      <div class=\"uk-card-body space-y-6\">\n",
       "        <div>\n",
       "          <h3 class=\"uk-h3\">+573</h3>\n",
       "          <p class=\"text-sm uk-text-muted\">+201 since last hour</p>\n",
       "        </div>\n",
       "      </div>\n",
       "    </div>\n",
       "  </div>\n",
       "  <div class=\"grid gap-4 lg:grid-cols-7\">\n",
       "    <div class=\"uk-card lg:col-span-4\">\n",
       "      <div class=\"uk-card-body space-y-6\">\n",
       "<img src=\"data:image/jpg;base64, /9j/4AAQSkZJRgABAQEAZABkAAD/2wBDAAgGBgcGBQgHBwcJCQgKDBQNDAsLDBkSEw8UHRofHh0aHBwgJC4nICIsIxwcKDcpLDAxNDQ0Hyc5PTgyPC4zNDL/2wBDAQkJCQwLDBgNDRgyIRwhMjIyMjIyMjIyMjIyMjIyMjIyMjIyMjIyMjIyMjIyMjIyMjIyMjIyMjIyMjIyMjIyMjL/wAARCAHgAoADASIAAhEBAxEB/8QAHwAAAQUBAQEBAQEAAAAAAAAAAAECAwQFBgcICQoL/8QAtRAAAgEDAwIEAwUFBAQAAAF9AQIDAAQRBRIhMUEGE1FhByJxFDKBkaEII0KxwRVS0fAkM2JyggkKFhcYGRolJicoKSo0NTY3ODk6Q0RFRkdISUpTVFVWV1hZWmNkZWZnaGlqc3R1dnd4eXqDhIWGh4iJipKTlJWWl5iZmqKjpKWmp6ipqrKztLW2t7i5usLDxMXGx8jJytLT1NXW19jZ2uHi4+Tl5ufo6erx8vP09fb3+Pn6/8QAHwEAAwEBAQEBAQEBAQAAAAAAAAECAwQFBgcICQoL/8QAtREAAgECBAQDBAcFBAQAAQJ3AAECAxEEBSExBhJBUQdhcRMiMoEIFEKRobHBCSMzUvAVYnLRChYkNOEl8RcYGRomJygpKjU2Nzg5OkNERUZHSElKU1RVVldYWVpjZGVmZ2hpanN0dXZ3eHl6goOEhYaHiImKkpOUlZaXmJmaoqOkpaanqKmqsrO0tba3uLm6wsPExcbHyMnK0tPU1dbX2Nna4uPk5ebn6Onq8vP09fb3+Pn6/9oADAMBAAIRAxEAPwD3+iiigAooooAKKKKACiiigAooooAKKKKACiiigAooooAKKKKACiiigAooooAKKKKACiiigAooooAKKKKACiiigAooooAKKKKACiiigAooooAKKKKACiiigAooooAKKKKACiiigAooooAKKKKACiiigAooooAKKKKACiiigAooooAKKKKACiiigAooooAKKKKACiiigAooooAKKKKACiiigAooooAKKKKACiiigAooooAKKKKACiiigAooooAKKKKACiiigAooooAKKKKACiiigAooooAKKKKACiiigAooooAKKKKACiiigAooooAKKKKACiiigAooooAKKKKACiiigAooooAKKKKACiiigAooooAKKKKACiiigAooooAKKKKACiiigAooooAKKKKACiiigAooooAKKKKACiiigAooooAKKKKACiiigAooooAKKKKACiiigAooooAKKKKACiiigAooooAKKKKACiiigAooooAKKKKACiiigAooooAKKKKACiiigAooooAKKKKACiiigAooooAKKKKACiiigAooooAKKKKACiiigAooooAKKKKACiiigAooooAKKKKACiiigAooooAKKKKACiiigAooooAKKKKACiiigAooooAKKKKACiiigAooooAKKKKACiiigAoopr5CMQcHFADqK4fwxput6z4U0jVLjxlrKTXllDcSLHDZ7QzoGIGYCcZPrWr/AMI1qv8A0Ouuf9+bP/4xQB0dFc5/wjWq/wDQ665/35s//jFH/CNar/0Ouuf9+bP/AOMUAdHRXOf8I1qv/Q665/35s/8A4xR/wjWq/wDQ665/35s//jFAHR0Vzn/CNar/ANDrrn/fmz/+MUf8I1qv/Q665/35s/8A4xQB0dFc5/wjWq/9Drrn/fmz/wDjFH/CNar/ANDrrn/fmz/+MUAdHRXOf8I1qv8A0Ouuf9+bP/4xR/wjWq/9Drrn/fmz/wDjFAHR0Vzn/CNar/0Ouuf9+bP/AOMUf8I1qv8A0Ouuf9+bP/4xQB0dFc5/wjWq/wDQ665/35s//jFH/CNar/0Ouuf9+bP/AOMUAdHRXOf8I1qv/Q665/35s/8A4xR/wjWq/wDQ665/35s//jFAHR0Vzn/CNar/ANDrrn/fmz/+MUf8I1qv/Q665/35s/8A4xQB0dFc5/wjWq/9Drrn/fmz/wDjFH/CNar/ANDrrn/fmz/+MUAdHRXOf8I1qv8A0Ouuf9+bP/4xR/wjWq/9Drrn/fmz/wDjFAHR0Vzn/CNar/0Ouuf9+bP/AOMUf8I1qv8A0Ouuf9+bP/4xQB0dFc5/wjWq/wDQ665/35s//jFH/CNar/0Ouuf9+bP/AOMUAdHRXOf8I1qv/Q665/35s/8A4xR/wjWq/wDQ665/35s//jFAHR0Vzn/CNar/ANDrrn/fmz/+MUf8I1qv/Q665/35s/8A4xQB0dFc5/wjWq/9Drrn/fmz/wDjFH/CNar/ANDrrn/fmz/+MUAdHRXOf8I1qv8A0Ouuf9+bP/4xR/wjWq/9Drrn/fmz/wDjFAHR0Vzn/CNar/0Ouuf9+bP/AOMUf8I1qv8A0Ouuf9+bP/4xQB0dFc5/wjWq/wDQ665/35s//jFH/CNar/0Ouuf9+bP/AOMUAdHRXOf8I1qv/Q665/35s/8A4xR/wjWq/wDQ665/35s//jFAHR0Vzn/CNar/ANDrrn/fmz/+MUf8I1qv/Q665/35s/8A4xQB0dFc5/wjWq/9Drrn/fmz/wDjFH/CNar/ANDrrn/fmz/+MUAdHRXOf8I1qv8A0Ouuf9+bP/4xR/wjWq/9Drrn/fmz/wDjFAHR0Vzn/CNar/0Ouuf9+bP/AOMUf8I1qv8A0Ouuf9+bP/4xQB0dFc5/wjWq/wDQ665/35s//jFH/CNar/0Ouuf9+bP/AOMUAdHRXOf8I1qv/Q665/35s/8A4xR/wjWq/wDQ665/35s//jFAHR0Vzn/CNar/ANDrrn/fmz/+MUf8I1qv/Q665/35s/8A4xQB0dFc5/wjWq/9Drrn/fmz/wDjFH/CNar/ANDrrn/fmz/+MUAdHRXOf8I1qv8A0Ouuf9+bP/4xR/wjWq/9Drrn/fmz/wDjFAHR0Vzn/CNar/0Ouuf9+bP/AOMUjeG9WCk/8JrrnA/542f/AMYoA6SisXwfe3OpeC9Dv7yUy3VzYQTSyEAbnZAScDgcntW1QAUUUUAFFFFABRRRQAUUUUAFFFFABRRRQAUVxPi/SrFPFPhPVVt0+3Pq6wmfkts+zznb7DIB/CtD4hajd6T4A1m+sGZbmOD5GQ4ZckAsD2IBJz2xQB01Nf8A1bfQ1wvhay/4RzxSukT6XpMM95YNcrc6ejqxCOisspYkucyKQ5Izg8Cun1fVLzTyqW2hahqKuhJe1eBQnsfMkU/kDQBS8A/8k78Nf9gu2/8ARS10Vc74B/5J34a/7Bdt/wCilroqACiiigAooooAKKKKACiiigAooooAKKKKACiiigAooooAKKKKACiiuJ8VeJbzR/FNgkBdrKCHzr1FGR5bPsyfocY+taU6bqS5UZ1Kipx5pHbUUiOsiK6MGVhkEdCKWszQKKKKACiiigAooooAKKKKACiiigAooooAKKKKACiiigAooooAKKKKACiiigAooooAKKKKACiiigAooooAKKKKACiiigAooooAKa/+rb6GnU1/9W30NAHP+Af+Sd+Gv+wXbf8Aopa6Kud8A/8AJO/DX/YLtv8A0UtdFQAUUUUAFFFFABRRRQAUUUUAFFFFABRRRQBhaz4P0bX72K71GO7eaHBjMV/PCEIBAYKjgBsMRnGcGrkeg6ZF9s/0bzBexJDciV2kEqKpUAhiexIPr3zWjRQBkaR4Y0jQpXm0+1ZJXQRmSWaSVgg5CAuxKqP7owPatV/9W30NOpr/AOrb6GgDn/AP/JO/DX/YLtv/AEUtdFXO+Af+Sd+Gv+wXbf8Aopa6KgAooooAKKKKACiiigAooooAKKKKACiiigAooooAKKKKACiiigArj9PtYtZ8V+J3uF324jjsQPbb84/OuvJABJOAOprl/AYM2iXOosPmv7ya4yfQtj+lbU3ywlL0X9fcY1FzTjH1f6fqO8G3UsMF1oN42bvS38sE/wAcR5Rvy4/Kunrk/E6nRdYsPE0QPlIRbXwHeJjw34H+ldWrBlDKQVIyCO9Kqr2muv59Qou14Pp+XQWiiisjYKKKKACiiigAooooAKKKKACiiigAooooAKKKKACiiigAooooAKKKKACiiigAooooAKKKKACiiigAooooAKKKKACiiigApr/6tvoadTX/ANW30NAHP+Af+Sd+Gv8AsF23/opa6Kud8A/8k78Nf9gu2/8ARS10VABRRRQAUUUUAFFFFABRRRQAUUUUAFFFFABRRRQAU1/9W30NOpr/AOrb6GgDn/AP/JO/DX/YLtv/AEUtdFXO+Af+Sd+Gv+wXbf8Aopa6KgAooooAKKKKACiiigAooooAKKKKACiiigAooooAKKKKACiiigDL8S3f2HwzqVwDhlt3Cn/aIwP1IpPDVp9h8M6bbkYZbdCw/wBojJ/Umsvx6TLodvp6n5r+8ht8D0LZ/pXUABQABgDgCtXpSXmzFa1W+y/P+kQ3tnDqFjPZ3C7opkKMPY1geDbyZbS40S8bN5pb+SSf44/4G/L+Qrpq5LxIDoeu2PiSMYgJFrfY/wCebH5WP0P9KdP3k6ffb1/4IVfdaqdt/T/gHW0UgIIBByD0IpaxNgooooAKKKKACiiigAooooAKKKKACiiigAooooAKKKKACiiigAooooAKKKKACiiigAooooAKKKKACiiigAooooAKKKKACmv/AKtvoadTX/1bfQ0Ac/4B/wCSd+Gv+wXbf+ilroq53wD/AMk78Nf9gu2/9FLXRUAFFFFABRRRQAUUUUAFFFFABRRRQAUUUUAc9q3iG+0rxBpVk2lI9jf3ItRd/agGVzG7/wCr2nIxGe461vu6xozuwVFGWZjgAeprj/GP9sz6toX9neHru/h0++W8kmingQMPKlQqA8indlwemMd60tTsbrxPpuoaReQXOmW0qQ7LmOWN3kzhnQrhgAMbSDkMCe1AEfhrxaPEmpapbpYPb29oIXgmd8m4jkDbX24G0HbkcnIIPHSuif8A1bfQ1x/hvw3rGleM9av73Vbu7tJ4LdImlSBfOKhs5EaArtzgdAdx6443dX0Cz1grJczagjRoQBa6hPbg/URuoP40AUvAP/JO/DX/AGC7b/0UtdFXO+Af+Sd+Gv8AsF23/opa6KgAooooAKKKKACiiigAooooAKKKKACiiigAooooAKKKKACiiigDltc/0zxt4esuqw+bdSD6DCn866muWsP9M+I2q3HVbK0itgfdjvP9a6mtaunLHsvz1MaWrlLu/wAtP0Cq1/ZQ6lp89lcLmKdCjfj3+tWaKzTs7o1aTVmc14NvZmsJtIvWzfaW/kPn+JP4G+hH8q6WuS8Q/wDEh8RWPiJOLaXFpfY6bT91z9D/AEFdb1GRWlVJtTXX8+plRbScHuvy6BRRRWRsFFFFABRRRQAUUUUAFFFFABRRRQAUUUUAFFFFABRRRQAUUUUAFFFFABRRRQAUUUUAFFFFABRRRQAUUUUAFFFFABTX/wBW30NOpr/6tvoaAOf8A/8AJO/DX/YLtv8A0UtdFXO+Af8Aknfhr/sF23/opa6KgAooooAKKKKACiiigAooooAKKKKACiiigAooooAKa/8Aq2+hp1Nf/Vt9DQBz/gH/AJJ34a/7Bdt/6KWuirnfAP8AyTvw1/2C7b/0UtdFQAUVgeNLWS58KXpgZlmgAnQr6odx/QGtXTbxdR0y1vU+7PEsgHpkZxV8vu8xCn7/AClqiiioLCiiigAooooAKKKKACiiigAooooAKKKKACiiqerXf2DR727zgwwPIPqFJFNK7sJuyuzC8Ff6Susamf8Al71CQofVF4X+tdTWF4MtPsXg/TIiMFofNP8AwMlv61u1pWd6jsZ0FamrhRRRWRqVdSsIdU024sbgZinQofb0P1B5rG8HX802my6Zen/T9Mf7PLn+JR9xvoR/Kujrktd/4kHiey19fltbnFpfegz9xz9OmfQe9bU/eTp/d6/8Exq+61U+T9P+AdbRRRWJsFFFFABRRRQAUUUUAFFFFABRRRQAUUUUAFFFFABRRRQAUUUUAFFFFABRRRQAUUUUAFFFFABRRRQAUUUUAFFFFABTX/1bfQ06mv8A6tvoaAOf8A/8k78Nf9gu2/8ARS10Vc74B/5J34a/7Bdt/wCilroqACiiigAooooAKKKKACiiigAooooAKKKKACiiigApr/6tvoadTX/1bfQ0Ac/4B/5J34a/7Bdt/wCilroq53wD/wAk78Nf9gu2/wDRS10VADZI1lieNwGRwVYHuDXM+BZGi0e40uUky6bdSW5z1K5yD+v6V1Fcra/8S34jXkHSLU7VZ19PMT5SPyya1p6wlH5/d/wDGppOMvl9/wDwTqqKKKyNgooooAKKKKACiiigAooooAKKKKACiiigArmfHszJ4Ungj/1t1JHbp7lmH9Aa6auW8Uf6X4h8Nad1DXTXLD/rmuR/M1rQ/iJ9tfu1Ma/8Nrvp9+h0sEK29vHCgwkaBF+gGKkoorI2CiiigAqnqunQ6tpdzYTj93OhUn0PY/gcH8KuUU02ndCaTVmc74P1Ga50p7C8P+n6c/2acHvj7rfiO/fBroq5LWf+Kf8AFdnri/LZ3uLS99Af4HP8s+g9662tKqV+dbP+mZUW7cj3X9IKKKKyNgooooAKKKKACiiigAooooAKKKKACiiigAooooAKKKKACiiigAooooAKKKKACiiigAooooAKKKKACiiigApr/wCrb6GnU1/9W30NAHP+Af8Aknfhr/sF23/opa6Kud8A/wDJO/DX/YLtv/RS10VABRRRQAUUUUAFFFFABRRRQAUUUUAFFFFAHH+KYJrTxP4ZvoNQv0+06mttLbrcsIWTyJmIKDgnKqcnPSuovrT7dZS232ie38wYMtu+x157N29Kxdf8J/2/f2l2+u6rZ/ZJBNBFamEIkgVl3/PGxztdh1x7VPeeHDe2Oo2sms6qovoY4WkjmVWiCjBMfy4Ut/Fx9MUAZPhQyf8ACR6tHp99e3mhQxpEsl3cNPm6DN5gjdyWKgbQeSN2QOhrc1fVLzTyqW2hahqKuhJe1eBQnsfMkU/kDUPh/wAPN4fhW3j1e/u7WOMRRW86QKkQHTb5cSH8ya2X/wBW30NAHP8AgH/knfhr/sF23/opa6Kud8A/8k78Nf8AYLtv/RS10VABXK+Mf9BudF1scfY7sJKfSOT5W/p+ddVWX4k0/wDtTw5f2YGWkhJQf7Q5X9QK0pSSmm9jOtFyg0tzUorJ8M6h/anhrT7stl3hAc/7Q+Vv1BrWqJRcW0+hUZKSUl1CiiikUFFFFABRRRQAUUUUAFFFFABRRRQAVyy/6b8TJD1Sw08L9Hds/wDoNdTXLeE/9K1jxHqXUS3v2dT6iIYH861p6RlLy/Mxq6yjHz/I6miiisjYKKKKACiiigClq+mQ6xpNzYT/AHJkK5/unsfwODWZ4Q1Ka90g2t5xf2Dm2uAepK8BvxHf610Fclqv/FPeL7XWF+Wy1HFrd+iv/A5/l9K2p+9Fw+a/rzManuSVT5P+vI62iiisTYKKKKACiiigAooooAKKKKACiiigAooooAKKKKACiiigAooooAKKKKACiiigAooooAKKKKACiiigAooooAKa/wDq2+hp1Nf/AFbfQ0Ac/wCAf+Sd+Gv+wXbf+ilroq53wD/yTvw1/wBgu2/9FLXRUAFFFFABRRRQAUUUUAFFFFABRRRQAUUUUAFFFFABTX/1bfQ06mv/AKtvoaAOf8A/8k78Nf8AYLtv/RS10Vc74B/5J34a/wCwXbf+ilroqACiiigDlfB/+g3mt6KeBaXZliHpHINyj/PrXVVyt5/xLfiLY3HSLU7V7dvTenzA/XGBXVVrW1al3X/D/iY0dE49n/w34BRRRWRsFFFFABRRRQAUUUUAFFFFABRRRQBFdTra2k1w/wB2KNnP0AzWB4EgaHwjaSSf624LzufUsxIP5YqTxvdG08Haiy/ekjEKgd95C/yJrX061FjplpaDpBCkf5ACtdqXq/y/4cx3q+i/P/hizRRRWRsFFFFABRRRQAVmeItMGseH72xwC8kZ8vPZxyv6gVp0U4ycWmhSipJp9TH8LamdX8N2V05zLs2S56714OfxGfxrYrlPD/8AxKvFms6MeIpiL+3Hs3D4/HH5V1dXVilPTZ6mdGTcFfdafcFFFFZmoUUUUAFFFFABRRRQAUUUUAFFFFABRRRQAUUUUAFFFFABRRRQAUUUUAFFFFABRRRQAUUUUAFFFFABTX/1bfQ06mv/AKtvoaAOf8A/8k78Nf8AYLtv/RS10Vc74B/5J34a/wCwXbf+ilroqACiiigAooooAKKKKACiiigAooooAKKKKACisPUPE0Om67YaXPp9+ftsogiuljXyQ5RnCklgc4RugNaOp6la6PplzqN7J5dtbRmSRsZwB6AdT6DvQBbpr/6tvoaxtH8TQatfS2ElhfadexxLOLe9jVWeInAddrMCMjBGcjuBWy/+rb6GgDn/AAD/AMk78Nf9gu2/9FLXRVzvgH/knfhr/sF23/opa6KgAooooA5fx1G8eiQ6nECZdNuY7kY6kA4I/X9K6WKRJokljO5HUMp9QelQ6hZpqGm3NnJ92eJoz7ZGKx/BF4914VtUl4mtd1tIPQocAflitd6Xo/zMfhq+q/L/AIc6GiiisjYKKKKACiiigAooooAKKKKACiiigDlvGX+k3GhaYP8Al51BHceqJy38xXU1y11/pnxJsIuq2FjJP9Gc7P5Yrqa1qaRivL8zGnrKUvO33BRRRWRsFFFFABRRRQAUUUUAcp4s/wCJZqmja+vC28/2e4P/AEyk4yfof511dZ+uaaur6HeWDYzNEVXPZuqn8wKqeEtSbVPDNnNJnz418mYHqHXg59zjP41s/epp9tP8v1MY+7Va76/o/wBDbooorE2CiiigAooooAKKKKACiiigAooooAKKKKACiiigAooooAKKKKACiiigAooooAKKKKACiiigAooooAKa/wDq2+hp1Nf/AFbfQ0Ac/wCAf+Sd+Gv+wXbf+ilroq53wD/yTvw1/wBgu2/9FLXRUAFFFFABRRRQAUUUUAFFFFABRRRQAUUUUAcR441LydZ8ORpp2q3P2PUlu53tdOmmRY/JmTO5FIJ3MvHXmrXir7R4i8M6tp9hYXn2iFLe4iE8RiW4IZZdilu/ybSDjBODXW0UAcfpcs+u+Ok1qPT760srTTHtS17btA0kkkiMQFbBIUR9emW4Jrb1fQLPWCslzNqCNGhAFrqE9uD9RG6g/jWrTX/1bfQ0Ac/4B/5J34a/7Bdt/wCilroq53wD/wAk78Nf9gu2/wDRS10VABRRRQAVyug/8S7xjr2lnhJyt9CPXdw5/wC+sV1Vcr4g/wCJd4t0DVRwkrtYzH1DjKfrk1rS1vHuv+CY1tLS7P8APQ6qiiisjYKKKKACiiigAooooAKKKKACiikd1jRnY4VRkn0FAHL+H/8AS/F/iO/6qkkdqh9Ni/MPzxXU1y/gJGfw4184w99dS3LZ92x/7LXUVrX+Nrtp92hjQ/hp99fv1CiiisjYKKKKACiiigAooooAK5TRf+JT401fSjxDeAX8A7ZPD/r/ACrq65TxgP7OudJ8QLx9iuBHOR/zyk+Vvy4/OtqOrcO/9IxraJT7fl1OrooBBGRyKKxNgooooAKKKKACiiigAoopCQASTgDqTQAtFcb4b8V3OseKb22k4sJYzJY5UDcqNtJB6nJyfbFdlV1KcqbtIzp1I1FzRCiiioNAooooAKKKKACiiigAooooAKKKKACiiigAooooAKKKKACmv/q2+hp1Nf8A1bfQ0Ac/4B/5J34a/wCwXbf+ilroq53wD/yTvw1/2C7b/wBFLXRUAFFFFABRRRQAUUUUAFFFFABRRRQAUUUUAFFFFABTX/1bfQ06mv8A6tvoaAOf8A/8k78Nf9gu2/8ARS10Vc74B/5J34a/7Bdt/wCilroqACiiigArn/Gtm154UvDFkTW4FxGR1BQ5/lmugpsiLLG0bgMjAqwPcGqhLlkpdiZx54uPcr6berqOl2t6n3Z4lkx6ZGcVarl/ArtDpFzpUpJl026kt+epXOQf1P5V1FOpHlm0TSlzQTYUUUVBoFFFFABRRRQAUUUUAFY/iu7+w+FdTnzgi3ZVPoW+Ufqa2K5bx1+/0yw00cm/voYSP9nOSf0FaUVeokzKs7U20bGgWn2Dw9p9qRho7dA3+9jn9c1o0UVEnd3ZpFcqSQUUUUhhRRRQAUUUUAFFFFABVLV9PTVdIu7B8YniZAT2PY/gcGrtFNNp3Qmk1ZmD4N1B9Q8M23nZFxb5tpgeoZOOffGD+Nb1cppf/Ep8danpx4g1GMXsI7bxw4+p6/hXV1pWSUrrZ6mdFtws91p9wUUUVkahRRRQAUUUUAFc34yvZk0+HSbNsX2qSfZ4/wDZT+NvoB/OukrktB/4n3ia+8QNza2+bOx9CB99x9T39CfStaSs3N9P6RjWbaUFu/y6kOtWUPh678MXdsu2C0m+xuf9iQYyfxBP1NdnWH4wsTqHhTUIVH7xY/NTHXcnzDH5Y/Gr2jXw1PRbK9ByZoVdvZscj8805vmpqT6afr/mKCUajiutn+n+ReooorE3CiiigAooooAKKKKACiiigAooooAKKKKACiiigAooooAKa/8Aq2+hp1Nf/Vt9DQBz/gH/AJJ34a/7Bdt/6KWuirnfAP8AyTvw1/2C7b/0UtdFQAUUUUAFFFFABRRRQAUUUUAFFFFABRRRQAUV57qgvtXv/F9wur39k2iqsdiltOY0VxAsxd1HEmS+MNkYWtfWdYu5fhhJq8FyljeT6ekyyEH5HdQcDAJyScDg8kcGgDq6a/8Aq2+hrg/B9zdJ4tuLKQazZW7aesy2WsXJnlkffhpEbc4CjIBG7qR8o79Tq+qXmnlUttC1DUVdCS9q8ChPY+ZIp/IGgCl4B/5J34a/7Bdt/wCilroq53wD/wAk78Nf9gu2/wDRS10VABRRRQAUUUUAcrbf8S34jXcPSLVLRZl9PMT5SPyya6quV8Zf6FPo2tjj7FdhJT6RyfK39Pzrqq1qaqMvL8v+BYxpaSlHzv8Af/wbhRRRWRsFFFFABRRRQAUUUUAFctq/+mePdCtOq20Ut04+o2qfzFdTXLaX/pnxB1u66raQRWqn6/Mf1Fa0tOaXZfnp+pjW15Y92vw1/Q6miiisjYKKKKACiiigAooooAKKKKACiiigDlfGimxGma/GDu065Hm47xP8rf0/OupVgyhlIKkZBHeq2pWMepaZc2Uv3J42jJ9Mjr+FZHgq+ku/DcMM/FzZs1pMD1DJx/LFbP3qafb9TFe7Va7/AJr+kdDRRRWJsFFFFABRRRQBz3jHUZrXSVsbM/6fqLi2gA6jP3m/Ad+2RWrpWnQ6TpdtYQD93AgUH1Pc/icn8a57SP8AioPF15rLfNZ6fm0s/Qv/ABuP5Z9D7V1tbVPdiofNmNP3pOp8l6f8ERlDKVYAgjBB71y/gYm2sL/SHJ3adeSRKD/cJ3Kfxya6muVh/wCJb8SLiPpFqlmsg95I+Mf985NKnrGUfn93/AuFTSUZfL7/APg2OqooorI2CiiigAooooAKKKKACiiigAooooAKKKKACiiigAooooAKa/8Aq2+hp1Nf/Vt9DQBz/gH/AJJ34a/7Bdt/6KWuirnfAP8AyTvw1/2C7b/0UtdFQAUUUUAFFFFABRRRQAUUUUAFFFFABRRRQBzer+C7HV726uGvdQtVvY1ivoLWUKl0ijAD5UkcHblSpI4zVq78M2V/aajZ3M109nepGn2fzcJb7AAvlYHyHIDfUVtUUAYeleGYtN1NtSn1G/1G9MP2dJrx0JjjyGKqEVRyQCTgk4HNbT/6tvoadTX/ANW30NAHP+Af+Sd+Gv8AsF23/opa6Kud8A/8k78Nf9gu2/8ARS10VABRRRQAUUUUAZfiPT/7U8OX9mFy0kJ2D/aHK/qBTfDGof2p4Z0+7Jy7whXP+0vyt+oNa1cr4Q/0G+1zRTwLW7MsQ9I5BkD/AD61rHWm121/T/Ixl7tVPvp+v+Z1VFFFZGwUUUUAFFFFABRRRQAVy3gb/SLLUtSPP26/lkU/7AOB/I1ta5d/YNBv7rODFbuy/XBx+uKqeEbT7F4S0yHGD5CuR7t8x/nWq0pN92v6/IxlrVS7J/1+ZtUUUVkbBRRRQAUUUUAFFFFABRRRQAUUUUAFcpY/8Sjx/fWfSDVIRcxenmLwwHuRk11dct42RrW1sdciUmTTLlZGx1MbHa4/lWtHV8vfT/L8TGtpHn7a/wCf4HU0U2N1ljWRGDIwDKR3Bp1ZGwUUUUAFYPi7VJdO0UxWmTfXji2tlHXe3GfwHP1xW9XJWH/FQ+NLjUD81jpINtb+jTH77fh0/KtaSV+Z7IyrN25Vuze0XS4tG0e20+LBWFMFv7zdSfxOav0UVm227s0SUVZBXK+Mv9Cm0bWhx9ivAsh9I5Plb+n511VZXiWw/tPw1qFoBlnhJQf7Q5X9QKuk0pq5FaLlBpbmrRWV4av/AO1PDen3hOWeFQ5/2hw36g1q1EouLaZcZKSTXUKKKKQwooooAKKKKACiiigAooooAKKKKACiiigAooooAKa/+rb6GnU1/wDVt9DQBz/gH/knfhr/ALBdt/6KWuirnfAP/JO/DX/YLtv/AEUtdFQAUUUUAFFFFABRRRQAUUUUAFFFFABRRRQAUUUUAFNf/Vt9DTqa/wDq2+hoA5/wD/yTvw1/2C7b/wBFLXRVzvgH/knfhr/sF23/AKKWuioAKKKKACiiigArlb3/AIlvxEsLnpFqVs9s/pvT5gfrjArqq5jx1E6aHFqUQzNp1zHcrjqQDgj9f0rWj8fL30Ma/wAHN21/r5HT0UyKVJ4UljO5HUMp9QeRT6yNgooooAKKKKACiiigDmPH0jHwybNDiS9uIrZfqWz/ACBrpY41iiSNBhUAUD0ArmPEf+l+KvDenjkCZ7px6bFyp/PNdTWs9KcV6v8AT9DGGtST9F+v6hRRRWRsFFFFABRRRQAUUUUAFFFFABRRRQAVXvrSO/sLizmH7ueNo2+hGKsUUJ21QmrqzOc8EXck3h5bO4P+k6fI1pKPdDgfpj8q6OuUg/4lHxDuIOlvq8AlT082PggfhzXV1rWXvcy66mdF+7yvpp/XyCiiisjUxPFWrPpOhyPbgteTsILZR1MjcDH06/hVnQNJTRNEtrBSC0a5kb+855Y/nWJD/wAVD44kn+9YaMDHH6PcN94/8BHH1Arra2n7sVD5v9P68zGHvzc/kv1/ryCiiisTYKKKKAOV8Gf6FLrOinj7FeM0Y9I3+Zf6/nXVVysv/Et+JED9ItUs2jPvJHzn/vnArqq1rayUu6/r8TGhpFx7O3+X4BRRRWRsFFFFABRRRQAUUUUAFFFFABRRRQAUUUUAFFFFABTX/wBW30NOpr/6tvoaAOf8A/8AJO/DX/YLtv8A0UtdFXO+Af8Aknfhr/sF23/opa6KgAooooAKKKKACiiigAooooAKKKKACiiigDm9X8aWOkXt1btZahdLZRrLfTWsQdLVGGQXywJ4G7ChiBzitm71OzsdKl1O4uESyiiMzS9RsxnIx1/DrXEaob7SL/xfbrpF/etrSrJYvbQGRGcwLCUdhxHgpnLYGGqbXdIvtS+G9/4VtILr7dY2VtGspXYlwyBHxE56/cxnjBNAHUaTrMuqM+/RtSsEChke8SNRID6BXYg+zAGtJ/8AVt9DXC+FLKGPxZJc6LpF9pej/YNlzHdQPAJbjepUhH5ZgocF++4cmun1fS7zUCr22u6hpyohBS1SBg/ufMjY/kRQBS8A/wDJO/DX/YLtv/RS10Vc74B/5J34a/7Bdt/6KWuioAKKKKACiiigAqvf2iX+nXNnJ9yeJoz+IxViimnZ3QmrqzOd8EXb3XhW1jl4ntS1tIPQocAfliuirldC/wCJd4z13TDwlxtvoR/vcOf++sV1VaVl77a66/eZ0H7iT6afcFFFFZGoUUUUAFFFFAHLW/8ApvxLu5Oq2FgkX0Zzu/lXU1y3g/8A0q98Qan/AM979olPqkYwP511Na1tJW7JGNDWPN3bCiiisjYKKKKACiiigAooooAKKKKACiiigAooooA5fxvC8Wm22sQKTPplws/HUpnDD8sflXSwzJcQRzRNujkUOpHcEZFMuraO8tJrWYZimRo3HsRg1geB7mQ6G+nXBzc6bM9q/uFPyn6Y4/Ctvipen5P+vxMfhq+v5r/gfkdLWR4m1c6LoU9zGN1w2IrdByWkbheO/r+Fa9ck3/FQ+OQv3rDRRk+j3DdP++R+RHvU0opu72Wo6smo2ju9DX8N6QNE0O3s2O6bG+d+u6RuWOe/p+Fa1FFRKTk22XGKilFdAooopFBRRRQBy3jgG2sbDWEHzadeRysR/cJ2sPxyK6gEMoYEEEZBFUtasRqeiXtljJmhZF9mxwfzxVHwhfnUfCmnzMf3ixeU+eu5PlOfyz+NavWkn2f5/wBMxXu1Wu6/L+kblFFFZGwUUUUAFFFFABRRRQAUUUUAFFFFABRRRQAUUE4GT0qnpmqWmr2f2qykMkO9kDFSMkHBxnqPenZ2uK6vYuU1/wDVt9DTqa/+rb6GkM5/wD/yTvw1/wBgu2/9FLXRVzvgH/knfhr/ALBdt/6KWuioAKKKKACiiigAooooAKKKKACiiigAooooAKKKKACmv/q2+hp1Nf8A1bfQ0Ac/4B/5J34a/wCwXbf+ilroq53wD/yTvw1/2C7b/wBFLXRUAFFFFABRRRQAUUUUAcr4h/4l/izQNVHCSSNYzH1DjKfrk11Vc/41smvfCl75eRNABcRkdQUO7j8Aa1tMvV1HS7W9TGJ4lkwO2RnFay1pxfbT9TGHu1JR76/oWqKKKyNgooooAKr39yLLT7m6bpDE0h/AE/0qxXOeOrhrfwffKn+smCwoPUswBH5Zq6ceaaj3IqS5YOXYd4GtjbeD7Df9+VTMxPfcxIP5EV0NQWdstnY29qv3YY1jH0AxU9FSXNJy7hTjywUewUUUVBYUUUUAFFFFABRRRQAUUUUAFFFFABRRRQAVyg/4lHxEI+7b6xb59vOj/wDsf1NdXXM+OLeQaNHqduM3GmTpdJ7gH5h9Mc/hWtH4uV9dP6+ZjW0jzLpr/n+BpeItXXRNDub3G6RV2xJ/ec8KPzqLwvpDaPocUMx3XUpM1y56tI3Jz9On4VjG4j8WeLLNIW36Zpka3Tns8zjKD8Bz+Yrsqc/cgodXq/0FD35ufRaL9f8AIKKKKxNwooooAKKKKACuV8K/6BrWv6OeFiuhcxD/AGJBnA9hj9a6quV1D/iXfELTLvpHqFs9q57bl+ZfxPArWlqpR7r8tTGro4y7P89DqqKKKyNgooooAKKKKACiiigAooooAKKKKACiikZlRSzEBQMknoBQBzfjC+mWzg0exbF/qb+ShH8Cfxt+A/n7VuafYw6Zp9vZW64igQIvvjufc9a5vw0ra5rN74mmB8ps21gCOkSnlvxP9a62tqnupU+2/r/wDGl7zdTvt6f8EKa/+rb6GnU1/wDVt9DWJsc/4B/5J34a/wCwXbf+ilroq53wD/yTvw1/2C7b/wBFLXRUAFFFFABRRRQAUUUUAFFFFABRRRQAUUUUAFFFFABTX/1bfQ06mv8A6tvoaAOf8A/8k78Nf9gu2/8ARS10Vc74B/5J34a/7Bdt/wCilroqACiiigAooooAKKKKAEdFkRkdQysMEHoRXLP4NNgxl8Papdaa2c+ST5sJ/wCAtXVUVcakobETpxnucp/bniHR+NZ0b7XAOt1px3cepQ8/yrV0vxLpGs4WyvY2l7xN8rj/AICea1qydU8NaRrOWvLKNpe0yfK4/wCBDmr5qcviVvT/ACI5akfhd/X/ADNaiuU/sPxFo/Ojaz9rgHS11EbuPQOOf5ClTxmbFxF4g0u60xs487Hmwk/7y0exb+B3/P7g9sl8at+X3nVVy3i7/StS8Pab186+EzD1WMZP866Gzv7TUIRNZ3MU8Z/ijcMP0rnpf9N+JdunVLCwaT6O7Y/lRSTUm30TCs1KKS6tHU0UUVibBRRRQAUUUUAFFFFABRRRQAUUUUAFFFFABRRRQAVHPDHc28sEq7o5EKMPUEYNSUUAY/hvw9b+GtM+xwOZSzl3lYYLE9PyGBWxRRVSk5Pme5MYqKUY7BRRRUlBRRRQAUUUUAFcx47idNCj1GIZl065juVx1IBwR+v6V09VtQs11DTbqzf7s8TRn2yMVdOXLNMirHmg4k0UqTQpLGco6hlPqD0p9c94IvGu/ClmsvE1sDbyA9ihwB+WK6GlOPLJx7BCXPFS7hRRRUlhRRRQAUUUUAFFFFABRRRQAVzHjC7mnjtfD9k2LvU22Mw/5Zwj77flx+ddLJIkMTyyMFjRSzMegA6muW8Kxvq1/e+J7hSPtJ8mzVv4IFPX8Tz/APrrWkrXm+n59DGq72prr+XX/I6WztIbGzhtLddsMKBEHsKmoorJu+pslbRBTX/1bfQ06mv/AKtvoaAOf8A/8k78Nf8AYLtv/RS10Vc74B/5J34a/wCwXbf+ilroqACiiigAooooAKKKKACiiigAooooAKKKKAPPdUF9q9/4vuF1e/sm0VVjsUtpzGiuIFmLuo4kyXxhsjC10Fx4qg03wLb+JNQCoJLWGUx7ggMkgXauTwuWYDJ4HU9Kbq/gux1e9urhr3ULVb2NYr6C1lCpdIowA+VJHB25UqSOM1rW2lxW1xcyCaaSKYRhbaRgYoQi7QI1x8oPU+9AHFeANcW98T+ILSbxLb6tOy286LDdiSNSVPmCFQThFJVePbPJrrtX1+z0crHcw6g7SISDa6fPcAfUxowH40+y0OzsNY1DU4AwnvhGJFONq7AQNuBkZzzya0H/ANW30NAHP+Af+Sd+Gv8AsF23/opa6Kud8A/8k78Nf9gu2/8ARS10VABRRRQAUUUUAFFFFABRRRQAUUUUAFI6LIhR1DKRggjINLRQBzl54J0qac3Nj52mXfaayfy/zXpin+H/AA/d6XqGoXt/qAvri5EaCTy9hCqCOR+X5V0FFaOtNx5WzJUYKXMkFFFFZmoUUUUAFFFFABRRRQAUUUUAFFFFABRRRQAUUUUAFFFFABRRRQAUUUUAFFFFABRRRQAUUUUAcr4e/wCJf4s8QaWeEkkW9iHqHHz/AK4FdVXK61/xL/G+h6iOEuVexlP15Qf99fyrqq1q62l3X/AMaOl49n+eoUUUVkbBRRRQAUUUUAFFFFABRRUdxPFa28txM4SKJS7segAGSaAOZ8XTy38tn4atHKzX7ZnZescA+8fxxj8xXTW8EVrbRW8KBIolCIo7ADAFcz4Rglv5bzxLdoVmv2226t1jgH3R+OM/ka6qtqvu2prp+f8AWhjS969R9fy/rUKKKKxNgpr/AOrb6GnU1/8AVt9DQBz/AIB/5J34a/7Bdt/6KWuirnfAP/JO/DX/AGC7b/0UtdFQAUUUUAFFFFABRRRQAUUUUAFFFFABRRRQAUUUUAFNf/Vt9DTqa/8Aq2+hoA5/wD/yTvw1/wBgu2/9FLXRVzvgH/knfhr/ALBdt/6KWuioAKKKKACiiigAooooAKKKKACiiigAooooAKKKKACiiigAooooAKKKKACiiigAooooAKKKKACiiigAooooAKKKKACiiigAooooAKKKKACiiigAooooA5vx1bPN4XmuIf8AX2UiXUZ9Ch5P5E1vWlyl5ZQXUf8Aq5o1kX6EZFLcwJdWs1vKMxyoyMPYjBrn/As7v4aW0mP7+wmktZPqp4/Qitd6Xo/z/wCGMfhq+q/L/hzpaKKKyNgooooAKKKKACiiigArlPFcj6tf2Xhi2Yg3R868ZeqQKf6nj/8AXXS3d1DY2c11cNthhQu59AK53wfazTx3XiC9XF3qbb1U/wDLOEfcX8ufyral7qdR9NvUxq+81TXXf0/4Ox0sUaQxJFGoSNFCqo6ADoKfRRWJsFFFFABTX/1bfQ06mv8A6tvoaAOf8A/8k78Nf9gu2/8ARS10Vc74B/5J34a/7Bdt/wCilroqACiiigAooooAKKKKACiiigAooooAKKKKACiub1fxpY6Re3Vu1lqF0tlGst9NaxB0tUYZBfLAngbsKGIHOK2bvUEttNa+ihnu02qyR2q73kBIxtGeevXOMc0AW6a/+rb6GsjSPEUOq3tzYSWV5YX1uiSvbXiKGMbEhXBRmUjKsODwRzitd/8AVt9DQBz/AIB/5J34a/7Bdt/6KWuirnfAP/JO/DX/AGC7b/0UtdFQAUUUUAFFFFABRRRQAUUUUAFFFFABRRRQAUUUUAFFFFABRRRQAUUUUAFFFFABRRRQAUUUUAFFFFABRRRQAUUUUAFFFFABRRRQAUUUUAFFFFABRRRQAVyukf8AEu8d61YHiO8jS9iHv91/zP8AKuqrlfEn+geJvD+rDhDM1nKfUSD5c/Q5Na0tbx7r/gmNbS0uz/4B1VFFFZGwUUUUAFFFFABRRVbUL6HTNPnvbhtsUKF2/DsPc9KaTbshNpK7Ob8TM2t6zZeGYWPlNi5vyO0SnhfxP9K6xVVECqAqqMADoBXN+DrGYWc+s3y4vtTfznB/gj/gX8B/P2rpa0qu1oLp+fUypJu83u/y6BRRRWRsFFFFABTX/wBW30NOpr/6tvoaAOf8A/8AJO/DX/YLtv8A0UtdFXO+Af8Aknfhr/sF23/opa6KgAooooAKKKKACiiigAooooAKKKKACiiigDz3VDfaRf8Ai+3XSL+9bWlWSxe2gMiM5gWEo7DiPBTOWwMNW3BqcnhzwvLbHS9SvJtGs4ItsFuzfa22Afusfe56nHHNdPRQBx3guUXl3e6lfJfnWbpE88z6fPbxQxqTshiMqLkLuYk9SSSccAbmr6XeagVe213UNOVEIKWqQMH9z5kbH8iK1aa/+rb6GgDn/AP/ACTvw1/2C7b/ANFLXRVzvgH/AJJ34a/7Bdt/6KWuioAKKKKACiiigAooooAKKKKACiiigAooooAKKKKACiiigAooooAKKKKACiiigAooooAKKKKACiiigAooooAKKKKACiiigAooooAKKKKACiiigAooooAKwPGtk174TvhHnzYVE8ZHUFDu4/AGt+myIssbRuMowKsD3BqoS5ZKXYmceaLj3K2mXq6jpVperjE8SycdsjOKt1y/gV2i0a40uQkyabdSW5z1K5yD+v6V1FOpHlm0iaUuaCbCiiioNAoooJAGScAUAFcjr5PiDxFaeHUObWHF1fkdCo+4h+p5/I9q09U8WaLpVvK8uoW7yopIhjkDOx7DA6Z96g8IabNa6bJqF8P+JhqL/aJyeqg/dX6Adu2TW8E4L2j+X9eRhNqo1TXz9P8AgnRAADAGBRRRWBuFFFFABRRRQAU1/wDVt9DTqa/+rb6GgDn/AAD/AMk78Nf9gu2/9FLXRVzvgH/knfhr/sF23/opa6KgAooooAKKKKACiiigAooooAKKKKACiiigAooooAKa/wDq2+hp1Nf/AFbfQ0Ac/wCAf+Sd+Gv+wXbf+ilroq53wD/yTvw1/wBgu2/9FLXRUAFFFFABRRRQAUUUUAFFFFABRRRQAUUUUAFFFFABRRRQAUUUUAFFFFABRRRQAUUUUAFFFFABRRRQAUUUUAFFFFABRRRQAUUUUAFFFFABRRRQAUUUUAFFFFAHK2f/ABLviLqFv0j1K1S4X03p8pH1xk10lzeWtmm+6uYYE/vSuFH61l654bh1y4tLhru6tJrbcFktn2MVYYIz+H86rW3gXw/BJ5slm11L3kupGkJ+oJx+lbt05JOT1t2OeKqRbUVpfuJceOtAhk8qK7e7m7R2sbSE/Qjj9ah/4STXL3jTPDFyFPSS+kEOP+A9T+ddJb2ltZx+XbW8UCf3YkCj9Kmqeemto/e/8rFclR7yt6L/ADucr9g8Y3//AB86vY6ch/htIDI2Pq39KUeBbO4O7VdQ1HUj3We4IT8AMY/Oupoo9tNfDp6B7CD+LX1Myy8PaPp2DaabbRsOjiMFv++jzWnRRWbk5atmqioqyQUUUUhhRRRQAUUUUAFNf/Vt9DTqa/8Aq2+hoA5/wD/yTvw1/wBgu2/9FLXRVzvgH/knfhr/ALBdt/6KWuioAKKKKACiiigAooooAKKKKACiiigAooooAKKKKACmv/q2+hp1Iw3KQDjIxQBz3gH/AJJ34a/7Bdt/6KWuirj9I0Dxbo2i2Ol2/iDRmgs7dLeMyaRIWKooUZIuBzgegq79i8Z/9B7Q/wDwTy//ACTQB0dFcXr0/jPQ/Dupat/bGhzfYrWS48r+yZV37FLYz9oOM464rQWz8ZlQf7e0Pkf9AeX/AOSaAOkornPsXjP/AKD2h/8Agnl/+SaPsXjP/oPaH/4J5f8A5JoA6Oiuc+xeM/8AoPaH/wCCeX/5Jo+xeM/+g9of/gnl/wDkmgDo6K5z7F4z/wCg9of/AIJ5f/kmj7F4z/6D2h/+CeX/AOSaAOjornPsXjP/AKD2h/8Agnl/+SaPsXjP/oPaH/4J5f8A5JoA6Oiuc+xeM/8AoPaH/wCCeX/5Jo+xeM/+g9of/gnl/wDkmgDo6K5z7F4z/wCg9of/AIJ5f/kms2G48ZzeI73SP7Y0MfZrWC583+yZfm8xpV24+0cY8rrnnd7cgHa0Vzn2Lxn/ANB7Q/8AwTy//JNH2Lxn/wBB7Q//AATy/wDyTQB0dFc59i8Z/wDQe0P/AME8v/yTR9i8Z/8AQe0P/wAE8v8A8k0AdHRXOfYvGf8A0HtD/wDBPL/8k0fYvGf/AEHtD/8ABPL/APJNAHR0Vzn2Lxn/ANB7Q/8AwTy//JNH2Lxn/wBB7Q//AATy/wDyTQB0dFc59i8Z/wDQe0P/AME8v/yTR9i8Z/8AQe0P/wAE8v8A8k0AdHRXOfYvGf8A0HtD/wDBPL/8k1na9P4z0Pw7qWrf2xoc32K1kuPK/smVd+xS2M/aDjOOuKAO0orm1s/GZUH+3tD5H/QHl/8Akml+xeM/+g9of/gnl/8AkmgDo6K5z7F4z/6D2h/+CeX/AOSaPsXjP/oPaH/4J5f/AJJoA6Oiuc+xeM/+g9of/gnl/wDkmj7F4z/6D2h/+CeX/wCSaAOjornPsXjP/oPaH/4J5f8A5Jo+xeM/+g9of/gnl/8AkmgDo6K5z7F4z/6D2h/+CeX/AOSaPsXjP/oPaH/4J5f/AJJoA6Oiuc+xeM/+g9of/gnl/wDkmj7F4z/6D2h/+CeX/wCSaAOjoriobjxnN4jvdI/tjQx9mtYLnzf7Jl+bzGlXbj7Rxjyuued3tzpfYvGf/Qe0P/wTy/8AyTQB0dFc59i8Z/8AQe0P/wAE8v8A8k0fYvGf/Qe0P/wTy/8AyTQB0dFc59i8Z/8AQe0P/wAE8v8A8k0fYvGf/Qe0P/wTy/8AyTQB0dFc59i8Z/8AQe0P/wAE8v8A8k0fYvGf/Qe0P/wTy/8AyTQB0dFc59i8Z/8AQe0P/wAE8v8A8k0fYvGf/Qe0P/wTy/8AyTQB0dFc59i8Z/8AQe0P/wAE8v8A8k0fYvGf/Qe0P/wTy/8AyTQB0dFcXr0/jPQ/Dupat/bGhzfYrWS48r+yZV37FLYz9oOM464rQWz8ZlQf7e0Pkf8AQHl/+SaAOkornPsXjP8A6D2h/wDgnl/+SaPsXjP/AKD2h/8Agnl/+SaAOjornPsXjP8A6D2h/wDgnl/+SaPsXjP/AKD2h/8Agnl/+SaAOjornPsXjP8A6D2h/wDgnl/+SaPsXjP/AKD2h/8Agnl/+SaAOjpr/wCrb6Gue+xeM/8AoPaH/wCCeX/5JpDY+MyCP7e0Pn/qDy//ACTQA7wD/wAk78Nf9gu2/wDRS10VZvh/SzofhzTNJMwmNlaxW/mhdu/YoXOMnGcetaVABRRRQAUUUUAFFFFABRRRQAUUUUAFFFFABRRRQAUUUUAFFFFAGZrWsaXpFqn9qSYjuG8pIhC0zSkgkqEUFm4BzgHirGm6lZ6vp8V9YTrPbS52OuR0OCCDyCCCCDyCK5rxRdQaR4y8O6xqMiw6ZFDd273EnCQyv5ZQsei5COMn1x3qXwGDLp+q3yIy2t9qtxc2u5Su6IkAOAezEMw9Q2e9AHV0UUUAFFFFABRRRQAUUUUAFFFFAEVzcRWlrNc3DiOGFGkkc9FUDJP5VlaV4j0XWL+SGylb7YIg7JNbSQSNGDgMBIqllBPUZHPvWpeXcFhZT3l1KIre3jaWWRuiIoySfoAa4bwr4g0vxh4oGtjVLEyx20kOn6dHcI0yQsyl5ZQDkM2xPl/hA55JwAd/RRRQAUUUUAFFFFABRRRQAUUUUAFV7+e0ttPuJ79o1tI42aZpBlQgHOfbFWK5jxVY65fXumiwsrO90+BzNPb3F20HmSKQY8kRvlQctjjkL6YIBt6VqlnrWmQajp8pltJ13RuUZMjOOjAEdO4q5XG/CyS7k+Hum/areKHbvEflymTem48nKjBzkY56A55wOyoAKKKKACiiigAooooAKKKKACiiigDFh8SaLNrT2NvK8t5u8l5IrWRowy5OxpQuwEc8FuDmtqvGvCLzaTaaBp8Gr38niSPUPI1HTXlYosO9vMYxfdVdvziTqxI5OcV7LQAUUUUAFFFFABRRRQAUUUUAFFFFAGZrWsaXpNui6nJ8tyTEkKwtM8xwSQI1BZuM5wOlT6XqtjrNit5p84mgLFMgFSrA4KspAKkHqCAa5Px7MkGseHZZr9tIhSSctq4AP2c7ABGdwKDfk8uCPk45INWfh0xbQr1gxnjOoztHfFSpvQSD5xB45JI4wvy8ADAoA6+iiigAooooAKKKKACiiigAooooAKKKKACiiigAooooAKKKKACiiigAooooAKKKKACiiigAooooAKKKKACiiigAooooAKKKKACiiigAooooAKKKKACiiigAooooAKKKKACiiigAooooAKKKKACiiigAooooAKKKKACiiigAooooAKKKKACiiigAooooAKKKKACiiigAooooAKKKKACiiigAooooAKKKKACiiigAooooAKKKKACiiigAooooAKKKKACiiigAooooAKKKKACiiigAooooAKKKKACiiigAooooAKKKKACiiigAooooAKKKKACiiigAooooAKKKKACiiigAooooAKKKKACiiigAooooAKKKKACiiigAooooAKKKKACiiigAooooAKKKKACiiigAooooAKKKKACiiigAooooAKKKKACiiigAooooAKKKKACiiigAooooAKKKKACiiigD/9k=\">      </div>\n",
       "    </div>\n",
       "    <div class=\"uk-card lg:col-span-3\">\n",
       "      <div class=\"uk-card-body space-y-6\">\n",
       "        <div class=\"uk-card \">\n",
       "          <div class=\"uk-card-header \">\n",
       "            <div>\n",
       "              <h3 class=\"uk-h3\">Recent Sales</h3>\n",
       "              <p class=\"text-sm uk-text-muted\">You made 265 sales this month.</p>\n",
       "            </div>\n",
       "          </div>\n",
       "          <div class=\"uk-card-body space-y-6\">\n",
       "            <div class=\"space-y-8\">\n",
       "              <div class=\"flex items-center\">\n",
       "<span class=\"relative flex h-9 w-9 shrink-0 overflow-hidden rounded-full bg-accent\"><img alt=\"Avatar\" src=\"https://api.dicebear.com/8.x/lorelei/svg?seed=Olivia Martin\" class=\"aspect-square h-full w-full\"></span>                <div class=\"ml-4 space-y-1\">\n",
       "                  <p class=\"text-sm font-medium\">Olivia Martin</p>\n",
       "                  <p class=\"text-sm uk-text-muted\">olivia.martin@email.com</p>\n",
       "                </div>\n",
       "                <div class=\"ml-auto font-medium\">+$1,999.00</div>\n",
       "              </div>\n",
       "              <div class=\"flex items-center\">\n",
       "<span class=\"relative flex h-9 w-9 shrink-0 overflow-hidden rounded-full bg-accent\"><img alt=\"Avatar\" src=\"https://api.dicebear.com/8.x/lorelei/svg?seed=Jackson Lee\" class=\"aspect-square h-full w-full\"></span>                <div class=\"ml-4 space-y-1\">\n",
       "                  <p class=\"text-sm font-medium\">Jackson Lee</p>\n",
       "                  <p class=\"text-sm uk-text-muted\">jackson.lee@email.com</p>\n",
       "                </div>\n",
       "                <div class=\"ml-auto font-medium\">+$39.00</div>\n",
       "              </div>\n",
       "              <div class=\"flex items-center\">\n",
       "<span class=\"relative flex h-9 w-9 shrink-0 overflow-hidden rounded-full bg-accent\"><img alt=\"Avatar\" src=\"https://api.dicebear.com/8.x/lorelei/svg?seed=Isabella Nguyen\" class=\"aspect-square h-full w-full\"></span>                <div class=\"ml-4 space-y-1\">\n",
       "                  <p class=\"text-sm font-medium\">Isabella Nguyen</p>\n",
       "                  <p class=\"text-sm uk-text-muted\">isabella.nguyen@email.com</p>\n",
       "                </div>\n",
       "                <div class=\"ml-auto font-medium\">+$299.00</div>\n",
       "              </div>\n",
       "              <div class=\"flex items-center\">\n",
       "<span class=\"relative flex h-9 w-9 shrink-0 overflow-hidden rounded-full bg-accent\"><img alt=\"Avatar\" src=\"https://api.dicebear.com/8.x/lorelei/svg?seed=William Kim\" class=\"aspect-square h-full w-full\"></span>                <div class=\"ml-4 space-y-1\">\n",
       "                  <p class=\"text-sm font-medium\">William Kim</p>\n",
       "                  <p class=\"text-sm uk-text-muted\">will@email.com</p>\n",
       "                </div>\n",
       "                <div class=\"ml-auto font-medium\">+$99.00</div>\n",
       "              </div>\n",
       "              <div class=\"flex items-center\">\n",
       "<span class=\"relative flex h-9 w-9 shrink-0 overflow-hidden rounded-full bg-accent\"><img alt=\"Avatar\" src=\"https://api.dicebear.com/8.x/lorelei/svg?seed=Sofia Davis\" class=\"aspect-square h-full w-full\"></span>                <div class=\"ml-4 space-y-1\">\n",
       "                  <p class=\"text-sm font-medium\">Sofia Davis</p>\n",
       "                  <p class=\"text-sm uk-text-muted\">sofia.davis@email.com</p>\n",
       "                </div>\n",
       "                <div class=\"ml-auto font-medium\">+$39.00</div>\n",
       "              </div>\n",
       "            </div>\n",
       "          </div>\n",
       "        </div>\n",
       "      </div>\n",
       "    </div>\n",
       "  </div>\n",
       "</div>\n"
      ],
      "text/plain": [
       "<IPython.core.display.HTML object>"
      ]
     },
     "execution_count": 38,
     "metadata": {},
     "output_type": "execute_result"
    }
   ],
   "source": [
    "show(page())"
   ]
  },
  {
   "cell_type": "code",
   "execution_count": 39,
   "id": "22a8233b",
   "metadata": {},
   "outputs": [],
   "source": [
    "#| exports\n",
    "dashboard_homepage = page()"
   ]
  },
  {
   "cell_type": "code",
   "execution_count": 53,
   "id": "1992630d",
   "metadata": {},
   "outputs": [],
   "source": [
    "#| hide\n",
    "import nbdev; nbdev.nbdev_export()"
   ]
  },
  {
   "cell_type": "code",
   "execution_count": null,
   "id": "a5110781",
   "metadata": {},
   "outputs": [],
   "source": []
  },
  {
   "cell_type": "code",
   "execution_count": null,
   "id": "fd080e09",
   "metadata": {},
   "outputs": [],
   "source": []
  }
 ],
 "metadata": {
  "kernelspec": {
   "display_name": "Python 3 (ipykernel)",
   "language": "python",
   "name": "python3"
  },
  "language_info": {
   "codemirror_mode": {
    "name": "ipython",
    "version": 3
   },
   "file_extension": ".py",
   "mimetype": "text/x-python",
   "name": "python",
   "nbconvert_exporter": "python",
   "pygments_lexer": "ipython3",
   "version": "3.12.4"
  },
  "toc": {
   "base_numbering": 1,
   "nav_menu": {},
   "number_sections": true,
   "sideBar": true,
   "skip_h1_title": false,
   "title_cell": "Table of Contents",
   "title_sidebar": "Contents",
   "toc_cell": false,
   "toc_position": {},
   "toc_section_display": true,
   "toc_window_display": false
  }
 },
 "nbformat": 4,
 "nbformat_minor": 5
}
