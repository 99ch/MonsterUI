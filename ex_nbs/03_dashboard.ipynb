{
 "cells": [
  {
   "cell_type": "markdown",
   "id": "bd49724c",
   "metadata": {},
   "source": [
    "# Dashboard\n",
    "\n",
    "> FrankenUI Dashboard Example"
   ]
  },
  {
   "cell_type": "code",
   "execution_count": 1,
   "id": "04abc944",
   "metadata": {},
   "outputs": [],
   "source": [
    "#| default_exp dashboard"
   ]
  },
  {
   "cell_type": "code",
   "execution_count": 2,
   "id": "cef92ebb",
   "metadata": {},
   "outputs": [],
   "source": [
    "#| export\n",
    "from fasthtml.common import *\n",
    "from fh_frankenui.components import *\n",
    "from fasthtml.svg import *\n",
    "from fh_matplotlib import matplotlib2fasthtml\n",
    "import numpy as np\n",
    "import matplotlib.pylab as plt"
   ]
  },
  {
   "cell_type": "code",
   "execution_count": 3,
   "id": "02ad7e62",
   "metadata": {},
   "outputs": [],
   "source": [
    "#| hide\n",
    "from nbdev.showdoc import *"
   ]
  },
  {
   "cell_type": "code",
   "execution_count": 4,
   "id": "f0f5477a",
   "metadata": {},
   "outputs": [
    {
     "data": {
      "text/html": [
       "<script src=\"https://cdn.tailwindcss.com\"></script>\n",
       "<script src=\"https://cdn.jsdelivr.net/npm/uikit@3.21.6/dist/js/uikit.min.js\"></script>\n",
       "<script src=\"https://cdn.jsdelivr.net/npm/uikit@3.21.6/dist/js/uikit-icons.min.js\"></script>\n",
       "<script type=\"module\" src=\"https://unpkg.com/franken-wc@0.0.6/dist/js/wc.iife.js\"></script>\n",
       "<link rel=\"stylesheet\" href=\"https://unpkg.com/franken-wc@0.0.6/dist/css/blue.min.css\">\n",
       "\n",
       "<style>\n",
       "#notebook-container { max-width: none; }\n",
       ".output_html * { list-style-type: none !important; }\n",
       "</style>\n"
      ],
      "text/plain": [
       "<IPython.core.display.HTML object>"
      ]
     },
     "metadata": {},
     "output_type": "display_data"
    }
   ],
   "source": [
    "%%html\n",
    "<script src=\"https://cdn.tailwindcss.com\"></script>\n",
    "<script src=\"https://cdn.jsdelivr.net/npm/uikit@3.21.6/dist/js/uikit.min.js\"></script>\n",
    "<script src=\"https://cdn.jsdelivr.net/npm/uikit@3.21.6/dist/js/uikit-icons.min.js\"></script>\n",
    "<script type=\"module\" src=\"https://unpkg.com/franken-wc@0.0.6/dist/js/wc.iife.js\"></script>\n",
    "<link rel=\"stylesheet\" href=\"https://unpkg.com/franken-wc@0.0.6/dist/css/blue.min.css\">\n",
    "\n",
    "<style>\n",
    "#notebook-container { max-width: none; }\n",
    ".output_html * { list-style-type: none !important; }\n",
    "</style>"
   ]
  },
  {
   "cell_type": "code",
   "execution_count": 20,
   "id": "19ba6675",
   "metadata": {},
   "outputs": [],
   "source": [
    "from httpx import get\n",
    "fh_frankenui = open(\"../fh_frankenui/components.py\").read().strip()\n",
    "\n",
    "url = 'https://raw.githubusercontent.com/franken-ui/examples/master/src/pages/dashboard.astro'\n",
    "dashboard = get(url).text\n",
    "\n",
    "url = 'https://raw.githubusercontent.com/franken-ui/examples/master/src/pages/cards.astro'\n",
    "cards = get(url).text\n",
    "\n",
    "url = 'https://github.com/AnswerDotAI/fh-frankenui-examples/blob/main/fh_frankenui_examples/cards.py'\n",
    "cards_in_python = get(url).text\n",
    "\n",
    "url = 'https://github.com/AnswerDotAI/fh-frankenui-examples/blob/main/fh_frankenui_examples/tasks.py'\n",
    "tasks_in_python = get(url).text\n",
    "\n",
    "url = 'https://raw.githubusercontent.com/AnswerDotAI/fasthtml/main/examples/adv_app.py'\n",
    "idiomatic_fasthtml_app = get(url).text\n"
   ]
  },
  {
   "cell_type": "code",
   "execution_count": 23,
   "id": "d382f5d5",
   "metadata": {},
   "outputs": [],
   "source": [
    "%%ai -c\n",
    "\n",
    "I am implementing FrankenUI for FastHTML by reimplementing the FrankenUI examples from their docs in a python library.  I am doing this by building a library as I go, `fh_frankenui`.\n",
    "\n",
    "Reference the `idiomatic_fasthtml_app` to get a feel for fasthtml.\n",
    "\n",
    "I previously did their `cards` example, and the python implementation looked like `cards_in_python`.\n",
    "\n",
    "Now, I am looking to do the same with their `dashboard` example.\n",
    "\n",
    "The goal is to develop the work-in-progress `fh_frankenui` library, so please use `fh_frankenui` as much as makes sense and recommend functions or improvements to `fh_frankenui` when it fits.\n",
    "\n",
    "Please read all this information and confirm that you understand what I want to do by giving me a brief overview in your own words.  \n"
   ]
  },
  {
   "cell_type": "markdown",
   "id": "58b0b7db",
   "metadata": {},
   "source": [
    "You're developing a Python library called `fh_frankenui` to implement FrankenUI components for FastHTML. Your approach involves recreating FrankenUI examples from their documentation in Python, gradually building up the library.\n",
    "\n",
    "You've already implemented the 'cards' example and now want to tackle the 'dashboard' example. Your goal is to create a Python equivalent of the FrankenUI dashboard, utilizing and expanding the `fh_frankenui` library as needed.\n",
    "\n",
    "You're looking for guidance on how to implement the dashboard example in Python, similar to how you did the cards example. You want to leverage existing `fh_frankenui` components where possible and identify areas where new functions or improvements to the library would be beneficial.\n",
    "\n",
    "The process involves translating the HTML/JavaScript-based FrankenUI components into Python code that generates equivalent FastHTML structures, ensuring the resulting dashboard maintains the functionality and appearance of the original FrankenUI example."
   ]
  },
  {
   "cell_type": "code",
   "execution_count": 24,
   "id": "b8ed7a67",
   "metadata": {},
   "outputs": [],
   "source": [
    "%%aip 0\n",
    "\n",
    "I want a flexible function that can generate the top row of cards that all share the same general format"
   ]
  },
  {
   "cell_type": "code",
   "execution_count": 25,
   "id": "275f3643",
   "metadata": {},
   "outputs": [],
   "source": [
    "#| exports\n",
    "def InfoCard(title, value, change):\n",
    "    return Card(\n",
    "             Div(UkH3(value),\n",
    "                P(change, cls=TextT.muted_sm)),\n",
    "             header = UkH4(title),)"
   ]
  },
  {
   "cell_type": "code",
   "execution_count": 26,
   "id": "45c602c4",
   "metadata": {},
   "outputs": [],
   "source": [
    "%%aip 0\n",
    "Use the `InfoCard` function to create the top row of cards - each one in a variable (rev,sub,sal,act)."
   ]
  },
  {
   "cell_type": "code",
   "execution_count": 27,
   "id": "745555dc",
   "metadata": {},
   "outputs": [],
   "source": [
    "#| exports\n",
    "rev = InfoCard(\"Total Revenue\", \"$45,231.89\", \"+20.1% from last month\")\n",
    "sub = InfoCard(\"Subscriptions\", \"+2350\", \"+180.1% from last month\")\n",
    "sal = InfoCard(\"Sales\", \"+12,234\", \"+19% from last month\")\n",
    "act = InfoCard(\"Active Now\", \"+573\", \"+201 since last hour\")"
   ]
  },
  {
   "cell_type": "code",
   "execution_count": 28,
   "id": "96867f4f",
   "metadata": {},
   "outputs": [],
   "source": [
    "#| exports\n",
    "top_info_row = Div(cls='grid grid-cols-2 gap-4 lg:grid-cols-4')(rev,sub,sal,act)"
   ]
  },
  {
   "cell_type": "code",
   "execution_count": 29,
   "id": "76a4a138",
   "metadata": {},
   "outputs": [
    {
     "data": {
      "text/html": [
       "<div class=\"grid grid-cols-2 gap-4 lg:grid-cols-4\">\n",
       "  <div class=\"uk-card \">\n",
       "    <div class=\"uk-card-header \">\n",
       "      <h4 class=\"uk-h4\">Total Revenue</h4>\n",
       "    </div>\n",
       "    <div class=\"uk-card-body space-y-6\">\n",
       "      <div>\n",
       "        <h3 class=\"uk-h3\">$45,231.89</h3>\n",
       "        <p class=\"text-sm uk-text-muted\">+20.1% from last month</p>\n",
       "      </div>\n",
       "    </div>\n",
       "  </div>\n",
       "  <div class=\"uk-card \">\n",
       "    <div class=\"uk-card-header \">\n",
       "      <h4 class=\"uk-h4\">Subscriptions</h4>\n",
       "    </div>\n",
       "    <div class=\"uk-card-body space-y-6\">\n",
       "      <div>\n",
       "        <h3 class=\"uk-h3\">+2350</h3>\n",
       "        <p class=\"text-sm uk-text-muted\">+180.1% from last month</p>\n",
       "      </div>\n",
       "    </div>\n",
       "  </div>\n",
       "  <div class=\"uk-card \">\n",
       "    <div class=\"uk-card-header \">\n",
       "      <h4 class=\"uk-h4\">Sales</h4>\n",
       "    </div>\n",
       "    <div class=\"uk-card-body space-y-6\">\n",
       "      <div>\n",
       "        <h3 class=\"uk-h3\">+12,234</h3>\n",
       "        <p class=\"text-sm uk-text-muted\">+19% from last month</p>\n",
       "      </div>\n",
       "    </div>\n",
       "  </div>\n",
       "  <div class=\"uk-card \">\n",
       "    <div class=\"uk-card-header \">\n",
       "      <h4 class=\"uk-h4\">Active Now</h4>\n",
       "    </div>\n",
       "    <div class=\"uk-card-body space-y-6\">\n",
       "      <div>\n",
       "        <h3 class=\"uk-h3\">+573</h3>\n",
       "        <p class=\"text-sm uk-text-muted\">+201 since last hour</p>\n",
       "      </div>\n",
       "    </div>\n",
       "  </div>\n",
       "</div>\n"
      ],
      "text/plain": [
       "<IPython.core.display.HTML object>"
      ]
     },
     "execution_count": 29,
     "metadata": {},
     "output_type": "execute_result"
    }
   ],
   "source": [
    "show(top_info_row)"
   ]
  },
  {
   "cell_type": "code",
   "execution_count": 30,
   "id": "ee500a1b",
   "metadata": {},
   "outputs": [],
   "source": [
    "%%aip 0\n",
    "\n",
    "Let's create the card with the avatars next.  Be sure to reference similar examples from `cards_in_python` to make it as simple as possible.\n",
    "\n",
    "I don't need an exact recreation so if UkH3 or UkH4 is close enough (like I did previously) then that's fine"
   ]
  },
  {
   "cell_type": "code",
   "execution_count": 31,
   "id": "d518a3e0",
   "metadata": {},
   "outputs": [
    {
     "data": {
      "text/html": [
       "<span class=\"relative flex h-12 w-12 shrink-0 overflow-hidden rounded-full bg-accent\"><img alt=\"Avatar\" src=\"https://api.dicebear.com/8.x/lorelei/svg?seed=Isaac Flath\" class=\"aspect-square h-full w-full\"></span>"
      ],
      "text/plain": [
       "<IPython.core.display.HTML object>"
      ]
     },
     "execution_count": 31,
     "metadata": {},
     "output_type": "execute_result"
    }
   ],
   "source": [
    "#| export\n",
    "def DiceBearAvatar(seed_name, h, w):\n",
    "    # Number that work can be found here (not all numbers work): https://tailwindcss.com/docs/height\n",
    "    return Span(cls=f\"relative flex h-{h} w-{w} shrink-0 overflow-hidden rounded-full bg-accent\")(\n",
    "            Img(cls=\"aspect-square h-full w-full\", alt=\"Avatar\", src=f\"https://api.dicebear.com/8.x/lorelei/svg?seed={seed_name}\"))\n",
    "    \n",
    "show(DiceBearAvatar('Isaac Flath', 12,12))"
   ]
  },
  {
   "cell_type": "code",
   "execution_count": 32,
   "id": "98b733c2",
   "metadata": {},
   "outputs": [],
   "source": [
    "#| exports\n",
    "def AvatarItem(name, email, amount):\n",
    "    return Div(cls=\"flex items-center\")(\n",
    "        DiceBearAvatar(name, 9,9),\n",
    "        Div(cls=\"ml-4 space-y-1\")(\n",
    "            P(name, cls=TextT.medium_sm),\n",
    "            P(email, cls=TextT.muted_sm)),\n",
    "        Div(amount, cls=\"ml-auto font-medium\"))\n",
    "\n",
    "recent_sales = Card(\n",
    "    Div(cls=\"space-y-8\")(\n",
    "        *[AvatarItem(n,e,d) for (n,e,d) in (\n",
    "            (\"Olivia Martin\",   \"olivia.martin@email.com\",   \"+$1,999.00\"),\n",
    "            (\"Jackson Lee\",     \"jackson.lee@email.com\",     \"+$39.00\"),\n",
    "            (\"Isabella Nguyen\", \"isabella.nguyen@email.com\", \"+$299.00\"),\n",
    "            (\"William Kim\",     \"will@email.com\",            \"+$99.00\"),\n",
    "            (\"Sofia Davis\",     \"sofia.davis@email.com\",     \"+$39.00\"))]),\n",
    "    header=Div(\n",
    "        UkH3(\"Recent Sales\"),\n",
    "        P(\"You made 265 sales this month.\", cls=TextT.muted_sm)))"
   ]
  },
  {
   "cell_type": "code",
   "execution_count": 33,
   "id": "1e9fff9f",
   "metadata": {},
   "outputs": [
    {
     "data": {
      "text/html": [
       "<div class=\"uk-card \">\n",
       "  <div class=\"uk-card-header \">\n",
       "    <div>\n",
       "      <h3 class=\"uk-h3\">Recent Sales</h3>\n",
       "      <p class=\"text-sm uk-text-muted\">You made 265 sales this month.</p>\n",
       "    </div>\n",
       "  </div>\n",
       "  <div class=\"uk-card-body space-y-6\">\n",
       "    <div class=\"space-y-8\">\n",
       "      <div class=\"flex items-center\">\n",
       "<span class=\"relative flex h-9 w-9 shrink-0 overflow-hidden rounded-full bg-accent\"><img alt=\"Avatar\" src=\"https://api.dicebear.com/8.x/lorelei/svg?seed=Olivia Martin\" class=\"aspect-square h-full w-full\"></span>        <div class=\"ml-4 space-y-1\">\n",
       "          <p class=\"text-sm font-medium\">Olivia Martin</p>\n",
       "          <p class=\"text-sm uk-text-muted\">olivia.martin@email.com</p>\n",
       "        </div>\n",
       "        <div class=\"ml-auto font-medium\">+$1,999.00</div>\n",
       "      </div>\n",
       "      <div class=\"flex items-center\">\n",
       "<span class=\"relative flex h-9 w-9 shrink-0 overflow-hidden rounded-full bg-accent\"><img alt=\"Avatar\" src=\"https://api.dicebear.com/8.x/lorelei/svg?seed=Jackson Lee\" class=\"aspect-square h-full w-full\"></span>        <div class=\"ml-4 space-y-1\">\n",
       "          <p class=\"text-sm font-medium\">Jackson Lee</p>\n",
       "          <p class=\"text-sm uk-text-muted\">jackson.lee@email.com</p>\n",
       "        </div>\n",
       "        <div class=\"ml-auto font-medium\">+$39.00</div>\n",
       "      </div>\n",
       "      <div class=\"flex items-center\">\n",
       "<span class=\"relative flex h-9 w-9 shrink-0 overflow-hidden rounded-full bg-accent\"><img alt=\"Avatar\" src=\"https://api.dicebear.com/8.x/lorelei/svg?seed=Isabella Nguyen\" class=\"aspect-square h-full w-full\"></span>        <div class=\"ml-4 space-y-1\">\n",
       "          <p class=\"text-sm font-medium\">Isabella Nguyen</p>\n",
       "          <p class=\"text-sm uk-text-muted\">isabella.nguyen@email.com</p>\n",
       "        </div>\n",
       "        <div class=\"ml-auto font-medium\">+$299.00</div>\n",
       "      </div>\n",
       "      <div class=\"flex items-center\">\n",
       "<span class=\"relative flex h-9 w-9 shrink-0 overflow-hidden rounded-full bg-accent\"><img alt=\"Avatar\" src=\"https://api.dicebear.com/8.x/lorelei/svg?seed=William Kim\" class=\"aspect-square h-full w-full\"></span>        <div class=\"ml-4 space-y-1\">\n",
       "          <p class=\"text-sm font-medium\">William Kim</p>\n",
       "          <p class=\"text-sm uk-text-muted\">will@email.com</p>\n",
       "        </div>\n",
       "        <div class=\"ml-auto font-medium\">+$99.00</div>\n",
       "      </div>\n",
       "      <div class=\"flex items-center\">\n",
       "<span class=\"relative flex h-9 w-9 shrink-0 overflow-hidden rounded-full bg-accent\"><img alt=\"Avatar\" src=\"https://api.dicebear.com/8.x/lorelei/svg?seed=Sofia Davis\" class=\"aspect-square h-full w-full\"></span>        <div class=\"ml-4 space-y-1\">\n",
       "          <p class=\"text-sm font-medium\">Sofia Davis</p>\n",
       "          <p class=\"text-sm uk-text-muted\">sofia.davis@email.com</p>\n",
       "        </div>\n",
       "        <div class=\"ml-auto font-medium\">+$39.00</div>\n",
       "      </div>\n",
       "    </div>\n",
       "  </div>\n",
       "</div>\n"
      ],
      "text/plain": [
       "<IPython.core.display.HTML object>"
      ]
     },
     "execution_count": 33,
     "metadata": {},
     "output_type": "execute_result"
    }
   ],
   "source": [
    "show(recent_sales)"
   ]
  },
  {
   "cell_type": "code",
   "execution_count": 34,
   "id": "3767a677",
   "metadata": {},
   "outputs": [],
   "source": [
    "#| exports\n",
    "@matplotlib2fasthtml\n",
    "def generate_chart(num_points):\n",
    "    plotdata = [np.random.exponential(1) for _ in range(num_points)]\n",
    "    plt.plot(range(len(plotdata)), plotdata)"
   ]
  },
  {
   "cell_type": "code",
   "execution_count": 35,
   "id": "d7a93876",
   "metadata": {},
   "outputs": [
    {
     "data": {
      "text/html": [
       "<img src=\"data:image/jpg;base64, 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\">"
      ],
      "text/plain": [
       "<IPython.core.display.HTML object>"
      ]
     },
     "execution_count": 35,
     "metadata": {},
     "output_type": "execute_result"
    }
   ],
   "source": [
    "show(generate_chart(10))"
   ]
  },
  {
   "cell_type": "code",
   "execution_count": 37,
   "id": "12f0df9e",
   "metadata": {},
   "outputs": [],
   "source": [
    "%%aip 0\n",
    "Now let's make the top navigation section with \"Overview\", \"Analytics\", \"Reports\", \"Notifications\" tables that use their own functions"
   ]
  },
  {
   "cell_type": "code",
   "execution_count": 38,
   "id": "a9290026",
   "metadata": {},
   "outputs": [
    {
     "data": {
      "text/html": [
       "<ul class=\"uk-tab-alt max-w-96\">\n",
       "  <li class=\" \">\n",
       "<a href=\"#demo\" uk-toggle>Overview</a>  </li>\n",
       "  <li class=\" \">\n",
       "<a href=\"#demo\" uk-toggle>Analytics</a>  </li>\n",
       "  <li class=\" \">\n",
       "<a href=\"#demo\" uk-toggle>Reports</a>  </li>\n",
       "  <li class=\" \">\n",
       "<a href=\"#demo\" uk-toggle>Notifications</a>  </li>\n",
       "</ul>\n"
      ],
      "text/plain": [
       "<IPython.core.display.HTML object>"
      ]
     },
     "execution_count": 38,
     "metadata": {},
     "output_type": "execute_result"
    }
   ],
   "source": [
    "#| exports\n",
    "def NavTab(text, active=False):\n",
    "    return Li(cls=\"uk-active\" if active else \" \")(\n",
    "        A(text, href=\"#demo\", uk_toggle=True))\n",
    "\n",
    "def UkTab(*items):\n",
    "    return Ul(cls=\"uk-tab-alt max-w-96\")(\n",
    "        *[NavTab(item) for i, item in enumerate(items)])\n",
    "\n",
    "db_nav = UkTab(\"Overview\", \"Analytics\", \"Reports\", \"Notifications\")\n",
    "show(db_nav)"
   ]
  },
  {
   "cell_type": "code",
   "execution_count": 39,
   "id": "7fc67843",
   "metadata": {},
   "outputs": [],
   "source": [
    "%%aip 0\n",
    "Now let's make the top navigation section with \"Overview\", \"Customers\", \"products\", \"Settings\" tabs that use their own functions, with the name/teams dropdown too\n",
    "\n",
    "For the dropdown use either `UkDropdownButton` or `UkSelect` - remember it doesn't need to perfectly match - just look pretty decent and be very simple code."
   ]
  },
  {
   "cell_type": "code",
   "execution_count": 40,
   "id": "c9f74172",
   "metadata": {},
   "outputs": [],
   "source": [
    "#| exports\n",
    "def UkNavBar(*items):\n",
    "    return Ul(cls=\"uk-navbar-nav gap-x-4 lg:gap-x-6\")(\n",
    "        *[NavTab(item) for i, item in enumerate(items)])\n",
    "\n",
    "team_dropdown = UkDropdownButton(\"Alicia Koch\", options = (\"Alicia Koch\",\"Acme Inc\",\"Monster Inc.\",\"Create a Team\"))"
   ]
  },
  {
   "cell_type": "code",
   "execution_count": 41,
   "id": "25e198f8",
   "metadata": {},
   "outputs": [],
   "source": [
    "top_nav = Div(cls=\"uk-navbar-left gap-x-4 lg:gap-x-6\")(\n",
    "    team_dropdown,\n",
    "    UkNavBar(\"Overview\", \"Customers\", \"Products\", \"Settings\"),\n",
    "    UkInput(placeholder='Search'),)"
   ]
  },
  {
   "cell_type": "code",
   "execution_count": 42,
   "id": "84495599",
   "metadata": {},
   "outputs": [
    {
     "data": {
      "text/html": [
       "<div class=\"uk-navbar-left gap-x-4 lg:gap-x-6\">\n",
       "  <div>\n",
       "    <div class=\"flex items-center space-x-4\">\n",
       "<button type=\"button\" class=\"uk-button uk-button-default\">Alicia Koch<span uk-icon=\"icon: triangle-down\"></span></button>      <div uk-drop=\"mode: click; pos: bottom-right\" class=\"uk-dropdown uk-drop\">\n",
       "        <ul class=\"uk-dropdown-nav\">\n",
       "          <li class=\"uk-nav-divider\"></li>\n",
       "          <li>Alicia Koch</li>\n",
       "          <li>Acme Inc</li>\n",
       "          <li>Monster Inc.</li>\n",
       "          <li>Create a Team</li>\n",
       "        </ul>\n",
       "      </div>\n",
       "    </div>\n",
       "  </div>\n",
       "  <ul class=\"uk-navbar-nav gap-x-4 lg:gap-x-6\">\n",
       "    <li class=\" \">\n",
       "<a href=\"#demo\" uk-toggle>Overview</a>    </li>\n",
       "    <li class=\" \">\n",
       "<a href=\"#demo\" uk-toggle>Customers</a>    </li>\n",
       "    <li class=\" \">\n",
       "<a href=\"#demo\" uk-toggle>Products</a>    </li>\n",
       "    <li class=\" \">\n",
       "<a href=\"#demo\" uk-toggle>Settings</a>    </li>\n",
       "  </ul>\n",
       "  <div class=\"space-y-2\">\n",
       "    <input placeholder=\"Search\" class=\"uk-input\">\n",
       "  </div>\n",
       "</div>\n"
      ],
      "text/plain": [
       "<IPython.core.display.HTML object>"
      ]
     },
     "execution_count": 42,
     "metadata": {},
     "output_type": "execute_result"
    }
   ],
   "source": [
    "show(top_nav)"
   ]
  },
  {
   "cell_type": "code",
   "execution_count": 47,
   "id": "70ad5ccd",
   "metadata": {},
   "outputs": [],
   "source": [
    "%%aip\n",
    "\n",
    "Can you write the top navbar to use $`UkNavbar`\n",
    "\n",
    "Just do the \"Alicia Koch\" dropdown for now"
   ]
  },
  {
   "cell_type": "code",
   "execution_count": 49,
   "id": "0a212fc4",
   "metadata": {},
   "outputs": [],
   "source": [
    "UkNavbar??"
   ]
  },
  {
   "cell_type": "code",
   "execution_count": 56,
   "id": "814183ac",
   "metadata": {},
   "outputs": [
    {
     "data": {
      "text/html": [
       "<div uk-navbar class=\"uk-navbar-container uk-width-1-1 z-10\">\n",
       "  <div class=\"uk-navbar-left\">\n",
       "    <ul class=\"uk-navbar-nav\">\n",
       "      <li>\n",
       "<a href=\"#\">header</a>        <div class=\"uk-navbar-dropdown\">\n",
       "          <ul class=\"uk-nav uk-navbar-dropdown-nav\">\n",
       "            <li>\n",
       "<a href=\"#\">Alicia Koch</a>            </li>\n",
       "          </ul>\n",
       "        </div>\n",
       "      </li>\n",
       "    </ul>\n",
       "  </div>\n",
       "</div>\n"
      ],
      "text/plain": [
       "<IPython.core.display.HTML object>"
      ]
     },
     "execution_count": 56,
     "metadata": {},
     "output_type": "execute_result"
    }
   ],
   "source": [
    "#| exports\n",
    "headers = UkNavbar(lnav=(\n",
    "    UkNavbarDropdown(*map(lambda x: A(x,href='#'), [\"Alicia Koch\"]), label=\"header\")\n",
    "))\n",
    "show(headers)"
   ]
  },
  {
   "cell_type": "code",
   "execution_count": null,
   "id": "2cefa41a",
   "metadata": {},
   "outputs": [],
   "source": []
  },
  {
   "cell_type": "code",
   "execution_count": 115,
   "id": "6ca923da",
   "metadata": {},
   "outputs": [
    {
     "data": {
      "text/html": [
       "<divdiv>\n",
       "  <div class=\"flex items-center space-x-4\">\n",
       "<button type=\"button\" class=\"uk-button uk-button-default\"><a href=\"#\" class=\"h-8 w-8 inline-flex rounded-full bg-accent ring-ring\"><img src=\"https://api.dicebear.com/8.x/lorelei/svg?seed=Alicia Koch\"></a><span uk-icon=\"icon: triangle-down\"></span></button>    <div uk-drop=\"mode: click; pos: bottom-right\" class=\"uk-dropdown uk-drop\">\n",
       "      <ul class=\"uk-dropdown-nav\">\n",
       "        <li class=\"uk-nav-divider\"></li>\n",
       "        <li>\n",
       "<a href=\"#demo\" uk-toggle role=\"button\" class=\"uk-drop-close w-full \">            <div class=\"flex flex-col space-y-1\">\n",
       "              <p>Alicia Koch</p>\n",
       "              <p class=\"text-sm uk-text-muted\">alicia@example.com</p>\n",
       "            </div>\n",
       "</a><a href=\"#demo\" uk-toggle role=\"button\" class=\"uk-drop-close w-full \">Profile⇧⌘P</a><a href=\"#demo\" uk-toggle role=\"button\" class=\"uk-drop-close w-full \">Billing⌘B</a><a href=\"#demo\" uk-toggle role=\"button\" class=\"uk-drop-close w-full \">Settings⌘S</a><a href=\"#demo\" uk-toggle role=\"button\" class=\"uk-drop-close w-full \">New Team</a><a href=\"#demo\" uk-toggle role=\"button\" class=\"uk-drop-close w-full \">Logout</a>        </li>\n",
       "      </ul>\n",
       "    </div>\n",
       "  </div>\n",
       "</div>\n"
      ],
      "text/plain": [
       "<IPython.core.display.HTML object>"
      ]
     },
     "execution_count": 115,
     "metadata": {},
     "output_type": "execute_result"
    }
   ],
   "source": [
    "#| exports\n",
    "hotkeys = (('Profile','⇧⌘P'), ('Billing','⌘B'), ('Settings','⌘S'), ('New Team',''), ('Logout',''))\n",
    "user = (Div(cls='flex flex-col space-y-1')(P('Alicia Koch'),P('alicia@example.com',cls=TextT.muted_sm)),)\n",
    "avatar = A(href='#', cls='h-8 w-8 inline-flex rounded-full bg-accent ring-ring')(Img(src='https://api.dicebear.com/8.x/lorelei/svg?seed=Alicia Koch'))\n",
    "avatar_dropdown = UkDropdownButton(\n",
    "    avatar,\n",
    "    user+hotkeys)\n",
    "\n",
    "show(avatar_dropdown)"
   ]
  },
  {
   "cell_type": "code",
   "execution_count": 46,
   "id": "51137d79",
   "metadata": {},
   "outputs": [
    {
     "ename": "NameError",
     "evalue": "name 'avatar_dropdown' is not defined",
     "output_type": "error",
     "traceback": [
      "\u001b[0;31m---------------------------------------------------------------------------\u001b[0m",
      "\u001b[0;31mNameError\u001b[0m                                 Traceback (most recent call last)",
      "Cell \u001b[0;32mIn[46], line 8\u001b[0m\n\u001b[1;32m      1\u001b[0m \u001b[38;5;66;03m#| exports\u001b[39;00m\n\u001b[1;32m      2\u001b[0m top_nav \u001b[38;5;241m=\u001b[39m Div(\u001b[38;5;28mcls\u001b[39m\u001b[38;5;241m=\u001b[39m\u001b[38;5;124m\"\u001b[39m\u001b[38;5;124mflex items-center justify-between w-full\u001b[39m\u001b[38;5;124m\"\u001b[39m)(\n\u001b[1;32m      3\u001b[0m     Div(\u001b[38;5;28mcls\u001b[39m\u001b[38;5;241m=\u001b[39m\u001b[38;5;124m\"\u001b[39m\u001b[38;5;124mflex items-center gap-x-4 lg:gap-x-6\u001b[39m\u001b[38;5;124m\"\u001b[39m)(\n\u001b[1;32m      4\u001b[0m         team_dropdown,\n\u001b[1;32m      5\u001b[0m         UkNavBar(\u001b[38;5;124m\"\u001b[39m\u001b[38;5;124mOverview\u001b[39m\u001b[38;5;124m\"\u001b[39m, \u001b[38;5;124m\"\u001b[39m\u001b[38;5;124mCustomers\u001b[39m\u001b[38;5;124m\"\u001b[39m, \u001b[38;5;124m\"\u001b[39m\u001b[38;5;124mProducts\u001b[39m\u001b[38;5;124m\"\u001b[39m, \u001b[38;5;124m\"\u001b[39m\u001b[38;5;124mSettings\u001b[39m\u001b[38;5;124m\"\u001b[39m)),\n\u001b[1;32m      6\u001b[0m     Div(\u001b[38;5;28mcls\u001b[39m\u001b[38;5;241m=\u001b[39m\u001b[38;5;124m\"\u001b[39m\u001b[38;5;124mflex items-center gap-x-4\u001b[39m\u001b[38;5;124m\"\u001b[39m)(\n\u001b[1;32m      7\u001b[0m         Div(\u001b[38;5;28mcls\u001b[39m\u001b[38;5;241m=\u001b[39m\u001b[38;5;124m\"\u001b[39m\u001b[38;5;124mw-64\u001b[39m\u001b[38;5;124m\"\u001b[39m)(UkInput(placeholder\u001b[38;5;241m=\u001b[39m\u001b[38;5;124m'\u001b[39m\u001b[38;5;124mSearch\u001b[39m\u001b[38;5;124m'\u001b[39m)),\n\u001b[0;32m----> 8\u001b[0m         \u001b[43mavatar_dropdown\u001b[49m))\n\u001b[1;32m     10\u001b[0m show(top_nav)\n",
      "\u001b[0;31mNameError\u001b[0m: name 'avatar_dropdown' is not defined"
     ]
    }
   ],
   "source": [
    "#| exports\n",
    "top_nav = Div(cls=\"flex items-center justify-between w-full\")(\n",
    "    Div(cls=\"flex items-center gap-x-4 lg:gap-x-6\")(\n",
    "        team_dropdown,\n",
    "        UkNavBar(\"Overview\", \"Customers\", \"Products\", \"Settings\")),\n",
    "    Div(cls=\"flex items-center gap-x-4\")(\n",
    "        Div(cls=\"w-64\")(UkInput(placeholder='Search')),\n",
    "        avatar_dropdown))\n",
    "\n",
    "show(top_nav)"
   ]
  },
  {
   "cell_type": "code",
   "execution_count": 123,
   "id": "76b8d8f5",
   "metadata": {},
   "outputs": [],
   "source": [
    "%%aip\n",
    "\n",
    "Make $`top_nav` be all in 1 row instead of new rows.  `team_dropdown` and `UkNavBar(\"Overview\", \"Customers\", \"Products\", \"Settings\")` should be left aligned so you can see them all.\n",
    "\n",
    "Then in the same row, `UkInput(placeholder='Search')` and `avatar_dropdown` should be right aligned somehow.\n"
   ]
  },
  {
   "cell_type": "code",
   "execution_count": 50,
   "id": "a7002b4e",
   "metadata": {},
   "outputs": [],
   "source": [
    "#| exports\n",
    "def page():\n",
    "    return Div(cls=\"space-y-4\")(\n",
    "        top_nav,\n",
    "    )\n",
    "#         UkHSplit(),\n",
    "#         UkH2('Dashboard'),\n",
    "#         db_nav, \n",
    "#         top_info_row,\n",
    "#         Div(cls=\"grid gap-4 lg:grid-cols-7\")(\n",
    "#             Card(generate_chart(10),cls='lg:col-span-4'),\n",
    "#             Card(recent_sales,cls='lg:col-span-3')))"
   ]
  },
  {
   "cell_type": "code",
   "execution_count": 51,
   "id": "000b2c9e",
   "metadata": {},
   "outputs": [
    {
     "data": {
      "text/html": [
       "<div class=\"space-y-4\">\n",
       "  <div class=\"uk-navbar-left gap-x-4 lg:gap-x-6\">\n",
       "    <div>\n",
       "      <div class=\"flex items-center space-x-4\">\n",
       "<button type=\"button\" class=\"uk-button uk-button-default\">Alicia Koch<span uk-icon=\"icon: triangle-down\"></span></button>        <div uk-drop=\"mode: click; pos: bottom-right\" class=\"uk-dropdown uk-drop\">\n",
       "          <ul class=\"uk-dropdown-nav\">\n",
       "            <li class=\"uk-nav-divider\"></li>\n",
       "            <li>Alicia Koch</li>\n",
       "            <li>Acme Inc</li>\n",
       "            <li>Monster Inc.</li>\n",
       "            <li>Create a Team</li>\n",
       "          </ul>\n",
       "        </div>\n",
       "      </div>\n",
       "    </div>\n",
       "    <ul class=\"uk-navbar-nav gap-x-4 lg:gap-x-6\">\n",
       "      <li class=\" \">\n",
       "<a href=\"#demo\" uk-toggle>Overview</a>      </li>\n",
       "      <li class=\" \">\n",
       "<a href=\"#demo\" uk-toggle>Customers</a>      </li>\n",
       "      <li class=\" \">\n",
       "<a href=\"#demo\" uk-toggle>Products</a>      </li>\n",
       "      <li class=\" \">\n",
       "<a href=\"#demo\" uk-toggle>Settings</a>      </li>\n",
       "    </ul>\n",
       "    <div class=\"space-y-2\">\n",
       "      <input placeholder=\"Search\" class=\"uk-input\">\n",
       "    </div>\n",
       "  </div>\n",
       "</div>\n"
      ],
      "text/plain": [
       "<IPython.core.display.HTML object>"
      ]
     },
     "execution_count": 51,
     "metadata": {},
     "output_type": "execute_result"
    }
   ],
   "source": [
    "show(page())"
   ]
  },
  {
   "cell_type": "code",
   "execution_count": 52,
   "id": "22a8233b",
   "metadata": {},
   "outputs": [],
   "source": [
    "#| exports\n",
    "dashboard_homepage = page()"
   ]
  },
  {
   "cell_type": "code",
   "execution_count": 53,
   "id": "1992630d",
   "metadata": {},
   "outputs": [],
   "source": [
    "#| hide\n",
    "import nbdev; nbdev.nbdev_export()"
   ]
  },
  {
   "cell_type": "code",
   "execution_count": null,
   "id": "a5110781",
   "metadata": {},
   "outputs": [],
   "source": []
  },
  {
   "cell_type": "code",
   "execution_count": null,
   "id": "fd080e09",
   "metadata": {},
   "outputs": [],
   "source": []
  }
 ],
 "metadata": {
  "kernelspec": {
   "display_name": "Python 3 (ipykernel)",
   "language": "python",
   "name": "python3"
  },
  "language_info": {
   "codemirror_mode": {
    "name": "ipython",
    "version": 3
   },
   "file_extension": ".py",
   "mimetype": "text/x-python",
   "name": "python",
   "nbconvert_exporter": "python",
   "pygments_lexer": "ipython3",
   "version": "3.11.9"
  },
  "toc": {
   "base_numbering": 1,
   "nav_menu": {},
   "number_sections": true,
   "sideBar": true,
   "skip_h1_title": false,
   "title_cell": "Table of Contents",
   "title_sidebar": "Contents",
   "toc_cell": false,
   "toc_position": {},
   "toc_section_display": true,
   "toc_window_display": false
  }
 },
 "nbformat": 4,
 "nbformat_minor": 5
}
