{
 "cells": [
  {
   "cell_type": "markdown",
   "id": "bd49724c",
   "metadata": {},
   "source": [
    "# Dashboard\n",
    "\n",
    "> FrankenUI Dashboard Example"
   ]
  },
  {
   "cell_type": "code",
   "execution_count": 1,
   "id": "04abc944",
   "metadata": {},
   "outputs": [],
   "source": [
    "#| default_exp dashboard"
   ]
  },
  {
   "cell_type": "code",
   "execution_count": 2,
   "id": "cef92ebb",
   "metadata": {},
   "outputs": [],
   "source": [
    "#| export\n",
    "from fasthtml.common import *\n",
    "from fh_frankenui.components import *\n",
    "from fasthtml.svg import *\n",
    "from fh_matplotlib import matplotlib2fasthtml\n",
    "import numpy as np\n",
    "import matplotlib.pylab as plt"
   ]
  },
  {
   "cell_type": "code",
   "execution_count": 3,
   "id": "02ad7e62",
   "metadata": {},
   "outputs": [],
   "source": [
    "#| hide\n",
    "from nbdev.showdoc import *"
   ]
  },
  {
   "cell_type": "code",
   "execution_count": 4,
   "id": "f0f5477a",
   "metadata": {},
   "outputs": [
    {
     "data": {
      "text/html": [
       "<script src=\"https://cdn.tailwindcss.com\"></script>\n",
       "<script src=\"https://cdn.jsdelivr.net/npm/uikit@3.21.6/dist/js/uikit.min.js\"></script>\n",
       "<script src=\"https://cdn.jsdelivr.net/npm/uikit@3.21.6/dist/js/uikit-icons.min.js\"></script>\n",
       "<script type=\"module\" src=\"https://unpkg.com/franken-wc@0.0.6/dist/js/wc.iife.js\"></script>\n",
       "<link rel=\"stylesheet\" href=\"https://unpkg.com/franken-wc@0.0.6/dist/css/blue.min.css\">\n",
       "\n",
       "<style>\n",
       "#notebook-container { max-width: none; }\n",
       ".output_html * { list-style-type: none !important; }\n",
       "</style>\n"
      ],
      "text/plain": [
       "<IPython.core.display.HTML object>"
      ]
     },
     "metadata": {},
     "output_type": "display_data"
    }
   ],
   "source": [
    "%%html\n",
    "<script src=\"https://cdn.tailwindcss.com\"></script>\n",
    "<script src=\"https://cdn.jsdelivr.net/npm/uikit@3.21.6/dist/js/uikit.min.js\"></script>\n",
    "<script src=\"https://cdn.jsdelivr.net/npm/uikit@3.21.6/dist/js/uikit-icons.min.js\"></script>\n",
    "<script type=\"module\" src=\"https://unpkg.com/franken-wc@0.0.6/dist/js/wc.iife.js\"></script>\n",
    "<link rel=\"stylesheet\" href=\"https://unpkg.com/franken-wc@0.0.6/dist/css/blue.min.css\">\n",
    "\n",
    "<style>\n",
    "#notebook-container { max-width: none; }\n",
    ".output_html * { list-style-type: none !important; }\n",
    "</style>"
   ]
  },
  {
   "cell_type": "code",
   "execution_count": 5,
   "id": "19ba6675",
   "metadata": {},
   "outputs": [],
   "source": [
    "from httpx import get\n",
    "fh_frankenui = open(\"../fh_frankenui/components.py\").read().strip()\n",
    "\n",
    "url = 'https://raw.githubusercontent.com/franken-ui/examples/master/src/pages/dashboard.astro'\n",
    "dashboard = get(url).text\n",
    "\n",
    "url = 'https://raw.githubusercontent.com/franken-ui/examples/master/src/pages/cards.astro'\n",
    "cards = get(url).text\n",
    "\n",
    "url = 'https://github.com/AnswerDotAI/fh-frankenui-examples/blob/main/fh_frankenui_examples/cards.py'\n",
    "cards_in_python = get(url).text\n",
    "\n",
    "url = 'https://github.com/AnswerDotAI/fh-frankenui-examples/blob/main/fh_frankenui_examples/tasks.py'\n",
    "tasks_in_python = get(url).text\n",
    "\n",
    "url = 'https://raw.githubusercontent.com/AnswerDotAI/fasthtml/main/examples/adv_app.py'\n",
    "idiomatic_fasthtml_app = get(url).text\n"
   ]
  },
  {
   "cell_type": "code",
   "execution_count": 6,
   "id": "d382f5d5",
   "metadata": {},
   "outputs": [],
   "source": [
    "%%ai 0 -c\n",
    "\n",
    "I am implementing FrankenUI for FastHTML by reimplementing the FrankenUI examples from their docs in a python library.  I am doing this by building a library as I go, `fh_frankenui`.\n",
    "\n",
    "Reference the `idiomatic_fasthtml_app` to get a feel for fasthtml.\n",
    "\n",
    "I previously did their `cards` example, and the python implementation looked like `cards_in_python`.\n",
    "\n",
    "Now, I am looking to do the same with their `dashboard` example.\n",
    "\n",
    "The goal is to develop the work-in-progress `fh_frankenui` library, so please use `fh_frankenui` as much as makes sense and recommend functions or improvements to `fh_frankenui` when it fits.\n",
    "\n",
    "Please read all this information and confirm that you understand what I want to do by giving me a brief overview in your own words.  \n"
   ]
  },
  {
   "cell_type": "markdown",
   "id": "8a31fe0f",
   "metadata": {},
   "source": [
    "You're developing a Python library called `fh_frankenui` to implement FrankenUI components for FastHTML. Your approach involves recreating FrankenUI examples from their documentation in Python.\n",
    "\n",
    "You've already completed the 'cards' example and are now focusing on the 'dashboard' example. Your goal is to create a Python equivalent of the FrankenUI dashboard, utilizing and expanding the `fh_frankenui` library as needed.\n",
    "\n",
    "You want me to analyze the provided context, including the FastHTML idiomatic app, the existing `fh_frankenui` code, and the FrankenUI dashboard example. Based on this analysis, you're looking for guidance on implementing the dashboard in Python, with suggestions for new functions or improvements to `fh_frankenui` where appropriate."
   ]
  },
  {
   "cell_type": "code",
   "execution_count": 7,
   "id": "b8ed7a67",
   "metadata": {},
   "outputs": [],
   "source": [
    "%%aip 0\n",
    "\n",
    "I want a flexible function that can generate the top row of cards that all share the same general format"
   ]
  },
  {
   "cell_type": "code",
   "execution_count": 8,
   "id": "275f3643",
   "metadata": {},
   "outputs": [],
   "source": [
    "#| exports\n",
    "def InfoCard(title, value, change):\n",
    "    return Card(\n",
    "             Div(UkH3(value),\n",
    "                P(change, cls=TextT.muted_sm)),\n",
    "             header = UkH4(title),)"
   ]
  },
  {
   "cell_type": "code",
   "execution_count": 9,
   "id": "45c602c4",
   "metadata": {},
   "outputs": [],
   "source": [
    "%%aip 0\n",
    "Use the `InfoCard` function to create the top row of cards - each one in a variable (rev,sub,sal,act)."
   ]
  },
  {
   "cell_type": "code",
   "execution_count": 10,
   "id": "745555dc",
   "metadata": {},
   "outputs": [],
   "source": [
    "#| exports\n",
    "rev = InfoCard(\"Total Revenue\", \"$45,231.89\", \"+20.1% from last month\")\n",
    "sub = InfoCard(\"Subscriptions\", \"+2350\", \"+180.1% from last month\")\n",
    "sal = InfoCard(\"Sales\", \"+12,234\", \"+19% from last month\")\n",
    "act = InfoCard(\"Active Now\", \"+573\", \"+201 since last hour\")"
   ]
  },
  {
   "cell_type": "code",
   "execution_count": 11,
   "id": "96867f4f",
   "metadata": {},
   "outputs": [],
   "source": [
    "#| exports\n",
    "top_info_row = Grid(rev,sub,sal,act,cols=2, gap=4, cls='lg:grid-cols-4')"
   ]
  },
  {
   "cell_type": "code",
   "execution_count": 12,
   "id": "76a4a138",
   "metadata": {},
   "outputs": [
    {
     "data": {
      "text/html": [
       "<div class=\"grid grid-cols-2 gap-4 lg:grid-cols-4\">\n",
       "  <div class=\"uk-card \">\n",
       "    <div class=\"uk-card-header \">\n",
       "      <h4 class=\"uk-h4\">Total Revenue</h4>\n",
       "    </div>\n",
       "    <div class=\"uk-card-body space-y-6\">\n",
       "      <div>\n",
       "        <h3 class=\"uk-h3\">$45,231.89</h3>\n",
       "        <p class=\"text-sm uk-text-muted\">+20.1% from last month</p>\n",
       "      </div>\n",
       "    </div>\n",
       "  </div>\n",
       "  <div class=\"uk-card \">\n",
       "    <div class=\"uk-card-header \">\n",
       "      <h4 class=\"uk-h4\">Subscriptions</h4>\n",
       "    </div>\n",
       "    <div class=\"uk-card-body space-y-6\">\n",
       "      <div>\n",
       "        <h3 class=\"uk-h3\">+2350</h3>\n",
       "        <p class=\"text-sm uk-text-muted\">+180.1% from last month</p>\n",
       "      </div>\n",
       "    </div>\n",
       "  </div>\n",
       "  <div class=\"uk-card \">\n",
       "    <div class=\"uk-card-header \">\n",
       "      <h4 class=\"uk-h4\">Sales</h4>\n",
       "    </div>\n",
       "    <div class=\"uk-card-body space-y-6\">\n",
       "      <div>\n",
       "        <h3 class=\"uk-h3\">+12,234</h3>\n",
       "        <p class=\"text-sm uk-text-muted\">+19% from last month</p>\n",
       "      </div>\n",
       "    </div>\n",
       "  </div>\n",
       "  <div class=\"uk-card \">\n",
       "    <div class=\"uk-card-header \">\n",
       "      <h4 class=\"uk-h4\">Active Now</h4>\n",
       "    </div>\n",
       "    <div class=\"uk-card-body space-y-6\">\n",
       "      <div>\n",
       "        <h3 class=\"uk-h3\">+573</h3>\n",
       "        <p class=\"text-sm uk-text-muted\">+201 since last hour</p>\n",
       "      </div>\n",
       "    </div>\n",
       "  </div>\n",
       "</div>\n"
      ],
      "text/plain": [
       "<IPython.core.display.HTML object>"
      ]
     },
     "execution_count": 12,
     "metadata": {},
     "output_type": "execute_result"
    }
   ],
   "source": [
    "show(top_info_row)"
   ]
  },
  {
   "cell_type": "code",
   "execution_count": 13,
   "id": "ee500a1b",
   "metadata": {},
   "outputs": [],
   "source": [
    "%%aip 0\n",
    "\n",
    "Let's create the card with the avatars next.  Be sure to reference similar examples from `cards_in_python` to make it as simple as possible.\n",
    "\n",
    "I don't need an exact recreation so if UkH3 or UkH4 is close enough (like I did previously) then that's fine"
   ]
  },
  {
   "cell_type": "code",
   "execution_count": 14,
   "id": "98b733c2",
   "metadata": {},
   "outputs": [],
   "source": [
    "#| exports\n",
    "def AvatarItem(name, email, amount):\n",
    "    return Div(cls=\"flex items-center\")(\n",
    "        DiceBearAvatar(name, 9,9),\n",
    "        Div(cls=\"ml-4 space-y-1\")(\n",
    "            P(name, cls=TextT.medium_sm),\n",
    "            P(email, cls=TextT.muted_sm)),\n",
    "        Div(amount, cls=\"ml-auto font-medium\"))\n",
    "\n",
    "recent_sales = Card(\n",
    "    Div(cls=\"space-y-8\")(\n",
    "        *[AvatarItem(n,e,d) for (n,e,d) in (\n",
    "            (\"Olivia Martin\",   \"olivia.martin@email.com\",   \"+$1,999.00\"),\n",
    "            (\"Jackson Lee\",     \"jackson.lee@email.com\",     \"+$39.00\"),\n",
    "            (\"Isabella Nguyen\", \"isabella.nguyen@email.com\", \"+$299.00\"),\n",
    "            (\"William Kim\",     \"will@email.com\",            \"+$99.00\"),\n",
    "            (\"Sofia Davis\",     \"sofia.davis@email.com\",     \"+$39.00\"))]),\n",
    "    header=Div(\n",
    "        UkH3(\"Recent Sales\"),\n",
    "        P(\"You made 265 sales this month.\", cls=TextT.muted_sm)),\n",
    "\n",
    "cls='lg:col-span-3')"
   ]
  },
  {
   "cell_type": "code",
   "execution_count": 15,
   "id": "3767a677",
   "metadata": {},
   "outputs": [],
   "source": [
    "#| exports\n",
    "@matplotlib2fasthtml\n",
    "def generate_chart(num_points):\n",
    "    plotdata = [np.random.exponential(1) for _ in range(num_points)]\n",
    "    plt.plot(range(len(plotdata)), plotdata)"
   ]
  },
  {
   "cell_type": "code",
   "execution_count": 16,
   "id": "d7a93876",
   "metadata": {},
   "outputs": [
    {
     "data": {
      "text/html": [
       "<img src=\"data:image/jpg;base64, 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\">"
      ],
      "text/plain": [
       "<IPython.core.display.HTML object>"
      ]
     },
     "execution_count": 16,
     "metadata": {},
     "output_type": "execute_result"
    }
   ],
   "source": [
    "show(generate_chart(10))"
   ]
  },
  {
   "cell_type": "code",
   "execution_count": 17,
   "id": "7fc67843",
   "metadata": {},
   "outputs": [],
   "source": [
    "%%aip 0\n",
    "Now let's make the top navigation section with \"Overview\", \"Customers\", \"products\", \"Settings\" tabs that use their own functions, with the name/teams dropdown too\n",
    "\n",
    "For the dropdown use either `UkDropdownButton` or `UkSelect` - remember it doesn't need to perfectly match - just look pretty decent and be very simple code."
   ]
  },
  {
   "cell_type": "code",
   "execution_count": 18,
   "id": "c9f74172",
   "metadata": {},
   "outputs": [],
   "source": [
    "#| exports\n",
    "teams = [\n",
    "    [\"Alicia Koch\"],\n",
    "    ['Acme Inc', 'Monster Inc.'],\n",
    "    ['Create a Team']\n",
    "]\n",
    "\n",
    "opt_hdrs = [\"Personal\", \"Team\", \"\"]\n",
    "\n",
    "team_dropdown = UkDropdownButton(\n",
    "    options=list(map(lambda t: map(A, t), teams)),\n",
    "    option_hdrs=opt_hdrs,\n",
    "    label=teams[0][0]\n",
    ")"
   ]
  },
  {
   "cell_type": "code",
   "execution_count": 19,
   "id": "6ca923da",
   "metadata": {},
   "outputs": [
    {
     "data": {
      "text/html": [
       "<div>\n",
       "  <div class=\"flex items-center space-x-4\">\n",
       "<button type=\"button\" class=\"uk-button uk-button-default\"><span class=\"relative flex h-8 w-8 shrink-0 overflow-hidden rounded-full bg-accent\"><img alt=\"Avatar\" src=\"https://api.dicebear.com/8.x/lorelei/svg?seed=Alicia Koch\" class=\"aspect-square h-full w-full\"></span><span uk-icon=\"icon: triangle-down; ratio: 1\"></span></button>    <div uk-drop=\"mode: click; pos: bottom-right\" class=\"uk-dropdown uk-drop \">\n",
       "      <ul class=\"uk-dropdown-nav\">\n",
       "        <li>\n",
       "          <li class=\"px-2 py-1.5 text-sm\">\n",
       "            <div class=\"flex flex-col space-y-1\">\n",
       "              <p class=\"text-sm font-medium leading-none\">sveltecult</p>\n",
       "              <p class=\"text-xs leading-none text-muted-foreground\">leader@sveltecult.com</p>\n",
       "            </div>\n",
       "          </li>\n",
       "        </li>\n",
       "        <li class=\"uk-nav-divider\"></li>\n",
       "        <li>\n",
       "<a href=\"#\">            <div class=\"uk-flex uk-flex-between uk-flex-middle uk-width-1-1\">\n",
       "              <p>Profile</p>\n",
       "              <p>⇧⌘P</p>\n",
       "            </div>\n",
       "</a>        </li>\n",
       "        <li>\n",
       "<a href=\"#\">            <div class=\"uk-flex uk-flex-between uk-flex-middle uk-width-1-1\">\n",
       "              <p>Billing</p>\n",
       "              <p>⌘B</p>\n",
       "            </div>\n",
       "</a>        </li>\n",
       "        <li>\n",
       "<a href=\"#\">            <div class=\"uk-flex uk-flex-between uk-flex-middle uk-width-1-1\">\n",
       "              <p>Settings</p>\n",
       "              <p>⌘S</p>\n",
       "            </div>\n",
       "</a>        </li>\n",
       "        <li>\n",
       "<a href=\"#\">            <div class=\"uk-flex uk-flex-between uk-flex-middle uk-width-1-1\">\n",
       "              <p>New Team</p>\n",
       "              <p></p>\n",
       "            </div>\n",
       "</a>        </li>\n",
       "        <li class=\"uk-nav-divider\"></li>\n",
       "        <li>\n",
       "<a href=\"#\">            <div class=\"uk-flex uk-flex-between uk-flex-middle uk-width-1-1\">\n",
       "              <p>Logout</p>\n",
       "              <p></p>\n",
       "            </div>\n",
       "</a>        </li>\n",
       "      </ul>\n",
       "    </div>\n",
       "  </div>\n",
       "</div>\n"
      ],
      "text/plain": [
       "<IPython.core.display.HTML object>"
      ]
     },
     "execution_count": 19,
     "metadata": {},
     "output_type": "execute_result"
    }
   ],
   "source": [
    "#| exports\n",
    "\n",
    "hotkeys = [\n",
    "    ('Profile','⇧⌘P'),\n",
    "    ('Billing','⌘B'),\n",
    "    ('Settings','⌘S'),\n",
    "    ('New Team', '')\n",
    "]\n",
    "\n",
    "def space(*c): return A(FullySpacedContainer(*c, wrap_tag=P))\n",
    "\n",
    "hotkeys = tuple(map(lambda x: space(*x), hotkeys))\n",
    "logout = space('Logout' ,''),\n",
    "user = Li(cls='px-2 py-1.5 text-sm')(\n",
    "        Div(cls='flex flex-col space-y-1')(\n",
    "            P('sveltecult', cls='text-sm font-medium leading-none'),\n",
    "            P('leader@sveltecult.com', cls='text-xs leading-none text-muted-foreground')\n",
    "        )\n",
    "),\n",
    "avatar = DiceBearAvatar('Alicia Koch',8,8)\n",
    "avatar_dropdown = UkDropdownButton(\n",
    "    options=[user]+[hotkeys]+[logout],\n",
    "    label=avatar)\n",
    "\n",
    "show(avatar_dropdown)"
   ]
  },
  {
   "cell_type": "code",
   "execution_count": 20,
   "id": "51137d79",
   "metadata": {},
   "outputs": [],
   "source": [
    "#| exports\n",
    "top_nav = UkNavbar(\n",
    "    lnav=[team_dropdown, Li(A(\"Overview\")), Li(A(\"Customers\")), Li(A(\"Products\")), Li(A(\"Settings\"))],\n",
    "    rnav=[UkInput(placeholder='Search'), avatar_dropdown],\n",
    ")"
   ]
  },
  {
   "cell_type": "code",
   "execution_count": 21,
   "id": "a7002b4e",
   "metadata": {},
   "outputs": [],
   "source": [
    "#| exports\n",
    "def page():\n",
    "    return Div(cls=\"space-y-4\")(\n",
    "        Div(cls=\"border-b border-border px-4\")(top_nav),\n",
    "        UkH2('Dashboard'),\n",
    "        UkTab(\"Overview\", \"Analytics\", \"Reports\", \"Notifications\"), \n",
    "        top_info_row,\n",
    "        Grid(Card(generate_chart(10),cls='lg:col-span-4'),\n",
    "            recent_sales,\n",
    "            gap=4,cls='lg:grid-cols-7'))"
   ]
  },
  {
   "cell_type": "code",
   "execution_count": 22,
   "id": "000b2c9e",
   "metadata": {},
   "outputs": [
    {
     "data": {
      "text/html": [
       "<div class=\"space-y-4\">\n",
       "  <div class=\"border-b border-border px-4\">\n",
       "    <div uk-navbar class=\"uk-navbar-container uk-width-1-1 relative z-50 z-10\">\n",
       "      <div class=\"uk-navbar-left\">\n",
       "        <ul class=\"uk-navbar-nav\">\n",
       "          <div class=\"uk-navbar-item\">\n",
       "            <div class=\"flex items-center space-x-4\">\n",
       "<button type=\"button\" class=\"uk-button uk-button-default\">Alicia Koch<span uk-icon=\"icon: triangle-down; ratio: 1\"></span></button>              <div uk-drop=\"mode: click; pos: bottom-right\" class=\"uk-dropdown uk-drop \">\n",
       "                <ul class=\"uk-dropdown-nav\">\n",
       "                  <li class=\"uk-nav-header\">\n",
       "                    <div>Personal</div>\n",
       "                  </li>\n",
       "                  <li>\n",
       "<a href=\"#\">Alicia Koch</a>                  </li>\n",
       "                  <li class=\"uk-nav-header\">\n",
       "                    <div>Team</div>\n",
       "                  </li>\n",
       "                  <li>\n",
       "<a href=\"#\">Acme Inc</a><a href=\"#\">Monster Inc.</a>                  </li>\n",
       "                  <li class=\"uk-nav-divider\"></li>\n",
       "                  <li>\n",
       "<a href=\"#\">Create a Team</a>                  </li>\n",
       "                </ul>\n",
       "              </div>\n",
       "            </div>\n",
       "          </div>\n",
       "          <li class=\"uk-navbar-item\">\n",
       "<a href=\"#\">Overview</a>          </li>\n",
       "          <li class=\"uk-navbar-item\">\n",
       "<a href=\"#\">Customers</a>          </li>\n",
       "          <li class=\"uk-navbar-item\">\n",
       "<a href=\"#\">Products</a>          </li>\n",
       "          <li class=\"uk-navbar-item\">\n",
       "<a href=\"#\">Settings</a>          </li>\n",
       "        </ul>\n",
       "      </div>\n",
       "      <div class=\"uk-navbar-right\">\n",
       "        <ul class=\"uk-navbar-nav\">\n",
       "          <div class=\"space-y-2 uk-navbar-item\">\n",
       "            <input placeholder=\"Search\" class=\"uk-input\">\n",
       "          </div>\n",
       "          <div class=\"uk-navbar-item\">\n",
       "            <div class=\"flex items-center space-x-4\">\n",
       "<button type=\"button\" class=\"uk-button uk-button-default\"><span class=\"relative flex h-8 w-8 shrink-0 overflow-hidden rounded-full bg-accent\"><img alt=\"Avatar\" src=\"https://api.dicebear.com/8.x/lorelei/svg?seed=Alicia Koch\" class=\"aspect-square h-full w-full\"></span><span uk-icon=\"icon: triangle-down; ratio: 1\"></span></button>              <div uk-drop=\"mode: click; pos: bottom-right\" class=\"uk-dropdown uk-drop \">\n",
       "                <ul class=\"uk-dropdown-nav\">\n",
       "                  <li>\n",
       "                    <li class=\"px-2 py-1.5 text-sm\">\n",
       "                      <div class=\"flex flex-col space-y-1\">\n",
       "                        <p class=\"text-sm font-medium leading-none\">sveltecult</p>\n",
       "                        <p class=\"text-xs leading-none text-muted-foreground\">leader@sveltecult.com</p>\n",
       "                      </div>\n",
       "                    </li>\n",
       "                  </li>\n",
       "                  <li class=\"uk-nav-divider\"></li>\n",
       "                  <li>\n",
       "<a href=\"#\">                      <div class=\"uk-flex uk-flex-between uk-flex-middle uk-width-1-1\">\n",
       "                        <p>Profile</p>\n",
       "                        <p>⇧⌘P</p>\n",
       "                      </div>\n",
       "</a>                  </li>\n",
       "                  <li>\n",
       "<a href=\"#\">                      <div class=\"uk-flex uk-flex-between uk-flex-middle uk-width-1-1\">\n",
       "                        <p>Billing</p>\n",
       "                        <p>⌘B</p>\n",
       "                      </div>\n",
       "</a>                  </li>\n",
       "                  <li>\n",
       "<a href=\"#\">                      <div class=\"uk-flex uk-flex-between uk-flex-middle uk-width-1-1\">\n",
       "                        <p>Settings</p>\n",
       "                        <p>⌘S</p>\n",
       "                      </div>\n",
       "</a>                  </li>\n",
       "                  <li>\n",
       "<a href=\"#\">                      <div class=\"uk-flex uk-flex-between uk-flex-middle uk-width-1-1\">\n",
       "                        <p>New Team</p>\n",
       "                        <p></p>\n",
       "                      </div>\n",
       "</a>                  </li>\n",
       "                  <li class=\"uk-nav-divider\"></li>\n",
       "                  <li>\n",
       "<a href=\"#\">                      <div class=\"uk-flex uk-flex-between uk-flex-middle uk-width-1-1\">\n",
       "                        <p>Logout</p>\n",
       "                        <p></p>\n",
       "                      </div>\n",
       "</a>                  </li>\n",
       "                </ul>\n",
       "              </div>\n",
       "            </div>\n",
       "          </div>\n",
       "        </ul>\n",
       "      </div>\n",
       "    </div>\n",
       "  </div>\n",
       "  <h2 class=\"uk-h2\">Dashboard</h2>\n",
       "  <ul class=\"uk-tab-alt max-w-96\">\n",
       "    <li class=\"uk-active\">\n",
       "<a href=\"#demo\" uk-toggle>Overview</a>    </li>\n",
       "    <li class=\" \">\n",
       "<a href=\"#demo\" uk-toggle>Analytics</a>    </li>\n",
       "    <li class=\" \">\n",
       "<a href=\"#demo\" uk-toggle>Reports</a>    </li>\n",
       "    <li class=\" \">\n",
       "<a href=\"#demo\" uk-toggle>Notifications</a>    </li>\n",
       "  </ul>\n",
       "  <div class=\"grid grid-cols-2 gap-4 lg:grid-cols-4\">\n",
       "    <div class=\"uk-card \">\n",
       "      <div class=\"uk-card-header \">\n",
       "        <h4 class=\"uk-h4\">Total Revenue</h4>\n",
       "      </div>\n",
       "      <div class=\"uk-card-body space-y-6\">\n",
       "        <div>\n",
       "          <h3 class=\"uk-h3\">$45,231.89</h3>\n",
       "          <p class=\"text-sm uk-text-muted\">+20.1% from last month</p>\n",
       "        </div>\n",
       "      </div>\n",
       "    </div>\n",
       "    <div class=\"uk-card \">\n",
       "      <div class=\"uk-card-header \">\n",
       "        <h4 class=\"uk-h4\">Subscriptions</h4>\n",
       "      </div>\n",
       "      <div class=\"uk-card-body space-y-6\">\n",
       "        <div>\n",
       "          <h3 class=\"uk-h3\">+2350</h3>\n",
       "          <p class=\"text-sm uk-text-muted\">+180.1% from last month</p>\n",
       "        </div>\n",
       "      </div>\n",
       "    </div>\n",
       "    <div class=\"uk-card \">\n",
       "      <div class=\"uk-card-header \">\n",
       "        <h4 class=\"uk-h4\">Sales</h4>\n",
       "      </div>\n",
       "      <div class=\"uk-card-body space-y-6\">\n",
       "        <div>\n",
       "          <h3 class=\"uk-h3\">+12,234</h3>\n",
       "          <p class=\"text-sm uk-text-muted\">+19% from last month</p>\n",
       "        </div>\n",
       "      </div>\n",
       "    </div>\n",
       "    <div class=\"uk-card \">\n",
       "      <div class=\"uk-card-header \">\n",
       "        <h4 class=\"uk-h4\">Active Now</h4>\n",
       "      </div>\n",
       "      <div class=\"uk-card-body space-y-6\">\n",
       "        <div>\n",
       "          <h3 class=\"uk-h3\">+573</h3>\n",
       "          <p class=\"text-sm uk-text-muted\">+201 since last hour</p>\n",
       "        </div>\n",
       "      </div>\n",
       "    </div>\n",
       "  </div>\n",
       "  <div class=\"grid grid-cols-3 gap-4 lg:grid-cols-7\">\n",
       "    <div class=\"uk-card lg:col-span-4\">\n",
       "      <div class=\"uk-card-body space-y-6\">\n",
       "<img src=\"data:image/jpg;base64, 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\">      </div>\n",
       "    </div>\n",
       "    <div class=\"uk-card lg:col-span-3\">\n",
       "      <div class=\"uk-card-header \">\n",
       "        <div>\n",
       "          <h3 class=\"uk-h3\">Recent Sales</h3>\n",
       "          <p class=\"text-sm uk-text-muted\">You made 265 sales this month.</p>\n",
       "        </div>\n",
       "      </div>\n",
       "      <div class=\"uk-card-body space-y-6\">\n",
       "        <div class=\"space-y-8\">\n",
       "          <div class=\"flex items-center\">\n",
       "<span class=\"relative flex h-9 w-9 shrink-0 overflow-hidden rounded-full bg-accent\"><img alt=\"Avatar\" src=\"https://api.dicebear.com/8.x/lorelei/svg?seed=Olivia Martin\" class=\"aspect-square h-full w-full\"></span>            <div class=\"ml-4 space-y-1\">\n",
       "              <p class=\"text-sm font-medium\">Olivia Martin</p>\n",
       "              <p class=\"text-sm uk-text-muted\">olivia.martin@email.com</p>\n",
       "            </div>\n",
       "            <div class=\"ml-auto font-medium\">+$1,999.00</div>\n",
       "          </div>\n",
       "          <div class=\"flex items-center\">\n",
       "<span class=\"relative flex h-9 w-9 shrink-0 overflow-hidden rounded-full bg-accent\"><img alt=\"Avatar\" src=\"https://api.dicebear.com/8.x/lorelei/svg?seed=Jackson Lee\" class=\"aspect-square h-full w-full\"></span>            <div class=\"ml-4 space-y-1\">\n",
       "              <p class=\"text-sm font-medium\">Jackson Lee</p>\n",
       "              <p class=\"text-sm uk-text-muted\">jackson.lee@email.com</p>\n",
       "            </div>\n",
       "            <div class=\"ml-auto font-medium\">+$39.00</div>\n",
       "          </div>\n",
       "          <div class=\"flex items-center\">\n",
       "<span class=\"relative flex h-9 w-9 shrink-0 overflow-hidden rounded-full bg-accent\"><img alt=\"Avatar\" src=\"https://api.dicebear.com/8.x/lorelei/svg?seed=Isabella Nguyen\" class=\"aspect-square h-full w-full\"></span>            <div class=\"ml-4 space-y-1\">\n",
       "              <p class=\"text-sm font-medium\">Isabella Nguyen</p>\n",
       "              <p class=\"text-sm uk-text-muted\">isabella.nguyen@email.com</p>\n",
       "            </div>\n",
       "            <div class=\"ml-auto font-medium\">+$299.00</div>\n",
       "          </div>\n",
       "          <div class=\"flex items-center\">\n",
       "<span class=\"relative flex h-9 w-9 shrink-0 overflow-hidden rounded-full bg-accent\"><img alt=\"Avatar\" src=\"https://api.dicebear.com/8.x/lorelei/svg?seed=William Kim\" class=\"aspect-square h-full w-full\"></span>            <div class=\"ml-4 space-y-1\">\n",
       "              <p class=\"text-sm font-medium\">William Kim</p>\n",
       "              <p class=\"text-sm uk-text-muted\">will@email.com</p>\n",
       "            </div>\n",
       "            <div class=\"ml-auto font-medium\">+$99.00</div>\n",
       "          </div>\n",
       "          <div class=\"flex items-center\">\n",
       "<span class=\"relative flex h-9 w-9 shrink-0 overflow-hidden rounded-full bg-accent\"><img alt=\"Avatar\" src=\"https://api.dicebear.com/8.x/lorelei/svg?seed=Sofia Davis\" class=\"aspect-square h-full w-full\"></span>            <div class=\"ml-4 space-y-1\">\n",
       "              <p class=\"text-sm font-medium\">Sofia Davis</p>\n",
       "              <p class=\"text-sm uk-text-muted\">sofia.davis@email.com</p>\n",
       "            </div>\n",
       "            <div class=\"ml-auto font-medium\">+$39.00</div>\n",
       "          </div>\n",
       "        </div>\n",
       "      </div>\n",
       "    </div>\n",
       "  </div>\n",
       "</div>\n"
      ],
      "text/plain": [
       "<IPython.core.display.HTML object>"
      ]
     },
     "execution_count": 22,
     "metadata": {},
     "output_type": "execute_result"
    }
   ],
   "source": [
    "show(page())"
   ]
  },
  {
   "cell_type": "code",
   "execution_count": 23,
   "id": "22a8233b",
   "metadata": {},
   "outputs": [],
   "source": [
    "#| exports\n",
    "dashboard_homepage = page()"
   ]
  },
  {
   "cell_type": "code",
   "execution_count": 24,
   "id": "1992630d",
   "metadata": {},
   "outputs": [],
   "source": [
    "#| hide\n",
    "import nbdev; nbdev.nbdev_export()"
   ]
  }
 ],
 "metadata": {
  "kernelspec": {
   "display_name": "Python 3 (ipykernel)",
   "language": "python",
   "name": "python3"
  },
  "language_info": {
   "codemirror_mode": {
    "name": "ipython",
    "version": 3
   },
   "file_extension": ".py",
   "mimetype": "text/x-python",
   "name": "python",
   "nbconvert_exporter": "python",
   "pygments_lexer": "ipython3",
   "version": "3.11.9"
  },
  "toc": {
   "base_numbering": 1,
   "nav_menu": {},
   "number_sections": true,
   "sideBar": true,
   "skip_h1_title": false,
   "title_cell": "Table of Contents",
   "title_sidebar": "Contents",
   "toc_cell": false,
   "toc_position": {},
   "toc_section_display": true,
   "toc_window_display": false
  }
 },
 "nbformat": 4,
 "nbformat_minor": 5
}
