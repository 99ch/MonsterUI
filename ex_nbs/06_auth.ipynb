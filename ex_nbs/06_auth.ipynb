{
 "cells": [
  {
   "cell_type": "code",
   "execution_count": 1,
   "id": "8de1f656",
   "metadata": {},
   "outputs": [],
   "source": [
    "#| default_exp auth"
   ]
  },
  {
   "cell_type": "code",
   "execution_count": 12,
   "id": "6c16c057",
   "metadata": {},
   "outputs": [],
   "source": [
    "#| export\n",
    "from fasthtml.common import *\n",
    "from fasthtml.components import Uk\n",
    "from fh_frankenui.components import *\n",
    "from fasthtml.components import Uk_icon\n",
    "from fasthtml.svg import *\n",
    "from fh_matplotlib import matplotlib2fasthtml\n",
    "import numpy as np\n",
    "from pathlib import Path\n",
    "import matplotlib.pylab as plt"
   ]
  },
  {
   "cell_type": "code",
   "execution_count": 3,
   "id": "f97e9da7",
   "metadata": {},
   "outputs": [],
   "source": [
    "#| hide\n",
    "from nbdev.showdoc import *"
   ]
  },
  {
   "cell_type": "code",
   "execution_count": 4,
   "id": "ed3ff699",
   "metadata": {},
   "outputs": [
    {
     "data": {
      "text/html": [
       "<script src=\"https://cdn.tailwindcss.com\"></script>\n",
       "<script src=\"https://cdn.jsdelivr.net/npm/uikit@3.21.6/dist/js/uikit.min.js\"></script>\n",
       "<script src=\"https://cdn.jsdelivr.net/npm/uikit@3.21.6/dist/js/uikit-icons.min.js\"></script>\n",
       "<script type=\"module\" src=\"https://unpkg.com/franken-wc@0.0.6/dist/js/wc.iife.js\"></script>\n",
       "<link rel=\"stylesheet\" href=\"https://unpkg.com/franken-wc@0.0.6/dist/css/blue.min.css\">\n",
       "\n",
       "<style>\n",
       "#notebook-container { max-width: none; }\n",
       ".output_html * { list-style-type: none !important; }\n",
       "</style>\n"
      ],
      "text/plain": [
       "<IPython.core.display.HTML object>"
      ]
     },
     "metadata": {},
     "output_type": "display_data"
    }
   ],
   "source": [
    "%%html\n",
    "<script src=\"https://cdn.tailwindcss.com\"></script>\n",
    "<script src=\"https://cdn.jsdelivr.net/npm/uikit@3.21.6/dist/js/uikit.min.js\"></script>\n",
    "<script src=\"https://cdn.jsdelivr.net/npm/uikit@3.21.6/dist/js/uikit-icons.min.js\"></script>\n",
    "<script type=\"module\" src=\"https://unpkg.com/franken-wc@0.0.6/dist/js/wc.iife.js\"></script>\n",
    "<link rel=\"stylesheet\" href=\"https://unpkg.com/franken-wc@0.0.6/dist/css/blue.min.css\">\n",
    "\n",
    "<style>\n",
    "#notebook-container { max-width: none; }\n",
    ".output_html * { list-style-type: none !important; }\n",
    "</style>"
   ]
  },
  {
   "cell_type": "code",
   "execution_count": 6,
   "id": "8b5ce8fd",
   "metadata": {},
   "outputs": [],
   "source": [
    "from httpx import get\n",
    "fh_fui = Path(os.path.expanduser('~/fh-frankenui/fh_frankenui'))\n",
    "fh_fui_ex = Path(os.path.expanduser('~/fh-frankenui-examples/fh_frankenui_examples'))\n",
    "\n",
    "fh_frankenui = (fh_fui / \"components.py\").read_text()\n",
    "\n",
    "url = 'https://raw.githubusercontent.com/franken-ui/examples/master/src/pages/examples/authentication.astro'\n",
    "auth = get(url).text\n",
    "\n",
    "url = 'https://raw.githubusercontent.com/franken-ui/examples/master/src/pages/examples/cards.astro'\n",
    "cards = get(url).text\n",
    "\n",
    "cards_in_python = (fh_fui_ex / 'cards.py').read_text()\n",
    "\n",
    "url = 'https://raw.githubusercontent.com/AnswerDotAI/fasthtml/main/examples/adv_app.py'\n",
    "idiomatic_fasthtml_app = get(url).text"
   ]
  },
  {
   "cell_type": "code",
   "execution_count": 7,
   "id": "2b2d7da3",
   "metadata": {},
   "outputs": [],
   "source": [
    "%%ai -c\n",
    "\n",
    "I am implementing FrankenUI for FastHTML by reimplementing the FrankenUI examples from their docs in a python library.\n",
    "\n",
    "I am doing this by building a library as I go, $`fh_frankenui`.  You should use this library as much as possible\n",
    "\n",
    "Reference the $`idiomatic_fasthtml_app` to get a feel for fasthtml.\n",
    "\n",
    "I previously implemented the $`cards` example, and the python implementation looked like $`cards_in_python`.\n",
    "\n",
    "Now, I am looking to do the same with the $`auth` example.\n",
    "\n",
    "The goal is to develop the work-in-progress `fh_frankenui` library, so please use `fh_frankenui` as much as makes sense and recommend functions or improvements to `fh_frankenui` when it fits.\n",
    "\n",
    "Please read all this information and confirm that you understand what I want to do by giving me a brief overview in your own words.\n",
    "\n",
    "Before answering, let me know if any of the variables I supplied are invalid or empty."
   ]
  },
  {
   "cell_type": "markdown",
   "id": "93f761af",
   "metadata": {},
   "source": [
    "I've reviewed the provided information and all the variables appear to be valid and populated. Now, I'll provide a brief overview of what you're aiming to do:\n",
    "\n",
    "You're developing a Python library called `fh_frankenui` to implement FrankenUI components for FastHTML. Your approach involves recreating FrankenUI examples from their documentation in Python, building up the library as you go. You've already implemented the 'cards' example and are now looking to do the same with the 'authentication' example.\n",
    "\n",
    "Your goal is to use the `fh_frankenui` library as much as possible while implementing the authentication example, and to recommend improvements or additional functions for the library where appropriate. You're using the `idiomatic_fasthtml_app` as a reference for FastHTML conventions and best practices.\n",
    "\n",
    "This process serves two purposes: \n",
    "1. Creating a Python implementation of the FrankenUI authentication example\n",
    "2. Further developing and refining the `fh_frankenui` library\n",
    "\n",
    "You want me to help you with this implementation, using the existing `fh_frankenui` components where possible, suggesting new components or functions when needed, and following FastHTML and FrankenUI conventions throughout the process.\n",
    "\n",
    "Is this understanding correct? Would you like me to proceed with helping you implement the authentication example?"
   ]
  },
  {
   "cell_type": "code",
   "execution_count": 33,
   "id": "e27f02ce",
   "metadata": {},
   "outputs": [],
   "source": [
    "%%aip 0\n",
    "\n",
    "yes please try to replicate the HTML on $`auth` in FastHTML"
   ]
  },
  {
   "cell_type": "code",
   "execution_count": 38,
   "id": "5038af0e",
   "metadata": {},
   "outputs": [],
   "source": [
    "#| export\n",
    "\n",
    "def FrankenSvgIcon(viewBox, path, cls=\"\"):\n",
    "    \"\"\"\n",
    "    Create a reusable SVG icon component.\n",
    "    \n",
    "    :param viewBox: The viewBox attribute for the SVG\n",
    "    :param path: The path data for the SVG\n",
    "    :param cls: Additional classes for the SVG (default: \"\")\n",
    "    :return: An Svg component\n",
    "    \"\"\"\n",
    "    return Svg(viewBox=viewBox, cls=f\"inline-block {cls}\")(\n",
    "        Path(d=path)\n",
    "    )\n",
    "\n",
    "def FrankenDivider(text, cls=\"\"):\n",
    "    \"\"\"\n",
    "    Create a divider with text in the middle.\n",
    "    \n",
    "    :param text: The text to display in the divider\n",
    "    :param cls: Additional classes for the divider (default: \"\")\n",
    "    :return: A Div component representing the divider\n",
    "    \"\"\"\n",
    "    return Div(cls=f\"relative {cls}\")(\n",
    "        Div(cls=\"absolute inset-0 flex items-center\")(\n",
    "            Span(cls=\"w-full border-t border-border\")\n",
    "        ),\n",
    "        Div(cls=\"relative flex justify-center text-xs uppercase\")(\n",
    "            Span(cls=\"bg-background px-2 text-muted-foreground\")(text)\n",
    "        )\n",
    "    )\n",
    "\n",
    "def FrankenFormLayout(title, subtitle, content, footer=None, cls=\"\"):\n",
    "    \"\"\"\n",
    "    Create a standard form layout with title, subtitle, content, and optional footer.\n",
    "    \n",
    "    :param title: The title of the form\n",
    "    :param subtitle: The subtitle or description of the form\n",
    "    :param content: The main content of the form (list of components)\n",
    "    :param footer: Optional footer content (default: None)\n",
    "    :param cls: Additional classes for the layout (default: \"\")\n",
    "    :return: A Div component representing the form layout\n",
    "    \"\"\"\n",
    "    layout = Div(cls=f\"space-y-6 {cls}\")(\n",
    "        Div(cls=\"flex flex-col space-y-2 text-center\")(\n",
    "            UkH1(title, cls=\"text-2xl font-semibold tracking-tight\"),\n",
    "            P(cls=\"text-sm text-muted-foreground\")(subtitle)\n",
    "        ),\n",
    "        *content\n",
    "    )\n",
    "    \n",
    "    if footer:\n",
    "        layout(footer)\n",
    "    \n",
    "    return layout"
   ]
  },
  {
   "cell_type": "code",
   "execution_count": 42,
   "id": "b753bd8a",
   "metadata": {},
   "outputs": [],
   "source": [
    "#| export\n",
    "\n",
    "def page():\n",
    "    logo_svg = FrankenSvgIcon(\"0 0 24 24\", \"M15 6v12a3 3 0 1 0 3-3H6a3 3 0 1 0 3 3V6a3 3 0 1 0-3 3h12a3 3 0 1 0-3-3\", cls=\"mr-2 h-6 w-6\")\n",
    "    \n",
    "    github_svg = FrankenSvgIcon(\"0 0 438.549 438.549\", \"M409.132 114.573c-19.608-33.596-46.205-60.194-79.798-79.8-33.598-19.607-70.277-29.408-110.063-29.408-39.781 0-76.472 9.804-110.063 29.408-33.596 19.605-60.192 46.204-79.8 79.8C9.803 148.168 0 184.854 0 224.63c0 47.78 13.94 90.745 41.827 128.906 27.884 38.164 63.906 64.572 108.063 79.227 5.14.954 8.945.283 11.419-1.996 2.475-2.282 3.711-5.14 3.711-8.562 0-.571-.049-5.708-.144-15.417a2549.81 2549.81 0 01-.144-25.406l-6.567 1.136c-4.187.767-9.469 1.092-15.846 1-6.374-.089-12.991-.757-19.842-1.999-6.854-1.231-13.229-4.086-19.13-8.559-5.898-4.473-10.085-10.328-12.56-17.556l-2.855-6.57c-1.903-4.374-4.899-9.233-8.992-14.559-4.093-5.331-8.232-8.945-12.419-10.848l-1.999-1.431c-1.332-.951-2.568-2.098-3.711-3.429-1.142-1.331-1.997-2.663-2.568-3.997-.572-1.335-.098-2.43 1.427-3.289 1.525-.859 4.281-1.276 8.28-1.276l5.708.853c3.807.763 8.516 3.042 14.133 6.851 5.614 3.806 10.229 8.754 13.846 14.842 4.38 7.806 9.657 13.754 15.846 17.847 6.184 4.093 12.419 6.136 18.699 6.136 6.28 0 11.704-.476 16.274-1.423 4.565-.952 8.848-2.383 12.847-4.285 1.713-12.758 6.377-22.559 13.988-29.41-10.848-1.14-20.601-2.857-29.264-5.14-8.658-2.286-17.605-5.996-26.835-11.14-9.235-5.137-16.896-11.516-22.985-19.126-6.09-7.614-11.088-17.61-14.987-29.979-3.901-12.374-5.852-26.648-5.852-42.826 0-23.035 7.52-42.637 22.557-58.817-7.044-17.318-6.379-36.732 1.997-58.24 5.52-1.715 13.706-.428 24.554 3.853 10.85 4.283 18.794 7.952 23.84 10.994 5.046 3.041 9.089 5.618 12.135 7.708 17.705-4.947 35.976-7.421 54.818-7.421s37.117 2.474 54.823 7.421l10.849-6.849c7.419-4.57 16.18-8.758 26.262-12.565 10.088-3.805 17.802-4.853 23.134-3.138 8.562 21.509 9.325 40.922 2.279 58.24 15.036 16.18 22.559 35.787 22.559 58.817 0 16.178-1.958 30.497-5.853 42.966-3.9 12.471-8.941 22.457-15.125 29.979-6.191 7.521-13.901 13.85-23.131 18.986-9.232 5.14-18.182 8.85-26.84 11.136-8.662 2.286-18.415 4.004-29.263 5.146 9.894 8.562 14.842 22.077 14.842 40.539v60.237c0 3.422 1.19 6.279 3.572 8.562 2.379 2.279 6.136 2.95 11.276 1.995 44.163-14.653 80.185-41.062 108.068-79.226 27.88-38.161 41.825-81.126 41.825-128.906-.01-39.771-9.818-76.454-29.414-110.049z\", cls=\"mr-2 h-4 w-4\")\n",
    "\n",
    "    left_column = Div(cls=\"col-span-1 hidden flex-col justify-between bg-zinc-900 p-8 text-white lg:flex\")(\n",
    "        Div(cls=\"flex items-center text-lg font-medium\")(logo_svg, \"Acme Inc\"),\n",
    "        Blockquote(cls=\"space-y-2\")(\n",
    "            P(cls=\"text-lg\")('\"This library has saved me countless hours of work and helped me deliver stunning designs to my clients faster than ever before.\"'),\n",
    "            Footer(cls=\"text-sm\")(\"Sofia Davis\")\n",
    "        )\n",
    "    )\n",
    "\n",
    "    form_content = [\n",
    "        UkInput(placeholder=\"name@example.com\", type=\"text\"),\n",
    "        UkButton(Span(cls=\"mr-2\", uk_spinner=\"ratio: 0.54\"), \"Sign in with Email\", cls=(UkButtonT.primary, \"w-full\"), disabled=True),\n",
    "        FrankenDivider(\"Or continue with\"),\n",
    "        UkButton(github_svg, \"Github\", cls=(UkButtonT.default, \"w-full\"), uk_toggle=\"#demo\")\n",
    "    ]\n",
    "\n",
    "    form_footer = P(cls=\"px-8 text-center text-sm text-muted-foreground\")(\n",
    "        \"By clicking continue, you agree to our \",\n",
    "        A(cls=\"underline underline-offset-4 hover:text-primary\", href=\"#demo\", uk_toggle=True)(\"Terms of Service\"),\n",
    "        \" and \",\n",
    "        A(cls=\"underline underline-offset-4 hover:text-primary\", href=\"#demo\", uk_toggle=True)(\"Privacy Policy\"),\n",
    "        \".\"\n",
    "    )\n",
    "\n",
    "    login_form = FrankenFormLayout(\n",
    "        \"Create an account\",\n",
    "        \"Enter your email below to create your account\",\n",
    "        form_content,\n",
    "        form_footer,\n",
    "        cls=\"w-[350px]\"\n",
    "    )\n",
    "\n",
    "    right_column = Div(cls=\"col-span-2 flex flex-col p-8 lg:col-span-1\")(\n",
    "        Div(cls=\"flex flex-none justify-end\")(\n",
    "            UkButton(\"Login\", cls=UkButtonT.ghost, uk_toggle=\"#demo\")\n",
    "        ),\n",
    "        Div(cls=\"flex flex-1 items-center justify-center\")(login_form)\n",
    "    )\n",
    "\n",
    "    return Div(cls=\"grid h-screen grid-cols-2\")(left_column, right_column)"
   ]
  },
  {
   "cell_type": "code",
   "execution_count": 43,
   "id": "eb744b1d",
   "metadata": {},
   "outputs": [],
   "source": [
    "#| export\n",
    "\n",
    "auth_homepage = page()"
   ]
  },
  {
   "cell_type": "code",
   "execution_count": 44,
   "id": "602eebb4",
   "metadata": {},
   "outputs": [],
   "source": [
    "#| hide\n",
    "import nbdev; nbdev.nbdev_export()"
   ]
  },
  {
   "cell_type": "code",
   "execution_count": null,
   "id": "dd3d7895",
   "metadata": {},
   "outputs": [],
   "source": []
  },
  {
   "cell_type": "code",
   "execution_count": null,
   "id": "1b144381",
   "metadata": {},
   "outputs": [],
   "source": []
  }
 ],
 "metadata": {
  "kernelspec": {
   "display_name": "Python 3 (ipykernel)",
   "language": "python",
   "name": "python3"
  },
  "language_info": {
   "codemirror_mode": {
    "name": "ipython",
    "version": 3
   },
   "file_extension": ".py",
   "mimetype": "text/x-python",
   "name": "python",
   "nbconvert_exporter": "python",
   "pygments_lexer": "ipython3",
   "version": "3.12.4"
  },
  "toc": {
   "base_numbering": 1,
   "nav_menu": {},
   "number_sections": true,
   "sideBar": true,
   "skip_h1_title": false,
   "title_cell": "Table of Contents",
   "title_sidebar": "Contents",
   "toc_cell": false,
   "toc_position": {},
   "toc_section_display": true,
   "toc_window_display": false
  }
 },
 "nbformat": 4,
 "nbformat_minor": 5
}
