{
 "cells": [
  {
   "cell_type": "code",
   "execution_count": 1,
   "id": "8de1f656",
   "metadata": {},
   "outputs": [],
   "source": [
    "#| default_exp auth"
   ]
  },
  {
   "cell_type": "code",
   "execution_count": 2,
   "id": "6c16c057",
   "metadata": {},
   "outputs": [],
   "source": [
    "#| export\n",
    "from fasthtml.common import *\n",
    "from fasthtml.components import Uk\n",
    "from fh_frankenui.components import *\n",
    "from fasthtml.components import Uk_icon\n",
    "from fasthtml.svg import *\n",
    "from fh_matplotlib import matplotlib2fasthtml\n",
    "import numpy as np\n",
    "from pathlib import Path\n",
    "import matplotlib.pylab as plt"
   ]
  },
  {
   "cell_type": "code",
   "execution_count": 3,
   "id": "f97e9da7",
   "metadata": {},
   "outputs": [],
   "source": [
    "#| hide\n",
    "from nbdev.showdoc import *"
   ]
  },
  {
   "cell_type": "code",
   "execution_count": 4,
   "id": "ed3ff699",
   "metadata": {},
   "outputs": [
    {
     "data": {
      "text/html": [
       "<script src=\"https://cdn.tailwindcss.com\"></script>\n",
       "<script src=\"https://cdn.jsdelivr.net/npm/uikit@3.21.6/dist/js/uikit.min.js\"></script>\n",
       "<script src=\"https://cdn.jsdelivr.net/npm/uikit@3.21.6/dist/js/uikit-icons.min.js\"></script>\n",
       "<script type=\"module\" src=\"https://unpkg.com/franken-wc@0.0.6/dist/js/wc.iife.js\"></script>\n",
       "<link rel=\"stylesheet\" href=\"https://unpkg.com/franken-wc@0.0.6/dist/css/blue.min.css\">\n",
       "\n",
       "<style>\n",
       "#notebook-container { max-width: none; }\n",
       ".output_html * { list-style-type: none !important; }\n",
       "</style>\n"
      ],
      "text/plain": [
       "<IPython.core.display.HTML object>"
      ]
     },
     "metadata": {},
     "output_type": "display_data"
    }
   ],
   "source": [
    "%%html\n",
    "<script src=\"https://cdn.tailwindcss.com\"></script>\n",
    "<script src=\"https://cdn.jsdelivr.net/npm/uikit@3.21.6/dist/js/uikit.min.js\"></script>\n",
    "<script src=\"https://cdn.jsdelivr.net/npm/uikit@3.21.6/dist/js/uikit-icons.min.js\"></script>\n",
    "<script type=\"module\" src=\"https://unpkg.com/franken-wc@0.0.6/dist/js/wc.iife.js\"></script>\n",
    "<link rel=\"stylesheet\" href=\"https://unpkg.com/franken-wc@0.0.6/dist/css/blue.min.css\">\n",
    "\n",
    "<style>\n",
    "#notebook-container { max-width: none; }\n",
    ".output_html * { list-style-type: none !important; }\n",
    "</style>"
   ]
  },
  {
   "cell_type": "code",
   "execution_count": 5,
   "id": "8b5ce8fd",
   "metadata": {},
   "outputs": [],
   "source": [
    "# from httpx import get\n",
    "# fh_fui = Path(os.path.expanduser('~/fh-frankenui/fh_frankenui'))\n",
    "# fh_fui_ex = Path(os.path.expanduser('~/fh-frankenui-examples/fh_frankenui_examples'))\n",
    "\n",
    "# fh_frankenui = (fh_fui / \"components.py\").read_text()\n",
    "\n",
    "# url = 'https://raw.githubusercontent.com/franken-ui/examples/master/src/pages/examples/authentication.astro'\n",
    "# auth = get(url).text\n",
    "\n",
    "# url = 'https://raw.githubusercontent.com/franken-ui/examples/master/src/pages/examples/cards.astro'\n",
    "# cards = get(url).text\n",
    "\n",
    "# cards_in_python = (fh_fui_ex / 'cards.py').read_text()\n",
    "\n",
    "# url = 'https://raw.githubusercontent.com/AnswerDotAI/fasthtml/main/examples/adv_app.py'\n",
    "# idiomatic_fasthtml_app = get(url).text"
   ]
  },
  {
   "cell_type": "code",
   "execution_count": 6,
   "id": "2b2d7da3",
   "metadata": {},
   "outputs": [],
   "source": [
    "%%ai 0 -c\n",
    "\n",
    "I am implementing FrankenUI for FastHTML by reimplementing the FrankenUI examples from their docs in a python library.\n",
    "\n",
    "I am doing this by building a library as I go, $`fh_frankenui`.  You should use this library as much as possible\n",
    "\n",
    "Reference the $`idiomatic_fasthtml_app` to get a feel for fasthtml.\n",
    "\n",
    "I previously implemented the $`cards` example, and the python implementation looked like $`cards_in_python`.\n",
    "\n",
    "Now, I am looking to do the same with the $`auth` example.\n",
    "\n",
    "The goal is to develop the work-in-progress `fh_frankenui` library, so please use `fh_frankenui` as much as makes sense and recommend functions or improvements to `fh_frankenui` when it fits.\n",
    "\n",
    "Please read all this information and confirm that you understand what I want to do by giving me a brief overview in your own words.\n",
    "\n",
    "Before answering, let me know if any of the variables I supplied are invalid or empty."
   ]
  },
  {
   "cell_type": "markdown",
   "id": "93f761af",
   "metadata": {},
   "source": [
    "I've reviewed the provided information and all the variables appear to be valid and populated. Now, I'll provide a brief overview of what you're aiming to do:\n",
    "\n",
    "You're developing a Python library called `fh_frankenui` to implement FrankenUI components for FastHTML. Your approach involves recreating FrankenUI examples from their documentation in Python, building up the library as you go. You've already implemented the 'cards' example and are now looking to do the same with the 'authentication' example.\n",
    "\n",
    "Your goal is to use the `fh_frankenui` library as much as possible while implementing the authentication example, and to recommend improvements or additional functions for the library where appropriate. You're using the `idiomatic_fasthtml_app` as a reference for FastHTML conventions and best practices.\n",
    "\n",
    "This process serves two purposes: \n",
    "1. Creating a Python implementation of the FrankenUI authentication example\n",
    "2. Further developing and refining the `fh_frankenui` library\n",
    "\n",
    "You want me to help you with this implementation, using the existing `fh_frankenui` components where possible, suggesting new components or functions when needed, and following FastHTML and FrankenUI conventions throughout the process.\n",
    "\n",
    "Is this understanding correct? Would you like me to proceed with helping you implement the authentication example?"
   ]
  },
  {
   "cell_type": "code",
   "execution_count": 7,
   "id": "e27f02ce",
   "metadata": {},
   "outputs": [],
   "source": [
    "%%aip 0\n",
    "\n",
    "yes please try to replicate the HTML on $`auth` in FastHTML"
   ]
  },
  {
   "cell_type": "code",
   "execution_count": 8,
   "id": "b753bd8a",
   "metadata": {},
   "outputs": [],
   "source": [
    "#| export\n",
    "\n",
    "def page():    \n",
    "    left = Div(cls=\"col-span-1 hidden flex-col justify-between bg-zinc-900 p-8 text-white lg:flex\")(\n",
    "        Div(cls=(TextB.wt_bold,TextB.sz_medium))(\"Acme Inc\"),\n",
    "        Blockquote(cls=\"space-y-2\")(\n",
    "            P(cls=TextB.sz_large)('\"This library has saved me countless hours of work and helped me deliver stunning designs to my clients faster than ever before.\"'),\n",
    "            Footer(cls=TextB.sz_small)(\"Sofia Davis\")))\n",
    "\n",
    "    right = Div(cls=\"col-span-2 flex flex-col p-8 lg:col-span-1\")(\n",
    "        Div(cls=\"flex flex-none justify-end\")(UkButton(\"Login\", cls=UkButtonT.ghost, uk_toggle=\"#demo\")),\n",
    "        CenteredContainer(cls='flex-1')(\n",
    "            Div(cls=f\"space-y-6 w-[350px]\")(\n",
    "                Div(cls=\"flex flex-col space-y-2 text-center\")(\n",
    "                    UkH3(\"Create an account\"),\n",
    "                    P(cls=TextT.muted_sm)(\"Enter your email below to create your account\")),\n",
    "                Form(cls='space-y-6')(\n",
    "                        UkInput(placeholder=\"name@example.com\"),\n",
    "                        UkButton(Span(cls=\"mr-2\", uk_spinner=\"ratio: 0.54\"), \"Sign in with Email\", cls=(UkButtonT.primary, \"w-full\"), disabled=True),\n",
    "                        UkHSplit(\"Or continue with\",cls=TextT.muted_sm),\n",
    "                        UkButton(UkIcon('github',cls='mr-2'), \"Github\", cls=(UkButtonT.default, \"w-full\"), uk_toggle=\"#demo\")),\n",
    "                P(cls=(TextT.muted_sm,\"text-center\"))(\n",
    "                \"By clicking continue, you agree to our \",\n",
    "                A(cls=\"underline underline-offset-4 hover:text-primary\", href=\"#demo\", uk_toggle=True)(\"Terms of Service\"),\" and \",\n",
    "                A(cls=\"underline underline-offset-4 hover:text-primary\", href=\"#demo\", uk_toggle=True)(\"Privacy Policy\"),\".\"))))\n",
    "    \n",
    "    return Div(cls=\"grid h-screen grid-cols-2\")(left,right)"
   ]
  },
  {
   "cell_type": "code",
   "execution_count": 9,
   "id": "eb744b1d",
   "metadata": {},
   "outputs": [],
   "source": [
    "#| export\n",
    "\n",
    "auth_homepage = page()"
   ]
  },
  {
   "cell_type": "code",
   "execution_count": null,
   "id": "a56bf1d6",
   "metadata": {},
   "outputs": [],
   "source": []
  },
  {
   "cell_type": "code",
   "execution_count": null,
   "id": "dc99446b",
   "metadata": {},
   "outputs": [],
   "source": []
  },
  {
   "cell_type": "code",
   "execution_count": 10,
   "id": "602eebb4",
   "metadata": {},
   "outputs": [],
   "source": [
    "#| hide\n",
    "import nbdev; nbdev.nbdev_export()"
   ]
  },
  {
   "cell_type": "code",
   "execution_count": null,
   "id": "dd3d7895",
   "metadata": {},
   "outputs": [],
   "source": []
  },
  {
   "cell_type": "code",
   "execution_count": null,
   "id": "1b144381",
   "metadata": {},
   "outputs": [],
   "source": []
  }
 ],
 "metadata": {
  "kernelspec": {
   "display_name": "Python 3 (ipykernel)",
   "language": "python",
   "name": "python3"
  },
  "language_info": {
   "codemirror_mode": {
    "name": "ipython",
    "version": 3
   },
   "file_extension": ".py",
   "mimetype": "text/x-python",
   "name": "python",
   "nbconvert_exporter": "python",
   "pygments_lexer": "ipython3",
   "version": "3.12.4"
  },
  "toc": {
   "base_numbering": 1,
   "nav_menu": {},
   "number_sections": true,
   "sideBar": true,
   "skip_h1_title": false,
   "title_cell": "Table of Contents",
   "title_sidebar": "Contents",
   "toc_cell": false,
   "toc_position": {},
   "toc_section_display": true,
   "toc_window_display": false
  }
 },
 "nbformat": 4,
 "nbformat_minor": 5
}
