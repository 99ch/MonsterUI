{
 "cells": [
  {
   "cell_type": "markdown",
   "id": "babe11dd",
   "metadata": {},
   "source": [
    "# Forms\n",
    "\n",
    "> FrankenUI Forms Example"
   ]
  },
  {
   "cell_type": "code",
   "execution_count": 1,
   "id": "04abc944",
   "metadata": {},
   "outputs": [],
   "source": [
    "#| default_exp forms"
   ]
  },
  {
   "cell_type": "code",
   "execution_count": 2,
   "id": "cef92ebb",
   "metadata": {},
   "outputs": [],
   "source": [
    "#| export\n",
    "from fasthtml.common import *\n",
    "from fh_frankenui import *\n",
    "from fasthtml.svg import *\n",
    "from fh_matplotlib import matplotlib2fasthtml\n",
    "import numpy as np\n",
    "import matplotlib.pylab as plt"
   ]
  },
  {
   "cell_type": "code",
   "execution_count": 3,
   "id": "02ad7e62",
   "metadata": {},
   "outputs": [],
   "source": [
    "#| hide\n",
    "from nbdev.showdoc import *"
   ]
  },
  {
   "cell_type": "code",
   "execution_count": 4,
   "id": "f0f5477a",
   "metadata": {},
   "outputs": [
    {
     "data": {
      "text/html": [
       "<script src=\"https://cdn.tailwindcss.com\"></script>\n",
       "<script src=\"https://cdn.jsdelivr.net/npm/uikit@3.21.6/dist/js/uikit.min.js\"></script>\n",
       "<script src=\"https://cdn.jsdelivr.net/npm/uikit@3.21.6/dist/js/uikit-icons.min.js\"></script>\n",
       "<script type=\"module\" src=\"https://unpkg.com/franken-wc@0.0.6/dist/js/wc.iife.js\"></script>\n",
       "<link rel=\"stylesheet\" href=\"https://unpkg.com/franken-wc@0.0.6/dist/css/blue.min.css\">\n",
       "\n",
       "<style>\n",
       "#notebook-container { max-width: none; }\n",
       ".output_html * { list-style-type: none !important; }\n",
       "</style>\n"
      ],
      "text/plain": [
       "<IPython.core.display.HTML object>"
      ]
     },
     "metadata": {},
     "output_type": "display_data"
    }
   ],
   "source": [
    "%%html\n",
    "<script src=\"https://cdn.tailwindcss.com\"></script>\n",
    "<script src=\"https://cdn.jsdelivr.net/npm/uikit@3.21.6/dist/js/uikit.min.js\"></script>\n",
    "<script src=\"https://cdn.jsdelivr.net/npm/uikit@3.21.6/dist/js/uikit-icons.min.js\"></script>\n",
    "<script type=\"module\" src=\"https://unpkg.com/franken-wc@0.0.6/dist/js/wc.iife.js\"></script>\n",
    "<link rel=\"stylesheet\" href=\"https://unpkg.com/franken-wc@0.0.6/dist/css/blue.min.css\">\n",
    "\n",
    "<style>\n",
    "#notebook-container { max-width: none; }\n",
    ".output_html * { list-style-type: none !important; }\n",
    "</style>"
   ]
  },
  {
   "cell_type": "code",
   "execution_count": 5,
   "id": "844beebf",
   "metadata": {},
   "outputs": [],
   "source": [
    "%%aip 0\n",
    "\n",
    "Implement the heading and top description in a heading variable"
   ]
  },
  {
   "cell_type": "code",
   "execution_count": 6,
   "id": "a93f015d",
   "metadata": {},
   "outputs": [],
   "source": [
    "#| export\n",
    "def heading():\n",
    "    return Div(cls=\"space-y-5\")(\n",
    "            UkH2(\"Settings\"),\n",
    "            P(\"Manage your account settings and set e-mail preferences.\", cls=TextT.muted_sm),\n",
    "            UkHSplit())"
   ]
  },
  {
   "cell_type": "code",
   "execution_count": 7,
   "id": "c5c49e9a",
   "metadata": {},
   "outputs": [
    {
     "data": {
      "text/html": [
       "<div class=\"space-y-5\">\n",
       "  <h2 class=\"uk-h2\">Settings</h2>\n",
       "  <p class=\"text-sm uk-text-muted\">Manage your account settings and set e-mail preferences.</p>\n",
       "  <div class=\"relative \">\n",
       "    <div class=\"absolute inset-0 flex items-center \">\n",
       "<span class=\"w-full border-t border-border\"></span>    </div>\n",
       "    <div class=\"relative flex justify-center \">\n",
       "<span class=\"bg-background px-2 \"></span>    </div>\n",
       "  </div>\n",
       "</div>\n"
      ],
      "text/plain": [
       "<IPython.core.display.HTML object>"
      ]
     },
     "execution_count": 7,
     "metadata": {},
     "output_type": "execute_result"
    }
   ],
   "source": [
    "show(heading())"
   ]
  },
  {
   "cell_type": "code",
   "execution_count": 8,
   "id": "4ec8d274",
   "metadata": {},
   "outputs": [
    {
     "data": {
      "text/html": [
       "<div class=\"space-y-0 p-1 w-1/5\">\n",
       "  <ul uk-switcher=\"connect: #component-nav; animation: uk-animation-fade\" class=\"uk-nav uk-nav-secondary space-y-2 \">\n",
       "    <li>\n",
       "<a href=\"#\" role=\"button\">Profile</a>    </li>\n",
       "    <li>\n",
       "<a href=\"#\" role=\"button\">Account</a>    </li>\n",
       "    <li>\n",
       "<a href=\"#\" role=\"button\">Appearance</a>    </li>\n",
       "    <li>\n",
       "<a href=\"#\" role=\"button\">Notifications</a>    </li>\n",
       "    <li>\n",
       "<a href=\"#\" role=\"button\">Display</a>    </li>\n",
       "  </ul>\n",
       "</div>\n"
      ],
      "text/plain": [
       "<IPython.core.display.HTML object>"
      ]
     },
     "execution_count": 8,
     "metadata": {},
     "output_type": "execute_result"
    }
   ],
   "source": [
    "#| export\n",
    "sidebar_items = [\"Profile\", \"Account\", \"Appearance\", \"Notifications\", \"Display\"]\n",
    "sidebar = UkSidebar(\n",
    "    sections=[sidebar_items],\n",
    "    cls=\"w-1/5\",\n",
    "    outer_margin=1,\n",
    "    inner_margin=0,\n",
    "    uk_switcher=\"connect: #component-nav; animation: uk-animation-fade\"\n",
    ")\n",
    "\n",
    "# To display the sidebar\n",
    "show(sidebar)"
   ]
  },
  {
   "cell_type": "code",
   "execution_count": 9,
   "id": "acdb80d6",
   "metadata": {},
   "outputs": [],
   "source": [
    "%%aip 0\n",
    "\n",
    "Make a function or the profile page content for that tab"
   ]
  },
  {
   "cell_type": "code",
   "execution_count": 10,
   "id": "61263939",
   "metadata": {},
   "outputs": [],
   "source": [
    "#| export\n",
    "def profile_form():\n",
    "    content = (Div(cls=\"space-y-2\")(\n",
    "            UkInput(\"Username\",placeholder='sveltecult', id='username'),\n",
    "            HelpText(\"This is your public display name. It can be your real name or a pseudonym. You can only change this once every 30 days.\")),\n",
    "        Div(cls=\"space-y-2\")(\n",
    "            Label(\"Email\", for_=\"email\", cls=\"uk-form-label\"),\n",
    "            UkSelect(Option(\"Select a verified email to display\", value=\"\", selected=True, disabled=True),\n",
    "                     *map(Option,('m@example.com', 'm@yahoo.com', 'm@cloud.com')),  \n",
    "                     id=\"email\"),\n",
    "            HelpText(\"You can manage verified email addresses in your email settings.\")),\n",
    "        Div(cls=\"space-y-2\")(\n",
    "            UkTextArea(\"Bio\", id=\"bio\", placeholder=\"Tell us a little bit about yourself\"),\n",
    "            HelpText(\"You can @mention other users and organizations to link to them.\"),\n",
    "            Div(\"String must contain at least 4 character(s)\", cls=\"text-destructive\")),\n",
    "        Div(cls=\"space-y-2\")(\n",
    "            Span(\"URLs\", cls=\"uk-form-label\"),\n",
    "            HelpText(\"Add links to your website, blog, or social media profiles.\"),\n",
    "            UkInput(value=\"https://www.franken-ui.dev\"),\n",
    "            UkInput(value=\"https://github.com/sveltecult/franken-ui\"),\n",
    "            UkButton(\"Add URL\")))\n",
    "    \n",
    "    return UkFormSection('Profile', 'This is how others will see you on the site.', button_txt='Update profile', *content)"
   ]
  },
  {
   "cell_type": "code",
   "execution_count": 11,
   "id": "6706c0f0",
   "metadata": {},
   "outputs": [],
   "source": [
    "%%aip 0\n",
    "\n",
    "Now make the Account page.  Remember to use all the handy fh_frankenui stuff and model this style and function usage off of `profile_form`"
   ]
  },
  {
   "cell_type": "code",
   "execution_count": 12,
   "id": "843c9e8b",
   "metadata": {},
   "outputs": [],
   "source": [
    "#| export\n",
    "def account_form():\n",
    "    content = (\n",
    "        Div(cls=\"space-y-2\")(\n",
    "            UkInput(\"Name\", placeholder=\"Your name\", id=\"name\"),\n",
    "            HelpText(\"This is the name that will be displayed on your profile and in emails.\")),\n",
    "        Div(cls=\"space-y-2\")(\n",
    "            UkInput(\"Date of Birth\", type=\"date\", placeholder=\"Pick a date\", id=\"date_of_birth\", cls=\"w-[240px]\"),\n",
    "            HelpText(\"Your date of birth is used to calculate your age.\")),\n",
    "        Div(cls=\"space-y-2\")(\n",
    "            UkSelect(*Options(\"Select a language\", \"English\", \"French\", \"German\", \"Spanish\", \"Portuguese\", selected_idx=1, disabled_idxs={0}),\n",
    "                     label='Language',\n",
    "                     id=\"language\"),\n",
    "            HelpText(\"This is the language that will be used in the dashboard.\"))\n",
    "    )\n",
    "    \n",
    "    return UkFormSection('Account', 'Update your account settings. Set your preferred language and timezone.', button_txt='Update profile', *content)"
   ]
  },
  {
   "cell_type": "code",
   "execution_count": 13,
   "id": "373a55ad",
   "metadata": {},
   "outputs": [],
   "source": [
    "%%aip 0\n",
    "\n",
    "Now make the Appearance page.  Remember to use all the handy fh_frankenui stuff and model this style and function usage off of `profile_form` and `account_form`"
   ]
  },
  {
   "cell_type": "code",
   "execution_count": 14,
   "id": "d94fb8a7",
   "metadata": {},
   "outputs": [],
   "source": [
    "#| export\n",
    "def appearance_form():\n",
    "    content = (\n",
    "        Div(cls=\"space-y-2\")(\n",
    "            UkSelect(*Options('Select a font family', 'Inter', 'Geist', 'Open Sans', selected_idx=2, disabled_idxs={0}),\n",
    "            label='Font Family',\n",
    "            id='font_family'\n",
    "        ), HelpText(\"Set the font you want to use in the dashboard.\")),\n",
    "        Div(cls=\"space-y-2\")(\n",
    "            Span(\"Theme\", cls=\"uk-form-label\"),\n",
    "            HelpText(\"Select the theme for the dashboard.\"),\n",
    "            Grid(A(id=\"theme-toggle-light\", cls=\"block cursor-pointer items-center rounded-md border-2 border-muted p-1 ring-ring\")(\n",
    "                    Div(cls=\"space-y-2 rounded-sm bg-[#ecedef] p-2\")(\n",
    "                        Div(cls=\"space-y-2 rounded-md bg-white p-2 shadow-sm\")(\n",
    "                            Div(cls=\"h-2 w-[80px] rounded-lg bg-[#ecedef]\"),\n",
    "                            Div(cls=\"h-2 w-[100px] rounded-lg bg-[#ecedef]\")),\n",
    "                        Div(cls=\"flex items-center space-x-2 rounded-md bg-white p-2 shadow-sm\")(\n",
    "                            Div(cls=\"h-4 w-4 rounded-full bg-[#ecedef]\"),\n",
    "                            Div(cls=\"h-2 w-[100px] rounded-lg bg-[#ecedef]\")),\n",
    "                        Div(cls=\"flex items-center space-x-2 rounded-md bg-white p-2 shadow-sm\")(\n",
    "                            Div(cls=\"h-4 w-4 rounded-full bg-[#ecedef]\"),\n",
    "                            Div(cls=\"h-2 w-[100px] rounded-lg bg-[#ecedef]\")))),\n",
    "                A(id=\"theme-toggle-dark\", cls=\"block cursor-pointer items-center rounded-md border-2 border-muted bg-popover p-1 ring-ring\")(\n",
    "                    Div(cls=\"space-y-2 rounded-sm bg-slate-950 p-2\")(\n",
    "                        Div(cls=\"space-y-2 rounded-md bg-slate-800 p-2 shadow-sm\")(\n",
    "                            Div(cls=\"h-2 w-[80px] rounded-lg bg-slate-400\"),\n",
    "                            Div(cls=\"h-2 w-[100px] rounded-lg bg-slate-400\")),\n",
    "                        Div(cls=\"flex items-center space-x-2 rounded-md bg-slate-800 p-2 shadow-sm\")(\n",
    "                            Div(cls=\"h-4 w-4 rounded-full bg-slate-400\"),\n",
    "                            Div(cls=\"h-2 w-[100px] rounded-lg bg-slate-400\")),\n",
    "                        Div(cls=\"flex items-center space-x-2 rounded-md bg-slate-800 p-2 shadow-sm\")(\n",
    "                            Div(cls=\"h-4 w-4 rounded-full bg-slate-400\"),\n",
    "                            Div(cls=\"h-2 w-[100px] rounded-lg bg-slate-400\")))),\n",
    "            cols=2,gap=8,cls='max-w-md'))\n",
    "    )\n",
    "    \n",
    "    return UkFormSection('Appearance', 'Customize the appearance of the app. Automatically switch between day and night themes.', button_txt='Update preferences', *content)"
   ]
  },
  {
   "cell_type": "code",
   "execution_count": 15,
   "id": "d890e810",
   "metadata": {},
   "outputs": [],
   "source": [
    "#| export\n",
    "\n",
    "def UkRadio(label, id, name, checked=False, **kwargs):\n",
    "    return Label(cls=\"block text-sm\")(\n",
    "        Input(id=id, cls=\"uk-radio mr-2\", name=name, type=\"radio\", checked=checked, **kwargs), label\n",
    "    )\n",
    "\n",
    "def UkToggleSwitch(id, checked=False, disabled=False, **kwargs):\n",
    "    return Input(cls=\"uk-toggle-switch uk-toggle-switch-primary\", id=id, type=\"checkbox\", checked=checked, disabled=disabled, **kwargs)\n",
    "\n",
    "\n",
    "def notifications_form():\n",
    "    content = [\n",
    "        Div(cls=\"space-y-2\")(\n",
    "            Span(\"Notify me about\", cls=\"uk-form-label\"),\n",
    "            *[UkRadio(label, f\"notification_{i}\", \"notification\", checked=(label==\"Nothing\"))\n",
    "              for i, label in enumerate([\"All new messages\", \"Direct messages and mentions\", \"Nothing\"])]),\n",
    "        Div(\n",
    "            UkH3(\"Email Notifications\", cls=\"mb-4 text-lg font-medium\"),\n",
    "            Div(cls=\"space-y-4\")(\n",
    "                *[Div(cls=\"flex items-center justify-between rounded-lg border border-border p-4\")(\n",
    "                    Div(cls=\"space-y-0.5\")(\n",
    "                        Label(item['title'], cls=\"text-base font-medium\", for_=f\"email_notification_{i}\"),\n",
    "                        HelpText(item['description'])),\n",
    "                    UkToggleSwitch(f\"email_notification_{i}\", checked=item['checked'], disabled=item['disabled'])\n",
    "                ) for i, item in enumerate([\n",
    "                    {\"title\": \"Communication emails\", \"description\": \"Receive emails about your account activity.\", \"checked\": False, \"disabled\": False},\n",
    "                    {\"title\": \"Marketing emails\", \"description\": \"Receive emails about new products, features, and more.\", \"checked\": False, \"disabled\": False},\n",
    "                    {\"title\": \"Social emails\", \"description\": \"Receive emails for friend requests, follows, and more.\", \"checked\": True, \"disabled\": False},\n",
    "                    {\"title\": \"Security emails\", \"description\": \"Receive emails about your account activity and security.\", \"checked\": True, \"disabled\": True}\n",
    "                ])])),\n",
    "        Div(cls=\"flex gap-x-3\")(\n",
    "            Input(cls=\"uk-checkbox mt-1\", id=\"notification_mobile\", type=\"checkbox\", checked=True),\n",
    "            Div(cls=\"space-y-1\")(\n",
    "                Label(\"Use different settings for my mobile devices\", cls=\"uk-form-label\", for_=\"notification_mobile\"),\n",
    "                HelpText(\"You can manage your mobile notifications in the mobile settings page.\"))),\n",
    "    ]\n",
    "    \n",
    "    return UkFormSection('Notifications', 'Configure how you receive notifications.', \n",
    "                         *content, button_txt=\"Update notifications\")"
   ]
  },
  {
   "cell_type": "code",
   "execution_count": 16,
   "id": "05a86432",
   "metadata": {},
   "outputs": [],
   "source": [
    "%%aip 0\n",
    "\n",
    "Now make the Display page.  Remember to use all the handy fh_frankenui stuff and model this style and function usage off of `profile_form` and `account_form`"
   ]
  },
  {
   "cell_type": "code",
   "execution_count": 51,
   "id": "1cf07cc7",
   "metadata": {},
   "outputs": [],
   "source": [
    "#| export\n",
    "\n",
    "def UkCheckbox(label, id, checked=False, **kwargs):\n",
    "    return Label(cls=\"block text-sm\", for_=id)(\n",
    "        Input(cls=\"uk-checkbox mr-2\", id=id, type=\"checkbox\", checked=checked, **kwargs),\n",
    "        label)\n",
    "\n",
    "def display_form():\n",
    "    content = (\n",
    "        Div(cls=\"space-y-2\")(\n",
    "            Div(cls=\"mb-4\")(\n",
    "                Span(\"Sidebar\", cls=\"text-base font-medium\"),\n",
    "                HelpText(\"Select the items you want to display in the sidebar.\")),\n",
    "            *[UkCheckbox(label=label, id=f\"display_{i}\", checked=i in [0, 1, 2])\n",
    "              for i, label in enumerate([\"Recents\", \"Home\", \"Applications\", \"Desktop\", \"Downloads\", \"Documents\"])]),\n",
    "    )\n",
    "    \n",
    "    return UkFormSection('Display', 'Turn items on or off to control what\\'s displayed in the app.', button_txt='Update display', *content)"
   ]
  },
  {
   "cell_type": "code",
   "execution_count": 52,
   "id": "e58d1454",
   "metadata": {},
   "outputs": [],
   "source": [
    "#| export\n",
    "def page():\n",
    "    return Div(cls=\"p-6 lg:p-10\")(\n",
    "        heading(),\n",
    "        Div(cls=\"flex gap-x-12\")(\n",
    "            sidebar,\n",
    "            Div(cls=\"flex-1\")(\n",
    "                Ul(id=\"component-nav\", cls=\"uk-switcher max-w-2xl\")(\n",
    "                    Li(cls=\"uk-active\")(profile_form(),\n",
    "                    Li()(account_form()),\n",
    "                    Li()(appearance_form()),\n",
    "                    Li()(notifications_form()),\n",
    "                    Li()(display_form())\n",
    "                    )))))"
   ]
  },
  {
   "cell_type": "code",
   "execution_count": 53,
   "id": "22a8233b",
   "metadata": {},
   "outputs": [],
   "source": [
    "#| exports\n",
    "forms_homepage = page()"
   ]
  },
  {
   "cell_type": "code",
   "execution_count": 54,
   "id": "d7f34221",
   "metadata": {},
   "outputs": [],
   "source": [
    "from pathlib import Path\n",
    "components = Path('../fh_frankenui/components.py').read_text()"
   ]
  },
  {
   "cell_type": "code",
   "execution_count": 55,
   "id": "2fb4758f",
   "metadata": {},
   "outputs": [],
   "source": [
    "%%ai 0\n",
    "\n",
    "is any bit of code in this notebook that could leverage existing code in $`components`"
   ]
  },
  {
   "cell_type": "markdown",
   "id": "3709585a",
   "metadata": {},
   "source": [
    "Yes, there are opportunities to leverage existing code from the `components` module. Here are a few examples:\n",
    "\n",
    "1. The `UkCheckbox` function in the `display_form()` could be replaced with the existing `UkSwitch` from `components`. The `UkSwitch` is already defined as a partial function of `UkGenericInput`, which provides more consistent styling with other form elements.\n",
    "\n",
    "2. The `heading()` function could potentially use `UkH2` and `UkHSplit` from `components` instead of directly using `UkH2` and `UkHSplit`.\n",
    "\n",
    "3. In the `page()` function, the `Ul` with `uk-switcher` class could potentially be replaced with a `UkTab` component if it exists in the `components` module (it's defined there but not clear if it's exported).\n",
    "\n",
    "4. The sidebar creation in earlier cells (not shown in the latest context) could potentially use `UkSidebar` from `components` instead of creating a custom sidebar implementation.\n",
    "\n",
    "5. The form sections (profile_form, account_form, etc.) are already using `UkFormSection` from `components`, which is good. However, they could potentially make more use of other components like `UkInput`, `UkSelect`, and `UkTextArea` for consistency.\n",
    "\n",
    "To fully optimize the code, we'd need to review the entire notebook and compare it with all available components in the `components` module. Some custom implementations might still be necessary for specific design requirements, but leveraging existing components where possible would improve consistency and reduce code duplication."
   ]
  },
  {
   "cell_type": "code",
   "execution_count": 56,
   "id": "1992630d",
   "metadata": {},
   "outputs": [],
   "source": [
    "#| hide\n",
    "import nbdev; nbdev.nbdev_export()"
   ]
  }
 ],
 "metadata": {
  "kernelspec": {
   "display_name": "Python 3 (ipykernel)",
   "language": "python",
   "name": "python3"
  },
  "language_info": {
   "codemirror_mode": {
    "name": "ipython",
    "version": 3
   },
   "file_extension": ".py",
   "mimetype": "text/x-python",
   "name": "python",
   "nbconvert_exporter": "python",
   "pygments_lexer": "ipython3",
   "version": "3.12.4"
  },
  "toc": {
   "base_numbering": 1,
   "nav_menu": {},
   "number_sections": true,
   "sideBar": true,
   "skip_h1_title": false,
   "title_cell": "Table of Contents",
   "title_sidebar": "Contents",
   "toc_cell": false,
   "toc_position": {},
   "toc_section_display": true,
   "toc_window_display": false
  }
 },
 "nbformat": 4,
 "nbformat_minor": 5
}
