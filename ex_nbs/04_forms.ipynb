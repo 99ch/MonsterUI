{
 "cells": [
  {
   "cell_type": "markdown",
   "id": "babe11dd",
   "metadata": {},
   "source": [
    "# Forms\n",
    "\n",
    "> FrankenUI Forms Example"
   ]
  },
  {
   "cell_type": "code",
   "execution_count": 28,
   "id": "04abc944",
   "metadata": {},
   "outputs": [],
   "source": [
    "#| default_exp forms"
   ]
  },
  {
   "cell_type": "code",
   "execution_count": 29,
   "id": "cef92ebb",
   "metadata": {},
   "outputs": [],
   "source": [
    "#| export\n",
    "from fasthtml.common import *\n",
    "from fh_frankenui.components import *\n",
    "from fasthtml.svg import *\n",
    "from fh_matplotlib import matplotlib2fasthtml\n",
    "import numpy as np\n",
    "import matplotlib.pylab as plt"
   ]
  },
  {
   "cell_type": "code",
   "execution_count": 30,
   "id": "02ad7e62",
   "metadata": {},
   "outputs": [],
   "source": [
    "#| hide\n",
    "from nbdev.showdoc import *"
   ]
  },
  {
   "cell_type": "code",
   "execution_count": 31,
   "id": "f0f5477a",
   "metadata": {},
   "outputs": [
    {
     "data": {
      "text/html": [
       "<script src=\"https://cdn.tailwindcss.com\"></script>\n",
       "<script src=\"https://cdn.jsdelivr.net/npm/uikit@3.21.6/dist/js/uikit.min.js\"></script>\n",
       "<script src=\"https://cdn.jsdelivr.net/npm/uikit@3.21.6/dist/js/uikit-icons.min.js\"></script>\n",
       "<script type=\"module\" src=\"https://unpkg.com/franken-wc@0.0.6/dist/js/wc.iife.js\"></script>\n",
       "<link rel=\"stylesheet\" href=\"https://unpkg.com/franken-wc@0.0.6/dist/css/blue.min.css\">\n",
       "\n",
       "<style>\n",
       "#notebook-container { max-width: none; }\n",
       ".output_html * { list-style-type: none !important; }\n",
       "</style>\n"
      ],
      "text/plain": [
       "<IPython.core.display.HTML object>"
      ]
     },
     "metadata": {},
     "output_type": "display_data"
    }
   ],
   "source": [
    "%%html\n",
    "<script src=\"https://cdn.tailwindcss.com\"></script>\n",
    "<script src=\"https://cdn.jsdelivr.net/npm/uikit@3.21.6/dist/js/uikit.min.js\"></script>\n",
    "<script src=\"https://cdn.jsdelivr.net/npm/uikit@3.21.6/dist/js/uikit-icons.min.js\"></script>\n",
    "<script type=\"module\" src=\"https://unpkg.com/franken-wc@0.0.6/dist/js/wc.iife.js\"></script>\n",
    "<link rel=\"stylesheet\" href=\"https://unpkg.com/franken-wc@0.0.6/dist/css/blue.min.css\">\n",
    "\n",
    "<style>\n",
    "#notebook-container { max-width: none; }\n",
    ".output_html * { list-style-type: none !important; }\n",
    "</style>"
   ]
  },
  {
   "cell_type": "code",
   "execution_count": 32,
   "id": "19ba6675",
   "metadata": {},
   "outputs": [],
   "source": [
    "from httpx import get\n",
    "url = 'https://raw.githubusercontent.com/AnswerDotAI/fh-frankenui/main/fh_frankenui/components.py?token=###'\n",
    "fh_frankenui = get(url).text\n",
    "\n",
    "url = 'https://raw.githubusercontent.com/franken-ui/examples/master/src/pages/examples/forms.astro'\n",
    "forms = get(url).text\n",
    "\n",
    "url = 'https://raw.githubusercontent.com/franken-ui/examples/master/src/pages/cards.astro'\n",
    "cards = get(url).text\n",
    "\n",
    "url = 'https://github.com/AnswerDotAI/fh-frankenui-examples/blob/main/fh_frankenui_examples/cards.py'\n",
    "cards_in_python = get(url).text\n",
    "\n",
    "url = 'https://github.com/AnswerDotAI/fh-frankenui-examples/blob/main/fh_frankenui_examples/tasks.py'\n",
    "tasks_in_python = get(url).text\n",
    "\n",
    "url = 'https://raw.githubusercontent.com/AnswerDotAI/fasthtml/main/examples/adv_app.py'\n",
    "idiomatic_fasthtml_app = get(url).text\n"
   ]
  },
  {
   "cell_type": "code",
   "execution_count": 1,
   "id": "d382f5d5",
   "metadata": {},
   "outputs": [],
   "source": [
    "%%ai 0 -c\n",
    "\n",
    "I am implementing FrankenUI for FastHTML by reimplementing the FrankenUI examples from their docs in a python library.  I am doing this by building a library as I go, $`fh_frankenui`.  You should use this library as much as possible\n",
    "\n",
    "Reference the $`idiomatic_fasthtml_app` to get a feel for fasthtml.\n",
    "\n",
    "I previously implemented the $`cards` example, and the python implementation looked like $`cards_in_python`.\n",
    "\n",
    "Now, I am looking to do the same with the $`forms` example.\n",
    "\n",
    "The goal is to develop the work-in-progress `fh_frankenui` library, so please use `fh_frankenui` as much as makes sense and recommend functions or improvements to `fh_frankenui` when it fits.\n",
    "\n",
    "Please read all this information and confirm that you understand what I want to do by giving me a brief overview in your own words.  \n"
   ]
  },
  {
   "cell_type": "markdown",
   "id": "22c39acc",
   "metadata": {},
   "source": [
    "I understand that you're working on implementing FrankenUI components for FastHTML by creating a Python library called `fh_frankenui`. Your goal is to recreate the examples from the FrankenUI documentation using this library, making it compatible with FastHTML.\n",
    "\n",
    "You've already implemented the \"cards\" example, and now you want to do the same for the \"forms\" example. The process involves:\n",
    "\n",
    "1. Analyzing the original FrankenUI forms example\n",
    "2. Using the existing `fh_frankenui` library components where possible\n",
    "3. Implementing new components or functions in `fh_frankenui` as needed\n",
    "4. Writing Python code that recreates the forms example using FastHTML and `fh_frankenui`\n",
    "\n",
    "You want me to reference the `idiomatic_fasthtml_app` to understand the FastHTML style and conventions. Additionally, you're looking for suggestions on how to improve or expand the `fh_frankenui` library as we work through this implementation.\n",
    "\n",
    "The overall aim is to build up the `fh_frankenui` library incrementally, making it more comprehensive and useful for creating FrankenUI-style interfaces with FastHTML.\n",
    "\n",
    "Is this understanding correct? Would you like me to proceed with analyzing the forms example and suggesting an implementation approach?"
   ]
  },
  {
   "cell_type": "code",
   "execution_count": 34,
   "id": "844beebf",
   "metadata": {},
   "outputs": [],
   "source": [
    "%%aip 0\n",
    "\n",
    "Implement the heading and top description in a heading variable"
   ]
  },
  {
   "cell_type": "code",
   "execution_count": 35,
   "id": "a93f015d",
   "metadata": {},
   "outputs": [],
   "source": [
    "#| export\n",
    "def heading():\n",
    "    return Div(cls=\"space-y-5\")(\n",
    "            UkH2(\"Settings\"),\n",
    "            P(\"Manage your account settings and set e-mail preferences.\", cls=TextT.muted_sm),\n",
    "            UkHSplit())"
   ]
  },
  {
   "cell_type": "code",
   "execution_count": 36,
   "id": "c5c49e9a",
   "metadata": {},
   "outputs": [
    {
     "data": {
      "text/html": [
       "<div class=\"space-y-5\">\n",
       "  <h2 class=\"uk-h2\">Settings</h2>\n",
       "  <p class=\"text-sm uk-text-muted\">Manage your account settings and set e-mail preferences.</p>\n",
       "  <div class=\"relative \">\n",
       "    <div class=\"absolute inset-0 flex items-center \">\n",
       "<span class=\"w-full border-t border-border\"></span>    </div>\n",
       "    <div class=\"relative flex justify-center \">\n",
       "<span class=\"bg-background px-2 \"></span>    </div>\n",
       "  </div>\n",
       "</div>\n"
      ],
      "text/plain": [
       "<IPython.core.display.HTML object>"
      ]
     },
     "execution_count": 36,
     "metadata": {},
     "output_type": "execute_result"
    }
   ],
   "source": [
    "show(heading())"
   ]
  },
  {
   "cell_type": "code",
   "execution_count": 37,
   "id": "d6d4c4cf",
   "metadata": {},
   "outputs": [],
   "source": [
    "%%aip 0\n",
    "\n",
    "Create a UKNav function that is super flexible, just like the `Card` function is.  Here's how Nav is used\n",
    "\n",
    "```html\n",
    "      <aside class=\"w-1/5\">\n",
    "        <ul\n",
    "          class=\"uk-nav uk-nav-secondary\"\n",
    "          uk-switcher=\"connect: #component-nav; animation: uk-animation-fade\"\n",
    "        >\n",
    "          <li class=\"uk-active\">\n",
    "            <a href=\"#\">Profile</a>\n",
    "          </li>\n",
    "          <li>\n",
    "            <a href=\"#\">Account</a>\n",
    "          </li>\n",
    "          <li>\n",
    "            <a href=\"#\">Appearance</a>\n",
    "          </li>\n",
    "          <li>\n",
    "            <a href=\"#\">Notifications</a>\n",
    "          </li>\n",
    "          <li>\n",
    "            <a href=\"#\">Display</a>\n",
    "          </li>\n",
    "        </ul>\n",
    "      </aside>\n",
    "```"
   ]
  },
  {
   "cell_type": "code",
   "execution_count": 38,
   "id": "333d8642",
   "metadata": {
    "scrolled": true
   },
   "outputs": [],
   "source": [
    "#| export\n",
    "def UkNav(*c, cls=\"\", **kwargs):\n",
    "    nav_items = [Li(o) for o in c]\n",
    "    nav_items[0].cls = \" uk-active\" # probably shouldn't be hard coded\n",
    "    return Ul(*nav_items, cls=f\"uk-nav uk-nav-secondary {cls}\", **kwargs)\n",
    "\n",
    "def Sidebar(*c, **kwargs):\n",
    "    return Aside(**kwargs)(\n",
    "        UkNav(*c, uk_switcher=\"connect: #component-nav; animation: uk-animation-fade\"))\n",
    "\n",
    "sidebar_options = [Div(o) for o in (\"Profile\", \"Account\", \"Appearance\", \"Notifications\", \"Display\")]\n",
    "\n",
    "sidebar = Sidebar(*sidebar_options)"
   ]
  },
  {
   "cell_type": "code",
   "execution_count": 39,
   "id": "c5012ed8",
   "metadata": {},
   "outputs": [
    {
     "data": {
      "text/html": [
       "<aside>\n",
       "  <ul uk-switcher=\"connect: #component-nav; animation: uk-animation-fade\" class=\"uk-nav uk-nav-secondary \">\n",
       "    <li cls=\" uk-active\">\n",
       "      <div>Profile</div>\n",
       "    </li>\n",
       "    <li>\n",
       "      <div>Account</div>\n",
       "    </li>\n",
       "    <li>\n",
       "      <div>Appearance</div>\n",
       "    </li>\n",
       "    <li>\n",
       "      <div>Notifications</div>\n",
       "    </li>\n",
       "    <li>\n",
       "      <div>Display</div>\n",
       "    </li>\n",
       "  </ul>\n",
       "</aside>\n"
      ],
      "text/plain": [
       "<IPython.core.display.HTML object>"
      ]
     },
     "execution_count": 39,
     "metadata": {},
     "output_type": "execute_result"
    }
   ],
   "source": [
    "show(sidebar)"
   ]
  },
  {
   "cell_type": "code",
   "execution_count": 40,
   "id": "acdb80d6",
   "metadata": {},
   "outputs": [],
   "source": [
    "%%aip 0\n",
    "\n",
    "Make a function or the profile page content for that tab"
   ]
  },
  {
   "cell_type": "code",
   "execution_count": 41,
   "id": "c5cc9ce9",
   "metadata": {},
   "outputs": [],
   "source": [
    "#| export\n",
    "def HelpText(c):return P(c,cls=TextT.muted_sm)"
   ]
  },
  {
   "cell_type": "code",
   "execution_count": 42,
   "id": "61263939",
   "metadata": {},
   "outputs": [],
   "source": [
    "#| export\n",
    "def profile_form():\n",
    "    return Div(cls=\"space-y-6\")(\n",
    "        Div(UkH3(\"Profile\"),\n",
    "            P(\"This is how others will see you on the site.\", cls=TextT.medium_sm)),\n",
    "        UkHSplit(),\n",
    "        Div(cls=\"space-y-2\")(\n",
    "            UkInput(\"Username\",placeholder='sveltecult', id='username'),\n",
    "            HelpText(\"This is your public display name. It can be your real name or a pseudonym. You can only change this once every 30 days.\")),\n",
    "        Div(cls=\"space-y-2\")(\n",
    "            Label(\"Email\", for_=\"email\", cls=\"uk-form-label\"),\n",
    "            UkSelect(Option(\"Select a verified email to display\", value=\"\", selected=True, disabled=True),\n",
    "                     *map(Option,(\"m@example.com\",\"m@yahoo.com\",\"m@cloud.com\")),  \n",
    "                     id=\"email\"),\n",
    "            HelpText(\"You can manage verified email addresses in your email settings.\")),\n",
    "        Div(cls=\"space-y-2\")(\n",
    "            UkTextArea(\"Bio\", id=\"bio\", placeholder=\"Tell us a little bit about yourself\"),\n",
    "            HelpText(\"You can @mention other users and organizations to link to them.\"),\n",
    "            Div(\"String must contain at least 4 character(s)\", cls=\"text-destructive\")),\n",
    "        Div(cls=\"space-y-2\")(\n",
    "            Span(\"URLs\", cls=\"uk-form-label\"),\n",
    "            HelpText(\"Add links to your website, blog, or social media profiles.\"),\n",
    "            UkInput(value=\"https://www.franken-ui.dev\"),\n",
    "            UkInput(value=\"https://github.com/sveltecult/franken-ui\"),\n",
    "            UkButton(\"Add URL\")),\n",
    "        Div(UkButton(\"Update profile\", cls=UkButtonT.primary)))"
   ]
  },
  {
   "cell_type": "code",
   "execution_count": 43,
   "id": "6706c0f0",
   "metadata": {},
   "outputs": [],
   "source": [
    "%%aip 0\n",
    "\n",
    "Now make the Account page.  Remember to use all the handy fh_frankenui stuff and model this style and function usage off of `profile_form`"
   ]
  },
  {
   "cell_type": "code",
   "execution_count": 44,
   "id": "5e448abd",
   "metadata": {},
   "outputs": [],
   "source": [
    "#| export\n",
    "def account_form():\n",
    "    return Div(cls=\"space-y-6\")(\n",
    "        Div(UkH3(\"Account\"),\n",
    "            P(\"Update your account settings. Set your preferred language and timezone.\", cls=TextT.medium_sm)),\n",
    "        UkHSplit(),\n",
    "        Div(cls=\"space-y-2\")(\n",
    "            UkInput(\"Name\", placeholder=\"Your name\", id=\"name\"),\n",
    "            HelpText(\"This is the name that will be displayed on your profile and in emails.\")),\n",
    "        Div(cls=\"space-y-2\")(\n",
    "            UkInput(\"Date of Birth\", type=\"date\", placeholder=\"Pick a date\", id=\"date_of_birth\", cls=\"w-[240px]\"),\n",
    "            HelpText(\"Your date of birth is used to calculate your age.\")),\n",
    "        Div(cls=\"space-y-2\")(\n",
    "            UkSelect(Option(\"Select a language\", value=\"\", disabled=True),\n",
    "                     Option(\"English\", selected=True),\n",
    "                     *map(Option, (\"French\", \"German\", \"Spanish\", \"Portuguese\")),\n",
    "                     label='Language',\n",
    "                     id=\"language\"),\n",
    "            HelpText(\"This is the language that will be used in the dashboard.\")),\n",
    "        Div(UkButton(\"Update profile\", cls=UkButtonT.primary)))\n"
   ]
  },
  {
   "cell_type": "code",
   "execution_count": 45,
   "id": "373a55ad",
   "metadata": {},
   "outputs": [],
   "source": [
    "%%aip 0\n",
    "\n",
    "Now make the Appearance page.  Remember to use all the handy fh_frankenui stuff and model this style and function usage off of `profile_form` and `account_form`"
   ]
  },
  {
   "cell_type": "code",
   "execution_count": 46,
   "id": "3f5c834d",
   "metadata": {},
   "outputs": [],
   "source": [
    "#| export\n",
    "def appearance_form():\n",
    "    return Div(cls=\"space-y-6\")(\n",
    "        Div(UkH3(\"Appearance\"),\n",
    "            P(\"Customize the appearance of the app. Automatically switch between day and night themes.\", cls=TextT.medium_sm)),\n",
    "        UkHSplit(),\n",
    "        Div(cls=\"space-y-2\")(\n",
    "            UkSelect(Option(\"Select a font family\", value=\"\", disabled=True),\n",
    "                     Option(\"Inter\"),\n",
    "                     Option(\"Geist\", selected=True),\n",
    "                     Option(\"Open Sans\"),\n",
    "                     label='Font Family',\n",
    "                     id=\"font_family\"),\n",
    "            HelpText(\"Set the font you want to use in the dashboard.\")),\n",
    "        Div(cls=\"space-y-2\")(\n",
    "            Span(\"Theme\", cls=\"uk-form-label\"),\n",
    "            HelpText(\"Select the theme for the dashboard.\"),\n",
    "            Div(cls=\"grid max-w-md grid-cols-2 gap-8\")(\n",
    "                A(id=\"theme-toggle-light\", cls=\"block cursor-pointer items-center rounded-md border-2 border-muted p-1 ring-ring\")(\n",
    "                    Div(cls=\"space-y-2 rounded-sm bg-[#ecedef] p-2\")(\n",
    "                        Div(cls=\"space-y-2 rounded-md bg-white p-2 shadow-sm\")(\n",
    "                            Div(cls=\"h-2 w-[80px] rounded-lg bg-[#ecedef]\"),\n",
    "                            Div(cls=\"h-2 w-[100px] rounded-lg bg-[#ecedef]\")),\n",
    "                        Div(cls=\"flex items-center space-x-2 rounded-md bg-white p-2 shadow-sm\")(\n",
    "                            Div(cls=\"h-4 w-4 rounded-full bg-[#ecedef]\"),\n",
    "                            Div(cls=\"h-2 w-[100px] rounded-lg bg-[#ecedef]\")),\n",
    "                        Div(cls=\"flex items-center space-x-2 rounded-md bg-white p-2 shadow-sm\")(\n",
    "                            Div(cls=\"h-4 w-4 rounded-full bg-[#ecedef]\"),\n",
    "                            Div(cls=\"h-2 w-[100px] rounded-lg bg-[#ecedef]\")))),\n",
    "                A(id=\"theme-toggle-dark\", cls=\"block cursor-pointer items-center rounded-md border-2 border-muted bg-popover p-1 ring-ring\")(\n",
    "                    Div(cls=\"space-y-2 rounded-sm bg-slate-950 p-2\")(\n",
    "                        Div(cls=\"space-y-2 rounded-md bg-slate-800 p-2 shadow-sm\")(\n",
    "                            Div(cls=\"h-2 w-[80px] rounded-lg bg-slate-400\"),\n",
    "                            Div(cls=\"h-2 w-[100px] rounded-lg bg-slate-400\")),\n",
    "                        Div(cls=\"flex items-center space-x-2 rounded-md bg-slate-800 p-2 shadow-sm\")(\n",
    "                            Div(cls=\"h-4 w-4 rounded-full bg-slate-400\"),\n",
    "                            Div(cls=\"h-2 w-[100px] rounded-lg bg-slate-400\")),\n",
    "                        Div(cls=\"flex items-center space-x-2 rounded-md bg-slate-800 p-2 shadow-sm\")(\n",
    "                            Div(cls=\"h-4 w-4 rounded-full bg-slate-400\"),\n",
    "                            Div(cls=\"h-2 w-[100px] rounded-lg bg-slate-400\")))))),\n",
    "        Div(UkButton(\"Update preferences\", cls=UkButtonT.primary)))"
   ]
  },
  {
   "cell_type": "code",
   "execution_count": 47,
   "id": "f62ced99",
   "metadata": {},
   "outputs": [],
   "source": [
    "%%aip 0\n",
    "\n",
    "Now make the Notifications page.  Remember to use all the handy fh_frankenui stuff and model this style and function usage off of `profile_form` and `account_form`"
   ]
  },
  {
   "cell_type": "code",
   "execution_count": 48,
   "id": "a27a000a",
   "metadata": {},
   "outputs": [],
   "source": [
    "#| export\n",
    "def UkRadio(label, id, name, checked=False, **kwargs):\n",
    "    return Label(cls=\"block text-sm\")(\n",
    "        Input(id=id, cls=\"uk-radio mr-2\", name=name, type=\"radio\", checked=checked, **kwargs),\n",
    "        label\n",
    "    )\n",
    "\n",
    "def UkToggleSwitch(id, checked=False, disabled=False, **kwargs):\n",
    "    return Input(cls=\"uk-toggle-switch uk-toggle-switch-primary\", id=id, type=\"checkbox\", checked=checked, disabled=disabled, **kwargs)\n",
    "\n",
    "def notifications_form():\n",
    "    return Div(cls=\"space-y-6\")(\n",
    "        Div(UkH3(\"Notifications\"),\n",
    "            P(\"Configure how you receive notifications.\", cls=TextT.medium_sm)),\n",
    "        UkHSplit(),\n",
    "        Div(cls=\"space-y-2\")(\n",
    "            Span(\"Notify me about\", cls=\"uk-form-label\"),\n",
    "            *[UkRadio(label, f\"notification_{i}\", \"notification\", checked=(label==\"Nothing\"))\n",
    "              for i, label in enumerate([\"All new messages\", \"Direct messages and mentions\", \"Nothing\"])]),\n",
    "        Div(\n",
    "            UkH3(\"Email Notifications\", cls=\"mb-4 text-lg font-medium\"),\n",
    "            Div(cls=\"space-y-4\")(\n",
    "                *[Div(cls=\"flex items-center justify-between rounded-lg border border-border p-4\")(\n",
    "                    Div(cls=\"space-y-0.5\")(\n",
    "                        Label(item['title'], cls=\"text-base font-medium\", for_=f\"email_notification_{i}\"),\n",
    "                        HelpText(item['description'])),\n",
    "                    UkToggleSwitch(f\"email_notification_{i}\", checked=item['checked'], disabled=item['disabled'])\n",
    "                ) for i, item in enumerate([\n",
    "                    {\"title\": \"Communication emails\", \"description\": \"Receive emails about your account activity.\", \"checked\": False, \"disabled\": False},\n",
    "                    {\"title\": \"Marketing emails\", \"description\": \"Receive emails about new products, features, and more.\", \"checked\": False, \"disabled\": False},\n",
    "                    {\"title\": \"Social emails\", \"description\": \"Receive emails for friend requests, follows, and more.\", \"checked\": True, \"disabled\": False},\n",
    "                    {\"title\": \"Security emails\", \"description\": \"Receive emails about your account activity and security.\", \"checked\": True, \"disabled\": True}\n",
    "                ])])),\n",
    "        Div(cls=\"flex gap-x-3\")(\n",
    "            Input(cls=\"uk-checkbox mt-1\", id=\"notification_mobile\", type=\"checkbox\", checked=True),\n",
    "            Div(cls=\"space-y-1\")(\n",
    "                Label(\"Use different settings for my mobile devices\", cls=\"uk-form-label\", for_=\"notification_mobile\"),\n",
    "                HelpText(\"You can manage your mobile notifications in the mobile settings page.\"))),\n",
    "        Div(UkButton(\"Update notifications\", cls=UkButtonT.primary)))"
   ]
  },
  {
   "cell_type": "code",
   "execution_count": 49,
   "id": "05a86432",
   "metadata": {},
   "outputs": [],
   "source": [
    "%%aip 0\n",
    "\n",
    "Now make the Display page.  Remember to use all the handy fh_frankenui stuff and model this style and function usage off of `profile_form` and `account_form`"
   ]
  },
  {
   "cell_type": "code",
   "execution_count": 50,
   "id": "256e3868",
   "metadata": {},
   "outputs": [],
   "source": [
    "#| export\n",
    "def UkCheckbox(label, id, checked=False, **kwargs):\n",
    "    return Label(cls=\"block text-sm\", for_=id)(\n",
    "        Input(cls=\"uk-checkbox mr-2\", id=id, type=\"checkbox\", checked=checked, **kwargs),\n",
    "        label)\n",
    "\n",
    "def display_form():\n",
    "    return Div(cls=\"space-y-6\")(\n",
    "        Div(UkH3(\"Display\"),\n",
    "            P(\"Turn items on or off to control what's displayed in the app.\", cls=TextT.medium_sm)),\n",
    "        UkHSplit(),\n",
    "        Div(cls=\"space-y-2\")(\n",
    "            Div(cls=\"mb-4\")(\n",
    "                Span(\"Sidebar\", cls=\"text-base font-medium\"),\n",
    "                HelpText(\"Select the items you want to display in the sidebar.\")),\n",
    "            *[UkCheckbox(label, f\"display_{i}\", checked=i in [0, 1, 2])\n",
    "              for i, label in enumerate([\"Recents\", \"Home\", \"Applications\", \"Desktop\", \"Downloads\", \"Documents\"])]),\n",
    "        Div(UkButton(\"Update display\", cls=UkButtonT.primary)))"
   ]
  },
  {
   "cell_type": "code",
   "execution_count": 51,
   "id": "e58d1454",
   "metadata": {},
   "outputs": [],
   "source": [
    "#| export\n",
    "def page():\n",
    "    return Div(cls=\"p-6 lg:p-10\")(\n",
    "        heading(),\n",
    "        Div(cls=\"flex gap-x-12\")(\n",
    "            Div(cls=\"w-1/5\")(sidebar),\n",
    "            Div(cls=\"flex-1\")(\n",
    "                Ul(id=\"component-nav\", cls=\"uk-switcher max-w-2xl\")(\n",
    "                    Li(cls=\"uk-active\")(profile_form(),\n",
    "                    Li()(account_form()),\n",
    "                    Li()(appearance_form()),\n",
    "                    Li()(notifications_form()),\n",
    "                    Li()(display_form())\n",
    "                    )))))"
   ]
  },
  {
   "cell_type": "code",
   "execution_count": 52,
   "id": "22a8233b",
   "metadata": {},
   "outputs": [],
   "source": [
    "#| exports\n",
    "forms_homepage = page()"
   ]
  },
  {
   "cell_type": "code",
   "execution_count": 53,
   "id": "1992630d",
   "metadata": {},
   "outputs": [],
   "source": [
    "#| hide\n",
    "import nbdev; nbdev.nbdev_export()"
   ]
  }
 ],
 "metadata": {
  "kernelspec": {
   "display_name": "Python 3 (ipykernel)",
   "language": "python",
   "name": "python3"
  },
  "language_info": {
   "codemirror_mode": {
    "name": "ipython",
    "version": 3
   },
   "file_extension": ".py",
   "mimetype": "text/x-python",
   "name": "python",
   "nbconvert_exporter": "python",
   "pygments_lexer": "ipython3",
   "version": "3.12.4"
  },
  "toc": {
   "base_numbering": 1,
   "nav_menu": {},
   "number_sections": true,
   "sideBar": true,
   "skip_h1_title": false,
   "title_cell": "Table of Contents",
   "title_sidebar": "Contents",
   "toc_cell": false,
   "toc_position": {},
   "toc_section_display": true,
   "toc_window_display": false
  }
 },
 "nbformat": 4,
 "nbformat_minor": 5
}
