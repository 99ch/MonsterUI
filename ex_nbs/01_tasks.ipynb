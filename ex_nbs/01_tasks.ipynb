{
 "cells": [
  {
   "cell_type": "markdown",
   "metadata": {},
   "source": [
    "# Tasks\n",
    "\n",
    "> FrankenUI Tasks Example"
   ]
  },
  {
   "cell_type": "code",
   "execution_count": 1,
   "metadata": {},
   "outputs": [],
   "source": [
    "#| default_exp tasks"
   ]
  },
  {
   "cell_type": "code",
   "execution_count": 2,
   "metadata": {},
   "outputs": [],
   "source": [
    "#| hide\n",
    "from nbdev.showdoc import *"
   ]
  },
  {
   "cell_type": "code",
   "execution_count": 3,
   "metadata": {},
   "outputs": [],
   "source": [
    "#| export\n",
    "from fasthtml.common import *\n",
    "from fh_frankenui import *\n",
    "from fasthtml.svg import *\n",
    "import json"
   ]
  },
  {
   "cell_type": "code",
   "execution_count": 4,
   "metadata": {},
   "outputs": [],
   "source": [
    "from pathlib import Path as FilePath\n",
    "fh_frankenui = FilePath('../lib_nbs/01_components.ipynb').read_text()"
   ]
  },
  {
   "cell_type": "markdown",
   "metadata": {
    "heading_collapsed": true
   },
   "source": [
    "## Data"
   ]
  },
  {
   "cell_type": "markdown",
   "metadata": {
    "hidden": true
   },
   "source": [
    "We store data in Python to minic the static data in the examples.  Eventually this should be replaced with sqlite data store to allow for interactive functionality"
   ]
  },
  {
   "cell_type": "code",
   "execution_count": 5,
   "metadata": {
    "hidden": true
   },
   "outputs": [],
   "source": [
    "#| export\n",
    "with open('../data/status_list.json', 'r') as f: data     = json.load(f)\n",
    "with open('../data/statuses.json',    'r') as f: statuses = json.load(f)"
   ]
  },
  {
   "cell_type": "code",
   "execution_count": 6,
   "metadata": {
    "hidden": true
   },
   "outputs": [],
   "source": [
    "#| export\n",
    "priority_dd = [{'priority': \"low\", 'count': 36 }, {'priority': \"medium\", 'count': 33 }, {'priority': \"high\", 'count': 31 }]\n",
    "\n",
    "rows_per_page_dd = [10,20,30,40,50]\n",
    "\n",
    "status_dd = [{'status': \"backlog\", 'count': 21 },{'status': \"todo\", 'count': 21 },{'status': \"progress\", 'count': 20 },{'status': \"done\",'count': 19 },{'status': \"cancelled\", 'count': 19 }]\n"
   ]
  },
  {
   "cell_type": "markdown",
   "metadata": {},
   "source": [
    "## Tasks Page Functions"
   ]
  },
  {
   "cell_type": "code",
   "execution_count": 7,
   "metadata": {},
   "outputs": [],
   "source": [
    "#| export\n",
    "def create_hotkey_li(hotkey):\n",
    "    return Li(A(cls='uk-drop-close justify-between')(\n",
    "        hotkey[0],\n",
    "        Span(hotkey[1], cls='ml-auto text-xs tracking-widest opacity-60')))\n",
    "\n",
    "hotkeys_a = (('Profile','⇧⌘P'),('Billing','⌘B'),('Settings','⌘S'),('New Team',''))\n",
    "hotkeys_b = (('Logout',''), )\n",
    "\n",
    "# TODO convert to navbar\n",
    "avatar_opts = Ul(cls='uk-dropdown-nav uk-nav')(\n",
    "    Li(cls='px-2 py-1.5 text-sm')(\n",
    "        Div(cls='flex flex-col space-y-1')(\n",
    "            P('sveltecult', cls='text-sm font-medium leading-none'),\n",
    "            P('leader@sveltecult.com', cls='text-xs leading-none text-muted-foreground'))),\n",
    "    Li(cls='uk-nav-divider'),\n",
    "    *map(create_hotkey_li, hotkeys_a),\n",
    "    Li(cls='uk-nav-divider'),\n",
    "    *map(create_hotkey_li, hotkeys_b)\n",
    ")"
   ]
  },
  {
   "cell_type": "code",
   "execution_count": 8,
   "metadata": {},
   "outputs": [],
   "source": [
    "#| export\n",
    "def CreateTaskModal():\n",
    "    return Modal(\n",
    "        Div(cls='p-6')(\n",
    "            UkModalTitle('Create Task'),P('Fill out the information below to create a new task', cls=TextT.muted_sm),\n",
    "            Br(),\n",
    "            Form(cls='space-y-6')(\n",
    "                Grid(UkSelect(*Options('Documentation', 'Bug', 'Feature'), label='Task Type', id='task_type'),\n",
    "                     UkSelect(*Options('In Progress', 'Backlog', 'Todo', 'Cancelled', 'Done'), label='Status', id='task_status'),\n",
    "                     UkSelect(*Options('Low', 'Medium', 'High'), label='Priority', id='task_priority')),\n",
    "                UkTextArea(label='Title', placeholder='Please describe the task that needs to be completed'),\n",
    "                Div(cls='flex justify-end space-x-2')(\n",
    "                    UkButton(cls=UkButtonT.ghost + ' uk-modal-close')('Cancel'),\n",
    "                    UkButton(cls=UkButtonT.primary + ' uk-modal-close')('Submit')))),\n",
    "        id='TaskForm')"
   ]
  },
  {
   "cell_type": "code",
   "execution_count": 9,
   "metadata": {},
   "outputs": [],
   "source": [
    "#| export\n",
    "page_heading =SpaceBetweenDiv(cls='space-y-2')(\n",
    "            Div(cls='space-y-2')(\n",
    "                UkH2('Welcome back!'),P(\"Here's a list of your tasks for this month!\", cls=TextT.muted_sm)),\n",
    "            Div(A(href='#', cls='h-8 w-8 inline-flex rounded-full bg-accent ring-ring')(Img(src='https://api.dicebear.com/8.x/lorelei/svg?seed=sveltecult')),\n",
    "                Div(uk_dropdown='mode: click; pos: bottom-right', cls='uk-dropdown uk-drop')(avatar_opts)))"
   ]
  },
  {
   "cell_type": "code",
   "execution_count": 10,
   "metadata": {},
   "outputs": [],
   "source": [
    "??UkDropdownButton"
   ]
  },
  {
   "cell_type": "code",
   "execution_count": 11,
   "metadata": {},
   "outputs": [],
   "source": [
    "#| export\n",
    "\n",
    "table_controls =(UkInput(cls='w-[250px]',placeholder='Filter task'),\n",
    "     UkDropdownButton(\n",
    "         [A(FullySpacedDiv(a['status'], a['count'], wrap_tag=P),cls='capitalize') for a in status_dd],\n",
    "         label = \"Status\", \n",
    "         btn_cls=(TextT.medium_xs, 'uk-button-default')),     \n",
    "     UkDropdownButton(\n",
    "         [A(FullySpacedDiv(LAlignedIconTxt(a['priority'], icon=\"check\"), a['count']),cls='capitalize') for a in priority_dd],                         \n",
    "         label = \"Priority\", \n",
    "         btn_cls=(TextT.medium_xs,'uk-button-default')),\n",
    "      UkDropdownButton([A(LAlignedIconTxt(o, icon=\"check\")) for o in ['Title','Status','Priority']],\n",
    "            label='View',\n",
    "            opt_hdrs=[\"Toggle Columns\"],\n",
    "            btn_cls=(TextT.medium_xs,'uk-button-default')),\n",
    "            UkButton('Create Task',cls=('uk-button-primary', TextT.medium_xs), uk_toggle=\"target: #TaskForm\"))"
   ]
  },
  {
   "cell_type": "markdown",
   "metadata": {},
   "source": [
    "## Route Data"
   ]
  },
  {
   "cell_type": "code",
   "execution_count": 12,
   "metadata": {},
   "outputs": [],
   "source": [
    "#| export\n",
    "def checkbox(selected=False, ):\n",
    "    if selected: return Input(type='checkbox', cls='uk-checkbox', checked=True)\n",
    "    return              Input(type='checkbox', cls='uk-checkbox')"
   ]
  },
  {
   "cell_type": "code",
   "execution_count": 13,
   "metadata": {},
   "outputs": [],
   "source": [
    "#| export\n",
    "def task_dropdown():\n",
    "    return UkDropdownButton([\n",
    "            A('Edit',                   cls='uk-drop-close'),\n",
    "            A('Make a copy',            cls='uk-drop-close'),\n",
    "            A('Favorite',               cls='uk-drop-close')],\n",
    "            [A(SpacedPP('Delete', '⌘⌫'), cls='uk-drop-close')])"
   ]
  },
  {
   "cell_type": "code",
   "execution_count": 15,
   "metadata": {
    "scrolled": true
   },
   "outputs": [],
   "source": [
    "#| export\n",
    "def header_render(col):\n",
    "    cls = 'p-2 ' + 'uk-table-shrink' if col in ('Done','Actions') else ''\n",
    "    match col:\n",
    "        case \"Done\":    return Th(checkbox, cls=cls)\n",
    "        case 'Actions': return Th(\"\",       cls=cls)\n",
    "        case _:         return Th(col, cls=cls)"
   ]
  },
  {
   "cell_type": "code",
   "execution_count": 16,
   "metadata": {},
   "outputs": [],
   "source": [
    "#| export\n",
    "def cell_render(col, row):\n",
    "    def _Td(*args,cls='', **kwargs): return Td(*args, cls=f'p-2 {cls}',**kwargs)\n",
    "    match col:\n",
    "        case \"Done\":  return _Td(cls='uk-table-shrink')(checkbox(row['selected']))\n",
    "        case \"Task\":  return _Td(row[\"id\"])\n",
    "        case \"Title\": return _Td(cls='uk-table-expand max-w-[500px] truncate')(row[\"title\"], cls='font-medium')\n",
    "        case \"Status\" | \"Priority\": return _Td(cls='uk-text-nowrap uk-text-capitalize')(Span(row[col.lower()]))\n",
    "        case \"Actions\": return _Td(cls='uk-table-shrink')(task_dropdown())\n",
    "        case _: raise ValueError(f\"Unknown column: {col}\")"
   ]
  },
  {
   "cell_type": "code",
   "execution_count": 17,
   "metadata": {},
   "outputs": [],
   "source": [
    "#| export\n",
    "\n",
    "task_columns = [\"Done\", 'Task', 'Title', 'Status', 'Priority', 'Actions']\n",
    "\n",
    "tasks_table = Div(cls='uk-overflow-auto mt-4 rounded-md border border-border')(UkTable(\n",
    "    columns=task_columns,\n",
    "    data=data,\n",
    "    cell_render=cell_render,\n",
    "    header_render=header_render,))"
   ]
  },
  {
   "cell_type": "code",
   "execution_count": 18,
   "metadata": {},
   "outputs": [],
   "source": [
    "#| export\n",
    "\n",
    "def footer():\n",
    "    hw_cls = 'h-4 w-4'\n",
    "    return SpaceBetweenDiv(cls='mt-4 px-2 py-2')(\n",
    "        Div('1 of 100 row(s) selected.', cls='flex-1 text-sm text-muted-foreground'),\n",
    "        Div(cls='flex flex-none items-center space-x-8')(\n",
    "            CenteredDiv('Page 1 of 10', cls='w-[100px] text-sm font-medium'),\n",
    "            LAlignedDiv(\n",
    "                UkIconButton(cls='hidden lg:inline-flex')(Span('Go to last page', cls='sr-only'),\n",
    "                    Span(uk_icon='chevron-double-left', cls=hw_cls)),\n",
    "                UkIconButton(Span('Go to previous page', cls='sr-only'),\n",
    "                    Span(uk_icon='chevron-left', cls=hw_cls)),\n",
    "                UkIconButton(Span('Go to next page', cls='sr-only'),\n",
    "                    Span(uk_icon='chevron-right', cls=hw_cls)),\n",
    "                UkIconButton(cls='hidden lg:inline-flex')(\n",
    "                    Span('Go to last page', cls='sr-only'),\n",
    "                    Span(uk_icon='chevron-double-right', cls=hw_cls)),\n",
    "            gap=2)))"
   ]
  },
  {
   "cell_type": "code",
   "execution_count": 19,
   "metadata": {},
   "outputs": [],
   "source": [
    "#| export\n",
    "tasks_ui = Div(\n",
    "    SpaceBetweenDiv(cls='mt-8')(\n",
    "        Div(cls='flex flex-1 gap-4')(table_controls)),\n",
    "    tasks_table,\n",
    "    footer(),)"
   ]
  },
  {
   "cell_type": "code",
   "execution_count": 20,
   "metadata": {},
   "outputs": [
    {
     "ename": "NameError",
     "evalue": "name 'options' is not defined",
     "output_type": "error",
     "traceback": [
      "\u001b[0;31m---------------------------------------------------------------------------\u001b[0m",
      "\u001b[0;31mNameError\u001b[0m                                 Traceback (most recent call last)",
      "Cell \u001b[0;32mIn[20], line 2\u001b[0m\n\u001b[1;32m      1\u001b[0m \u001b[38;5;66;03m#| export\u001b[39;00m\n\u001b[0;32m----> 2\u001b[0m tasks_homepage \u001b[38;5;241m=\u001b[39m \u001b[43mCreateTaskModal\u001b[49m\u001b[43m(\u001b[49m\u001b[43m)\u001b[49m, Div(\u001b[38;5;28mcls\u001b[39m\u001b[38;5;241m=\u001b[39m\u001b[38;5;124m'\u001b[39m\u001b[38;5;124mp-8\u001b[39m\u001b[38;5;124m'\u001b[39m)(page_heading, tasks_ui)\n",
      "Cell \u001b[0;32mIn[8], line 8\u001b[0m, in \u001b[0;36mCreateTaskModal\u001b[0;34m()\u001b[0m\n\u001b[1;32m      2\u001b[0m \u001b[38;5;28;01mdef\u001b[39;00m \u001b[38;5;21mCreateTaskModal\u001b[39m():\n\u001b[1;32m      3\u001b[0m     \u001b[38;5;28;01mreturn\u001b[39;00m Modal(\n\u001b[1;32m      4\u001b[0m         Div(\u001b[38;5;28mcls\u001b[39m\u001b[38;5;241m=\u001b[39m\u001b[38;5;124m'\u001b[39m\u001b[38;5;124mp-6\u001b[39m\u001b[38;5;124m'\u001b[39m)(\n\u001b[1;32m      5\u001b[0m             UkModalTitle(\u001b[38;5;124m'\u001b[39m\u001b[38;5;124mCreate Task\u001b[39m\u001b[38;5;124m'\u001b[39m),P(\u001b[38;5;124m'\u001b[39m\u001b[38;5;124mFill out the information below to create a new task\u001b[39m\u001b[38;5;124m'\u001b[39m, \u001b[38;5;28mcls\u001b[39m\u001b[38;5;241m=\u001b[39mTextT\u001b[38;5;241m.\u001b[39mmuted_sm),\n\u001b[1;32m      6\u001b[0m             Br(),\n\u001b[1;32m      7\u001b[0m             Form(\u001b[38;5;28mcls\u001b[39m\u001b[38;5;241m=\u001b[39m\u001b[38;5;124m'\u001b[39m\u001b[38;5;124mspace-y-6\u001b[39m\u001b[38;5;124m'\u001b[39m)(\n\u001b[0;32m----> 8\u001b[0m                 Grid(\u001b[43mUkSelect\u001b[49m\u001b[43m(\u001b[49m\u001b[38;5;241;43m*\u001b[39;49m\u001b[43mOptions\u001b[49m\u001b[43m(\u001b[49m\u001b[38;5;124;43m'\u001b[39;49m\u001b[38;5;124;43mDocumentation\u001b[39;49m\u001b[38;5;124;43m'\u001b[39;49m\u001b[43m,\u001b[49m\u001b[43m \u001b[49m\u001b[38;5;124;43m'\u001b[39;49m\u001b[38;5;124;43mBug\u001b[39;49m\u001b[38;5;124;43m'\u001b[39;49m\u001b[43m,\u001b[49m\u001b[43m \u001b[49m\u001b[38;5;124;43m'\u001b[39;49m\u001b[38;5;124;43mFeature\u001b[39;49m\u001b[38;5;124;43m'\u001b[39;49m\u001b[43m)\u001b[49m\u001b[43m,\u001b[49m\u001b[43m \u001b[49m\u001b[43mlabel\u001b[49m\u001b[38;5;241;43m=\u001b[39;49m\u001b[38;5;124;43m'\u001b[39;49m\u001b[38;5;124;43mTask Type\u001b[39;49m\u001b[38;5;124;43m'\u001b[39;49m\u001b[43m,\u001b[49m\u001b[43m \u001b[49m\u001b[38;5;28;43mid\u001b[39;49m\u001b[38;5;241;43m=\u001b[39;49m\u001b[38;5;124;43m'\u001b[39;49m\u001b[38;5;124;43mtask_type\u001b[39;49m\u001b[38;5;124;43m'\u001b[39;49m\u001b[43m)\u001b[49m,\n\u001b[1;32m      9\u001b[0m                      UkSelect(\u001b[38;5;241m*\u001b[39mOptions(\u001b[38;5;124m'\u001b[39m\u001b[38;5;124mIn Progress\u001b[39m\u001b[38;5;124m'\u001b[39m, \u001b[38;5;124m'\u001b[39m\u001b[38;5;124mBacklog\u001b[39m\u001b[38;5;124m'\u001b[39m, \u001b[38;5;124m'\u001b[39m\u001b[38;5;124mTodo\u001b[39m\u001b[38;5;124m'\u001b[39m, \u001b[38;5;124m'\u001b[39m\u001b[38;5;124mCancelled\u001b[39m\u001b[38;5;124m'\u001b[39m, \u001b[38;5;124m'\u001b[39m\u001b[38;5;124mDone\u001b[39m\u001b[38;5;124m'\u001b[39m), label\u001b[38;5;241m=\u001b[39m\u001b[38;5;124m'\u001b[39m\u001b[38;5;124mStatus\u001b[39m\u001b[38;5;124m'\u001b[39m, \u001b[38;5;28mid\u001b[39m\u001b[38;5;241m=\u001b[39m\u001b[38;5;124m'\u001b[39m\u001b[38;5;124mtask_status\u001b[39m\u001b[38;5;124m'\u001b[39m),\n\u001b[1;32m     10\u001b[0m                      UkSelect(\u001b[38;5;241m*\u001b[39mOptions(\u001b[38;5;124m'\u001b[39m\u001b[38;5;124mLow\u001b[39m\u001b[38;5;124m'\u001b[39m, \u001b[38;5;124m'\u001b[39m\u001b[38;5;124mMedium\u001b[39m\u001b[38;5;124m'\u001b[39m, \u001b[38;5;124m'\u001b[39m\u001b[38;5;124mHigh\u001b[39m\u001b[38;5;124m'\u001b[39m), label\u001b[38;5;241m=\u001b[39m\u001b[38;5;124m'\u001b[39m\u001b[38;5;124mPriority\u001b[39m\u001b[38;5;124m'\u001b[39m, \u001b[38;5;28mid\u001b[39m\u001b[38;5;241m=\u001b[39m\u001b[38;5;124m'\u001b[39m\u001b[38;5;124mtask_priority\u001b[39m\u001b[38;5;124m'\u001b[39m)),\n\u001b[1;32m     11\u001b[0m                 UkTextArea(label\u001b[38;5;241m=\u001b[39m\u001b[38;5;124m'\u001b[39m\u001b[38;5;124mTitle\u001b[39m\u001b[38;5;124m'\u001b[39m, placeholder\u001b[38;5;241m=\u001b[39m\u001b[38;5;124m'\u001b[39m\u001b[38;5;124mPlease describe the task that needs to be completed\u001b[39m\u001b[38;5;124m'\u001b[39m),\n\u001b[1;32m     12\u001b[0m                 Div(\u001b[38;5;28mcls\u001b[39m\u001b[38;5;241m=\u001b[39m\u001b[38;5;124m'\u001b[39m\u001b[38;5;124mflex justify-end space-x-2\u001b[39m\u001b[38;5;124m'\u001b[39m)(\n\u001b[1;32m     13\u001b[0m                     UkButton(\u001b[38;5;28mcls\u001b[39m\u001b[38;5;241m=\u001b[39mUkButtonT\u001b[38;5;241m.\u001b[39mghost \u001b[38;5;241m+\u001b[39m \u001b[38;5;124m'\u001b[39m\u001b[38;5;124m uk-modal-close\u001b[39m\u001b[38;5;124m'\u001b[39m)(\u001b[38;5;124m'\u001b[39m\u001b[38;5;124mCancel\u001b[39m\u001b[38;5;124m'\u001b[39m),\n\u001b[1;32m     14\u001b[0m                     UkButton(\u001b[38;5;28mcls\u001b[39m\u001b[38;5;241m=\u001b[39mUkButtonT\u001b[38;5;241m.\u001b[39mprimary \u001b[38;5;241m+\u001b[39m \u001b[38;5;124m'\u001b[39m\u001b[38;5;124m uk-modal-close\u001b[39m\u001b[38;5;124m'\u001b[39m)(\u001b[38;5;124m'\u001b[39m\u001b[38;5;124mSubmit\u001b[39m\u001b[38;5;124m'\u001b[39m)))),\n\u001b[1;32m     15\u001b[0m         \u001b[38;5;28mid\u001b[39m\u001b[38;5;241m=\u001b[39m\u001b[38;5;124m'\u001b[39m\u001b[38;5;124mTaskForm\u001b[39m\u001b[38;5;124m'\u001b[39m)\n",
      "File \u001b[0;32m~/github/answerdotai/fh-frankenui/fh_frankenui/core.py:267\u001b[0m, in \u001b[0;36mUkSelect\u001b[0;34m(label, lbl_cls, inp_cls, cls, id, name, placeholder, searchable, *option, **kwargs)\u001b[0m\n\u001b[1;32m    265\u001b[0m     lbl \u001b[38;5;241m=\u001b[39m Label(\u001b[38;5;28mcls\u001b[39m\u001b[38;5;241m=\u001b[39m\u001b[38;5;124mf\u001b[39m\u001b[38;5;124m'\u001b[39m\u001b[38;5;124muk-form-label \u001b[39m\u001b[38;5;132;01m{\u001b[39;00mlbl_cls\u001b[38;5;132;01m}\u001b[39;00m\u001b[38;5;124m'\u001b[39m, fr\u001b[38;5;241m=\u001b[39m\u001b[38;5;28mid\u001b[39m)(label) \u001b[38;5;28;01mif\u001b[39;00m \u001b[38;5;28mid\u001b[39m \u001b[38;5;28;01melse\u001b[39;00m Label(\u001b[38;5;28mcls\u001b[39m\u001b[38;5;241m=\u001b[39m\u001b[38;5;124mf\u001b[39m\u001b[38;5;124m'\u001b[39m\u001b[38;5;124muk-form-label \u001b[39m\u001b[38;5;132;01m{\u001b[39;00mlbl_cls\u001b[38;5;132;01m}\u001b[39;00m\u001b[38;5;124m'\u001b[39m)(label)\n\u001b[1;32m    266\u001b[0m select \u001b[38;5;241m=\u001b[39m Uk_select(\u001b[38;5;28mcls\u001b[39m\u001b[38;5;241m=\u001b[39minp_cls, uk_cloak\u001b[38;5;241m=\u001b[39m\u001b[38;5;28;01mTrue\u001b[39;00m, \u001b[38;5;28mid\u001b[39m\u001b[38;5;241m=\u001b[39m\u001b[38;5;28mid\u001b[39m, name\u001b[38;5;241m=\u001b[39mname, placeholder\u001b[38;5;241m=\u001b[39mplaceholder, searchable\u001b[38;5;241m=\u001b[39msearchable, \u001b[38;5;241m*\u001b[39m\u001b[38;5;241m*\u001b[39mkwargs)\n\u001b[0;32m--> 267\u001b[0m select \u001b[38;5;241m=\u001b[39m select(\u001b[38;5;241m*\u001b[39m\u001b[43moptions\u001b[49m)\n\u001b[1;32m    268\u001b[0m \u001b[38;5;28;01mreturn\u001b[39;00m Div(\u001b[38;5;28mcls\u001b[39m\u001b[38;5;241m=\u001b[39m\u001b[38;5;28mcls\u001b[39m)(lbl, select) \u001b[38;5;28;01mif\u001b[39;00m label \u001b[38;5;28;01melse\u001b[39;00m Div(\u001b[38;5;28mcls\u001b[39m\u001b[38;5;241m=\u001b[39m\u001b[38;5;28mcls\u001b[39m)(select)\n",
      "\u001b[0;31mNameError\u001b[0m: name 'options' is not defined"
     ]
    }
   ],
   "source": [
    "#| export\n",
    "tasks_homepage = CreateTaskModal(), Div(cls='p-8')(page_heading, tasks_ui)"
   ]
  },
  {
   "cell_type": "code",
   "execution_count": 21,
   "metadata": {},
   "outputs": [],
   "source": [
    "#| hide\n",
    "import nbdev; nbdev.nbdev_export()"
   ]
  },
  {
   "cell_type": "code",
   "execution_count": null,
   "metadata": {},
   "outputs": [],
   "source": []
  }
 ],
 "metadata": {
  "kernelspec": {
   "display_name": "Python 3 (ipykernel)",
   "language": "python",
   "name": "python3"
  },
  "language_info": {
   "codemirror_mode": {
    "name": "ipython",
    "version": 3
   },
   "file_extension": ".py",
   "mimetype": "text/x-python",
   "name": "python",
   "nbconvert_exporter": "python",
   "pygments_lexer": "ipython3",
   "version": "3.12.4"
  },
  "toc": {
   "base_numbering": 1,
   "nav_menu": {},
   "number_sections": true,
   "sideBar": true,
   "skip_h1_title": false,
   "title_cell": "Table of Contents",
   "title_sidebar": "Contents",
   "toc_cell": false,
   "toc_position": {},
   "toc_section_display": true,
   "toc_window_display": false
  }
 },
 "nbformat": 4,
 "nbformat_minor": 4
}
