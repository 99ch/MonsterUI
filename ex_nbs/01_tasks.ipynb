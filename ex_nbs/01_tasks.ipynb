{
 "cells": [
  {
   "cell_type": "markdown",
   "metadata": {},
   "source": [
    "# Tasks\n",
    "\n",
    "> FrankenUI Tasks Example"
   ]
  },
  {
   "cell_type": "code",
   "execution_count": 130,
   "metadata": {},
   "outputs": [],
   "source": [
    "#| default_exp tasks"
   ]
  },
  {
   "cell_type": "code",
   "execution_count": 131,
   "metadata": {},
   "outputs": [],
   "source": [
    "#| hide\n",
    "from nbdev.showdoc import *"
   ]
  },
  {
   "cell_type": "code",
   "execution_count": 3,
   "metadata": {},
   "outputs": [],
   "source": [
    "#| export\n",
    "from fasthtml.common import *\n",
    "from fh_frankenui.core import *\n",
    "from fh_frankenui.components import *\n",
    "from fasthtml.svg import *\n",
    "import json"
   ]
  },
  {
   "cell_type": "code",
   "execution_count": 7,
   "metadata": {},
   "outputs": [],
   "source": [
    "#| hide\n",
    "from fasthtml.jupyter import *\n",
    "from uuid import uuid4\n",
    "from IPython.display import display, HTML\n",
    "\n",
    "\n",
    "if is_port_free(8000):\n",
    "    app, rt = fh.fast_app(pico=False, hdrs=Theme.blue.headers())\n",
    "    server = JupyUvi(app)\n",
    "app        \n",
    "def HShow(comp, app):\n",
    "    @app.get('/')\n",
    "    def get(): return comp\n",
    "\n",
    "    display(HTML(f'<a href=\"http://localhost:8000/\" target=\"_blank\">Open in new tab</a>'))\n",
    "    return HTMX(\"/\")\n",
    "\n",
    "Show = partial(HShow, app=app)"
   ]
  },
  {
   "cell_type": "code",
   "execution_count": 134,
   "metadata": {},
   "outputs": [
    {
     "data": {
      "text/html": [
       "<script src=\"https://cdn.tailwindcss.com\"></script>\n",
       "<script src=\"https://cdn.jsdelivr.net/npm/uikit@3.21.6/dist/js/uikit.min.js\"></script>\n",
       "<script src=\"https://cdn.jsdelivr.net/npm/uikit@3.21.6/dist/js/uikit-icons.min.js\"></script>\n",
       "<script type=\"module\" src=\"https://unpkg.com/franken-wc@0.0.6/dist/js/wc.iife.js\"></script>\n",
       "<link rel=\"stylesheet\" href=\"https://unpkg.com/franken-wc@0.0.6/dist/css/blue.min.css\">\n",
       "\n",
       "<style>\n",
       "#notebook-container { max-width: none; }\n",
       ".output_html * { list-style-type: none !important; }\n",
       "</style>\n"
      ],
      "text/plain": [
       "<IPython.core.display.HTML object>"
      ]
     },
     "metadata": {},
     "output_type": "display_data"
    }
   ],
   "source": [
    "%%html\n",
    "<script src=\"https://cdn.tailwindcss.com\"></script>\n",
    "<script src=\"https://cdn.jsdelivr.net/npm/uikit@3.21.6/dist/js/uikit.min.js\"></script>\n",
    "<script src=\"https://cdn.jsdelivr.net/npm/uikit@3.21.6/dist/js/uikit-icons.min.js\"></script>\n",
    "<script type=\"module\" src=\"https://unpkg.com/franken-wc@0.0.6/dist/js/wc.iife.js\"></script>\n",
    "<link rel=\"stylesheet\" href=\"https://unpkg.com/franken-wc@0.0.6/dist/css/blue.min.css\">\n",
    "\n",
    "<style>\n",
    "#notebook-container { max-width: none; }\n",
    ".output_html * { list-style-type: none !important; }\n",
    "</style>"
   ]
  },
  {
   "cell_type": "markdown",
   "metadata": {},
   "source": [
    "## Data"
   ]
  },
  {
   "cell_type": "markdown",
   "metadata": {},
   "source": [
    "We store data in Python to minic the static data in the examples.  Eventually this should be replaced with sqlite data store to allow for interactive functionality"
   ]
  },
  {
   "cell_type": "code",
   "execution_count": 135,
   "metadata": {},
   "outputs": [],
   "source": [
    "#| export\n",
    "with open('data/status_list.json', 'r') as f: data     = json.load(f)\n",
    "with open('data/statuses.json',    'r') as f: statuses = json.load(f)"
   ]
  },
  {
   "cell_type": "code",
   "execution_count": 136,
   "metadata": {},
   "outputs": [],
   "source": [
    "#| export\n",
    "priority_dd = [{'priority': \"low\", 'count': 36 }, {'priority': \"medium\", 'count': 33 }, {'priority': \"high\", 'count': 31 }]\n",
    "\n",
    "rows_per_page_dd = [10,20,30,40,50]\n",
    "\n",
    "status_dd = [{'status': \"backlog\", 'count': 21 },{'status': \"todo\", 'count': 21 },{'status': \"progress\", 'count': 20 },{'status': \"done\",'count': 19 },{'status': \"cancelled\", 'count': 19 }]\n"
   ]
  },
  {
   "cell_type": "markdown",
   "metadata": {},
   "source": [
    "## Tasks Page Functions"
   ]
  },
  {
   "cell_type": "code",
   "execution_count": 137,
   "metadata": {},
   "outputs": [],
   "source": [
    "#| export\n",
    "def create_hotkey_li(hotkey): return NavCloseLi(A(cls='justify-between')(hotkey[0], Span(hotkey[1], cls=TextFont.muted_sm)))\n",
    "\n",
    "hotkeys_a = (('Profile','⇧⌘P'),('Billing','⌘B'),('Settings','⌘S'),('New Team',''))\n",
    "hotkeys_b = (('Logout',''), )"
   ]
  },
  {
   "cell_type": "code",
   "execution_count": 138,
   "metadata": {},
   "outputs": [],
   "source": [
    "#| export\n",
    "avatar_opts = DropDownNavContainer(\n",
    "    NavHeaderLi(P('sveltecult'),NavSubtitle('leader@sveltecult.com')),\n",
    "    NavDividerLi(),\n",
    "    *map(create_hotkey_li, hotkeys_a),\n",
    "    NavDividerLi(),\n",
    "    *map(create_hotkey_li, hotkeys_b),)"
   ]
  },
  {
   "cell_type": "code",
   "execution_count": 145,
   "metadata": {},
   "outputs": [],
   "source": [
    "#| export\n",
    "def CreateTaskModal():\n",
    "    return Modal(\n",
    "        Div(cls='p-6')(\n",
    "            ModalTitle('Create Task'),\n",
    "            P('Fill out the information below to create a new task', cls=TextFont.muted_sm),\n",
    "            Br(),\n",
    "            Form(cls='space-y-6')(\n",
    "                Grid(Div(Select(*map(Option,('Documentation', 'Bug', 'Feature')), label='Task Type', id='task_type')),\n",
    "                     Div(Select(*map(Option,('In Progress', 'Backlog', 'Todo', 'Cancelled', 'Done')), label='Status', id='task_status')),\n",
    "                     Div(Select(*map(Option, ('Low', 'Medium', 'High')), label='Priority', id='task_priority'))),\n",
    "                TextArea(label='Title', placeholder='Please describe the task that needs to be completed'),\n",
    "                RAlignedDiv(\n",
    "                    ModalCloseButton('Cancel', cls=ButtonT.ghost),\n",
    "                    ModalCloseButton('Submit', cls=ButtonT.primary),\n",
    "                    cls='space-x-5'))),\n",
    "        id='TaskForm')"
   ]
  },
  {
   "cell_type": "code",
   "execution_count": 140,
   "metadata": {},
   "outputs": [],
   "source": [
    "#| export\n",
    "page_heading = FullySpacedDiv(cls='space-y-2')(\n",
    "            Div(cls='space-y-2')(\n",
    "                H2('Welcome back!'),P(\"Here's a list of your tasks for this month!\", cls=TextFont.muted_sm)),\n",
    "            Div(DiceBearAvatar(\"sveltcult\",8,8),avatar_opts))"
   ]
  },
  {
   "cell_type": "code",
   "execution_count": 141,
   "metadata": {},
   "outputs": [
    {
     "data": {
      "text/html": [
       "<div class=\"uk-flex uk-flex-between uk-flex-middle space-y-2\">\n",
       "  <div class=\"space-y-2\">\n",
       "    <h2 class=\"uk-h2 \">Welcome back!</h2>\n",
       "    <p class=\"uk-text-muted uk-text-small\">Here&#x27;s a list of your tasks for this month!</p>\n",
       "  </div>\n",
       "  <div>\n",
       "<span class=\"relative flex h-8 w-8 shrink-0 overflow-hidden rounded-full bg-accent\"><img alt=\"Avatar\" src=\"https://api.dicebear.com/8.x/lorelei/svg?seed=sveltcult\" class=\"aspect-square h-8 w-8\"></span>    <div class=\"uk-drop uk-dropdown\" uk-dropdown>\n",
       "      <ul class=\"uk-nav uk-dropdown-nav uk-nav-primary\">\n",
       "        <li class=\"uk-nav-header \">\n",
       "          <p>sveltecult</p>\n",
       "          <div class=\"uk-nav-subtitle uk-text-muted uk-text-small\">leader@sveltecult.com</div>\n",
       "        </li>\n",
       "        <li class=\"uk-nav-divider \"></li>\n",
       "        <li>\n",
       "<a href=\"#\" class=\"uk-drop-close justify-between\">Profile<span class=\"uk-text-muted uk-text-small\">⇧⌘P</span></a>        </li>\n",
       "        <li>\n",
       "<a href=\"#\" class=\"uk-drop-close justify-between\">Billing<span class=\"uk-text-muted uk-text-small\">⌘B</span></a>        </li>\n",
       "        <li>\n",
       "<a href=\"#\" class=\"uk-drop-close justify-between\">Settings<span class=\"uk-text-muted uk-text-small\">⌘S</span></a>        </li>\n",
       "        <li>\n",
       "<a href=\"#\" class=\"uk-drop-close justify-between\">New Team<span class=\"uk-text-muted uk-text-small\"></span></a>        </li>\n",
       "        <li class=\"uk-nav-divider \"></li>\n",
       "        <li>\n",
       "<a href=\"#\" class=\"uk-drop-close justify-between\">Logout<span class=\"uk-text-muted uk-text-small\"></span></a>        </li>\n",
       "      </ul>\n",
       "    </div>\n",
       "  </div>\n",
       "</div>\n"
      ],
      "text/plain": [
       "<IPython.core.display.HTML object>"
      ]
     },
     "execution_count": 141,
     "metadata": {},
     "output_type": "execute_result"
    }
   ],
   "source": [
    "show(page_heading)"
   ]
  },
  {
   "cell_type": "code",
   "execution_count": 142,
   "metadata": {},
   "outputs": [],
   "source": [
    "#| export\n",
    "table_controls =(Input(cls='w-[250px]',placeholder='Filter task'),\n",
    "     Button(\"Status\"),\n",
    "     DropDownNavContainer(map(NavCloseLi,[A(FullySpacedDiv(P(a['status']), P(a['count'])),cls=TextT.capitalize) for a in status_dd])), \n",
    "     Button(\"Priority\"),\n",
    "     DropDownNavContainer(map(NavCloseLi,[A(FullySpacedDiv(LAlignedIconTxt(a['priority'], icon=\"check\"), a['count']),cls=TextT.capitalize) for a in priority_dd])),\n",
    "     Button(\"View\"),\n",
    "     DropDownNavContainer(map(NavCloseLi,[A(LAlignedIconTxt(o, icon=\"check\")) for o in ['Title','Status','Priority']])),\n",
    "     Button('Create Task',cls=(ButtonT.primary, TextFont.bold_sm), uk_toggle=\"target: #TaskForm\"))"
   ]
  },
  {
   "cell_type": "code",
   "execution_count": 143,
   "metadata": {},
   "outputs": [
    {
     "data": {
      "text/markdown": [
       "```html\n",
       "<button type=\"button\" uk-toggle=\"target: #TaskForm\" class=\"uk-button uk-button-primary uk-text-bold uk-text-small\">Create Task</button>\n",
       "```"
      ],
      "text/plain": [
       "button(('Create Task',),{'type': 'button', 'uk-toggle': 'target: #TaskForm', 'class': 'uk-button uk-button-primary uk-text-bold uk-text-small'})"
      ]
     },
     "execution_count": 143,
     "metadata": {},
     "output_type": "execute_result"
    }
   ],
   "source": [
    "Button('Create Task',cls=(ButtonT.primary, TextFont.bold_sm), uk_toggle=\"target: #TaskForm\")"
   ]
  },
  {
   "cell_type": "code",
   "execution_count": 144,
   "metadata": {},
   "outputs": [
    {
     "data": {
      "text/html": [
       "<a href=\"http://localhost:8000/\" target=\"_blank\">Open in new tab</a>"
      ],
      "text/plain": [
       "<IPython.core.display.HTML object>"
      ]
     },
     "metadata": {},
     "output_type": "display_data"
    },
    {
     "data": {
      "text/html": [
       "<iframe src=\"http://localhost:8000/\" style=\"width: 100%; height: auto; border: none;\" onload=\"{\n",
       "        let frame = this;\n",
       "        window.addEventListener('message', function(e) {\n",
       "            if (e.data.height) frame.style.height = (e.data.height+1) + 'px';\n",
       "        }, false);\n",
       "    }\" allow=\"accelerometer; autoplay; camera; clipboard-read; clipboard-write; display-capture; encrypted-media; fullscreen; gamepad; geolocation; gyroscope; hid; identity-credentials-get; idle-detection; magnetometer; microphone; midi; payment; picture-in-picture; publickey-credentials-get; screen-wake-lock; serial; usb; web-share; xr-spatial-tracking\"></iframe> "
      ],
      "text/plain": [
       "<IPython.core.display.HTML object>"
      ]
     },
     "execution_count": 144,
     "metadata": {},
     "output_type": "execute_result"
    }
   ],
   "source": [
    "Show(table_controls)"
   ]
  },
  {
   "cell_type": "markdown",
   "metadata": {},
   "source": [
    "## Route Data"
   ]
  },
  {
   "cell_type": "code",
   "execution_count": 123,
   "metadata": {},
   "outputs": [],
   "source": [
    "#| export\n",
    "def task_dropdown():\n",
    "    return Div(Button(UkIcon('more')),\n",
    "               DropDownNavContainer(\n",
    "                   map(NavCloseLi,[\n",
    "                           A('Edit',),\n",
    "                           A('Make a copy'),\n",
    "                           A('Favorite',),\n",
    "                           A(SpacedPP('Delete', '⌘⌫'))])))"
   ]
  },
  {
   "cell_type": "code",
   "execution_count": 21,
   "metadata": {
    "scrolled": true
   },
   "outputs": [],
   "source": [
    "#| export\n",
    "def header_render(col):\n",
    "    cls = 'p-2 ' + 'uk-table-shrink' if col in ('Done','Actions') else ''\n",
    "    match col:\n",
    "        case \"Done\":    return Th(CheckboxX(), cls=cls)\n",
    "        case 'Actions': return Th(\"\",       cls=cls)\n",
    "        case _:         return Th(col, cls=cls)"
   ]
  },
  {
   "cell_type": "code",
   "execution_count": 22,
   "metadata": {},
   "outputs": [],
   "source": [
    "#| export\n",
    "def cell_render(col, row):\n",
    "    def _Td(*args,cls='', **kwargs): return Td(*args, cls=f'p-2 {cls}',**kwargs)\n",
    "    match col:\n",
    "        case \"Done\":  return _Td(shrink=True)(CheckboxX(selected=row['selected']))\n",
    "        case \"Task\":  return _Td(row[\"id\"])\n",
    "        case \"Title\": return _Td(cls='max-w-[500px] truncate', expand=True)(row[\"title\"], cls='font-medium')\n",
    "        case \"Status\" | \"Priority\": return _Td(cls='uk-text-nowrap uk-text-capitalize')(Span(row[col.lower()]))\n",
    "        case \"Actions\": return _Td(cls='uk-table-shrink')(task_dropdown())\n",
    "        case _: raise ValueError(f\"Unknown column: {col}\")"
   ]
  },
  {
   "cell_type": "code",
   "execution_count": 23,
   "metadata": {
    "scrolled": false
   },
   "outputs": [],
   "source": [
    "#| export\n",
    "task_columns = [\"Done\", 'Task', 'Title', 'Status', 'Priority', 'Actions']\n",
    "\n",
    "tasks_table = Div(cls='uk-overflow-auto mt-4 rounded-md border border-border')(TableFromDicts(\n",
    "    header_data=task_columns,\n",
    "    body_data=data,\n",
    "    body_cell_render=cell_render,\n",
    "    header_cell_render=header_render))\n"
   ]
  },
  {
   "cell_type": "code",
   "execution_count": null,
   "metadata": {},
   "outputs": [],
   "source": [
    "# show(tasks_table)"
   ]
  },
  {
   "cell_type": "code",
   "execution_count": 24,
   "metadata": {},
   "outputs": [],
   "source": [
    "#| export\n",
    "\n",
    "def footer():\n",
    "    hw_cls = 'h-4 w-4'\n",
    "    return SpaceBetweenDiv(cls='mt-4 px-2 py-2')(\n",
    "        Div('1 of 100 row(s) selected.', cls='flex-1 text-sm text-muted-foreground'),\n",
    "        Div(cls='flex flex-none items-center space-x-8')(\n",
    "            CenteredDiv('Page 1 of 10', cls='w-[100px] text-sm font-medium'),\n",
    "            LAlignedDiv(\n",
    "                UkIconButton(cls='hidden lg:inline-flex')(Span('Go to last page', cls='sr-only'),\n",
    "                    Span(uk_icon='chevron-double-left', cls=hw_cls)),\n",
    "                UkIconButton(Span('Go to previous page', cls='sr-only'),\n",
    "                    Span(uk_icon='chevron-left', cls=hw_cls)),\n",
    "                UkIconButton(Span('Go to next page', cls='sr-only'),\n",
    "                    Span(uk_icon='chevron-right', cls=hw_cls)),\n",
    "                UkIconButton(cls='hidden lg:inline-flex')(\n",
    "                    Span('Go to last page', cls='sr-only'),\n",
    "                    Span(uk_icon='chevron-double-right', cls=hw_cls)),\n",
    "            gap=2)))"
   ]
  },
  {
   "cell_type": "code",
   "execution_count": 25,
   "metadata": {},
   "outputs": [],
   "source": [
    "#| export\n",
    "tasks_ui = Div(\n",
    "    SpaceBetweenDiv(cls='mt-8')(\n",
    "        Div(cls='flex flex-1 gap-4')(table_controls)),\n",
    "    tasks_table,\n",
    "    footer(),)"
   ]
  },
  {
   "cell_type": "code",
   "execution_count": 26,
   "metadata": {},
   "outputs": [],
   "source": [
    "#| export\n",
    "tasks_homepage = CreateTaskModal(), Div(cls='p-8')(page_heading, tasks_ui)"
   ]
  },
  {
   "cell_type": "code",
   "execution_count": 27,
   "metadata": {},
   "outputs": [],
   "source": [
    "#| hide\n",
    "import nbdev; nbdev.nbdev_export()"
   ]
  },
  {
   "cell_type": "code",
   "execution_count": null,
   "metadata": {},
   "outputs": [],
   "source": []
  }
 ],
 "metadata": {
  "kernelspec": {
   "display_name": "Python 3 (ipykernel)",
   "language": "python",
   "name": "python3"
  },
  "language_info": {
   "codemirror_mode": {
    "name": "ipython",
    "version": 3
   },
   "file_extension": ".py",
   "mimetype": "text/x-python",
   "name": "python",
   "nbconvert_exporter": "python",
   "pygments_lexer": "ipython3",
   "version": "3.12.4"
  },
  "toc": {
   "base_numbering": 1,
   "nav_menu": {},
   "number_sections": true,
   "sideBar": true,
   "skip_h1_title": false,
   "title_cell": "Table of Contents",
   "title_sidebar": "Contents",
   "toc_cell": false,
   "toc_position": {},
   "toc_section_display": true,
   "toc_window_display": false
  }
 },
 "nbformat": 4,
 "nbformat_minor": 4
}
