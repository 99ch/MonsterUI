{
 "cells": [
  {
   "cell_type": "markdown",
   "metadata": {},
   "source": [
    "# Tasks\n",
    "\n",
    "> FrankenUI Tasks Example"
   ]
  },
  {
   "cell_type": "code",
   "execution_count": 1,
   "metadata": {},
   "outputs": [],
   "source": [
    "#| default_exp tasks"
   ]
  },
  {
   "cell_type": "code",
   "execution_count": 2,
   "metadata": {},
   "outputs": [],
   "source": [
    "#| hide\n",
    "from nbdev.showdoc import *"
   ]
  },
  {
   "cell_type": "code",
   "execution_count": 3,
   "metadata": {},
   "outputs": [],
   "source": [
    "#| export\n",
    "from fasthtml.common import *\n",
    "from fh_frankenui.components import *\n",
    "from fasthtml.svg import *\n",
    "import json"
   ]
  },
  {
   "cell_type": "markdown",
   "metadata": {
    "heading_collapsed": true
   },
   "source": [
    "## Data"
   ]
  },
  {
   "cell_type": "markdown",
   "metadata": {
    "hidden": true
   },
   "source": [
    "We store data in Python to minic the static data in the examples.  Eventually this should be replaced with sqlite data store to allow for interactive functionality"
   ]
  },
  {
   "cell_type": "code",
   "execution_count": 4,
   "metadata": {
    "hidden": true
   },
   "outputs": [],
   "source": [
    "#| export\n",
    "with open('../data/status_list.json', 'r') as f: data     = json.load(f)\n",
    "with open('../data/statuses.json',    'r') as f: statuses = json.load(f)"
   ]
  },
  {
   "cell_type": "code",
   "execution_count": 5,
   "metadata": {
    "hidden": true
   },
   "outputs": [],
   "source": [
    "#| export\n",
    "priority_dd = [{'priority': \"low\", 'count': 36 }, {'priority': \"medium\", 'count': 33 }, {'priority': \"high\", 'count': 31 }]\n",
    "\n",
    "rows_per_page_dd = [10,20,30,40,50]\n",
    "\n",
    "status_dd = [{'status': \"backlog\", 'count': 21 },{'status': \"todo\", 'count': 21 },{'status': \"progress\", 'count': 20 },{'status': \"done\",'count': 19 },{'status': \"cancelled\", 'count': 19 }]\n"
   ]
  },
  {
   "cell_type": "markdown",
   "metadata": {},
   "source": [
    "## Tasks Page Functions"
   ]
  },
  {
   "cell_type": "code",
   "execution_count": 6,
   "metadata": {},
   "outputs": [],
   "source": [
    "#| export\n",
    "hotkeys = (('Profile','⇧⌘P'),('Billing','⌘B'),('Settings','⌘S'),('New Team',''),('Logout',''))\n",
    "avatar_opts =Ul(cls='uk-dropdown-nav uk-nav')(\n",
    "                            Li(cls='px-2 py-1.5 text-sm')(\n",
    "                                Div(cls='flex flex-col space-y-1')(\n",
    "                                    P('sveltecult', cls='text-sm font-medium leading-none'),\n",
    "                                    P('leader@sveltecult.com', cls='text-xs leading-none text-muted-foreground'))),\n",
    "                            Li(cls='uk-nav-divider'),\n",
    "                            *map(lambda x: Li(A(cls='uk-drop-close justify-between')(x[0],Span(x[1],cls='ml-auto text-xs tracking-widest opacity-60'))), hotkeys))"
   ]
  },
  {
   "cell_type": "code",
   "execution_count": 52,
   "metadata": {},
   "outputs": [],
   "source": [
    "#| export\n",
    "def UkIconButton(*c, sz='small', cls=()):\n",
    "    if sz not in ('small','medium','large'): raise ValueError(f\"Invalid size '{sz}'. Must be 'small', 'medium', or 'large'.\")\n",
    "    return Button(cls=f'uk-icon-button uk-icon-button-{sz} ' + stringify(cls))(*c)"
   ]
  },
  {
   "cell_type": "code",
   "execution_count": 18,
   "metadata": {},
   "outputs": [],
   "source": [
    "#| export\n",
    "def CreateTaskModal():\n",
    "    return Modal(\n",
    "        Div(cls='p-6')(\n",
    "            UkModalTitle('Create Task'),P(cls=TextT.muted_sm)('Fill out the information below to create a new task'),Br(),\n",
    "            Form(cls='space-y-6')(\n",
    "                Div(cls='grid grid-cols-3 gap-2')(\n",
    "                    UkSelect(*Options('Documentation', 'Bug', 'Feature'), label='Task Type', id='task_type'),\n",
    "                    UkSelect(*Options('In Progress', 'Backlog', 'Todo', 'Cancelled', 'Done'), label='Status', id='task_status'),\n",
    "                    UkSelect(*Options('Low', 'Medium', 'High'), label='Priority', id='task_priority')),\n",
    "                UkTextArea(label='Title', placeholder='Please describe the task that needs to be completed'),\n",
    "                Div(cls='flex justify-end space-x-2')(\n",
    "                    UkButton(cls=UkButtonT.ghost + ' uk-modal-close')('Cancel'),\n",
    "                    UkButton(cls=UkButtonT.primary + ' uk-modal-close')('Submit')))),\n",
    "        id='TaskForm')"
   ]
  },
  {
   "cell_type": "code",
   "execution_count": 19,
   "metadata": {},
   "outputs": [],
   "source": [
    "#| export\n",
    "page_heading =Div(cls='flex items-center justify-between space-y-2')(\n",
    "            Div(cls='space-y-2')(\n",
    "                UkH2('Welcome back!'),P(\"Here's a list of your tasks for this month!\", cls=TextT.muted_sm)),\n",
    "            Div(A(href='#', cls='h-8 w-8 inline-flex rounded-full bg-accent ring-ring')(Img(src='https://api.dicebear.com/8.x/lorelei/svg?seed=sveltecult')),\n",
    "                Div(uk_dropdown='mode: click; pos: bottom-right', cls='uk-dropdown uk-drop')(avatar_opts)))"
   ]
  },
  {
   "cell_type": "code",
   "execution_count": 29,
   "metadata": {},
   "outputs": [],
   "source": [
    "#| export\n",
    "table_controls =(UkInput(cls='w-[250px]',placeholder='Filter task'),\n",
    "                 UkDropdownButton(label = \"Status\", \n",
    "                     options = list(A(FullySpacedContainer(a['status'], a['count'], wrap_tag=P),cls='capitalize') for a in status_dd),\n",
    "                     btn_cls=(TextT.medium_xs, 'uk-button-default')),\n",
    "                 UkDropdownButton(label = \"Priority\", \n",
    "                    options = [A(FullySpacedContainer(a['priority'], a['count'],wrap_tag=P),cls='capitalize') for a in priority_dd],\n",
    "                     btn_cls=(TextT.medium_xs,'uk-button-default')),\n",
    "                UkDropdownButton(label='View', \n",
    "                                 options = [FullySpacedContainer(P(o), UkIcon('check')) for o in ['Title','Status','Priority']]),\n",
    "                UkButton('Create Task',cls=('uk-button-primary', TextT.medium_xs), uk_toggle=\"target: #TaskForm\"))"
   ]
  },
  {
   "cell_type": "markdown",
   "metadata": {},
   "source": [
    "## Route Data"
   ]
  },
  {
   "cell_type": "code",
   "execution_count": null,
   "metadata": {},
   "outputs": [],
   "source": [
    "#| export\n",
    "def tasks():\n",
    "    return CreateTaskModal(),Div(cls='p-8')(\n",
    "            page_heading,\n",
    "        Div(cls='mt-8 flex items-center justify-between')(\n",
    "                 Div(cls='flex flex-1 gap-4')(table_controls)),\n",
    "             Div(cls='uk-overflow-auto mt-4 rounded-md border border-border')(\n",
    "                 Table(cls='uk-table uk-table-middle uk-table-divider uk-table-hover uk-table-small')(\n",
    "                     # Table header\n",
    "                     Thead(Tr(Th(cls='uk-table-shrink p-2')(Input(type='checkbox', cls='uk-checkbox')),\n",
    "                             *[Th(cls='p-2')(o) for o in ['Task','Title','Status','Priority']],\n",
    "                             Th(cls='uk-table-shrink p-2'))),\n",
    "                     # Table Body (Tasks content)\n",
    "                     Tbody(\n",
    "                         *[Tr(cls=a['selected'])(\n",
    "                             Td(cls='uk-table-shrink p-2')(CheckboxX(cls='uk-checkbox')), \n",
    "                             Td(a['id'], cls='p-2'), # task id\n",
    "                             Td(cls='uk-table-expand max-w-[500px] truncate p-2')(Span(a['label'], cls='uk-label capitalize'),Span(a['title'], cls='font-medium')),\n",
    "                             *map(lambda x: Td(cls='uk-text-nowrap p-2 uk-text-capitalize')(x), (a['status'],a['priority'])) ,\n",
    "                             Td(cls='p-2')(\n",
    "                                 UkIconButton(cls='uk-icon-button-xsmall')(Span(uk_icon='more', cls='text-gray-400')),\n",
    "                                 Div(uk_dropdown='mode: click; pos: bottom-right', cls='uk-dropdown uk-drop')(\n",
    "                                     Ul(cls='uk-dropdown-nav uk-nav')(\n",
    "                                         *map(lambda x: Li(A(x, cls='uk-drop-close justify-between')), ('Edit','Make a copy','Favorite', ('Delete',Span('⌘⌫', cls='ml-auto text-xs tracking-widest opacity-60'))))))))\n",
    "                           for a in data])),\n",
    "             # Table Footer\n",
    "             Div(cls='mt-4 flex items-center justify-between px-2')(\n",
    "                 Div('1 of 100 row(s) selected.', cls='flex-1 text-sm text-muted-foreground'),\n",
    "                 Div(cls='flex flex-none items-center space-x-8')(\n",
    "                     Div('Page 1 of 10', cls='flex w-[100px] items-center justify-center text-sm font-medium'),\n",
    "                     Div(cls='flex items-center space-x-2')(\n",
    "                         # chevron navigation (dbl left, left, right, dbl right)\n",
    "                         UkIconButton(cls='hidden lg:inline-flex')(Span('Go to last page', cls='sr-only'),\n",
    "                             Span(uk_icon='chevron-double-left', cls='h-4 w-4')),\n",
    "                         UkIconButton(Span('Go to previous page', cls='sr-only'),\n",
    "                             Span(uk_icon='chevron-left', cls='h-4 w-4')),\n",
    "                         UkIconButton(Span('Go to next page', cls='sr-only'),\n",
    "                             Span(uk_icon='chevron-right', cls='h-4 w-4')),\n",
    "                         UkIconButton(cls='hidden lg:inline-flex')(\n",
    "                             Span('Go to last page', cls='sr-only'),\n",
    "                             Span(uk_icon='chevron-double-right', cls='h-4 w-4')))))))"
   ]
  },
  {
   "cell_type": "code",
   "execution_count": null,
   "metadata": {},
   "outputs": [],
   "source": [
    "#| export\n",
    "tasks_homepage = tasks()"
   ]
  },
  {
   "cell_type": "code",
   "execution_count": null,
   "metadata": {},
   "outputs": [],
   "source": [
    "#| hide\n",
    "import nbdev; nbdev.nbdev_export()"
   ]
  },
  {
   "cell_type": "code",
   "execution_count": null,
   "metadata": {},
   "outputs": [],
   "source": []
  },
  {
   "cell_type": "code",
   "execution_count": null,
   "metadata": {},
   "outputs": [],
   "source": []
  },
  {
   "cell_type": "code",
   "execution_count": null,
   "metadata": {},
   "outputs": [],
   "source": []
  }
 ],
 "metadata": {
  "kernelspec": {
   "display_name": "Python 3 (ipykernel)",
   "language": "python",
   "name": "python3"
  },
  "language_info": {
   "codemirror_mode": {
    "name": "ipython",
    "version": 3
   },
   "file_extension": ".py",
   "mimetype": "text/x-python",
   "name": "python",
   "nbconvert_exporter": "python",
   "pygments_lexer": "ipython3",
   "version": "3.12.4"
  },
  "toc": {
   "base_numbering": 1,
   "nav_menu": {},
   "number_sections": true,
   "sideBar": true,
   "skip_h1_title": false,
   "title_cell": "Table of Contents",
   "title_sidebar": "Contents",
   "toc_cell": false,
   "toc_position": {},
   "toc_section_display": true,
   "toc_window_display": false
  }
 },
 "nbformat": 4,
 "nbformat_minor": 4
}
