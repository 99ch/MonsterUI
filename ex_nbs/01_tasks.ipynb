{
 "cells": [
  {
   "cell_type": "markdown",
   "metadata": {},
   "source": [
    "# Tasks\n",
    "\n",
    "> FrankenUI Tasks Example"
   ]
  },
  {
   "cell_type": "code",
   "execution_count": 36,
   "metadata": {},
   "outputs": [],
   "source": [
    "#| default_exp tasks"
   ]
  },
  {
   "cell_type": "code",
   "execution_count": 37,
   "metadata": {},
   "outputs": [],
   "source": [
    "#| hide\n",
    "from nbdev.showdoc import *"
   ]
  },
  {
   "cell_type": "code",
   "execution_count": 38,
   "metadata": {},
   "outputs": [],
   "source": [
    "#| export\n",
    "from fasthtml.common import *\n",
    "import fasthtml.common as fh\n",
    "from fh_frankenui import *\n",
    "from fasthtml.svg import *\n",
    "import json"
   ]
  },
  {
   "cell_type": "code",
   "execution_count": 39,
   "metadata": {},
   "outputs": [
    {
     "data": {
      "text/html": [
       "<script src=\"https://cdn.tailwindcss.com\"></script>\n",
       "<script src=\"https://cdn.jsdelivr.net/npm/uikit@3.21.6/dist/js/uikit.min.js\"></script>\n",
       "<script src=\"https://cdn.jsdelivr.net/npm/uikit@3.21.6/dist/js/uikit-icons.min.js\"></script>\n",
       "<script type=\"module\" src=\"https://unpkg.com/franken-wc@0.0.6/dist/js/wc.iife.js\"></script>\n",
       "<link rel=\"stylesheet\" href=\"https://unpkg.com/franken-wc@0.0.6/dist/css/blue.min.css\">\n",
       "\n",
       "<style>\n",
       "#notebook-container { max-width: none; }\n",
       ".output_html * { list-style-type: none !important; }\n",
       "</style>\n"
      ],
      "text/plain": [
       "<IPython.core.display.HTML object>"
      ]
     },
     "metadata": {},
     "output_type": "display_data"
    }
   ],
   "source": [
    "%%html\n",
    "<script src=\"https://cdn.tailwindcss.com\"></script>\n",
    "<script src=\"https://cdn.jsdelivr.net/npm/uikit@3.21.6/dist/js/uikit.min.js\"></script>\n",
    "<script src=\"https://cdn.jsdelivr.net/npm/uikit@3.21.6/dist/js/uikit-icons.min.js\"></script>\n",
    "<script type=\"module\" src=\"https://unpkg.com/franken-wc@0.0.6/dist/js/wc.iife.js\"></script>\n",
    "<link rel=\"stylesheet\" href=\"https://unpkg.com/franken-wc@0.0.6/dist/css/blue.min.css\">\n",
    "\n",
    "<style>\n",
    "#notebook-container { max-width: none; }\n",
    ".output_html * { list-style-type: none !important; }\n",
    "</style>"
   ]
  },
  {
   "cell_type": "markdown",
   "metadata": {},
   "source": [
    "## Data"
   ]
  },
  {
   "cell_type": "markdown",
   "metadata": {},
   "source": [
    "We store data in Python to minic the static data in the examples.  Eventually this should be replaced with sqlite data store to allow for interactive functionality"
   ]
  },
  {
   "cell_type": "code",
   "execution_count": 40,
   "metadata": {},
   "outputs": [],
   "source": [
    "#| export\n",
    "with open('data/status_list.json', 'r') as f: data     = json.load(f)\n",
    "with open('data/statuses.json',    'r') as f: statuses = json.load(f)"
   ]
  },
  {
   "cell_type": "code",
   "execution_count": 41,
   "metadata": {},
   "outputs": [],
   "source": [
    "#| export\n",
    "priority_dd = [{'priority': \"low\", 'count': 36 }, {'priority': \"medium\", 'count': 33 }, {'priority': \"high\", 'count': 31 }]\n",
    "\n",
    "rows_per_page_dd = [10,20,30,40,50]\n",
    "\n",
    "status_dd = [{'status': \"backlog\", 'count': 21 },{'status': \"todo\", 'count': 21 },{'status': \"progress\", 'count': 20 },{'status': \"done\",'count': 19 },{'status': \"cancelled\", 'count': 19 }]\n"
   ]
  },
  {
   "cell_type": "markdown",
   "metadata": {},
   "source": [
    "## Tasks Page Functions"
   ]
  },
  {
   "cell_type": "code",
   "execution_count": 42,
   "metadata": {},
   "outputs": [],
   "source": [
    "#| export\n",
    "def create_hotkey_li(hotkey):\n",
    "    return Li(A(cls='uk-drop-close justify-between')(\n",
    "        hotkey[0],\n",
    "        Span(hotkey[1], cls='ml-auto text-xs tracking-widest opacity-60')))\n",
    "\n",
    "hotkeys_a = (('Profile','⇧⌘P'),('Billing','⌘B'),('Settings','⌘S'),('New Team',''))\n",
    "hotkeys_b = (('Logout',''), )\n",
    "\n",
    "# TODO convert to navbar\n",
    "avatar_opts = Ul(cls='uk-dropdown-nav uk-nav')(\n",
    "    Li(cls='px-2 py-1.5 text-sm')(\n",
    "        Div(cls='flex flex-col space-y-1')(\n",
    "            P('sveltecult', cls='text-sm font-medium leading-none'),\n",
    "            P('leader@sveltecult.com', cls='text-xs leading-none text-muted-foreground'))),\n",
    "    Li(cls='uk-nav-divider'),\n",
    "    *map(create_hotkey_li, hotkeys_a),\n",
    "    Li(cls='uk-nav-divider'),\n",
    "    *map(create_hotkey_li, hotkeys_b)\n",
    ")"
   ]
  },
  {
   "cell_type": "code",
   "execution_count": 43,
   "metadata": {},
   "outputs": [],
   "source": [
    "#| export\n",
    "def CreateTaskModal():\n",
    "    return Modal(\n",
    "        Div(cls='p-6')(\n",
    "            ModalTitle('Create Task'),P('Fill out the information below to create a new task', cls=TextFont.muted_sm),\n",
    "            Br(),\n",
    "            Form(cls='space-y-6')(\n",
    "                Grid(Div(Select(*Options('Documentation', 'Bug', 'Feature'), label='Task Type', id='task_type')),\n",
    "                     Div(Select(*Options('In Progress', 'Backlog', 'Todo', 'Cancelled', 'Done'), label='Status', id='task_status')),\n",
    "                     Div(Select(*Options('Low', 'Medium', 'High'), label='Priority', id='task_priority'))),\n",
    "                TextArea(label='Title', placeholder='Please describe the task that needs to be completed'),\n",
    "                Div(cls='flex justify-end space-x-2')(\n",
    "                    ModalCloseButton('Cancel', cls=ButtonT.ghost),\n",
    "                    ModalCloseButton('Submit', cls=ButtonT.primary),))),\n",
    "        id='TaskForm')"
   ]
  },
  {
   "cell_type": "code",
   "execution_count": 73,
   "metadata": {},
   "outputs": [],
   "source": [
    "#| export\n",
    "page_heading =SpaceBetweenDiv(cls='space-y-2')(\n",
    "            Div(cls='space-y-2')(\n",
    "                H2('Welcome back!'),P(\"Here's a list of your tasks for this month!\", cls=TextFont.muted_sm)),\n",
    "            Div(A(href='#', cls='h-8 w-8 inline-flex rounded-full bg-accent ring-ring')(fh.Img(src='https://api.dicebear.com/8.x/lorelei/svg?seed=sveltecult')),\n",
    "                Div(uk_dropdown='mode: click; pos: bottom-right', cls='uk-dropdown uk-drop')(avatar_opts)))"
   ]
  },
  {
   "cell_type": "code",
   "execution_count": 74,
   "metadata": {},
   "outputs": [
    {
     "data": {
      "text/html": [
       "<div class=\"uk-flex uk-flex-between uk-flex-middle space-y-2\">\n",
       "  <div class=\"space-y-2\">\n",
       "    <h2 class=\"uk-h2 \">Welcome back!</h2>\n",
       "    <p class=\"uk-text-muted uk-text-small\">Here&#x27;s a list of your tasks for this month!</p>\n",
       "  </div>\n",
       "  <div>\n",
       "<a href=\"#\" class=\"h-8 w-8 inline-flex rounded-full bg-accent ring-ring\"><img src=\"https://api.dicebear.com/8.x/lorelei/svg?seed=sveltecult\"></a>    <div uk-dropdown=\"mode: click; pos: bottom-right\" class=\"uk-dropdown uk-drop\">\n",
       "      <ul class=\"uk-dropdown-nav uk-nav\">\n",
       "        <li class=\"px-2 py-1.5 text-sm\">\n",
       "          <div class=\"flex flex-col space-y-1\">\n",
       "            <p class=\"text-sm font-medium leading-none\">sveltecult</p>\n",
       "            <p class=\"text-xs leading-none text-muted-foreground\">leader@sveltecult.com</p>\n",
       "          </div>\n",
       "        </li>\n",
       "        <li class=\"uk-nav-divider\"></li>\n",
       "        <li>\n",
       "<a href=\"#\" class=\"uk-drop-close justify-between\">Profile<span class=\"ml-auto text-xs tracking-widest opacity-60\">⇧⌘P</span></a>        </li>\n",
       "        <li>\n",
       "<a href=\"#\" class=\"uk-drop-close justify-between\">Billing<span class=\"ml-auto text-xs tracking-widest opacity-60\">⌘B</span></a>        </li>\n",
       "        <li>\n",
       "<a href=\"#\" class=\"uk-drop-close justify-between\">Settings<span class=\"ml-auto text-xs tracking-widest opacity-60\">⌘S</span></a>        </li>\n",
       "        <li>\n",
       "<a href=\"#\" class=\"uk-drop-close justify-between\">New Team<span class=\"ml-auto text-xs tracking-widest opacity-60\"></span></a>        </li>\n",
       "        <li class=\"uk-nav-divider\"></li>\n",
       "        <li>\n",
       "<a href=\"#\" class=\"uk-drop-close justify-between\">Logout<span class=\"ml-auto text-xs tracking-widest opacity-60\"></span></a>        </li>\n",
       "      </ul>\n",
       "    </div>\n",
       "  </div>\n",
       "</div>\n"
      ],
      "text/plain": [
       "<IPython.core.display.HTML object>"
      ]
     },
     "execution_count": 74,
     "metadata": {},
     "output_type": "execute_result"
    }
   ],
   "source": [
    "show(page_heading)"
   ]
  },
  {
   "cell_type": "code",
   "execution_count": 26,
   "metadata": {},
   "outputs": [],
   "source": [
    "#| export\n",
    "table_controls =(Input(cls='w-[250px]',placeholder='Filter task'),\n",
    "     UkDropdownButton(\n",
    "         [A(FullySpacedDiv(P(a['status']), P(a['count'])),cls=TextT.capitalize) for a in status_dd],\n",
    "         label = \"Status\", \n",
    "         btn_cls=(TextFont.bold_sm, ButtonT.default)),     \n",
    "     UkDropdownButton(\n",
    "         [A(FullySpacedDiv(LAlignedIconTxt(a['priority'], icon=\"check\"), a['count']),cls=TextT.capitalize) for a in priority_dd],                         \n",
    "         label = \"Priority\", \n",
    "         btn_cls=(TextFont.bold_sm,ButtonT.default)),\n",
    "      UkDropdownButton([A(LAlignedIconTxt(o, icon=\"check\")) for o in ['Title','Status','Priority']],\n",
    "            label='View',\n",
    "            opt_hdrs=[\"Toggle Columns\"],\n",
    "            btn_cls=(TextFont.bold_sm,ButtonT.default)),\n",
    "            Button('Create Task',cls=(ButtonT.primary, TextFont.bold_sm), uk_toggle=\"target: #TaskForm\"))"
   ]
  },
  {
   "cell_type": "code",
   "execution_count": 27,
   "metadata": {},
   "outputs": [
    {
     "data": {
      "text/markdown": [
       "```html\n",
       "<button type=\"button\" uk-toggle=\"target: #TaskForm\" class=\"uk-button uk-button-primary uk-text-bold uk-text-small\">Create Task</button>\n",
       "```"
      ],
      "text/plain": [
       "button(('Create Task',),{'type': 'button', 'uk-toggle': 'target: #TaskForm', 'class': 'uk-button uk-button-primary uk-text-bold uk-text-small'})"
      ]
     },
     "execution_count": 27,
     "metadata": {},
     "output_type": "execute_result"
    }
   ],
   "source": [
    "Button('Create Task',cls=(ButtonT.primary, TextFont.bold_sm), uk_toggle=\"target: #TaskForm\")"
   ]
  },
  {
   "cell_type": "markdown",
   "metadata": {},
   "source": [
    "## Route Data"
   ]
  },
  {
   "cell_type": "code",
   "execution_count": 11,
   "metadata": {},
   "outputs": [],
   "source": [
    "#| export\n",
    "def task_dropdown():\n",
    "    # TODO: Figure out uk-drop-close boilerplate fix\n",
    "    return UkDropdownButton([\n",
    "            A('Edit',                   cls='uk-drop-close'),\n",
    "            A('Make a copy',            cls='uk-drop-close'),\n",
    "            A('Favorite',               cls='uk-drop-close')],\n",
    "            [A(SpacedPP('Delete', '⌘⌫'), cls='uk-drop-close')])"
   ]
  },
  {
   "cell_type": "code",
   "execution_count": 12,
   "metadata": {
    "scrolled": true
   },
   "outputs": [],
   "source": [
    "#| export\n",
    "def header_render(col):\n",
    "    cls = 'p-2 ' + 'uk-table-shrink' if col in ('Done','Actions') else ''\n",
    "    match col:\n",
    "        case \"Done\":    return Th(CheckboxX(), cls=cls)\n",
    "        case 'Actions': return Th(\"\",       cls=cls)\n",
    "        case _:         return Th(col, cls=cls)"
   ]
  },
  {
   "cell_type": "code",
   "execution_count": 82,
   "metadata": {},
   "outputs": [],
   "source": [
    "#| export\n",
    "def cell_render(col, row):\n",
    "    def _Td(*args,cls='', **kwargs): return Td(*args, cls=f'p-2 {cls}',**kwargs)\n",
    "    match col:\n",
    "        case \"Done\":  return _Td(shrink=True)(CheckboxX(selected=row['selected']))\n",
    "        case \"Task\":  return _Td(row[\"id\"])\n",
    "        case \"Title\": return _Td(cls='max-w-[500px] truncate', expand=True)(row[\"title\"], cls='font-medium')\n",
    "        case \"Status\" | \"Priority\": return _Td(cls='uk-text-nowrap uk-text-capitalize')(Span(row[col.lower()]))\n",
    "        case \"Actions\": return _Td(cls='uk-table-shrink')(task_dropdown())\n",
    "        case _: raise ValueError(f\"Unknown column: {col}\")"
   ]
  },
  {
   "cell_type": "code",
   "execution_count": 48,
   "metadata": {
    "scrolled": false
   },
   "outputs": [],
   "source": [
    "#| export\n",
    "task_columns = [\"Done\", 'Task', 'Title', 'Status', 'Priority', 'Actions']\n",
    "\n",
    "tasks_table = Div(cls='uk-overflow-auto mt-4 rounded-md border border-border')(TableFromDicts(\n",
    "    header_data=task_columns,\n",
    "    body_data=data,\n",
    "    body_cell_render=cell_render,\n",
    "    header_cell_render=header_render))\n",
    "# show(tasks_table)"
   ]
  },
  {
   "cell_type": "code",
   "execution_count": null,
   "metadata": {},
   "outputs": [],
   "source": []
  },
  {
   "cell_type": "code",
   "execution_count": 49,
   "metadata": {},
   "outputs": [],
   "source": [
    "#| export\n",
    "\n",
    "def footer():\n",
    "    hw_cls = 'h-4 w-4'\n",
    "    return SpaceBetweenDiv(cls='mt-4 px-2 py-2')(\n",
    "        Div('1 of 100 row(s) selected.', cls='flex-1 text-sm text-muted-foreground'),\n",
    "        Div(cls='flex flex-none items-center space-x-8')(\n",
    "            CenteredDiv('Page 1 of 10', cls='w-[100px] text-sm font-medium'),\n",
    "            LAlignedDiv(\n",
    "                UkIconButton(cls='hidden lg:inline-flex')(Span('Go to last page', cls='sr-only'),\n",
    "                    Span(uk_icon='chevron-double-left', cls=hw_cls)),\n",
    "                UkIconButton(Span('Go to previous page', cls='sr-only'),\n",
    "                    Span(uk_icon='chevron-left', cls=hw_cls)),\n",
    "                UkIconButton(Span('Go to next page', cls='sr-only'),\n",
    "                    Span(uk_icon='chevron-right', cls=hw_cls)),\n",
    "                UkIconButton(cls='hidden lg:inline-flex')(\n",
    "                    Span('Go to last page', cls='sr-only'),\n",
    "                    Span(uk_icon='chevron-double-right', cls=hw_cls)),\n",
    "            gap=2)))"
   ]
  },
  {
   "cell_type": "code",
   "execution_count": 50,
   "metadata": {},
   "outputs": [],
   "source": [
    "#| export\n",
    "tasks_ui = Div(\n",
    "    SpaceBetweenDiv(cls='mt-8')(\n",
    "        Div(cls='flex flex-1 gap-4')(table_controls)),\n",
    "    tasks_table,\n",
    "    footer(),)"
   ]
  },
  {
   "cell_type": "code",
   "execution_count": null,
   "metadata": {},
   "outputs": [],
   "source": [
    "#| export\n",
    "tasks_homepage = CreateTaskModal(), Div(cls='p-8')(page_heading, tasks_ui)"
   ]
  },
  {
   "cell_type": "code",
   "execution_count": null,
   "metadata": {},
   "outputs": [],
   "source": [
    "#| hide\n",
    "import nbdev; nbdev.nbdev_export()"
   ]
  },
  {
   "cell_type": "code",
   "execution_count": null,
   "metadata": {},
   "outputs": [],
   "source": []
  }
 ],
 "metadata": {
  "kernelspec": {
   "display_name": "Python 3 (ipykernel)",
   "language": "python",
   "name": "python3"
  },
  "language_info": {
   "codemirror_mode": {
    "name": "ipython",
    "version": 3
   },
   "file_extension": ".py",
   "mimetype": "text/x-python",
   "name": "python",
   "nbconvert_exporter": "python",
   "pygments_lexer": "ipython3",
   "version": "3.12.4"
  },
  "toc": {
   "base_numbering": 1,
   "nav_menu": {},
   "number_sections": true,
   "sideBar": true,
   "skip_h1_title": false,
   "title_cell": "Table of Contents",
   "title_sidebar": "Contents",
   "toc_cell": false,
   "toc_position": {},
   "toc_section_display": true,
   "toc_window_display": false
  }
 },
 "nbformat": 4,
 "nbformat_minor": 4
}
