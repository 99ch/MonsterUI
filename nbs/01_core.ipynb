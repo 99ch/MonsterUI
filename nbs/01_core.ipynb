{
 "cells": [
  {
   "cell_type": "markdown",
   "metadata": {},
   "source": [
    "# Core"
   ]
  },
  {
   "cell_type": "code",
   "execution_count": null,
   "metadata": {},
   "outputs": [],
   "source": [
    "#| default_exp core"
   ]
  },
  {
   "cell_type": "code",
   "execution_count": 104,
   "metadata": {},
   "outputs": [],
   "source": [
    "#| hide\n",
    "#| export\n",
    "from fh_frankenui.foundations import *\n",
    "from fasthtml.common import *\n",
    "from enum import Enum"
   ]
  },
  {
   "cell_type": "code",
   "execution_count": 105,
   "metadata": {},
   "outputs": [],
   "source": []
  },
  {
   "cell_type": "code",
   "execution_count": 105,
   "metadata": {},
   "outputs": [],
   "source": [
    "#| export\n",
    "class Theme(Enum):\n",
    "    slate = \"slate\"\n",
    "    stone = \"stone\"\n",
    "    gray = \"gray\"\n",
    "    neutral = \"neutral\"\n",
    "    red = \"red\"\n",
    "    rose = \"rose\"\n",
    "    orange = \"orange\"\n",
    "    green = \"green\"\n",
    "    blue = \"blue\"\n",
    "    yellow = \"yellow\"\n",
    "    violet = \"violet\"\n",
    "    zinc = \"zinc\"\n",
    "\n",
    "    def headers(self):\n",
    "        js = (Script(src=\"https://cdn.jsdelivr.net/npm/uikit@3.21.6/dist/js/uikit.min.js\"),\n",
    "              Script(src=\"https://cdn.jsdelivr.net/npm/uikit@3.21.6/dist/js/uikit-icons.min.js\"))\n",
    "        _url = \"https://unpkg.com/franken-wc@0.0.6/dist/css/{theme}.min.css\"\n",
    "        return (*js, Link(rel=\"stylesheet\", href=_url.format(theme=self.value)))\n"
   ]
  },
  {
   "cell_type": "code",
   "execution_count": 106,
   "metadata": {},
   "outputs": [],
   "source": [
    "#|export\n",
    "def Card(*c, header=None, footer=None, **kwargs):\n",
    "    res = []\n",
    "    if header: res += [Div(cls='uk-card-header')(header),]\n",
    "    res += [Div(cls='uk-card-body')(*c),]\n",
    "    if footer: res += [Div(cls='uk-card-footer')(footer),]\n",
    "    return Div(cls='uk-card', **kwargs)(*res)"
   ]
  },
  {
   "cell_type": "code",
   "execution_count": 107,
   "metadata": {},
   "outputs": [
    {
     "data": {
      "text/markdown": [
       "```html\n",
       "<div class=\"\">\n",
       "  <label class=\"uk-form-label\" fr=\"name\">Name</label>\n",
       "  <input class=\"uk-input\" id=\"name\">\n",
       "</div>\n",
       "\n",
       "```"
      ],
      "text/plain": [
       "['div',\n",
       " (['label', ('Name',), {'class': 'uk-form-label', 'fr': 'name'}],\n",
       "  ['input', (), {'class': 'uk-input', 'id': 'name'}]),\n",
       " {'class': ''}]"
      ]
     },
     "execution_count": null,
     "metadata": {},
     "output_type": "execute_result"
    }
   ],
   "source": [
    "#| export\n",
    "def UkInput(label=(), cls=(), id=\"\", **kwargs):\n",
    "    if label: \n",
    "        label = Label(label, cls='uk-form-label')\n",
    "        if id: label.fr = id\n",
    "    res = Input(cls=f'uk-input', **kwargs)\n",
    "    if id: res.id = id\n",
    "    return Div(cls=cls)(label, res)\n",
    "\n",
    "\n",
    "UkInput(label=\"Name\", id=\"name\")"
   ]
  },
  {
   "cell_type": "code",
   "execution_count": 83,
   "metadata": {},
   "outputs": [
    {
     "data": {
      "text/markdown": [
       "```html\n",
       "<button class=\"uk-button \">name</button>\n",
       "\n",
       "```"
      ],
      "text/plain": [
       "['button', ('name',), {'class': 'uk-button '}]"
      ]
     },
     "execution_count": null,
     "metadata": {},
     "output_type": "execute_result"
    }
   ],
   "source": [
    "#| export\n",
    "def UkButton(*c, typ=\"\", **kwargs):\n",
    "    if typ: typ = f'uk-button-{typ}'\n",
    "    return Button(cls=f'uk-button {typ}', **kwargs)(*c)\n",
    "\n",
    "UkButton(\"name\")"
   ]
  }
 ],
 "metadata": {
  "kernelspec": {
   "display_name": "python3",
   "language": "python",
   "name": "python3"
  },
  "language_info": {
   "name": "python"
  }
 },
 "nbformat": 4,
 "nbformat_minor": 4
}
