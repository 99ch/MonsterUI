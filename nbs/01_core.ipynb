{
 "cells": [
  {
   "cell_type": "markdown",
   "metadata": {},
   "source": [
    "## Core\n",
    "\n",
    "> The building blocks to the UI"
   ]
  },
  {
   "cell_type": "code",
   "execution_count": null,
   "metadata": {},
   "outputs": [],
   "source": [
    "#| default_exp core"
   ]
  },
  {
   "cell_type": "markdown",
   "metadata": {},
   "source": [
    "## Imports"
   ]
  },
  {
   "cell_type": "markdown",
   "metadata": {},
   "source": [
    "\n"
   ]
  },
  {
   "cell_type": "code",
   "execution_count": null,
   "metadata": {},
   "outputs": [],
   "source": [
    "#| hide\n",
    "#| export\n",
    "import fasthtml.common as fh\n",
    "from monsterui.foundations import *\n",
    "from fasthtml.common import is_listy, Div, P, Span, Script, FastHTML, FT, to_xml, show,fast_app\n",
    "from fasthtml.svg import Svg\n",
    "from fasthtml.components import Uk_theme_switcher, Main\n",
    "from enum import Enum, auto\n",
    "from fasthtml.components import Uk_select,Uk_input_tag,Uk_icon\n",
    "from functools import partial\n",
    "from itertools import zip_longest\n",
    "from typing import Union, Tuple, Optional\n",
    "from fastcore.all import *\n",
    "import copy, re, httpx\n",
    "from pathlib import Path"
   ]
  },
  {
   "cell_type": "code",
   "execution_count": null,
   "metadata": {},
   "outputs": [],
   "source": [
    "from IPython.display import HTML, display, Markdown\n",
    "from fasthtml.jupyter import *\n",
    "from functools import partial"
   ]
  },
  {
   "cell_type": "code",
   "execution_count": null,
   "metadata": {},
   "outputs": [],
   "source": [
    "from nbdev.showdoc import *"
   ]
  },
  {
   "cell_type": "markdown",
   "metadata": {},
   "source": [
    "## App"
   ]
  },
  {
   "cell_type": "code",
   "execution_count": null,
   "metadata": {},
   "outputs": [],
   "source": [
    "#| export\n",
    "@delegates(fh.fast_app, but=['pico'])\n",
    "def fast_app(*args, pico=False, **kwargs):\n",
    "    \"Create a FastHTML or FastHTMLWithLiveReload app with `bg-background text-foreground` to bodykw for frankenui themes\"\n",
    "    if 'bodykw' not in kwargs: kwargs['bodykw'] = {}\n",
    "    if 'class' not in kwargs['bodykw']: kwargs['bodykw']['class'] = ''\n",
    "    kwargs['bodykw']['class'] = stringify((kwargs['bodykw']['class'],'bg-background text-foreground'))\n",
    "    return fh.fast_app(*args, pico=pico, **kwargs)"
   ]
  },
  {
   "cell_type": "code",
   "execution_count": null,
   "metadata": {},
   "outputs": [],
   "source": [
    "assert fast_app(bodykw={'something':'test'})[0].bodykw == {'something': 'test', 'class': ' bg-background text-foreground'}"
   ]
  },
  {
   "cell_type": "code",
   "execution_count": null,
   "metadata": {},
   "outputs": [],
   "source": [
    "#| export\n",
    "@delegates(fh.FastHTML, but=['pico'])\n",
    "def FastHTML(*args, pico=False, **kwargs):\n",
    "    \"Create a FastHTML app and adds `bg-background text-foreground` to bodykw for frankenui themes\"\n",
    "    if 'bodykw' not in kwargs: kwargs['bodykw'] = {}\n",
    "    if 'class' not in kwargs['bodykw']: kwargs['bodykw']['class'] = ''\n",
    "    kwargs['bodykw']['class'] = stringify((kwargs['bodykw']['class'],'bg-background text-foreground'))\n",
    "    bodykw = kwargs.pop('bodykw',{})\n",
    "    return fh.FastHTML(*args, pico=pico, **bodykw, **kwargs)"
   ]
  },
  {
   "cell_type": "code",
   "execution_count": null,
   "metadata": {},
   "outputs": [
    {
     "data": {
      "text/plain": [
       "{'pico': False, 'something': 'test', 'class': ' bg-background text-foreground'}"
      ]
     },
     "execution_count": null,
     "metadata": {},
     "output_type": "execute_result"
    }
   ],
   "source": [
    "FastHTML(bodykw={'something':'test'}).bodykw"
   ]
  },
  {
   "cell_type": "markdown",
   "metadata": {},
   "source": [
    "## Theme / Headers"
   ]
  },
  {
   "cell_type": "markdown",
   "metadata": {},
   "source": [
    "You can select a theme color to and get all the headers."
   ]
  },
  {
   "cell_type": "code",
   "execution_count": null,
   "metadata": {},
   "outputs": [],
   "source": [
    "#| export\n",
    "def _headers_theme(color, mode='auto'):\n",
    "    mode_script = {\n",
    "        'auto': '''\n",
    "            if (\n",
    "                localStorage.getItem(\"mode\") === \"dark\" ||\n",
    "                (!(\"mode\" in localStorage) &&\n",
    "                window.matchMedia(\"(prefers-color-scheme: dark)\").matches)\n",
    "            ) {\n",
    "                htmlElement.classList.add(\"dark\");\n",
    "            } else {\n",
    "                htmlElement.classList.remove(\"dark\");\n",
    "            }\n",
    "        ''',\n",
    "        'light': 'htmlElement.classList.remove(\"dark\");',\n",
    "        'dark': 'htmlElement.classList.add(\"dark\");'\n",
    "    }\n",
    "    \n",
    "    return fh.Script(f'''\n",
    "        const htmlElement = document.documentElement;\n",
    "        {mode_script[mode]}\n",
    "        htmlElement.classList.add(localStorage.getItem(\"theme\") || \"uk-theme-{color}\");\n",
    "    ''')"
   ]
  },
  {
   "cell_type": "code",
   "execution_count": null,
   "metadata": {},
   "outputs": [],
   "source": [
    "#| export\n",
    "HEADER_URLS = {\n",
    "        'franken_css': \"https://unpkg.com/franken-ui@1.1.0/dist/css/core.min.css\",\n",
    "        'franken_js': \"https://unpkg.com/franken-ui@1.1.0/dist/js/core.iife.js\",\n",
    "        'icon_js': \"https://cdn.jsdelivr.net/gh/answerdotai/monsterui@main/monsterui/icon.iife.js\",\n",
    "        'tailwind': \"https://cdn.tailwindcss.com\",\n",
    "        'daisyui': \"https://cdn.jsdelivr.net/npm/daisyui@4.12.22/dist/full.min.css\"}\n",
    "\n",
    "def _download_resource(url, static_dir):\n",
    "    \"Download a single resource and return its local path\"\n",
    "    static = Path(static_dir)\n",
    "    fname = static/f\"{url[0]}.{'js' if 'js' in url[1] else 'css'}\"\n",
    "    content = httpx.get(url[1], follow_redirects=True).content\n",
    "    fname.write_bytes(content)\n",
    "    return (url[0], f\"/{static_dir}/{fname.name}\")"
   ]
  },
  {
   "cell_type": "code",
   "execution_count": null,
   "metadata": {},
   "outputs": [],
   "source": [
    "#| export\n",
    "daisy_styles = Style(\"\"\"\n",
    ":root {\n",
    "  --p: from hsl(var(--primary)) l c h;\n",
    "  --pc: from hsl(var(--primary-foreground)) l c h;\n",
    "  --s: from hsl(var(--secondary)) l c h;\n",
    "  --sc: from hsl(var(--secondary-foreground)) l c h;\n",
    "  --b2: from hsl(var(--card-background)) l c h;\n",
    "  --b1: from hsl(var(--background)) l c h;\n",
    "  --bc: from hsl(var(--foreground)) l c h;\n",
    "  --b3: from hsl(var(--ring)) l c h;\n",
    "  --er: from hsl(var(--destructive)) l c h;\n",
    "  --erc: from hsl(var(--destructive-foreground)) l c h;\n",
    "}\n",
    "\"\"\")\n"
   ]
  },
  {
   "cell_type": "code",
   "execution_count": null,
   "metadata": {},
   "outputs": [],
   "source": [
    "#| export\n",
    "class Theme(Enum):\n",
    "    \"Selector to choose theme and get all headers needed for app.  Includes frankenui + tailwind\"\n",
    "    def _generate_next_value_(name, start, count, last_values): return name\n",
    "    slate = auto()\n",
    "    stone = auto()\n",
    "    gray = auto()\n",
    "    neutral = auto()\n",
    "    red = auto()\n",
    "    rose = auto()\n",
    "    orange = auto()\n",
    "    green = auto()\n",
    "    blue = auto()\n",
    "    yellow = auto()\n",
    "    violet = auto()\n",
    "    zinc = auto()\n",
    "\n",
    "\n",
    "    def _create_headers(self, urls, mode='auto', daisy=True):\n",
    "        \"Create header elements with given URLs\"\n",
    "        hdrs = [\n",
    "            fh.Link(rel=\"stylesheet\", href=urls['franken_css']),\n",
    "            fh.Script(type=\"module\", src=urls['franken_js']),\n",
    "            fh.Script(type=\"module\", src=urls['icon_js']),\n",
    "            fh.Script(src=urls['tailwind']),\n",
    "            _headers_theme(self.value, mode=mode)]\n",
    "        if daisy: \n",
    "            hdrs += [fh.Link(rel=\"stylesheet\", href=urls['daisyui']),daisy_styles]\n",
    "        return hdrs\n",
    "\n",
    "    def headers(self, mode='auto', daisy=True):\n",
    "        \"Create frankenui and tailwind cdns\"\n",
    "        return self._create_headers(HEADER_URLS, mode=mode, daisy=daisy)\n",
    "    \n",
    "    def local_headers(self, mode='auto', static_dir='static'):\n",
    "        \"Create headers using local files downloaded from CDNs\"\n",
    "        Path(static_dir).mkdir(exist_ok=True)\n",
    "        local_urls = dict([_download_resource(url, static_dir) for url in HEADER_URLS.items()])\n",
    "        return self._create_headers(local_urls, mode=mode,daisy=daisy)"
   ]
  },
  {
   "cell_type": "code",
   "execution_count": null,
   "metadata": {},
   "outputs": [],
   "source": [
    "hdrs = Theme.blue.headers()\n",
    "app = FastHTML(hdrs=hdrs)"
   ]
  },
  {
   "cell_type": "code",
   "execution_count": null,
   "metadata": {},
   "outputs": [],
   "source": [
    "app, rt = fast_app(hdrs=Theme.blue.headers())\n",
    "Show = partial(HTMX, app=app)"
   ]
  },
  {
   "cell_type": "markdown",
   "metadata": {},
   "source": [
    "## export -"
   ]
  },
  {
   "cell_type": "code",
   "execution_count": null,
   "metadata": {},
   "outputs": [],
   "source": [
    "#| hide\n",
    "import nbdev; nbdev.nbdev_export()"
   ]
  },
  {
   "cell_type": "code",
   "execution_count": null,
   "metadata": {},
   "outputs": [],
   "source": []
  }
 ],
 "metadata": {
  "kernelspec": {
   "display_name": "python3",
   "language": "python",
   "name": "python3"
  }
 },
 "nbformat": 4,
 "nbformat_minor": 4
}
