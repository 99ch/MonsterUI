{
 "cells": [
  {
   "cell_type": "markdown",
   "id": "5bfbea37",
   "metadata": {},
   "source": [
    "## Frankenui UI\n",
    "\n",
    "> Helpers and components for DaisyUI style stuff"
   ]
  },
  {
   "cell_type": "code",
   "execution_count": null,
   "id": "7e3b2231",
   "metadata": {},
   "outputs": [],
   "source": [
    "#| default_exp franken"
   ]
  },
  {
   "cell_type": "code",
   "execution_count": null,
   "id": "a9b7e605",
   "metadata": {},
   "outputs": [],
   "source": [
    "#| hide\n",
    "#| export\n",
    "import fasthtml.common as fh\n",
    "from monsterui.foundations import *\n",
    "from fasthtml.common import is_listy, Div, P, Span, Script, FastHTML, FT, to_xml, show,fast_app\n",
    "from fasthtml.svg import Svg\n",
    "from fasthtml.components import Uk_theme_switcher, Main\n",
    "from enum import Enum, auto\n",
    "from fasthtml.components import Uk_select,Uk_input_tag,Uk_icon\n",
    "from functools import partial\n",
    "from itertools import zip_longest\n",
    "from typing import Union, Tuple, Optional\n",
    "from fastcore.all import *\n",
    "import copy, re, httpx\n",
    "from pathlib import Path"
   ]
  },
  {
   "cell_type": "markdown",
   "id": "4d6b7aca",
   "metadata": {},
   "source": [
    "## Text Style"
   ]
  },
  {
   "cell_type": "code",
   "execution_count": null,
   "id": "854dc472",
   "metadata": {},
   "outputs": [],
   "source": [
    "#| export\n",
    "class TextT(VEnum):\n",
    "    'Text Styles from https://franken-ui.dev/docs/text'\n",
    "    def _generate_next_value_(name, start, count, last_values):\n",
    "        return str2ukcls('text', name)\n",
    "    \n",
    "    # Text Style\n",
    "    lead,meta, italic = auto(), auto(), auto()\n",
    "    # Text Size\n",
    "    small, default, large = auto(), 'uk-text', auto()\n",
    "    # Text Weight\n",
    "    light, normal, bold, lighter, bolder = auto(),auto(),auto(),auto(),auto()\n",
    "    # Text Transform\n",
    "    capitalize,uppercase, lowercase = auto(),auto(),auto()\n",
    "    # Text Decoration\n",
    "    decoration_none = auto()\n",
    "    # Text Color\n",
    "    muted,primary,secondary, success,warning, danger = auto(),auto(),auto(),auto(),auto(),auto()\n",
    "    # Text Alignment\n",
    "    left, right,center,justify = auto(), auto(), auto(), auto()\n",
    "    # Vertical Alignment\n",
    "    top,middle,bottom, baseline = auto(),auto(),auto(),auto()\n",
    "    \n",
    "    # Text Wrapping\n",
    "    truncate,break_,nowrap = auto(),auto(),auto()"
   ]
  },
  {
   "cell_type": "code",
   "execution_count": null,
   "id": "f325efea",
   "metadata": {},
   "outputs": [],
   "source": [
    "# print(enum_to_markdown_table(TextT))"
   ]
  },
  {
   "cell_type": "code",
   "execution_count": null,
   "id": "68a88f3c",
   "metadata": {},
   "outputs": [],
   "source": [
    "#| export\n",
    "class TextFont(Enum):\n",
    "    \"Combinations of TextT that are particularly useful\"\n",
    "    def __add__(self, other):   return stringify((self, other))\n",
    "    def __radd__(self, other):  return stringify((other, self)) \n",
    "    def __str__(self): return self.value\n",
    "    muted_sm = stringify((TextT.muted, TextT.small))\n",
    "    muted_lg = stringify((TextT.muted, TextT.large))\n",
    "    bold_sm = stringify((TextT.bold, TextT.small))"
   ]
  },
  {
   "cell_type": "code",
   "execution_count": null,
   "id": "ff8e03e2",
   "metadata": {},
   "outputs": [],
   "source": [
    "#| export\n",
    "def PParagraph(*args, cls='', **kwargs): \n",
    "    \"P Tag with uk-paragraph style applied\"\n",
    "    return fh.P(*args, cls=('uk-paragraph',stringify(cls)), **kwargs)\n",
    "def PLarge(*args, cls='', **kwargs):\n",
    "    \"P Tag with uk-text-large style applied\"\n",
    "    return fh.P(*args, cls=('uk-text-large', stringify(cls)), **kwargs)\n",
    "def PLead(*args, cls='', **kwargs):\n",
    "    \"P Tag with uk-text-lead style applied\"\n",
    "    return fh.P(*args, cls=('uk-text-lead',  stringify(cls)), **kwargs)\n",
    "def PSmall(*args, cls='', **kwargs):\n",
    "    \"P Tag with uk-text-small style applied\"\n",
    "    return fh.P(*args, cls=('uk-text-small', stringify(cls)), **kwargs)\n",
    "def PMuted(*args, cls='', **kwargs):\n",
    "    \"P Tag with uk-text-muted style applied\"\n",
    "    return fh.P(*args, cls=('uk-text-muted', stringify(cls)), **kwargs)"
   ]
  },
  {
   "cell_type": "code",
   "execution_count": null,
   "id": "67c88a05",
   "metadata": {},
   "outputs": [],
   "source": [
    "#| export\n",
    "def CodeSpan(*args, **kwargs):\n",
    "    \"A CodeSpan with Styling\"\n",
    "    return fh.Code(*args, cls=('uk-codespan\"'), **kwargs)"
   ]
  },
  {
   "cell_type": "code",
   "execution_count": null,
   "id": "1bbb288e",
   "metadata": {},
   "outputs": [],
   "source": [
    "#| export\n",
    "def Blockquote(*c:FT|str, cls:Enum|str|tuple=(), **kwargs)->FT:\n",
    "    \"A Blockquote with Styling\"\n",
    "    return fh.Blockquote(*c, cls=('uk-blockquote',stringify(cls)), **kwargs)"
   ]
  },
  {
   "cell_type": "code",
   "execution_count": null,
   "id": "e0c2ec91",
   "metadata": {},
   "outputs": [],
   "source": [
    "#| export\n",
    "def H1(*c:FT|str, cls:Enum|str|tuple=(), **kwargs)->FT: \n",
    "    \"A H1 with Styling\"\n",
    "    return fh.H1(*c, cls=('uk-h1',stringify(cls)), **kwargs)"
   ]
  },
  {
   "cell_type": "code",
   "execution_count": null,
   "id": "4c29aff7",
   "metadata": {},
   "outputs": [],
   "source": [
    "#| export\n",
    "def H2(*c:FT|str, cls:Enum|str|tuple=(), **kwargs)->FT: \n",
    "    \"A H2 with Styling\"\n",
    "    return fh.H2(*c, cls=('uk-h2',stringify(cls)), **kwargs)"
   ]
  },
  {
   "cell_type": "code",
   "execution_count": null,
   "id": "da456b99",
   "metadata": {},
   "outputs": [],
   "source": [
    "#| export\n",
    "def H3(*c:FT|str, cls:Enum|str|tuple=(), **kwargs)->FT: \n",
    "    \"A H3 with Styling\"\n",
    "    return fh.H3(*c, cls=('uk-h3',stringify(cls)), **kwargs)"
   ]
  },
  {
   "cell_type": "code",
   "execution_count": null,
   "id": "5bd78f89",
   "metadata": {},
   "outputs": [],
   "source": [
    "#| export\n",
    "def H4(*c:FT|str, cls:Enum|str|tuple=(), **kwargs)->FT:\n",
    "    \"A H4 with Styling\"\n",
    "    return fh.H4(*c, cls=('uk-h4',stringify(cls)), **kwargs)"
   ]
  },
  {
   "cell_type": "markdown",
   "id": "d818104f",
   "metadata": {},
   "source": [
    "## Button"
   ]
  },
  {
   "cell_type": "code",
   "execution_count": null,
   "id": "3f914a2c",
   "metadata": {},
   "outputs": [],
   "source": [
    "#| export\n",
    "class ButtonT(VEnum):\n",
    "    \"Options for styling Buttons\"\n",
    "    def _generate_next_value_(name, start, count, last_values): return str2ukcls('button', name)\n",
    "    default = auto()\n",
    "    primary = auto()\n",
    "    secondary = auto()\n",
    "    danger = auto()\n",
    "    text = auto()\n",
    "    link = auto()\n",
    "    ghost = auto()"
   ]
  },
  {
   "cell_type": "code",
   "execution_count": null,
   "id": "680b16c1",
   "metadata": {},
   "outputs": [],
   "source": [
    "#| export\n",
    "def Button(*c: Union[str, FT],\n",
    "           cls: Union[str, Enum]=ButtonT.default,\n",
    "           submit=True,\n",
    "           **kwargs\n",
    "          ) -> FT:\n",
    "    \"A Button with Styling (defaults to `submit` for form submission)\"\n",
    "    if 'type' not in kwargs:\n",
    "        kwargs['type'] = 'submit' if submit else 'button'\n",
    "    return fh.Button(*c, cls=('uk-button', stringify(cls)), **kwargs)"
   ]
  },
  {
   "cell_type": "markdown",
   "id": "021bab4c",
   "metadata": {},
   "source": [
    "## Headings"
   ]
  },
  {
   "cell_type": "code",
   "execution_count": null,
   "id": "29968ad4",
   "metadata": {},
   "outputs": [],
   "source": [
    "#| export\n",
    "def Main(*args, **kwargs): return fh.Main(*args, **kwargs)"
   ]
  },
  {
   "cell_type": "code",
   "execution_count": null,
   "id": "b28c2acd",
   "metadata": {},
   "outputs": [],
   "source": [
    "#| export\n",
    "class ContainerT(VEnum):\n",
    "    'Max width container sizes from https://franken-ui.dev/docs/container'\n",
    "    def _generate_next_value_(name, start, count, last_values): return str2ukcls('container', name)\n",
    "    xsmall = auto()\n",
    "    small = auto()\n",
    "    large = auto()\n",
    "    xlarge = auto()\n",
    "    expand = auto()"
   ]
  },
  {
   "cell_type": "code",
   "execution_count": null,
   "id": "4356199a",
   "metadata": {},
   "outputs": [],
   "source": [
    "#| export\n",
    "def Container(*c, cls=('mt-5', ContainerT.xlarge), **kwargs): \n",
    "    \"A Div to be used as a container that often wraps large sections or a page of content\"\n",
    "    return Div(*c, cls=('uk-container',stringify(cls)), **kwargs)"
   ]
  },
  {
   "cell_type": "code",
   "execution_count": null,
   "id": "cf4d85dc",
   "metadata": {},
   "outputs": [],
   "source": [
    "#| export\n",
    "def Titled(title:str=\"FastHTML app\", *args, cls='uk-container-xlarge', **kwargs)->FT:\n",
    "    \"Creates a standard page structure for titled page.  Main(Container(title, content))\"\n",
    "    return fh.Title(title), fh.Main(Container(H1(title), *args, cls=cls, **kwargs))"
   ]
  },
  {
   "cell_type": "markdown",
   "id": "be7cf579",
   "metadata": {},
   "source": [
    "## Dividers"
   ]
  },
  {
   "cell_type": "code",
   "execution_count": null,
   "id": "0a2e515f",
   "metadata": {},
   "outputs": [],
   "source": [
    "#| export\n",
    "class DividerT(VEnum):\n",
    "    \" Divider Styles from https://franken-ui.dev/docs/divider\"\n",
    "    def _generate_next_value_(name, start, count, last_values): return str2ukcls('divider', name)\n",
    "    icon=auto()\n",
    "    small=auto()\n",
    "    vertical=auto()"
   ]
  },
  {
   "cell_type": "code",
   "execution_count": null,
   "id": "fa142350",
   "metadata": {},
   "outputs": [],
   "source": [
    "#| export\n",
    "def Divider(*args, cls=('my-4', DividerT.icon), **kwargs):\n",
    "    \"Divider with default styling and margin\"\n",
    "    cls = stringify(cls)\n",
    "    container = Div if 'uk-divider-vertical' in cls else Hr\n",
    "    return container(*args, cls=cls, **kwargs)"
   ]
  },
  {
   "cell_type": "code",
   "execution_count": null,
   "id": "1549197f",
   "metadata": {},
   "outputs": [],
   "source": [
    "#| export\n",
    "def DividerSplit(*c, cls=(), line_cls=(), text_cls=()):\n",
    "    \"Creates a simple horizontal line divider with configurable thickness and vertical spacing\"\n",
    "    cls, line_cls, text_cls = map(stringify,(cls, line_cls, text_cls))\n",
    "    return Div(cls='relative ' + cls)(\n",
    "        Div(cls=\"absolute inset-0 flex items-center \" + line_cls)(Span(cls=\"w-full border-t border-border\")),\n",
    "        Div(cls=\"relative flex justify-center \" + text_cls)(Span(cls=\"bg-background px-2 \")(*c)))"
   ]
  },
  {
   "cell_type": "code",
   "execution_count": null,
   "id": "753a1497",
   "metadata": {},
   "outputs": [],
   "source": [
    "#| export\n",
    "def DividerLine(lwidth=2, y_space=4): return Hr(cls=f\"my-{y_space} h-[{lwidth}px] w-full bg-secondary\")"
   ]
  },
  {
   "cell_type": "markdown",
   "id": "ca9d872c",
   "metadata": {},
   "source": [
    "## Articles & Containers & Sections"
   ]
  },
  {
   "cell_type": "code",
   "execution_count": null,
   "id": "b7c048a8",
   "metadata": {},
   "outputs": [],
   "source": [
    "#| export\n",
    "# def Alert(*args, cls=(), **kwargs): \n",
    "#     \"A styled alert component that can contain a AlertTitle, AlertDescription and AlertCloseButton\"\n",
    "#     return Div(*args, cls=('uk-alert', stringify(cls)), uk_alert=True, **kwargs)\n",
    "\n",
    "# def AlertCloseButton(*args, cls=(), **kwargs): \n",
    "#     \"A button component for closing an Alert\"\n",
    "#     return A(*args, cls=('uk-alert-close', stringify(cls)), **kwargs)\n",
    "\n",
    "# def AlertTitle(*args, cls='', **kwargs): \n",
    "#     \"A title component for use within an Alert\"\n",
    "#     return Div(*args, cls=('uk-alert-title', stringify(cls)), **kwargs)\n",
    "\n",
    "# def AlertDescription(*args, cls='', **kwargs): \n",
    "#     \"A description component for use within an Alert\"\n",
    "#     return Div(*args, cls=('uk-alert-description', stringify(cls)), **kwargs)"
   ]
  },
  {
   "cell_type": "code",
   "execution_count": null,
   "id": "2c9a2956",
   "metadata": {},
   "outputs": [],
   "source": [
    "#| export\n",
    "def Article(*c, cls=(), **kwargs):\n",
    "    \"A styled article container for blog posts or similar content\"\n",
    "    return fh.Article(*c, cls=('uk-article',stringify(cls)), **kwargs)\n",
    "\n",
    "def ArticleTitle(*c, cls=(), **kwargs):\n",
    "    \"A title component for use within an Article\"\n",
    "    return H1(*c, cls=('uk-article-title',stringify(cls)), **kwargs)\n",
    "\n",
    "def ArticleMeta(*c, cls=(), **kwargs):\n",
    "    \"A metadata component for use within an Article showing things like date, author etc\"\n",
    "    return P(*c, cls=('uk-article-meta',stringify(cls)), **kwargs)"
   ]
  },
  {
   "cell_type": "code",
   "execution_count": null,
   "id": "b2b0abaa",
   "metadata": {},
   "outputs": [
    {
     "data": {
      "text/markdown": [
       "```html\n",
       "<article class=\"uk-article \">\n",
       "  <h1 class=\"uk-h1 uk-article-title \">Article Title</h1>\n",
       "  <p class=\"uk-article-meta \">By: John Doe</p>\n",
       "</article>\n",
       "\n",
       "```"
      ],
      "text/plain": [
       "article((h1(('Article Title',),{'class': 'uk-h1 uk-article-title '}), p(('By: John Doe',),{'class': 'uk-article-meta '})),{'class': 'uk-article '})"
      ]
     },
     "execution_count": null,
     "metadata": {},
     "output_type": "execute_result"
    }
   ],
   "source": [
    "Article(ArticleTitle(\"Article Title\"), ArticleMeta(\"By: John Doe\"))"
   ]
  },
  {
   "cell_type": "code",
   "execution_count": null,
   "id": "3a886534",
   "metadata": {},
   "outputs": [
    {
     "data": {
      "text/markdown": [
       "```html\n",
       "<div class=\"uk-container uk-container-xsmall\" style=\"background-color: #e6f2ff; padding: 20px; border-radius: 5px;\">This is a container with a custom background color.</div>\n",
       "\n",
       "```"
      ],
      "text/plain": [
       "div(('This is a container with a custom background color.',),{'class': 'uk-container uk-container-xsmall', 'style': 'background-color: #e6f2ff; padding: 20px; border-radius: 5px;'})"
      ]
     },
     "execution_count": null,
     "metadata": {},
     "output_type": "execute_result"
    }
   ],
   "source": [
    "Container(\n",
    "    \"This is a container with a custom background color.\",\n",
    "    cls=ContainerT.xsmall,\n",
    "    style=\"background-color: #e6f2ff; padding: 20px; border-radius: 5px;\"\n",
    ")"
   ]
  },
  {
   "cell_type": "code",
   "execution_count": null,
   "id": "22609bb2",
   "metadata": {},
   "outputs": [],
   "source": [
    "#| export\n",
    "class SectionT(VEnum):\n",
    "    'Section styles from https://franken-ui.dev/docs/section'\n",
    "    def _generate_next_value_(name, start, count, last_values): return str2ukcls('section', name)\n",
    "    default = auto()\n",
    "    muted = auto()\n",
    "    primary = auto()\n",
    "    secondary = auto()\n",
    "    xsmall = auto()\n",
    "    small = auto()\n",
    "    large = auto()\n",
    "    xlarge = auto()\n",
    "    remove_vertical = auto()"
   ]
  },
  {
   "cell_type": "code",
   "execution_count": null,
   "id": "cb0244e9",
   "metadata": {},
   "outputs": [],
   "source": [
    "# Markdown(enum_to_markdown_table(SectionT))"
   ]
  },
  {
   "cell_type": "code",
   "execution_count": null,
   "id": "18bb39ed",
   "metadata": {},
   "outputs": [],
   "source": [
    "#| export\n",
    "def Section(*c, cls=(), **kwargs):\n",
    "    return fh.Div(*c, cls=('uk-section',stringify(cls)), **kwargs)"
   ]
  },
  {
   "cell_type": "markdown",
   "id": "c70c8aab",
   "metadata": {},
   "source": [
    "## Forms & Inputs"
   ]
  },
  {
   "cell_type": "code",
   "execution_count": null,
   "id": "fd2fd2ad",
   "metadata": {},
   "outputs": [],
   "source": [
    "#| export\n",
    "def Form(*c, cls='space-y-3', **kwargs):\n",
    "    \"A Form with default spacing between form elements\"\n",
    "    return fh.Form(*c, cls=stringify(cls), **kwargs)"
   ]
  },
  {
   "cell_type": "code",
   "execution_count": null,
   "id": "23618919",
   "metadata": {},
   "outputs": [],
   "source": [
    "#|export\n",
    "def Fieldset(*c, cls=(), **kwargs): \n",
    "    \"A Fieldset with default styling\"\n",
    "    return fh.Fieldset(*c, cls=('uk-fieldset',stringify(cls)), **kwargs)\n",
    "\n",
    "def Legend(*c, cls=(), **kwargs): \n",
    "    \"A Legend with default styling\"\n",
    "    return fh.Legend(*c, cls=('uk-legend',stringify(cls)), **kwargs)"
   ]
  },
  {
   "cell_type": "code",
   "execution_count": null,
   "id": "ad1ad1ba",
   "metadata": {},
   "outputs": [],
   "source": [
    "#| export\n",
    "def Input(*c, cls=(), **kwargs):      \n",
    "    \"An Input with default styling\"\n",
    "    return fh.Input(*c, cls=('uk-input',stringify(cls)), **kwargs)\n",
    "def Select(*option, cls=(), **kwargs):\n",
    "    \"A Select with default styling\"\n",
    "    return fh.Select(*option, cls=('uk-select',stringify(cls)), **kwargs)\n",
    "def Radio(*c, cls=(), **kwargs):   \n",
    "    \"A Radio with default styling\"\n",
    "    return fh.Input(*c, cls=('uk-radio',stringify(cls)), type='radio', **kwargs)\n",
    "def CheckboxX(*c, cls=(), **kwargs): \n",
    "    \"A Checkbox with default styling\"\n",
    "    return fh.Input(*c, cls=('uk-checkbox',stringify(cls)), type='checkbox', **kwargs)\n",
    "def Range(*c, cls=(), **kwargs):      \n",
    "    \"A Range with default styling\"\n",
    "    return fh.Input(*c, cls=('uk-range',stringify(cls)), type='range', **kwargs)\n",
    "def TextArea(*c, cls=(), **kwargs):      \n",
    "    \"A Textarea with default styling\"\n",
    "    return fh.Textarea(*c, cls=('uk-textarea',stringify(cls)), **kwargs)\n",
    "def Switch(*c, cls=(), **kwargs): \n",
    "    \"A Switch with default styling\"\n",
    "    return fh.Input(*c, cls=('uk-toggle-switch uk-toggle-switch-primary min-w-9',stringify(cls)), type='checkbox', **kwargs)"
   ]
  },
  {
   "cell_type": "code",
   "execution_count": null,
   "id": "25914646",
   "metadata": {},
   "outputs": [],
   "source": [
    "#|export\n",
    "def FormLabel(*c, cls=(), **kwargs): \n",
    "    \"A Label with default styling\"\n",
    "    return fh.Label(*c, cls=('uk-form-label',stringify(cls)), **kwargs)"
   ]
  },
  {
   "cell_type": "code",
   "execution_count": null,
   "id": "698f63d6",
   "metadata": {},
   "outputs": [],
   "source": [
    "#| export\n",
    "class LabelT(VEnum):\n",
    "    def _generate_next_value_(name, start, count, last_values): return str2ukcls('label', name)\n",
    "    primary = auto()\n",
    "    secondary = auto()\n",
    "    danger = auto()"
   ]
  },
  {
   "cell_type": "code",
   "execution_count": null,
   "id": "eaa2043b",
   "metadata": {},
   "outputs": [],
   "source": [
    "#| export\n",
    "def Label(*c, cls=(), **kwargs):\n",
    "    \"FrankenUI labels, which look like pills\"\n",
    "    return fh.Label(*c, cls=('uk-label',stringify(cls)), **kwargs)"
   ]
  },
  {
   "cell_type": "code",
   "execution_count": null,
   "id": "04248315",
   "metadata": {},
   "outputs": [],
   "source": [
    "#| export\n",
    "def UkFormSection(title, description, *c, button_txt='Update', outer_margin=6, inner_margin=6):\n",
    "    \"A form section with a title, description and optional button\"\n",
    "    return Div(cls=f'space-y-{inner_margin} py-{outer_margin}')(\n",
    "        Div(H3(title), P(description, cls=TextFont.muted_sm)),\n",
    "        DividerSplit(), *c,\n",
    "        Div(Button(button_txt, cls=ButtonT.primary)) if button_txt else None)"
   ]
  },
  {
   "cell_type": "markdown",
   "id": "0e1c120a",
   "metadata": {},
   "source": [
    "## Labeled Inputs"
   ]
  },
  {
   "cell_type": "markdown",
   "id": "9a8f8c66",
   "metadata": {},
   "source": [
    "Inputs of various types often go with a label.  Because of this we created functions to do this for you along with properly linking the `for` attribute from the lable to the input.  We also have some nice defaults, such as putting a little spacing between the label and the input"
   ]
  },
  {
   "cell_type": "code",
   "execution_count": null,
   "id": "56e7ca16",
   "metadata": {},
   "outputs": [],
   "source": [
    "#| export\n",
    "def GenericLabelInput(\n",
    "               label:str|FT,\n",
    "               lbl_cls='',\n",
    "               input_cls='',\n",
    "               container=Div, \n",
    "               cls='',\n",
    "               id='',\n",
    "               input_fn=noop, \n",
    "                **kwargs\n",
    "                ):\n",
    "    \"`Div(Label,Input)` component with Uk styling injected appropriately. Generally you should higher level API, such as `UkTextArea` which is created for you in this library\"\n",
    "    if isinstance(label, str) or label.tag != 'label': \n",
    "        label = FormLabel(cls=stringify(lbl_cls), fr=id)(label)\n",
    "    inp = input_fn(id=id, cls=stringify(input_cls), **kwargs)        \n",
    "    if container: return container(label, inp, cls=stringify(cls))\n",
    "    return label, inp"
   ]
  },
  {
   "cell_type": "code",
   "execution_count": null,
   "id": "b878694f",
   "metadata": {},
   "outputs": [],
   "source": [
    "#| export\n",
    "@delegates(GenericLabelInput, but=['input_fn','cls'])\n",
    "def LabelInput(*args, cls='space-y-2', **kwargs): \n",
    "    \"A Label and Input pair that provides default spacing and links/names them based on id\"\n",
    "    return GenericLabelInput(*args, cls=stringify(cls),input_fn=Input, **kwargs)"
   ]
  },
  {
   "cell_type": "code",
   "execution_count": null,
   "id": "9fdc52d0",
   "metadata": {},
   "outputs": [],
   "source": [
    "#| export\n",
    "def LabelRadio(label:str|FT,\n",
    "               lbl_cls='',\n",
    "               input_cls='',\n",
    "               container=Div, \n",
    "               cls='flex items-center space-x-2',\n",
    "               id='',\n",
    "                **kwargs\n",
    "                ):\n",
    "    \"A Label and Radio pair that provides default spacing and links/names them based on id\"\n",
    "    if isinstance(label, str) or label.tag != 'label': \n",
    "        label = FormLabel(cls=stringify(lbl_cls), fr=id)(label)\n",
    "    inp = Radio(id=id, cls=stringify(input_cls), **kwargs)        \n",
    "    if container: return container(inp, label, cls=stringify(cls))\n",
    "    return inp, label"
   ]
  },
  {
   "cell_type": "code",
   "execution_count": null,
   "id": "914769f7",
   "metadata": {},
   "outputs": [],
   "source": [
    "#| export\n",
    "def LabelCheckboxX(label:str|FT,\n",
    "               lbl_cls='',\n",
    "               input_cls='',\n",
    "               container=Div, \n",
    "               cls='flex items-center space-x-2',\n",
    "                **kwargs\n",
    "                ):\n",
    "    \"`Div(Label,Input)` component with Uk styling injected appropriately. Generally you should higher level API, such as `UkTextArea` which is created for you in this library\"\n",
    "    \n",
    "    id = kwargs.pop('id', fh.unqid())\n",
    "    if isinstance(label, str) or label.tag != 'label': \n",
    "        label = FormLabel(cls=stringify(lbl_cls), fr=id)(label)\n",
    "    inp = CheckboxX(id=id, cls=stringify(input_cls), **kwargs)        \n",
    "    if container: return container(inp, label, cls=stringify(cls))\n",
    "    return inp, label"
   ]
  },
  {
   "cell_type": "code",
   "execution_count": null,
   "id": "4fb8ef69",
   "metadata": {},
   "outputs": [],
   "source": [
    "#| export\n",
    "# @delegates(GenericLabelInput, but=['input_fn','cls'])\n",
    "# def LabelCheckboxX(*args, cls='space-x-2', **kwargs): return GenericLabelInput(*args, cls=stringify(cls), input_fn=CheckboxX, **kwargs)"
   ]
  },
  {
   "cell_type": "code",
   "execution_count": null,
   "id": "3a1eb1d5",
   "metadata": {},
   "outputs": [],
   "source": [
    "#| export\n",
    "@delegates(GenericLabelInput, but=['input_fn','cls'])\n",
    "def LabelRange(*args, cls='space-y-2', **kwargs): \n",
    "    \"Creates a labeled range input with nice default spacing and links/names them based on id\"\n",
    "    return GenericLabelInput(*args, cls=stringify(cls), input_fn=Range, **kwargs)"
   ]
  },
  {
   "cell_type": "code",
   "execution_count": null,
   "id": "271dcb31",
   "metadata": {},
   "outputs": [],
   "source": [
    "#| export\n",
    "@delegates(GenericLabelInput, but=['input_fn','cls'])\n",
    "def LabelTextArea(*args, cls='space-y-2', value='', **kwargs): \n",
    "    \"Creates a labeled textarea with nice default spacing and links/names them based on id\"\n",
    "    def text_area_with_value(**kw): return TextArea(value, **kw)\n",
    "    return GenericLabelInput(*args, cls=stringify(cls), input_fn=text_area_with_value, **kwargs)"
   ]
  },
  {
   "cell_type": "code",
   "execution_count": null,
   "id": "0fce5f7f",
   "metadata": {},
   "outputs": [],
   "source": [
    "#| export\n",
    "@delegates(GenericLabelInput, but=['input_fn','cls'])\n",
    "def LabelSwitch(*args, cls='space-x-2', **kwargs): \n",
    "    \"Creates a labeled switch with nice default spacing and links/names them based on id\"\n",
    "    return GenericLabelInput(*args, cls=stringify(cls), input_fn=Switch, **kwargs)"
   ]
  },
  {
   "cell_type": "code",
   "execution_count": null,
   "id": "e409ce94",
   "metadata": {},
   "outputs": [],
   "source": [
    "#| export\n",
    "def LabelSelect(*option,\n",
    "               label:str|FT,\n",
    "               lbl_cls='',\n",
    "               input_cls='',\n",
    "               container=Div, \n",
    "               cls='space-y-2',\n",
    "               id='',\n",
    "                **kwargs\n",
    "                ):\n",
    "    \"Creates a Labeled Select - Generally you should use LabelUkSelect for a more full features and styled select\"\n",
    "    if isinstance(label, str) or label.tag != 'label': \n",
    "        label = FormLabel(lbl_cls=stringify(lbl_cls), fr=id)(label)\n",
    "    inp = Select(*option, id=id, cls=stringify(input_cls), **kwargs)        \n",
    "    if container: return container(label, inp, cls=stringify(cls))\n",
    "    return label, inp"
   ]
  },
  {
   "cell_type": "code",
   "execution_count": null,
   "id": "138d303a",
   "metadata": {},
   "outputs": [],
   "source": [
    "#| export\n",
    "def Options(*c,                    # Content for an `Option`\n",
    "            selected_idx:int=None, # Index location of selected `Option`\n",
    "            disabled_idxs:set=None # Idex locations of disabled `Options`\n",
    "           ):\n",
    "    \"Helper function to wrap things into `Option`s for use in `UkSelect`\"\n",
    "    return [fh.Option(o,selected=i==selected_idx, disabled=disabled_idxs and i in disabled_idxs) for i,o in enumerate(c)]"
   ]
  },
  {
   "cell_type": "code",
   "execution_count": null,
   "id": "72a23ceb",
   "metadata": {},
   "outputs": [],
   "source": [
    "#| export\n",
    "def UkSelect(*option,            # Options for the select dropdown (can use `Options` helper function to create)\n",
    "             inp_cls=(),         # Additional classes for the select input\n",
    "             cls=('space-y-2',), # Classes for the outer div\n",
    "             id=\"\",              # ID for the select input\n",
    "             name=\"\",            # Name attribute for the select input\n",
    "             placeholder=\"\",     # Placeholder text for the select input\n",
    "             searchable=False,   # Whether the select should be searchable\n",
    "             **kwargs):          # Additional arguments passed to Uk_select\n",
    "    \"Creates a select dropdown with uk styling and option for adding a search box\"\n",
    "    inp_cls, cls = map(stringify, (inp_cls, cls))\n",
    "    select = Uk_select(*option, cls=inp_cls, uk_cloak=True, id=id, \n",
    "                       name=name, placeholder=placeholder, searchable=searchable, **kwargs)\n",
    "    return Div(cls=cls)(select)"
   ]
  },
  {
   "cell_type": "code",
   "execution_count": null,
   "id": "06b13ca6",
   "metadata": {},
   "outputs": [],
   "source": [
    "#| export\n",
    "def LabelUkSelect(*option,            # Options for the select dropdown (can use `Options` helper function to create)\n",
    "             label=(),           # String or FT component for the label\n",
    "             lbl_cls=(),         # Additional classes for the label\n",
    "             inp_cls=(),         # Additional classes for the select input\n",
    "             cls=('space-y-2',), # Classes for the outer div\n",
    "             id=\"\",              # ID for the select input\n",
    "             name=\"\",            # Name attribute for the select input\n",
    "             placeholder=\"\",     # Placeholder text for the select input\n",
    "             searchable=False,   # Whether the select should be searchable\n",
    "             **kwargs):          # Additional arguments passed to Uk_select\n",
    "    \"Creates a select dropdown with uk styling and a label and provides option for adding a search box\"\n",
    "    lbl_cls, inp_cls, cls = map(stringify, (lbl_cls, inp_cls, cls))\n",
    "    if label: \n",
    "        lbl = FormLabel(cls=f'{lbl_cls}', fr=id)(label) \n",
    "    select = Uk_select(*option, cls=inp_cls, uk_cloak=True, id=id, \n",
    "                       name=name if name else id, placeholder=placeholder, searchable=searchable, **kwargs)\n",
    "    return Div(cls=cls)(lbl, select) if label else Div(cls=cls)(select)"
   ]
  },
  {
   "cell_type": "markdown",
   "id": "a51be92e",
   "metadata": {},
   "source": [
    "## Links"
   ]
  },
  {
   "cell_type": "code",
   "execution_count": null,
   "id": "2301e943",
   "metadata": {},
   "outputs": [],
   "source": [
    "#| export\n",
    "class AT(VEnum):\n",
    "    'Link styles from https://franken-ui.dev/docs/link'\n",
    "    def _generate_next_value_(name, start, count, last_values): return str2ukcls('link', name)\n",
    "    muted = auto()\n",
    "    text = auto()\n",
    "    reset = auto()"
   ]
  },
  {
   "cell_type": "markdown",
   "id": "214f2635",
   "metadata": {},
   "source": [
    "## Lists"
   ]
  },
  {
   "cell_type": "code",
   "execution_count": null,
   "id": "8a34f1f8",
   "metadata": {},
   "outputs": [],
   "source": [
    "#| export\n",
    "class ListT(VEnum):\n",
    "    'List styles from https://franken-ui.dev/docs/list'\n",
    "    def _generate_next_value_(name, start, count, last_values): return str2ukcls('list', name)\n",
    "    disc = auto()\n",
    "    circle = auto()\n",
    "    square = auto()\n",
    "    decimal = auto()\n",
    "    hyphen = auto()\n",
    "    muted = auto()\n",
    "    primary = auto()\n",
    "    secondary = auto()\n",
    "    bullet = auto()\n",
    "    divider = auto()\n",
    "    striped = auto()"
   ]
  },
  {
   "cell_type": "code",
   "execution_count": null,
   "id": "7b4b272a",
   "metadata": {},
   "outputs": [],
   "source": [
    "#| export\n",
    "def UkList(*c, cls=(), **kwargs): \n",
    "    \"Creates a list with styling\"\n",
    "    return fh.Ul(*c, cls=('uk-list',stringify(cls)), **kwargs)"
   ]
  },
  {
   "cell_type": "markdown",
   "id": "973d656e",
   "metadata": {},
   "source": [
    "## Modal"
   ]
  },
  {
   "cell_type": "code",
   "execution_count": null,
   "id": "86708593",
   "metadata": {},
   "outputs": [],
   "source": [
    "#| export\n",
    "def ModalContainer(*c, cls=(), **kwargs):   \n",
    "    \"Creates a modal container that components go in\"\n",
    "    return fh.Div(*c, cls=('uk-modal uk-modal-container',stringify(cls)), uk_modal=True, **kwargs)\n",
    "def ModalDialog(*c, cls=(), **kwargs):      \n",
    "    \"Creates a modal dialog\"\n",
    "    return fh.Div(*c, cls=('uk-modal-dialog',   stringify(cls)),                **kwargs)\n",
    "def ModalHeader(*c, cls=(), **kwargs):      \n",
    "    \"Creates a modal header\"\n",
    "    return fh.Div(*c, cls=('uk-modal-header',   stringify(cls)),                **kwargs)\n",
    "def ModalBody(*c, cls=(), **kwargs):        \n",
    "    \"Creates a modal body\"\n",
    "    return fh.Div(*c, cls=('uk-modal-body',     stringify(cls)),                **kwargs)\n",
    "def ModalFooter(*c, cls=(), **kwargs):      \n",
    "    \"Creates a modal footer\"\n",
    "    return fh.Div(*c, cls=('uk-modal-footer',   stringify(cls)),                **kwargs)\n",
    "def ModalTitle(*c, cls=(), **kwargs):       \n",
    "    \"Creates a modal title\"\n",
    "    return fh.H2(*c,  cls=('uk-modal-title',    stringify(cls)),                **kwargs)\n",
    "def ModalCloseButton(*c, cls=(), **kwargs): \n",
    "    \"Creates a button that closes a modal with js\"\n",
    "    return Button(*c, cls=('uk-modal-close',    stringify(cls)),                **kwargs)"
   ]
  },
  {
   "cell_type": "code",
   "execution_count": null,
   "id": "048fb346",
   "metadata": {},
   "outputs": [],
   "source": [
    "#| export\n",
    "def HTMXModalCloseButton(*c, cls=(), target=None, **kwargs):\n",
    "    \"Creates a button that closes a modal using HTMX\"\n",
    "    return Button(\n",
    "        *c, \n",
    "        cls=('uk-modal-close', stringify(cls)),\n",
    "        hx_target='closest .uk-modal', \n",
    "        hx_swap='delete',\n",
    "        type='button',\n",
    "        **kwargs\n",
    "    )"
   ]
  },
  {
   "cell_type": "code",
   "execution_count": null,
   "id": "962cb933",
   "metadata": {},
   "outputs": [],
   "source": [
    "#| export\n",
    "def Modal(*c,\n",
    "        header=None,          # Components that go in the header\n",
    "        footer=None,          # Components that go in the footer\n",
    "        cls=(),               # class for outermost container\n",
    "        dialog_cls=(),        # classes for the dialog\n",
    "        header_cls='p-6',     # classes for the header\n",
    "        body_cls='space-y-6', # classes for the body\n",
    "        footer_cls=(),        # classes for the footer\n",
    "        id='',                # id for the outermost container\n",
    "        open=False,\n",
    "        **kwargs              # classes for the outermost container\n",
    "        ): # Modal\n",
    "    \"Create a Modal using the appropriate Modal classes to put the boilerplate in the appropriate places for you\"\n",
    "    if open:\n",
    "        cls = stringify((cls, 'uk-open'))\n",
    "        kwargs['style'] = stringify((kwargs.get('style',''), 'display: block;'))\n",
    "    cls, dialog_cls, header_cls, body_cls, footer_cls = map(stringify, (cls, dialog_cls, header_cls, body_cls, footer_cls))\n",
    "    res = []\n",
    "    if header: res.append(ModalHeader(cls=header_cls)(header))\n",
    "    res.append(ModalBody(cls=body_cls)(*c))\n",
    "    if footer: res.append(ModalFooter(cls=footer_cls)(footer))\n",
    "    return ModalContainer(ModalDialog(*res, cls=dialog_cls), cls=cls, id=id, **kwargs)"
   ]
  },
  {
   "cell_type": "markdown",
   "id": "0b50e1bd",
   "metadata": {},
   "source": [
    "## Padding | Positioning"
   ]
  },
  {
   "cell_type": "code",
   "execution_count": null,
   "id": "1d1e8397",
   "metadata": {},
   "outputs": [],
   "source": [
    "#| export\n",
    "class PaddingT(VEnum):\n",
    "    'Padding Modifiers from https://franken-ui.dev/docs/padding'\n",
    "    def _generate_next_value_(name, start, count, last_values): return str2ukcls('padding', name)\n",
    "    xsmall = auto()\n",
    "    small = auto()\n",
    "    default = ''\n",
    "    medium = auto()\n",
    "    large = auto()\n",
    "    xlarge = auto()\n",
    "    remove = auto()\n",
    "    remove_top = auto()\n",
    "    remove_bottom = auto()\n",
    "    remove_left = auto()\n",
    "    remove_right = auto()\n",
    "    remove_vertical = auto()\n",
    "    remove_horizontal = auto()"
   ]
  },
  {
   "cell_type": "code",
   "execution_count": null,
   "id": "538044ac",
   "metadata": {},
   "outputs": [],
   "source": [
    "#| export\n",
    "class PositionT(VEnum):\n",
    "    'Position modifiers from https://franken-ui.dev/docs/position'\n",
    "    def _generate_next_value_(name, start, count, last_values): return str2ukcls('position', name)\n",
    "    top = auto()\n",
    "    bottom = auto()\n",
    "    left = auto()\n",
    "    right = auto()\n",
    "    top_left = auto()\n",
    "    top_center = auto()\n",
    "    top_right = auto()\n",
    "    center = auto()\n",
    "    center_left = auto()\n",
    "    center_right = auto()\n",
    "    bottom_left = auto()\n",
    "    bottom_center = auto()\n",
    "    bottom_right = auto()\n",
    "    center_horizontal = auto()\n",
    "    center_vertical = auto()"
   ]
  },
  {
   "cell_type": "markdown",
   "id": "f7b1880d",
   "metadata": {},
   "source": [
    "## Other"
   ]
  },
  {
   "cell_type": "code",
   "execution_count": null,
   "id": "062e2c65",
   "metadata": {},
   "outputs": [],
   "source": [
    "#| export\n",
    "def Placeholder(*c, cls=(), **kwargs):\n",
    "    return fh.Div(*c, cls=('uk-placeholder',stringify(cls)), **kwargs)"
   ]
  },
  {
   "cell_type": "code",
   "execution_count": null,
   "id": "0aaf6a63",
   "metadata": {},
   "outputs": [],
   "source": [
    "#| export\n",
    "def Progress(*c, cls=(), value=\"\", max=\"\", **kwargs):\n",
    "    return fh.Progress(*c, value=value, max=max, cls=('uk-progress',stringify(cls)), **kwargs)"
   ]
  },
  {
   "cell_type": "markdown",
   "id": "4509a22a",
   "metadata": {},
   "source": [
    "## Icons and Avatars"
   ]
  },
  {
   "cell_type": "code",
   "execution_count": null,
   "id": "6e0ea901",
   "metadata": {},
   "outputs": [],
   "source": [
    "#| export\n",
    "def UkIcon(icon,height=None,width=None,stroke_width=None,cls=(), **kwargs):\n",
    "    \"Creates an icon using lucide icons\"\n",
    "    return Uk_icon(icon=icon, height=height, width=width, stroke_width=stroke_width, cls=cls, **kwargs)"
   ]
  },
  {
   "cell_type": "code",
   "execution_count": null,
   "id": "ffb2568c",
   "metadata": {},
   "outputs": [],
   "source": [
    "#| export\n",
    "def UkIconLink(icon, \n",
    "           height=None,\n",
    "           width=None,\n",
    "           stroke_width=None,\n",
    "           cls=(), \n",
    "           button=False, \n",
    "           **kwargs):\n",
    "    \"Creates an icon link using lucide icons\"\n",
    "    fn = fh.Button if button else fh.A\n",
    "    return fn(cls=(f\"uk-icon-{'button' if button else 'link'}\", stringify(cls)), **kwargs)(\n",
    "        UkIcon(icon=icon, height=height, width=width, stroke_width=stroke_width))"
   ]
  },
  {
   "cell_type": "code",
   "execution_count": null,
   "id": "8ed62dbf",
   "metadata": {},
   "outputs": [],
   "source": [
    "class IconButtonT(VEnum):\n",
    "    xsmall = 'uk-icon-button-xsmall'\n",
    "    small  = 'uk-icon-button-small'\n",
    "    outline= 'uk-icon-button-outline'"
   ]
  },
  {
   "cell_type": "code",
   "execution_count": null,
   "id": "052b0814",
   "metadata": {},
   "outputs": [],
   "source": [
    "#| export\n",
    "def DiceBearAvatar(seed_name, # Seed name (ie 'Isaac Flath')\n",
    "                   h=20,         # Height \n",
    "                   w=20,          # Width\n",
    "                  ):          # Span with Avatar\n",
    "    \"Creates an Avatar using https://dicebear.com/\"\n",
    "    url = 'https://api.dicebear.com/8.x/lorelei/svg?seed='\n",
    "    return Span(cls=f\"relative flex h-{h} w-{w} shrink-0 overflow-hidden rounded-full bg-secondary\")(\n",
    "            fh.Img(cls=f\"aspect-square h-{h} w-{w}\", alt=\"Avatar\", loading=\"lazy\", src=f\"{url}{seed_name}\"))"
   ]
  },
  {
   "cell_type": "markdown",
   "id": "01cc7f66",
   "metadata": {},
   "source": [
    "## Flexbox | Grid"
   ]
  },
  {
   "cell_type": "markdown",
   "id": "93285680",
   "metadata": {},
   "source": [
    "The most common pattern for spacing it to organize the general high level page layout with a `Grid`, and smaller components with `Flex`.\n",
    "\n",
    ":::{.callout-tip}\n",
    "Play [Flex Box Froggy](https://flexboxfroggy.com/) to get an understanding of flex box.\n",
    ":::"
   ]
  },
  {
   "cell_type": "code",
   "execution_count": null,
   "id": "c1bf2ac8",
   "metadata": {},
   "outputs": [],
   "source": [
    "#| export\n",
    "class FlexT(VEnum):\n",
    "    'Flexbox modifiers from UIkit'\n",
    "    def _generate_next_value_(name, start, count, last_values): return str2ukcls('flex', name)\n",
    "    \n",
    "    # Display\n",
    "    block, inline = 'uk-flex', auto()\n",
    "    # Horizontal Alignment\n",
    "    left, center, right, between, around = auto(), auto(), auto(), auto(), auto()\n",
    "    # Vertical Alignment\n",
    "    stretch, top, middle, bottom = auto(), auto(), auto(), auto()\n",
    "    # Direction\n",
    "    row, row_reverse, column, column_reverse = auto(), auto(), auto(), auto()\n",
    "    # Wrap\n",
    "    nowrap, wrap, wrap_reverse = auto(), auto(), auto()"
   ]
  },
  {
   "cell_type": "code",
   "execution_count": null,
   "id": "edb685b5",
   "metadata": {},
   "outputs": [],
   "source": [
    "#|export\n",
    "def Grid(*div, cols_min=1, cols_max=None, cols_sm=None, cols_md=None, cols_lg=None, cols_xl=None, cols=None, cls='gap-4', **kwargs):\n",
    "    \"Creates a responsive grid layout with smart defaults based on content\"\n",
    "    if cols: cols_min = cols_sm = cols_md = cols_lg = cols_xl = cols\n",
    "    else:\n",
    "        n = len(div)\n",
    "        cols_max = min(n, cols_max or 4)\n",
    "        cols_sm = cols_sm or min(n, cols_min, cols_max)\n",
    "        cols_md = cols_md or min(n, cols_min+1, cols_max) \n",
    "        cols_lg = cols_lg or min(n, cols_min+2, cols_max) \n",
    "        cols_xl = cols_xl or cols_max\n",
    "    return Div(cls=(f'grid grid-cols-{cols_min} sm:grid-cols-{cols_sm} md:grid-cols-{cols_md} lg:grid-cols-{cols_lg} xl:grid-cols-{cols_xl}', stringify(cls)), **kwargs)(*div)"
   ]
  },
  {
   "cell_type": "markdown",
   "id": "fa8a1c15",
   "metadata": {},
   "source": [
    "We can use the `FlexT` enum above to create `Div`s that arrange components in a flex box in different ways.  \n",
    "\n",
    "For example, `DivFullySpaced` applies a very common pattern so we've made a function that helps to this for you.  But if you look at the code, it's really just using the enum to apply the right combonation of flex classes."
   ]
  },
  {
   "cell_type": "code",
   "execution_count": null,
   "id": "d6c2bdfb",
   "metadata": {},
   "outputs": [],
   "source": [
    "#| exports\n",
    "def DivFullySpaced(*c,                # Components\n",
    "                   cls='uk-width-1-1',# Classes for outer div\n",
    "                   **kwargs           # Additional args for outer div\n",
    "                  ):                  # Div with spaced components via flex classes\n",
    "    \"Creates a flex div with it's components having as much space between them as possible\"\n",
    "    cls = stringify(cls)\n",
    "    return Div(cls=(FlexT.block,FlexT.between,FlexT.middle,cls), **kwargs)(*c)"
   ]
  },
  {
   "cell_type": "code",
   "execution_count": null,
   "id": "40330adb",
   "metadata": {},
   "outputs": [],
   "source": [
    "#| export\n",
    "def DivCentered(*c,      # Components\n",
    "                cls='space-y-4',  # Classes for outer div\n",
    "                **kwargs # Additional args for outer div\n",
    "               ): # Div with components centered in it\n",
    "    \"Creates a flex div with it's components centered in it\"\n",
    "    cls=stringify(cls)\n",
    "    return Div(cls=(FlexT.block,FlexT.column,FlexT.middle,FlexT.center,cls),**kwargs)(*c)"
   ]
  },
  {
   "cell_type": "code",
   "execution_count": null,
   "id": "18a772c7",
   "metadata": {},
   "outputs": [],
   "source": [
    "#| export\n",
    "def DivLAligned(*c,      # Components\n",
    "                cls='space-x-4',  # Classes for outer div\n",
    "                **kwargs # Additional args for outer div\n",
    "               ): # Div with components aligned to the left\n",
    "    \"Creates a flex div with it's components aligned to the left\"\n",
    "    cls=stringify(cls)\n",
    "    return Div(cls=(FlexT.block,FlexT.left,FlexT.middle,cls), **kwargs)(*c)"
   ]
  },
  {
   "cell_type": "code",
   "execution_count": null,
   "id": "b141ea86",
   "metadata": {},
   "outputs": [],
   "source": [
    "#| export\n",
    "def DivRAligned(*c,      # Components\n",
    "                cls='space-x-4',  # Classes for outer div\n",
    "                **kwargs # Additional args for outer div\n",
    "               ): # Div with components aligned to the right\n",
    "    \"Creates a flex div with it's components aligned to the right\"\n",
    "    cls=stringify(cls)\n",
    "    return Div(cls=(FlexT.block,FlexT.right,FlexT.middle,cls), **kwargs)(*c)"
   ]
  },
  {
   "cell_type": "code",
   "execution_count": null,
   "id": "76dde188",
   "metadata": {},
   "outputs": [],
   "source": [
    "#| export\n",
    "def DivVStacked(*c, cls='space-y-4', **kwargs):\n",
    "    \"Creates a flex div with it's components stacked vertically\"\n",
    "    cls=stringify(cls)\n",
    "    return Div(cls=(FlexT.block,FlexT.column,FlexT.middle,cls), **kwargs)(*c)"
   ]
  },
  {
   "cell_type": "code",
   "execution_count": null,
   "id": "e5d931cd",
   "metadata": {},
   "outputs": [],
   "source": [
    "#| export\n",
    "def DivHStacked(*c, cls='space-x-4', **kwargs):\n",
    "    \"Creates a flex div with it's components stacked horizontally\"\n",
    "    cls=stringify(cls)\n",
    "    return Div(cls=(FlexT.block,FlexT.row,FlexT.middle,cls), **kwargs)(*c)"
   ]
  },
  {
   "cell_type": "markdown",
   "id": "293f142a",
   "metadata": {},
   "source": [
    "## Nav"
   ]
  },
  {
   "cell_type": "markdown",
   "id": "f6765b44",
   "metadata": {},
   "source": [
    "A `Nav` is something highly versatile that is the foundation for many things.  Three common places to use a Nav:\n",
    "\n",
    "    + On its own as a sidebar navigation\n",
    "    + In a button to give it a drop-down like behavior\n",
    "    + In a Navbar to give drop down options in the navbar"
   ]
  },
  {
   "cell_type": "code",
   "execution_count": null,
   "id": "505ca979",
   "metadata": {},
   "outputs": [],
   "source": [
    "#| export\n",
    "class NavT(VEnum):\n",
    "    def _generate_next_value_(name, start, count, last_values): return str2ukcls('nav', name)\n",
    "    default = auto()\n",
    "    primary = auto()\n",
    "    secondary = auto()"
   ]
  },
  {
   "cell_type": "code",
   "execution_count": null,
   "id": "d99a277f",
   "metadata": {},
   "outputs": [],
   "source": [
    "#| export\n",
    "def NavContainer(*li, \n",
    "                 cls=NavT.primary,\n",
    "                 parent=True, \n",
    "                 uk_nav=False, #True for default collapsible behavior, see https://franken-ui.dev/docs/nav#component-options for more advanced options\n",
    "                 **kwargs):\n",
    "    \"Creates a navigation container.  A Nav is a list (NavBar is something different)\"\n",
    "    return fh.Ul(*li, uk_nav=uk_nav, cls=(f\"uk-nav{'' if parent else '-sub'}\", stringify(cls)),**kwargs)"
   ]
  },
  {
   "cell_type": "code",
   "execution_count": null,
   "id": "0539b25a",
   "metadata": {},
   "outputs": [],
   "source": [
    "#| export\n",
    "def NavParentLi(*nav_container, cls=(), **kwargs): return fh.Li(*nav_container,  cls=('uk-parent',  stringify(cls)),**kwargs)\n",
    "def NavDividerLi(*c,cls=(), **kwargs): return fh.Li(*c, cls=('uk-nav-divider', stringify(cls)),**kwargs)\n",
    "def NavHeaderLi(*c,cls=(), **kwargs): return fh.Li(*c, cls=('uk-nav-header', stringify(cls)),**kwargs)\n",
    "def NavSubtitle(*c,cls=TextFont.muted_sm, **kwargs): return fh.Div(*c, cls=('uk-nav-subtitle', stringify(cls)),**kwargs)\n",
    "def NavCloseLi(*c,cls=(), **kwargs): return fh.Li(*c, cls=('uk-drop-close', stringify(cls)),**kwargs)"
   ]
  },
  {
   "cell_type": "code",
   "execution_count": null,
   "id": "ee713a6e",
   "metadata": {},
   "outputs": [],
   "source": [
    "def NavParentIcon(): return Span(uk_nav_parent_icon=True)"
   ]
  },
  {
   "cell_type": "markdown",
   "id": "0fdc0088",
   "metadata": {},
   "source": [
    "## NavBar"
   ]
  },
  {
   "cell_type": "code",
   "execution_count": null,
   "id": "6db3b7d7",
   "metadata": {},
   "outputs": [],
   "source": [
    "#| export\n",
    "def NavBarContainer(*c, \n",
    "                    cls=(),\n",
    "                    container_cls=ContainerT.expand,\n",
    "                    uk_navbar=True,\n",
    "                    **kwargs): \n",
    "    \"Create a NavBarContainer to put NavBar sides in\"\n",
    "    return fh.Div(Container(Div(*c, uk_navbar=uk_navbar),cls=stringify(container_cls)), cls=('',stringify(cls)), **kwargs) #uk-navbar-container\n",
    "def NavBarLSide(*c,  cls=(), **kwargs): return fh.Div(*c, cls=('uk-navbar-left',  stringify(cls)), **kwargs)\n",
    "def NavBarRSide(*c,  cls=(), **kwargs): return fh.Div(*c, cls=('uk-navbar-right', stringify(cls)), **kwargs)\n",
    "def NavBarCenter(*c, cls=(), **kwargs): return fh.Div(*c, cls=('uk-navbar-center',stringify(cls)), **kwargs)"
   ]
  },
  {
   "cell_type": "code",
   "execution_count": null,
   "id": "6fde8765",
   "metadata": {},
   "outputs": [],
   "source": [
    "#| export\n",
    "def NavBarNav(*li, cls=(), **kwargs):\n",
    "    \"A Nav that is part of a NavBar\"\n",
    "    return fh.Nav(*li, cls=('uk-navbar-nav',      stringify(cls)),                 **kwargs)"
   ]
  },
  {
   "cell_type": "code",
   "execution_count": null,
   "id": "b3a8872d",
   "metadata": {},
   "outputs": [],
   "source": [
    "#| export\n",
    "def NavBarSubtitle(title, subtitle, cls=(), subtitle_cls=TextFont.muted_sm, **kwargs): \n",
    "    return fh.Div(title,fh.Div(subtitle, cls=('uk-navbar-subtitle', stringify(subtitle_cls))), cls=stringify(cls), **kwargs)"
   ]
  },
  {
   "cell_type": "code",
   "execution_count": null,
   "id": "b40ba934",
   "metadata": {},
   "outputs": [],
   "source": [
    "#| export\n",
    "def NavBarNavContainer(*li, \n",
    "                       cls=NavT.primary,\n",
    "                         parent=True, \n",
    "                         uk_nav=False, #True for default collapsible behavior, see https://franken-ui.dev/docs/nav#component-options for more advanced options\n",
    "                         **kwargs):\n",
    "    return Div(cls=\"uk-navbar-dropdown\")(NavContainer(*li, cls=('uk-navbar-dropdown-nav',stringify(cls)), uk_nav=uk_nav, parent=parent, **kwargs))"
   ]
  },
  {
   "cell_type": "code",
   "execution_count": null,
   "id": "fceb8df5",
   "metadata": {},
   "outputs": [],
   "source": [
    "#|export\n",
    "def NavBarParentIcon(): return Span(uk_navbar_parent_icon=True)"
   ]
  },
  {
   "cell_type": "markdown",
   "id": "f0fa7a22",
   "metadata": {},
   "source": [
    "## DropDown"
   ]
  },
  {
   "cell_type": "code",
   "execution_count": null,
   "id": "34747040",
   "metadata": {},
   "outputs": [],
   "source": [
    "#| export\n",
    "def DropDownNavContainer(*li, \n",
    "                         cls=NavT.primary,\n",
    "                         parent=True, \n",
    "                         uk_nav=False, #True for default collapsible behavior, see https://franken-ui.dev/docs/nav#component-options for more advanced options\n",
    "                         uk_dropdown=True,\n",
    "                         **kwargs):\n",
    "    \"A Nav that is part of a DropDown\"\n",
    "    return Div(cls = 'uk-drop uk-dropdown',uk_dropdown=uk_dropdown)(NavContainer(*li, cls=('uk-dropdown-nav',stringify(cls)), uk_nav=uk_nav, parent=parent, **kwargs))"
   ]
  },
  {
   "cell_type": "markdown",
   "id": "ac27bf48",
   "metadata": {},
   "source": [
    "## Tabs"
   ]
  },
  {
   "cell_type": "code",
   "execution_count": null,
   "id": "553f4a81",
   "metadata": {},
   "outputs": [],
   "source": [
    "#| export\n",
    "def TabContainer(*li,cls='', alt=False, **kwargs):\n",
    "    \"A Tab that is part of a TabContainer\"\n",
    "    cls = stringify(cls)\n",
    "    return Ul(cls=(f\"uk-tab{'-alt' if alt else ''}\",stringify(cls)),**kwargs)(*li)"
   ]
  },
  {
   "cell_type": "markdown",
   "id": "6348c5f3",
   "metadata": {},
   "source": [
    "## Cards"
   ]
  },
  {
   "cell_type": "code",
   "execution_count": null,
   "id": "759a0de3",
   "metadata": {},
   "outputs": [],
   "source": [
    "#| export\n",
    "class CardT(VEnum):\n",
    "    'Card styles from UIkit'\n",
    "    def _generate_next_value_(name, start, count, last_values): return str2ukcls('card', name)\n",
    "    default = auto()\n",
    "    primary = auto()\n",
    "    secondary = auto()\n",
    "    danger = auto()"
   ]
  },
  {
   "cell_type": "code",
   "execution_count": null,
   "id": "c165a0a6",
   "metadata": {},
   "outputs": [],
   "source": [
    "#| export\n",
    "def CardTitle(*c, cls=(), **kwargs):\n",
    "    return fh.Div(*c, cls=('uk-card-title',stringify(cls)), **kwargs)\n",
    "\n",
    "def CardHeader(*c, cls=(), **kwargs):\n",
    "    return fh.Div(*c, cls=('uk-card-header',stringify(cls)), **kwargs)\n",
    "\n",
    "def CardBody(*c, cls=(), **kwargs):\n",
    "    return fh.Div(*c, cls=('uk-card-body',stringify(cls)), **kwargs)\n",
    "\n",
    "def CardFooter(*c, cls=(), **kwargs):\n",
    "    return fh.Div(*c, cls=('uk-card-footer',stringify(cls)), **kwargs)\n",
    "\n",
    "def CardContainer(*c, cls=CardT.default, **kwargs):\n",
    "    return fh.Div(*c, cls=('uk-card',stringify(cls)), **kwargs)"
   ]
  },
  {
   "cell_type": "code",
   "execution_count": null,
   "id": "cd8a16e4",
   "metadata": {},
   "outputs": [],
   "source": [
    "#|export\n",
    "def Card(*c, # Components that go in the body\n",
    "        header=None, # Components that go in the header\n",
    "        footer=None,  # Components that go in the footer\n",
    "        body_cls='space-y-6', # classes for the body\n",
    "        header_cls=(), # classes for the header\n",
    "        footer_cls=(), # classes for the footer\n",
    "        cls=(), #class for outermost component\n",
    "        **kwargs # classes that for the card itself\n",
    "        ):\n",
    "    \"Creates a Card with a header, body, and footer\"\n",
    "    header_cls, footer_cls, body_cls, cls = map(stringify, (header_cls, footer_cls, body_cls, cls))\n",
    "    res = []\n",
    "    if header: res.append(CardHeader(cls=header_cls)(header))\n",
    "    res.append(CardBody(cls=body_cls)(*c))\n",
    "    if footer: res.append(CardFooter(cls=footer_cls)(footer))\n",
    "    return CardContainer(cls=cls, **kwargs)(*res)"
   ]
  },
  {
   "cell_type": "markdown",
   "id": "e86be034",
   "metadata": {},
   "source": [
    "## Tables"
   ]
  },
  {
   "cell_type": "code",
   "execution_count": null,
   "id": "7d0038f9",
   "metadata": {},
   "outputs": [],
   "source": [
    "#| export\n",
    "class TableT(VEnum):\n",
    "    def _generate_next_value_(name, start, count, last_values): return str2ukcls('table', name)\n",
    "    divider = auto()\n",
    "    striped = auto()\n",
    "    hover = auto()\n",
    "    small = auto()\n",
    "    large = auto()\n",
    "    justify = auto()\n",
    "    middle = auto()\n",
    "    responsive = auto()"
   ]
  },
  {
   "cell_type": "code",
   "execution_count": null,
   "id": "e942edd1",
   "metadata": {},
   "outputs": [],
   "source": [
    "#| export\n",
    "def Table(*args, cls=(TableT.middle, TableT.divider, TableT.hover, TableT.small), **kwargs): \n",
    "    \"Creates a table\"\n",
    "    return fh.Table(cls=('uk-table', stringify(cls)), *args, **kwargs)"
   ]
  },
  {
   "cell_type": "code",
   "execution_count": null,
   "id": "30bbdbed",
   "metadata": {},
   "outputs": [],
   "source": [
    "#| export\n",
    "def _TableCell(Component, *args, cls=(), shrink=False, expand=False, small=False, **kwargs):\n",
    "    \"Creates a table cell\"\n",
    "    cls = stringify(cls)\n",
    "    if shrink: cls += ' uk-table-shrink'\n",
    "    if expand: cls += ' uk-table-expand'\n",
    "    if small: cls += ' uk-table-small'\n",
    "    return Component(*args,cls=cls, **kwargs)\n",
    "\n",
    "@delegates(_TableCell, but=['Component'])\n",
    "def Td(*args,**kwargs):  return _TableCell(fh.Td, *args, **kwargs)\n",
    "@delegates(_TableCell, but=['Component'])\n",
    "def Th(*args,**kwargs): return _TableCell(fh.Th, *args, **kwargs)\n",
    "\n",
    "def Tr(*cells, cls=(), **kwargs):  return fh.Tr(*cells, cls=stringify(cls), **kwargs)\n",
    "def Thead(*rows, cls=(), **kwargs): return fh.Thead(*rows, cls=stringify(cls), **kwargs)\n",
    "def Tbody(*rows, cls=(), sortable=False, **kwargs): return fh.Tbody(*rows, cls=stringify(cls), uk_sortable=sortable, **kwargs)"
   ]
  },
  {
   "cell_type": "code",
   "execution_count": null,
   "id": "2cd41ae7",
   "metadata": {},
   "outputs": [],
   "source": [
    "#|export\n",
    "def TableFromLists(header_data, body_data, footer_data=None, \n",
    "                   header_cell_render=Th,body_cell_render=Td, footer_cell_render=Td,\n",
    "                   cls=(TableT.middle, TableT.divider, TableT.hover, TableT.small), \n",
    "                   sortable=False, **kwargs):\n",
    "    \"Creates a Table from a list of header data and a list of lists of body data\"\n",
    "    return Table(\n",
    "                Thead(Tr(*map(header_cell_render, header_data))),\n",
    "                Tbody(*[Tr(*map(body_cell_render, r)) for r in body_data], sortable=sortable),\n",
    "                Tfoot(Tr(*map(footer_cell_render, footer_data))) if footer_data else '',\n",
    "                cls=stringify(cls),    \n",
    "                **kwargs)"
   ]
  },
  {
   "cell_type": "code",
   "execution_count": null,
   "id": "fa3eebd7",
   "metadata": {},
   "outputs": [],
   "source": [
    "#| export\n",
    "def TableFromDicts(header_data:Sequence, body_data:Sequence[dict], footer_data=None, \n",
    "                   header_cell_render=Th, body_cell_render=lambda k,v : Td(v), footer_cell_render=lambda k,v : Td(v),\n",
    "                   cls=(TableT.middle, TableT.divider, TableT.hover, TableT.small),\n",
    "                   sortable=False,\n",
    "                   **kwargs):\n",
    "    \"Creates a Table from a list of header data and a list of dicts of body data\"\n",
    "    return Table(\n",
    "        Thead(Tr(*[header_cell_render(h) for h in header_data])),\n",
    "        Tbody(*[Tr(*[body_cell_render(k, r.get(k, '')) for k in header_data]) for r in body_data], sortable=sortable),\n",
    "        Tfoot(Tr(*[footer_cell_render(k, footer_data.get(k.lower(), '')) for k in header_data])) if footer_data else '',\n",
    "        cls=stringify(cls),    \n",
    "        **kwargs\n",
    "    )"
   ]
  },
  {
   "cell_type": "markdown",
   "id": "b91b0b27",
   "metadata": {},
   "source": [
    "## Markdown"
   ]
  },
  {
   "cell_type": "code",
   "execution_count": null,
   "id": "e7dd39c6",
   "metadata": {},
   "outputs": [],
   "source": [
    "#| export\n",
    "franken_class_map = {\n",
    "    'h1': 'uk-h1 text-4xl font-bold mt-12 mb-6',\n",
    "    'h2': 'uk-h2 text-3xl font-bold mt-10 mb-5', \n",
    "    'h3': 'uk-h3 text-2xl font-semibold mt-8 mb-4',\n",
    "    'h4': 'uk-h4 text-xl font-semibold mt-6 mb-3',\n",
    "    \n",
    "    # Body text and links\n",
    "    'p': 'text-lg leading-relaxed mb-6',\n",
    "    'a': 'uk-link text-primary hover:text-primary-focus underline',\n",
    "    \n",
    "    # Lists with proper spacing\n",
    "    'ul': 'uk-list uk-list-disc space-y-2 mb-6 ml-6',\n",
    "    'ol': 'uk-list uk-list-decimal space-y-2 mb-6 ml-6',\n",
    "    'li': 'leading-relaxed',\n",
    "    \n",
    "    # Code and quotes\n",
    "    'pre': 'bg-base-200 rounded-lg p-4 mb-6 overflow-x-auto',\n",
    "    'code': 'uk-codespan px-1',\n",
    "    'blockquote': 'uk-blockquote pl-4 border-l-4 border-primary italic mb-6',\n",
    "    \n",
    "    # Tables\n",
    "    'table': 'uk-table uk-table-divider uk-table-hover uk-table-small w-full mb-6',\n",
    "    'th': 'text-left p-2',\n",
    "    'td': 'p-2',\n",
    "    \n",
    "    # Other elements\n",
    "    'hr': 'uk-divider-icon my-8',\n",
    "    'img': 'max-w-full h-auto rounded-lg mb-6'\n",
    "}"
   ]
  },
  {
   "cell_type": "code",
   "execution_count": null,
   "id": "15a51b01",
   "metadata": {},
   "outputs": [],
   "source": [
    "#| export\n",
    "def apply_classes(html_str:str, \n",
    "                  class_map=None, \n",
    "                  class_map_mods=None):\n",
    "    \"Apply classes to html string\"\n",
    "    if not html_str: return html_str\n",
    "    try:\n",
    "        from lxml import html, etree\n",
    "        class_map = ifnone(class_map, franken_class_map)\n",
    "\n",
    "        if class_map_mods: class_map = {**class_map, **class_map_mods}\n",
    "        html_str = html.fromstring(html_str)\n",
    "        for tag, classes in class_map.items():\n",
    "            for element in html_str.xpath(f'//{tag}'):\n",
    "                existing_class = element.get('class', '')\n",
    "                new_class = f\"{existing_class} {classes}\".strip()\n",
    "                element.set('class', new_class)\n",
    "        return etree.tostring(html_str, encoding='unicode', method='html')\n",
    "    except ImportError:\n",
    "        raise ImportError(\"Install 'lxml' to use the apply_classes function\")\n",
    "    except etree.ParserError:\n",
    "        return html_str"
   ]
  },
  {
   "cell_type": "code",
   "execution_count": null,
   "id": "7d943f5f",
   "metadata": {},
   "outputs": [],
   "source": [
    "_test = apply_classes(\"<div><h1>Hello, world!</h1></div>\", class_map_mods={'h1': 'uk-h1 my-4 mb-4'})\n",
    "assert _test == '<div><h1 class=\"uk-h1 my-4 mb-4\">Hello, world!</h1></div>'"
   ]
  },
  {
   "cell_type": "code",
   "execution_count": null,
   "id": "1f973ca3",
   "metadata": {},
   "outputs": [],
   "source": [
    "_test = apply_classes(\"\", class_map_mods={'h1': 'uk-h1 my-4 mb-4'})\n",
    "assert _test == ''"
   ]
  },
  {
   "cell_type": "code",
   "execution_count": null,
   "id": "0cf074d0",
   "metadata": {},
   "outputs": [
    {
     "data": {
      "text/plain": [
       "'<!-- why -->\\n'"
      ]
     },
     "execution_count": null,
     "metadata": {},
     "output_type": "execute_result"
    }
   ],
   "source": [
    "import mistletoe\n",
    "apply_classes(mistletoe.markdown('<!-- why -->'), franken_class_map, None)"
   ]
  },
  {
   "cell_type": "code",
   "execution_count": null,
   "id": "94f3a979",
   "metadata": {},
   "outputs": [],
   "source": [
    "#| export\n",
    "def render_md(md_content:str, class_map=None, class_map_mods=None):\n",
    "    \"Renders markdown using mistletoe and lxml\"\n",
    "    if md_content=='': return md_content\n",
    "    # Check for required dependencies\n",
    "    missing = []\n",
    "    try: import mistletoe\n",
    "    except ImportError: missing.append('mistletoe')\n",
    "    try: import lxml\n",
    "    except ImportError: missing.append('lxml')\n",
    "    if missing:\n",
    "        pkgs = ' and '.join(missing)\n",
    "        raise ImportError(f\"Please install {pkgs} to use the render_md function\")\n",
    "        \n",
    "    html_content = mistletoe.markdown(md_content) #, mcp.PygmentsRenderer)\n",
    "    return NotStr(apply_classes(html_content, class_map, class_map_mods))"
   ]
  },
  {
   "cell_type": "code",
   "execution_count": null,
   "id": "9b52bb24",
   "metadata": {},
   "outputs": [],
   "source": [
    "%%aip\n",
    "\n",
    "Improve `franken_class_map` for use with mistletoe.  I want it minimal and simple but make really great looking articles"
   ]
  },
  {
   "cell_type": "code",
   "execution_count": null,
   "id": "b2860bc4",
   "metadata": {},
   "outputs": [],
   "source": [
    "franken_class_map = {\n",
    "    # Headings with vertical rhythm\n",
    "    'h1': 'uk-h1 text-4xl font-bold mt-12 mb-6',\n",
    "    'h2': 'uk-h2 text-3xl font-bold mt-10 mb-5', \n",
    "    'h3': 'uk-h3 text-2xl font-semibold mt-8 mb-4',\n",
    "    'h4': 'uk-h4 text-xl font-semibold mt-6 mb-3',\n",
    "    \n",
    "    # Body text and links\n",
    "    'p': 'text-lg leading-relaxed mb-6',\n",
    "    'a': 'uk-link text-primary hover:text-primary-focus underline',\n",
    "    \n",
    "    # Lists with proper spacing\n",
    "    'ul': 'uk-list uk-list-disc space-y-2 mb-6 ml-6',\n",
    "    'ol': 'uk-list uk-list-decimal space-y-2 mb-6 ml-6',\n",
    "    'li': 'leading-relaxed',\n",
    "    \n",
    "    # Code and quotes\n",
    "    'pre': 'bg-base-200 rounded-lg p-4 mb-6 overflow-x-auto',\n",
    "    'code': 'uk-codespan font-mono text-sm bg-base-200 rounded px-1',\n",
    "    'blockquote': 'uk-blockquote pl-4 border-l-4 border-primary italic mb-6',\n",
    "    \n",
    "    # Tables\n",
    "    'table': 'uk-table uk-table-divider uk-table-hover uk-table-small w-full mb-6',\n",
    "    'th': 'text-left p-2',\n",
    "    'td': 'p-2',\n",
    "    \n",
    "    # Other elements\n",
    "    'hr': 'uk-divider-icon my-8',\n",
    "    'img': 'max-w-full h-auto rounded-lg mb-6'\n",
    "}"
   ]
  },
  {
   "cell_type": "code",
   "execution_count": null,
   "id": "9c7c22ff",
   "metadata": {},
   "outputs": [
    {
     "data": {
      "text/plain": [
       "'<div><p class=\"my-1\">Look here:</p>\\n<ul class=\"uk-list-disc my-2 mb-4\">\\n<li>a</li>\\n<li>b</li>\\n</ul>\\n<pre><code class=\"language-python uk-codespan\">a = \"aa\"\\n</code></pre>\\n</div>'"
      ]
     },
     "execution_count": null,
     "metadata": {},
     "output_type": "execute_result"
    }
   ],
   "source": [
    "#| eval: false\n",
    "render_md('''Look here:\n",
    "- a\n",
    "- b\n",
    "\n",
    "```python\n",
    "a = \"aa\"\n",
    "```''')"
   ]
  }
 ],
 "metadata": {
  "kernelspec": {
   "display_name": "python3",
   "language": "python",
   "name": "python3"
  }
 },
 "nbformat": 4,
 "nbformat_minor": 5
}
