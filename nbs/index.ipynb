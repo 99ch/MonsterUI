{
 "cells": [
  {
   "cell_type": "markdown",
   "metadata": {},
   "source": [
    "# Fh-FrankenUI\n",
    "\n",
    "> A FrankenUI wrapper to let you style websites quickly and beautifully with FastHTML"
   ]
  },
  {
   "cell_type": "markdown",
   "metadata": {},
   "source": [
    ":::{.callout-warning}\n",
    "This library is still in active development, however there are many great things you can do with it already.  We'd really like you try to it and tell us how it works for you - but please be aware there will improvements to the API over time\n",
    ":::\n",
    "\n",
    "## Installation\n",
    "\n",
    "To install this library, uses\n",
    "\n",
    "`pip install fh-frankenui`\n",
    "\n",
    "## Getting Started\n",
    "\n",
    "To get started, check out:\n",
    "\n",
    "1. Start by importing the modules as follows:\n",
    "\n",
    "```python\n",
    "from fasthtml.common import *\n",
    "from fh_frankenui.core import *\n",
    "```\n",
    "\n",
    "2. Instantiate the app with the fh-frankenui headers\n",
    "\n",
    "```python\n",
    "app = FastHTML(hdrs=Theme.blue.headers())\n",
    "\n",
    "# Alternatively, using the fast_app method\n",
    "app, rt = fast_app(pico=False, hdrs=Theme.slate.headers())\n",
    "```\n",
    ">*The color option can be any of the theme options available out of the box*\n",
    "\n",
    "From here, you can explore the API Reference & examples to see how to implement the components. You can also check out these demo videos to as a quick start guide:\n",
    "\n",
    "+ Fh-Frankenui [documentation page and Tutorial app](https://fh-frankenui.answer.ai/tutorial_app)\n",
    "+ The [AnswerAI Dev Chat](https://www.youtube.com/watch?v=K5FFPHlWMiY) where Isaac & Jeremy explore the framework\n",
    "+ This [video](https://www.loom.com/share/0916e8a95d524c43a4d100ee85157624?sid=9be07e55-c962-4dbd-978c-aa6a0bcee7b3) where Isaac iteratively builds a form in 5 minutes with the framework\n",
    "\n",
    "More resources and improvements to the documentation will be added here soon!"
   ]
  },
  {
   "cell_type": "code",
   "execution_count": null,
   "metadata": {},
   "outputs": [],
   "source": []
  }
 ],
 "metadata": {
  "kernelspec": {
   "display_name": "python3",
   "language": "python",
   "name": "python3"
  }
 },
 "nbformat": 4,
 "nbformat_minor": 2
}
