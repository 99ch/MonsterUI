{
 "cells": [
  {
   "cell_type": "markdown",
   "metadata": {},
   "source": [
    "# MonsterUI\n",
    "\n",
    "> Combine the simplicity of FastHTML with the power of TailwindCSS"
   ]
  },
  {
   "cell_type": "markdown",
   "metadata": {},
   "source": [
    "## Installation\n",
    "\n",
    "To install this library, uses\n",
    "\n",
    "`pip install MonsterUI`\n",
    "\n",
    "## Getting Started\n",
    "\n",
    "To get started, check out:\n",
    "\n",
    "1. Start by importing the modules as follows:\n",
    "\n",
    "```python\n",
    "from fasthtml.common import *\n",
    "from monsterui.core import *\n",
    "```\n",
    "\n",
    "2. Instantiate the app with the MonsterUI headers\n",
    "\n",
    "```python\n",
    "app = FastHTML(hdrs=Theme.blue.headers())\n",
    "\n",
    "# Alternatively, using the fast_app method\n",
    "app, rt = fast_app(hdrs=Theme.slate.headers())\n",
    "```\n",
    ">*The color option can be any of the theme options available out of the box*\n",
    "\n",
    "From here, you can explore the API Reference & examples to see how to implement the components. You can also check out these demo videos to as a quick start guide:\n",
    "\n",
    "+ MonsterUI [documentation page and Tutorial app](https://monsterui.answer.ai/tutorial_app)\n",
    "+ This [video](https://www.loom.com/share/0916e8a95d524c43a4d100ee85157624?sid=9be07e55-c962-4dbd-978c-aa6a0bcee7b3) where Isaac iteratively builds a form in 5 minutes with the framework\n",
    "\n",
    "More resources and improvements to the documentation will be added here soon!"
   ]
  },
  {
   "cell_type": "markdown",
   "metadata": {},
   "source": [
    "## LLM context files\n"
   ]
  },
  {
   "cell_type": "markdown",
   "metadata": {},
   "source": [
    "Using LLMs for development is a best practice way to get started and explore.  While LLMs cannot code for you, they can be helpful assistants.  You must check, refactor, test, and vet any code any LLM generates for you - but they are helpful productivity tools.\n",
    "\n",
    "+ [llms.txt](https://raw.githubusercontent.com/AnswerDotAI/monsterui/refs/heads/main/nbs/llms.txt): Links to the neccesary reference documents to use the MonsterUI library effectively.  Contains very little information directly in the document.\n",
    "+ [llms-ctx.txt](https://raw.githubusercontent.com/AnswerDotAI/monsterui/refs/heads/main/nbs/llms-ctx.txt): MonsterUI specific context only (does not include FastHTML specific context)\n",
    "+ [llm-ctx-full.txt](https://raw.githubusercontent.com/AnswerDotAI/monsterui/refs/heads/main/nbs/llms-ctx-full.txt): All inclusive FastHTML + MonsterUI context"
   ]
  },
  {
   "cell_type": "code",
   "execution_count": null,
   "metadata": {},
   "outputs": [],
   "source": []
  }
 ],
 "metadata": {
  "kernelspec": {
   "display_name": "Python 3 (ipykernel)",
   "language": "python",
   "name": "python3"
  },
  "language_info": {
   "codemirror_mode": {
    "name": "ipython",
    "version": 3
   },
   "file_extension": ".py",
   "mimetype": "text/x-python",
   "name": "python",
   "nbconvert_exporter": "python",
   "pygments_lexer": "ipython3",
   "version": "3.12.2"
  }
 },
 "nbformat": 4,
 "nbformat_minor": 2
}
