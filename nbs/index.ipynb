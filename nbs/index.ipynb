{
 "cells": [
  {
   "cell_type": "code",
   "execution_count": null,
   "metadata": {},
   "outputs": [],
   "source": [
    "#|hide\n"
   ]
  },
  {
   "cell_type": "markdown",
   "metadata": {},
   "source": [
    "# Fh-FrankenUI\n",
    "\n",
    "> A FrankenUI wrapper to let you style websites quickly and beautifully"
   ]
  },
  {
   "cell_type": "markdown",
   "metadata": {},
   "source": [
    "+ FrankenUI examples can get found [here](https://github.com/franken-ui/examples/blob/master/src/pages).  The current goal is to build all those pretty easily.  If you start a new one convert it to \"attrs first\" using h2x.com, and drop it in the `app/frankenui_examples` repo for others as well."
   ]
  },
  {
   "cell_type": "markdown",
   "metadata": {},
   "source": []
  }
 ],
 "metadata": {
  "language_info": {
   "name": "python"
  }
 },
 "nbformat": 4,
 "nbformat_minor": 2
}
