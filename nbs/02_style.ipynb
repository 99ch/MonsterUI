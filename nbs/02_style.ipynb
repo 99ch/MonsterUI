{
 "cells": [
  {
   "cell_type": "markdown",
   "metadata": {},
   "source": [
    "# Style\n",
    "\n",
    "> Definitions for common styling choices to simplify common customizations"
   ]
  },
  {
   "cell_type": "code",
   "execution_count": 47,
   "metadata": {},
   "outputs": [],
   "source": [
    "#| default_exp style"
   ]
  },
  {
   "cell_type": "code",
   "execution_count": 48,
   "metadata": {},
   "outputs": [],
   "source": [
    "#| hide\n",
    "#| export\n",
    "from fasthtml.common import *\n",
    "from fh_frankenui.components import *\n",
    "from enum import Enum"
   ]
  },
  {
   "cell_type": "code",
   "execution_count": 49,
   "metadata": {},
   "outputs": [],
   "source": [
    "from fastcore.test import *"
   ]
  },
  {
   "cell_type": "markdown",
   "metadata": {},
   "source": [
    "Many things use a consistent type/style modifier associated with the theme in Franken UI.  For example, uk-button-**primary**, uk-text-**primary** and uk-card-**primary**.\n",
    "\n",
    "The UkTyp will store the most common and useful types that can be inserted to many places."
   ]
  },
  {
   "cell_type": "code",
   "execution_count": 46,
   "metadata": {},
   "outputs": [],
   "source": [
    "def test_eq_xml(a,b):\n",
    "    assert to_xml(a) == to_xml(b)"
   ]
  },
  {
   "cell_type": "code",
   "execution_count": 51,
   "metadata": {},
   "outputs": [],
   "source": [
    "#| export \n",
    "class UkTyp(Enum):\n",
    "    default = 'default'\n",
    "    ghost = 'ghost'\n",
    "    primary = 'primary'\n",
    "    secondary = 'secondary'\n",
    "    danger = 'danger'\n",
    "\n",
    "    def __str__(self): return self.value"
   ]
  },
  {
   "cell_type": "code",
   "execution_count": 52,
   "metadata": {},
   "outputs": [],
   "source": [
    "test_eq_xml(UkButton('Name', typ=UkTyp.primary),\n",
    "            UkButton('Name', typ='primary'))\n",
    "test_eq_xml(UkInput('Name', typ=UkTyp.primary),\n",
    "            UkInput('Name', typ='primary'))"
   ]
  }
 ],
 "metadata": {
  "kernelspec": {
   "display_name": "python3",
   "language": "python",
   "name": "python3"
  },
  "language_info": {
   "name": "python"
  }
 },
 "nbformat": 4,
 "nbformat_minor": 4
}
