{
 "cells": [
  {
   "cell_type": "markdown",
   "id": "5bfbea37",
   "metadata": {},
   "source": [
    "## Daisy UI\n",
    "\n",
    "> Helpers and components for DaisyUI style stuff"
   ]
  },
  {
   "cell_type": "code",
   "execution_count": null,
   "id": "7e3b2231",
   "metadata": {},
   "outputs": [],
   "source": [
    "#| default_exp daisy"
   ]
  },
  {
   "cell_type": "code",
   "execution_count": null,
   "id": "d623c13c",
   "metadata": {},
   "outputs": [],
   "source": [
    "#| export\n",
    "import fasthtml.common as fh\n",
    "from monsterui.foundations import *\n",
    "from fasthtml.common import is_listy, Div, P, Span, Script, FastHTML, FT, to_xml, show,fast_app\n",
    "from fasthtml.svg import *\n",
    "from fasthtml.components import Uk_theme_switcher, Main\n",
    "from enum import Enum, auto\n",
    "from fasthtml.components import Uk_select,Uk_input_tag,Uk_icon\n",
    "from functools import partial\n",
    "from itertools import zip_longest\n",
    "from typing import Union, Tuple, Optional\n",
    "from fastcore.all import *\n",
    "import copy, re, httpx\n",
    "from pathlib import Path"
   ]
  },
  {
   "cell_type": "code",
   "execution_count": null,
   "id": "1f043eaf",
   "metadata": {},
   "outputs": [],
   "source": [
    "#| export\n",
    "class StepsT(VEnum):\n",
    "    \"Options for Steps\"\n",
    "    def _generate_next_value_(name, start, count, last_values): return f'steps-{name}'\n",
    "    vertical = auto()\n",
    "    horizonal = auto()"
   ]
  },
  {
   "cell_type": "code",
   "execution_count": null,
   "id": "c37ed9f9",
   "metadata": {},
   "outputs": [],
   "source": [
    "#| export \n",
    "class StepT(VEnum):\n",
    "    'Step styles for LiStep'\n",
    "    def _generate_next_value_(name, start, count, last_values): return f'step-{name}'\n",
    "    primary = auto()\n",
    "    secondary = auto()\n",
    "    accent = auto() \n",
    "    info = auto()\n",
    "    success = auto()\n",
    "    warning = auto()\n",
    "    error = auto()\n",
    "    neutral = auto()"
   ]
  },
  {
   "cell_type": "code",
   "execution_count": null,
   "id": "21a7d741",
   "metadata": {},
   "outputs": [],
   "source": [
    "#| export\n",
    "def Steps(*li, cls='', **kwargs):\n",
    "    \"Creates a steps container with horizontal scrolling\"\n",
    "    return Ul(*li, cls=('steps',stringify(cls)), **kwargs)\n",
    "\n",
    "def LiStep(*c, cls='', **kwargs):\n",
    "    \"Creates a step list item with optional styling\"\n",
    "    \"\"\"<li data-content=\"?\" class=\"step step-neutral\">Step 1</li>\"\"\"\n",
    "    return Li(*c, cls=('step', stringify(cls)), **kwargs)"
   ]
  },
  {
   "cell_type": "code",
   "execution_count": null,
   "id": "1523f5e2",
   "metadata": {},
   "outputs": [],
   "source": [
    "#| hide\n",
    "import nbdev; nbdev.nbdev_export()"
   ]
  }
 ],
 "metadata": {
  "kernelspec": {
   "display_name": "python3",
   "language": "python",
   "name": "python3"
  }
 },
 "nbformat": 4,
 "nbformat_minor": 5
}
