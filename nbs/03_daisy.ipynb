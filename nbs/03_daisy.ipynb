{
 "cells": [
  {
   "cell_type": "markdown",
   "id": "5bfbea37",
   "metadata": {},
   "source": [
    "## Daisy UI\n",
    "\n",
    "> Helpers and components for DaisyUI style stuff"
   ]
  },
  {
   "cell_type": "code",
   "execution_count": null,
   "id": "7e3b2231",
   "metadata": {},
   "outputs": [],
   "source": [
    "#| default_exp daisy"
   ]
  },
  {
   "cell_type": "code",
   "execution_count": null,
   "id": "d623c13c",
   "metadata": {},
   "outputs": [],
   "source": [
    "#| export\n",
    "import fasthtml.common as fh\n",
    "from monsterui.foundations import *\n",
    "from fasthtml.common import is_listy, Div, P, Span, Script, FastHTML, FT, to_xml, show,fast_app\n",
    "from fasthtml.svg import *\n",
    "from fasthtml.components import Uk_theme_switcher, Main\n",
    "from enum import Enum, auto\n",
    "from fasthtml.components import Uk_select,Uk_input_tag,Uk_icon\n",
    "from functools import partial\n",
    "from itertools import zip_longest\n",
    "from typing import Union, Tuple, Optional\n",
    "from fastcore.all import *\n",
    "import copy, re, httpx\n",
    "from pathlib import Path"
   ]
  },
  {
   "cell_type": "markdown",
   "id": "1c836adc",
   "metadata": {},
   "source": [
    "## Alerts"
   ]
  },
  {
   "cell_type": "code",
   "execution_count": null,
   "id": "60694dc8",
   "metadata": {},
   "outputs": [],
   "source": [
    "#| export\n",
    "class AlertT(VEnum):\n",
    "    \"Alert styles\"\n",
    "    def _generate_next_value_(name, start, count, last_values): return f\"alert-{name}\"\n",
    "    info = auto()\n",
    "    success = auto()\n",
    "    warning = auto()\n",
    "    error = auto()"
   ]
  },
  {
   "cell_type": "code",
   "execution_count": null,
   "id": "b2109995",
   "metadata": {},
   "outputs": [],
   "source": [
    "#| export\n",
    "def Alert(*c, cls='', **kwargs):\n",
    "    \"Alert informs users about important events.\"\n",
    "    return Div(Span(*c), cls=('alert', stringify(cls)), role='alert', **kwargs)"
   ]
  },
  {
   "cell_type": "markdown",
   "id": "d9c6a3c1",
   "metadata": {},
   "source": [
    "The simplest alert is a div wrapped with a span:"
   ]
  },
  {
   "cell_type": "code",
   "execution_count": null,
   "id": "4b454c4c",
   "metadata": {},
   "outputs": [
    {
     "data": {
      "text/markdown": [
       "```html\n",
       "<div class=\"alert \" role=\"alert\">\n",
       "<span>Hi</span></div>\n",
       "\n",
       "```"
      ],
      "text/plain": [
       "div((span(('Hi',),{}),),{'class': 'alert ', 'role': 'alert'})"
      ]
     },
     "execution_count": null,
     "metadata": {},
     "output_type": "execute_result"
    }
   ],
   "source": [
    "Alert(\"Hi\")"
   ]
  },
  {
   "cell_type": "markdown",
   "id": "61fcb532",
   "metadata": {},
   "source": [
    "Alert colors are defined by the alert styles:"
   ]
  },
  {
   "cell_type": "code",
   "execution_count": null,
   "id": "5d82437b",
   "metadata": {},
   "outputs": [
    {
     "data": {
      "text/markdown": [
       "```html\n",
       "<div class=\"alert alert-info\" role=\"alert\">\n",
       "<span>Hi</span></div>\n",
       "\n",
       "```"
      ],
      "text/plain": [
       "div((span(('Hi',),{}),),{'class': 'alert alert-info', 'role': 'alert'})"
      ]
     },
     "execution_count": null,
     "metadata": {},
     "output_type": "execute_result"
    }
   ],
   "source": [
    "Alert(\"Hi\", cls=AlertT.info)"
   ]
  },
  {
   "cell_type": "markdown",
   "id": "b7679070",
   "metadata": {},
   "source": [
    "## Steps"
   ]
  },
  {
   "cell_type": "code",
   "execution_count": null,
   "id": "1f043eaf",
   "metadata": {},
   "outputs": [],
   "source": [
    "#| export\n",
    "class StepsT(VEnum):\n",
    "    \"Options for Steps\"\n",
    "    def _generate_next_value_(name, start, count, last_values): return f'steps-{name}'\n",
    "    vertical = auto()\n",
    "    horizonal = auto()"
   ]
  },
  {
   "cell_type": "code",
   "execution_count": null,
   "id": "c37ed9f9",
   "metadata": {},
   "outputs": [],
   "source": [
    "#| export \n",
    "class StepT(VEnum):\n",
    "    'Step styles for LiStep'\n",
    "    def _generate_next_value_(name, start, count, last_values): return f'step-{name}'\n",
    "    primary = auto()\n",
    "    secondary = auto()\n",
    "    accent = auto() \n",
    "    info = auto()\n",
    "    success = auto()\n",
    "    warning = auto()\n",
    "    error = auto()\n",
    "    neutral = auto()"
   ]
  },
  {
   "cell_type": "code",
   "execution_count": null,
   "id": "21a7d741",
   "metadata": {},
   "outputs": [],
   "source": [
    "#| export\n",
    "def Steps(*li, cls='', **kwargs):\n",
    "    \"Creates a steps container with horizontal scrolling\"\n",
    "    return Ul(*li, cls=('steps',stringify(cls)), **kwargs)\n",
    "\n",
    "def LiStep(*c, cls='', **kwargs):\n",
    "    \"Creates a step list item with optional styling\"\n",
    "    \"\"\"<li data-content=\"?\" class=\"step step-neutral\">Step 1</li>\"\"\"\n",
    "    return Li(*c, cls=('step', stringify(cls)), **kwargs)"
   ]
  },
  {
   "cell_type": "markdown",
   "id": "28b13d70",
   "metadata": {},
   "source": [
    "To create a list of steps in a process:"
   ]
  },
  {
   "cell_type": "code",
   "execution_count": null,
   "id": "6b89e2ef",
   "metadata": {},
   "outputs": [
    {
     "data": {
      "text/markdown": [
       "```html\n",
       "<ul class=\"steps \">\n",
       "  <li class=\"step primary\">Register</li>\n",
       "  <li class=\"step primary\">Choose Plan</li>\n",
       "  <li class=\"step \">Purchase</li>\n",
       "  <li class=\"step \">Receive Product</li>\n",
       "</ul>\n",
       "\n",
       "```"
      ],
      "text/plain": [
       "ul((li(('Register',),{'class': 'step primary'}), li(('Choose Plan',),{'class': 'step primary'}), li(('Purchase',),{'class': 'step '}), li(('Receive Product',),{'class': 'step '})),{'class': 'steps '})"
      ]
     },
     "execution_count": null,
     "metadata": {},
     "output_type": "execute_result"
    }
   ],
   "source": [
    "Steps(\n",
    "    *[LiStep(o, cls=\"primary\") for o in (\"Register\", \"Choose Plan\")],\n",
    "    *[LiStep(o) for o in (\"Purchase\", \"Receive Product\")]\n",
    ")"
   ]
  },
  {
   "cell_type": "markdown",
   "id": "ff7822be",
   "metadata": {},
   "source": [
    "# Loading"
   ]
  },
  {
   "cell_type": "code",
   "execution_count": null,
   "id": "5e8838cf",
   "metadata": {},
   "outputs": [],
   "source": [
    "#| export\n",
    "class LoadingT(VEnum):\n",
    "    def _generate_next_value_(name, start, count, last_values): return f'loading-{name}'\n",
    "    spinner = auto()\n",
    "    dots = auto()\n",
    "    ring = auto()\n",
    "    ball = auto()\n",
    "    bars = auto()\n",
    "    infinity = auto()\n",
    "    \n",
    "    xs = auto()\n",
    "    sm = auto()\n",
    "    md = auto()\n",
    "    lg = auto()"
   ]
  },
  {
   "cell_type": "code",
   "execution_count": null,
   "id": "5cae0e75",
   "metadata": {},
   "outputs": [],
   "source": [
    "#| export\n",
    "def Loading(cls=(LoadingT.bars, LoadingT.lg), **kwargs):\n",
    "    \"Creates a loading animation component\"\n",
    "    return Span(cls=('loading', stringify(cls)), **kwargs)"
   ]
  },
  {
   "cell_type": "markdown",
   "id": "a7680d3b",
   "metadata": {},
   "source": [
    "## Toasts"
   ]
  },
  {
   "cell_type": "code",
   "execution_count": null,
   "id": "a2c99d2e",
   "metadata": {},
   "outputs": [],
   "source": [
    "#| export\n",
    "class ToastHT(VEnum):\n",
    "    \"Horizontal position for Toast\"\n",
    "    def _generate_next_value_(name, start, count, last_values): return f'toast-{name}'\n",
    "    start = auto()\n",
    "    center = auto()\n",
    "    end = auto()\n",
    "\n",
    "class ToastVT(VEnum):\n",
    "    \"Vertical position for Toast\"\n",
    "    def _generate_next_value_(name, start, count, last_values): return f'toast-{name}'\n",
    "    top = auto()\n",
    "    middle = auto()\n",
    "    bottom = auto()"
   ]
  },
  {
   "cell_type": "code",
   "execution_count": null,
   "id": "c57bac21",
   "metadata": {},
   "outputs": [],
   "source": [
    "#| export\n",
    "def Toast(*c, cls='', alert_cls='', **kwargs):\n",
    "    \"Toasts are stacked announcements, positioned on the corner of page.\"\n",
    "    a = Alert(*c, cls=alert_cls)\n",
    "    return Div(a, cls=('toast', stringify(cls)), **kwargs)"
   ]
  },
  {
   "cell_type": "markdown",
   "id": "2ef57fd9",
   "metadata": {},
   "source": [
    "To define a toast with a particular location, add horizontal or vertical toast type classes:"
   ]
  },
  {
   "cell_type": "code",
   "execution_count": null,
   "id": "3747ef4b",
   "metadata": {},
   "outputs": [
    {
     "data": {
      "text/markdown": [
       "```html\n",
       "<div class=\"toast toast-start toast-middle\">\n",
       "  <div class=\"alert \" role=\"alert\">\n",
       "<span>New message arrived.</span>  </div>\n",
       "</div>\n",
       "\n",
       "```"
      ],
      "text/plain": [
       "div((div((span(('New message arrived.', ''),{}),),{'class': 'alert ', 'role': 'alert'}),),{'class': 'toast toast-start toast-middle'})"
      ]
     },
     "execution_count": null,
     "metadata": {},
     "output_type": "execute_result"
    }
   ],
   "source": [
    "Toast(\"New message arrived.\", cls=(ToastHT.start, ToastVT.middle))"
   ]
  },
  {
   "cell_type": "markdown",
   "id": "cdbac191",
   "metadata": {},
   "source": [
    "To define toast colors, set the class of the alert wrapped by the toast:"
   ]
  },
  {
   "cell_type": "code",
   "execution_count": null,
   "id": "824df9df",
   "metadata": {},
   "outputs": [
    {
     "data": {
      "text/markdown": [
       "```html\n",
       "<div class=\"toast \">\n",
       "  <div class=\"alert alert-info\" role=\"alert\">\n",
       "<span>New message arrived.</span>  </div>\n",
       "</div>\n",
       "\n",
       "```"
      ],
      "text/plain": [
       "div((div((span(('New message arrived.',),{}),),{'class': 'alert alert-info', 'role': 'alert'}),),{'class': 'toast '})"
      ]
     },
     "execution_count": null,
     "metadata": {},
     "output_type": "execute_result"
    }
   ],
   "source": [
    "Toast(\"New message arrived.\", alert_cls=AlertT.info)"
   ]
  },
  {
   "cell_type": "code",
   "execution_count": null,
   "id": "1523f5e2",
   "metadata": {},
   "outputs": [],
   "source": [
    "#| hide\n",
    "import nbdev; nbdev.nbdev_export()"
   ]
  }
 ],
 "metadata": {
  "kernelspec": {
   "display_name": "python3",
   "language": "python",
   "name": "python3"
  }
 },
 "nbformat": 4,
 "nbformat_minor": 5
}
