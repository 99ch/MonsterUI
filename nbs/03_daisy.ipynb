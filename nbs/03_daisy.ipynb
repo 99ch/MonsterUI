{
 "cells": [
  {
   "cell_type": "code",
   "execution_count": null,
   "id": "b92b386d",
   "metadata": {},
   "outputs": [],
   "source": [
    "import fasthtml.common as fh\n",
    "from fastcore.all import *\n",
    "\n",
    "from monsterui.foundations import *"
   ]
  },
  {
   "cell_type": "code",
   "execution_count": null,
   "id": "bdf24a5f",
   "metadata": {},
   "outputs": [],
   "source": [
    "<div class=\"overflow-x-auto\">\n",
    "  <ul class=\"steps\">\n",
    "    <li class=\"step\">start</li>\n",
    "    <li class=\"step step-secondary\">2</li>\n",
    "    <li class=\"step step-secondary\">3</li>\n",
    "    <li class=\"step step-secondary\">4</li>\n",
    "    <li class=\"step\">5</li>\n",
    "    <li class=\"step step-accent\">6</li>\n",
    "    <li class=\"step step-accent\">7</li>\n",
    "    <li class=\"step\">8</li>\n",
    "    <li class=\"step step-error\">9</li>\n",
    "    <li class=\"step step-error\">10</li>\n",
    "    <li class=\"step\">11</li>\n",
    "    <li class=\"step\">12</li>\n",
    "    <li class=\"step step-warning\">13</li>\n",
    "    <li class=\"step step-warning\">14</li>\n",
    "    <li class=\"step\">15</li>\n",
    "    <li class=\"step step-neutral\">16</li>\n",
    "    <li class=\"step step-neutral\">17</li>\n",
    "    <li class=\"step step-neutral\">18</li>\n",
    "    <li class=\"step step-neutral\">19</li>\n",
    "    <li class=\"step step-neutral\">20</li>\n",
    "    <li class=\"step step-neutral\">21</li>\n",
    "    <li class=\"step step-neutral\">22</li>\n",
    "    <li class=\"step step-neutral\">23</li>\n",
    "    <li class=\"step step-neutral\">end</li>\n",
    "  </ul>\n",
    "</div>"
   ]
  },
  {
   "cell_type": "code",
   "execution_count": null,
   "id": "428ef6c2",
   "metadata": {},
   "outputs": [],
   "source": [
    "def StepsContainer():\n",
    "\n",
    "\n",
    "def StepLi:\n",
    "    "
   ]
  }
 ],
 "metadata": {
  "kernelspec": {
   "display_name": "python3",
   "language": "python",
   "name": "python3"
  }
 },
 "nbformat": 4,
 "nbformat_minor": 5
}
