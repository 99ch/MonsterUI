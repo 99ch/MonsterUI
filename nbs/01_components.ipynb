{
 "cells": [
  {
   "cell_type": "markdown",
   "metadata": {},
   "source": [
    "# Components\n",
    "\n",
    "> Components that are the building blocks to the UI"
   ]
  },
  {
   "cell_type": "markdown",
   "metadata": {},
   "source": [
    "## Imports"
   ]
  },
  {
   "cell_type": "markdown",
   "metadata": {},
   "source": [
    "\n"
   ]
  },
  {
   "cell_type": "code",
   "execution_count": 1,
   "metadata": {},
   "outputs": [],
   "source": [
    "#| default_exp components"
   ]
  },
  {
   "cell_type": "code",
   "execution_count": 2,
   "metadata": {},
   "outputs": [],
   "source": [
    "#| hide\n",
    "#| export\n",
    "from fasthtml.common import *\n",
    "from fasthtml.svg import Svg\n",
    "from enum import Enum, EnumType\n",
    "from fasthtml.components import Uk_select,Uk_input_tag\n",
    "from functools import partial"
   ]
  },
  {
   "cell_type": "code",
   "execution_count": 3,
   "metadata": {},
   "outputs": [],
   "source": [
    "from nbdev.showdoc import show_doc\n",
    "from IPython.display import HTML"
   ]
  },
  {
   "cell_type": "markdown",
   "metadata": {},
   "source": [
    "## Utils"
   ]
  },
  {
   "cell_type": "markdown",
   "metadata": {
    "heading_collapsed": true
   },
   "source": [
    "### Tests"
   ]
  },
  {
   "cell_type": "code",
   "execution_count": 4,
   "metadata": {
    "hidden": true
   },
   "outputs": [],
   "source": [
    "from fastcore.test import *"
   ]
  },
  {
   "cell_type": "code",
   "execution_count": 5,
   "metadata": {
    "hidden": true
   },
   "outputs": [],
   "source": [
    "def test_xml_eq(a, b):\n",
    "    \"Tests if if 2 FT components generate the same xml\"\n",
    "    test_eq(*map(lambda x: x if isinstance(x,str) else to_xml(x), (a, b)))"
   ]
  },
  {
   "cell_type": "markdown",
   "metadata": {
    "heading_collapsed": true
   },
   "source": [
    "### Other"
   ]
  },
  {
   "cell_type": "code",
   "execution_count": 109,
   "metadata": {
    "hidden": true
   },
   "outputs": [],
   "source": [
    "#| export\n",
    "# need a better name, stringify might be too general for what it does \n",
    "def stringify(o # String, Tuple, or Enum options we want stringified\n",
    "             ): # String that can be passed FT comp args (such as `cls=`)\n",
    "    \"Converts input types into strings that can be passed to FT components\"  \n",
    "    if is_listy(o): return ' '.join(map(str,o)) if o else \"\"\n",
    "    return o.__str__()"
   ]
  },
  {
   "cell_type": "code",
   "execution_count": 107,
   "metadata": {
    "hidden": true
   },
   "outputs": [
    {
     "data": {
      "text/markdown": [
       "---\n",
       "\n",
       "[source](https://github.com/Isaac-Flath/fh-frankenui/blob/main/fh_frankenui/components.py#L18){target=\"_blank\" style=\"float:right; font-size:smaller\"}\n",
       "\n",
       "### stringify\n",
       "\n",
       ">      stringify (o)\n",
       "\n",
       "*Converts input types into strings that can be passed to FT components*\n",
       "\n",
       "|    | **Details** |\n",
       "| -- | ----------- |\n",
       "| o | String, Tuple, or Enum options we want stringified |"
      ],
      "text/plain": [
       "---\n",
       "\n",
       "[source](https://github.com/Isaac-Flath/fh-frankenui/blob/main/fh_frankenui/components.py#L18){target=\"_blank\" style=\"float:right; font-size:smaller\"}\n",
       "\n",
       "### stringify\n",
       "\n",
       ">      stringify (o)\n",
       "\n",
       "*Converts input types into strings that can be passed to FT components*\n",
       "\n",
       "|    | **Details** |\n",
       "| -- | ----------- |\n",
       "| o | String, Tuple, or Enum options we want stringified |"
      ]
     },
     "execution_count": 107,
     "metadata": {},
     "output_type": "execute_result"
    }
   ],
   "source": [
    "show_doc(stringify)"
   ]
  },
  {
   "cell_type": "code",
   "execution_count": 7,
   "metadata": {
    "hidden": true
   },
   "outputs": [],
   "source": [
    "assert stringify('abc') == 'abc'\n",
    "assert stringify(('abc','def')) == 'abc def'\n",
    "assert 'uk-input ' + stringify(()) == 'uk-input '\n",
    "assert 'uk-input ' + stringify(\"\") == 'uk-input '"
   ]
  },
  {
   "cell_type": "code",
   "execution_count": 8,
   "metadata": {
    "hidden": true
   },
   "outputs": [],
   "source": [
    "#| export\n",
    "class VEnum(Enum):\n",
    "    def __add__(self, other):\n",
    "        \"Add other enums, listy, or strings\"\n",
    "        return stringify((self, other))\n",
    "\n",
    "    def __radd__(self, other):\n",
    "        \"Add other enums, listy, or strings\"\n",
    "        return stringify((other, self))\n",
    "    \n",
    "    def __str__(self):\n",
    "        \"Stringifies with uk-{attr}-{value} format\"\n",
    "        base = self.__class__.__name__       \n",
    "        if isinstance(self.__class__, EnumType):\n",
    "            base = base.lstrip('Uk').rstrip('T')\n",
    "        return f\"uk-{base.lower()}-{self.value}\".strip('-')"
   ]
  },
  {
   "cell_type": "markdown",
   "metadata": {},
   "source": [
    "## Enums"
   ]
  },
  {
   "cell_type": "markdown",
   "metadata": {
    "heading_collapsed": true
   },
   "source": [
    "### Theme"
   ]
  },
  {
   "cell_type": "markdown",
   "metadata": {
    "hidden": true
   },
   "source": [
    "You can select a theme color to and get all the headers.  This brings in the most standard grouping:\n",
    "+ Tailwind: Optional, but typically FrankenUI is used in conjunction with tailwind\n",
    "+ Uikit: Many things are styled with uikit\n",
    "+ UIkit icons: Gives many icons OOTB, and is nice to have handy.\n",
    "+ Franken WC: Neccesarry for some of the (minimal) interactivity components have"
   ]
  },
  {
   "cell_type": "code",
   "execution_count": 9,
   "metadata": {
    "hidden": true
   },
   "outputs": [],
   "source": [
    "#| export\n",
    "class Theme(Enum):\n",
    "    slate = \"slate\"\n",
    "    stone = \"stone\"\n",
    "    gray = \"gray\"\n",
    "    neutral = \"neutral\"\n",
    "    red = \"red\"\n",
    "    rose = \"rose\"\n",
    "    orange = \"orange\"\n",
    "    green = \"green\"\n",
    "    blue = \"blue\"\n",
    "    yellow = \"yellow\"\n",
    "    violet = \"violet\"\n",
    "    zinc = \"zinc\"\n",
    "\n",
    "    def headers(self):\n",
    "        js = (Script(src=\"https://cdn.tailwindcss.com\"),\n",
    "              Script(src=\"https://cdn.jsdelivr.net/npm/uikit@3.21.6/dist/js/uikit.min.js\"),\n",
    "              Script(src=\"https://cdn.jsdelivr.net/npm/uikit@3.21.6/dist/js/uikit-icons.min.js\"),\n",
    "              Script(type=\"module\", src=\"https://unpkg.com/franken-wc@0.0.6/dist/js/wc.iife.js\")\n",
    "              )\n",
    "        _url = f\"https://unpkg.com/franken-wc@0.0.6/dist/css/{self.value}.min.css\"\n",
    "        return (*js, Link(rel=\"stylesheet\", href=_url))"
   ]
  },
  {
   "cell_type": "code",
   "execution_count": 121,
   "metadata": {
    "hidden": true,
    "scrolled": true
   },
   "outputs": [
    {
     "data": {
      "text/plain": [
       "(script(('',),{'src': 'https://cdn.tailwindcss.com'}),\n",
       " script(('',),{'src': 'https://cdn.jsdelivr.net/npm/uikit@3.21.6/dist/js/uikit.min.js'}),\n",
       " script(('',),{'src': 'https://cdn.jsdelivr.net/npm/uikit@3.21.6/dist/js/uikit-icons.min.js'}),\n",
       " script(('',),{'type': 'module', 'src': 'https://unpkg.com/franken-wc@0.0.6/dist/js/wc.iife.js'}),\n",
       " link((),{'rel': 'stylesheet', 'href': 'https://unpkg.com/franken-wc@0.0.6/dist/css/blue.min.css'}))"
      ]
     },
     "execution_count": 121,
     "metadata": {},
     "output_type": "execute_result"
    }
   ],
   "source": [
    "hdrs = Theme.blue.headers()\n",
    "app = FastHTML(hdrs=hdrs)\n",
    "hdrs"
   ]
  },
  {
   "cell_type": "markdown",
   "metadata": {},
   "source": [
    "### Style"
   ]
  },
  {
   "cell_type": "markdown",
   "metadata": {
    "heading_collapsed": true
   },
   "source": [
    "#### `B` (Base)"
   ]
  },
  {
   "cell_type": "markdown",
   "metadata": {
    "hidden": true
   },
   "source": [
    "Base enums all will end with `B`.  These are designed to make classes discoverable in python.  These should be generally a 1:1 mapping to a class.\n",
    "\n",
    "These are the lowest level class selection options without dropping into strings.  We don't need to cover everything, but we want most useful things in here."
   ]
  },
  {
   "cell_type": "code",
   "execution_count": 11,
   "metadata": {
    "hidden": true
   },
   "outputs": [],
   "source": [
    "#| export\n",
    "class TextB(Enum):\n",
    "    sz_xsmall = 'text-xs'\n",
    "    sz_small = 'text-sm'\n",
    "    sz_medium = 'text-base'\n",
    "    sz_large = 'text-lg'\n",
    "    cl_muted = 'uk-text-muted'\n",
    "    \n",
    "    wt_light = 'font-light'\n",
    "    wt_normal = 'font-normal'\n",
    "    wt_medium = 'font-medium'\n",
    "    wt_bold = 'font-bold'\n",
    "# font-thin\tfont-weight: 100;\n",
    "# font-extralight\tfont-weight: 200;\n",
    "# font-light\tfont-weight: 300;\n",
    "# font-normal\tfont-weight: 400;\n",
    "# \n",
    "# font-semibold\tfont-weight: 600;\n",
    "# font-bold\tfont-weight: 700;\n",
    "# font-extrabold\tfont-weight: 800;\n",
    "# font-black    \n",
    "    \n",
    "    \n",
    "# font-medium text-sm\n",
    "    def __str__(self):\n",
    "        return self.value"
   ]
  },
  {
   "cell_type": "markdown",
   "metadata": {
    "heading_collapsed": true
   },
   "source": [
    "### `T` (Transform)"
   ]
  },
  {
   "cell_type": "markdown",
   "metadata": {
    "hidden": true
   },
   "source": [
    "Transform enums all will end with `T`.  These are designed to make useful class groups discoverable in python.\n",
    "\n",
    "Each option should be a group of enums that are useful in many cases.  For example `muted_sm` is very commonly used as a subheader below a card title and looks great.  These should be high level things that users can generally just pick from to have a decent default without much thought."
   ]
  },
  {
   "cell_type": "code",
   "execution_count": 12,
   "metadata": {
    "hidden": true
   },
   "outputs": [],
   "source": [
    "#| export\n",
    "class TextT(Enum):\n",
    "    muted_xs = TextB.sz_xsmall, TextB.cl_muted \n",
    "    muted_sm = TextB.sz_small, TextB.cl_muted # Text below card headings\n",
    "    muted_med = TextB.sz_medium, TextB.cl_muted \n",
    "    muted_lg = TextB.sz_large, TextB.cl_muted \n",
    "    medium_sm = TextB.sz_small, TextB.wt_medium\n",
    "    medium_xs = TextB.sz_xsmall, TextB.wt_medium\n",
    "\n",
    "    def __str__(self):\n",
    "        if is_listy(self.value): return ' '.join(map(str,self.value))\n",
    "        return self.value"
   ]
  },
  {
   "cell_type": "code",
   "execution_count": 63,
   "metadata": {
    "hidden": true
   },
   "outputs": [
    {
     "data": {
      "text/plain": [
       "<enum 'TextT'>"
      ]
     },
     "execution_count": 63,
     "metadata": {},
     "output_type": "execute_result"
    }
   ],
   "source": [
    "type(TextT.muted_sm)"
   ]
  },
  {
   "cell_type": "markdown",
   "metadata": {},
   "source": [
    "## Base Components"
   ]
  },
  {
   "cell_type": "markdown",
   "metadata": {},
   "source": [
    "### Inputs"
   ]
  },
  {
   "cell_type": "code",
   "execution_count": 90,
   "metadata": {},
   "outputs": [],
   "source": [
    "#| export\n",
    "from typing import Union, Tuple, Optional\n",
    "from fastcore.all import L\n",
    "# from fasthtml.common import FT\n",
    "\n",
    "def UkGenericInput(input_fn: FT, # FT Components that generates a user input (e.g. `TextArea`)\n",
    "                    label:str|FT=(), # String or FT component that goes in `Label`\n",
    "                    lbl_cls:str|Enum=(), # Additional classes that goes in `Label`\n",
    "                    inp_cls:str|Enum=(), # Additional classes that go in user input (e.g. `TextArea`)\n",
    "                    cls:str|Enum=('space-y-2',), # Div cls\n",
    "                    id: str=\"\", # ID of the user input (e.g. `TextArea`)\n",
    "                   **kwargs # Passed to `input_fn` (e.g. ` TextArea`)\n",
    "                  ) -> FT: # FT component in structure `(Div(label,input))`\n",
    "    \"`Div(Label,Input)` component with Uk styling injected appropriately. Generally you should higher level API, such as `UKTextArea` which is created for you in this library\"\n",
    "    lbl_cls, inp_cls, cls = map(stringify,(lbl_cls, inp_cls, cls))\n",
    "    if label: \n",
    "        label = Label(cls='uk-form-label '+lbl_cls)(label)\n",
    "        if id: label.attrs['for'] = id\n",
    "    res = input_fn(**kwargs)\n",
    "    if inp_cls: res.attrs['class'] += inp_cls\n",
    "    if id: res.id = id\n",
    "    return Div(cls=cls)(label, res)"
   ]
  },
  {
   "cell_type": "code",
   "execution_count": 91,
   "metadata": {
    "scrolled": false
   },
   "outputs": [
    {
     "data": {
      "text/markdown": [
       "---\n",
       "\n",
       "[source](https://github.com/Isaac-Flath/fh-frankenui/blob/main/fh_frankenui/components.py#L102){target=\"_blank\" style=\"float:right; font-size:smaller\"}\n",
       "\n",
       "### UkGenericInput\n",
       "\n",
       ">      UkGenericInput (input_fn:fastcore.xml.FT, label:str|fastcore.xml.FT=(),\n",
       ">                      lbl_cls:str|enum.Enum=(), inp_cls:str|enum.Enum=(),\n",
       ">                      cls:str|enum.Enum=('space-y-2',), id:str='', **kwargs)\n",
       "\n",
       "*`Div(Label,Input)` component with Uk styling injected appropriately. Generally you should higher level API, such as `UKTextArea` which is created for you in this library*\n",
       "\n",
       "|    | **Type** | **Default** | **Details** |\n",
       "| -- | -------- | ----------- | ----------- |\n",
       "| input_fn | FT |  | FT Components that generates a user input (e.g. `TextArea`) |\n",
       "| label | str \\| fastcore.xml.FT | () | String or FT component that goes in `Label` |\n",
       "| lbl_cls | str \\| enum.Enum | () | Additional classes that goes in `Label` |\n",
       "| inp_cls | str \\| enum.Enum | () | Additional classes that go in user input (e.g. `TextArea`) |\n",
       "| cls | str \\| enum.Enum | ('space-y-2',) | Div cls |\n",
       "| id | str |  | ID of the user input (e.g. `TextArea`) |\n",
       "| kwargs |  |  |  |\n",
       "| **Returns** | **FT** |  | **FT component in structure `(Div(label,input))`** |"
      ],
      "text/plain": [
       "---\n",
       "\n",
       "[source](https://github.com/Isaac-Flath/fh-frankenui/blob/main/fh_frankenui/components.py#L102){target=\"_blank\" style=\"float:right; font-size:smaller\"}\n",
       "\n",
       "### UkGenericInput\n",
       "\n",
       ">      UkGenericInput (input_fn:fastcore.xml.FT, label:str|fastcore.xml.FT=(),\n",
       ">                      lbl_cls:str|enum.Enum=(), inp_cls:str|enum.Enum=(),\n",
       ">                      cls:str|enum.Enum=('space-y-2',), id:str='', **kwargs)\n",
       "\n",
       "*`Div(Label,Input)` component with Uk styling injected appropriately. Generally you should higher level API, such as `UKTextArea` which is created for you in this library*\n",
       "\n",
       "|    | **Type** | **Default** | **Details** |\n",
       "| -- | -------- | ----------- | ----------- |\n",
       "| input_fn | FT |  | FT Components that generates a user input (e.g. `TextArea`) |\n",
       "| label | str \\| fastcore.xml.FT | () | String or FT component that goes in `Label` |\n",
       "| lbl_cls | str \\| enum.Enum | () | Additional classes that goes in `Label` |\n",
       "| inp_cls | str \\| enum.Enum | () | Additional classes that go in user input (e.g. `TextArea`) |\n",
       "| cls | str \\| enum.Enum | ('space-y-2',) | Div cls |\n",
       "| id | str |  | ID of the user input (e.g. `TextArea`) |\n",
       "| kwargs |  |  |  |\n",
       "| **Returns** | **FT** |  | **FT component in structure `(Div(label,input))`** |"
      ]
     },
     "execution_count": 91,
     "metadata": {},
     "output_type": "execute_result"
    }
   ],
   "source": [
    "show_doc(UkGenericInput)"
   ]
  },
  {
   "cell_type": "code",
   "execution_count": 92,
   "metadata": {},
   "outputs": [],
   "source": [
    "#| export\n",
    "UkInput =     partial(UkGenericInput, partial(Input, cls='uk-input'))\n",
    "UkSwitch =    partial(UkGenericInput, partial(CheckboxX,    cls='uk-toggle-switch uk-toggle-switch-primary')) \n",
    "UkTextArea =  partial(UkGenericInput, partial(Textarea,     cls='uk-textarea'))\n",
    "UkFormLabel = partial(UkGenericInput, partial(Uk_input_tag, cls='uk-form-label'))\n"
   ]
  },
  {
   "cell_type": "code",
   "execution_count": 97,
   "metadata": {
    "scrolled": true
   },
   "outputs": [
    {
     "data": {
      "text/markdown": [
       "---\n",
       "\n",
       "#### partial(<function ft_hx at 0x12ef8ed40>, 'input', cls='uk-input'))\n",
       "\n",
       ">      partial(<function ft_hx at 0x12ef8ed40>, 'input', cls='uk-input'))\n",
       ">              (label:str|fastcore.xml.FT=(), lbl_cls:str|enum.Enum=(),\n",
       ">              inp_cls:str|enum.Enum=(), cls:str|enum.Enum=('space-y-2',),\n",
       ">              id:str='', **kwargs)\n",
       "\n",
       "*partial(func, *args, **keywords) - new function with partial application\n",
       "of the given arguments and keywords.*"
      ],
      "text/plain": [
       "---\n",
       "\n",
       "#### partial(<function ft_hx at 0x12ef8ed40>, 'input', cls='uk-input'))\n",
       "\n",
       ">      partial(<function ft_hx at 0x12ef8ed40>, 'input', cls='uk-input'))\n",
       ">              (label:str|fastcore.xml.FT=(), lbl_cls:str|enum.Enum=(),\n",
       ">              inp_cls:str|enum.Enum=(), cls:str|enum.Enum=('space-y-2',),\n",
       ">              id:str='', **kwargs)\n",
       "\n",
       "*partial(func, *args, **keywords) - new function with partial application\n",
       "of the given arguments and keywords.*"
      ]
     },
     "execution_count": 97,
     "metadata": {},
     "output_type": "execute_result"
    }
   ],
   "source": [
    "show_doc(UkInput,title_level=4)"
   ]
  },
  {
   "cell_type": "code",
   "execution_count": 102,
   "metadata": {},
   "outputs": [
    {
     "data": {
      "text/markdown": [
       "```html\n",
       "<div class=\"space-y-2\">\n",
       "<label class=\"uk-form-label text-sm uk-text-muted\" for=\"myid\">MyLabel</label>  <input class=\"uk-inputfont-bold\" id=\"myid\">\n",
       "</div>\n",
       "\n",
       "```"
      ],
      "text/plain": [
       "div((label(('MyLabel',),{'class': 'uk-form-label text-sm uk-text-muted', 'for': 'myid'}), input((),{'class': 'uk-inputfont-bold', 'id': 'myid'})),{'class': 'space-y-2'})"
      ]
     },
     "execution_count": 102,
     "metadata": {},
     "output_type": "execute_result"
    }
   ],
   "source": [
    "UkInput(\"MyLabel\",lbl_cls=TextT.muted_sm, inp_cls='font-bold',  id='myid')"
   ]
  },
  {
   "cell_type": "code",
   "execution_count": 98,
   "metadata": {},
   "outputs": [
    {
     "data": {
      "text/markdown": [
       "---\n",
       "\n",
       "#### partial(<function CheckboxX at 0x12ef8f6a0>, cls='uk-toggle-switch uk-toggle-switch-primary'))\n",
       "\n",
       ">      partial(<function CheckboxX at 0x12ef8f6a0>, cls='uk-toggle-switch uk-\n",
       ">              toggle-switch-primary')) (label=(), lbl_cls=(), inp_cls=(),\n",
       ">              cls=('space-y-2',), id='', **kwargs)\n",
       "\n",
       "*partial(func, *args, **keywords) - new function with partial application\n",
       "of the given arguments and keywords.*"
      ],
      "text/plain": [
       "---\n",
       "\n",
       "#### partial(<function CheckboxX at 0x12ef8f6a0>, cls='uk-toggle-switch uk-toggle-switch-primary'))\n",
       "\n",
       ">      partial(<function CheckboxX at 0x12ef8f6a0>, cls='uk-toggle-switch uk-\n",
       ">              toggle-switch-primary')) (label=(), lbl_cls=(), inp_cls=(),\n",
       ">              cls=('space-y-2',), id='', **kwargs)\n",
       "\n",
       "*partial(func, *args, **keywords) - new function with partial application\n",
       "of the given arguments and keywords.*"
      ]
     },
     "execution_count": 98,
     "metadata": {},
     "output_type": "execute_result"
    }
   ],
   "source": [
    "show_doc(UkSwitch,title_level=4)"
   ]
  },
  {
   "cell_type": "code",
   "execution_count": 99,
   "metadata": {},
   "outputs": [
    {
     "data": {
      "text/markdown": [
       "---\n",
       "\n",
       "#### partial(<function ft_hx at 0x12ef8ed40>, 'textarea', cls='uk-textarea'))\n",
       "\n",
       ">      partial(<function ft_hx at 0x12ef8ed40>, 'textarea', cls='uk-textarea'))\n",
       ">              (label=(), lbl_cls=(), inp_cls=(), cls=('space-y-2',), id='',\n",
       ">              **kwargs)\n",
       "\n",
       "*partial(func, *args, **keywords) - new function with partial application\n",
       "of the given arguments and keywords.*"
      ],
      "text/plain": [
       "---\n",
       "\n",
       "#### partial(<function ft_hx at 0x12ef8ed40>, 'textarea', cls='uk-textarea'))\n",
       "\n",
       ">      partial(<function ft_hx at 0x12ef8ed40>, 'textarea', cls='uk-textarea'))\n",
       ">              (label=(), lbl_cls=(), inp_cls=(), cls=('space-y-2',), id='',\n",
       ">              **kwargs)\n",
       "\n",
       "*partial(func, *args, **keywords) - new function with partial application\n",
       "of the given arguments and keywords.*"
      ]
     },
     "execution_count": 99,
     "metadata": {},
     "output_type": "execute_result"
    }
   ],
   "source": [
    "show_doc(UkTextArea,title_level=4)"
   ]
  },
  {
   "cell_type": "code",
   "execution_count": 100,
   "metadata": {},
   "outputs": [
    {
     "data": {
      "text/markdown": [
       "---\n",
       "\n",
       "#### _f at 0x12ef825c0>, cls='uk-form-label'))\n",
       "\n",
       ">      _f at 0x12ef825c0>, cls='uk-form-label')) (label=(), lbl_cls=(),\n",
       ">                                                 inp_cls=(),\n",
       ">                                                 cls=('space-y-2',), id='',\n",
       ">                                                 **kwargs)\n",
       "\n",
       "*partial(func, *args, **keywords) - new function with partial application\n",
       "of the given arguments and keywords.*"
      ],
      "text/plain": [
       "---\n",
       "\n",
       "#### _f at 0x12ef825c0>, cls='uk-form-label'))\n",
       "\n",
       ">      _f at 0x12ef825c0>, cls='uk-form-label')) (label=(), lbl_cls=(),\n",
       ">                                                 inp_cls=(),\n",
       ">                                                 cls=('space-y-2',), id='',\n",
       ">                                                 **kwargs)\n",
       "\n",
       "*partial(func, *args, **keywords) - new function with partial application\n",
       "of the given arguments and keywords.*"
      ]
     },
     "execution_count": 100,
     "metadata": {},
     "output_type": "execute_result"
    }
   ],
   "source": [
    "show_doc(UkFormLabel,title_level=4)"
   ]
  },
  {
   "cell_type": "code",
   "execution_count": 122,
   "metadata": {},
   "outputs": [],
   "source": [
    "#| export\n",
    "def Options(*c, # Content for an `Option`\n",
    "            selected_idx=None # Index location of selected `Option`\n",
    "           ):\n",
    "    \"Generates list of `Option`s with the proper `selected_idx`\"\n",
    "    return [Option(o,selected=i==selected_idx) for i,o in enumerate(c)]"
   ]
  },
  {
   "cell_type": "code",
   "execution_count": 123,
   "metadata": {},
   "outputs": [
    {
     "data": {
      "text/markdown": [
       "---\n",
       "\n",
       "[source](https://github.com/Isaac-Flath/fh-frankenui/blob/main/fh_frankenui/components.py#L124){target=\"_blank\" style=\"float:right; font-size:smaller\"}\n",
       "\n",
       "### Options\n",
       "\n",
       ">      Options (*c, selected_idx=None)\n",
       "\n",
       "*Generates list of `Option`s with the proper `selected_idx`*"
      ],
      "text/plain": [
       "---\n",
       "\n",
       "[source](https://github.com/Isaac-Flath/fh-frankenui/blob/main/fh_frankenui/components.py#L124){target=\"_blank\" style=\"float:right; font-size:smaller\"}\n",
       "\n",
       "### Options\n",
       "\n",
       ">      Options (*c, selected_idx=None)\n",
       "\n",
       "*Generates list of `Option`s with the proper `selected_idx`*"
      ]
     },
     "execution_count": 123,
     "metadata": {},
     "output_type": "execute_result"
    }
   ],
   "source": [
    "show_doc(Options)"
   ]
  },
  {
   "cell_type": "code",
   "execution_count": 124,
   "metadata": {},
   "outputs": [
    {
     "data": {
      "text/plain": [
       "[option(('1',),{'selected': False}),\n",
       " option((p(('2',),{}),),{'selected': True}),\n",
       " option((h1(('3',),{}),),{'selected': False})]"
      ]
     },
     "execution_count": 124,
     "metadata": {},
     "output_type": "execute_result"
    }
   ],
   "source": [
    "_opts = Options('1',P('2'),H1('3'),selected_idx=1)\n",
    "_opts"
   ]
  },
  {
   "cell_type": "code",
   "execution_count": 125,
   "metadata": {},
   "outputs": [],
   "source": [
    "#| export\n",
    "def UkSelect(*c, # `Option` with content ready to be used,\n",
    "            label=(), # String or FT component that goes in `Label`\n",
    "            lbl_cls=(), # Additional classes that goes in `Label`\n",
    "            inp_cls=(), # Additional classes that go in `Uk_select`\n",
    "            cls=('space-y-2',), # Div cls\n",
    "            id=\"\", # ID of the `Uk_select`\n",
    "            **kwargs # Passed to `Uk_select`\n",
    "            ): # FT component in structure `(Div(label,`Uk_select`))`\n",
    "    \"`Div(Label,Uk_select)` component with Uk styling injected appropriately.\"\n",
    "    lbl_cls, inp_cls, cls = map(stringify,(lbl_cls, inp_cls, cls))\n",
    "    if label:\n",
    "        label = Label(cls='uk-form-label' + lbl_cls)(label)\n",
    "        if id: label.fr = id\n",
    "    res = Uk_select(cls=inp_cls, uk_cloak=True, **kwargs)(*c)\n",
    "    if id: res.id = id\n",
    "    return Div(cls=cls)(label, res)"
   ]
  },
  {
   "cell_type": "code",
   "execution_count": 126,
   "metadata": {},
   "outputs": [
    {
     "data": {
      "text/markdown": [
       "---\n",
       "\n",
       "[source](https://github.com/Isaac-Flath/fh-frankenui/blob/main/fh_frankenui/components.py#L128){target=\"_blank\" style=\"float:right; font-size:smaller\"}\n",
       "\n",
       "### UkSelect\n",
       "\n",
       ">      UkSelect (*c, label=(), lbl_cls=(), inp_cls=(), cls=('space-y-2',),\n",
       ">                id='', **kwargs)\n",
       "\n",
       "*`Div(Label,Uk_select)` component with Uk styling injected appropriately.*"
      ],
      "text/plain": [
       "---\n",
       "\n",
       "[source](https://github.com/Isaac-Flath/fh-frankenui/blob/main/fh_frankenui/components.py#L128){target=\"_blank\" style=\"float:right; font-size:smaller\"}\n",
       "\n",
       "### UkSelect\n",
       "\n",
       ">      UkSelect (*c, label=(), lbl_cls=(), inp_cls=(), cls=('space-y-2',),\n",
       ">                id='', **kwargs)\n",
       "\n",
       "*`Div(Label,Uk_select)` component with Uk styling injected appropriately.*"
      ]
     },
     "execution_count": 126,
     "metadata": {},
     "output_type": "execute_result"
    }
   ],
   "source": [
    "show_doc(UkSelect)"
   ]
  },
  {
   "cell_type": "code",
   "execution_count": 38,
   "metadata": {},
   "outputs": [
    {
     "data": {
      "text/markdown": [
       "```html\n",
       "<div class=\"space-y-2\">\n",
       "<uk-select uk-cloak class=\"font-bold\" id=\"myid\"><optionoption>1</option><option selected>      <p>2</p>\n",
       "</option><optionoption>      <h1>3</h1>\n",
       "</option>MyLabel</uk-select></div>\n",
       "\n",
       "```"
      ],
      "text/plain": [
       "div((uk-select((option(('1',),{'selected': False}), option((p(('2',),{}),),{'selected': True}), option((h1(('3',),{}),),{'selected': False}), 'MyLabel'),{'uk-cloak': True, 'class': 'font-bold', 'id': 'myid'}),),{'class': 'space-y-2'})"
      ]
     },
     "execution_count": 38,
     "metadata": {},
     "output_type": "execute_result"
    }
   ],
   "source": [
    "UkSelect(*_opts, \"MyLabel\",lbl_cls=TextT.muted_sm, inp_cls='font-bold',  id='myid')"
   ]
  },
  {
   "cell_type": "code",
   "execution_count": 40,
   "metadata": {},
   "outputs": [],
   "source": [
    "#| export\n",
    "class UkButtonT(VEnum):\n",
    "    default = 'default'\n",
    "    primary = 'primary'\n",
    "    secondary = 'secondary'\n",
    "    danger = 'danger'\n",
    "    ghost = 'ghost'\n",
    "    text = 'text'\n",
    "    link = 'link'"
   ]
  },
  {
   "cell_type": "code",
   "execution_count": 43,
   "metadata": {},
   "outputs": [],
   "source": [
    "#| export\n",
    "def UkDropdownButton(label, # String or FT component that goes in the `Button`\n",
    "                    options, # list of tuples that contain what you want listed (FT component/str)\n",
    "                    btn_cls=UkButtonT.default, # Button class(es)\n",
    "                    cls=(), # Parent div class\n",
    "                    dd_cls=(), # Class that goes on each of the `options`\n",
    "                    ): # FT component in structure `(Div(Div(Btn,dd)))`\n",
    "    \"`(Div(Div(Btn,dd)))` component with Uk styling injected appropiately to create a drop down effect\"\n",
    "    dd_cls, btn_cls, cls = map(stringify, (dd_cls, btn_cls, cls))\n",
    "    btn = Button(type='button', cls='uk-button ' + btn_cls)(label, Span(uk_icon='icon: triangle-down'))\n",
    "    dd_opts = [Li(A(href=\"#demo\", cls=f'uk-drop-close w-full ' + dd_cls, uk_toggle=True, role=\"button\")(o) for o in options)]\n",
    "    dd = Div(uk_drop='mode: click; pos: bottom-right', cls='uk-dropdown uk-drop')(Ul(cls='uk-dropdown-nav')(*([Li(cls='uk-nav-divider')] + dd_opts)))\n",
    "    return Div(cls=cls)(Div(cls='flex items-center space-x-4')(btn, dd))"
   ]
  },
  {
   "cell_type": "code",
   "execution_count": 44,
   "metadata": {},
   "outputs": [
    {
     "data": {
      "text/markdown": [
       "---\n",
       "\n",
       "[source](https://github.com/Isaac-Flath/fh-frankenui/blob/main/fh_frankenui/components.py#L153){target=\"_blank\" style=\"float:right; font-size:smaller\"}\n",
       "\n",
       "### UkDropdownButton\n",
       "\n",
       ">      UkDropdownButton (label, options, btn_cls=<UkButtonT.default: 'default'>,\n",
       ">                        cls=(), dd_cls=())\n",
       "\n",
       "*`(Div(Div(Btn,dd)))` component with Uk styling injected appropiately to create a drop down effect*\n",
       "\n",
       "|    | **Type** | **Default** | **Details** |\n",
       "| -- | -------- | ----------- | ----------- |\n",
       "| label |  |  | String or FT component that goes in the `Button` |\n",
       "| options |  |  | list of tuples that contain what you want listed (FT component/str) |\n",
       "| btn_cls | UkButtonT | uk-button-default | Button class(es) |\n",
       "| cls | tuple | () | Parent div class |\n",
       "| dd_cls | tuple | () | Class that goes on each of the `options` |"
      ],
      "text/plain": [
       "---\n",
       "\n",
       "[source](https://github.com/Isaac-Flath/fh-frankenui/blob/main/fh_frankenui/components.py#L153){target=\"_blank\" style=\"float:right; font-size:smaller\"}\n",
       "\n",
       "### UkDropdownButton\n",
       "\n",
       ">      UkDropdownButton (label, options, btn_cls=<UkButtonT.default: 'default'>,\n",
       ">                        cls=(), dd_cls=())\n",
       "\n",
       "*`(Div(Div(Btn,dd)))` component with Uk styling injected appropiately to create a drop down effect*\n",
       "\n",
       "|    | **Type** | **Default** | **Details** |\n",
       "| -- | -------- | ----------- | ----------- |\n",
       "| label |  |  | String or FT component that goes in the `Button` |\n",
       "| options |  |  | list of tuples that contain what you want listed (FT component/str) |\n",
       "| btn_cls | UkButtonT | uk-button-default | Button class(es) |\n",
       "| cls | tuple | () | Parent div class |\n",
       "| dd_cls | tuple | () | Class that goes on each of the `options` |"
      ]
     },
     "execution_count": 44,
     "metadata": {},
     "output_type": "execute_result"
    }
   ],
   "source": [
    "show_doc(UkDropdownButton)"
   ]
  },
  {
   "cell_type": "code",
   "execution_count": null,
   "metadata": {},
   "outputs": [],
   "source": []
  },
  {
   "cell_type": "markdown",
   "metadata": {},
   "source": [
    "### Other"
   ]
  },
  {
   "cell_type": "code",
   "execution_count": 17,
   "metadata": {},
   "outputs": [],
   "source": [
    "#| export\n",
    "def UkButton(*c, \n",
    "            cls=UkButtonT.default, # Use UkButtonT or styles \n",
    "            **kwargs):    \n",
    "    return Button(type='button', cls='uk-button ' + stringify(cls), **kwargs)(*c)"
   ]
  },
  {
   "cell_type": "code",
   "execution_count": 18,
   "metadata": {},
   "outputs": [
    {
     "data": {
      "text/markdown": [
       "```html\n",
       "<div>\n",
       "  <p></p>\n",
       "<button></button></div>\n",
       "\n",
       "```"
      ],
      "text/plain": [
       "div((p((),{}), button((),{})),{})"
      ]
     },
     "execution_count": 18,
     "metadata": {},
     "output_type": "execute_result"
    }
   ],
   "source": [
    "from fasthtml.common import *\n",
    "Div(P(),Button())"
   ]
  },
  {
   "cell_type": "code",
   "execution_count": 19,
   "metadata": {},
   "outputs": [],
   "source": [
    "#| export\n",
    "def UkGenericComponent(component_fn, *c, cls=(), **kwargs):\n",
    "        res = component_fn(**kwargs)(*c)\n",
    "        if cls: res.attrs['class'] += ' ' + cls\n",
    "        return res\n",
    "\n",
    "UkH1 = partial(UkGenericComponent, partial(H1,cls='uk-h1'))\n",
    "UkH2 = partial(UkGenericComponent, partial(H2,cls='uk-h2'))\n",
    "UkH3 = partial(UkGenericComponent, partial(H3,cls='uk-h3'))\n",
    "UkH4 = partial(UkGenericComponent, partial(H4,cls='uk-h4'))\n",
    "UkH5 = partial(UkGenericComponent, partial(H5,cls='uk-h5'))\n",
    "UkH6 = partial(UkGenericComponent, partial(H6,cls='uk-h6'))\n"
   ]
  },
  {
   "cell_type": "code",
   "execution_count": 20,
   "metadata": {},
   "outputs": [
    {
     "data": {
      "text/plain": [
       "(h1(('My Uk styled header',),{'class': 'uk-h1'}),\n",
       " h1(('My Uk styled header',),{'class': 'uk-h1 another-class'}))"
      ]
     },
     "execution_count": 20,
     "metadata": {},
     "output_type": "execute_result"
    }
   ],
   "source": [
    "UkH1(\"My Uk styled header\"), UkH1('My Uk styled header',cls='another-class')"
   ]
  },
  {
   "cell_type": "code",
   "execution_count": 21,
   "metadata": {},
   "outputs": [],
   "source": [
    "#| export\n",
    "def UkHSplit(*c, cls=(), line_cls=(), text_cls=()):\n",
    "    cls, line_cls, text_cls = map(stringify,(cls, line_cls, text_cls))\n",
    "    return Div(cls='relative ' + cls)(\n",
    "        Div(cls=\"absolute inset-0 flex items-center \" + line_cls)(Span(cls=\"w-full border-t border-border\")),\n",
    "        Div(cls=\"relative flex justify-center \" + text_cls)(Span(cls=\"bg-background px-2 \")(*c)))"
   ]
  },
  {
   "cell_type": "markdown",
   "metadata": {},
   "source": [
    "## Higher order components"
   ]
  },
  {
   "cell_type": "code",
   "execution_count": 22,
   "metadata": {},
   "outputs": [],
   "source": [
    "#|export\n",
    "def Card(*c, # Components that go in the body\n",
    "        header=None, # Components that go in the header\n",
    "        footer=None,  # Components that go in the footer\n",
    "        body_cls='space-y-6', # classes for the body\n",
    "        header_cls=(), # classes for the header\n",
    "        footer_cls=(), # classes for the footer\n",
    "        cls=(), #class for outermost component\n",
    "        **kwargs # classes that for the card itself\n",
    "        ):\n",
    "    header_cls, footer_cls, body_cls, cls = map(stringify, (header_cls, footer_cls, body_cls, cls))\n",
    "    res = []\n",
    "    if header: res += [Div(cls='uk-card-header ' + header_cls)(header),]\n",
    "    res += [Div(cls='uk-card-body ' + body_cls)(*c),]\n",
    "    if footer: res += [Div(cls='uk-card-footer ' + footer_cls)(footer),]\n",
    "    return Div(cls='uk-card '+cls, **kwargs)(*res)"
   ]
  },
  {
   "cell_type": "code",
   "execution_count": 23,
   "metadata": {},
   "outputs": [],
   "source": [
    "#| export\n",
    "def UkModalTitle(*c, cls=()): return Div(cls='uk-modal-title ' + stringify(cls))(*c)\n",
    "\n",
    "def Modal(*c,\n",
    "        header=None, # Components that go in the header\n",
    "        footer=None,  # Components that go in the footer\n",
    "        body_cls='space-y-6', # classes for the body\n",
    "        header_cls='p-6', # classes for the header\n",
    "        footer_cls=(), # classes for the footer\n",
    "        cls=(), #class for outermost component\n",
    "        **kwargs # classes that for the card itself\n",
    "        ):\n",
    "    header_cls, footer_cls, body_cls, cls = map(stringify, (header_cls, footer_cls, body_cls, cls))\n",
    "    res = []\n",
    "    if header: res += [Div(cls='uk-modal-header ' + header_cls)(header),]\n",
    "    res += [Div(cls='uk-modal-body uk-modal-dialog ' + body_cls)(*c),]\n",
    "    if footer: res += [Div(cls='uk-modal-footer ' + footer_cls)(footer),]\n",
    "    return Div(cls='uk-modal uk-modal-container' + cls, uk_modal=True, **kwargs)(*res)\n"
   ]
  },
  {
   "cell_type": "code",
   "execution_count": 25,
   "metadata": {},
   "outputs": [],
   "source": [
    "#| hide\n",
    "\n",
    "\n",
    "import nbdev; nbdev.nbdev_export()"
   ]
  },
  {
   "cell_type": "code",
   "execution_count": null,
   "metadata": {},
   "outputs": [],
   "source": []
  },
  {
   "cell_type": "code",
   "execution_count": null,
   "metadata": {},
   "outputs": [],
   "source": []
  },
  {
   "cell_type": "code",
   "execution_count": null,
   "metadata": {},
   "outputs": [],
   "source": []
  }
 ],
 "metadata": {
  "kernelspec": {
   "display_name": "Python 3 (ipykernel)",
   "language": "python",
   "name": "python3"
  },
  "language_info": {
   "codemirror_mode": {
    "name": "ipython",
    "version": 3
   },
   "file_extension": ".py",
   "mimetype": "text/x-python",
   "name": "python",
   "nbconvert_exporter": "python",
   "pygments_lexer": "ipython3",
   "version": "3.12.4"
  },
  "toc": {
   "base_numbering": 1,
   "nav_menu": {},
   "number_sections": true,
   "sideBar": true,
   "skip_h1_title": false,
   "title_cell": "Table of Contents",
   "title_sidebar": "Contents",
   "toc_cell": false,
   "toc_position": {},
   "toc_section_display": true,
   "toc_window_display": false
  }
 },
 "nbformat": 4,
 "nbformat_minor": 4
}
