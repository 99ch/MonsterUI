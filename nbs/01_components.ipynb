{
 "cells": [
  {
   "cell_type": "markdown",
   "metadata": {},
   "source": [
    "# Components\n",
    "\n",
    "> Componenents that are the building blocks to the UI"
   ]
  },
  {
   "cell_type": "code",
   "execution_count": 1,
   "metadata": {},
   "outputs": [],
   "source": [
    "#| default_exp components"
   ]
  },
  {
   "cell_type": "code",
   "execution_count": 2,
   "metadata": {},
   "outputs": [],
   "source": [
    "#| hide\n",
    "#| export\n",
    "from fasthtml.common import *\n",
    "from fasthtml.svg import Svg\n",
    "from enum import Enum, EnumType\n",
    "from fasthtml.components import Uk_select,Uk_input_tag\n",
    "from functools import partial\n"
   ]
  },
  {
   "cell_type": "markdown",
   "metadata": {},
   "source": [
    "## Utils"
   ]
  },
  {
   "cell_type": "markdown",
   "metadata": {},
   "source": [
    "### Tests"
   ]
  },
  {
   "cell_type": "code",
   "execution_count": 3,
   "metadata": {},
   "outputs": [],
   "source": [
    "from fastcore.test import *"
   ]
  },
  {
   "cell_type": "code",
   "execution_count": 4,
   "metadata": {},
   "outputs": [],
   "source": [
    "def test_xml_eq(a, b):\n",
    "    test_eq(*map(lambda x: x if isinstance(x,str) else to_xml(x), (a, b)))"
   ]
  },
  {
   "cell_type": "markdown",
   "metadata": {},
   "source": [
    "## Other"
   ]
  },
  {
   "cell_type": "code",
   "execution_count": 5,
   "metadata": {},
   "outputs": [],
   "source": [
    "#| export\n",
    "def stringify(o):\n",
    "    # need a better name, stringify might be too general for what it does \n",
    "    if is_listy(o): return ' '.join(map(str,o)) if o else \"\"\n",
    "    return o.__str__()"
   ]
  },
  {
   "cell_type": "code",
   "execution_count": 6,
   "metadata": {},
   "outputs": [],
   "source": [
    "assert stringify('abc') == 'abc'\n",
    "assert stringify(('abc','def')) == 'abc def'\n",
    "assert 'uk-input ' + stringify(()) == 'uk-input '\n",
    "assert 'uk-input ' + stringify(\"\") == 'uk-input '"
   ]
  },
  {
   "cell_type": "code",
   "execution_count": 7,
   "metadata": {},
   "outputs": [],
   "source": []
  },
  {
   "cell_type": "markdown",
   "metadata": {},
   "source": [
    "### Components"
   ]
  },
  {
   "cell_type": "code",
   "execution_count": 7,
   "metadata": {},
   "outputs": [],
   "source": [
    "#| export\n",
    "class VEnum(Enum):\n",
    "    def __add__(self, other):\n",
    "        return self.__str__() + other.__str__()\n",
    "    \n",
    "    def __str__(self):\n",
    "        base = self.__class__.__name__       \n",
    "        if isinstance(self.__class__, EnumType):\n",
    "            base = base.lstrip('Uk').rstrip('T')\n",
    "        return f\"uk-{base.lower()}-{self.value}\".strip('-')"
   ]
  },
  {
   "cell_type": "code",
   "execution_count": 8,
   "metadata": {},
   "outputs": [],
   "source": [
    "# class UkTextT(VEnum):\n",
    "#     red = 'red'\n",
    "#     blue = 'blue'\n",
    "#     small = 'small'\n",
    "#     large = 'large'\n",
    "    \n",
    "\n",
    "# test_xml_eq(Div(cls=UkTextT.red),'<div class=\"uk-text-red\"></div>\\n')\n",
    "# test_xml_eq(Div(cls=(UkTextT.red,UkTextT.small)),'<div class=\"uk-text-red uk-text-small\"></div>\\n')"
   ]
  },
  {
   "cell_type": "code",
   "execution_count": 9,
   "metadata": {},
   "outputs": [],
   "source": [
    "#| export\n",
    "class TextB(Enum):\n",
    "    xsmall = 'text-xs'\n",
    "    small = 'text-sm'\n",
    "    muted = 'uk-text-muted'\n",
    "\n",
    "    def __str__(self):\n",
    "        return self.value"
   ]
  },
  {
   "cell_type": "code",
   "execution_count": 10,
   "metadata": {},
   "outputs": [
    {
     "data": {
      "text/plain": [
       "'text-sm uk-text-muted'"
      ]
     },
     "execution_count": null,
     "metadata": {},
     "output_type": "execute_result"
    }
   ],
   "source": [
    "#| export\n",
    "class TextT(Enum):\n",
    "    muted_sm = TextB.small, TextB.muted # Text below card headings\n",
    "\n",
    "    def __str__(self):\n",
    "        if is_listy(self.value): return ' '.join(map(str,self.value))\n",
    "        return self.value\n",
    "\n",
    "str(TextT.muted_sm)"
   ]
  },
  {
   "cell_type": "markdown",
   "metadata": {},
   "source": [
    "## Themes\n",
    "\n",
    "Choose a theme for your app."
   ]
  },
  {
   "cell_type": "code",
   "execution_count": 11,
   "metadata": {},
   "outputs": [],
   "source": [
    "#| export\n",
    "class Theme(Enum):\n",
    "    slate = \"slate\"\n",
    "    stone = \"stone\"\n",
    "    gray = \"gray\"\n",
    "    neutral = \"neutral\"\n",
    "    red = \"red\"\n",
    "    rose = \"rose\"\n",
    "    orange = \"orange\"\n",
    "    green = \"green\"\n",
    "    blue = \"blue\"\n",
    "    yellow = \"yellow\"\n",
    "    violet = \"violet\"\n",
    "    zinc = \"zinc\"\n",
    "\n",
    "    def headers(self):\n",
    "        js = (Script(src=\"https://cdn.tailwindcss.com\"),\n",
    "              Script(src=\"https://cdn.jsdelivr.net/npm/uikit@3.21.6/dist/js/uikit.min.js\"),\n",
    "              Script(src=\"https://cdn.jsdelivr.net/npm/uikit@3.21.6/dist/js/uikit-icons.min.js\"),\n",
    "              Script(type=\"module\", src=\"https://unpkg.com/franken-wc@0.0.6/dist/js/wc.iife.js\")\n",
    "              )\n",
    "        _url = \"https://unpkg.com/franken-wc@0.0.6/dist/css/{theme}.min.css\"\n",
    "        return (*js, Link(rel=\"stylesheet\", href=_url.format(theme=self.value)))\n",
    "\n"
   ]
  },
  {
   "cell_type": "code",
   "execution_count": 12,
   "metadata": {},
   "outputs": [],
   "source": [
    "hdrs = Theme.blue.headers()"
   ]
  },
  {
   "cell_type": "markdown",
   "metadata": {},
   "source": [
    "## Base Components"
   ]
  },
  {
   "cell_type": "markdown",
   "metadata": {},
   "source": [
    "### Inputs"
   ]
  },
  {
   "cell_type": "code",
   "execution_count": 65,
   "metadata": {},
   "outputs": [],
   "source": [
    "#| export\n",
    "def UkGenericInput(input_fn,\n",
    "                    label=(), \n",
    "                    lbl_cls=(),\n",
    "                    inp_cls=(),\n",
    "                    cls=('space-y-2',), # Div cls\n",
    "                    id=\"\", **kwargs):\n",
    "    lbl_cls, inp_cls, cls = map(stringify,(lbl_cls, inp_cls, cls))\n",
    "    if label: \n",
    "        label = Label(cls='uk-form-label '+lbl_cls)(label)\n",
    "        if id: label.fr = id\n",
    "    res = input_fn(**kwargs)\n",
    "    if inp_cls: res.attrs['class'] += inp_cls\n",
    "    if id: res.id = id\n",
    "    return Div(cls=cls)(label, res)"
   ]
  },
  {
   "cell_type": "code",
   "execution_count": 67,
   "metadata": {},
   "outputs": [],
   "source": [
    "#| export\n",
    "UkInput =     partial(UkGenericInput, partial(Input,        cls='uk-input'))\n",
    "UkSwitch =    partial(UkGenericInput, partial(Input,        cls='uk-toggle-switch uk-toggle-switch-primary', type='checkbox'))\n",
    "UkTextArea =  partial(UkGenericInput, partial(Textarea,     cls='uk-textarea'))\n",
    "UkFormLabel = partial(UkGenericInput, partial(Uk_input_tag, cls='uk-form-label'))\n",
    "UkSelect =    partial(UkGenericInput, partial(Uk_select,                          uk_cloak = True))"
   ]
  },
  {
   "cell_type": "code",
   "execution_count": 19,
   "metadata": {},
   "outputs": [
    {
     "name": "stdout",
     "output_type": "stream",
     "text": [
      "<div class=\"space-y-2\"><uk-select uk-cloak selected=\"Read and write access\" class=\"\">\n",
      "  <option>Read and write access</option>\n",
      "  <option>Read-only access</option>\n",
      "</uk-select>\n",
      "</div>\n",
      "\n",
      "<div class=\"space-y-2\"><uk-select uk-cloak selected=\"Read and write access\" class=\"\">\n",
      "  <option>Read and write access</option>\n",
      "  <option>Read-only access</option>\n",
      "</uk-select>\n",
      "</div>\n",
      "\n"
     ]
    }
   ],
   "source": [
    "team_members = [\n",
    "    {\"name\": \"Olivia Martin\", \"email\": \"m@example.com\", \"role\": \"Read and write access\"},\n",
    "    {\"name\": \"Isabella Nguyen\", \"email\": \"b@example.com\", \"role\": \"Read-only access\"},\n",
    "    {\"name\": \"Sofia Davis\", \"email\": \"p@example.com\", \"role\": \"Read-only access\"},]\n",
    "\n",
    "options = (\"Read and write access\", \"Read-only access\")\n",
    "\n",
    "member = team_members[0]\n",
    "print(to_xml(UkSelect(*[Option(o) for o in options], selected=member['role'])))\n"
   ]
  },
  {
   "cell_type": "code",
   "execution_count": null,
   "metadata": {},
   "outputs": [],
   "source": [
    "team_members = [\n",
    "    {\"name\": \"Sofia Davis\", \"email\": \"m@example.com\", \"role\": \"Owner\"},\n",
    "    {\"name\": \"Jackson Lee\", \"email\": \"p@example.com\", \"role\": \"Member\"},\n",
    "]"
   ]
  },
  {
   "cell_type": "code",
   "execution_count": null,
   "metadata": {},
   "outputs": [
    {
     "data": {
      "text/plain": [
       "((div(('Viewer',),{}),\n",
       "  div(('Can view and comment.',),{'class': 'text-sm text-muted-foreground'})),\n",
       " (div(('Developer',),{}),\n",
       "  div(('Can view, comment and edit.',),{'class': 'text-sm text-muted-foreground'})),\n",
       " (div(('Billing',),{}),\n",
       "  div(('Can view, comment and manage billing.',),{'class': 'text-sm text-muted-foreground'})),\n",
       " (div(('Owner',),{}),\n",
       "  div(('Admin-level to all resources.',),{'class': 'text-sm text-muted-foreground'})))"
      ]
     },
     "execution_count": null,
     "metadata": {},
     "output_type": "execute_result"
    }
   ],
   "source": [
    "options = (\n",
    "        (Div('Viewer'),Div(cls='text-sm text-muted-foreground')('Can view and comment.',)),\n",
    "        (Div('Developer'),Div(cls='text-sm text-muted-foreground')('Can view, comment and edit.',)),\n",
    "        (Div('Billing'),Div(cls='text-sm text-muted-foreground')('Can view, comment and manage billing.',)),\n",
    "        (Div('Owner'),Div(cls='text-sm text-muted-foreground')('Admin-level to all resources.')),\n",
    "        )\n",
    "options"
   ]
  },
  {
   "cell_type": "code",
   "execution_count": null,
   "metadata": {},
   "outputs": [],
   "source": [
    "#| export\n",
    "def UkDropdownButton(label, # Shown on the button\n",
    "                     options, # list of tuples that contain what you want listed\n",
    "                     btn_cls=UkButtonT.default, # Button class\n",
    "                     cls=() # parent div class\n",
    "                     ):\n",
    "    btn_cls, cls = map(stringify,(btn_cls, cls))\n",
    "    btn = Button(type='button', cls='uk-button ' + btn_cls)(label, Span(uk_icon='icon: triangle-down'))\n",
    "    dd_opts = [Li(A(href=\"#demo\", cls='uk-drop-close',uk_toggle=True, role=\"button\")(Div(o))) for o in options]\n",
    "    dd = Div(uk_drop='mode: click; pos: bottom-right', cls='uk-dropdown uk-drop')(Ul(cls='uk-dropdown-nav')(*([Li(cls='uk-nav-divider')] + dd_opts)))\n",
    "    return Div(cls=cls)(Div(cls='flex items-center space-x-4')(btn, dd))"
   ]
  },
  {
   "cell_type": "markdown",
   "metadata": {},
   "source": [
    "### Other"
   ]
  },
  {
   "cell_type": "code",
   "execution_count": 20,
   "metadata": {},
   "outputs": [],
   "source": [
    "#| export\n",
    "class UkButtonT(VEnum):\n",
    "    default = 'default'\n",
    "    primary = 'primary'\n",
    "    secondary = 'secondary'\n",
    "    danger = 'danger'\n",
    "    ghost = 'ghost'\n",
    "    text = 'text'\n",
    "    link = 'link'"
   ]
  },
  {
   "cell_type": "code",
   "execution_count": 81,
   "metadata": {},
   "outputs": [],
   "source": [
    "#| export\n",
    "def UkButton(*c, \n",
    "            cls=UkButtonT.default, # Use UkButtonT or styles \n",
    "            **kwargs):    \n",
    "    return Button(cls='uk-button ' + stringify(cls), **kwargs)(*c)\n"
   ]
  },
  {
   "cell_type": "code",
   "execution_count": 83,
   "metadata": {},
   "outputs": [],
   "source": [
    "#| export\n",
    "def UkGenericComponent(component_fn, *c, cls=(), **kwargs):\n",
    "        res = component_fn(**kwargs)(*c)\n",
    "        if cls: res.attrs['class'] += ' ' + cls\n",
    "        return res\n",
    "\n",
    "UkH1 = partial(UkGenericComponent, partial(H1,cls='uk-h1'))\n",
    "UkH2 = partial(UkGenericComponent, partial(H2,cls='uk-h2'))\n",
    "UkH3 = partial(UkGenericComponent, partial(H3,cls='uk-h3'))\n",
    "UkH4 = partial(UkGenericComponent, partial(H4,cls='uk-h4'))\n",
    "UkH5 = partial(UkGenericComponent, partial(H5,cls='uk-h5'))\n",
    "UkH6 = partial(UkGenericComponent, partial(H6,cls='uk-h6'))\n"
   ]
  },
  {
   "cell_type": "code",
   "execution_count": 86,
   "metadata": {},
   "outputs": [
    {
     "data": {
      "text/plain": [
       "(h1(('My Uk styled header',),{'class': 'uk-h1'}),\n",
       " h1(('My Uk styled header',),{'class': 'uk-h1 another-class'}))"
      ]
     },
     "execution_count": null,
     "metadata": {},
     "output_type": "execute_result"
    }
   ],
   "source": [
    "UkH1(\"My Uk styled header\"), UkH1('My Uk styled header',cls='another-class')"
   ]
  },
  {
   "cell_type": "code",
   "execution_count": 68,
   "metadata": {},
   "outputs": [],
   "source": [
    "#| export\n",
    "def UkHSplit(*c, cls=(), line_cls=(), text_cls=()):\n",
    "    cls, line_cls, text_cls = map(stringify,(cls, line_cls, text_cls))\n",
    "    return Div(cls='relative ' + cls)(\n",
    "        Div(cls=\"absolute inset-0 flex items-center \" + line_cls)(Span(cls=\"w-full border-t border-border\")),\n",
    "        Div(cls=\"relative flex justify-center \" + text_cls)(Span(cls=\"bg-background px-2 \")(*c)))"
   ]
  },
  {
   "cell_type": "markdown",
   "metadata": {},
   "source": [
    "## Higher order components"
   ]
  },
  {
   "cell_type": "code",
   "execution_count": null,
   "metadata": {},
   "outputs": [],
   "source": [
    "#|export\n",
    "def Card(*c, # Components that go in the body\n",
    "        header=None, # Components that go in the header\n",
    "        footer=None,  # Components that go in the footer\n",
    "        body_cls='space-y-6', # classes for the body\n",
    "        header_cls=(), # classes for the header\n",
    "        footer_cls=(), # classes for the footer\n",
    "        cls=(), #class for outermost component\n",
    "        **kwargs # classes that for the card itself\n",
    "        ):\n",
    "    header_cls, footer_cls, body_cls, cls = map(stringify, (header_cls, footer_cls, body_cls, cls))\n",
    "    res = []\n",
    "    if header: res += [Div(cls='uk-card-header ' + header_cls)(header),]\n",
    "    res += [Div(cls='uk-card-body ' + body_cls)(*c),]\n",
    "    if footer: res += [Div(cls='uk-card-footer ' + footer_cls)(footer),]\n",
    "    return Div(cls='uk-card '+cls, **kwargs)(*res)"
   ]
  },
  {
   "cell_type": "code",
   "execution_count": null,
   "metadata": {},
   "outputs": [],
   "source": [
    "#| hide\n",
    "\n",
    "\n",
    "import nbdev; nbdev.nbdev_export()"
   ]
  },
  {
   "cell_type": "code",
   "execution_count": null,
   "metadata": {},
   "outputs": [],
   "source": []
  },
  {
   "cell_type": "code",
   "execution_count": null,
   "metadata": {},
   "outputs": [],
   "source": []
  },
  {
   "cell_type": "code",
   "execution_count": null,
   "metadata": {},
   "outputs": [],
   "source": []
  }
 ],
 "metadata": {
  "kernelspec": {
   "display_name": "python3",
   "language": "python",
   "name": "python3"
  },
  "language_info": {
   "name": "python"
  }
 },
 "nbformat": 4,
 "nbformat_minor": 4
}
