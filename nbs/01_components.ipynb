{
 "cells": [
  {
   "cell_type": "markdown",
   "metadata": {},
   "source": [
    "# Components\n",
    "\n",
    "> Componenents that are the building blocks to the UI"
   ]
  },
  {
   "cell_type": "code",
   "execution_count": 1,
   "metadata": {},
   "outputs": [],
   "source": [
    "#| default_exp components"
   ]
  },
  {
   "cell_type": "code",
   "execution_count": 2,
   "metadata": {},
   "outputs": [],
   "source": [
    "#| hide\n",
    "#| export\n",
    "# from fh_frankenui.foundations import *\n",
    "from fasthtml.common import *\n",
    "from enum import Enum, EnumType"
   ]
  },
  {
   "cell_type": "markdown",
   "metadata": {},
   "source": [
    "## Utils"
   ]
  },
  {
   "cell_type": "markdown",
   "metadata": {},
   "source": [
    "### Tests"
   ]
  },
  {
   "cell_type": "code",
   "execution_count": 3,
   "metadata": {},
   "outputs": [],
   "source": [
    "from fastcore.test import *"
   ]
  },
  {
   "cell_type": "code",
   "execution_count": 4,
   "metadata": {},
   "outputs": [],
   "source": [
    "def test_xml_eq(a, b):\n",
    "    test_eq(*map(lambda x: x if isinstance(x,str) else to_xml(x), (a, b)))"
   ]
  },
  {
   "cell_type": "code",
   "execution_count": 47,
   "metadata": {},
   "outputs": [],
   "source": []
  },
  {
   "cell_type": "markdown",
   "metadata": {},
   "source": [
    "### Components"
   ]
  },
  {
   "cell_type": "code",
   "execution_count": 5,
   "metadata": {},
   "outputs": [],
   "source": [
    "#| export\n",
    "class VEnum(Enum):\n",
    "    def __add__(self, other):\n",
    "        return self.__str__() + other.__str__()\n",
    "    \n",
    "    def __str__(self):\n",
    "        base = self.__class__.__name__       \n",
    "        if isinstance(self.__class__, EnumType):\n",
    "            base = base.lstrip('Uk').rstrip('T')\n",
    "        return f\"uk-{base.lower()}-{self.value}\".strip('-')"
   ]
  },
  {
   "cell_type": "code",
   "execution_count": 6,
   "metadata": {},
   "outputs": [],
   "source": [
    "class UkTextT(VEnum):\n",
    "    red = 'red'\n",
    "    blue = 'blue'\n",
    "    small = 'small'\n",
    "    large = 'large'\n",
    "    \n",
    "\n",
    "test_xml_eq(Div(cls=UkTextT.red),'<div class=\"uk-text-red\"></div>\\n')\n",
    "test_xml_eq(Div(cls=(UkTextT.red,UkTextT.small)),'<div class=\"uk-text-red uk-text-small\"></div>\\n')"
   ]
  },
  {
   "cell_type": "code",
   "execution_count": 7,
   "metadata": {},
   "outputs": [],
   "source": []
  },
  {
   "cell_type": "code",
   "execution_count": 7,
   "metadata": {},
   "outputs": [],
   "source": [
    "#| export\n",
    "def stringify(o):\n",
    "    # need a better name, stringify might be too general for what it does \n",
    "    if is_listy(o): return ' '.join(map(str,o)) if o else \"\"\n",
    "    return o.__str__()"
   ]
  },
  {
   "cell_type": "code",
   "execution_count": 8,
   "metadata": {},
   "outputs": [],
   "source": [
    "assert stringify('abc') == 'abc'\n",
    "assert stringify(('abc','def')) == 'abc def'\n",
    "assert 'uk-input ' + stringify(()) == 'uk-input '\n",
    "assert 'uk-input ' + stringify(\"\") == 'uk-input '"
   ]
  },
  {
   "cell_type": "markdown",
   "metadata": {},
   "source": [
    "## Themes\n",
    "\n",
    "Choose a theme for your app."
   ]
  },
  {
   "cell_type": "code",
   "execution_count": 9,
   "metadata": {},
   "outputs": [],
   "source": [
    "#| export\n",
    "class Theme(Enum):\n",
    "    slate = \"slate\"\n",
    "    stone = \"stone\"\n",
    "    gray = \"gray\"\n",
    "    neutral = \"neutral\"\n",
    "    red = \"red\"\n",
    "    rose = \"rose\"\n",
    "    orange = \"orange\"\n",
    "    green = \"green\"\n",
    "    blue = \"blue\"\n",
    "    yellow = \"yellow\"\n",
    "    violet = \"violet\"\n",
    "    zinc = \"zinc\"\n",
    "\n",
    "    def headers(self):\n",
    "        js = (Script(src=\"https://cdn.jsdelivr.net/npm/uikit@3.21.6/dist/js/uikit.min.js\"),\n",
    "              Script(src=\"https://cdn.jsdelivr.net/npm/uikit@3.21.6/dist/js/uikit-icons.min.js\"))\n",
    "        _url = \"https://unpkg.com/franken-wc@0.0.6/dist/css/{theme}.min.css\"\n",
    "        return (*js, Link(rel=\"stylesheet\", href=_url.format(theme=self.value)))\n"
   ]
  },
  {
   "cell_type": "code",
   "execution_count": 10,
   "metadata": {},
   "outputs": [],
   "source": [
    "hdrs = Theme.blue.headers()"
   ]
  },
  {
   "cell_type": "markdown",
   "metadata": {},
   "source": [
    "## Base Components"
   ]
  },
  {
   "cell_type": "code",
   "execution_count": 54,
   "metadata": {},
   "outputs": [
    {
     "data": {
      "text/plain": [
       "(['label', ('My Label',), {'for': 'myid'}],\n",
       " ['select',\n",
       "  (['option', (), {'value': 'dog', 'content': 'Dog'}],\n",
       "   ['option', (), {'value': 'cat', 'content': 'Cat'}]),\n",
       "  {'name': 'myname'}])"
      ]
     },
     "execution_count": null,
     "metadata": {},
     "output_type": "execute_result"
    }
   ],
   "source": [
    "(Label(fr=\"myid\")(\"My Label\"), Select(name=\"myname\")(Option(value=\"dog\", content=\"Dog\"), Option(value=\"cat\", content=\"Cat\")))"
   ]
  },
  {
   "cell_type": "code",
   "execution_count": 53,
   "metadata": {},
   "outputs": [
    {
     "data": {
      "text/markdown": [
       "```html\n",
       "<uk-select name=\"myname\" uk-cloak>\n",
       "  <optgroup label=\"mylabel\">\n",
       "    <option value=\"dog\" content=\"Dog\"></option>\n",
       "    <option value=\"cat\" content=\"Cat\"></option>\n",
       "    <option value=\"parakeet\" content=\"Parakeet\"></option>\n",
       "    <option value=\"snake\" content=\"Snake\"></option>\n",
       "  </optgroup>\n",
       "</uk-select>\n",
       "\n",
       "```"
      ],
      "text/plain": [
       "['uk-select',\n",
       " (['optgroup',\n",
       "   (['option', (), {'value': 'dog', 'content': 'Dog'}],\n",
       "    ['option', (), {'value': 'cat', 'content': 'Cat'}],\n",
       "    ['option', (), {'value': 'parakeet', 'content': 'Parakeet'}],\n",
       "    ['option', (), {'value': 'snake', 'content': 'Snake'}]),\n",
       "   {'label': 'mylabel'}],),\n",
       " {'name': 'myname', 'uk-cloak': True}]"
      ]
     },
     "execution_count": null,
     "metadata": {},
     "output_type": "execute_result"
    }
   ],
   "source": [
    "from fasthtml.components import Uk_select, Optgroup\n",
    "\n",
    "\n",
    "Uk_select(name=\"myname\", uk_cloak=True)(\n",
    "    Optgroup(label='mylabel')(*[Option(value=v, content=v.capitalize()) for v in ('dog','cat','parakeet','snake')]))"
   ]
  },
  {
   "cell_type": "code",
   "execution_count": 11,
   "metadata": {},
   "outputs": [],
   "source": [
    "\n",
    "#| export\n",
    "def UkInput(label=(), \n",
    "            lbl_cls=(),\n",
    "            inp_cls=(),\n",
    "            cls=('space-y-2',), # Div cls\n",
    "            id=\"\", **kwargs):\n",
    "    lbl_cls, inp_cls, cls = map(stringify,(lbl_cls, inp_cls, cls))\n",
    "    if label: \n",
    "        label = Label(cls='uk-form-label '+lbl_cls)(label)\n",
    "        if id: label.fr = id\n",
    "    res = Input(cls='uk-input '+inp_cls, **kwargs)\n",
    "    if id: res.id = id\n",
    "    return Div(cls=cls)(label, res)"
   ]
  },
  {
   "cell_type": "code",
   "execution_count": 12,
   "metadata": {},
   "outputs": [
    {
     "data": {
      "text/markdown": [
       "```html\n",
       "<div class=\"\">\n",
       "  <label class=\"uk-form-label \" fr=\"name\">Name</label>\n",
       "  <input class=\"uk-input \" id=\"name\">\n",
       "</div>\n",
       "\n",
       "```"
      ],
      "text/plain": [
       "['div',\n",
       " (['label', ('Name',), {'class': 'uk-form-label ', 'fr': 'name'}],\n",
       "  ['input', (), {'class': 'uk-input ', 'id': 'name'}]),\n",
       " {'class': ''}]"
      ]
     },
     "execution_count": null,
     "metadata": {},
     "output_type": "execute_result"
    }
   ],
   "source": [
    "inp = UkInput(label=\"Name\", id=\"name\"); inp"
   ]
  },
  {
   "cell_type": "code",
   "execution_count": 13,
   "metadata": {},
   "outputs": [],
   "source": [
    "#| export\n",
    "class UkButtonT(VEnum):\n",
    "    default = 'default'\n",
    "    primary = 'primary'\n",
    "    secondary = 'secondary'\n",
    "    danger = 'danger'\n",
    "    ghost = 'ghost'\n",
    "    text = 'text'\n",
    "    link = 'link'"
   ]
  },
  {
   "cell_type": "code",
   "execution_count": 14,
   "metadata": {},
   "outputs": [],
   "source": [
    "#| export\n",
    "def UkButton(*c, \n",
    "            cls=(), # Use UkButtonT or styles \n",
    "            **kwargs):    \n",
    "    return Button(cls='uk-button ' + stringify(cls), **kwargs)(*c)"
   ]
  },
  {
   "cell_type": "code",
   "execution_count": 45,
   "metadata": {},
   "outputs": [
    {
     "ename": "TypeError",
     "evalue": "can only concatenate str (not \"UkButtonT\") to str",
     "output_type": "error",
     "traceback": [
      "\u001b[0;31m---------------------------------------------------------------------------\u001b[0m\n",
      "\u001b[0;31mTypeError\u001b[0m                                 Traceback (most recent call last)\n",
      "Cell \u001b[0;32mIn[45], line 1\u001b[0m\n",
      "\u001b[0;32m----> 1\u001b[0m \u001b[43mUkButton\u001b[49m\u001b[43m(\u001b[49m\u001b[38;5;124;43m'\u001b[39;49m\u001b[38;5;124;43mApp\u001b[39;49m\u001b[38;5;124;43m'\u001b[39;49m\u001b[43m,\u001b[49m\u001b[43m \u001b[49m\u001b[38;5;28;43mcls\u001b[39;49m\u001b[38;5;241;43m=\u001b[39;49m\u001b[43mUkButtonT\u001b[49m\u001b[38;5;241;43m.\u001b[39;49m\u001b[43mprimary\u001b[49m\u001b[43m)\u001b[49m\n",
      "\n",
      "Cell \u001b[0;32mIn[14], line 5\u001b[0m, in \u001b[0;36mUkButton\u001b[0;34m(cls, *c, **kwargs)\u001b[0m\n",
      "\u001b[1;32m      2\u001b[0m \u001b[38;5;28;01mdef\u001b[39;00m \u001b[38;5;21mUkButton\u001b[39m(\u001b[38;5;241m*\u001b[39mc, \n",
      "\u001b[1;32m      3\u001b[0m             \u001b[38;5;28mcls\u001b[39m\u001b[38;5;241m=\u001b[39m(), \u001b[38;5;66;03m# Use UkButtonT or styles \u001b[39;00m\n",
      "\u001b[1;32m      4\u001b[0m             \u001b[38;5;241m*\u001b[39m\u001b[38;5;241m*\u001b[39mkwargs):    \n",
      "\u001b[0;32m----> 5\u001b[0m     \u001b[38;5;28;01mreturn\u001b[39;00m Button(\u001b[38;5;28mcls\u001b[39m\u001b[38;5;241m=\u001b[39m\u001b[38;5;124;43m'\u001b[39;49m\u001b[38;5;124;43muk-button \u001b[39;49m\u001b[38;5;124;43m'\u001b[39;49m\u001b[43m \u001b[49m\u001b[38;5;241;43m+\u001b[39;49m\u001b[43m \u001b[49m\u001b[43mstringify\u001b[49m\u001b[43m(\u001b[49m\u001b[38;5;28;43mcls\u001b[39;49m\u001b[43m)\u001b[49m, \u001b[38;5;241m*\u001b[39m\u001b[38;5;241m*\u001b[39mkwargs)(\u001b[38;5;241m*\u001b[39mc)\n",
      "\n",
      "\u001b[0;31mTypeError\u001b[0m: can only concatenate str (not \"UkButtonT\") to str"
     ]
    }
   ],
   "source": [
    "UkButton('App', cls=UkButtonT.primary)"
   ]
  },
  {
   "cell_type": "code",
   "execution_count": 23,
   "metadata": {},
   "outputs": [],
   "source": [
    "btn = UkButton('Click me', typ='uk-button-primary', disabled=True)\n",
    "test_xml_eq(UkButton('Click me', typ='uk-button-primary', disabled=True),'<button typ=\"uk-button-primary\" disabled class=\"uk-button \">Click me</button>\\n')"
   ]
  },
  {
   "cell_type": "markdown",
   "metadata": {},
   "source": []
  },
  {
   "cell_type": "code",
   "execution_count": 24,
   "metadata": {},
   "outputs": [],
   "source": [
    "test_xml_eq(UkButton(typ=(UkButtonT.primary,'w-full'))('Create Account'),'<button typ=\"uk-button-primary w-full\" class=\"uk-button \">Create Account</button>\\n')"
   ]
  },
  {
   "cell_type": "code",
   "execution_count": 42,
   "metadata": {},
   "outputs": [],
   "source": [
    "#| export\n",
    "def UkHSplit(*c, cls=(), line_cls=(), text_cls=()):\n",
    "    cls, line_cls, text_cls = map(stringify,(cls, line_cls, text_cls))\n",
    "    return Div(cls='relative ' + cls)(\n",
    "        Div(cls=\"absolute inset-0 flex items-center \" + line_cls)(Span(cls=\"w-full border-t border-border\")),\n",
    "        Div(cls=\"relative flex justify-center \" + text_cls)(Span(cls=\"bg-background px-2 \")(*c)))\n",
    "\n"
   ]
  },
  {
   "cell_type": "markdown",
   "metadata": {},
   "source": [
    "## Higher order components"
   ]
  },
  {
   "cell_type": "code",
   "execution_count": 35,
   "metadata": {},
   "outputs": [],
   "source": [
    "#|export\n",
    "def Card(*c, # Components that go in the body\n",
    "        header=None, # Components that go in the header\n",
    "        footer=None,  # Components that go in the footer\n",
    "        body_cls=(), # classes for the body\n",
    "        header_cls=(), # classes for the header\n",
    "        footer_cls=(), # classes for the footer\n",
    "        cls=(), #class for outermost component\n",
    "        **kwargs # classes that for the card itself\n",
    "        ):\n",
    "    header_cls, footer_cls, body_cls, cls = map(stringify, (header_cls, footer_cls, body_cls, cls))\n",
    "    res = []\n",
    "    if header: res += [Div(cls='uk-card-header ' + header_cls)(header),]\n",
    "    res += [Div(cls='uk-card-body ' + body_cls)(*c),]\n",
    "    if footer: res += [Div(cls='uk-card-footer ' + footer_cls)(footer),]\n",
    "    return Div(cls='uk-card '+cls, **kwargs)(*res)"
   ]
  },
  {
   "cell_type": "code",
   "execution_count": 36,
   "metadata": {},
   "outputs": [
    {
     "data": {
      "text/markdown": [
       "```html\n",
       "<div class=\"uk-card \">\n",
       "  <div class=\"uk-card-header \">\n",
       "    <strong>A bold header</strong>\n",
       "  </div>\n",
       "  <div class=\"uk-card-body \">\n",
       "    <p>A simple text body</p>\n",
       "    <div class=\"\">\n",
       "      <label class=\"uk-form-label \" fr=\"name\">Name</label>\n",
       "      <input class=\"uk-input \" id=\"name\">\n",
       "    </div>\n",
       "  </div>\n",
       "  <div class=\"uk-card-footer uk-text-right\">\n",
       "    <button typ=\"uk-button-primary\" disabled class=\"uk-button \">Click me</button>\n",
       "  </div>\n",
       "</div>\n",
       "\n",
       "```"
      ],
      "text/plain": [
       "['div',\n",
       " (['div', (['strong', ('A bold header',), {}],), {'class': 'uk-card-header '}],\n",
       "  ['div',\n",
       "   (['p', ('A simple text body',), {}],\n",
       "    ['div',\n",
       "     (['label', ('Name',), {'class': 'uk-form-label ', 'fr': 'name'}],\n",
       "      ['input', (), {'class': 'uk-input ', 'id': 'name'}]),\n",
       "     {'class': ''}]),\n",
       "   {'class': 'uk-card-body '}],\n",
       "  ['div',\n",
       "   (['button',\n",
       "     ('Click me',),\n",
       "     {'typ': 'uk-button-primary', 'disabled': True, 'class': 'uk-button '}],),\n",
       "   {'class': 'uk-card-footer uk-text-right'}]),\n",
       " {'class': 'uk-card '}]"
      ]
     },
     "execution_count": null,
     "metadata": {},
     "output_type": "execute_result"
    }
   ],
   "source": [
    "Card(P('A simple text body'), inp, header=Strong(\"A bold header\"), \n",
    "        footer=btn, footer_cls=('uk-text-right',))"
   ]
  },
  {
   "cell_type": "code",
   "execution_count": 37,
   "metadata": {},
   "outputs": [
    {
     "data": {
      "text/markdown": [
       "```html\n",
       "<div class=\"uk-card \">\n",
       "  <div class=\"uk-card-body \"></div>\n",
       "  <div class=\"uk-card-footer uk-text-right\">\n",
       "    <button typ=\"uk-button-primary\" disabled class=\"uk-button \">Click me</button>\n",
       "  </div>\n",
       "</div>\n",
       "\n",
       "```"
      ],
      "text/plain": [
       "['div',\n",
       " (['div', (), {'class': 'uk-card-body '}],\n",
       "  ['div',\n",
       "   (['button',\n",
       "     ('Click me',),\n",
       "     {'typ': 'uk-button-primary', 'disabled': True, 'class': 'uk-button '}],),\n",
       "   {'class': 'uk-card-footer uk-text-right'}]),\n",
       " {'class': 'uk-card '}]"
      ]
     },
     "execution_count": null,
     "metadata": {},
     "output_type": "execute_result"
    }
   ],
   "source": [
    "Card(footer=btn, footer_cls='uk-text-right')"
   ]
  },
  {
   "cell_type": "code",
   "execution_count": 40,
   "metadata": {},
   "outputs": [],
   "source": [
    "#| hide\n",
    "\n",
    "\n",
    "import nbdev; nbdev.nbdev_export()"
   ]
  },
  {
   "cell_type": "code",
   "execution_count": 39,
   "metadata": {},
   "outputs": [],
   "source": []
  },
  {
   "cell_type": "code",
   "execution_count": 34,
   "metadata": {},
   "outputs": [],
   "source": []
  },
  {
   "cell_type": "code",
   "execution_count": null,
   "metadata": {},
   "outputs": [],
   "source": []
  }
 ],
 "metadata": {
  "kernelspec": {
   "display_name": "python3",
   "language": "python",
   "name": "python3"
  },
  "language_info": {
   "name": "python"
  }
 },
 "nbformat": 4,
 "nbformat_minor": 4
}
