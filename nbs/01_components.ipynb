{
 "cells": [
  {
   "cell_type": "markdown",
   "metadata": {},
   "source": [
    "# Components\n",
    "\n",
    "> Componenents that are the building blocks to the UI"
   ]
  },
  {
   "cell_type": "code",
   "execution_count": 1,
   "metadata": {},
   "outputs": [],
   "source": [
    "#| default_exp components"
   ]
  },
  {
   "cell_type": "code",
   "execution_count": 3,
   "metadata": {},
   "outputs": [],
   "source": [
    "#| hide\n",
    "#| export\n",
    "# from fh_frankenui.foundations import *\n",
    "from fasthtml.common import *\n",
    "from enum import Enum"
   ]
  },
  {
   "cell_type": "markdown",
   "metadata": {},
   "source": [
    "## Themes\n",
    "\n",
    "Choose a theme for your app."
   ]
  },
  {
   "cell_type": "code",
   "execution_count": 4,
   "metadata": {},
   "outputs": [],
   "source": [
    "#| export\n",
    "class Theme(Enum):\n",
    "    slate = \"slate\"\n",
    "    stone = \"stone\"\n",
    "    gray = \"gray\"\n",
    "    neutral = \"neutral\"\n",
    "    red = \"red\"\n",
    "    rose = \"rose\"\n",
    "    orange = \"orange\"\n",
    "    green = \"green\"\n",
    "    blue = \"blue\"\n",
    "    yellow = \"yellow\"\n",
    "    violet = \"violet\"\n",
    "    zinc = \"zinc\"\n",
    "\n",
    "    def headers(self):\n",
    "        js = (Script(src=\"https://cdn.jsdelivr.net/npm/uikit@3.21.6/dist/js/uikit.min.js\"),\n",
    "              Script(src=\"https://cdn.jsdelivr.net/npm/uikit@3.21.6/dist/js/uikit-icons.min.js\"))\n",
    "        _url = \"https://unpkg.com/franken-wc@0.0.6/dist/css/{theme}.min.css\"\n",
    "        return (*js, Link(rel=\"stylesheet\", href=_url.format(theme=self.value)))\n"
   ]
  },
  {
   "cell_type": "code",
   "execution_count": 15,
   "metadata": {
    "vscode": {
     "languageId": "plaintext"
    }
   },
   "outputs": [],
   "source": [
    "hdrs = Theme.blue.headers()"
   ]
  },
  {
   "cell_type": "markdown",
   "metadata": {},
   "source": [
    "## Base Components"
   ]
  },
  {
   "cell_type": "code",
   "execution_count": 13,
   "metadata": {},
   "outputs": [],
   "source": [
    "#| export\n",
    "def UkInput(label=(), cls=(), id=\"\", **kwargs):\n",
    "    if label: \n",
    "        label = Label(label, cls='uk-form-label')\n",
    "        if id: label.fr = id\n",
    "    res = Input(cls=f'uk-input', **kwargs)\n",
    "    if id: res.id = id\n",
    "    return Div(cls=cls)(label, res)"
   ]
  },
  {
   "cell_type": "code",
   "execution_count": 26,
   "metadata": {},
   "outputs": [
    {
     "data": {
      "text/markdown": [
       "```html\n",
       "<div class=\"\">\n",
       "  <label class=\"uk-form-label\" fr=\"name\">Name</label>\n",
       "  <input class=\"uk-input\" id=\"name\">\n",
       "</div>\n",
       "\n",
       "```"
      ],
      "text/plain": [
       "['div',\n",
       " (['label', ('Name',), {'class': 'uk-form-label', 'fr': 'name'}],\n",
       "  ['input', (), {'class': 'uk-input', 'id': 'name'}]),\n",
       " {'class': ''}]"
      ]
     },
     "execution_count": null,
     "metadata": {},
     "output_type": "execute_result"
    }
   ],
   "source": [
    "inp = UkInput(label=\"Name\", id=\"name\"); inp"
   ]
  },
  {
   "cell_type": "code",
   "execution_count": 11,
   "metadata": {},
   "outputs": [],
   "source": [
    "#| export\n",
    "def UkButton(*c, typ=\"\", **kwargs):\n",
    "    if typ: typ = f'uk-button-{typ}'\n",
    "    return Button(cls=f'uk-button {typ}', **kwargs)(*c)"
   ]
  },
  {
   "cell_type": "code",
   "execution_count": 25,
   "metadata": {},
   "outputs": [
    {
     "data": {
      "text/markdown": [
       "```html\n",
       "<button disabled class=\"uk-button uk-button-primary\">Click me</button>\n",
       "\n",
       "```"
      ],
      "text/plain": [
       "['button',\n",
       " ('Click me',),\n",
       " {'disabled': True, 'class': 'uk-button uk-button-primary'}]"
      ]
     },
     "execution_count": null,
     "metadata": {},
     "output_type": "execute_result"
    }
   ],
   "source": [
    "btn = UkButton('Click me', typ='primary', disabled=True); btn"
   ]
  },
  {
   "cell_type": "markdown",
   "metadata": {},
   "source": [
    "## Higher order components"
   ]
  },
  {
   "cell_type": "code",
   "execution_count": 5,
   "metadata": {},
   "outputs": [],
   "source": [
    "#|export\n",
    "def Card(*c, header=None, footer=None, **kwargs):\n",
    "    res = []\n",
    "    if header: res += [Div(cls='uk-card-header')(header),]\n",
    "    res += [Div(cls='uk-card-body')(*c),]\n",
    "    if footer: res += [Div(cls='uk-card-footer')(footer),]\n",
    "    return Div(cls='uk-card', **kwargs)(*res)"
   ]
  },
  {
   "cell_type": "code",
   "execution_count": 27,
   "metadata": {},
   "outputs": [
    {
     "data": {
      "text/markdown": [
       "```html\n",
       "<div class=\"uk-card\">\n",
       "  <div class=\"uk-card-header\">\n",
       "    <strong>A bold header</strong>\n",
       "  </div>\n",
       "  <div class=\"uk-card-body\">\n",
       "    <p>A simple text body</p>\n",
       "    <div class=\"\">\n",
       "      <label class=\"uk-form-label\" fr=\"name\">Name</label>\n",
       "      <input class=\"uk-input\" id=\"name\">\n",
       "    </div>\n",
       "  </div>\n",
       "  <div class=\"uk-card-footer\">\n",
       "    <button disabled class=\"uk-button uk-button-primary\">Click me</button>\n",
       "  </div>\n",
       "</div>\n",
       "\n",
       "```"
      ],
      "text/plain": [
       "['div',\n",
       " (['div', (['strong', ('A bold header',), {}],), {'class': 'uk-card-header'}],\n",
       "  ['div',\n",
       "   (['p', ('A simple text body',), {}],\n",
       "    ['div',\n",
       "     (['label', ('Name',), {'class': 'uk-form-label', 'fr': 'name'}],\n",
       "      ['input', (), {'class': 'uk-input', 'id': 'name'}]),\n",
       "     {'class': ''}]),\n",
       "   {'class': 'uk-card-body'}],\n",
       "  ['div',\n",
       "   (['button',\n",
       "     ('Click me',),\n",
       "     {'disabled': True, 'class': 'uk-button uk-button-primary'}],),\n",
       "   {'class': 'uk-card-footer'}]),\n",
       " {'class': 'uk-card'}]"
      ]
     },
     "execution_count": null,
     "metadata": {},
     "output_type": "execute_result"
    }
   ],
   "source": [
    "Card(P('A simple text body'), inp, header=Strong(\"A bold header\"), footer=btn)"
   ]
  },
  {
   "cell_type": "code",
   "execution_count": null,
   "metadata": {},
   "outputs": [],
   "source": []
  }
 ],
 "metadata": {
  "kernelspec": {
   "display_name": "python3",
   "language": "python",
   "name": "python3"
  },
  "language_info": {
   "name": "python"
  }
 },
 "nbformat": 4,
 "nbformat_minor": 4
}
