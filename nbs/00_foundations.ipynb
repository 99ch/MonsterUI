{
 "cells": [
  {
   "cell_type": "markdown",
   "metadata": {},
   "source": [
    "# Foundations\n",
    "\n",
    "> Data structures that support the library"
   ]
  },
  {
   "cell_type": "code",
   "execution_count": 4,
   "metadata": {},
   "outputs": [],
   "source": [
    "#| default_exp foundations\n"
   ]
  },
  {
   "cell_type": "code",
   "execution_count": null,
   "metadata": {},
   "outputs": [],
   "source": [
    "#| export\n",
    "from fasthtml.common import *\n",
    "from enum import Enum, EnumMeta, EnumType\n",
    "import string"
   ]
  },
  {
   "cell_type": "code",
   "execution_count": 5,
   "metadata": {},
   "outputs": [],
   "source": [
    "from fastcore.test import *"
   ]
  },
  {
   "cell_type": "code",
   "execution_count": 6,
   "metadata": {},
   "outputs": [],
   "source": [
    "#| hide\n",
    "from nbdev.showdoc import *"
   ]
  },
  {
   "cell_type": "markdown",
   "metadata": {},
   "source": [
    "## BaseEnum"
   ]
  },
  {
   "cell_type": "code",
   "execution_count": 7,
   "metadata": {},
   "outputs": [],
   "source": [
    "#| export\n",
    "\n",
    "class BaseEnum(Enum):\n",
    "    def __add__(self, other):\n",
    "        return self.__str__() + other.__str__()\n",
    "    \n",
    "    def __str__(self):\n",
    "        base = self.__class__.__name__       \n",
    "        if isinstance(self.__class__, EnumType):\n",
    "            base = base.rstrip(string.ascii_uppercase).rstrip('_')\n",
    "        return f\"uk-{base.lower()}-{self.value}\".strip('-')\n"
   ]
  },
  {
   "cell_type": "markdown",
   "metadata": {},
   "source": [
    "## TextBase"
   ]
  },
  {
   "cell_type": "code",
   "execution_count": 8,
   "metadata": {},
   "outputs": [
    {
     "data": {
      "text/markdown": [
       "```html\n",
       "<div class=\"uk-text-red uk-text-small\"></div>\n",
       "\n",
       "```"
      ],
      "text/plain": [
       "['div', (), {'class': 'uk-text-red uk-text-small'}]"
      ]
     },
     "execution_count": null,
     "metadata": {},
     "output_type": "execute_result"
    }
   ],
   "source": [
    "class TextBASE(BaseEnum):\n",
    "    red = 'red'\n",
    "    blue = 'blue'\n",
    "    small = 'small'\n",
    "    large = 'large'\n",
    "    \n",
    "\n",
    "test_eq(to_xml(Div(cls=TextBASE.red)), '<div class=\"uk-text-red\"></div>\\n')\n",
    "Div(cls=(TextBASE.red,TextBASE.small))"
   ]
  },
  {
   "cell_type": "code",
   "execution_count": 9,
   "metadata": {},
   "outputs": [],
   "source": [
    "#| export\n",
    "class CoreEnum(BaseEnum):\n",
    "    def __init__(self, name):\n",
    "        if isinstance(name, str): pass\n",
    "        else:\n",
    "            for enm in name:\n",
    "                self.__setattr__(enm.name, enm)"
   ]
  },
  {
   "cell_type": "code",
   "execution_count": 10,
   "metadata": {},
   "outputs": [],
   "source": [
    "class TextT(CoreEnum):\n",
    "    subenum = TextBASE\n",
    "    toparg = 'arg'\n",
    "\n",
    "test_eq(str(TextT.subenum.red), 'uk-text-red')\n",
    "test_eq(str(TextT.toparg), 'uk-text-arg')"
   ]
  },
  {
   "cell_type": "code",
   "execution_count": 11,
   "metadata": {},
   "outputs": [],
   "source": [
    "#| hide\n",
    "import nbdev; nbdev.nbdev_export()"
   ]
  },
  {
   "cell_type": "code",
   "execution_count": null,
   "metadata": {},
   "outputs": [],
   "source": []
  }
 ],
 "metadata": {
  "kernelspec": {
   "display_name": "python3",
   "language": "python",
   "name": "python3"
  },
  "language_info": {
   "name": "python"
  }
 },
 "nbformat": 4,
 "nbformat_minor": 4
}
