{
 "cells": [
  {
   "cell_type": "code",
   "execution_count": 1,
   "id": "613e8c6f",
   "metadata": {},
   "outputs": [
    {
     "data": {
      "text/html": [
       "\n",
       "<script>\n",
       "document.body.addEventListener('htmx:configRequest', (event) => {\n",
       "    if(event.detail.path.includes('://')) return;\n",
       "    htmx.config.selfRequestsOnly=false;\n",
       "    event.detail.path = `${location.protocol}//${location.hostname}:8000${event.detail.path}`;\n",
       "});\n",
       "</script>"
      ],
      "text/plain": [
       "<IPython.core.display.HTML object>"
      ]
     },
     "metadata": {},
     "output_type": "display_data"
    }
   ],
   "source": [
    "from fasthtml.common import *\n",
    "from fh_frankenui.core import *\n",
    "app, rt = fast_app(hdrs=Theme.blue.headers())\n",
    "from fasthtml.jupyter import HTMX, JupyUvi\n",
    "server = JupyUvi(app)\n",
    "\n",
    "from ContextKit.contexts import  read_url\n",
    "fh_frankenui_ctx = read_url('https://raw.githubusercontent.com/AnswerDotAI/fh-frankenui/refs/heads/main/nbs/llms-ctx-full.txt')\n",
    "fh_frankenui_ctx[:100]\n",
    "from functools import partial\n",
    "Show = partial(HTMX, app=app)"
   ]
  },
  {
   "cell_type": "code",
   "execution_count": 2,
   "id": "c3c6ef7c",
   "metadata": {},
   "outputs": [],
   "source": [
    "%%ai 0\n",
    "read $`fh_frankenui_ctx` and tell me you understand all the information and that it is critical to use frankenui as I am wriitng docs for the fh_frankenui library"
   ]
  },
  {
   "cell_type": "markdown",
   "id": "2139c851",
   "metadata": {},
   "source": [
    "I've reviewed the `fh_frankenui_ctx` content, which contains comprehensive documentation about Fh_Frankenui, including crucial details about:\n",
    "\n",
    "1. Core incompatibilities:\n",
    "   - Must NOT use Pico CSS (completely incompatible)\n",
    "   - Not compatible with FastAPI syntax\n",
    "\n",
    "2. Extensive Tailwind CSS reference information including:\n",
    "   - Spacing scales\n",
    "   - Breakpoint definitions\n",
    "   - Pseudo-classes\n",
    "   - Color palettes\n",
    "   - Flexbox utilities\n",
    "   - Grid systems\n",
    "   - Typography controls\n",
    "   - Layout options\n",
    "   - Component styling\n",
    "\n",
    "3. Important context about web components, HTMX integration, and styling approaches\n",
    "\n",
    "Yes, this information is critical as you're writing documentation for the fh_frankenui library. The context makes it clear that fh_frankenui is built on Tailwind CSS principles and requires careful attention to avoid common pitfalls like attempting to mix it with Pico CSS. I'll keep this context in mind when helping with any documentation tasks."
   ]
  },
  {
   "cell_type": "code",
   "execution_count": 3,
   "id": "0d785995",
   "metadata": {},
   "outputs": [],
   "source": [
    "%%ai 0\n",
    "\n",
    "I am writing a guide to laying out and creating the general structure of a page with Grid, flex, columns, or any other layout element needed.  We can even draw from tailwind if there's some particular layout things that aren't handled in frankenui.\n",
    "\n",
    "Create a short bulletted outline of when you would want to use a particular approach (ie grid vs flex vs ...), what it's useful for, and examples"
   ]
  },
  {
   "cell_type": "code",
   "execution_count": 34,
   "id": "a74f16fb",
   "metadata": {},
   "outputs": [],
   "source": [
    "from random import randint"
   ]
  },
  {
   "cell_type": "markdown",
   "id": "09a2b6fa",
   "metadata": {},
   "source": [
    "# Layouts\n",
    "\n",
    "This guide will discuss 3 tools for laying out your app pages, Grid, Flexbox, and Columns.  This page will discuss the strengths and when to use each individually, and then a section for how to combine them for more complex layouts at the end."
   ]
  },
  {
   "cell_type": "markdown",
   "id": "3bdf365b",
   "metadata": {},
   "source": [
    "# Grid\n",
    "\n",
    "Grids are best for regular predictable layouts with lots of the same shape of things that may need to change a lot for different screen sizes.  I think the best way to see what it can do is to see a bunch of examples, so here they are!"
   ]
  },
  {
   "cell_type": "markdown",
   "id": "7d1bc6e0",
   "metadata": {},
   "source": [
    "## Minimal Image Cards\n",
    "\n",
    "This is a minimal example of a grid that just shows image and text.  This is the foundation for all the other examples of grids that will grow in complexity, so make sure to understand what's going on here first before moving on!"
   ]
  },
  {
   "cell_type": "code",
   "execution_count": 111,
   "id": "8b6ef3ea",
   "metadata": {
    "scrolled": true
   },
   "outputs": [
    {
     "data": {
      "text/html": [
       "<iframe src=\"http://localhost:8000/_QdmsadKHQlqdmsd5wJbBqA\" style=\"width: 100%; height: auto; border: none;\" onload=\"{\n",
       "        let frame = this;\n",
       "        window.addEventListener('message', function(e) {\n",
       "            if (e.source !== frame.contentWindow) return; // Only proceed if the message is from this iframe\n",
       "            if (e.data.height) frame.style.height = (e.data.height+1) + 'px';\n",
       "        }, false);\n",
       "    }\" allow=\"accelerometer; autoplay; camera; clipboard-read; clipboard-write; display-capture; encrypted-media; fullscreen; gamepad; geolocation; gyroscope; hid; identity-credentials-get; idle-detection; magnetometer; microphone; midi; payment; picture-in-picture; publickey-credentials-get; screen-wake-lock; serial; usb; web-share; xr-spatial-tracking\"></iframe> "
      ],
      "text/plain": [
       "<IPython.core.display.HTML object>"
      ]
     },
     "execution_count": 111,
     "metadata": {},
     "output_type": "execute_result"
    }
   ],
   "source": [
    "def picsum_img(): return Img(src=f'https://picsum.photos/300/200?random={randint(0, 100)}')\n",
    "image_cards = [Card(picsum_img(),P(f\"Image {i}\")) for i in range(6)]\n",
    "   \n",
    "Show(\n",
    "Grid(*image_cards)\n",
    ")"
   ]
  },
  {
   "cell_type": "markdown",
   "id": "72db6030",
   "metadata": {},
   "source": [
    "# Sidebar Layout"
   ]
  },
  {
   "cell_type": "code",
   "execution_count": 233,
   "id": "618358c8",
   "metadata": {},
   "outputs": [
    {
     "data": {
      "text/html": [
       "<iframe src=\"http://localhost:8000/_oqyTBpvERYeIDd0mQsL-kQ\" style=\"width: 100%; height: auto; border: none;\" onload=\"{\n",
       "        let frame = this;\n",
       "        window.addEventListener('message', function(e) {\n",
       "            if (e.source !== frame.contentWindow) return; // Only proceed if the message is from this iframe\n",
       "            if (e.data.height) frame.style.height = (e.data.height+1) + 'px';\n",
       "        }, false);\n",
       "    }\" allow=\"accelerometer; autoplay; camera; clipboard-read; clipboard-write; display-capture; encrypted-media; fullscreen; gamepad; geolocation; gyroscope; hid; identity-credentials-get; idle-detection; magnetometer; microphone; midi; payment; picture-in-picture; publickey-credentials-get; screen-wake-lock; serial; usb; web-share; xr-spatial-tracking\"></iframe> "
      ],
      "text/plain": [
       "<IPython.core.display.HTML object>"
      ]
     },
     "execution_count": 233,
     "metadata": {},
     "output_type": "execute_result"
    }
   ],
   "source": [
    "Show(\n",
    "Grid(\n",
    "    Div(H3(\"Example Sidebar\"),\n",
    "    NavContainer(*[Li(A('Option 1'), cls='uk-active'), Li(A('Option 2')), Li(A('Option 3')), Li(A('Option 4'))])),\n",
    "Div(\"Main Content Here\", cls=\"h-96 bg-gray-100 col-span-4\"),\n",
    "cols=5\n",
    ")\n",
    ")"
   ]
  },
  {
   "cell_type": "markdown",
   "id": "c35376e2",
   "metadata": {},
   "source": [
    "## Dashboard Example"
   ]
  },
  {
   "cell_type": "markdown",
   "id": "a7c9149c",
   "metadata": {},
   "source": [
    "Dashboards commonly use grids as well, and is actually very similar to the above example with just a few more elements!  Key differences to focus in on:\n",
    "\n",
    "- Instead of a single type of card, we have 2 different types of cards\n",
    "- Instead of 1 grid, we have 2 grids"
   ]
  },
  {
   "cell_type": "code",
   "execution_count": 185,
   "id": "5abd8bd1",
   "metadata": {
    "scrolled": false
   },
   "outputs": [
    {
     "data": {
      "text/html": [
       "<iframe src=\"http://localhost:8000/_J5NE3xpPTTqTK7dKGDBS9g\" style=\"width: 100%; height: auto; border: none;\" onload=\"{\n",
       "        let frame = this;\n",
       "        window.addEventListener('message', function(e) {\n",
       "            if (e.source !== frame.contentWindow) return; // Only proceed if the message is from this iframe\n",
       "            if (e.data.height) frame.style.height = (e.data.height+1) + 'px';\n",
       "        }, false);\n",
       "    }\" allow=\"accelerometer; autoplay; camera; clipboard-read; clipboard-write; display-capture; encrypted-media; fullscreen; gamepad; geolocation; gyroscope; hid; identity-credentials-get; idle-detection; magnetometer; microphone; midi; payment; picture-in-picture; publickey-credentials-get; screen-wake-lock; serial; usb; web-share; xr-spatial-tracking\"></iframe> "
      ],
      "text/plain": [
       "<IPython.core.display.HTML object>"
      ]
     },
     "execution_count": 185,
     "metadata": {},
     "output_type": "execute_result"
    }
   ],
   "source": [
    "def StatCard(title, value, color='primary'):\n",
    "    return Card(P(title, cls=TextFont.muted_sm), H3(value, cls=f'text-{color}'),)\n",
    "\n",
    "stats = [stat_box(*data) for data in [\n",
    "                (\"Total Users\", \"1,234\",   \"blue-600\"),\n",
    "                (\"Active Now\",  \"342\",     \"green-600\"),\n",
    "                (\"Revenue\",     \"$45,678\", \"purple-600\"),\n",
    "                (\"Conversion\",  \"2.4%\",    \"amber-600\")]]\n",
    "\n",
    "\n",
    "def ChartCard(title): return Div(cls=\"col-span-2\")( # An element can take up more than 1 slot!\n",
    "    Card(H3(title),Div(\"Chart would go here\", cls=\"h-64 bg-gray-100\")))\n",
    "chart_cards = [ChartCard(title) for title in (\"Monthly Revenue\", \"User Growth\")]\n",
    "\n",
    "Show(\n",
    "Grid(*stats, *chart_cards, cols=4)\n",
    ")"
   ]
  },
  {
   "cell_type": "code",
   "execution_count": 192,
   "id": "9f0e2197",
   "metadata": {},
   "outputs": [
    {
     "data": {
      "text/plain": [
       "['blue-600', 'green-600', 'purple-600', 'amber-600']"
      ]
     },
     "execution_count": 192,
     "metadata": {},
     "output_type": "execute_result"
    }
   ],
   "source": [
    "['blue-600', 'green-600', 'purple-600', 'amber-600']"
   ]
  },
  {
   "cell_type": "code",
   "execution_count": 193,
   "id": "af8968b3",
   "metadata": {},
   "outputs": [],
   "source": [
    "%%ai\n",
    "\n",
    "get random selection from color list"
   ]
  },
  {
   "cell_type": "markdown",
   "id": "9f300682",
   "metadata": {},
   "source": [
    "##### Assistant"
   ]
  },
  {
   "cell_type": "code",
   "execution_count": 209,
   "id": "b19687d8",
   "metadata": {},
   "outputs": [],
   "source": [
    "from random import choice"
   ]
  },
  {
   "cell_type": "code",
   "execution_count": 230,
   "id": "a73c1882",
   "metadata": {},
   "outputs": [
    {
     "data": {
      "text/html": [
       "<iframe src=\"http://localhost:8000/_3Njf6fxdSI2RetmHOupoQQ\" style=\"width: 100%; height: auto; border: none;\" onload=\"{\n",
       "        let frame = this;\n",
       "        window.addEventListener('message', function(e) {\n",
       "            if (e.source !== frame.contentWindow) return; // Only proceed if the message is from this iframe\n",
       "            if (e.data.height) frame.style.height = (e.data.height+1) + 'px';\n",
       "        }, false);\n",
       "    }\" allow=\"accelerometer; autoplay; camera; clipboard-read; clipboard-write; display-capture; encrypted-media; fullscreen; gamepad; geolocation; gyroscope; hid; identity-credentials-get; idle-detection; magnetometer; microphone; midi; payment; picture-in-picture; publickey-credentials-get; screen-wake-lock; serial; usb; web-share; xr-spatial-tracking\"></iframe> "
      ],
      "text/plain": [
       "<IPython.core.display.HTML object>"
      ]
     },
     "execution_count": 230,
     "metadata": {},
     "output_type": "execute_result"
    }
   ],
   "source": [
    "colors = ['blue', 'green', 'purple', 'amber',  \n",
    "          'teal', 'indigo', 'rose', 'cyan']\n",
    "\n",
    "def StatCard(title, value):\n",
    "    color = choice(colors)\n",
    "    return Card(P(title, cls=TextFont.muted_sm), H3(value, cls=f'text-{color}-600'),)\n",
    "\n",
    "stats = [StatCard(*data) for data in [\n",
    "    (\"Total Users\", \"1,234\"), (\"Active Now\",  \"342\"), (\"Revenue\",     \"$45,678\"),\n",
    "    (\"Conversion\",  \"2.4%\"), (\"New Users\",   \"1,234\"), (\"Montly Activity\", \"9321\"),\n",
    "    (\"Monthly Revenue\", \"$45,678\"), (\"MTD Conversion\",  \"2.8%\")]]\n",
    "\n",
    "\n",
    "def ChartCard(title, rows=1, cols=1): \n",
    "    return Div(cls=f\"col-span-{cols} row-span-{rows}\")(  # Now spans 2 rows and 2 columns\n",
    "        Card(H3(title), Div(\"Chart would go here\", cls=\"h-96 bg-gray-100\")))  # Made taller with h-96\n",
    "\n",
    "Show(\n",
    "    Grid(ChartCard(\"Monthly Revenue\", rows=2, cols=2), \n",
    "         *stats, \n",
    "         cols=4)  # Put big chart first to make layout clearer\n",
    ")"
   ]
  },
  {
   "cell_type": "markdown",
   "id": "17b03bd9",
   "metadata": {},
   "source": [
    "## Team Members"
   ]
  },
  {
   "cell_type": "markdown",
   "id": "5d93db4b",
   "metadata": {},
   "source": [
    "Eventually we want to use these grid layouts with more data and we want the text inside the cards to be layed out differently, so we can add some styling to organize multiple content pieces together.\n",
    "\n",
    "In this example we use the `DivVStacked` and `DivHStacked` components to lay out text content in different ways\n",
    "+ DivVStacked: Stacks things vertically (on the same column)\n",
    "+ DivHStacked: Stacks things horizontally (on the same row)\n",
    "\n",
    "> Note: If you don't understand the `DivVStacked` or `DivHStacked` don't stress too much - the `Flex` section covers this in detail!"
   ]
  },
  {
   "cell_type": "code",
   "execution_count": 154,
   "id": "0a5b50d8",
   "metadata": {},
   "outputs": [
    {
     "data": {
      "text/html": [
       "<iframe src=\"http://localhost:8000/_gxTVSCsvR1mypjq992EcCg\" style=\"width: 100%; height: auto; border: none;\" onload=\"{\n",
       "        let frame = this;\n",
       "        window.addEventListener('message', function(e) {\n",
       "            if (e.source !== frame.contentWindow) return; // Only proceed if the message is from this iframe\n",
       "            if (e.data.height) frame.style.height = (e.data.height+1) + 'px';\n",
       "        }, false);\n",
       "    }\" allow=\"accelerometer; autoplay; camera; clipboard-read; clipboard-write; display-capture; encrypted-media; fullscreen; gamepad; geolocation; gyroscope; hid; identity-credentials-get; idle-detection; magnetometer; microphone; midi; payment; picture-in-picture; publickey-credentials-get; screen-wake-lock; serial; usb; web-share; xr-spatial-tracking\"></iframe> "
      ],
      "text/plain": [
       "<IPython.core.display.HTML object>"
      ]
     },
     "execution_count": 154,
     "metadata": {},
     "output_type": "execute_result"
    }
   ],
   "source": [
    "def team_member(name, role, location=\"Remote\"):\n",
    "    return Card(\n",
    "        DivLAligned(\n",
    "            DiceBearAvatar(name, h=24, w=24),\n",
    "            Div(H3(name), P(role))),\n",
    "        footer=DivFullySpaced(\n",
    "            DivHStacked(UkIcon(\"map-pin\", height=16), P(location)),\n",
    "            DivHStacked(*(UkIconLink(icon, height=16) for icon in (\"mail\", \"linkedin\", \"github\")))))\n",
    "\n",
    "team = [\n",
    "    team_member(\"Sarah Chen\", \"Engineering Lead\", \"San Francisco\"),\n",
    "    team_member(\"James Wilson\", \"Senior Developer\", \"New York\"),\n",
    "    team_member(\"Maria Garcia\", \"UX Designer\", \"London\"),\n",
    "    team_member(\"Alex Kumar\", \"Product Manager\", \"Singapore\"),\n",
    "    team_member(\"Emma Brown\", \"DevOps Engineer\", \"Toronto\"),\n",
    "    team_member(\"Marcus Johnson\", \"Frontend Developer\", \"Berlin\")\n",
    "]\n",
    "\n",
    "Show(Grid(*team))"
   ]
  },
  {
   "cell_type": "markdown",
   "id": "6d7be37f",
   "metadata": {},
   "source": [
    "## Blog Posts"
   ]
  },
  {
   "cell_type": "markdown",
   "id": "b9d1b1ed",
   "metadata": {},
   "source": [
    "We can use that exact same approach used in the previous example and apply it to things with more text, like a blog card as well!"
   ]
  },
  {
   "cell_type": "code",
   "execution_count": 149,
   "id": "c9ab6768",
   "metadata": {
    "scrolled": false
   },
   "outputs": [
    {
     "data": {
      "text/html": [
       "<iframe src=\"http://localhost:8000/_2wys5R97TLCrQa8-1OgJiQ\" style=\"width: 100%; height: auto; border: none;\" onload=\"{\n",
       "        let frame = this;\n",
       "        window.addEventListener('message', function(e) {\n",
       "            if (e.source !== frame.contentWindow) return; // Only proceed if the message is from this iframe\n",
       "            if (e.data.height) frame.style.height = (e.data.height+1) + 'px';\n",
       "        }, false);\n",
       "    }\" allow=\"accelerometer; autoplay; camera; clipboard-read; clipboard-write; display-capture; encrypted-media; fullscreen; gamepad; geolocation; gyroscope; hid; identity-credentials-get; idle-detection; magnetometer; microphone; midi; payment; picture-in-picture; publickey-credentials-get; screen-wake-lock; serial; usb; web-share; xr-spatial-tracking\"></iframe> "
      ],
      "text/plain": [
       "<IPython.core.display.HTML object>"
      ]
     },
     "execution_count": 149,
     "metadata": {},
     "output_type": "execute_result"
    }
   ],
   "source": [
    "def picsum_img(): return Img(src=f'https://picsum.photos/300/200?random={randint(0, 100)}')\n",
    "\n",
    "def BlogCard(title, author, date, excerpt):\n",
    "    return Card(\n",
    "        picsum_img(), \n",
    "        P(excerpt),\n",
    "        header=DivVStacked(\n",
    "            H4(title),\n",
    "            DivHStacked( \n",
    "                DiceBearAvatar(author, h=6, w=6),\n",
    "                P(author, cls=TextFont.muted_sm),\n",
    "                P(\"•\",    cls=TextFont.muted_sm),\n",
    "                P(date,   cls=TextFont.muted_sm),\n",
    "                cls=\"items-center space-x-2\"),\n",
    "            cls=\"space-y-2\"),\n",
    "        footer=DivHStacked(UkIconLink(\"arrow-right\"),P(\"Read More\",cls=TextT.bold)))\n",
    "\n",
    "blog_posts = [\n",
    "    BlogCard(\n",
    "        \"Getting Started with FastHTML and FrankenUI\",\n",
    "        \"Alex Kumar\",\n",
    "        \"Mar 15, 2024\",\n",
    "        \"Learn how to build modern web applications using FastHTML and FrankenUI. This comprehensive guide covers everything from basic setup to advanced components.\",\n",
    "    ),\n",
    "    BlogCard(\n",
    "        \"Best Practices for Responsive Layouts\",\n",
    "        \"Maria Garcia\", \n",
    "        \"Mar 12, 2024\",\n",
    "        \"Discover the key principles behind creating responsive layouts that work seamlessly across all devices. We'll explore Grid, Flexbox, and more.\",\n",
    "    ),\n",
    "    BlogCard(\n",
    "        \"Building a Dark Mode Toggle\",\n",
    "        \"James Wilson\",\n",
    "        \"Mar 10, 2024\", \n",
    "        \"Step-by-step tutorial on implementing a dark mode toggle using FrankenUI's theme system and Tailwind CSS.\",\n",
    "    ),\n",
    "]\n",
    "\n",
    "Show(\n",
    "    Grid(*blog_posts)\n",
    ")"
   ]
  },
  {
   "cell_type": "code",
   "execution_count": 168,
   "id": "5983eb23",
   "metadata": {},
   "outputs": [
    {
     "data": {
      "text/html": [
       "<iframe src=\"http://localhost:8000/_51dbVbluRQmigJ-uXbB-Jg\" style=\"width: 100%; height: auto; border: none;\" onload=\"{\n",
       "        let frame = this;\n",
       "        window.addEventListener('message', function(e) {\n",
       "            if (e.source !== frame.contentWindow) return; // Only proceed if the message is from this iframe\n",
       "            if (e.data.height) frame.style.height = (e.data.height+1) + 'px';\n",
       "        }, false);\n",
       "    }\" allow=\"accelerometer; autoplay; camera; clipboard-read; clipboard-write; display-capture; encrypted-media; fullscreen; gamepad; geolocation; gyroscope; hid; identity-credentials-get; idle-detection; magnetometer; microphone; midi; payment; picture-in-picture; publickey-credentials-get; screen-wake-lock; serial; usb; web-share; xr-spatial-tracking\"></iframe> "
      ],
      "text/plain": [
       "<IPython.core.display.HTML object>"
      ]
     },
     "execution_count": 168,
     "metadata": {},
     "output_type": "execute_result"
    }
   ],
   "source": [
    "def content_with_sidebar():\n",
    "    return Grid(\n",
    "        # Sidebar\n",
    "        Div(\n",
    "            H3(\"Navigation\"),\n",
    "            List(*[Li(f\"Link {i}\") for i in range(5)]),\n",
    "            cls=\"bg-gray-50 p-4 col-span-1\"\n",
    "        ),\n",
    "        # Main content\n",
    "        Div(\n",
    "            H2(\"Main Content\"),\n",
    "            P(\"Your content here...\"),\n",
    "            cls=\"col-span-3 p-4\"\n",
    "        ),\n",
    "        cols=4, cls=\"gap-4\"\n",
    "    )\n",
    "Show(content_with_sidebar())"
   ]
  },
  {
   "cell_type": "markdown",
   "id": "18155372",
   "metadata": {},
   "source": [
    "Would you like me to show any of these examples in more detail or demonstrate other types of non-card grid layouts?"
   ]
  },
  {
   "cell_type": "markdown",
   "id": "f54c9d3d",
   "metadata": {},
   "source": [
    "##### User"
   ]
  },
  {
   "cell_type": "code",
   "execution_count": null,
   "id": "8e60f9f3",
   "metadata": {},
   "outputs": [],
   "source": []
  },
  {
   "cell_type": "markdown",
   "id": "cc9bb132",
   "metadata": {},
   "source": [
    "# Flexbox"
   ]
  },
  {
   "cell_type": "markdown",
   "id": "1dcb8075",
   "metadata": {},
   "source": [
    "If you've read the guide examples you've already use some flexbox with `DivVStacked` and `DivHStacked`!  This is because fh-frankenui has several convenience components that do this for you.  As you can see you can do quite a bit without knowing anything about flexbox, but if you want to be able to create really flexible powerful layouts it is well worth the time to learn a bit of flexbox.  With grids, flexbox is one of the core foundations of modern web layouts.  To learn about Flexbox, I recommend playing [FlexBox Froggy](https://flexboxfroggy.com/).\n",
    "\n",
    "> Flexbox really shines in smaller components in the application, and often Grid is used for the larger scale layout.  They work together beautifully!"
   ]
  },
  {
   "cell_type": "code",
   "execution_count": 155,
   "id": "ff76b581",
   "metadata": {},
   "outputs": [],
   "source": [
    "%%ai\n",
    "\n",
    "Give 10 unique examples of things that would be best with a flexbox based layout strategy"
   ]
  },
  {
   "cell_type": "markdown",
   "id": "e3c1c43b",
   "metadata": {},
   "source": [
    "Here are 10 examples where flexbox layout would be the ideal choice:\n",
    "\n",
    "1. Navigation Bars\n",
    "   - Perfect for horizontal menus with variable-width items\n",
    "   - Easily handles spacing between nav items\n",
    "   - Simple right/left alignment of different sections\n",
    "   ```python\n",
    "   DivFullySpaced(\n",
    "       DivHStacked(UkIcon(\"logo\"), H3(\"Brand\")),\n",
    "       DivHStacked(*(A(text) for text in [\"Home\", \"About\", \"Contact\"]))\n",
    "   )\n",
    "   ```\n",
    "\n",
    "2. Form Input Groups\n",
    "   - Combining inputs with buttons/icons\n",
    "   - Maintaining alignment between label and input\n",
    "   - Handling variable-width form elements\n",
    "   ```python\n",
    "   DivHStacked(\n",
    "       Input(placeholder=\"Search...\"),\n",
    "       Button(UkIcon(\"search\"))\n",
    "   )\n",
    "   ```\n",
    "\n",
    "3. Card Headers with Avatars\n",
    "   - Aligning avatar with text vertically\n",
    "   - Placing action buttons/icons on the right\n",
    "   ```python\n",
    "   DivFullySpaced(\n",
    "       DivHStacked(DiceBearAvatar(\"user\"), P(\"Username\")),\n",
    "       UkIconLink(\"more\")\n",
    "   )\n",
    "   ```\n",
    "\n",
    "4. Pricing Tiers\n",
    "   - Vertically aligning feature lists\n",
    "   - Centering content within each tier\n",
    "   - Pushing CTA button to bottom\n",
    "   ```python\n",
    "   DivVStacked(\n",
    "       H2(\"Pro Plan\"),\n",
    "       P(\"$99/mo\"),\n",
    "       List(*features),\n",
    "       Button(\"Subscribe\", cls=ButtonT.primary)\n",
    "   )\n",
    "   ```\n",
    "\n",
    "5. Social Media Share Buttons\n",
    "   - Equal spacing between variable-width buttons\n",
    "   - Horizontal alignment with consistent spacing\n",
    "   ```python\n",
    "   DivHStacked(*(\n",
    "       Button(UkIcon(icon), text) \n",
    "       for icon, text in [(\"twitter\", \"Tweet\"), (\"facebook\", \"Share\")]\n",
    "   ))\n",
    "   ```\n",
    "\n",
    "6. Footer Columns\n",
    "   - Responsive stacking of footer sections\n",
    "   - Equal height columns\n",
    "   - Vertical alignment of content\n",
    "   ```python\n",
    "   DivFullySpaced(\n",
    "       DivVStacked(H4(\"Company\"), *company_links),\n",
    "       DivVStacked(H4(\"Resources\"), *resource_links),\n",
    "       DivVStacked(H4(\"Legal\"), *legal_links)\n",
    "   )\n",
    "   ```\n",
    "\n",
    "7. Statistics/Metrics Display\n",
    "   - Equal spacing between metrics\n",
    "   - Vertical alignment of numbers and labels\n",
    "   ```python\n",
    "   DivHStacked(*(\n",
    "       DivVStacked(H3(value), P(label, cls=TextFont.muted_sm))\n",
    "       for value, label in metrics\n",
    "   ))\n",
    "   ```\n",
    "\n",
    "8. Comment Threads\n",
    "   - Avatar alignment with content\n",
    "   - Nested replies with proper indentation\n",
    "   ```python\n",
    "   DivHStacked(\n",
    "       DiceBearAvatar(\"user\"),\n",
    "       DivVStacked(\n",
    "           H4(\"Username\"),\n",
    "           P(\"Comment text\"),\n",
    "           DivHStacked(*(Button(text) for text in [\"Reply\", \"Share\"]))\n",
    "       )\n",
    "   )\n",
    "   ```\n",
    "\n",
    "9. File Upload Dropzone\n",
    "   - Centered icon and text\n",
    "   - Flexible spacing for drag-and-drop area\n",
    "   ```python\n",
    "   DivCentered(\n",
    "       UkIcon(\"upload\"),\n",
    "       P(\"Drag files here or click to upload\"),\n",
    "       Input(type=\"file\")\n",
    "   )\n",
    "   ```\n",
    "\n",
    "10. Filter/Tag Lists\n",
    "    - Wrapping of variable-width tags\n",
    "    - Consistent spacing between elements\n",
    "    - Alignment with remove buttons\n",
    "    ```python\n",
    "    DivHStacked(*(\n",
    "        DivHStacked(\n",
    "            P(tag),\n",
    "            Button(\"×\", cls=ButtonT.ghost)\n",
    "        ) for tag in tags\n",
    "    ))\n",
    "    ```\n",
    "\n",
    "The key advantages of flexbox in these scenarios are:\n",
    "- Handling variable-width content\n",
    "- Maintaining vertical alignment\n",
    "- Easy spacing between elements\n",
    "- Responsive reordering\n",
    "- Push/pull elements to start/end\n",
    "- Centering content both vertically and horizontally\n",
    "\n",
    "These layouts would be more complicated or impossible to achieve effectively with Grid or traditional block layouts."
   ]
  },
  {
   "cell_type": "code",
   "execution_count": 160,
   "id": "ee14a872",
   "metadata": {},
   "outputs": [],
   "source": [
    "%%aip\n",
    "\n",
    "Are there any full page examples you can make?  Make 1 really great example that doesn't use any Grids"
   ]
  },
  {
   "cell_type": "code",
   "execution_count": 161,
   "id": "1e29f9de",
   "metadata": {},
   "outputs": [
    {
     "data": {
      "text/html": [
       "<iframe src=\"http://localhost:8000/_NUhXLfqtRxWRAOXp1_j1MQ\" style=\"width: 100%; height: auto; border: none;\" onload=\"{\n",
       "        let frame = this;\n",
       "        window.addEventListener('message', function(e) {\n",
       "            if (e.source !== frame.contentWindow) return; // Only proceed if the message is from this iframe\n",
       "            if (e.data.height) frame.style.height = (e.data.height+1) + 'px';\n",
       "        }, false);\n",
       "    }\" allow=\"accelerometer; autoplay; camera; clipboard-read; clipboard-write; display-capture; encrypted-media; fullscreen; gamepad; geolocation; gyroscope; hid; identity-credentials-get; idle-detection; magnetometer; microphone; midi; payment; picture-in-picture; publickey-credentials-get; screen-wake-lock; serial; usb; web-share; xr-spatial-tracking\"></iframe> "
      ],
      "text/plain": [
       "<IPython.core.display.HTML object>"
      ]
     },
     "execution_count": 161,
     "metadata": {},
     "output_type": "execute_result"
    }
   ],
   "source": [
    "def sidebar_link(icon, text, active=False):\n",
    "    cls = 'flex items-center space-x-2 p-3 rounded hover:bg-secondary/10'\n",
    "    if active: cls += ' bg-secondary/10'\n",
    "    return A(UkIcon(icon, height=20), P(text), cls=cls, href=\"#\")\n",
    "\n",
    "def SidebarNav():\n",
    "    return DivVStacked(\n",
    "        # Logo section\n",
    "        DivHStacked(UkIcon(\"zap\", height=24), H3(\"MyApp\"), cls=\"p-4\"),\n",
    "        DividerLine(),\n",
    "        \n",
    "        # Main navigation\n",
    "        DivVStacked(\n",
    "            sidebar_link(\"home\", \"Dashboard\", active=True),\n",
    "            sidebar_link(\"users\", \"Team\"),\n",
    "            sidebar_link(\"folder\", \"Projects\"),\n",
    "            sidebar_link(\"calendar\", \"Calendar\"),\n",
    "            sidebar_link(\"settings\", \"Settings\"),\n",
    "            cls=\"p-2\"\n",
    "        ),\n",
    "        \n",
    "        # Bottom section with user\n",
    "        DivVStacked(\n",
    "            DividerLine(),\n",
    "            DivFullySpaced(\n",
    "                DivHStacked(\n",
    "                    DiceBearAvatar(\"John Doe\", h=8, w=8),\n",
    "                    DivVStacked(\n",
    "                        P(\"John Doe\", cls=TextT.bold),\n",
    "                        P(\"john@example.com\", cls=TextFont.muted_sm)\n",
    "                    )\n",
    "                ),\n",
    "                UkIconLink(\"log-out\")\n",
    "            ),\n",
    "            cls=\"mt-auto p-4\"  # mt-auto pushes this to bottom\n",
    "        ),\n",
    "        cls=\"h-screen w-64 border-r border-border bg-background\"\n",
    "    )\n",
    "\n",
    "def TopNav():\n",
    "    return DivFullySpaced(\n",
    "        # Left side - Search\n",
    "        DivHStacked(\n",
    "            UkIcon(\"search\", height=20),\n",
    "            Input(placeholder=\"Search...\", cls=\"bg-transparent border-0\"),\n",
    "            cls=\"bg-secondary/10 rounded-lg px-3 py-2\"\n",
    "        ),\n",
    "        \n",
    "        # Right side - notifications & profile\n",
    "        DivHStacked(\n",
    "            UkIconLink(\"bell\"),\n",
    "            DividerSplit(),\n",
    "            DiceBearAvatar(\"John Doe\", h=8, w=8),\n",
    "            cls=\"space-x-4\"\n",
    "        ),\n",
    "        cls=\"p-4 border-b border-border\"\n",
    "    )\n",
    "\n",
    "def MainContent():\n",
    "    return DivVStacked(\n",
    "        # Page header\n",
    "        DivVStacked(\n",
    "            H2(\"Welcome back, John!\", cls=\"text-2xl font-bold\"),\n",
    "            P(\"Here's what's happening with your projects today.\", cls=TextFont.muted_sm),\n",
    "            cls=\"mb-6\"\n",
    "        ),\n",
    "        \n",
    "        # Stats row\n",
    "        DivHStacked(*(\n",
    "            Card(\n",
    "                DivVStacked(\n",
    "                    P(label, cls=TextFont.muted_sm),\n",
    "                    H3(value),\n",
    "                    P(f\"{change}% from last month\", cls=f\"text-{color}-600 text-sm\")\n",
    "                )\n",
    "            )\n",
    "            for label, value, change, color in [\n",
    "                (\"Total Projects\", \"12\", \"+2.5\", \"green\"),\n",
    "                (\"Hours Logged\", \"164\", \"+12.3\", \"green\"),\n",
    "                (\"Tasks Complete\", \"64%\", \"-4.1\", \"red\"),\n",
    "                (\"Team Velocity\", \"23\", \"+8.4\", \"green\")\n",
    "            ]\n",
    "        ), cls=\"space-x-4 mb-6\"),\n",
    "        \n",
    "        # Recent activity\n",
    "        Card(\n",
    "            *(DivHStacked(\n",
    "                DiceBearAvatar(user, h=8, w=8),\n",
    "                P(f\"{user} {action}\", cls=\"flex-1\"),\n",
    "                P(time, cls=TextFont.muted_sm)\n",
    "            ) for user, action, time in [\n",
    "                (\"Sarah Chen\", \"completed Project Alpha deployment\", \"2h ago\"),\n",
    "                (\"James Wilson\", \"commented on Project Beta\", \"4h ago\"),\n",
    "                (\"Maria Garcia\", \"uploaded new design files\", \"6h ago\"),\n",
    "                (\"Alex Kumar\", \"started Sprint Planning\", \"8h ago\")\n",
    "            ]),\n",
    "            header=H3(\"Recent Activity\"),\n",
    "            cls=\"space-y-4\"\n",
    "        ),\n",
    "        cls=\"p-6 flex-1\"  # flex-1 allows content to fill available space\n",
    "    )\n",
    "\n",
    "def AdminDashboard():\n",
    "    return DivHStacked(\n",
    "        SidebarNav(),\n",
    "        DivVStacked(\n",
    "            TopNav(),\n",
    "            MainContent(),\n",
    "            cls=\"flex-1\"  # Take remaining width\n",
    "        )\n",
    "    )\n",
    "\n",
    "Show(AdminDashboard())"
   ]
  },
  {
   "cell_type": "code",
   "execution_count": null,
   "id": "7b0bea9a",
   "metadata": {},
   "outputs": [],
   "source": []
  },
  {
   "cell_type": "markdown",
   "id": "c1738563",
   "metadata": {},
   "source": [
    "• Flex Layout (Various components)\n",
    "  - `DivHStacked`: Horizontal row of elements with equal spacing\n",
    "    * Best for: Navigation bars, button groups, inline toolbars\n",
    "    * Example: `DivHStacked(Button(\"Save\"), Button(\"Cancel\"))`\n",
    "  \n",
    "  - `DivVStacked`: Vertical stack of elements with equal spacing\n",
    "    * Best for: Forms, content sections, vertical navigation\n",
    "    * Example: `DivVStacked(H1(\"Title\"), P(\"Content\"), Button(\"Submit\"))`\n",
    "  \n",
    "  - `DivFullySpaced`: Elements spread across full width\n",
    "    * Best for: Header bars with logo and actions\n",
    "    * Example: `DivFullySpaced(Logo(), NavLinks(), UserMenu())`\n",
    "  \n",
    "  - `DivCentered`: Center content both horizontally and vertically\n",
    "    * Best for: Modal dialogs, hero sections, loading states\n",
    "    * Example: `DivCentered(LoadingSpinner())`"
   ]
  },
  {
   "cell_type": "markdown",
   "id": "72041ec1",
   "metadata": {},
   "source": [
    "• Columns (Tailwind classes)\n",
    "  - Best for:\n",
    "    * Text-heavy layouts like blog posts or articles\n",
    "    * Magazine-style layouts\n",
    "    * Content that needs to flow naturally in columns\n",
    "  - Example:\n",
    "```python\n",
    "Div(\n",
    "    LongTextContent(),\n",
    "    cls=\"columns-1 md:columns-2 lg:columns-3 gap-8\"\n",
    ")\n",
    "```"
   ]
  },
  {
   "cell_type": "markdown",
   "id": "1f2264d9",
   "metadata": {},
   "source": [
    "# Combined"
   ]
  },
  {
   "cell_type": "code",
   "execution_count": null,
   "id": "bcc8c793",
   "metadata": {},
   "outputs": [],
   "source": []
  },
  {
   "cell_type": "code",
   "execution_count": null,
   "id": "dc8dc376",
   "metadata": {},
   "outputs": [],
   "source": []
  },
  {
   "cell_type": "markdown",
   "id": "cd9b50fa",
   "metadata": {},
   "source": [
    "• Container (Frankenui `Container`)\n",
    "  - Best for:\n",
    "    * Constraining content width\n",
    "    * Maintaining consistent margins\n",
    "    * Creating a visual hierarchy\n",
    "  - Example:\n",
    "```python\n",
    "Container(\n",
    "    MainContent(),\n",
    "    cls=ContainerT.large\n",
    ")\n",
    "```"
   ]
  },
  {
   "cell_type": "markdown",
   "id": "42086964",
   "metadata": {},
   "source": [
    "• Hybrid Approaches\n",
    "  - Grid + Flex: For complex layouts where some sections need grid behavior and others need flex\n",
    "  ```python\n",
    "  Container(\n",
    "      DivHStacked(Logo(), NavMenu()),  # Header with flex\n",
    "      Grid(                            # Main content in grid\n",
    "          Sidebar(),\n",
    "          MainContent(),\n",
    "          cols=2\n",
    "      )\n",
    "  )\n",
    "  ```\n",
    "  "
   ]
  },
  {
   "cell_type": "markdown",
   "id": "370f1411",
   "metadata": {},
   "source": [
    "  - Nested Grids: For layouts that need different grid patterns at different levels\n",
    "  ```python\n",
    "  Grid(\n",
    "      Sidebar(),\n",
    "      Grid(                     # Content area with its own grid\n",
    "          Card(), Card(), Card(),\n",
    "          cols_min=1,\n",
    "          cols_md=3\n",
    "      ),\n",
    "      cols=2                    # Main layout is 2 columns\n",
    "  )\n",
    "  ```"
   ]
  },
  {
   "cell_type": "markdown",
   "id": "dffd02e8",
   "metadata": {},
   "source": [
    "Each approach has its strengths, and they can be combined as needed. The key is choosing the right tool for the specific layout challenge:\n",
    "- Use Grid for predictable, grid-like layouts\n",
    "- Use Flex components for simple linear arrangements\n",
    "- Use Columns for text-flow layouts\n",
    "- Use Container for width constraints\n",
    "- Mix and match as needed for complex layouts\n",
    "\n",
    "Would you like me to expand on any of these approaches or provide more specific examples?"
   ]
  },
  {
   "cell_type": "code",
   "execution_count": 6,
   "id": "1fef8a79",
   "metadata": {},
   "outputs": [],
   "source": [
    "%%ai 0\n",
    "\n",
    "Other than grid, flex, columns, and container are there any other things that are needed to make great layouts from either frankenui or tailwind?"
   ]
  },
  {
   "cell_type": "markdown",
   "id": "d6c42640",
   "metadata": {},
   "source": [
    "Yes, here are other crucial layout tools available in Frankenui/Tailwind:\n",
    "\n",
    "1. Spacing Utilities\n",
    "   - Margin (`m-*`, `mt-*`, `mb-*`, etc.)\n",
    "   - Padding (`p-*`, `pt-*`, `pb-*`, etc.)\n",
    "   - Gap (`gap-*`) for grid/flex spacing\n",
    "   - Space-between (`space-x-*`, `space-y-*`)\n",
    "\n",
    "2. Positioning\n",
    "   - `PositionT` enum in Frankenui for common positioning\n",
    "   - Tailwind position utilities: `relative`, `absolute`, `fixed`, `sticky`\n",
    "   - Z-index control (`z-*`)\n",
    "   - Top/Right/Bottom/Left positioning (`top-*`, `right-*`, etc.)\n",
    "\n",
    "3. Display Properties\n",
    "   - `hidden`/`block`/`inline`/`inline-block`\n",
    "   - `overflow-*` utilities\n",
    "   - `visible`/`invisible`\n",
    "\n",
    "4. Responsive Design Tools\n",
    "   - Breakpoint prefixes (`sm:`, `md:`, `lg:`, `xl:`, `2xl:`)\n",
    "   - Container queries\n",
    "   - Responsive padding/margin\n",
    "\n",
    "5. Aspect Ratio Control\n",
    "   - `aspect-square`\n",
    "   - `aspect-video`\n",
    "   - `aspect-[4/3]`\n",
    "\n",
    "6. Object Fit/Position\n",
    "   - `object-cover`\n",
    "   - `object-contain`\n",
    "   - `object-fill`\n",
    "   - `object-position-*`\n",
    "\n",
    "7. Box Sizing Controls\n",
    "   - `box-border`\n",
    "   - `box-content`\n",
    "   - `w-*` and `h-*` for explicit sizing\n",
    "   - `min-w-*`, `max-w-*`, etc.\n",
    "\n",
    "8. Float and Clear\n",
    "   - `float-left`/`float-right`\n",
    "   - `clear-both`/`clear-left`/`clear-right`\n",
    "\n",
    "Would you like me to elaborate on any of these categories or provide specific examples of how they work together with the main layout components?"
   ]
  },
  {
   "cell_type": "markdown",
   "id": "44466237",
   "metadata": {},
   "source": [
    "```python\n",
    "\n",
    "```"
   ]
  },
  {
   "cell_type": "markdown",
   "id": "ddb2452e",
   "metadata": {},
   "source": [
    "# Layouts and Organization"
   ]
  },
  {
   "cell_type": "code",
   "execution_count": null,
   "id": "f20cb497",
   "metadata": {},
   "outputs": [],
   "source": []
  },
  {
   "cell_type": "markdown",
   "id": "b7c7f870",
   "metadata": {},
   "source": [
    "## Grid"
   ]
  },
  {
   "cell_type": "markdown",
   "id": "4d59fb2e",
   "metadata": {},
   "source": [
    "## Flex"
   ]
  },
  {
   "cell_type": "markdown",
   "id": "1500ca12",
   "metadata": {},
   "source": [
    "## Column"
   ]
  },
  {
   "cell_type": "code",
   "execution_count": 2,
   "id": "1fc40a3a",
   "metadata": {},
   "outputs": [
    {
     "data": {
      "text/html": [
       "<iframe src=\"http://localhost:8000/_Btl-an_MQrOkiGR1BT0hCQ\" style=\"width: 100%; height: auto; border: none;\" onload=\"{\n",
       "        let frame = this;\n",
       "        window.addEventListener('message', function(e) {\n",
       "            if (e.source !== frame.contentWindow) return; // Only proceed if the message is from this iframe\n",
       "            if (e.data.height) frame.style.height = (e.data.height+1) + 'px';\n",
       "        }, false);\n",
       "    }\" allow=\"accelerometer; autoplay; camera; clipboard-read; clipboard-write; display-capture; encrypted-media; fullscreen; gamepad; geolocation; gyroscope; hid; identity-credentials-get; idle-detection; magnetometer; microphone; midi; payment; picture-in-picture; publickey-credentials-get; screen-wake-lock; serial; usb; web-share; xr-spatial-tracking\"></iframe> "
      ],
      "text/plain": [
       "<IPython.core.display.HTML object>"
      ]
     },
     "execution_count": 2,
     "metadata": {},
     "output_type": "execute_result"
    }
   ],
   "source": [
    "HTMX(H1(\"Hello World\"), app=app)"
   ]
  },
  {
   "cell_type": "code",
   "execution_count": 5,
   "id": "3893fa73",
   "metadata": {},
   "outputs": [],
   "source": [
    "??HTMX"
   ]
  },
  {
   "cell_type": "code",
   "execution_count": null,
   "id": "da61fc8b",
   "metadata": {},
   "outputs": [],
   "source": []
  }
 ],
 "metadata": {
  "kernelspec": {
   "display_name": "Python 3 (ipykernel)",
   "language": "python",
   "name": "python3"
  },
  "language_info": {
   "codemirror_mode": {
    "name": "ipython",
    "version": 3
   },
   "file_extension": ".py",
   "mimetype": "text/x-python",
   "name": "python",
   "nbconvert_exporter": "python",
   "pygments_lexer": "ipython3",
   "version": "3.12.4"
  }
 },
 "nbformat": 4,
 "nbformat_minor": 5
}
