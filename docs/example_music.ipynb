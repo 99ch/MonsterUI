{
 "cells": [
  {
   "cell_type": "markdown",
   "id": "736af030",
   "metadata": {},
   "source": [
    "# Music\n",
    "\n",
    "> FrankenUI Music Example"
   ]
  },
  {
   "cell_type": "code",
   "execution_count": 2,
   "id": "31eb2fb8",
   "metadata": {},
   "outputs": [],
   "source": [
    "#| default_exp music"
   ]
  },
  {
   "cell_type": "code",
   "execution_count": 3,
   "id": "a9c34a3a",
   "metadata": {},
   "outputs": [],
   "source": [
    "#| export\n",
    "from fasthtml.common import *\n",
    "import fasthtml.common as fh\n",
    "from fh_frankenui import *\n",
    "from fh_frankenui.core import *\n",
    "from fh_frankenui.components import *"
   ]
  },
  {
   "cell_type": "code",
   "execution_count": 5,
   "id": "aced1509",
   "metadata": {},
   "outputs": [
    {
     "name": "stdout",
     "output_type": "stream",
     "text": [
      "Starter server on port 8007\n"
     ]
    }
   ],
   "source": [
    "#| hide\n",
    "#| eval: false\n",
    "from utils import create_server\n",
    "app, rt = fh.fast_app(pico=False, hdrs=Theme.blue.headers())\n",
    "server, Show = create_server(app)"
   ]
  },
  {
   "cell_type": "code",
   "execution_count": 6,
   "id": "19bfe783",
   "metadata": {},
   "outputs": [],
   "source": [
    "#| hide\n",
    "from nbdev.showdoc import *"
   ]
  },
  {
   "cell_type": "code",
   "execution_count": 7,
   "id": "e4ba6bc0",
   "metadata": {},
   "outputs": [
    {
     "data": {
      "text/html": [
       "<script src=\"https://cdn.tailwindcss.com\"></script>\n",
       "<script src=\"https://cdn.jsdelivr.net/npm/uikit@3.21.6/dist/js/uikit.min.js\"></script>\n",
       "<script src=\"https://cdn.jsdelivr.net/npm/uikit@3.21.6/dist/js/uikit-icons.min.js\"></script>\n",
       "<script type=\"module\" src=\"https://unpkg.com/franken-wc@0.0.6/dist/js/wc.iife.js\"></script>\n",
       "<link rel=\"stylesheet\" href=\"https://unpkg.com/franken-wc@0.0.6/dist/css/blue.min.css\">\n",
       "<style>\n",
       "#notebook-container { max-width: none; }\n",
       ".output_html * { list-style-type: none !important; }\n",
       ".disabled {opacity: 0.5; pointer-events: none; cursor: default; text-decoration: none;}\n",
       "</style>\n"
      ],
      "text/plain": [
       "<IPython.core.display.HTML object>"
      ]
     },
     "metadata": {},
     "output_type": "display_data"
    }
   ],
   "source": [
    "%%html\n",
    "<script src=\"https://cdn.tailwindcss.com\"></script>\n",
    "<script src=\"https://cdn.jsdelivr.net/npm/uikit@3.21.6/dist/js/uikit.min.js\"></script>\n",
    "<script src=\"https://cdn.jsdelivr.net/npm/uikit@3.21.6/dist/js/uikit-icons.min.js\"></script>\n",
    "<script type=\"module\" src=\"https://unpkg.com/franken-wc@0.0.6/dist/js/wc.iife.js\"></script>\n",
    "<link rel=\"stylesheet\" href=\"https://unpkg.com/franken-wc@0.0.6/dist/css/blue.min.css\">\n",
    "<style>\n",
    "#notebook-container { max-width: none; }\n",
    ".output_html * { list-style-type: none !important; }\n",
    ".disabled {opacity: 0.5; pointer-events: none; cursor: default; text-decoration: none;}\n",
    "</style>"
   ]
  },
  {
   "cell_type": "code",
   "execution_count": 22,
   "id": "d7958c70",
   "metadata": {},
   "outputs": [],
   "source": [
    "#| export\n",
    "def MusicLi(t,hk=''): return Li(A(FullySpacedDiv(t,P(hk,cls=TextFont.muted_sm))))\n",
    "\n",
    "music_items = [(\"About Music\", \"\"),(\"Preferences\", \"⌘\"),(\"Hide Music\", \"⌘H\"),(\"Hide Others\", \"⇧⌘H\"),(\"Quit Music\", \"⌘Q\")]\n",
    "\n",
    "file_dd_items = [(\"New\", \"\"),(\"Open Stream URL\", \"⌘U\"),(\"Close Window\", \"⌘W\"),(\"Library\", \"\"),(\"Import\", \"⌘O\"),\n",
    "    (\"Burn Playlist to Disc\", \"\"),(\"Show in Finder\", \"⇧⌘R\"),(\"Convert\", \"\"),(\"Page Setup\", \"Print\")]\n",
    "\n",
    "edit_actions = [(\"Undo\", \"⌘Z\"),(\"Redo\", \"⇧⌘Z\"),(\"Cut\", \"⌘X\"),(\"Copy\", \"⌘C\"),\n",
    "    (\"Paste\", \"⌘V\"),(\"Select All\", \"⌘A\"),(\"Deselect All\", \"⇧⌘A\")]\n",
    "\n",
    "view_dd_data = [\"Show Playing Next\", \"Show Lyrics\", \"Show Status Bar\", \"Hide Sidebar\", \"Enter Full Screen\"]\n",
    "\n",
    "account_dd_data = [Span(\"Switch Account\", cls=\"ml-6\"), [SpacedPP(\"Andy\"), LAlignedTxtIcon(\"Benoit\", 'plus-circle', 0.5, icon_right=False), SpacedPP(\"Luis\")],\n",
    "                   SpacedPPs(\"Manage Family\"), SpacedPPs(\"Add Account\")]"
   ]
  },
  {
   "cell_type": "code",
   "execution_count": 155,
   "id": "8547e19d",
   "metadata": {},
   "outputs": [],
   "source": [
    "#| export\n",
    "music_headers =NavBarContainer(\n",
    "    NavBarLSide(\n",
    "        NavBarNav(\n",
    "            Li(A(\"Music\"),NavBarNavContainer(map(lambda x: MusicLi(*x), music_items))),\n",
    "            Li(A(\"File\"),NavBarNavContainer(map(lambda x: MusicLi(*x), file_dd_items))),\n",
    "            Li(A(\"Edit\")),\n",
    "                NavBarNavContainer(\n",
    "                    *map(lambda x: MusicLi(*x), edit_actions),\n",
    "                    Li(A(FullySpacedDiv(\"Smart Dictation\",UkIcon(\"mic\")))),\n",
    "                    Li(A(FullySpacedDiv(\"Emojis & Symbols\",UkIcon(\"globe\"))))),\n",
    "            Li(A(\"View\"),\n",
    "               NavBarNavContainer(map(lambda x: MusicLi(x), view_dd_data))),\n",
    "            Li(A(\"Account\"),\n",
    "                NavBarNavContainer(\n",
    "                    NavHeaderLi(\"Switch Account\"),\n",
    "                    MusicLi(\"Andy\"),\n",
    "                    MusicLi(\"Benoit\"),\n",
    "                    MusicLi(\"Luis\"),\n",
    "                    MusicLi(\"Manage Family\"),\n",
    "                    MusicLi(\"Add Account\"))),\n",
    "        cls='space-x-4')))"
   ]
  },
  {
   "cell_type": "code",
   "execution_count": 156,
   "id": "98abd163",
   "metadata": {},
   "outputs": [
    {
     "data": {
      "text/html": [
       "<a href=\"http://localhost:8007/\" target=\"_blank\">Open in new tab</a>"
      ],
      "text/plain": [
       "<IPython.core.display.HTML object>"
      ]
     },
     "metadata": {},
     "output_type": "display_data"
    },
    {
     "data": {
      "text/html": [
       "<iframe src=\"http://localhost:8007/\" style=\"width: 100%; height: auto; border: none;\" onload=\"{\n",
       "        let frame = this;\n",
       "        window.addEventListener('message', function(e) {\n",
       "            if (e.source !== frame.contentWindow) return; // Only proceed if the message is from this iframe\n",
       "            if (e.data.height) frame.style.height = (e.data.height+1) + 'px';\n",
       "        }, false);\n",
       "    }\" allow=\"accelerometer; autoplay; camera; clipboard-read; clipboard-write; display-capture; encrypted-media; fullscreen; gamepad; geolocation; gyroscope; hid; identity-credentials-get; idle-detection; magnetometer; microphone; midi; payment; picture-in-picture; publickey-credentials-get; screen-wake-lock; serial; usb; web-share; xr-spatial-tracking\"></iframe> "
      ],
      "text/plain": [
       "<IPython.core.display.HTML object>"
      ]
     },
     "execution_count": 156,
     "metadata": {},
     "output_type": "execute_result"
    }
   ],
   "source": [
    "Show(music_headers)"
   ]
  },
  {
   "cell_type": "code",
   "execution_count": 152,
   "id": "dc5763e7",
   "metadata": {},
   "outputs": [],
   "source": [
    "#| export\n",
    "def AlbumImg(url):\n",
    "    return Div(cls=\"overflow-hidden rounded-md\")(Img(cls=\"transition-transform duration-200 hover:scale-105\", src=url))\n",
    "\n",
    "def AlbumFooter(title, artist):\n",
    "    return Div(cls='space-y-1')(P(title,cls=TextT.bold),P(artist,cls=TextT.muted))\n",
    "\n",
    "def Album(url,title,artist):\n",
    "    return Div(AlbumImg(url),AlbumFooter(title,artist))"
   ]
  },
  {
   "cell_type": "code",
   "execution_count": 17,
   "id": "1570e21b",
   "metadata": {},
   "outputs": [],
   "source": [
    "#| export\n",
    "listen_now_albums = ((\"Roar\", \"Catty Perry\"), (\"Feline on a Prayer\", \"Cat Jovi\"),(\"Fur Elise\", \"Ludwig van Beethovpurr\"),(\"Purrple Rain\", \"Prince's Cat\"))\n",
    "\n",
    "made_for_you_albums = [(\"Like a Feline\", \"Catdonna\"),(\"Livin' La Vida Purrda\", \"Ricky Catin\"),(\"Meow Meow Rocket\", \"Elton Cat\"),\n",
    "        (\"Rolling in the Purr\", \"Catdelle\",),(\"Purrs of Silence\", \"Cat Garfunkel\"),(\"Meow Me Maybe\", \"Carly Rae Purrsen\"),]\n",
    "    "
   ]
  },
  {
   "cell_type": "code",
   "execution_count": 18,
   "id": "4fdb2c4b",
   "metadata": {},
   "outputs": [],
   "source": [
    "#| export\n",
    "def create_album_grid(albums, cols=4):  \n",
    "    return Grid(*[Div(cls=\"uk-grid-small\")(\n",
    "                Div(cls=\"overflow-hidden rounded-md\")(\n",
    "                    Img(cls=\"transition-transform duration-200 hover:scale-105\", src=img_url, alt=\"\")),\n",
    "                Div(cls=\"space-y-1 text-sm\")(\n",
    "                    H3(album['title'], cls=\"font-medium leading-none\"),\n",
    "                    P(album['artist'], cls=\"text-xs text-muted-foreground\"))) for album in albums],\n",
    "                cols,gap=4)"
   ]
  },
  {
   "cell_type": "code",
   "execution_count": 19,
   "id": "23ba41e3",
   "metadata": {},
   "outputs": [],
   "source": [
    "#| export\n",
    "_album = lambda t,a: Album('https://ucarecdn.com/e5607eaf-2b2a-43b9-ada9-330824b6afd7/music1.webp',t,a)\n",
    "\n",
    "music_content = (Div(H3(\"Listen Now\"), cls=\"mt-6 space-y-1\"),\n",
    "                    P(\"Top picks for you. Updated daily.\",cls=TextFont.muted_sm),\n",
    "                    UkHLine(),\n",
    "                    Grid(*[_album(t,a) for t,a in listen_now_albums], cols=4, cls=GridT.medium),\n",
    "                    Div(H3(\"Made for You\"), cls=\"mt-6 space-y-1\"),\n",
    "                    P(\"Your personal playlists. Updated daily.\", cls=TextFont.muted_sm),\n",
    "                    UkHLine(),\n",
    "                    Grid(*[_album(t,a) for t,a in made_for_you_albums], cols=6, cls=GridT.small))"
   ]
  },
  {
   "cell_type": "code",
   "execution_count": 20,
   "id": "08a08c33",
   "metadata": {},
   "outputs": [],
   "source": [
    "#| export\n",
    "tabs = TabContainer(\n",
    "    Li(A('Music', href='#'),cls='uk-active'),\n",
    "    Li(A('Podcasts', href='#')),\n",
    "    Li(A('Live', cls='opacity-50'), cls='uk-disabled'),\n",
    "    uk_switcher='connect: #component-nav; animation: uk-animation-fade',\n",
    "    alt=True)"
   ]
  },
  {
   "cell_type": "code",
   "execution_count": 21,
   "id": "ce4b85a8",
   "metadata": {},
   "outputs": [],
   "source": [
    "#| export\n",
    "def podcast_tab():\n",
    "    return Div(\n",
    "        Div(cls=\"space-y-3\")(\n",
    "            H3(\"New Episodes\"),\n",
    "            P(\"Your favorite podcasts. Updated daily.\", cls=TextFont.muted_sm)),\n",
    "        Div(cls=\"my-4 h-[1px] w-full bg-border\"),\n",
    "        Div(cls=\"uk-placeholder flex h-[450px] items-center justify-center rounded-md\",uk_placeholder=True)(\n",
    "            Div(cls=\"text-center space-y-6\")(\n",
    "                UkIcon(\"microphone\", 3),\n",
    "                H4(\"No episodes added\"),\n",
    "                P(\"You have not added any podcasts. Add one below.\", cls=TextFont.muted_sm),\n",
    "                Button(\"Add Podcast\", cls=ButtonT.primary))))"
   ]
  },
  {
   "cell_type": "code",
   "execution_count": 22,
   "id": "1399de4d",
   "metadata": {},
   "outputs": [],
   "source": [
    "#| export\n",
    "def LAlignedIconTxts(ns, icns): return [Li(A(LAlignedIconTxt(n,i))) for n,i in zip(ns,icns)]"
   ]
  },
  {
   "cell_type": "code",
   "execution_count": 1,
   "id": "5b1d8801",
   "metadata": {},
   "outputs": [],
   "source": [
    "#| export\n",
    "discoved_data = [(\"play-circle\",\"Listen Now\"), (\"binoculars\", \"Browse\"), (\"rss\",\"Radio\")]\n",
    "library_data = [(\"play-circle\", \"Playlists\"), (\"music\", \"Songs\"), (\"user\", \"Made for You\"), (\"users\", \"Artists\"), (\"bookmark\", \"Albums\")]\n",
    "playlists_data = [(\"library\",\"Recently Added\"), (\"library\",\"Recently Played\")]"
   ]
  },
  {
   "cell_type": "code",
   "execution_count": 90,
   "id": "c6c020fb",
   "metadata": {},
   "outputs": [],
   "source": [
    "#| export\n",
    "def MusicSidebarLi(icon, text): return Li(A(LAlignedDiv(UkIcon(icon), P(text),cls='space-x-2')))\n",
    "sb = NavContainer(\n",
    "    NavHeaderLi(H3(\"Discover\")),*[MusicSidebarLi(*o) for o in discoved_data],\n",
    "    NavHeaderLi(H3(\"Library\")),*[MusicSidebarLi(*o) for o in library_data],\n",
    "    NavHeaderLi(H3(\"Playlists\")),*[MusicSidebarLi(*o) for o in playlists_data],\n",
    "    cls=(NavT.primary,'space-y-3','pl-8'),\n",
    ")"
   ]
  },
  {
   "cell_type": "code",
   "execution_count": 82,
   "id": "2c017021",
   "metadata": {},
   "outputs": [
    {
     "data": {
      "text/markdown": [
       "```html\n",
       "<ul class=\"uk-nav uk-nav-primary\"></ul>\n",
       "\n",
       "```"
      ],
      "text/plain": [
       "ul((),{'uk-nav': False, 'class': 'uk-nav uk-nav-primary'})"
      ]
     },
     "execution_count": 82,
     "metadata": {},
     "output_type": "execute_result"
    }
   ],
   "source": [
    "NavContainer()"
   ]
  },
  {
   "cell_type": "code",
   "execution_count": 83,
   "id": "fc5139c9",
   "metadata": {},
   "outputs": [
    {
     "data": {
      "text/html": [
       "<a href=\"http://localhost:8000/\" target=\"_blank\">Open in new tab</a>"
      ],
      "text/plain": [
       "<IPython.core.display.HTML object>"
      ]
     },
     "metadata": {},
     "output_type": "display_data"
    },
    {
     "data": {
      "text/html": [
       "<iframe src=\"http://localhost:8000/\" style=\"width: 100%; height: auto; border: none;\" onload=\"{\n",
       "        let frame = this;\n",
       "        window.addEventListener('message', function(e) {\n",
       "            if (e.data.height) frame.style.height = (e.data.height+1) + 'px';\n",
       "        }, false);\n",
       "    }\" allow=\"accelerometer; autoplay; camera; clipboard-read; clipboard-write; display-capture; encrypted-media; fullscreen; gamepad; geolocation; gyroscope; hid; identity-credentials-get; idle-detection; magnetometer; microphone; midi; payment; picture-in-picture; publickey-credentials-get; screen-wake-lock; serial; usb; web-share; xr-spatial-tracking\"></iframe> "
      ],
      "text/plain": [
       "<IPython.core.display.HTML object>"
      ]
     },
     "execution_count": 83,
     "metadata": {},
     "output_type": "execute_result"
    }
   ],
   "source": [
    "Show(sb)"
   ]
  },
  {
   "cell_type": "code",
   "execution_count": 84,
   "id": "35f15d01",
   "metadata": {},
   "outputs": [],
   "source": [
    "#| export\n",
    "def page():\n",
    "    return Div(Container(music_headers,cls='py-8'),UkHSplit(),\n",
    "        Grid(sb,\n",
    "            Div(cls=\"col-span-4 border-l border-border\")(\n",
    "                Div(cls=\"px-8 py-6\")(\n",
    "                    Div(cls=\"flex items-center justify-between\")(\n",
    "                        Div(cls=\"max-w-80\")(tabs),\n",
    "                        Button(cls=ButtonT.primary)(Span(cls=\"mr-2 size-4\")(UkIcon('circle-plus')),\"Add music\")),\n",
    "                    Ul(id=\"component-nav\", cls=\"uk-switcher\")(\n",
    "                        Li(*music_content),\n",
    "                        Li(podcast_tab())))),\n",
    "            cols=5))"
   ]
  },
  {
   "cell_type": "code",
   "execution_count": 85,
   "id": "93953501",
   "metadata": {},
   "outputs": [],
   "source": [
    "#| export\n",
    "music_homepage = page()"
   ]
  },
  {
   "cell_type": "code",
   "execution_count": 86,
   "id": "f705c081",
   "metadata": {},
   "outputs": [
    {
     "data": {
      "text/html": [
       "<a href=\"http://localhost:8000/\" target=\"_blank\">Open in new tab</a>"
      ],
      "text/plain": [
       "<IPython.core.display.HTML object>"
      ]
     },
     "metadata": {},
     "output_type": "display_data"
    },
    {
     "data": {
      "text/html": [
       "<iframe src=\"http://localhost:8000/\" style=\"width: 100%; height: auto; border: none;\" onload=\"{\n",
       "        let frame = this;\n",
       "        window.addEventListener('message', function(e) {\n",
       "            if (e.data.height) frame.style.height = (e.data.height+1) + 'px';\n",
       "        }, false);\n",
       "    }\" allow=\"accelerometer; autoplay; camera; clipboard-read; clipboard-write; display-capture; encrypted-media; fullscreen; gamepad; geolocation; gyroscope; hid; identity-credentials-get; idle-detection; magnetometer; microphone; midi; payment; picture-in-picture; publickey-credentials-get; screen-wake-lock; serial; usb; web-share; xr-spatial-tracking\"></iframe> "
      ],
      "text/plain": [
       "<IPython.core.display.HTML object>"
      ]
     },
     "execution_count": 86,
     "metadata": {},
     "output_type": "execute_result"
    }
   ],
   "source": [
    "Show(music_homepage)"
   ]
  },
  {
   "cell_type": "code",
   "execution_count": null,
   "id": "e5c9c749",
   "metadata": {},
   "outputs": [],
   "source": []
  },
  {
   "cell_type": "code",
   "execution_count": null,
   "id": "2d3d616d",
   "metadata": {},
   "outputs": [],
   "source": []
  }
 ],
 "metadata": {
  "kernelspec": {
   "display_name": "Python 3 (ipykernel)",
   "language": "python",
   "name": "python3"
  },
  "language_info": {
   "codemirror_mode": {
    "name": "ipython",
    "version": 3
   },
   "file_extension": ".py",
   "mimetype": "text/x-python",
   "name": "python",
   "nbconvert_exporter": "python",
   "pygments_lexer": "ipython3",
   "version": "3.12.4"
  },
  "toc": {
   "base_numbering": 1,
   "nav_menu": {},
   "number_sections": true,
   "sideBar": true,
   "skip_h1_title": false,
   "title_cell": "Table of Contents",
   "title_sidebar": "Contents",
   "toc_cell": false,
   "toc_position": {},
   "toc_section_display": true,
   "toc_window_display": false
  }
 },
 "nbformat": 4,
 "nbformat_minor": 5
}
