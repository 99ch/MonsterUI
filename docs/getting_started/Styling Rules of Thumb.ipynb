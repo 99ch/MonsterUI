{
 "cells": [
  {
   "cell_type": "markdown",
   "id": "2f15df94",
   "metadata": {},
   "source": [
    "# Style Basics"
   ]
  },
  {
   "cell_type": "code",
   "execution_count": 1,
   "id": "600ac383",
   "metadata": {},
   "outputs": [],
   "source": [
    "from ContextKit.read import read_gh_file"
   ]
  },
  {
   "cell_type": "code",
   "execution_count": 6,
   "id": "63f9cc2c",
   "metadata": {},
   "outputs": [],
   "source": [
    "ctx = read_gh_file('https://raw.githubusercontent.com/AnswerDotAI/fh-frankenui/refs/heads/main/nbs/llms-ctx-full.txt')"
   ]
  },
  {
   "cell_type": "code",
   "execution_count": 17,
   "id": "ea6a98b9",
   "metadata": {},
   "outputs": [],
   "source": [
    "from fasthtml.common import *\n",
    "from fh_frankenui.core import *"
   ]
  },
  {
   "cell_type": "code",
   "execution_count": 18,
   "id": "42374acd",
   "metadata": {},
   "outputs": [],
   "source": [
    "app, rt = fast_app(hdrs=Theme.blue.headers())"
   ]
  },
  {
   "cell_type": "markdown",
   "id": "1ba8d191",
   "metadata": {},
   "source": [
    "# Typography"
   ]
  },
  {
   "cell_type": "markdown",
   "id": "bf76675b",
   "metadata": {},
   "source": [
    "Typography is an entire discipline in design in itself, but you don't need much to make a pretty good looking website!  There's a few funamentals:"
   ]
  },
  {
   "cell_type": "code",
   "execution_count": 19,
   "id": "b3353df1",
   "metadata": {},
   "outputs": [
    {
     "ename": "NameError",
     "evalue": "name 'content' is not defined",
     "output_type": "error",
     "traceback": [
      "\u001b[0;31m---------------------------------------------------------------------------\u001b[0m",
      "\u001b[0;31mNameError\u001b[0m                                 Traceback (most recent call last)",
      "Cell \u001b[0;32mIn[19], line 4\u001b[0m\n\u001b[1;32m      1\u001b[0m Div(\n\u001b[1;32m      2\u001b[0m        H1(\u001b[38;5;124m\"\u001b[39m\u001b[38;5;124mMain Title\u001b[39m\u001b[38;5;124m\"\u001b[39m, \u001b[38;5;28mcls\u001b[39m\u001b[38;5;241m=\u001b[39mTextT\u001b[38;5;241m.\u001b[39mlarge),\n\u001b[1;32m      3\u001b[0m        P(\u001b[38;5;124m\"\u001b[39m\u001b[38;5;124mSubtitle\u001b[39m\u001b[38;5;124m\"\u001b[39m, \u001b[38;5;28mcls\u001b[39m\u001b[38;5;241m=\u001b[39mTextT\u001b[38;5;241m.\u001b[39mmuted),\n\u001b[0;32m----> 4\u001b[0m        \u001b[43mcontent\u001b[49m\n\u001b[1;32m      5\u001b[0m    )\n",
      "\u001b[0;31mNameError\u001b[0m: name 'content' is not defined"
     ]
    }
   ],
   "source": [
    "Div(\n",
    "       H1(\"Main Title\", cls=TextT.large),\n",
    "       P(\"Subtitle\", cls=TextT.muted),\n",
    "       content\n",
    "   )"
   ]
  },
  {
   "cell_type": "markdown",
   "id": "8ebf4121",
   "metadata": {},
   "source": [
    "# Modals "
   ]
  },
  {
   "cell_type": "markdown",
   "id": "e1bd4ed9",
   "metadata": {},
   "source": [
    "9. Use modals for focused interactions:"
   ]
  },
  {
   "cell_type": "code",
   "execution_count": null,
   "id": "c3f3736c",
   "metadata": {},
   "outputs": [],
   "source": [
    "Modal(\n",
    "   header=\"Confirm Action\",\n",
    "   body=\"Are you sure you want to proceed?\",\n",
    "   footer=Div(cls='space-x-3')(\n",
    "       Button(\"Yes\", cls=ButtonT.primary),\n",
    "       Button(\"No\")\n",
    "   )\n",
    ")"
   ]
  },
  {
   "cell_type": "markdown",
   "id": "b67992d7",
   "metadata": {},
   "source": [
    "# Consistent spacing in groups of elements.\n",
    "\n",
    "Consistent spacing is crucial for creating a clean, organized layout. The `space-y-5` class adds vertical spacing between child elements, creating a visually pleasing rhythm.  See the spacing tutorial for more detail on this"
   ]
  },
  {
   "cell_type": "code",
   "execution_count": 13,
   "id": "d75473f4",
   "metadata": {},
   "outputs": [
    {
     "data": {
      "text/markdown": [
       "```html\n",
       "<form enctype=\"multipart/form-data\" class=\"space-y-5\">  <input placeholder=\"Name\" class=\"uk-input \">\n",
       "  <input placeholder=\"Email\" class=\"uk-input \">\n",
       "<button type=\"submit\" class=\"uk-button uk-button-primary\">Submit</button></form>\n",
       "```"
      ],
      "text/plain": [
       "form((input((),{'placeholder': 'Name', 'class': 'uk-input '}), input((),{'placeholder': 'Email', 'class': 'uk-input '}), button(('Submit',),{'type': 'submit', 'class': 'uk-button uk-button-primary'})),{'enctype': 'multipart/form-data', 'class': 'space-y-5'})"
      ]
     },
     "execution_count": 13,
     "metadata": {},
     "output_type": "execute_result"
    }
   ],
   "source": [
    "Form(cls='space-y-5')(\n",
    "    Input(placeholder=\"Name\"),\n",
    "    Input(placeholder=\"Email\"),\n",
    "    Button(\"Submit\", cls=ButtonT.primary)\n",
    ")"
   ]
  },
  {
   "cell_type": "markdown",
   "id": "d7803879",
   "metadata": {},
   "source": [
    "In this example, `space-y-5` adds a moderate amount of vertical space (1.25rem or 20px by default) between the form elements. This spacing is enough to separate the inputs visually without making the form feel too spread out. The `5` in `space-y-5` is a relative unit in the Tailwind CSS scale, which fh-frankenui uses. You can adjust this number (e.g., `space-y-3` for less space, `space-y-8` for more) based on your specific design needs."
   ]
  },
  {
   "cell_type": "markdown",
   "id": "c943f5bd",
   "metadata": {},
   "source": [
    "# Prioritize actions with button styles:\n",
    "\n",
    "Button styling helps guide users to the most important actions. The `ButtonT` enum provides pre-styled options that follow common UI conventions."
   ]
  },
  {
   "cell_type": "code",
   "execution_count": null,
   "id": "938fa07e",
   "metadata": {},
   "outputs": [],
   "source": [
    "Div(cls='space-x-3')(\n",
    "    Button(\"Save\", cls=ButtonT.primary),\n",
    "    Button(\"Cancel\"),\n",
    "    Button(\"Delete\", cls=ButtonT.danger)\n",
    ")"
   ]
  },
  {
   "cell_type": "markdown",
   "id": "90bbd14e",
   "metadata": {},
   "source": [
    "Here, `ButtonT.primary` is used for the main action (Save), making it stand out. The Cancel button uses the default style, which is less prominent. `ButtonT.danger` is used for the Delete button, signaling a potentially risky action. The `space-x-3` class adds horizontal spacing between the buttons for a clean layout."
   ]
  },
  {
   "cell_type": "markdown",
   "id": "8032b0a8",
   "metadata": {},
   "source": [
    "# Use grids for compact layouts:\n",
    "\n",
    "Grids help organize content in a structured, aligned manner, especially useful for forms or lists."
   ]
  },
  {
   "cell_type": "code",
   "execution_count": null,
   "id": "6826ec3a",
   "metadata": {},
   "outputs": [],
   "source": [
    "Grid(cols=2, cls='gap-4')(\n",
    "    Input(placeholder=\"First Name\"),\n",
    "    Input(placeholder=\"Last Name\"),\n",
    "    Input(placeholder=\"Email\", cls='col-span-2')\n",
    ")"
   ]
  },
  {
   "cell_type": "markdown",
   "id": "f73350a5",
   "metadata": {},
   "source": [
    "This creates a two-column grid. The `gap-4` class adds space between grid items. The Email input spans both columns (`col-span-2`), creating a logical grouping of related inputs while maintaining a compact layout."
   ]
  },
  {
   "cell_type": "markdown",
   "id": "43d6696c",
   "metadata": {},
   "source": [
    "# Implement responsive designs:\n",
    "\n",
    "Responsive design ensures your app looks good on all device sizes. The `md:` prefix applies styles only on medium-sized screens and larger."
   ]
  },
  {
   "cell_type": "code",
   "execution_count": null,
   "id": "b52f218d",
   "metadata": {},
   "outputs": [],
   "source": [
    "Div(cls='md:flex md:space-x-4')(\n",
    "    Div(cls='w-full md:w-1/2')(content1),\n",
    "    Div(cls='w-full md:w-1/2')(content2)\n",
    ")"
   ]
  },
  {
   "cell_type": "markdown",
   "id": "f18c735f",
   "metadata": {},
   "source": [
    "On small screens, the content stacks vertically (full width). On medium screens and up, it switches to a side-by-side layout, each taking half the width. This adaptability improves readability and usability across devices.\n",
    "\n",
    "These explanations provide context on why certain classes and structures are chosen, helping beginners understand the reasoning behind the code examples and how they contribute to creating visually appealing interfaces."
   ]
  },
  {
   "cell_type": "markdown",
   "id": "e083ab42",
   "metadata": {},
   "source": [
    "# Use Card for grouped content"
   ]
  },
  {
   "cell_type": "code",
   "execution_count": null,
   "id": "af45e8f3",
   "metadata": {},
   "outputs": [],
   "source": [
    "Card(\n",
    "       header=H3(\"User Profile\"),\n",
    "       body=user_info_content,\n",
    "       footer=Button(\"Edit\", cls=ButtonT.secondary),\n",
    "       cls='max-w-md'\n",
    "   )"
   ]
  },
  {
   "cell_type": "markdown",
   "id": "207de141",
   "metadata": {},
   "source": [
    "# Use Icons and Avatars"
   ]
  },
  {
   "cell_type": "code",
   "execution_count": 15,
   "id": "8c0bc36d",
   "metadata": {},
   "outputs": [
    {
     "data": {
      "text/markdown": [
       "```html\n",
       "<button type=\"submit\" class=\"uk-button uk-button-primary\"><uk-icon icon=\"check\"></uk-icon>Confirm</button>\n",
       "```"
      ],
      "text/plain": [
       "button((uk-icon((),{'icon': 'check', 'class': None}), 'Confirm'),{'type': 'submit', 'class': 'uk-button uk-button-primary'})"
      ]
     },
     "execution_count": 15,
     "metadata": {},
     "output_type": "execute_result"
    }
   ],
   "source": [
    "Button(UkIcon(\"check\"), \"Confirm\", cls=ButtonT.primary)"
   ]
  },
  {
   "cell_type": "markdown",
   "id": "071f7bc5",
   "metadata": {},
   "source": [
    "# Neccesary Foundations"
   ]
  },
  {
   "cell_type": "markdown",
   "id": "2733c7cc",
   "metadata": {},
   "source": [
    "Here's a bulleted list of key concepts and skills a person should learn to create beautiful websites with the fh-frankenui library:\n",
    "\n",
    "- [ ] Tailwind Spacing:  Spacing Tutorial\n",
    "- [ ] Tailwind design prefixes (e.g., `md:`, `lg:`)\n",
    "- [ ] Layout Basics - grid, column, flex\n",
    "- [ ] Typography Basics and consistency: Typography Tutorial\n",
    "- [ ] Icon Usages"
   ]
  },
  {
   "cell_type": "code",
   "execution_count": null,
   "id": "c6182e67",
   "metadata": {},
   "outputs": [],
   "source": []
  }
 ],
 "metadata": {
  "kernelspec": {
   "display_name": "Python 3 (ipykernel)",
   "language": "python",
   "name": "python3"
  },
  "language_info": {
   "codemirror_mode": {
    "name": "ipython",
    "version": 3
   },
   "file_extension": ".py",
   "mimetype": "text/x-python",
   "name": "python",
   "nbconvert_exporter": "python",
   "pygments_lexer": "ipython3",
   "version": "3.12.4"
  }
 },
 "nbformat": 4,
 "nbformat_minor": 5
}
