{
 "cells": [
  {
   "cell_type": "code",
   "execution_count": 130,
   "id": "a05f7573",
   "metadata": {},
   "outputs": [],
   "source": [
    "%%ais\n",
    "\n",
    "I need to replace all instances of \n",
    "'from fh_frankenui.components import *' with ' ' in all files recursively in a directory.  I am on mac"
   ]
  },
  {
   "cell_type": "code",
   "execution_count": 3,
   "id": "7381320d",
   "metadata": {},
   "outputs": [
    {
     "name": "stderr",
     "output_type": "stream",
     "text": [
      "sh: line 3: replace_line: command not found\n"
     ]
    },
    {
     "name": "stdout",
     "output_type": "stream",
     "text": [
      "Processed: ./example_forms.ipynb\n"
     ]
    },
    {
     "name": "stderr",
     "output_type": "stream",
     "text": [
      "sh: line 3: replace_line: command not found\n"
     ]
    },
    {
     "name": "stdout",
     "output_type": "stream",
     "text": [
      "Processed: ./example_music.ipynb\n"
     ]
    },
    {
     "name": "stderr",
     "output_type": "stream",
     "text": [
      "sh: line 3: replace_line: command not found\n"
     ]
    },
    {
     "name": "stdout",
     "output_type": "stream",
     "text": [
      "Processed: ./app/mail.py\n"
     ]
    },
    {
     "name": "stderr",
     "output_type": "stream",
     "text": [
      "sh: line 3: replace_line: command not found\n"
     ]
    },
    {
     "name": "stdout",
     "output_type": "stream",
     "text": [
      "Processed: ./app/auth.py\n"
     ]
    },
    {
     "name": "stderr",
     "output_type": "stream",
     "text": [
      "sh: line 3: replace_line: command not found\n"
     ]
    },
    {
     "name": "stdout",
     "output_type": "stream",
     "text": [
      "Processed: ./app/playground.py\n"
     ]
    },
    {
     "name": "stderr",
     "output_type": "stream",
     "text": [
      "sh: line 3: replace_line: command not found\n"
     ]
    },
    {
     "name": "stdout",
     "output_type": "stream",
     "text": [
      "Processed: ./app/tasks.py\n"
     ]
    },
    {
     "name": "stderr",
     "output_type": "stream",
     "text": [
      "sh: line 3: replace_line: command not found\n"
     ]
    },
    {
     "name": "stdout",
     "output_type": "stream",
     "text": [
      "Processed: ./app/cards.py\n"
     ]
    },
    {
     "name": "stderr",
     "output_type": "stream",
     "text": [
      "sh: line 3: replace_line: command not found\n"
     ]
    },
    {
     "name": "stdout",
     "output_type": "stream",
     "text": [
      "Processed: ./app/music.py\n"
     ]
    },
    {
     "name": "stderr",
     "output_type": "stream",
     "text": [
      "sh: line 3: replace_line: command not found\n"
     ]
    },
    {
     "name": "stdout",
     "output_type": "stream",
     "text": [
      "Processed: ./app/forms.py\n"
     ]
    },
    {
     "name": "stderr",
     "output_type": "stream",
     "text": [
      "sh: line 3: replace_line: command not found\n"
     ]
    },
    {
     "name": "stdout",
     "output_type": "stream",
     "text": [
      "Processed: ./app/dashboard.py\n"
     ]
    },
    {
     "name": "stderr",
     "output_type": "stream",
     "text": [
      "sh: line 3: replace_line: command not found\n"
     ]
    },
    {
     "name": "stdout",
     "output_type": "stream",
     "text": [
      "Processed: ./app/main.py\n"
     ]
    },
    {
     "name": "stderr",
     "output_type": "stream",
     "text": [
      "sh: line 3: replace_line: command not found\n"
     ]
    },
    {
     "name": "stdout",
     "output_type": "stream",
     "text": [
      "Processed: ./example_auth.ipynb\n"
     ]
    },
    {
     "name": "stderr",
     "output_type": "stream",
     "text": [
      "sh: line 3: replace_line: command not found\n"
     ]
    },
    {
     "name": "stdout",
     "output_type": "stream",
     "text": [
      "Processed: ./example_playground.ipynb\n"
     ]
    },
    {
     "name": "stderr",
     "output_type": "stream",
     "text": [
      "sh: line 3: replace_line: command not found\n"
     ]
    },
    {
     "name": "stdout",
     "output_type": "stream",
     "text": [
      "Processed: ./example_dashboard.ipynb\n"
     ]
    },
    {
     "name": "stderr",
     "output_type": "stream",
     "text": [
      "sh: line 3: replace_line: command not found\n"
     ]
    },
    {
     "name": "stdout",
     "output_type": "stream",
     "text": [
      "Processed: ./example_mail.ipynb\n"
     ]
    },
    {
     "name": "stderr",
     "output_type": "stream",
     "text": [
      "sh: line 3: replace_line: command not found\n"
     ]
    },
    {
     "name": "stdout",
     "output_type": "stream",
     "text": [
      "Processed: ./example_tasks.ipynb\n"
     ]
    },
    {
     "name": "stderr",
     "output_type": "stream",
     "text": [
      "sh: line 3: replace_line: command not found\n"
     ]
    },
    {
     "name": "stdout",
     "output_type": "stream",
     "text": [
      "Processed: ./99_main.ipynb\n"
     ]
    },
    {
     "name": "stderr",
     "output_type": "stream",
     "text": [
      "sh: line 3: replace_line: command not found\n"
     ]
    },
    {
     "name": "stdout",
     "output_type": "stream",
     "text": [
      "Processed: ./example_cards.ipynb\n"
     ]
    }
   ],
   "source": [
    "%%bash\n",
    "\n",
    "\n",
    "# Function to replace the specified line in files\n",
    "replace_line() {\n",
    "    sed -i '' 's/from fh_frankenui\\.components import \\*/ /g' \"$1\"\n",
    "}\n",
    "\n",
    "# Find all files recursively and apply the replacement\n",
    "find . -type f -exec sh -c '\n",
    "    for file do\n",
    "        if grep -q \"from fh_frankenui\\.components import \\*\" \"$file\"; then\n",
    "            replace_line \"$file\"\n",
    "            echo \"Processed: $file\"\n",
    "        fi\n",
    "    done\n",
    "' sh {} +\n",
    "\n",
    "# Comment: This script will recursively search for files containing the specified import statement\n",
    "# and replace it with a space. It will print the names of processed files. \n",
    "# Note: Make sure to run this in the correct directory."
   ]
  },
  {
   "cell_type": "code",
   "execution_count": 4,
   "id": "54695d4c",
   "metadata": {},
   "outputs": [],
   "source": [
    "%%ais\n",
    "\n",
    "Please fix"
   ]
  },
  {
   "cell_type": "code",
   "execution_count": 5,
   "id": "c6e9e600",
   "metadata": {},
   "outputs": [
    {
     "name": "stdout",
     "output_type": "stream",
     "text": [
      "Processed: ./example_forms.ipynb\n",
      "Processed: ./example_music.ipynb\n",
      "Processed: ./app/mail.py\n",
      "Processed: ./app/auth.py\n",
      "Processed: ./app/playground.py\n",
      "Processed: ./app/tasks.py\n",
      "Processed: ./app/cards.py\n",
      "Processed: ./app/music.py\n",
      "Processed: ./app/forms.py\n",
      "Processed: ./app/dashboard.py\n",
      "Processed: ./app/main.py\n",
      "Processed: ./example_auth.ipynb\n",
      "Processed: ./example_playground.ipynb\n",
      "Processed: ./example_dashboard.ipynb\n",
      "Processed: ./example_mail.ipynb\n",
      "Processed: ./example_tasks.ipynb\n",
      "Processed: ./99_main.ipynb\n",
      "Processed: ./example_cards.ipynb\n"
     ]
    }
   ],
   "source": [
    "%%bash\n",
    "\n",
    "\n",
    "# Define the replace_line function within the script\n",
    "replace_line() {\n",
    "    sed -i '' 's/from fh_frankenui\\.components import \\*/ /g' \"$1\"\n",
    "}\n",
    "\n",
    "# Export the function so it's available to subshells\n",
    "export -f replace_line\n",
    "\n",
    "# Find all files recursively and apply the replacement\n",
    "find . -type f -exec bash -c '\n",
    "    for file do\n",
    "        if grep -q \"from fh_frankenui\\.components import \\*\" \"$file\"; then\n",
    "            replace_line \"$file\"\n",
    "            echo \"Processed: $file\"\n",
    "        fi\n",
    "    done\n",
    "' bash {} +\n",
    "\n",
    "# Comment: This revised script defines the replace_line function within the main script\n",
    "# and exports it so it's available to subshells. We also changed 'sh' to 'bash' for consistency.\n",
    "# This should resolve the \"command not found\" errors we saw earlier."
   ]
  },
  {
   "cell_type": "code",
   "execution_count": null,
   "id": "685faf1b",
   "metadata": {},
   "outputs": [],
   "source": []
  }
 ],
 "metadata": {
  "kernelspec": {
   "display_name": "Python 3 (ipykernel)",
   "language": "python",
   "name": "python3"
  },
  "language_info": {
   "codemirror_mode": {
    "name": "ipython",
    "version": 3
   },
   "file_extension": ".py",
   "mimetype": "text/x-python",
   "name": "python",
   "nbconvert_exporter": "python",
   "pygments_lexer": "ipython3",
   "version": "3.12.4"
  }
 },
 "nbformat": 4,
 "nbformat_minor": 5
}
