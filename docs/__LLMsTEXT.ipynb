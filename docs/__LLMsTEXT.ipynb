{
 "cells": [
  {
   "cell_type": "code",
   "execution_count": 2,
   "id": "134d2572",
   "metadata": {},
   "outputs": [],
   "source": [
    "from fastcore.utils import *\n",
    "import api_reference.api_reference as api_reference\n",
    "from pathlib import Path"
   ]
  },
  {
   "cell_type": "code",
   "execution_count": 49,
   "id": "c20e1935",
   "metadata": {},
   "outputs": [
    {
     "name": "stdout",
     "output_type": "stream",
     "text": [
      "[Button | Link](https://monsterui.answer.ai/api_ref/docs_containers/md)\n",
      "- [Cards](https://monsterui.answer.ai/api_ref/docs_containers/md)\n",
      "- [Containers](https://monsterui.answer.ai/api_ref/docs_containers/md)\n",
      "- [Dividers](https://monsterui.answer.ai/api_ref/docs_containers/md)\n",
      "- [Forms](https://monsterui.answer.ai/api_ref/docs_containers/md)\n",
      "- [Icons](https://monsterui.answer.ai/api_ref/docs_containers/md)\n",
      "- [Layout](https://monsterui.answer.ai/api_ref/docs_containers/md)\n",
      "- [Lists](https://monsterui.answer.ai/api_ref/docs_containers/md)\n",
      "- [Loading](https://monsterui.answer.ai/api_ref/docs_containers/md)\n",
      "- [Markdown](https://monsterui.answer.ai/api_ref/docs_containers/md)\n",
      "- [Modals](https://monsterui.answer.ai/api_ref/docs_containers/md)\n",
      "- [Navigation](https://monsterui.answer.ai/api_ref/docs_containers/md)\n",
      "- [Notifications](https://monsterui.answer.ai/api_ref/docs_containers/md)\n",
      "- [Sliders](https://monsterui.answer.ai/api_ref/docs_containers/md)\n",
      "- [Steps](https://monsterui.answer.ai/api_ref/docs_containers/md)\n",
      "- [Tables](https://monsterui.answer.ai/api_ref/docs_containers/md)\n",
      "- [Theme | Headers](https://monsterui.answer.ai/api_ref/docs_containers/md)\n",
      "- [Typography](https://monsterui.answer.ai/api_ref/docs_containers/md)\n"
     ]
    }
   ],
   "source": [
    "import api_reference.api_reference as api_reference\n",
    "def fname2title(ref_fn_name): return ref_fn_name[5:].replace('_',' | ').title() \n",
    "reference_fns = L([o for o in dir(api_reference) if o.startswith('docs_')])\n",
    "base = 'https://monsterui.answer.ai'\n",
    "print('\\n- '.join([f\"[{fname2title(r)}]({base}/api_ref/{reference_fns[2]}/md)\" for r in reference_fns]))"
   ]
  },
  {
   "cell_type": "code",
   "execution_count": 67,
   "id": "f7ff1b05",
   "metadata": {},
   "outputs": [
    {
     "name": "stdout",
     "output_type": "stream",
     "text": [
      "[Mail](https://monsterui.answer.ai/mail/md)\n",
      "-[Auth](https://monsterui.answer.ai/auth/md)\n",
      "-[Playground](https://monsterui.answer.ai/playground/md)\n",
      "-[Tasks](https://monsterui.answer.ai/tasks/md)\n",
      "-[Cards](https://monsterui.answer.ai/cards/md)\n",
      "-[Music](https://monsterui.answer.ai/music/md)\n",
      "-[Forms](https://monsterui.answer.ai/forms/md)\n",
      "-[Dashboard](https://monsterui.answer.ai/dashboard/md)\n"
     ]
    }
   ],
   "source": [
    "from pathlib import Path\n",
    "import re\n",
    "\n",
    "def create_example_links():\n",
    "    base = \"https://monsterui.answer.ai\"\n",
    "    examples = [f for f in Path('examples').glob('*.py') if not f.name.startswith('__') and f.name.endswith('.py')]\n",
    "    return [f\"[{f.stem.title()}]({base}/{f.name[:-3]}/md)\" for f in examples]\n",
    "\n",
    "print('\\n-'.join(create_example_links()))"
   ]
  },
  {
   "cell_type": "code",
   "execution_count": 1,
   "id": "3223e026",
   "metadata": {},
   "outputs": [],
   "source": []
  },
  {
   "cell_type": "code",
   "execution_count": 4,
   "id": "a8a6f577",
   "metadata": {},
   "outputs": [],
   "source": [
    "%%ai\n",
    "\n",
    "Turn that last cell into a python shell sript"
   ]
  },
  {
   "cell_type": "markdown",
   "id": "fcdc2d05",
   "metadata": {},
   "source": [
    "Here's the Python shell script version of that code:\n",
    "\n",
    "```python\n",
    "#!/usr/bin/env python3\n",
    "\n",
    "from fastcore.utils import *\n",
    "from pathlib import Path\n",
    "import api_reference.api_reference as api_reference\n",
    "\n",
    "def fname2title(ref_fn_name): \n",
    "    return ref_fn_name[5:].replace('_',' | ').title() \n",
    "\n",
    "def create_llms_txt():\n",
    "    # Get API reference sections\n",
    "    base = 'https://monsterui.answer.ai'\n",
    "    fns = L([o for o in dir(api_reference) if o.startswith('docs_')])\n",
    "    urls = [f\"{base}/api_ref/{r}/md\" for r in fns]\n",
    "    api_refs = [f\"[{fname2title(r)}]({u})\" for r,u in zip(fns, urls)]\n",
    "    \n",
    "    # Get examples\n",
    "    examples = [f for f in Path('examples').glob('*.py') \n",
    "               if not f.name.startswith('__') and f.name.endswith('.py')]\n",
    "    example_links = [f\"[{f.stem.title()}]({base}/{f.name[:-3]}/md)\" for f in examples]\n",
    "    \n",
    "    # Create content\n",
    "    content = [\n",
    "        \"# MonsterUI Documentation\",\n",
    "        '''\n",
    "\n",
    "> MonsterUI is a python library which brings styling to python for FastHTML apps.\n",
    "\n",
    "Things to remembers when using MonsterUI:\n",
    "- While Pico CSS is commonly used in FastHTML apps, that is *completely incompatible* with MonsterUI. \n",
    "- MonsterUI is *not* compatible with FastAPI syntax and is not targeted at creating API services.\n",
    "\n",
    "''',\n",
    "        \"## API Reference\",\n",
    "        *[f'- {a}' for a in api_refs],\n",
    "        \"\",\n",
    "        \"## Optional\",\n",
    "        *[f'- {a}' for a in example_links]\n",
    "    ]\n",
    "    \n",
    "    # Write to file\n",
    "    Path('llms.txt').write_text('\\n'.join(content))\n",
    "    return urls, examples\n",
    "\n",
    "if __name__ == '__main__':\n",
    "    urls, examples = create_llms_txt()\n",
    "```\n",
    "\n",
    "Save this as `create_docs.py`, make it executable (`chmod +x create_docs.py`), and you can run it directly from the command line."
   ]
  },
  {
   "cell_type": "code",
   "execution_count": 2,
   "id": "3e0891d5",
   "metadata": {
    "scrolled": true
   },
   "outputs": [
    {
     "name": "stdout",
     "output_type": "stream",
     "text": [
      "# MonsterUI Documentation\r\n",
      "\r\n",
      "\r\n",
      "> MonsterUI is a python library which brings styling to python for FastHTML apps.\r\n",
      "\r\n",
      "Things to remembers when using MonsterUI:\r\n",
      "- While Pico CSS is commonly used in FastHTML apps, that is *completely incompatible* with MonsterUI. \r\n",
      "- MonsterUI is *not* compatible with FastAPI syntax and is not targeted at creating API services.\r\n",
      "\r\n",
      "## API Reference\r\n",
      "- [Button | Link](https://monsterui.answer.ai/api_ref/docs_button_link/md)\r\n",
      "- [Cards](https://monsterui.answer.ai/api_ref/docs_cards/md)\r\n",
      "- [Containers](https://monsterui.answer.ai/api_ref/docs_containers/md)\r\n",
      "- [Dividers](https://monsterui.answer.ai/api_ref/docs_dividers/md)\r\n",
      "- [Forms](https://monsterui.answer.ai/api_ref/docs_forms/md)\r\n",
      "- [Icons](https://monsterui.answer.ai/api_ref/docs_icons/md)\r\n",
      "- [Layout](https://monsterui.answer.ai/api_ref/docs_layout/md)\r\n",
      "- [Lists](https://monsterui.answer.ai/api_ref/docs_lists/md)\r\n",
      "- [Loading](https://monsterui.answer.ai/api_ref/docs_loading/md)\r\n",
      "- [Markdown](https://monsterui.answer.ai/api_ref/docs_markdown/md)\r\n",
      "- [Modals](https://monsterui.answer.ai/api_ref/docs_modals/md)\r\n",
      "- [Navigation](https://monsterui.answer.ai/api_ref/docs_navigation/md)\r\n",
      "- [Notifications](https://monsterui.answer.ai/api_ref/docs_notifications/md)\r\n",
      "- [Sliders](https://monsterui.answer.ai/api_ref/docs_sliders/md)\r\n",
      "- [Steps](https://monsterui.answer.ai/api_ref/docs_steps/md)\r\n",
      "- [Tables](https://monsterui.answer.ai/api_ref/docs_tables/md)\r\n",
      "- [Theme | Headers](https://monsterui.answer.ai/api_ref/docs_theme_headers/md)\r\n",
      "- [Typography](https://monsterui.answer.ai/api_ref/docs_typography/md)\r\n",
      "\r\n",
      "## Optional\r\n",
      "- [Mail](https://monsterui.answer.ai/mail/md)\r\n",
      "- [Auth](https://monsterui.answer.ai/auth/md)\r\n",
      "- [Playground](https://monsterui.answer.ai/playground/md)\r\n",
      "- [Tasks](https://monsterui.answer.ai/tasks/md)\r\n",
      "- [Cards](https://monsterui.answer.ai/cards/md)\r\n",
      "- [Music](https://monsterui.answer.ai/music/md)\r\n",
      "- [Forms](https://monsterui.answer.ai/forms/md)\r\n",
      "- [Dashboard](https://monsterui.answer.ai/dashboard/md)"
     ]
    }
   ],
   "source": [
    "!cat llms.txt"
   ]
  },
  {
   "cell_type": "code",
   "execution_count": 48,
   "id": "1be2a245",
   "metadata": {},
   "outputs": [
    {
     "data": {
      "text/plain": [
       "(['https://monsterui.answer.ai/api_ref/docs_button_link/md',\n",
       "  'https://monsterui.answer.ai/api_ref/docs_cards/md',\n",
       "  'https://monsterui.answer.ai/api_ref/docs_containers/md',\n",
       "  'https://monsterui.answer.ai/api_ref/docs_dividers/md',\n",
       "  'https://monsterui.answer.ai/api_ref/docs_forms/md',\n",
       "  'https://monsterui.answer.ai/api_ref/docs_icons/md',\n",
       "  'https://monsterui.answer.ai/api_ref/docs_layout/md',\n",
       "  'https://monsterui.answer.ai/api_ref/docs_lists/md',\n",
       "  'https://monsterui.answer.ai/api_ref/docs_loading/md',\n",
       "  'https://monsterui.answer.ai/api_ref/docs_markdown/md',\n",
       "  'https://monsterui.answer.ai/api_ref/docs_modals/md',\n",
       "  'https://monsterui.answer.ai/api_ref/docs_navigation/md',\n",
       "  'https://monsterui.answer.ai/api_ref/docs_notifications/md',\n",
       "  'https://monsterui.answer.ai/api_ref/docs_sliders/md',\n",
       "  'https://monsterui.answer.ai/api_ref/docs_steps/md',\n",
       "  'https://monsterui.answer.ai/api_ref/docs_tables/md',\n",
       "  'https://monsterui.answer.ai/api_ref/docs_theme_headers/md',\n",
       "  'https://monsterui.answer.ai/api_ref/docs_typography/md'],\n",
       " [Path('examples/mail.py'),\n",
       "  Path('examples/auth.py'),\n",
       "  Path('examples/playground.py'),\n",
       "  Path('examples/tasks.py'),\n",
       "  Path('examples/cards.py'),\n",
       "  Path('examples/music.py'),\n",
       "  Path('examples/forms.py'),\n",
       "  Path('examples/dashboard.py')])"
      ]
     },
     "execution_count": 48,
     "metadata": {},
     "output_type": "execute_result"
    }
   ],
   "source": [
    "urls, examples"
   ]
  },
  {
   "cell_type": "code",
   "execution_count": 3,
   "id": "e0428bbb",
   "metadata": {},
   "outputs": [],
   "source": [
    "from ContextKit.read import read_url"
   ]
  },
  {
   "cell_type": "code",
   "execution_count": 31,
   "id": "dcaef5d6",
   "metadata": {},
   "outputs": [],
   "source": [
    "from toolslm.download import read_html"
   ]
  },
  {
   "cell_type": "code",
   "execution_count": 32,
   "id": "aeccdafd",
   "metadata": {},
   "outputs": [
    {
     "data": {
      "text/plain": [
       "'# Articles, Containers & Sections\\n\\n#\\n\\n# Articles, Containers & Sections\\n\\n### ArticleMeta\\n\\nSource\\n\\n[code]\\n\\n    ArticleMeta(*c, cls=(), **kwargs) -> fastcore.xml.FT\\n[/code]\\n\\n> A metadata component for use within an Article showing things like date, author etc\\n\\n**Params**\\n\\n  * `c` contents of ArticleMeta tag (often other tags)\\n\\n  * `cls` Classes in addition to ArticleMeta styling\\n\\n  * `kwargs` Additional args for ArticleMeta tag\\n\\n**Returns:** P(..., cls=\\'uk-article-meta\\')\\n\\n### ArticleTitle\\n\\nSource\\n\\n[code]\\n\\n    ArticleTitle(*c, cls=(), **kwargs) -> fastcore.xml.FT\\n[/code]\\n\\n> A title component for use within an Article\\n\\n**Params**\\n\\n  * `c` contents of ArticleTitle tag (often other tags)\\n\\n  * `cls` Classes in addition to ArticleTitle styling\\n\\n  * `kwargs` Additional args for ArticleTitle tag\\n\\n**Returns:** H1(..., cls=\\'uk-article-title\\')\\n\\n### Article\\n\\nSource\\n\\n[code]\\n\\n    Article(*c, cls=(), **kwargs) -> fastcore.xml.FT\\n[/code]\\n\\n> A styled article container for blog posts or similar content\\n\\n**Params**\\n\\n  * `c` contents of Article tag (often other tags)\\n\\n  * `cls` Classes in addition to Article styling\\n\\n  * `kwargs` Additional args for Article tag\\n\\n**Returns:** Article(..., cls=\\'uk-article\\')\\n\\nSee Source\\n\\nSee Output\\n\\n# Sample Article Title\\n\\nBy: John Doe\\n\\nlorem ipsum dolor sit amet consectetur adipiscing elit, sed do eiusmod tempor incididunt ut labore et dolore magna aliqua.\\n\\n[code]\\n\\n    def ex_articles():\\n        return Article(\\n            ArticleTitle(\"Sample Article Title\"), \\n            ArticleMeta(\"By: John Doe\"),\\n            P(\\'lorem ipsum dolor sit amet consectetur adipiscing elit, sed do eiusmod tempor incididunt ut labore et dolore magna aliqua.\\'))\\n    \\n[/code]\\n\\n### Container\\n\\nSource\\n\\n[code]\\n\\n    Container(*c, cls=(\\'mt-5\\', <ContainerT.xlarge: \\'uk-container-xlarge\\'>), **kwargs) -> fastcore.xml.FT\\n[/code]\\n\\n> Div to be used as a container that often wraps large sections or a page of content\\n\\n**Params**\\n\\n  * `c` Contents of Container tag (often other FT Components)\\n\\n  * `cls` Classes in addition to Container styling\\n\\n  * `kwargs` Additional args for Container (`Div` tag)\\n\\n**Returns:** Container(..., cls=\\'uk-container\\')\\n\\n* * *\\n\\n### ContainerT\\n\\n_Max width container sizes from https://franken-ui.dev/docs/container_\\n\\nOption | Value | Option | Value  \\n---|---|---|---  \\nxsmall | uk-container-xsmall | small | uk-container-small  \\nlarge | uk-container-large | xlarge | uk-container-xlarge  \\nexpand | uk-container-expand |  |   \\n  \\nSee Source\\n\\nSee Output\\n\\nThis is a sample container with custom styling.\\n\\n[code]\\n\\n    def ex_containers():\\n        return Container(\\n            \"This is a sample container with custom styling.\",\\n            cls=ContainerT.xsmall,\\n            style=\"background-color: #FFA500; color: #000000\")\\n    \\n[/code]\\n\\n### Section\\n\\nSource\\n\\n[code]\\n\\n    Section(*c, cls=(), **kwargs) -> fastcore.xml.FT\\n[/code]\\n\\n> Section with styling and margins\\n\\n**Params**\\n\\n  * `c` contents of Section tag (often other tags)\\n\\n  * `cls` Classes in addition to Section styling\\n\\n  * `kwargs` Additional args for Section tag\\n\\n**Returns:** Div(..., cls=\\'uk-section\\')\\n\\n* * *\\n\\n### SectionT\\n\\n_Section styles from https://franken-ui.dev/docs/section_\\n\\nOption | Value | Option | Value | Option | Value  \\n---|---|---|---|---|---  \\ndefault | uk-section-default | muted | uk-section-muted | primary | uk-section-primary  \\nsecondary | uk-section-secondary | xsmall | uk-section-xsmall | small | uk-section-small  \\nlarge | uk-section-large | xlarge | uk-section-xlarge | remove_vertical | uk-section-remove-vertical\\n\\n'"
      ]
     },
     "execution_count": 32,
     "metadata": {},
     "output_type": "execute_result"
    }
   ],
   "source": [
    "read_html('https://monsterui.answer.ai/api_ref/docs_containers',sel='#content')"
   ]
  },
  {
   "cell_type": "code",
   "execution_count": null,
   "id": "c82cf963",
   "metadata": {},
   "outputs": [],
   "source": []
  }
 ],
 "metadata": {
  "kernelspec": {
   "display_name": "Python 3 (ipykernel)",
   "language": "python",
   "name": "python3"
  },
  "language_info": {
   "codemirror_mode": {
    "name": "ipython",
    "version": 3
   },
   "file_extension": ".py",
   "mimetype": "text/x-python",
   "name": "python",
   "nbconvert_exporter": "python",
   "pygments_lexer": "ipython3",
   "version": "3.12.8"
  }
 },
 "nbformat": 4,
 "nbformat_minor": 5
}
