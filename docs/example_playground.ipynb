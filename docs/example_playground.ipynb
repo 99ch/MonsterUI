{
 "cells": [
  {
   "cell_type": "markdown",
   "id": "9486f727",
   "metadata": {},
   "source": [
    "# Playground\n",
    "\n",
    "> FrankenUI Playground Example"
   ]
  },
  {
   "cell_type": "code",
   "execution_count": 1,
   "id": "797265c0",
   "metadata": {},
   "outputs": [],
   "source": [
    "#|default_exp playground"
   ]
  },
  {
   "cell_type": "code",
   "execution_count": 1,
   "id": "9dc35963",
   "metadata": {},
   "outputs": [],
   "source": [
    "#| export\n",
    "from fasthtml.common import *\n",
    "import fasthtml.common as fh\n",
    "from fh_frankenui import *\n",
    "from fh_frankenui.core import *\n",
    "from fh_frankenui.components import *\n",
    "from fasthtml.svg import *\n"
   ]
  },
  {
   "cell_type": "code",
   "execution_count": 3,
   "id": "0daeed2d",
   "metadata": {},
   "outputs": [],
   "source": [
    "#| hide\n",
    "from IPython.display import HTML, display, Markdown\n",
    "from fasthtml.jupyter import *\n",
    "from functools import partial"
   ]
  },
  {
   "cell_type": "code",
   "execution_count": 4,
   "id": "5b0a2a21",
   "metadata": {},
   "outputs": [
    {
     "name": "stdout",
     "output_type": "stream",
     "text": [
      "Starter server on port 8008\n"
     ]
    }
   ],
   "source": [
    "#| hide\n",
    "#| eval: false\n",
    "from utils import create_server\n",
    "app, rt = fh.fast_app(pico=False, hdrs=Theme.blue.headers())\n",
    "server, Show = create_server(app)"
   ]
  },
  {
   "cell_type": "code",
   "execution_count": 5,
   "id": "417b3820",
   "metadata": {},
   "outputs": [],
   "source": [
    "#| hide\n",
    "from nbdev.showdoc import *"
   ]
  },
  {
   "cell_type": "code",
   "execution_count": 6,
   "id": "108c7b98",
   "metadata": {},
   "outputs": [
    {
     "data": {
      "text/html": [
       "<script src=\"https://cdn.tailwindcss.com\"></script>\n",
       "<script src=\"https://cdn.jsdelivr.net/npm/uikit@3.21.6/dist/js/uikit.min.js\"></script>\n",
       "<script src=\"https://cdn.jsdelivr.net/npm/uikit@3.21.6/dist/js/uikit-icons.min.js\"></script>\n",
       "<script type=\"module\" src=\"https://unpkg.com/franken-wc@0.0.6/dist/js/wc.iife.js\"></script>\n",
       "<link rel=\"stylesheet\" href=\"https://unpkg.com/franken-wc@0.0.6/dist/css/blue.min.css\">\n",
       "\n",
       "<style>\n",
       "#notebook-container { max-width: none; }\n",
       ".output_html * { list-style-type: none !important; }\n",
       "</style>\n"
      ],
      "text/plain": [
       "<IPython.core.display.HTML object>"
      ]
     },
     "metadata": {},
     "output_type": "display_data"
    }
   ],
   "source": [
    "%%html\n",
    "<script src=\"https://cdn.tailwindcss.com\"></script>\n",
    "<script src=\"https://cdn.jsdelivr.net/npm/uikit@3.21.6/dist/js/uikit.min.js\"></script>\n",
    "<script src=\"https://cdn.jsdelivr.net/npm/uikit@3.21.6/dist/js/uikit-icons.min.js\"></script>\n",
    "<script type=\"module\" src=\"https://unpkg.com/franken-wc@0.0.6/dist/js/wc.iife.js\"></script>\n",
    "<link rel=\"stylesheet\" href=\"https://unpkg.com/franken-wc@0.0.6/dist/css/blue.min.css\">\n",
    "\n",
    "<style>\n",
    "#notebook-container { max-width: none; }\n",
    ".output_html * { list-style-type: none !important; }\n",
    "</style>"
   ]
  },
  {
   "cell_type": "code",
   "execution_count": 7,
   "id": "37b395ce",
   "metadata": {},
   "outputs": [],
   "source": [
    "#|export\n",
    "preset_options = [\"Grammatical Standard English\", \"Summarize for a 2nd grader\",\n",
    "        \"Text to command\",\"Q&A\",\"English to other languages\",\"Parse unstructured data\",\n",
    "        \"Classification\",\"Natural language to Python\",\"Explain code\",\"Chat\",\"More examples\"]"
   ]
  },
  {
   "cell_type": "code",
   "execution_count": 12,
   "id": "998b2390",
   "metadata": {},
   "outputs": [],
   "source": [
    "#| export\n",
    "def playground_navbar():\n",
    "    save_modal = Modal(\n",
    "        ModalTitle(\"Save preset\"),\n",
    "        P(\"This will save the current playground state as a preset which you can access later or share with others.\",cls=(\"mt-1.5\", TextFont.muted_sm)),\n",
    "        LabelInput(\"Name\",        id=\"name\"), \n",
    "        LabelInput(\"Description\", id=\"description\"),\n",
    "        ModalCloseButton(\"Save\", cls=(ButtonT.primary)),\n",
    "        id=\"save\")\n",
    "    \n",
    "    share_dd = Div(cls=\"space-y-6 p-4\")(\n",
    "        H3(\"Share preset\"),\n",
    "        P(\"Anyone who has this link and an OpenAI account will be able to view this.\", cls=TextFont.muted_sm),\n",
    "        Div(Input(value=\"https://platform.openai.com/playground/p/7bbKYQvsVkNmVb8NGcdUOLae?model=text-davinci-003\", readonly=True, cls=\"flex-1\"),\n",
    "            Button(UkIcon('copy'), cls=(ButtonT.primary, \"uk-drop-close\",'mt-4'))))\n",
    "\n",
    "    rnav = NavBarNav(\n",
    "        Li(UkSelect(*Options(*preset_options), name='preset', optgroup_label=\"Examples\",\n",
    "                 placeholder='Load a preset', searchable=True, cls='h-9 w-[200px] lg:w-[300px]')),\n",
    "        Li(Button(\"Save\",         cls=ButtonT.secondary, uk_toggle=\"#save\"),save_modal),\n",
    "        Li(Button(\"View Code\",    cls=ButtonT.secondary)),\n",
    "        Li(Button(\"Share\",        cls=ButtonT.secondary),DropDownNavContainer(share_dd)),\n",
    "        Li(Button(UkIcon(icon=\"ellipsis\"), cls=ButtonT.secondary),DropDownNavContainer(\n",
    "            Li(A(\"Content filter preferences\")),\n",
    "            NavDividerLi(),\n",
    "            Li(A(\"Delete preset\", cls=\"text-destructive\")),\n",
    "        uk_dropdown=\"mode: click\")))\n",
    "    \n",
    "    return NavBarContainer(\n",
    "                NavBarLSide(NavBarNav(Li(H4('Playground')))),\n",
    "                NavBarRSide(rnav),\n",
    "                cls='mt-2')"
   ]
  },
  {
   "cell_type": "code",
   "execution_count": 13,
   "id": "1d594f9c",
   "metadata": {},
   "outputs": [
    {
     "data": {
      "text/html": [
       "<a href=\"http://localhost:8008/\" target=\"_blank\">Open in new tab</a>"
      ],
      "text/plain": [
       "<IPython.core.display.HTML object>"
      ]
     },
     "metadata": {},
     "output_type": "display_data"
    },
    {
     "data": {
      "text/html": [
       "<iframe src=\"http://localhost:8008/\" style=\"width: 100%; height: auto; border: none;\" onload=\"{\n",
       "        let frame = this;\n",
       "        window.addEventListener('message', function(e) {\n",
       "            if (e.source !== frame.contentWindow) return; // Only proceed if the message is from this iframe\n",
       "            if (e.data.height) frame.style.height = (e.data.height+1) + 'px';\n",
       "        }, false);\n",
       "    }\" allow=\"accelerometer; autoplay; camera; clipboard-read; clipboard-write; display-capture; encrypted-media; fullscreen; gamepad; geolocation; gyroscope; hid; identity-credentials-get; idle-detection; magnetometer; microphone; midi; payment; picture-in-picture; publickey-credentials-get; screen-wake-lock; serial; usb; web-share; xr-spatial-tracking\"></iframe> "
      ],
      "text/plain": [
       "<IPython.core.display.HTML object>"
      ]
     },
     "execution_count": 13,
     "metadata": {},
     "output_type": "execute_result"
    }
   ],
   "source": [
    "Show(playground_navbar())"
   ]
  },
  {
   "cell_type": "code",
   "execution_count": 14,
   "id": "df49236b",
   "metadata": {},
   "outputs": [],
   "source": [
    "#| export\n",
    "rsidebar = NavContainer(\n",
    "    UkSelect(\n",
    "        Optgroup(map(Option,(\"text-davinci-003\", \"text-curie-001\", \"text-babbage-001\", \"text-ada-001\")),label='GPT-3'),\n",
    "        Optgroup(map(Option,(\"code-davinci-002\", \"code-cushman-001\")),label='Codex'),\n",
    "        label=\"Model\",\n",
    "        searchable=True),\n",
    "    LabelRange(label='Temperature'),\n",
    "    LabelRange(label='Maximum Length'),\n",
    "    LabelRange(label='Top P'),\n",
    "    cls='space-y-6 mt-8'\n",
    ")"
   ]
  },
  {
   "cell_type": "code",
   "execution_count": 15,
   "id": "e6b6310a",
   "metadata": {},
   "outputs": [
    {
     "data": {
      "text/html": [
       "<ul class=\"uk-nav space-y-6 mt-8\">\n",
       "  <div class=\"space-y-2\">\n",
       "<uk-select uk-cloak searchable label=\"Model\"><optgroup label=\"GPT-3\"><option>text-davinci-003</option><option>text-curie-001</option><option>text-babbage-001</option><option>text-ada-001</option></optgroup><optgroup label=\"Codex\"><option>code-davinci-002</option><option>code-cushman-001</option></optgroup></uk-select>  </div>\n",
       "  <div class=\"space-y-2\">\n",
       "<label class=\"uk-form-label \">Temperature</label>    <input type=\"range\" class=\"uk-range \">\n",
       "  </div>\n",
       "  <div class=\"space-y-2\">\n",
       "<label class=\"uk-form-label \">Maximum Length</label>    <input type=\"range\" class=\"uk-range \">\n",
       "  </div>\n",
       "  <div class=\"space-y-2\">\n",
       "<label class=\"uk-form-label \">Top P</label>    <input type=\"range\" class=\"uk-range \">\n",
       "  </div>\n",
       "</ul>\n"
      ],
      "text/plain": [
       "<IPython.core.display.HTML object>"
      ]
     },
     "execution_count": 15,
     "metadata": {},
     "output_type": "execute_result"
    }
   ],
   "source": [
    "show(rsidebar)"
   ]
  },
  {
   "cell_type": "code",
   "execution_count": 20,
   "id": "b71beacd",
   "metadata": {},
   "outputs": [],
   "source": [
    "#| export\n",
    "def page():\n",
    "    navbar = playground_navbar()\n",
    "    main_content = Div(\n",
    "        Div(cls=\"flex-1\")(\n",
    "            Textarea(cls=\"uk-textarea h-full p-4\", placeholder=\"Write a tagline for an ice cream shop\")),\n",
    "            cls=\"flex h-[700px] p-8 w-4/5\")\n",
    "    \n",
    "    bottom_buttons = Div(\n",
    "        Button(\"Submit\", cls=ButtonT.primary),\n",
    "        Button(UkIcon(icon=\"history\"), cls=ButtonT.secondary),\n",
    "        cls=\"flex gap-x-2\")\n",
    "    \n",
    "    return Div(navbar, Div(cls=\"flex w-full\")(main_content, rsidebar), bottom_buttons)"
   ]
  },
  {
   "cell_type": "code",
   "execution_count": 21,
   "id": "9aa99f10",
   "metadata": {
    "scrolled": true
   },
   "outputs": [
    {
     "data": {
      "text/html": [
       "<a href=\"http://localhost:8008/\" target=\"_blank\">Open in new tab</a>"
      ],
      "text/plain": [
       "<IPython.core.display.HTML object>"
      ]
     },
     "metadata": {},
     "output_type": "display_data"
    },
    {
     "data": {
      "text/html": [
       "<iframe src=\"http://localhost:8008/\" style=\"width: 100%; height: auto; border: none;\" onload=\"{\n",
       "        let frame = this;\n",
       "        window.addEventListener('message', function(e) {\n",
       "            if (e.source !== frame.contentWindow) return; // Only proceed if the message is from this iframe\n",
       "            if (e.data.height) frame.style.height = (e.data.height+1) + 'px';\n",
       "        }, false);\n",
       "    }\" allow=\"accelerometer; autoplay; camera; clipboard-read; clipboard-write; display-capture; encrypted-media; fullscreen; gamepad; geolocation; gyroscope; hid; identity-credentials-get; idle-detection; magnetometer; microphone; midi; payment; picture-in-picture; publickey-credentials-get; screen-wake-lock; serial; usb; web-share; xr-spatial-tracking\"></iframe> "
      ],
      "text/plain": [
       "<IPython.core.display.HTML object>"
      ]
     },
     "execution_count": 21,
     "metadata": {},
     "output_type": "execute_result"
    }
   ],
   "source": [
    "Show(page())"
   ]
  },
  {
   "cell_type": "code",
   "execution_count": 81,
   "id": "20aefea1",
   "metadata": {},
   "outputs": [],
   "source": [
    "#| export\n",
    "playground_homepage = page()"
   ]
  },
  {
   "cell_type": "code",
   "execution_count": 16,
   "id": "2c302358",
   "metadata": {},
   "outputs": [],
   "source": [
    "#| hide\n",
    "import nbdev; nbdev.nbdev_export()"
   ]
  },
  {
   "cell_type": "code",
   "execution_count": null,
   "id": "aa778f1c",
   "metadata": {},
   "outputs": [],
   "source": []
  }
 ],
 "metadata": {
  "kernelspec": {
   "display_name": "Python 3 (ipykernel)",
   "language": "python",
   "name": "python3"
  },
  "language_info": {
   "codemirror_mode": {
    "name": "ipython",
    "version": 3
   },
   "file_extension": ".py",
   "mimetype": "text/x-python",
   "name": "python",
   "nbconvert_exporter": "python",
   "pygments_lexer": "ipython3",
   "version": "3.12.4"
  },
  "toc": {
   "base_numbering": 1,
   "nav_menu": {},
   "number_sections": true,
   "sideBar": true,
   "skip_h1_title": false,
   "title_cell": "Table of Contents",
   "title_sidebar": "Contents",
   "toc_cell": false,
   "toc_position": {},
   "toc_section_display": true,
   "toc_window_display": false
  }
 },
 "nbformat": 4,
 "nbformat_minor": 5
}
