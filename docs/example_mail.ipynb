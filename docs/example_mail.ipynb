{
 "cells": [
  {
   "cell_type": "markdown",
   "id": "5441fc8c",
   "metadata": {},
   "source": [
    "# Mail\n",
    "\n",
    "> FrankenUI Mail Example"
   ]
  },
  {
   "cell_type": "code",
   "execution_count": 99,
   "id": "8d0c0842",
   "metadata": {},
   "outputs": [],
   "source": [
    "#| default_exp mail"
   ]
  },
  {
   "cell_type": "code",
   "execution_count": 100,
   "id": "d80296c1",
   "metadata": {},
   "outputs": [],
   "source": [
    "#| export\n",
    "from fasthtml.common import *\n",
    "import fasthtml.common as fh\n",
    "from fh_frankenui import *\n",
    "from fh_frankenui.core import *\n",
    "from fh_frankenui.components import *\n",
    "\n",
    "from fasthtml.svg import *\n",
    "import pathlib\n",
    "import json\n",
    "from datetime import datetime"
   ]
  },
  {
   "cell_type": "code",
   "execution_count": 101,
   "id": "d6f7f3d1",
   "metadata": {},
   "outputs": [
    {
     "name": "stdout",
     "output_type": "stream",
     "text": [
      "Starter server on port 8005\n"
     ]
    }
   ],
   "source": [
    "#| hide\n",
    "#| eval: false\n",
    "from utils import create_server\n",
    "app, rt = fh.fast_app(pico=False, hdrs=Theme.blue.headers())\n",
    "server, Show = create_server(app)"
   ]
  },
  {
   "cell_type": "code",
   "execution_count": 102,
   "id": "02013099",
   "metadata": {},
   "outputs": [
    {
     "data": {
      "text/html": [
       "<script src=\"https://cdn.tailwindcss.com\"></script>\n",
       "<script src=\"https://cdn.jsdelivr.net/npm/uikit@3.21.6/dist/js/uikit.min.js\"></script>\n",
       "<script src=\"https://cdn.jsdelivr.net/npm/uikit@3.21.6/dist/js/uikit-icons.min.js\"></script>\n",
       "<script type=\"module\" src=\"https://unpkg.com/franken-wc@0.0.6/dist/js/wc.iife.js\"></script>\n",
       "<link rel=\"stylesheet\" href=\"https://unpkg.com/franken-wc@0.0.6/dist/css/blue.min.css\">\n",
       "\n",
       "<style>\n",
       "#notebook-container { max-width: none; }\n",
       ".output_html * { list-style-type: none !important; }\n",
       "</style>\n"
      ],
      "text/plain": [
       "<IPython.core.display.HTML object>"
      ]
     },
     "metadata": {},
     "output_type": "display_data"
    }
   ],
   "source": [
    "%%html\n",
    "<script src=\"https://cdn.tailwindcss.com\"></script>\n",
    "<script src=\"https://cdn.jsdelivr.net/npm/uikit@3.21.6/dist/js/uikit.min.js\"></script>\n",
    "<script src=\"https://cdn.jsdelivr.net/npm/uikit@3.21.6/dist/js/uikit-icons.min.js\"></script>\n",
    "<script type=\"module\" src=\"https://unpkg.com/franken-wc@0.0.6/dist/js/wc.iife.js\"></script>\n",
    "<link rel=\"stylesheet\" href=\"https://unpkg.com/franken-wc@0.0.6/dist/css/blue.min.css\">\n",
    "\n",
    "<style>\n",
    "#notebook-container { max-width: none; }\n",
    ".output_html * { list-style-type: none !important; }\n",
    "</style>"
   ]
  },
  {
   "cell_type": "code",
   "execution_count": 103,
   "id": "1b2407d4",
   "metadata": {},
   "outputs": [],
   "source": [
    "#| export\n",
    "def NavItem(icon, text, quantity=None):\n",
    "    cls = 'flex items-center space-x-2 rounded-md px-3 py-2 text-sm font-medium hover:bg-accent hover:text-accent-foreground'\n",
    "    content = [UkIcon(icon), Span(text)]\n",
    "    if quantity:\n",
    "        content.append(Span(quantity, cls='ml-auto text-background bg-primary rounded-full px-2 py-0.5 text-xs'))\n",
    "    return Li(A(*content, href='#', cls=cls))"
   ]
  },
  {
   "cell_type": "code",
   "execution_count": 104,
   "id": "c2757d53",
   "metadata": {},
   "outputs": [],
   "source": [
    "#|export\n",
    "def NavGroup(items):\n",
    "    return Nav(cls='uk-nav-default space-y-3')(*[NavItem(i, t, q) for i, t, q in items if q or t != 'Trash'])"
   ]
  },
  {
   "cell_type": "code",
   "execution_count": 149,
   "id": "7b7edb58",
   "metadata": {},
   "outputs": [],
   "source": [
    "#|export\n",
    "sidebar_group1 = (('home', 'Inbox', '128'), ('file-text', 'Drafts', '9'), (' arrow-up-right', 'Sent', ''),\n",
    "    ('ban', 'Junk', '23'), ('trash', 'Trash', ''), ('folder', 'Archive', ''))\n",
    "\n",
    "sidebar_group2 = (('globe','Social','972'),('info','Updates','342'),('messages-square','Forums','128'),\n",
    "    ('shopping-cart','Shopping','8'),('shopping-bag','Promotions','21'),)\n",
    "\n",
    "def MailSbLi(icon, title, cnt): \n",
    "    return Li(A(DivLAligned(\n",
    "        Span(UkIcon(icon)),Span(title),P(cnt,cls=TextFont.muted_sm),cls='space-x-2')))\n",
    "\n",
    "sidebar = Container(NavContainer(\n",
    "    NavHeaderLi(H3(\"Email\")),\n",
    "    Li(UkSelect(map(Option, ('alicia@example.com','alicia@gmail.com', 'alicia@yahoo.com')),cls='my-4')),\n",
    "    *[MailSbLi(i, t, c) for i, t, c in sidebar_group1],\n",
    "    NavDividerLi(),\n",
    "    *[MailSbLi(i, t, c) for i, t, c in sidebar_group2],\n",
    "    cls='space-y-6'))\n"
   ]
  },
  {
   "cell_type": "code",
   "execution_count": 150,
   "id": "1b08391d",
   "metadata": {},
   "outputs": [
    {
     "data": {
      "text/html": [
       "<a href=\"http://localhost:8005/\" target=\"_blank\">Open in new tab</a>"
      ],
      "text/plain": [
       "<IPython.core.display.HTML object>"
      ]
     },
     "metadata": {},
     "output_type": "display_data"
    },
    {
     "data": {
      "text/html": [
       "<iframe src=\"http://localhost:8005/\" style=\"width: 100%; height: auto; border: none;\" onload=\"{\n",
       "        let frame = this;\n",
       "        window.addEventListener('message', function(e) {\n",
       "            if (e.source !== frame.contentWindow) return; // Only proceed if the message is from this iframe\n",
       "            if (e.data.height) frame.style.height = (e.data.height+1) + 'px';\n",
       "        }, false);\n",
       "    }\" allow=\"accelerometer; autoplay; camera; clipboard-read; clipboard-write; display-capture; encrypted-media; fullscreen; gamepad; geolocation; gyroscope; hid; identity-credentials-get; idle-detection; magnetometer; microphone; midi; payment; picture-in-picture; publickey-credentials-get; screen-wake-lock; serial; usb; web-share; xr-spatial-tracking\"></iframe> "
      ],
      "text/plain": [
       "<IPython.core.display.HTML object>"
      ]
     },
     "execution_count": 150,
     "metadata": {},
     "output_type": "execute_result"
    }
   ],
   "source": [
    "Show(sidebar)"
   ]
  },
  {
   "cell_type": "code",
   "execution_count": 107,
   "id": "522440ed",
   "metadata": {},
   "outputs": [],
   "source": [
    "#| export\n",
    "mail_data = json.load(open(pathlib.Path('data/mail.json')))"
   ]
  },
  {
   "cell_type": "code",
   "execution_count": 108,
   "id": "c15db454",
   "metadata": {},
   "outputs": [],
   "source": [
    "#|export\n",
    "def format_date(date_str):\n",
    "    date_obj = datetime.fromisoformat(date_str)\n",
    "    return date_obj.strftime(\"%Y-%m-%d %I:%M %p\")"
   ]
  },
  {
   "cell_type": "code",
   "execution_count": 109,
   "id": "224f1ab4",
   "metadata": {},
   "outputs": [],
   "source": [
    "#| export\n",
    "def MailItem(mail):\n",
    "    cls_base = 'relative rounded-lg border border-border p-3 text-sm hover:bg-accent'\n",
    "    cls = f\"{cls_base} {'bg-muted' if mail == mail_data[0] else ''} {'tag-unread' if not mail['read'] else 'tag-mail'}\"\n",
    "    \n",
    "    return Li(cls=cls)(\n",
    "        Div(cls='flex w-full flex-col gap-1')(\n",
    "            Div(cls='flex items-center')(\n",
    "                Div(cls='flex items-center gap-2')(\n",
    "                    Div(mail['name'], cls='font-semibold'),\n",
    "                    Span(cls='flex h-2 w-2 rounded-full bg-blue-600') if not mail['read'] else ''),\n",
    "                Div(format_date(mail['date']), cls='ml-auto text-xs')),\n",
    "            A(mail['subject'], cls=TextFont.bold_sm, href=f\"#mail-{mail['id']}\"),\n",
    "            Div(mail['text'][:100] + '...', cls=TextFont.muted_sm),\n",
    "            Div(cls='flex items-center gap-2')(\n",
    "                *[A(label, cls=f\"uk-label relative z-10 {'uk-label-primary' if label == 'work' else ''}\", href='#')\n",
    "                  for label in mail['labels']])))"
   ]
  },
  {
   "cell_type": "code",
   "execution_count": 110,
   "id": "ece1a4e4",
   "metadata": {},
   "outputs": [],
   "source": [
    "#|export\n",
    "def MailList(mails): return Ul(cls='js-filter space-y-2 p-4 pt-0')(*[MailItem(mail) for mail in mails])"
   ]
  },
  {
   "cell_type": "code",
   "execution_count": 111,
   "id": "7ce30476",
   "metadata": {},
   "outputs": [],
   "source": [
    "#|export\n",
    "def MailContent():\n",
    "    return Div(cls='flex flex-col',uk_filter=\"target: .js-filter\")(\n",
    "        Div(cls='flex px-4 py-2 ')(\n",
    "            H3('Inbox'),\n",
    "            TabContainer(Li(A(\"All Mail\",href='#', role='button'),cls='uk-active', uk_filter_control=\"filter: .tag-mail\"), \n",
    "                         Li(A(\"Unread\",href='#', role='button'),                   uk_filter_control=\"filter: .tag-unread\"), \n",
    "                         alt=True, cls='ml-auto max-w-40', )),\n",
    "        Div(cls='flex flex-1 flex-col')(\n",
    "            Div(cls='p-4')(\n",
    "                Div(cls='uk-inline w-full')(\n",
    "                    Span(cls='uk-form-icon text-muted-foreground')(UkIcon('search')),\n",
    "                    Input(placeholder='Search'))),\n",
    "            Div(cls='flex-1 overflow-y-auto max-h-[600px]')(MailList(mail_data))))"
   ]
  },
  {
   "cell_type": "code",
   "execution_count": 112,
   "id": "29100acc",
   "metadata": {},
   "outputs": [],
   "source": [
    "#| export\n",
    "def IconNavItem(*d): return [Li(A(UkIcon(o[0],uk_tooltip=o[1]))) for o in d]  \n",
    "def IconNav(*c,cls=''): return Ul(cls=f'uk-iconnav {cls}')(*c)"
   ]
  },
  {
   "cell_type": "code",
   "execution_count": 138,
   "id": "e2ae6388",
   "metadata": {},
   "outputs": [],
   "source": [
    "#| export\n",
    "def MailDetailView(mail):\n",
    "    return Div(cls='flex flex-col')(\n",
    "        Div(cls='flex h-14 flex-none items-center border-b border-border p-2')(\n",
    "            Div(cls='flex w-full justify-between')(\n",
    "                Div(cls='flex gap-x-2 divide-x divide-border')(\n",
    "                    IconNav(*IconNavItem(('folder','Archive'),('ban','Move to junk'),('trash','Move to trash'))),\n",
    "                    IconNav(Li(A(UkIcon('clock'), uk_tooltip='Snooze')), cls='pl-2')),\n",
    "                Div(cls='flex')(# divide-x divide-border gap-x-2\n",
    "                    IconNav(\n",
    "                        *IconNavItem(('reply','Reply'),('reply','Reply all'),('forward','Forward')),\n",
    "                        Li(A(UkIcon('ellipsis-vertical',button=True))),\n",
    "                        DropDownNavContainer(\n",
    "                            Li(A(\"Mark as unread\")),\n",
    "                            Li(A(\"Star read\")),\n",
    "                            Li(A(\"Add Label\")),\n",
    "                            Li(A(\"Mute Thread\"))))))),\n",
    "        Div(cls='flex-1')(\n",
    "            Div(cls='flex items-start p-4')(\n",
    "                Div(cls='flex items-start gap-4 text-sm')(\n",
    "                    Span(mail['name'][:2], cls='flex h-10 w-10 items-center justify-center rounded-full bg-muted'),\n",
    "                    Div(cls='grid gap-1')(\n",
    "                        Div(mail['name'], cls=TextT.bold),\n",
    "                        Div(mail['subject'], cls='text-xs'),\n",
    "                        Div(cls=TextT.small)(\n",
    "                            Span('Reply-To:', cls=TextT.normal),\n",
    "                            f\" {mail['email']}\"))),\n",
    "                Div(format_date(mail['date']), cls=(TextFont.muted_sm,'ml-auto'))),\n",
    "            Div(cls='flex-1 space-y-4 border-t border-border p-4 text-sm')(P(mail['text']))),\n",
    "        Div(cls='flex-none space-y-4 border-t border-border p-4')(\n",
    "            TextArea(id='message', placeholder=f\"Reply {mail['name']}\"),\n",
    "            Div(cls='flex justify-between')(\n",
    "                    LabelSwitch('Mute this thread',id='mute'), # cls='inline-flex items-center gap-x-2 text-xs'\n",
    "                Button('Send', cls=ButtonT.primary))))"
   ]
  },
  {
   "cell_type": "code",
   "execution_count": 139,
   "id": "7d7d873b",
   "metadata": {},
   "outputs": [
    {
     "data": {
      "text/html": [
       "<a href=\"http://localhost:8005/\" target=\"_blank\">Open in new tab</a>"
      ],
      "text/plain": [
       "<IPython.core.display.HTML object>"
      ]
     },
     "metadata": {},
     "output_type": "display_data"
    },
    {
     "data": {
      "text/html": [
       "<iframe src=\"http://localhost:8005/\" style=\"width: 100%; height: auto; border: none;\" onload=\"{\n",
       "        let frame = this;\n",
       "        window.addEventListener('message', function(e) {\n",
       "            if (e.source !== frame.contentWindow) return; // Only proceed if the message is from this iframe\n",
       "            if (e.data.height) frame.style.height = (e.data.height+1) + 'px';\n",
       "        }, false);\n",
       "    }\" allow=\"accelerometer; autoplay; camera; clipboard-read; clipboard-write; display-capture; encrypted-media; fullscreen; gamepad; geolocation; gyroscope; hid; identity-credentials-get; idle-detection; magnetometer; microphone; midi; payment; picture-in-picture; publickey-credentials-get; screen-wake-lock; serial; usb; web-share; xr-spatial-tracking\"></iframe> "
      ],
      "text/plain": [
       "<IPython.core.display.HTML object>"
      ]
     },
     "execution_count": 139,
     "metadata": {},
     "output_type": "execute_result"
    }
   ],
   "source": [
    "Show(MailDetailView(mail_data[0]))"
   ]
  },
  {
   "cell_type": "code",
   "execution_count": 20,
   "id": "2be33650",
   "metadata": {},
   "outputs": [],
   "source": [
    "#| export\n",
    "def mail_homepage():\n",
    "    return Div(cls='flex divide-x divide-border')(\n",
    "        sidebar,\n",
    "        Grid(MailContent(),\n",
    "             MailDetailView(mail_data[0]),\n",
    "             cols=2, gap=0, cls='flex-1 divide-x divide-border'))"
   ]
  },
  {
   "cell_type": "code",
   "execution_count": 21,
   "id": "568f1f89",
   "metadata": {},
   "outputs": [],
   "source": [
    "#| export\n",
    "mail_homepage = mail_homepage()"
   ]
  },
  {
   "cell_type": "code",
   "execution_count": 1,
   "id": "7cc49576",
   "metadata": {},
   "outputs": [],
   "source": [
    "# Show(mail_homepage)"
   ]
  }
 ],
 "metadata": {
  "kernelspec": {
   "display_name": "Python 3 (ipykernel)",
   "language": "python",
   "name": "python3"
  },
  "language_info": {
   "codemirror_mode": {
    "name": "ipython",
    "version": 3
   },
   "file_extension": ".py",
   "mimetype": "text/x-python",
   "name": "python",
   "nbconvert_exporter": "python",
   "pygments_lexer": "ipython3",
   "version": "3.12.4"
  },
  "toc": {
   "base_numbering": 1,
   "nav_menu": {},
   "number_sections": true,
   "sideBar": true,
   "skip_h1_title": false,
   "title_cell": "Table of Contents",
   "title_sidebar": "Contents",
   "toc_cell": false,
   "toc_position": {},
   "toc_section_display": true,
   "toc_window_display": false
  }
 },
 "nbformat": 4,
 "nbformat_minor": 5
}
