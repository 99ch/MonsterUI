{
 "cells": [
  {
   "cell_type": "markdown",
   "id": "bd49724c",
   "metadata": {},
   "source": [
    "# Dashboard\n",
    "\n",
    "> FrankenUI Dashboard Example"
   ]
  },
  {
   "cell_type": "code",
   "execution_count": 1,
   "id": "04abc944",
   "metadata": {},
   "outputs": [],
   "source": [
    "#| default_exp dashboard"
   ]
  },
  {
   "cell_type": "code",
   "execution_count": 2,
   "id": "cef92ebb",
   "metadata": {},
   "outputs": [],
   "source": [
    "#| export\n",
    "from fasthtml.common import *\n",
    "from fh_frankenui import *\n",
    "from fh_frankenui.core import *\n",
    " \n",
    "from fasthtml.svg import *\n",
    "from fh_matplotlib import matplotlib2fasthtml\n",
    "import numpy as np\n",
    "import matplotlib.pylab as plt"
   ]
  },
  {
   "cell_type": "code",
   "execution_count": 3,
   "id": "02ad7e62",
   "metadata": {},
   "outputs": [],
   "source": [
    "#| hide\n",
    "from nbdev.showdoc import *"
   ]
  },
  {
   "cell_type": "code",
   "execution_count": 4,
   "id": "f0f5477a",
   "metadata": {},
   "outputs": [
    {
     "data": {
      "text/html": [
       "<script src=\"https://cdn.tailwindcss.com\"></script>\n",
       "<script src=\"https://cdn.jsdelivr.net/npm/uikit@3.21.6/dist/js/uikit.min.js\"></script>\n",
       "<script src=\"https://cdn.jsdelivr.net/npm/uikit@3.21.6/dist/js/uikit-icons.min.js\"></script>\n",
       "<script type=\"module\" src=\"https://unpkg.com/franken-wc@0.0.6/dist/js/wc.iife.js\"></script>\n",
       "<link rel=\"stylesheet\" href=\"https://unpkg.com/franken-wc@0.0.6/dist/css/blue.min.css\">\n",
       "\n",
       "<style>\n",
       "#notebook-container { max-width: none; }\n",
       ".output_html * { list-style-type: none !important; }\n",
       "</style>\n"
      ],
      "text/plain": [
       "<IPython.core.display.HTML object>"
      ]
     },
     "metadata": {},
     "output_type": "display_data"
    }
   ],
   "source": [
    "%%html\n",
    "<script src=\"https://cdn.tailwindcss.com\"></script>\n",
    "<script src=\"https://cdn.jsdelivr.net/npm/uikit@3.21.6/dist/js/uikit.min.js\"></script>\n",
    "<script src=\"https://cdn.jsdelivr.net/npm/uikit@3.21.6/dist/js/uikit-icons.min.js\"></script>\n",
    "<script type=\"module\" src=\"https://unpkg.com/franken-wc@0.0.6/dist/js/wc.iife.js\"></script>\n",
    "<link rel=\"stylesheet\" href=\"https://unpkg.com/franken-wc@0.0.6/dist/css/blue.min.css\">\n",
    "\n",
    "<style>\n",
    "#notebook-container { max-width: none; }\n",
    ".output_html * { list-style-type: none !important; }\n",
    "</style>"
   ]
  },
  {
   "cell_type": "code",
   "execution_count": 5,
   "id": "90bd6d6a",
   "metadata": {},
   "outputs": [
    {
     "ename": "NameError",
     "evalue": "name 'fh' is not defined",
     "output_type": "error",
     "traceback": [
      "\u001b[0;31m---------------------------------------------------------------------------\u001b[0m",
      "\u001b[0;31mNameError\u001b[0m                                 Traceback (most recent call last)",
      "Cell \u001b[0;32mIn[5], line 4\u001b[0m\n\u001b[1;32m      1\u001b[0m \u001b[38;5;66;03m#| hide\u001b[39;00m\n\u001b[1;32m      2\u001b[0m \u001b[38;5;66;03m#| eval: false\u001b[39;00m\n\u001b[1;32m      3\u001b[0m \u001b[38;5;28;01mfrom\u001b[39;00m \u001b[38;5;21;01mutils\u001b[39;00m \u001b[38;5;28;01mimport\u001b[39;00m create_server\n\u001b[0;32m----> 4\u001b[0m app, rt \u001b[38;5;241m=\u001b[39m \u001b[43mfh\u001b[49m\u001b[38;5;241m.\u001b[39mfast_app(pico\u001b[38;5;241m=\u001b[39m\u001b[38;5;28;01mFalse\u001b[39;00m, hdrs\u001b[38;5;241m=\u001b[39mTheme\u001b[38;5;241m.\u001b[39mblue\u001b[38;5;241m.\u001b[39mheaders())\n\u001b[1;32m      5\u001b[0m server, Show \u001b[38;5;241m=\u001b[39m create_server(app)\n",
      "\u001b[0;31mNameError\u001b[0m: name 'fh' is not defined"
     ]
    }
   ],
   "source": [
    "#| hide\n",
    "#| eval: false\n",
    "from utils import create_server\n",
    "app, rt = fh.fast_app(pico=False, hdrs=Theme.blue.headers())\n",
    "server, Show = create_server(app)"
   ]
  },
  {
   "cell_type": "code",
   "execution_count": null,
   "id": "275f3643",
   "metadata": {},
   "outputs": [],
   "source": [
    "#| exports\n",
    "def InfoCard(title, value, change):\n",
    "    return Div(Card(\n",
    "             Div(H3(value),\n",
    "                P(change, cls=TextFont.muted_sm)),\n",
    "             header = H4(title)))"
   ]
  },
  {
   "cell_type": "code",
   "execution_count": null,
   "id": "745555dc",
   "metadata": {},
   "outputs": [],
   "source": [
    "#| exports\n",
    "rev = InfoCard(\"Total Revenue\", \"$45,231.89\", \"+20.1% from last month\")\n",
    "sub = InfoCard(\"Subscriptions\", \"+2350\", \"+180.1% from last month\")\n",
    "sal = InfoCard(\"Sales\", \"+12,234\", \"+19% from last month\")\n",
    "act = InfoCard(\"Active Now\", \"+573\", \"+201 since last hour\")"
   ]
  },
  {
   "cell_type": "code",
   "execution_count": null,
   "id": "96867f4f",
   "metadata": {},
   "outputs": [],
   "source": [
    "#| exports\n",
    "top_info_row = Grid(rev,sub,sal,act,cols=4)"
   ]
  },
  {
   "cell_type": "code",
   "execution_count": null,
   "id": "12f5bfdd",
   "metadata": {},
   "outputs": [],
   "source": [
    "show(top_info_row)"
   ]
  },
  {
   "cell_type": "code",
   "execution_count": null,
   "id": "98b733c2",
   "metadata": {},
   "outputs": [],
   "source": [
    "#| exports\n",
    "def AvatarItem(name, email, amount):\n",
    "    return Div(cls=\"flex items-center\")(\n",
    "        DiceBearAvatar(name, 9,9),\n",
    "        Div(cls=\"ml-4 space-y-1\")(\n",
    "            P(name, cls=TextFont.bold_sm),\n",
    "            P(email, cls=TextFont.muted_sm)),\n",
    "        Div(amount, cls=\"ml-auto font-medium\"))\n",
    "\n",
    "recent_sales = Card(\n",
    "    Div(cls=\"space-y-8\")(\n",
    "        *[AvatarItem(n,e,d) for (n,e,d) in (\n",
    "            (\"Olivia Martin\",   \"olivia.martin@email.com\",   \"+$1,999.00\"),\n",
    "            (\"Jackson Lee\",     \"jackson.lee@email.com\",     \"+$39.00\"),\n",
    "            (\"Isabella Nguyen\", \"isabella.nguyen@email.com\", \"+$299.00\"),\n",
    "            (\"William Kim\",     \"will@email.com\",            \"+$99.00\"),\n",
    "            (\"Sofia Davis\",     \"sofia.davis@email.com\",     \"+$39.00\"))]),\n",
    "    header=Div(\n",
    "        H3(\"Recent Sales\"),\n",
    "        P(\"You made 265 sales this month.\", cls=TextFont.muted_sm)),\n",
    "\n",
    "cls='col-span-3')"
   ]
  },
  {
   "cell_type": "code",
   "execution_count": null,
   "id": "3767a677",
   "metadata": {},
   "outputs": [],
   "source": [
    "#| exports\n",
    "@matplotlib2fasthtml\n",
    "def generate_chart(num_points):\n",
    "    plotdata = [np.random.exponential(1) for _ in range(num_points)]\n",
    "    plt.plot(range(len(plotdata)), plotdata)"
   ]
  },
  {
   "cell_type": "code",
   "execution_count": null,
   "id": "d7a93876",
   "metadata": {
    "scrolled": true
   },
   "outputs": [],
   "source": [
    "show(generate_chart(10))"
   ]
  },
  {
   "cell_type": "code",
   "execution_count": null,
   "id": "c9f74172",
   "metadata": {},
   "outputs": [],
   "source": [
    "#| exports\n",
    "teams = [[\"Alicia Koch\"],['Acme Inc', 'Monster Inc.'],['Create a Team']]\n",
    "\n",
    "opt_hdrs = [\"Personal\", \"Team\", \"\"]\n",
    "\n",
    "team_dropdown = UkSelect(\n",
    "    Optgroup(label=\"Personal Account\")(\n",
    "        Option(A(\"Alicia Koch\"))),\n",
    "    Optgroup(label=\"Teams\")(\n",
    "        Option(A(\"Acme Inc\")),\n",
    "        Option(A(\"Monster Inc.\"))),\n",
    "    Option(A(\"Create a Team\")))"
   ]
  },
  {
   "cell_type": "code",
   "execution_count": null,
   "id": "845bc166",
   "metadata": {
    "scrolled": true
   },
   "outputs": [],
   "source": [
    "Show(team_dropdown)"
   ]
  },
  {
   "cell_type": "code",
   "execution_count": null,
   "id": "b91ef344",
   "metadata": {},
   "outputs": [],
   "source": [
    "#| exports\n",
    "hotkeys = [('Profile','⇧⌘P'),('Billing','⌘B'),('Settings','⌘S'),('New Team', ''), ('Logout', '')]\n",
    "\n",
    "def NavSpacedLi(t,s): return NavCloseLi(A(DivFullySpaced(P(t),P(s,cls=TextFont.muted_sm))))\n",
    "\n",
    "avatar_dropdown = Div(\n",
    "      DiceBearAvatar('Alicia Koch',8,8),\n",
    "      DropDownNavContainer(\n",
    "          NavHeaderLi('sveltecult',NavSubtitle(\"leader@sveltecult.com\")),\n",
    "          *[NavSpacedLi(*hk) for hk in hotkeys],))"
   ]
  },
  {
   "cell_type": "code",
   "execution_count": null,
   "id": "6ca923da",
   "metadata": {
    "scrolled": false
   },
   "outputs": [],
   "source": [
    "Show(avatar_dropdown)"
   ]
  },
  {
   "cell_type": "code",
   "execution_count": null,
   "id": "6ab9708c",
   "metadata": {},
   "outputs": [],
   "source": [
    "#| exports\n",
    "top_nav = NavBarContainer(\n",
    "            NavBarLSide(\n",
    "                NavBarNav(\n",
    "                   team_dropdown, \n",
    "                   Li(A(\"Overview\")), \n",
    "                   Li(A(\"Customers\")), \n",
    "                   Li(A(\"Products\")), \n",
    "                   Li(A(\"Settings\")),\n",
    "                cls='flex items-center'\n",
    "                )),\n",
    "            NavBarRSide(\n",
    "                NavBarNav(\n",
    "                   Input(placeholder='Search'), \n",
    "                   avatar_dropdown,\n",
    "                   cls='flex items-center')))"
   ]
  },
  {
   "cell_type": "code",
   "execution_count": null,
   "id": "5d4b0feb",
   "metadata": {
    "scrolled": true
   },
   "outputs": [],
   "source": [
    "Show(top_nav)"
   ]
  },
  {
   "cell_type": "code",
   "execution_count": null,
   "id": "a7002b4e",
   "metadata": {},
   "outputs": [],
   "source": [
    "#| exports\n",
    "def page():\n",
    "    return Div(cls=\"space-y-4\")(\n",
    "        Div(cls=\"border-b border-border px-4\")(top_nav),\n",
    "        H2('Dashboard'),\n",
    "        TabContainer(\n",
    "            Li(A(\"Overview\")),\n",
    "            Li(A(\"Analytics\")),\n",
    "            Li(A(\"Reports\")),\n",
    "            Li(A(\"Notifications\")),\n",
    "            alt=True),\n",
    "\n",
    "        top_info_row,\n",
    "        Grid(Card(generate_chart(10),cls='col-span-4'),\n",
    "            recent_sales,\n",
    "            gap=4,cols=7))"
   ]
  },
  {
   "cell_type": "code",
   "execution_count": null,
   "id": "22a8233b",
   "metadata": {},
   "outputs": [],
   "source": [
    "#| exports\n",
    "dashboard_homepage = page()"
   ]
  },
  {
   "cell_type": "code",
   "execution_count": null,
   "id": "4d313db9",
   "metadata": {},
   "outputs": [],
   "source": [
    "# Show(dashboard_homepage)"
   ]
  },
  {
   "cell_type": "code",
   "execution_count": null,
   "id": "1992630d",
   "metadata": {},
   "outputs": [],
   "source": [
    "#| hide\n",
    "import nbdev; nbdev.nbdev_export()"
   ]
  },
  {
   "cell_type": "code",
   "execution_count": null,
   "id": "17de0e5f",
   "metadata": {},
   "outputs": [],
   "source": []
  }
 ],
 "metadata": {
  "kernelspec": {
   "display_name": "Python 3 (ipykernel)",
   "language": "python",
   "name": "python3"
  },
  "language_info": {
   "codemirror_mode": {
    "name": "ipython",
    "version": 3
   },
   "file_extension": ".py",
   "mimetype": "text/x-python",
   "name": "python",
   "nbconvert_exporter": "python",
   "pygments_lexer": "ipython3",
   "version": "3.12.4"
  },
  "toc": {
   "base_numbering": 1,
   "nav_menu": {},
   "number_sections": true,
   "sideBar": true,
   "skip_h1_title": false,
   "title_cell": "Table of Contents",
   "title_sidebar": "Contents",
   "toc_cell": false,
   "toc_position": {},
   "toc_section_display": true,
   "toc_window_display": false
  }
 },
 "nbformat": 4,
 "nbformat_minor": 5
}
