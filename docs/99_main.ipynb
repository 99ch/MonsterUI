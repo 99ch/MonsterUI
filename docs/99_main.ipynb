{
 "cells": [
  {
   "cell_type": "markdown",
   "id": "e43d0955",
   "metadata": {
    "heading_collapsed": true
   },
   "source": [
    "# Main\n",
    "\n",
    "> FrankenUI Tasks Example"
   ]
  },
  {
   "cell_type": "code",
   "execution_count": 18,
   "id": "0cc276d0",
   "metadata": {
    "hidden": true
   },
   "outputs": [],
   "source": [
    "#| default_exp main"
   ]
  },
  {
   "cell_type": "markdown",
   "id": "7cf0bc28",
   "metadata": {
    "heading_collapsed": true
   },
   "source": [
    "# Imports"
   ]
  },
  {
   "cell_type": "code",
   "execution_count": 19,
   "id": "d5abdcb0",
   "metadata": {
    "hidden": true
   },
   "outputs": [],
   "source": [
    "#| export\n",
    "from fasthtml.common import *\n",
    "import fasthtml.common as fh\n",
    "from functools import partial\n",
    "from fh_frankenui.core import *\n",
    "import re\n",
    "from fasthtml.components import Uk_theme_switcher\n",
    "from utils import hjs"
   ]
  },
  {
   "cell_type": "code",
   "execution_count": 20,
   "id": "9238fa2a",
   "metadata": {
    "hidden": true
   },
   "outputs": [],
   "source": [
    "#| hide\n",
    "#| eval: false\n",
    "from utils import create_server\n",
    "from fasthtml.jupyter import *"
   ]
  },
  {
   "cell_type": "code",
   "execution_count": 21,
   "id": "9b2ce5c5",
   "metadata": {
    "hidden": true
   },
   "outputs": [],
   "source": [
    "#| export\n",
    "app,rt = fast_app(pico=False, hdrs=(*Theme.blue.headers(),*hjs))"
   ]
  },
  {
   "cell_type": "code",
   "execution_count": 22,
   "id": "d53a9e4d",
   "metadata": {
    "hidden": true
   },
   "outputs": [],
   "source": [
    "#| hide\n",
    "#| eval: false\n",
    "server, Show = create_server(app)"
   ]
  },
  {
   "cell_type": "markdown",
   "id": "add7a550",
   "metadata": {
    "heading_collapsed": true
   },
   "source": [
    "# Route Creation Functions"
   ]
  },
  {
   "cell_type": "code",
   "execution_count": 23,
   "id": "89f68b11",
   "metadata": {
    "hidden": true
   },
   "outputs": [],
   "source": [
    "#| export\n",
    "def is_htmx(request=None): return request and 'hx-request' in request.headers\n",
    "\n",
    "def _create_page(active, original_content, request, open_section):\n",
    "    if is_htmx(request): return original_content\n",
    "    else: return with_layout(active, open_section, original_content)"
   ]
  },
  {
   "cell_type": "code",
   "execution_count": 24,
   "id": "f59b44da",
   "metadata": {
    "hidden": true
   },
   "outputs": [],
   "source": [
    "#| export\n",
    "def with_layout(active, open_section, original_content):\n",
    "    return Div(cls=\"flex flex-col md:flex-row w-full\")(\n",
    "            Button(UkIcon(\"menu\",50,50,cls='mt-4'), cls=\"md:hidden mb-4\", uk_toggle=\"target: #mobile-sidebar\"),\n",
    "            Div(sidebar(active,open_section), id='mobile-sidebar', hidden=True),\n",
    "            Div(cls=\"md:flex w-full\")(\n",
    "                Div(sidebar(active,open_section), cls=\"hidden md:block w-1/5\"),\n",
    "                Div(original_content, cls='md:w-4/5 w-full mr-5', id=\"content\", )))"
   ]
  },
  {
   "cell_type": "markdown",
   "id": "661a800c",
   "metadata": {
    "heading_collapsed": true
   },
   "source": [
    "# Examples"
   ]
  },
  {
   "cell_type": "code",
   "execution_count": 25,
   "id": "52e3819e",
   "metadata": {
    "hidden": true
   },
   "outputs": [],
   "source": [
    "#| export\n",
    "from tasks import tasks_homepage\n",
    "from cards import cards_homepage\n",
    "from dashboard import dashboard_homepage\n",
    "from forms import forms_homepage\n",
    "from music import music_homepage\n",
    "from auth import auth_homepage\n",
    "from playground import playground_homepage\n",
    "from mail import mail_homepage"
   ]
  },
  {
   "cell_type": "code",
   "execution_count": 26,
   "id": "77bc464f",
   "metadata": {
    "hidden": true
   },
   "outputs": [],
   "source": [
    "#| export\n",
    "_create_example_page = partial(_create_page, open_section='Examples')\n",
    "@rt\n",
    "def tasks(request=None):      return _create_example_page('task',      tasks_homepage,     request)\n",
    "@rt\n",
    "def cards(request=None):      return _create_example_page('card',      cards_homepage,     request)\n",
    "@rt\n",
    "def dashboard(request=None):  return _create_example_page('dashboard', dashboard_homepage, request)\n",
    "@rt\n",
    "def forms(request=None):      return _create_example_page('form',      forms_homepage,     request)\n",
    "@rt \n",
    "def music(request=None):      return _create_example_page('music',     music_homepage,     request)\n",
    "@rt\n",
    "def auth(request=None):       return _create_example_page('auth',      auth_homepage,      request)\n",
    "@rt\n",
    "def playground(request=None): return _create_example_page('playground',playground_homepage,request)\n",
    "@rt\n",
    "def mail(request=None):       return _create_example_page('mail',      mail_homepage,      request) "
   ]
  },
  {
   "cell_type": "markdown",
   "id": "60db03e7",
   "metadata": {
    "heading_collapsed": true
   },
   "source": [
    "# API Reference"
   ]
  },
  {
   "cell_type": "code",
   "execution_count": 27,
   "id": "1ee741bc",
   "metadata": {
    "hidden": true
   },
   "outputs": [],
   "source": [
    "#| export\n",
    "import api_reference"
   ]
  },
  {
   "cell_type": "code",
   "execution_count": 28,
   "id": "b96bb471",
   "metadata": {
    "hidden": true
   },
   "outputs": [],
   "source": [
    "#| export\n",
    "def fnname2title(ref_fn_name): return ref_fn_name[5:].replace('_',' | ').title() "
   ]
  },
  {
   "cell_type": "code",
   "execution_count": 29,
   "id": "6b7b54c9",
   "metadata": {
    "hidden": true
   },
   "outputs": [],
   "source": [
    "#| export\n",
    "reference_fns = L([o for o in dir(api_reference) if o.startswith('docs_')])\n",
    "\n",
    "@rt('/api_ref/{o}')\n",
    "def api_route(request, o:str):\n",
    "    if o not in reference_fns: raise HTTPException(404)\n",
    "    content = getattr(api_reference, o)()\n",
    "    title = fnname2title(o)\n",
    "    return _create_page('api_reference', \n",
    "                        DivContainer(content), \n",
    "                        request=request, \n",
    "                        open_section='API Reference')"
   ]
  },
  {
   "cell_type": "markdown",
   "id": "10f48a1f",
   "metadata": {},
   "source": [
    "# Tutorials"
   ]
  },
  {
   "cell_type": "code",
   "execution_count": 30,
   "id": "c4819cdd",
   "metadata": {},
   "outputs": [],
   "source": [
    "#| export\n",
    "from tutorial_spacing import spacing_tutorial"
   ]
  },
  {
   "cell_type": "code",
   "execution_count": 31,
   "id": "0e37e335",
   "metadata": {},
   "outputs": [],
   "source": [
    "#| export\n",
    "_create_example_page = partial(_create_page, open_section='Tutorials')\n",
    "@rt\n",
    "def tutorial_spacing(request=None): return _create_example_page('spacing',      spacing_tutorial,     request)"
   ]
  },
  {
   "cell_type": "markdown",
   "id": "e44a3dc4",
   "metadata": {},
   "source": [
    "# Single Page Sections"
   ]
  },
  {
   "cell_type": "code",
   "execution_count": 14,
   "id": "ad65f276",
   "metadata": {},
   "outputs": [],
   "source": [
    "#| export\n",
    "@rt\n",
    "def themeswitcher(request): \n",
    "    return _create_page('theme', Div(Uk_theme_switcher(),cls=\"p-12\"), request, None)"
   ]
  },
  {
   "cell_type": "code",
   "execution_count": 15,
   "id": "e7f3cde5",
   "metadata": {},
   "outputs": [],
   "source": [
    "#| export\n",
    "@rt\n",
    "def llms(request=None):\n",
    "    return _create_page('llms', DivContainer(render_md(open('LLM Contexts.md').read())), request, 'LLMs')"
   ]
  },
  {
   "cell_type": "code",
   "execution_count": 16,
   "id": "bbf38aff",
   "metadata": {},
   "outputs": [],
   "source": [
    "#| export\n",
    "@rt\n",
    "def getting_started(request=None):\n",
    "    content = DivContainer(render_md(open('GettingStarted.md').read()))\n",
    "    return _create_page('getting_started', content, request, None)"
   ]
  },
  {
   "cell_type": "code",
   "execution_count": 17,
   "id": "d0b44cc7",
   "metadata": {},
   "outputs": [],
   "source": [
    "#| export\n",
    "@rt\n",
    "def index():return getting_started()"
   ]
  },
  {
   "cell_type": "markdown",
   "id": "28525f93",
   "metadata": {},
   "source": [
    "# Sidebar"
   ]
  },
  {
   "cell_type": "code",
   "execution_count": 18,
   "id": "672c64a5",
   "metadata": {},
   "outputs": [],
   "source": [
    "#| export\n",
    "def sidebar(active,open_section):\n",
    "    def create_li(title, href):\n",
    "        is_active = title.lower() == active.lower()\n",
    "        return Li(A(title, cls=\"uk-active\" if is_active else \"\",\n",
    "                    hx_target=\"#content\", hx_get=href, hx_push_url='true'))\n",
    "\n",
    "    return NavContainer(\n",
    "        create_li(\"Getting Started\", getting_started),\n",
    "        create_li(\"LLMs\", llms),\n",
    "        NavParentLi(\n",
    "            A(DivFullySpaced(\"API Reference\", NavBarParentIcon())),\n",
    "            NavContainer(\n",
    "                *[create_li(fnname2title(o), f\"/api_ref/{o}\") for o in reference_fns],\n",
    "                parent=False,  \n",
    "            ),\n",
    "            cls='uk-open' if open_section=='API Reference' else ''\n",
    "        ),\n",
    "        NavParentLi(\n",
    "            A(DivFullySpaced('Guides', NavBarParentIcon())),\n",
    "            NavContainer(\n",
    "                *[create_li(title, href) for title, href in [\n",
    "                    ('Spacing', tutorial_spacing),\n",
    "                ]],\n",
    "                parent=False\n",
    "            ),\n",
    "            cls='uk-open' if open_section=='Guides' else ''\n",
    "        ),\n",
    "        \n",
    "        NavParentLi(\n",
    "            A(DivFullySpaced('Examples', NavBarParentIcon())),\n",
    "            NavContainer(\n",
    "                *[create_li(title, href) for title, href in [\n",
    "                    ('Task', tasks),\n",
    "                    ('Card', cards),\n",
    "                    ('Dashboard', dashboard),\n",
    "                    ('Form', forms),\n",
    "                    ('Music', music),\n",
    "                    ('Auth', auth),\n",
    "                    ('Playground', playground),\n",
    "                    ('Mail', mail),\n",
    "                ]],\n",
    "                parent=False\n",
    "            ),\n",
    "            cls='uk-open' if open_section=='Examples' else ''\n",
    "        ),\n",
    "        create_li(\"Theme\", themeswitcher),\n",
    "        uk_nav=True,\n",
    "        cls=(NavT.primary, \"space-y-4 p-4 w-full md:w-full\")\n",
    "    )"
   ]
  },
  {
   "cell_type": "markdown",
   "id": "d46f3087",
   "metadata": {
    "heading_collapsed": true
   },
   "source": [
    "## _"
   ]
  },
  {
   "cell_type": "code",
   "execution_count": 19,
   "id": "94e3c1e4",
   "metadata": {
    "hidden": true
   },
   "outputs": [],
   "source": [
    "#| export\n",
    "serve()"
   ]
  }
 ],
 "metadata": {
  "kernelspec": {
   "display_name": "Python 3 (ipykernel)",
   "language": "python",
   "name": "python3"
  },
  "language_info": {
   "codemirror_mode": {
    "name": "ipython",
    "version": 3
   },
   "file_extension": ".py",
   "mimetype": "text/x-python",
   "name": "python",
   "nbconvert_exporter": "python",
   "pygments_lexer": "ipython3",
   "version": "3.12.4"
  },
  "toc": {
   "base_numbering": 1,
   "nav_menu": {},
   "number_sections": true,
   "sideBar": true,
   "skip_h1_title": false,
   "title_cell": "Table of Contents",
   "title_sidebar": "Contents",
   "toc_cell": false,
   "toc_position": {},
   "toc_section_display": true,
   "toc_window_display": false
  }
 },
 "nbformat": 4,
 "nbformat_minor": 5
}
