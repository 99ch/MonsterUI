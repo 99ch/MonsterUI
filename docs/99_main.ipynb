{
 "cells": [
  {
   "cell_type": "markdown",
   "id": "e43d0955",
   "metadata": {},
   "source": [
    "# Main\n",
    "\n",
    "> FrankenUI Tasks Example"
   ]
  },
  {
   "cell_type": "code",
   "execution_count": 2,
   "id": "0cc276d0",
   "metadata": {},
   "outputs": [],
   "source": [
    "#| default_exp main"
   ]
  },
  {
   "cell_type": "markdown",
   "id": "7cf0bc28",
   "metadata": {},
   "source": [
    "## Imports"
   ]
  },
  {
   "cell_type": "code",
   "execution_count": 3,
   "id": "d5abdcb0",
   "metadata": {},
   "outputs": [],
   "source": [
    "#| export\n",
    "from fasthtml.common import *\n",
    "import fasthtml.common as fh\n",
    "from fh_frankenui.components import *\n",
    "from fh_frankenui.core import *\n",
    "import re\n",
    "from fasthtml.components import Uk_theme_switcher\n",
    "from utils import hjs"
   ]
  },
  {
   "cell_type": "code",
   "execution_count": 4,
   "id": "9238fa2a",
   "metadata": {},
   "outputs": [],
   "source": [
    "#| hide\n",
    "#| eval: false\n",
    "from utils import create_server\n",
    "from fasthtml.jupyter import *"
   ]
  },
  {
   "cell_type": "code",
   "execution_count": 5,
   "id": "9b2ce5c5",
   "metadata": {},
   "outputs": [],
   "source": [
    "#| export\n",
    "app,rt = fast_app(pico=False, hdrs=(*Theme.blue.headers(),*hjs))"
   ]
  },
  {
   "cell_type": "code",
   "execution_count": 7,
   "id": "d53a9e4d",
   "metadata": {},
   "outputs": [],
   "source": [
    "#| hide\n",
    "#| eval: false\n",
    "server, Show = create_server(app)"
   ]
  },
  {
   "cell_type": "code",
   "execution_count": 8,
   "id": "33b9cbb3",
   "metadata": {},
   "outputs": [],
   "source": [
    "#| export\n",
    "def with_layout(func):\n",
    "    def wrapper():\n",
    "        original_content = func()\n",
    "        return Body(cls=\"bg-background text-foreground\")(\n",
    "            Div(cls=\"flex flex-col md:flex-row w-full\")(\n",
    "                Button(UkIcon(\"menu\",50,50,cls='mt-4'), cls=\"md:hidden mb-4\", uk_toggle=\"target: #mobile-sidebar\"),\n",
    "                Div(sidebar, id='mobile-sidebar', hidden=True),\n",
    "                \n",
    "                Div(cls=\"md:flex w-full\")(\n",
    "                    Div(sidebar, cls=\"hidden md:block w-1/5\"),\n",
    "                    Div(original_content, cls='md:w-4/5 w-full', id=\"mobile-sidebar\")\n",
    "                )\n",
    "            ),\n",
    "        )\n",
    "    wrapper.__name__ = func.__name__\n",
    "    return wrapper"
   ]
  },
  {
   "cell_type": "markdown",
   "id": "661a800c",
   "metadata": {},
   "source": [
    "## Examples"
   ]
  },
  {
   "cell_type": "code",
   "execution_count": 9,
   "id": "52e3819e",
   "metadata": {},
   "outputs": [],
   "source": [
    "#| export\n",
    "from tasks import tasks_homepage\n",
    "from cards import cards_homepage\n",
    "from dashboard import dashboard_homepage\n",
    "from forms import forms_homepage\n",
    "from music import music_homepage\n",
    "from auth import auth_homepage\n",
    "from playground import playground_homepage\n",
    "from mail import mail_homepage"
   ]
  },
  {
   "cell_type": "code",
   "execution_count": 10,
   "id": "77bc464f",
   "metadata": {},
   "outputs": [],
   "source": [
    "#| export\n",
    "@rt\n",
    "@with_layout\n",
    "def tasks():      return tasks_homepage\n",
    "@rt\n",
    "@with_layout\n",
    "def cards():      return cards_homepage\n",
    "@rt\n",
    "@with_layout\n",
    "def dashboard():  return dashboard_homepage\n",
    "@rt \n",
    "@with_layout\n",
    "def forms():      return forms_homepage\n",
    "@rt\n",
    "@with_layout\n",
    "def music():      return music_homepage\n",
    "@rt\n",
    "@with_layout\n",
    "def auth():       return auth_homepage\n",
    "@rt\n",
    "@with_layout\n",
    "def playground(): return playground_homepage\n",
    "@rt\n",
    "@with_layout\n",
    "def mail():       return mail_homepage"
   ]
  },
  {
   "cell_type": "markdown",
   "id": "d25174b5",
   "metadata": {},
   "source": [
    "## Getting Started"
   ]
  },
  {
   "cell_type": "code",
   "execution_count": 11,
   "id": "7f0694dd",
   "metadata": {},
   "outputs": [],
   "source": [
    "#| export\n",
    "@rt\n",
    "@with_layout\n",
    "def getting_started():\n",
    "    return Container(render_md(open('GettingStarted.md').read()))"
   ]
  },
  {
   "cell_type": "markdown",
   "id": "60db03e7",
   "metadata": {},
   "source": [
    "## API Reference"
   ]
  },
  {
   "cell_type": "code",
   "execution_count": 12,
   "id": "1ee741bc",
   "metadata": {},
   "outputs": [],
   "source": [
    "#| export\n",
    "import api_reference"
   ]
  },
  {
   "cell_type": "code",
   "execution_count": null,
   "id": "ccf4593d",
   "metadata": {},
   "outputs": [],
   "source": [
    "#| export\n",
    "reference_fns = L([o for o in dir(api_reference) if o.startswith('docs_')])"
   ]
  },
  {
   "cell_type": "code",
   "execution_count": 13,
   "id": "9e464c60",
   "metadata": {
    "scrolled": true
   },
   "outputs": [
    {
     "data": {
      "text/plain": [
       "(#3) ['docs_button_link','docs_cards','docs_containers']"
      ]
     },
     "execution_count": 13,
     "metadata": {},
     "output_type": "execute_result"
    }
   ],
   "source": [
    "reference_fns[:3]"
   ]
  },
  {
   "cell_type": "code",
   "execution_count": 14,
   "id": "b2108baa",
   "metadata": {
    "scrolled": false
   },
   "outputs": [],
   "source": [
    "#| export\n",
    "api_ref_rts = [(f\"/{o}\", rt(f\"/{o}\")(with_layout(getattr(api_reference, o)))) for o in reference_fns]"
   ]
  },
  {
   "cell_type": "code",
   "execution_count": 105,
   "id": "ec0a5899",
   "metadata": {},
   "outputs": [],
   "source": [
    "#| export\n",
    "def fnname2title(ref_fn_name): return ref_fn_name[5:].replace('_',' | ').title() "
   ]
  },
  {
   "cell_type": "markdown",
   "id": "e44a3dc4",
   "metadata": {
    "heading_collapsed": true
   },
   "source": [
    "## Tutorials"
   ]
  },
  {
   "cell_type": "markdown",
   "id": "25c2fb51",
   "metadata": {},
   "source": [
    "## Theme"
   ]
  },
  {
   "cell_type": "code",
   "execution_count": 107,
   "id": "ad65f276",
   "metadata": {},
   "outputs": [],
   "source": [
    "#| export\n",
    "@rt\n",
    "@with_layout\n",
    "def themeswitcher(): return Div(Uk_theme_switcher(),cls=\"p-12\")"
   ]
  },
  {
   "cell_type": "markdown",
   "id": "28525f93",
   "metadata": {},
   "source": [
    "## Page Layout"
   ]
  },
  {
   "cell_type": "code",
   "execution_count": 108,
   "id": "1b257864",
   "metadata": {},
   "outputs": [],
   "source": [
    "#| export\n",
    "sidebar = NavContainer(\n",
    "     Li(A(\"Getting Started\", href=getting_started)),\n",
    "     NavParentLi(\n",
    "         A(FullySpacedDiv(\"API Reference\")),\n",
    "         NavContainer(\n",
    "             *[Li(A(fnname2title(o), href=f\"/{o}\")) for o in reference_fns],\n",
    "             parent=False),\n",
    "         ),\n",
    "     NavParentLi(\n",
    "        A(FullySpacedDiv('Examples')),\n",
    "        NavContainer(\n",
    "            Li(A('Tasks',     href=tasks)),\n",
    "            Li(A('Cards',     href=cards)),\n",
    "            Li(A('Dashboard', href=dashboard)),\n",
    "            Li(A('Form',      href=forms)),\n",
    "            Li(A('Music',     href=music)),\n",
    "            Li(A('Auth',      href=auth)),\n",
    "            Li(A('Playground',href=playground)),\n",
    "            Li(A('Mail',      href=mail)),\n",
    "            parent=False),\n",
    "         ),\n",
    "      Li(A(\"Theme\",href=themeswitcher)),\n",
    "\n",
    "    uk_nav=False, cls=(NavT.primary,\"space-y-4 p-4 w-full md:w-full\"))"
   ]
  },
  {
   "cell_type": "code",
   "execution_count": 71,
   "id": "d463e684",
   "metadata": {},
   "outputs": [],
   "source": [
    "#| export\n",
    "@rt\n",
    "def index():return getting_started()"
   ]
  },
  {
   "cell_type": "code",
   "execution_count": 53,
   "id": "94e3c1e4",
   "metadata": {},
   "outputs": [],
   "source": [
    "#| export\n",
    "serve()"
   ]
  }
 ],
 "metadata": {
  "kernelspec": {
   "display_name": "Python 3 (ipykernel)",
   "language": "python",
   "name": "python3"
  },
  "language_info": {
   "codemirror_mode": {
    "name": "ipython",
    "version": 3
   },
   "file_extension": ".py",
   "mimetype": "text/x-python",
   "name": "python",
   "nbconvert_exporter": "python",
   "pygments_lexer": "ipython3",
   "version": "3.12.4"
  },
  "toc": {
   "base_numbering": 1,
   "nav_menu": {},
   "number_sections": true,
   "sideBar": true,
   "skip_h1_title": false,
   "title_cell": "Table of Contents",
   "title_sidebar": "Contents",
   "toc_cell": false,
   "toc_position": {},
   "toc_section_display": true,
   "toc_window_display": false
  }
 },
 "nbformat": 4,
 "nbformat_minor": 5
}
