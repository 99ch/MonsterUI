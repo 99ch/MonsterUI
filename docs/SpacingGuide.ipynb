{
 "cells": [
  {
   "cell_type": "markdown",
   "id": "fe8b0e9e",
   "metadata": {},
   "source": [
    "# Spacing\n",
    "\n",
    "> A tutorial on spacing using tailwind"
   ]
  },
  {
   "cell_type": "code",
   "execution_count": 86,
   "id": "4cf3cecb",
   "metadata": {},
   "outputs": [],
   "source": [
    "#| default_exp tutorial_spacing"
   ]
  },
  {
   "cell_type": "code",
   "execution_count": 1,
   "id": "5a6ab62f",
   "metadata": {},
   "outputs": [],
   "source": [
    "#| export\n",
    "from fasthtml.common import *\n",
    "from fh_frankenui.core import *"
   ]
  },
  {
   "cell_type": "code",
   "execution_count": 83,
   "id": "16cb667c",
   "metadata": {},
   "outputs": [],
   "source": [
    "#| export\n",
    "intro_md = '''\n",
    "# Padding & Margin & Spacing, Oh my!\n",
    "\n",
    "This guide will cover some essentials about how to properly space apps and what the differences are between:\n",
    "\n",
    "- Padding\n",
    "- Margin\n",
    "- Spacing\n",
    "- Gap\n",
    "\n",
    "Manipulating the space between components can make a huge difference to the percieved quality of the page.  Being able to tweak the spacing can have a big impact!\n",
    "\n",
    "> Tip: I find it works best to get everything on the page without adjusting spacing much, and adjusting spacing at the end. \n",
    "\n",
    "## Abreviations:\n",
    "\n",
    "First a few abbreviations that are helpful to know with tailwind (and a convention we follow in `fh_frankenui`).\n",
    "\n",
    "- t, b, l, r = top, bottom, left, right\n",
    "- p, m = padding, margin\n",
    "- x, y = horizontal, vertical\n",
    "\n",
    "That means:\n",
    "\n",
    "- `mt` means margin on top of the element\n",
    "- `px` means padding on the x axis (both left and right)\n",
    "- `space-y` means apply spacing on the y axis (both top and bottom)\n",
    "\n",
    "## Padding vs Margin\n",
    "\n",
    "Margin applies space to the left of the component, and padding applies space on the left inside of the component. \n",
    "\n",
    "Please reference the example with cards below:\n",
    "\n",
    "- `ml-20` applies space to the left of the card (outside the card)\n",
    "- `pl-20` applies space on the left inside of the card (inside the card)\n",
    "\n",
    "This means that if you want to move the whole thing but keep the actual container unchanged, use margin.  If you want to change the container by adding space inside of it, use padding.\n",
    "'''"
   ]
  },
  {
   "cell_type": "code",
   "execution_count": 84,
   "id": "8b18f754",
   "metadata": {},
   "outputs": [],
   "source": [
    "#| export\n",
    "gap1_md = '''\n",
    "## Space vs gap\n",
    "\n",
    "Spacing and gap are both about setting the space between components.\n",
    "\n",
    "+ Spacing applies margin to every element except for the first element in a group.  \n",
    "+ Gap creates a gap between every element in flexbox elements and grids.\n",
    "\n",
    ">Rule of thumb: Use Gap when using grids.\n",
    "\n",
    "Let's take a look at some grid examples.\n",
    "'''\n",
    "gap2_md = '''\n",
    "### Grid with no gap or space\n",
    "\n",
    "The first example has no gap or not space applied.  As expected this means the cards are flush with each other.  Often this is not what you want, because a little space between cards looks much nicer.\n",
    "\n",
    "### Grid with gap\n",
    "\n",
    "The second example has the same grid but with gap applied.  As youc an see, this gives constent space between all elements of the grid looks great!\n",
    "\n",
    "### Grid with space\n",
    "\n",
    "The third example has the same grid but with space applied.  As you can see, it's not really what we want.  However it's a really good illustration of how space works so let's notice a few things about it:\n",
    "\n",
    "**X Axis**\n",
    "\n",
    "- The first card is flush with the left side of the page (no margin)\n",
    "- The card below it isn't flush with the left side of the page (has margin)\n",
    "\n",
    "**Y Axis**\n",
    "\n",
    "- The first card is flush with the heading immediately above it (no margin)\n",
    "- The card top it's right isn't flush with the heading above it (has margin)\n",
    "\n",
    "So `space` applies margin to every element except for the first element in a group!\n",
    "\n",
    "> Tip: Use your browser developer tools to inspect the examples\n",
    "'''"
   ]
  },
  {
   "cell_type": "code",
   "execution_count": 81,
   "id": "2d70253a",
   "metadata": {},
   "outputs": [],
   "source": [
    "#| export\n",
    "space1_md = '''\n",
    "Next, let's look at a form example where `gap` isn't a good choice but `space` works beautifully!\n",
    "'''\n",
    "\n",
    "space2_md = '''\n",
    "### Form with no gap or space\n",
    "\n",
    "The top form looks a bit scrunched with defaults, but it's certainly passable.  There is a bit of a space between the label and it's associated input because of the defaults in fh_frankenui.\n",
    "\n",
    "### Form with gap\n",
    "\n",
    "The second form with gap is identical to the first.  Because we're not in a flex element or a grid, it doesn't do anything at all!\n",
    "\n",
    "### Form with space\n",
    "\n",
    "`Space-y-5` adds vertical space between each child which really spreads out the form for a nice aesthetic.  If you recall from the grid example, it does not apply this margin to the first element - but in this situation (and many others) we do not want the spacing above the top element (heading) to be the same as the spacing between the form elements.\n",
    "\n",
    "> Tip: Use your browser developer tools to inspect the examples\n",
    "'''\n"
   ]
  },
  {
   "cell_type": "code",
   "execution_count": 85,
   "id": "81f33c6d",
   "metadata": {},
   "outputs": [
    {
     "data": {
      "text/html": [
       "<a href=\"http://localhost:8005/73e9172f-0951-4868-a038-053e0b4a3f1f\" target=\"_blank\">Open in new tab</a>"
      ],
      "text/plain": [
       "<IPython.core.display.HTML object>"
      ]
     },
     "metadata": {},
     "output_type": "display_data"
    },
    {
     "data": {
      "text/html": [
       "<iframe src=\"http://localhost:8005/73e9172f-0951-4868-a038-053e0b4a3f1f\" style=\"width: 100%; height: 1000px; border: none;\" onload=\"{\n",
       "        let frame = this;\n",
       "        window.addEventListener('message', function(e) {\n",
       "            if (e.source !== frame.contentWindow) return; // Only proceed if the message is from this iframe\n",
       "            if (e.data.height) frame.style.height = (e.data.height+1) + 'px';\n",
       "        }, false);\n",
       "    }\" allow=\"accelerometer; autoplay; camera; clipboard-read; clipboard-write; display-capture; encrypted-media; fullscreen; gamepad; geolocation; gyroscope; hid; identity-credentials-get; idle-detection; magnetometer; microphone; midi; payment; picture-in-picture; publickey-credentials-get; screen-wake-lock; serial; usb; web-share; xr-spatial-tracking\"></iframe> "
      ],
      "text/plain": [
       "<IPython.core.display.HTML object>"
      ]
     },
     "execution_count": 85,
     "metadata": {},
     "output_type": "execute_result"
    }
   ],
   "source": [
    "#| export\n",
    "spacing_tutorial = Container(\n",
    "    render_md(intro_md),\n",
    "    Grid(Card(H4(\"A Simple Card with ml-20\",style='background-color: red'), \n",
    "              cls='ml-20'),\n",
    "         Card(H4(\"A Simple Card with pl-20\", style='background-color: red'),\n",
    "              cls='pl-20')),\n",
    "    render_md(gap1_md),\n",
    "    Div(Divider(),H4(\"Grid\"),\n",
    "        Grid(Card(H4(\"A Simple Card\")),\n",
    "             Card(H4(\"A Simple Card\")),\n",
    "             Card(H4(\"A Simple Card\")),\n",
    "             Card(H4(\"A Simple Card\")),\n",
    "             Card(H4(\"A Simple Card\")),\n",
    "             Card(H4(\"A Simple Card\")),\n",
    "             cls=''),\n",
    "        Divider(),\n",
    "        H4(\"Grid with gap\"),\n",
    "        Grid(Card(H4(\"A Simple Card\")),\n",
    "             Card(H4(\"A Simple Card\")),\n",
    "             Card(H4(\"A Simple Card\")),\n",
    "             Card(H4(\"A Simple Card\")),\n",
    "             Card(H4(\"A Simple Card\")),\n",
    "             Card(H4(\"A Simple Card\")),\n",
    "             cls='gap-4'),\n",
    "        Divider(),H4(\"Grid with space\"),\n",
    "        Grid(Card(H4(\"A Simple Card\")),\n",
    "             Card(H4(\"A Simple Card\")),\n",
    "             Card(H4(\"A Simple Card\")),\n",
    "             Card(H4(\"A Simple Card\")),\n",
    "             Card(H4(\"A Simple Card\")),\n",
    "             Card(H4(\"A Simple Card\")),\n",
    "             cls='space-x-4 space-y-4')),\n",
    "    render_md(gap2_md),\n",
    "    render_md(space1_md),\n",
    "    Div(Form(DivCentered(H3(\"My Form\")),\n",
    "             LabelInput(\"Name\"),\n",
    "             Grid(LabelInput(\"Phone\"), LabelInput(\"Email\"), cols=2)),\n",
    "        Divider(),\n",
    "        Form(DivCentered(H3(\"My Form with gap\")),\n",
    "             LabelInput(\"Name\"),\n",
    "             Grid(LabelInput(\"Phone\"), LabelInput(\"Email\"), cols=2),\n",
    "             cls='gap-y-5'),\n",
    "        Divider(),\n",
    "        Form(DivCentered(H3(\"My Form with Spacing\")),\n",
    "             LabelInput(\"Name\"),\n",
    "             Grid(LabelInput(\"Phone\"), LabelInput(\"Email\"), cols=2),\n",
    "             cls='space-y-5')),\n",
    "    render_md(space2_md),\n",
    ")"
   ]
  },
  {
   "cell_type": "code",
   "execution_count": null,
   "id": "e0f6bca9",
   "metadata": {},
   "outputs": [],
   "source": []
  }
 ],
 "metadata": {
  "kernelspec": {
   "display_name": "Python 3 (ipykernel)",
   "language": "python",
   "name": "python3"
  },
  "language_info": {
   "codemirror_mode": {
    "name": "ipython",
    "version": 3
   },
   "file_extension": ".py",
   "mimetype": "text/x-python",
   "name": "python",
   "nbconvert_exporter": "python",
   "pygments_lexer": "ipython3",
   "version": "3.12.4"
  }
 },
 "nbformat": 4,
 "nbformat_minor": 5
}
