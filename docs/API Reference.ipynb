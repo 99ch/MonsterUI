{
 "cells": [
  {
   "cell_type": "markdown",
   "id": "d658774c",
   "metadata": {
    "heading_collapsed": true
   },
   "source": [
    "# API Reference\n",
    "\n",
    "> Reference to all FrankenUI Components"
   ]
  },
  {
   "cell_type": "code",
   "execution_count": 3,
   "id": "51edf9a5",
   "metadata": {
    "hidden": true
   },
   "outputs": [],
   "source": [
    "#| default_exp api_reference"
   ]
  },
  {
   "cell_type": "code",
   "execution_count": 4,
   "id": "46a13904",
   "metadata": {
    "hidden": true
   },
   "outputs": [],
   "source": [
    "#| export\n",
    "from fasthtml.common import *\n",
    "\n",
    "from fh_frankenui.core import *\n",
    "from nbdev.showdoc import *\n",
    "import inspect\n",
    "\n",
    "from enum import EnumType\n",
    "from collections.abc import Callable"
   ]
  },
  {
   "cell_type": "code",
   "execution_count": 5,
   "id": "a74595d2",
   "metadata": {
    "hidden": true
   },
   "outputs": [],
   "source": [
    "#| hide\n",
    "#| eval: false\n",
    "from utils import create_server"
   ]
  },
  {
   "cell_type": "code",
   "execution_count": 6,
   "id": "60b096aa",
   "metadata": {
    "hidden": true
   },
   "outputs": [],
   "source": [
    "#| hide\n",
    "#| eval: false\n",
    "app, rt = fast_app(pico=False, hdrs=(Theme.blue.headers()))\n",
    "server, Show = create_server(app)\n"
   ]
  },
  {
   "cell_type": "markdown",
   "id": "f2090c46",
   "metadata": {
    "heading_collapsed": true
   },
   "source": [
    "# Helper Functions"
   ]
  },
  {
   "cell_type": "code",
   "execution_count": 7,
   "id": "2cf43a87",
   "metadata": {
    "hidden": true
   },
   "outputs": [],
   "source": [
    "#| export\n",
    "def enum_to_html_table(enum_class):\n",
    "    headers = [\"Option\", \"Value\"]\n",
    "    rows = [[name, value.value] for name, value in enum_class.__members__.items()]\n",
    "    return Div(\n",
    "        Hr(cls='uk-divider-icon my-4'),\n",
    "        H3(enum_class.__name__,cls='my-4'),\n",
    "        P(I(enum_class.__doc__)),\n",
    "        TableFromLists(headers, rows, cls=(TableT.hover, 'uk-table-small')),)"
   ]
  },
  {
   "cell_type": "code",
   "execution_count": null,
   "id": "7bf50609",
   "metadata": {
    "hidden": true
   },
   "outputs": [],
   "source": []
  },
  {
   "cell_type": "code",
   "execution_count": 8,
   "id": "7fd3baa5",
   "metadata": {
    "hidden": true
   },
   "outputs": [],
   "source": [
    "#| export\n",
    "from uuid import uuid4\n",
    "def render_content(c):\n",
    "    if isinstance(c, str):        return render_md(c)\n",
    "    elif isinstance(c, EnumType): return enum_to_html_table(c)\n",
    "    elif isinstance(c, FT):       return c\n",
    "    elif isinstance(c, tuple):\n",
    "        _id = 'f'+str(uuid4())\n",
    "        _card = Card(\n",
    "            Button(\n",
    "                DivFullySpaced(UkIcon('corner-down-right', 20, 20, 3),\"See Source\"), \n",
    "                uk_toggle=f\"target: #{_id}\", id=_id, cls=ButtonT.primary),\n",
    "            Button(\n",
    "                DivFullySpaced(UkIcon('corner-down-right', 20, 20, 3),\"See Output\"), \n",
    "                uk_toggle=f\"target: #{_id}\", id=_id, cls=ButtonT.primary, hidden=True),\n",
    "            Div(c[0], id=_id),\n",
    "            Div(Pre(Code(c[1])), id=_id, hidden=True, cls=\"mockup-code\"),\n",
    "            cls='my-8')\n",
    "        if len(tuple(c)) == 3: return Div(_card, cls=c[2])\n",
    "        else: return _card        \n",
    "    elif isinstance(c, Callable): \n",
    "        _html = show_doc(c, renderer=BasicHtmlRenderer)._repr_html_()\n",
    "        return NotStr(apply_classes(_html, class_map_mods={\"table\":'uk-table uk-table-hover uk-table-small'}))\n",
    "    else: return c    "
   ]
  },
  {
   "cell_type": "code",
   "execution_count": 9,
   "id": "84a3b655",
   "metadata": {
    "hidden": true
   },
   "outputs": [],
   "source": [
    "#| export\n",
    "def create_doc_section(*content, title, md_content=None):\n",
    "    return lambda: Titled(H1(title,cls='mb-10'), *map(render_content, content))"
   ]
  },
  {
   "cell_type": "code",
   "execution_count": 10,
   "id": "2eee17cf",
   "metadata": {
    "hidden": true
   },
   "outputs": [],
   "source": [
    "#| export\n",
    "def string2code_string(code: str) -> tuple: return eval(code), code\n",
    "\n",
    "def extract_function_body(func):\n",
    "    source = inspect.getsource(func)\n",
    "    body_start = source.index(':') + 1\n",
    "    body = source[body_start:]\n",
    "    lines = body.split('\\n')\n",
    "    # Remove empty lines at the start\n",
    "    while lines and not lines[0].strip():\n",
    "        lines.pop(0)\n",
    "    # Remove first 4 spaces from each line\n",
    "    body = '\\n'.join(line[4:] if line.startswith('    ') else line for line in lines)\n",
    "    return body.replace('return ', '', 1)\n",
    "\n",
    "def fn2code_string(fn: Callable) -> tuple: return fn(), extract_function_body(fn)"
   ]
  },
  {
   "cell_type": "markdown",
   "id": "c29c05f9",
   "metadata": {
    "heading_collapsed": true
   },
   "source": [
    "# Buttons & Links"
   ]
  },
  {
   "cell_type": "code",
   "execution_count": 11,
   "id": "2fe88ca5",
   "metadata": {
    "hidden": true
   },
   "outputs": [],
   "source": [
    "#| export\n",
    "def ex_buttons(): \n",
    "    return Div(\n",
    "        Button(\"Default\",   cls=ButtonT.default),\n",
    "        Button(\"Primary\",   cls=ButtonT.primary),\n",
    "        Button(\"Secondary\", cls=ButtonT.secondary),\n",
    "        Button(\"Danger\",    cls=ButtonT.danger),\n",
    "        Button(\"Text\",      cls=ButtonT.text),\n",
    "        Button(\"Link\",      cls=ButtonT.link),\n",
    "        Button(\"Ghost\",     cls=ButtonT.ghost),\n",
    "        )"
   ]
  },
  {
   "cell_type": "code",
   "execution_count": 12,
   "id": "b21dab6b",
   "metadata": {
    "hidden": true
   },
   "outputs": [],
   "source": [
    "#| export\n",
    "def ex_links(): \n",
    "    return Div(cls='space-x-4')(\n",
    "        A('Default Link'),\n",
    "        A('Muted Link', cls=AT.muted),\n",
    "        A('Text Link',  cls=AT.text),\n",
    "        A('Reset Link', cls=AT.reset))"
   ]
  },
  {
   "cell_type": "code",
   "execution_count": 13,
   "id": "4408b9e0",
   "metadata": {
    "hidden": true
   },
   "outputs": [],
   "source": [
    "#| export\n",
    "docs_button_link = create_doc_section(\n",
    "    Button, \n",
    "    fn2code_string(ex_buttons),\n",
    "    ButtonT, \n",
    "    A,\n",
    "    AT,\n",
    "    fn2code_string(ex_links),\n",
    "    title=\"Buttons & Links\")"
   ]
  },
  {
   "cell_type": "code",
   "execution_count": null,
   "id": "e1b4f3a8",
   "metadata": {
    "hidden": true
   },
   "outputs": [],
   "source": []
  },
  {
   "cell_type": "markdown",
   "id": "cfc93853",
   "metadata": {
    "heading_collapsed": true
   },
   "source": [
    "# Headings"
   ]
  },
  {
   "cell_type": "code",
   "execution_count": 14,
   "id": "47bd9c48",
   "metadata": {
    "hidden": true
   },
   "outputs": [],
   "source": [
    "#| export\n",
    "def ex_headings():\n",
    "    return Div(\n",
    "        Titled(\"Titled\"),\n",
    "        H1(\"Level 1 Heading (H1)\"), \n",
    "        H2(\"Level 2 Heading (H2)\"), \n",
    "        H3(\"Level 3 Heading (H3)\"), \n",
    "        H4(\"Level 4 Heading (H4)\")\n",
    "        )"
   ]
  },
  {
   "cell_type": "code",
   "execution_count": 15,
   "id": "9b56ffc1",
   "metadata": {
    "hidden": true
   },
   "outputs": [],
   "source": [
    "#| export\n",
    "docs_heading = create_doc_section(\n",
    "                       fn2code_string(ex_headings),\n",
    "                        H1, H2, H3, H4, Titled,\n",
    "                        title=\"Headings\")"
   ]
  },
  {
   "cell_type": "markdown",
   "id": "c4fea3cf",
   "metadata": {
    "heading_collapsed": true
   },
   "source": [
    "# Headers | Theme"
   ]
  },
  {
   "cell_type": "code",
   "execution_count": 16,
   "id": "520f8c24",
   "metadata": {
    "hidden": true
   },
   "outputs": [],
   "source": [
    "#| export\n",
    "def ex_theme_switcher():\n",
    "    from fasthtml.components import Uk_theme_switcher\n",
    "    return Uk_theme_switcher()"
   ]
  },
  {
   "cell_type": "code",
   "execution_count": 17,
   "id": "1c205cec",
   "metadata": {
    "hidden": true
   },
   "outputs": [],
   "source": [
    "#| export\n",
    "docs_theme_headers = create_doc_section( \n",
    "   \"To get headers with a default theme use `hdrs=Theme.<color>.headers()`.  For example for the blue theme you would use `hdrs=Theme.blue.headers()`.  Theme options are:\",\n",
    "    \"> Note: Tailwind is included in the headers for convenience\",\n",
    "    Card(Grid(map(P,Theme)),cls='mb-8'),\n",
    "    H3(\"Theme Picker\"),\n",
    "    fn2code_string(ex_theme_switcher),\n",
    "    \"Themes are controlled with `bg-background text-foreground` classes on the `Body` tag.  `fast_app` and `FastHTML` will do this for you automatically so you typically do not have to do anything\",\n",
    "    fast_app,\n",
    "    FastHTML,\n",
    "    title=\"Headers\")"
   ]
  },
  {
   "cell_type": "markdown",
   "id": "fd128781",
   "metadata": {
    "heading_collapsed": true
   },
   "source": [
    "# Text"
   ]
  },
  {
   "cell_type": "code",
   "execution_count": 18,
   "id": "c7c17539",
   "metadata": {
    "hidden": true
   },
   "outputs": [],
   "source": [
    "#| export\n",
    "def ex_textfont():\n",
    "    return Div(\n",
    "    P('muted_sm', cls=TextFont.muted_sm),\n",
    "    P('muted_lg', cls=TextFont.muted_lg), \n",
    "    P('bold_sm', cls=TextFont.bold_sm),\n",
    "    )"
   ]
  },
  {
   "cell_type": "code",
   "execution_count": 19,
   "id": "0a34ee45",
   "metadata": {
    "hidden": true
   },
   "outputs": [],
   "source": [
    "#| export\n",
    "def ex_textt():\n",
    "    return Grid(\n",
    "        P('lead',           cls=TextT.lead),\n",
    "        P('meta',           cls=TextT.meta),\n",
    "        P('italic',         cls=TextT.italic),\n",
    "        P('small',          cls=TextT.small),\n",
    "        P('default',        cls=TextT.default),\n",
    "        P('large',          cls=TextT.large),\n",
    "        P('light',          cls=TextT.light),\n",
    "        P('normal',         cls=TextT.normal),\n",
    "        P('bold',           cls=TextT.bold),\n",
    "        P('lighter',        cls=TextT.lighter),\n",
    "        P('bolder',         cls=TextT.bolder),\n",
    "        P('capitalize',     cls=TextT.capitalize),\n",
    "        P('uppercase',      cls=TextT.uppercase),\n",
    "        P('lowercase',      cls=TextT.lowercase),\n",
    "        P('decoration_none',cls=TextT.decoration_none),\n",
    "        P('muted',          cls=TextT.muted),\n",
    "        P('primary',        cls=TextT.primary),\n",
    "        P('secondary',      cls=TextT.secondary),\n",
    "        P('success',        cls=TextT.success),\n",
    "        P('warning',        cls=TextT.warning),\n",
    "        P('danger',         cls=TextT.danger),\n",
    "        P('left',           cls=TextT.left),\n",
    "        P('right',          cls=TextT.right),\n",
    "        P('center',         cls=TextT.center),\n",
    "        P('justify',        cls=TextT.justify),\n",
    "        P('top',            cls=TextT.top),\n",
    "        P('middle',         cls=TextT.middle),\n",
    "        P('bottom',         cls=TextT.bottom),\n",
    "        P('baseline',       cls=TextT.baseline),\n",
    "        P('truncate',       cls=TextT.truncate),\n",
    "        P('break_',         cls=TextT.break_),\n",
    "        P('nowrap',         cls=TextT.nowrap),\n",
    "        )"
   ]
  },
  {
   "cell_type": "code",
   "execution_count": 20,
   "id": "0bfd6f7a",
   "metadata": {
    "hidden": true
   },
   "outputs": [],
   "source": [
    "#| export\n",
    "docs_text = create_doc_section( \n",
    "   \"Styling text is possibly the most common style thing to do, so we have a couple of helpers for discoverability inside python.  `TextFont` is intended to be combinations are are widely applicable and used often, where `TextT` is intended to be more flexible options for you to combine together yourself.\",\n",
    "    fn2code_string(ex_textfont),\n",
    "    TextFont,\n",
    "    fn2code_string(ex_textt),\n",
    "    TextT,\n",
    "\n",
    "    title=\"Text Style\")"
   ]
  },
  {
   "cell_type": "markdown",
   "id": "4f8e5fb9",
   "metadata": {
    "heading_collapsed": true
   },
   "source": [
    "# Containers"
   ]
  },
  {
   "cell_type": "code",
   "execution_count": 21,
   "id": "d8393a7a",
   "metadata": {
    "hidden": true
   },
   "outputs": [],
   "source": [
    "#| export\n",
    "def ex_articles():\n",
    "    return Article(\n",
    "        ArticleTitle(\"Sample Article Title\"), \n",
    "        ArticleMeta(\"By: John Doe\"),\n",
    "        P('lorem ipsum dolor sit amet consectetur adipiscing elit, sed do eiusmod tempor incididunt ut labore et dolore magna aliqua.'))"
   ]
  },
  {
   "cell_type": "code",
   "execution_count": 22,
   "id": "d489a5ec",
   "metadata": {
    "hidden": true
   },
   "outputs": [],
   "source": [
    "#| export\n",
    "def ex_containers():\n",
    "    return DivContainer(\n",
    "        \"This is a sample container with custom styling.\",\n",
    "        cls=ContainerT.xsmall,\n",
    "        style=\"background-color: #FFA500; color: #000000\")"
   ]
  },
  {
   "cell_type": "code",
   "execution_count": 23,
   "id": "970fe071",
   "metadata": {
    "hidden": true
   },
   "outputs": [],
   "source": [
    "#| export\n",
    "docs_containers = create_doc_section(\n",
    "    ArticleMeta,\n",
    "    ArticleTitle,\n",
    "    Article,\n",
    "    fn2code_string(ex_articles),\n",
    "    DivContainer,\n",
    "    ContainerT,\n",
    "    fn2code_string(ex_containers),\n",
    "    Section,\n",
    "    SectionT,\n",
    "    title=\"Articles, Containers & Sections\"\n",
    ")"
   ]
  },
  {
   "cell_type": "markdown",
   "id": "6c6538b4",
   "metadata": {
    "heading_collapsed": true
   },
   "source": [
    "# Cards"
   ]
  },
  {
   "cell_type": "code",
   "execution_count": 24,
   "id": "dce45f9e",
   "metadata": {
    "hidden": true
   },
   "outputs": [],
   "source": [
    "#| export\n",
    "def ex_card():\n",
    "    return Card(\n",
    "        Form(LabelInput(\"Input\"),\n",
    "             LabelRange(\"Range\")),\n",
    "        header=Div(\n",
    "            CardTitle(\"Header\"),\n",
    "            P(\"A card with header and footer\",cls=TextFont.muted_sm)),\n",
    "        footer=DivLAligned(Button(\"Footer Submit Button\")))"
   ]
  },
  {
   "cell_type": "code",
   "execution_count": 25,
   "id": "74a3d9df",
   "metadata": {
    "hidden": true
   },
   "outputs": [],
   "source": [
    "#| export\n",
    "def Tags(cats): return Div(cls='space-x-2')(map(Label, cats))\n",
    "\n",
    "def ex_card2_wide():\n",
    "    return Card(\n",
    "        DivLAligned(\n",
    "            A(Img(src=\"https://picsum.photos/200/200?random=12\", style=\"width:200px\"),href=\"#\"),\n",
    "            Div(cls='space-y-3 uk-width-expand')(\n",
    "                H4(\"Creating Custom FastHTML Tags for Markdown Rendering\"),\n",
    "                P(\"A step by step tutorial to rendering markdown in FastHTML using zero-md inside of DaisyUI chat bubbles\"),\n",
    "                DivFullySpaced(map(Span, [\"Isaac Flath\", \"20-October-2024\"]), cls=TextFont.muted_sm),\n",
    "                DivFullySpaced(\n",
    "                    Tags([\"FastHTML\", \"HTMX\", \"Web Apps\"]),\n",
    "                    Button(\"Read\", cls=(ButtonT.primary,'h-6'))))))\n",
    "\n",
    "\n",
    "def ex_card2_tall():\n",
    "    return Card(\n",
    "        Div(\n",
    "            A(Img(src=\"https://picsum.photos/200/200?random=14\"),href=\"#\"),\n",
    "            Div(cls='space-y-3 uk-width-expand')(\n",
    "                H4(\"Creating Custom FastHTML Tags for Markdown Rendering\"),\n",
    "                P(\"A step by step tutorial to rendering markdown in FastHTML using zero-md inside of DaisyUI chat bubbles\"),\n",
    "                DivFullySpaced(map(Span, [\"Isaac Flath\", \"20-October-2024\"]), cls=TextFont.muted_sm),\n",
    "                DivFullySpaced(\n",
    "                    Tags([\"FastHTML\", \"HTMX\", \"Web Apps\"]),\n",
    "                    Button(\"Read\", cls=(ButtonT.primary,'h-6'))))))\n",
    "\n"
   ]
  },
  {
   "cell_type": "code",
   "execution_count": 26,
   "id": "3e422761",
   "metadata": {
    "hidden": true
   },
   "outputs": [],
   "source": [
    "#| export\n",
    "docs_cards = create_doc_section(\n",
    "    Card,\n",
    "    H3(\"Example Usage\"),\n",
    "    fn2code_string(ex_card),\n",
    "    (*fn2code_string(ex_card2_wide),'uk-visible@s'),\n",
    "    (*fn2code_string(ex_card2_tall),'uk-hidden@s'),\n",
    "    CardTitle,\n",
    "    CardT,\n",
    "    \"The remainder of these are only needed if you're doing something really special.  They are used in the `Card` function to generate the boilerplate for you.\",\n",
    "    CardContainer,\n",
    "    CardHeader,\n",
    "    CardBody,\n",
    "    CardFooter,\n",
    "    title=\"Cards\"\n",
    ")"
   ]
  },
  {
   "cell_type": "markdown",
   "id": "427392cd",
   "metadata": {
    "heading_collapsed": true
   },
   "source": [
    "# Lists\n"
   ]
  },
  {
   "cell_type": "code",
   "execution_count": 27,
   "id": "0a01debd",
   "metadata": {
    "hidden": true
   },
   "outputs": [],
   "source": [
    "#| export    \n",
    "def ex_lists():\n",
    "    list_options = [(style,str(cls)) for style,cls in ListT.__members__.items()]\n",
    "    lists = [Div(H4(f\"{style} List:\"), List(Li(\"Item 1\"), Li(\"Item 2\"), cls=cls)) for style, cls in list_options]\n",
    "    return Grid(*lists)"
   ]
  },
  {
   "cell_type": "code",
   "execution_count": 28,
   "id": "274a82c0",
   "metadata": {
    "hidden": true
   },
   "outputs": [],
   "source": [
    "#| export\n",
    "docs_lists = create_doc_section(\n",
    "    List,\n",
    "    fn2code_string(ex_lists),\n",
    "    ListT,\n",
    "    title=\"Lists\")"
   ]
  },
  {
   "cell_type": "markdown",
   "id": "b3ed3e47",
   "metadata": {
    "heading_collapsed": true
   },
   "source": [
    "# Markdown"
   ]
  },
  {
   "cell_type": "code",
   "execution_count": 29,
   "id": "0451c6fd",
   "metadata": {
    "hidden": true
   },
   "outputs": [],
   "source": [
    "#| export\n",
    "def ex_md(): \n",
    "    return render_md('''# Test MD\n",
    "\n",
    "+ A list with **bold** and *italics*\n",
    "+ And a link to [answer.ai](https://answer.ai)''')\n",
    "\n",
    "def ex_applyclasses():\n",
    "    return apply_classes('<h1>Hello, World!</h1><p>This is a paragraph</p>')\n",
    "        \n",
    "        \n",
    "docs_markdown = create_doc_section(render_md, \n",
    "                             fn2code_string(ex_md), \n",
    "                             P(\"This uses the `apply_classes` function, which can be used to apply classes to html strings\"),\n",
    "                             apply_classes,\n",
    "                             fn2code_string(ex_applyclasses),\n",
    "                             title=\"Markdown\")"
   ]
  },
  {
   "cell_type": "markdown",
   "id": "c96f53a2",
   "metadata": {
    "heading_collapsed": true
   },
   "source": [
    "# Forms"
   ]
  },
  {
   "cell_type": "code",
   "execution_count": 30,
   "id": "09d7c4b5",
   "metadata": {
    "hidden": true
   },
   "outputs": [],
   "source": [
    "#| export\n",
    "def ex_formlabel(): \n",
    "    return FormLabel(\"Form Label\")\n",
    "\n",
    "def ex_input(): \n",
    "    return Div(\n",
    "        Input(placeholder=\"Enter text\"), \n",
    "        LabelInput(label=\"Input\", id='myid'))\n",
    "\n",
    "def ex_checkbox(): \n",
    "    return Div(\n",
    "        CheckboxX(), \n",
    "        LabelCheckboxX(label=\"Checkbox\", id='checkbox1'))\n",
    "def ex_range(): \n",
    "    return Div(\n",
    "        Range(), \n",
    "        LabelRange(label=\"Range\", id='range1'))\n",
    "def ex_switch(): \n",
    "    return Div(\n",
    "        Switch(id=\"switch\"), \n",
    "        LabelSwitch(label=\"Switch\", id='switch'))\n",
    "\n",
    "def ex_textarea(): \n",
    "    return Div(\n",
    "        TextArea(placeholder=\"Enter multiple lines of text\"), \n",
    "        LabelTextArea(label=\"TextArea\", id='myid'))\n",
    "\n",
    "def ex_radio(): \n",
    "    return Div(\n",
    "        Radio(name=\"radio-group\", id=\"radio1\"), \n",
    "        LabelRadio(label=\"Radio\", id='radio1',cls='flex items-center space-x-4'))\n",
    "\n",
    "def ex_ukselect(): \n",
    "    return Div(\n",
    "        UkSelect(map(Option, [\"Option 1\", \"Option 2\", \"Option 3\"])),\n",
    "        LabelUkSelect(map(Option, [\"Option 1\", \"Option 2\", \"Option 3\"]), label=\"UkSelect\", id='myid'))\n",
    "\n",
    "def ex_select(): \n",
    "    return Div(\n",
    "        Select(map(Option, [\"Option 1\", \"Option 2\", \"Option 3\"])),\n",
    "        LabelSelect(map(Option, [\"Option 1\", \"Option 2\", \"Option 3\"]), label=\"Select\", id='myid'))\n",
    "\n",
    "def ex_progress(): \n",
    "    return Progress(value=20, max=100)"
   ]
  },
  {
   "cell_type": "code",
   "execution_count": 31,
   "id": "538b398e",
   "metadata": {
    "hidden": true,
    "scrolled": true
   },
   "outputs": [],
   "source": [
    "#| export\n",
    "def ex_form():\n",
    "    relationship = [\"Parent\",'Sibling', \"Friend\", \"Spouse\", \"Significant Other\", \"Relative\", \"Child\", \"Other\"]\n",
    "    return Div(cls='space-y-4')(\n",
    "        DivCentered(\n",
    "            H3(\"Emergency Contact Form\"),\n",
    "            P(\"Please fill out the form completely\", cls=TextFont.muted_sm)),\n",
    "        Form(cls='space-y-4')(\n",
    "            Grid(LabelInput(\"First Name\",id='fn'), LabelInput(\"Last Name\",id='ln')),\n",
    "            Grid(LabelInput(\"Email\",     id='em'), LabelInput(\"Phone\",    id='ph')),\n",
    "            H3(\"Relationship to patient\"),\n",
    "            Grid(*[LabelCheckboxX(o) for o in relationship], cols=4, cls='space-y-3'),\n",
    "            LabelInput(\"Address\",        id='ad'),\n",
    "            LabelInput(\"Address Line 2\", id='ad2'),\n",
    "            Grid(LabelInput(\"City\",      id='ct'), LabelInput(\"State\",    id='st')),\n",
    "            LabelInput(\"Zip\",            id='zp'),\n",
    "            DivCentered(Button(\"Submit Form\", cls=ButtonT.primary))))"
   ]
  },
  {
   "cell_type": "code",
   "execution_count": 32,
   "id": "758240c2",
   "metadata": {
    "hidden": true
   },
   "outputs": [],
   "source": [
    "#| export\n",
    "docs_forms = create_doc_section(\n",
    "    H3(\"Example Form\"),\n",
    "    P(f\"This form was live coded in a 5 minute video \",\n",
    "          A(\"here\",href=\"https://www.loom.com/share/0916e8a95d524c43a4d100ee85157624?start_and_pause=1\", \n",
    "            cls=AT.muted), cls=TextFont.muted_sm),\n",
    "    fn2code_string(ex_form),\n",
    "    FormLabel,\n",
    "    fn2code_string(ex_formlabel),\n",
    "    Input,\n",
    "    fn2code_string(ex_input),\n",
    "    Progress,\n",
    "    fn2code_string(ex_progress),\n",
    "    Radio,\n",
    "    fn2code_string(ex_radio),\n",
    "    CheckboxX,\n",
    "    fn2code_string(ex_checkbox),\n",
    "    Range,\n",
    "    fn2code_string(ex_range),\n",
    "    Switch,\n",
    "    fn2code_string(ex_switch),\n",
    "    TextArea,\n",
    "    fn2code_string(ex_textarea),\n",
    "    Select,\n",
    "    fn2code_string(ex_select),\n",
    "    UkSelect,\n",
    "    fn2code_string(ex_ukselect),\n",
    "    Legend,\n",
    "    Fieldset,\n",
    "    title=\"Forms\")"
   ]
  },
  {
   "cell_type": "markdown",
   "id": "8bd163a1",
   "metadata": {
    "heading_collapsed": true
   },
   "source": [
    "# Modals"
   ]
  },
  {
   "cell_type": "code",
   "execution_count": 33,
   "id": "6829cce5",
   "metadata": {
    "hidden": true
   },
   "outputs": [],
   "source": [
    "#| export\n",
    "def ex_modal():\n",
    "    return Div(\n",
    "        Button(\"Open Modal\",uk_toggle=\"target: #my-modal\" ),\n",
    "        Modal(ModalTitle(\"Simple Test Modal\"), \n",
    "              P(\"With some somewhat brief content to show that it works!\", cls=TextFont.muted_sm),\n",
    "              footer=ModalCloseButton(\"Close\", cls=ButtonT.primary),id='my-modal'))"
   ]
  },
  {
   "cell_type": "code",
   "execution_count": 34,
   "id": "ffa163be",
   "metadata": {
    "hidden": true
   },
   "outputs": [],
   "source": [
    "#| export\n",
    "docs_modals = create_doc_section(\n",
    "    H3(\"Example Modal\"),\n",
    "    fn2code_string(ex_modal),\n",
    "    Modal,\n",
    "    ModalCloseButton,\n",
    "    P(\"The remainder of the Modal functions below are used internally by the `Modal` function for you.  You shouldn't need to use them unless you're doing something really special.\"),\n",
    "    ModalTitle,\n",
    "    ModalFooter,\n",
    "    ModalBody,\n",
    "    ModalHeader,\n",
    "    ModalDialog,\n",
    "    ModalContainer,\n",
    "    title=\"Modals\")"
   ]
  },
  {
   "cell_type": "markdown",
   "id": "d870f2ba",
   "metadata": {},
   "source": [
    "# Layout"
   ]
  },
  {
   "cell_type": "code",
   "execution_count": 35,
   "id": "f7004bc9",
   "metadata": {},
   "outputs": [],
   "source": [
    "#| export\n",
    "def ex_grid():\n",
    "    return Grid(\n",
    "        Div(\n",
    "            P(\"Column 1 Item 1\"), \n",
    "            P(\"Column 1 Item 2\"), \n",
    "            P(\"Column 1 Item 3\")),\n",
    "        Div(\n",
    "            P(\"Column 2 Item 1\"), \n",
    "            P(\"Column 2 Item 2\"), \n",
    "            P(\"Column 2 Item 3\")),\n",
    "        Div(\n",
    "            P(\"Column 3 Item 1\"), \n",
    "            P(\"Column 3 Item 2\"), \n",
    "            P(\"Column 3 Item 3\")))"
   ]
  },
  {
   "cell_type": "code",
   "execution_count": 36,
   "id": "c22c73c1",
   "metadata": {},
   "outputs": [],
   "source": [
    "#| export\n",
    "def ex_product_grid():\n",
    "    products = [\n",
    "        {\"name\": \"Laptop\", \"price\": \"$999\", \"img\": \"https://picsum.photos/200/100?random=1\"},\n",
    "        {\"name\": \"Smartphone\", \"price\": \"$599\", \"img\": \"https://picsum.photos/200/100?random=2\"},\n",
    "        {\"name\": \"Headphones\", \"price\": \"$199\", \"img\": \"https://picsum.photos/200/100?random=3\"},\n",
    "        {\"name\": \"Smartwatch\", \"price\": \"$299\", \"img\": \"https://picsum.photos/200/100?random=4\"},\n",
    "        {\"name\": \"Tablet\", \"price\": \"$449\", \"img\": \"https://picsum.photos/200/100?random=5\"},\n",
    "        {\"name\": \"Camera\", \"price\": \"$799\", \"img\": \"https://picsum.photos/200/100?random=6\"},\n",
    "    ]\n",
    "    \n",
    "    product_cards = [\n",
    "        Card(\n",
    "            Img(src=p[\"img\"], alt=p[\"name\"], style=\"width:100%; height:100px; object-fit:cover;\"),\n",
    "            H4(p[\"name\"], cls=\"mt-2\"),\n",
    "            P(p[\"price\"], cls=TextFont.bold_sm),\n",
    "            Button(\"Add to Cart\", cls=(ButtonT.primary, \"mt-2\"))\n",
    "        ) for p in products\n",
    "    ]\n",
    "    \n",
    "    return Grid(*product_cards, cols_lg=3)\n"
   ]
  },
  {
   "cell_type": "code",
   "execution_count": 37,
   "id": "088a85da",
   "metadata": {},
   "outputs": [],
   "source": [
    "#| export\n",
    "def ex_fully_spaced_div():\n",
    "    return DivFullySpaced(\n",
    "        Button(\"Left\", cls=ButtonT.primary),\n",
    "        Button(\"Center\", cls=ButtonT.secondary),\n",
    "        Button(\"Right\", cls=ButtonT.danger)\n",
    "    )\n",
    "\n",
    "def ex_centered_div():\n",
    "    return DivCentered(\n",
    "        H3(\"Centered Title\"),\n",
    "        P(\"This content is centered both horizontally and vertically.\")\n",
    "    )\n",
    "\n",
    "def ex_l_aligned_div():\n",
    "    return DivLAligned(\n",
    "        Img(src=\"https://picsum.photos/100/100?random=1\", style=\"max-width: 100px;\"),\n",
    "        H4(\"Left Aligned Title\"),\n",
    "        P(\"Some text that's left-aligned with the title and image.\")\n",
    "    )\n",
    "\n",
    "def ex_r_aligned_div():\n",
    "    return DivRAligned(\n",
    "        Button(\"Action\", cls=ButtonT.primary),\n",
    "        P(\"Right-aligned text\"),\n",
    "        Img(src=\"https://picsum.photos/100/100?random=3\", style=\"max-width: 100px;\")\n",
    "    )\n",
    "\n",
    "def ex_v_stacked_div():\n",
    "    return DivVStacked(\n",
    "        H2(\"Vertical Stack\"),\n",
    "        P(\"First paragraph in the stack\"),\n",
    "        P(\"Second paragraph in the stack\"),\n",
    "        Button(\"Action Button\", cls=ButtonT.secondary)\n",
    "    )\n",
    "\n",
    "def ex_h_stacked_div():\n",
    "    return DivHStacked(\n",
    "        Div(H4(\"Column 1\"), P(\"Content for column 1\")),\n",
    "        Div(H4(\"Column 2\"), P(\"Content for column 2\")),\n",
    "        Div(H4(\"Column 3\"), P(\"Content for column 3\"))\n",
    "    )"
   ]
  },
  {
   "cell_type": "code",
   "execution_count": 38,
   "id": "a95ca8a5",
   "metadata": {},
   "outputs": [],
   "source": [
    "#| export\n",
    "docs_layout = create_doc_section(\n",
    "    P(\"This page covers `Grid`s, which are often used for general structure, `Flex` which is often used for layout of components that are not grid based, padding and positioning that can help you make your layout look good, and dividers that can help break up the page\", cls=TextFont.muted_sm),\n",
    "    H2(\"Grid\"),\n",
    "    fn2code_string(ex_grid),\n",
    "    Grid,\n",
    "    H4(\"Practical Grid Example\"),\n",
    "    fn2code_string(ex_product_grid),\n",
    "    H2(\"Flex\"),\n",
    "    P(\"Play \", \n",
    "      A(\"Flex Box Froggy\", href=\"https://flexboxfroggy.com/\", cls=AT.muted), \n",
    "      \" to get an understanding of flex box.\",\n",
    "      cls=TextFont.muted_sm),\n",
    "    DivFullySpaced,\n",
    "    fn2code_string(ex_fully_spaced_div),\n",
    "    DivCentered,\n",
    "    fn2code_string(ex_centered_div),\n",
    "    DivLAligned,\n",
    "    fn2code_string(ex_l_aligned_div),\n",
    "    DivRAligned,\n",
    "    fn2code_string(ex_r_aligned_div),\n",
    "    DivVStacked,\n",
    "    fn2code_string(ex_v_stacked_div),\n",
    "    DivHStacked,\n",
    "    fn2code_string(ex_h_stacked_div),\n",
    "    FlexT,\n",
    "\n",
    "    H2(\"Padding and Positioning\"),\n",
    "    PaddingT,\n",
    "    PositionT,\n",
    "    title=\"Layout\")"
   ]
  },
  {
   "cell_type": "markdown",
   "id": "99f0bbdc",
   "metadata": {},
   "source": [
    "# Dividers"
   ]
  },
  {
   "cell_type": "code",
   "execution_count": 50,
   "id": "0c744f53",
   "metadata": {},
   "outputs": [],
   "source": [
    "#| export\n",
    "def ex_dividers():\n",
    "    return Div(\n",
    "        P(\"Small Divider\"),\n",
    "        Divider(cls=DividerT.small),\n",
    "        DivCentered(\n",
    "            P(\"Vertical Divider\"),\n",
    "            Divider(cls=DividerT.vertical)),\n",
    "        DivCentered(\"Icon Divider\"),\n",
    "        Divider(cls=DividerT.icon))\n",
    "\n",
    "def ex_dividersplit():\n",
    "    return DividerSplit(P(\"Or continue with\", cls=TextFont.muted_sm))\n",
    "def ex_dividerline():\n",
    "    return DividerLine()"
   ]
  },
  {
   "cell_type": "code",
   "execution_count": null,
   "id": "dc7a81bc",
   "metadata": {},
   "outputs": [],
   "source": [
    "#| export\n",
    "docs_dividers = create_doc_section(\n",
    "    Divider,\n",
    "    DividerT,\n",
    "    fn2code_string(ex_dividers),\n",
    "    DividerSplit,\n",
    "    fn2code_string(ex_dividersplit),\n",
    "    DividerLine,\n",
    "    fn2code_string(ex_dividerline),\n",
    "    title=\"Dividers\")"
   ]
  },
  {
   "cell_type": "markdown",
   "id": "a199a8bd",
   "metadata": {
    "heading_collapsed": true
   },
   "source": [
    "# Navigation"
   ]
  },
  {
   "cell_type": "code",
   "execution_count": 41,
   "id": "ad8b4723",
   "metadata": {
    "hidden": true
   },
   "outputs": [],
   "source": [
    "#| export\n",
    "def ex_nav1():\n",
    "    mbrs1 = [Li(A('Option 1'), cls='uk-active'), Li(A('Option 2')), Li(A('Option 3'))]\n",
    "    return NavContainer(*mbrs1)"
   ]
  },
  {
   "cell_type": "code",
   "execution_count": 42,
   "id": "afdc0146",
   "metadata": {
    "hidden": true
   },
   "outputs": [],
   "source": [
    "#| export\n",
    "def ex_nav2():\n",
    "    mbrs1 = [Li(A('Option 1'), cls='uk-active'), Li(A('Option 2')), Li(A('Option 3'))]\n",
    "    mbrs2 = [Li(A('Child 1')), Li(A('Child 2')),Li(A('Child 3'))]\n",
    "\n",
    "    return NavContainer(\n",
    "        NavHeaderLi(\"NavHeaderLi\"),\n",
    "        *mbrs1,\n",
    "        Li(A(href='')(Div(\"Subtitle Ex\",NavSubtitle(\"NavSubtitle text to be shown\")))),\n",
    "        NavDividerLi(),\n",
    "        NavParentLi(\n",
    "            A('Parent Name'),\n",
    "            NavContainer(*mbrs2,parent=False),\n",
    "             ),\n",
    "    )"
   ]
  },
  {
   "cell_type": "code",
   "execution_count": 43,
   "id": "b84de3e1",
   "metadata": {
    "hidden": true
   },
   "outputs": [],
   "source": [
    "#| export\n",
    "def ex_navbar():\n",
    "    mbrs1 = [Li(A('Option 1'), cls='uk-active'), Li(A('Option 2')), Li(A('Option 3'))]\n",
    "    mbrs2 = [Li(A('Child 1')), Li(A('Child 2')),Li(A('Child 3'))]\n",
    "\n",
    "    lnav = NavBarNav(Li(cls='uk-active')(A(\"Active\",href='')),\n",
    "        Li(A(\"Parent\",href=''),\n",
    "          NavBarNavContainer(\n",
    "              Li(cls='uk-active')(A(\"Active\",href='')),\n",
    "              Li(A(\"Item\",href='')),\n",
    "              Li(A(\"Item\",href='')))),\n",
    "        Li(A(\"Item\",href='')))\n",
    "\n",
    "    rnav = NavBarNav(\n",
    "        Li(cls='uk-active')(A(NavBarSubtitle(\"Title\",\"Subtitle\"),href='')),\n",
    "        Li(A(\"DropDown\",NavBarParentIcon(),href=''),\n",
    "            NavBarNavContainer(\n",
    "                NavHeaderLi(\"NavHeaderLi\"),\n",
    "                *mbrs1,\n",
    "                Li(A(href='')(Div(\"Subtitle Ex\",NavSubtitle(\"NavSubtitle text to be shown\")))),\n",
    "                NavDividerLi(),\n",
    "                NavParentLi(\n",
    "                    A('Parent Name'),\n",
    "                    NavContainer(*mbrs2,parent=False)))),\n",
    "        Li(A(NavBarSubtitle(\"Title\",\"Subtitle\"),href='')))\n",
    "    \n",
    "    return NavBarContainer(\n",
    "        NavBarLSide(lnav),\n",
    "        NavBarRSide(rnav))"
   ]
  },
  {
   "cell_type": "code",
   "execution_count": 44,
   "id": "eac7bddc",
   "metadata": {
    "hidden": true
   },
   "outputs": [],
   "source": [
    "#| export\n",
    "def ex_navdrop():\n",
    "    return Div(\n",
    "        Button(\"Open DropDown\"),\n",
    "        DropDownNavContainer(Li(A(\"Item 1\",href=''),Li(A(\"Item 2\",href='')))))"
   ]
  },
  {
   "cell_type": "code",
   "execution_count": 45,
   "id": "8273f645",
   "metadata": {
    "hidden": true
   },
   "outputs": [],
   "source": [
    "#| export\n",
    "def ex_tabs1():\n",
    "    return DivContainer(\n",
    "        TabContainer(\n",
    "            Li(A(\"Active\",href='#', cls='uk-active')),\n",
    "            Li(A(\"Item\",href='#')),\n",
    "            Li(A(\"Item\",href='#')),\n",
    "            Li(A(\"Disabled\",href='#', cls='uk-disabled')),\n",
    "            uk_switcher='connect: #component-nav; animation: uk-animation-fade',\n",
    "            alt=True),\n",
    "         Ul(id=\"component-nav\", cls=\"uk-switcher\")(\n",
    "            Li(H1(\"Tab 1\")),\n",
    "            Li(H1(\"Tab 2\")),\n",
    "            Li(H1(\"Tab 3\"))))\n"
   ]
  },
  {
   "cell_type": "code",
   "execution_count": 46,
   "id": "973d5df8",
   "metadata": {
    "hidden": true
   },
   "outputs": [],
   "source": [
    "#| export\n",
    "def ex_tabs2():\n",
    "    return DivContainer(\n",
    "        TabContainer(\n",
    "            Li(A(\"Active\",href='javascript:void(0);', cls='uk-active')),\n",
    "            Li(A(\"Item\",href='javascript:void(0);')),\n",
    "            Li(A(\"Item\",href='javascript:void(0);')),\n",
    "            Li(A(\"Disabled\", cls='uk-disabled'))))"
   ]
  },
  {
   "cell_type": "code",
   "execution_count": 47,
   "id": "74061cce",
   "metadata": {
    "hidden": true
   },
   "outputs": [],
   "source": [
    "#| export\n",
    "docs_navigation = create_doc_section(\n",
    "    H1(\"Nav, NavBar, DowDownNav, and Tab examples\"),\n",
    "    Divider(),\n",
    "    H2(\"Nav\"),\n",
    "    fn2code_string(ex_nav1),\n",
    "    fn2code_string(ex_nav2),\n",
    "    H2(\"Navbars\"),\n",
    "    fn2code_string(ex_navbar),\n",
    "    H2(\"Drop Down Navs\"),\n",
    "    fn2code_string(ex_navdrop),\n",
    "    H2(\"Tabs\"),\n",
    "    fn2code_string(ex_tabs2),\n",
    "    P(\"A tabs can use any method of navigation (htmx, or href).  However, often these are use in conjunction with switchers do to this client side\", cls=TextFont.muted_sm),\n",
    "    fn2code_string(ex_tabs1),\n",
    "    H1(\"API Docs\"),\n",
    "    Nav,\n",
    "    NavT,\n",
    "    NavContainer,\n",
    "    NavCloseLi,\n",
    "    NavSubtitle,\n",
    "    NavHeaderLi,\n",
    "    NavDividerLi,\n",
    "    NavParentLi,\n",
    "    NavBarCenter,\n",
    "    NavBarRSide,\n",
    "    NavBarLSide,\n",
    "    NavBarContainer,\n",
    "    NavBarNav,\n",
    "    NavBarSubtitle,\n",
    "    NavBarNavContainer,\n",
    "    NavBarParentIcon,\n",
    "    DropDownNavContainer,\n",
    "    TabContainer,\n",
    "    title=\"Navigation\")\n"
   ]
  },
  {
   "cell_type": "markdown",
   "id": "a09d3003",
   "metadata": {
    "heading_collapsed": true
   },
   "source": [
    "# Tables"
   ]
  },
  {
   "cell_type": "code",
   "execution_count": 48,
   "id": "8f34b9c5",
   "metadata": {
    "hidden": true
   },
   "outputs": [],
   "source": [
    "#| export\n",
    "def ex_tables0():\n",
    "    return Table(\n",
    "        Thead(Tr(Th('Name'),    Th('Age'), Th('City'))),\n",
    "        Tbody(Tr(Td('Alice'),   Td('25'),  Td('New York')),\n",
    "              Tr(Td('Bob'),     Td('30'),  Td('San Francisco')),\n",
    "              Tr(Td('Charlie'), Td('35'),  Td('London'))),\n",
    "        Tfoot(Tr(Td('Total'),   Td('90'))))"
   ]
  },
  {
   "cell_type": "code",
   "execution_count": 49,
   "id": "164173ce",
   "metadata": {
    "hidden": true
   },
   "outputs": [],
   "source": [
    "#| export\n",
    "def ex_tables1():\n",
    "    header =  ['Name',    'Age', 'City']\n",
    "    body   = [['Alice',   '25',  'New York'],\n",
    "              ['Bob',     '30',  'San Francisco'],\n",
    "              ['Charlie', '35',  'London']]\n",
    "    footer =  ['Total',   '90']\n",
    "    return TableFromLists(header, body, footer)"
   ]
  },
  {
   "cell_type": "code",
   "execution_count": 50,
   "id": "bee403a2",
   "metadata": {
    "hidden": true
   },
   "outputs": [],
   "source": [
    "#| export\n",
    "def ex_tables2():\n",
    "    def body_render(k, v):\n",
    "        match k.lower():\n",
    "            case 'name': return Td(v, cls='font-bold')\n",
    "            case 'age':  return Td(f\"{v} years\")\n",
    "            case _:      return Td(v)\n",
    "\n",
    "    header_data = ['Name',          'Age',     'City']\n",
    "    body_data   =[{'Name': 'Alice', 'Age': 30, 'City': 'New York'},\n",
    "                  {'Name': 'Bob',   'Age': 25, 'City': 'London'}]\n",
    "\n",
    "    return TableFromDicts(header_data, body_data, \n",
    "        header_cell_render=lambda v: Th(v.upper()), \n",
    "        body_cell_render=body_render)"
   ]
  },
  {
   "cell_type": "code",
   "execution_count": 51,
   "id": "4939d638",
   "metadata": {
    "hidden": true
   },
   "outputs": [],
   "source": [
    "#| export\n",
    "docs_tables = create_doc_section(\n",
    "    fn2code_string(ex_tables0),\n",
    "    fn2code_string(ex_tables1),\n",
    "    fn2code_string(ex_tables2),\n",
    "    Table,\n",
    "    TableFromLists,\n",
    "    TableFromDicts,\n",
    "    TableT,\n",
    "    Tbody,\n",
    "    Th,\n",
    "    Td,\n",
    "    Tfoot,\n",
    "    Thead,\n",
    "    Tr,    \n",
    "    title=\"Tables\")"
   ]
  },
  {
   "cell_type": "markdown",
   "id": "8edcd6a8",
   "metadata": {
    "heading_collapsed": true
   },
   "source": [
    "# Icons"
   ]
  },
  {
   "cell_type": "code",
   "execution_count": 52,
   "id": "96e8e4d0",
   "metadata": {
    "hidden": true
   },
   "outputs": [],
   "source": [
    "#| export\n",
    "def ex_dicebear():\n",
    "    return DivLAligned(\n",
    "        DiceBearAvatar('Isaac Flath',10,10),\n",
    "        DiceBearAvatar('Aaliyah',10,10),\n",
    "        DiceBearAvatar('Alyssa',10,10))\n",
    "\n",
    "def ex_icon():\n",
    "    return Grid(\n",
    "        UkIcon('chevrons-right', height=15, width=15),\n",
    "        UkIcon('bug',            height=15, width=15),\n",
    "        UkIcon('phone-call',     height=15, width=15),\n",
    "        UkIcon('maximize-2',     height=15, width=15),\n",
    "        UkIcon('thumbs-up',      height=15, width=15),)        \n",
    "\n",
    "def ex_iconlink():\n",
    "    return DivLAligned(\n",
    "        UkIconLink('chevrons-right'),\n",
    "        UkIconLink('chevrons-right', button=True, cls=ButtonT.primary))"
   ]
  },
  {
   "cell_type": "code",
   "execution_count": 53,
   "id": "5347b865",
   "metadata": {
    "hidden": true
   },
   "outputs": [],
   "source": [
    "#| export\n",
    "docs_icons = create_doc_section(\n",
    "    H1(\"Avatars\"),\n",
    "    fn2code_string(ex_dicebear),\n",
    "    DiceBearAvatar,\n",
    "    H1(\"Icons\"),\n",
    "    P(\"Icons use Lucide icons - you can find a full list of icons in their docs.\", cls=TextFont.muted_sm),\n",
    "    fn2code_string(ex_icon),\n",
    "    UkIcon,\n",
    "    fn2code_string(ex_iconlink),\n",
    "    UkIconLink,\n",
    "    title=\"Icons\")"
   ]
  },
  {
   "cell_type": "markdown",
   "id": "41d199cb",
   "metadata": {
    "heading_collapsed": true
   },
   "source": [
    "# Markdown"
   ]
  },
  {
   "cell_type": "code",
   "execution_count": 54,
   "id": "15678d16",
   "metadata": {
    "hidden": true
   },
   "outputs": [],
   "source": [
    "#| export\n",
    "def ex_markdown():\n",
    "    md = '''# Example Markdown\n",
    "\n",
    "+ With **bold** and *italics*\n",
    "+ With a [link](https://github.com)\n",
    "\n",
    "### And a subheading\n",
    "\n",
    "> This is a blockquote\n",
    "'''\n",
    "    return render_md(md)"
   ]
  },
  {
   "cell_type": "code",
   "execution_count": 55,
   "id": "455f424b",
   "metadata": {
    "hidden": true
   },
   "outputs": [],
   "source": [
    "#| export\n",
    "docs_markdown = create_doc_section(\n",
    "    fn2code_string(ex_markdown),\n",
    "    render_md,\n",
    "    apply_classes,\n",
    "    title=\"Markdown + HTML Frankification\")"
   ]
  },
  {
   "cell_type": "markdown",
   "id": "66650e8f",
   "metadata": {
    "heading_collapsed": true
   },
   "source": [
    "# _"
   ]
  }
 ],
 "metadata": {
  "kernelspec": {
   "display_name": "Python 3 (ipykernel)",
   "language": "python",
   "name": "python3"
  },
  "language_info": {
   "codemirror_mode": {
    "name": "ipython",
    "version": 3
   },
   "file_extension": ".py",
   "mimetype": "text/x-python",
   "name": "python",
   "nbconvert_exporter": "python",
   "pygments_lexer": "ipython3",
   "version": "3.12.4"
  }
 },
 "nbformat": 4,
 "nbformat_minor": 5
}
