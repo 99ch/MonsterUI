{
 "cells": [
  {
   "cell_type": "markdown",
   "id": "d658774c",
   "metadata": {
    "heading_collapsed": true
   },
   "source": [
    "# API Reference\n",
    "\n",
    "> Reference to all FrankenUI Components"
   ]
  },
  {
   "cell_type": "code",
   "execution_count": 79,
   "id": "51edf9a5",
   "metadata": {
    "hidden": true
   },
   "outputs": [],
   "source": [
    "#| default_exp api_reference"
   ]
  },
  {
   "cell_type": "code",
   "execution_count": 4,
   "id": "46a13904",
   "metadata": {
    "hidden": true
   },
   "outputs": [],
   "source": [
    "#| export\n",
    "from fasthtml.common import *\n",
    "\n",
    "from fh_frankenui.core import *\n",
    "from nbdev.showdoc import *\n",
    "import inspect\n",
    "\n",
    "from enum import EnumType\n",
    "from collections.abc import Callable"
   ]
  },
  {
   "cell_type": "code",
   "execution_count": 5,
   "id": "a74595d2",
   "metadata": {
    "hidden": true
   },
   "outputs": [],
   "source": [
    "#| hide\n",
    "#| eval: false\n",
    "from utils import create_server"
   ]
  },
  {
   "cell_type": "code",
   "execution_count": 46,
   "id": "60b096aa",
   "metadata": {
    "hidden": true
   },
   "outputs": [],
   "source": [
    "#| hide\n",
    "#| eval: false\n",
    "app, rt = fast_app(pico=False, hdrs=(*Theme.blue.headers()))\n",
    "server, Show = create_server(app)\n"
   ]
  },
  {
   "cell_type": "markdown",
   "id": "f2090c46",
   "metadata": {},
   "source": [
    "# Helper Functions"
   ]
  },
  {
   "cell_type": "code",
   "execution_count": 11,
   "id": "2cf43a87",
   "metadata": {},
   "outputs": [],
   "source": [
    "#| export\n",
    "def enum_to_html_table(enum_class):\n",
    "    headers = [\"Option\", \"Value\"]\n",
    "    rows = [[name, value.value] for name, value in enum_class.__members__.items()]\n",
    "    return Div(\n",
    "        Hr(cls='uk-divider-icon my-4'),\n",
    "        H3(enum_class.__name__,cls='my-4'),\n",
    "        P(I(enum_class.__doc__)),\n",
    "        TableFromLists(headers, rows, cls=(TableT.hover, 'uk-table-small')),)"
   ]
  },
  {
   "cell_type": "code",
   "execution_count": 86,
   "id": "01e97137",
   "metadata": {},
   "outputs": [],
   "source": [
    "%%ai\n",
    "\n",
    "I want 2 names for a button that toggle between showing code and showing the rendered version of the code.  But I want the words to be the same lenght.  What are some good options?"
   ]
  },
  {
   "cell_type": "markdown",
   "id": "0bc4f04f",
   "metadata": {},
   "source": [
    "Here are two pairs of names for a toggle button that switch between showing code and its rendered version, with each pair having words of equal length:\n",
    "\n",
    "1. \"Code\" and \"View\"\n",
    "2. \"Source\" and \"Output\"\n",
    "\n",
    "Both pairs maintain the same character count within each option, ensuring visual consistency when toggling."
   ]
  },
  {
   "cell_type": "code",
   "execution_count": 12,
   "id": "7fd3baa5",
   "metadata": {},
   "outputs": [],
   "source": [
    "#| export\n",
    "from uuid import uuid4\n",
    "def render_content(c):\n",
    "    if isinstance(c, str):        return render_md(c)\n",
    "    elif isinstance(c, EnumType): return enum_to_html_table(c)\n",
    "    elif isinstance(c, FT):       return c\n",
    "    elif isinstance(c, tuple):    \n",
    "        _id = 'f'+str(uuid4())\n",
    "        return Card(\n",
    "            Button(FullySpacedDiv(\"See Source\",UkIcon('corner-down-right', 20, 20, 3)), uk_toggle=f\"target: #{_id}\", id=_id, cls=ButtonT.primary),\n",
    "            Button(FullySpacedDiv(\"See Output\",UkIcon('corner-down-right', 20, 20, 3)), uk_toggle=f\"target: #{_id}\", id=_id, cls=ButtonT.primary, hidden=True),\n",
    "            Div(c[0], id=_id),\n",
    "            Div(Pre(Code(c[1])), id=_id, hidden=True, cls=\"mockup-code\"),\n",
    "            cls='my-8')\n",
    "    elif isinstance(c, Callable): \n",
    "        _html = show_doc(c, renderer=BasicHtmlRenderer)._repr_html_()\n",
    "        return NotStr(apply_classes(_html, class_map_mods={\"table\":'uk-table uk-table-hover uk-table-small'}))\n",
    "    else: return c    "
   ]
  },
  {
   "cell_type": "code",
   "execution_count": 13,
   "id": "84a3b655",
   "metadata": {},
   "outputs": [],
   "source": [
    "#| export\n",
    "def create_doc_section(*content, title, md_content=None):\n",
    "    return lambda: Section(H1(title,cls='mb-10'), *map(render_content, content))"
   ]
  },
  {
   "cell_type": "code",
   "execution_count": 70,
   "id": "2eee17cf",
   "metadata": {},
   "outputs": [],
   "source": [
    "#| export\n",
    "def string2code_string(code: str) -> tuple: return eval(code), code\n",
    "\n",
    "def extract_function_body(func):\n",
    "    source = inspect.getsource(func)\n",
    "    body_start = source.index(':') + 1\n",
    "    body = source[body_start:]\n",
    "    return body.replace('return ', '', 1)\n",
    "\n",
    "def fn2code_string(fn: Callable) -> tuple: return fn(), extract_function_body(fn)"
   ]
  },
  {
   "cell_type": "code",
   "execution_count": null,
   "id": "7b52923e",
   "metadata": {},
   "outputs": [],
   "source": []
  },
  {
   "cell_type": "markdown",
   "id": "c29c05f9",
   "metadata": {
    "heading_collapsed": true
   },
   "source": [
    "# Buttons "
   ]
  },
  {
   "cell_type": "code",
   "execution_count": null,
   "id": "2fe88ca5",
   "metadata": {
    "hidden": true
   },
   "outputs": [],
   "source": [
    "#| export\n",
    "def ex_buttons(): \n",
    "    return Div(\n",
    "        Button(\"Default\",   cls=ButtonT.default),\n",
    "        Button(\"Primary\",   cls=ButtonT.primary),\n",
    "        Button(\"Secondary\", cls=ButtonT.secondary),\n",
    "        Button(\"Danger\",    cls=ButtonT.danger),\n",
    "        Button(\"Text\",      cls=ButtonT.text),\n",
    "        Button(\"Link\",      cls=ButtonT.link),\n",
    "        Button(\"Ghost\",     cls=ButtonT.ghost),\n",
    "        )"
   ]
  },
  {
   "cell_type": "code",
   "execution_count": 71,
   "id": "4408b9e0",
   "metadata": {
    "hidden": true
   },
   "outputs": [],
   "source": [
    "#| export\n",
    "docs_button = create_doc_section(Button, \n",
    "                       ButtonT, \n",
    "                       fn2code_string(ex_buttons),\n",
    "                       title=\"Buttons\")"
   ]
  },
  {
   "cell_type": "markdown",
   "id": "cfc93853",
   "metadata": {
    "heading_collapsed": true
   },
   "source": [
    "# Headings"
   ]
  },
  {
   "cell_type": "code",
   "execution_count": null,
   "id": "47bd9c48",
   "metadata": {
    "hidden": true
   },
   "outputs": [],
   "source": [
    "#| export\n",
    "def ex_headings():\n",
    "    return Div(\n",
    "        H1(\"Level 1 Heading (H1)\"), \n",
    "        H2(\"Level 2 Heading (H2)\"), \n",
    "        H3(\"Level 3 Heading (H3)\"), \n",
    "        H4(\"Level 4 Heading (H4)\")\n",
    "        )"
   ]
  },
  {
   "cell_type": "code",
   "execution_count": 72,
   "id": "9b56ffc1",
   "metadata": {
    "hidden": true
   },
   "outputs": [],
   "source": [
    "#| export\n",
    "docs_heading = create_doc_section(\n",
    "                       fn2code_string(ex_headings),\n",
    "                        H1, H2, H3, H4, \n",
    "                        title=\"Headings\")"
   ]
  },
  {
   "cell_type": "markdown",
   "id": "c4fea3cf",
   "metadata": {
    "heading_collapsed": true
   },
   "source": [
    "# Headers"
   ]
  },
  {
   "cell_type": "code",
   "execution_count": 16,
   "id": "1c205cec",
   "metadata": {
    "hidden": true
   },
   "outputs": [],
   "source": [
    "#| export\n",
    "docs_headers = create_doc_section( \n",
    "                       \"To get headers with a default theme use `hdrs=Theme.<color>.headers()`.  For example for the blue theme you would use `hdrs=Theme.blue.headers().  Theme options are:\",\n",
    "                        \"> Note: Tailwind is included in the headers for convenience\",\n",
    "                        Theme,\n",
    "                       title=\"Headers\")"
   ]
  },
  {
   "cell_type": "markdown",
   "id": "fd128781",
   "metadata": {
    "heading_collapsed": true
   },
   "source": [
    "# Text Style"
   ]
  },
  {
   "cell_type": "code",
   "execution_count": null,
   "id": "c7c17539",
   "metadata": {
    "hidden": true
   },
   "outputs": [],
   "source": [
    "#| export\n",
    "def ex_textfont():\n",
    "    return Div(\n",
    "    P('muted_sm', cls=TextFont.muted_sm),\n",
    "    P('muted_lg', cls=TextFont.muted_lg), \n",
    "    P('bold_sm', cls=TextFont.bold_sm),\n",
    "    )"
   ]
  },
  {
   "cell_type": "code",
   "execution_count": null,
   "id": "0a34ee45",
   "metadata": {
    "hidden": true
   },
   "outputs": [],
   "source": [
    "#| export\n",
    "def ex_textt():\n",
    "    return Grid(\n",
    "        P('lead',           cls=TextT.lead),\n",
    "        P('meta',           cls=TextT.meta),\n",
    "        P('italic',         cls=TextT.italic),\n",
    "        P('small',          cls=TextT.small),\n",
    "        P('default',        cls=TextT.default),\n",
    "        P('large',          cls=TextT.large),\n",
    "        P('light',          cls=TextT.light),\n",
    "        P('normal',         cls=TextT.normal),\n",
    "        P('bold',           cls=TextT.bold),\n",
    "        P('lighter',        cls=TextT.lighter),\n",
    "        P('bolder',         cls=TextT.bolder),\n",
    "        P('capitalize',     cls=TextT.capitalize),\n",
    "        P('uppercase',      cls=TextT.uppercase),\n",
    "        P('lowercase',      cls=TextT.lowercase),\n",
    "        P('decoration_none',cls=TextT.decoration_none),\n",
    "        P('muted',          cls=TextT.muted),\n",
    "        P('primary',        cls=TextT.primary),\n",
    "        P('secondary',      cls=TextT.secondary),\n",
    "        P('success',        cls=TextT.success),\n",
    "        P('warning',        cls=TextT.warning),\n",
    "        P('danger',         cls=TextT.danger),\n",
    "        P('left',           cls=TextT.left),\n",
    "        P('right',          cls=TextT.right),\n",
    "        P('center',         cls=TextT.center),\n",
    "        P('justify',        cls=TextT.justify),\n",
    "        P('top',            cls=TextT.top),\n",
    "        P('middle',         cls=TextT.middle),\n",
    "        P('bottom',         cls=TextT.bottom),\n",
    "        P('baseline',       cls=TextT.baseline),\n",
    "        P('truncate',       cls=TextT.truncate),\n",
    "        P('break_',         cls=TextT.break_),\n",
    "        P('nowrap',         cls=TextT.nowrap),\n",
    "        )"
   ]
  },
  {
   "cell_type": "code",
   "execution_count": 17,
   "id": "0bfd6f7a",
   "metadata": {
    "hidden": true
   },
   "outputs": [],
   "source": [
    "#| export\n",
    "docs_textstyle = create_doc_section( \n",
    "   \"Styling text is possibly the most common style thing to do, so we have a couple of helpers for discoverability inside python.  `TextFont` is intended to be combinations are are widely applicable and used often, where `TextT` is intended to be more flexible options for you to combine together yourself.\",\n",
    "    TextFont,\n",
    "    fn2code_string(ex_textfont),\n",
    "    TextT,\n",
    "    fn2code_string(ex_textt),\n",
    "    title=\"Text Style\")"
   ]
  },
  {
   "cell_type": "markdown",
   "id": "4f8e5fb9",
   "metadata": {
    "heading_collapsed": true
   },
   "source": [
    "# Articles | Containers | Sections"
   ]
  },
  {
   "cell_type": "code",
   "execution_count": 77,
   "id": "d8393a7a",
   "metadata": {
    "hidden": true
   },
   "outputs": [],
   "source": [
    "#| export\n",
    "def ex_articles():\n",
    "    return Article(\n",
    "        ArticleTitle(\"Sample Article Title\"), \n",
    "        ArticleMeta(\"By: John Doe\"),\n",
    "        P('lorem ipsum dolor sit amet consectetur adipiscing elit, sed do eiusmod tempor incididunt ut labore et dolore magna aliqua.'))"
   ]
  },
  {
   "cell_type": "code",
   "execution_count": null,
   "id": "d489a5ec",
   "metadata": {
    "hidden": true
   },
   "outputs": [],
   "source": [
    "#| export\n",
    "def ex_containers():\n",
    "    return Container(\n",
    "        \"This is a sample container with custom styling.\",\n",
    "        cls=ContainerT.xsmall,\n",
    "        style=\"background-color: #FFA500; color: #000000\")"
   ]
  },
  {
   "cell_type": "code",
   "execution_count": 48,
   "id": "970fe071",
   "metadata": {
    "hidden": true
   },
   "outputs": [],
   "source": [
    "#| export\n",
    "docs_articles_containers_sections = create_doc_section(\n",
    "    ArticleMeta,\n",
    "    ArticleTitle,\n",
    "    Article,\n",
    "    fn2code_string(ex_articles),\n",
    "    Container,\n",
    "    ContainerT,\n",
    "    fn2code_string(ex_containers),\n",
    "    Section,\n",
    "    SectionT,\n",
    "    title=\"Articles, Containers & Sections\"\n",
    ")"
   ]
  },
  {
   "cell_type": "markdown",
   "id": "6c6538b4",
   "metadata": {
    "heading_collapsed": true
   },
   "source": [
    "# Cards"
   ]
  },
  {
   "cell_type": "code",
   "execution_count": null,
   "id": "dce45f9e",
   "metadata": {
    "hidden": true
   },
   "outputs": [],
   "source": [
    "#| export\n",
    "def ex_card():\n",
    "    return Card(\n",
    "        Form(LabelInput(\"Input\"),\n",
    "             LabelRange(\"Range\")),\n",
    "        header=Div(\n",
    "            CardTitle(\"Header\"),\n",
    "            P(\"A card with header and footer\",cls=TextFont.muted_sm)),\n",
    "        footer=LAlignedDiv(Button(\"Footer Submit Button\")))"
   ]
  },
  {
   "cell_type": "code",
   "execution_count": 85,
   "id": "74a3d9df",
   "metadata": {
    "hidden": true
   },
   "outputs": [],
   "source": [
    "#| export\n",
    "def Tags(cats): return Div(cls='space-x-2')(map(Label, cats))\n",
    "\n",
    "def ex_card2():\n",
    "    return Card(\n",
    "        LAlignedDiv(\n",
    "            A(Img(src=\"https://isaac-flath.github.io/website/posts/_TopicImages/FastHtml.jpg\", style=\"width:200px\"),href=\"#\"),\n",
    "            Div(cls='space-y-3 uk-width-expand')(\n",
    "                H4(\"Creating Custom FastHTML Tags for Markdown Rendering\"),\n",
    "                P(\"A step by step tutorial to rendering markdown in FastHTML using zero-md inside of DaisyUI chat bubbles\"),\n",
    "                FullySpacedDiv(map(Span, [\"Isaac Flath\", \"20-October-2024\"]), cls=TextFont.muted_sm),\n",
    "                FullySpacedDiv(\n",
    "                    Tags([\"FastHTML\", \"HTMX\", \"Web Apps\"]),\n",
    "                    Button(\"Read\", cls=(ButtonT.primary,'h-6'))))))"
   ]
  },
  {
   "cell_type": "code",
   "execution_count": null,
   "id": "3e422761",
   "metadata": {
    "hidden": true
   },
   "outputs": [],
   "source": [
    "#| export\n",
    "docs_cards = create_doc_section(\n",
    "    Card,\n",
    "    H3(\"Example Usage\"),\n",
    "    fn2code_string(ex_card),\n",
    "    fn2code_string(ex_card2),\n",
    "    CardTitle,\n",
    "    CardT,\n",
    "    \"The remainder of these are only needed if you're doing something really special.  They are used in the `Card` function to generate the boilerplate for you.\",\n",
    "    CardContainer,\n",
    "    CardHeader,\n",
    "    CardBody,\n",
    "    CardFooter,\n",
    "    title=\"Cards\"\n",
    ")"
   ]
  },
  {
   "cell_type": "markdown",
   "id": "427392cd",
   "metadata": {
    "heading_collapsed": true
   },
   "source": [
    "# Lists\n"
   ]
  },
  {
   "cell_type": "code",
   "execution_count": 141,
   "id": "0a01debd",
   "metadata": {
    "hidden": true
   },
   "outputs": [],
   "source": [
    "#| export    \n",
    "def ex_lists():\n",
    "    list_options = [(style,str(cls)) for style,cls in ListT.__members__.items()]\n",
    "    lists = [Div(H4(f\"{style} List:\"), List(Li(\"Item 1\"), Li(\"Item 2\"), cls=cls)) for style, cls in list_options]\n",
    "    return Grid(*lists)"
   ]
  },
  {
   "cell_type": "code",
   "execution_count": null,
   "id": "274a82c0",
   "metadata": {
    "hidden": true
   },
   "outputs": [],
   "source": [
    "#| export\n",
    "docs_lists = create_doc_section(\n",
    "    List,\n",
    "    fn2code_string(ex_lists),\n",
    "    ListT,\n",
    "    title=\"Lists\")"
   ]
  },
  {
   "cell_type": "markdown",
   "id": "c0e0c543",
   "metadata": {
    "heading_collapsed": true
   },
   "source": [
    "# Links (A)"
   ]
  },
  {
   "cell_type": "markdown",
   "id": "66650e8f",
   "metadata": {},
   "source": [
    "# _"
   ]
  },
  {
   "cell_type": "code",
   "execution_count": null,
   "id": "1c8f374c",
   "metadata": {},
   "outputs": [],
   "source": []
  },
  {
   "cell_type": "code",
   "execution_count": null,
   "id": "c8de06f7",
   "metadata": {},
   "outputs": [],
   "source": []
  }
 ],
 "metadata": {
  "kernelspec": {
   "display_name": "Python 3 (ipykernel)",
   "language": "python",
   "name": "python3"
  },
  "language_info": {
   "codemirror_mode": {
    "name": "ipython",
    "version": 3
   },
   "file_extension": ".py",
   "mimetype": "text/x-python",
   "name": "python",
   "nbconvert_exporter": "python",
   "pygments_lexer": "ipython3",
   "version": "3.12.4"
  }
 },
 "nbformat": 4,
 "nbformat_minor": 5
}
