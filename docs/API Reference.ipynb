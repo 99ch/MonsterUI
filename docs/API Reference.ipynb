{
 "cells": [
  {
   "cell_type": "markdown",
   "id": "d658774c",
   "metadata": {
    "heading_collapsed": true
   },
   "source": [
    "# API Reference\n",
    "\n",
    "> Reference to all FrankenUI Components"
   ]
  },
  {
   "cell_type": "code",
   "execution_count": 1,
   "id": "51edf9a5",
   "metadata": {
    "hidden": true
   },
   "outputs": [],
   "source": [
    "#| default_exp api_reference"
   ]
  },
  {
   "cell_type": "code",
   "execution_count": 2,
   "id": "46a13904",
   "metadata": {
    "hidden": true
   },
   "outputs": [],
   "source": [
    "#| export\n",
    "from fasthtml.common import *\n",
    "\n",
    "from fh_frankenui.core import *\n",
    "from nbdev.showdoc import *\n",
    "import inspect\n",
    "\n",
    "from enum import EnumType\n",
    "from collections.abc import Callable"
   ]
  },
  {
   "cell_type": "code",
   "execution_count": 3,
   "id": "a74595d2",
   "metadata": {
    "hidden": true
   },
   "outputs": [],
   "source": [
    "#| hide\n",
    "#| eval: false\n",
    "from utils import create_server"
   ]
  },
  {
   "cell_type": "code",
   "execution_count": 4,
   "id": "60b096aa",
   "metadata": {
    "hidden": true
   },
   "outputs": [],
   "source": [
    "#| hide\n",
    "#| eval: false\n",
    "app, rt = fast_app(pico=False, hdrs=(Theme.blue.headers()))\n",
    "server, Show = create_server(app)\n"
   ]
  },
  {
   "cell_type": "markdown",
   "id": "f2090c46",
   "metadata": {
    "heading_collapsed": true
   },
   "source": [
    "# Helper Functions"
   ]
  },
  {
   "cell_type": "code",
   "execution_count": 5,
   "id": "2cf43a87",
   "metadata": {
    "hidden": true
   },
   "outputs": [],
   "source": [
    "#| export\n",
    "def enum_to_html_table(enum_class):\n",
    "    headers = [\"Option\", \"Value\"]\n",
    "    rows = [[name, value.value] for name, value in enum_class.__members__.items()]\n",
    "    return Div(\n",
    "        Hr(cls='uk-divider-icon my-4'),\n",
    "        H3(enum_class.__name__,cls='my-4'),\n",
    "        P(I(enum_class.__doc__)),\n",
    "        TableFromLists(headers, rows, cls=(TableT.hover, 'uk-table-small')),)"
   ]
  },
  {
   "cell_type": "code",
   "execution_count": 6,
   "id": "7fd3baa5",
   "metadata": {
    "hidden": true
   },
   "outputs": [],
   "source": [
    "#| export\n",
    "from uuid import uuid4\n",
    "def render_content(c):\n",
    "    if isinstance(c, str):        return render_md(c)\n",
    "    elif isinstance(c, EnumType): return enum_to_html_table(c)\n",
    "    elif isinstance(c, FT):       return c\n",
    "    elif isinstance(c, tuple):    \n",
    "        _id = 'f'+str(uuid4())\n",
    "        return Card(\n",
    "            Button(\n",
    "                FullySpacedDiv(UkIcon('corner-down-right', 20, 20, 3),\"See Source\"), \n",
    "                uk_toggle=f\"target: #{_id}\", id=_id, cls=ButtonT.primary),\n",
    "            Button(\n",
    "                FullySpacedDiv(UkIcon('corner-down-right', 20, 20, 3),\"See Output\"), \n",
    "                uk_toggle=f\"target: #{_id}\", id=_id, cls=ButtonT.primary, hidden=True),\n",
    "            Div(c[0], id=_id),\n",
    "            Div(Pre(Code(c[1])), id=_id, hidden=True, cls=\"mockup-code\"),\n",
    "            cls='my-8')\n",
    "    elif isinstance(c, Callable): \n",
    "        _html = show_doc(c, renderer=BasicHtmlRenderer)._repr_html_()\n",
    "        return NotStr(apply_classes(_html, class_map_mods={\"table\":'uk-table uk-table-hover uk-table-small'}))\n",
    "    else: return c    "
   ]
  },
  {
   "cell_type": "code",
   "execution_count": 7,
   "id": "84a3b655",
   "metadata": {
    "hidden": true
   },
   "outputs": [],
   "source": [
    "#| export\n",
    "def create_doc_section(*content, title, md_content=None):\n",
    "    return lambda: Section(H1(title,cls='mb-10'), *map(render_content, content))"
   ]
  },
  {
   "cell_type": "code",
   "execution_count": 8,
   "id": "2eee17cf",
   "metadata": {
    "hidden": true
   },
   "outputs": [],
   "source": [
    "#| export\n",
    "def string2code_string(code: str) -> tuple: return eval(code), code\n",
    "\n",
    "def extract_function_body(func):\n",
    "    source = inspect.getsource(func)\n",
    "    body_start = source.index(':') + 1\n",
    "    body = source[body_start:]\n",
    "    lines = body.split('\\n')\n",
    "    # Remove empty lines at the start\n",
    "    while lines and not lines[0].strip():\n",
    "        lines.pop(0)\n",
    "    # Remove first 4 spaces from each line\n",
    "    body = '\\n'.join(line[4:] if line.startswith('    ') else line for line in lines)\n",
    "    return body.replace('return ', '', 1)\n",
    "\n",
    "def fn2code_string(fn: Callable) -> tuple: return fn(), extract_function_body(fn)"
   ]
  },
  {
   "cell_type": "markdown",
   "id": "c29c05f9",
   "metadata": {
    "heading_collapsed": true
   },
   "source": [
    "# Buttons & Links"
   ]
  },
  {
   "cell_type": "code",
   "execution_count": 9,
   "id": "2fe88ca5",
   "metadata": {
    "hidden": true
   },
   "outputs": [],
   "source": [
    "#| export\n",
    "def ex_buttons(): \n",
    "    return Div(\n",
    "        Button(\"Default\",   cls=ButtonT.default),\n",
    "        Button(\"Primary\",   cls=ButtonT.primary),\n",
    "        Button(\"Secondary\", cls=ButtonT.secondary),\n",
    "        Button(\"Danger\",    cls=ButtonT.danger),\n",
    "        Button(\"Text\",      cls=ButtonT.text),\n",
    "        Button(\"Link\",      cls=ButtonT.link),\n",
    "        Button(\"Ghost\",     cls=ButtonT.ghost),\n",
    "        )"
   ]
  },
  {
   "cell_type": "code",
   "execution_count": 10,
   "id": "b21dab6b",
   "metadata": {
    "hidden": true
   },
   "outputs": [],
   "source": [
    "#| export\n",
    "def ex_links(): \n",
    "    return Div(cls='space-x-4')(\n",
    "        A('Default Link'),\n",
    "        A('Muted Link', cls=AT.muted),\n",
    "        A('Text Link',  cls=AT.text),\n",
    "        A('Reset Link', cls=AT.reset))"
   ]
  },
  {
   "cell_type": "code",
   "execution_count": 11,
   "id": "4408b9e0",
   "metadata": {
    "hidden": true
   },
   "outputs": [],
   "source": [
    "#| export\n",
    "docs_button_link = create_doc_section(\n",
    "    Button, \n",
    "    fn2code_string(ex_buttons),\n",
    "    ButtonT, \n",
    "    A,\n",
    "    AT,\n",
    "    fn2code_string(ex_links),\n",
    "    title=\"Buttons & Links\")"
   ]
  },
  {
   "cell_type": "markdown",
   "id": "cfc93853",
   "metadata": {
    "heading_collapsed": true
   },
   "source": [
    "# Headings"
   ]
  },
  {
   "cell_type": "code",
   "execution_count": 12,
   "id": "47bd9c48",
   "metadata": {
    "hidden": true
   },
   "outputs": [],
   "source": [
    "#| export\n",
    "def ex_headings():\n",
    "    return Div(\n",
    "        H1(\"Level 1 Heading (H1)\"), \n",
    "        H2(\"Level 2 Heading (H2)\"), \n",
    "        H3(\"Level 3 Heading (H3)\"), \n",
    "        H4(\"Level 4 Heading (H4)\")\n",
    "        )"
   ]
  },
  {
   "cell_type": "code",
   "execution_count": 13,
   "id": "9b56ffc1",
   "metadata": {
    "hidden": true
   },
   "outputs": [],
   "source": [
    "#| export\n",
    "docs_heading = create_doc_section(\n",
    "                       fn2code_string(ex_headings),\n",
    "                        H1, H2, H3, H4, \n",
    "                        title=\"Headings\")"
   ]
  },
  {
   "cell_type": "markdown",
   "id": "c4fea3cf",
   "metadata": {
    "heading_collapsed": true
   },
   "source": [
    "# Headers"
   ]
  },
  {
   "cell_type": "code",
   "execution_count": 14,
   "id": "1c205cec",
   "metadata": {
    "hidden": true
   },
   "outputs": [],
   "source": [
    "#| export\n",
    "docs_headers = create_doc_section( \n",
    "                       \"To get headers with a default theme use `hdrs=Theme.<color>.headers()`.  For example for the blue theme you would use `hdrs=Theme.blue.headers().  Theme options are:\",\n",
    "                        \"> Note: Tailwind is included in the headers for convenience\",\n",
    "                        Theme,\n",
    "                       title=\"Headers\")"
   ]
  },
  {
   "cell_type": "markdown",
   "id": "fd128781",
   "metadata": {
    "heading_collapsed": true
   },
   "source": [
    "# Text"
   ]
  },
  {
   "cell_type": "code",
   "execution_count": 15,
   "id": "c7c17539",
   "metadata": {
    "hidden": true
   },
   "outputs": [],
   "source": [
    "#| export\n",
    "def ex_textfont():\n",
    "    return Div(\n",
    "    P('muted_sm', cls=TextFont.muted_sm),\n",
    "    P('muted_lg', cls=TextFont.muted_lg), \n",
    "    P('bold_sm', cls=TextFont.bold_sm),\n",
    "    )"
   ]
  },
  {
   "cell_type": "code",
   "execution_count": 16,
   "id": "0a34ee45",
   "metadata": {
    "hidden": true
   },
   "outputs": [],
   "source": [
    "#| export\n",
    "def ex_textt():\n",
    "    return Grid(\n",
    "        P('lead',           cls=TextT.lead),\n",
    "        P('meta',           cls=TextT.meta),\n",
    "        P('italic',         cls=TextT.italic),\n",
    "        P('small',          cls=TextT.small),\n",
    "        P('default',        cls=TextT.default),\n",
    "        P('large',          cls=TextT.large),\n",
    "        P('light',          cls=TextT.light),\n",
    "        P('normal',         cls=TextT.normal),\n",
    "        P('bold',           cls=TextT.bold),\n",
    "        P('lighter',        cls=TextT.lighter),\n",
    "        P('bolder',         cls=TextT.bolder),\n",
    "        P('capitalize',     cls=TextT.capitalize),\n",
    "        P('uppercase',      cls=TextT.uppercase),\n",
    "        P('lowercase',      cls=TextT.lowercase),\n",
    "        P('decoration_none',cls=TextT.decoration_none),\n",
    "        P('muted',          cls=TextT.muted),\n",
    "        P('primary',        cls=TextT.primary),\n",
    "        P('secondary',      cls=TextT.secondary),\n",
    "        P('success',        cls=TextT.success),\n",
    "        P('warning',        cls=TextT.warning),\n",
    "        P('danger',         cls=TextT.danger),\n",
    "        P('left',           cls=TextT.left),\n",
    "        P('right',          cls=TextT.right),\n",
    "        P('center',         cls=TextT.center),\n",
    "        P('justify',        cls=TextT.justify),\n",
    "        P('top',            cls=TextT.top),\n",
    "        P('middle',         cls=TextT.middle),\n",
    "        P('bottom',         cls=TextT.bottom),\n",
    "        P('baseline',       cls=TextT.baseline),\n",
    "        P('truncate',       cls=TextT.truncate),\n",
    "        P('break_',         cls=TextT.break_),\n",
    "        P('nowrap',         cls=TextT.nowrap),\n",
    "        )"
   ]
  },
  {
   "cell_type": "code",
   "execution_count": 17,
   "id": "0bfd6f7a",
   "metadata": {
    "hidden": true
   },
   "outputs": [],
   "source": [
    "#| export\n",
    "docs_text = create_doc_section( \n",
    "   \"Styling text is possibly the most common style thing to do, so we have a couple of helpers for discoverability inside python.  `TextFont` is intended to be combinations are are widely applicable and used often, where `TextT` is intended to be more flexible options for you to combine together yourself.\",\n",
    "    TextFont,\n",
    "    fn2code_string(ex_textfont),\n",
    "    TextT,\n",
    "    fn2code_string(ex_textt),\n",
    "    title=\"Text Style\")"
   ]
  },
  {
   "cell_type": "markdown",
   "id": "4f8e5fb9",
   "metadata": {
    "heading_collapsed": true
   },
   "source": [
    "# Containers"
   ]
  },
  {
   "cell_type": "code",
   "execution_count": 18,
   "id": "d8393a7a",
   "metadata": {
    "hidden": true
   },
   "outputs": [],
   "source": [
    "#| export\n",
    "def ex_articles():\n",
    "    return Article(\n",
    "        ArticleTitle(\"Sample Article Title\"), \n",
    "        ArticleMeta(\"By: John Doe\"),\n",
    "        P('lorem ipsum dolor sit amet consectetur adipiscing elit, sed do eiusmod tempor incididunt ut labore et dolore magna aliqua.'))"
   ]
  },
  {
   "cell_type": "code",
   "execution_count": 19,
   "id": "d489a5ec",
   "metadata": {
    "hidden": true
   },
   "outputs": [],
   "source": [
    "#| export\n",
    "def ex_containers():\n",
    "    return Container(\n",
    "        \"This is a sample container with custom styling.\",\n",
    "        cls=ContainerT.xsmall,\n",
    "        style=\"background-color: #FFA500; color: #000000\")"
   ]
  },
  {
   "cell_type": "code",
   "execution_count": 20,
   "id": "970fe071",
   "metadata": {
    "hidden": true
   },
   "outputs": [],
   "source": [
    "#| export\n",
    "docs_containers = create_doc_section(\n",
    "    ArticleMeta,\n",
    "    ArticleTitle,\n",
    "    Article,\n",
    "    fn2code_string(ex_articles),\n",
    "    Container,\n",
    "    ContainerT,\n",
    "    fn2code_string(ex_containers),\n",
    "    Section,\n",
    "    SectionT,\n",
    "    title=\"Articles, Containers & Sections\"\n",
    ")"
   ]
  },
  {
   "cell_type": "markdown",
   "id": "6c6538b4",
   "metadata": {},
   "source": [
    "# Cards"
   ]
  },
  {
   "cell_type": "code",
   "execution_count": 21,
   "id": "dce45f9e",
   "metadata": {},
   "outputs": [],
   "source": [
    "#| export\n",
    "def ex_card():\n",
    "    return Card(\n",
    "        Form(LabelInput(\"Input\"),\n",
    "             LabelRange(\"Range\")),\n",
    "        header=Div(\n",
    "            CardTitle(\"Header\"),\n",
    "            P(\"A card with header and footer\",cls=TextFont.muted_sm)),\n",
    "        footer=LAlignedDiv(Button(\"Footer Submit Button\")))"
   ]
  },
  {
   "cell_type": "code",
   "execution_count": 22,
   "id": "74a3d9df",
   "metadata": {},
   "outputs": [],
   "source": [
    "def Tags(cats): return Div(cls='space-x-2')(map(Label, cats))\n",
    "\n",
    "def ex_card2():\n",
    "    return Card(\n",
    "        LAlignedDiv(\n",
    "            A(Img(src=\"https://isaac-flath.github.io/website/posts/_TopicImages/FastHtml.jpg\", style=\"width:200px\"),href=\"#\"),\n",
    "            Div(cls='space-y-3 uk-width-expand')(\n",
    "                H4(\"Creating Custom FastHTML Tags for Markdown Rendering\"),\n",
    "                P(\"A step by step tutorial to rendering markdown in FastHTML using zero-md inside of DaisyUI chat bubbles\"),\n",
    "                FullySpacedDiv(map(Span, [\"Isaac Flath\", \"20-October-2024\"]), cls=TextFont.muted_sm),\n",
    "                FullySpacedDiv(\n",
    "                    Tags([\"FastHTML\", \"HTMX\", \"Web Apps\"]),\n",
    "                    Button(\"Read\", cls=(ButtonT.primary,'h-6'))))))\n"
   ]
  },
  {
   "cell_type": "code",
   "execution_count": 46,
   "id": "ce3d1df2",
   "metadata": {},
   "outputs": [],
   "source": [
    "%%aip\n",
    "\n",
    "make `ex_card2` responsive to mobile"
   ]
  },
  {
   "cell_type": "code",
   "execution_count": null,
   "id": "4e553c2a",
   "metadata": {},
   "outputs": [],
   "source": [
    "#| export\n",
    "def Tags(cats): return Div(cls='space-x-2 flex flex-wrap')(map(lambda c: Label(c, cls='mb-1'), cats))\n",
    "\n",
    "def ex_card2():\n",
    "    return Card(\n",
    "        LAlignedDiv(\n",
    "            Div(A(Img(src=\"https://isaac-flath.github.io/website/posts/_TopicImages/FastHTML.jpg\", style=\"width:100%; max-width:200px\"), href=\"#\"), cls='mb-4 md:mb-0 md:mr-4'),\n",
    "            Div(cls='space-y-3 uk-width-expand')(\n",
    "                H4(\"Creating Custom FastHTML Tags for Markdown Rendering\", cls='text-lg md:text-xl'),\n",
    "                P(\"A step by step tutorial to rendering markdown in FastHTML using zero-md inside of DaisyUI chat bubbles\", cls='text-sm md:text-base'),\n",
    "                FullySpacedDiv(map(lambda s: Span(s, cls='text-xs md:text-sm'), [\"Isaac Flath\", \"20-October-2024\"]), cls=TextFont.muted_sm),\n",
    "                FullySpacedDiv(\n",
    "                    Tags([\"FastHTML\", \"HTMX\", \"Web Apps\"]),\n",
    "                    Button(\"Read\", cls=(ButtonT.primary, 'h-6 text-xs md:text-sm')),\n",
    "                    cls='flex-col md:flex-row items-start md:items-center'\n",
    "                )\n",
    "            ),\n",
    "            cls='flex flex-col md:flex-row'\n",
    "        )\n",
    "    )"
   ]
  },
  {
   "cell_type": "code",
   "execution_count": 23,
   "id": "3e422761",
   "metadata": {},
   "outputs": [],
   "source": [
    "#| export\n",
    "docs_cards = create_doc_section(\n",
    "    Card,\n",
    "    H3(\"Example Usage\"),\n",
    "    fn2code_string(ex_card),\n",
    "    fn2code_string(ex_card2),\n",
    "    CardTitle,\n",
    "    CardT,\n",
    "    \"The remainder of these are only needed if you're doing something really special.  They are used in the `Card` function to generate the boilerplate for you.\",\n",
    "    CardContainer,\n",
    "    CardHeader,\n",
    "    CardBody,\n",
    "    CardFooter,\n",
    "    title=\"Cards\"\n",
    ")"
   ]
  },
  {
   "cell_type": "markdown",
   "id": "427392cd",
   "metadata": {
    "heading_collapsed": true
   },
   "source": [
    "# Lists\n"
   ]
  },
  {
   "cell_type": "code",
   "execution_count": 24,
   "id": "0a01debd",
   "metadata": {
    "hidden": true
   },
   "outputs": [],
   "source": [
    "#| export    \n",
    "def ex_lists():\n",
    "    list_options = [(style,str(cls)) for style,cls in ListT.__members__.items()]\n",
    "    lists = [Div(H4(f\"{style} List:\"), List(Li(\"Item 1\"), Li(\"Item 2\"), cls=cls)) for style, cls in list_options]\n",
    "    return Grid(*lists)"
   ]
  },
  {
   "cell_type": "code",
   "execution_count": 25,
   "id": "274a82c0",
   "metadata": {
    "hidden": true
   },
   "outputs": [],
   "source": [
    "#| export\n",
    "docs_lists = create_doc_section(\n",
    "    List,\n",
    "    fn2code_string(ex_lists),\n",
    "    ListT,\n",
    "    title=\"Lists\")"
   ]
  },
  {
   "cell_type": "markdown",
   "id": "b3ed3e47",
   "metadata": {
    "heading_collapsed": true
   },
   "source": [
    "# Markdown"
   ]
  },
  {
   "cell_type": "code",
   "execution_count": 26,
   "id": "0451c6fd",
   "metadata": {
    "hidden": true
   },
   "outputs": [],
   "source": [
    "#| export\n",
    "def ex_md(): \n",
    "    return render_md('''# Test MD\n",
    "\n",
    "+ A list with **bold** and *italics*\n",
    "+ And a link to [answer.ai](https://answer.ai)''')\n",
    "\n",
    "def ex_applyclasses():\n",
    "    return apply_classes('<h1>Hello, World!</h1><p>This is a paragraph</p>')\n",
    "        \n",
    "        \n",
    "docs_markdown = create_doc_section(render_md, \n",
    "                             fn2code_string(ex_md), \n",
    "                             P(\"This uses the `apply_classes` function, which can be used to apply classes to html strings\"),\n",
    "                             apply_classes,\n",
    "                             fn2code_string(ex_applyclasses),\n",
    "                             title=\"Markdown\")"
   ]
  },
  {
   "cell_type": "markdown",
   "id": "c96f53a2",
   "metadata": {},
   "source": [
    "# Forms"
   ]
  },
  {
   "cell_type": "code",
   "execution_count": 27,
   "id": "09d7c4b5",
   "metadata": {},
   "outputs": [],
   "source": [
    "#| export\n",
    "def ex_formlabel(): \n",
    "    return FormLabel(\"Form Label\")\n",
    "\n",
    "def ex_input(): \n",
    "    return Div(\n",
    "        Input(placeholder=\"Enter text\"), \n",
    "        LabelInput(label=\"Input\", id='myid'))\n",
    "\n",
    "def ex_checkbox(): \n",
    "    return Div(\n",
    "        CheckboxX(), \n",
    "        LabelCheckboxX(label=\"Checkbox\", id='checkbox1'))\n",
    "def ex_range(): \n",
    "    return Div(\n",
    "        Range(), \n",
    "        LabelRange(label=\"Range\", id='range1'))\n",
    "def ex_switch(): \n",
    "    return Div(\n",
    "        Switch(id=\"switch\"), \n",
    "        LabelSwitch(label=\"Switch\", id='switch'))\n",
    "\n",
    "def ex_textarea(): \n",
    "    return Div(\n",
    "        TextArea(placeholder=\"Enter multiple lines of text\"), \n",
    "        LabelTextArea(label=\"TextArea\", id='myid'))\n",
    "\n",
    "def ex_radio(): \n",
    "    return Div(\n",
    "        Radio(name=\"radio-group\", id=\"radio1\"), \n",
    "        LabelRadio(label=\"Radio\", id='radio1',cls='flex items-center space-x-4'))\n",
    "\n",
    "def ex_ukselect(): \n",
    "    return Div(\n",
    "        UkSelect(map(Option, [\"Option 1\", \"Option 2\", \"Option 3\"])),\n",
    "        LabelUkSelect(map(Option, [\"Option 1\", \"Option 2\", \"Option 3\"]), label=\"UkSelect\", id='myid'))\n",
    "\n",
    "def ex_select(): \n",
    "    return Div(\n",
    "        Select(map(Option, [\"Option 1\", \"Option 2\", \"Option 3\"])),\n",
    "        LabelSelect(map(Option, [\"Option 1\", \"Option 2\", \"Option 3\"]), label=\"Select\", id='myid'))"
   ]
  },
  {
   "cell_type": "code",
   "execution_count": 45,
   "id": "538b398e",
   "metadata": {
    "scrolled": true
   },
   "outputs": [],
   "source": [
    "#| export\n",
    "def ex_form():\n",
    "    relationship = [\"Parent\",'Sibling', \"Friend\", \"Spouse\", \"Significant Other\", \"Relative\", \"Child\", \"Other\"]\n",
    "    return Div(cls='space-y-4')(\n",
    "        CenteredDiv(\n",
    "            H3(\"Emergency Contact Form\"),\n",
    "            P(\"Please fill out the form completely\", cls=TextFont.muted_sm)),\n",
    "        Form(cls='space-y-4')(\n",
    "            Grid(LabelInput(\"First Name\",id='fn'), LabelInput(\"Last Name\",id='ln')),\n",
    "            Grid(LabelInput(\"Email\",     id='em'), LabelInput(\"Phone\",    id='ph')),\n",
    "            H3(\"Relationship to patient\"),\n",
    "            Grid(*[LabelCheckboxX(o) for o in relationship], cols=4, cls='space-y-3'),\n",
    "            LabelInput(\"Address\",        id='ad'),\n",
    "            LabelInput(\"Address Line 2\", id='ad2'),\n",
    "            Grid(LabelInput(\"City\",      id='ct'), LabelInput(\"State\",    id='st')),\n",
    "            LabelInput(\"Zip\",            id='zp'),\n",
    "            CenteredDiv(Button(\"Submit Form\", cls=ButtonT.primary))))"
   ]
  },
  {
   "cell_type": "code",
   "execution_count": null,
   "id": "758240c2",
   "metadata": {},
   "outputs": [],
   "source": [
    "#| export\n",
    "docs_forms = create_doc_section(\n",
    "    H3(\"Example Form\"),\n",
    "    P(f\"This form was live coded in a 5 minute video \",\n",
    "          A(\"here\",href=\"https://www.loom.com/share/0916e8a95d524c43a4d100ee85157624?start_and_pause=1\", \n",
    "            cls=AT.muted), cls=TextFont.muted_sm),\n",
    "    fn2code_string(ex_form),\n",
    "    FormLabel,\n",
    "    fn2code_string(ex_formlabel),\n",
    "    Input,\n",
    "    fn2code_string(ex_input),\n",
    "    Radio,\n",
    "    fn2code_string(ex_radio),\n",
    "    CheckboxX,\n",
    "    fn2code_string(ex_checkbox),\n",
    "    Range,\n",
    "    fn2code_string(ex_range),\n",
    "    Switch,\n",
    "    fn2code_string(ex_switch),\n",
    "    TextArea,\n",
    "    fn2code_string(ex_textarea),\n",
    "    Select,\n",
    "    fn2code_string(ex_select),\n",
    "    UkSelect,\n",
    "    fn2code_string(ex_ukselect),\n",
    "    title=\"Forms\")"
   ]
  },
  {
   "cell_type": "markdown",
   "id": "8bd163a1",
   "metadata": {},
   "source": [
    "# Links (A)"
   ]
  },
  {
   "cell_type": "code",
   "execution_count": null,
   "id": "6829cce5",
   "metadata": {},
   "outputs": [],
   "source": []
  },
  {
   "cell_type": "code",
   "execution_count": null,
   "id": "ffa163be",
   "metadata": {},
   "outputs": [],
   "source": []
  },
  {
   "cell_type": "code",
   "execution_count": null,
   "id": "90eebd97",
   "metadata": {},
   "outputs": [],
   "source": []
  },
  {
   "cell_type": "markdown",
   "id": "66650e8f",
   "metadata": {},
   "source": [
    "# _"
   ]
  },
  {
   "cell_type": "code",
   "execution_count": null,
   "id": "1c8f374c",
   "metadata": {},
   "outputs": [],
   "source": []
  },
  {
   "cell_type": "code",
   "execution_count": null,
   "id": "c8de06f7",
   "metadata": {},
   "outputs": [],
   "source": []
  }
 ],
 "metadata": {
  "kernelspec": {
   "display_name": "Python 3 (ipykernel)",
   "language": "python",
   "name": "python3"
  },
  "language_info": {
   "codemirror_mode": {
    "name": "ipython",
    "version": 3
   },
   "file_extension": ".py",
   "mimetype": "text/x-python",
   "name": "python",
   "nbconvert_exporter": "python",
   "pygments_lexer": "ipython3",
   "version": "3.12.4"
  }
 },
 "nbformat": 4,
 "nbformat_minor": 5
}
