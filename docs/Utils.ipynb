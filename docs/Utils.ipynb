{
 "cells": [
  {
   "cell_type": "markdown",
   "id": "e79166fd",
   "metadata": {},
   "source": [
    "# Utils\n",
    "\n",
    "> Utilities for building the docs page that don't belong anywhere else"
   ]
  },
  {
   "cell_type": "code",
   "execution_count": null,
   "id": "2535ee4e",
   "metadata": {},
   "outputs": [],
   "source": [
    "#| default_exp utils"
   ]
  },
  {
   "cell_type": "code",
   "execution_count": 3,
   "id": "4783d9ce",
   "metadata": {},
   "outputs": [],
   "source": [
    "#| export\n",
    "from IPython.display import display, HTML\n",
    "from fasthtml.common import *\n",
    "from fh_frankenui.core import *\n",
    "from fasthtml.jupyter import *\n",
    "from uuid import uuid4"
   ]
  },
  {
   "cell_type": "code",
   "execution_count": 4,
   "id": "b2943fa8",
   "metadata": {},
   "outputs": [],
   "source": [
    "#| export\n",
    "def HShow(comp, iframe_height=\"auto\", app=None, port=8000):\n",
    "    route = f'/{uuid4()}'\n",
    "    app.get(route)(lambda: comp)\n",
    "    display(HTML(f'<a href=\"http://localhost:{port}{route}\" target=\"_blank\">Open in new tab</a>'))\n",
    "    return HTMX(route,port=port,iframe_height=iframe_height)"
   ]
  },
  {
   "cell_type": "code",
   "execution_count": 5,
   "id": "bfa48e0b",
   "metadata": {},
   "outputs": [],
   "source": [
    "#| export\n",
    "def create_server(app, stop_server=True,server_varname='server'):\n",
    "    if stop_server and server_varname in globals(): globals()[server_varname].stop()\n",
    "    for port in range(8000,8030):                   \n",
    "        if is_port_free(port):\n",
    "            server = JupyUvi(app, port=port)\n",
    "            Show = partial(HShow, app=app, port=port)\n",
    "            return server, Show"
   ]
  },
  {
   "cell_type": "code",
   "execution_count": 6,
   "id": "b8e1807f",
   "metadata": {},
   "outputs": [],
   "source": [
    "#| export\n",
    "hjs = (Style('html.dark .hljs-copy-button {background-color: #e0e0e0; color: #2d2b57;}'),\n",
    "                Link(rel='stylesheet', href='https://cdn.jsdelivr.net/gh/highlightjs/cdn-release/build/styles/atom-one-dark.css', disabled=True),\n",
    "                Link(rel='stylesheet', href='https://cdn.jsdelivr.net/gh/highlightjs/cdn-release/build/styles/atom-one-light.css', disabled=True),\n",
    "                Script(src='https://cdn.jsdelivr.net/gh/highlightjs/cdn-release/build/highlight.min.js'),\n",
    "                Script(src='https://cdn.jsdelivr.net/gh/arronhunt/highlightjs-copy/dist/highlightjs-copy.min.js'),\n",
    "                Link(rel='stylesheet', href='https://cdn.jsdelivr.net/gh/arronhunt/highlightjs-copy/dist/highlightjs-copy.min.css'),\n",
    "                Style('.hljs-copy-button {background-color: #2d2b57;}'),\n",
    "                Script(src='https://cdn.jsdelivr.net/gh/highlightjs/cdn-release/build/languages/python.min.js'),\n",
    "                Script(\"hljs.addPlugin(new CopyButtonPlugin());\\r\\nhljs.configure({'cssSelector': 'pre code'});\\r\\nhtmx.onLoad(hljs.highlightAll);\", type='module'),\n",
    "                Script('''const observer = new MutationObserver(mutations => {\n",
    "                          mutations.forEach(mutation => {\n",
    "                            if (mutation.target.tagName === 'HTML' && mutation.attributeName === 'class') {\n",
    "                              const isDark = mutation.target.classList.contains('dark');\n",
    "                              document.querySelector('link[href*=\"atom-one-dark.css\"]').disabled = !isDark;\n",
    "                              document.querySelector('link[href*=\"atom-one-light.css\"]').disabled = isDark;\n",
    "                            }\n",
    "                          });\n",
    "                        });\n",
    "\n",
    "                        observer.observe(document.documentElement, { attributes: true });\n",
    "\n",
    "                        // Initial setup\n",
    "                        const isDark = document.documentElement.classList.contains('dark');\n",
    "                        document.querySelector('link[href*=\"atom-one-dark.css\"]').disabled = !isDark;\n",
    "                        document.querySelector('link[href*=\"atom-one-light.css\"]').disabled = isDark;\n",
    "                        '''))"
   ]
  },
  {
   "cell_type": "code",
   "execution_count": null,
   "id": "e6a70a7a",
   "metadata": {},
   "outputs": [],
   "source": []
  }
 ],
 "metadata": {
  "kernelspec": {
   "display_name": "Python 3 (ipykernel)",
   "language": "python",
   "name": "python3"
  },
  "language_info": {
   "codemirror_mode": {
    "name": "ipython",
    "version": 3
   },
   "file_extension": ".py",
   "mimetype": "text/x-python",
   "name": "python",
   "nbconvert_exporter": "python",
   "pygments_lexer": "ipython3",
   "version": "3.12.4"
  }
 },
 "nbformat": 4,
 "nbformat_minor": 5
}
