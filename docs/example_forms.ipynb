{
 "cells": [
  {
   "cell_type": "markdown",
   "id": "babe11dd",
   "metadata": {},
   "source": [
    "# Forms\n",
    "\n",
    "> FrankenUI Forms Example"
   ]
  },
  {
   "cell_type": "code",
   "execution_count": 1,
   "id": "04abc944",
   "metadata": {},
   "outputs": [],
   "source": [
    "#| default_exp forms"
   ]
  },
  {
   "cell_type": "code",
   "execution_count": 1,
   "id": "cef92ebb",
   "metadata": {},
   "outputs": [],
   "source": [
    "#| export\n",
    "from fasthtml.common import *\n",
    "from fh_frankenui import *\n",
    "from fh_frankenui.core import *\n",
    " \n",
    "\n",
    "from fasthtml.svg import *"
   ]
  },
  {
   "cell_type": "code",
   "execution_count": 2,
   "id": "246537db",
   "metadata": {},
   "outputs": [],
   "source": [
    "#| hide\n",
    "#| eval: false\n",
    "from utils import create_server\n",
    "app, rt = fh.fast_app(pico=False, hdrs=Theme.blue.headers())\n",
    "server, Show = create_server(app)"
   ]
  },
  {
   "cell_type": "code",
   "execution_count": 3,
   "id": "02ad7e62",
   "metadata": {},
   "outputs": [],
   "source": [
    "#| hide\n",
    "from nbdev.showdoc import *"
   ]
  },
  {
   "cell_type": "code",
   "execution_count": 4,
   "id": "f0f5477a",
   "metadata": {},
   "outputs": [
    {
     "data": {
      "text/html": [
       "<script src=\"https://cdn.tailwindcss.com\"></script>\n",
       "<script src=\"https://cdn.jsdelivr.net/npm/uikit@3.21.6/dist/js/uikit.min.js\"></script>\n",
       "<script src=\"https://cdn.jsdelivr.net/npm/uikit@3.21.6/dist/js/uikit-icons.min.js\"></script>\n",
       "<script type=\"module\" src=\"https://unpkg.com/franken-wc@0.0.6/dist/js/wc.iife.js\"></script>\n",
       "<link rel=\"stylesheet\" href=\"https://unpkg.com/franken-wc@0.0.6/dist/css/blue.min.css\">\n",
       "\n",
       "<style>\n",
       "#notebook-container { max-width: none; }\n",
       ".output_html * { list-style-type: none !important; }\n",
       "</style>\n"
      ],
      "text/plain": [
       "<IPython.core.display.HTML object>"
      ]
     },
     "metadata": {},
     "output_type": "display_data"
    }
   ],
   "source": [
    "%%html\n",
    "<script src=\"https://cdn.tailwindcss.com\"></script>\n",
    "<script src=\"https://cdn.jsdelivr.net/npm/uikit@3.21.6/dist/js/uikit.min.js\"></script>\n",
    "<script src=\"https://cdn.jsdelivr.net/npm/uikit@3.21.6/dist/js/uikit-icons.min.js\"></script>\n",
    "<script type=\"module\" src=\"https://unpkg.com/franken-wc@0.0.6/dist/js/wc.iife.js\"></script>\n",
    "<link rel=\"stylesheet\" href=\"https://unpkg.com/franken-wc@0.0.6/dist/css/blue.min.css\">\n",
    "\n",
    "<style>\n",
    "#notebook-container { max-width: none; }\n",
    ".output_html * { list-style-type: none !important; }\n",
    "</style>"
   ]
  },
  {
   "cell_type": "code",
   "execution_count": 1,
   "id": "b6bb8da9",
   "metadata": {},
   "outputs": [],
   "source": [
    "#| export\n",
    "def HelpText(c):\n",
    "    # Rename to MinorInfoText, AuxiliaryText, SecondaryDetailText, SmallMutedText?\n",
    "    return P(c,cls=TextFont.muted_sm)"
   ]
  },
  {
   "cell_type": "code",
   "execution_count": 5,
   "id": "a93f015d",
   "metadata": {},
   "outputs": [],
   "source": [
    "#| export\n",
    "def heading():\n",
    "    return Div(cls=\"space-y-5\")(\n",
    "            H2(\"Settings\"),\n",
    "            P(\"Manage your account settings and set e-mail preferences.\", cls=TextFont.muted_lg),\n",
    "            DividerSplit())"
   ]
  },
  {
   "cell_type": "code",
   "execution_count": 6,
   "id": "c5c49e9a",
   "metadata": {},
   "outputs": [
    {
     "data": {
      "text/html": [
       "<div class=\"space-y-5\">\n",
       "  <h2 class=\"uk-h2 \">Settings</h2>\n",
       "  <p class=\"uk-text-muted uk-text-small\">Manage your account settings and set e-mail preferences.</p>\n",
       "  <div class=\"relative \">\n",
       "    <div class=\"absolute inset-0 flex items-center \">\n",
       "<span class=\"w-full border-t border-border\"></span>    </div>\n",
       "    <div class=\"relative flex justify-center \">\n",
       "<span class=\"bg-background px-2 \"></span>    </div>\n",
       "  </div>\n",
       "</div>\n"
      ],
      "text/plain": [
       "<IPython.core.display.HTML object>"
      ]
     },
     "execution_count": 6,
     "metadata": {},
     "output_type": "execute_result"
    }
   ],
   "source": [
    "show(heading())"
   ]
  },
  {
   "cell_type": "code",
   "execution_count": 7,
   "id": "844bc718",
   "metadata": {},
   "outputs": [],
   "source": [
    "#| export\n",
    "sidebar_items = [\"Profile\", \"Account\", \"Appearance\", \"Notifications\", \"Display\"]"
   ]
  },
  {
   "cell_type": "code",
   "execution_count": 40,
   "id": "517f163f",
   "metadata": {},
   "outputs": [],
   "source": [
    "#| export\n",
    "sidebar = NavContainer(*map(lambda x: Li(A(x)),sidebar_items),\n",
    "                uk_switcher=\"connect: #component-nav; animation: uk-animation-fade\",\n",
    "                cls=(NavT.secondary,\"space-y-4 p-4 w-1/5\"))"
   ]
  },
  {
   "cell_type": "code",
   "execution_count": 41,
   "id": "2db6ad64",
   "metadata": {},
   "outputs": [
    {
     "data": {
      "text/html": [
       "<a href=\"http://localhost:8000/\" target=\"_blank\">Open in new tab</a>"
      ],
      "text/plain": [
       "<IPython.core.display.HTML object>"
      ]
     },
     "metadata": {},
     "output_type": "display_data"
    },
    {
     "data": {
      "text/html": [
       "<iframe src=\"http://localhost:8000/\" style=\"width: 100%; height: auto; border: none;\" onload=\"{\n",
       "        let frame = this;\n",
       "        window.addEventListener('message', function(e) {\n",
       "            if (e.data.height) frame.style.height = (e.data.height+1) + 'px';\n",
       "        }, false);\n",
       "    }\" allow=\"accelerometer; autoplay; camera; clipboard-read; clipboard-write; display-capture; encrypted-media; fullscreen; gamepad; geolocation; gyroscope; hid; identity-credentials-get; idle-detection; magnetometer; microphone; midi; payment; picture-in-picture; publickey-credentials-get; screen-wake-lock; serial; usb; web-share; xr-spatial-tracking\"></iframe> "
      ],
      "text/plain": [
       "<IPython.core.display.HTML object>"
      ]
     },
     "execution_count": 41,
     "metadata": {},
     "output_type": "execute_result"
    }
   ],
   "source": [
    "Show(sidebar)"
   ]
  },
  {
   "cell_type": "code",
   "execution_count": 44,
   "id": "61263939",
   "metadata": {},
   "outputs": [],
   "source": [
    "#| export\n",
    "def profile_form():\n",
    "    content = (Div(cls=\"space-y-2\")(\n",
    "            LabelInput(\"Username\", placeholder='sveltecult', id='username'),\n",
    "            HelpText(\"This is your public display name. It can be your real name or a pseudonym. You can only change this once every 30 days.\")),\n",
    "        Div(cls=\"space-y-2\")(\n",
    "            LabelUkSelect(Option(\"Select a verified email to display\", value=\"\", selected=True, disabled=True),\n",
    "                     *map(Option,('m@example.com', 'm@yahoo.com', 'm@cloud.com')),  \n",
    "                     label=\"Email\", id=\"email\"),\n",
    "            HelpText(\"You can manage verified email addresses in your email settings.\")),\n",
    "        Div(cls=\"space-y-2\")(\n",
    "            LabelTextArea(\"Bio\", id=\"bio\", placeholder=\"Tell us a little bit about yourself\"),\n",
    "            HelpText(\"You can @mention other users and organizations to link to them.\"),\n",
    "            Div(\"String must contain at least 4 character(s)\", cls=\"text-destructive\")),\n",
    "        Div(cls=\"space-y-2\")(\n",
    "            FormLabel(\"URLs\"),\n",
    "            HelpText(\"Add links to your website, blog, or social media profiles.\"),\n",
    "            Input(value=\"https://www.franken-ui.dev\"),\n",
    "            Input(value=\"https://github.com/sveltecult/franken-ui\"),\n",
    "            Button(\"Add URL\")))\n",
    "    \n",
    "    return UkFormSection('Profile', 'This is how others will see you on the site.', button_txt='Update profile', *content)"
   ]
  },
  {
   "cell_type": "code",
   "execution_count": 45,
   "id": "9f0819f4",
   "metadata": {
    "scrolled": false
   },
   "outputs": [
    {
     "data": {
      "text/html": [
       "<div class=\"space-y-6 py-6\">\n",
       "  <div>\n",
       "    <h3 class=\"uk-h3 \">Profile</h3>\n",
       "    <p class=\"uk-text-bold uk-text-small\">This is how others will see you on the site.</p>\n",
       "  </div>\n",
       "  <div class=\"relative \">\n",
       "    <div class=\"absolute inset-0 flex items-center \">\n",
       "<span class=\"w-full border-t border-border\"></span>    </div>\n",
       "    <div class=\"relative flex justify-center \">\n",
       "<span class=\"bg-background px-2 \"></span>    </div>\n",
       "  </div>\n",
       "  <div class=\"space-y-2\">\n",
       "    <div>\n",
       "<label for=\"username\" class=\"uk-form-label \">Username</label>      <input placeholder=\"sveltecult\" id=\"username\" class=\"uk-input \" name=\"username\">\n",
       "    </div>\n",
       "    <p class=\"uk-text-muted uk-text-small\">This is your public display name. It can be your real name or a pseudonym. You can only change this once every 30 days.</p>\n",
       "  </div>\n",
       "  <div class=\"space-y-2\">\n",
       "    <div>\n",
       "<label for=\"email\" class=\"uk-form-label \">Email</label><select id=\"email\" class=\"uk-select \" name=\"email\"><option selected disabled>Select a verified email to display</option><option>m@example.com</option><option>m@yahoo.com</option><option>m@cloud.com</option></select>    </div>\n",
       "    <p class=\"uk-text-muted uk-text-small\">You can manage verified email addresses in your email settings.</p>\n",
       "  </div>\n",
       "  <div class=\"space-y-2\">\n",
       "    <div>\n",
       "<label for=\"bio\" class=\"uk-form-label \">Bio</label><textarea placeholder=\"Tell us a little bit about yourself\" id=\"bio\" class=\"uk-textarea \" name=\"bio\"></textarea>    </div>\n",
       "    <p class=\"uk-text-muted uk-text-small\">You can @mention other users and organizations to link to them.</p>\n",
       "    <div class=\"text-destructive\">String must contain at least 4 character(s)</div>\n",
       "  </div>\n",
       "  <div class=\"space-y-2\">\n",
       "<label class=\"uk-form-label \">URLs</label>    <p class=\"uk-text-muted uk-text-small\">Add links to your website, blog, or social media profiles.</p>\n",
       "    <input value=\"https://www.franken-ui.dev\" class=\"uk-input \">\n",
       "    <input value=\"https://github.com/sveltecult/franken-ui\" class=\"uk-input \">\n",
       "<button type=\"button\" class=\"uk-button uk-button-default\">Add URL</button>  </div>\n",
       "  <div>\n",
       "<button type=\"button\" class=\"uk-button uk-button-primary\">Update profile</button>  </div>\n",
       "</div>\n"
      ],
      "text/plain": [
       "<IPython.core.display.HTML object>"
      ]
     },
     "execution_count": 45,
     "metadata": {},
     "output_type": "execute_result"
    }
   ],
   "source": [
    "show(profile_form())"
   ]
  },
  {
   "cell_type": "code",
   "execution_count": 16,
   "id": "843c9e8b",
   "metadata": {},
   "outputs": [],
   "source": [
    "#| export\n",
    "def account_form():\n",
    "    content = (\n",
    "        Div(cls=\"space-y-2\")(\n",
    "            LabelInput(\"Name\", placeholder=\"Your name\", id=\"name\"),\n",
    "            HelpText(\"This is the name that will be displayed on your profile and in emails.\")),\n",
    "        Div(cls=\"space-y-2\")(\n",
    "            LabelInput(\"Date of Birth\", type=\"date\", placeholder=\"Pick a date\", id=\"date_of_birth\"),\n",
    "            HelpText(\"Your date of birth is used to calculate your age.\")),\n",
    "        Div(cls=\"space-y-2\")(\n",
    "            LabelUkSelect(*Options(\"Select a language\", \"English\", \"French\", \"German\", \"Spanish\", \"Portuguese\", selected_idx=1, disabled_idxs={0}),\n",
    "                     label='Language',\n",
    "                     id=\"language\"),\n",
    "            HelpText(\"This is the language that will be used in the dashboard.\")))\n",
    "    \n",
    "    return UkFormSection('Account', 'Update your account settings. Set your preferred language and timezone.', button_txt='Update profile', *content)"
   ]
  },
  {
   "cell_type": "code",
   "execution_count": 17,
   "id": "2ba08a9d",
   "metadata": {},
   "outputs": [
    {
     "data": {
      "text/html": [
       "<div class=\"space-y-6 py-6\">\n",
       "  <div>\n",
       "    <h3 class=\"uk-h3 \">Account</h3>\n",
       "    <p class=\"uk-text-bold uk-text-small\">Update your account settings. Set your preferred language and timezone.</p>\n",
       "  </div>\n",
       "  <div class=\"relative \">\n",
       "    <div class=\"absolute inset-0 flex items-center \">\n",
       "<span class=\"w-full border-t border-border\"></span>    </div>\n",
       "    <div class=\"relative flex justify-center \">\n",
       "<span class=\"bg-background px-2 \"></span>    </div>\n",
       "  </div>\n",
       "  <div class=\"space-y-2\">\n",
       "    <div>\n",
       "<label for=\"name\" class=\"uk-form-label \">Name</label>      <input placeholder=\"Your name\" id=\"name\" class=\"uk-input \" name=\"name\">\n",
       "    </div>\n",
       "    <p class=\"uk-text-muted uk-text-small\">This is the name that will be displayed on your profile and in emails.</p>\n",
       "  </div>\n",
       "  <div class=\"space-y-2\">\n",
       "    <div>\n",
       "<label for=\"date_of_birth\" class=\"uk-form-label \">Date of Birth</label>      <input type=\"date\" placeholder=\"Pick a date\" id=\"date_of_birth\" class=\"uk-input \" name=\"date_of_birth\">\n",
       "    </div>\n",
       "    <p class=\"uk-text-muted uk-text-small\">Your date of birth is used to calculate your age.</p>\n",
       "  </div>\n",
       "  <div class=\"space-y-2\">\n",
       "    <div>\n",
       "<label for=\"language\" class=\"uk-form-label \">Language</label><select id=\"language\" class=\"uk-select \" name=\"language\"><option disabled>Select a language</option><option selected>English</option><option>French</option><option>German</option><option>Spanish</option><option>Portuguese</option></select>    </div>\n",
       "    <p class=\"uk-text-muted uk-text-small\">This is the language that will be used in the dashboard.</p>\n",
       "  </div>\n",
       "  <div>\n",
       "<button type=\"button\" class=\"uk-button uk-button-primary\">Update profile</button>  </div>\n",
       "</div>\n"
      ],
      "text/plain": [
       "<IPython.core.display.HTML object>"
      ]
     },
     "execution_count": 17,
     "metadata": {},
     "output_type": "execute_result"
    }
   ],
   "source": [
    "show(account_form())"
   ]
  },
  {
   "cell_type": "code",
   "execution_count": 18,
   "id": "d94fb8a7",
   "metadata": {},
   "outputs": [],
   "source": [
    "#| export\n",
    "def appearance_form():\n",
    "    content = (\n",
    "        Div(cls=\"space-y-2\")(\n",
    "            LabelUkSelect(*Options('Select a font family', 'Inter', 'Geist', 'Open Sans', selected_idx=2, disabled_idxs={0}),\n",
    "            label='Font Family',\n",
    "            id='font_family'), \n",
    "        HelpText(\"Set the font you want to use in the dashboard.\")),\n",
    "        Div(cls=\"space-y-2\")(\n",
    "            FormLabel(\"Theme\"),\n",
    "            HelpText(\"Select the theme for the dashboard.\"),\n",
    "            Grid(A(id=\"theme-toggle-light\", cls=\"block cursor-pointer items-center rounded-md border-2 border-muted p-1 ring-ring\")(\n",
    "                    Div(cls=\"space-y-2 rounded-sm bg-[#ecedef] p-2\")(\n",
    "                        Div(cls=\"space-y-2 rounded-md bg-white p-2 shadow-sm\")(\n",
    "                            Div(cls=\"h-2 w-[80px] rounded-lg bg-[#ecedef]\"),\n",
    "                            Div(cls=\"h-2 w-[100px] rounded-lg bg-[#ecedef]\")),\n",
    "                        Div(cls=\"flex items-center space-x-2 rounded-md bg-white p-2 shadow-sm\")(\n",
    "                            Div(cls=\"h-4 w-4 rounded-full bg-[#ecedef]\"),\n",
    "                            Div(cls=\"h-2 w-[100px] rounded-lg bg-[#ecedef]\")),\n",
    "                        Div(cls=\"flex items-center space-x-2 rounded-md bg-white p-2 shadow-sm\")(\n",
    "                            Div(cls=\"h-4 w-4 rounded-full bg-[#ecedef]\"),\n",
    "                            Div(cls=\"h-2 w-[100px] rounded-lg bg-[#ecedef]\")))),\n",
    "                A(id=\"theme-toggle-dark\", cls=\"block cursor-pointer items-center rounded-md border-2 border-muted bg-popover p-1 ring-ring\")(\n",
    "                    Div(cls=\"space-y-2 rounded-sm bg-slate-950 p-2\")(\n",
    "                        Div(cls=\"space-y-2 rounded-md bg-slate-800 p-2 shadow-sm\")(\n",
    "                            Div(cls=\"h-2 w-[80px] rounded-lg bg-slate-400\"),\n",
    "                            Div(cls=\"h-2 w-[100px] rounded-lg bg-slate-400\")),\n",
    "                        Div(cls=\"flex items-center space-x-2 rounded-md bg-slate-800 p-2 shadow-sm\")(\n",
    "                            Div(cls=\"h-4 w-4 rounded-full bg-slate-400\"),\n",
    "                            Div(cls=\"h-2 w-[100px] rounded-lg bg-slate-400\")),\n",
    "                        Div(cls=\"flex items-center space-x-2 rounded-md bg-slate-800 p-2 shadow-sm\")(\n",
    "                            Div(cls=\"h-4 w-4 rounded-full bg-slate-400\"),\n",
    "                            Div(cls=\"h-2 w-[100px] rounded-lg bg-slate-400\")))),\n",
    "            cols=2,cls=('max-w-md','gap-8'))))\n",
    "    \n",
    "    return UkFormSection('Appearance', 'Customize the appearance of the app. Automatically switch between day and night themes.', button_txt='Update preferences', *content)"
   ]
  },
  {
   "cell_type": "code",
   "execution_count": 19,
   "id": "7c8b8763",
   "metadata": {
    "scrolled": true
   },
   "outputs": [
    {
     "data": {
      "text/html": [
       "<div class=\"space-y-6 py-6\">\n",
       "  <div>\n",
       "    <h3 class=\"uk-h3 \">Appearance</h3>\n",
       "    <p class=\"uk-text-bold uk-text-small\">Customize the appearance of the app. Automatically switch between day and night themes.</p>\n",
       "  </div>\n",
       "  <div class=\"relative \">\n",
       "    <div class=\"absolute inset-0 flex items-center \">\n",
       "<span class=\"w-full border-t border-border\"></span>    </div>\n",
       "    <div class=\"relative flex justify-center \">\n",
       "<span class=\"bg-background px-2 \"></span>    </div>\n",
       "  </div>\n",
       "  <div class=\"space-y-2\">\n",
       "    <div>\n",
       "<label for=\"font_family\" class=\"uk-form-label \">Font Family</label><select id=\"font_family\" class=\"uk-select \" name=\"font_family\"><option disabled>Select a font family</option><option>Inter</option><option selected>Geist</option><option>Open Sans</option></select>    </div>\n",
       "    <p class=\"uk-text-muted uk-text-small\">Set the font you want to use in the dashboard.</p>\n",
       "  </div>\n",
       "  <div class=\"space-y-2\">\n",
       "<label class=\"uk-form-label \">Theme</label>    <p class=\"uk-text-muted uk-text-small\">Select the theme for the dashboard.</p>\n",
       "    <div class=\"grid grid-cols-2 max-w-md gap-8\">\n",
       "<a href=\"#\" id=\"theme-toggle-light\" class=\"block cursor-pointer items-center rounded-md border-2 border-muted p-1 ring-ring\" name=\"theme-toggle-light\">        <div class=\"space-y-2 rounded-sm bg-[#ecedef] p-2\">\n",
       "          <div class=\"space-y-2 rounded-md bg-white p-2 shadow-sm\">\n",
       "            <div class=\"h-2 w-[80px] rounded-lg bg-[#ecedef]\"></div>\n",
       "            <div class=\"h-2 w-[100px] rounded-lg bg-[#ecedef]\"></div>\n",
       "          </div>\n",
       "          <div class=\"flex items-center space-x-2 rounded-md bg-white p-2 shadow-sm\">\n",
       "            <div class=\"h-4 w-4 rounded-full bg-[#ecedef]\"></div>\n",
       "            <div class=\"h-2 w-[100px] rounded-lg bg-[#ecedef]\"></div>\n",
       "          </div>\n",
       "          <div class=\"flex items-center space-x-2 rounded-md bg-white p-2 shadow-sm\">\n",
       "            <div class=\"h-4 w-4 rounded-full bg-[#ecedef]\"></div>\n",
       "            <div class=\"h-2 w-[100px] rounded-lg bg-[#ecedef]\"></div>\n",
       "          </div>\n",
       "        </div>\n",
       "</a><a href=\"#\" id=\"theme-toggle-dark\" class=\"block cursor-pointer items-center rounded-md border-2 border-muted bg-popover p-1 ring-ring\" name=\"theme-toggle-dark\">        <div class=\"space-y-2 rounded-sm bg-slate-950 p-2\">\n",
       "          <div class=\"space-y-2 rounded-md bg-slate-800 p-2 shadow-sm\">\n",
       "            <div class=\"h-2 w-[80px] rounded-lg bg-slate-400\"></div>\n",
       "            <div class=\"h-2 w-[100px] rounded-lg bg-slate-400\"></div>\n",
       "          </div>\n",
       "          <div class=\"flex items-center space-x-2 rounded-md bg-slate-800 p-2 shadow-sm\">\n",
       "            <div class=\"h-4 w-4 rounded-full bg-slate-400\"></div>\n",
       "            <div class=\"h-2 w-[100px] rounded-lg bg-slate-400\"></div>\n",
       "          </div>\n",
       "          <div class=\"flex items-center space-x-2 rounded-md bg-slate-800 p-2 shadow-sm\">\n",
       "            <div class=\"h-4 w-4 rounded-full bg-slate-400\"></div>\n",
       "            <div class=\"h-2 w-[100px] rounded-lg bg-slate-400\"></div>\n",
       "          </div>\n",
       "        </div>\n",
       "</a>    </div>\n",
       "  </div>\n",
       "  <div>\n",
       "<button type=\"button\" class=\"uk-button uk-button-primary\">Update preferences</button>  </div>\n",
       "</div>\n"
      ],
      "text/plain": [
       "<IPython.core.display.HTML object>"
      ]
     },
     "execution_count": 19,
     "metadata": {},
     "output_type": "execute_result"
    }
   ],
   "source": [
    "show(appearance_form())"
   ]
  },
  {
   "cell_type": "code",
   "execution_count": 20,
   "id": "d890e810",
   "metadata": {},
   "outputs": [],
   "source": [
    "#| export\n",
    "def notifications_form():\n",
    "    content = [\n",
    "        Div(cls=\"space-y-2\")(\n",
    "            FormLabel(\"Notify me about\"),\n",
    "            *[Div(cls='space-x-2')(Radio(id=f\"notification_{i}\", name=\"notification\", checked=(label==\"Nothing\")), FormLabel(label))\n",
    "              for i, label in enumerate([\"All new messages\", \"Direct messages and mentions\", \"Nothing\"])]),\n",
    "        Div(\n",
    "            H3(\"Email Notifications\", cls=\"mb-4 text-lg font-medium\"),\n",
    "            Div(cls=\"space-y-4\")(\n",
    "                *[Div(cls=\"flex items-center justify-between rounded-lg border border-border p-4\")(\n",
    "                    Div(cls=\"space-y-0.5\")(\n",
    "                        FormLabel(item['title'], cls=\"text-base font-medium\", for_=f\"email_notification_{i}\"),\n",
    "                        HelpText(item['description'])),\n",
    "                    Toggle_switch(checked=item['checked'], disabled=item['disabled'])\n",
    "                ) for i, item in enumerate([\n",
    "                    {\"title\": \"Communication emails\", \"description\": \"Receive emails about your account activity.\", \"checked\": False, \"disabled\": False},\n",
    "                    {\"title\": \"Marketing emails\", \"description\": \"Receive emails about new products, features, and more.\", \"checked\": False, \"disabled\": False},\n",
    "                    {\"title\": \"Social emails\", \"description\": \"Receive emails for friend requests, follows, and more.\", \"checked\": True, \"disabled\": False},\n",
    "                    {\"title\": \"Security emails\", \"description\": \"Receive emails about your account activity and security.\", \"checked\": True, \"disabled\": True}\n",
    "                ])])),\n",
    "            Div(cls='space-x-2')(CheckboxX(id=\"notification_mobile\",checked=True),FormLabel(\"Use different settings for my mobile devices\", fr=\"notification_mobile\")),\n",
    "                HelpText(\"You can manage your mobile notifications in the mobile settings page.\"),\n",
    "    ]\n",
    "    \n",
    "    return UkFormSection('Notifications', 'Configure how you receive notifications.', \n",
    "                         *content, button_txt=\"Update notifications\")"
   ]
  },
  {
   "cell_type": "code",
   "execution_count": 21,
   "id": "1356d9cc",
   "metadata": {},
   "outputs": [
    {
     "data": {
      "text/html": [
       "<div class=\"space-y-6 py-6\">\n",
       "  <div>\n",
       "    <h3 class=\"uk-h3 \">Notifications</h3>\n",
       "    <p class=\"uk-text-bold uk-text-small\">Configure how you receive notifications.</p>\n",
       "  </div>\n",
       "  <div class=\"relative \">\n",
       "    <div class=\"absolute inset-0 flex items-center \">\n",
       "<span class=\"w-full border-t border-border\"></span>    </div>\n",
       "    <div class=\"relative flex justify-center \">\n",
       "<span class=\"bg-background px-2 \"></span>    </div>\n",
       "  </div>\n",
       "  <div class=\"space-y-2\">\n",
       "<label class=\"uk-form-label \">Notify me about</label>    <div class=\"space-x-2\">\n",
       "      <input type=\"radio\" name=\"notification\" id=\"notification_0\" class=\"uk-radio \">\n",
       "<label class=\"uk-form-label \">All new messages</label>    </div>\n",
       "    <div class=\"space-x-2\">\n",
       "      <input type=\"radio\" name=\"notification\" id=\"notification_1\" class=\"uk-radio \">\n",
       "<label class=\"uk-form-label \">Direct messages and mentions</label>    </div>\n",
       "    <div class=\"space-x-2\">\n",
       "      <input type=\"radio\" name=\"notification\" checked id=\"notification_2\" class=\"uk-radio \">\n",
       "<label class=\"uk-form-label \">Nothing</label>    </div>\n",
       "  </div>\n",
       "  <div>\n",
       "    <h3 class=\"uk-h3 mb-4 text-lg font-medium\">Email Notifications</h3>\n",
       "    <div class=\"space-y-4\">\n",
       "      <div class=\"flex items-center justify-between rounded-lg border border-border p-4\">\n",
       "        <div class=\"space-y-0.5\">\n",
       "<label for-=\"email_notification_0\" class=\"uk-form-label text-base font-medium\">Communication emails</label>          <p class=\"uk-text-muted uk-text-small\">Receive emails about your account activity.</p>\n",
       "        </div>\n",
       "        <input type=\"checkbox\" class=\"uk-toggle-switch \">\n",
       "      </div>\n",
       "      <div class=\"flex items-center justify-between rounded-lg border border-border p-4\">\n",
       "        <div class=\"space-y-0.5\">\n",
       "<label for-=\"email_notification_1\" class=\"uk-form-label text-base font-medium\">Marketing emails</label>          <p class=\"uk-text-muted uk-text-small\">Receive emails about new products, features, and more.</p>\n",
       "        </div>\n",
       "        <input type=\"checkbox\" class=\"uk-toggle-switch \">\n",
       "      </div>\n",
       "      <div class=\"flex items-center justify-between rounded-lg border border-border p-4\">\n",
       "        <div class=\"space-y-0.5\">\n",
       "<label for-=\"email_notification_2\" class=\"uk-form-label text-base font-medium\">Social emails</label>          <p class=\"uk-text-muted uk-text-small\">Receive emails for friend requests, follows, and more.</p>\n",
       "        </div>\n",
       "        <input type=\"checkbox\" checked class=\"uk-toggle-switch \">\n",
       "      </div>\n",
       "      <div class=\"flex items-center justify-between rounded-lg border border-border p-4\">\n",
       "        <div class=\"space-y-0.5\">\n",
       "<label for-=\"email_notification_3\" class=\"uk-form-label text-base font-medium\">Security emails</label>          <p class=\"uk-text-muted uk-text-small\">Receive emails about your account activity and security.</p>\n",
       "        </div>\n",
       "        <input type=\"checkbox\" checked disabled class=\"uk-toggle-switch \">\n",
       "      </div>\n",
       "    </div>\n",
       "  </div>\n",
       "  <div class=\"space-x-2\">\n",
       "    <input type=\"checkbox\" checked id=\"notification_mobile\" class=\"uk-checkbox \" name=\"notification_mobile\">\n",
       "<label for=\"notification_mobile\" class=\"uk-form-label \">Use different settings for my mobile devices</label>  </div>\n",
       "  <p class=\"uk-text-muted uk-text-small\">You can manage your mobile notifications in the mobile settings page.</p>\n",
       "  <div>\n",
       "<button type=\"button\" class=\"uk-button uk-button-primary\">Update notifications</button>  </div>\n",
       "</div>\n"
      ],
      "text/plain": [
       "<IPython.core.display.HTML object>"
      ]
     },
     "execution_count": 21,
     "metadata": {},
     "output_type": "execute_result"
    }
   ],
   "source": [
    "show(notifications_form())"
   ]
  },
  {
   "cell_type": "code",
   "execution_count": 22,
   "id": "1cf07cc7",
   "metadata": {},
   "outputs": [],
   "source": [
    "#| export\n",
    "def display_form():\n",
    "    content = (\n",
    "        Div(cls=\"space-y-2\")(\n",
    "            Div(cls=\"mb-4\")(\n",
    "                Span(\"Sidebar\", cls=\"text-base font-medium\"),\n",
    "                HelpText(\"Select the items you want to display in the sidebar.\")),\n",
    "            *[Div(CheckboxX(id=f\"display_{i}\", checked=i in [0, 1, 2]),FormLabel(label))\n",
    "              for i, label in enumerate([\"Recents\", \"Home\", \"Applications\", \"Desktop\", \"Downloads\", \"Documents\"])]))\n",
    "    return UkFormSection('Display', 'Turn items on or off to control what\\'s displayed in the app.', button_txt='Update display', *content)"
   ]
  },
  {
   "cell_type": "code",
   "execution_count": 23,
   "id": "fd79acdb",
   "metadata": {},
   "outputs": [
    {
     "data": {
      "text/html": [
       "<div class=\"space-y-6 py-6\">\n",
       "  <div>\n",
       "    <h3 class=\"uk-h3 \">Display</h3>\n",
       "    <p class=\"uk-text-bold uk-text-small\">Turn items on or off to control what&#x27;s displayed in the app.</p>\n",
       "  </div>\n",
       "  <div class=\"relative \">\n",
       "    <div class=\"absolute inset-0 flex items-center \">\n",
       "<span class=\"w-full border-t border-border\"></span>    </div>\n",
       "    <div class=\"relative flex justify-center \">\n",
       "<span class=\"bg-background px-2 \"></span>    </div>\n",
       "  </div>\n",
       "  <div class=\"mb-4\">\n",
       "<span class=\"text-base font-medium\">Sidebar</span>    <p class=\"uk-text-muted uk-text-small\">Select the items you want to display in the sidebar.</p>\n",
       "  </div>\n",
       "  <div>\n",
       "    <input type=\"checkbox\" checked id=\"display_0\" class=\"uk-checkbox \" name=\"display_0\">\n",
       "<label class=\"uk-form-label \">Recents</label>  </div>\n",
       "  <div>\n",
       "    <input type=\"checkbox\" checked id=\"display_1\" class=\"uk-checkbox \" name=\"display_1\">\n",
       "<label class=\"uk-form-label \">Home</label>  </div>\n",
       "  <div>\n",
       "    <input type=\"checkbox\" checked id=\"display_2\" class=\"uk-checkbox \" name=\"display_2\">\n",
       "<label class=\"uk-form-label \">Applications</label>  </div>\n",
       "  <div>\n",
       "    <input type=\"checkbox\" id=\"display_3\" class=\"uk-checkbox \" name=\"display_3\">\n",
       "<label class=\"uk-form-label \">Desktop</label>  </div>\n",
       "  <div>\n",
       "    <input type=\"checkbox\" id=\"display_4\" class=\"uk-checkbox \" name=\"display_4\">\n",
       "<label class=\"uk-form-label \">Downloads</label>  </div>\n",
       "  <div>\n",
       "    <input type=\"checkbox\" id=\"display_5\" class=\"uk-checkbox \" name=\"display_5\">\n",
       "<label class=\"uk-form-label \">Documents</label>  </div>\n",
       "  <div>\n",
       "<button type=\"button\" class=\"uk-button uk-button-primary\">Update display</button>  </div>\n",
       "</div>\n"
      ],
      "text/plain": [
       "<IPython.core.display.HTML object>"
      ]
     },
     "execution_count": 23,
     "metadata": {},
     "output_type": "execute_result"
    }
   ],
   "source": [
    "show(display_form())"
   ]
  },
  {
   "cell_type": "code",
   "execution_count": 24,
   "id": "e58d1454",
   "metadata": {},
   "outputs": [],
   "source": [
    "#| export\n",
    "def page():\n",
    "    return Div(cls=\"p-6 lg:p-10\")(\n",
    "        heading(),\n",
    "        Div(cls=\"flex gap-x-12\")(\n",
    "            sidebar,\n",
    "            Div(cls=\"flex-1\")(\n",
    "                Ul(id=\"component-nav\", cls=\"uk-switcher max-w-2xl\")(\n",
    "                    Li(cls=\"uk-active\")(profile_form(),\n",
    "                    Li()(account_form()),\n",
    "                    Li()(appearance_form()),\n",
    "                    Li()(notifications_form()),\n",
    "                    Li()(display_form())\n",
    "                    )))))"
   ]
  },
  {
   "cell_type": "code",
   "execution_count": 25,
   "id": "22a8233b",
   "metadata": {},
   "outputs": [],
   "source": [
    "#| exports\n",
    "forms_homepage = page()"
   ]
  },
  {
   "cell_type": "code",
   "execution_count": 56,
   "id": "1992630d",
   "metadata": {},
   "outputs": [],
   "source": [
    "#| hide\n",
    "import nbdev; nbdev.nbdev_export()"
   ]
  }
 ],
 "metadata": {
  "kernelspec": {
   "display_name": "Python 3 (ipykernel)",
   "language": "python",
   "name": "python3"
  },
  "language_info": {
   "codemirror_mode": {
    "name": "ipython",
    "version": 3
   },
   "file_extension": ".py",
   "mimetype": "text/x-python",
   "name": "python",
   "nbconvert_exporter": "python",
   "pygments_lexer": "ipython3",
   "version": "3.12.4"
  },
  "toc": {
   "base_numbering": 1,
   "nav_menu": {},
   "number_sections": true,
   "sideBar": true,
   "skip_h1_title": false,
   "title_cell": "Table of Contents",
   "title_sidebar": "Contents",
   "toc_cell": false,
   "toc_position": {},
   "toc_section_display": true,
   "toc_window_display": false
  }
 },
 "nbformat": 4,
 "nbformat_minor": 5
}
